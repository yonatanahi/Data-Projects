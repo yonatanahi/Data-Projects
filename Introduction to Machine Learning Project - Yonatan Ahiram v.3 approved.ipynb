{
 "cells": [
  {
   "cell_type": "markdown",
   "metadata": {},
   "source": [
    "<div class=\"alert alert-success\">\n",
    "<b>Reviewer's comment V3</b>\n",
    "  \n",
    "Thank you for taking the time to improve the project! Now it's accepted. Good luck on the next sprint!\n",
    "    \n",
    "</div>"
   ]
  },
  {
   "cell_type": "markdown",
   "metadata": {},
   "source": [
    "**Review**\n",
    "\n",
    "Hi, my name is Dmitry and I will be reviewing your project.\n",
    "  \n",
    "You can find my comments in colored markdown cells:\n",
    "  \n",
    "<div class=\"alert alert-success\">\n",
    "  If everything is done successfully.\n",
    "</div>\n",
    "  \n",
    "<div class=\"alert alert-warning\">\n",
    "  If I have some (optional) suggestions, or questions to think about, or general comments.\n",
    "</div>\n",
    "  \n",
    "<div class=\"alert alert-danger\">\n",
    "  If a section requires some corrections. Work can't be accepted with red comments.\n",
    "</div>\n",
    "  \n",
    "Please don't remove my comments, as it will make further review iterations much harder for me.\n",
    "  \n",
    "Feel free to reply to my comments or ask questions using the following template:\n",
    "  \n",
    "<div class=\"alert alert-info\">\n",
    "  For your comments and questions.\n",
    "</div>\n",
    "  \n",
    "First of all, thank you for turning in the project! You did a pretty good job, but one task is not quite completed. Should be very straightforward to fix though!"
   ]
  },
  {
   "cell_type": "markdown",
   "metadata": {},
   "source": [
    "# Project description\n",
    "Mobile carrier Megaline has found out that many of their subscribers use legacy plans. They want to develop a model that would analyze subscribers' behavior and recommend one of Megaline's newer plans: Smart or Ultra.\n",
    "\n",
    "You have access to behavior data about subscribers who have already switched to the new plans (from the project for the Statistical Data Analysis course). For this classification task, you need to develop a model that will pick the right plan. Since you’ve already performed the data preprocessing step, you can move straight to creating the model.\n",
    "\n",
    "Develop a model with the highest possible *accuracy*. In this project, the threshold for *accuracy* is **0.75**. Check the *accuracy* using the test dataset. \n",
    "\n",
    "## Data description\n",
    "Every observation in the dataset contains monthly behavior information about one user. The information given is as follows:\n",
    "* `сalls` — number of calls,\n",
    "* `minutes` — total call duration in minutes,\n",
    "* `messages` — number of text messages,\n",
    "* `mb_used` — Internet traffic used in MB,\n",
    "* `is_ultra` — plan for the current month (Ultra - 1, Smart - 0)."
   ]
  },
  {
   "cell_type": "markdown",
   "metadata": {},
   "source": [
    "## Project instructions\n",
    "### Open and look through the data file. "
   ]
  },
  {
   "cell_type": "code",
   "execution_count": 19,
   "metadata": {},
   "outputs": [
    {
     "name": "stdout",
     "output_type": "stream",
     "text": [
      "Defaulting to user installation because normal site-packages is not writeable\n",
      "Requirement already up-to-date: sidetable in /home/jovyan/.local/lib/python3.7/site-packages (0.9.0)\n",
      "Requirement already satisfied, skipping upgrade: pandas>=1.0 in /home/jovyan/.local/lib/python3.7/site-packages (from sidetable) (1.3.3)\n",
      "Requirement already satisfied, skipping upgrade: numpy>=1.17.3 in /opt/conda/lib/python3.7/site-packages (from pandas>=1.0->sidetable) (1.19.5)\n",
      "Requirement already satisfied, skipping upgrade: python-dateutil>=2.7.3 in /opt/conda/lib/python3.7/site-packages (from pandas>=1.0->sidetable) (2.8.1)\n",
      "Requirement already satisfied, skipping upgrade: pytz>=2017.3 in /opt/conda/lib/python3.7/site-packages (from pandas>=1.0->sidetable) (2021.1)\n",
      "Requirement already satisfied, skipping upgrade: six>=1.5 in /opt/conda/lib/python3.7/site-packages (from python-dateutil>=2.7.3->pandas>=1.0->sidetable) (1.15.0)\n",
      "Note: you may need to restart the kernel to use updated packages.\n"
     ]
    }
   ],
   "source": [
    "pip install -U sidetable"
   ]
  },
  {
   "cell_type": "markdown",
   "metadata": {},
   "source": [
    "#### Imports"
   ]
  },
  {
   "cell_type": "code",
   "execution_count": 20,
   "metadata": {},
   "outputs": [],
   "source": [
    "import pandas as pd\n",
    "import sidetable as stb\n",
    "from sklearn.model_selection import train_test_split\n",
    "from sklearn.tree import DecisionTreeClassifier \n",
    "from sklearn.ensemble import RandomForestClassifier\n",
    "from sklearn.linear_model import LogisticRegression"
   ]
  },
  {
   "cell_type": "code",
   "execution_count": 21,
   "metadata": {},
   "outputs": [
    {
     "data": {
      "text/html": [
       "<div>\n",
       "<style scoped>\n",
       "    .dataframe tbody tr th:only-of-type {\n",
       "        vertical-align: middle;\n",
       "    }\n",
       "\n",
       "    .dataframe tbody tr th {\n",
       "        vertical-align: top;\n",
       "    }\n",
       "\n",
       "    .dataframe thead th {\n",
       "        text-align: right;\n",
       "    }\n",
       "</style>\n",
       "<table border=\"1\" class=\"dataframe\">\n",
       "  <thead>\n",
       "    <tr style=\"text-align: right;\">\n",
       "      <th></th>\n",
       "      <th>calls</th>\n",
       "      <th>minutes</th>\n",
       "      <th>messages</th>\n",
       "      <th>mb_used</th>\n",
       "      <th>is_ultra</th>\n",
       "    </tr>\n",
       "  </thead>\n",
       "  <tbody>\n",
       "    <tr>\n",
       "      <th>0</th>\n",
       "      <td>40.0</td>\n",
       "      <td>311.90</td>\n",
       "      <td>83.0</td>\n",
       "      <td>19915.42</td>\n",
       "      <td>0</td>\n",
       "    </tr>\n",
       "    <tr>\n",
       "      <th>1</th>\n",
       "      <td>85.0</td>\n",
       "      <td>516.75</td>\n",
       "      <td>56.0</td>\n",
       "      <td>22696.96</td>\n",
       "      <td>0</td>\n",
       "    </tr>\n",
       "    <tr>\n",
       "      <th>2</th>\n",
       "      <td>77.0</td>\n",
       "      <td>467.66</td>\n",
       "      <td>86.0</td>\n",
       "      <td>21060.45</td>\n",
       "      <td>0</td>\n",
       "    </tr>\n",
       "    <tr>\n",
       "      <th>3</th>\n",
       "      <td>106.0</td>\n",
       "      <td>745.53</td>\n",
       "      <td>81.0</td>\n",
       "      <td>8437.39</td>\n",
       "      <td>1</td>\n",
       "    </tr>\n",
       "    <tr>\n",
       "      <th>4</th>\n",
       "      <td>66.0</td>\n",
       "      <td>418.74</td>\n",
       "      <td>1.0</td>\n",
       "      <td>14502.75</td>\n",
       "      <td>0</td>\n",
       "    </tr>\n",
       "  </tbody>\n",
       "</table>\n",
       "</div>"
      ],
      "text/plain": [
       "   calls  minutes  messages   mb_used  is_ultra\n",
       "0   40.0   311.90      83.0  19915.42         0\n",
       "1   85.0   516.75      56.0  22696.96         0\n",
       "2   77.0   467.66      86.0  21060.45         0\n",
       "3  106.0   745.53      81.0   8437.39         1\n",
       "4   66.0   418.74       1.0  14502.75         0"
      ]
     },
     "execution_count": 21,
     "metadata": {},
     "output_type": "execute_result"
    }
   ],
   "source": [
    "df = pd.read_csv('/datasets/users_behavior.csv')\n",
    "df.head()                 "
   ]
  },
  {
   "cell_type": "code",
   "execution_count": 22,
   "metadata": {},
   "outputs": [
    {
     "data": {
      "text/html": [
       "<div>\n",
       "<style scoped>\n",
       "    .dataframe tbody tr th:only-of-type {\n",
       "        vertical-align: middle;\n",
       "    }\n",
       "\n",
       "    .dataframe tbody tr th {\n",
       "        vertical-align: top;\n",
       "    }\n",
       "\n",
       "    .dataframe thead th {\n",
       "        text-align: right;\n",
       "    }\n",
       "</style>\n",
       "<table border=\"1\" class=\"dataframe\">\n",
       "  <thead>\n",
       "    <tr style=\"text-align: right;\">\n",
       "      <th></th>\n",
       "      <th>calls</th>\n",
       "      <th>minutes</th>\n",
       "      <th>messages</th>\n",
       "      <th>mb_used</th>\n",
       "      <th>is_ultra</th>\n",
       "    </tr>\n",
       "  </thead>\n",
       "  <tbody>\n",
       "    <tr>\n",
       "      <th>count</th>\n",
       "      <td>3214.000000</td>\n",
       "      <td>3214.000000</td>\n",
       "      <td>3214.000000</td>\n",
       "      <td>3214.000000</td>\n",
       "      <td>3214.000000</td>\n",
       "    </tr>\n",
       "    <tr>\n",
       "      <th>mean</th>\n",
       "      <td>63.038892</td>\n",
       "      <td>438.208787</td>\n",
       "      <td>38.281269</td>\n",
       "      <td>17207.673836</td>\n",
       "      <td>0.306472</td>\n",
       "    </tr>\n",
       "    <tr>\n",
       "      <th>std</th>\n",
       "      <td>33.236368</td>\n",
       "      <td>234.569872</td>\n",
       "      <td>36.148326</td>\n",
       "      <td>7570.968246</td>\n",
       "      <td>0.461100</td>\n",
       "    </tr>\n",
       "    <tr>\n",
       "      <th>min</th>\n",
       "      <td>0.000000</td>\n",
       "      <td>0.000000</td>\n",
       "      <td>0.000000</td>\n",
       "      <td>0.000000</td>\n",
       "      <td>0.000000</td>\n",
       "    </tr>\n",
       "    <tr>\n",
       "      <th>25%</th>\n",
       "      <td>40.000000</td>\n",
       "      <td>274.575000</td>\n",
       "      <td>9.000000</td>\n",
       "      <td>12491.902500</td>\n",
       "      <td>0.000000</td>\n",
       "    </tr>\n",
       "    <tr>\n",
       "      <th>50%</th>\n",
       "      <td>62.000000</td>\n",
       "      <td>430.600000</td>\n",
       "      <td>30.000000</td>\n",
       "      <td>16943.235000</td>\n",
       "      <td>0.000000</td>\n",
       "    </tr>\n",
       "    <tr>\n",
       "      <th>75%</th>\n",
       "      <td>82.000000</td>\n",
       "      <td>571.927500</td>\n",
       "      <td>57.000000</td>\n",
       "      <td>21424.700000</td>\n",
       "      <td>1.000000</td>\n",
       "    </tr>\n",
       "    <tr>\n",
       "      <th>max</th>\n",
       "      <td>244.000000</td>\n",
       "      <td>1632.060000</td>\n",
       "      <td>224.000000</td>\n",
       "      <td>49745.730000</td>\n",
       "      <td>1.000000</td>\n",
       "    </tr>\n",
       "  </tbody>\n",
       "</table>\n",
       "</div>"
      ],
      "text/plain": [
       "             calls      minutes     messages       mb_used     is_ultra\n",
       "count  3214.000000  3214.000000  3214.000000   3214.000000  3214.000000\n",
       "mean     63.038892   438.208787    38.281269  17207.673836     0.306472\n",
       "std      33.236368   234.569872    36.148326   7570.968246     0.461100\n",
       "min       0.000000     0.000000     0.000000      0.000000     0.000000\n",
       "25%      40.000000   274.575000     9.000000  12491.902500     0.000000\n",
       "50%      62.000000   430.600000    30.000000  16943.235000     0.000000\n",
       "75%      82.000000   571.927500    57.000000  21424.700000     1.000000\n",
       "max     244.000000  1632.060000   224.000000  49745.730000     1.000000"
      ]
     },
     "execution_count": 22,
     "metadata": {},
     "output_type": "execute_result"
    }
   ],
   "source": [
    "df.describe()"
   ]
  },
  {
   "cell_type": "code",
   "execution_count": 23,
   "metadata": {},
   "outputs": [
    {
     "name": "stdout",
     "output_type": "stream",
     "text": [
      "<class 'pandas.core.frame.DataFrame'>\n",
      "RangeIndex: 3214 entries, 0 to 3213\n",
      "Data columns (total 5 columns):\n",
      " #   Column    Non-Null Count  Dtype  \n",
      "---  ------    --------------  -----  \n",
      " 0   calls     3214 non-null   float64\n",
      " 1   minutes   3214 non-null   float64\n",
      " 2   messages  3214 non-null   float64\n",
      " 3   mb_used   3214 non-null   float64\n",
      " 4   is_ultra  3214 non-null   int64  \n",
      "dtypes: float64(4), int64(1)\n",
      "memory usage: 125.7 KB\n"
     ]
    }
   ],
   "source": [
    "df.info()"
   ]
  },
  {
   "cell_type": "markdown",
   "metadata": {},
   "source": [
    "#### Conclusion\n",
    "In this section, we:\n",
    "* saw the table's head\n",
    "* looked at the statistical characteristics\n",
    "* checked for data types"
   ]
  },
  {
   "cell_type": "markdown",
   "metadata": {},
   "source": [
    "<div class=\"alert alert-success\">\n",
    "<b>Reviewer's comment</b>\n",
    "  \n",
    "Alright, the data was loaded and inspected!\n",
    "  \n",
    "</div>"
   ]
  },
  {
   "cell_type": "markdown",
   "metadata": {},
   "source": [
    "### Split the source data into a training set, a validation set, and a test set."
   ]
  },
  {
   "cell_type": "code",
   "execution_count": 24,
   "metadata": {},
   "outputs": [],
   "source": [
    "df_train, df_valid_test = train_test_split(df, test_size=0.4, random_state=12345)"
   ]
  },
  {
   "cell_type": "code",
   "execution_count": 25,
   "metadata": {},
   "outputs": [],
   "source": [
    "df_valid, df_test = train_test_split(df_valid_test, test_size=0.5, random_state=12345)"
   ]
  },
  {
   "cell_type": "code",
   "execution_count": 26,
   "metadata": {
    "scrolled": true
   },
   "outputs": [
    {
     "name": "stdout",
     "output_type": "stream",
     "text": [
      "train size:  0.6 \n",
      "validation size:  0.2 \n",
      "test size:  0.2\n"
     ]
    }
   ],
   "source": [
    "print('train size: ', round(df_train.shape[0] / df.shape[0], 2), \n",
    "      '\\nvalidation size: ', round(df_valid.shape[0] / df.shape[0], 2), \n",
    "      '\\ntest size: ', round(df_test.shape[0] / df.shape[0], 2))"
   ]
  },
  {
   "cell_type": "markdown",
   "metadata": {},
   "source": [
    "#### Conclusion\n",
    "We splitted correctly the dataset into three parts: a training set, a validation set, and a test set."
   ]
  },
  {
   "cell_type": "markdown",
   "metadata": {},
   "source": [
    "<div class=\"alert alert-success\">\n",
    "<b>Reviewer's comment</b>\n",
    "  \n",
    "The data was split into train, validation and test. The proportions are reasonable.\n",
    "  \n",
    "</div>"
   ]
  },
  {
   "cell_type": "markdown",
   "metadata": {},
   "source": [
    "### Investigate the quality of different models by changing hyperparameters. Briefly describe the findings of the study."
   ]
  },
  {
   "cell_type": "markdown",
   "metadata": {},
   "source": [
    "#### features and targets"
   ]
  },
  {
   "cell_type": "code",
   "execution_count": 27,
   "metadata": {},
   "outputs": [],
   "source": [
    "train_features = df_train.drop(['is_ultra'], axis=1)\n",
    "train_target = df_train['is_ultra']\n",
    "\n",
    "valid_features = df_valid.drop(['is_ultra'], axis=1)\n",
    "valid_target = df_valid['is_ultra']\n",
    "\n",
    "test_features = df_test.drop(['is_ultra'], axis=1)\n",
    "test_target = df_test['is_ultra']"
   ]
  },
  {
   "cell_type": "markdown",
   "metadata": {},
   "source": [
    "#### Decision Tree"
   ]
  },
  {
   "cell_type": "code",
   "execution_count": 28,
   "metadata": {},
   "outputs": [
    {
     "name": "stdout",
     "output_type": "stream",
     "text": [
      "max_depth=1: 0.754\n",
      "max_depth=2: 0.782\n",
      "max_depth=3: 0.785\n",
      "max_depth=4: 0.779\n",
      "max_depth=5: 0.779\n",
      "max_depth=6: 0.784\n",
      "max_depth=7: 0.782\n",
      "max_depth=8: 0.779\n",
      "max_depth=9: 0.782\n",
      "max_depth=10: 0.774\n",
      "\n",
      "The best score is of max_depth=3: 0.785\n"
     ]
    }
   ],
   "source": [
    "scores = []\n",
    "\n",
    "for i in range(1, 11):\n",
    "    decision_tree = DecisionTreeClassifier(random_state=12345, max_depth=i)\n",
    "    decision_tree.fit(train_features, train_target)\n",
    "    score = round(decision_tree.score(valid_features, valid_target),3)\n",
    "    print('max_depth={}:'.format(i), score)\n",
    "    scores.append(score)\n",
    "max_score_max_depth = scores.index(max(scores)) + 1\n",
    "print('\\nThe best score is of max_depth={}:'.format(max_score_max_depth), max(scores))"
   ]
  },
  {
   "cell_type": "markdown",
   "metadata": {},
   "source": [
    "#### Random Forest"
   ]
  },
  {
   "cell_type": "code",
   "execution_count": 29,
   "metadata": {},
   "outputs": [
    {
     "name": "stdout",
     "output_type": "stream",
     "text": [
      "n_estimators=1: 0.711\n",
      "n_estimators=2: 0.764\n",
      "n_estimators=3: 0.739\n",
      "n_estimators=4: 0.771\n",
      "n_estimators=5: 0.75\n",
      "n_estimators=6: 0.781\n",
      "n_estimators=7: 0.768\n",
      "n_estimators=8: 0.782\n",
      "n_estimators=9: 0.773\n",
      "n_estimators=10: 0.785\n",
      "\n",
      "The best score is of n_estimators=10: 0.785\n"
     ]
    }
   ],
   "source": [
    "scores = []\n",
    "\n",
    "for i in range(1, 11):\n",
    "    random_forest = RandomForestClassifier(random_state=12345, n_estimators=i)\n",
    "    random_forest.fit(train_features, train_target)\n",
    "    score = round(random_forest.score(valid_features, valid_target),3)\n",
    "    print('n_estimators={}:'.format(i), score)\n",
    "    scores.append(score)\n",
    "\n",
    "max_score_n_estimators = scores.index(max(scores)) + 1\n",
    "print('\\nThe best score is of n_estimators={}:'.format(max_score_n_estimators), max(scores))"
   ]
  },
  {
   "cell_type": "markdown",
   "metadata": {},
   "source": [
    "#### Logistic Regression"
   ]
  },
  {
   "cell_type": "code",
   "execution_count": 30,
   "metadata": {},
   "outputs": [
    {
     "data": {
      "text/plain": [
       "0.7589424572317263"
      ]
     },
     "execution_count": 30,
     "metadata": {},
     "output_type": "execute_result"
    }
   ],
   "source": [
    "logistic_regression = LogisticRegression(random_state=12345, solver='liblinear')\n",
    "logistic_regression.fit(train_features, train_target)\n",
    "logistic_regression.score(valid_features, valid_target)"
   ]
  },
  {
   "cell_type": "markdown",
   "metadata": {},
   "source": [
    "#### Conclusion\n",
    "We Investigated the quality of different models by changing hyperparameters:\n",
    "* Decision tree (max_depth): the best score is of max_depth=3: 0.785\n",
    "* Random forest (n_estimators): the best score is of n_estimators=10: 0.785"
   ]
  },
  {
   "cell_type": "markdown",
   "metadata": {},
   "source": [
    "<div class=\"alert alert-danger\">\n",
    "<s><b>Reviewer's comment</b>\n",
    "  \n",
    "Great, you trained three different models. The task requires you to try at least two different sets of hyperparameters for at least one model though: `Investigate the quality of different models by changing hyperparameters`\n",
    "  \n",
    "</div>"
   ]
  },
  {
   "cell_type": "markdown",
   "metadata": {},
   "source": [
    "<div class=\"alert alert-danger\">\n",
    "<s><b>Reviewer's comment V2</b>\n",
    "  \n",
    "Awesome, now you tried various hyperparameter values for the two models. One problem is that you the models weren't retrained with selected hyperparameters before evaluating them on the test set, so instead the last model from the loop is evaluated on the test set, for example, instead of decision tree with max_depth=3, the tree with max_depth=10 is evaluated\n",
    "  \n",
    "</div>"
   ]
  },
  {
   "cell_type": "markdown",
   "metadata": {},
   "source": [
    "<div class=\"alert alert-success\">\n",
    "<b>Reviewer's comment V3</b>\n",
    "  \n",
    "Fixed!\n",
    "    \n",
    "</div>"
   ]
  },
  {
   "cell_type": "markdown",
   "metadata": {},
   "source": [
    "### Check the quality of the model using the test set."
   ]
  },
  {
   "cell_type": "code",
   "execution_count": 31,
   "metadata": {},
   "outputs": [
    {
     "name": "stdout",
     "output_type": "stream",
     "text": [
      "Decision tree score:  0.779 \n",
      "Random forest score:  0.781 \n",
      "Logistic regression score:  0.74\n"
     ]
    }
   ],
   "source": [
    "decision_tree = DecisionTreeClassifier(random_state=12345, max_depth=max_score_max_depth)\n",
    "decision_tree.fit(train_features, train_target)\n",
    "\n",
    "random_forest = RandomForestClassifier(random_state=12345, n_estimators=max_score_n_estimators)\n",
    "random_forest.fit(train_features, train_target)\n",
    "\n",
    "print('Decision tree score: ', round(decision_tree.score(test_features, test_target), 3),\n",
    "     '\\nRandom forest score: ', round(random_forest.score(test_features, test_target), 3),\n",
    "     '\\nLogistic regression score: ', round(logistic_regression.score(test_features, test_target), 3))"
   ]
  },
  {
   "cell_type": "markdown",
   "metadata": {},
   "source": [
    "#### Conclusion\n",
    "We can see the same models' accuracy scores using the test set:\n",
    "1. Random forest: 0.781\n",
    "2. Decision tree: 0.779\n",
    "3. Logistic regression: 0.74"
   ]
  },
  {
   "cell_type": "markdown",
   "metadata": {},
   "source": [
    "<div class=\"alert alert-success\">\n",
    "<s><b>Reviewer's comment</b>\n",
    "  \n",
    "Ok, you evaluated the models on the test set!\n",
    "  \n",
    "</div>"
   ]
  },
  {
   "cell_type": "markdown",
   "metadata": {},
   "source": [
    "### Additional task: sanity check the model. This data is more complex than what you’re used to working with, so it's not an easy task. We'll take a closer look at it later."
   ]
  },
  {
   "cell_type": "code",
   "execution_count": 32,
   "metadata": {},
   "outputs": [
    {
     "data": {
      "text/html": [
       "<style type=\"text/css\">\n",
       "</style>\n",
       "<table id=\"T_0718d_\">\n",
       "  <thead>\n",
       "    <tr>\n",
       "      <th class=\"blank level0\" >&nbsp;</th>\n",
       "      <th class=\"col_heading level0 col0\" >is_ultra</th>\n",
       "      <th class=\"col_heading level0 col1\" >count</th>\n",
       "      <th class=\"col_heading level0 col2\" >percent</th>\n",
       "      <th class=\"col_heading level0 col3\" >cumulative_count</th>\n",
       "      <th class=\"col_heading level0 col4\" >cumulative_percent</th>\n",
       "    </tr>\n",
       "  </thead>\n",
       "  <tbody>\n",
       "    <tr>\n",
       "      <th id=\"T_0718d_level0_row0\" class=\"row_heading level0 row0\" >0</th>\n",
       "      <td id=\"T_0718d_row0_col0\" class=\"data row0 col0\" >0</td>\n",
       "      <td id=\"T_0718d_row0_col1\" class=\"data row0 col1\" >2,229</td>\n",
       "      <td id=\"T_0718d_row0_col2\" class=\"data row0 col2\" >69.35%</td>\n",
       "      <td id=\"T_0718d_row0_col3\" class=\"data row0 col3\" >2,229</td>\n",
       "      <td id=\"T_0718d_row0_col4\" class=\"data row0 col4\" >69.35%</td>\n",
       "    </tr>\n",
       "    <tr>\n",
       "      <th id=\"T_0718d_level0_row1\" class=\"row_heading level0 row1\" >1</th>\n",
       "      <td id=\"T_0718d_row1_col0\" class=\"data row1 col0\" >1</td>\n",
       "      <td id=\"T_0718d_row1_col1\" class=\"data row1 col1\" >985</td>\n",
       "      <td id=\"T_0718d_row1_col2\" class=\"data row1 col2\" >30.65%</td>\n",
       "      <td id=\"T_0718d_row1_col3\" class=\"data row1 col3\" >3,214</td>\n",
       "      <td id=\"T_0718d_row1_col4\" class=\"data row1 col4\" >100.00%</td>\n",
       "    </tr>\n",
       "  </tbody>\n",
       "</table>\n"
      ],
      "text/plain": [
       "<pandas.io.formats.style.Styler at 0x7fe7419a9250>"
      ]
     },
     "execution_count": 32,
     "metadata": {},
     "output_type": "execute_result"
    }
   ],
   "source": [
    "df.stb.freq(['is_ultra'], style=True)"
   ]
  },
  {
   "cell_type": "markdown",
   "metadata": {},
   "source": [
    "We can see from the table above, that the values of `is_ultra` column aren't divided equally. There are more than twice 0s than 1s. In this case, we can choose the common value (0) as a default value (predictor). If we do it, we can get correct answers almost 70% of the time without needing any model."
   ]
  },
  {
   "cell_type": "markdown",
   "metadata": {},
   "source": [
    "<div class=\"alert alert-warning\">\n",
    "<b>Reviewer's comment</b>\n",
    "  \n",
    "Yep, that's a very good observation! To sanity check the models we need to answer the question: are our models better than this baseline?\n",
    "  \n",
    "</div>"
   ]
  },
  {
   "cell_type": "markdown",
   "metadata": {},
   "source": [
    "#### General Conclusion\n",
    "We have here a classification task, so we tried three models in order  to choose the model which predicts the best results. \n",
    "\n",
    "We divided our data into three sets: train, valid and test.\n",
    "\n",
    "We checked the models twice using the valid and test sets and we got the accuracy scores.\n",
    "\n",
    "According to the accuracy scores: random forest is the best model, decision tree is the second and the last is logistic regression.\n",
    "\n",
    "In addition, we did a sanity check. Our data is far from being random. Without using any model, we can predict the right answer using the common value in most of the cases."
   ]
  },
  {
   "cell_type": "markdown",
   "metadata": {},
   "source": [
    "<div class=\"alert alert-success\">\n",
    "<b>Reviewer's comment</b>\n",
    "  \n",
    "Conclusions look good\n",
    "  \n",
    "</div>"
   ]
  },
  {
   "cell_type": "markdown",
   "metadata": {},
   "source": [
    "# Project evaluation\n",
    "We’ve put together the evaluation criteria for the project. Read this carefully before moving on to the task.\n",
    "\n",
    "Here’s what the reviewers will look at when reviewing your project:\n",
    "* How did you look into data after downloading?\n",
    "* Have you correctly split the data into train, validation, and test sets?\n",
    "* How have you chosen the sets' sizes?\n",
    "* Did you evaluate the quality of the models correctly?\n",
    "* What models and hyperparameters did you use?\n",
    "* What are your findings?\n",
    "* Did you test the models correctly?\n",
    "* What is your accuracy score?\n",
    "* Have you stuck to the project structure and kept the code neat?\n",
    "\n",
    "You have your takeaway sheets and chapter summaries so you are ready to proceed to the project.\n",
    "\n",
    "Good luck!"
   ]
  },
  {
   "cell_type": "code",
   "execution_count": null,
   "metadata": {},
   "outputs": [],
   "source": []
  }
 ],
 "metadata": {
  "ExecuteTimeLog": [
   {
    "duration": 114,
    "start_time": "2021-09-18T18:14:31.215Z"
   },
   {
    "duration": 405,
    "start_time": "2021-09-18T18:14:43.035Z"
   },
   {
    "duration": 649,
    "start_time": "2021-09-18T18:14:48.450Z"
   },
   {
    "duration": 2741,
    "start_time": "2021-09-18T18:14:49.101Z"
   },
   {
    "duration": 32,
    "start_time": "2021-09-18T18:14:59.087Z"
   },
   {
    "duration": 4,
    "start_time": "2021-09-18T18:16:00.815Z"
   },
   {
    "duration": 501,
    "start_time": "2021-09-18T18:28:34.208Z"
   },
   {
    "duration": 5,
    "start_time": "2021-09-18T18:28:44.782Z"
   },
   {
    "duration": 4,
    "start_time": "2021-09-18T18:29:05.988Z"
   },
   {
    "duration": 4,
    "start_time": "2021-09-18T18:29:12.852Z"
   },
   {
    "duration": 4,
    "start_time": "2021-09-18T18:29:24.527Z"
   },
   {
    "duration": 6,
    "start_time": "2021-09-18T18:30:35.937Z"
   },
   {
    "duration": 4,
    "start_time": "2021-09-18T18:30:57.663Z"
   },
   {
    "duration": 4,
    "start_time": "2021-09-18T18:31:04.997Z"
   },
   {
    "duration": 4,
    "start_time": "2021-09-18T18:32:35.062Z"
   },
   {
    "duration": 4,
    "start_time": "2021-09-18T18:33:28.127Z"
   },
   {
    "duration": 5,
    "start_time": "2021-09-18T18:34:24.054Z"
   },
   {
    "duration": 4,
    "start_time": "2021-09-18T18:34:54.639Z"
   },
   {
    "duration": 28,
    "start_time": "2021-09-18T19:11:05.045Z"
   },
   {
    "duration": 13,
    "start_time": "2021-09-18T19:20:28.170Z"
   },
   {
    "duration": 6,
    "start_time": "2021-09-18T19:40:37.809Z"
   },
   {
    "duration": 15,
    "start_time": "2021-09-18T19:42:33.510Z"
   },
   {
    "duration": 19,
    "start_time": "2021-09-18T19:43:14.303Z"
   },
   {
    "duration": 32,
    "start_time": "2021-09-18T19:44:27.155Z"
   },
   {
    "duration": 20,
    "start_time": "2021-09-18T19:44:44.386Z"
   },
   {
    "duration": 16,
    "start_time": "2021-09-18T19:45:00.859Z"
   },
   {
    "duration": 18,
    "start_time": "2021-09-18T19:45:56.256Z"
   },
   {
    "duration": 14,
    "start_time": "2021-09-18T19:46:55.558Z"
   },
   {
    "duration": 24,
    "start_time": "2021-09-18T19:47:10.926Z"
   },
   {
    "duration": 8,
    "start_time": "2021-09-18T19:47:42.027Z"
   },
   {
    "duration": 19,
    "start_time": "2021-09-18T20:42:36.101Z"
   },
   {
    "duration": 25,
    "start_time": "2021-09-18T20:43:03.988Z"
   },
   {
    "duration": 22,
    "start_time": "2021-09-18T20:43:21.382Z"
   },
   {
    "duration": 15,
    "start_time": "2021-09-18T20:43:27.455Z"
   },
   {
    "duration": 17,
    "start_time": "2021-09-18T20:43:31.519Z"
   },
   {
    "duration": 17,
    "start_time": "2021-09-18T20:43:43.409Z"
   },
   {
    "duration": 14,
    "start_time": "2021-09-18T20:43:46.545Z"
   },
   {
    "duration": 14,
    "start_time": "2021-09-18T20:44:44.753Z"
   },
   {
    "duration": 9,
    "start_time": "2021-09-18T20:47:15.959Z"
   },
   {
    "duration": 9,
    "start_time": "2021-09-18T20:47:28.094Z"
   },
   {
    "duration": 9,
    "start_time": "2021-09-18T20:48:57.896Z"
   },
   {
    "duration": 10,
    "start_time": "2021-09-18T20:50:16.332Z"
   },
   {
    "duration": 10,
    "start_time": "2021-09-18T20:53:51.084Z"
   },
   {
    "duration": 29,
    "start_time": "2021-09-18T20:56:01.904Z"
   },
   {
    "duration": 46,
    "start_time": "2021-09-18T20:56:07.469Z"
   },
   {
    "duration": 83,
    "start_time": "2021-09-18T20:56:12.353Z"
   },
   {
    "duration": 119,
    "start_time": "2021-09-18T20:56:17.392Z"
   },
   {
    "duration": 82,
    "start_time": "2021-09-18T20:56:22.116Z"
   },
   {
    "duration": 47,
    "start_time": "2021-09-18T20:56:28.055Z"
   },
   {
    "duration": 44,
    "start_time": "2021-09-18T20:56:36.168Z"
   },
   {
    "duration": 39,
    "start_time": "2021-09-18T20:56:41.427Z"
   },
   {
    "duration": 35,
    "start_time": "2021-09-18T20:56:46.162Z"
   },
   {
    "duration": 48,
    "start_time": "2021-09-18T20:56:49.883Z"
   },
   {
    "duration": 13,
    "start_time": "2021-09-18T20:59:02.772Z"
   },
   {
    "duration": 6,
    "start_time": "2021-09-18T22:49:52.806Z"
   },
   {
    "duration": 9,
    "start_time": "2021-09-18T22:50:20.815Z"
   },
   {
    "duration": 4,
    "start_time": "2021-09-18T22:51:20.368Z"
   },
   {
    "duration": 143,
    "start_time": "2021-09-18T22:56:22.794Z"
   },
   {
    "duration": 44,
    "start_time": "2021-09-18T22:56:29.370Z"
   },
   {
    "duration": 45,
    "start_time": "2021-09-18T22:56:48.818Z"
   },
   {
    "duration": 4,
    "start_time": "2021-09-18T23:00:38.507Z"
   },
   {
    "duration": 7178,
    "start_time": "2021-09-18T23:00:59.221Z"
   },
   {
    "duration": 410,
    "start_time": "2021-09-18T23:03:03.785Z"
   },
   {
    "duration": 11,
    "start_time": "2021-09-18T23:03:23.587Z"
   },
   {
    "duration": 113,
    "start_time": "2021-09-18T23:03:56.649Z"
   },
   {
    "duration": 6,
    "start_time": "2021-09-18T23:04:09.025Z"
   },
   {
    "duration": 993,
    "start_time": "2021-09-19T06:05:42.155Z"
   },
   {
    "duration": 29,
    "start_time": "2021-09-19T06:05:43.150Z"
   },
   {
    "duration": 3,
    "start_time": "2021-09-19T06:05:43.182Z"
   },
   {
    "duration": 11,
    "start_time": "2021-09-19T06:05:43.187Z"
   },
   {
    "duration": 6,
    "start_time": "2021-09-19T06:05:43.199Z"
   },
   {
    "duration": 7,
    "start_time": "2021-09-19T06:05:43.207Z"
   },
   {
    "duration": 8,
    "start_time": "2021-09-19T06:05:43.215Z"
   },
   {
    "duration": 20,
    "start_time": "2021-09-19T06:05:43.225Z"
   },
   {
    "duration": 40,
    "start_time": "2021-09-19T06:05:43.247Z"
   },
   {
    "duration": 13,
    "start_time": "2021-09-19T06:05:43.289Z"
   },
   {
    "duration": 2,
    "start_time": "2021-09-19T06:05:43.303Z"
   },
   {
    "duration": 5,
    "start_time": "2021-09-19T06:05:43.307Z"
   },
   {
    "duration": 10,
    "start_time": "2021-09-19T06:05:43.313Z"
   },
   {
    "duration": 28,
    "start_time": "2021-09-19T06:05:43.324Z"
   },
   {
    "duration": 8,
    "start_time": "2021-09-19T06:05:43.353Z"
   },
   {
    "duration": 14,
    "start_time": "2021-09-19T06:05:43.363Z"
   },
   {
    "duration": 328,
    "start_time": "2021-09-19T06:16:12.520Z"
   },
   {
    "duration": 7757,
    "start_time": "2021-09-19T06:16:34.949Z"
   },
   {
    "duration": 7,
    "start_time": "2021-09-19T06:16:47.736Z"
   },
   {
    "duration": 3,
    "start_time": "2021-09-19T06:16:55.338Z"
   },
   {
    "duration": 254,
    "start_time": "2021-09-19T06:17:36.208Z"
   },
   {
    "duration": 550,
    "start_time": "2021-09-19T06:19:16.823Z"
   },
   {
    "duration": 13,
    "start_time": "2021-09-19T06:20:36.369Z"
   },
   {
    "duration": 15,
    "start_time": "2021-09-19T06:25:30.854Z"
   },
   {
    "duration": 11,
    "start_time": "2021-09-19T06:25:45.597Z"
   },
   {
    "duration": 13,
    "start_time": "2021-09-19T06:25:52.364Z"
   },
   {
    "duration": 12,
    "start_time": "2021-09-19T06:25:57.632Z"
   },
   {
    "duration": 702,
    "start_time": "2021-09-19T12:15:51.292Z"
   },
   {
    "duration": 15697,
    "start_time": "2021-09-19T12:15:59.299Z"
   },
   {
    "duration": 1274,
    "start_time": "2021-09-19T12:16:14.999Z"
   },
   {
    "duration": 46,
    "start_time": "2021-09-19T12:16:16.277Z"
   },
   {
    "duration": 679,
    "start_time": "2021-09-19T12:16:16.325Z"
   },
   {
    "duration": 32,
    "start_time": "2021-09-19T12:20:31.037Z"
   },
   {
    "duration": 41,
    "start_time": "2021-09-19T12:21:47.525Z"
   },
   {
    "duration": 16,
    "start_time": "2021-09-19T12:27:42.997Z"
   },
   {
    "duration": 267,
    "start_time": "2021-09-21T01:59:33.358Z"
   },
   {
    "duration": 8492,
    "start_time": "2021-09-21T01:59:40.254Z"
   },
   {
    "duration": 1158,
    "start_time": "2021-09-21T01:59:48.748Z"
   },
   {
    "duration": 98,
    "start_time": "2021-09-21T01:59:49.909Z"
   },
   {
    "duration": 19,
    "start_time": "2021-09-21T01:59:50.009Z"
   },
   {
    "duration": 9,
    "start_time": "2021-09-21T01:59:50.030Z"
   },
   {
    "duration": 6,
    "start_time": "2021-09-21T01:59:50.040Z"
   },
   {
    "duration": 6,
    "start_time": "2021-09-21T01:59:50.047Z"
   },
   {
    "duration": 5,
    "start_time": "2021-09-21T01:59:50.055Z"
   },
   {
    "duration": 12,
    "start_time": "2021-09-21T01:59:50.061Z"
   },
   {
    "duration": 57,
    "start_time": "2021-09-21T01:59:50.075Z"
   },
   {
    "duration": 49,
    "start_time": "2021-09-21T02:00:12.497Z"
   },
   {
    "duration": 80,
    "start_time": "2021-09-21T02:00:38.734Z"
   },
   {
    "duration": 51,
    "start_time": "2021-09-21T02:00:48.959Z"
   },
   {
    "duration": 285,
    "start_time": "2021-09-21T02:02:04.106Z"
   },
   {
    "duration": 312,
    "start_time": "2021-09-21T02:02:21.446Z"
   },
   {
    "duration": 67,
    "start_time": "2021-09-21T02:04:31.174Z"
   },
   {
    "duration": 265,
    "start_time": "2021-09-21T02:10:43.807Z"
   },
   {
    "duration": 217,
    "start_time": "2021-09-21T02:19:12.019Z"
   },
   {
    "duration": 324,
    "start_time": "2021-09-21T02:20:07.422Z"
   },
   {
    "duration": 441,
    "start_time": "2021-09-21T02:20:15.672Z"
   },
   {
    "duration": 429,
    "start_time": "2021-09-21T02:20:20.780Z"
   },
   {
    "duration": 240,
    "start_time": "2021-09-21T02:20:53.066Z"
   },
   {
    "duration": 233,
    "start_time": "2021-09-21T02:21:55.337Z"
   },
   {
    "duration": 219,
    "start_time": "2021-09-21T02:22:01.492Z"
   },
   {
    "duration": 252,
    "start_time": "2021-09-21T02:22:12.787Z"
   },
   {
    "duration": 323,
    "start_time": "2021-09-21T02:24:44.916Z"
   },
   {
    "duration": 314,
    "start_time": "2021-09-21T02:25:05.455Z"
   },
   {
    "duration": 383,
    "start_time": "2021-09-21T02:27:54.654Z"
   },
   {
    "duration": 330,
    "start_time": "2021-09-21T02:28:05.519Z"
   },
   {
    "duration": 219,
    "start_time": "2021-09-21T02:28:16.957Z"
   },
   {
    "duration": 224,
    "start_time": "2021-09-21T02:28:39.384Z"
   },
   {
    "duration": 215,
    "start_time": "2021-09-21T02:29:11.053Z"
   },
   {
    "duration": 211,
    "start_time": "2021-09-21T02:29:23.163Z"
   },
   {
    "duration": 234,
    "start_time": "2021-09-21T02:29:42.254Z"
   },
   {
    "duration": 54,
    "start_time": "2021-09-21T02:31:25.528Z"
   },
   {
    "duration": 9376,
    "start_time": "2021-09-21T10:20:28.862Z"
   },
   {
    "duration": 964,
    "start_time": "2021-09-21T10:20:38.241Z"
   },
   {
    "duration": 28,
    "start_time": "2021-09-21T10:20:39.207Z"
   },
   {
    "duration": 23,
    "start_time": "2021-09-21T10:20:39.237Z"
   },
   {
    "duration": 9,
    "start_time": "2021-09-21T10:20:39.262Z"
   },
   {
    "duration": 6,
    "start_time": "2021-09-21T10:20:39.273Z"
   },
   {
    "duration": 6,
    "start_time": "2021-09-21T10:20:39.280Z"
   },
   {
    "duration": 7,
    "start_time": "2021-09-21T10:20:39.288Z"
   },
   {
    "duration": 8,
    "start_time": "2021-09-21T10:20:39.298Z"
   },
   {
    "duration": 93,
    "start_time": "2021-09-21T10:20:39.308Z"
   },
   {
    "duration": 249,
    "start_time": "2021-09-21T10:20:39.403Z"
   },
   {
    "duration": 14,
    "start_time": "2021-09-21T10:20:39.654Z"
   },
   {
    "duration": 16,
    "start_time": "2021-09-21T10:20:39.670Z"
   },
   {
    "duration": 800,
    "start_time": "2021-09-21T10:20:39.687Z"
   },
   {
    "duration": 2706,
    "start_time": "2021-09-21T10:24:09.428Z"
   },
   {
    "duration": 3,
    "start_time": "2021-09-21T10:24:12.136Z"
   },
   {
    "duration": 32,
    "start_time": "2021-09-21T10:24:12.142Z"
   },
   {
    "duration": 20,
    "start_time": "2021-09-21T10:24:12.176Z"
   },
   {
    "duration": 10,
    "start_time": "2021-09-21T10:24:12.198Z"
   },
   {
    "duration": 5,
    "start_time": "2021-09-21T10:24:12.210Z"
   },
   {
    "duration": 6,
    "start_time": "2021-09-21T10:24:12.216Z"
   },
   {
    "duration": 21,
    "start_time": "2021-09-21T10:24:12.224Z"
   },
   {
    "duration": 13,
    "start_time": "2021-09-21T10:24:12.246Z"
   },
   {
    "duration": 53,
    "start_time": "2021-09-21T10:24:12.261Z"
   },
   {
    "duration": 255,
    "start_time": "2021-09-21T10:24:12.316Z"
   },
   {
    "duration": 14,
    "start_time": "2021-09-21T10:24:12.573Z"
   },
   {
    "duration": 12,
    "start_time": "2021-09-21T10:24:12.589Z"
   },
   {
    "duration": 381,
    "start_time": "2021-09-21T14:04:33.464Z"
   },
   {
    "duration": 8718,
    "start_time": "2021-09-21T14:04:49.617Z"
   },
   {
    "duration": 984,
    "start_time": "2021-09-21T14:04:58.337Z"
   },
   {
    "duration": 31,
    "start_time": "2021-09-21T14:04:59.323Z"
   },
   {
    "duration": 27,
    "start_time": "2021-09-21T14:04:59.356Z"
   },
   {
    "duration": 10,
    "start_time": "2021-09-21T14:04:59.384Z"
   },
   {
    "duration": 6,
    "start_time": "2021-09-21T14:04:59.396Z"
   },
   {
    "duration": 10,
    "start_time": "2021-09-21T14:04:59.404Z"
   },
   {
    "duration": 30,
    "start_time": "2021-09-21T14:04:59.416Z"
   },
   {
    "duration": 9,
    "start_time": "2021-09-21T14:04:59.450Z"
   },
   {
    "duration": 59,
    "start_time": "2021-09-21T14:04:59.461Z"
   },
   {
    "duration": 273,
    "start_time": "2021-09-21T14:04:59.521Z"
   },
   {
    "duration": 12,
    "start_time": "2021-09-21T14:04:59.796Z"
   },
   {
    "duration": 9,
    "start_time": "2021-09-21T14:04:59.809Z"
   },
   {
    "duration": 925,
    "start_time": "2021-09-21T14:04:59.820Z"
   },
   {
    "duration": 55,
    "start_time": "2021-09-21T14:06:21.102Z"
   },
   {
    "duration": 58,
    "start_time": "2021-09-21T14:07:05.142Z"
   },
   {
    "duration": 58,
    "start_time": "2021-09-21T14:07:19.206Z"
   },
   {
    "duration": 2848,
    "start_time": "2021-09-21T14:09:03.527Z"
   },
   {
    "duration": 4,
    "start_time": "2021-09-21T14:09:06.378Z"
   },
   {
    "duration": 31,
    "start_time": "2021-09-21T14:09:06.385Z"
   },
   {
    "duration": 22,
    "start_time": "2021-09-21T14:09:06.418Z"
   },
   {
    "duration": 20,
    "start_time": "2021-09-21T14:09:06.442Z"
   },
   {
    "duration": 5,
    "start_time": "2021-09-21T14:09:06.464Z"
   },
   {
    "duration": 7,
    "start_time": "2021-09-21T14:09:06.471Z"
   },
   {
    "duration": 7,
    "start_time": "2021-09-21T14:09:06.481Z"
   },
   {
    "duration": 7,
    "start_time": "2021-09-21T14:09:06.490Z"
   },
   {
    "duration": 99,
    "start_time": "2021-09-21T14:09:06.499Z"
   },
   {
    "duration": 363,
    "start_time": "2021-09-21T14:09:06.600Z"
   },
   {
    "duration": 14,
    "start_time": "2021-09-21T14:09:06.966Z"
   },
   {
    "duration": 48,
    "start_time": "2021-09-21T14:09:06.981Z"
   },
   {
    "duration": 27,
    "start_time": "2021-09-21T14:09:07.030Z"
   }
  ],
  "kernelspec": {
   "display_name": "Python 3",
   "language": "python",
   "name": "python3"
  },
  "language_info": {
   "codemirror_mode": {
    "name": "ipython",
    "version": 3
   },
   "file_extension": ".py",
   "mimetype": "text/x-python",
   "name": "python",
   "nbconvert_exporter": "python",
   "pygments_lexer": "ipython3",
   "version": "3.7.8"
  },
  "toc": {
   "base_numbering": 1,
   "nav_menu": {},
   "number_sections": true,
   "sideBar": true,
   "skip_h1_title": true,
   "title_cell": "Table of Contents",
   "title_sidebar": "Contents",
   "toc_cell": false,
   "toc_position": {
    "height": "calc(100% - 180px)",
    "left": "10px",
    "top": "150px",
    "width": "255.6px"
   },
   "toc_section_display": true,
   "toc_window_display": true
  }
 },
 "nbformat": 4,
 "nbformat_minor": 2
}
