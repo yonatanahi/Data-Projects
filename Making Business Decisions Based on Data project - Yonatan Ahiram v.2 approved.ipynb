{
 "cells": [
  {
   "cell_type": "markdown",
   "metadata": {},
   "source": [
    "Hi Yonatan. I'm Svetlana and will review your project. I've added all my comments to new cells with different coloring. Please don't delete my comments.\n",
    "\n",
    "\n",
    "The first time I see a mistake, I'll just point it out and let you find it and fix it yourself. In a real job, your boss will do the same, and I'm trying to prepare you to work as an Data Analyst. But if you can't handle this task yet, I'll give you a more accurate hint at the next check.\n",
    "\n",
    "<div class=\"alert alert-success\" role=\"alert\">\n",
    "Reviewer's comment v. 1:\n",
    "    \n",
    "If you did something great I'm using green color for my comment\n",
    "</div>\n",
    "\n",
    "<div class=\"alert alert-warning\" role=\"alert\">\n",
    "Reviewer's comment v. 1:\n",
    "    \n",
    "If I want to give you advice or think that something can be improved, then I'll use yellow. This is an optional recommendation.\n",
    "</div>\n",
    "\n",
    "<div class=\"alert alert-danger\" role=\"alert\">\n",
    "Reviewer's comment v. 1:\n",
    "    \n",
    "If the topic requires some extra work so I can accept it then the color will be red\n",
    "</div>\n",
    "\n",
    "## Review v. 1<a class=\"tocSkip\">\n",
    "\n",
    "You've worked really hard and submitted a solid project.  While there's room for improvement, on the whole, your project is looking good. There are few things that need to be corrected in your project. They're mostly minor issues that are easy to fix. There are also some comments for improvement. They don’t mean that you’ve done anything wrong, but they’re things we wanted to point out that can help you further develop your skills. You're almost there!\n",
    "    \n",
    "## Review v. 2<a class=\"tocSkip\">\n",
    "    \n",
    "Your corrections look great, you've improved your work significantly! I'm glad to say that your project has been accepted. Keep up the good work, and good luck on the next sprint!"
   ]
  },
  {
   "cell_type": "markdown",
   "metadata": {},
   "source": [
    "# Project description\n",
    "\n",
    "**Context**\n",
    "\n",
    "You are an analyst at a big online store. Together with the marketing department, you've compiled a list of hypotheses that may help boost revenue.\n",
    "You need to prioritize these hypotheses, launch an A/B test, and analyze the results.\n",
    "\n",
    "## Description of the data\n",
    "**Data used in the first part of the project**\n",
    "\n",
    "`/datasets/hypotheses_us.csv`\n",
    "\n",
    "* `Hypotheses` — brief descriptions of the hypotheses\n",
    "* `Reach` — user reach, on a scale of one to ten\n",
    "* `Impact` — impact on users, on a scale of one to ten\n",
    "* `Confidence` — confidence in the hypothesis, on a scale of one to ten\n",
    "* `Effort` — the resources required to test a hypothesis, on a scale of one to ten. The higher the `Effort` value, the more resource-intensive the test.\n",
    "\n",
    "**Data used in the second part of the project**\n",
    "\n",
    "`/datasets/orders_us.csv`\n",
    "\n",
    "* `transactionId` — order identifier\n",
    "* `visitorId` — identifier of the user who placed the order\n",
    "* `date` — of the order\n",
    "* `revenue` — from the order\n",
    "* `group` — the A/B test group that the user belongs to\n",
    "\n",
    "`/datasets/visits_us.csv`\n",
    "\n",
    "* `date` — date\n",
    "* `group` — A/B test group\n",
    "* `visits` — the number of visits on the date specified in the A/B test group specified\n",
    "\n",
    "**Make sure to preprocess the data. There might be mistakes in the original datasets; for example, some of the visitors might have gotten into both group A and group B.**\n"
   ]
  },
  {
   "cell_type": "markdown",
   "metadata": {},
   "source": [
    "<div class=\"alert alert-success\" role=\"alert\">\n",
    "Reviewer's comment v. 1:\n",
    "    \n",
    "Well done that you clearly described the project and data.\n",
    "</div>"
   ]
  },
  {
   "cell_type": "code",
   "execution_count": 1,
   "metadata": {},
   "outputs": [
    {
     "name": "stdout",
     "output_type": "stream",
     "text": [
      "Defaulting to user installation because normal site-packages is not writeable\n",
      "Requirement already satisfied: sidetable in /home/jovyan/.local/lib/python3.7/site-packages (0.8.0)\n",
      "Requirement already satisfied: pandas>=1.0 in /home/jovyan/.local/lib/python3.7/site-packages (from sidetable) (1.3.2)\n",
      "Requirement already satisfied: python-dateutil>=2.7.3 in /opt/conda/lib/python3.7/site-packages (from pandas>=1.0->sidetable) (2.8.1)\n",
      "Requirement already satisfied: numpy>=1.17.3 in /opt/conda/lib/python3.7/site-packages (from pandas>=1.0->sidetable) (1.19.5)\n",
      "Requirement already satisfied: pytz>=2017.3 in /opt/conda/lib/python3.7/site-packages (from pandas>=1.0->sidetable) (2021.1)\n",
      "Requirement already satisfied: six>=1.5 in /opt/conda/lib/python3.7/site-packages (from python-dateutil>=2.7.3->pandas>=1.0->sidetable) (1.15.0)\n"
     ]
    }
   ],
   "source": [
    "! pip install sidetable"
   ]
  },
  {
   "cell_type": "markdown",
   "metadata": {},
   "source": [
    "### Imports"
   ]
  },
  {
   "cell_type": "code",
   "execution_count": 2,
   "metadata": {},
   "outputs": [],
   "source": [
    "import pandas as pd\n",
    "import numpy as np\n",
    "import matplotlib.pyplot as plt\n",
    "import scipy.stats as stats\n",
    "import datetime as dt\n",
    "import sidetable as stb"
   ]
  },
  {
   "cell_type": "markdown",
   "metadata": {},
   "source": [
    "# Part 1. Prioritizing Hypotheses\n",
    "\n",
    "The file `hypotheses_us.csv` contains nine hypotheses on boosting an online store's revenue with `Reach`, `Impact`, `Confidence`, and `Effort` specified for each."
   ]
  },
  {
   "cell_type": "code",
   "execution_count": 3,
   "metadata": {},
   "outputs": [
    {
     "data": {
      "text/html": [
       "<div>\n",
       "<style scoped>\n",
       "    .dataframe tbody tr th:only-of-type {\n",
       "        vertical-align: middle;\n",
       "    }\n",
       "\n",
       "    .dataframe tbody tr th {\n",
       "        vertical-align: top;\n",
       "    }\n",
       "\n",
       "    .dataframe thead th {\n",
       "        text-align: right;\n",
       "    }\n",
       "</style>\n",
       "<table border=\"1\" class=\"dataframe\">\n",
       "  <thead>\n",
       "    <tr style=\"text-align: right;\">\n",
       "      <th></th>\n",
       "      <th>hypothesis</th>\n",
       "      <th>reach</th>\n",
       "      <th>impact</th>\n",
       "      <th>confidence</th>\n",
       "      <th>effort</th>\n",
       "    </tr>\n",
       "  </thead>\n",
       "  <tbody>\n",
       "    <tr>\n",
       "      <th>0</th>\n",
       "      <td>Add two new channels for attracting traffic. T...</td>\n",
       "      <td>3</td>\n",
       "      <td>10</td>\n",
       "      <td>8</td>\n",
       "      <td>6</td>\n",
       "    </tr>\n",
       "    <tr>\n",
       "      <th>1</th>\n",
       "      <td>Launch your own delivery service. This will sh...</td>\n",
       "      <td>2</td>\n",
       "      <td>5</td>\n",
       "      <td>4</td>\n",
       "      <td>10</td>\n",
       "    </tr>\n",
       "    <tr>\n",
       "      <th>2</th>\n",
       "      <td>Add product recommendation blocks to the store...</td>\n",
       "      <td>8</td>\n",
       "      <td>3</td>\n",
       "      <td>7</td>\n",
       "      <td>3</td>\n",
       "    </tr>\n",
       "    <tr>\n",
       "      <th>3</th>\n",
       "      <td>Change the category structure. This will incre...</td>\n",
       "      <td>8</td>\n",
       "      <td>3</td>\n",
       "      <td>3</td>\n",
       "      <td>8</td>\n",
       "    </tr>\n",
       "    <tr>\n",
       "      <th>4</th>\n",
       "      <td>Change the background color on the main page. ...</td>\n",
       "      <td>3</td>\n",
       "      <td>1</td>\n",
       "      <td>1</td>\n",
       "      <td>1</td>\n",
       "    </tr>\n",
       "    <tr>\n",
       "      <th>5</th>\n",
       "      <td>Add a customer review page. This will increase...</td>\n",
       "      <td>3</td>\n",
       "      <td>2</td>\n",
       "      <td>2</td>\n",
       "      <td>3</td>\n",
       "    </tr>\n",
       "    <tr>\n",
       "      <th>6</th>\n",
       "      <td>Show banners with current offers and sales on ...</td>\n",
       "      <td>5</td>\n",
       "      <td>3</td>\n",
       "      <td>8</td>\n",
       "      <td>3</td>\n",
       "    </tr>\n",
       "    <tr>\n",
       "      <th>7</th>\n",
       "      <td>Add a subscription form to all the main pages....</td>\n",
       "      <td>10</td>\n",
       "      <td>7</td>\n",
       "      <td>8</td>\n",
       "      <td>5</td>\n",
       "    </tr>\n",
       "    <tr>\n",
       "      <th>8</th>\n",
       "      <td>Launch a promotion that gives users discounts ...</td>\n",
       "      <td>1</td>\n",
       "      <td>9</td>\n",
       "      <td>9</td>\n",
       "      <td>5</td>\n",
       "    </tr>\n",
       "  </tbody>\n",
       "</table>\n",
       "</div>"
      ],
      "text/plain": [
       "                                          hypothesis  reach  impact  \\\n",
       "0  Add two new channels for attracting traffic. T...      3      10   \n",
       "1  Launch your own delivery service. This will sh...      2       5   \n",
       "2  Add product recommendation blocks to the store...      8       3   \n",
       "3  Change the category structure. This will incre...      8       3   \n",
       "4  Change the background color on the main page. ...      3       1   \n",
       "5  Add a customer review page. This will increase...      3       2   \n",
       "6  Show banners with current offers and sales on ...      5       3   \n",
       "7  Add a subscription form to all the main pages....     10       7   \n",
       "8  Launch a promotion that gives users discounts ...      1       9   \n",
       "\n",
       "   confidence  effort  \n",
       "0           8       6  \n",
       "1           4      10  \n",
       "2           7       3  \n",
       "3           3       8  \n",
       "4           1       1  \n",
       "5           2       3  \n",
       "6           8       3  \n",
       "7           8       5  \n",
       "8           9       5  "
      ]
     },
     "execution_count": 3,
     "metadata": {},
     "output_type": "execute_result"
    }
   ],
   "source": [
    "hypotheses = pd.read_csv('/datasets/hypotheses_us.csv', sep=';')\n",
    "hypotheses.columns = hypotheses.columns.str.lower()\n",
    "hypotheses"
   ]
  },
  {
   "cell_type": "markdown",
   "metadata": {},
   "source": [
    "<div class=\"alert alert-success\" role=\"alert\">\n",
    "Reviewer's comment v. 1:\n",
    "    \n",
    "Good job that you brought columns to the lower case.\n",
    "</div>"
   ]
  },
  {
   "cell_type": "markdown",
   "metadata": {},
   "source": [
    "* Apply the `ICE` framework to prioritize hypotheses. Sort them in descending order of priority."
   ]
  },
  {
   "cell_type": "code",
   "execution_count": 4,
   "metadata": {},
   "outputs": [
    {
     "data": {
      "text/html": [
       "<div>\n",
       "<style scoped>\n",
       "    .dataframe tbody tr th:only-of-type {\n",
       "        vertical-align: middle;\n",
       "    }\n",
       "\n",
       "    .dataframe tbody tr th {\n",
       "        vertical-align: top;\n",
       "    }\n",
       "\n",
       "    .dataframe thead th {\n",
       "        text-align: right;\n",
       "    }\n",
       "</style>\n",
       "<table border=\"1\" class=\"dataframe\">\n",
       "  <thead>\n",
       "    <tr style=\"text-align: right;\">\n",
       "      <th></th>\n",
       "      <th>hypothesis</th>\n",
       "      <th>ICE</th>\n",
       "    </tr>\n",
       "  </thead>\n",
       "  <tbody>\n",
       "    <tr>\n",
       "      <th>8</th>\n",
       "      <td>Launch a promotion that gives users discounts ...</td>\n",
       "      <td>16.20</td>\n",
       "    </tr>\n",
       "    <tr>\n",
       "      <th>0</th>\n",
       "      <td>Add two new channels for attracting traffic. T...</td>\n",
       "      <td>13.33</td>\n",
       "    </tr>\n",
       "    <tr>\n",
       "      <th>7</th>\n",
       "      <td>Add a subscription form to all the main pages....</td>\n",
       "      <td>11.20</td>\n",
       "    </tr>\n",
       "    <tr>\n",
       "      <th>6</th>\n",
       "      <td>Show banners with current offers and sales on ...</td>\n",
       "      <td>8.00</td>\n",
       "    </tr>\n",
       "    <tr>\n",
       "      <th>2</th>\n",
       "      <td>Add product recommendation blocks to the store...</td>\n",
       "      <td>7.00</td>\n",
       "    </tr>\n",
       "    <tr>\n",
       "      <th>1</th>\n",
       "      <td>Launch your own delivery service. This will sh...</td>\n",
       "      <td>2.00</td>\n",
       "    </tr>\n",
       "    <tr>\n",
       "      <th>5</th>\n",
       "      <td>Add a customer review page. This will increase...</td>\n",
       "      <td>1.33</td>\n",
       "    </tr>\n",
       "    <tr>\n",
       "      <th>3</th>\n",
       "      <td>Change the category structure. This will incre...</td>\n",
       "      <td>1.12</td>\n",
       "    </tr>\n",
       "    <tr>\n",
       "      <th>4</th>\n",
       "      <td>Change the background color on the main page. ...</td>\n",
       "      <td>1.00</td>\n",
       "    </tr>\n",
       "  </tbody>\n",
       "</table>\n",
       "</div>"
      ],
      "text/plain": [
       "                                          hypothesis    ICE\n",
       "8  Launch a promotion that gives users discounts ...  16.20\n",
       "0  Add two new channels for attracting traffic. T...  13.33\n",
       "7  Add a subscription form to all the main pages....  11.20\n",
       "6  Show banners with current offers and sales on ...   8.00\n",
       "2  Add product recommendation blocks to the store...   7.00\n",
       "1  Launch your own delivery service. This will sh...   2.00\n",
       "5  Add a customer review page. This will increase...   1.33\n",
       "3  Change the category structure. This will incre...   1.12\n",
       "4  Change the background color on the main page. ...   1.00"
      ]
     },
     "execution_count": 4,
     "metadata": {},
     "output_type": "execute_result"
    }
   ],
   "source": [
    "hypotheses['ICE'] = ((hypotheses.impact * hypotheses.confidence) / hypotheses.effort).round(2)\n",
    "hypotheses[['hypothesis', 'ICE']].sort_values(by='ICE', ascending=False)"
   ]
  },
  {
   "cell_type": "markdown",
   "metadata": {},
   "source": [
    "* Apply the `RICE` framework to prioritize hypotheses. Sort them in descending order of priority."
   ]
  },
  {
   "cell_type": "code",
   "execution_count": 5,
   "metadata": {},
   "outputs": [
    {
     "data": {
      "text/html": [
       "<div>\n",
       "<style scoped>\n",
       "    .dataframe tbody tr th:only-of-type {\n",
       "        vertical-align: middle;\n",
       "    }\n",
       "\n",
       "    .dataframe tbody tr th {\n",
       "        vertical-align: top;\n",
       "    }\n",
       "\n",
       "    .dataframe thead th {\n",
       "        text-align: right;\n",
       "    }\n",
       "</style>\n",
       "<table border=\"1\" class=\"dataframe\">\n",
       "  <thead>\n",
       "    <tr style=\"text-align: right;\">\n",
       "      <th></th>\n",
       "      <th>hypothesis</th>\n",
       "      <th>reach</th>\n",
       "      <th>impact</th>\n",
       "      <th>confidence</th>\n",
       "      <th>effort</th>\n",
       "      <th>ICE</th>\n",
       "      <th>RICE</th>\n",
       "    </tr>\n",
       "  </thead>\n",
       "  <tbody>\n",
       "    <tr>\n",
       "      <th>0</th>\n",
       "      <td>Add a subscription form to all the main pages....</td>\n",
       "      <td>10</td>\n",
       "      <td>7</td>\n",
       "      <td>8</td>\n",
       "      <td>5</td>\n",
       "      <td>11.20</td>\n",
       "      <td>112.0</td>\n",
       "    </tr>\n",
       "    <tr>\n",
       "      <th>1</th>\n",
       "      <td>Add product recommendation blocks to the store...</td>\n",
       "      <td>8</td>\n",
       "      <td>3</td>\n",
       "      <td>7</td>\n",
       "      <td>3</td>\n",
       "      <td>7.00</td>\n",
       "      <td>56.0</td>\n",
       "    </tr>\n",
       "    <tr>\n",
       "      <th>2</th>\n",
       "      <td>Add two new channels for attracting traffic. T...</td>\n",
       "      <td>3</td>\n",
       "      <td>10</td>\n",
       "      <td>8</td>\n",
       "      <td>6</td>\n",
       "      <td>13.33</td>\n",
       "      <td>40.0</td>\n",
       "    </tr>\n",
       "    <tr>\n",
       "      <th>3</th>\n",
       "      <td>Show banners with current offers and sales on ...</td>\n",
       "      <td>5</td>\n",
       "      <td>3</td>\n",
       "      <td>8</td>\n",
       "      <td>3</td>\n",
       "      <td>8.00</td>\n",
       "      <td>40.0</td>\n",
       "    </tr>\n",
       "    <tr>\n",
       "      <th>4</th>\n",
       "      <td>Launch a promotion that gives users discounts ...</td>\n",
       "      <td>1</td>\n",
       "      <td>9</td>\n",
       "      <td>9</td>\n",
       "      <td>5</td>\n",
       "      <td>16.20</td>\n",
       "      <td>16.2</td>\n",
       "    </tr>\n",
       "    <tr>\n",
       "      <th>5</th>\n",
       "      <td>Change the category structure. This will incre...</td>\n",
       "      <td>8</td>\n",
       "      <td>3</td>\n",
       "      <td>3</td>\n",
       "      <td>8</td>\n",
       "      <td>1.12</td>\n",
       "      <td>9.0</td>\n",
       "    </tr>\n",
       "    <tr>\n",
       "      <th>6</th>\n",
       "      <td>Launch your own delivery service. This will sh...</td>\n",
       "      <td>2</td>\n",
       "      <td>5</td>\n",
       "      <td>4</td>\n",
       "      <td>10</td>\n",
       "      <td>2.00</td>\n",
       "      <td>4.0</td>\n",
       "    </tr>\n",
       "    <tr>\n",
       "      <th>7</th>\n",
       "      <td>Add a customer review page. This will increase...</td>\n",
       "      <td>3</td>\n",
       "      <td>2</td>\n",
       "      <td>2</td>\n",
       "      <td>3</td>\n",
       "      <td>1.33</td>\n",
       "      <td>4.0</td>\n",
       "    </tr>\n",
       "    <tr>\n",
       "      <th>8</th>\n",
       "      <td>Change the background color on the main page. ...</td>\n",
       "      <td>3</td>\n",
       "      <td>1</td>\n",
       "      <td>1</td>\n",
       "      <td>1</td>\n",
       "      <td>1.00</td>\n",
       "      <td>3.0</td>\n",
       "    </tr>\n",
       "  </tbody>\n",
       "</table>\n",
       "</div>"
      ],
      "text/plain": [
       "                                          hypothesis  reach  impact  \\\n",
       "0  Add a subscription form to all the main pages....     10       7   \n",
       "1  Add product recommendation blocks to the store...      8       3   \n",
       "2  Add two new channels for attracting traffic. T...      3      10   \n",
       "3  Show banners with current offers and sales on ...      5       3   \n",
       "4  Launch a promotion that gives users discounts ...      1       9   \n",
       "5  Change the category structure. This will incre...      8       3   \n",
       "6  Launch your own delivery service. This will sh...      2       5   \n",
       "7  Add a customer review page. This will increase...      3       2   \n",
       "8  Change the background color on the main page. ...      3       1   \n",
       "\n",
       "   confidence  effort    ICE   RICE  \n",
       "0           8       5  11.20  112.0  \n",
       "1           7       3   7.00   56.0  \n",
       "2           8       6  13.33   40.0  \n",
       "3           8       3   8.00   40.0  \n",
       "4           9       5  16.20   16.2  \n",
       "5           3       8   1.12    9.0  \n",
       "6           4      10   2.00    4.0  \n",
       "7           2       3   1.33    4.0  \n",
       "8           1       1   1.00    3.0  "
      ]
     },
     "execution_count": 5,
     "metadata": {},
     "output_type": "execute_result"
    }
   ],
   "source": [
    "hypotheses['RICE'] = ((hypotheses.reach * hypotheses.impact * hypotheses.confidence)/ hypotheses.effort).round(2)\n",
    "hypotheses.sort_values('RICE', ascending=False, inplace=True)\n",
    "hypotheses.reset_index(inplace=True, drop=True)\n",
    "hypotheses"
   ]
  },
  {
   "cell_type": "markdown",
   "metadata": {},
   "source": [
    "* Show how the prioritization of hypotheses changes when you use `RICE` instead of `ICE`. "
   ]
  },
  {
   "cell_type": "code",
   "execution_count": 6,
   "metadata": {},
   "outputs": [],
   "source": [
    "def priority(row):\n",
    "    return row.name + 1\n",
    "\n",
    "hypotheses['Rice_priority'] = hypotheses.apply(priority, axis=1)\n",
    "hypotheses.sort_values('ICE', ascending=False, inplace=True)"
   ]
  },
  {
   "cell_type": "code",
   "execution_count": 7,
   "metadata": {},
   "outputs": [
    {
     "data": {
      "text/html": [
       "<div>\n",
       "<style scoped>\n",
       "    .dataframe tbody tr th:only-of-type {\n",
       "        vertical-align: middle;\n",
       "    }\n",
       "\n",
       "    .dataframe tbody tr th {\n",
       "        vertical-align: top;\n",
       "    }\n",
       "\n",
       "    .dataframe thead th {\n",
       "        text-align: right;\n",
       "    }\n",
       "</style>\n",
       "<table border=\"1\" class=\"dataframe\">\n",
       "  <thead>\n",
       "    <tr style=\"text-align: right;\">\n",
       "      <th></th>\n",
       "      <th>hypothesis</th>\n",
       "      <th>reach</th>\n",
       "      <th>impact</th>\n",
       "      <th>confidence</th>\n",
       "      <th>effort</th>\n",
       "      <th>ICE</th>\n",
       "      <th>RICE</th>\n",
       "      <th>Rice_priority</th>\n",
       "      <th>Ice_priority</th>\n",
       "    </tr>\n",
       "  </thead>\n",
       "  <tbody>\n",
       "    <tr>\n",
       "      <th>2</th>\n",
       "      <td>Add a subscription form to all the main pages....</td>\n",
       "      <td>10</td>\n",
       "      <td>7</td>\n",
       "      <td>8</td>\n",
       "      <td>5</td>\n",
       "      <td>11.20</td>\n",
       "      <td>112.0</td>\n",
       "      <td>1</td>\n",
       "      <td>3</td>\n",
       "    </tr>\n",
       "    <tr>\n",
       "      <th>4</th>\n",
       "      <td>Add product recommendation blocks to the store...</td>\n",
       "      <td>8</td>\n",
       "      <td>3</td>\n",
       "      <td>7</td>\n",
       "      <td>3</td>\n",
       "      <td>7.00</td>\n",
       "      <td>56.0</td>\n",
       "      <td>2</td>\n",
       "      <td>5</td>\n",
       "    </tr>\n",
       "    <tr>\n",
       "      <th>1</th>\n",
       "      <td>Add two new channels for attracting traffic. T...</td>\n",
       "      <td>3</td>\n",
       "      <td>10</td>\n",
       "      <td>8</td>\n",
       "      <td>6</td>\n",
       "      <td>13.33</td>\n",
       "      <td>40.0</td>\n",
       "      <td>3</td>\n",
       "      <td>2</td>\n",
       "    </tr>\n",
       "    <tr>\n",
       "      <th>3</th>\n",
       "      <td>Show banners with current offers and sales on ...</td>\n",
       "      <td>5</td>\n",
       "      <td>3</td>\n",
       "      <td>8</td>\n",
       "      <td>3</td>\n",
       "      <td>8.00</td>\n",
       "      <td>40.0</td>\n",
       "      <td>4</td>\n",
       "      <td>4</td>\n",
       "    </tr>\n",
       "    <tr>\n",
       "      <th>0</th>\n",
       "      <td>Launch a promotion that gives users discounts ...</td>\n",
       "      <td>1</td>\n",
       "      <td>9</td>\n",
       "      <td>9</td>\n",
       "      <td>5</td>\n",
       "      <td>16.20</td>\n",
       "      <td>16.2</td>\n",
       "      <td>5</td>\n",
       "      <td>1</td>\n",
       "    </tr>\n",
       "    <tr>\n",
       "      <th>7</th>\n",
       "      <td>Change the category structure. This will incre...</td>\n",
       "      <td>8</td>\n",
       "      <td>3</td>\n",
       "      <td>3</td>\n",
       "      <td>8</td>\n",
       "      <td>1.12</td>\n",
       "      <td>9.0</td>\n",
       "      <td>6</td>\n",
       "      <td>8</td>\n",
       "    </tr>\n",
       "    <tr>\n",
       "      <th>5</th>\n",
       "      <td>Launch your own delivery service. This will sh...</td>\n",
       "      <td>2</td>\n",
       "      <td>5</td>\n",
       "      <td>4</td>\n",
       "      <td>10</td>\n",
       "      <td>2.00</td>\n",
       "      <td>4.0</td>\n",
       "      <td>7</td>\n",
       "      <td>6</td>\n",
       "    </tr>\n",
       "    <tr>\n",
       "      <th>6</th>\n",
       "      <td>Add a customer review page. This will increase...</td>\n",
       "      <td>3</td>\n",
       "      <td>2</td>\n",
       "      <td>2</td>\n",
       "      <td>3</td>\n",
       "      <td>1.33</td>\n",
       "      <td>4.0</td>\n",
       "      <td>8</td>\n",
       "      <td>7</td>\n",
       "    </tr>\n",
       "    <tr>\n",
       "      <th>8</th>\n",
       "      <td>Change the background color on the main page. ...</td>\n",
       "      <td>3</td>\n",
       "      <td>1</td>\n",
       "      <td>1</td>\n",
       "      <td>1</td>\n",
       "      <td>1.00</td>\n",
       "      <td>3.0</td>\n",
       "      <td>9</td>\n",
       "      <td>9</td>\n",
       "    </tr>\n",
       "  </tbody>\n",
       "</table>\n",
       "</div>"
      ],
      "text/plain": [
       "                                          hypothesis  reach  impact  \\\n",
       "2  Add a subscription form to all the main pages....     10       7   \n",
       "4  Add product recommendation blocks to the store...      8       3   \n",
       "1  Add two new channels for attracting traffic. T...      3      10   \n",
       "3  Show banners with current offers and sales on ...      5       3   \n",
       "0  Launch a promotion that gives users discounts ...      1       9   \n",
       "7  Change the category structure. This will incre...      8       3   \n",
       "5  Launch your own delivery service. This will sh...      2       5   \n",
       "6  Add a customer review page. This will increase...      3       2   \n",
       "8  Change the background color on the main page. ...      3       1   \n",
       "\n",
       "   confidence  effort    ICE   RICE  Rice_priority  Ice_priority  \n",
       "2           8       5  11.20  112.0              1             3  \n",
       "4           7       3   7.00   56.0              2             5  \n",
       "1           8       6  13.33   40.0              3             2  \n",
       "3           8       3   8.00   40.0              4             4  \n",
       "0           9       5  16.20   16.2              5             1  \n",
       "7           3       8   1.12    9.0              6             8  \n",
       "5           4      10   2.00    4.0              7             6  \n",
       "6           2       3   1.33    4.0              8             7  \n",
       "8           1       1   1.00    3.0              9             9  "
      ]
     },
     "execution_count": 7,
     "metadata": {},
     "output_type": "execute_result"
    }
   ],
   "source": [
    "hypotheses.reset_index(inplace=True, drop=True)\n",
    "hypotheses['Ice_priority'] = hypotheses.apply(priority, axis=1)\n",
    "hypotheses.sort_values('Rice_priority')"
   ]
  },
  {
   "cell_type": "markdown",
   "metadata": {},
   "source": [
    "* Provide an explanation for the changes."
   ]
  },
  {
   "cell_type": "markdown",
   "metadata": {},
   "source": [
    "Let's check the first row:\n",
    "* ICE = (7 * 8) / 5 = 11.2\n",
    "* RICE = (**10** * 7 * 8) / 5 = **112**\n",
    "\n",
    "So, we can see that the fact of having additional number in the numerator has a significant impact on the result."
   ]
  },
  {
   "cell_type": "markdown",
   "metadata": {},
   "source": [
    "<div class=\"alert alert-success\" role=\"alert\">\n",
    "Reviewer's comment v. 1:\n",
    "    \n",
    "You correctly calculated ICE scores and identified the highest priority hypotheses. It will be nice to show RICE and ICE scores on the same plot. This makes it easier to analyze.\n",
    "</div>"
   ]
  },
  {
   "cell_type": "markdown",
   "metadata": {},
   "source": [
    "## Preprocessing"
   ]
  },
  {
   "cell_type": "code",
   "execution_count": 8,
   "metadata": {},
   "outputs": [],
   "source": [
    "orders = pd.read_csv('/datasets/orders_us.csv')\n",
    "orders['date'] = pd.to_datetime(orders['date'])\n",
    "\n",
    "visits = pd.read_csv('/datasets/visits_us.csv', sep=',')\n",
    "visits['date'] = pd.to_datetime(visits['date'])"
   ]
  },
  {
   "cell_type": "markdown",
   "metadata": {},
   "source": [
    "<div class=\"alert alert-success\" role=\"alert\">\n",
    "Reviewer's comment v. 1:\n",
    "    \n",
    "You are right, it's necessary to change data types.\n",
    "</div>"
   ]
  },
  {
   "cell_type": "markdown",
   "metadata": {},
   "source": [
    "### Tables"
   ]
  },
  {
   "cell_type": "code",
   "execution_count": 9,
   "metadata": {},
   "outputs": [
    {
     "data": {
      "text/html": [
       "<div>\n",
       "<style scoped>\n",
       "    .dataframe tbody tr th:only-of-type {\n",
       "        vertical-align: middle;\n",
       "    }\n",
       "\n",
       "    .dataframe tbody tr th {\n",
       "        vertical-align: top;\n",
       "    }\n",
       "\n",
       "    .dataframe thead th {\n",
       "        text-align: right;\n",
       "    }\n",
       "</style>\n",
       "<table border=\"1\" class=\"dataframe\">\n",
       "  <thead>\n",
       "    <tr style=\"text-align: right;\">\n",
       "      <th></th>\n",
       "      <th>transactionId</th>\n",
       "      <th>visitorId</th>\n",
       "      <th>date</th>\n",
       "      <th>revenue</th>\n",
       "      <th>group</th>\n",
       "    </tr>\n",
       "  </thead>\n",
       "  <tbody>\n",
       "    <tr>\n",
       "      <th>0</th>\n",
       "      <td>3667963787</td>\n",
       "      <td>3312258926</td>\n",
       "      <td>2019-08-15</td>\n",
       "      <td>30.4</td>\n",
       "      <td>B</td>\n",
       "    </tr>\n",
       "    <tr>\n",
       "      <th>1</th>\n",
       "      <td>2804400009</td>\n",
       "      <td>3642806036</td>\n",
       "      <td>2019-08-15</td>\n",
       "      <td>15.2</td>\n",
       "      <td>B</td>\n",
       "    </tr>\n",
       "    <tr>\n",
       "      <th>2</th>\n",
       "      <td>2961555356</td>\n",
       "      <td>4069496402</td>\n",
       "      <td>2019-08-15</td>\n",
       "      <td>10.2</td>\n",
       "      <td>A</td>\n",
       "    </tr>\n",
       "    <tr>\n",
       "      <th>3</th>\n",
       "      <td>3797467345</td>\n",
       "      <td>1196621759</td>\n",
       "      <td>2019-08-15</td>\n",
       "      <td>155.1</td>\n",
       "      <td>B</td>\n",
       "    </tr>\n",
       "    <tr>\n",
       "      <th>4</th>\n",
       "      <td>2282983706</td>\n",
       "      <td>2322279887</td>\n",
       "      <td>2019-08-15</td>\n",
       "      <td>40.5</td>\n",
       "      <td>B</td>\n",
       "    </tr>\n",
       "  </tbody>\n",
       "</table>\n",
       "</div>"
      ],
      "text/plain": [
       "   transactionId   visitorId       date  revenue group\n",
       "0     3667963787  3312258926 2019-08-15     30.4     B\n",
       "1     2804400009  3642806036 2019-08-15     15.2     B\n",
       "2     2961555356  4069496402 2019-08-15     10.2     A\n",
       "3     3797467345  1196621759 2019-08-15    155.1     B\n",
       "4     2282983706  2322279887 2019-08-15     40.5     B"
      ]
     },
     "metadata": {},
     "output_type": "display_data"
    },
    {
     "data": {
      "text/html": [
       "<div>\n",
       "<style scoped>\n",
       "    .dataframe tbody tr th:only-of-type {\n",
       "        vertical-align: middle;\n",
       "    }\n",
       "\n",
       "    .dataframe tbody tr th {\n",
       "        vertical-align: top;\n",
       "    }\n",
       "\n",
       "    .dataframe thead th {\n",
       "        text-align: right;\n",
       "    }\n",
       "</style>\n",
       "<table border=\"1\" class=\"dataframe\">\n",
       "  <thead>\n",
       "    <tr style=\"text-align: right;\">\n",
       "      <th></th>\n",
       "      <th>date</th>\n",
       "      <th>group</th>\n",
       "      <th>visits</th>\n",
       "    </tr>\n",
       "  </thead>\n",
       "  <tbody>\n",
       "    <tr>\n",
       "      <th>0</th>\n",
       "      <td>2019-08-01</td>\n",
       "      <td>A</td>\n",
       "      <td>719</td>\n",
       "    </tr>\n",
       "    <tr>\n",
       "      <th>1</th>\n",
       "      <td>2019-08-02</td>\n",
       "      <td>A</td>\n",
       "      <td>619</td>\n",
       "    </tr>\n",
       "    <tr>\n",
       "      <th>2</th>\n",
       "      <td>2019-08-03</td>\n",
       "      <td>A</td>\n",
       "      <td>507</td>\n",
       "    </tr>\n",
       "    <tr>\n",
       "      <th>3</th>\n",
       "      <td>2019-08-04</td>\n",
       "      <td>A</td>\n",
       "      <td>717</td>\n",
       "    </tr>\n",
       "    <tr>\n",
       "      <th>4</th>\n",
       "      <td>2019-08-05</td>\n",
       "      <td>A</td>\n",
       "      <td>756</td>\n",
       "    </tr>\n",
       "  </tbody>\n",
       "</table>\n",
       "</div>"
      ],
      "text/plain": [
       "        date group  visits\n",
       "0 2019-08-01     A     719\n",
       "1 2019-08-02     A     619\n",
       "2 2019-08-03     A     507\n",
       "3 2019-08-04     A     717\n",
       "4 2019-08-05     A     756"
      ]
     },
     "execution_count": 9,
     "metadata": {},
     "output_type": "execute_result"
    }
   ],
   "source": [
    "display(orders.head())\n",
    "visits.head()"
   ]
  },
  {
   "cell_type": "code",
   "execution_count": 10,
   "metadata": {},
   "outputs": [
    {
     "name": "stdout",
     "output_type": "stream",
     "text": [
      "<class 'pandas.core.frame.DataFrame'>\n",
      "RangeIndex: 1197 entries, 0 to 1196\n",
      "Data columns (total 5 columns):\n",
      " #   Column         Non-Null Count  Dtype         \n",
      "---  ------         --------------  -----         \n",
      " 0   transactionId  1197 non-null   int64         \n",
      " 1   visitorId      1197 non-null   int64         \n",
      " 2   date           1197 non-null   datetime64[ns]\n",
      " 3   revenue        1197 non-null   float64       \n",
      " 4   group          1197 non-null   object        \n",
      "dtypes: datetime64[ns](1), float64(1), int64(2), object(1)\n",
      "memory usage: 46.9+ KB\n"
     ]
    },
    {
     "data": {
      "text/plain": [
       "None"
      ]
     },
     "metadata": {},
     "output_type": "display_data"
    },
    {
     "name": "stdout",
     "output_type": "stream",
     "text": [
      "<class 'pandas.core.frame.DataFrame'>\n",
      "RangeIndex: 62 entries, 0 to 61\n",
      "Data columns (total 3 columns):\n",
      " #   Column  Non-Null Count  Dtype         \n",
      "---  ------  --------------  -----         \n",
      " 0   date    62 non-null     datetime64[ns]\n",
      " 1   group   62 non-null     object        \n",
      " 2   visits  62 non-null     int64         \n",
      "dtypes: datetime64[ns](1), int64(1), object(1)\n",
      "memory usage: 1.6+ KB\n"
     ]
    }
   ],
   "source": [
    "display(orders.info())\n",
    "visits.info()"
   ]
  },
  {
   "cell_type": "code",
   "execution_count": 11,
   "metadata": {},
   "outputs": [
    {
     "data": {
      "text/html": [
       "<div>\n",
       "<style scoped>\n",
       "    .dataframe tbody tr th:only-of-type {\n",
       "        vertical-align: middle;\n",
       "    }\n",
       "\n",
       "    .dataframe tbody tr th {\n",
       "        vertical-align: top;\n",
       "    }\n",
       "\n",
       "    .dataframe thead th {\n",
       "        text-align: right;\n",
       "    }\n",
       "</style>\n",
       "<table border=\"1\" class=\"dataframe\">\n",
       "  <thead>\n",
       "    <tr style=\"text-align: right;\">\n",
       "      <th></th>\n",
       "      <th>transactionId</th>\n",
       "      <th>visitorId</th>\n",
       "      <th>revenue</th>\n",
       "    </tr>\n",
       "  </thead>\n",
       "  <tbody>\n",
       "    <tr>\n",
       "      <th>count</th>\n",
       "      <td>1.197000e+03</td>\n",
       "      <td>1.197000e+03</td>\n",
       "      <td>1197.000000</td>\n",
       "    </tr>\n",
       "    <tr>\n",
       "      <th>mean</th>\n",
       "      <td>2.155621e+09</td>\n",
       "      <td>2.165960e+09</td>\n",
       "      <td>131.491646</td>\n",
       "    </tr>\n",
       "    <tr>\n",
       "      <th>std</th>\n",
       "      <td>1.229085e+09</td>\n",
       "      <td>1.236014e+09</td>\n",
       "      <td>603.004729</td>\n",
       "    </tr>\n",
       "    <tr>\n",
       "      <th>min</th>\n",
       "      <td>1.062393e+06</td>\n",
       "      <td>5.114589e+06</td>\n",
       "      <td>5.000000</td>\n",
       "    </tr>\n",
       "    <tr>\n",
       "      <th>25%</th>\n",
       "      <td>1.166776e+09</td>\n",
       "      <td>1.111826e+09</td>\n",
       "      <td>20.800000</td>\n",
       "    </tr>\n",
       "    <tr>\n",
       "      <th>50%</th>\n",
       "      <td>2.145194e+09</td>\n",
       "      <td>2.217985e+09</td>\n",
       "      <td>50.200000</td>\n",
       "    </tr>\n",
       "    <tr>\n",
       "      <th>75%</th>\n",
       "      <td>3.237740e+09</td>\n",
       "      <td>3.177606e+09</td>\n",
       "      <td>130.400000</td>\n",
       "    </tr>\n",
       "    <tr>\n",
       "      <th>max</th>\n",
       "      <td>4.293856e+09</td>\n",
       "      <td>4.283872e+09</td>\n",
       "      <td>19920.400000</td>\n",
       "    </tr>\n",
       "  </tbody>\n",
       "</table>\n",
       "</div>"
      ],
      "text/plain": [
       "       transactionId     visitorId       revenue\n",
       "count   1.197000e+03  1.197000e+03   1197.000000\n",
       "mean    2.155621e+09  2.165960e+09    131.491646\n",
       "std     1.229085e+09  1.236014e+09    603.004729\n",
       "min     1.062393e+06  5.114589e+06      5.000000\n",
       "25%     1.166776e+09  1.111826e+09     20.800000\n",
       "50%     2.145194e+09  2.217985e+09     50.200000\n",
       "75%     3.237740e+09  3.177606e+09    130.400000\n",
       "max     4.293856e+09  4.283872e+09  19920.400000"
      ]
     },
     "metadata": {},
     "output_type": "display_data"
    },
    {
     "data": {
      "text/html": [
       "<div>\n",
       "<style scoped>\n",
       "    .dataframe tbody tr th:only-of-type {\n",
       "        vertical-align: middle;\n",
       "    }\n",
       "\n",
       "    .dataframe tbody tr th {\n",
       "        vertical-align: top;\n",
       "    }\n",
       "\n",
       "    .dataframe thead th {\n",
       "        text-align: right;\n",
       "    }\n",
       "</style>\n",
       "<table border=\"1\" class=\"dataframe\">\n",
       "  <thead>\n",
       "    <tr style=\"text-align: right;\">\n",
       "      <th></th>\n",
       "      <th>visits</th>\n",
       "    </tr>\n",
       "  </thead>\n",
       "  <tbody>\n",
       "    <tr>\n",
       "      <th>count</th>\n",
       "      <td>62.000000</td>\n",
       "    </tr>\n",
       "    <tr>\n",
       "      <th>mean</th>\n",
       "      <td>607.290323</td>\n",
       "    </tr>\n",
       "    <tr>\n",
       "      <th>std</th>\n",
       "      <td>114.400560</td>\n",
       "    </tr>\n",
       "    <tr>\n",
       "      <th>min</th>\n",
       "      <td>361.000000</td>\n",
       "    </tr>\n",
       "    <tr>\n",
       "      <th>25%</th>\n",
       "      <td>534.000000</td>\n",
       "    </tr>\n",
       "    <tr>\n",
       "      <th>50%</th>\n",
       "      <td>624.500000</td>\n",
       "    </tr>\n",
       "    <tr>\n",
       "      <th>75%</th>\n",
       "      <td>710.500000</td>\n",
       "    </tr>\n",
       "    <tr>\n",
       "      <th>max</th>\n",
       "      <td>770.000000</td>\n",
       "    </tr>\n",
       "  </tbody>\n",
       "</table>\n",
       "</div>"
      ],
      "text/plain": [
       "           visits\n",
       "count   62.000000\n",
       "mean   607.290323\n",
       "std    114.400560\n",
       "min    361.000000\n",
       "25%    534.000000\n",
       "50%    624.500000\n",
       "75%    710.500000\n",
       "max    770.000000"
      ]
     },
     "execution_count": 11,
     "metadata": {},
     "output_type": "execute_result"
    }
   ],
   "source": [
    "display(orders.describe())\n",
    "visits.describe()"
   ]
  },
  {
   "cell_type": "markdown",
   "metadata": {},
   "source": [
    "##### Duplicates"
   ]
  },
  {
   "cell_type": "code",
   "execution_count": 12,
   "metadata": {},
   "outputs": [
    {
     "data": {
      "text/plain": [
       "0"
      ]
     },
     "metadata": {},
     "output_type": "display_data"
    },
    {
     "data": {
      "text/plain": [
       "0"
      ]
     },
     "execution_count": 12,
     "metadata": {},
     "output_type": "execute_result"
    }
   ],
   "source": [
    "display(orders.duplicated().sum())\n",
    "visits.duplicated().sum()"
   ]
  },
  {
   "cell_type": "markdown",
   "metadata": {},
   "source": [
    "<div class=\"alert alert-success\" role=\"alert\">\n",
    "Reviewer's comment v. 1:\n",
    "    \n",
    "Yes, you correctly noted that we don't have duplicates in data.\n",
    "</div>"
   ]
  },
  {
   "cell_type": "code",
   "execution_count": 13,
   "metadata": {},
   "outputs": [
    {
     "data": {
      "text/html": [
       "<div>\n",
       "<style scoped>\n",
       "    .dataframe tbody tr th:only-of-type {\n",
       "        vertical-align: middle;\n",
       "    }\n",
       "\n",
       "    .dataframe tbody tr th {\n",
       "        vertical-align: top;\n",
       "    }\n",
       "\n",
       "    .dataframe thead th {\n",
       "        text-align: right;\n",
       "    }\n",
       "</style>\n",
       "<table border=\"1\" class=\"dataframe\">\n",
       "  <thead>\n",
       "    <tr style=\"text-align: right;\">\n",
       "      <th></th>\n",
       "      <th>visitorId</th>\n",
       "      <th>orders</th>\n",
       "    </tr>\n",
       "  </thead>\n",
       "  <tbody>\n",
       "    <tr>\n",
       "      <th>23</th>\n",
       "      <td>237748145</td>\n",
       "      <td>4</td>\n",
       "    </tr>\n",
       "    <tr>\n",
       "      <th>269</th>\n",
       "      <td>2378935119</td>\n",
       "      <td>4</td>\n",
       "    </tr>\n",
       "    <tr>\n",
       "      <th>278</th>\n",
       "      <td>2458001652</td>\n",
       "      <td>5</td>\n",
       "    </tr>\n",
       "    <tr>\n",
       "      <th>227</th>\n",
       "      <td>2038680547</td>\n",
       "      <td>5</td>\n",
       "    </tr>\n",
       "    <tr>\n",
       "      <th>499</th>\n",
       "      <td>4256040402</td>\n",
       "      <td>7</td>\n",
       "    </tr>\n",
       "  </tbody>\n",
       "</table>\n",
       "</div>"
      ],
      "text/plain": [
       "      visitorId  orders\n",
       "23    237748145       4\n",
       "269  2378935119       4\n",
       "278  2458001652       5\n",
       "227  2038680547       5\n",
       "499  4256040402       7"
      ]
     },
     "execution_count": 13,
     "metadata": {},
     "output_type": "execute_result"
    }
   ],
   "source": [
    "ordersByUsersA = orders[orders['group']=='A'].groupby('visitorId', as_index=False).agg({'transactionId' : pd.Series.nunique})\n",
    "ordersByUsersA.columns = ['visitorId', 'orders']\n",
    "\n",
    "ordersByUsersB = orders[orders['group']=='B'].groupby('visitorId', as_index=False).agg({'transactionId' : pd.Series.nunique})\n",
    "ordersByUsersB.columns = ['visitorId', 'orders']\n",
    "\n",
    "ordersByUsersA.sort_values('orders').tail(5)"
   ]
  },
  {
   "cell_type": "code",
   "execution_count": 14,
   "metadata": {},
   "outputs": [
    {
     "data": {
      "text/html": [
       "<div>\n",
       "<style scoped>\n",
       "    .dataframe tbody tr th:only-of-type {\n",
       "        vertical-align: middle;\n",
       "    }\n",
       "\n",
       "    .dataframe tbody tr th {\n",
       "        vertical-align: top;\n",
       "    }\n",
       "\n",
       "    .dataframe thead th {\n",
       "        text-align: right;\n",
       "    }\n",
       "</style>\n",
       "<table border=\"1\" class=\"dataframe\">\n",
       "  <thead>\n",
       "    <tr style=\"text-align: right;\">\n",
       "      <th></th>\n",
       "      <th>visitorId</th>\n",
       "      <th>orders_x</th>\n",
       "      <th>orders_y</th>\n",
       "    </tr>\n",
       "  </thead>\n",
       "  <tbody>\n",
       "    <tr>\n",
       "      <th>0</th>\n",
       "      <td>8300375</td>\n",
       "      <td>1</td>\n",
       "      <td>1</td>\n",
       "    </tr>\n",
       "    <tr>\n",
       "      <th>1</th>\n",
       "      <td>199603092</td>\n",
       "      <td>4</td>\n",
       "      <td>1</td>\n",
       "    </tr>\n",
       "    <tr>\n",
       "      <th>2</th>\n",
       "      <td>232979603</td>\n",
       "      <td>1</td>\n",
       "      <td>1</td>\n",
       "    </tr>\n",
       "    <tr>\n",
       "      <th>3</th>\n",
       "      <td>237748145</td>\n",
       "      <td>4</td>\n",
       "      <td>1</td>\n",
       "    </tr>\n",
       "    <tr>\n",
       "      <th>4</th>\n",
       "      <td>276558944</td>\n",
       "      <td>1</td>\n",
       "      <td>1</td>\n",
       "    </tr>\n",
       "  </tbody>\n",
       "</table>\n",
       "</div>"
      ],
      "text/plain": [
       "   visitorId  orders_x  orders_y\n",
       "0    8300375         1         1\n",
       "1  199603092         4         1\n",
       "2  232979603         1         1\n",
       "3  237748145         4         1\n",
       "4  276558944         1         1"
      ]
     },
     "metadata": {},
     "output_type": "display_data"
    },
    {
     "data": {
      "text/plain": [
       "58"
      ]
     },
     "execution_count": 14,
     "metadata": {},
     "output_type": "execute_result"
    }
   ],
   "source": [
    "ordersByUsersAB=ordersByUsersA.merge(ordersByUsersB,left_on='visitorId',right_on='visitorId')\n",
    "display(ordersByUsersAB.head())\n",
    "ordersByUsersAB.shape[0]"
   ]
  },
  {
   "cell_type": "code",
   "execution_count": 15,
   "metadata": {},
   "outputs": [
    {
     "data": {
      "text/html": [
       "<div>\n",
       "<style scoped>\n",
       "    .dataframe tbody tr th:only-of-type {\n",
       "        vertical-align: middle;\n",
       "    }\n",
       "\n",
       "    .dataframe tbody tr th {\n",
       "        vertical-align: top;\n",
       "    }\n",
       "\n",
       "    .dataframe thead th {\n",
       "        text-align: right;\n",
       "    }\n",
       "</style>\n",
       "<table border=\"1\" class=\"dataframe\">\n",
       "  <thead>\n",
       "    <tr style=\"text-align: right;\">\n",
       "      <th></th>\n",
       "      <th>transactionId</th>\n",
       "      <th>visitorId</th>\n",
       "      <th>date</th>\n",
       "      <th>revenue</th>\n",
       "      <th>group</th>\n",
       "    </tr>\n",
       "  </thead>\n",
       "  <tbody>\n",
       "    <tr>\n",
       "      <th>58</th>\n",
       "      <td>2145193898</td>\n",
       "      <td>1221478247</td>\n",
       "      <td>2019-08-16</td>\n",
       "      <td>25.2</td>\n",
       "      <td>B</td>\n",
       "    </tr>\n",
       "    <tr>\n",
       "      <th>59</th>\n",
       "      <td>2787983461</td>\n",
       "      <td>2115666868</td>\n",
       "      <td>2019-08-16</td>\n",
       "      <td>125.9</td>\n",
       "      <td>B</td>\n",
       "    </tr>\n",
       "    <tr>\n",
       "      <th>60</th>\n",
       "      <td>1421016313</td>\n",
       "      <td>4256040402</td>\n",
       "      <td>2019-08-16</td>\n",
       "      <td>875.5</td>\n",
       "      <td>B</td>\n",
       "    </tr>\n",
       "    <tr>\n",
       "      <th>61</th>\n",
       "      <td>1251767592</td>\n",
       "      <td>2712142231</td>\n",
       "      <td>2019-08-16</td>\n",
       "      <td>15.2</td>\n",
       "      <td>B</td>\n",
       "    </tr>\n",
       "    <tr>\n",
       "      <th>62</th>\n",
       "      <td>1286673508</td>\n",
       "      <td>567175747</td>\n",
       "      <td>2019-08-16</td>\n",
       "      <td>10.2</td>\n",
       "      <td>B</td>\n",
       "    </tr>\n",
       "  </tbody>\n",
       "</table>\n",
       "</div>"
      ],
      "text/plain": [
       "    transactionId   visitorId       date  revenue group\n",
       "58     2145193898  1221478247 2019-08-16     25.2     B\n",
       "59     2787983461  2115666868 2019-08-16    125.9     B\n",
       "60     1421016313  4256040402 2019-08-16    875.5     B\n",
       "61     1251767592  2712142231 2019-08-16     15.2     B\n",
       "62     1286673508   567175747 2019-08-16     10.2     B"
      ]
     },
     "execution_count": 15,
     "metadata": {},
     "output_type": "execute_result"
    }
   ],
   "source": [
    "indices = ordersByUsersAB.visitorId.index\n",
    "\n",
    "orders.drop(indices, inplace = True)\n",
    "orders.head()"
   ]
  },
  {
   "cell_type": "markdown",
   "metadata": {},
   "source": [
    "<div class=\"alert alert-success\" role=\"alert\">\n",
    "Reviewer's comment v. 1:\n",
    "    \n",
    "It's great that you checked data for users belonging to both groups. You are right, it will be better to remove these users.\n",
    "</div>"
   ]
  },
  {
   "cell_type": "code",
   "execution_count": 16,
   "metadata": {},
   "outputs": [
    {
     "data": {
      "text/plain": [
       "1139"
      ]
     },
     "execution_count": 16,
     "metadata": {},
     "output_type": "execute_result"
    }
   ],
   "source": [
    "orders.shape[0]"
   ]
  },
  {
   "cell_type": "markdown",
   "metadata": {},
   "source": [
    "<div class=\"alert alert-danger\" role=\"alert\">\n",
    "Reviewer's comment v. 1:\n",
    "    \n",
    "Could you please check are there any missing values?\n",
    "    \n",
    "Please note that it’s necessary to add a conclusion for each part of the project. \n",
    "</div>"
   ]
  },
  {
   "cell_type": "markdown",
   "metadata": {},
   "source": [
    "##### Missing values"
   ]
  },
  {
   "cell_type": "code",
   "execution_count": 17,
   "metadata": {},
   "outputs": [
    {
     "data": {
      "text/html": [
       "<div>\n",
       "<style scoped>\n",
       "    .dataframe tbody tr th:only-of-type {\n",
       "        vertical-align: middle;\n",
       "    }\n",
       "\n",
       "    .dataframe tbody tr th {\n",
       "        vertical-align: top;\n",
       "    }\n",
       "\n",
       "    .dataframe thead th {\n",
       "        text-align: right;\n",
       "    }\n",
       "</style>\n",
       "<table border=\"1\" class=\"dataframe\">\n",
       "  <thead>\n",
       "    <tr style=\"text-align: right;\">\n",
       "      <th></th>\n",
       "      <th>missing</th>\n",
       "      <th>total</th>\n",
       "      <th>percent</th>\n",
       "    </tr>\n",
       "  </thead>\n",
       "  <tbody>\n",
       "    <tr>\n",
       "      <th>transactionId</th>\n",
       "      <td>0</td>\n",
       "      <td>1139</td>\n",
       "      <td>0.0</td>\n",
       "    </tr>\n",
       "    <tr>\n",
       "      <th>visitorId</th>\n",
       "      <td>0</td>\n",
       "      <td>1139</td>\n",
       "      <td>0.0</td>\n",
       "    </tr>\n",
       "    <tr>\n",
       "      <th>date</th>\n",
       "      <td>0</td>\n",
       "      <td>1139</td>\n",
       "      <td>0.0</td>\n",
       "    </tr>\n",
       "    <tr>\n",
       "      <th>revenue</th>\n",
       "      <td>0</td>\n",
       "      <td>1139</td>\n",
       "      <td>0.0</td>\n",
       "    </tr>\n",
       "    <tr>\n",
       "      <th>group</th>\n",
       "      <td>0</td>\n",
       "      <td>1139</td>\n",
       "      <td>0.0</td>\n",
       "    </tr>\n",
       "  </tbody>\n",
       "</table>\n",
       "</div>"
      ],
      "text/plain": [
       "               missing  total  percent\n",
       "transactionId        0   1139      0.0\n",
       "visitorId            0   1139      0.0\n",
       "date                 0   1139      0.0\n",
       "revenue              0   1139      0.0\n",
       "group                0   1139      0.0"
      ]
     },
     "metadata": {},
     "output_type": "display_data"
    },
    {
     "data": {
      "text/html": [
       "<div>\n",
       "<style scoped>\n",
       "    .dataframe tbody tr th:only-of-type {\n",
       "        vertical-align: middle;\n",
       "    }\n",
       "\n",
       "    .dataframe tbody tr th {\n",
       "        vertical-align: top;\n",
       "    }\n",
       "\n",
       "    .dataframe thead th {\n",
       "        text-align: right;\n",
       "    }\n",
       "</style>\n",
       "<table border=\"1\" class=\"dataframe\">\n",
       "  <thead>\n",
       "    <tr style=\"text-align: right;\">\n",
       "      <th></th>\n",
       "      <th>missing</th>\n",
       "      <th>total</th>\n",
       "      <th>percent</th>\n",
       "    </tr>\n",
       "  </thead>\n",
       "  <tbody>\n",
       "    <tr>\n",
       "      <th>date</th>\n",
       "      <td>0</td>\n",
       "      <td>62</td>\n",
       "      <td>0.0</td>\n",
       "    </tr>\n",
       "    <tr>\n",
       "      <th>group</th>\n",
       "      <td>0</td>\n",
       "      <td>62</td>\n",
       "      <td>0.0</td>\n",
       "    </tr>\n",
       "    <tr>\n",
       "      <th>visits</th>\n",
       "      <td>0</td>\n",
       "      <td>62</td>\n",
       "      <td>0.0</td>\n",
       "    </tr>\n",
       "  </tbody>\n",
       "</table>\n",
       "</div>"
      ],
      "text/plain": [
       "        missing  total  percent\n",
       "date          0     62      0.0\n",
       "group         0     62      0.0\n",
       "visits        0     62      0.0"
      ]
     },
     "execution_count": 17,
     "metadata": {},
     "output_type": "execute_result"
    }
   ],
   "source": [
    "display(orders.stb.missing())\n",
    "visits.stb.missing()"
   ]
  },
  {
   "cell_type": "markdown",
   "metadata": {},
   "source": [
    "<div class=\"alert alert-success\" role=\"alert\">\n",
    "Reviewer's comment v. 2:\n",
    "    \n",
    "Well done that you analysed a missing values.\n",
    "</div>"
   ]
  },
  {
   "cell_type": "markdown",
   "metadata": {},
   "source": [
    "##### Conclusion"
   ]
  },
  {
   "cell_type": "markdown",
   "metadata": {},
   "source": [
    "We saw in this section:\n",
    "* There are 2 tables: *orders* and *visits*.\n",
    "* There are no duplicates.\n",
    "* There are no missing values.\n",
    "* We deleted the visitors who were in both groups."
   ]
  },
  {
   "cell_type": "markdown",
   "metadata": {},
   "source": [
    "<div class=\"alert alert-success\" role=\"alert\">\n",
    "Reviewer's comment v. 2:\n",
    "    \n",
    "Good job that you clearly described data.\n",
    "</div>"
   ]
  },
  {
   "cell_type": "markdown",
   "metadata": {},
   "source": [
    "# Part 2. A/B Test Analysis\n",
    "\n",
    "You carried out an A/B test and got the results described in the files `orders_us.csv` and `visits_us.csv`."
   ]
  },
  {
   "cell_type": "markdown",
   "metadata": {},
   "source": [
    "**Task**\n",
    "\n",
    "Analyze the A/B test:\n",
    "\n",
    "#### Graph cumulative revenue by group. Make conclusions and conjectures."
   ]
  },
  {
   "cell_type": "markdown",
   "metadata": {},
   "source": [
    "<div class=\"alert alert-warning\" role=\"alert\">\n",
    "Reviewer's comment v. 1:\n",
    "    \n",
    "Please note that you it's possible to avoid warnings (if necessary) by using the code below.\n",
    "</div>"
   ]
  },
  {
   "cell_type": "markdown",
   "metadata": {},
   "source": [
    "Thanks :)"
   ]
  },
  {
   "cell_type": "code",
   "execution_count": 18,
   "metadata": {},
   "outputs": [],
   "source": [
    "import sys\n",
    "import warnings\n",
    "if not sys.warnoptions:\n",
    "       warnings.simplefilter(\"ignore\")"
   ]
  },
  {
   "cell_type": "code",
   "execution_count": 19,
   "metadata": {},
   "outputs": [
    {
     "data": {
      "image/png": "[encoded data removed]",
      "text/plain": [
       "<Figure size 1080x720 with 1 Axes>"
      ]
     },
     "metadata": {
      "needs_background": "light"
     },
     "output_type": "display_data"
    }
   ],
   "source": [
    "datesGroups = orders[['date', 'group']].drop_duplicates()\n",
    "\n",
    "ordersAggregated = datesGroups.apply(lambda x: orders[np.logical_and(orders['date'] \\\n",
    "                    <= x['date'], orders['group'] == x['group'])].agg({'date': 'max',\\\n",
    "                        'group': 'max','transactionId': pd.Series.nunique,\\\n",
    "                        'visitorId': pd.Series.nunique, 'revenue': 'sum',}),axis=1,)\\\n",
    "                        .sort_values(by=['date', 'group'])\n",
    "\n",
    "visitsAggregated = datesGroups.apply(lambda x: visits[np.logical_and(visits['date'] \\\n",
    "                <= x['date'], visits['group'] == x['group'])].agg({'date': 'max', \\\n",
    "                'group': 'max', 'visits': 'sum'}), axis=1,).sort_values(by=['date', 'group'])\n",
    "\n",
    "cumulativeData = ordersAggregated.merge(visitsAggregated, left_on=['date', 'group'], \\\n",
    "                 right_on=['date', 'group'])\n",
    "\n",
    "cumulativeData.columns = ['date','group','orders','buyers','revenue','visitors']\n",
    "\n",
    "\n",
    "cumulativeRevenueA = cumulativeData[cumulativeData['group']=='A'][['date','revenue', 'orders']]\n",
    "\n",
    "cumulativeRevenueB = cumulativeData[cumulativeData['group']=='B'][['date','revenue', 'orders']]\n",
    "\n",
    "plt.figure(figsize=(15,10))\n",
    "\n",
    "plt.plot(cumulativeRevenueA['date'], cumulativeRevenueA['revenue'], label='A')\n",
    "\n",
    "plt.plot(cumulativeRevenueB['date'], cumulativeRevenueB['revenue'], label='B')\n",
    "\n",
    "plt.xticks(rotation = 90)\n",
    "plt.xlabel('Date')\n",
    "plt.ylabel('Revenue')\n",
    "plt.title('Cumulative revenue by group')\n",
    "plt.legend()\n",
    "plt.show()"
   ]
  },
  {
   "cell_type": "markdown",
   "metadata": {},
   "source": [
    "It looks like group B does better in terms of cumulative revenue. It's possible that we have ouliers in our data. This can explain the increase that we see."
   ]
  },
  {
   "cell_type": "markdown",
   "metadata": {},
   "source": [
    "<div class=\"alert alert-danger\" role=\"alert\">\n",
    "Reviewer's comment v. 1:\n",
    "    \n",
    "During 17-18 of August we have increase of cumulative revenue for group B. Could you please explain it? (What is the possible reason of it)?\n",
    "</div>"
   ]
  },
  {
   "cell_type": "markdown",
   "metadata": {},
   "source": [
    "<div class=\"alert alert-success\" role=\"alert\">\n",
    "Reviewer's comment v. 2:\n",
    "    \n",
    "Yes, the spike can be due to large orders.\n",
    "</div>"
   ]
  },
  {
   "cell_type": "markdown",
   "metadata": {},
   "source": [
    "#### Graph cumulative average order size by group. Make conclusions and conjectures."
   ]
  },
  {
   "cell_type": "code",
   "execution_count": 20,
   "metadata": {
    "scrolled": false
   },
   "outputs": [
    {
     "data": {
      "image/png": "[encoded data removed]",
      "text/plain": [
       "<Figure size 1080x720 with 1 Axes>"
      ]
     },
     "metadata": {
      "needs_background": "light"
     },
     "output_type": "display_data"
    }
   ],
   "source": [
    "plt.figure(figsize=(15,10))\n",
    "\n",
    "plt.plot(cumulativeRevenueA['date'], cumulativeRevenueA['revenue']/cumulativeRevenueA['orders'], label='A')\n",
    "plt.plot(cumulativeRevenueB['date'], cumulativeRevenueB['revenue']/cumulativeRevenueB['orders'], label='B')\n",
    "plt.legend()\n",
    "\n",
    "plt.xticks(rotation = 90)\n",
    "plt.xlabel('Date')\n",
    "plt.ylabel('Average order size')\n",
    "plt.title('Cumulative average order size by group')\n",
    "plt.show()"
   ]
  },
  {
   "cell_type": "markdown",
   "metadata": {},
   "source": [
    "It looks like group B does better in terms of cumulative average order size."
   ]
  },
  {
   "cell_type": "markdown",
   "metadata": {},
   "source": [
    "<div class=\"alert alert-success\" role=\"alert\">\n",
    "Reviewer's comment v. 1:\n",
    "    \n",
    "Yes, you are right, it looks like group B does better in terms of cumulative average order size.\n",
    "</div>"
   ]
  },
  {
   "cell_type": "markdown",
   "metadata": {},
   "source": [
    "#### Graph the relative difference in cumulative average order size for group B compared with group A. Make conclusions and conjectures."
   ]
  },
  {
   "cell_type": "code",
   "execution_count": 21,
   "metadata": {},
   "outputs": [
    {
     "data": {
      "image/png": "[encoded data removed]",
      "text/plain": [
       "<Figure size 1080x720 with 1 Axes>"
      ]
     },
     "metadata": {
      "needs_background": "light"
     },
     "output_type": "display_data"
    }
   ],
   "source": [
    "mergedCumulativeRevenue = cumulativeRevenueA.merge(cumulativeRevenueB, \\\n",
    "                        left_on='date', right_on='date', how='left', suffixes=['A', 'B'])\n",
    "\n",
    "plt.figure(figsize=(15,10))\n",
    "\n",
    "plt.plot(mergedCumulativeRevenue['date'], (mergedCumulativeRevenue['revenueB']/\\\n",
    "        mergedCumulativeRevenue['ordersB'])/(mergedCumulativeRevenue['revenueA']/\\\n",
    "        mergedCumulativeRevenue['ordersA'])-1)\n",
    "\n",
    "plt.axhline(y=0, color='black', linestyle='--')\n",
    "\n",
    "plt.xticks(rotation = 90)\n",
    "plt.xlabel('Date')\n",
    "plt.ylabel('Relative difference')\n",
    "plt.title('Relative difference in cumulative average order size by date')\n",
    "plt.show()"
   ]
  },
  {
   "cell_type": "markdown",
   "metadata": {},
   "source": [
    "It looks like group B does better in terms of cumulative average order size compared with group A."
   ]
  },
  {
   "cell_type": "markdown",
   "metadata": {},
   "source": [
    "<div class=\"alert alert-success\" role=\"alert\">\n",
    "Reviewer's comment v. 1:\n",
    "    \n",
    "Also we can not ethat we have an outliers in data.\n",
    "</div>"
   ]
  },
  {
   "cell_type": "markdown",
   "metadata": {},
   "source": [
    "#### Calculate each group's conversion rate as the ratio of orders to the number of visits for each day. Plot the daily conversion rates of the two groups and describe the difference. Draw conclusions and make conjectures."
   ]
  },
  {
   "cell_type": "code",
   "execution_count": 22,
   "metadata": {},
   "outputs": [
    {
     "data": {
      "image/png": "[encoded data removed]",
      "text/plain": [
       "<Figure size 1080x720 with 1 Axes>"
      ]
     },
     "metadata": {
      "needs_background": "light"
     },
     "output_type": "display_data"
    }
   ],
   "source": [
    "cumulativeData['conversion'] = cumulativeData['orders']/cumulativeData['visitors']\n",
    "\n",
    "cumulativeDataA = cumulativeData[cumulativeData['group']=='A']\n",
    "\n",
    "cumulativeDataB = cumulativeData[cumulativeData['group']=='B']\n",
    "\n",
    "plt.figure(figsize=(15,10))\n",
    "\n",
    "plt.plot(cumulativeDataA['date'], cumulativeDataA['conversion'], label='A')\n",
    "plt.plot(cumulativeDataB['date'], cumulativeDataB['conversion'], label='B')\n",
    "plt.legend()\n",
    "\n",
    "plt.xticks(rotation = 90)\n",
    "plt.xlabel('Date')\n",
    "plt.ylabel('Conversion rate')\n",
    "plt.title('Daily conversion rate by group')\n",
    "plt.show()\n"
   ]
  },
  {
   "cell_type": "markdown",
   "metadata": {},
   "source": [
    "It looks like group B does better in terms of daily conversion rate."
   ]
  },
  {
   "cell_type": "markdown",
   "metadata": {},
   "source": [
    "<div class=\"alert alert-success\" role=\"alert\">\n",
    "Reviewer's comment v. 1:\n",
    "    \n",
    "We have a fluctuations, but it oscillates around the same values. So, we can conclude that the conversion rate is stabilized by the end of the test.\n",
    "</div>"
   ]
  },
  {
   "cell_type": "markdown",
   "metadata": {},
   "source": [
    "#### Plot a scatter chart of the number of orders per user. Make conclusions and conjectures."
   ]
  },
  {
   "cell_type": "code",
   "execution_count": 23,
   "metadata": {},
   "outputs": [
    {
     "data": {
      "image/png": "[encoded data removed]",
      "text/plain": [
       "<Figure size 1080x720 with 1 Axes>"
      ]
     },
     "metadata": {
      "needs_background": "light"
     },
     "output_type": "display_data"
    }
   ],
   "source": [
    "ordersByUsers = (orders.drop(['group', 'revenue', 'date'], axis=1).groupby('visitorId', as_index=False)\n",
    "                .agg({'transactionId': pd.Series.nunique}))\n",
    "\n",
    "ordersByUsers.columns = ['visitorId', 'orders']\n",
    "\n",
    "x_values = pd.Series(range(0,len(ordersByUsers)))\n",
    "\n",
    "plt.figure(figsize=(15,10))\n",
    "\n",
    "plt.scatter(x_values, ordersByUsers['orders']) \n",
    "\n",
    "plt.xlabel('User')\n",
    "plt.ylabel('Number of orders')\n",
    "plt.title('Number of orders per user')\n",
    "plt.yticks(np.arange(0, ordersByUsers.orders.max() + 1, 1)) \n",
    "plt.show()"
   ]
  },
  {
   "cell_type": "markdown",
   "metadata": {},
   "source": [
    "We can see that most of the users have 1,2 or 3 orders, but we also have ouliers of 7,8 and even 11(!) orders."
   ]
  },
  {
   "cell_type": "markdown",
   "metadata": {},
   "source": [
    "<div class=\"alert alert-success\" role=\"alert\">\n",
    "Reviewer's comment v. 1:\n",
    "    \n",
    "Ok :)\n",
    "</div>"
   ]
  },
  {
   "cell_type": "markdown",
   "metadata": {},
   "source": [
    "#### Calculate the 95th and 99th percentiles for the number of orders per user. Define the point at which a data point becomes an anomaly."
   ]
  },
  {
   "cell_type": "code",
   "execution_count": 24,
   "metadata": {},
   "outputs": [
    {
     "data": {
      "text/plain": [
       "array([1., 2., 4.])"
      ]
     },
     "execution_count": 24,
     "metadata": {},
     "output_type": "execute_result"
    }
   ],
   "source": [
    "ordersByUsers.sort_values(by='orders', ascending=False).head(10)\n",
    "\n",
    "np.percentile(ordersByUsers['orders'], [90, 95, 99])"
   ]
  },
  {
   "cell_type": "markdown",
   "metadata": {},
   "source": [
    "Data points above 2 are anomalies (above 95th percentiles)."
   ]
  },
  {
   "cell_type": "markdown",
   "metadata": {},
   "source": [
    "<div class=\"alert alert-success\" role=\"alert\">\n",
    "Reviewer's comment v. 1:\n",
    "    \n",
    "It's great that you calulated more percentiles than specified in the task.\n",
    "    \n",
    "Yes, the anomaly point in number of transactions per user is correctly defined.\n",
    "</div>"
   ]
  },
  {
   "cell_type": "markdown",
   "metadata": {},
   "source": [
    "#### Plot a scatter chart of order prices. Make conclusions and conjectures."
   ]
  },
  {
   "cell_type": "code",
   "execution_count": 25,
   "metadata": {},
   "outputs": [
    {
     "data": {
      "image/png": "[encoded data removed]",
      "text/plain": [
       "<Figure size 1080x720 with 1 Axes>"
      ]
     },
     "metadata": {
      "needs_background": "light"
     },
     "output_type": "display_data"
    }
   ],
   "source": [
    "x_values = pd.Series(range(0,len(orders['revenue'])))\n",
    "\n",
    "plt.figure(figsize=(15,10))\n",
    "\n",
    "plt.scatter(x_values, orders['revenue']) \n",
    "\n",
    "plt.xlabel('Order')\n",
    "plt.ylabel('Revenue')\n",
    "plt.title('Order prices')\n",
    "plt.yticks(np.arange(0, orders.revenue.max() + 1000, 1000)) \n",
    "plt.show()"
   ]
  },
  {
   "cell_type": "markdown",
   "metadata": {},
   "source": [
    "We can see that most of the order prices are below 1000."
   ]
  },
  {
   "cell_type": "markdown",
   "metadata": {},
   "source": [
    "<div class=\"alert alert-success\" role=\"alert\">\n",
    "Reviewer's comment v. 1:\n",
    "    \n",
    "👍👍👍\n",
    "</div>"
   ]
  },
  {
   "cell_type": "markdown",
   "metadata": {},
   "source": [
    "#### Calculate the 95th and 99th percentiles of order prices. Define the point at which a data point becomes an anomaly."
   ]
  },
  {
   "cell_type": "code",
   "execution_count": 26,
   "metadata": {},
   "outputs": [
    {
     "data": {
      "text/plain": [
       "array([285.3  , 440.8  , 903.862])"
      ]
     },
     "execution_count": 26,
     "metadata": {},
     "output_type": "execute_result"
    }
   ],
   "source": [
    "np.percentile(orders.revenue, [90, 95, 99])"
   ]
  },
  {
   "cell_type": "markdown",
   "metadata": {},
   "source": [
    "Order prices above 440 are anomalies (above 95th percentiles)."
   ]
  },
  {
   "cell_type": "markdown",
   "metadata": {},
   "source": [
    "<div class=\"alert alert-success\" role=\"alert\">\n",
    "Reviewer's comment v. 1:\n",
    "    \n",
    "Yes, correct values of percentiles of order prices. Well done that you clearly defined the point at which a data point becomes an anomaly.\n",
    "</div>"
   ]
  },
  {
   "cell_type": "markdown",
   "metadata": {},
   "source": [
    "#### Find the statistical significance of the difference in conversion between the groups using the raw data. Make conclusions and conjectures."
   ]
  },
  {
   "cell_type": "markdown",
   "metadata": {},
   "source": [
    "<div class=\"alert alert-danger\" role=\"alert\">\n",
    "Reviewer's comment v. 1:\n",
    "    \n",
    "Please formulate the null and alternative hypotheses explicitly.\n",
    "</div>"
   ]
  },
  {
   "cell_type": "markdown",
   "metadata": {},
   "source": [
    "H0: There is no significant difference between group A and B in terms of conversion rate.\n",
    "\n",
    "H1: There is significant difference between group A and B in terms of conversion rate."
   ]
  },
  {
   "cell_type": "markdown",
   "metadata": {},
   "source": [
    "<div class=\"alert alert-success\" role=\"alert\">\n",
    "Reviewer's comment v. 2:\n",
    "    \n",
    "It's great that you formulated the null and alternative hypotheses explicitly.\n",
    "</div>"
   ]
  },
  {
   "cell_type": "code",
   "execution_count": 27,
   "metadata": {},
   "outputs": [
    {
     "name": "stdout",
     "output_type": "stream",
     "text": [
      "0.02352\n",
      "0.118\n"
     ]
    }
   ],
   "source": [
    "ordersByUsersA = orders[orders['group']=='A'].groupby('visitorId', as_index=False).agg({'transactionId' : pd.Series.nunique})\n",
    "ordersByUsersA.columns = ['visitorId', 'orders']\n",
    "\n",
    "ordersByUsersB = orders[orders['group']=='B'].groupby('visitorId', as_index=False).agg({'transactionId' : pd.Series.nunique})\n",
    "ordersByUsersB.columns = ['visitorId', 'orders']\n",
    "\n",
    "sampleA = pd.concat([ordersByUsersA['orders'],pd.Series(0, index=np.arange(visits[visits['group']=='A']['visits'].sum() - len(ordersByUsersA['orders'])), name='orders')],axis=0)\n",
    "\n",
    "sampleB = pd.concat([ordersByUsersB['orders'],pd.Series(0, index=np.arange(visits[visits['group']=='B']['visits'].sum() - len(ordersByUsersB['orders'])), name='orders')],axis=0)\n",
    "\n",
    "print(\"{0:.5f}\".format(stats.mannwhitneyu(sampleA, sampleB)[1]))\n",
    "\n",
    "print(\"{0:.3f}\".format(sampleB.mean()/sampleA.mean()-1))"
   ]
  },
  {
   "cell_type": "markdown",
   "metadata": {},
   "source": [
    "The p-value is considerably lower than 0.05, so we reject the null hypothesis. The raw data analysis showed that the groups' conversion rates have statistically significant differences. The relative conversion gain for group B compared with group A is 11.8%. "
   ]
  },
  {
   "cell_type": "markdown",
   "metadata": {},
   "source": [
    "<div class=\"alert alert-success\" role=\"alert\">\n",
    "Reviewer's comment v. 1:\n",
    "    \n",
    "Yes, there is a statistical significant difference in conversion rates.\n",
    "</div>"
   ]
  },
  {
   "cell_type": "markdown",
   "metadata": {},
   "source": [
    "#### Find the statistical significance of the difference in average order size between the groups using the raw data. Make conclusions and conjectures."
   ]
  },
  {
   "cell_type": "markdown",
   "metadata": {},
   "source": [
    "<div class=\"alert alert-danger\" role=\"alert\">\n",
    "Reviewer's comment v. 1:\n",
    "    \n",
    "Please formulate hypotheses clearly.\n",
    "</div>"
   ]
  },
  {
   "cell_type": "markdown",
   "metadata": {},
   "source": [
    "H0: There is no significant difference between group A and B in terms of average order size.\n",
    "\n",
    "H1: There is significant difference between group A and B in terms of average order size."
   ]
  },
  {
   "cell_type": "markdown",
   "metadata": {},
   "source": [
    "<div class=\"alert alert-success\" role=\"alert\">\n",
    "Reviewer's comment v. 2:\n",
    "    \n",
    "Ok :)\n",
    "</div>"
   ]
  },
  {
   "cell_type": "code",
   "execution_count": 28,
   "metadata": {},
   "outputs": [
    {
     "name": "stdout",
     "output_type": "stream",
     "text": [
      "0.332\n",
      "0.269\n"
     ]
    }
   ],
   "source": [
    "print('{0:.3f}'.format(stats.mannwhitneyu(orders[orders['group']=='A']['revenue'], orders[orders['group']=='B']['revenue'])[1]))\n",
    "print('{0:.3f}'.format(orders[orders['group']=='B']['revenue'].mean()/orders[orders['group']=='A']['revenue'].mean()-1))"
   ]
  },
  {
   "cell_type": "markdown",
   "metadata": {},
   "source": [
    "The p-value is greater than 0.05, so there are no statistically significant differences between the groups' average order sizes. The relative difference is 26.9%.  "
   ]
  },
  {
   "cell_type": "markdown",
   "metadata": {},
   "source": [
    "<div class=\"alert alert-success\" role=\"alert\">\n",
    "Reviewer's comment v. 1:\n",
    "    \n",
    "Yes, there is no statistically significant difference in the average order size.\n",
    "</div>"
   ]
  },
  {
   "cell_type": "markdown",
   "metadata": {},
   "source": [
    "#### Find the statistical significance of the difference in conversion between the groups using the filtered data. Make conclusions and conjectures."
   ]
  },
  {
   "cell_type": "markdown",
   "metadata": {},
   "source": [
    "<div class=\"alert alert-danger\" role=\"alert\">\n",
    "Reviewer's comment v. 1:\n",
    "    \n",
    "Could you please add hypotheses formulation?\n",
    "</div>"
   ]
  },
  {
   "cell_type": "markdown",
   "metadata": {},
   "source": [
    "H0: There is no significant difference between group A and B in terms of conversion rate.\n",
    "\n",
    "H1: There is significant difference between group A and B in terms of conversion rate."
   ]
  },
  {
   "cell_type": "markdown",
   "metadata": {},
   "source": [
    "<div class=\"alert alert-success\" role=\"alert\">\n",
    "Reviewer's comment v. 2:\n",
    "    \n",
    "Hypotheses formulation is correct :)\n",
    "</div>"
   ]
  },
  {
   "cell_type": "code",
   "execution_count": 29,
   "metadata": {},
   "outputs": [
    {
     "name": "stdout",
     "output_type": "stream",
     "text": [
      "0.01973\n",
      "0.149\n"
     ]
    }
   ],
   "source": [
    "usersWithManyOrders = pd.concat([ordersByUsersA[ordersByUsersA['orders'] > 2]['visitorId'],\n",
    "                      ordersByUsersB[ordersByUsersB['orders'] > 2]['visitorId']], axis=0)\n",
    "\n",
    "usersWithExpensiveOrders = orders[orders['revenue'] > 440]['visitorId']\n",
    "\n",
    "abnormalUsers = (pd.concat([usersWithManyOrders, usersWithExpensiveOrders], axis=0).drop_duplicates()\n",
    "                .sort_values())\n",
    "\n",
    "sampleAFiltered = pd.concat([ordersByUsersA[np.logical_not(ordersByUsersA['visitorId'].isin(abnormalUsers))]['orders'],pd.Series(0, index=np.arange(visits[visits['group']=='A']['visits'].sum() - len(ordersByUsersA['orders'])),name='orders')],axis=0)\n",
    "sampleBFiltered = pd.concat([ordersByUsersB[np.logical_not(ordersByUsersB['visitorId'].isin(abnormalUsers))]['orders'],pd.Series(0, index=np.arange(visits[visits['group']=='B']['visits'].sum() - len(ordersByUsersB['orders'])),name='orders')],axis=0)\n",
    "\n",
    "print(\"{0:.5f}\".format(stats.mannwhitneyu(sampleAFiltered, sampleBFiltered)[1]))\n",
    "print(\"{0:.3f}\".format(sampleBFiltered.mean()/sampleAFiltered.mean()-1))"
   ]
  },
  {
   "cell_type": "markdown",
   "metadata": {},
   "source": [
    "The p-value is considerably lower than 0.05, so we reject the null hypothesis. The raw data analysis showed that the groups' conversion rates have statistically significant differences. The relative conversion gain for group B compared with group A is 14.9%."
   ]
  },
  {
   "cell_type": "markdown",
   "metadata": {},
   "source": [
    "<div class=\"alert alert-success\" role=\"alert\">\n",
    "Reviewer's comment v. 1:\n",
    "    \n",
    "You are right, there is a statistical significant difference in conversion rates between groups.\n",
    "</div>"
   ]
  },
  {
   "cell_type": "markdown",
   "metadata": {},
   "source": [
    "#### Find the statistical significance of the difference in average order size between the groups using the filtered data. Make conclusions and conjectures."
   ]
  },
  {
   "cell_type": "markdown",
   "metadata": {},
   "source": [
    "<div class=\"alert alert-danger\" role=\"alert\">\n",
    "Reviewer's comment v. 1:\n",
    "    \n",
    "Could you please formulate the null and alternative hypotheses explicitly?\n",
    "</div>"
   ]
  },
  {
   "cell_type": "markdown",
   "metadata": {},
   "source": [
    "H0: There is no significant difference between group A and B in terms of average order size.\n",
    "\n",
    "H1: There is significant difference between group A and B in terms of average order size."
   ]
  },
  {
   "cell_type": "markdown",
   "metadata": {},
   "source": [
    "<div class=\"alert alert-success\" role=\"alert\">\n",
    "Reviewer's comment v. 2:\n",
    "    \n",
    "Yes, hypotheses formulation is correct :)\n",
    "</div>"
   ]
  },
  {
   "cell_type": "markdown",
   "metadata": {},
   "source": [
    "<div class=\"alert alert-success\" role=\"alert\">\n",
    "Reviewer's comment v. 1:\n",
    "    \n",
    "Well done that you have removed an anomaly users. But please describe conditions for filtering these users.\n",
    "</div>"
   ]
  },
  {
   "cell_type": "code",
   "execution_count": 30,
   "metadata": {},
   "outputs": [
    {
     "name": "stdout",
     "output_type": "stream",
     "text": [
      "0.449\n",
      "-0.013\n"
     ]
    }
   ],
   "source": [
    "print('{0:.3f}'.format(stats.mannwhitneyu(orders[np.logical_and(orders['group']=='A',\n",
    "        np.logical_not(orders['visitorId'].isin(abnormalUsers)))]['revenue'],orders[np.logical_and(\n",
    "        orders['group']=='B',np.logical_not(orders['visitorId'].isin(abnormalUsers)))]['revenue'])[1]))\n",
    "\n",
    "print('{0:.3f}'.format(orders[np.logical_and(orders['group']=='B',\n",
    "    np.logical_not(orders['visitorId'].isin(abnormalUsers)))]['revenue'].mean()/\n",
    "    orders[np.logical_and(orders['group']=='A', np.logical_not(orders['visitorId']\n",
    "    .isin(abnormalUsers)))]['revenue'].mean() - 1))"
   ]
  },
  {
   "cell_type": "markdown",
   "metadata": {},
   "source": [
    "The p-value is greater than 0.05, so there are no statistically significant differences between the groups' average order sizes. The relative difference is -1.3%. "
   ]
  },
  {
   "cell_type": "markdown",
   "metadata": {},
   "source": [
    "<div class=\"alert alert-success\" role=\"alert\">\n",
    "Reviewer's comment v. 1:\n",
    "    \n",
    "Yes, you are right, anomaly users don't have influence on the test results.\n",
    "</div>"
   ]
  },
  {
   "cell_type": "markdown",
   "metadata": {},
   "source": [
    "<div class=\"alert alert-success\" role=\"alert\">\n",
    "Reviewer's comment v. 1:\n",
    "    \n",
    "Maybe this link will be interesting for you: https://machinelearningmastery.com/statistical-hypothesis-tests/, https://www.isdscotland.org/About-ISD/Methodologies/_docs/Hypothesis-Testing-v0-4-2018-11-27.pdf \n",
    "</div>"
   ]
  },
  {
   "cell_type": "markdown",
   "metadata": {},
   "source": [
    "#### Make a decision based on the test results. The possible decisions are: 1. Stop the test, consider one of the groups the leader. 2. Stop the test, conclude that there is no difference between the groups. 3. Continue the test."
   ]
  },
  {
   "cell_type": "markdown",
   "metadata": {},
   "source": [
    "In this section, we:\n",
    "* checked the data for missing values or duplicates (no missing values or duplicates were found).\n",
    "* found and dropped the rows of visitors who were in both groups.\n",
    "* plotted graphs of: \n",
    "** cumulative revenue by group (group B does better).\n",
    "** cumulative average order size by group (group B does better).\n",
    "** relative difference in cumulative average order size between the groups (group B does better). \n",
    "** conversion rate by group (group B does better). \n",
    "** scatter chart of the number of orders per user (most of the users have 1-2 orders, but we also have outliers). \n",
    "** scatter chart of order prices (most of the order prices are below 1000).\n",
    "* Calculated the 95th and 99th percentiles for the number of orders per user (above 2 orders per users are anomalies).\n",
    ". Calculated the 95th and 99th percentiles of order prices (order prices above 440 are anomalies).\n",
    "* checked for statistical significance of the difference in conversion between the groups using the raw data (there is a statistical significant difference in conversion rates).\n",
    "* checked for statistical significance of the difference in average order size between the groups using the raw data (there is no statistically significant difference in the average order size).\n",
    "* checked for statistical significance of the difference in conversion between the groups using the filtered data (there is a statistical significant difference in conversion rates between groups).\n",
    "* checked for statistical significance of the difference in average order size between the groups using the filtered data (there are no statistically significant differences between the groups' average order sizes).\n",
    "\n",
    "**As we showed above, group B dis better in terms of conversion rate (both with raw and filtered data). For this reason, I would recommend to stop the test and consider group B as the leader.**"
   ]
  },
  {
   "cell_type": "markdown",
   "metadata": {},
   "source": [
    "<div class=\"alert alert-danger\" role=\"alert\">\n",
    "Reviewer's comment v. 1:\n",
    "    \n",
    "Could you please describe all main results of the project (data preparation, anomalies, main findings and so on)?\n",
    "    \n",
    "The conclusion is intended to help the reader understand why your research should matter to them after they have finished reading the paper. A conclusion is not merely a summary of your points or a re-statement of your research problem but a synthesis of key points. \n",
    "</div>"
   ]
  },
  {
   "cell_type": "markdown",
   "metadata": {},
   "source": [
    "<div class=\"alert alert-success\" role=\"alert\">\n",
    "Reviewer's comment v. 2:\n",
    "    \n",
    "An excellent conclusion :) Yes, you are right, we can make a decision that group B is a leader.\n",
    "</div>"
   ]
  },
  {
   "cell_type": "code",
   "execution_count": null,
   "metadata": {},
   "outputs": [],
   "source": []
  }
 ],
 "metadata": {
  "ExecuteTimeLog": [
   {
    "duration": 231,
    "start_time": "2021-08-12T16:02:35.233Z"
   },
   {
    "duration": 542,
    "start_time": "2021-08-12T16:02:57.551Z"
   },
   {
    "duration": 27,
    "start_time": "2021-08-12T16:02:58.095Z"
   },
   {
    "duration": 20,
    "start_time": "2021-08-12T16:03:12.012Z"
   },
   {
    "duration": 22,
    "start_time": "2021-08-12T16:03:17.895Z"
   },
   {
    "duration": 761,
    "start_time": "2021-08-14T11:26:46.148Z"
   },
   {
    "duration": 37,
    "start_time": "2021-08-14T11:26:46.912Z"
   },
   {
    "duration": 44,
    "start_time": "2021-08-14T11:26:46.952Z"
   },
   {
    "duration": 18,
    "start_time": "2021-08-14T11:26:46.998Z"
   },
   {
    "duration": 4,
    "start_time": "2021-08-14T11:27:04.159Z"
   },
   {
    "duration": 26,
    "start_time": "2021-08-14T11:27:04.173Z"
   },
   {
    "duration": 40,
    "start_time": "2021-08-14T11:27:04.202Z"
   },
   {
    "duration": 18,
    "start_time": "2021-08-14T11:27:04.277Z"
   },
   {
    "duration": 41,
    "start_time": "2021-08-14T11:27:13.859Z"
   },
   {
    "duration": 4,
    "start_time": "2021-08-14T11:27:40.698Z"
   },
   {
    "duration": 30,
    "start_time": "2021-08-14T11:27:40.717Z"
   },
   {
    "duration": 41,
    "start_time": "2021-08-14T11:27:40.750Z"
   },
   {
    "duration": 17,
    "start_time": "2021-08-14T11:27:40.835Z"
   },
   {
    "duration": 38,
    "start_time": "2021-08-14T11:27:47.740Z"
   },
   {
    "duration": 18,
    "start_time": "2021-08-14T11:27:49.319Z"
   },
   {
    "duration": 770,
    "start_time": "2021-08-14T11:27:58.821Z"
   },
   {
    "duration": 37,
    "start_time": "2021-08-14T11:27:59.594Z"
   },
   {
    "duration": 39,
    "start_time": "2021-08-14T11:27:59.634Z"
   },
   {
    "duration": 18,
    "start_time": "2021-08-14T11:27:59.676Z"
   },
   {
    "duration": 39,
    "start_time": "2021-08-14T11:28:08.545Z"
   },
   {
    "duration": 26,
    "start_time": "2021-08-14T11:28:10.321Z"
   },
   {
    "duration": 39,
    "start_time": "2021-08-14T11:28:14.314Z"
   },
   {
    "duration": 20,
    "start_time": "2021-08-14T11:28:15.571Z"
   },
   {
    "duration": 46,
    "start_time": "2021-08-14T11:28:30.963Z"
   },
   {
    "duration": 25,
    "start_time": "2021-08-14T11:28:41.997Z"
   },
   {
    "duration": 26,
    "start_time": "2021-08-14T11:36:03.823Z"
   },
   {
    "duration": 51,
    "start_time": "2021-08-14T11:36:11.680Z"
   },
   {
    "duration": 46,
    "start_time": "2021-08-14T11:36:17.285Z"
   },
   {
    "duration": 28,
    "start_time": "2021-08-14T11:36:22.615Z"
   },
   {
    "duration": 24,
    "start_time": "2021-08-14T11:36:27.780Z"
   },
   {
    "duration": 3,
    "start_time": "2021-08-14T11:39:37.782Z"
   },
   {
    "duration": 22,
    "start_time": "2021-08-14T11:48:43.256Z"
   },
   {
    "duration": 27,
    "start_time": "2021-08-14T11:48:48.544Z"
   },
   {
    "duration": 33,
    "start_time": "2021-08-14T11:48:55.755Z"
   },
   {
    "duration": 18,
    "start_time": "2021-08-14T11:49:50.120Z"
   },
   {
    "duration": 14,
    "start_time": "2021-08-14T11:53:59.848Z"
   },
   {
    "duration": 482,
    "start_time": "2021-08-14T11:55:59.518Z"
   },
   {
    "duration": 11,
    "start_time": "2021-08-14T12:04:40.676Z"
   },
   {
    "duration": 14,
    "start_time": "2021-08-14T12:05:06.030Z"
   },
   {
    "duration": 6,
    "start_time": "2021-08-14T12:09:56.111Z"
   },
   {
    "duration": 16,
    "start_time": "2021-08-14T12:10:21.562Z"
   },
   {
    "duration": 11,
    "start_time": "2021-08-14T12:10:57.965Z"
   },
   {
    "duration": 8,
    "start_time": "2021-08-14T12:11:24.333Z"
   },
   {
    "duration": 19,
    "start_time": "2021-08-14T12:12:00.899Z"
   },
   {
    "duration": 7,
    "start_time": "2021-08-14T12:12:18.268Z"
   },
   {
    "duration": 18,
    "start_time": "2021-08-14T12:12:27.024Z"
   },
   {
    "duration": 16,
    "start_time": "2021-08-14T12:12:34.965Z"
   },
   {
    "duration": 17,
    "start_time": "2021-08-14T12:13:06.965Z"
   },
   {
    "duration": 26,
    "start_time": "2021-08-14T12:14:24.785Z"
   },
   {
    "duration": 11,
    "start_time": "2021-08-14T12:14:29.989Z"
   },
   {
    "duration": 19,
    "start_time": "2021-08-14T12:14:37.212Z"
   },
   {
    "duration": 17,
    "start_time": "2021-08-14T12:14:40.653Z"
   },
   {
    "duration": 474,
    "start_time": "2021-08-14T12:16:38.613Z"
   },
   {
    "duration": 341,
    "start_time": "2021-08-14T12:17:48.686Z"
   },
   {
    "duration": 7,
    "start_time": "2021-08-14T12:17:56.392Z"
   },
   {
    "duration": 375,
    "start_time": "2021-08-14T12:18:37.920Z"
   },
   {
    "duration": 37,
    "start_time": "2021-08-14T12:18:56.717Z"
   },
   {
    "duration": 4,
    "start_time": "2021-08-14T12:20:30.639Z"
   },
   {
    "duration": 54,
    "start_time": "2021-08-14T12:20:30.657Z"
   },
   {
    "duration": 12,
    "start_time": "2021-08-14T12:20:30.764Z"
   },
   {
    "duration": 54,
    "start_time": "2021-08-14T12:20:30.780Z"
   },
   {
    "duration": 351,
    "start_time": "2021-08-14T12:23:07.466Z"
   },
   {
    "duration": 343,
    "start_time": "2021-08-14T12:23:37.972Z"
   },
   {
    "duration": 337,
    "start_time": "2021-08-14T12:24:50.350Z"
   },
   {
    "duration": 9,
    "start_time": "2021-08-14T12:24:55.423Z"
   },
   {
    "duration": 8,
    "start_time": "2021-08-14T12:29:55.777Z"
   },
   {
    "duration": 24,
    "start_time": "2021-08-14T12:29:58.296Z"
   },
   {
    "duration": 4,
    "start_time": "2021-08-14T12:30:51.974Z"
   },
   {
    "duration": 16,
    "start_time": "2021-08-14T12:30:59.088Z"
   },
   {
    "duration": 9,
    "start_time": "2021-08-14T12:32:05.382Z"
   },
   {
    "duration": 377,
    "start_time": "2021-08-14T12:33:07.658Z"
   },
   {
    "duration": 353,
    "start_time": "2021-08-14T12:33:20.513Z"
   },
   {
    "duration": 10,
    "start_time": "2021-08-14T12:33:29.831Z"
   },
   {
    "duration": 27,
    "start_time": "2021-08-14T12:33:43.955Z"
   },
   {
    "duration": 15,
    "start_time": "2021-08-14T12:34:57.600Z"
   },
   {
    "duration": 9,
    "start_time": "2021-08-14T12:35:03.199Z"
   },
   {
    "duration": 20,
    "start_time": "2021-08-14T12:35:34.913Z"
   },
   {
    "duration": 12,
    "start_time": "2021-08-14T12:35:45.167Z"
   },
   {
    "duration": 11,
    "start_time": "2021-08-14T12:36:06.290Z"
   },
   {
    "duration": 9,
    "start_time": "2021-08-14T12:38:02.882Z"
   },
   {
    "duration": 9,
    "start_time": "2021-08-14T12:38:08.118Z"
   },
   {
    "duration": 14,
    "start_time": "2021-08-14T12:38:12.620Z"
   },
   {
    "duration": 3,
    "start_time": "2021-08-14T12:38:35.645Z"
   },
   {
    "duration": 27,
    "start_time": "2021-08-14T12:38:35.670Z"
   },
   {
    "duration": 23,
    "start_time": "2021-08-14T12:38:35.700Z"
   },
   {
    "duration": 20,
    "start_time": "2021-08-14T12:38:35.726Z"
   },
   {
    "duration": 16,
    "start_time": "2021-08-14T12:38:35.768Z"
   },
   {
    "duration": 26,
    "start_time": "2021-08-14T12:40:43.101Z"
   },
   {
    "duration": 15,
    "start_time": "2021-08-14T12:40:45.530Z"
   },
   {
    "duration": 14,
    "start_time": "2021-08-14T12:40:50.502Z"
   },
   {
    "duration": 15,
    "start_time": "2021-08-14T12:41:06.701Z"
   },
   {
    "duration": 18,
    "start_time": "2021-08-14T12:41:28.312Z"
   },
   {
    "duration": 27,
    "start_time": "2021-08-14T12:43:52.704Z"
   },
   {
    "duration": 15,
    "start_time": "2021-08-14T12:43:54.523Z"
   },
   {
    "duration": 18,
    "start_time": "2021-08-14T12:43:56.712Z"
   },
   {
    "duration": 5,
    "start_time": "2021-08-14T12:45:39.098Z"
   },
   {
    "duration": 9,
    "start_time": "2021-08-14T12:45:44.446Z"
   },
   {
    "duration": 10,
    "start_time": "2021-08-14T12:46:12.202Z"
   },
   {
    "duration": 367,
    "start_time": "2021-08-14T12:47:58.511Z"
   },
   {
    "duration": 11,
    "start_time": "2021-08-14T12:48:21.170Z"
   },
   {
    "duration": 14,
    "start_time": "2021-08-14T12:48:44.259Z"
   },
   {
    "duration": 12,
    "start_time": "2021-08-14T12:51:36.048Z"
   },
   {
    "duration": 19,
    "start_time": "2021-08-14T13:44:04.447Z"
   },
   {
    "duration": 20,
    "start_time": "2021-08-14T13:45:00.051Z"
   },
   {
    "duration": 19,
    "start_time": "2021-08-14T13:45:18.366Z"
   },
   {
    "duration": 375,
    "start_time": "2021-08-14T13:45:48.467Z"
   },
   {
    "duration": 18,
    "start_time": "2021-08-14T13:46:09.115Z"
   },
   {
    "duration": 20,
    "start_time": "2021-08-14T13:50:18.338Z"
   },
   {
    "duration": 20,
    "start_time": "2021-08-14T13:51:17.632Z"
   },
   {
    "duration": 3,
    "start_time": "2021-08-14T13:51:25.549Z"
   },
   {
    "duration": 26,
    "start_time": "2021-08-14T13:51:25.586Z"
   },
   {
    "duration": 15,
    "start_time": "2021-08-14T13:51:25.619Z"
   },
   {
    "duration": 25,
    "start_time": "2021-08-14T13:51:25.636Z"
   },
   {
    "duration": 20,
    "start_time": "2021-08-14T13:51:25.668Z"
   },
   {
    "duration": 122,
    "start_time": "2021-08-14T13:52:04.831Z"
   },
   {
    "duration": 354,
    "start_time": "2021-08-14T13:52:11.558Z"
   },
   {
    "duration": 19,
    "start_time": "2021-08-14T13:52:45.615Z"
   },
   {
    "duration": 3,
    "start_time": "2021-08-14T13:53:13.069Z"
   },
   {
    "duration": 31,
    "start_time": "2021-08-14T13:53:13.082Z"
   },
   {
    "duration": 27,
    "start_time": "2021-08-14T13:53:13.115Z"
   },
   {
    "duration": 26,
    "start_time": "2021-08-14T13:53:13.146Z"
   },
   {
    "duration": 19,
    "start_time": "2021-08-14T13:53:13.188Z"
   },
   {
    "duration": 21,
    "start_time": "2021-08-14T13:56:27.492Z"
   },
   {
    "duration": 19,
    "start_time": "2021-08-14T13:56:41.163Z"
   },
   {
    "duration": 3,
    "start_time": "2021-08-14T13:56:53.561Z"
   },
   {
    "duration": 27,
    "start_time": "2021-08-14T13:56:53.594Z"
   },
   {
    "duration": 17,
    "start_time": "2021-08-14T13:56:53.625Z"
   },
   {
    "duration": 25,
    "start_time": "2021-08-14T13:56:53.646Z"
   },
   {
    "duration": 20,
    "start_time": "2021-08-14T13:56:53.687Z"
   },
   {
    "duration": 21,
    "start_time": "2021-08-14T13:58:28.044Z"
   },
   {
    "duration": 3,
    "start_time": "2021-08-14T13:58:48.075Z"
   },
   {
    "duration": 27,
    "start_time": "2021-08-14T13:58:48.095Z"
   },
   {
    "duration": 15,
    "start_time": "2021-08-14T13:58:48.201Z"
   },
   {
    "duration": 22,
    "start_time": "2021-08-14T13:58:48.219Z"
   },
   {
    "duration": 18,
    "start_time": "2021-08-14T13:58:57.022Z"
   },
   {
    "duration": 17,
    "start_time": "2021-08-14T13:59:02.494Z"
   },
   {
    "duration": 23,
    "start_time": "2021-08-14T14:00:20.092Z"
   },
   {
    "duration": 24,
    "start_time": "2021-08-14T14:01:18.759Z"
   },
   {
    "duration": 22,
    "start_time": "2021-08-14T14:02:31.798Z"
   },
   {
    "duration": 4,
    "start_time": "2021-08-14T14:03:21.791Z"
   },
   {
    "duration": 26,
    "start_time": "2021-08-14T14:03:21.804Z"
   },
   {
    "duration": 17,
    "start_time": "2021-08-14T14:03:21.834Z"
   },
   {
    "duration": 20,
    "start_time": "2021-08-14T14:03:21.855Z"
   },
   {
    "duration": 22,
    "start_time": "2021-08-14T14:03:21.917Z"
   },
   {
    "duration": 20,
    "start_time": "2021-08-14T14:03:41.478Z"
   },
   {
    "duration": 3,
    "start_time": "2021-08-14T14:03:49.680Z"
   },
   {
    "duration": 30,
    "start_time": "2021-08-14T14:03:49.686Z"
   },
   {
    "duration": 16,
    "start_time": "2021-08-14T14:03:49.718Z"
   },
   {
    "duration": 18,
    "start_time": "2021-08-14T14:03:49.737Z"
   },
   {
    "duration": 19,
    "start_time": "2021-08-14T14:03:49.805Z"
   },
   {
    "duration": 22,
    "start_time": "2021-08-14T14:06:10.194Z"
   },
   {
    "duration": 19,
    "start_time": "2021-08-14T14:06:41.201Z"
   },
   {
    "duration": 4,
    "start_time": "2021-08-14T14:06:53.796Z"
   },
   {
    "duration": 27,
    "start_time": "2021-08-14T14:06:53.818Z"
   },
   {
    "duration": 17,
    "start_time": "2021-08-14T14:06:53.847Z"
   },
   {
    "duration": 21,
    "start_time": "2021-08-14T14:06:53.867Z"
   },
   {
    "duration": 8,
    "start_time": "2021-08-14T14:06:53.923Z"
   },
   {
    "duration": 21,
    "start_time": "2021-08-14T14:06:53.933Z"
   },
   {
    "duration": 20,
    "start_time": "2021-08-14T14:07:02.732Z"
   },
   {
    "duration": 4,
    "start_time": "2021-08-14T14:07:55.117Z"
   },
   {
    "duration": 26,
    "start_time": "2021-08-14T14:07:55.135Z"
   },
   {
    "duration": 17,
    "start_time": "2021-08-14T14:07:55.164Z"
   },
   {
    "duration": 20,
    "start_time": "2021-08-14T14:07:55.185Z"
   },
   {
    "duration": 8,
    "start_time": "2021-08-14T14:07:55.243Z"
   },
   {
    "duration": 27,
    "start_time": "2021-08-14T14:07:55.257Z"
   },
   {
    "duration": 18,
    "start_time": "2021-08-14T14:09:11.625Z"
   },
   {
    "duration": 19,
    "start_time": "2021-08-14T14:10:42.638Z"
   },
   {
    "duration": 27,
    "start_time": "2021-08-14T14:22:49.961Z"
   },
   {
    "duration": 11,
    "start_time": "2021-08-14T14:23:37.014Z"
   },
   {
    "duration": 414,
    "start_time": "2021-08-14T14:23:45.297Z"
   },
   {
    "duration": 18,
    "start_time": "2021-08-14T14:23:49.294Z"
   },
   {
    "duration": 38,
    "start_time": "2021-08-14T14:24:18.214Z"
   },
   {
    "duration": 17,
    "start_time": "2021-08-14T14:25:09.668Z"
   },
   {
    "duration": 11,
    "start_time": "2021-08-14T14:25:21.089Z"
   },
   {
    "duration": 403,
    "start_time": "2021-08-14T14:27:58.211Z"
   },
   {
    "duration": 5,
    "start_time": "2021-08-14T14:28:33.784Z"
   },
   {
    "duration": 338,
    "start_time": "2021-08-14T14:28:47.376Z"
   },
   {
    "duration": 5,
    "start_time": "2021-08-14T14:28:59.118Z"
   },
   {
    "duration": 38,
    "start_time": "2021-08-14T14:30:12.083Z"
   },
   {
    "duration": 16,
    "start_time": "2021-08-14T14:30:29.907Z"
   },
   {
    "duration": 7,
    "start_time": "2021-08-14T14:31:13.457Z"
   },
   {
    "duration": 7,
    "start_time": "2021-08-14T14:32:19.570Z"
   },
   {
    "duration": 764,
    "start_time": "2021-08-14T14:32:28.043Z"
   },
   {
    "duration": 6,
    "start_time": "2021-08-14T14:33:20.349Z"
   },
   {
    "duration": 6,
    "start_time": "2021-08-14T14:33:49.799Z"
   },
   {
    "duration": 8,
    "start_time": "2021-08-14T14:33:55.277Z"
   },
   {
    "duration": 6,
    "start_time": "2021-08-14T14:34:10.420Z"
   },
   {
    "duration": 6,
    "start_time": "2021-08-14T14:34:21.925Z"
   },
   {
    "duration": 7,
    "start_time": "2021-08-14T14:42:08.186Z"
   },
   {
    "duration": 7,
    "start_time": "2021-08-14T14:42:13.174Z"
   },
   {
    "duration": 7,
    "start_time": "2021-08-14T14:42:22.427Z"
   },
   {
    "duration": 9,
    "start_time": "2021-08-14T14:42:43.626Z"
   },
   {
    "duration": 19,
    "start_time": "2021-08-14T14:42:57.080Z"
   },
   {
    "duration": 5,
    "start_time": "2021-08-14T14:43:03.517Z"
   },
   {
    "duration": 922,
    "start_time": "2021-08-14T14:44:31.813Z"
   },
   {
    "duration": 364,
    "start_time": "2021-08-14T14:45:23.729Z"
   },
   {
    "duration": 8,
    "start_time": "2021-08-14T14:45:38.464Z"
   },
   {
    "duration": 6,
    "start_time": "2021-08-14T14:46:14.633Z"
   },
   {
    "duration": 9,
    "start_time": "2021-08-14T14:46:15.610Z"
   },
   {
    "duration": 6,
    "start_time": "2021-08-14T14:46:21.976Z"
   },
   {
    "duration": 9,
    "start_time": "2021-08-14T14:46:22.995Z"
   },
   {
    "duration": 5,
    "start_time": "2021-08-14T14:46:37.945Z"
   },
   {
    "duration": 9,
    "start_time": "2021-08-14T14:48:41.950Z"
   },
   {
    "duration": 5,
    "start_time": "2021-08-14T14:48:55.070Z"
   },
   {
    "duration": 23,
    "start_time": "2021-08-14T14:49:10.002Z"
   },
   {
    "duration": 7,
    "start_time": "2021-08-14T14:49:18.602Z"
   },
   {
    "duration": 14,
    "start_time": "2021-08-14T14:49:30.540Z"
   },
   {
    "duration": 13,
    "start_time": "2021-08-14T14:49:38.999Z"
   },
   {
    "duration": 6,
    "start_time": "2021-08-14T14:49:40.774Z"
   },
   {
    "duration": 7,
    "start_time": "2021-08-14T14:50:38.924Z"
   },
   {
    "duration": 6,
    "start_time": "2021-08-14T14:50:39.668Z"
   },
   {
    "duration": 3,
    "start_time": "2021-08-14T14:50:54.186Z"
   },
   {
    "duration": 27,
    "start_time": "2021-08-14T14:50:54.216Z"
   },
   {
    "duration": 17,
    "start_time": "2021-08-14T14:50:54.246Z"
   },
   {
    "duration": 21,
    "start_time": "2021-08-14T14:50:54.265Z"
   },
   {
    "duration": 10,
    "start_time": "2021-08-14T14:50:54.290Z"
   },
   {
    "duration": 56,
    "start_time": "2021-08-14T14:50:54.303Z"
   },
   {
    "duration": 53,
    "start_time": "2021-08-14T14:50:54.363Z"
   },
   {
    "duration": 19,
    "start_time": "2021-08-14T14:50:54.419Z"
   },
   {
    "duration": 14,
    "start_time": "2021-08-14T14:50:54.440Z"
   },
   {
    "duration": 40,
    "start_time": "2021-08-14T14:50:54.457Z"
   },
   {
    "duration": 12,
    "start_time": "2021-08-14T14:50:54.500Z"
   },
   {
    "duration": 43,
    "start_time": "2021-08-14T14:50:54.515Z"
   },
   {
    "duration": 14,
    "start_time": "2021-08-14T14:50:54.561Z"
   },
   {
    "duration": 7,
    "start_time": "2021-08-14T14:50:54.578Z"
   },
   {
    "duration": 455,
    "start_time": "2021-08-14T14:53:15.576Z"
   },
   {
    "duration": 3,
    "start_time": "2021-08-14T14:53:38.997Z"
   },
   {
    "duration": 26,
    "start_time": "2021-08-14T14:53:39.010Z"
   },
   {
    "duration": 16,
    "start_time": "2021-08-14T14:53:39.039Z"
   },
   {
    "duration": 18,
    "start_time": "2021-08-14T14:53:39.058Z"
   },
   {
    "duration": 10,
    "start_time": "2021-08-14T14:53:39.078Z"
   },
   {
    "duration": 20,
    "start_time": "2021-08-14T14:53:39.090Z"
   },
   {
    "duration": 52,
    "start_time": "2021-08-14T14:53:39.113Z"
   },
   {
    "duration": 17,
    "start_time": "2021-08-14T14:53:39.168Z"
   },
   {
    "duration": 18,
    "start_time": "2021-08-14T14:53:39.187Z"
   },
   {
    "duration": 77,
    "start_time": "2021-08-14T14:53:39.209Z"
   },
   {
    "duration": 12,
    "start_time": "2021-08-14T14:53:39.289Z"
   },
   {
    "duration": 7,
    "start_time": "2021-08-14T14:53:39.304Z"
   },
   {
    "duration": 380,
    "start_time": "2021-08-14T14:53:39.313Z"
   },
   {
    "duration": 364,
    "start_time": "2021-08-14T14:54:50.391Z"
   },
   {
    "duration": 11,
    "start_time": "2021-08-14T14:55:18.428Z"
   },
   {
    "duration": 5,
    "start_time": "2021-08-14T14:55:23.769Z"
   },
   {
    "duration": 6,
    "start_time": "2021-08-14T14:56:49.758Z"
   },
   {
    "duration": 6,
    "start_time": "2021-08-14T14:56:50.617Z"
   },
   {
    "duration": 3,
    "start_time": "2021-08-14T14:56:57.551Z"
   },
   {
    "duration": 26,
    "start_time": "2021-08-14T14:56:57.576Z"
   },
   {
    "duration": 23,
    "start_time": "2021-08-14T14:56:57.605Z"
   },
   {
    "duration": 25,
    "start_time": "2021-08-14T14:56:57.631Z"
   },
   {
    "duration": 11,
    "start_time": "2021-08-14T14:56:57.658Z"
   },
   {
    "duration": 27,
    "start_time": "2021-08-14T14:56:57.671Z"
   },
   {
    "duration": 51,
    "start_time": "2021-08-14T14:56:57.700Z"
   },
   {
    "duration": 18,
    "start_time": "2021-08-14T14:56:57.753Z"
   },
   {
    "duration": 13,
    "start_time": "2021-08-14T14:56:57.774Z"
   },
   {
    "duration": 68,
    "start_time": "2021-08-14T14:56:57.789Z"
   },
   {
    "duration": 10,
    "start_time": "2021-08-14T14:56:57.860Z"
   },
   {
    "duration": 12,
    "start_time": "2021-08-14T14:56:57.872Z"
   },
   {
    "duration": 11,
    "start_time": "2021-08-14T14:56:57.886Z"
   },
   {
    "duration": 8,
    "start_time": "2021-08-14T14:56:57.900Z"
   },
   {
    "duration": 9,
    "start_time": "2021-08-14T14:57:14.128Z"
   },
   {
    "duration": 6,
    "start_time": "2021-08-14T14:57:17.953Z"
   },
   {
    "duration": 3,
    "start_time": "2021-08-14T14:57:40.615Z"
   },
   {
    "duration": 27,
    "start_time": "2021-08-14T14:57:40.633Z"
   },
   {
    "duration": 31,
    "start_time": "2021-08-14T14:57:40.662Z"
   },
   {
    "duration": 32,
    "start_time": "2021-08-14T14:57:40.696Z"
   },
   {
    "duration": 29,
    "start_time": "2021-08-14T14:57:40.732Z"
   },
   {
    "duration": 35,
    "start_time": "2021-08-14T14:57:40.763Z"
   },
   {
    "duration": 55,
    "start_time": "2021-08-14T14:57:40.801Z"
   },
   {
    "duration": 29,
    "start_time": "2021-08-14T14:57:40.858Z"
   },
   {
    "duration": 15,
    "start_time": "2021-08-14T14:57:40.891Z"
   },
   {
    "duration": 81,
    "start_time": "2021-08-14T14:57:40.908Z"
   },
   {
    "duration": 13,
    "start_time": "2021-08-14T14:57:40.991Z"
   },
   {
    "duration": 7,
    "start_time": "2021-08-14T14:57:41.007Z"
   },
   {
    "duration": 119,
    "start_time": "2021-08-14T14:58:12.482Z"
   },
   {
    "duration": 335,
    "start_time": "2021-08-14T14:58:15.766Z"
   },
   {
    "duration": 6,
    "start_time": "2021-08-14T14:58:21.120Z"
   },
   {
    "duration": 8,
    "start_time": "2021-08-14T14:58:39.265Z"
   },
   {
    "duration": 111,
    "start_time": "2021-08-14T14:58:55.458Z"
   },
   {
    "duration": 6,
    "start_time": "2021-08-14T14:58:59.812Z"
   },
   {
    "duration": 7,
    "start_time": "2021-08-14T14:59:06.760Z"
   },
   {
    "duration": 348,
    "start_time": "2021-08-14T14:59:19.440Z"
   },
   {
    "duration": 8,
    "start_time": "2021-08-14T15:01:48.493Z"
   },
   {
    "duration": 19,
    "start_time": "2021-08-14T15:03:08.196Z"
   },
   {
    "duration": 351,
    "start_time": "2021-08-14T15:03:31.616Z"
   },
   {
    "duration": 361,
    "start_time": "2021-08-14T15:05:24.897Z"
   },
   {
    "duration": 362,
    "start_time": "2021-08-14T15:06:08.951Z"
   },
   {
    "duration": 21,
    "start_time": "2021-08-14T15:06:13.135Z"
   },
   {
    "duration": 6,
    "start_time": "2021-08-14T15:06:28.010Z"
   },
   {
    "duration": 6,
    "start_time": "2021-08-14T15:06:30.532Z"
   },
   {
    "duration": 4,
    "start_time": "2021-08-14T19:32:17.768Z"
   },
   {
    "duration": 27,
    "start_time": "2021-08-14T19:32:17.789Z"
   },
   {
    "duration": 20,
    "start_time": "2021-08-14T19:32:17.818Z"
   },
   {
    "duration": 20,
    "start_time": "2021-08-14T19:32:17.841Z"
   },
   {
    "duration": 13,
    "start_time": "2021-08-14T19:32:17.864Z"
   },
   {
    "duration": 23,
    "start_time": "2021-08-14T19:32:17.879Z"
   },
   {
    "duration": 54,
    "start_time": "2021-08-14T19:32:17.904Z"
   },
   {
    "duration": 18,
    "start_time": "2021-08-14T19:32:17.961Z"
   },
   {
    "duration": 23,
    "start_time": "2021-08-14T19:32:17.983Z"
   },
   {
    "duration": 77,
    "start_time": "2021-08-14T19:32:18.008Z"
   },
   {
    "duration": 10,
    "start_time": "2021-08-14T19:32:18.088Z"
   },
   {
    "duration": 6,
    "start_time": "2021-08-14T19:32:18.101Z"
   },
   {
    "duration": 11,
    "start_time": "2021-08-14T19:32:18.109Z"
   },
   {
    "duration": 35,
    "start_time": "2021-08-14T19:32:18.122Z"
   },
   {
    "duration": 111,
    "start_time": "2021-08-14T19:39:27.671Z"
   },
   {
    "duration": 15,
    "start_time": "2021-08-14T21:26:32.118Z"
   },
   {
    "duration": 18,
    "start_time": "2021-08-14T21:26:39.647Z"
   },
   {
    "duration": 6,
    "start_time": "2021-08-14T21:27:03.007Z"
   },
   {
    "duration": 160,
    "start_time": "2021-08-14T21:28:59.568Z"
   },
   {
    "duration": 350,
    "start_time": "2021-08-14T21:29:16.826Z"
   },
   {
    "duration": 343,
    "start_time": "2021-08-14T21:29:29.368Z"
   },
   {
    "duration": 921,
    "start_time": "2021-08-14T21:30:22.895Z"
   },
   {
    "duration": 935,
    "start_time": "2021-08-14T21:30:56.477Z"
   },
   {
    "duration": 565,
    "start_time": "2021-08-14T21:31:30.341Z"
   },
   {
    "duration": 1257,
    "start_time": "2021-08-14T21:32:51.369Z"
   },
   {
    "duration": 594,
    "start_time": "2021-08-14T21:33:04.637Z"
   },
   {
    "duration": 1042,
    "start_time": "2021-08-14T21:33:36.578Z"
   },
   {
    "duration": 1069,
    "start_time": "2021-08-14T21:33:48.669Z"
   },
   {
    "duration": 1005,
    "start_time": "2021-08-14T21:36:54.797Z"
   },
   {
    "duration": 1007,
    "start_time": "2021-08-14T21:37:04.576Z"
   },
   {
    "duration": 1007,
    "start_time": "2021-08-14T21:37:09.863Z"
   },
   {
    "duration": 985,
    "start_time": "2021-08-14T21:38:48.652Z"
   },
   {
    "duration": 1035,
    "start_time": "2021-08-14T21:39:24.760Z"
   },
   {
    "duration": 415,
    "start_time": "2021-08-14T21:43:15.623Z"
   },
   {
    "duration": 508,
    "start_time": "2021-08-14T21:44:37.092Z"
   },
   {
    "duration": 124,
    "start_time": "2021-08-14T21:45:33.575Z"
   },
   {
    "duration": 544,
    "start_time": "2021-08-14T21:46:06.817Z"
   },
   {
    "duration": 734,
    "start_time": "2021-08-14T21:48:07.774Z"
   },
   {
    "duration": 513,
    "start_time": "2021-08-14T21:48:32.672Z"
   },
   {
    "duration": 624,
    "start_time": "2021-08-14T21:49:50.583Z"
   },
   {
    "duration": 683,
    "start_time": "2021-08-14T21:50:16.878Z"
   },
   {
    "duration": 831,
    "start_time": "2021-08-14T21:50:44.533Z"
   },
   {
    "duration": 631,
    "start_time": "2021-08-14T21:51:03.116Z"
   },
   {
    "duration": 1015,
    "start_time": "2021-08-14T21:51:12.119Z"
   },
   {
    "duration": 768,
    "start_time": "2021-08-14T21:51:24.323Z"
   },
   {
    "duration": 849,
    "start_time": "2021-08-14T21:51:38.980Z"
   },
   {
    "duration": 735,
    "start_time": "2021-08-14T21:51:50.821Z"
   },
   {
    "duration": 1239,
    "start_time": "2021-08-14T21:52:00.840Z"
   },
   {
    "duration": 281,
    "start_time": "2021-08-14T21:56:40.299Z"
   },
   {
    "duration": 429,
    "start_time": "2021-08-14T21:56:54.094Z"
   },
   {
    "duration": 671,
    "start_time": "2021-08-14T21:59:55.054Z"
   },
   {
    "duration": 370,
    "start_time": "2021-08-14T22:03:05.778Z"
   },
   {
    "duration": 360,
    "start_time": "2021-08-14T22:05:01.225Z"
   },
   {
    "duration": 349,
    "start_time": "2021-08-14T22:05:19.463Z"
   },
   {
    "duration": 6,
    "start_time": "2021-08-14T22:05:26.957Z"
   },
   {
    "duration": 595,
    "start_time": "2021-08-14T22:06:08.211Z"
   },
   {
    "duration": 601,
    "start_time": "2021-08-14T22:07:15.934Z"
   },
   {
    "duration": 5,
    "start_time": "2021-08-14T22:08:05.761Z"
   },
   {
    "duration": 561,
    "start_time": "2021-08-14T22:08:25.989Z"
   },
   {
    "duration": 788,
    "start_time": "2021-08-14T22:11:55.376Z"
   },
   {
    "duration": 8,
    "start_time": "2021-08-14T22:13:09.616Z"
   },
   {
    "duration": 330,
    "start_time": "2021-08-14T22:15:37.480Z"
   },
   {
    "duration": 390,
    "start_time": "2021-08-14T22:15:44.781Z"
   },
   {
    "duration": 361,
    "start_time": "2021-08-14T22:15:51.584Z"
   },
   {
    "duration": 685,
    "start_time": "2021-08-14T22:17:55.707Z"
   },
   {
    "duration": 365,
    "start_time": "2021-08-14T22:18:24.904Z"
   },
   {
    "duration": 7,
    "start_time": "2021-08-14T22:18:29.392Z"
   },
   {
    "duration": 332,
    "start_time": "2021-08-15T10:11:38.286Z"
   },
   {
    "duration": 872,
    "start_time": "2021-08-15T10:11:42.877Z"
   },
   {
    "duration": 30,
    "start_time": "2021-08-15T10:11:43.752Z"
   },
   {
    "duration": 17,
    "start_time": "2021-08-15T10:11:43.785Z"
   },
   {
    "duration": 18,
    "start_time": "2021-08-15T10:11:43.805Z"
   },
   {
    "duration": 40,
    "start_time": "2021-08-15T10:11:43.825Z"
   },
   {
    "duration": 18,
    "start_time": "2021-08-15T10:11:43.867Z"
   },
   {
    "duration": 67,
    "start_time": "2021-08-15T10:11:43.887Z"
   },
   {
    "duration": 17,
    "start_time": "2021-08-15T10:11:43.959Z"
   },
   {
    "duration": 14,
    "start_time": "2021-08-15T10:11:43.979Z"
   },
   {
    "duration": 74,
    "start_time": "2021-08-15T10:11:43.996Z"
   },
   {
    "duration": 11,
    "start_time": "2021-08-15T10:11:44.072Z"
   },
   {
    "duration": 18,
    "start_time": "2021-08-15T10:11:44.086Z"
   },
   {
    "duration": 6,
    "start_time": "2021-08-15T10:11:44.107Z"
   },
   {
    "duration": 6,
    "start_time": "2021-08-15T10:11:44.115Z"
   },
   {
    "duration": 42,
    "start_time": "2021-08-15T10:11:44.123Z"
   },
   {
    "duration": 1359,
    "start_time": "2021-08-15T10:11:44.168Z"
   },
   {
    "duration": 787,
    "start_time": "2021-08-15T10:11:45.530Z"
   },
   {
    "duration": 921,
    "start_time": "2021-08-15T10:11:46.319Z"
   },
   {
    "duration": 726,
    "start_time": "2021-08-15T10:11:47.243Z"
   },
   {
    "duration": 811,
    "start_time": "2021-08-15T10:11:47.972Z"
   },
   {
    "duration": 9,
    "start_time": "2021-08-15T10:11:48.786Z"
   },
   {
    "duration": 620,
    "start_time": "2021-08-15T10:11:48.797Z"
   },
   {
    "duration": 6,
    "start_time": "2021-08-15T10:11:49.421Z"
   },
   {
    "duration": 304,
    "start_time": "2021-08-15T10:11:49.429Z"
   },
   {
    "duration": 531,
    "start_time": "2021-08-15T10:15:10.634Z"
   },
   {
    "duration": 6711,
    "start_time": "2021-08-15T10:15:51.911Z"
   },
   {
    "duration": 460,
    "start_time": "2021-08-15T10:16:20.429Z"
   },
   {
    "duration": 414,
    "start_time": "2021-08-15T10:17:57.754Z"
   },
   {
    "duration": 225,
    "start_time": "2021-08-15T10:18:01.780Z"
   },
   {
    "duration": 15,
    "start_time": "2021-08-15T10:22:08.944Z"
   },
   {
    "duration": 4,
    "start_time": "2021-08-15T10:30:53.338Z"
   },
   {
    "duration": 1211,
    "start_time": "2021-08-15T10:37:51.423Z"
   },
   {
    "duration": 637,
    "start_time": "2021-08-15T10:40:49.373Z"
   },
   {
    "duration": 846,
    "start_time": "2021-08-15T10:43:04.650Z"
   },
   {
    "duration": 652,
    "start_time": "2021-08-15T10:47:08.269Z"
   },
   {
    "duration": 786,
    "start_time": "2021-08-15T10:50:17.987Z"
   },
   {
    "duration": 1087,
    "start_time": "2021-08-15T10:51:34.338Z"
   },
   {
    "duration": 1077,
    "start_time": "2021-08-15T10:59:16.150Z"
   },
   {
    "duration": 1059,
    "start_time": "2021-08-15T11:01:47.885Z"
   },
   {
    "duration": 315,
    "start_time": "2021-08-15T11:43:53.081Z"
   },
   {
    "duration": 330,
    "start_time": "2021-08-15T11:44:14.377Z"
   },
   {
    "duration": 5,
    "start_time": "2021-08-15T11:44:27.707Z"
   },
   {
    "duration": 37,
    "start_time": "2021-08-15T11:44:27.715Z"
   },
   {
    "duration": 19,
    "start_time": "2021-08-15T11:44:27.756Z"
   },
   {
    "duration": 23,
    "start_time": "2021-08-15T11:44:27.778Z"
   },
   {
    "duration": 8,
    "start_time": "2021-08-15T11:44:27.805Z"
   },
   {
    "duration": 22,
    "start_time": "2021-08-15T11:44:27.815Z"
   },
   {
    "duration": 44,
    "start_time": "2021-08-15T11:44:27.864Z"
   },
   {
    "duration": 19,
    "start_time": "2021-08-15T11:44:27.911Z"
   },
   {
    "duration": 15,
    "start_time": "2021-08-15T11:44:27.932Z"
   },
   {
    "duration": 47,
    "start_time": "2021-08-15T11:44:27.950Z"
   },
   {
    "duration": 12,
    "start_time": "2021-08-15T11:44:27.999Z"
   },
   {
    "duration": 11,
    "start_time": "2021-08-15T11:44:32.159Z"
   },
   {
    "duration": 203,
    "start_time": "2021-08-15T11:44:33.206Z"
   },
   {
    "duration": 221,
    "start_time": "2021-08-15T11:45:11.250Z"
   },
   {
    "duration": 694,
    "start_time": "2021-08-15T11:45:28.179Z"
   },
   {
    "duration": 8,
    "start_time": "2021-08-15T11:46:11.822Z"
   },
   {
    "duration": 13,
    "start_time": "2021-08-15T11:46:24.059Z"
   },
   {
    "duration": 4,
    "start_time": "2021-08-15T11:46:29.518Z"
   },
   {
    "duration": 43,
    "start_time": "2021-08-15T11:46:29.544Z"
   },
   {
    "duration": 24,
    "start_time": "2021-08-15T11:46:29.590Z"
   },
   {
    "duration": 20,
    "start_time": "2021-08-15T11:46:29.617Z"
   },
   {
    "duration": 8,
    "start_time": "2021-08-15T11:46:29.663Z"
   },
   {
    "duration": 23,
    "start_time": "2021-08-15T11:46:29.673Z"
   },
   {
    "duration": 100,
    "start_time": "2021-08-15T11:46:29.699Z"
   },
   {
    "duration": 24,
    "start_time": "2021-08-15T11:46:29.802Z"
   },
   {
    "duration": 17,
    "start_time": "2021-08-15T11:46:29.830Z"
   },
   {
    "duration": 49,
    "start_time": "2021-08-15T11:46:29.849Z"
   },
   {
    "duration": 12,
    "start_time": "2021-08-15T11:46:29.901Z"
   },
   {
    "duration": 232,
    "start_time": "2021-08-15T11:46:29.916Z"
   },
   {
    "duration": 24,
    "start_time": "2021-08-15T11:46:30.150Z"
   },
   {
    "duration": 19,
    "start_time": "2021-08-15T11:47:14.171Z"
   },
   {
    "duration": 15,
    "start_time": "2021-08-15T11:48:59.071Z"
   },
   {
    "duration": 13,
    "start_time": "2021-08-15T11:49:50.082Z"
   },
   {
    "duration": 17,
    "start_time": "2021-08-15T11:50:05.731Z"
   },
   {
    "duration": 240,
    "start_time": "2021-08-15T11:50:39.536Z"
   },
   {
    "duration": 273,
    "start_time": "2021-08-15T11:54:20.501Z"
   },
   {
    "duration": 301,
    "start_time": "2021-08-15T11:54:43.226Z"
   },
   {
    "duration": 321,
    "start_time": "2021-08-15T11:55:28.227Z"
   },
   {
    "duration": 281,
    "start_time": "2021-08-15T11:57:55.978Z"
   },
   {
    "duration": 279,
    "start_time": "2021-08-15T11:58:18.086Z"
   },
   {
    "duration": 245,
    "start_time": "2021-08-15T11:59:08.050Z"
   },
   {
    "duration": 7,
    "start_time": "2021-08-15T11:59:13.258Z"
   },
   {
    "duration": 6,
    "start_time": "2021-08-15T11:59:27.168Z"
   },
   {
    "duration": 260,
    "start_time": "2021-08-15T11:59:34.604Z"
   },
   {
    "duration": 4,
    "start_time": "2021-08-15T11:59:50.415Z"
   },
   {
    "duration": 26,
    "start_time": "2021-08-15T11:59:50.432Z"
   },
   {
    "duration": 17,
    "start_time": "2021-08-15T11:59:50.461Z"
   },
   {
    "duration": 18,
    "start_time": "2021-08-15T11:59:50.481Z"
   },
   {
    "duration": 11,
    "start_time": "2021-08-15T11:59:50.501Z"
   },
   {
    "duration": 48,
    "start_time": "2021-08-15T11:59:50.515Z"
   },
   {
    "duration": 56,
    "start_time": "2021-08-15T11:59:50.566Z"
   },
   {
    "duration": 18,
    "start_time": "2021-08-15T11:59:50.625Z"
   },
   {
    "duration": 14,
    "start_time": "2021-08-15T11:59:50.645Z"
   },
   {
    "duration": 40,
    "start_time": "2021-08-15T11:59:50.662Z"
   },
   {
    "duration": 10,
    "start_time": "2021-08-15T11:59:50.704Z"
   },
   {
    "duration": 255,
    "start_time": "2021-08-15T11:59:50.716Z"
   },
   {
    "duration": 15,
    "start_time": "2021-08-15T11:59:50.973Z"
   },
   {
    "duration": 13,
    "start_time": "2021-08-15T11:59:50.990Z"
   },
   {
    "duration": 5,
    "start_time": "2021-08-15T12:00:09.066Z"
   },
   {
    "duration": 4,
    "start_time": "2021-08-15T12:00:59.063Z"
   },
   {
    "duration": 1188,
    "start_time": "2021-08-15T12:00:59.086Z"
   },
   {
    "duration": 657,
    "start_time": "2021-08-15T12:01:00.277Z"
   },
   {
    "duration": 774,
    "start_time": "2021-08-15T12:01:00.937Z"
   },
   {
    "duration": 708,
    "start_time": "2021-08-15T12:01:01.714Z"
   },
   {
    "duration": 852,
    "start_time": "2021-08-15T12:01:02.424Z"
   },
   {
    "duration": 9,
    "start_time": "2021-08-15T12:01:03.278Z"
   },
   {
    "duration": 603,
    "start_time": "2021-08-15T12:01:03.289Z"
   },
   {
    "duration": 6,
    "start_time": "2021-08-15T12:01:03.895Z"
   },
   {
    "duration": 217,
    "start_time": "2021-08-15T12:01:03.904Z"
   },
   {
    "duration": 13,
    "start_time": "2021-08-15T12:01:04.124Z"
   },
   {
    "duration": 6437,
    "start_time": "2021-08-15T12:01:04.139Z"
   },
   {
    "duration": -135,
    "start_time": "2021-08-15T12:01:10.714Z"
   },
   {
    "duration": 847,
    "start_time": "2021-08-15T12:01:17.195Z"
   },
   {
    "duration": 1035,
    "start_time": "2021-08-15T12:02:48.822Z"
   },
   {
    "duration": 802,
    "start_time": "2021-08-15T12:03:03.637Z"
   },
   {
    "duration": 783,
    "start_time": "2021-08-15T12:05:20.893Z"
   },
   {
    "duration": 814,
    "start_time": "2021-08-15T12:05:39.912Z"
   },
   {
    "duration": 768,
    "start_time": "2021-08-15T12:05:51.123Z"
   },
   {
    "duration": 9,
    "start_time": "2021-08-15T12:06:42.415Z"
   },
   {
    "duration": 621,
    "start_time": "2021-08-15T12:07:11.154Z"
   },
   {
    "duration": 7,
    "start_time": "2021-08-15T12:07:17.239Z"
   },
   {
    "duration": 831,
    "start_time": "2021-08-15T12:15:26.943Z"
   },
   {
    "duration": 636,
    "start_time": "2021-08-15T12:15:34.342Z"
   },
   {
    "duration": 748,
    "start_time": "2021-08-15T12:15:53.669Z"
   },
   {
    "duration": 762,
    "start_time": "2021-08-15T12:16:39.181Z"
   },
   {
    "duration": 286,
    "start_time": "2021-08-15T12:25:35.040Z"
   },
   {
    "duration": 18,
    "start_time": "2021-08-15T12:32:31.801Z"
   },
   {
    "duration": 312,
    "start_time": "2021-08-15T12:41:17.489Z"
   },
   {
    "duration": 282,
    "start_time": "2021-08-15T12:41:27.139Z"
   },
   {
    "duration": 27,
    "start_time": "2021-08-15T12:42:24.746Z"
   },
   {
    "duration": 28,
    "start_time": "2021-08-15T12:42:55.232Z"
   },
   {
    "duration": 6551,
    "start_time": "2021-08-15T12:49:35.743Z"
   },
   {
    "duration": 22,
    "start_time": "2021-08-15T12:51:14.409Z"
   },
   {
    "duration": 1318,
    "start_time": "2021-08-15T13:05:38.785Z"
   },
   {
    "duration": 1293,
    "start_time": "2021-08-15T13:07:47.511Z"
   },
   {
    "duration": 3,
    "start_time": "2021-08-15T13:08:05.353Z"
   },
   {
    "duration": 1187,
    "start_time": "2021-08-15T13:08:17.091Z"
   },
   {
    "duration": 1105,
    "start_time": "2021-08-15T13:12:18.861Z"
   },
   {
    "duration": 1240,
    "start_time": "2021-08-15T13:15:02.588Z"
   },
   {
    "duration": 1199,
    "start_time": "2021-08-15T13:17:05.234Z"
   },
   {
    "duration": 1297,
    "start_time": "2021-08-15T13:17:26.043Z"
   },
   {
    "duration": 4,
    "start_time": "2021-08-15T13:22:30.161Z"
   },
   {
    "duration": 25,
    "start_time": "2021-08-15T13:22:30.179Z"
   },
   {
    "duration": 23,
    "start_time": "2021-08-15T13:22:30.206Z"
   },
   {
    "duration": 31,
    "start_time": "2021-08-15T13:22:30.231Z"
   },
   {
    "duration": 22,
    "start_time": "2021-08-15T13:22:30.264Z"
   },
   {
    "duration": 26,
    "start_time": "2021-08-15T13:22:30.288Z"
   },
   {
    "duration": 1521,
    "start_time": "2021-08-15T13:22:30.317Z"
   },
   {
    "duration": 2114,
    "start_time": "2021-08-15T13:22:37.446Z"
   },
   {
    "duration": 2124,
    "start_time": "2021-08-15T13:22:55.440Z"
   },
   {
    "duration": 1320,
    "start_time": "2021-08-15T13:24:44.663Z"
   },
   {
    "duration": 1244,
    "start_time": "2021-08-15T13:25:07.691Z"
   },
   {
    "duration": 315,
    "start_time": "2021-08-15T13:27:48.640Z"
   },
   {
    "duration": 286,
    "start_time": "2021-08-15T13:28:01.637Z"
   },
   {
    "duration": 19,
    "start_time": "2021-08-15T13:29:08.396Z"
   },
   {
    "duration": 53,
    "start_time": "2021-08-15T13:29:35.704Z"
   },
   {
    "duration": 19,
    "start_time": "2021-08-15T13:29:44.916Z"
   },
   {
    "duration": 21,
    "start_time": "2021-08-15T13:29:44.939Z"
   },
   {
    "duration": 37,
    "start_time": "2021-08-15T13:29:44.963Z"
   },
   {
    "duration": 11,
    "start_time": "2021-08-15T13:29:45.002Z"
   },
   {
    "duration": 252,
    "start_time": "2021-08-15T13:29:45.016Z"
   },
   {
    "duration": 16,
    "start_time": "2021-08-15T13:29:45.270Z"
   },
   {
    "duration": 14,
    "start_time": "2021-08-15T13:29:45.288Z"
   },
   {
    "duration": 9,
    "start_time": "2021-08-15T13:29:45.304Z"
   },
   {
    "duration": 1163,
    "start_time": "2021-08-15T13:29:45.315Z"
   },
   {
    "duration": 557,
    "start_time": "2021-08-15T13:29:46.482Z"
   },
   {
    "duration": 679,
    "start_time": "2021-08-15T13:29:47.042Z"
   },
   {
    "duration": 543,
    "start_time": "2021-08-15T13:29:47.724Z"
   },
   {
    "duration": 781,
    "start_time": "2021-08-15T13:29:48.270Z"
   },
   {
    "duration": 13,
    "start_time": "2021-08-15T13:29:49.053Z"
   },
   {
    "duration": 640,
    "start_time": "2021-08-15T13:29:49.068Z"
   },
   {
    "duration": 8,
    "start_time": "2021-08-15T13:29:49.711Z"
   },
   {
    "duration": 339,
    "start_time": "2021-08-15T13:29:49.722Z"
   },
   {
    "duration": 16,
    "start_time": "2021-08-15T13:29:50.063Z"
   },
   {
    "duration": 30,
    "start_time": "2021-08-15T13:29:50.081Z"
   },
   {
    "duration": 59,
    "start_time": "2021-08-15T13:29:50.114Z"
   },
   {
    "duration": 1102,
    "start_time": "2021-08-15T13:30:38.991Z"
   },
   {
    "duration": 77,
    "start_time": "2021-08-15T13:31:56.486Z"
   },
   {
    "duration": 4,
    "start_time": "2021-08-15T13:32:05.358Z"
   },
   {
    "duration": 32,
    "start_time": "2021-08-15T13:32:05.375Z"
   },
   {
    "duration": 23,
    "start_time": "2021-08-15T13:32:05.409Z"
   },
   {
    "duration": 35,
    "start_time": "2021-08-15T13:32:05.435Z"
   },
   {
    "duration": 17,
    "start_time": "2021-08-15T13:32:05.473Z"
   },
   {
    "duration": 29,
    "start_time": "2021-08-15T13:32:05.492Z"
   },
   {
    "duration": 73,
    "start_time": "2021-08-15T13:32:05.523Z"
   },
   {
    "duration": 18,
    "start_time": "2021-08-15T13:32:05.598Z"
   },
   {
    "duration": 19,
    "start_time": "2021-08-15T13:32:05.621Z"
   },
   {
    "duration": 50,
    "start_time": "2021-08-15T13:32:05.644Z"
   },
   {
    "duration": 12,
    "start_time": "2021-08-15T13:32:05.696Z"
   },
   {
    "duration": 246,
    "start_time": "2021-08-15T13:32:05.710Z"
   },
   {
    "duration": 17,
    "start_time": "2021-08-15T13:32:05.962Z"
   },
   {
    "duration": 21,
    "start_time": "2021-08-15T13:32:05.983Z"
   },
   {
    "duration": 11,
    "start_time": "2021-08-15T13:32:06.007Z"
   },
   {
    "duration": 1221,
    "start_time": "2021-08-15T13:32:06.020Z"
   },
   {
    "duration": 536,
    "start_time": "2021-08-15T13:32:07.243Z"
   },
   {
    "duration": 986,
    "start_time": "2021-08-15T13:32:07.782Z"
   },
   {
    "duration": 539,
    "start_time": "2021-08-15T13:32:08.770Z"
   },
   {
    "duration": 734,
    "start_time": "2021-08-15T13:32:09.311Z"
   },
   {
    "duration": 17,
    "start_time": "2021-08-15T13:32:10.048Z"
   },
   {
    "duration": 623,
    "start_time": "2021-08-15T13:32:10.067Z"
   },
   {
    "duration": 6,
    "start_time": "2021-08-15T13:32:10.693Z"
   },
   {
    "duration": 220,
    "start_time": "2021-08-15T13:32:10.703Z"
   },
   {
    "duration": 15,
    "start_time": "2021-08-15T13:32:10.925Z"
   },
   {
    "duration": 29,
    "start_time": "2021-08-15T13:32:10.962Z"
   },
   {
    "duration": 20,
    "start_time": "2021-08-15T13:32:10.994Z"
   },
   {
    "duration": 1342,
    "start_time": "2021-08-15T19:54:24.321Z"
   },
   {
    "duration": 31,
    "start_time": "2021-08-15T19:54:25.666Z"
   },
   {
    "duration": 23,
    "start_time": "2021-08-15T19:54:25.700Z"
   },
   {
    "duration": 18,
    "start_time": "2021-08-15T19:54:25.725Z"
   },
   {
    "duration": 9,
    "start_time": "2021-08-15T19:54:25.745Z"
   },
   {
    "duration": 45,
    "start_time": "2021-08-15T19:54:25.757Z"
   },
   {
    "duration": 80,
    "start_time": "2021-08-15T19:54:25.805Z"
   },
   {
    "duration": 18,
    "start_time": "2021-08-15T19:54:25.890Z"
   },
   {
    "duration": 18,
    "start_time": "2021-08-15T19:54:25.911Z"
   },
   {
    "duration": 70,
    "start_time": "2021-08-15T19:54:25.932Z"
   },
   {
    "duration": 14,
    "start_time": "2021-08-15T19:54:26.005Z"
   },
   {
    "duration": 263,
    "start_time": "2021-08-15T19:54:26.021Z"
   },
   {
    "duration": 19,
    "start_time": "2021-08-15T19:54:26.301Z"
   },
   {
    "duration": 16,
    "start_time": "2021-08-15T19:54:26.323Z"
   },
   {
    "duration": 6,
    "start_time": "2021-08-15T19:54:26.341Z"
   },
   {
    "duration": 1184,
    "start_time": "2021-08-15T19:54:26.349Z"
   },
   {
    "duration": 523,
    "start_time": "2021-08-15T19:54:27.535Z"
   },
   {
    "duration": 724,
    "start_time": "2021-08-15T19:54:28.060Z"
   },
   {
    "duration": 565,
    "start_time": "2021-08-15T19:54:28.786Z"
   },
   {
    "duration": 769,
    "start_time": "2021-08-15T19:54:29.354Z"
   },
   {
    "duration": 9,
    "start_time": "2021-08-15T19:54:30.125Z"
   },
   {
    "duration": 628,
    "start_time": "2021-08-15T19:54:30.136Z"
   },
   {
    "duration": 7,
    "start_time": "2021-08-15T19:54:30.770Z"
   },
   {
    "duration": 382,
    "start_time": "2021-08-15T19:54:30.780Z"
   },
   {
    "duration": 19,
    "start_time": "2021-08-15T19:54:31.165Z"
   },
   {
    "duration": 30,
    "start_time": "2021-08-15T19:54:31.201Z"
   },
   {
    "duration": 37,
    "start_time": "2021-08-15T19:54:31.233Z"
   },
   {
    "duration": 1385,
    "start_time": "2021-08-16T12:20:34.848Z"
   },
   {
    "duration": 32,
    "start_time": "2021-08-16T12:20:36.235Z"
   },
   {
    "duration": 18,
    "start_time": "2021-08-16T12:20:36.270Z"
   },
   {
    "duration": 17,
    "start_time": "2021-08-16T12:20:36.290Z"
   },
   {
    "duration": 17,
    "start_time": "2021-08-16T12:20:36.309Z"
   },
   {
    "duration": 41,
    "start_time": "2021-08-16T12:20:36.329Z"
   },
   {
    "duration": 111,
    "start_time": "2021-08-16T12:20:36.372Z"
   },
   {
    "duration": 19,
    "start_time": "2021-08-16T12:20:36.487Z"
   },
   {
    "duration": 15,
    "start_time": "2021-08-16T12:20:36.509Z"
   },
   {
    "duration": 54,
    "start_time": "2021-08-16T12:20:36.526Z"
   },
   {
    "duration": 10,
    "start_time": "2021-08-16T12:20:36.583Z"
   },
   {
    "duration": 247,
    "start_time": "2021-08-16T12:20:36.595Z"
   },
   {
    "duration": 26,
    "start_time": "2021-08-16T12:20:36.844Z"
   },
   {
    "duration": 14,
    "start_time": "2021-08-16T12:20:36.873Z"
   },
   {
    "duration": 14,
    "start_time": "2021-08-16T12:20:36.890Z"
   },
   {
    "duration": 1169,
    "start_time": "2021-08-16T12:20:36.906Z"
   },
   {
    "duration": 533,
    "start_time": "2021-08-16T12:20:38.077Z"
   },
   {
    "duration": 663,
    "start_time": "2021-08-16T12:20:38.612Z"
   },
   {
    "duration": 555,
    "start_time": "2021-08-16T12:20:39.278Z"
   },
   {
    "duration": 778,
    "start_time": "2021-08-16T12:20:39.836Z"
   },
   {
    "duration": 8,
    "start_time": "2021-08-16T12:20:40.617Z"
   },
   {
    "duration": 661,
    "start_time": "2021-08-16T12:20:40.627Z"
   },
   {
    "duration": 6,
    "start_time": "2021-08-16T12:20:41.292Z"
   },
   {
    "duration": 235,
    "start_time": "2021-08-16T12:20:41.301Z"
   },
   {
    "duration": 23,
    "start_time": "2021-08-16T12:20:41.538Z"
   },
   {
    "duration": 26,
    "start_time": "2021-08-16T12:20:41.563Z"
   },
   {
    "duration": 24,
    "start_time": "2021-08-16T12:20:41.591Z"
   },
   {
    "duration": 5,
    "start_time": "2021-08-16T13:20:45.449Z"
   },
   {
    "duration": 1101,
    "start_time": "2021-08-16T13:20:46.130Z"
   },
   {
    "duration": 1894,
    "start_time": "2021-08-16T14:02:33.612Z"
   },
   {
    "duration": 11443,
    "start_time": "2021-08-16T14:03:29.837Z"
   },
   {
    "duration": 6,
    "start_time": "2021-08-16T14:03:41.283Z"
   },
   {
    "duration": 4,
    "start_time": "2021-08-16T14:03:47.223Z"
   },
   {
    "duration": 331,
    "start_time": "2021-08-16T14:09:39.932Z"
   },
   {
    "duration": 3026,
    "start_time": "2021-08-16T14:09:47.504Z"
   },
   {
    "duration": 4,
    "start_time": "2021-08-16T14:09:50.534Z"
   },
   {
    "duration": 54,
    "start_time": "2021-08-16T14:09:50.541Z"
   },
   {
    "duration": 16,
    "start_time": "2021-08-16T14:09:50.598Z"
   },
   {
    "duration": 19,
    "start_time": "2021-08-16T14:09:50.617Z"
   },
   {
    "duration": 23,
    "start_time": "2021-08-16T14:09:50.638Z"
   },
   {
    "duration": 32,
    "start_time": "2021-08-16T14:09:50.663Z"
   },
   {
    "duration": 70,
    "start_time": "2021-08-16T14:09:50.699Z"
   },
   {
    "duration": 20,
    "start_time": "2021-08-16T14:09:50.772Z"
   },
   {
    "duration": 20,
    "start_time": "2021-08-16T14:09:50.795Z"
   },
   {
    "duration": 58,
    "start_time": "2021-08-16T14:09:50.817Z"
   },
   {
    "duration": 11,
    "start_time": "2021-08-16T14:09:50.877Z"
   },
   {
    "duration": 276,
    "start_time": "2021-08-16T14:09:50.890Z"
   },
   {
    "duration": 15,
    "start_time": "2021-08-16T14:09:51.169Z"
   },
   {
    "duration": 28,
    "start_time": "2021-08-16T14:09:51.186Z"
   },
   {
    "duration": 16,
    "start_time": "2021-08-16T14:09:51.217Z"
   },
   {
    "duration": 32,
    "start_time": "2021-08-16T14:09:51.235Z"
   },
   {
    "duration": 15,
    "start_time": "2021-08-16T14:09:51.270Z"
   },
   {
    "duration": 1198,
    "start_time": "2021-08-16T14:09:51.287Z"
   },
   {
    "duration": 545,
    "start_time": "2021-08-16T14:09:52.488Z"
   },
   {
    "duration": 688,
    "start_time": "2021-08-16T14:09:53.036Z"
   },
   {
    "duration": 556,
    "start_time": "2021-08-16T14:09:53.727Z"
   },
   {
    "duration": 782,
    "start_time": "2021-08-16T14:09:54.288Z"
   },
   {
    "duration": 9,
    "start_time": "2021-08-16T14:09:55.073Z"
   },
   {
    "duration": 621,
    "start_time": "2021-08-16T14:09:55.085Z"
   },
   {
    "duration": 7,
    "start_time": "2021-08-16T14:09:55.708Z"
   },
   {
    "duration": 244,
    "start_time": "2021-08-16T14:09:55.717Z"
   },
   {
    "duration": 16,
    "start_time": "2021-08-16T14:09:55.963Z"
   },
   {
    "duration": 32,
    "start_time": "2021-08-16T14:09:55.982Z"
   },
   {
    "duration": 53,
    "start_time": "2021-08-16T14:09:56.017Z"
   },
   {
    "duration": 26,
    "start_time": "2021-08-16T14:10:13.504Z"
   },
   {
    "duration": 32,
    "start_time": "2021-08-16T14:10:21.223Z"
   },
   {
    "duration": 3493,
    "start_time": "2021-08-17T11:46:08.582Z"
   },
   {
    "duration": 1493,
    "start_time": "2021-08-17T11:46:12.078Z"
   },
   {
    "duration": 31,
    "start_time": "2021-08-17T11:46:13.574Z"
   },
   {
    "duration": 16,
    "start_time": "2021-08-17T11:46:13.607Z"
   },
   {
    "duration": 44,
    "start_time": "2021-08-17T11:46:13.626Z"
   },
   {
    "duration": 23,
    "start_time": "2021-08-17T11:46:13.673Z"
   },
   {
    "duration": 45,
    "start_time": "2021-08-17T11:46:13.699Z"
   },
   {
    "duration": 63,
    "start_time": "2021-08-17T11:46:13.749Z"
   },
   {
    "duration": 26,
    "start_time": "2021-08-17T11:46:13.816Z"
   },
   {
    "duration": 34,
    "start_time": "2021-08-17T11:46:13.845Z"
   },
   {
    "duration": 36,
    "start_time": "2021-08-17T11:46:13.881Z"
   },
   {
    "duration": 39,
    "start_time": "2021-08-17T11:46:13.919Z"
   },
   {
    "duration": 154,
    "start_time": "2021-08-17T11:46:13.960Z"
   },
   {
    "duration": 15,
    "start_time": "2021-08-17T11:46:14.116Z"
   },
   {
    "duration": 32,
    "start_time": "2021-08-17T11:46:14.134Z"
   },
   {
    "duration": 11,
    "start_time": "2021-08-17T11:46:14.168Z"
   },
   {
    "duration": 44,
    "start_time": "2021-08-17T11:46:14.182Z"
   },
   {
    "duration": 3,
    "start_time": "2021-08-17T11:46:14.229Z"
   },
   {
    "duration": 997,
    "start_time": "2021-08-17T11:46:14.255Z"
   },
   {
    "duration": 435,
    "start_time": "2021-08-17T11:46:15.255Z"
   },
   {
    "duration": 477,
    "start_time": "2021-08-17T11:46:15.693Z"
   },
   {
    "duration": 485,
    "start_time": "2021-08-17T11:46:16.172Z"
   },
   {
    "duration": 449,
    "start_time": "2021-08-17T11:46:16.662Z"
   },
   {
    "duration": 7,
    "start_time": "2021-08-17T11:46:17.113Z"
   },
   {
    "duration": 517,
    "start_time": "2021-08-17T11:46:17.122Z"
   },
   {
    "duration": 15,
    "start_time": "2021-08-17T11:46:17.641Z"
   },
   {
    "duration": 127,
    "start_time": "2021-08-17T11:46:17.659Z"
   },
   {
    "duration": 12,
    "start_time": "2021-08-17T11:46:17.789Z"
   },
   {
    "duration": 52,
    "start_time": "2021-08-17T11:46:17.803Z"
   },
   {
    "duration": 18,
    "start_time": "2021-08-17T11:46:17.857Z"
   },
   {
    "duration": 3304,
    "start_time": "2021-08-17T13:38:14.278Z"
   },
   {
    "duration": 1594,
    "start_time": "2021-08-17T13:38:17.585Z"
   },
   {
    "duration": 31,
    "start_time": "2021-08-17T13:38:19.183Z"
   },
   {
    "duration": 16,
    "start_time": "2021-08-17T13:38:19.218Z"
   },
   {
    "duration": 37,
    "start_time": "2021-08-17T13:38:19.237Z"
   },
   {
    "duration": 13,
    "start_time": "2021-08-17T13:38:19.277Z"
   },
   {
    "duration": 40,
    "start_time": "2021-08-17T13:38:19.294Z"
   },
   {
    "duration": 76,
    "start_time": "2021-08-17T13:38:19.340Z"
   },
   {
    "duration": 25,
    "start_time": "2021-08-17T13:38:19.420Z"
   },
   {
    "duration": 34,
    "start_time": "2021-08-17T13:38:19.449Z"
   },
   {
    "duration": 71,
    "start_time": "2021-08-17T13:38:19.486Z"
   },
   {
    "duration": 14,
    "start_time": "2021-08-17T13:38:19.560Z"
   },
   {
    "duration": 209,
    "start_time": "2021-08-17T13:38:19.576Z"
   },
   {
    "duration": 20,
    "start_time": "2021-08-17T13:38:19.789Z"
   },
   {
    "duration": 44,
    "start_time": "2021-08-17T13:38:19.812Z"
   },
   {
    "duration": 7,
    "start_time": "2021-08-17T13:38:19.859Z"
   },
   {
    "duration": 55,
    "start_time": "2021-08-17T13:38:19.869Z"
   },
   {
    "duration": 27,
    "start_time": "2021-08-17T13:38:19.928Z"
   },
   {
    "duration": 1267,
    "start_time": "2021-08-17T13:38:19.958Z"
   },
   {
    "duration": 626,
    "start_time": "2021-08-17T13:38:21.229Z"
   },
   {
    "duration": 504,
    "start_time": "2021-08-17T13:38:21.858Z"
   },
   {
    "duration": 650,
    "start_time": "2021-08-17T13:38:22.365Z"
   },
   {
    "duration": 474,
    "start_time": "2021-08-17T13:38:23.022Z"
   },
   {
    "duration": 8,
    "start_time": "2021-08-17T13:38:23.498Z"
   },
   {
    "duration": 553,
    "start_time": "2021-08-17T13:38:23.509Z"
   },
   {
    "duration": 7,
    "start_time": "2021-08-17T13:38:24.065Z"
   },
   {
    "duration": 159,
    "start_time": "2021-08-17T13:38:24.074Z"
   },
   {
    "duration": 26,
    "start_time": "2021-08-17T13:38:24.236Z"
   },
   {
    "duration": 36,
    "start_time": "2021-08-17T13:38:24.265Z"
   },
   {
    "duration": 52,
    "start_time": "2021-08-17T13:38:24.304Z"
   },
   {
    "duration": 4045,
    "start_time": "2021-08-17T16:17:32.053Z"
   },
   {
    "duration": 1464,
    "start_time": "2021-08-17T16:17:36.101Z"
   },
   {
    "duration": 31,
    "start_time": "2021-08-17T16:17:37.569Z"
   },
   {
    "duration": 15,
    "start_time": "2021-08-17T16:17:37.603Z"
   },
   {
    "duration": 36,
    "start_time": "2021-08-17T16:17:37.620Z"
   },
   {
    "duration": 15,
    "start_time": "2021-08-17T16:17:37.658Z"
   },
   {
    "duration": 46,
    "start_time": "2021-08-17T16:17:37.676Z"
   },
   {
    "duration": 59,
    "start_time": "2021-08-17T16:17:37.726Z"
   },
   {
    "duration": 19,
    "start_time": "2021-08-17T16:17:37.788Z"
   },
   {
    "duration": 25,
    "start_time": "2021-08-17T16:17:37.810Z"
   },
   {
    "duration": 46,
    "start_time": "2021-08-17T16:17:37.838Z"
   },
   {
    "duration": 11,
    "start_time": "2021-08-17T16:17:37.887Z"
   },
   {
    "duration": 165,
    "start_time": "2021-08-17T16:17:37.900Z"
   },
   {
    "duration": 15,
    "start_time": "2021-08-17T16:17:38.067Z"
   },
   {
    "duration": 14,
    "start_time": "2021-08-17T16:17:38.084Z"
   },
   {
    "duration": 5,
    "start_time": "2021-08-17T16:17:38.101Z"
   },
   {
    "duration": 70,
    "start_time": "2021-08-17T16:17:38.108Z"
   },
   {
    "duration": 5,
    "start_time": "2021-08-17T16:17:38.180Z"
   },
   {
    "duration": 897,
    "start_time": "2021-08-17T16:17:38.187Z"
   },
   {
    "duration": 506,
    "start_time": "2021-08-17T16:17:39.087Z"
   },
   {
    "duration": 483,
    "start_time": "2021-08-17T16:17:39.597Z"
   },
   {
    "duration": 597,
    "start_time": "2021-08-17T16:17:40.083Z"
   },
   {
    "duration": 646,
    "start_time": "2021-08-17T16:17:40.684Z"
   },
   {
    "duration": 22,
    "start_time": "2021-08-17T16:17:41.334Z"
   },
   {
    "duration": 802,
    "start_time": "2021-08-17T16:17:41.359Z"
   },
   {
    "duration": 7,
    "start_time": "2021-08-17T16:17:42.164Z"
   },
   {
    "duration": 151,
    "start_time": "2021-08-17T16:17:42.174Z"
   },
   {
    "duration": 28,
    "start_time": "2021-08-17T16:17:42.327Z"
   },
   {
    "duration": 26,
    "start_time": "2021-08-17T16:17:42.358Z"
   },
   {
    "duration": 33,
    "start_time": "2021-08-17T16:17:42.387Z"
   }
  ],
  "kernelspec": {
   "display_name": "Python 3",
   "language": "python",
   "name": "python3"
  },
  "language_info": {
   "codemirror_mode": {
    "name": "ipython",
    "version": 3
   },
   "file_extension": ".py",
   "mimetype": "text/x-python",
   "name": "python",
   "nbconvert_exporter": "python",
   "pygments_lexer": "ipython3",
   "version": "3.7.8"
  },
  "toc": {
   "base_numbering": 1,
   "nav_menu": {},
   "number_sections": true,
   "sideBar": true,
   "skip_h1_title": true,
   "title_cell": "Table of Contents",
   "title_sidebar": "Contents",
   "toc_cell": false,
   "toc_position": {
    "height": "calc(100% - 180px)",
    "left": "10px",
    "top": "150px",
    "width": "176px"
   },
   "toc_section_display": true,
   "toc_window_display": true
  }
 },
 "nbformat": 4,
 "nbformat_minor": 2
}
