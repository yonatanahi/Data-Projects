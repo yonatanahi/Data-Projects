{
 "cells": [
  {
   "cell_type": "markdown",
   "metadata": {},
   "source": [
    "**Review**\n",
    "\t  \n",
    "Hi, my name is Dmitry and I will be reviewing your project.\n",
    "  \n",
    "You can find my comments in colored markdown cells:\n",
    "  \n",
    "<div class=\"alert alert-success\">\n",
    "  If everything is done successfully.\n",
    "</div>\n",
    "  \n",
    "<div class=\"alert alert-warning\">\n",
    "  If I have some (optional) suggestions, or questions to think about, or general comments.\n",
    "</div>\n",
    "  \n",
    "<div class=\"alert alert-danger\">\n",
    "  If a section requires some corrections. Work can't be accepted with red comments.\n",
    "</div>\n",
    "  \n",
    "Please don't remove my comments, as it will make further review iterations much harder for me.\n",
    "  \n",
    "Feel free to reply to my comments or ask questions using the following template:\n",
    "  \n",
    "<div class=\"alert alert-info\">\n",
    "  For your comments and questions.\n",
    "</div>\n",
    "  \n",
    "First of all, thank you for turning in the project! You did a great job overall, but unfortunately there a couple of small problems that need to be fixed before the project is accepted. It should be pretty straightforward though!"
   ]
  },
  {
   "cell_type": "markdown",
   "metadata": {},
   "source": [
    "<div class=\"alert alert-info\">\n",
    "  Hi, my name is Yonatan,\n",
    "    \n",
    "  Thank you for reviewing my project :)\n",
    "</div>"
   ]
  },
  {
   "cell_type": "markdown",
   "metadata": {},
   "source": [
    "<div class=\"alert alert-warning\">\n",
    "<b>Reviewer's comment V2</b>\n",
    "\t  \n",
    "You're welcome! There's still a problem with filling missing targets in the test set (see comment below), should be easy to fix :)\n",
    "\t  \n",
    "</div>"
   ]
  },
  {
   "cell_type": "markdown",
   "metadata": {},
   "source": [
    "# Project description\n",
    "The data is stored in three files:\n",
    "\n",
    "* `gold_recovery_train.csv` — training dataset \n",
    "* `gold_recovery_test.csv` — test dataset \n",
    "* `gold_recovery_full.csv` — source dataset \n",
    "\n",
    "Data is indexed with the date and time of acquisition (`date` feature). Parameters that are next to each other in terms of time are often similar.\n",
    "\n",
    "Some parameters are not available because they were measured and/or calculated much later. That's why, some of the features that are present in the training set may be absent from the test set. The test set also doesn't contain targets.\n",
    "\n",
    "The source dataset contains the training and test sets with all the features.\n",
    "\n",
    "You have the raw data that was only downloaded from the warehouse. Before building the model, check the correctness of the data. For that, use our instructions.\n"
   ]
  },
  {
   "cell_type": "markdown",
   "metadata": {},
   "source": [
    "## Technological Process\n",
    "![Alt text](https://pictures.s3.yandex.net/resources/ore_1591699963.jpg) \n"
   ]
  },
  {
   "cell_type": "markdown",
   "metadata": {},
   "source": [
    "## Recovery calculation\n",
    "You need to simulate the process of recovering gold from gold ore.\n",
    "\n",
    "Use the following formula to simulate the recovery process:\n",
    "![Alt text](https://pictures.s3.yandex.net/resources/Recovery_1576238822_1589899219.jpg) \n",
    "\n",
    "where:\n",
    "\n",
    "* C — share of gold in the concentrate right after flotation (for finding the rougher concentrate recovery)/after purification (for finding the final concentrate recovery)\n",
    "* F — share of gold in the feed before flotation (for finding the rougher concentrate recovery)/in the concentrate right after flotation (for finding the final concentrate recovery)\n",
    "* T — share of gold in the rougher tails right after flotation (for finding the rougher concentrate recovery)/after purification (for finding the final concentrate recovery)\n",
    "\n",
    "To predict the coefficient, you need to find the share of gold in the concentrate and the tails. Note that both final and rougher concentrates matter.\n"
   ]
  },
  {
   "cell_type": "markdown",
   "metadata": {},
   "source": [
    "## Project instructions\n",
    "### Prepare the data\n",
    "#### Open the files and look into the data."
   ]
  },
  {
   "cell_type": "code",
   "execution_count": 16,
   "metadata": {},
   "outputs": [
    {
     "name": "stdout",
     "output_type": "stream",
     "text": [
      "Defaulting to user installation because normal site-packages is not writeable\n",
      "Requirement already satisfied: sidetable in /home/jovyan/.local/lib/python3.7/site-packages (0.9.0)\n",
      "Requirement already satisfied: pandas>=1.0 in /home/jovyan/.local/lib/python3.7/site-packages (from sidetable) (1.3.4)\n",
      "Requirement already satisfied: numpy>=1.17.3; platform_machine != \"aarch64\" and platform_machine != \"arm64\" and python_version < \"3.10\" in /opt/conda/lib/python3.7/site-packages (from pandas>=1.0->sidetable) (1.19.5)\n",
      "Requirement already satisfied: pytz>=2017.3 in /opt/conda/lib/python3.7/site-packages (from pandas>=1.0->sidetable) (2021.1)\n",
      "Requirement already satisfied: python-dateutil>=2.7.3 in /opt/conda/lib/python3.7/site-packages (from pandas>=1.0->sidetable) (2.8.1)\n",
      "Requirement already satisfied: six>=1.5 in /opt/conda/lib/python3.7/site-packages (from python-dateutil>=2.7.3->pandas>=1.0->sidetable) (1.15.0)\n"
     ]
    }
   ],
   "source": [
    "! pip install sidetable"
   ]
  },
  {
   "cell_type": "markdown",
   "metadata": {},
   "source": [
    "##### Imports"
   ]
  },
  {
   "cell_type": "code",
   "execution_count": 17,
   "metadata": {},
   "outputs": [],
   "source": [
    "import pandas as pd\n",
    "import numpy as np\n",
    "import matplotlib.pyplot as plt\n",
    "import sidetable as stb\n",
    "\n",
    "from sklearn.preprocessing import StandardScaler\n",
    "from sklearn.model_selection import train_test_split, cross_val_score, GridSearchCV\n",
    "from sklearn.ensemble import RandomForestRegressor\n",
    "from sklearn.tree import DecisionTreeRegressor\n",
    "from sklearn.linear_model import LinearRegression\n",
    "from sklearn.metrics import make_scorer\n",
    "from sklearn.dummy import DummyRegressor\n",
    "from sklearn.pipeline import Pipeline\n",
    "\n",
    "import sys\n",
    "import warnings\n",
    "if not sys.warnoptions:\n",
    "    warnings.simplefilter(\"ignore\")"
   ]
  },
  {
   "cell_type": "code",
   "execution_count": 18,
   "metadata": {},
   "outputs": [],
   "source": [
    "df_train = pd.read_csv('/datasets/gold_recovery_train.csv') \n",
    "df_test = pd.read_csv('/datasets/gold_recovery_test.csv')\n",
    "df_full = pd.read_csv('/datasets/gold_recovery_full.csv')\n",
    "\n",
    "dfs = [df_train, df_test, df_full]\n",
    "dfs_names = ['df_train', 'df_test', 'df_full']"
   ]
  },
  {
   "cell_type": "code",
   "execution_count": 19,
   "metadata": {},
   "outputs": [
    {
     "data": {
      "text/plain": [
       "'df_train:'"
      ]
     },
     "metadata": {},
     "output_type": "display_data"
    },
    {
     "data": {
      "text/html": [
       "<div>\n",
       "<style scoped>\n",
       "    .dataframe tbody tr th:only-of-type {\n",
       "        vertical-align: middle;\n",
       "    }\n",
       "\n",
       "    .dataframe tbody tr th {\n",
       "        vertical-align: top;\n",
       "    }\n",
       "\n",
       "    .dataframe thead th {\n",
       "        text-align: right;\n",
       "    }\n",
       "</style>\n",
       "<table border=\"1\" class=\"dataframe\">\n",
       "  <thead>\n",
       "    <tr style=\"text-align: right;\">\n",
       "      <th></th>\n",
       "      <th>date</th>\n",
       "      <th>final.output.concentrate_ag</th>\n",
       "      <th>final.output.concentrate_pb</th>\n",
       "      <th>final.output.concentrate_sol</th>\n",
       "      <th>final.output.concentrate_au</th>\n",
       "      <th>final.output.recovery</th>\n",
       "      <th>final.output.tail_ag</th>\n",
       "      <th>final.output.tail_pb</th>\n",
       "      <th>final.output.tail_sol</th>\n",
       "      <th>final.output.tail_au</th>\n",
       "      <th>...</th>\n",
       "      <th>secondary_cleaner.state.floatbank4_a_air</th>\n",
       "      <th>secondary_cleaner.state.floatbank4_a_level</th>\n",
       "      <th>secondary_cleaner.state.floatbank4_b_air</th>\n",
       "      <th>secondary_cleaner.state.floatbank4_b_level</th>\n",
       "      <th>secondary_cleaner.state.floatbank5_a_air</th>\n",
       "      <th>secondary_cleaner.state.floatbank5_a_level</th>\n",
       "      <th>secondary_cleaner.state.floatbank5_b_air</th>\n",
       "      <th>secondary_cleaner.state.floatbank5_b_level</th>\n",
       "      <th>secondary_cleaner.state.floatbank6_a_air</th>\n",
       "      <th>secondary_cleaner.state.floatbank6_a_level</th>\n",
       "    </tr>\n",
       "  </thead>\n",
       "  <tbody>\n",
       "    <tr>\n",
       "      <td>0</td>\n",
       "      <td>2016-01-15 00:00:00</td>\n",
       "      <td>6.055403</td>\n",
       "      <td>9.889648</td>\n",
       "      <td>5.507324</td>\n",
       "      <td>42.19202</td>\n",
       "      <td>70.541216</td>\n",
       "      <td>10.411962</td>\n",
       "      <td>0.895447</td>\n",
       "      <td>16.904297</td>\n",
       "      <td>2.143149</td>\n",
       "      <td>...</td>\n",
       "      <td>14.016835</td>\n",
       "      <td>-502.488007</td>\n",
       "      <td>12.099931</td>\n",
       "      <td>-504.715942</td>\n",
       "      <td>9.925633</td>\n",
       "      <td>-498.310211</td>\n",
       "      <td>8.079666</td>\n",
       "      <td>-500.470978</td>\n",
       "      <td>14.151341</td>\n",
       "      <td>-605.84198</td>\n",
       "    </tr>\n",
       "  </tbody>\n",
       "</table>\n",
       "<p>1 rows × 87 columns</p>\n",
       "</div>"
      ],
      "text/plain": [
       "                  date  final.output.concentrate_ag  \\\n",
       "0  2016-01-15 00:00:00                     6.055403   \n",
       "\n",
       "   final.output.concentrate_pb  final.output.concentrate_sol  \\\n",
       "0                     9.889648                      5.507324   \n",
       "\n",
       "   final.output.concentrate_au  final.output.recovery  final.output.tail_ag  \\\n",
       "0                     42.19202              70.541216             10.411962   \n",
       "\n",
       "   final.output.tail_pb  final.output.tail_sol  final.output.tail_au  ...  \\\n",
       "0              0.895447              16.904297              2.143149  ...   \n",
       "\n",
       "   secondary_cleaner.state.floatbank4_a_air  \\\n",
       "0                                 14.016835   \n",
       "\n",
       "   secondary_cleaner.state.floatbank4_a_level  \\\n",
       "0                                 -502.488007   \n",
       "\n",
       "   secondary_cleaner.state.floatbank4_b_air  \\\n",
       "0                                 12.099931   \n",
       "\n",
       "   secondary_cleaner.state.floatbank4_b_level  \\\n",
       "0                                 -504.715942   \n",
       "\n",
       "   secondary_cleaner.state.floatbank5_a_air  \\\n",
       "0                                  9.925633   \n",
       "\n",
       "   secondary_cleaner.state.floatbank5_a_level  \\\n",
       "0                                 -498.310211   \n",
       "\n",
       "   secondary_cleaner.state.floatbank5_b_air  \\\n",
       "0                                  8.079666   \n",
       "\n",
       "   secondary_cleaner.state.floatbank5_b_level  \\\n",
       "0                                 -500.470978   \n",
       "\n",
       "   secondary_cleaner.state.floatbank6_a_air  \\\n",
       "0                                 14.151341   \n",
       "\n",
       "   secondary_cleaner.state.floatbank6_a_level  \n",
       "0                                  -605.84198  \n",
       "\n",
       "[1 rows x 87 columns]"
      ]
     },
     "metadata": {},
     "output_type": "display_data"
    },
    {
     "name": "stdout",
     "output_type": "stream",
     "text": [
      "\n"
     ]
    },
    {
     "data": {
      "text/plain": [
       "'df_test:'"
      ]
     },
     "metadata": {},
     "output_type": "display_data"
    },
    {
     "data": {
      "text/html": [
       "<div>\n",
       "<style scoped>\n",
       "    .dataframe tbody tr th:only-of-type {\n",
       "        vertical-align: middle;\n",
       "    }\n",
       "\n",
       "    .dataframe tbody tr th {\n",
       "        vertical-align: top;\n",
       "    }\n",
       "\n",
       "    .dataframe thead th {\n",
       "        text-align: right;\n",
       "    }\n",
       "</style>\n",
       "<table border=\"1\" class=\"dataframe\">\n",
       "  <thead>\n",
       "    <tr style=\"text-align: right;\">\n",
       "      <th></th>\n",
       "      <th>date</th>\n",
       "      <th>primary_cleaner.input.sulfate</th>\n",
       "      <th>primary_cleaner.input.depressant</th>\n",
       "      <th>primary_cleaner.input.feed_size</th>\n",
       "      <th>primary_cleaner.input.xanthate</th>\n",
       "      <th>primary_cleaner.state.floatbank8_a_air</th>\n",
       "      <th>primary_cleaner.state.floatbank8_a_level</th>\n",
       "      <th>primary_cleaner.state.floatbank8_b_air</th>\n",
       "      <th>primary_cleaner.state.floatbank8_b_level</th>\n",
       "      <th>primary_cleaner.state.floatbank8_c_air</th>\n",
       "      <th>...</th>\n",
       "      <th>secondary_cleaner.state.floatbank4_a_air</th>\n",
       "      <th>secondary_cleaner.state.floatbank4_a_level</th>\n",
       "      <th>secondary_cleaner.state.floatbank4_b_air</th>\n",
       "      <th>secondary_cleaner.state.floatbank4_b_level</th>\n",
       "      <th>secondary_cleaner.state.floatbank5_a_air</th>\n",
       "      <th>secondary_cleaner.state.floatbank5_a_level</th>\n",
       "      <th>secondary_cleaner.state.floatbank5_b_air</th>\n",
       "      <th>secondary_cleaner.state.floatbank5_b_level</th>\n",
       "      <th>secondary_cleaner.state.floatbank6_a_air</th>\n",
       "      <th>secondary_cleaner.state.floatbank6_a_level</th>\n",
       "    </tr>\n",
       "  </thead>\n",
       "  <tbody>\n",
       "    <tr>\n",
       "      <td>0</td>\n",
       "      <td>2016-09-01 00:59:59</td>\n",
       "      <td>210.800909</td>\n",
       "      <td>14.993118</td>\n",
       "      <td>8.08</td>\n",
       "      <td>1.005021</td>\n",
       "      <td>1398.981301</td>\n",
       "      <td>-500.225577</td>\n",
       "      <td>1399.144926</td>\n",
       "      <td>-499.919735</td>\n",
       "      <td>1400.102998</td>\n",
       "      <td>...</td>\n",
       "      <td>12.023554</td>\n",
       "      <td>-497.795834</td>\n",
       "      <td>8.016656</td>\n",
       "      <td>-501.289139</td>\n",
       "      <td>7.946562</td>\n",
       "      <td>-432.31785</td>\n",
       "      <td>4.872511</td>\n",
       "      <td>-500.037437</td>\n",
       "      <td>26.705889</td>\n",
       "      <td>-499.709414</td>\n",
       "    </tr>\n",
       "  </tbody>\n",
       "</table>\n",
       "<p>1 rows × 53 columns</p>\n",
       "</div>"
      ],
      "text/plain": [
       "                  date  primary_cleaner.input.sulfate  \\\n",
       "0  2016-09-01 00:59:59                     210.800909   \n",
       "\n",
       "   primary_cleaner.input.depressant  primary_cleaner.input.feed_size  \\\n",
       "0                         14.993118                             8.08   \n",
       "\n",
       "   primary_cleaner.input.xanthate  primary_cleaner.state.floatbank8_a_air  \\\n",
       "0                        1.005021                             1398.981301   \n",
       "\n",
       "   primary_cleaner.state.floatbank8_a_level  \\\n",
       "0                               -500.225577   \n",
       "\n",
       "   primary_cleaner.state.floatbank8_b_air  \\\n",
       "0                             1399.144926   \n",
       "\n",
       "   primary_cleaner.state.floatbank8_b_level  \\\n",
       "0                               -499.919735   \n",
       "\n",
       "   primary_cleaner.state.floatbank8_c_air  ...  \\\n",
       "0                             1400.102998  ...   \n",
       "\n",
       "   secondary_cleaner.state.floatbank4_a_air  \\\n",
       "0                                 12.023554   \n",
       "\n",
       "   secondary_cleaner.state.floatbank4_a_level  \\\n",
       "0                                 -497.795834   \n",
       "\n",
       "   secondary_cleaner.state.floatbank4_b_air  \\\n",
       "0                                  8.016656   \n",
       "\n",
       "   secondary_cleaner.state.floatbank4_b_level  \\\n",
       "0                                 -501.289139   \n",
       "\n",
       "   secondary_cleaner.state.floatbank5_a_air  \\\n",
       "0                                  7.946562   \n",
       "\n",
       "   secondary_cleaner.state.floatbank5_a_level  \\\n",
       "0                                  -432.31785   \n",
       "\n",
       "   secondary_cleaner.state.floatbank5_b_air  \\\n",
       "0                                  4.872511   \n",
       "\n",
       "   secondary_cleaner.state.floatbank5_b_level  \\\n",
       "0                                 -500.037437   \n",
       "\n",
       "   secondary_cleaner.state.floatbank6_a_air  \\\n",
       "0                                 26.705889   \n",
       "\n",
       "   secondary_cleaner.state.floatbank6_a_level  \n",
       "0                                 -499.709414  \n",
       "\n",
       "[1 rows x 53 columns]"
      ]
     },
     "metadata": {},
     "output_type": "display_data"
    },
    {
     "name": "stdout",
     "output_type": "stream",
     "text": [
      "\n"
     ]
    },
    {
     "data": {
      "text/plain": [
       "'df_full:'"
      ]
     },
     "metadata": {},
     "output_type": "display_data"
    },
    {
     "data": {
      "text/html": [
       "<div>\n",
       "<style scoped>\n",
       "    .dataframe tbody tr th:only-of-type {\n",
       "        vertical-align: middle;\n",
       "    }\n",
       "\n",
       "    .dataframe tbody tr th {\n",
       "        vertical-align: top;\n",
       "    }\n",
       "\n",
       "    .dataframe thead th {\n",
       "        text-align: right;\n",
       "    }\n",
       "</style>\n",
       "<table border=\"1\" class=\"dataframe\">\n",
       "  <thead>\n",
       "    <tr style=\"text-align: right;\">\n",
       "      <th></th>\n",
       "      <th>date</th>\n",
       "      <th>final.output.concentrate_ag</th>\n",
       "      <th>final.output.concentrate_pb</th>\n",
       "      <th>final.output.concentrate_sol</th>\n",
       "      <th>final.output.concentrate_au</th>\n",
       "      <th>final.output.recovery</th>\n",
       "      <th>final.output.tail_ag</th>\n",
       "      <th>final.output.tail_pb</th>\n",
       "      <th>final.output.tail_sol</th>\n",
       "      <th>final.output.tail_au</th>\n",
       "      <th>...</th>\n",
       "      <th>secondary_cleaner.state.floatbank4_a_air</th>\n",
       "      <th>secondary_cleaner.state.floatbank4_a_level</th>\n",
       "      <th>secondary_cleaner.state.floatbank4_b_air</th>\n",
       "      <th>secondary_cleaner.state.floatbank4_b_level</th>\n",
       "      <th>secondary_cleaner.state.floatbank5_a_air</th>\n",
       "      <th>secondary_cleaner.state.floatbank5_a_level</th>\n",
       "      <th>secondary_cleaner.state.floatbank5_b_air</th>\n",
       "      <th>secondary_cleaner.state.floatbank5_b_level</th>\n",
       "      <th>secondary_cleaner.state.floatbank6_a_air</th>\n",
       "      <th>secondary_cleaner.state.floatbank6_a_level</th>\n",
       "    </tr>\n",
       "  </thead>\n",
       "  <tbody>\n",
       "    <tr>\n",
       "      <td>0</td>\n",
       "      <td>2016-01-15 00:00:00</td>\n",
       "      <td>6.055403</td>\n",
       "      <td>9.889648</td>\n",
       "      <td>5.507324</td>\n",
       "      <td>42.19202</td>\n",
       "      <td>70.541216</td>\n",
       "      <td>10.411962</td>\n",
       "      <td>0.895447</td>\n",
       "      <td>16.904297</td>\n",
       "      <td>2.143149</td>\n",
       "      <td>...</td>\n",
       "      <td>14.016835</td>\n",
       "      <td>-502.488007</td>\n",
       "      <td>12.099931</td>\n",
       "      <td>-504.715942</td>\n",
       "      <td>9.925633</td>\n",
       "      <td>-498.310211</td>\n",
       "      <td>8.079666</td>\n",
       "      <td>-500.470978</td>\n",
       "      <td>14.151341</td>\n",
       "      <td>-605.84198</td>\n",
       "    </tr>\n",
       "  </tbody>\n",
       "</table>\n",
       "<p>1 rows × 87 columns</p>\n",
       "</div>"
      ],
      "text/plain": [
       "                  date  final.output.concentrate_ag  \\\n",
       "0  2016-01-15 00:00:00                     6.055403   \n",
       "\n",
       "   final.output.concentrate_pb  final.output.concentrate_sol  \\\n",
       "0                     9.889648                      5.507324   \n",
       "\n",
       "   final.output.concentrate_au  final.output.recovery  final.output.tail_ag  \\\n",
       "0                     42.19202              70.541216             10.411962   \n",
       "\n",
       "   final.output.tail_pb  final.output.tail_sol  final.output.tail_au  ...  \\\n",
       "0              0.895447              16.904297              2.143149  ...   \n",
       "\n",
       "   secondary_cleaner.state.floatbank4_a_air  \\\n",
       "0                                 14.016835   \n",
       "\n",
       "   secondary_cleaner.state.floatbank4_a_level  \\\n",
       "0                                 -502.488007   \n",
       "\n",
       "   secondary_cleaner.state.floatbank4_b_air  \\\n",
       "0                                 12.099931   \n",
       "\n",
       "   secondary_cleaner.state.floatbank4_b_level  \\\n",
       "0                                 -504.715942   \n",
       "\n",
       "   secondary_cleaner.state.floatbank5_a_air  \\\n",
       "0                                  9.925633   \n",
       "\n",
       "   secondary_cleaner.state.floatbank5_a_level  \\\n",
       "0                                 -498.310211   \n",
       "\n",
       "   secondary_cleaner.state.floatbank5_b_air  \\\n",
       "0                                  8.079666   \n",
       "\n",
       "   secondary_cleaner.state.floatbank5_b_level  \\\n",
       "0                                 -500.470978   \n",
       "\n",
       "   secondary_cleaner.state.floatbank6_a_air  \\\n",
       "0                                 14.151341   \n",
       "\n",
       "   secondary_cleaner.state.floatbank6_a_level  \n",
       "0                                  -605.84198  \n",
       "\n",
       "[1 rows x 87 columns]"
      ]
     },
     "metadata": {},
     "output_type": "display_data"
    },
    {
     "name": "stdout",
     "output_type": "stream",
     "text": [
      "\n"
     ]
    }
   ],
   "source": [
    "for i in range(3):\n",
    "    display(dfs_names[i]+':')\n",
    "    display(dfs[i].head(1))\n",
    "    print()"
   ]
  },
  {
   "cell_type": "markdown",
   "metadata": {},
   "source": [
    "First look into the data."
   ]
  },
  {
   "cell_type": "markdown",
   "metadata": {},
   "source": [
    "##### Infos"
   ]
  },
  {
   "cell_type": "code",
   "execution_count": 20,
   "metadata": {
    "scrolled": false
   },
   "outputs": [
    {
     "data": {
      "text/plain": [
       "'df_train:'"
      ]
     },
     "metadata": {},
     "output_type": "display_data"
    },
    {
     "name": "stdout",
     "output_type": "stream",
     "text": [
      "<class 'pandas.core.frame.DataFrame'>\n",
      "RangeIndex: 16860 entries, 0 to 16859\n",
      "Data columns (total 87 columns):\n",
      "date                                                  16860 non-null object\n",
      "final.output.concentrate_ag                           16788 non-null float64\n",
      "final.output.concentrate_pb                           16788 non-null float64\n",
      "final.output.concentrate_sol                          16490 non-null float64\n",
      "final.output.concentrate_au                           16789 non-null float64\n",
      "final.output.recovery                                 15339 non-null float64\n",
      "final.output.tail_ag                                  16794 non-null float64\n",
      "final.output.tail_pb                                  16677 non-null float64\n",
      "final.output.tail_sol                                 16715 non-null float64\n",
      "final.output.tail_au                                  16794 non-null float64\n",
      "primary_cleaner.input.sulfate                         15553 non-null float64\n",
      "primary_cleaner.input.depressant                      15598 non-null float64\n",
      "primary_cleaner.input.feed_size                       16860 non-null float64\n",
      "primary_cleaner.input.xanthate                        15875 non-null float64\n",
      "primary_cleaner.output.concentrate_ag                 16778 non-null float64\n",
      "primary_cleaner.output.concentrate_pb                 16502 non-null float64\n",
      "primary_cleaner.output.concentrate_sol                16224 non-null float64\n",
      "primary_cleaner.output.concentrate_au                 16778 non-null float64\n",
      "primary_cleaner.output.tail_ag                        16777 non-null float64\n",
      "primary_cleaner.output.tail_pb                        16761 non-null float64\n",
      "primary_cleaner.output.tail_sol                       16579 non-null float64\n",
      "primary_cleaner.output.tail_au                        16777 non-null float64\n",
      "primary_cleaner.state.floatbank8_a_air                16820 non-null float64\n",
      "primary_cleaner.state.floatbank8_a_level              16827 non-null float64\n",
      "primary_cleaner.state.floatbank8_b_air                16820 non-null float64\n",
      "primary_cleaner.state.floatbank8_b_level              16833 non-null float64\n",
      "primary_cleaner.state.floatbank8_c_air                16822 non-null float64\n",
      "primary_cleaner.state.floatbank8_c_level              16833 non-null float64\n",
      "primary_cleaner.state.floatbank8_d_air                16821 non-null float64\n",
      "primary_cleaner.state.floatbank8_d_level              16833 non-null float64\n",
      "rougher.calculation.sulfate_to_au_concentrate         16833 non-null float64\n",
      "rougher.calculation.floatbank10_sulfate_to_au_feed    16833 non-null float64\n",
      "rougher.calculation.floatbank11_sulfate_to_au_feed    16833 non-null float64\n",
      "rougher.calculation.au_pb_ratio                       15618 non-null float64\n",
      "rougher.input.feed_ag                                 16778 non-null float64\n",
      "rougher.input.feed_pb                                 16632 non-null float64\n",
      "rougher.input.feed_rate                               16347 non-null float64\n",
      "rougher.input.feed_size                               16443 non-null float64\n",
      "rougher.input.feed_sol                                16568 non-null float64\n",
      "rougher.input.feed_au                                 16777 non-null float64\n",
      "rougher.input.floatbank10_sulfate                     15816 non-null float64\n",
      "rougher.input.floatbank10_xanthate                    16514 non-null float64\n",
      "rougher.input.floatbank11_sulfate                     16237 non-null float64\n",
      "rougher.input.floatbank11_xanthate                    14956 non-null float64\n",
      "rougher.output.concentrate_ag                         16778 non-null float64\n",
      "rougher.output.concentrate_pb                         16778 non-null float64\n",
      "rougher.output.concentrate_sol                        16698 non-null float64\n",
      "rougher.output.concentrate_au                         16778 non-null float64\n",
      "rougher.output.recovery                               14287 non-null float64\n",
      "rougher.output.tail_ag                                14610 non-null float64\n",
      "rougher.output.tail_pb                                16778 non-null float64\n",
      "rougher.output.tail_sol                               14611 non-null float64\n",
      "rougher.output.tail_au                                14611 non-null float64\n",
      "rougher.state.floatbank10_a_air                       16807 non-null float64\n",
      "rougher.state.floatbank10_a_level                     16807 non-null float64\n",
      "rougher.state.floatbank10_b_air                       16807 non-null float64\n",
      "rougher.state.floatbank10_b_level                     16807 non-null float64\n",
      "rougher.state.floatbank10_c_air                       16807 non-null float64\n",
      "rougher.state.floatbank10_c_level                     16814 non-null float64\n",
      "rougher.state.floatbank10_d_air                       16802 non-null float64\n",
      "rougher.state.floatbank10_d_level                     16809 non-null float64\n",
      "rougher.state.floatbank10_e_air                       16257 non-null float64\n",
      "rougher.state.floatbank10_e_level                     16809 non-null float64\n",
      "rougher.state.floatbank10_f_air                       16802 non-null float64\n",
      "rougher.state.floatbank10_f_level                     16802 non-null float64\n",
      "secondary_cleaner.output.tail_ag                      16776 non-null float64\n",
      "secondary_cleaner.output.tail_pb                      16764 non-null float64\n",
      "secondary_cleaner.output.tail_sol                     14874 non-null float64\n",
      "secondary_cleaner.output.tail_au                      16778 non-null float64\n",
      "secondary_cleaner.state.floatbank2_a_air              16497 non-null float64\n",
      "secondary_cleaner.state.floatbank2_a_level            16751 non-null float64\n",
      "secondary_cleaner.state.floatbank2_b_air              16705 non-null float64\n",
      "secondary_cleaner.state.floatbank2_b_level            16748 non-null float64\n",
      "secondary_cleaner.state.floatbank3_a_air              16763 non-null float64\n",
      "secondary_cleaner.state.floatbank3_a_level            16747 non-null float64\n",
      "secondary_cleaner.state.floatbank3_b_air              16752 non-null float64\n",
      "secondary_cleaner.state.floatbank3_b_level            16750 non-null float64\n",
      "secondary_cleaner.state.floatbank4_a_air              16731 non-null float64\n",
      "secondary_cleaner.state.floatbank4_a_level            16747 non-null float64\n",
      "secondary_cleaner.state.floatbank4_b_air              16768 non-null float64\n",
      "secondary_cleaner.state.floatbank4_b_level            16767 non-null float64\n",
      "secondary_cleaner.state.floatbank5_a_air              16775 non-null float64\n",
      "secondary_cleaner.state.floatbank5_a_level            16775 non-null float64\n",
      "secondary_cleaner.state.floatbank5_b_air              16775 non-null float64\n",
      "secondary_cleaner.state.floatbank5_b_level            16776 non-null float64\n",
      "secondary_cleaner.state.floatbank6_a_air              16757 non-null float64\n",
      "secondary_cleaner.state.floatbank6_a_level            16775 non-null float64\n",
      "dtypes: float64(86), object(1)\n",
      "memory usage: 11.2+ MB\n"
     ]
    },
    {
     "data": {
      "text/plain": [
       "None"
      ]
     },
     "metadata": {},
     "output_type": "display_data"
    },
    {
     "name": "stdout",
     "output_type": "stream",
     "text": [
      "\n"
     ]
    },
    {
     "data": {
      "text/plain": [
       "'df_test:'"
      ]
     },
     "metadata": {},
     "output_type": "display_data"
    },
    {
     "name": "stdout",
     "output_type": "stream",
     "text": [
      "<class 'pandas.core.frame.DataFrame'>\n",
      "RangeIndex: 5856 entries, 0 to 5855\n",
      "Data columns (total 53 columns):\n",
      "date                                          5856 non-null object\n",
      "primary_cleaner.input.sulfate                 5554 non-null float64\n",
      "primary_cleaner.input.depressant              5572 non-null float64\n",
      "primary_cleaner.input.feed_size               5856 non-null float64\n",
      "primary_cleaner.input.xanthate                5690 non-null float64\n",
      "primary_cleaner.state.floatbank8_a_air        5840 non-null float64\n",
      "primary_cleaner.state.floatbank8_a_level      5840 non-null float64\n",
      "primary_cleaner.state.floatbank8_b_air        5840 non-null float64\n",
      "primary_cleaner.state.floatbank8_b_level      5840 non-null float64\n",
      "primary_cleaner.state.floatbank8_c_air        5840 non-null float64\n",
      "primary_cleaner.state.floatbank8_c_level      5840 non-null float64\n",
      "primary_cleaner.state.floatbank8_d_air        5840 non-null float64\n",
      "primary_cleaner.state.floatbank8_d_level      5840 non-null float64\n",
      "rougher.input.feed_ag                         5840 non-null float64\n",
      "rougher.input.feed_pb                         5840 non-null float64\n",
      "rougher.input.feed_rate                       5816 non-null float64\n",
      "rougher.input.feed_size                       5834 non-null float64\n",
      "rougher.input.feed_sol                        5789 non-null float64\n",
      "rougher.input.feed_au                         5840 non-null float64\n",
      "rougher.input.floatbank10_sulfate             5599 non-null float64\n",
      "rougher.input.floatbank10_xanthate            5733 non-null float64\n",
      "rougher.input.floatbank11_sulfate             5801 non-null float64\n",
      "rougher.input.floatbank11_xanthate            5503 non-null float64\n",
      "rougher.state.floatbank10_a_air               5839 non-null float64\n",
      "rougher.state.floatbank10_a_level             5840 non-null float64\n",
      "rougher.state.floatbank10_b_air               5839 non-null float64\n",
      "rougher.state.floatbank10_b_level             5840 non-null float64\n",
      "rougher.state.floatbank10_c_air               5839 non-null float64\n",
      "rougher.state.floatbank10_c_level             5840 non-null float64\n",
      "rougher.state.floatbank10_d_air               5839 non-null float64\n",
      "rougher.state.floatbank10_d_level             5840 non-null float64\n",
      "rougher.state.floatbank10_e_air               5839 non-null float64\n",
      "rougher.state.floatbank10_e_level             5840 non-null float64\n",
      "rougher.state.floatbank10_f_air               5839 non-null float64\n",
      "rougher.state.floatbank10_f_level             5840 non-null float64\n",
      "secondary_cleaner.state.floatbank2_a_air      5836 non-null float64\n",
      "secondary_cleaner.state.floatbank2_a_level    5840 non-null float64\n",
      "secondary_cleaner.state.floatbank2_b_air      5833 non-null float64\n",
      "secondary_cleaner.state.floatbank2_b_level    5840 non-null float64\n",
      "secondary_cleaner.state.floatbank3_a_air      5822 non-null float64\n",
      "secondary_cleaner.state.floatbank3_a_level    5840 non-null float64\n",
      "secondary_cleaner.state.floatbank3_b_air      5840 non-null float64\n",
      "secondary_cleaner.state.floatbank3_b_level    5840 non-null float64\n",
      "secondary_cleaner.state.floatbank4_a_air      5840 non-null float64\n",
      "secondary_cleaner.state.floatbank4_a_level    5840 non-null float64\n",
      "secondary_cleaner.state.floatbank4_b_air      5840 non-null float64\n",
      "secondary_cleaner.state.floatbank4_b_level    5840 non-null float64\n",
      "secondary_cleaner.state.floatbank5_a_air      5840 non-null float64\n",
      "secondary_cleaner.state.floatbank5_a_level    5840 non-null float64\n",
      "secondary_cleaner.state.floatbank5_b_air      5840 non-null float64\n",
      "secondary_cleaner.state.floatbank5_b_level    5840 non-null float64\n",
      "secondary_cleaner.state.floatbank6_a_air      5840 non-null float64\n",
      "secondary_cleaner.state.floatbank6_a_level    5840 non-null float64\n",
      "dtypes: float64(52), object(1)\n",
      "memory usage: 2.4+ MB\n"
     ]
    },
    {
     "data": {
      "text/plain": [
       "None"
      ]
     },
     "metadata": {},
     "output_type": "display_data"
    },
    {
     "name": "stdout",
     "output_type": "stream",
     "text": [
      "\n"
     ]
    },
    {
     "data": {
      "text/plain": [
       "'df_full:'"
      ]
     },
     "metadata": {},
     "output_type": "display_data"
    },
    {
     "name": "stdout",
     "output_type": "stream",
     "text": [
      "<class 'pandas.core.frame.DataFrame'>\n",
      "RangeIndex: 22716 entries, 0 to 22715\n",
      "Data columns (total 87 columns):\n",
      "date                                                  22716 non-null object\n",
      "final.output.concentrate_ag                           22627 non-null float64\n",
      "final.output.concentrate_pb                           22629 non-null float64\n",
      "final.output.concentrate_sol                          22331 non-null float64\n",
      "final.output.concentrate_au                           22630 non-null float64\n",
      "final.output.recovery                                 20753 non-null float64\n",
      "final.output.tail_ag                                  22633 non-null float64\n",
      "final.output.tail_pb                                  22516 non-null float64\n",
      "final.output.tail_sol                                 22445 non-null float64\n",
      "final.output.tail_au                                  22635 non-null float64\n",
      "primary_cleaner.input.sulfate                         21107 non-null float64\n",
      "primary_cleaner.input.depressant                      21170 non-null float64\n",
      "primary_cleaner.input.feed_size                       22716 non-null float64\n",
      "primary_cleaner.input.xanthate                        21565 non-null float64\n",
      "primary_cleaner.output.concentrate_ag                 22618 non-null float64\n",
      "primary_cleaner.output.concentrate_pb                 22268 non-null float64\n",
      "primary_cleaner.output.concentrate_sol                21918 non-null float64\n",
      "primary_cleaner.output.concentrate_au                 22618 non-null float64\n",
      "primary_cleaner.output.tail_ag                        22614 non-null float64\n",
      "primary_cleaner.output.tail_pb                        22594 non-null float64\n",
      "primary_cleaner.output.tail_sol                       22365 non-null float64\n",
      "primary_cleaner.output.tail_au                        22617 non-null float64\n",
      "primary_cleaner.state.floatbank8_a_air                22660 non-null float64\n",
      "primary_cleaner.state.floatbank8_a_level              22667 non-null float64\n",
      "primary_cleaner.state.floatbank8_b_air                22660 non-null float64\n",
      "primary_cleaner.state.floatbank8_b_level              22673 non-null float64\n",
      "primary_cleaner.state.floatbank8_c_air                22662 non-null float64\n",
      "primary_cleaner.state.floatbank8_c_level              22673 non-null float64\n",
      "primary_cleaner.state.floatbank8_d_air                22661 non-null float64\n",
      "primary_cleaner.state.floatbank8_d_level              22673 non-null float64\n",
      "rougher.calculation.sulfate_to_au_concentrate         22672 non-null float64\n",
      "rougher.calculation.floatbank10_sulfate_to_au_feed    22672 non-null float64\n",
      "rougher.calculation.floatbank11_sulfate_to_au_feed    22672 non-null float64\n",
      "rougher.calculation.au_pb_ratio                       21089 non-null float64\n",
      "rougher.input.feed_ag                                 22618 non-null float64\n",
      "rougher.input.feed_pb                                 22472 non-null float64\n",
      "rougher.input.feed_rate                               22163 non-null float64\n",
      "rougher.input.feed_size                               22277 non-null float64\n",
      "rougher.input.feed_sol                                22357 non-null float64\n",
      "rougher.input.feed_au                                 22617 non-null float64\n",
      "rougher.input.floatbank10_sulfate                     21415 non-null float64\n",
      "rougher.input.floatbank10_xanthate                    22247 non-null float64\n",
      "rougher.input.floatbank11_sulfate                     22038 non-null float64\n",
      "rougher.input.floatbank11_xanthate                    20459 non-null float64\n",
      "rougher.output.concentrate_ag                         22618 non-null float64\n",
      "rougher.output.concentrate_pb                         22618 non-null float64\n",
      "rougher.output.concentrate_sol                        22526 non-null float64\n",
      "rougher.output.concentrate_au                         22618 non-null float64\n",
      "rougher.output.recovery                               19597 non-null float64\n",
      "rougher.output.tail_ag                                19979 non-null float64\n",
      "rougher.output.tail_pb                                22618 non-null float64\n",
      "rougher.output.tail_sol                               19980 non-null float64\n",
      "rougher.output.tail_au                                19980 non-null float64\n",
      "rougher.state.floatbank10_a_air                       22646 non-null float64\n",
      "rougher.state.floatbank10_a_level                     22647 non-null float64\n",
      "rougher.state.floatbank10_b_air                       22646 non-null float64\n",
      "rougher.state.floatbank10_b_level                     22647 non-null float64\n",
      "rougher.state.floatbank10_c_air                       22646 non-null float64\n",
      "rougher.state.floatbank10_c_level                     22654 non-null float64\n",
      "rougher.state.floatbank10_d_air                       22641 non-null float64\n",
      "rougher.state.floatbank10_d_level                     22649 non-null float64\n",
      "rougher.state.floatbank10_e_air                       22096 non-null float64\n",
      "rougher.state.floatbank10_e_level                     22649 non-null float64\n",
      "rougher.state.floatbank10_f_air                       22641 non-null float64\n",
      "rougher.state.floatbank10_f_level                     22642 non-null float64\n",
      "secondary_cleaner.output.tail_ag                      22616 non-null float64\n",
      "secondary_cleaner.output.tail_pb                      22600 non-null float64\n",
      "secondary_cleaner.output.tail_sol                     20501 non-null float64\n",
      "secondary_cleaner.output.tail_au                      22618 non-null float64\n",
      "secondary_cleaner.state.floatbank2_a_air              22333 non-null float64\n",
      "secondary_cleaner.state.floatbank2_a_level            22591 non-null float64\n",
      "secondary_cleaner.state.floatbank2_b_air              22538 non-null float64\n",
      "secondary_cleaner.state.floatbank2_b_level            22588 non-null float64\n",
      "secondary_cleaner.state.floatbank3_a_air              22585 non-null float64\n",
      "secondary_cleaner.state.floatbank3_a_level            22587 non-null float64\n",
      "secondary_cleaner.state.floatbank3_b_air              22592 non-null float64\n",
      "secondary_cleaner.state.floatbank3_b_level            22590 non-null float64\n",
      "secondary_cleaner.state.floatbank4_a_air              22571 non-null float64\n",
      "secondary_cleaner.state.floatbank4_a_level            22587 non-null float64\n",
      "secondary_cleaner.state.floatbank4_b_air              22608 non-null float64\n",
      "secondary_cleaner.state.floatbank4_b_level            22607 non-null float64\n",
      "secondary_cleaner.state.floatbank5_a_air              22615 non-null float64\n",
      "secondary_cleaner.state.floatbank5_a_level            22615 non-null float64\n",
      "secondary_cleaner.state.floatbank5_b_air              22615 non-null float64\n",
      "secondary_cleaner.state.floatbank5_b_level            22616 non-null float64\n",
      "secondary_cleaner.state.floatbank6_a_air              22597 non-null float64\n",
      "secondary_cleaner.state.floatbank6_a_level            22615 non-null float64\n",
      "dtypes: float64(86), object(1)\n",
      "memory usage: 15.1+ MB\n"
     ]
    },
    {
     "data": {
      "text/plain": [
       "None"
      ]
     },
     "metadata": {},
     "output_type": "display_data"
    },
    {
     "name": "stdout",
     "output_type": "stream",
     "text": [
      "\n"
     ]
    }
   ],
   "source": [
    "for i in range(3):\n",
    "    display(dfs_names[i]+':')\n",
    "    display(dfs[i].info())\n",
    "    print()    "
   ]
  },
  {
   "cell_type": "markdown",
   "metadata": {},
   "source": [
    "We have many floats, some objects (dates), different number of columns and misssing values."
   ]
  },
  {
   "cell_type": "markdown",
   "metadata": {},
   "source": [
    "##### Duplicates"
   ]
  },
  {
   "cell_type": "code",
   "execution_count": 21,
   "metadata": {},
   "outputs": [
    {
     "data": {
      "text/plain": [
       "'df_train:'"
      ]
     },
     "metadata": {},
     "output_type": "display_data"
    },
    {
     "data": {
      "text/plain": [
       "0"
      ]
     },
     "metadata": {},
     "output_type": "display_data"
    },
    {
     "name": "stdout",
     "output_type": "stream",
     "text": [
      "\n"
     ]
    },
    {
     "data": {
      "text/plain": [
       "'df_test:'"
      ]
     },
     "metadata": {},
     "output_type": "display_data"
    },
    {
     "data": {
      "text/plain": [
       "0"
      ]
     },
     "metadata": {},
     "output_type": "display_data"
    },
    {
     "name": "stdout",
     "output_type": "stream",
     "text": [
      "\n"
     ]
    },
    {
     "data": {
      "text/plain": [
       "'df_full:'"
      ]
     },
     "metadata": {},
     "output_type": "display_data"
    },
    {
     "data": {
      "text/plain": [
       "0"
      ]
     },
     "metadata": {},
     "output_type": "display_data"
    },
    {
     "name": "stdout",
     "output_type": "stream",
     "text": [
      "\n"
     ]
    }
   ],
   "source": [
    "for i in range(3):\n",
    "    display(dfs_names[i]+':')\n",
    "    display(dfs[i].duplicated().sum())\n",
    "    print()"
   ]
  },
  {
   "cell_type": "markdown",
   "metadata": {},
   "source": [
    "No duplicates."
   ]
  },
  {
   "cell_type": "markdown",
   "metadata": {},
   "source": [
    "<div class=\"alert alert-success\">\n",
    "<b>Reviewer's comment</b>\n",
    "\t  \n",
    "The data was loaded and inspected!\n",
    "\t  \n",
    "</div>"
   ]
  },
  {
   "cell_type": "markdown",
   "metadata": {},
   "source": [
    "#### Check that recovery is calculated correctly. Using the training set, calculate recovery for the `rougher.output.recovery` feature. Find the MAE between your calculations and the feature values. Provide findings."
   ]
  },
  {
   "cell_type": "code",
   "execution_count": 22,
   "metadata": {},
   "outputs": [],
   "source": [
    "C = df_train['rougher.output.concentrate_au']\n",
    "F = df_train['rougher.input.feed_au']\n",
    "T = df_train['rougher.output.tail_au']"
   ]
  },
  {
   "cell_type": "code",
   "execution_count": 23,
   "metadata": {},
   "outputs": [
    {
     "name": "stdout",
     "output_type": "stream",
     "text": [
      "MAE: 9.444891926100695e-15\n"
     ]
    }
   ],
   "source": [
    "df_train['recovery_calc'] = (C * (F - T)) / (F * (C - T)) * 100\n",
    "\n",
    "MAE = (df_train['recovery_calc'] - df_train['rougher.output.recovery']).abs().mean()\n",
    "\n",
    "print('MAE:', MAE) #to convert to real number"
   ]
  },
  {
   "cell_type": "markdown",
   "metadata": {},
   "source": [
    "MAE is very low: recovery is calculated correctly."
   ]
  },
  {
   "cell_type": "markdown",
   "metadata": {},
   "source": [
    "<div class=\"alert alert-success\">\n",
    "<b>Reviewer's comment</b>\n",
    "\t  \n",
    "Great, recovery data was validated!\n",
    "\t  \n",
    "</div>"
   ]
  },
  {
   "cell_type": "markdown",
   "metadata": {},
   "source": [
    "#### Analyze the features not available in the test set. What are these parameters? What is their type?"
   ]
  },
  {
   "cell_type": "code",
   "execution_count": 24,
   "metadata": {
    "scrolled": false
   },
   "outputs": [
    {
     "data": {
      "text/plain": [
       "Index(['final.output.concentrate_ag', 'final.output.concentrate_au',\n",
       "       'final.output.concentrate_pb', 'final.output.concentrate_sol',\n",
       "       'final.output.recovery', 'final.output.tail_ag', 'final.output.tail_au',\n",
       "       'final.output.tail_pb', 'final.output.tail_sol',\n",
       "       'primary_cleaner.output.concentrate_ag',\n",
       "       'primary_cleaner.output.concentrate_au',\n",
       "       'primary_cleaner.output.concentrate_pb',\n",
       "       'primary_cleaner.output.concentrate_sol',\n",
       "       'primary_cleaner.output.tail_ag', 'primary_cleaner.output.tail_au',\n",
       "       'primary_cleaner.output.tail_pb', 'primary_cleaner.output.tail_sol',\n",
       "       'recovery_calc', 'rougher.calculation.au_pb_ratio',\n",
       "       'rougher.calculation.floatbank10_sulfate_to_au_feed',\n",
       "       'rougher.calculation.floatbank11_sulfate_to_au_feed',\n",
       "       'rougher.calculation.sulfate_to_au_concentrate',\n",
       "       'rougher.output.concentrate_ag', 'rougher.output.concentrate_au',\n",
       "       'rougher.output.concentrate_pb', 'rougher.output.concentrate_sol',\n",
       "       'rougher.output.recovery', 'rougher.output.tail_ag',\n",
       "       'rougher.output.tail_au', 'rougher.output.tail_pb',\n",
       "       'rougher.output.tail_sol', 'secondary_cleaner.output.tail_ag',\n",
       "       'secondary_cleaner.output.tail_au', 'secondary_cleaner.output.tail_pb',\n",
       "       'secondary_cleaner.output.tail_sol'],\n",
       "      dtype='object')"
      ]
     },
     "execution_count": 24,
     "metadata": {},
     "output_type": "execute_result"
    }
   ],
   "source": [
    "diff = df_train.columns.difference(df_test.columns)\n",
    "diff"
   ]
  },
  {
   "cell_type": "markdown",
   "metadata": {},
   "source": [
    "We can see that outputs and calculations (parameter_type) are not included. The possible reason can be because targets are not included and also parameters that were measured or calculated much later."
   ]
  },
  {
   "cell_type": "markdown",
   "metadata": {},
   "source": [
    "<div class=\"alert alert-success\">\n",
    "<b>Reviewer's comment</b>\n",
    "\t  \n",
    "Yep, you are right\n",
    "\t  \n",
    "</div>"
   ]
  },
  {
   "cell_type": "markdown",
   "metadata": {},
   "source": [
    "#### Perform data preprocessing."
   ]
  },
  {
   "cell_type": "markdown",
   "metadata": {},
   "source": [
    "##### Missing values"
   ]
  },
  {
   "cell_type": "code",
   "execution_count": 29,
   "metadata": {},
   "outputs": [
    {
     "data": {
      "text/html": [
       "<div>\n",
       "<style scoped>\n",
       "    .dataframe tbody tr th:only-of-type {\n",
       "        vertical-align: middle;\n",
       "    }\n",
       "\n",
       "    .dataframe tbody tr th {\n",
       "        vertical-align: top;\n",
       "    }\n",
       "\n",
       "    .dataframe thead th {\n",
       "        text-align: right;\n",
       "    }\n",
       "</style>\n",
       "<table border=\"1\" class=\"dataframe\">\n",
       "  <thead>\n",
       "    <tr style=\"text-align: right;\">\n",
       "      <th></th>\n",
       "      <th>missing</th>\n",
       "      <th>total</th>\n",
       "      <th>percent</th>\n",
       "    </tr>\n",
       "  </thead>\n",
       "  <tbody>\n",
       "    <tr>\n",
       "      <td>rougher.output.recovery</td>\n",
       "      <td>0</td>\n",
       "      <td>14149</td>\n",
       "      <td>0.0</td>\n",
       "    </tr>\n",
       "    <tr>\n",
       "      <td>final.output.recovery</td>\n",
       "      <td>0</td>\n",
       "      <td>14149</td>\n",
       "      <td>0.0</td>\n",
       "    </tr>\n",
       "  </tbody>\n",
       "</table>\n",
       "</div>"
      ],
      "text/plain": [
       "                         missing  total  percent\n",
       "rougher.output.recovery        0  14149      0.0\n",
       "final.output.recovery          0  14149      0.0"
      ]
     },
     "metadata": {},
     "output_type": "display_data"
    },
    {
     "data": {
      "text/html": [
       "<div>\n",
       "<style scoped>\n",
       "    .dataframe tbody tr th:only-of-type {\n",
       "        vertical-align: middle;\n",
       "    }\n",
       "\n",
       "    .dataframe tbody tr th {\n",
       "        vertical-align: top;\n",
       "    }\n",
       "\n",
       "    .dataframe thead th {\n",
       "        text-align: right;\n",
       "    }\n",
       "</style>\n",
       "<table border=\"1\" class=\"dataframe\">\n",
       "  <thead>\n",
       "    <tr style=\"text-align: right;\">\n",
       "      <th></th>\n",
       "      <th>missing</th>\n",
       "      <th>total</th>\n",
       "      <th>percent</th>\n",
       "    </tr>\n",
       "  </thead>\n",
       "  <tbody>\n",
       "    <tr>\n",
       "      <td>rougher.output.recovery</td>\n",
       "      <td>0</td>\n",
       "      <td>19439</td>\n",
       "      <td>0.0</td>\n",
       "    </tr>\n",
       "    <tr>\n",
       "      <td>final.output.recovery</td>\n",
       "      <td>0</td>\n",
       "      <td>19439</td>\n",
       "      <td>0.0</td>\n",
       "    </tr>\n",
       "  </tbody>\n",
       "</table>\n",
       "</div>"
      ],
      "text/plain": [
       "                         missing  total  percent\n",
       "rougher.output.recovery        0  19439      0.0\n",
       "final.output.recovery          0  19439      0.0"
      ]
     },
     "metadata": {},
     "output_type": "display_data"
    }
   ],
   "source": [
    "df_train = df_train[df_train['rougher.output.recovery'].notnull()]\n",
    "df_train = df_train[df_train['final.output.recovery'].notnull()]\n",
    "display(df_train[['rougher.output.recovery', 'final.output.recovery']].stb.missing())\n",
    "\n",
    "df_full = df_full[df_full['rougher.output.recovery'].notnull()]\n",
    "df_full = df_full[df_full['final.output.recovery'].notnull()]\n",
    "display(df_full[['rougher.output.recovery', 'final.output.recovery']].stb.missing())\n"
   ]
  },
  {
   "cell_type": "code",
   "execution_count": 49,
   "metadata": {},
   "outputs": [],
   "source": [
    "df_train = df_train.ffill()\n",
    "df_test = df_test.ffill()\n",
    "df_full = df_full.ffill()"
   ]
  },
  {
   "cell_type": "markdown",
   "metadata": {},
   "source": [
    "No missing values."
   ]
  },
  {
   "cell_type": "markdown",
   "metadata": {},
   "source": [
    "<div class=\"alert alert-danger\">\n",
    "<b>Reviewer's comment</b>\n",
    "\t  \n",
    "Ok, using forward fill is reasonable due to the fact from the instruction that data close in time should be similar, but there is a problem, that you're also filling missing targets (this is especially problematic for model evaluation: how can we evaluate the model on the data which is not genuine?)\n",
    "\t  \n",
    "</div>"
   ]
  },
  {
   "cell_type": "markdown",
   "metadata": {},
   "source": [
    "<div class=\"alert alert-info\">\n",
    "  Thanks for your important comment!\n",
    "</div>"
   ]
  },
  {
   "cell_type": "markdown",
   "metadata": {},
   "source": [
    "<div class=\"alert alert-danger\">\n",
    "<b>Reviewer's comment V2</b>\n",
    "\t  \n",
    "Ok, great, now you dropped the missing targets in the train set. But unfortunately the problem still persists with the test set, as you're merging the test targets from `df_full` later, after using forward fill on it (and it has missing targets for dates that correspond to the test set)\n",
    "\t  \n",
    "</div>"
   ]
  },
  {
   "cell_type": "markdown",
   "metadata": {},
   "source": [
    "<div class=\"alert alert-info\">\n",
    "I hope it's okay now :) \n",
    "</div>"
   ]
  },
  {
   "cell_type": "markdown",
   "metadata": {},
   "source": [
    "### Analyze the data\n",
    "#### Take note of how the concentrations of metals (Au, Ag, Pb) change depending on the purification stage."
   ]
  },
  {
   "cell_type": "code",
   "execution_count": 50,
   "metadata": {},
   "outputs": [
    {
     "data": {
      "image/png": "[encoded data removed]",
      "text/plain": [
       "<Figure size 720x360 with 1 Axes>"
      ]
     },
     "metadata": {
      "needs_background": "light"
     },
     "output_type": "display_data"
    },
    {
     "data": {
      "image/png": "[encoded data removed]",
      "text/plain": [
       "<Figure size 720x360 with 1 Axes>"
      ]
     },
     "metadata": {
      "needs_background": "light"
     },
     "output_type": "display_data"
    },
    {
     "data": {
      "image/png": "[encoded data removed]",
      "text/plain": [
       "<Figure size 720x360 with 1 Axes>"
      ]
     },
     "metadata": {
      "needs_background": "light"
     },
     "output_type": "display_data"
    }
   ],
   "source": [
    "metals =  ['Gold', 'Silver', 'Lead']\n",
    "symbols = ['au', 'ag', 'pb']\n",
    "stages = ['rougher.output.concentrate_', 'primary_cleaner.output.concentrate_', \\\n",
    "          'final.output.concentrate_']\n",
    "\n",
    "for i in range(3):\n",
    "    plt.figure(figsize=(10, 5))\n",
    "    for stage in stages:\n",
    "        plt.hist(df_train[stage+symbols[i]], bins=100, \\\n",
    "                       label=stage, alpha=0.5)\n",
    "    \n",
    "    plt.xlabel('Concentration')\n",
    "    plt.ylabel('Frequency')\n",
    "    plt.title(metals[i])\n",
    "    plt.legend()\n",
    "    plt.show()"
   ]
  },
  {
   "cell_type": "markdown",
   "metadata": {},
   "source": [
    "In general, it looks like we have a lot of outliers around zero.\n",
    "\n",
    "Gold: Purification process looks good, although there is a little overlap between the stages.\n",
    "\n",
    "Silver: Something looks strange here.The concentration decreased along the stages and we also have overlap.\n",
    "\n",
    "Lead: It looks messy, we have a lot of overlap between stages."
   ]
  },
  {
   "cell_type": "markdown",
   "metadata": {},
   "source": [
    "<div class=\"alert alert-success\">\n",
    "<b>Reviewer's comment</b>\n",
    "\t  \n",
    "Yep, very good! Not sure why the decrease of silver concentration looks strange to you: as the goal of the process is purification of gold (i.e. increasing its concentration), the decrease of concentration of another element seems natural\n",
    "\t  \n",
    "</div>"
   ]
  },
  {
   "cell_type": "markdown",
   "metadata": {},
   "source": [
    "<div class=\"alert alert-info\">\n",
    "  I wrongly thought that the purification process is not just for gold, but for all metals...\n",
    "</div>"
   ]
  },
  {
   "cell_type": "markdown",
   "metadata": {},
   "source": [
    "<div class=\"alert alert-success\">\n",
    "<b>Reviewer's comment V2</b>\n",
    "\t  \n",
    "Ok! Yeah, this project can be a bit confusing!\n",
    "\t  \n",
    "</div>"
   ]
  },
  {
   "cell_type": "markdown",
   "metadata": {},
   "source": [
    "#### Compare the feed particle size distributions in the training set and in the test set. If the distributions vary significantly, the model evaluation will be incorrect."
   ]
  },
  {
   "cell_type": "code",
   "execution_count": 51,
   "metadata": {},
   "outputs": [
    {
     "data": {
      "image/png": "[encoded data removed]",
      "text/plain": [
       "<Figure size 720x360 with 1 Axes>"
      ]
     },
     "metadata": {
      "needs_background": "light"
     },
     "output_type": "display_data"
    },
    {
     "data": {
      "image/png": "[encoded data removed]",
      "text/plain": [
       "<Figure size 720x360 with 1 Axes>"
      ]
     },
     "metadata": {
      "needs_background": "light"
     },
     "output_type": "display_data"
    }
   ],
   "source": [
    "inputs = ['rougher.input.feed_size', 'primary_cleaner.input.feed_size']\n",
    "\n",
    "for i in range(2):\n",
    "    plt.figure(figsize=(10, 5))\n",
    "    plt.hist(df_train[inputs[i]], bins=100, label='train', alpha=0.5, density=True )\n",
    "    plt.hist(df_test[inputs[i]], bins=100, label='test', alpha=0.5, density=True )\n",
    "\n",
    "    plt.xlabel('Feed size')\n",
    "    plt.ylabel('Density')\n",
    "    plt.title(inputs[i])\n",
    "    plt.legend()\n",
    "    \n",
    "plt.show()"
   ]
  },
  {
   "cell_type": "markdown",
   "metadata": {},
   "source": [
    "The distributions  of feed particle size in train and test sets look similar."
   ]
  },
  {
   "cell_type": "markdown",
   "metadata": {},
   "source": [
    "<div class=\"alert alert-warning\">\n",
    "<b>Reviewer's comment</b>\n",
    "\t  \n",
    "For comparison of distributions it's better to use densities, not absolute values (the easiest way to achieve that is using `density=True` parameter of `plt.hist()`)\n",
    "\t  \n",
    "</div>"
   ]
  },
  {
   "cell_type": "markdown",
   "metadata": {},
   "source": [
    "<div class=\"alert alert-info\">\n",
    "  Corrected :)\n",
    "</div>"
   ]
  },
  {
   "cell_type": "markdown",
   "metadata": {},
   "source": [
    "<div class=\"alert alert-success\">\n",
    "<b>Reviewer's comment V2</b>\n",
    "\t  \n",
    "Awesome!\n",
    "\t  \n",
    "</div>"
   ]
  },
  {
   "cell_type": "markdown",
   "metadata": {},
   "source": [
    "#### Consider the total concentrations of all substances at different stages: raw feed, rougher concentrate, and final concentrate. \n",
    "* Do you notice any abnormal values in the total distribution? \n",
    "* If you do, is it worth removing such values from both samples?\n",
    "* Describe the findings and eliminate anomalies."
   ]
  },
  {
   "cell_type": "code",
   "execution_count": 52,
   "metadata": {},
   "outputs": [
    {
     "data": {
      "image/png": "[encoded data removed]",
      "text/plain": [
       "<Figure size 1080x360 with 1 Axes>"
      ]
     },
     "metadata": {
      "needs_background": "light"
     },
     "output_type": "display_data"
    }
   ],
   "source": [
    "stages = ['rougher.input.feed_', 'rougher.output.concentrate_', 'final.output.concentrate_']\n",
    "\n",
    "plt.figure(figsize=(15, 5))\n",
    "\n",
    "for stage in stages:\n",
    "    total = df_full[stage+'au'] + df_full[stage+'ag'] + df_full[stage+'pb']\n",
    "    plt.hist(total, bins=100, label=stage, alpha=0.5)\n",
    "    \n",
    "plt.xlabel('Total concentration')\n",
    "plt.ylabel('Frequency')\n",
    "plt.title('Total Concentration at different stages')\n",
    "plt.legend()\n",
    "plt.show()"
   ]
  },
  {
   "cell_type": "markdown",
   "metadata": {},
   "source": [
    "As we said before, we can see a lot of ouliers around zero at different stages. We should remove these values."
   ]
  },
  {
   "cell_type": "markdown",
   "metadata": {},
   "source": [
    "##### Removing outliers"
   ]
  },
  {
   "cell_type": "code",
   "execution_count": 53,
   "metadata": {},
   "outputs": [],
   "source": [
    "df_train = df_train.loc[(df_train[['rougher.input.feed_au', 'rougher.input.feed_ag', 'rougher.input.feed_pb']].sum(axis=1) > 10) \\\n",
    "           & (df_train[['rougher.output.concentrate_au', 'rougher.output.concentrate_ag', 'rougher.output.concentrate_pb']].sum(axis=1) > 10)\\\n",
    "           & (df_train[['final.output.concentrate_au', 'final.output.concentrate_ag', 'final.output.concentrate_pb']].sum(axis=1) > 10)] \n",
    "\n",
    "df_test = df_test.loc[df_test[['rougher.input.feed_au', 'rougher.input.feed_ag', 'rougher.input.feed_pb']].sum(axis=1) > 10] \n"
   ]
  },
  {
   "cell_type": "markdown",
   "metadata": {},
   "source": [
    "No outliers."
   ]
  },
  {
   "cell_type": "markdown",
   "metadata": {},
   "source": [
    "<div class=\"alert alert-success\">\n",
    "<b>Reviewer's comment</b>\n",
    "\t  \n",
    "Anomalous values were detected and removed\n",
    "\t  \n",
    "</div>"
   ]
  },
  {
   "cell_type": "markdown",
   "metadata": {},
   "source": [
    "### Build the model\n",
    "#### Write a function to calculate the final sMAPE value."
   ]
  },
  {
   "cell_type": "markdown",
   "metadata": {},
   "source": [
    "##### evaluation metrics formulas\n",
    "![Alt text](https://pictures.s3.yandex.net/resources/smape_1576239058_1589899769.jpg) \n",
    "![Alt text](https://pictures.s3.yandex.net/resources/_smape_1_1589900649.jpg) \n"
   ]
  },
  {
   "cell_type": "code",
   "execution_count": 54,
   "metadata": {},
   "outputs": [],
   "source": [
    "def smape(target, predictions):\n",
    "    numerator = np.abs(target - predictions)\n",
    "    denominator = (np.abs(target) + np.abs(predictions))/ 2\n",
    "    return ((numerator / denominator).mean())*100\n",
    "\n",
    "def final_smape(target, predictions):\n",
    "    rougher = smape(target[:,0], predictions[:,0])\n",
    "    final = smape(target[:,1], predictions[:,1])\n",
    "    return  0.25* rougher + 0.75* final\n",
    "\n",
    "smape_scorer = make_scorer(final_smape, greater_is_better=False)"
   ]
  },
  {
   "cell_type": "markdown",
   "metadata": {},
   "source": [
    "<div class=\"alert alert-success\">\n",
    "<b>Reviewer's comment</b>\n",
    "\t  \n",
    "Smape functions and scorer initialization are correct\n",
    "\t  \n",
    "</div>"
   ]
  },
  {
   "cell_type": "markdown",
   "metadata": {},
   "source": [
    "#### Train different models. \n",
    "* Evaluate them using cross-validation. \n",
    "* Pick the best model and test it using the test sample. \n",
    "* Provide findings."
   ]
  },
  {
   "cell_type": "markdown",
   "metadata": {},
   "source": [
    "Let's eliminate the different columns between the train and test sets:"
   ]
  },
  {
   "cell_type": "code",
   "execution_count": 55,
   "metadata": {},
   "outputs": [],
   "source": [
    "df_train = df_train.drop(diff, axis=1)"
   ]
  },
  {
   "cell_type": "code",
   "execution_count": 56,
   "metadata": {},
   "outputs": [
    {
     "data": {
      "text/plain": [
       "Index([], dtype='object')"
      ]
     },
     "execution_count": 56,
     "metadata": {},
     "output_type": "execute_result"
    }
   ],
   "source": [
    "df_train.columns.difference(df_test.columns)"
   ]
  },
  {
   "cell_type": "markdown",
   "metadata": {},
   "source": [
    "<div class=\"alert alert-success\">\n",
    "<b>Reviewer's comment</b>\n",
    "\t  \n",
    "Good!\n",
    "\t  \n",
    "</div>"
   ]
  },
  {
   "cell_type": "markdown",
   "metadata": {},
   "source": [
    "Now we have to merge the target columns into the train and test sets:"
   ]
  },
  {
   "cell_type": "code",
   "execution_count": 57,
   "metadata": {},
   "outputs": [],
   "source": [
    "target_cols = df_full[['final.output.recovery', 'rougher.output.recovery', 'date']]\n",
    "\n",
    "df_test = df_test.merge(target_cols, on='date', how='left')\n",
    "df_train = df_train.merge(target_cols, on='date', how='left')"
   ]
  },
  {
   "cell_type": "markdown",
   "metadata": {},
   "source": [
    "<div class=\"alert alert-success\">\n",
    "<b>Reviewer's comment</b>\n",
    "\t  \n",
    "Targets merged with the test set correctly\n",
    "\t  \n",
    "</div>"
   ]
  },
  {
   "cell_type": "markdown",
   "metadata": {},
   "source": [
    "We don't need the date column so we'll drop it:"
   ]
  },
  {
   "cell_type": "code",
   "execution_count": 58,
   "metadata": {},
   "outputs": [],
   "source": [
    "df_train = df_train.drop('date', axis=1)\n",
    "df_test = df_test.drop('date', axis=1)"
   ]
  },
  {
   "cell_type": "markdown",
   "metadata": {},
   "source": [
    "##### Features and Target Split"
   ]
  },
  {
   "cell_type": "code",
   "execution_count": 59,
   "metadata": {},
   "outputs": [],
   "source": [
    "features_train = df_train.drop(columns=['rougher.output.recovery' , 'final.output.recovery'], axis=1)\n",
    "target_train = df_train[['rougher.output.recovery' , 'final.output.recovery' ]]\n",
    "\n",
    "features_test = df_test.drop(columns=['rougher.output.recovery' , 'final.output.recovery'], axis=1)\n",
    "target_test = df_test[['rougher.output.recovery' , 'final.output.recovery' ]]"
   ]
  },
  {
   "cell_type": "markdown",
   "metadata": {},
   "source": [
    "Features and targets split correctly."
   ]
  },
  {
   "cell_type": "markdown",
   "metadata": {},
   "source": [
    "<div class=\"alert alert-success\">\n",
    "<b>Reviewer's comment</b>\n",
    "\t  \n",
    "Great!\n",
    "\t  \n",
    "</div>"
   ]
  },
  {
   "cell_type": "markdown",
   "metadata": {},
   "source": [
    "##### Scaling"
   ]
  },
  {
   "cell_type": "code",
   "execution_count": 63,
   "metadata": {
    "scrolled": true
   },
   "outputs": [
    {
     "data": {
      "text/html": [
       "<div>\n",
       "<style scoped>\n",
       "    .dataframe tbody tr th:only-of-type {\n",
       "        vertical-align: middle;\n",
       "    }\n",
       "\n",
       "    .dataframe tbody tr th {\n",
       "        vertical-align: top;\n",
       "    }\n",
       "\n",
       "    .dataframe thead th {\n",
       "        text-align: right;\n",
       "    }\n",
       "</style>\n",
       "<table border=\"1\" class=\"dataframe\">\n",
       "  <thead>\n",
       "    <tr style=\"text-align: right;\">\n",
       "      <th></th>\n",
       "      <th>0</th>\n",
       "      <th>1</th>\n",
       "      <th>2</th>\n",
       "      <th>3</th>\n",
       "      <th>4</th>\n",
       "      <th>5</th>\n",
       "      <th>6</th>\n",
       "      <th>7</th>\n",
       "      <th>8</th>\n",
       "      <th>9</th>\n",
       "      <th>...</th>\n",
       "      <th>42</th>\n",
       "      <th>43</th>\n",
       "      <th>44</th>\n",
       "      <th>45</th>\n",
       "      <th>46</th>\n",
       "      <th>47</th>\n",
       "      <th>48</th>\n",
       "      <th>49</th>\n",
       "      <th>50</th>\n",
       "      <th>51</th>\n",
       "    </tr>\n",
       "  </thead>\n",
       "  <tbody>\n",
       "    <tr>\n",
       "      <td>0</td>\n",
       "      <td>0.827068</td>\n",
       "      <td>2.000968</td>\n",
       "      <td>1.327599</td>\n",
       "      <td>-0.561481</td>\n",
       "      <td>-1.219013</td>\n",
       "      <td>-0.150837</td>\n",
       "      <td>-1.209421</td>\n",
       "      <td>-0.003071</td>\n",
       "      <td>-1.045225</td>\n",
       "      <td>-0.129681</td>\n",
       "      <td>...</td>\n",
       "      <td>-1.228686</td>\n",
       "      <td>0.232170</td>\n",
       "      <td>-1.660458</td>\n",
       "      <td>-0.441875</td>\n",
       "      <td>-1.611457</td>\n",
       "      <td>3.831784</td>\n",
       "      <td>-1.748340</td>\n",
       "      <td>-0.134609</td>\n",
       "      <td>2.088638</td>\n",
       "      <td>0.044746</td>\n",
       "    </tr>\n",
       "    <tr>\n",
       "      <td>1</td>\n",
       "      <td>0.927947</td>\n",
       "      <td>1.999187</td>\n",
       "      <td>1.327599</td>\n",
       "      <td>-0.583850</td>\n",
       "      <td>-1.220770</td>\n",
       "      <td>-0.142734</td>\n",
       "      <td>-1.218415</td>\n",
       "      <td>0.001128</td>\n",
       "      <td>-1.077864</td>\n",
       "      <td>-0.065321</td>\n",
       "      <td>...</td>\n",
       "      <td>-1.218816</td>\n",
       "      <td>0.203440</td>\n",
       "      <td>-1.627258</td>\n",
       "      <td>-0.422552</td>\n",
       "      <td>-1.607570</td>\n",
       "      <td>-1.371098</td>\n",
       "      <td>-1.746124</td>\n",
       "      <td>-0.138051</td>\n",
       "      <td>1.715023</td>\n",
       "      <td>0.041953</td>\n",
       "    </tr>\n",
       "    <tr>\n",
       "      <td>2</td>\n",
       "      <td>0.925036</td>\n",
       "      <td>1.335875</td>\n",
       "      <td>0.849998</td>\n",
       "      <td>-0.575282</td>\n",
       "      <td>-1.223225</td>\n",
       "      <td>-0.181813</td>\n",
       "      <td>-1.211770</td>\n",
       "      <td>0.001533</td>\n",
       "      <td>-1.061968</td>\n",
       "      <td>-0.193290</td>\n",
       "      <td>...</td>\n",
       "      <td>-1.246148</td>\n",
       "      <td>0.201150</td>\n",
       "      <td>-1.637157</td>\n",
       "      <td>-0.436484</td>\n",
       "      <td>-1.570119</td>\n",
       "      <td>0.021835</td>\n",
       "      <td>-1.736942</td>\n",
       "      <td>-0.128852</td>\n",
       "      <td>1.709466</td>\n",
       "      <td>0.021568</td>\n",
       "    </tr>\n",
       "    <tr>\n",
       "      <td>3</td>\n",
       "      <td>0.926712</td>\n",
       "      <td>1.058841</td>\n",
       "      <td>0.611197</td>\n",
       "      <td>-0.778999</td>\n",
       "      <td>-1.213513</td>\n",
       "      <td>-0.085200</td>\n",
       "      <td>-1.223494</td>\n",
       "      <td>0.017952</td>\n",
       "      <td>-1.045008</td>\n",
       "      <td>-0.026451</td>\n",
       "      <td>...</td>\n",
       "      <td>-1.225965</td>\n",
       "      <td>0.214449</td>\n",
       "      <td>-1.643531</td>\n",
       "      <td>-0.420686</td>\n",
       "      <td>-1.627887</td>\n",
       "      <td>0.018117</td>\n",
       "      <td>-1.727759</td>\n",
       "      <td>-0.132575</td>\n",
       "      <td>1.699285</td>\n",
       "      <td>0.070113</td>\n",
       "    </tr>\n",
       "    <tr>\n",
       "      <td>4</td>\n",
       "      <td>0.569975</td>\n",
       "      <td>0.641057</td>\n",
       "      <td>0.432097</td>\n",
       "      <td>-0.868061</td>\n",
       "      <td>-1.199261</td>\n",
       "      <td>-0.178919</td>\n",
       "      <td>-1.217809</td>\n",
       "      <td>0.009245</td>\n",
       "      <td>-1.028135</td>\n",
       "      <td>-0.134350</td>\n",
       "      <td>...</td>\n",
       "      <td>-1.228169</td>\n",
       "      <td>0.136693</td>\n",
       "      <td>-1.649417</td>\n",
       "      <td>-0.431464</td>\n",
       "      <td>-1.557888</td>\n",
       "      <td>-0.463564</td>\n",
       "      <td>-1.718577</td>\n",
       "      <td>-0.143497</td>\n",
       "      <td>1.711343</td>\n",
       "      <td>0.015635</td>\n",
       "    </tr>\n",
       "  </tbody>\n",
       "</table>\n",
       "<p>5 rows × 52 columns</p>\n",
       "</div>"
      ],
      "text/plain": [
       "         0         1         2         3         4         5         6   \\\n",
       "0  0.827068  2.000968  1.327599 -0.561481 -1.219013 -0.150837 -1.209421   \n",
       "1  0.927947  1.999187  1.327599 -0.583850 -1.220770 -0.142734 -1.218415   \n",
       "2  0.925036  1.335875  0.849998 -0.575282 -1.223225 -0.181813 -1.211770   \n",
       "3  0.926712  1.058841  0.611197 -0.778999 -1.213513 -0.085200 -1.223494   \n",
       "4  0.569975  0.641057  0.432097 -0.868061 -1.199261 -0.178919 -1.217809   \n",
       "\n",
       "         7         8         9   ...        42        43        44        45  \\\n",
       "0 -0.003071 -1.045225 -0.129681  ... -1.228686  0.232170 -1.660458 -0.441875   \n",
       "1  0.001128 -1.077864 -0.065321  ... -1.218816  0.203440 -1.627258 -0.422552   \n",
       "2  0.001533 -1.061968 -0.193290  ... -1.246148  0.201150 -1.637157 -0.436484   \n",
       "3  0.017952 -1.045008 -0.026451  ... -1.225965  0.214449 -1.643531 -0.420686   \n",
       "4  0.009245 -1.028135 -0.134350  ... -1.228169  0.136693 -1.649417 -0.431464   \n",
       "\n",
       "         46        47        48        49        50        51  \n",
       "0 -1.611457  3.831784 -1.748340 -0.134609  2.088638  0.044746  \n",
       "1 -1.607570 -1.371098 -1.746124 -0.138051  1.715023  0.041953  \n",
       "2 -1.570119  0.021835 -1.736942 -0.128852  1.709466  0.021568  \n",
       "3 -1.627887  0.018117 -1.727759 -0.132575  1.699285  0.070113  \n",
       "4 -1.557888 -0.463564 -1.718577 -0.143497  1.711343  0.015635  \n",
       "\n",
       "[5 rows x 52 columns]"
      ]
     },
     "execution_count": 63,
     "metadata": {},
     "output_type": "execute_result"
    }
   ],
   "source": [
    "scaler = StandardScaler()\n",
    "features_train = scaler.fit_transform(features_train)\n",
    "features_train = pd.DataFrame(features_train)\n",
    "\n",
    "scaler = StandardScaler()\n",
    "features_test = scaler.fit_transform(features_test)\n",
    "features_test = pd.DataFrame(features_test)\n",
    "features_test.head()"
   ]
  },
  {
   "cell_type": "markdown",
   "metadata": {},
   "source": [
    "Scaling looks good."
   ]
  },
  {
   "cell_type": "markdown",
   "metadata": {},
   "source": [
    "<div class=\"alert alert-warning\">\n",
    "<b>Reviewer's comment</b>\n",
    "\t  \n",
    "Scaling is applied correctly for the case when we only fit the model using the train set and then evaluate it on the test set. However, it is not quite correct for cross-validation: in each fold, the train subset will have implicit knowledge about the validation subset due to scaling being applied to the whole train set used for cross-validation. The proper way to use scaling with cross-validation is using [pipelines](https://scikit-learn.org/stable/modules/generated/sklearn.pipeline.Pipeline.html).\n",
    "\t  \n",
    "</div>"
   ]
  },
  {
   "cell_type": "markdown",
   "metadata": {},
   "source": [
    "<div class=\"alert alert-info\">\n",
    "  Thanks, I'll try it next time :)\n",
    "</div>"
   ]
  },
  {
   "cell_type": "markdown",
   "metadata": {},
   "source": [
    "<div class=\"alert alert-success\">\n",
    "<b>Reviewer's comment V2</b>\n",
    "\t  \n",
    "Ok!\n",
    "\t  \n",
    "</div>"
   ]
  },
  {
   "cell_type": "markdown",
   "metadata": {},
   "source": [
    "##### Linear Regression"
   ]
  },
  {
   "cell_type": "code",
   "execution_count": 64,
   "metadata": {},
   "outputs": [
    {
     "name": "stdout",
     "output_type": "stream",
     "text": [
      "The Linear Regression sMAPE score is 10.963\n"
     ]
    }
   ],
   "source": [
    "model = LinearRegression()\n",
    "model.fit(features_train, target_train)\n",
    "\n",
    "predictions = model.predict(features_test)\n",
    "predictions = pd.DataFrame(predictions)\n",
    "\n",
    "print('The Linear Regression sMAPE score is {:.3f}'.format(final_smape(target_test.values, predictions.values)))"
   ]
  },
  {
   "cell_type": "code",
   "execution_count": 65,
   "metadata": {},
   "outputs": [
    {
     "name": "stdout",
     "output_type": "stream",
     "text": [
      "The CV sMAPE score for the Linear Regression model is 10.254\n"
     ]
    }
   ],
   "source": [
    "scores = cross_val_score(model, features_train.values, target_train.values, cv=5, scoring=smape_scorer)\n",
    "print('The CV sMAPE score for the Linear Regression model is {:.3f}'.format(abs(scores.mean())))"
   ]
  },
  {
   "cell_type": "markdown",
   "metadata": {},
   "source": [
    "##### Decision Tree Regressor"
   ]
  },
  {
   "cell_type": "code",
   "execution_count": 33,
   "metadata": {},
   "outputs": [],
   "source": [
    "parameters = {'max_depth': [20, 30, 40], 'min_samples_leaf': [4,6,8]}"
   ]
  },
  {
   "cell_type": "code",
   "execution_count": 34,
   "metadata": {},
   "outputs": [
    {
     "name": "stdout",
     "output_type": "stream",
     "text": [
      "DecisionTreeRegressor(criterion='mse', max_depth=30, max_features=None,\n",
      "                      max_leaf_nodes=None, min_impurity_decrease=0.0,\n",
      "                      min_impurity_split=None, min_samples_leaf=8,\n",
      "                      min_samples_split=2, min_weight_fraction_leaf=0.0,\n",
      "                      presort=False, random_state=None, splitter='best')\n",
      "Best score: 12.631\n"
     ]
    }
   ],
   "source": [
    "model = GridSearchCV(DecisionTreeRegressor(), parameters, cv=5, scoring=smape_scorer)\n",
    "model.fit(features_train.values, target_train.values)\n",
    "\n",
    "print(model.best_estimator_)\n",
    "print('Best score: {:.3f}'.format(abs(model.best_score_)))"
   ]
  },
  {
   "cell_type": "code",
   "execution_count": 35,
   "metadata": {},
   "outputs": [
    {
     "name": "stdout",
     "output_type": "stream",
     "text": [
      "The Decision Tree Regressor sMAPE score is 13.242\n"
     ]
    }
   ],
   "source": [
    "model = DecisionTreeRegressor(max_depth=20, min_samples_leaf=8)\n",
    "model.fit(features_train, target_train)\n",
    "\n",
    "predictions = model.predict(features_test)\n",
    "predictions = pd.DataFrame(predictions)\n",
    "\n",
    "print('The Decision Tree Regressor sMAPE score is {:.3f}'.format(final_smape(target_test.values, predictions.values)))"
   ]
  },
  {
   "cell_type": "code",
   "execution_count": 36,
   "metadata": {},
   "outputs": [
    {
     "name": "stdout",
     "output_type": "stream",
     "text": [
      "The CV sMAPE score for the Decision Tree Regressor model is 13.061\n"
     ]
    }
   ],
   "source": [
    "scores = cross_val_score(model, features_train.values, target_train.values, cv=5, scoring=smape_scorer)\n",
    "print('The CV sMAPE score for the Decision Tree Regressor model is {:.3f}'.format(abs(scores.mean())))"
   ]
  },
  {
   "cell_type": "markdown",
   "metadata": {},
   "source": [
    "##### Random Forest Regressor"
   ]
  },
  {
   "cell_type": "code",
   "execution_count": 37,
   "metadata": {},
   "outputs": [],
   "source": [
    "parameters = {'n_estimators': [15,25,50],\\\n",
    "             'max_depth': [5,10,15],\\\n",
    "             'min_samples_split':[5,10,15],\\\n",
    "             'min_samples_leaf': [4,6,8]}"
   ]
  },
  {
   "cell_type": "code",
   "execution_count": 38,
   "metadata": {},
   "outputs": [
    {
     "ename": "KeyboardInterrupt",
     "evalue": "",
     "output_type": "error",
     "traceback": [
      "\u001b[0;31m---------------------------------------------------------------------------\u001b[0m",
      "\u001b[0;31mKeyboardInterrupt\u001b[0m                         Traceback (most recent call last)",
      "\u001b[0;32m<ipython-input-38-f6cf2b4123e8>\u001b[0m in \u001b[0;36m<module>\u001b[0;34m\u001b[0m\n\u001b[1;32m      1\u001b[0m \u001b[0mmodel\u001b[0m \u001b[0;34m=\u001b[0m \u001b[0mGridSearchCV\u001b[0m\u001b[0;34m(\u001b[0m\u001b[0mRandomForestRegressor\u001b[0m\u001b[0;34m(\u001b[0m\u001b[0;34m)\u001b[0m\u001b[0;34m,\u001b[0m \u001b[0mparameters\u001b[0m\u001b[0;34m,\u001b[0m \u001b[0mcv\u001b[0m\u001b[0;34m=\u001b[0m\u001b[0;36m5\u001b[0m\u001b[0;34m,\u001b[0m \u001b[0mscoring\u001b[0m\u001b[0;34m=\u001b[0m\u001b[0msmape_scorer\u001b[0m\u001b[0;34m)\u001b[0m\u001b[0;34m\u001b[0m\u001b[0;34m\u001b[0m\u001b[0m\n\u001b[0;32m----> 2\u001b[0;31m \u001b[0mmodel\u001b[0m\u001b[0;34m.\u001b[0m\u001b[0mfit\u001b[0m\u001b[0;34m(\u001b[0m\u001b[0mfeatures_train\u001b[0m\u001b[0;34m.\u001b[0m\u001b[0mvalues\u001b[0m\u001b[0;34m,\u001b[0m \u001b[0mtarget_train\u001b[0m\u001b[0;34m.\u001b[0m\u001b[0mvalues\u001b[0m\u001b[0;34m)\u001b[0m\u001b[0;34m\u001b[0m\u001b[0;34m\u001b[0m\u001b[0m\n\u001b[0m\u001b[1;32m      3\u001b[0m \u001b[0;34m\u001b[0m\u001b[0m\n\u001b[1;32m      4\u001b[0m \u001b[0mprint\u001b[0m\u001b[0;34m(\u001b[0m\u001b[0mmodel\u001b[0m\u001b[0;34m.\u001b[0m\u001b[0mbest_estimator_\u001b[0m\u001b[0;34m)\u001b[0m\u001b[0;34m\u001b[0m\u001b[0;34m\u001b[0m\u001b[0m\n\u001b[1;32m      5\u001b[0m \u001b[0mprint\u001b[0m\u001b[0;34m(\u001b[0m\u001b[0;34m'Best score: {:.3f}'\u001b[0m\u001b[0;34m.\u001b[0m\u001b[0mformat\u001b[0m\u001b[0;34m(\u001b[0m\u001b[0mabs\u001b[0m\u001b[0;34m(\u001b[0m\u001b[0mmodel\u001b[0m\u001b[0;34m.\u001b[0m\u001b[0mbest_score_\u001b[0m\u001b[0;34m)\u001b[0m\u001b[0;34m)\u001b[0m\u001b[0;34m)\u001b[0m\u001b[0;34m\u001b[0m\u001b[0;34m\u001b[0m\u001b[0m\n",
      "\u001b[0;32m/opt/conda/lib/python3.7/site-packages/sklearn/model_selection/_search.py\u001b[0m in \u001b[0;36mfit\u001b[0;34m(self, X, y, groups, **fit_params)\u001b[0m\n\u001b[1;32m    685\u001b[0m                 \u001b[0;32mreturn\u001b[0m \u001b[0mresults\u001b[0m\u001b[0;34m\u001b[0m\u001b[0;34m\u001b[0m\u001b[0m\n\u001b[1;32m    686\u001b[0m \u001b[0;34m\u001b[0m\u001b[0m\n\u001b[0;32m--> 687\u001b[0;31m             \u001b[0mself\u001b[0m\u001b[0;34m.\u001b[0m\u001b[0m_run_search\u001b[0m\u001b[0;34m(\u001b[0m\u001b[0mevaluate_candidates\u001b[0m\u001b[0;34m)\u001b[0m\u001b[0;34m\u001b[0m\u001b[0;34m\u001b[0m\u001b[0m\n\u001b[0m\u001b[1;32m    688\u001b[0m \u001b[0;34m\u001b[0m\u001b[0m\n\u001b[1;32m    689\u001b[0m         \u001b[0;31m# For multi-metric evaluation, store the best_index_, best_params_ and\u001b[0m\u001b[0;34m\u001b[0m\u001b[0;34m\u001b[0m\u001b[0;34m\u001b[0m\u001b[0m\n",
      "\u001b[0;32m/opt/conda/lib/python3.7/site-packages/sklearn/model_selection/_search.py\u001b[0m in \u001b[0;36m_run_search\u001b[0;34m(self, evaluate_candidates)\u001b[0m\n\u001b[1;32m   1146\u001b[0m     \u001b[0;32mdef\u001b[0m \u001b[0m_run_search\u001b[0m\u001b[0;34m(\u001b[0m\u001b[0mself\u001b[0m\u001b[0;34m,\u001b[0m \u001b[0mevaluate_candidates\u001b[0m\u001b[0;34m)\u001b[0m\u001b[0;34m:\u001b[0m\u001b[0;34m\u001b[0m\u001b[0;34m\u001b[0m\u001b[0m\n\u001b[1;32m   1147\u001b[0m         \u001b[0;34m\"\"\"Search all candidates in param_grid\"\"\"\u001b[0m\u001b[0;34m\u001b[0m\u001b[0;34m\u001b[0m\u001b[0m\n\u001b[0;32m-> 1148\u001b[0;31m         \u001b[0mevaluate_candidates\u001b[0m\u001b[0;34m(\u001b[0m\u001b[0mParameterGrid\u001b[0m\u001b[0;34m(\u001b[0m\u001b[0mself\u001b[0m\u001b[0;34m.\u001b[0m\u001b[0mparam_grid\u001b[0m\u001b[0;34m)\u001b[0m\u001b[0;34m)\u001b[0m\u001b[0;34m\u001b[0m\u001b[0;34m\u001b[0m\u001b[0m\n\u001b[0m\u001b[1;32m   1149\u001b[0m \u001b[0;34m\u001b[0m\u001b[0m\n\u001b[1;32m   1150\u001b[0m \u001b[0;34m\u001b[0m\u001b[0m\n",
      "\u001b[0;32m/opt/conda/lib/python3.7/site-packages/sklearn/model_selection/_search.py\u001b[0m in \u001b[0;36mevaluate_candidates\u001b[0;34m(candidate_params)\u001b[0m\n\u001b[1;32m    664\u001b[0m                                \u001b[0;32mfor\u001b[0m \u001b[0mparameters\u001b[0m\u001b[0;34m,\u001b[0m \u001b[0;34m(\u001b[0m\u001b[0mtrain\u001b[0m\u001b[0;34m,\u001b[0m \u001b[0mtest\u001b[0m\u001b[0;34m)\u001b[0m\u001b[0;34m\u001b[0m\u001b[0;34m\u001b[0m\u001b[0m\n\u001b[1;32m    665\u001b[0m                                in product(candidate_params,\n\u001b[0;32m--> 666\u001b[0;31m                                           cv.split(X, y, groups)))\n\u001b[0m\u001b[1;32m    667\u001b[0m \u001b[0;34m\u001b[0m\u001b[0m\n\u001b[1;32m    668\u001b[0m                 \u001b[0;32mif\u001b[0m \u001b[0mlen\u001b[0m\u001b[0;34m(\u001b[0m\u001b[0mout\u001b[0m\u001b[0;34m)\u001b[0m \u001b[0;34m<\u001b[0m \u001b[0;36m1\u001b[0m\u001b[0;34m:\u001b[0m\u001b[0;34m\u001b[0m\u001b[0;34m\u001b[0m\u001b[0m\n",
      "\u001b[0;32m/opt/conda/lib/python3.7/site-packages/joblib/parallel.py\u001b[0m in \u001b[0;36m__call__\u001b[0;34m(self, iterable)\u001b[0m\n\u001b[1;32m   1042\u001b[0m                 \u001b[0mself\u001b[0m\u001b[0;34m.\u001b[0m\u001b[0m_iterating\u001b[0m \u001b[0;34m=\u001b[0m \u001b[0mself\u001b[0m\u001b[0;34m.\u001b[0m\u001b[0m_original_iterator\u001b[0m \u001b[0;32mis\u001b[0m \u001b[0;32mnot\u001b[0m \u001b[0;32mNone\u001b[0m\u001b[0;34m\u001b[0m\u001b[0;34m\u001b[0m\u001b[0m\n\u001b[1;32m   1043\u001b[0m \u001b[0;34m\u001b[0m\u001b[0m\n\u001b[0;32m-> 1044\u001b[0;31m             \u001b[0;32mwhile\u001b[0m \u001b[0mself\u001b[0m\u001b[0;34m.\u001b[0m\u001b[0mdispatch_one_batch\u001b[0m\u001b[0;34m(\u001b[0m\u001b[0miterator\u001b[0m\u001b[0;34m)\u001b[0m\u001b[0;34m:\u001b[0m\u001b[0;34m\u001b[0m\u001b[0;34m\u001b[0m\u001b[0m\n\u001b[0m\u001b[1;32m   1045\u001b[0m                 \u001b[0;32mpass\u001b[0m\u001b[0;34m\u001b[0m\u001b[0;34m\u001b[0m\u001b[0m\n\u001b[1;32m   1046\u001b[0m \u001b[0;34m\u001b[0m\u001b[0m\n",
      "\u001b[0;32m/opt/conda/lib/python3.7/site-packages/joblib/parallel.py\u001b[0m in \u001b[0;36mdispatch_one_batch\u001b[0;34m(self, iterator)\u001b[0m\n\u001b[1;32m    857\u001b[0m                 \u001b[0;32mreturn\u001b[0m \u001b[0;32mFalse\u001b[0m\u001b[0;34m\u001b[0m\u001b[0;34m\u001b[0m\u001b[0m\n\u001b[1;32m    858\u001b[0m             \u001b[0;32melse\u001b[0m\u001b[0;34m:\u001b[0m\u001b[0;34m\u001b[0m\u001b[0;34m\u001b[0m\u001b[0m\n\u001b[0;32m--> 859\u001b[0;31m                 \u001b[0mself\u001b[0m\u001b[0;34m.\u001b[0m\u001b[0m_dispatch\u001b[0m\u001b[0;34m(\u001b[0m\u001b[0mtasks\u001b[0m\u001b[0;34m)\u001b[0m\u001b[0;34m\u001b[0m\u001b[0;34m\u001b[0m\u001b[0m\n\u001b[0m\u001b[1;32m    860\u001b[0m                 \u001b[0;32mreturn\u001b[0m \u001b[0;32mTrue\u001b[0m\u001b[0;34m\u001b[0m\u001b[0;34m\u001b[0m\u001b[0m\n\u001b[1;32m    861\u001b[0m \u001b[0;34m\u001b[0m\u001b[0m\n",
      "\u001b[0;32m/opt/conda/lib/python3.7/site-packages/joblib/parallel.py\u001b[0m in \u001b[0;36m_dispatch\u001b[0;34m(self, batch)\u001b[0m\n\u001b[1;32m    775\u001b[0m         \u001b[0;32mwith\u001b[0m \u001b[0mself\u001b[0m\u001b[0;34m.\u001b[0m\u001b[0m_lock\u001b[0m\u001b[0;34m:\u001b[0m\u001b[0;34m\u001b[0m\u001b[0;34m\u001b[0m\u001b[0m\n\u001b[1;32m    776\u001b[0m             \u001b[0mjob_idx\u001b[0m \u001b[0;34m=\u001b[0m \u001b[0mlen\u001b[0m\u001b[0;34m(\u001b[0m\u001b[0mself\u001b[0m\u001b[0;34m.\u001b[0m\u001b[0m_jobs\u001b[0m\u001b[0;34m)\u001b[0m\u001b[0;34m\u001b[0m\u001b[0;34m\u001b[0m\u001b[0m\n\u001b[0;32m--> 777\u001b[0;31m             \u001b[0mjob\u001b[0m \u001b[0;34m=\u001b[0m \u001b[0mself\u001b[0m\u001b[0;34m.\u001b[0m\u001b[0m_backend\u001b[0m\u001b[0;34m.\u001b[0m\u001b[0mapply_async\u001b[0m\u001b[0;34m(\u001b[0m\u001b[0mbatch\u001b[0m\u001b[0;34m,\u001b[0m \u001b[0mcallback\u001b[0m\u001b[0;34m=\u001b[0m\u001b[0mcb\u001b[0m\u001b[0;34m)\u001b[0m\u001b[0;34m\u001b[0m\u001b[0;34m\u001b[0m\u001b[0m\n\u001b[0m\u001b[1;32m    778\u001b[0m             \u001b[0;31m# A job can complete so quickly than its callback is\u001b[0m\u001b[0;34m\u001b[0m\u001b[0;34m\u001b[0m\u001b[0;34m\u001b[0m\u001b[0m\n\u001b[1;32m    779\u001b[0m             \u001b[0;31m# called before we get here, causing self._jobs to\u001b[0m\u001b[0;34m\u001b[0m\u001b[0;34m\u001b[0m\u001b[0;34m\u001b[0m\u001b[0m\n",
      "\u001b[0;32m/opt/conda/lib/python3.7/site-packages/joblib/_parallel_backends.py\u001b[0m in \u001b[0;36mapply_async\u001b[0;34m(self, func, callback)\u001b[0m\n\u001b[1;32m    206\u001b[0m     \u001b[0;32mdef\u001b[0m \u001b[0mapply_async\u001b[0m\u001b[0;34m(\u001b[0m\u001b[0mself\u001b[0m\u001b[0;34m,\u001b[0m \u001b[0mfunc\u001b[0m\u001b[0;34m,\u001b[0m \u001b[0mcallback\u001b[0m\u001b[0;34m=\u001b[0m\u001b[0;32mNone\u001b[0m\u001b[0;34m)\u001b[0m\u001b[0;34m:\u001b[0m\u001b[0;34m\u001b[0m\u001b[0;34m\u001b[0m\u001b[0m\n\u001b[1;32m    207\u001b[0m         \u001b[0;34m\"\"\"Schedule a func to be run\"\"\"\u001b[0m\u001b[0;34m\u001b[0m\u001b[0;34m\u001b[0m\u001b[0m\n\u001b[0;32m--> 208\u001b[0;31m         \u001b[0mresult\u001b[0m \u001b[0;34m=\u001b[0m \u001b[0mImmediateResult\u001b[0m\u001b[0;34m(\u001b[0m\u001b[0mfunc\u001b[0m\u001b[0;34m)\u001b[0m\u001b[0;34m\u001b[0m\u001b[0;34m\u001b[0m\u001b[0m\n\u001b[0m\u001b[1;32m    209\u001b[0m         \u001b[0;32mif\u001b[0m \u001b[0mcallback\u001b[0m\u001b[0;34m:\u001b[0m\u001b[0;34m\u001b[0m\u001b[0;34m\u001b[0m\u001b[0m\n\u001b[1;32m    210\u001b[0m             \u001b[0mcallback\u001b[0m\u001b[0;34m(\u001b[0m\u001b[0mresult\u001b[0m\u001b[0;34m)\u001b[0m\u001b[0;34m\u001b[0m\u001b[0;34m\u001b[0m\u001b[0m\n",
      "\u001b[0;32m/opt/conda/lib/python3.7/site-packages/joblib/_parallel_backends.py\u001b[0m in \u001b[0;36m__init__\u001b[0;34m(self, batch)\u001b[0m\n\u001b[1;32m    570\u001b[0m         \u001b[0;31m# Don't delay the application, to avoid keeping the input\u001b[0m\u001b[0;34m\u001b[0m\u001b[0;34m\u001b[0m\u001b[0;34m\u001b[0m\u001b[0m\n\u001b[1;32m    571\u001b[0m         \u001b[0;31m# arguments in memory\u001b[0m\u001b[0;34m\u001b[0m\u001b[0;34m\u001b[0m\u001b[0;34m\u001b[0m\u001b[0m\n\u001b[0;32m--> 572\u001b[0;31m         \u001b[0mself\u001b[0m\u001b[0;34m.\u001b[0m\u001b[0mresults\u001b[0m \u001b[0;34m=\u001b[0m \u001b[0mbatch\u001b[0m\u001b[0;34m(\u001b[0m\u001b[0;34m)\u001b[0m\u001b[0;34m\u001b[0m\u001b[0;34m\u001b[0m\u001b[0m\n\u001b[0m\u001b[1;32m    573\u001b[0m \u001b[0;34m\u001b[0m\u001b[0m\n\u001b[1;32m    574\u001b[0m     \u001b[0;32mdef\u001b[0m \u001b[0mget\u001b[0m\u001b[0;34m(\u001b[0m\u001b[0mself\u001b[0m\u001b[0;34m)\u001b[0m\u001b[0;34m:\u001b[0m\u001b[0;34m\u001b[0m\u001b[0;34m\u001b[0m\u001b[0m\n",
      "\u001b[0;32m/opt/conda/lib/python3.7/site-packages/joblib/parallel.py\u001b[0m in \u001b[0;36m__call__\u001b[0;34m(self)\u001b[0m\n\u001b[1;32m    261\u001b[0m         \u001b[0;32mwith\u001b[0m \u001b[0mparallel_backend\u001b[0m\u001b[0;34m(\u001b[0m\u001b[0mself\u001b[0m\u001b[0;34m.\u001b[0m\u001b[0m_backend\u001b[0m\u001b[0;34m,\u001b[0m \u001b[0mn_jobs\u001b[0m\u001b[0;34m=\u001b[0m\u001b[0mself\u001b[0m\u001b[0;34m.\u001b[0m\u001b[0m_n_jobs\u001b[0m\u001b[0;34m)\u001b[0m\u001b[0;34m:\u001b[0m\u001b[0;34m\u001b[0m\u001b[0;34m\u001b[0m\u001b[0m\n\u001b[1;32m    262\u001b[0m             return [func(*args, **kwargs)\n\u001b[0;32m--> 263\u001b[0;31m                     for func, args, kwargs in self.items]\n\u001b[0m\u001b[1;32m    264\u001b[0m \u001b[0;34m\u001b[0m\u001b[0m\n\u001b[1;32m    265\u001b[0m     \u001b[0;32mdef\u001b[0m \u001b[0m__reduce__\u001b[0m\u001b[0;34m(\u001b[0m\u001b[0mself\u001b[0m\u001b[0;34m)\u001b[0m\u001b[0;34m:\u001b[0m\u001b[0;34m\u001b[0m\u001b[0;34m\u001b[0m\u001b[0m\n",
      "\u001b[0;32m/opt/conda/lib/python3.7/site-packages/joblib/parallel.py\u001b[0m in \u001b[0;36m<listcomp>\u001b[0;34m(.0)\u001b[0m\n\u001b[1;32m    261\u001b[0m         \u001b[0;32mwith\u001b[0m \u001b[0mparallel_backend\u001b[0m\u001b[0;34m(\u001b[0m\u001b[0mself\u001b[0m\u001b[0;34m.\u001b[0m\u001b[0m_backend\u001b[0m\u001b[0;34m,\u001b[0m \u001b[0mn_jobs\u001b[0m\u001b[0;34m=\u001b[0m\u001b[0mself\u001b[0m\u001b[0;34m.\u001b[0m\u001b[0m_n_jobs\u001b[0m\u001b[0;34m)\u001b[0m\u001b[0;34m:\u001b[0m\u001b[0;34m\u001b[0m\u001b[0;34m\u001b[0m\u001b[0m\n\u001b[1;32m    262\u001b[0m             return [func(*args, **kwargs)\n\u001b[0;32m--> 263\u001b[0;31m                     for func, args, kwargs in self.items]\n\u001b[0m\u001b[1;32m    264\u001b[0m \u001b[0;34m\u001b[0m\u001b[0m\n\u001b[1;32m    265\u001b[0m     \u001b[0;32mdef\u001b[0m \u001b[0m__reduce__\u001b[0m\u001b[0;34m(\u001b[0m\u001b[0mself\u001b[0m\u001b[0;34m)\u001b[0m\u001b[0;34m:\u001b[0m\u001b[0;34m\u001b[0m\u001b[0;34m\u001b[0m\u001b[0m\n",
      "\u001b[0;32m/opt/conda/lib/python3.7/site-packages/sklearn/model_selection/_validation.py\u001b[0m in \u001b[0;36m_fit_and_score\u001b[0;34m(estimator, X, y, scorer, train, test, verbose, parameters, fit_params, return_train_score, return_parameters, return_n_test_samples, return_times, return_estimator, error_score)\u001b[0m\n\u001b[1;32m    512\u001b[0m             \u001b[0mestimator\u001b[0m\u001b[0;34m.\u001b[0m\u001b[0mfit\u001b[0m\u001b[0;34m(\u001b[0m\u001b[0mX_train\u001b[0m\u001b[0;34m,\u001b[0m \u001b[0;34m**\u001b[0m\u001b[0mfit_params\u001b[0m\u001b[0;34m)\u001b[0m\u001b[0;34m\u001b[0m\u001b[0;34m\u001b[0m\u001b[0m\n\u001b[1;32m    513\u001b[0m         \u001b[0;32melse\u001b[0m\u001b[0;34m:\u001b[0m\u001b[0;34m\u001b[0m\u001b[0;34m\u001b[0m\u001b[0m\n\u001b[0;32m--> 514\u001b[0;31m             \u001b[0mestimator\u001b[0m\u001b[0;34m.\u001b[0m\u001b[0mfit\u001b[0m\u001b[0;34m(\u001b[0m\u001b[0mX_train\u001b[0m\u001b[0;34m,\u001b[0m \u001b[0my_train\u001b[0m\u001b[0;34m,\u001b[0m \u001b[0;34m**\u001b[0m\u001b[0mfit_params\u001b[0m\u001b[0;34m)\u001b[0m\u001b[0;34m\u001b[0m\u001b[0;34m\u001b[0m\u001b[0m\n\u001b[0m\u001b[1;32m    515\u001b[0m \u001b[0;34m\u001b[0m\u001b[0m\n\u001b[1;32m    516\u001b[0m     \u001b[0;32mexcept\u001b[0m \u001b[0mException\u001b[0m \u001b[0;32mas\u001b[0m \u001b[0me\u001b[0m\u001b[0;34m:\u001b[0m\u001b[0;34m\u001b[0m\u001b[0;34m\u001b[0m\u001b[0m\n",
      "\u001b[0;32m/opt/conda/lib/python3.7/site-packages/sklearn/ensemble/forest.py\u001b[0m in \u001b[0;36mfit\u001b[0;34m(self, X, y, sample_weight)\u001b[0m\n\u001b[1;32m    328\u001b[0m                     \u001b[0mt\u001b[0m\u001b[0;34m,\u001b[0m \u001b[0mself\u001b[0m\u001b[0;34m,\u001b[0m \u001b[0mX\u001b[0m\u001b[0;34m,\u001b[0m \u001b[0my\u001b[0m\u001b[0;34m,\u001b[0m \u001b[0msample_weight\u001b[0m\u001b[0;34m,\u001b[0m \u001b[0mi\u001b[0m\u001b[0;34m,\u001b[0m \u001b[0mlen\u001b[0m\u001b[0;34m(\u001b[0m\u001b[0mtrees\u001b[0m\u001b[0;34m)\u001b[0m\u001b[0;34m,\u001b[0m\u001b[0;34m\u001b[0m\u001b[0;34m\u001b[0m\u001b[0m\n\u001b[1;32m    329\u001b[0m                     verbose=self.verbose, class_weight=self.class_weight)\n\u001b[0;32m--> 330\u001b[0;31m                 for i, t in enumerate(trees))\n\u001b[0m\u001b[1;32m    331\u001b[0m \u001b[0;34m\u001b[0m\u001b[0m\n\u001b[1;32m    332\u001b[0m             \u001b[0;31m# Collect newly grown trees\u001b[0m\u001b[0;34m\u001b[0m\u001b[0;34m\u001b[0m\u001b[0;34m\u001b[0m\u001b[0m\n",
      "\u001b[0;32m/opt/conda/lib/python3.7/site-packages/joblib/parallel.py\u001b[0m in \u001b[0;36m__call__\u001b[0;34m(self, iterable)\u001b[0m\n\u001b[1;32m   1042\u001b[0m                 \u001b[0mself\u001b[0m\u001b[0;34m.\u001b[0m\u001b[0m_iterating\u001b[0m \u001b[0;34m=\u001b[0m \u001b[0mself\u001b[0m\u001b[0;34m.\u001b[0m\u001b[0m_original_iterator\u001b[0m \u001b[0;32mis\u001b[0m \u001b[0;32mnot\u001b[0m \u001b[0;32mNone\u001b[0m\u001b[0;34m\u001b[0m\u001b[0;34m\u001b[0m\u001b[0m\n\u001b[1;32m   1043\u001b[0m \u001b[0;34m\u001b[0m\u001b[0m\n\u001b[0;32m-> 1044\u001b[0;31m             \u001b[0;32mwhile\u001b[0m \u001b[0mself\u001b[0m\u001b[0;34m.\u001b[0m\u001b[0mdispatch_one_batch\u001b[0m\u001b[0;34m(\u001b[0m\u001b[0miterator\u001b[0m\u001b[0;34m)\u001b[0m\u001b[0;34m:\u001b[0m\u001b[0;34m\u001b[0m\u001b[0;34m\u001b[0m\u001b[0m\n\u001b[0m\u001b[1;32m   1045\u001b[0m                 \u001b[0;32mpass\u001b[0m\u001b[0;34m\u001b[0m\u001b[0;34m\u001b[0m\u001b[0m\n\u001b[1;32m   1046\u001b[0m \u001b[0;34m\u001b[0m\u001b[0m\n",
      "\u001b[0;32m/opt/conda/lib/python3.7/site-packages/joblib/parallel.py\u001b[0m in \u001b[0;36mdispatch_one_batch\u001b[0;34m(self, iterator)\u001b[0m\n\u001b[1;32m    857\u001b[0m                 \u001b[0;32mreturn\u001b[0m \u001b[0;32mFalse\u001b[0m\u001b[0;34m\u001b[0m\u001b[0;34m\u001b[0m\u001b[0m\n\u001b[1;32m    858\u001b[0m             \u001b[0;32melse\u001b[0m\u001b[0;34m:\u001b[0m\u001b[0;34m\u001b[0m\u001b[0;34m\u001b[0m\u001b[0m\n\u001b[0;32m--> 859\u001b[0;31m                 \u001b[0mself\u001b[0m\u001b[0;34m.\u001b[0m\u001b[0m_dispatch\u001b[0m\u001b[0;34m(\u001b[0m\u001b[0mtasks\u001b[0m\u001b[0;34m)\u001b[0m\u001b[0;34m\u001b[0m\u001b[0;34m\u001b[0m\u001b[0m\n\u001b[0m\u001b[1;32m    860\u001b[0m                 \u001b[0;32mreturn\u001b[0m \u001b[0;32mTrue\u001b[0m\u001b[0;34m\u001b[0m\u001b[0;34m\u001b[0m\u001b[0m\n\u001b[1;32m    861\u001b[0m \u001b[0;34m\u001b[0m\u001b[0m\n",
      "\u001b[0;32m/opt/conda/lib/python3.7/site-packages/joblib/parallel.py\u001b[0m in \u001b[0;36m_dispatch\u001b[0;34m(self, batch)\u001b[0m\n\u001b[1;32m    775\u001b[0m         \u001b[0;32mwith\u001b[0m \u001b[0mself\u001b[0m\u001b[0;34m.\u001b[0m\u001b[0m_lock\u001b[0m\u001b[0;34m:\u001b[0m\u001b[0;34m\u001b[0m\u001b[0;34m\u001b[0m\u001b[0m\n\u001b[1;32m    776\u001b[0m             \u001b[0mjob_idx\u001b[0m \u001b[0;34m=\u001b[0m \u001b[0mlen\u001b[0m\u001b[0;34m(\u001b[0m\u001b[0mself\u001b[0m\u001b[0;34m.\u001b[0m\u001b[0m_jobs\u001b[0m\u001b[0;34m)\u001b[0m\u001b[0;34m\u001b[0m\u001b[0;34m\u001b[0m\u001b[0m\n\u001b[0;32m--> 777\u001b[0;31m             \u001b[0mjob\u001b[0m \u001b[0;34m=\u001b[0m \u001b[0mself\u001b[0m\u001b[0;34m.\u001b[0m\u001b[0m_backend\u001b[0m\u001b[0;34m.\u001b[0m\u001b[0mapply_async\u001b[0m\u001b[0;34m(\u001b[0m\u001b[0mbatch\u001b[0m\u001b[0;34m,\u001b[0m \u001b[0mcallback\u001b[0m\u001b[0;34m=\u001b[0m\u001b[0mcb\u001b[0m\u001b[0;34m)\u001b[0m\u001b[0;34m\u001b[0m\u001b[0;34m\u001b[0m\u001b[0m\n\u001b[0m\u001b[1;32m    778\u001b[0m             \u001b[0;31m# A job can complete so quickly than its callback is\u001b[0m\u001b[0;34m\u001b[0m\u001b[0;34m\u001b[0m\u001b[0;34m\u001b[0m\u001b[0m\n\u001b[1;32m    779\u001b[0m             \u001b[0;31m# called before we get here, causing self._jobs to\u001b[0m\u001b[0;34m\u001b[0m\u001b[0;34m\u001b[0m\u001b[0;34m\u001b[0m\u001b[0m\n",
      "\u001b[0;32m/opt/conda/lib/python3.7/site-packages/joblib/_parallel_backends.py\u001b[0m in \u001b[0;36mapply_async\u001b[0;34m(self, func, callback)\u001b[0m\n\u001b[1;32m    206\u001b[0m     \u001b[0;32mdef\u001b[0m \u001b[0mapply_async\u001b[0m\u001b[0;34m(\u001b[0m\u001b[0mself\u001b[0m\u001b[0;34m,\u001b[0m \u001b[0mfunc\u001b[0m\u001b[0;34m,\u001b[0m \u001b[0mcallback\u001b[0m\u001b[0;34m=\u001b[0m\u001b[0;32mNone\u001b[0m\u001b[0;34m)\u001b[0m\u001b[0;34m:\u001b[0m\u001b[0;34m\u001b[0m\u001b[0;34m\u001b[0m\u001b[0m\n\u001b[1;32m    207\u001b[0m         \u001b[0;34m\"\"\"Schedule a func to be run\"\"\"\u001b[0m\u001b[0;34m\u001b[0m\u001b[0;34m\u001b[0m\u001b[0m\n\u001b[0;32m--> 208\u001b[0;31m         \u001b[0mresult\u001b[0m \u001b[0;34m=\u001b[0m \u001b[0mImmediateResult\u001b[0m\u001b[0;34m(\u001b[0m\u001b[0mfunc\u001b[0m\u001b[0;34m)\u001b[0m\u001b[0;34m\u001b[0m\u001b[0;34m\u001b[0m\u001b[0m\n\u001b[0m\u001b[1;32m    209\u001b[0m         \u001b[0;32mif\u001b[0m \u001b[0mcallback\u001b[0m\u001b[0;34m:\u001b[0m\u001b[0;34m\u001b[0m\u001b[0;34m\u001b[0m\u001b[0m\n\u001b[1;32m    210\u001b[0m             \u001b[0mcallback\u001b[0m\u001b[0;34m(\u001b[0m\u001b[0mresult\u001b[0m\u001b[0;34m)\u001b[0m\u001b[0;34m\u001b[0m\u001b[0;34m\u001b[0m\u001b[0m\n",
      "\u001b[0;32m/opt/conda/lib/python3.7/site-packages/joblib/_parallel_backends.py\u001b[0m in \u001b[0;36m__init__\u001b[0;34m(self, batch)\u001b[0m\n\u001b[1;32m    570\u001b[0m         \u001b[0;31m# Don't delay the application, to avoid keeping the input\u001b[0m\u001b[0;34m\u001b[0m\u001b[0;34m\u001b[0m\u001b[0;34m\u001b[0m\u001b[0m\n\u001b[1;32m    571\u001b[0m         \u001b[0;31m# arguments in memory\u001b[0m\u001b[0;34m\u001b[0m\u001b[0;34m\u001b[0m\u001b[0;34m\u001b[0m\u001b[0m\n\u001b[0;32m--> 572\u001b[0;31m         \u001b[0mself\u001b[0m\u001b[0;34m.\u001b[0m\u001b[0mresults\u001b[0m \u001b[0;34m=\u001b[0m \u001b[0mbatch\u001b[0m\u001b[0;34m(\u001b[0m\u001b[0;34m)\u001b[0m\u001b[0;34m\u001b[0m\u001b[0;34m\u001b[0m\u001b[0m\n\u001b[0m\u001b[1;32m    573\u001b[0m \u001b[0;34m\u001b[0m\u001b[0m\n\u001b[1;32m    574\u001b[0m     \u001b[0;32mdef\u001b[0m \u001b[0mget\u001b[0m\u001b[0;34m(\u001b[0m\u001b[0mself\u001b[0m\u001b[0;34m)\u001b[0m\u001b[0;34m:\u001b[0m\u001b[0;34m\u001b[0m\u001b[0;34m\u001b[0m\u001b[0m\n",
      "\u001b[0;32m/opt/conda/lib/python3.7/site-packages/joblib/parallel.py\u001b[0m in \u001b[0;36m__call__\u001b[0;34m(self)\u001b[0m\n\u001b[1;32m    261\u001b[0m         \u001b[0;32mwith\u001b[0m \u001b[0mparallel_backend\u001b[0m\u001b[0;34m(\u001b[0m\u001b[0mself\u001b[0m\u001b[0;34m.\u001b[0m\u001b[0m_backend\u001b[0m\u001b[0;34m,\u001b[0m \u001b[0mn_jobs\u001b[0m\u001b[0;34m=\u001b[0m\u001b[0mself\u001b[0m\u001b[0;34m.\u001b[0m\u001b[0m_n_jobs\u001b[0m\u001b[0;34m)\u001b[0m\u001b[0;34m:\u001b[0m\u001b[0;34m\u001b[0m\u001b[0;34m\u001b[0m\u001b[0m\n\u001b[1;32m    262\u001b[0m             return [func(*args, **kwargs)\n\u001b[0;32m--> 263\u001b[0;31m                     for func, args, kwargs in self.items]\n\u001b[0m\u001b[1;32m    264\u001b[0m \u001b[0;34m\u001b[0m\u001b[0m\n\u001b[1;32m    265\u001b[0m     \u001b[0;32mdef\u001b[0m \u001b[0m__reduce__\u001b[0m\u001b[0;34m(\u001b[0m\u001b[0mself\u001b[0m\u001b[0;34m)\u001b[0m\u001b[0;34m:\u001b[0m\u001b[0;34m\u001b[0m\u001b[0;34m\u001b[0m\u001b[0m\n",
      "\u001b[0;32m/opt/conda/lib/python3.7/site-packages/joblib/parallel.py\u001b[0m in \u001b[0;36m<listcomp>\u001b[0;34m(.0)\u001b[0m\n\u001b[1;32m    261\u001b[0m         \u001b[0;32mwith\u001b[0m \u001b[0mparallel_backend\u001b[0m\u001b[0;34m(\u001b[0m\u001b[0mself\u001b[0m\u001b[0;34m.\u001b[0m\u001b[0m_backend\u001b[0m\u001b[0;34m,\u001b[0m \u001b[0mn_jobs\u001b[0m\u001b[0;34m=\u001b[0m\u001b[0mself\u001b[0m\u001b[0;34m.\u001b[0m\u001b[0m_n_jobs\u001b[0m\u001b[0;34m)\u001b[0m\u001b[0;34m:\u001b[0m\u001b[0;34m\u001b[0m\u001b[0;34m\u001b[0m\u001b[0m\n\u001b[1;32m    262\u001b[0m             return [func(*args, **kwargs)\n\u001b[0;32m--> 263\u001b[0;31m                     for func, args, kwargs in self.items]\n\u001b[0m\u001b[1;32m    264\u001b[0m \u001b[0;34m\u001b[0m\u001b[0m\n\u001b[1;32m    265\u001b[0m     \u001b[0;32mdef\u001b[0m \u001b[0m__reduce__\u001b[0m\u001b[0;34m(\u001b[0m\u001b[0mself\u001b[0m\u001b[0;34m)\u001b[0m\u001b[0;34m:\u001b[0m\u001b[0;34m\u001b[0m\u001b[0;34m\u001b[0m\u001b[0m\n",
      "\u001b[0;32m/opt/conda/lib/python3.7/site-packages/sklearn/ensemble/forest.py\u001b[0m in \u001b[0;36m_parallel_build_trees\u001b[0;34m(tree, forest, X, y, sample_weight, tree_idx, n_trees, verbose, class_weight)\u001b[0m\n\u001b[1;32m    116\u001b[0m             \u001b[0mcurr_sample_weight\u001b[0m \u001b[0;34m*=\u001b[0m \u001b[0mcompute_sample_weight\u001b[0m\u001b[0;34m(\u001b[0m\u001b[0;34m'balanced'\u001b[0m\u001b[0;34m,\u001b[0m \u001b[0my\u001b[0m\u001b[0;34m,\u001b[0m \u001b[0mindices\u001b[0m\u001b[0;34m)\u001b[0m\u001b[0;34m\u001b[0m\u001b[0;34m\u001b[0m\u001b[0m\n\u001b[1;32m    117\u001b[0m \u001b[0;34m\u001b[0m\u001b[0m\n\u001b[0;32m--> 118\u001b[0;31m         \u001b[0mtree\u001b[0m\u001b[0;34m.\u001b[0m\u001b[0mfit\u001b[0m\u001b[0;34m(\u001b[0m\u001b[0mX\u001b[0m\u001b[0;34m,\u001b[0m \u001b[0my\u001b[0m\u001b[0;34m,\u001b[0m \u001b[0msample_weight\u001b[0m\u001b[0;34m=\u001b[0m\u001b[0mcurr_sample_weight\u001b[0m\u001b[0;34m,\u001b[0m \u001b[0mcheck_input\u001b[0m\u001b[0;34m=\u001b[0m\u001b[0;32mFalse\u001b[0m\u001b[0;34m)\u001b[0m\u001b[0;34m\u001b[0m\u001b[0;34m\u001b[0m\u001b[0m\n\u001b[0m\u001b[1;32m    119\u001b[0m     \u001b[0;32melse\u001b[0m\u001b[0;34m:\u001b[0m\u001b[0;34m\u001b[0m\u001b[0;34m\u001b[0m\u001b[0m\n\u001b[1;32m    120\u001b[0m         \u001b[0mtree\u001b[0m\u001b[0;34m.\u001b[0m\u001b[0mfit\u001b[0m\u001b[0;34m(\u001b[0m\u001b[0mX\u001b[0m\u001b[0;34m,\u001b[0m \u001b[0my\u001b[0m\u001b[0;34m,\u001b[0m \u001b[0msample_weight\u001b[0m\u001b[0;34m=\u001b[0m\u001b[0msample_weight\u001b[0m\u001b[0;34m,\u001b[0m \u001b[0mcheck_input\u001b[0m\u001b[0;34m=\u001b[0m\u001b[0;32mFalse\u001b[0m\u001b[0;34m)\u001b[0m\u001b[0;34m\u001b[0m\u001b[0;34m\u001b[0m\u001b[0m\n",
      "\u001b[0;32m/opt/conda/lib/python3.7/site-packages/sklearn/tree/tree.py\u001b[0m in \u001b[0;36mfit\u001b[0;34m(self, X, y, sample_weight, check_input, X_idx_sorted)\u001b[0m\n\u001b[1;32m   1155\u001b[0m             \u001b[0msample_weight\u001b[0m\u001b[0;34m=\u001b[0m\u001b[0msample_weight\u001b[0m\u001b[0;34m,\u001b[0m\u001b[0;34m\u001b[0m\u001b[0;34m\u001b[0m\u001b[0m\n\u001b[1;32m   1156\u001b[0m             \u001b[0mcheck_input\u001b[0m\u001b[0;34m=\u001b[0m\u001b[0mcheck_input\u001b[0m\u001b[0;34m,\u001b[0m\u001b[0;34m\u001b[0m\u001b[0;34m\u001b[0m\u001b[0m\n\u001b[0;32m-> 1157\u001b[0;31m             X_idx_sorted=X_idx_sorted)\n\u001b[0m\u001b[1;32m   1158\u001b[0m         \u001b[0;32mreturn\u001b[0m \u001b[0mself\u001b[0m\u001b[0;34m\u001b[0m\u001b[0;34m\u001b[0m\u001b[0m\n\u001b[1;32m   1159\u001b[0m \u001b[0;34m\u001b[0m\u001b[0m\n",
      "\u001b[0;32m/opt/conda/lib/python3.7/site-packages/sklearn/tree/tree.py\u001b[0m in \u001b[0;36mfit\u001b[0;34m(self, X, y, sample_weight, check_input, X_idx_sorted)\u001b[0m\n\u001b[1;32m    378\u001b[0m                                            min_impurity_split)\n\u001b[1;32m    379\u001b[0m \u001b[0;34m\u001b[0m\u001b[0m\n\u001b[0;32m--> 380\u001b[0;31m         \u001b[0mbuilder\u001b[0m\u001b[0;34m.\u001b[0m\u001b[0mbuild\u001b[0m\u001b[0;34m(\u001b[0m\u001b[0mself\u001b[0m\u001b[0;34m.\u001b[0m\u001b[0mtree_\u001b[0m\u001b[0;34m,\u001b[0m \u001b[0mX\u001b[0m\u001b[0;34m,\u001b[0m \u001b[0my\u001b[0m\u001b[0;34m,\u001b[0m \u001b[0msample_weight\u001b[0m\u001b[0;34m,\u001b[0m \u001b[0mX_idx_sorted\u001b[0m\u001b[0;34m)\u001b[0m\u001b[0;34m\u001b[0m\u001b[0;34m\u001b[0m\u001b[0m\n\u001b[0m\u001b[1;32m    381\u001b[0m \u001b[0;34m\u001b[0m\u001b[0m\n\u001b[1;32m    382\u001b[0m         \u001b[0;32mif\u001b[0m \u001b[0mself\u001b[0m\u001b[0;34m.\u001b[0m\u001b[0mn_outputs_\u001b[0m \u001b[0;34m==\u001b[0m \u001b[0;36m1\u001b[0m\u001b[0;34m:\u001b[0m\u001b[0;34m\u001b[0m\u001b[0;34m\u001b[0m\u001b[0m\n",
      "\u001b[0;31mKeyboardInterrupt\u001b[0m: "
     ]
    }
   ],
   "source": [
    "model = GridSearchCV(RandomForestRegressor(), parameters, cv=5, scoring=smape_scorer)\n",
    "model.fit(features_train.values, target_train.values)\n",
    "\n",
    "print(model.best_estimator_)\n",
    "print('Best score: {:.3f}'.format(abs(model.best_score_)))"
   ]
  },
  {
   "cell_type": "code",
   "execution_count": null,
   "metadata": {},
   "outputs": [],
   "source": [
    "model = RandomForestRegressor(n_estimators=15, max_depth=5, min_samples_split=15, min_samples_leaf=4)\n",
    "model.fit(features_train, target_train)\n",
    "\n",
    "predictions = model.predict(features_test)\n",
    "predictions = pd.DataFrame(predictions)\n",
    "\n",
    "print('The Random Forest Regressor sMAPE score is {:.3f}'.format(final_smape(target_test.values, predictions.values)))"
   ]
  },
  {
   "cell_type": "code",
   "execution_count": null,
   "metadata": {},
   "outputs": [],
   "source": [
    "scores = cross_val_score(model, features_train.values, target_train.values, cv=5, scoring=smape_scorer)\n",
    "print('The CV sMAPE score for the Random Forest Regressor model is {:.3f}'.format(abs(scores.mean())))"
   ]
  },
  {
   "cell_type": "markdown",
   "metadata": {},
   "source": [
    "##### Dummy Regressor"
   ]
  },
  {
   "cell_type": "code",
   "execution_count": 66,
   "metadata": {},
   "outputs": [
    {
     "name": "stdout",
     "output_type": "stream",
     "text": [
      "The Dummy Regressor sMAPE score is 10.558\n"
     ]
    }
   ],
   "source": [
    "model = DummyRegressor(strategy=\"mean\")\n",
    "model.fit(features_train, target_train)\n",
    "\n",
    "predictions = model.predict(features_test)\n",
    "predictions = pd.DataFrame(predictions)\n",
    "print('The Dummy Regressor sMAPE score is {:.3f}'.format(final_smape(target_test.values, predictions.values)))"
   ]
  },
  {
   "cell_type": "code",
   "execution_count": 67,
   "metadata": {},
   "outputs": [
    {
     "name": "stdout",
     "output_type": "stream",
     "text": [
      "The CV sMAPE score for the Dummy Regressor model is 9.902\n"
     ]
    }
   ],
   "source": [
    "scores = cross_val_score(model, features_train.values, target_train.values, cv=5, scoring=smape_scorer)\n",
    "print('The CV sMAPE score for the Dummy Regressor model is {:.3f}'.format(abs(scores.mean())))"
   ]
  },
  {
   "cell_type": "markdown",
   "metadata": {},
   "source": [
    "##### Conclusion\n",
    "The Random Forest Regressor model has the best sMAPE score. I have to notice that the dummy model's score is not bad at all..."
   ]
  },
  {
   "cell_type": "markdown",
   "metadata": {},
   "source": [
    "<div class=\"alert alert-danger\">\n",
    "<s><b>Reviewer's comment</b>\n",
    "\t  \n",
    "Great, you trained a couple of different models and tuned their hyperparameters using a cross-validated grid search. Due to the problem that missing targets were filled, the scores are not quite reliable though. Also, please add a simple baseline, e.g. a constant model always predicting the train target mean or median (it's convenient to use [DummyRegressor](https://scikit-learn.org/stable/modules/generated/sklearn.dummy.DummyRegressor.html))\n",
    "\t  \n",
    "</div>"
   ]
  },
  {
   "cell_type": "markdown",
   "metadata": {},
   "source": [
    "<div class=\"alert alert-success\">\n",
    "<b>Reviewer's comment V2</b>\n",
    "\t  \n",
    "Ok, great, now everything looks good!\n",
    "\t  \n",
    "</div>"
   ]
  },
  {
   "cell_type": "code",
   "execution_count": null,
   "metadata": {},
   "outputs": [],
   "source": []
  }
 ],
 "metadata": {
  "ExecuteTimeLog": [
   {
    "duration": 650,
    "start_time": "2021-10-17T11:08:35.059Z"
   },
   {
    "duration": 1190,
    "start_time": "2021-10-17T11:09:46.331Z"
   },
   {
    "duration": 1143,
    "start_time": "2021-10-17T11:10:40.442Z"
   },
   {
    "duration": 4,
    "start_time": "2021-10-17T11:10:59.111Z"
   },
   {
    "duration": 28,
    "start_time": "2021-10-17T11:11:05.405Z"
   },
   {
    "duration": 55,
    "start_time": "2021-10-17T11:11:12.421Z"
   },
   {
    "duration": 46,
    "start_time": "2021-10-17T11:11:29.359Z"
   },
   {
    "duration": 69,
    "start_time": "2021-10-17T11:24:23.803Z"
   },
   {
    "duration": 435,
    "start_time": "2021-10-17T11:26:56.376Z"
   },
   {
    "duration": 1171,
    "start_time": "2021-10-17T11:27:08.676Z"
   },
   {
    "duration": 79,
    "start_time": "2021-10-17T11:27:09.850Z"
   },
   {
    "duration": 75,
    "start_time": "2021-10-17T11:27:32.837Z"
   },
   {
    "duration": 48,
    "start_time": "2021-10-17T11:28:00.644Z"
   },
   {
    "duration": 51,
    "start_time": "2021-10-17T11:28:18.503Z"
   },
   {
    "duration": 56,
    "start_time": "2021-10-17T11:28:28.809Z"
   },
   {
    "duration": 53,
    "start_time": "2021-10-17T11:28:44.882Z"
   },
   {
    "duration": 67,
    "start_time": "2021-10-17T11:30:20.284Z"
   },
   {
    "duration": 1117,
    "start_time": "2021-10-19T14:04:50.040Z"
   },
   {
    "duration": 8221,
    "start_time": "2021-10-19T14:05:58.354Z"
   },
   {
    "duration": 602,
    "start_time": "2021-10-19T14:06:08.409Z"
   },
   {
    "duration": 2239,
    "start_time": "2021-10-19T14:06:21.835Z"
   },
   {
    "duration": 286,
    "start_time": "2021-10-19T14:06:53.620Z"
   },
   {
    "duration": 2311,
    "start_time": "2021-10-19T14:07:06.279Z"
   },
   {
    "duration": 4,
    "start_time": "2021-10-19T14:07:08.593Z"
   },
   {
    "duration": 1025,
    "start_time": "2021-10-19T14:07:08.598Z"
   },
   {
    "duration": 64,
    "start_time": "2021-10-19T14:07:09.625Z"
   },
   {
    "duration": 79,
    "start_time": "2021-10-19T14:07:09.691Z"
   },
   {
    "duration": 67,
    "start_time": "2021-10-19T14:07:09.771Z"
   },
   {
    "duration": 220,
    "start_time": "2021-10-19T14:49:36.610Z"
   },
   {
    "duration": 90,
    "start_time": "2021-10-19T15:14:18.418Z"
   },
   {
    "duration": 95,
    "start_time": "2021-10-19T15:14:35.054Z"
   },
   {
    "duration": 83,
    "start_time": "2021-10-19T15:14:58.893Z"
   },
   {
    "duration": 271,
    "start_time": "2021-10-19T15:15:23.532Z"
   },
   {
    "duration": 6,
    "start_time": "2021-10-19T15:17:00.980Z"
   },
   {
    "duration": 3,
    "start_time": "2021-10-19T15:18:31.543Z"
   },
   {
    "duration": 261,
    "start_time": "2021-10-19T15:19:46.862Z"
   },
   {
    "duration": 10,
    "start_time": "2021-10-19T15:20:48.453Z"
   },
   {
    "duration": 9,
    "start_time": "2021-10-19T15:20:52.572Z"
   },
   {
    "duration": 325,
    "start_time": "2021-10-20T13:59:19.811Z"
   },
   {
    "duration": 11806,
    "start_time": "2021-10-20T13:59:25.400Z"
   },
   {
    "duration": 1638,
    "start_time": "2021-10-20T13:59:37.209Z"
   },
   {
    "duration": 923,
    "start_time": "2021-10-20T13:59:38.850Z"
   },
   {
    "duration": 106,
    "start_time": "2021-10-20T13:59:39.776Z"
   },
   {
    "duration": 117,
    "start_time": "2021-10-20T13:59:39.885Z"
   },
   {
    "duration": 115,
    "start_time": "2021-10-20T13:59:40.004Z"
   },
   {
    "duration": 437,
    "start_time": "2021-10-20T13:59:40.122Z"
   },
   {
    "duration": 8,
    "start_time": "2021-10-20T13:59:40.561Z"
   },
   {
    "duration": 12,
    "start_time": "2021-10-20T13:59:40.572Z"
   },
   {
    "duration": 509,
    "start_time": "2021-10-20T14:00:56.356Z"
   },
   {
    "duration": 11,
    "start_time": "2021-10-20T14:03:56.459Z"
   },
   {
    "duration": 11,
    "start_time": "2021-10-20T14:04:28.329Z"
   },
   {
    "duration": 10,
    "start_time": "2021-10-20T14:07:58.055Z"
   },
   {
    "duration": 97,
    "start_time": "2021-10-20T14:21:18.287Z"
   },
   {
    "duration": 318,
    "start_time": "2021-10-20T14:21:30.801Z"
   },
   {
    "duration": 83,
    "start_time": "2021-10-20T14:21:43.575Z"
   },
   {
    "duration": 679,
    "start_time": "2021-10-20T14:21:48.949Z"
   },
   {
    "duration": 342,
    "start_time": "2021-10-20T14:22:51.272Z"
   },
   {
    "duration": 11,
    "start_time": "2021-10-20T14:23:07.357Z"
   },
   {
    "duration": 10,
    "start_time": "2021-10-20T14:23:18.489Z"
   },
   {
    "duration": 6,
    "start_time": "2021-10-20T14:26:29.877Z"
   },
   {
    "duration": 300,
    "start_time": "2021-10-20T14:26:57.922Z"
   },
   {
    "duration": 7,
    "start_time": "2021-10-20T14:27:02.096Z"
   },
   {
    "duration": 530,
    "start_time": "2021-10-20T14:27:13.664Z"
   },
   {
    "duration": 7,
    "start_time": "2021-10-20T14:30:16.592Z"
   },
   {
    "duration": 78,
    "start_time": "2021-10-20T14:32:23.400Z"
   },
   {
    "duration": 261,
    "start_time": "2021-10-20T14:32:53.541Z"
   },
   {
    "duration": 7,
    "start_time": "2021-10-20T14:33:37.934Z"
   },
   {
    "duration": 6,
    "start_time": "2021-10-20T14:33:47.425Z"
   },
   {
    "duration": 293,
    "start_time": "2021-10-20T14:34:15.179Z"
   },
   {
    "duration": 6,
    "start_time": "2021-10-20T14:34:56.030Z"
   },
   {
    "duration": 223,
    "start_time": "2021-10-20T14:35:57.141Z"
   },
   {
    "duration": 8,
    "start_time": "2021-10-20T14:36:02.179Z"
   },
   {
    "duration": 289,
    "start_time": "2021-10-20T14:36:29.380Z"
   },
   {
    "duration": 67,
    "start_time": "2021-10-20T14:36:54.852Z"
   },
   {
    "duration": 69,
    "start_time": "2021-10-20T14:39:01.825Z"
   },
   {
    "duration": 8,
    "start_time": "2021-10-20T14:39:27.744Z"
   },
   {
    "duration": 69,
    "start_time": "2021-10-20T14:39:44.864Z"
   },
   {
    "duration": 8050,
    "start_time": "2021-10-21T00:27:34.584Z"
   },
   {
    "duration": 1170,
    "start_time": "2021-10-21T00:27:42.636Z"
   },
   {
    "duration": 795,
    "start_time": "2021-10-21T00:27:43.808Z"
   },
   {
    "duration": 55,
    "start_time": "2021-10-21T00:27:44.605Z"
   },
   {
    "duration": 43,
    "start_time": "2021-10-21T00:27:44.662Z"
   },
   {
    "duration": 78,
    "start_time": "2021-10-21T00:27:44.706Z"
   },
   {
    "duration": 236,
    "start_time": "2021-10-21T00:27:44.786Z"
   },
   {
    "duration": 3,
    "start_time": "2021-10-21T00:27:45.024Z"
   },
   {
    "duration": 17,
    "start_time": "2021-10-21T00:27:45.029Z"
   },
   {
    "duration": 5,
    "start_time": "2021-10-21T00:27:45.048Z"
   },
   {
    "duration": 33,
    "start_time": "2021-10-21T00:29:08.502Z"
   },
   {
    "duration": 19,
    "start_time": "2021-10-21T00:29:18.845Z"
   },
   {
    "duration": 16,
    "start_time": "2021-10-21T00:30:01.855Z"
   },
   {
    "duration": 2218,
    "start_time": "2021-10-21T01:18:34.359Z"
   },
   {
    "duration": 24,
    "start_time": "2021-10-21T01:18:36.579Z"
   },
   {
    "duration": 794,
    "start_time": "2021-10-21T01:18:36.605Z"
   },
   {
    "duration": 56,
    "start_time": "2021-10-21T01:18:37.401Z"
   },
   {
    "duration": 42,
    "start_time": "2021-10-21T01:18:37.459Z"
   },
   {
    "duration": 86,
    "start_time": "2021-10-21T01:18:37.503Z"
   },
   {
    "duration": 218,
    "start_time": "2021-10-21T01:18:37.590Z"
   },
   {
    "duration": 3,
    "start_time": "2021-10-21T01:18:37.810Z"
   },
   {
    "duration": 11,
    "start_time": "2021-10-21T01:18:37.814Z"
   },
   {
    "duration": 31,
    "start_time": "2021-10-21T01:18:37.827Z"
   },
   {
    "duration": 4,
    "start_time": "2021-10-21T01:28:55.785Z"
   },
   {
    "duration": 11977,
    "start_time": "2021-10-21T12:15:22.251Z"
   },
   {
    "duration": 1668,
    "start_time": "2021-10-21T12:15:34.232Z"
   },
   {
    "duration": 973,
    "start_time": "2021-10-21T12:15:35.904Z"
   },
   {
    "duration": 91,
    "start_time": "2021-10-21T12:15:36.881Z"
   },
   {
    "duration": 127,
    "start_time": "2021-10-21T12:15:36.974Z"
   },
   {
    "duration": 124,
    "start_time": "2021-10-21T12:15:37.104Z"
   },
   {
    "duration": 437,
    "start_time": "2021-10-21T12:15:37.231Z"
   },
   {
    "duration": 3,
    "start_time": "2021-10-21T12:15:37.672Z"
   },
   {
    "duration": 31,
    "start_time": "2021-10-21T12:15:37.678Z"
   },
   {
    "duration": 11,
    "start_time": "2021-10-21T12:15:37.711Z"
   },
   {
    "duration": 11,
    "start_time": "2021-10-21T12:17:44.808Z"
   },
   {
    "duration": 10,
    "start_time": "2021-10-21T12:18:05.352Z"
   },
   {
    "duration": 506,
    "start_time": "2021-10-21T12:35:42.858Z"
   },
   {
    "duration": 4,
    "start_time": "2021-10-21T12:35:59.993Z"
   },
   {
    "duration": 7,
    "start_time": "2021-10-21T12:36:04.855Z"
   },
   {
    "duration": 10,
    "start_time": "2021-10-21T12:36:15.068Z"
   },
   {
    "duration": 10,
    "start_time": "2021-10-21T12:39:38.060Z"
   },
   {
    "duration": 18,
    "start_time": "2021-10-21T12:40:03.736Z"
   },
   {
    "duration": 18,
    "start_time": "2021-10-21T12:40:10.914Z"
   },
   {
    "duration": 365,
    "start_time": "2021-10-21T12:40:25.014Z"
   },
   {
    "duration": 88,
    "start_time": "2021-10-21T12:40:37.735Z"
   },
   {
    "duration": 12,
    "start_time": "2021-10-21T12:44:40.821Z"
   },
   {
    "duration": 375,
    "start_time": "2021-10-21T14:08:23.069Z"
   },
   {
    "duration": 42,
    "start_time": "2021-10-21T14:08:30.031Z"
   },
   {
    "duration": 28,
    "start_time": "2021-10-21T14:17:16.016Z"
   },
   {
    "duration": 38,
    "start_time": "2021-10-21T14:20:24.914Z"
   },
   {
    "duration": 182,
    "start_time": "2021-10-21T14:21:03.378Z"
   },
   {
    "duration": 56,
    "start_time": "2021-10-21T14:21:08.632Z"
   },
   {
    "duration": 62,
    "start_time": "2021-10-21T14:21:22.034Z"
   },
   {
    "duration": 62,
    "start_time": "2021-10-21T14:21:38.783Z"
   },
   {
    "duration": 49,
    "start_time": "2021-10-21T14:22:06.964Z"
   },
   {
    "duration": 15997,
    "start_time": "2021-10-25T10:47:36.638Z"
   },
   {
    "duration": 1628,
    "start_time": "2021-10-25T10:47:52.639Z"
   },
   {
    "duration": 935,
    "start_time": "2021-10-25T10:47:54.270Z"
   },
   {
    "duration": 94,
    "start_time": "2021-10-25T10:47:55.208Z"
   },
   {
    "duration": 101,
    "start_time": "2021-10-25T10:47:55.305Z"
   },
   {
    "duration": 458,
    "start_time": "2021-10-25T10:47:55.409Z"
   },
   {
    "duration": 5,
    "start_time": "2021-10-25T10:47:55.869Z"
   },
   {
    "duration": 10,
    "start_time": "2021-10-25T10:47:55.879Z"
   },
   {
    "duration": 9,
    "start_time": "2021-10-25T10:47:55.892Z"
   },
   {
    "duration": 9,
    "start_time": "2021-10-25T10:47:55.903Z"
   },
   {
    "duration": 65,
    "start_time": "2021-10-25T10:47:55.915Z"
   },
   {
    "duration": 15,
    "start_time": "2021-10-25T10:47:55.983Z"
   },
   {
    "duration": 77,
    "start_time": "2021-10-25T10:47:56.001Z"
   },
   {
    "duration": 27,
    "start_time": "2021-10-25T10:47:56.080Z"
   },
   {
    "duration": 70,
    "start_time": "2021-10-25T10:47:56.109Z"
   },
   {
    "duration": 49,
    "start_time": "2021-10-25T10:47:56.181Z"
   },
   {
    "duration": 876,
    "start_time": "2021-10-25T11:02:57.919Z"
   },
   {
    "duration": 739,
    "start_time": "2021-10-25T11:03:08.590Z"
   },
   {
    "duration": 123,
    "start_time": "2021-10-25T11:05:07.823Z"
   },
   {
    "duration": 1936,
    "start_time": "2021-10-25T11:05:17.653Z"
   },
   {
    "duration": 412,
    "start_time": "2021-10-25T11:07:06.905Z"
   },
   {
    "duration": 258,
    "start_time": "2021-10-25T11:07:15.442Z"
   },
   {
    "duration": 6060,
    "start_time": "2021-10-25T11:07:24.242Z"
   },
   {
    "duration": 235,
    "start_time": "2021-10-25T11:10:59.726Z"
   },
   {
    "duration": 6229,
    "start_time": "2021-10-25T11:11:17.004Z"
   },
   {
    "duration": 6041,
    "start_time": "2021-10-25T11:12:24.671Z"
   },
   {
    "duration": 6565,
    "start_time": "2021-10-25T11:12:34.448Z"
   },
   {
    "duration": 785,
    "start_time": "2021-10-25T11:17:44.214Z"
   },
   {
    "duration": 831,
    "start_time": "2021-10-25T11:18:09.929Z"
   },
   {
    "duration": 4016,
    "start_time": "2021-10-25T11:18:26.354Z"
   },
   {
    "duration": 3946,
    "start_time": "2021-10-25T11:18:43.477Z"
   },
   {
    "duration": 3152,
    "start_time": "2021-10-25T11:22:05.367Z"
   },
   {
    "duration": 3084,
    "start_time": "2021-10-25T11:22:25.028Z"
   },
   {
    "duration": 3595,
    "start_time": "2021-10-25T11:22:38.086Z"
   },
   {
    "duration": 4272,
    "start_time": "2021-10-25T11:22:58.178Z"
   },
   {
    "duration": 4926,
    "start_time": "2021-10-25T11:24:22.487Z"
   },
   {
    "duration": 4784,
    "start_time": "2021-10-25T11:24:41.883Z"
   },
   {
    "duration": 4842,
    "start_time": "2021-10-25T11:28:11.115Z"
   },
   {
    "duration": 4530,
    "start_time": "2021-10-25T11:28:31.585Z"
   },
   {
    "duration": 4592,
    "start_time": "2021-10-25T11:35:56.047Z"
   },
   {
    "duration": 2088,
    "start_time": "2021-10-25T12:29:27.582Z"
   },
   {
    "duration": 2308,
    "start_time": "2021-10-25T12:59:35.036Z"
   },
   {
    "duration": 2010,
    "start_time": "2021-10-25T12:59:53.957Z"
   },
   {
    "duration": 2153,
    "start_time": "2021-10-25T13:00:54.304Z"
   },
   {
    "duration": 1977,
    "start_time": "2021-10-25T13:01:14.010Z"
   },
   {
    "duration": 1546,
    "start_time": "2021-10-25T13:01:37.651Z"
   },
   {
    "duration": 7004,
    "start_time": "2021-10-26T09:55:01.357Z"
   },
   {
    "duration": 1314,
    "start_time": "2021-10-26T09:55:08.363Z"
   },
   {
    "duration": 755,
    "start_time": "2021-10-26T09:55:09.679Z"
   },
   {
    "duration": 66,
    "start_time": "2021-10-26T09:55:10.436Z"
   },
   {
    "duration": 49,
    "start_time": "2021-10-26T09:55:10.503Z"
   },
   {
    "duration": 273,
    "start_time": "2021-10-26T09:55:10.554Z"
   },
   {
    "duration": 3,
    "start_time": "2021-10-26T09:55:10.828Z"
   },
   {
    "duration": 8,
    "start_time": "2021-10-26T09:55:10.833Z"
   },
   {
    "duration": 4,
    "start_time": "2021-10-26T09:55:10.843Z"
   },
   {
    "duration": 5,
    "start_time": "2021-10-26T09:55:10.849Z"
   },
   {
    "duration": 35,
    "start_time": "2021-10-26T09:55:10.856Z"
   },
   {
    "duration": 7,
    "start_time": "2021-10-26T09:55:10.893Z"
   },
   {
    "duration": 31,
    "start_time": "2021-10-26T09:55:10.901Z"
   },
   {
    "duration": 20,
    "start_time": "2021-10-26T09:55:10.933Z"
   },
   {
    "duration": 60,
    "start_time": "2021-10-26T09:55:10.954Z"
   },
   {
    "duration": 28,
    "start_time": "2021-10-26T09:55:11.016Z"
   },
   {
    "duration": 2474,
    "start_time": "2021-10-26T09:55:11.046Z"
   },
   {
    "duration": 1319,
    "start_time": "2021-10-26T09:55:13.522Z"
   },
   {
    "duration": 817,
    "start_time": "2021-10-26T09:55:14.842Z"
   },
   {
    "duration": 905,
    "start_time": "2021-10-26T10:09:34.271Z"
   },
   {
    "duration": 13,
    "start_time": "2021-10-26T10:28:50.976Z"
   },
   {
    "duration": 268,
    "start_time": "2021-10-26T10:29:11.146Z"
   },
   {
    "duration": 10,
    "start_time": "2021-10-26T10:29:55.301Z"
   },
   {
    "duration": 23,
    "start_time": "2021-10-26T10:41:58.049Z"
   },
   {
    "duration": 802,
    "start_time": "2021-10-26T10:41:59.152Z"
   },
   {
    "duration": 6810,
    "start_time": "2021-10-26T14:18:06.045Z"
   },
   {
    "duration": 1120,
    "start_time": "2021-10-26T14:18:12.857Z"
   },
   {
    "duration": 794,
    "start_time": "2021-10-26T14:18:13.980Z"
   },
   {
    "duration": 52,
    "start_time": "2021-10-26T14:18:14.776Z"
   },
   {
    "duration": 76,
    "start_time": "2021-10-26T14:18:14.829Z"
   },
   {
    "duration": 245,
    "start_time": "2021-10-26T14:18:14.906Z"
   },
   {
    "duration": 2,
    "start_time": "2021-10-26T14:18:15.153Z"
   },
   {
    "duration": 7,
    "start_time": "2021-10-26T14:18:15.158Z"
   },
   {
    "duration": 4,
    "start_time": "2021-10-26T14:18:15.167Z"
   },
   {
    "duration": 21,
    "start_time": "2021-10-26T14:18:15.173Z"
   },
   {
    "duration": 10,
    "start_time": "2021-10-26T14:18:15.196Z"
   },
   {
    "duration": 10,
    "start_time": "2021-10-26T14:18:15.208Z"
   },
   {
    "duration": 32,
    "start_time": "2021-10-26T14:18:15.220Z"
   },
   {
    "duration": 256,
    "start_time": "2021-10-26T14:18:15.254Z"
   },
   {
    "duration": 696,
    "start_time": "2021-10-26T14:18:14.817Z"
   },
   {
    "duration": 666,
    "start_time": "2021-10-26T14:18:14.848Z"
   },
   {
    "duration": 641,
    "start_time": "2021-10-26T14:18:14.873Z"
   },
   {
    "duration": 635,
    "start_time": "2021-10-26T14:18:14.880Z"
   },
   {
    "duration": 598,
    "start_time": "2021-10-26T14:18:14.918Z"
   },
   {
    "duration": 561,
    "start_time": "2021-10-26T14:18:14.956Z"
   },
   {
    "duration": 556,
    "start_time": "2021-10-26T14:18:14.962Z"
   },
   {
    "duration": 551,
    "start_time": "2021-10-26T14:18:14.968Z"
   },
   {
    "duration": 540,
    "start_time": "2021-10-26T14:18:14.979Z"
   },
   {
    "duration": 2,
    "start_time": "2021-10-26T14:20:00.616Z"
   },
   {
    "duration": 2,
    "start_time": "2021-10-26T14:26:16.727Z"
   },
   {
    "duration": 2,
    "start_time": "2021-10-26T14:26:17.615Z"
   },
   {
    "duration": 2,
    "start_time": "2021-10-26T14:26:18.939Z"
   },
   {
    "duration": 2,
    "start_time": "2021-10-26T14:28:14.790Z"
   },
   {
    "duration": 1848,
    "start_time": "2021-10-26T14:28:43.106Z"
   },
   {
    "duration": 4,
    "start_time": "2021-10-26T14:28:44.956Z"
   },
   {
    "duration": 756,
    "start_time": "2021-10-26T14:28:44.962Z"
   },
   {
    "duration": 43,
    "start_time": "2021-10-26T14:28:45.719Z"
   },
   {
    "duration": 64,
    "start_time": "2021-10-26T14:28:45.764Z"
   },
   {
    "duration": 233,
    "start_time": "2021-10-26T14:28:45.830Z"
   },
   {
    "duration": 3,
    "start_time": "2021-10-26T14:28:46.064Z"
   },
   {
    "duration": 8,
    "start_time": "2021-10-26T14:28:46.069Z"
   },
   {
    "duration": 5,
    "start_time": "2021-10-26T14:28:46.091Z"
   },
   {
    "duration": 4,
    "start_time": "2021-10-26T14:28:46.097Z"
   },
   {
    "duration": 5,
    "start_time": "2021-10-26T14:28:46.102Z"
   },
   {
    "duration": 5,
    "start_time": "2021-10-26T14:28:46.109Z"
   },
   {
    "duration": 31,
    "start_time": "2021-10-26T14:28:46.115Z"
   },
   {
    "duration": 2,
    "start_time": "2021-10-26T14:28:46.147Z"
   },
   {
    "duration": 122,
    "start_time": "2021-10-26T14:28:46.151Z"
   },
   {
    "duration": 43,
    "start_time": "2021-10-26T14:28:46.274Z"
   },
   {
    "duration": 29,
    "start_time": "2021-10-26T14:28:46.319Z"
   },
   {
    "duration": 2481,
    "start_time": "2021-10-26T14:28:46.350Z"
   },
   {
    "duration": 1372,
    "start_time": "2021-10-26T14:28:48.832Z"
   },
   {
    "duration": 817,
    "start_time": "2021-10-26T14:28:50.206Z"
   },
   {
    "duration": 20,
    "start_time": "2021-10-26T14:28:51.024Z"
   },
   {
    "duration": 912,
    "start_time": "2021-10-26T14:28:51.045Z"
   },
   {
    "duration": 61,
    "start_time": "2021-10-26T14:28:51.960Z"
   },
   {
    "duration": 1854,
    "start_time": "2021-10-26T14:40:05.581Z"
   },
   {
    "duration": 4,
    "start_time": "2021-10-26T14:40:07.438Z"
   },
   {
    "duration": 755,
    "start_time": "2021-10-26T14:40:07.445Z"
   },
   {
    "duration": 46,
    "start_time": "2021-10-26T14:40:08.202Z"
   },
   {
    "duration": 74,
    "start_time": "2021-10-26T14:40:08.249Z"
   },
   {
    "duration": 227,
    "start_time": "2021-10-26T14:40:08.325Z"
   },
   {
    "duration": 2,
    "start_time": "2021-10-26T14:40:08.554Z"
   },
   {
    "duration": 9,
    "start_time": "2021-10-26T14:40:08.558Z"
   },
   {
    "duration": 15,
    "start_time": "2021-10-26T14:40:08.568Z"
   },
   {
    "duration": 3,
    "start_time": "2021-10-26T14:40:08.591Z"
   },
   {
    "duration": 8,
    "start_time": "2021-10-26T14:40:08.595Z"
   },
   {
    "duration": 9,
    "start_time": "2021-10-26T14:40:08.605Z"
   },
   {
    "duration": 42,
    "start_time": "2021-10-26T14:40:08.615Z"
   },
   {
    "duration": 2,
    "start_time": "2021-10-26T14:40:08.658Z"
   },
   {
    "duration": 14,
    "start_time": "2021-10-26T14:40:08.662Z"
   },
   {
    "duration": 13,
    "start_time": "2021-10-26T14:40:08.678Z"
   },
   {
    "duration": 6,
    "start_time": "2021-10-26T14:40:08.693Z"
   },
   {
    "duration": 22,
    "start_time": "2021-10-26T14:40:41.009Z"
   },
   {
    "duration": 3,
    "start_time": "2021-10-26T14:43:55.097Z"
   },
   {
    "duration": 188,
    "start_time": "2021-10-26T14:53:10.244Z"
   },
   {
    "duration": 6,
    "start_time": "2021-10-26T14:53:18.918Z"
   },
   {
    "duration": 15,
    "start_time": "2021-10-26T14:53:19.571Z"
   },
   {
    "duration": 5,
    "start_time": "2021-10-26T14:54:37.419Z"
   },
   {
    "duration": 14,
    "start_time": "2021-10-26T14:54:37.818Z"
   },
   {
    "duration": 19,
    "start_time": "2021-10-26T15:06:47.511Z"
   },
   {
    "duration": 2009,
    "start_time": "2021-10-26T15:25:24.861Z"
   },
   {
    "duration": 4,
    "start_time": "2021-10-26T15:25:26.872Z"
   },
   {
    "duration": 797,
    "start_time": "2021-10-26T15:25:26.878Z"
   },
   {
    "duration": 61,
    "start_time": "2021-10-26T15:25:27.676Z"
   },
   {
    "duration": 82,
    "start_time": "2021-10-26T15:25:27.740Z"
   },
   {
    "duration": 241,
    "start_time": "2021-10-26T15:25:27.824Z"
   },
   {
    "duration": 3,
    "start_time": "2021-10-26T15:25:28.066Z"
   },
   {
    "duration": 18,
    "start_time": "2021-10-26T15:25:28.073Z"
   },
   {
    "duration": 7,
    "start_time": "2021-10-26T15:25:28.094Z"
   },
   {
    "duration": 5,
    "start_time": "2021-10-26T15:25:28.103Z"
   },
   {
    "duration": 5,
    "start_time": "2021-10-26T15:25:28.110Z"
   },
   {
    "duration": 5,
    "start_time": "2021-10-26T15:25:28.117Z"
   },
   {
    "duration": 5,
    "start_time": "2021-10-26T15:25:28.124Z"
   },
   {
    "duration": 6,
    "start_time": "2021-10-26T15:25:28.130Z"
   },
   {
    "duration": 29,
    "start_time": "2021-10-26T15:25:28.137Z"
   },
   {
    "duration": 24,
    "start_time": "2021-10-26T15:25:28.168Z"
   },
   {
    "duration": 3,
    "start_time": "2021-10-26T15:25:28.194Z"
   },
   {
    "duration": 6,
    "start_time": "2021-10-26T15:25:28.199Z"
   },
   {
    "duration": 10,
    "start_time": "2021-10-26T15:25:28.208Z"
   },
   {
    "duration": 17,
    "start_time": "2021-10-26T15:25:28.220Z"
   },
   {
    "duration": 14,
    "start_time": "2021-10-26T15:25:28.239Z"
   },
   {
    "duration": 2745,
    "start_time": "2021-10-26T15:25:28.254Z"
   },
   {
    "duration": 1273,
    "start_time": "2021-10-26T15:25:31.002Z"
   },
   {
    "duration": 983,
    "start_time": "2021-10-26T15:25:32.277Z"
   },
   {
    "duration": 29,
    "start_time": "2021-10-26T15:25:33.262Z"
   },
   {
    "duration": 905,
    "start_time": "2021-10-26T15:25:33.294Z"
   },
   {
    "duration": 31,
    "start_time": "2021-10-26T15:27:17.485Z"
   },
   {
    "duration": 854,
    "start_time": "2021-10-26T15:27:19.165Z"
   },
   {
    "duration": 12567,
    "start_time": "2021-10-28T10:46:30.881Z"
   },
   {
    "duration": 1740,
    "start_time": "2021-10-28T10:46:43.451Z"
   },
   {
    "duration": 1099,
    "start_time": "2021-10-28T10:46:45.194Z"
   },
   {
    "duration": 126,
    "start_time": "2021-10-28T10:46:46.296Z"
   },
   {
    "duration": 109,
    "start_time": "2021-10-28T10:46:46.424Z"
   },
   {
    "duration": 482,
    "start_time": "2021-10-28T10:46:46.536Z"
   },
   {
    "duration": 4,
    "start_time": "2021-10-28T10:46:47.021Z"
   },
   {
    "duration": 9,
    "start_time": "2021-10-28T10:46:47.029Z"
   },
   {
    "duration": 6,
    "start_time": "2021-10-28T10:46:47.041Z"
   },
   {
    "duration": 6,
    "start_time": "2021-10-28T10:46:47.050Z"
   },
   {
    "duration": 7,
    "start_time": "2021-10-28T10:46:47.059Z"
   },
   {
    "duration": 76,
    "start_time": "2021-10-28T10:46:47.068Z"
   },
   {
    "duration": 7,
    "start_time": "2021-10-28T10:46:47.146Z"
   },
   {
    "duration": 54,
    "start_time": "2021-10-28T10:46:47.156Z"
   },
   {
    "duration": 25,
    "start_time": "2021-10-28T10:46:47.214Z"
   },
   {
    "duration": 4768,
    "start_time": "2021-10-28T10:46:47.242Z"
   },
   {
    "duration": 2383,
    "start_time": "2021-10-28T10:46:52.014Z"
   },
   {
    "duration": 1619,
    "start_time": "2021-10-28T10:46:54.402Z"
   },
   {
    "duration": 48,
    "start_time": "2021-10-28T10:46:56.023Z"
   },
   {
    "duration": 1757,
    "start_time": "2021-10-28T10:46:56.073Z"
   },
   {
    "duration": 121,
    "start_time": "2021-10-28T10:46:57.832Z"
   },
   {
    "duration": 6,
    "start_time": "2021-10-28T10:47:58.086Z"
   },
   {
    "duration": 6,
    "start_time": "2021-10-28T10:50:51.988Z"
   },
   {
    "duration": 536,
    "start_time": "2021-10-28T10:52:34.745Z"
   },
   {
    "duration": 7,
    "start_time": "2021-10-28T10:53:19.582Z"
   },
   {
    "duration": 8,
    "start_time": "2021-10-28T10:53:44.065Z"
   },
   {
    "duration": 2136,
    "start_time": "2021-10-28T10:54:06.921Z"
   },
   {
    "duration": 9,
    "start_time": "2021-10-28T10:54:18.296Z"
   },
   {
    "duration": 7,
    "start_time": "2021-10-28T10:59:39.168Z"
   },
   {
    "duration": 403,
    "start_time": "2021-10-28T11:00:24.350Z"
   },
   {
    "duration": 2,
    "start_time": "2021-10-28T11:01:27.768Z"
   },
   {
    "duration": 12,
    "start_time": "2021-10-28T11:02:11.059Z"
   },
   {
    "duration": 60,
    "start_time": "2021-10-28T11:02:26.912Z"
   },
   {
    "duration": 322,
    "start_time": "2021-10-28T11:08:49.378Z"
   },
   {
    "duration": 2622,
    "start_time": "2021-10-28T11:10:33.081Z"
   },
   {
    "duration": 4,
    "start_time": "2021-10-28T11:11:46.225Z"
   },
   {
    "duration": 4,
    "start_time": "2021-10-28T11:15:41.950Z"
   },
   {
    "duration": 364,
    "start_time": "2021-10-28T11:15:43.773Z"
   },
   {
    "duration": 6,
    "start_time": "2021-10-28T11:16:30.075Z"
   },
   {
    "duration": 357,
    "start_time": "2021-10-28T11:16:36.117Z"
   },
   {
    "duration": 5,
    "start_time": "2021-10-28T11:18:23.523Z"
   },
   {
    "duration": 100228,
    "start_time": "2021-10-28T11:18:28.911Z"
   },
   {
    "duration": 2462,
    "start_time": "2021-10-28T11:24:46.182Z"
   },
   {
    "duration": 2514,
    "start_time": "2021-10-28T11:25:42.625Z"
   },
   {
    "duration": 10483,
    "start_time": "2021-10-28T11:26:41.032Z"
   },
   {
    "duration": 12063,
    "start_time": "2021-10-28T12:06:27.537Z"
   },
   {
    "duration": 5,
    "start_time": "2021-10-28T12:07:01.324Z"
   },
   {
    "duration": 81243,
    "start_time": "2021-10-28T12:07:11.559Z"
   },
   {
    "duration": 7372,
    "start_time": "2021-10-28T12:08:39.144Z"
   },
   {
    "duration": 8,
    "start_time": "2021-10-28T12:08:46.519Z"
   },
   {
    "duration": 2205,
    "start_time": "2021-10-28T12:08:46.530Z"
   },
   {
    "duration": 197,
    "start_time": "2021-10-28T12:08:48.738Z"
   },
   {
    "duration": 266,
    "start_time": "2021-10-28T12:08:48.937Z"
   },
   {
    "duration": 1300,
    "start_time": "2021-10-28T12:08:49.205Z"
   },
   {
    "duration": 6,
    "start_time": "2021-10-28T12:08:50.508Z"
   },
   {
    "duration": 17,
    "start_time": "2021-10-28T12:08:50.519Z"
   },
   {
    "duration": 9,
    "start_time": "2021-10-28T12:08:50.601Z"
   },
   {
    "duration": 6,
    "start_time": "2021-10-28T12:08:50.613Z"
   },
   {
    "duration": 12,
    "start_time": "2021-10-28T12:08:50.622Z"
   },
   {
    "duration": 107,
    "start_time": "2021-10-28T12:08:50.637Z"
   },
   {
    "duration": 59,
    "start_time": "2021-10-28T12:08:50.746Z"
   },
   {
    "duration": 94,
    "start_time": "2021-10-28T12:08:50.808Z"
   },
   {
    "duration": 28,
    "start_time": "2021-10-28T12:08:50.907Z"
   },
   {
    "duration": 9666,
    "start_time": "2021-10-28T12:08:50.938Z"
   },
   {
    "duration": 4839,
    "start_time": "2021-10-28T12:09:00.606Z"
   },
   {
    "duration": 3244,
    "start_time": "2021-10-28T12:09:05.499Z"
   },
   {
    "duration": 99,
    "start_time": "2021-10-28T12:09:08.801Z"
   },
   {
    "duration": 3004,
    "start_time": "2021-10-28T12:09:08.903Z"
   },
   {
    "duration": 6,
    "start_time": "2021-10-28T12:09:11.909Z"
   },
   {
    "duration": 10,
    "start_time": "2021-10-28T12:09:11.917Z"
   },
   {
    "duration": 70,
    "start_time": "2021-10-28T12:09:11.932Z"
   },
   {
    "duration": 3,
    "start_time": "2021-10-28T12:09:12.005Z"
   },
   {
    "duration": 435,
    "start_time": "2021-10-28T12:09:12.011Z"
   },
   {
    "duration": 591,
    "start_time": "2021-10-28T12:09:11.858Z"
   },
   {
    "duration": 588,
    "start_time": "2021-10-28T12:09:11.863Z"
   },
   {
    "duration": 584,
    "start_time": "2021-10-28T12:09:11.869Z"
   },
   {
    "duration": 580,
    "start_time": "2021-10-28T12:09:11.874Z"
   },
   {
    "duration": 577,
    "start_time": "2021-10-28T12:09:11.879Z"
   },
   {
    "duration": 521,
    "start_time": "2021-10-28T12:09:11.979Z"
   },
   {
    "duration": 518,
    "start_time": "2021-10-28T12:09:11.984Z"
   },
   {
    "duration": 511,
    "start_time": "2021-10-28T12:09:11.992Z"
   },
   {
    "duration": 507,
    "start_time": "2021-10-28T12:09:11.997Z"
   },
   {
    "duration": 504,
    "start_time": "2021-10-28T12:09:12.002Z"
   },
   {
    "duration": 499,
    "start_time": "2021-10-28T12:09:12.009Z"
   },
   {
    "duration": 8,
    "start_time": "2021-10-28T12:21:01.009Z"
   },
   {
    "duration": 6346,
    "start_time": "2021-10-28T12:21:37.657Z"
   },
   {
    "duration": 8,
    "start_time": "2021-10-28T12:21:44.006Z"
   },
   {
    "duration": 2390,
    "start_time": "2021-10-28T12:21:44.018Z"
   },
   {
    "duration": 225,
    "start_time": "2021-10-28T12:21:46.412Z"
   },
   {
    "duration": 202,
    "start_time": "2021-10-28T12:21:46.700Z"
   },
   {
    "duration": 813,
    "start_time": "2021-10-28T12:21:46.905Z"
   },
   {
    "duration": 4,
    "start_time": "2021-10-28T12:21:47.721Z"
   },
   {
    "duration": 72,
    "start_time": "2021-10-28T12:21:47.728Z"
   },
   {
    "duration": 8,
    "start_time": "2021-10-28T12:21:47.804Z"
   },
   {
    "duration": 102,
    "start_time": "2021-10-28T12:21:47.815Z"
   },
   {
    "duration": 8,
    "start_time": "2021-10-28T12:21:47.921Z"
   },
   {
    "duration": 90,
    "start_time": "2021-10-28T12:21:47.932Z"
   },
   {
    "duration": 76,
    "start_time": "2021-10-28T12:21:48.024Z"
   },
   {
    "duration": 10327,
    "start_time": "2021-10-28T12:21:48.103Z"
   },
   {
    "duration": 4570,
    "start_time": "2021-10-28T12:21:58.433Z"
   },
   {
    "duration": 3011,
    "start_time": "2021-10-28T12:22:03.006Z"
   },
   {
    "duration": 98,
    "start_time": "2021-10-28T12:22:06.020Z"
   },
   {
    "duration": 2912,
    "start_time": "2021-10-28T12:22:06.121Z"
   },
   {
    "duration": 7,
    "start_time": "2021-10-28T12:22:09.035Z"
   },
   {
    "duration": 62,
    "start_time": "2021-10-28T12:22:09.044Z"
   },
   {
    "duration": 389,
    "start_time": "2021-10-28T12:23:31.966Z"
   },
   {
    "duration": 7804,
    "start_time": "2021-10-28T12:27:49.745Z"
   },
   {
    "duration": 6,
    "start_time": "2021-10-28T12:27:57.552Z"
   },
   {
    "duration": 1868,
    "start_time": "2021-10-28T12:27:57.561Z"
   },
   {
    "duration": 187,
    "start_time": "2021-10-28T12:27:59.432Z"
   },
   {
    "duration": 504,
    "start_time": "2021-10-28T12:27:59.622Z"
   },
   {
    "duration": 813,
    "start_time": "2021-10-28T12:28:00.129Z"
   },
   {
    "duration": 57,
    "start_time": "2021-10-28T12:28:00.944Z"
   },
   {
    "duration": 34,
    "start_time": "2021-10-28T12:28:01.005Z"
   },
   {
    "duration": 60,
    "start_time": "2021-10-28T12:28:01.042Z"
   },
   {
    "duration": 35,
    "start_time": "2021-10-28T12:28:01.106Z"
   },
   {
    "duration": 7,
    "start_time": "2021-10-28T12:28:01.200Z"
   },
   {
    "duration": 92,
    "start_time": "2021-10-28T12:28:01.209Z"
   },
   {
    "duration": 21,
    "start_time": "2021-10-28T12:28:01.303Z"
   },
   {
    "duration": 9278,
    "start_time": "2021-10-28T12:28:01.326Z"
   },
   {
    "duration": 6336,
    "start_time": "2021-10-28T12:28:10.607Z"
   },
   {
    "duration": 3312,
    "start_time": "2021-10-28T12:28:17.002Z"
   },
   {
    "duration": 104,
    "start_time": "2021-10-28T12:28:20.317Z"
   },
   {
    "duration": 3113,
    "start_time": "2021-10-28T12:28:20.424Z"
   },
   {
    "duration": 62,
    "start_time": "2021-10-28T12:28:23.540Z"
   },
   {
    "duration": 13,
    "start_time": "2021-10-28T12:28:23.605Z"
   },
   {
    "duration": 421,
    "start_time": "2021-10-28T12:37:23.991Z"
   },
   {
    "duration": 7838,
    "start_time": "2021-10-28T12:38:05.976Z"
   },
   {
    "duration": 3325,
    "start_time": "2021-10-28T12:38:13.818Z"
   },
   {
    "duration": 2055,
    "start_time": "2021-10-28T12:38:17.146Z"
   },
   {
    "duration": 207,
    "start_time": "2021-10-28T12:38:19.205Z"
   },
   {
    "duration": 216,
    "start_time": "2021-10-28T12:38:19.415Z"
   },
   {
    "duration": 991,
    "start_time": "2021-10-28T12:38:19.634Z"
   },
   {
    "duration": 5,
    "start_time": "2021-10-28T12:38:20.628Z"
   },
   {
    "duration": 70,
    "start_time": "2021-10-28T12:38:20.638Z"
   },
   {
    "duration": 8,
    "start_time": "2021-10-28T12:38:20.712Z"
   },
   {
    "duration": 121,
    "start_time": "2021-10-28T12:38:20.723Z"
   },
   {
    "duration": 57,
    "start_time": "2021-10-28T12:38:20.847Z"
   },
   {
    "duration": 96,
    "start_time": "2021-10-28T12:38:20.908Z"
   },
   {
    "duration": 43,
    "start_time": "2021-10-28T12:38:21.008Z"
   },
   {
    "duration": 8469,
    "start_time": "2021-10-28T12:38:21.102Z"
   },
   {
    "duration": 6043,
    "start_time": "2021-10-28T12:38:29.573Z"
   },
   {
    "duration": 3919,
    "start_time": "2021-10-28T12:38:35.619Z"
   },
   {
    "duration": 103,
    "start_time": "2021-10-28T12:38:39.541Z"
   },
   {
    "duration": 3172,
    "start_time": "2021-10-28T12:38:39.647Z"
   },
   {
    "duration": 7,
    "start_time": "2021-10-28T12:38:42.822Z"
   },
   {
    "duration": 71,
    "start_time": "2021-10-28T12:38:42.832Z"
   },
   {
    "duration": 18,
    "start_time": "2021-10-28T12:38:42.906Z"
   },
   {
    "duration": 15,
    "start_time": "2021-10-28T12:38:42.927Z"
   },
   {
    "duration": 711,
    "start_time": "2021-10-28T12:38:42.947Z"
   },
   {
    "duration": 337,
    "start_time": "2021-10-28T12:38:43.324Z"
   },
   {
    "duration": 325,
    "start_time": "2021-10-28T12:38:43.338Z"
   },
   {
    "duration": 316,
    "start_time": "2021-10-28T12:38:43.348Z"
   },
   {
    "duration": 251,
    "start_time": "2021-10-28T12:38:43.449Z"
   },
   {
    "duration": 241,
    "start_time": "2021-10-28T12:38:43.461Z"
   },
   {
    "duration": 235,
    "start_time": "2021-10-28T12:38:43.469Z"
   },
   {
    "duration": 217,
    "start_time": "2021-10-28T12:38:43.488Z"
   },
   {
    "duration": 201,
    "start_time": "2021-10-28T12:38:43.505Z"
   },
   {
    "duration": 184,
    "start_time": "2021-10-28T12:38:43.524Z"
   },
   {
    "duration": 142,
    "start_time": "2021-10-28T12:38:43.568Z"
   },
   {
    "duration": 368,
    "start_time": "2021-10-28T12:39:24.215Z"
   },
   {
    "duration": 6496,
    "start_time": "2021-10-28T12:45:18.808Z"
   },
   {
    "duration": 2831,
    "start_time": "2021-10-28T12:45:25.307Z"
   },
   {
    "duration": 2060,
    "start_time": "2021-10-28T12:45:28.141Z"
   },
   {
    "duration": 199,
    "start_time": "2021-10-28T12:45:30.204Z"
   },
   {
    "duration": 204,
    "start_time": "2021-10-28T12:45:30.405Z"
   },
   {
    "duration": 929,
    "start_time": "2021-10-28T12:45:30.612Z"
   },
   {
    "duration": 57,
    "start_time": "2021-10-28T12:45:31.544Z"
   },
   {
    "duration": 10,
    "start_time": "2021-10-28T12:45:31.605Z"
   },
   {
    "duration": 84,
    "start_time": "2021-10-28T12:45:31.618Z"
   },
   {
    "duration": 107,
    "start_time": "2021-10-28T12:45:31.704Z"
   },
   {
    "duration": 3,
    "start_time": "2021-10-28T12:45:31.813Z"
   },
   {
    "duration": 22,
    "start_time": "2021-10-28T12:45:31.818Z"
   },
   {
    "duration": 62,
    "start_time": "2021-10-28T12:45:31.842Z"
   },
   {
    "duration": 9037,
    "start_time": "2021-10-28T12:45:31.906Z"
   },
   {
    "duration": 5120,
    "start_time": "2021-10-28T12:45:41.002Z"
   },
   {
    "duration": 4474,
    "start_time": "2021-10-28T12:45:46.126Z"
   },
   {
    "duration": 1397,
    "start_time": "2021-10-28T12:45:50.603Z"
   },
   {
    "duration": 50,
    "start_time": "2021-10-28T12:45:51.954Z"
   },
   {
    "duration": 42,
    "start_time": "2021-10-28T12:45:51.963Z"
   },
   {
    "duration": 30,
    "start_time": "2021-10-28T12:45:51.977Z"
   },
   {
    "duration": 20,
    "start_time": "2021-10-28T12:45:51.988Z"
   },
   {
    "duration": 17,
    "start_time": "2021-10-28T12:45:51.993Z"
   },
   {
    "duration": 7,
    "start_time": "2021-10-28T12:45:52.004Z"
   },
   {
    "duration": 2,
    "start_time": "2021-10-28T12:45:52.011Z"
   },
   {
    "duration": -5,
    "start_time": "2021-10-28T12:45:52.020Z"
   },
   {
    "duration": -8,
    "start_time": "2021-10-28T12:45:52.025Z"
   },
   {
    "duration": -16,
    "start_time": "2021-10-28T12:45:52.034Z"
   },
   {
    "duration": -20,
    "start_time": "2021-10-28T12:45:52.040Z"
   },
   {
    "duration": -24,
    "start_time": "2021-10-28T12:45:52.046Z"
   },
   {
    "duration": -33,
    "start_time": "2021-10-28T12:45:52.057Z"
   },
   {
    "duration": -38,
    "start_time": "2021-10-28T12:45:52.063Z"
   },
   {
    "duration": -46,
    "start_time": "2021-10-28T12:45:52.073Z"
   },
   {
    "duration": -50,
    "start_time": "2021-10-28T12:45:52.078Z"
   },
   {
    "duration": 5960,
    "start_time": "2021-10-28T12:49:12.061Z"
   },
   {
    "duration": 3779,
    "start_time": "2021-10-28T12:49:18.024Z"
   },
   {
    "duration": 3217,
    "start_time": "2021-10-28T12:49:21.807Z"
   },
   {
    "duration": 194,
    "start_time": "2021-10-28T12:49:25.027Z"
   },
   {
    "duration": 199,
    "start_time": "2021-10-28T12:49:25.223Z"
   },
   {
    "duration": 890,
    "start_time": "2021-10-28T12:49:25.424Z"
   },
   {
    "duration": 4,
    "start_time": "2021-10-28T12:49:26.317Z"
   },
   {
    "duration": 76,
    "start_time": "2021-10-28T12:49:26.325Z"
   },
   {
    "duration": 7,
    "start_time": "2021-10-28T12:49:26.405Z"
   },
   {
    "duration": 116,
    "start_time": "2021-10-28T12:49:26.414Z"
   },
   {
    "duration": 6,
    "start_time": "2021-10-28T12:49:26.533Z"
   },
   {
    "duration": 79,
    "start_time": "2021-10-28T12:49:26.541Z"
   },
   {
    "duration": 81,
    "start_time": "2021-10-28T12:49:26.623Z"
   },
   {
    "duration": 8727,
    "start_time": "2021-10-28T12:49:26.706Z"
   },
   {
    "duration": 4609,
    "start_time": "2021-10-28T12:49:35.435Z"
   },
   {
    "duration": 2920,
    "start_time": "2021-10-28T12:49:40.102Z"
   },
   {
    "duration": 107,
    "start_time": "2021-10-28T12:49:43.025Z"
   },
   {
    "duration": 3171,
    "start_time": "2021-10-28T12:49:43.134Z"
   },
   {
    "duration": 6,
    "start_time": "2021-10-28T12:49:46.307Z"
   },
   {
    "duration": 14,
    "start_time": "2021-10-28T12:49:46.315Z"
   },
   {
    "duration": 73,
    "start_time": "2021-10-28T12:49:46.332Z"
   },
   {
    "duration": 660,
    "start_time": "2021-10-28T12:49:46.407Z"
   },
   {
    "duration": 105,
    "start_time": "2021-10-28T12:49:46.967Z"
   },
   {
    "duration": 93,
    "start_time": "2021-10-28T12:49:46.980Z"
   },
   {
    "duration": 81,
    "start_time": "2021-10-28T12:49:46.994Z"
   },
   {
    "duration": 97,
    "start_time": "2021-10-28T12:49:47.003Z"
   },
   {
    "duration": 83,
    "start_time": "2021-10-28T12:49:47.019Z"
   },
   {
    "duration": 72,
    "start_time": "2021-10-28T12:49:47.031Z"
   },
   {
    "duration": 64,
    "start_time": "2021-10-28T12:49:47.040Z"
   },
   {
    "duration": 58,
    "start_time": "2021-10-28T12:49:47.048Z"
   },
   {
    "duration": 43,
    "start_time": "2021-10-28T12:49:47.064Z"
   },
   {
    "duration": 28,
    "start_time": "2021-10-28T12:49:47.080Z"
   },
   {
    "duration": 21,
    "start_time": "2021-10-28T12:49:47.089Z"
   },
   {
    "duration": 372,
    "start_time": "2021-10-28T12:50:12.308Z"
   },
   {
    "duration": 7,
    "start_time": "2021-10-28T12:50:18.565Z"
   },
   {
    "duration": 6475,
    "start_time": "2021-10-28T12:52:26.828Z"
   },
   {
    "duration": 2914,
    "start_time": "2021-10-28T12:52:33.306Z"
   },
   {
    "duration": 2097,
    "start_time": "2021-10-28T12:52:36.223Z"
   },
   {
    "duration": 207,
    "start_time": "2021-10-28T12:52:38.323Z"
   },
   {
    "duration": 296,
    "start_time": "2021-10-28T12:52:38.533Z"
   },
   {
    "duration": 892,
    "start_time": "2021-10-28T12:52:38.831Z"
   },
   {
    "duration": 4,
    "start_time": "2021-10-28T12:52:39.726Z"
   },
   {
    "duration": 80,
    "start_time": "2021-10-28T12:52:39.734Z"
   },
   {
    "duration": 11,
    "start_time": "2021-10-28T12:52:39.817Z"
   },
   {
    "duration": 170,
    "start_time": "2021-10-28T12:52:39.831Z"
   },
   {
    "duration": 4,
    "start_time": "2021-10-28T12:52:40.004Z"
   },
   {
    "duration": 16,
    "start_time": "2021-10-28T12:52:40.011Z"
   },
   {
    "duration": 70,
    "start_time": "2021-10-28T12:52:40.031Z"
   },
   {
    "duration": 9832,
    "start_time": "2021-10-28T12:52:40.104Z"
   },
   {
    "duration": 4767,
    "start_time": "2021-10-28T12:52:49.938Z"
   },
   {
    "duration": 2918,
    "start_time": "2021-10-28T12:52:54.708Z"
   },
   {
    "duration": 752,
    "start_time": "2021-10-28T12:52:57.628Z"
   },
   {
    "duration": 130,
    "start_time": "2021-10-28T12:52:58.254Z"
   },
   {
    "duration": 125,
    "start_time": "2021-10-28T12:52:58.260Z"
   },
   {
    "duration": 119,
    "start_time": "2021-10-28T12:52:58.267Z"
   },
   {
    "duration": 128,
    "start_time": "2021-10-28T12:52:58.272Z"
   },
   {
    "duration": 123,
    "start_time": "2021-10-28T12:52:58.279Z"
   },
   {
    "duration": 120,
    "start_time": "2021-10-28T12:52:58.284Z"
   },
   {
    "duration": 115,
    "start_time": "2021-10-28T12:52:58.291Z"
   },
   {
    "duration": 112,
    "start_time": "2021-10-28T12:52:58.296Z"
   },
   {
    "duration": 109,
    "start_time": "2021-10-28T12:52:58.302Z"
   },
   {
    "duration": 106,
    "start_time": "2021-10-28T12:52:58.307Z"
   },
   {
    "duration": 103,
    "start_time": "2021-10-28T12:52:58.312Z"
   },
   {
    "duration": 99,
    "start_time": "2021-10-28T12:52:58.319Z"
   },
   {
    "duration": 64,
    "start_time": "2021-10-28T12:52:58.356Z"
   },
   {
    "duration": 58,
    "start_time": "2021-10-28T12:52:58.365Z"
   },
   {
    "duration": 53,
    "start_time": "2021-10-28T12:52:58.372Z"
   },
   {
    "duration": 47,
    "start_time": "2021-10-28T12:52:58.380Z"
   },
   {
    "duration": 7114,
    "start_time": "2021-10-28T12:54:20.807Z"
   },
   {
    "duration": 3507,
    "start_time": "2021-10-28T12:54:27.925Z"
   },
   {
    "duration": 2081,
    "start_time": "2021-10-28T12:54:31.435Z"
   },
   {
    "duration": 196,
    "start_time": "2021-10-28T12:54:33.519Z"
   },
   {
    "duration": 194,
    "start_time": "2021-10-28T12:54:33.717Z"
   },
   {
    "duration": 816,
    "start_time": "2021-10-28T12:54:33.913Z"
   },
   {
    "duration": 4,
    "start_time": "2021-10-28T12:54:34.732Z"
   },
   {
    "duration": 75,
    "start_time": "2021-10-28T12:54:34.739Z"
   },
   {
    "duration": 12,
    "start_time": "2021-10-28T12:54:34.818Z"
   },
   {
    "duration": 106,
    "start_time": "2021-10-28T12:54:34.832Z"
   },
   {
    "duration": 6,
    "start_time": "2021-10-28T12:54:34.941Z"
   },
   {
    "duration": 24,
    "start_time": "2021-10-28T12:54:35.002Z"
   },
   {
    "duration": 86,
    "start_time": "2021-10-28T12:54:35.028Z"
   },
   {
    "duration": 8629,
    "start_time": "2021-10-28T12:54:35.117Z"
   },
   {
    "duration": 4403,
    "start_time": "2021-10-28T12:54:43.800Z"
   },
   {
    "duration": 2933,
    "start_time": "2021-10-28T12:54:48.205Z"
   },
   {
    "duration": 104,
    "start_time": "2021-10-28T12:54:51.141Z"
   },
   {
    "duration": 3143,
    "start_time": "2021-10-28T12:54:51.302Z"
   },
   {
    "duration": 54,
    "start_time": "2021-10-28T12:54:54.448Z"
   },
   {
    "duration": 17,
    "start_time": "2021-10-28T12:54:54.505Z"
   },
   {
    "duration": 12,
    "start_time": "2021-10-28T12:54:54.525Z"
   },
   {
    "duration": 66,
    "start_time": "2021-10-28T12:54:54.539Z"
   },
   {
    "duration": 666,
    "start_time": "2021-10-28T12:54:54.610Z"
   },
   {
    "duration": 247,
    "start_time": "2021-10-28T12:54:55.032Z"
   },
   {
    "duration": 223,
    "start_time": "2021-10-28T12:54:55.057Z"
   },
   {
    "duration": 216,
    "start_time": "2021-10-28T12:54:55.066Z"
   },
   {
    "duration": 205,
    "start_time": "2021-10-28T12:54:55.078Z"
   },
   {
    "duration": 149,
    "start_time": "2021-10-28T12:54:55.151Z"
   },
   {
    "duration": 124,
    "start_time": "2021-10-28T12:54:55.177Z"
   },
   {
    "duration": 105,
    "start_time": "2021-10-28T12:54:55.198Z"
   },
   {
    "duration": 84,
    "start_time": "2021-10-28T12:54:55.220Z"
   },
   {
    "duration": 53,
    "start_time": "2021-10-28T12:54:55.252Z"
   },
   {
    "duration": 41,
    "start_time": "2021-10-28T12:54:55.266Z"
   },
   {
    "duration": 7,
    "start_time": "2021-10-28T12:55:25.176Z"
   },
   {
    "duration": 7,
    "start_time": "2021-10-28T12:55:33.919Z"
   },
   {
    "duration": 378,
    "start_time": "2021-10-28T12:58:29.149Z"
   },
   {
    "duration": 7212,
    "start_time": "2021-10-28T13:01:48.923Z"
   },
   {
    "duration": 3677,
    "start_time": "2021-10-28T13:01:56.138Z"
   },
   {
    "duration": 2099,
    "start_time": "2021-10-28T13:01:59.818Z"
   },
   {
    "duration": 204,
    "start_time": "2021-10-28T13:02:01.919Z"
   },
   {
    "duration": 212,
    "start_time": "2021-10-28T13:02:02.126Z"
   },
   {
    "duration": 897,
    "start_time": "2021-10-28T13:02:02.340Z"
   },
   {
    "duration": 61,
    "start_time": "2021-10-28T13:02:03.240Z"
   },
   {
    "duration": 10,
    "start_time": "2021-10-28T13:02:03.307Z"
   },
   {
    "duration": 8,
    "start_time": "2021-10-28T13:02:03.320Z"
   },
   {
    "duration": 172,
    "start_time": "2021-10-28T13:02:03.330Z"
   },
   {
    "duration": 8,
    "start_time": "2021-10-28T13:02:03.505Z"
   },
   {
    "duration": 92,
    "start_time": "2021-10-28T13:02:03.515Z"
   },
   {
    "duration": 25,
    "start_time": "2021-10-28T13:02:03.609Z"
   },
   {
    "duration": 9898,
    "start_time": "2021-10-28T13:02:03.637Z"
   },
   {
    "duration": 4476,
    "start_time": "2021-10-28T13:02:13.538Z"
   },
   {
    "duration": 3308,
    "start_time": "2021-10-28T13:02:18.017Z"
   },
   {
    "duration": 185,
    "start_time": "2021-10-28T13:02:21.327Z"
   },
   {
    "duration": 3918,
    "start_time": "2021-10-28T13:02:21.516Z"
   },
   {
    "duration": 6,
    "start_time": "2021-10-28T13:02:25.437Z"
   },
   {
    "duration": 57,
    "start_time": "2021-10-28T13:02:25.445Z"
   },
   {
    "duration": 15,
    "start_time": "2021-10-28T13:02:25.505Z"
   },
   {
    "duration": 78,
    "start_time": "2021-10-28T13:02:25.523Z"
   },
   {
    "duration": 675,
    "start_time": "2021-10-28T13:02:25.606Z"
   },
   {
    "duration": 180,
    "start_time": "2021-10-28T13:02:26.104Z"
   },
   {
    "duration": 170,
    "start_time": "2021-10-28T13:02:26.115Z"
   },
   {
    "duration": 140,
    "start_time": "2021-10-28T13:02:26.146Z"
   },
   {
    "duration": 145,
    "start_time": "2021-10-28T13:02:26.155Z"
   },
   {
    "duration": 129,
    "start_time": "2021-10-28T13:02:26.172Z"
   },
   {
    "duration": 120,
    "start_time": "2021-10-28T13:02:26.183Z"
   },
   {
    "duration": 114,
    "start_time": "2021-10-28T13:02:26.190Z"
   },
   {
    "duration": 101,
    "start_time": "2021-10-28T13:02:26.204Z"
   },
   {
    "duration": 82,
    "start_time": "2021-10-28T13:02:26.225Z"
   },
   {
    "duration": 69,
    "start_time": "2021-10-28T13:02:26.239Z"
   },
   {
    "duration": 6936,
    "start_time": "2021-10-28T13:04:53.296Z"
   },
   {
    "duration": 3064,
    "start_time": "2021-10-28T13:05:00.236Z"
   },
   {
    "duration": 2008,
    "start_time": "2021-10-28T13:05:03.305Z"
   },
   {
    "duration": 214,
    "start_time": "2021-10-28T13:05:05.316Z"
   },
   {
    "duration": 207,
    "start_time": "2021-10-28T13:05:05.533Z"
   },
   {
    "duration": 832,
    "start_time": "2021-10-28T13:05:05.801Z"
   },
   {
    "duration": 4,
    "start_time": "2021-10-28T13:05:06.635Z"
   },
   {
    "duration": 66,
    "start_time": "2021-10-28T13:05:06.642Z"
   },
   {
    "duration": 9,
    "start_time": "2021-10-28T13:05:06.712Z"
   },
   {
    "duration": 100,
    "start_time": "2021-10-28T13:05:06.723Z"
   },
   {
    "duration": 9679,
    "start_time": "2021-10-28T13:05:06.825Z"
   },
   {
    "duration": 4901,
    "start_time": "2021-10-28T13:05:16.508Z"
   },
   {
    "duration": 3919,
    "start_time": "2021-10-28T13:05:21.411Z"
   },
   {
    "duration": 979,
    "start_time": "2021-10-28T13:05:25.334Z"
   },
   {
    "duration": 41,
    "start_time": "2021-10-28T13:05:26.275Z"
   },
   {
    "duration": 26,
    "start_time": "2021-10-28T13:05:26.292Z"
   },
   {
    "duration": 11,
    "start_time": "2021-10-28T13:05:26.308Z"
   },
   {
    "duration": -4,
    "start_time": "2021-10-28T13:05:26.324Z"
   },
   {
    "duration": -15,
    "start_time": "2021-10-28T13:05:26.337Z"
   },
   {
    "duration": -22,
    "start_time": "2021-10-28T13:05:26.345Z"
   },
   {
    "duration": -27,
    "start_time": "2021-10-28T13:05:26.351Z"
   },
   {
    "duration": -36,
    "start_time": "2021-10-28T13:05:26.362Z"
   },
   {
    "duration": -47,
    "start_time": "2021-10-28T13:05:26.374Z"
   },
   {
    "duration": -58,
    "start_time": "2021-10-28T13:05:26.386Z"
   },
   {
    "duration": -67,
    "start_time": "2021-10-28T13:05:26.397Z"
   },
   {
    "duration": -72,
    "start_time": "2021-10-28T13:05:26.403Z"
   },
   {
    "duration": -79,
    "start_time": "2021-10-28T13:05:26.411Z"
   },
   {
    "duration": -122,
    "start_time": "2021-10-28T13:05:26.456Z"
   },
   {
    "duration": -138,
    "start_time": "2021-10-28T13:05:26.473Z"
   },
   {
    "duration": -88,
    "start_time": "2021-10-28T13:05:26.488Z"
   },
   {
    "duration": 513,
    "start_time": "2021-10-28T13:12:07.145Z"
   },
   {
    "duration": 28,
    "start_time": "2021-10-28T13:13:02.803Z"
   },
   {
    "duration": 3112,
    "start_time": "2021-10-28T13:13:09.304Z"
   },
   {
    "duration": 6,
    "start_time": "2021-10-28T13:13:24.816Z"
   },
   {
    "duration": 6,
    "start_time": "2021-10-28T13:13:24.825Z"
   },
   {
    "duration": 13,
    "start_time": "2021-10-28T13:13:24.835Z"
   },
   {
    "duration": 400,
    "start_time": "2021-10-28T13:13:24.902Z"
   },
   {
    "duration": -30,
    "start_time": "2021-10-28T13:13:25.336Z"
   },
   {
    "duration": -33,
    "start_time": "2021-10-28T13:13:25.341Z"
   },
   {
    "duration": -39,
    "start_time": "2021-10-28T13:13:25.348Z"
   },
   {
    "duration": -48,
    "start_time": "2021-10-28T13:13:25.360Z"
   },
   {
    "duration": -58,
    "start_time": "2021-10-28T13:13:25.372Z"
   },
   {
    "duration": -66,
    "start_time": "2021-10-28T13:13:25.382Z"
   },
   {
    "duration": -76,
    "start_time": "2021-10-28T13:13:25.393Z"
   },
   {
    "duration": -86,
    "start_time": "2021-10-28T13:13:25.405Z"
   },
   {
    "duration": -88,
    "start_time": "2021-10-28T13:13:25.410Z"
   },
   {
    "duration": -99,
    "start_time": "2021-10-28T13:13:25.423Z"
   },
   {
    "duration": -103,
    "start_time": "2021-10-28T13:13:25.429Z"
   },
   {
    "duration": 23711,
    "start_time": "2021-10-28T15:14:02.382Z"
   },
   {
    "duration": 2886,
    "start_time": "2021-10-28T15:14:26.096Z"
   },
   {
    "duration": 2115,
    "start_time": "2021-10-28T15:14:28.986Z"
   },
   {
    "duration": 199,
    "start_time": "2021-10-28T15:14:31.159Z"
   },
   {
    "duration": 200,
    "start_time": "2021-10-28T15:14:31.361Z"
   },
   {
    "duration": 996,
    "start_time": "2021-10-28T15:14:31.564Z"
   },
   {
    "duration": 5,
    "start_time": "2021-10-28T15:14:32.564Z"
   },
   {
    "duration": 13,
    "start_time": "2021-10-28T15:14:32.575Z"
   },
   {
    "duration": 79,
    "start_time": "2021-10-28T15:14:32.591Z"
   },
   {
    "duration": 99,
    "start_time": "2021-10-28T15:14:32.672Z"
   },
   {
    "duration": 9697,
    "start_time": "2021-10-28T15:14:32.773Z"
   },
   {
    "duration": 4520,
    "start_time": "2021-10-28T15:14:42.472Z"
   },
   {
    "duration": 3084,
    "start_time": "2021-10-28T15:14:46.995Z"
   },
   {
    "duration": 82,
    "start_time": "2021-10-28T15:14:50.082Z"
   },
   {
    "duration": 3216,
    "start_time": "2021-10-28T15:14:50.167Z"
   },
   {
    "duration": 6,
    "start_time": "2021-10-28T15:14:53.385Z"
   },
   {
    "duration": 66,
    "start_time": "2021-10-28T15:14:53.393Z"
   },
   {
    "duration": 23,
    "start_time": "2021-10-28T15:14:53.461Z"
   },
   {
    "duration": 875,
    "start_time": "2021-10-28T15:14:53.486Z"
   },
   {
    "duration": 4,
    "start_time": "2021-10-28T15:14:54.360Z"
   },
   {
    "duration": 1,
    "start_time": "2021-10-28T15:14:54.365Z"
   },
   {
    "duration": -11,
    "start_time": "2021-10-28T15:14:54.378Z"
   },
   {
    "duration": -18,
    "start_time": "2021-10-28T15:14:54.386Z"
   },
   {
    "duration": -24,
    "start_time": "2021-10-28T15:14:54.393Z"
   },
   {
    "duration": -33,
    "start_time": "2021-10-28T15:14:54.404Z"
   },
   {
    "duration": -41,
    "start_time": "2021-10-28T15:14:54.413Z"
   },
   {
    "duration": -47,
    "start_time": "2021-10-28T15:14:54.421Z"
   },
   {
    "duration": -57,
    "start_time": "2021-10-28T15:14:54.432Z"
   },
   {
    "duration": -65,
    "start_time": "2021-10-28T15:14:54.442Z"
   },
   {
    "duration": -73,
    "start_time": "2021-10-28T15:14:54.451Z"
   },
   {
    "duration": 8203,
    "start_time": "2021-10-31T10:31:01.925Z"
   },
   {
    "duration": 1225,
    "start_time": "2021-10-31T10:31:10.130Z"
   },
   {
    "duration": 819,
    "start_time": "2021-10-31T10:31:11.357Z"
   },
   {
    "duration": 50,
    "start_time": "2021-10-31T10:31:12.177Z"
   },
   {
    "duration": 70,
    "start_time": "2021-10-31T10:31:12.228Z"
   },
   {
    "duration": 269,
    "start_time": "2021-10-31T10:31:12.299Z"
   },
   {
    "duration": 3,
    "start_time": "2021-10-31T10:31:12.569Z"
   },
   {
    "duration": 7,
    "start_time": "2021-10-31T10:31:12.575Z"
   },
   {
    "duration": 4,
    "start_time": "2021-10-31T10:31:12.585Z"
   },
   {
    "duration": 38,
    "start_time": "2021-10-31T10:31:12.591Z"
   },
   {
    "duration": 2504,
    "start_time": "2021-10-31T10:31:12.630Z"
   },
   {
    "duration": 1342,
    "start_time": "2021-10-31T10:31:15.136Z"
   },
   {
    "duration": 832,
    "start_time": "2021-10-31T10:31:16.480Z"
   },
   {
    "duration": 20,
    "start_time": "2021-10-31T10:31:17.315Z"
   },
   {
    "duration": 1092,
    "start_time": "2021-10-31T10:31:17.336Z"
   },
   {
    "duration": 5,
    "start_time": "2021-10-31T10:31:18.431Z"
   },
   {
    "duration": 5,
    "start_time": "2021-10-31T10:31:18.438Z"
   },
   {
    "duration": 7,
    "start_time": "2021-10-31T10:31:18.464Z"
   },
   {
    "duration": 367,
    "start_time": "2021-10-31T10:31:18.473Z"
   },
   {
    "duration": -275,
    "start_time": "2021-10-31T10:31:19.118Z"
   },
   {
    "duration": -284,
    "start_time": "2021-10-31T10:31:19.128Z"
   },
   {
    "duration": -290,
    "start_time": "2021-10-31T10:31:19.135Z"
   },
   {
    "duration": -299,
    "start_time": "2021-10-31T10:31:19.145Z"
   },
   {
    "duration": -292,
    "start_time": "2021-10-31T10:31:19.155Z"
   },
   {
    "duration": -296,
    "start_time": "2021-10-31T10:31:19.160Z"
   },
   {
    "duration": -299,
    "start_time": "2021-10-31T10:31:19.164Z"
   },
   {
    "duration": -309,
    "start_time": "2021-10-31T10:31:19.175Z"
   },
   {
    "duration": -314,
    "start_time": "2021-10-31T10:31:19.181Z"
   },
   {
    "duration": -322,
    "start_time": "2021-10-31T10:31:19.191Z"
   },
   {
    "duration": -326,
    "start_time": "2021-10-31T10:31:19.196Z"
   },
   {
    "duration": 8,
    "start_time": "2021-10-31T10:36:15.954Z"
   },
   {
    "duration": 5,
    "start_time": "2021-10-31T10:36:17.123Z"
   },
   {
    "duration": 2085,
    "start_time": "2021-10-31T10:36:50.845Z"
   },
   {
    "duration": 5,
    "start_time": "2021-10-31T10:36:52.932Z"
   },
   {
    "duration": 774,
    "start_time": "2021-10-31T10:36:52.939Z"
   },
   {
    "duration": 63,
    "start_time": "2021-10-31T10:36:53.716Z"
   },
   {
    "duration": 91,
    "start_time": "2021-10-31T10:36:53.781Z"
   },
   {
    "duration": 261,
    "start_time": "2021-10-31T10:36:53.875Z"
   },
   {
    "duration": 3,
    "start_time": "2021-10-31T10:36:54.138Z"
   },
   {
    "duration": 22,
    "start_time": "2021-10-31T10:36:54.145Z"
   },
   {
    "duration": 6,
    "start_time": "2021-10-31T10:36:54.169Z"
   },
   {
    "duration": 38,
    "start_time": "2021-10-31T10:36:54.176Z"
   },
   {
    "duration": 2498,
    "start_time": "2021-10-31T10:36:54.216Z"
   },
   {
    "duration": 1169,
    "start_time": "2021-10-31T10:36:56.716Z"
   },
   {
    "duration": 1001,
    "start_time": "2021-10-31T10:36:57.887Z"
   },
   {
    "duration": 18,
    "start_time": "2021-10-31T10:36:58.889Z"
   },
   {
    "duration": 947,
    "start_time": "2021-10-31T10:36:58.909Z"
   },
   {
    "duration": 5,
    "start_time": "2021-10-31T10:36:59.858Z"
   },
   {
    "duration": 9,
    "start_time": "2021-10-31T10:36:59.865Z"
   },
   {
    "duration": 8,
    "start_time": "2021-10-31T10:36:59.876Z"
   },
   {
    "duration": 29,
    "start_time": "2021-10-31T10:41:17.492Z"
   },
   {
    "duration": 243,
    "start_time": "2021-10-31T10:41:30.014Z"
   },
   {
    "duration": 11,
    "start_time": "2021-10-31T10:41:43.166Z"
   },
   {
    "duration": 9,
    "start_time": "2021-10-31T10:42:07.547Z"
   },
   {
    "duration": 39,
    "start_time": "2021-10-31T10:42:22.172Z"
   },
   {
    "duration": 255,
    "start_time": "2021-10-31T10:42:22.213Z"
   },
   {
    "duration": 1392,
    "start_time": "2021-10-31T10:42:22.471Z"
   },
   {
    "duration": 3,
    "start_time": "2021-10-31T10:42:23.865Z"
   },
   {
    "duration": 31803,
    "start_time": "2021-10-31T10:42:23.870Z"
   },
   {
    "duration": 1030,
    "start_time": "2021-10-31T10:42:55.675Z"
   },
   {
    "duration": 28,
    "start_time": "2021-10-31T10:42:56.679Z"
   },
   {
    "duration": 18,
    "start_time": "2021-10-31T10:42:56.690Z"
   },
   {
    "duration": -53,
    "start_time": "2021-10-31T10:42:56.762Z"
   },
   {
    "duration": -66,
    "start_time": "2021-10-31T10:42:56.776Z"
   },
   {
    "duration": -78,
    "start_time": "2021-10-31T10:42:56.789Z"
   },
   {
    "duration": 804,
    "start_time": "2021-10-31T10:43:40.416Z"
   },
   {
    "duration": 3342,
    "start_time": "2021-10-31T10:43:46.397Z"
   },
   {
    "duration": 3,
    "start_time": "2021-10-31T10:43:56.837Z"
   },
   {
    "duration": 3019,
    "start_time": "2021-10-31T10:49:27.586Z"
   },
   {
    "duration": 1187,
    "start_time": "2021-10-31T10:49:30.608Z"
   },
   {
    "duration": 784,
    "start_time": "2021-10-31T10:49:31.797Z"
   },
   {
    "duration": 49,
    "start_time": "2021-10-31T10:49:32.583Z"
   },
   {
    "duration": 76,
    "start_time": "2021-10-31T10:49:32.634Z"
   },
   {
    "duration": 368,
    "start_time": "2021-10-31T10:49:32.712Z"
   },
   {
    "duration": 3,
    "start_time": "2021-10-31T10:49:33.081Z"
   },
   {
    "duration": 10,
    "start_time": "2021-10-31T10:49:33.087Z"
   },
   {
    "duration": 4,
    "start_time": "2021-10-31T10:49:33.100Z"
   },
   {
    "duration": 61,
    "start_time": "2021-10-31T10:49:33.106Z"
   },
   {
    "duration": 2504,
    "start_time": "2021-10-31T10:49:33.169Z"
   },
   {
    "duration": 1288,
    "start_time": "2021-10-31T10:49:35.675Z"
   },
   {
    "duration": 806,
    "start_time": "2021-10-31T10:49:36.965Z"
   },
   {
    "duration": 17,
    "start_time": "2021-10-31T10:49:37.773Z"
   },
   {
    "duration": 1028,
    "start_time": "2021-10-31T10:49:37.792Z"
   },
   {
    "duration": 4,
    "start_time": "2021-10-31T10:49:38.822Z"
   },
   {
    "duration": 14,
    "start_time": "2021-10-31T10:49:38.828Z"
   },
   {
    "duration": 12,
    "start_time": "2021-10-31T10:49:38.844Z"
   },
   {
    "duration": 53,
    "start_time": "2021-10-31T10:49:38.858Z"
   },
   {
    "duration": 13,
    "start_time": "2021-10-31T10:49:38.912Z"
   },
   {
    "duration": 8,
    "start_time": "2021-10-31T10:49:38.926Z"
   },
   {
    "duration": 45,
    "start_time": "2021-10-31T10:49:38.935Z"
   },
   {
    "duration": 385,
    "start_time": "2021-10-31T10:49:38.983Z"
   },
   {
    "duration": 2192,
    "start_time": "2021-10-31T10:49:39.372Z"
   },
   {
    "duration": 4,
    "start_time": "2021-10-31T10:49:41.567Z"
   },
   {
    "duration": 35547,
    "start_time": "2021-10-31T10:49:41.572Z"
   },
   {
    "duration": 820,
    "start_time": "2021-10-31T10:50:17.120Z"
   },
   {
    "duration": 3399,
    "start_time": "2021-10-31T10:50:17.941Z"
   },
   {
    "duration": 3,
    "start_time": "2021-10-31T10:50:21.342Z"
   },
   {
    "duration": 1318,
    "start_time": "2021-10-31T11:20:40.440Z"
   },
   {
    "duration": 837,
    "start_time": "2021-10-31T11:20:41.761Z"
   },
   {
    "duration": 75,
    "start_time": "2021-10-31T11:20:42.600Z"
   },
   {
    "duration": 49,
    "start_time": "2021-10-31T11:20:42.677Z"
   },
   {
    "duration": 272,
    "start_time": "2021-10-31T11:20:42.728Z"
   },
   {
    "duration": 3,
    "start_time": "2021-10-31T11:20:43.002Z"
   },
   {
    "duration": 11,
    "start_time": "2021-10-31T11:20:43.007Z"
   },
   {
    "duration": 5,
    "start_time": "2021-10-31T11:20:43.021Z"
   },
   {
    "duration": 66,
    "start_time": "2021-10-31T11:20:43.028Z"
   },
   {
    "duration": 43,
    "start_time": "2021-10-31T11:20:43.100Z"
   },
   {
    "duration": 2500,
    "start_time": "2021-10-31T11:20:43.145Z"
   },
   {
    "duration": 1316,
    "start_time": "2021-10-31T11:20:45.648Z"
   },
   {
    "duration": 1407,
    "start_time": "2021-10-31T11:20:46.967Z"
   },
   {
    "duration": 21,
    "start_time": "2021-10-31T11:20:48.377Z"
   },
   {
    "duration": 1501,
    "start_time": "2021-10-31T11:20:48.400Z"
   },
   {
    "duration": 5,
    "start_time": "2021-10-31T11:20:49.903Z"
   },
   {
    "duration": 9,
    "start_time": "2021-10-31T11:20:49.910Z"
   },
   {
    "duration": 7,
    "start_time": "2021-10-31T11:20:49.921Z"
   },
   {
    "duration": 486,
    "start_time": "2021-10-31T11:20:49.930Z"
   },
   {
    "duration": -20,
    "start_time": "2021-10-31T11:20:50.440Z"
   },
   {
    "duration": -29,
    "start_time": "2021-10-31T11:20:50.451Z"
   },
   {
    "duration": -137,
    "start_time": "2021-10-31T11:20:50.561Z"
   },
   {
    "duration": -148,
    "start_time": "2021-10-31T11:20:50.573Z"
   },
   {
    "duration": -164,
    "start_time": "2021-10-31T11:20:50.591Z"
   },
   {
    "duration": -180,
    "start_time": "2021-10-31T11:20:50.608Z"
   },
   {
    "duration": -192,
    "start_time": "2021-10-31T11:20:50.622Z"
   },
   {
    "duration": -211,
    "start_time": "2021-10-31T11:20:50.642Z"
   },
   {
    "duration": -223,
    "start_time": "2021-10-31T11:20:50.656Z"
   },
   {
    "duration": -232,
    "start_time": "2021-10-31T11:20:50.667Z"
   },
   {
    "duration": -240,
    "start_time": "2021-10-31T11:20:50.676Z"
   },
   {
    "duration": -250,
    "start_time": "2021-10-31T11:20:50.687Z"
   },
   {
    "duration": -263,
    "start_time": "2021-10-31T11:20:50.702Z"
   },
   {
    "duration": 1244,
    "start_time": "2021-10-31T11:22:17.714Z"
   },
   {
    "duration": 849,
    "start_time": "2021-10-31T11:22:18.960Z"
   },
   {
    "duration": 54,
    "start_time": "2021-10-31T11:22:19.811Z"
   },
   {
    "duration": 48,
    "start_time": "2021-10-31T11:22:19.867Z"
   },
   {
    "duration": 252,
    "start_time": "2021-10-31T11:22:19.917Z"
   },
   {
    "duration": 3,
    "start_time": "2021-10-31T11:22:20.171Z"
   },
   {
    "duration": 11,
    "start_time": "2021-10-31T11:22:20.176Z"
   },
   {
    "duration": 5,
    "start_time": "2021-10-31T11:22:20.190Z"
   },
   {
    "duration": 39,
    "start_time": "2021-10-31T11:22:20.197Z"
   },
   {
    "duration": 3081,
    "start_time": "2021-10-31T11:22:20.238Z"
   },
   {
    "duration": 1293,
    "start_time": "2021-10-31T11:22:23.320Z"
   },
   {
    "duration": 812,
    "start_time": "2021-10-31T11:22:24.614Z"
   },
   {
    "duration": 17,
    "start_time": "2021-10-31T11:22:25.428Z"
   },
   {
    "duration": 17,
    "start_time": "2021-10-31T11:22:25.446Z"
   },
   {
    "duration": 6,
    "start_time": "2021-10-31T11:22:25.465Z"
   },
   {
    "duration": 6,
    "start_time": "2021-10-31T11:22:25.473Z"
   },
   {
    "duration": 31,
    "start_time": "2021-10-31T11:22:25.481Z"
   },
   {
    "duration": 9,
    "start_time": "2021-10-31T11:22:25.514Z"
   },
   {
    "duration": 8,
    "start_time": "2021-10-31T11:22:25.525Z"
   },
   {
    "duration": 68,
    "start_time": "2021-10-31T11:22:25.534Z"
   },
   {
    "duration": 166,
    "start_time": "2021-10-31T11:22:25.604Z"
   },
   {
    "duration": 1592,
    "start_time": "2021-10-31T11:22:25.773Z"
   },
   {
    "duration": 3,
    "start_time": "2021-10-31T11:22:27.369Z"
   },
   {
    "duration": 33792,
    "start_time": "2021-10-31T11:22:27.374Z"
   },
   {
    "duration": 815,
    "start_time": "2021-10-31T11:23:01.168Z"
   },
   {
    "duration": 3367,
    "start_time": "2021-10-31T11:23:01.985Z"
   },
   {
    "duration": 9,
    "start_time": "2021-10-31T11:23:05.354Z"
   },
   {
    "duration": 1292,
    "start_time": "2021-10-31T11:28:44.476Z"
   },
   {
    "duration": 828,
    "start_time": "2021-10-31T11:28:45.771Z"
   },
   {
    "duration": 70,
    "start_time": "2021-10-31T11:28:46.602Z"
   },
   {
    "duration": 51,
    "start_time": "2021-10-31T11:28:46.674Z"
   },
   {
    "duration": 272,
    "start_time": "2021-10-31T11:28:46.727Z"
   },
   {
    "duration": 3,
    "start_time": "2021-10-31T11:28:47.000Z"
   },
   {
    "duration": 10,
    "start_time": "2021-10-31T11:28:47.005Z"
   },
   {
    "duration": 5,
    "start_time": "2021-10-31T11:28:47.018Z"
   },
   {
    "duration": 65,
    "start_time": "2021-10-31T11:28:47.025Z"
   },
   {
    "duration": 2452,
    "start_time": "2021-10-31T11:28:47.092Z"
   },
   {
    "duration": 1385,
    "start_time": "2021-10-31T11:28:49.546Z"
   },
   {
    "duration": 833,
    "start_time": "2021-10-31T11:28:50.933Z"
   },
   {
    "duration": 18,
    "start_time": "2021-10-31T11:28:51.768Z"
   },
   {
    "duration": 4,
    "start_time": "2021-10-31T11:28:51.788Z"
   },
   {
    "duration": 8,
    "start_time": "2021-10-31T11:28:51.793Z"
   },
   {
    "duration": 8,
    "start_time": "2021-10-31T11:28:51.803Z"
   },
   {
    "duration": 55,
    "start_time": "2021-10-31T11:28:51.813Z"
   },
   {
    "duration": 12,
    "start_time": "2021-10-31T11:28:51.870Z"
   },
   {
    "duration": 8,
    "start_time": "2021-10-31T11:28:51.885Z"
   },
   {
    "duration": 46,
    "start_time": "2021-10-31T11:28:51.895Z"
   },
   {
    "duration": 126,
    "start_time": "2021-10-31T11:28:51.942Z"
   },
   {
    "duration": 1501,
    "start_time": "2021-10-31T11:28:52.070Z"
   },
   {
    "duration": 89,
    "start_time": "2021-10-31T11:28:53.575Z"
   },
   {
    "duration": 34657,
    "start_time": "2021-10-31T11:28:53.667Z"
   },
   {
    "duration": 803,
    "start_time": "2021-10-31T11:29:28.325Z"
   },
   {
    "duration": 3363,
    "start_time": "2021-10-31T11:29:29.130Z"
   },
   {
    "duration": 3,
    "start_time": "2021-10-31T11:29:32.494Z"
   },
   {
    "duration": 2144,
    "start_time": "2021-10-31T11:41:49.549Z"
   },
   {
    "duration": 1869,
    "start_time": "2021-10-31T11:41:51.695Z"
   },
   {
    "duration": 109,
    "start_time": "2021-10-31T11:41:53.566Z"
   },
   {
    "duration": 109,
    "start_time": "2021-10-31T11:41:53.677Z"
   },
   {
    "duration": 516,
    "start_time": "2021-10-31T11:41:53.788Z"
   },
   {
    "duration": 60,
    "start_time": "2021-10-31T11:41:54.306Z"
   },
   {
    "duration": 9,
    "start_time": "2021-10-31T11:41:54.368Z"
   },
   {
    "duration": 4,
    "start_time": "2021-10-31T11:41:54.380Z"
   },
   {
    "duration": 104,
    "start_time": "2021-10-31T11:41:54.387Z"
   },
   {
    "duration": 5094,
    "start_time": "2021-10-31T11:41:54.493Z"
   },
   {
    "duration": 2793,
    "start_time": "2021-10-31T11:41:59.589Z"
   },
   {
    "duration": 1702,
    "start_time": "2021-10-31T11:42:02.384Z"
   },
   {
    "duration": 18,
    "start_time": "2021-10-31T11:42:04.088Z"
   },
   {
    "duration": 57,
    "start_time": "2021-10-31T11:42:04.107Z"
   },
   {
    "duration": 8,
    "start_time": "2021-10-31T11:42:04.166Z"
   },
   {
    "duration": 6,
    "start_time": "2021-10-31T11:42:04.176Z"
   },
   {
    "duration": 89,
    "start_time": "2021-10-31T11:42:04.184Z"
   },
   {
    "duration": 11,
    "start_time": "2021-10-31T11:42:04.275Z"
   },
   {
    "duration": 7,
    "start_time": "2021-10-31T11:42:04.288Z"
   },
   {
    "duration": 100,
    "start_time": "2021-10-31T11:42:04.297Z"
   },
   {
    "duration": 372,
    "start_time": "2021-10-31T11:42:04.399Z"
   },
   {
    "duration": 2100,
    "start_time": "2021-10-31T11:42:04.773Z"
   },
   {
    "duration": 4,
    "start_time": "2021-10-31T11:42:06.878Z"
   },
   {
    "duration": 67611,
    "start_time": "2021-10-31T11:42:06.965Z"
   },
   {
    "duration": 1690,
    "start_time": "2021-10-31T11:43:14.578Z"
   },
   {
    "duration": 6695,
    "start_time": "2021-10-31T11:43:16.270Z"
   },
   {
    "duration": 4,
    "start_time": "2021-10-31T11:43:22.967Z"
   },
   {
    "duration": 2035,
    "start_time": "2021-10-31T12:14:48.939Z"
   },
   {
    "duration": 2033,
    "start_time": "2021-10-31T12:14:50.976Z"
   },
   {
    "duration": 127,
    "start_time": "2021-10-31T12:14:53.065Z"
   },
   {
    "duration": 180,
    "start_time": "2021-10-31T12:14:53.194Z"
   },
   {
    "duration": 697,
    "start_time": "2021-10-31T12:14:53.376Z"
   },
   {
    "duration": 3,
    "start_time": "2021-10-31T12:14:54.075Z"
   },
   {
    "duration": 10,
    "start_time": "2021-10-31T12:14:54.080Z"
   },
   {
    "duration": 4,
    "start_time": "2021-10-31T12:14:54.093Z"
   },
   {
    "duration": 100,
    "start_time": "2021-10-31T12:14:54.099Z"
   },
   {
    "duration": 4995,
    "start_time": "2021-10-31T12:14:54.201Z"
   },
   {
    "duration": 2703,
    "start_time": "2021-10-31T12:14:59.198Z"
   },
   {
    "duration": 1689,
    "start_time": "2021-10-31T12:15:01.903Z"
   },
   {
    "duration": 70,
    "start_time": "2021-10-31T12:15:03.595Z"
   },
   {
    "duration": 11,
    "start_time": "2021-10-31T12:15:03.667Z"
   },
   {
    "duration": 15,
    "start_time": "2021-10-31T12:15:03.680Z"
   },
   {
    "duration": 9,
    "start_time": "2021-10-31T12:15:03.697Z"
   },
   {
    "duration": 77,
    "start_time": "2021-10-31T12:15:03.707Z"
   },
   {
    "duration": 9,
    "start_time": "2021-10-31T12:15:03.786Z"
   },
   {
    "duration": 69,
    "start_time": "2021-10-31T12:15:03.797Z"
   },
   {
    "duration": 100,
    "start_time": "2021-10-31T12:15:03.867Z"
   },
   {
    "duration": 197,
    "start_time": "2021-10-31T12:15:03.969Z"
   },
   {
    "duration": 1595,
    "start_time": "2021-10-31T12:15:04.168Z"
   },
   {
    "duration": 3,
    "start_time": "2021-10-31T12:15:05.767Z"
   },
   {
    "duration": 69494,
    "start_time": "2021-10-31T12:15:05.772Z"
   },
   {
    "duration": 1626,
    "start_time": "2021-10-31T12:16:15.268Z"
   },
   {
    "duration": 8975,
    "start_time": "2021-10-31T12:16:16.896Z"
   },
   {
    "duration": 4,
    "start_time": "2021-10-31T12:16:25.873Z"
   },
   {
    "duration": 36013,
    "start_time": "2021-10-31T12:16:25.878Z"
   },
   {
    "duration": 6509,
    "start_time": "2021-10-31T12:17:01.893Z"
   },
   {
    "duration": 26900,
    "start_time": "2021-10-31T12:17:08.404Z"
   },
   {
    "duration": 4,
    "start_time": "2021-10-31T12:18:07.638Z"
   },
   {
    "duration": 2174,
    "start_time": "2021-10-31T12:39:22.119Z"
   },
   {
    "duration": 1871,
    "start_time": "2021-10-31T12:39:24.295Z"
   },
   {
    "duration": 115,
    "start_time": "2021-10-31T12:39:26.169Z"
   },
   {
    "duration": 192,
    "start_time": "2021-10-31T12:39:26.286Z"
   },
   {
    "duration": 529,
    "start_time": "2021-10-31T12:39:26.479Z"
   },
   {
    "duration": 65,
    "start_time": "2021-10-31T12:39:27.010Z"
   },
   {
    "duration": 8,
    "start_time": "2021-10-31T12:39:27.080Z"
   },
   {
    "duration": 5,
    "start_time": "2021-10-31T12:39:27.092Z"
   },
   {
    "duration": 109,
    "start_time": "2021-10-31T12:39:27.099Z"
   },
   {
    "duration": 6182,
    "start_time": "2021-10-31T12:39:27.210Z"
   },
   {
    "duration": 3198,
    "start_time": "2021-10-31T12:39:33.394Z"
   },
   {
    "duration": 2384,
    "start_time": "2021-10-31T12:39:36.594Z"
   },
   {
    "duration": 18,
    "start_time": "2021-10-31T12:39:38.981Z"
   },
   {
    "duration": 5,
    "start_time": "2021-10-31T12:39:39.001Z"
   },
   {
    "duration": 9,
    "start_time": "2021-10-31T12:39:39.068Z"
   },
   {
    "duration": 11,
    "start_time": "2021-10-31T12:39:39.080Z"
   },
   {
    "duration": 99,
    "start_time": "2021-10-31T12:39:39.093Z"
   },
   {
    "duration": 13,
    "start_time": "2021-10-31T12:39:39.194Z"
   },
   {
    "duration": 61,
    "start_time": "2021-10-31T12:39:39.209Z"
   },
   {
    "duration": 120,
    "start_time": "2021-10-31T12:39:39.273Z"
   },
   {
    "duration": 685,
    "start_time": "2021-10-31T12:39:39.395Z"
   },
   {
    "duration": 2588,
    "start_time": "2021-10-31T12:39:40.083Z"
   },
   {
    "duration": 87,
    "start_time": "2021-10-31T12:39:42.680Z"
   },
   {
    "duration": 75928,
    "start_time": "2021-10-31T12:39:42.771Z"
   },
   {
    "duration": 1798,
    "start_time": "2021-10-31T12:40:58.700Z"
   },
   {
    "duration": 7779,
    "start_time": "2021-10-31T12:41:00.500Z"
   },
   {
    "duration": 3,
    "start_time": "2021-10-31T12:41:08.281Z"
   },
   {
    "duration": 1231,
    "start_time": "2021-10-31T14:01:40.017Z"
   },
   {
    "duration": 814,
    "start_time": "2021-10-31T14:01:41.250Z"
   },
   {
    "duration": 50,
    "start_time": "2021-10-31T14:01:42.066Z"
   },
   {
    "duration": 77,
    "start_time": "2021-10-31T14:01:42.118Z"
   },
   {
    "duration": 257,
    "start_time": "2021-10-31T14:01:42.196Z"
   },
   {
    "duration": 8,
    "start_time": "2021-10-31T14:01:42.455Z"
   },
   {
    "duration": 7,
    "start_time": "2021-10-31T14:01:42.465Z"
   },
   {
    "duration": 9,
    "start_time": "2021-10-31T14:01:42.475Z"
   },
   {
    "duration": 38,
    "start_time": "2021-10-31T14:01:42.487Z"
   },
   {
    "duration": 2418,
    "start_time": "2021-10-31T14:01:42.528Z"
   },
   {
    "duration": 1261,
    "start_time": "2021-10-31T14:01:44.947Z"
   },
   {
    "duration": 792,
    "start_time": "2021-10-31T14:01:46.210Z"
   },
   {
    "duration": 17,
    "start_time": "2021-10-31T14:01:47.004Z"
   },
   {
    "duration": 4,
    "start_time": "2021-10-31T14:01:47.023Z"
   },
   {
    "duration": 11,
    "start_time": "2021-10-31T14:01:47.029Z"
   },
   {
    "duration": 22,
    "start_time": "2021-10-31T14:01:47.042Z"
   },
   {
    "duration": 27,
    "start_time": "2021-10-31T14:01:47.066Z"
   },
   {
    "duration": 12,
    "start_time": "2021-10-31T14:01:47.095Z"
   },
   {
    "duration": 7,
    "start_time": "2021-10-31T14:01:47.109Z"
   },
   {
    "duration": 58,
    "start_time": "2021-10-31T14:01:47.118Z"
   },
   {
    "duration": 287,
    "start_time": "2021-10-31T14:01:47.178Z"
   },
   {
    "duration": 1498,
    "start_time": "2021-10-31T14:01:47.468Z"
   },
   {
    "duration": 4,
    "start_time": "2021-10-31T14:01:48.971Z"
   },
   {
    "duration": 33055,
    "start_time": "2021-10-31T14:01:48.979Z"
   },
   {
    "duration": 827,
    "start_time": "2021-10-31T14:02:22.036Z"
   },
   {
    "duration": 3309,
    "start_time": "2021-10-31T14:02:22.865Z"
   },
   {
    "duration": 3,
    "start_time": "2021-10-31T14:02:26.176Z"
   },
   {
    "duration": 3624957,
    "start_time": "2021-10-31T14:02:26.180Z"
   },
   {
    "duration": 3481,
    "start_time": "2021-10-31T15:02:51.139Z"
   },
   {
    "duration": 13973,
    "start_time": "2021-10-31T15:02:54.622Z"
   },
   {
    "duration": 1481,
    "start_time": "2021-11-01T20:29:15.143Z"
   },
   {
    "duration": 995,
    "start_time": "2021-11-01T20:29:16.626Z"
   },
   {
    "duration": 105,
    "start_time": "2021-11-01T20:29:17.624Z"
   },
   {
    "duration": 93,
    "start_time": "2021-11-01T20:29:17.732Z"
   },
   {
    "duration": 410,
    "start_time": "2021-11-01T20:29:17.827Z"
   },
   {
    "duration": 4,
    "start_time": "2021-11-01T20:29:18.239Z"
   },
   {
    "duration": 17,
    "start_time": "2021-11-01T20:29:18.245Z"
   },
   {
    "duration": 21,
    "start_time": "2021-11-01T20:29:18.265Z"
   },
   {
    "duration": 45,
    "start_time": "2021-11-01T20:29:18.289Z"
   },
   {
    "duration": 4771,
    "start_time": "2021-11-01T20:29:18.336Z"
   },
   {
    "duration": 2195,
    "start_time": "2021-11-01T20:29:23.109Z"
   },
   {
    "duration": 1599,
    "start_time": "2021-11-01T20:29:25.307Z"
   },
   {
    "duration": 26,
    "start_time": "2021-11-01T20:29:26.908Z"
   },
   {
    "duration": 5,
    "start_time": "2021-11-01T20:29:26.937Z"
   },
   {
    "duration": 11,
    "start_time": "2021-11-01T20:29:26.945Z"
   },
   {
    "duration": 27,
    "start_time": "2021-11-01T20:29:26.959Z"
   },
   {
    "duration": 38,
    "start_time": "2021-11-01T20:29:26.988Z"
   },
   {
    "duration": 14,
    "start_time": "2021-11-01T20:29:27.029Z"
   },
   {
    "duration": 40,
    "start_time": "2021-11-01T20:29:27.045Z"
   },
   {
    "duration": 58,
    "start_time": "2021-11-01T20:29:27.088Z"
   },
   {
    "duration": 424,
    "start_time": "2021-11-01T20:29:45.176Z"
   },
   {
    "duration": 1977,
    "start_time": "2021-11-01T20:29:43.626Z"
   },
   {
    "duration": 9,
    "start_time": "2021-11-01T20:30:10.480Z"
   },
   {
    "duration": 39,
    "start_time": "2021-11-01T20:30:10.551Z"
   },
   {
    "duration": 8,
    "start_time": "2021-11-01T20:30:39.366Z"
   },
   {
    "duration": 34,
    "start_time": "2021-11-01T20:30:39.439Z"
   },
   {
    "duration": 9,
    "start_time": "2021-11-01T20:34:53.007Z"
   },
   {
    "duration": 17,
    "start_time": "2021-11-01T20:36:19.221Z"
   },
   {
    "duration": 18,
    "start_time": "2021-11-01T20:36:36.233Z"
   },
   {
    "duration": 21,
    "start_time": "2021-11-01T20:36:49.400Z"
   },
   {
    "duration": 2132,
    "start_time": "2021-11-01T20:45:57.031Z"
   },
   {
    "duration": 2170,
    "start_time": "2021-11-01T20:46:36.742Z"
   },
   {
    "duration": 2096,
    "start_time": "2021-11-01T20:47:01.509Z"
   },
   {
    "duration": 2159,
    "start_time": "2021-11-01T20:50:36.116Z"
   },
   {
    "duration": 29,
    "start_time": "2021-11-01T21:01:13.427Z"
   },
   {
    "duration": 116,
    "start_time": "2021-11-01T21:02:00.195Z"
   },
   {
    "duration": 6,
    "start_time": "2021-11-01T21:02:37.670Z"
   },
   {
    "duration": 1010,
    "start_time": "2021-11-01T21:02:37.679Z"
   },
   {
    "duration": 103,
    "start_time": "2021-11-01T21:02:38.692Z"
   },
   {
    "duration": 100,
    "start_time": "2021-11-01T21:02:38.798Z"
   },
   {
    "duration": 384,
    "start_time": "2021-11-01T21:02:38.900Z"
   },
   {
    "duration": 4,
    "start_time": "2021-11-01T21:02:39.286Z"
   },
   {
    "duration": 13,
    "start_time": "2021-11-01T21:02:39.292Z"
   },
   {
    "duration": 6,
    "start_time": "2021-11-01T21:02:39.308Z"
   },
   {
    "duration": 7210,
    "start_time": "2021-11-01T21:02:39.317Z"
   },
   {
    "duration": 1969,
    "start_time": "2021-11-01T21:02:44.561Z"
   },
   {
    "duration": 1956,
    "start_time": "2021-11-01T21:02:44.575Z"
   },
   {
    "duration": 1945,
    "start_time": "2021-11-01T21:02:44.587Z"
   },
   {
    "duration": 1940,
    "start_time": "2021-11-01T21:02:44.594Z"
   },
   {
    "duration": 1925,
    "start_time": "2021-11-01T21:02:44.610Z"
   },
   {
    "duration": 1914,
    "start_time": "2021-11-01T21:02:44.623Z"
   },
   {
    "duration": 1901,
    "start_time": "2021-11-01T21:02:44.637Z"
   },
   {
    "duration": 1896,
    "start_time": "2021-11-01T21:02:44.644Z"
   },
   {
    "duration": 1884,
    "start_time": "2021-11-01T21:02:44.657Z"
   },
   {
    "duration": 1870,
    "start_time": "2021-11-01T21:02:44.672Z"
   },
   {
    "duration": 1864,
    "start_time": "2021-11-01T21:02:44.679Z"
   },
   {
    "duration": 25,
    "start_time": "2021-11-01T21:02:53.211Z"
   },
   {
    "duration": 119,
    "start_time": "2021-11-01T21:02:53.281Z"
   },
   {
    "duration": 1544,
    "start_time": "2021-11-02T14:02:29.545Z"
   },
   {
    "duration": 994,
    "start_time": "2021-11-02T14:02:31.092Z"
   },
   {
    "duration": 100,
    "start_time": "2021-11-02T14:02:32.089Z"
   },
   {
    "duration": 129,
    "start_time": "2021-11-02T14:02:32.192Z"
   },
   {
    "duration": 405,
    "start_time": "2021-11-02T14:02:32.324Z"
   },
   {
    "duration": 5,
    "start_time": "2021-11-02T14:02:32.732Z"
   },
   {
    "duration": 26,
    "start_time": "2021-11-02T14:02:32.739Z"
   },
   {
    "duration": 9,
    "start_time": "2021-11-02T14:02:32.768Z"
   },
   {
    "duration": 8695,
    "start_time": "2021-11-02T14:02:32.782Z"
   },
   {
    "duration": -191,
    "start_time": "2021-11-02T14:02:41.673Z"
   },
   {
    "duration": -196,
    "start_time": "2021-11-02T14:02:41.680Z"
   },
   {
    "duration": -208,
    "start_time": "2021-11-02T14:02:41.694Z"
   },
   {
    "duration": -220,
    "start_time": "2021-11-02T14:02:41.708Z"
   },
   {
    "duration": -225,
    "start_time": "2021-11-02T14:02:41.715Z"
   },
   {
    "duration": -232,
    "start_time": "2021-11-02T14:02:41.723Z"
   },
   {
    "duration": -241,
    "start_time": "2021-11-02T14:02:41.733Z"
   },
   {
    "duration": -249,
    "start_time": "2021-11-02T14:02:41.744Z"
   },
   {
    "duration": -256,
    "start_time": "2021-11-02T14:02:41.752Z"
   },
   {
    "duration": -260,
    "start_time": "2021-11-02T14:02:41.758Z"
   },
   {
    "duration": -269,
    "start_time": "2021-11-02T14:02:41.768Z"
   },
   {
    "duration": -274,
    "start_time": "2021-11-02T14:02:41.775Z"
   },
   {
    "duration": -280,
    "start_time": "2021-11-02T14:02:41.782Z"
   },
   {
    "duration": -288,
    "start_time": "2021-11-02T14:02:41.791Z"
   },
   {
    "duration": -290,
    "start_time": "2021-11-02T14:02:41.795Z"
   },
   {
    "duration": -297,
    "start_time": "2021-11-02T14:02:41.804Z"
   },
   {
    "duration": -317,
    "start_time": "2021-11-02T14:02:41.825Z"
   },
   {
    "duration": -322,
    "start_time": "2021-11-02T14:02:41.831Z"
   },
   {
    "duration": -329,
    "start_time": "2021-11-02T14:02:41.840Z"
   },
   {
    "duration": -334,
    "start_time": "2021-11-02T14:02:41.846Z"
   },
   {
    "duration": -343,
    "start_time": "2021-11-02T14:02:41.856Z"
   },
   {
    "duration": -347,
    "start_time": "2021-11-02T14:02:41.862Z"
   },
   {
    "duration": -355,
    "start_time": "2021-11-02T14:02:41.871Z"
   },
   {
    "duration": -359,
    "start_time": "2021-11-02T14:02:41.876Z"
   },
   {
    "duration": -359,
    "start_time": "2021-11-02T14:02:41.881Z"
   },
   {
    "duration": -368,
    "start_time": "2021-11-02T14:02:41.891Z"
   },
   {
    "duration": 6,
    "start_time": "2021-11-02T14:04:09.181Z"
   },
   {
    "duration": 994,
    "start_time": "2021-11-02T14:04:09.191Z"
   },
   {
    "duration": 97,
    "start_time": "2021-11-02T14:04:10.188Z"
   },
   {
    "duration": 100,
    "start_time": "2021-11-02T14:04:10.288Z"
   },
   {
    "duration": 410,
    "start_time": "2021-11-02T14:04:10.391Z"
   },
   {
    "duration": 4,
    "start_time": "2021-11-02T14:04:10.804Z"
   },
   {
    "duration": 10,
    "start_time": "2021-11-02T14:04:10.823Z"
   },
   {
    "duration": 9,
    "start_time": "2021-11-02T14:04:10.835Z"
   },
   {
    "duration": 12,
    "start_time": "2021-11-02T14:04:10.848Z"
   },
   {
    "duration": 80,
    "start_time": "2021-11-02T14:04:10.863Z"
   },
   {
    "duration": 7257,
    "start_time": "2021-11-02T14:04:10.946Z"
   },
   {
    "duration": 2116,
    "start_time": "2021-11-02T14:04:18.206Z"
   },
   {
    "duration": 1439,
    "start_time": "2021-11-02T14:04:20.324Z"
   },
   {
    "duration": 26,
    "start_time": "2021-11-02T14:04:21.766Z"
   },
   {
    "duration": 6,
    "start_time": "2021-11-02T14:04:21.794Z"
   },
   {
    "duration": 7,
    "start_time": "2021-11-02T14:04:21.822Z"
   },
   {
    "duration": 10,
    "start_time": "2021-11-02T14:04:21.832Z"
   },
   {
    "duration": 39,
    "start_time": "2021-11-02T14:04:21.844Z"
   },
   {
    "duration": 38,
    "start_time": "2021-11-02T14:04:21.885Z"
   },
   {
    "duration": 12,
    "start_time": "2021-11-02T14:04:21.925Z"
   },
   {
    "duration": 56,
    "start_time": "2021-11-02T14:04:21.940Z"
   },
   {
    "duration": 324,
    "start_time": "2021-11-02T14:04:21.999Z"
   },
   {
    "duration": 2306,
    "start_time": "2021-11-02T14:04:22.326Z"
   },
   {
    "duration": 5,
    "start_time": "2021-11-02T14:04:24.635Z"
   },
   {
    "duration": 47624,
    "start_time": "2021-11-02T14:04:24.643Z"
   },
   {
    "duration": 1043,
    "start_time": "2021-11-02T14:05:12.270Z"
   },
   {
    "duration": 4423,
    "start_time": "2021-11-02T14:05:13.325Z"
   },
   {
    "duration": 4,
    "start_time": "2021-11-02T14:05:17.751Z"
   },
   {
    "duration": 192938,
    "start_time": "2021-11-02T14:05:17.758Z"
   },
   {
    "duration": -237,
    "start_time": "2021-11-02T14:08:30.936Z"
   },
   {
    "duration": -241,
    "start_time": "2021-11-02T14:08:30.942Z"
   },
   {
    "duration": -252,
    "start_time": "2021-11-02T14:08:30.955Z"
   },
   {
    "duration": -258,
    "start_time": "2021-11-02T14:08:30.962Z"
   },
   {
    "duration": -266,
    "start_time": "2021-11-02T14:08:30.972Z"
   },
   {
    "duration": -269,
    "start_time": "2021-11-02T14:08:30.977Z"
   },
   {
    "duration": -282,
    "start_time": "2021-11-02T14:08:30.991Z"
   },
   {
    "duration": 302,
    "start_time": "2021-11-02T14:08:41.157Z"
   },
   {
    "duration": 7,
    "start_time": "2021-11-02T14:09:51.214Z"
   },
   {
    "duration": 982,
    "start_time": "2021-11-02T14:09:51.224Z"
   },
   {
    "duration": 86,
    "start_time": "2021-11-02T14:09:52.209Z"
   },
   {
    "duration": 91,
    "start_time": "2021-11-02T14:09:52.298Z"
   },
   {
    "duration": 394,
    "start_time": "2021-11-02T14:09:52.423Z"
   },
   {
    "duration": 5,
    "start_time": "2021-11-02T14:09:52.823Z"
   },
   {
    "duration": 24,
    "start_time": "2021-11-02T14:09:52.831Z"
   },
   {
    "duration": 10,
    "start_time": "2021-11-02T14:09:52.859Z"
   },
   {
    "duration": 21,
    "start_time": "2021-11-02T14:09:52.872Z"
   },
   {
    "duration": 54,
    "start_time": "2021-11-02T14:09:52.896Z"
   },
   {
    "duration": 4691,
    "start_time": "2021-11-02T14:09:52.952Z"
   },
   {
    "duration": 2265,
    "start_time": "2021-11-02T14:09:57.646Z"
   },
   {
    "duration": 1497,
    "start_time": "2021-11-02T14:09:59.913Z"
   },
   {
    "duration": 31,
    "start_time": "2021-11-02T14:10:01.413Z"
   },
   {
    "duration": 6,
    "start_time": "2021-11-02T14:10:01.446Z"
   },
   {
    "duration": 27,
    "start_time": "2021-11-02T14:10:01.454Z"
   },
   {
    "duration": 18,
    "start_time": "2021-11-02T14:10:01.483Z"
   },
   {
    "duration": 42,
    "start_time": "2021-11-02T14:10:01.522Z"
   },
   {
    "duration": 19,
    "start_time": "2021-11-02T14:10:01.566Z"
   },
   {
    "duration": 15,
    "start_time": "2021-11-02T14:10:01.587Z"
   },
   {
    "duration": 28,
    "start_time": "2021-11-02T14:10:09.139Z"
   },
   {
    "duration": 154,
    "start_time": "2021-11-02T14:10:09.171Z"
   },
   {
    "duration": 295,
    "start_time": "2021-11-02T14:13:42.932Z"
   },
   {
    "duration": 51,
    "start_time": "2021-11-02T14:14:49.653Z"
   },
   {
    "duration": 128,
    "start_time": "2021-11-02T14:14:55.796Z"
   },
   {
    "duration": 1624,
    "start_time": "2021-11-02T14:14:59.202Z"
   },
   {
    "duration": 8,
    "start_time": "2021-11-02T14:15:59.887Z"
   },
   {
    "duration": 41,
    "start_time": "2021-11-02T14:16:00.622Z"
   },
   {
    "duration": 27,
    "start_time": "2021-11-02T14:16:17.919Z"
   },
   {
    "duration": 109,
    "start_time": "2021-11-02T14:16:18.938Z"
   },
   {
    "duration": 113,
    "start_time": "2021-11-02T14:17:20.355Z"
   },
   {
    "duration": 268,
    "start_time": "2021-11-02T14:17:54.256Z"
   },
   {
    "duration": 1817,
    "start_time": "2021-11-02T14:17:56.008Z"
   },
   {
    "duration": 284,
    "start_time": "2021-11-02T20:45:03.179Z"
   },
   {
    "duration": 1384,
    "start_time": "2021-11-02T20:45:10.681Z"
   },
   {
    "duration": 1004,
    "start_time": "2021-11-02T20:45:12.068Z"
   },
   {
    "duration": 100,
    "start_time": "2021-11-02T20:45:13.075Z"
   },
   {
    "duration": 100,
    "start_time": "2021-11-02T20:45:13.178Z"
   },
   {
    "duration": 429,
    "start_time": "2021-11-02T20:45:13.280Z"
   },
   {
    "duration": 4,
    "start_time": "2021-11-02T20:45:13.712Z"
   },
   {
    "duration": 13,
    "start_time": "2021-11-02T20:45:13.728Z"
   },
   {
    "duration": 6,
    "start_time": "2021-11-02T20:45:13.744Z"
   },
   {
    "duration": 18,
    "start_time": "2021-11-02T20:45:13.752Z"
   },
   {
    "duration": 10510,
    "start_time": "2021-11-02T20:46:37.448Z"
   },
   {
    "duration": 11,
    "start_time": "2021-11-02T20:46:54.423Z"
   },
   {
    "duration": 87,
    "start_time": "2021-11-02T20:47:38.524Z"
   },
   {
    "duration": 84,
    "start_time": "2021-11-02T20:50:07.774Z"
   },
   {
    "duration": 72,
    "start_time": "2021-11-02T20:51:14.748Z"
   },
   {
    "duration": 3147,
    "start_time": "2021-11-02T20:51:20.961Z"
   },
   {
    "duration": 6,
    "start_time": "2021-11-02T20:51:24.111Z"
   },
   {
    "duration": 1047,
    "start_time": "2021-11-02T20:51:24.120Z"
   },
   {
    "duration": 124,
    "start_time": "2021-11-02T20:51:25.170Z"
   },
   {
    "duration": 104,
    "start_time": "2021-11-02T20:51:25.297Z"
   },
   {
    "duration": 439,
    "start_time": "2021-11-02T20:51:25.403Z"
   },
   {
    "duration": 3,
    "start_time": "2021-11-02T20:51:25.845Z"
   },
   {
    "duration": 13,
    "start_time": "2021-11-02T20:51:25.851Z"
   },
   {
    "duration": 8,
    "start_time": "2021-11-02T20:51:25.866Z"
   },
   {
    "duration": 84,
    "start_time": "2021-11-02T20:51:27.045Z"
   },
   {
    "duration": 69,
    "start_time": "2021-11-02T20:54:07.919Z"
   },
   {
    "duration": 60,
    "start_time": "2021-11-02T20:54:50.990Z"
   },
   {
    "duration": 63,
    "start_time": "2021-11-02T20:55:29.814Z"
   },
   {
    "duration": 60,
    "start_time": "2021-11-02T20:56:13.224Z"
   }
  ],
  "kernelspec": {
   "display_name": "Python 3",
   "language": "python",
   "name": "python3"
  },
  "language_info": {
   "codemirror_mode": {
    "name": "ipython",
    "version": 3
   },
   "file_extension": ".py",
   "mimetype": "text/x-python",
   "name": "python",
   "nbconvert_exporter": "python",
   "pygments_lexer": "ipython3",
   "version": "3.7.8"
  },
  "toc": {
   "base_numbering": 1,
   "nav_menu": {},
   "number_sections": true,
   "sideBar": true,
   "skip_h1_title": true,
   "title_cell": "Table of Contents",
   "title_sidebar": "Contents",
   "toc_cell": false,
   "toc_position": {
    "height": "calc(100% - 180px)",
    "left": "10px",
    "top": "150px",
    "width": "240px"
   },
   "toc_section_display": true,
   "toc_window_display": true
  }
 },
 "nbformat": 4,
 "nbformat_minor": 2
}
