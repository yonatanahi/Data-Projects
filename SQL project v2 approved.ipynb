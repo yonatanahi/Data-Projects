{
 "cells": [
  {
   "cell_type": "markdown",
   "metadata": {},
   "source": [
    "<hr style=\"border: 2px solid green;\" />\n",
    "\n",
    "Hello, Yonatan !🤚 \n",
    "\n",
    "My name is Kseniya Vishnevskaya. I'm going to review your project 😊 \n",
    "\n",
    "✏️You can find my comments in <font color='green'>green</font>, <font color='orange'>yellow</font> or <font color='red'>red</font> boxes like this:\n",
    "\n",
    "<div style=\"border:solid green 2px; padding: 20px\"> <b>Success:</b><br>\n",
    "    I'm using green color if everything is done perfectly.</div>       \n",
    "<br>\n",
    "<div style=\"border:solid orange 2px; padding: 20px\"> <b>Remarks:</b><br>\n",
    "    if I can give some recommendations</div>   \n",
    "<br>\n",
    "<div style=\"border:solid red 2px; padding: 20px\"> <b>Needs fixing:</b><br>\n",
    "    if the block requires some corrections. Work can't be accepted with the red comments</div>\n",
    " \n",
    "Further in the file you can see my comments, try to take them into account when performing the next tasks. **Please, don't delete them.** :)\n",
    "\n",
    "Let's work on the project in dialogue: if you change something in the project or respond to my comments, write about it. It will be easier for me to track the changes if you highlight your comments:\n",
    "\n",
    "<div class=\"alert alert-info\" style=\"border:solid blue 2px; padding: 20px\"> <b>Student comment:</b> In the blue boxes you can leave comments and ask questions.</div>\n",
    "\n",
    "\n",
    "<hr style=\"border: 2px solid green;\" />"
   ]
  },
  {
   "cell_type": "markdown",
   "metadata": {},
   "source": [
    "<s><div style=\"border:solid red 2px; padding: 20px\"> <b>Needs fixing:</b><br>\n",
    "  Thank you for sending your project🙂. You've done a really good job on it! \n",
    "    I especially  liked the style, code formatting, and the structure of your project. \n",
    "However, you have some things to correct. But don't worry, you've got this :)</div>"
   ]
  },
  {
   "cell_type": "markdown",
   "metadata": {},
   "source": [
    "<div style=\"border:solid orange 2px; padding: 20px\"> <b>Remarks :</b><br>\n",
    "    There are some comments for further improvement. They don't mean that you did anything wrong, but they're things we wanted to point out that can help you further develop your skills. \n",
    "\n",
    "And also I leave several links that can help you to make your further projects even better:\n",
    "\n",
    "* Bar charts  in plotly library:\n",
    "\n",
    "    https://plotly.com/python/bar-charts/\n",
    "\n",
    "*  Some information about T-test:\n",
    "\n",
    "  https://machinelearningmastery.com/how-to-code-the-students-t-test-from-scratch-in-python/\n",
    "          \n",
    "\n",
    "* SQL guide:\n",
    "     \n",
    "   https://www.datacamp.com/community/tutorials/beginners-introduction-postgresql\n",
    "   \n",
    "</div>"
   ]
  },
  {
   "cell_type": "markdown",
   "metadata": {},
   "source": [
    "<div style=\"border:solid green 2px; padding: 20px\"> <b>Success v2:</b><br>\n",
    "Thank you for the update! Great job, your project has been accepted. Congratulations! 🎊 🎉</div>"
   ]
  },
  {
   "cell_type": "markdown",
   "metadata": {},
   "source": [
    "-----------------"
   ]
  },
  {
   "cell_type": "markdown",
   "metadata": {},
   "source": [
    "# Step 4. Exploratory data analysis (Python)"
   ]
  },
  {
   "cell_type": "markdown",
   "metadata": {},
   "source": [
    "<s><div style=\"border:solid red 2px; padding: 20px\"> <b>Needs fixing:</b><br>\n",
    "     Thank you for writing the title of your project 👍 But it's also important having  a description of the project and a description of the data, like this:\n",
    "\n",
    " We now have these two CSVs:\n",
    "\n",
    "   `/datasets/project_sql_result_01.csv.` It contains the following data:\n",
    "\n",
    "  `company_name:` taxi company name\n",
    "\n",
    "  `trips_amount:` the number of rides for each taxi company on November 15-16, 2017.\n",
    "\n",
    "  `/datasets/project_sql_result_04.csv.` It contains the following data:\n",
    "\n",
    "  `dropoff_location_name:` Chicago neighborhoods where rides ended\n",
    "\n",
    "   `average_trips:` the average number of rides that ended in each neighborhood in November 2017. \n",
    "    \n",
    " etc.\n",
    "</div>"
   ]
  },
  {
   "cell_type": "markdown",
   "metadata": {},
   "source": [
    "In addition to the data you retrieved in the previous tasks, you've been given a second file. \n",
    "\n",
    "You now have these two CSVs:\n",
    "\n",
    "* `/datasets/project_sql_result_01.csv.` \n",
    "\n",
    "It contains the following data:\n",
    "\n",
    "*company_name:* taxi company name\n",
    "\n",
    "*trips_amount:* the number of rides for each taxi company on November 15-16, 2017.\n",
    "\n",
    "* `/datasets/project_sql_result_04.csv.` \n",
    "\n",
    "It contains the following data:\n",
    "\n",
    "*dropoff_location_name:* Chicago neighborhoods where rides ended\n",
    "\n",
    "*average_trips:* the average number of rides that ended in each neighborhood in November 2017. "
   ]
  },
  {
   "cell_type": "markdown",
   "metadata": {},
   "source": [
    "## Import the libraries"
   ]
  },
  {
   "cell_type": "code",
   "execution_count": 101,
   "metadata": {},
   "outputs": [],
   "source": [
    "import pandas as pd\n",
    "import matplotlib.pyplot as plt\n",
    "from scipy import stats as st\n",
    "import numpy as np"
   ]
  },
  {
   "cell_type": "markdown",
   "metadata": {},
   "source": [
    "<div style=\"border:solid green 2px; padding: 20px\"> <b>Success:</b><br>\n",
    "    Very well that you keep all libraries in a separate cell. </div> "
   ]
  },
  {
   "cell_type": "markdown",
   "metadata": {},
   "source": [
    "## import the files    "
   ]
  },
  {
   "cell_type": "code",
   "execution_count": 102,
   "metadata": {},
   "outputs": [],
   "source": [
    "companies = pd.read_csv('/datasets/project_sql_result_01.csv')\n",
    "neighborhoods = pd.read_csv('/datasets/project_sql_result_04.csv')\n",
    "weather_conditions = pd.read_csv('/datasets/project_sql_result_07.csv')"
   ]
  },
  {
   "cell_type": "markdown",
   "metadata": {},
   "source": [
    "<s><div style=\"border:solid orange 2px; padding: 20px\"> <b>Remarks:</b><br>\n",
    "    \n",
    "   Please, add the third table with `weather_conditions` here.</div> "
   ]
  },
  {
   "cell_type": "markdown",
   "metadata": {},
   "source": [
    "<div style=\"border:solid green 2px; padding: 20px\"> <b>Success V2:</b><br>\n",
    "   👍 </div> "
   ]
  },
  {
   "cell_type": "markdown",
   "metadata": {},
   "source": [
    "## study the data they contain"
   ]
  },
  {
   "cell_type": "code",
   "execution_count": 103,
   "metadata": {
    "scrolled": true
   },
   "outputs": [
    {
     "data": {
      "text/html": [
       "<div>\n",
       "<style scoped>\n",
       "    .dataframe tbody tr th:only-of-type {\n",
       "        vertical-align: middle;\n",
       "    }\n",
       "\n",
       "    .dataframe tbody tr th {\n",
       "        vertical-align: top;\n",
       "    }\n",
       "\n",
       "    .dataframe thead th {\n",
       "        text-align: right;\n",
       "    }\n",
       "</style>\n",
       "<table border=\"1\" class=\"dataframe\">\n",
       "  <thead>\n",
       "    <tr style=\"text-align: right;\">\n",
       "      <th></th>\n",
       "      <th>company_name</th>\n",
       "      <th>trips_amount</th>\n",
       "    </tr>\n",
       "  </thead>\n",
       "  <tbody>\n",
       "    <tr>\n",
       "      <td>0</td>\n",
       "      <td>Flash Cab</td>\n",
       "      <td>19558</td>\n",
       "    </tr>\n",
       "    <tr>\n",
       "      <td>1</td>\n",
       "      <td>Taxi Affiliation Services</td>\n",
       "      <td>11422</td>\n",
       "    </tr>\n",
       "    <tr>\n",
       "      <td>2</td>\n",
       "      <td>Medallion Leasing</td>\n",
       "      <td>10367</td>\n",
       "    </tr>\n",
       "    <tr>\n",
       "      <td>3</td>\n",
       "      <td>Yellow Cab</td>\n",
       "      <td>9888</td>\n",
       "    </tr>\n",
       "    <tr>\n",
       "      <td>4</td>\n",
       "      <td>Taxi Affiliation Service Yellow</td>\n",
       "      <td>9299</td>\n",
       "    </tr>\n",
       "  </tbody>\n",
       "</table>\n",
       "</div>"
      ],
      "text/plain": [
       "                      company_name  trips_amount\n",
       "0                        Flash Cab         19558\n",
       "1        Taxi Affiliation Services         11422\n",
       "2                Medallion Leasing         10367\n",
       "3                       Yellow Cab          9888\n",
       "4  Taxi Affiliation Service Yellow          9299"
      ]
     },
     "metadata": {},
     "output_type": "display_data"
    },
    {
     "data": {
      "text/html": [
       "<div>\n",
       "<style scoped>\n",
       "    .dataframe tbody tr th:only-of-type {\n",
       "        vertical-align: middle;\n",
       "    }\n",
       "\n",
       "    .dataframe tbody tr th {\n",
       "        vertical-align: top;\n",
       "    }\n",
       "\n",
       "    .dataframe thead th {\n",
       "        text-align: right;\n",
       "    }\n",
       "</style>\n",
       "<table border=\"1\" class=\"dataframe\">\n",
       "  <thead>\n",
       "    <tr style=\"text-align: right;\">\n",
       "      <th></th>\n",
       "      <th>start_ts</th>\n",
       "      <th>weather_conditions</th>\n",
       "      <th>duration_seconds</th>\n",
       "    </tr>\n",
       "  </thead>\n",
       "  <tbody>\n",
       "    <tr>\n",
       "      <td>1063</td>\n",
       "      <td>2017-11-25 11:00:00</td>\n",
       "      <td>Good</td>\n",
       "      <td>0.0</td>\n",
       "    </tr>\n",
       "    <tr>\n",
       "      <td>1064</td>\n",
       "      <td>2017-11-11 10:00:00</td>\n",
       "      <td>Good</td>\n",
       "      <td>1318.0</td>\n",
       "    </tr>\n",
       "    <tr>\n",
       "      <td>1065</td>\n",
       "      <td>2017-11-11 13:00:00</td>\n",
       "      <td>Good</td>\n",
       "      <td>2100.0</td>\n",
       "    </tr>\n",
       "    <tr>\n",
       "      <td>1066</td>\n",
       "      <td>2017-11-11 08:00:00</td>\n",
       "      <td>Good</td>\n",
       "      <td>1380.0</td>\n",
       "    </tr>\n",
       "    <tr>\n",
       "      <td>1067</td>\n",
       "      <td>2017-11-04 16:00:00</td>\n",
       "      <td>Bad</td>\n",
       "      <td>2834.0</td>\n",
       "    </tr>\n",
       "  </tbody>\n",
       "</table>\n",
       "</div>"
      ],
      "text/plain": [
       "                 start_ts weather_conditions  duration_seconds\n",
       "1063  2017-11-25 11:00:00               Good               0.0\n",
       "1064  2017-11-11 10:00:00               Good            1318.0\n",
       "1065  2017-11-11 13:00:00               Good            2100.0\n",
       "1066  2017-11-11 08:00:00               Good            1380.0\n",
       "1067  2017-11-04 16:00:00                Bad            2834.0"
      ]
     },
     "metadata": {},
     "output_type": "display_data"
    },
    {
     "data": {
      "text/html": [
       "<div>\n",
       "<style scoped>\n",
       "    .dataframe tbody tr th:only-of-type {\n",
       "        vertical-align: middle;\n",
       "    }\n",
       "\n",
       "    .dataframe tbody tr th {\n",
       "        vertical-align: top;\n",
       "    }\n",
       "\n",
       "    .dataframe thead th {\n",
       "        text-align: right;\n",
       "    }\n",
       "</style>\n",
       "<table border=\"1\" class=\"dataframe\">\n",
       "  <thead>\n",
       "    <tr style=\"text-align: right;\">\n",
       "      <th></th>\n",
       "      <th>dropoff_location_name</th>\n",
       "      <th>average_trips</th>\n",
       "    </tr>\n",
       "  </thead>\n",
       "  <tbody>\n",
       "    <tr>\n",
       "      <td>0</td>\n",
       "      <td>Loop</td>\n",
       "      <td>10727.466667</td>\n",
       "    </tr>\n",
       "    <tr>\n",
       "      <td>1</td>\n",
       "      <td>River North</td>\n",
       "      <td>9523.666667</td>\n",
       "    </tr>\n",
       "    <tr>\n",
       "      <td>2</td>\n",
       "      <td>Streeterville</td>\n",
       "      <td>6664.666667</td>\n",
       "    </tr>\n",
       "    <tr>\n",
       "      <td>3</td>\n",
       "      <td>West Loop</td>\n",
       "      <td>5163.666667</td>\n",
       "    </tr>\n",
       "    <tr>\n",
       "      <td>4</td>\n",
       "      <td>O'Hare</td>\n",
       "      <td>2546.900000</td>\n",
       "    </tr>\n",
       "  </tbody>\n",
       "</table>\n",
       "</div>"
      ],
      "text/plain": [
       "  dropoff_location_name  average_trips\n",
       "0                  Loop   10727.466667\n",
       "1           River North    9523.666667\n",
       "2         Streeterville    6664.666667\n",
       "3             West Loop    5163.666667\n",
       "4                O'Hare    2546.900000"
      ]
     },
     "execution_count": 103,
     "metadata": {},
     "output_type": "execute_result"
    }
   ],
   "source": [
    "display(companies.head())\n",
    "display(weather_conditions.tail(5))\n",
    "neighborhoods.head()"
   ]
  },
  {
   "cell_type": "code",
   "execution_count": 104,
   "metadata": {},
   "outputs": [
    {
     "data": {
      "text/html": [
       "<div>\n",
       "<style scoped>\n",
       "    .dataframe tbody tr th:only-of-type {\n",
       "        vertical-align: middle;\n",
       "    }\n",
       "\n",
       "    .dataframe tbody tr th {\n",
       "        vertical-align: top;\n",
       "    }\n",
       "\n",
       "    .dataframe thead th {\n",
       "        text-align: right;\n",
       "    }\n",
       "</style>\n",
       "<table border=\"1\" class=\"dataframe\">\n",
       "  <thead>\n",
       "    <tr style=\"text-align: right;\">\n",
       "      <th></th>\n",
       "      <th>company_name</th>\n",
       "    </tr>\n",
       "  </thead>\n",
       "  <tbody>\n",
       "    <tr>\n",
       "      <td>count</td>\n",
       "      <td>64</td>\n",
       "    </tr>\n",
       "    <tr>\n",
       "      <td>unique</td>\n",
       "      <td>64</td>\n",
       "    </tr>\n",
       "    <tr>\n",
       "      <td>top</td>\n",
       "      <td>4053 - 40193 Adwar H. Nikola</td>\n",
       "    </tr>\n",
       "    <tr>\n",
       "      <td>freq</td>\n",
       "      <td>1</td>\n",
       "    </tr>\n",
       "  </tbody>\n",
       "</table>\n",
       "</div>"
      ],
      "text/plain": [
       "                        company_name\n",
       "count                             64\n",
       "unique                            64\n",
       "top     4053 - 40193 Adwar H. Nikola\n",
       "freq                               1"
      ]
     },
     "metadata": {},
     "output_type": "display_data"
    },
    {
     "data": {
      "text/html": [
       "<div>\n",
       "<style scoped>\n",
       "    .dataframe tbody tr th:only-of-type {\n",
       "        vertical-align: middle;\n",
       "    }\n",
       "\n",
       "    .dataframe tbody tr th {\n",
       "        vertical-align: top;\n",
       "    }\n",
       "\n",
       "    .dataframe thead th {\n",
       "        text-align: right;\n",
       "    }\n",
       "</style>\n",
       "<table border=\"1\" class=\"dataframe\">\n",
       "  <thead>\n",
       "    <tr style=\"text-align: right;\">\n",
       "      <th></th>\n",
       "      <th>start_ts</th>\n",
       "      <th>weather_conditions</th>\n",
       "    </tr>\n",
       "  </thead>\n",
       "  <tbody>\n",
       "    <tr>\n",
       "      <td>count</td>\n",
       "      <td>1068</td>\n",
       "      <td>1068</td>\n",
       "    </tr>\n",
       "    <tr>\n",
       "      <td>unique</td>\n",
       "      <td>81</td>\n",
       "      <td>2</td>\n",
       "    </tr>\n",
       "    <tr>\n",
       "      <td>top</td>\n",
       "      <td>2017-11-11 10:00:00</td>\n",
       "      <td>Good</td>\n",
       "    </tr>\n",
       "    <tr>\n",
       "      <td>freq</td>\n",
       "      <td>48</td>\n",
       "      <td>888</td>\n",
       "    </tr>\n",
       "  </tbody>\n",
       "</table>\n",
       "</div>"
      ],
      "text/plain": [
       "                   start_ts weather_conditions\n",
       "count                  1068               1068\n",
       "unique                   81                  2\n",
       "top     2017-11-11 10:00:00               Good\n",
       "freq                     48                888"
      ]
     },
     "metadata": {},
     "output_type": "display_data"
    },
    {
     "data": {
      "text/html": [
       "<div>\n",
       "<style scoped>\n",
       "    .dataframe tbody tr th:only-of-type {\n",
       "        vertical-align: middle;\n",
       "    }\n",
       "\n",
       "    .dataframe tbody tr th {\n",
       "        vertical-align: top;\n",
       "    }\n",
       "\n",
       "    .dataframe thead th {\n",
       "        text-align: right;\n",
       "    }\n",
       "</style>\n",
       "<table border=\"1\" class=\"dataframe\">\n",
       "  <thead>\n",
       "    <tr style=\"text-align: right;\">\n",
       "      <th></th>\n",
       "      <th>dropoff_location_name</th>\n",
       "    </tr>\n",
       "  </thead>\n",
       "  <tbody>\n",
       "    <tr>\n",
       "      <td>count</td>\n",
       "      <td>94</td>\n",
       "    </tr>\n",
       "    <tr>\n",
       "      <td>unique</td>\n",
       "      <td>94</td>\n",
       "    </tr>\n",
       "    <tr>\n",
       "      <td>top</td>\n",
       "      <td>Bridgeport</td>\n",
       "    </tr>\n",
       "    <tr>\n",
       "      <td>freq</td>\n",
       "      <td>1</td>\n",
       "    </tr>\n",
       "  </tbody>\n",
       "</table>\n",
       "</div>"
      ],
      "text/plain": [
       "       dropoff_location_name\n",
       "count                     94\n",
       "unique                    94\n",
       "top               Bridgeport\n",
       "freq                       1"
      ]
     },
     "execution_count": 104,
     "metadata": {},
     "output_type": "execute_result"
    }
   ],
   "source": [
    "display(companies.describe(include = ['object']))\n",
    "display(weather_conditions.describe(include = ['object']))\n",
    "neighborhoods.describe(include = ['object'])"
   ]
  },
  {
   "cell_type": "markdown",
   "metadata": {},
   "source": [
    "<div style=\"border:solid orange 2px; padding: 20px\"> <b>Remarks:</b><br>\n",
    "    \n",
    "   <s>The `describe()` function is very useful in getting to know the data, the `include` argument may come in handy - `df.describe(include = ['object']` is used to analyse categorical values.</s> This link can be helpful:\n",
    "\n",
    "   https://w3resource.com/pandas/dataframe/dataframe-describe.php?__cf_chl_captcha_tk__=pmd_596eba672b2579d4d2586f4a2aa9db79f1d5c6f7-1626969201-0-gqNtZGzNAuKjcnBszRGO\n",
    "    \n",
    "</div>   "
   ]
  },
  {
   "cell_type": "markdown",
   "metadata": {},
   "source": [
    "<div style=\"border:solid green 2px; padding: 20px\"> <b>Success V2:</b><br>\n",
    "   Thanks so much for taking the time to work even on the \"improve\" comments 😊 </div> "
   ]
  },
  {
   "cell_type": "markdown",
   "metadata": {},
   "source": [
    "<s><div style=\"border:solid red 2px; padding: 20px\"> <b>Needs fixing:</b><br>\n",
    "    Please also study the information about the third table. </div>"
   ]
  },
  {
   "cell_type": "markdown",
   "metadata": {},
   "source": [
    "## Conclusion"
   ]
  },
  {
   "cell_type": "markdown",
   "metadata": {},
   "source": [
    "As we can see above, we have 3 dataframes: \n",
    "* taxi companies: we have 64 taxi companies. \n",
    "* neighborhoods: we have 94 neighborhoods (dropoff locations).\n",
    "* weather_conditions: most of the time the weather conditions were good (888 of 1068)."
   ]
  },
  {
   "cell_type": "markdown",
   "metadata": {},
   "source": [
    "## make sure the data types are correct"
   ]
  },
  {
   "cell_type": "code",
   "execution_count": 105,
   "metadata": {
    "scrolled": false
   },
   "outputs": [
    {
     "name": "stdout",
     "output_type": "stream",
     "text": [
      "<class 'pandas.core.frame.DataFrame'>\n",
      "RangeIndex: 64 entries, 0 to 63\n",
      "Data columns (total 2 columns):\n",
      "company_name    64 non-null object\n",
      "trips_amount    64 non-null int64\n",
      "dtypes: int64(1), object(1)\n",
      "memory usage: 1.1+ KB\n"
     ]
    },
    {
     "data": {
      "text/plain": [
       "None"
      ]
     },
     "metadata": {},
     "output_type": "display_data"
    },
    {
     "name": "stdout",
     "output_type": "stream",
     "text": [
      "<class 'pandas.core.frame.DataFrame'>\n",
      "RangeIndex: 94 entries, 0 to 93\n",
      "Data columns (total 2 columns):\n",
      "dropoff_location_name    94 non-null object\n",
      "average_trips            94 non-null float64\n",
      "dtypes: float64(1), object(1)\n",
      "memory usage: 1.6+ KB\n"
     ]
    },
    {
     "data": {
      "text/plain": [
       "None"
      ]
     },
     "metadata": {},
     "output_type": "display_data"
    },
    {
     "name": "stdout",
     "output_type": "stream",
     "text": [
      "<class 'pandas.core.frame.DataFrame'>\n",
      "RangeIndex: 1068 entries, 0 to 1067\n",
      "Data columns (total 3 columns):\n",
      "start_ts              1068 non-null object\n",
      "weather_conditions    1068 non-null object\n",
      "duration_seconds      1068 non-null float64\n",
      "dtypes: float64(1), object(2)\n",
      "memory usage: 25.2+ KB\n"
     ]
    }
   ],
   "source": [
    "display(companies.info())\n",
    "display(neighborhoods.info())\n",
    "weather_conditions.info()"
   ]
  },
  {
   "cell_type": "markdown",
   "metadata": {},
   "source": [
    "## Conclusion"
   ]
  },
  {
   "cell_type": "markdown",
   "metadata": {},
   "source": [
    "OK. The data types looks good :)"
   ]
  },
  {
   "cell_type": "markdown",
   "metadata": {},
   "source": [
    "<div style=\"border:solid orange 2px; padding: 20px\"> <b>Remarks:</b><br>\n",
    "    \n",
    "  Please note that 64 bits is an excessive amount of space for storing your features.  Here you can read more about data type optimization: <br><a>https://medium.com/@vincentteyssier/optimizing-the-size-of-a-pandas-dataframe-for-low-memory-environment-5f07db3d72e</a>\n",
    "</div> "
   ]
  },
  {
   "cell_type": "markdown",
   "metadata": {},
   "source": [
    "<s><div style=\"border:solid red 2px; padding: 20px\"> <b>Needs fixing:</b><br>\n",
    "    What about the data types in the third table with weather conditions?</div>"
   ]
  },
  {
   "cell_type": "markdown",
   "metadata": {},
   "source": [
    "<div style=\"border:solid orange 2px; padding: 20px\"> <b>Remarks V2:</b><br>\n",
    "    \n",
    "   Please note that the `object` data type does not exactly look suitable for the `start_ts` date in the `weather_conditions` table.</div> "
   ]
  },
  {
   "cell_type": "markdown",
   "metadata": {},
   "source": [
    "## identify the top 10 neighborhoods in terms of drop-offs"
   ]
  },
  {
   "cell_type": "code",
   "execution_count": 106,
   "metadata": {
    "scrolled": false
   },
   "outputs": [
    {
     "data": {
      "text/html": [
       "<div>\n",
       "<style scoped>\n",
       "    .dataframe tbody tr th:only-of-type {\n",
       "        vertical-align: middle;\n",
       "    }\n",
       "\n",
       "    .dataframe tbody tr th {\n",
       "        vertical-align: top;\n",
       "    }\n",
       "\n",
       "    .dataframe thead th {\n",
       "        text-align: right;\n",
       "    }\n",
       "</style>\n",
       "<table border=\"1\" class=\"dataframe\">\n",
       "  <thead>\n",
       "    <tr style=\"text-align: right;\">\n",
       "      <th></th>\n",
       "      <th>average_trips</th>\n",
       "    </tr>\n",
       "    <tr>\n",
       "      <th>dropoff_location_name</th>\n",
       "      <th></th>\n",
       "    </tr>\n",
       "  </thead>\n",
       "  <tbody>\n",
       "    <tr>\n",
       "      <td>Loop</td>\n",
       "      <td>10727.466667</td>\n",
       "    </tr>\n",
       "    <tr>\n",
       "      <td>River North</td>\n",
       "      <td>9523.666667</td>\n",
       "    </tr>\n",
       "    <tr>\n",
       "      <td>Streeterville</td>\n",
       "      <td>6664.666667</td>\n",
       "    </tr>\n",
       "    <tr>\n",
       "      <td>West Loop</td>\n",
       "      <td>5163.666667</td>\n",
       "    </tr>\n",
       "    <tr>\n",
       "      <td>O'Hare</td>\n",
       "      <td>2546.900000</td>\n",
       "    </tr>\n",
       "    <tr>\n",
       "      <td>Lake View</td>\n",
       "      <td>2420.966667</td>\n",
       "    </tr>\n",
       "    <tr>\n",
       "      <td>Grant Park</td>\n",
       "      <td>2068.533333</td>\n",
       "    </tr>\n",
       "    <tr>\n",
       "      <td>Museum Campus</td>\n",
       "      <td>1510.000000</td>\n",
       "    </tr>\n",
       "    <tr>\n",
       "      <td>Gold Coast</td>\n",
       "      <td>1364.233333</td>\n",
       "    </tr>\n",
       "    <tr>\n",
       "      <td>Sheffield &amp; DePaul</td>\n",
       "      <td>1259.766667</td>\n",
       "    </tr>\n",
       "  </tbody>\n",
       "</table>\n",
       "</div>"
      ],
      "text/plain": [
       "                       average_trips\n",
       "dropoff_location_name               \n",
       "Loop                    10727.466667\n",
       "River North              9523.666667\n",
       "Streeterville            6664.666667\n",
       "West Loop                5163.666667\n",
       "O'Hare                   2546.900000\n",
       "Lake View                2420.966667\n",
       "Grant Park               2068.533333\n",
       "Museum Campus            1510.000000\n",
       "Gold Coast               1364.233333\n",
       "Sheffield & DePaul       1259.766667"
      ]
     },
     "execution_count": 106,
     "metadata": {},
     "output_type": "execute_result"
    }
   ],
   "source": [
    "top_10_neighborhoods = neighborhoods.nlargest(10, 'average_trips').sort_values(by='average_trips', ascending=False).set_index('dropoff_location_name')\n",
    "top_10_neighborhoods"
   ]
  },
  {
   "cell_type": "markdown",
   "metadata": {},
   "source": [
    "## Conclusion"
   ]
  },
  {
   "cell_type": "markdown",
   "metadata": {},
   "source": [
    "The most popular neighborhoods in terms of dropoffs are Loop and River North (10727 and 9523 respectively)."
   ]
  },
  {
   "cell_type": "markdown",
   "metadata": {},
   "source": [
    "<div style=\"border:solid green 2px; padding: 20px\"> <b>Success:</b><br>\n",
    "    Perfect, you identifyed the top 10 neighborhoods in terms of drop-offs correctly. </div>  "
   ]
  },
  {
   "cell_type": "markdown",
   "metadata": {},
   "source": [
    "<s><div style=\"border:solid red 2px; padding: 20px\"> <b>Needs fixing:</b><br>\n",
    "    Could you please sort them in descending order and write the conclusions here (table description)?</div>"
   ]
  },
  {
   "cell_type": "markdown",
   "metadata": {},
   "source": [
    "<div style=\"border:solid green 2px; padding: 20px\"> <b>Success V2:</b><br>\n",
    "    Good job! </div>  "
   ]
  },
  {
   "cell_type": "markdown",
   "metadata": {},
   "source": [
    "## make graphs: taxi companies and number of rides, top 10 neighborhoods by number of dropoffs"
   ]
  },
  {
   "cell_type": "code",
   "execution_count": 107,
   "metadata": {
    "scrolled": true
   },
   "outputs": [],
   "source": [
    "companies.sort_values(by='trips_amount', inplace=True)"
   ]
  },
  {
   "cell_type": "code",
   "execution_count": 108,
   "metadata": {},
   "outputs": [],
   "source": [
    "companies.set_index('company_name', inplace=True)"
   ]
  },
  {
   "cell_type": "code",
   "execution_count": 109,
   "metadata": {},
   "outputs": [
    {
     "data": {
      "image/png": "[encoded data removed]",
      "text/plain": [
       "<Figure size 432x288 with 1 Axes>"
      ]
     },
     "metadata": {
      "needs_background": "light"
     },
     "output_type": "display_data"
    }
   ],
   "source": [
    "top_10_companies = companies.nlargest(10, 'trips_amount')\n",
    "top_10_companies.plot(kind='barh', rot=0)\n",
    "plt.title('Taxi companies by trips amount')\n",
    "plt.ylabel('Company name')\n",
    "plt.xlabel('Trips amount')\n",
    "plt.show()"
   ]
  },
  {
   "cell_type": "markdown",
   "metadata": {},
   "source": [
    "<div style=\"border:solid green 2px; padding: 20px\"> <b>Success:</b><br>\n",
    "    Well done for plotting the columns in bar plot horizontally. This way the graph is more \"readable\" 👍 </div>     "
   ]
  },
  {
   "cell_type": "markdown",
   "metadata": {},
   "source": [
    "<s><div style=\"border:solid red 2px; padding: 20px\"> <b>Needs fixing:</b><br>\n",
    "    Please, add the tittles to all your charts.\n",
    "    Please, pay attention that according to the task we need \" taxi companies and number of rides, top 10 neighborhoods by number of dropoffs\", so we only need to display 10 companies on the graph. </div>"
   ]
  },
  {
   "cell_type": "markdown",
   "metadata": {},
   "source": [
    "<div style=\"border:solid green 2px; padding: 20px\"> <b>Success V2:</b><br>\n",
    "    Well done! Thanks for the corrections.</div>  "
   ]
  },
  {
   "cell_type": "code",
   "execution_count": 110,
   "metadata": {},
   "outputs": [
    {
     "data": {
      "image/png": "[encoded data removed]",
      "text/plain": [
       "<Figure size 432x288 with 1 Axes>"
      ]
     },
     "metadata": {
      "needs_background": "light"
     },
     "output_type": "display_data"
    }
   ],
   "source": [
    "top_10_neighborhoods.plot(kind='barh')\n",
    "plt.title('Neighborhoods by average trips')\n",
    "plt.xlabel('Average trips')\n",
    "plt.ylabel('Neighborhoods')\n",
    "plt.show()"
   ]
  },
  {
   "cell_type": "markdown",
   "metadata": {},
   "source": [
    "<div style=\"border:solid orange 2px; padding: 20px\"> <b>Remarks:</b><br>\n",
    "  \n",
    "   I leave a link on how to annotate bar plots, perhaps it will be useful:\n",
    "        \n",
    "   https://www.geeksforgeeks.org/how-to-annotate-bars-in-barplot-with-matplotlib-in-python/</div> "
   ]
  },
  {
   "cell_type": "markdown",
   "metadata": {},
   "source": [
    "## draw conclusions based on each graph and explain the results"
   ]
  },
  {
   "cell_type": "markdown",
   "metadata": {},
   "source": [
    "The most popular neighborhoods in terms of dropoffs are Loop and River North (10727 and 9523 respectively). I guess they have the greatest population of all the neighborhoods or because of the closeness to the airport.\n",
    "\n",
    "Flash Cab is the popular taxi comapny by far with 19558 trips. Maybe it has the best service by availability and efficiency, or they are close to the airport."
   ]
  },
  {
   "cell_type": "markdown",
   "metadata": {},
   "source": [
    "<s><div style=\"border:solid orange 2px; padding: 20px\"> <b>Remarks:</b><br>\n",
    "   Whаt do you think why these companies are most popular? And why these neighborhoods are in the  top 10 neighborhoods in terms of drop-offs?</div>   "
   ]
  },
  {
   "cell_type": "markdown",
   "metadata": {},
   "source": [
    "<div style=\"border:solid green 2px; padding: 20px\"> <b>Success V2:</b><br>\n",
    "    Perfect!</div>       "
   ]
  },
  {
   "cell_type": "markdown",
   "metadata": {},
   "source": [
    "# Step 5. Testing hypotheses (Python)\n",
    "\n",
    "* Test the hypothesis: \"The average duration of rides from the Loop to O'Hare International Airport changes on rainy Saturdays.\"\n",
    "\n"
   ]
  },
  {
   "cell_type": "markdown",
   "metadata": {},
   "source": [
    "The null hypothesis (H0): The average duration of rides from the Loop to O'Hare International Airport on rainy Saturdays belong to the same statistical population..\n",
    "\n",
    "The alternative hypothesis (H1): The average duration of rides from the Loop to O'Hare International Airport changes on rainy Saturdays.\n",
    "\n",
    "The critical level of statistical significance (alpha): 0.05 ."
   ]
  },
  {
   "cell_type": "markdown",
   "metadata": {},
   "source": [
    "<s><div style=\"border:solid red 2px; padding: 20px\"> <b>Needs fixing:</b><br>\n",
    "    Please write both the null hypothesis and the alternative hypothesis before the test  and write the critical level of statistical significance that you will use (alpha). \n",
    "Please pay attention, that \"equal\" conception is not appliable in case of distributions. It's better to use \"statistical insignificant difference\" or \"belonging to the same statistical population\" in stead of it.\n",
    "Like this: \n",
    "\n",
    "𝐻0:The average duration of rides from the Loop to O'Hare International Airport on rainy Saturdays belong to the same statistical population.\n",
    "\n",
    "</div>"
   ]
  },
  {
   "cell_type": "markdown",
   "metadata": {},
   "source": [
    "<div style=\"border:solid orange 2px; padding: 20px\"> <b>Remarks V2:</b><br>\n",
    "    Thanks a lot for the corrections :)\n",
    "  Sorry, here's a more accurate formulation for the null hypothesis:\n",
    "    \n",
    "   H0: The average duration of rides from the Loop to O'Hare International Airport on rainy Saturdays and days with good weather  belong to the same statistical population\n",
    "    \n",
    "  \n",
    "In that case the alternative hypothesis is better formulated as: \n",
    "    \n",
    "   H1: The average duration of rides from the Loop to O'Hare International Airport on rainy Saturdays and days with good weather  belong to the different statistical population\n",
    "\n",
    " In this way the wording sounds more \"professional\" :)     \n",
    "        </div>   \n",
    "<br>"
   ]
  },
  {
   "cell_type": "code",
   "execution_count": 111,
   "metadata": {},
   "outputs": [],
   "source": [
    "good_conditions_duration = weather_conditions.query('weather_conditions == \"Good\"')['duration_seconds']\n",
    "bad_conditions_duration = weather_conditions.query('weather_conditions == \"Bad\"')['duration_seconds']"
   ]
  },
  {
   "cell_type": "code",
   "execution_count": 112,
   "metadata": {},
   "outputs": [
    {
     "name": "stdout",
     "output_type": "stream",
     "text": [
      "p-value:  6.517970327099473e-12\n",
      "We reject the null hypothesis\n"
     ]
    }
   ],
   "source": [
    "alpha = 0.05 \n",
    "\n",
    "results = st.ttest_ind(good_conditions_duration, bad_conditions_duration)\n",
    "\n",
    "print('p-value: ', results.pvalue)\n",
    "\n",
    "if results.pvalue < alpha:\n",
    "    print(\"We reject the null hypothesis\")\n",
    "else:\n",
    "    print(\"We can't reject the null hypothesis\") "
   ]
  },
  {
   "cell_type": "markdown",
   "metadata": {},
   "source": [
    "<div style=\"border:solid orange 2px; padding: 20px\"> <b>Remarks:</b><br>\n",
    "\n",
    "Best practices: \n",
    "   Before testing the hypothesis, I recommend checking the variance of the samples to correctly determine the `equal_val` attribute in the t-test.\n",
    "    \n",
    "   And also you can use Levene test. I'll leave you the link to the documentation: https://docs.scipy.org/doc/scipy/reference/generated/scipy.stats.levene.html\n",
    "\n",
    "It is also worth visualizing the distribution of each sample.\n",
    "\n",
    "By doing best practices, we can make the project more consistent. </div>  "
   ]
  },
  {
   "cell_type": "markdown",
   "metadata": {},
   "source": [
    "## Conclusion"
   ]
  },
  {
   "cell_type": "markdown",
   "metadata": {},
   "source": [
    "As we can see above, we reject the null hypothesis and accept the alternative one: The average duration of rides from the Loop to O'Hare International Airport changes on rainy Saturdays."
   ]
  },
  {
   "cell_type": "markdown",
   "metadata": {},
   "source": [
    "<div style=\"border:solid green 2px; padding: 20px\"> <b>Success:</b><br>\n",
    "    Thanks for detailed conclusion :)</div> "
   ]
  },
  {
   "cell_type": "markdown",
   "metadata": {},
   "source": [
    "## General conclusion"
   ]
  },
  {
   "cell_type": "markdown",
   "metadata": {},
   "source": [
    "So what we had here:\n",
    "* Two datasets: companies and neighborhoods by trips amount.\n",
    "* The data types look right.\n",
    "* We made graphs for both datasets.\n",
    "* We identified the top 10 neighborhoods in terms of dropoffs.\n",
    "* We tested the hypothesis about the average trip duration in rainy days and concluded that there is a significant difference between the averages."
   ]
  },
  {
   "cell_type": "markdown",
   "metadata": {},
   "source": [
    "<div style=\"border:solid orange 2px; padding: 20px\"> <b>Remarks:</b><br>\n",
    "    \n",
    " It's great that you wrote the general conclusion 👍 \n",
    "\n",
    "  **Best practice:** It is important to write detailed conclusions and assumptions about why we see these results. This is especially important in the case of general conclusion as the final conclusion is the first thing people read and is often the basis for judging the quality of the work as a wholeю  </div> "
   ]
  },
  {
   "cell_type": "code",
   "execution_count": null,
   "metadata": {},
   "outputs": [],
   "source": []
  }
 ],
 "metadata": {
  "ExecuteTimeLog": [
   {
    "duration": 4158,
    "start_time": "2021-07-22T11:24:46.613Z"
   },
   {
    "duration": 896,
    "start_time": "2021-07-22T11:25:06.530Z"
   },
   {
    "duration": 7,
    "start_time": "2021-07-22T11:25:14.361Z"
   },
   {
    "duration": 3125,
    "start_time": "2021-07-22T11:25:28.814Z"
   },
   {
    "duration": 10,
    "start_time": "2021-07-22T11:25:37.744Z"
   },
   {
    "duration": 863,
    "start_time": "2021-07-22T11:25:52.713Z"
   },
   {
    "duration": 3,
    "start_time": "2021-07-22T11:26:05.371Z"
   },
   {
    "duration": 7,
    "start_time": "2021-07-22T11:26:06.476Z"
   },
   {
    "duration": 31,
    "start_time": "2021-07-22T11:29:38.283Z"
   },
   {
    "duration": 22,
    "start_time": "2021-07-22T11:29:48.632Z"
   },
   {
    "duration": 10,
    "start_time": "2021-07-22T11:37:19.101Z"
   },
   {
    "duration": 11,
    "start_time": "2021-07-22T11:37:40.061Z"
   },
   {
    "duration": 17,
    "start_time": "2021-07-22T11:37:48.753Z"
   },
   {
    "duration": 17,
    "start_time": "2021-07-22T11:38:50.600Z"
   },
   {
    "duration": 31,
    "start_time": "2021-07-22T11:55:12.322Z"
   },
   {
    "duration": 18,
    "start_time": "2021-07-22T11:55:15.086Z"
   },
   {
    "duration": 14,
    "start_time": "2021-07-22T11:55:20.708Z"
   },
   {
    "duration": 367,
    "start_time": "2021-07-22T11:56:31.245Z"
   },
   {
    "duration": 14,
    "start_time": "2021-07-22T11:56:35.217Z"
   },
   {
    "duration": 13,
    "start_time": "2021-07-22T11:58:30.001Z"
   },
   {
    "duration": 294,
    "start_time": "2021-07-22T12:00:08.330Z"
   },
   {
    "duration": 601,
    "start_time": "2021-07-22T12:00:14.317Z"
   },
   {
    "duration": 344,
    "start_time": "2021-07-22T12:01:20.867Z"
   },
   {
    "duration": 289,
    "start_time": "2021-07-22T12:03:37.299Z"
   },
   {
    "duration": 17,
    "start_time": "2021-07-22T12:04:03.570Z"
   },
   {
    "duration": 7,
    "start_time": "2021-07-22T12:05:11.972Z"
   },
   {
    "duration": 7,
    "start_time": "2021-07-22T12:05:18.935Z"
   },
   {
    "duration": 310,
    "start_time": "2021-07-22T12:05:23.386Z"
   },
   {
    "duration": 14,
    "start_time": "2021-07-22T12:05:34.808Z"
   },
   {
    "duration": 302,
    "start_time": "2021-07-22T12:07:09.003Z"
   },
   {
    "duration": 14,
    "start_time": "2021-07-22T12:09:11.475Z"
   },
   {
    "duration": 306,
    "start_time": "2021-07-22T12:09:19.320Z"
   },
   {
    "duration": 103,
    "start_time": "2021-07-22T12:11:01.992Z"
   },
   {
    "duration": 118,
    "start_time": "2021-07-22T12:11:07.594Z"
   },
   {
    "duration": 16,
    "start_time": "2021-07-22T12:11:15.853Z"
   },
   {
    "duration": 320,
    "start_time": "2021-07-22T12:11:20.951Z"
   },
   {
    "duration": 618,
    "start_time": "2021-07-22T12:11:30.717Z"
   },
   {
    "duration": 268,
    "start_time": "2021-07-22T12:12:17.930Z"
   },
   {
    "duration": 3,
    "start_time": "2021-07-22T12:13:13.932Z"
   },
   {
    "duration": 316,
    "start_time": "2021-07-22T12:13:22.351Z"
   },
   {
    "duration": 311,
    "start_time": "2021-07-22T12:14:03.109Z"
   },
   {
    "duration": 316,
    "start_time": "2021-07-22T12:15:24.625Z"
   },
   {
    "duration": 1288,
    "start_time": "2021-07-22T12:15:40.051Z"
   },
   {
    "duration": 1227,
    "start_time": "2021-07-22T12:15:57.963Z"
   },
   {
    "duration": 1187,
    "start_time": "2021-07-22T12:16:07.523Z"
   },
   {
    "duration": 1169,
    "start_time": "2021-07-22T12:16:13.626Z"
   },
   {
    "duration": 1173,
    "start_time": "2021-07-22T12:16:29.867Z"
   },
   {
    "duration": 1163,
    "start_time": "2021-07-22T12:16:38.310Z"
   },
   {
    "duration": 1194,
    "start_time": "2021-07-22T12:16:53.716Z"
   },
   {
    "duration": 1364,
    "start_time": "2021-07-22T12:16:58.322Z"
   },
   {
    "duration": 1187,
    "start_time": "2021-07-22T12:17:13.696Z"
   },
   {
    "duration": 1168,
    "start_time": "2021-07-22T12:17:26.155Z"
   },
   {
    "duration": 1177,
    "start_time": "2021-07-22T12:18:38.625Z"
   },
   {
    "duration": 1170,
    "start_time": "2021-07-22T12:18:50.587Z"
   },
   {
    "duration": 13,
    "start_time": "2021-07-22T12:21:04.335Z"
   },
   {
    "duration": 816,
    "start_time": "2021-07-22T12:22:49.013Z"
   },
   {
    "duration": 414,
    "start_time": "2021-07-22T12:22:49.833Z"
   },
   {
    "duration": -109,
    "start_time": "2021-07-22T12:22:50.359Z"
   },
   {
    "duration": -132,
    "start_time": "2021-07-22T12:22:50.384Z"
   },
   {
    "duration": -146,
    "start_time": "2021-07-22T12:22:50.401Z"
   },
   {
    "duration": -150,
    "start_time": "2021-07-22T12:22:50.407Z"
   },
   {
    "duration": -208,
    "start_time": "2021-07-22T12:22:50.468Z"
   },
   {
    "duration": 283,
    "start_time": "2021-07-22T12:23:07.019Z"
   },
   {
    "duration": 3,
    "start_time": "2021-07-22T12:23:21.812Z"
   },
   {
    "duration": 379,
    "start_time": "2021-07-22T12:23:21.821Z"
   },
   {
    "duration": -1190,
    "start_time": "2021-07-22T12:23:23.392Z"
   },
   {
    "duration": -1309,
    "start_time": "2021-07-22T12:23:23.513Z"
   },
   {
    "duration": -1316,
    "start_time": "2021-07-22T12:23:23.521Z"
   },
   {
    "duration": -1319,
    "start_time": "2021-07-22T12:23:23.525Z"
   },
   {
    "duration": -1327,
    "start_time": "2021-07-22T12:23:23.535Z"
   },
   {
    "duration": 240,
    "start_time": "2021-07-22T12:23:46.706Z"
   },
   {
    "duration": 33,
    "start_time": "2021-07-22T12:23:47.555Z"
   },
   {
    "duration": 21,
    "start_time": "2021-07-22T12:23:50.310Z"
   },
   {
    "duration": 16,
    "start_time": "2021-07-22T12:23:50.733Z"
   },
   {
    "duration": 16,
    "start_time": "2021-07-22T12:23:57.257Z"
   },
   {
    "duration": 1947,
    "start_time": "2021-07-22T12:24:08.370Z"
   },
   {
    "duration": 324,
    "start_time": "2021-07-22T12:24:29.583Z"
   },
   {
    "duration": 315,
    "start_time": "2021-07-22T12:24:55.055Z"
   },
   {
    "duration": 299,
    "start_time": "2021-07-22T12:25:52.183Z"
   },
   {
    "duration": 3,
    "start_time": "2021-07-22T13:19:39.062Z"
   },
   {
    "duration": 41,
    "start_time": "2021-07-22T13:19:39.072Z"
   },
   {
    "duration": 24,
    "start_time": "2021-07-22T13:19:39.116Z"
   },
   {
    "duration": 15,
    "start_time": "2021-07-22T13:19:39.144Z"
   },
   {
    "duration": 15,
    "start_time": "2021-07-22T13:19:39.162Z"
   },
   {
    "duration": 4,
    "start_time": "2021-07-22T13:19:39.198Z"
   },
   {
    "duration": 328,
    "start_time": "2021-07-22T13:19:39.206Z"
   },
   {
    "duration": 480,
    "start_time": "2021-07-22T13:20:04.271Z"
   },
   {
    "duration": 301,
    "start_time": "2021-07-22T13:20:19.975Z"
   },
   {
    "duration": 318,
    "start_time": "2021-07-22T13:21:12.104Z"
   },
   {
    "duration": 11,
    "start_time": "2021-07-22T13:21:31.960Z"
   },
   {
    "duration": 3,
    "start_time": "2021-07-22T13:22:03.653Z"
   },
   {
    "duration": 35,
    "start_time": "2021-07-22T13:22:03.659Z"
   },
   {
    "duration": 23,
    "start_time": "2021-07-22T13:22:03.697Z"
   },
   {
    "duration": 16,
    "start_time": "2021-07-22T13:22:03.723Z"
   },
   {
    "duration": 31,
    "start_time": "2021-07-22T13:22:03.741Z"
   },
   {
    "duration": 13,
    "start_time": "2021-07-22T13:22:03.987Z"
   },
   {
    "duration": 522,
    "start_time": "2021-07-22T13:22:04.003Z"
   },
   {
    "duration": 5,
    "start_time": "2021-07-22T13:22:31.747Z"
   },
   {
    "duration": 286,
    "start_time": "2021-07-22T13:22:41.250Z"
   },
   {
    "duration": 4,
    "start_time": "2021-07-22T13:22:57.003Z"
   },
   {
    "duration": 32,
    "start_time": "2021-07-22T13:22:57.010Z"
   },
   {
    "duration": 16,
    "start_time": "2021-07-22T13:22:57.045Z"
   },
   {
    "duration": 14,
    "start_time": "2021-07-22T13:22:57.064Z"
   },
   {
    "duration": 15,
    "start_time": "2021-07-22T13:22:57.141Z"
   },
   {
    "duration": 16,
    "start_time": "2021-07-22T13:22:57.159Z"
   },
   {
    "duration": 1814,
    "start_time": "2021-07-22T13:23:31.027Z"
   },
   {
    "duration": 3,
    "start_time": "2021-07-22T13:25:06.655Z"
   },
   {
    "duration": 33,
    "start_time": "2021-07-22T13:25:06.662Z"
   },
   {
    "duration": 24,
    "start_time": "2021-07-22T13:25:06.698Z"
   },
   {
    "duration": 15,
    "start_time": "2021-07-22T13:25:06.725Z"
   },
   {
    "duration": 16,
    "start_time": "2021-07-22T13:25:06.756Z"
   },
   {
    "duration": 293,
    "start_time": "2021-07-22T13:25:26.857Z"
   },
   {
    "duration": 308,
    "start_time": "2021-07-22T13:25:42.265Z"
   },
   {
    "duration": 4,
    "start_time": "2021-07-22T13:25:57.370Z"
   },
   {
    "duration": 32,
    "start_time": "2021-07-22T13:25:57.377Z"
   },
   {
    "duration": 17,
    "start_time": "2021-07-22T13:25:57.412Z"
   },
   {
    "duration": 15,
    "start_time": "2021-07-22T13:25:57.432Z"
   },
   {
    "duration": 16,
    "start_time": "2021-07-22T13:25:57.449Z"
   },
   {
    "duration": 1788,
    "start_time": "2021-07-22T13:26:01.332Z"
   },
   {
    "duration": 2109,
    "start_time": "2021-07-22T13:27:33.274Z"
   },
   {
    "duration": 539,
    "start_time": "2021-07-22T13:28:13.856Z"
   },
   {
    "duration": 4,
    "start_time": "2021-07-22T13:28:24.066Z"
   },
   {
    "duration": 37,
    "start_time": "2021-07-22T13:28:24.072Z"
   },
   {
    "duration": 19,
    "start_time": "2021-07-22T13:28:24.111Z"
   },
   {
    "duration": 14,
    "start_time": "2021-07-22T13:28:24.132Z"
   },
   {
    "duration": 15,
    "start_time": "2021-07-22T13:28:24.149Z"
   },
   {
    "duration": 331,
    "start_time": "2021-07-22T13:28:30.126Z"
   },
   {
    "duration": 5,
    "start_time": "2021-07-22T13:28:45.010Z"
   },
   {
    "duration": 1225,
    "start_time": "2021-07-22T13:28:47.178Z"
   },
   {
    "duration": 6,
    "start_time": "2021-07-22T13:29:43.936Z"
   },
   {
    "duration": 1109,
    "start_time": "2021-07-22T13:29:45.345Z"
   },
   {
    "duration": 6,
    "start_time": "2021-07-22T13:30:00.487Z"
   },
   {
    "duration": 1990,
    "start_time": "2021-07-22T13:30:02.110Z"
   },
   {
    "duration": 2003,
    "start_time": "2021-07-22T13:31:29.511Z"
   },
   {
    "duration": 2085,
    "start_time": "2021-07-22T13:31:49.748Z"
   },
   {
    "duration": 2238,
    "start_time": "2021-07-22T13:32:30.331Z"
   },
   {
    "duration": 2254,
    "start_time": "2021-07-22T13:33:44.917Z"
   },
   {
    "duration": 41,
    "start_time": "2021-07-22T13:46:13.140Z"
   },
   {
    "duration": 38,
    "start_time": "2021-07-22T13:47:18.255Z"
   },
   {
    "duration": 38,
    "start_time": "2021-07-22T14:01:49.431Z"
   },
   {
    "duration": 41,
    "start_time": "2021-07-22T14:02:37.317Z"
   },
   {
    "duration": 40,
    "start_time": "2021-07-22T14:02:40.353Z"
   },
   {
    "duration": 34,
    "start_time": "2021-07-22T14:02:43.612Z"
   },
   {
    "duration": 34,
    "start_time": "2021-07-22T14:02:49.274Z"
   },
   {
    "duration": 22,
    "start_time": "2021-07-22T14:04:48.528Z"
   },
   {
    "duration": 38,
    "start_time": "2021-07-22T14:05:01.049Z"
   },
   {
    "duration": 10,
    "start_time": "2021-07-22T14:05:39.071Z"
   },
   {
    "duration": 21,
    "start_time": "2021-07-22T14:05:46.176Z"
   },
   {
    "duration": 10,
    "start_time": "2021-07-22T14:06:45.618Z"
   },
   {
    "duration": 16,
    "start_time": "2021-07-22T14:06:53.711Z"
   },
   {
    "duration": 11,
    "start_time": "2021-07-22T14:07:01.333Z"
   },
   {
    "duration": 303,
    "start_time": "2021-07-22T14:07:18.178Z"
   },
   {
    "duration": 572,
    "start_time": "2021-07-22T14:07:30.695Z"
   },
   {
    "duration": 7,
    "start_time": "2021-07-22T14:07:36.066Z"
   },
   {
    "duration": 3,
    "start_time": "2021-07-22T14:12:03.090Z"
   },
   {
    "duration": 36,
    "start_time": "2021-07-22T14:13:07.790Z"
   },
   {
    "duration": 1378,
    "start_time": "2021-07-22T15:40:22.427Z"
   },
   {
    "duration": 32,
    "start_time": "2021-07-22T15:40:23.808Z"
   },
   {
    "duration": 25,
    "start_time": "2021-07-22T15:40:23.843Z"
   },
   {
    "duration": 13,
    "start_time": "2021-07-22T15:40:23.871Z"
   },
   {
    "duration": 24,
    "start_time": "2021-07-22T15:40:23.887Z"
   },
   {
    "duration": 10,
    "start_time": "2021-07-22T15:40:23.913Z"
   },
   {
    "duration": 2335,
    "start_time": "2021-07-22T15:40:23.926Z"
   },
   {
    "duration": 328,
    "start_time": "2021-07-22T15:40:26.264Z"
   },
   {
    "duration": 43,
    "start_time": "2021-07-22T15:40:26.595Z"
   },
   {
    "duration": 15,
    "start_time": "2021-07-22T15:40:26.640Z"
   },
   {
    "duration": 7,
    "start_time": "2021-07-22T15:40:26.658Z"
   },
   {
    "duration": 102,
    "start_time": "2021-07-22T16:04:43.077Z"
   },
   {
    "duration": 332,
    "start_time": "2021-07-23T08:48:57.739Z"
   },
   {
    "duration": 1535,
    "start_time": "2021-07-23T08:49:03.220Z"
   },
   {
    "duration": 65,
    "start_time": "2021-07-23T08:49:04.758Z"
   },
   {
    "duration": 28,
    "start_time": "2021-07-23T08:49:22.006Z"
   },
   {
    "duration": 45,
    "start_time": "2021-07-23T08:50:52.305Z"
   },
   {
    "duration": 20,
    "start_time": "2021-07-23T08:58:07.313Z"
   },
   {
    "duration": 15,
    "start_time": "2021-07-23T08:59:05.528Z"
   },
   {
    "duration": 808,
    "start_time": "2021-07-23T09:04:08.631Z"
   },
   {
    "duration": 4,
    "start_time": "2021-07-23T09:04:20.647Z"
   },
   {
    "duration": 83,
    "start_time": "2021-07-23T09:04:20.653Z"
   },
   {
    "duration": 22,
    "start_time": "2021-07-23T09:04:20.738Z"
   },
   {
    "duration": 46,
    "start_time": "2021-07-23T09:04:20.763Z"
   },
   {
    "duration": 44,
    "start_time": "2021-07-23T09:04:20.812Z"
   },
   {
    "duration": 14,
    "start_time": "2021-07-23T09:04:20.859Z"
   },
   {
    "duration": 5,
    "start_time": "2021-07-23T09:04:27.654Z"
   },
   {
    "duration": 816,
    "start_time": "2021-07-23T09:04:27.989Z"
   },
   {
    "duration": 335,
    "start_time": "2021-07-23T09:05:21.340Z"
   },
   {
    "duration": 5,
    "start_time": "2021-07-23T09:05:50.947Z"
   },
   {
    "duration": 848,
    "start_time": "2021-07-23T09:05:54.797Z"
   },
   {
    "duration": 5,
    "start_time": "2021-07-23T09:06:22.932Z"
   },
   {
    "duration": 280,
    "start_time": "2021-07-23T09:06:27.862Z"
   },
   {
    "duration": 4,
    "start_time": "2021-07-23T09:07:07.248Z"
   },
   {
    "duration": 795,
    "start_time": "2021-07-23T09:07:07.589Z"
   },
   {
    "duration": 5,
    "start_time": "2021-07-23T09:07:37.723Z"
   },
   {
    "duration": 61,
    "start_time": "2021-07-23T09:07:37.731Z"
   },
   {
    "duration": 23,
    "start_time": "2021-07-23T09:07:37.844Z"
   },
   {
    "duration": 46,
    "start_time": "2021-07-23T09:07:37.871Z"
   },
   {
    "duration": 53,
    "start_time": "2021-07-23T09:07:37.920Z"
   },
   {
    "duration": 15,
    "start_time": "2021-07-23T09:07:37.976Z"
   },
   {
    "duration": 311,
    "start_time": "2021-07-23T09:07:54.351Z"
   },
   {
    "duration": 853,
    "start_time": "2021-07-23T09:08:01.936Z"
   },
   {
    "duration": 6,
    "start_time": "2021-07-23T09:08:11.651Z"
   },
   {
    "duration": 824,
    "start_time": "2021-07-23T09:08:16.659Z"
   },
   {
    "duration": 335,
    "start_time": "2021-07-23T09:09:22.681Z"
   },
   {
    "duration": 301,
    "start_time": "2021-07-23T09:10:01.456Z"
   },
   {
    "duration": 321,
    "start_time": "2021-07-23T09:10:24.371Z"
   },
   {
    "duration": 292,
    "start_time": "2021-07-23T09:10:41.549Z"
   },
   {
    "duration": 297,
    "start_time": "2021-07-23T09:10:47.894Z"
   },
   {
    "duration": 4,
    "start_time": "2021-07-23T09:11:31.571Z"
   },
   {
    "duration": 64,
    "start_time": "2021-07-23T09:11:31.583Z"
   },
   {
    "duration": 30,
    "start_time": "2021-07-23T09:11:31.650Z"
   },
   {
    "duration": 46,
    "start_time": "2021-07-23T09:11:31.683Z"
   },
   {
    "duration": 27,
    "start_time": "2021-07-23T09:11:31.756Z"
   },
   {
    "duration": 15,
    "start_time": "2021-07-23T09:11:31.786Z"
   },
   {
    "duration": 6,
    "start_time": "2021-07-23T09:11:37.729Z"
   },
   {
    "duration": 5,
    "start_time": "2021-07-23T09:11:40.286Z"
   },
   {
    "duration": 867,
    "start_time": "2021-07-23T09:11:43.561Z"
   },
   {
    "duration": 3,
    "start_time": "2021-07-23T09:12:32.778Z"
   },
   {
    "duration": 65,
    "start_time": "2021-07-23T09:12:32.788Z"
   },
   {
    "duration": 35,
    "start_time": "2021-07-23T09:12:32.858Z"
   },
   {
    "duration": 77,
    "start_time": "2021-07-23T09:12:32.897Z"
   },
   {
    "duration": 20,
    "start_time": "2021-07-23T09:12:32.977Z"
   },
   {
    "duration": 14,
    "start_time": "2021-07-23T09:12:32.999Z"
   },
   {
    "duration": 5,
    "start_time": "2021-07-23T09:12:44.735Z"
   },
   {
    "duration": 5,
    "start_time": "2021-07-23T09:12:46.698Z"
   },
   {
    "duration": 809,
    "start_time": "2021-07-23T09:12:47.271Z"
   },
   {
    "duration": 20,
    "start_time": "2021-07-23T09:13:00.951Z"
   },
   {
    "duration": 12,
    "start_time": "2021-07-23T09:13:30.234Z"
   },
   {
    "duration": 12,
    "start_time": "2021-07-23T09:13:34.714Z"
   },
   {
    "duration": 293,
    "start_time": "2021-07-23T09:13:45.618Z"
   },
   {
    "duration": 4,
    "start_time": "2021-07-23T09:13:51.767Z"
   },
   {
    "duration": 57,
    "start_time": "2021-07-23T09:13:51.773Z"
   },
   {
    "duration": 31,
    "start_time": "2021-07-23T09:13:51.833Z"
   },
   {
    "duration": 45,
    "start_time": "2021-07-23T09:13:51.867Z"
   },
   {
    "duration": 49,
    "start_time": "2021-07-23T09:13:51.915Z"
   },
   {
    "duration": 103,
    "start_time": "2021-07-23T09:13:51.966Z"
   },
   {
    "duration": 14,
    "start_time": "2021-07-23T09:13:52.073Z"
   },
   {
    "duration": 16,
    "start_time": "2021-07-23T09:13:59.240Z"
   },
   {
    "duration": 5,
    "start_time": "2021-07-23T09:14:04.276Z"
   },
   {
    "duration": 843,
    "start_time": "2021-07-23T09:14:07.315Z"
   },
   {
    "duration": 847,
    "start_time": "2021-07-23T09:14:37.605Z"
   },
   {
    "duration": 11,
    "start_time": "2021-07-23T09:15:19.512Z"
   },
   {
    "duration": 803,
    "start_time": "2021-07-23T09:15:29.972Z"
   },
   {
    "duration": 15,
    "start_time": "2021-07-23T09:15:40.123Z"
   },
   {
    "duration": 306,
    "start_time": "2021-07-23T09:15:43.392Z"
   },
   {
    "duration": 4,
    "start_time": "2021-07-23T09:15:49.310Z"
   },
   {
    "duration": 65,
    "start_time": "2021-07-23T09:15:49.318Z"
   },
   {
    "duration": 24,
    "start_time": "2021-07-23T09:15:49.386Z"
   },
   {
    "duration": 53,
    "start_time": "2021-07-23T09:15:49.413Z"
   },
   {
    "duration": 21,
    "start_time": "2021-07-23T09:15:49.469Z"
   },
   {
    "duration": 19,
    "start_time": "2021-07-23T09:15:49.492Z"
   },
   {
    "duration": 13,
    "start_time": "2021-07-23T09:15:54.723Z"
   },
   {
    "duration": 5,
    "start_time": "2021-07-23T09:16:07.604Z"
   },
   {
    "duration": 897,
    "start_time": "2021-07-23T09:16:08.567Z"
   },
   {
    "duration": 4,
    "start_time": "2021-07-23T09:16:29.185Z"
   },
   {
    "duration": 58,
    "start_time": "2021-07-23T09:16:29.192Z"
   },
   {
    "duration": 23,
    "start_time": "2021-07-23T09:16:29.253Z"
   },
   {
    "duration": 76,
    "start_time": "2021-07-23T09:16:29.278Z"
   },
   {
    "duration": 21,
    "start_time": "2021-07-23T09:16:29.357Z"
   },
   {
    "duration": 20,
    "start_time": "2021-07-23T09:16:29.380Z"
   },
   {
    "duration": 5,
    "start_time": "2021-07-23T09:16:32.414Z"
   },
   {
    "duration": 4,
    "start_time": "2021-07-23T09:16:34.337Z"
   },
   {
    "duration": 797,
    "start_time": "2021-07-23T09:16:35.983Z"
   },
   {
    "duration": 801,
    "start_time": "2021-07-23T09:18:36.738Z"
   },
   {
    "duration": 809,
    "start_time": "2021-07-23T09:19:02.858Z"
   },
   {
    "duration": 347,
    "start_time": "2021-07-23T09:42:16.657Z"
   },
   {
    "duration": 292,
    "start_time": "2021-07-23T09:43:28.625Z"
   },
   {
    "duration": 309,
    "start_time": "2021-07-23T09:44:12.303Z"
   },
   {
    "duration": 15,
    "start_time": "2021-07-23T09:56:44.364Z"
   },
   {
    "duration": 7,
    "start_time": "2021-07-23T09:56:45.058Z"
   },
   {
    "duration": 4,
    "start_time": "2021-07-23T09:58:13.055Z"
   },
   {
    "duration": 61,
    "start_time": "2021-07-23T09:58:13.066Z"
   },
   {
    "duration": 23,
    "start_time": "2021-07-23T09:58:13.130Z"
   },
   {
    "duration": 46,
    "start_time": "2021-07-23T09:58:13.156Z"
   },
   {
    "duration": 56,
    "start_time": "2021-07-23T09:58:13.205Z"
   },
   {
    "duration": 15,
    "start_time": "2021-07-23T09:58:13.263Z"
   },
   {
    "duration": 24,
    "start_time": "2021-07-23T09:58:13.281Z"
   },
   {
    "duration": 27,
    "start_time": "2021-07-23T09:58:13.308Z"
   },
   {
    "duration": 367,
    "start_time": "2021-07-23T09:58:13.337Z"
   },
   {
    "duration": 458,
    "start_time": "2021-07-23T09:58:13.707Z"
   },
   {
    "duration": 10,
    "start_time": "2021-07-23T09:58:14.168Z"
   },
   {
    "duration": 11,
    "start_time": "2021-07-23T09:58:14.181Z"
   }
  ],
  "kernelspec": {
   "display_name": "Python 3",
   "language": "python",
   "name": "python3"
  },
  "language_info": {
   "codemirror_mode": {
    "name": "ipython",
    "version": 3
   },
   "file_extension": ".py",
   "mimetype": "text/x-python",
   "name": "python",
   "nbconvert_exporter": "python",
   "pygments_lexer": "ipython3",
   "version": "3.7.8"
  },
  "toc": {
   "base_numbering": 1,
   "nav_menu": {},
   "number_sections": true,
   "sideBar": true,
   "skip_h1_title": true,
   "title_cell": "Table of Contents",
   "title_sidebar": "Contents",
   "toc_cell": false,
   "toc_position": {},
   "toc_section_display": true,
   "toc_window_display": true
  }
 },
 "nbformat": 4,
 "nbformat_minor": 2
}
