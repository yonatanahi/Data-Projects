{
 "cells": [
  {
   "cell_type": "markdown",
   "metadata": {},
   "source": [
    "**Review**\n",
    "\n",
    "Hi, my name is Dmitry and I will be reviewing your project.\n",
    "  \n",
    "You can find my comments in colored markdown cells:\n",
    "  \n",
    "<div class=\"alert alert-success\">\n",
    "  If everything is done successfully.\n",
    "</div>\n",
    "  \n",
    "<div class=\"alert alert-warning\">\n",
    "  If I have some (optional) suggestions, or questions to think about, or general comments.\n",
    "</div>\n",
    "  \n",
    "<div class=\"alert alert-danger\">\n",
    "  If a section requires some corrections. Work can't be accepted with red comments.\n",
    "</div>\n",
    "  \n",
    "Please don't remove my comments, as it will make further review iterations much harder for me.\n",
    "  \n",
    "Feel free to reply to my comments or ask questions using the following template:\n",
    "  \n",
    "<div class=\"alert alert-info\">\n",
    "  For your comments and questions.\n",
    "</div>\n",
    "  \n",
    "First of all, thank you for turning in the project! You did an excellent job overall! There's just one small suggestion for improvement: applying oversampling to the whole cross-validation dataset is problematic, but as oversampling is not applied to the test set, at least we're getting correct test set scores :) See the comment below for more information on that. The code is accepted. Based on your best model's ROC-AUC, you've got 6 SP. Congratulations!"
   ]
  },
  {
   "cell_type": "markdown",
   "metadata": {},
   "source": [
    "# Final Project"
   ]
  },
  {
   "cell_type": "markdown",
   "metadata": {},
   "source": [
    "The telecom operator Interconnect would like to be able to forecast their churn of clients. If it's discovered that a user is planning to leave, they will be offered promotional codes and special plan options. Interconnect's marketing team has collected some of their clientele's personal data, including information about their plans and contracts.\n",
    "\n",
    "## Interconnect's services\n",
    "\n",
    "Interconnect mainly provides two types of services:\n",
    "\n",
    "1. Landline communication. The telephone can be connected to several lines simultaneously.\n",
    "2. Internet. The network can be set up via a telephone line (DSL, *digital subscriber line*) or through a fiber optic cable.\n",
    "\n",
    "Some other services the company provides include:\n",
    "\n",
    "- Internet security: antivirus software (*DeviceProtection*) and a malicious website blocker (*OnlineSecurity*)\n",
    "- A dedicated technical support line (*TechSupport*)\n",
    "- Cloud file storage and data backup (*OnlineBackup*)\n",
    "- TV streaming (*StreamingTV*) and a movie directory (*StreamingMovies*)\n",
    "\n",
    "The clients can choose either a monthly payment or sign a 1- or 2-year contract. They can use various payment methods and receive an electronic invoice after a transaction.\n",
    "\n",
    "## Data Description\n",
    "\n",
    "The data consists of files obtained from different sources:\n",
    "\n",
    "- `contract.csv` — contract information\n",
    "- `personal.csv` — the client's personal data\n",
    "- `internet.csv` — information about Internet services\n",
    "- `phone.csv` — information about telephone services\n",
    "\n",
    "In each file, the column `customerID` contains a unique code assigned to each client.\n",
    "\n",
    "The contract information is valid as of February 1, 2020.\n",
    "\n",
    "## Clarification: Summary \n",
    "Target feature: the `'EndDate'` column equals `'No'`.\n",
    "\n",
    "Primary metric: AUC-ROC.\n",
    "\n",
    "Additional metric: Accuracy.\n",
    "\n",
    "Assessment criteria:\n",
    "\n",
    "- AUC-ROC < 0.75 — 0 SP\n",
    "- 0.75 ≤ AUC-ROC < 0.81 — 4 SP\n",
    "- 0.81 ≤ AUC-ROC < 0.85 — 4.5 SP\n",
    "- 0.85 ≤ AUC-ROC < 0.87 — 5 SP\n",
    "- 0.87 ≤ AUC-ROC < 0.88 — 5.5 SP\n",
    "- AUC-ROC ≥ 0.88 — 6 SP"
   ]
  },
  {
   "cell_type": "markdown",
   "metadata": {},
   "source": [
    "## Preprocessing"
   ]
  },
  {
   "cell_type": "code",
   "execution_count": 1,
   "metadata": {},
   "outputs": [
    {
     "name": "stdout",
     "output_type": "stream",
     "text": [
      "Defaulting to user installation because normal site-packages is not writeable\n",
      "\u001b[33mWARNING: Retrying (Retry(total=4, connect=None, read=None, redirect=None, status=None)) after connection broken by 'ReadTimeoutError(\"HTTPSConnectionPool(host='pypi.org', port=443): Read timed out. (read timeout=15)\")': /simple/imbalanced-learn/\u001b[0m\n",
      "\u001b[33mWARNING: Retrying (Retry(total=3, connect=None, read=None, redirect=None, status=None)) after connection broken by 'ReadTimeoutError(\"HTTPSConnectionPool(host='pypi.org', port=443): Read timed out. (read timeout=15)\")': /simple/imbalanced-learn/\u001b[0m\n",
      "\u001b[33mWARNING: Retrying (Retry(total=2, connect=None, read=None, redirect=None, status=None)) after connection broken by 'ReadTimeoutError(\"HTTPSConnectionPool(host='pypi.org', port=443): Read timed out. (read timeout=15)\")': /simple/imbalanced-learn/\u001b[0m\n",
      "\u001b[33mWARNING: Retrying (Retry(total=1, connect=None, read=None, redirect=None, status=None)) after connection broken by 'ReadTimeoutError(\"HTTPSConnectionPool(host='pypi.org', port=443): Read timed out. (read timeout=15)\")': /simple/imbalanced-learn/\u001b[0m\n",
      "\u001b[33mWARNING: Retrying (Retry(total=0, connect=None, read=None, redirect=None, status=None)) after connection broken by 'ReadTimeoutError(\"HTTPSConnectionPool(host='pypi.org', port=443): Read timed out. (read timeout=15)\")': /simple/imbalanced-learn/\u001b[0m\n",
      "Requirement already up-to-date: imbalanced-learn in /home/jovyan/.local/lib/python3.7/site-packages (0.8.1)\n",
      "Requirement already satisfied, skipping upgrade: numpy>=1.13.3 in /opt/conda/lib/python3.7/site-packages (from imbalanced-learn) (1.19.5)\n",
      "Requirement already satisfied, skipping upgrade: scipy>=0.19.1 in /opt/conda/lib/python3.7/site-packages (from imbalanced-learn) (1.4.1)\n",
      "Requirement already satisfied, skipping upgrade: joblib>=0.11 in /opt/conda/lib/python3.7/site-packages (from imbalanced-learn) (1.0.1)\n",
      "Requirement already satisfied, skipping upgrade: scikit-learn>=0.24 in /home/jovyan/.local/lib/python3.7/site-packages (from imbalanced-learn) (1.0.1)\n",
      "Requirement already satisfied, skipping upgrade: threadpoolctl>=2.0.0 in /home/jovyan/.local/lib/python3.7/site-packages (from scikit-learn>=0.24->imbalanced-learn) (3.0.0)\n",
      "Note: you may need to restart the kernel to use updated packages.\n"
     ]
    }
   ],
   "source": [
    "pip install -U imbalanced-learn"
   ]
  },
  {
   "cell_type": "markdown",
   "metadata": {},
   "source": [
    "### Imports"
   ]
  },
  {
   "cell_type": "code",
   "execution_count": 2,
   "metadata": {},
   "outputs": [],
   "source": [
    "import pandas as pd\n",
    "import numpy as np\n",
    "import matplotlib.pyplot as plt\n",
    "import seaborn as sns\n",
    "import datetime\n",
    "\n",
    "from imblearn.over_sampling import RandomOverSampler\n",
    "from IPython.display import display\n",
    "import sys\n",
    "import warnings\n",
    "if not sys.warnoptions:\n",
    "    warnings.simplefilter(\"ignore\")\n",
    "\n",
    "from sklearn.model_selection import cross_val_score, GridSearchCV\n",
    "from sklearn.preprocessing import StandardScaler\n",
    "from sklearn.metrics import f1_score, roc_auc_score, accuracy_score\n",
    "from sklearn.model_selection import train_test_split\n",
    "from sklearn.pipeline import Pipeline\n",
    "from sklearn.decomposition import PCA\n",
    "\n",
    "from sklearn.dummy import DummyClassifier\n",
    "from sklearn.linear_model import LogisticRegression\n",
    "from sklearn.ensemble import RandomForestClassifier\n",
    "from catboost import CatBoostClassifier, Pool"
   ]
  },
  {
   "cell_type": "code",
   "execution_count": 3,
   "metadata": {},
   "outputs": [],
   "source": [
    "def general_info(path):\n",
    "    df = pd.read_csv(path)  \n",
    "    display('Head:', df.head())\n",
    "    display('Info:')\n",
    "    display(df.info())\n",
    "    display('Description:', df.describe())\n",
    "    display('Missing values:', df.isna().sum())\n",
    "    display('Duplicates:', df.duplicated().sum())\n",
    "    return df"
   ]
  },
  {
   "cell_type": "markdown",
   "metadata": {},
   "source": [
    "### Tables"
   ]
  },
  {
   "cell_type": "markdown",
   "metadata": {},
   "source": [
    "#### Contract"
   ]
  },
  {
   "cell_type": "code",
   "execution_count": 4,
   "metadata": {
    "scrolled": false
   },
   "outputs": [
    {
     "data": {
      "text/plain": [
       "'Head:'"
      ]
     },
     "metadata": {},
     "output_type": "display_data"
    },
    {
     "data": {
      "text/html": [
       "<div>\n",
       "<style scoped>\n",
       "    .dataframe tbody tr th:only-of-type {\n",
       "        vertical-align: middle;\n",
       "    }\n",
       "\n",
       "    .dataframe tbody tr th {\n",
       "        vertical-align: top;\n",
       "    }\n",
       "\n",
       "    .dataframe thead th {\n",
       "        text-align: right;\n",
       "    }\n",
       "</style>\n",
       "<table border=\"1\" class=\"dataframe\">\n",
       "  <thead>\n",
       "    <tr style=\"text-align: right;\">\n",
       "      <th></th>\n",
       "      <th>customerID</th>\n",
       "      <th>BeginDate</th>\n",
       "      <th>EndDate</th>\n",
       "      <th>Type</th>\n",
       "      <th>PaperlessBilling</th>\n",
       "      <th>PaymentMethod</th>\n",
       "      <th>MonthlyCharges</th>\n",
       "      <th>TotalCharges</th>\n",
       "    </tr>\n",
       "  </thead>\n",
       "  <tbody>\n",
       "    <tr>\n",
       "      <td>0</td>\n",
       "      <td>7590-VHVEG</td>\n",
       "      <td>2020-01-01</td>\n",
       "      <td>No</td>\n",
       "      <td>Month-to-month</td>\n",
       "      <td>Yes</td>\n",
       "      <td>Electronic check</td>\n",
       "      <td>29.85</td>\n",
       "      <td>29.85</td>\n",
       "    </tr>\n",
       "    <tr>\n",
       "      <td>1</td>\n",
       "      <td>5575-GNVDE</td>\n",
       "      <td>2017-04-01</td>\n",
       "      <td>No</td>\n",
       "      <td>One year</td>\n",
       "      <td>No</td>\n",
       "      <td>Mailed check</td>\n",
       "      <td>56.95</td>\n",
       "      <td>1889.5</td>\n",
       "    </tr>\n",
       "    <tr>\n",
       "      <td>2</td>\n",
       "      <td>3668-QPYBK</td>\n",
       "      <td>2019-10-01</td>\n",
       "      <td>2019-12-01 00:00:00</td>\n",
       "      <td>Month-to-month</td>\n",
       "      <td>Yes</td>\n",
       "      <td>Mailed check</td>\n",
       "      <td>53.85</td>\n",
       "      <td>108.15</td>\n",
       "    </tr>\n",
       "    <tr>\n",
       "      <td>3</td>\n",
       "      <td>7795-CFOCW</td>\n",
       "      <td>2016-05-01</td>\n",
       "      <td>No</td>\n",
       "      <td>One year</td>\n",
       "      <td>No</td>\n",
       "      <td>Bank transfer (automatic)</td>\n",
       "      <td>42.30</td>\n",
       "      <td>1840.75</td>\n",
       "    </tr>\n",
       "    <tr>\n",
       "      <td>4</td>\n",
       "      <td>9237-HQITU</td>\n",
       "      <td>2019-09-01</td>\n",
       "      <td>2019-11-01 00:00:00</td>\n",
       "      <td>Month-to-month</td>\n",
       "      <td>Yes</td>\n",
       "      <td>Electronic check</td>\n",
       "      <td>70.70</td>\n",
       "      <td>151.65</td>\n",
       "    </tr>\n",
       "  </tbody>\n",
       "</table>\n",
       "</div>"
      ],
      "text/plain": [
       "   customerID   BeginDate              EndDate            Type  \\\n",
       "0  7590-VHVEG  2020-01-01                   No  Month-to-month   \n",
       "1  5575-GNVDE  2017-04-01                   No        One year   \n",
       "2  3668-QPYBK  2019-10-01  2019-12-01 00:00:00  Month-to-month   \n",
       "3  7795-CFOCW  2016-05-01                   No        One year   \n",
       "4  9237-HQITU  2019-09-01  2019-11-01 00:00:00  Month-to-month   \n",
       "\n",
       "  PaperlessBilling              PaymentMethod  MonthlyCharges TotalCharges  \n",
       "0              Yes           Electronic check           29.85        29.85  \n",
       "1               No               Mailed check           56.95       1889.5  \n",
       "2              Yes               Mailed check           53.85       108.15  \n",
       "3               No  Bank transfer (automatic)           42.30      1840.75  \n",
       "4              Yes           Electronic check           70.70       151.65  "
      ]
     },
     "metadata": {},
     "output_type": "display_data"
    },
    {
     "data": {
      "text/plain": [
       "'Info:'"
      ]
     },
     "metadata": {},
     "output_type": "display_data"
    },
    {
     "name": "stdout",
     "output_type": "stream",
     "text": [
      "<class 'pandas.core.frame.DataFrame'>\n",
      "RangeIndex: 7043 entries, 0 to 7042\n",
      "Data columns (total 8 columns):\n",
      "customerID          7043 non-null object\n",
      "BeginDate           7043 non-null object\n",
      "EndDate             7043 non-null object\n",
      "Type                7043 non-null object\n",
      "PaperlessBilling    7043 non-null object\n",
      "PaymentMethod       7043 non-null object\n",
      "MonthlyCharges      7043 non-null float64\n",
      "TotalCharges        7043 non-null object\n",
      "dtypes: float64(1), object(7)\n",
      "memory usage: 440.3+ KB\n"
     ]
    },
    {
     "data": {
      "text/plain": [
       "None"
      ]
     },
     "metadata": {},
     "output_type": "display_data"
    },
    {
     "data": {
      "text/plain": [
       "'Description:'"
      ]
     },
     "metadata": {},
     "output_type": "display_data"
    },
    {
     "data": {
      "text/html": [
       "<div>\n",
       "<style scoped>\n",
       "    .dataframe tbody tr th:only-of-type {\n",
       "        vertical-align: middle;\n",
       "    }\n",
       "\n",
       "    .dataframe tbody tr th {\n",
       "        vertical-align: top;\n",
       "    }\n",
       "\n",
       "    .dataframe thead th {\n",
       "        text-align: right;\n",
       "    }\n",
       "</style>\n",
       "<table border=\"1\" class=\"dataframe\">\n",
       "  <thead>\n",
       "    <tr style=\"text-align: right;\">\n",
       "      <th></th>\n",
       "      <th>MonthlyCharges</th>\n",
       "    </tr>\n",
       "  </thead>\n",
       "  <tbody>\n",
       "    <tr>\n",
       "      <td>count</td>\n",
       "      <td>7043.000000</td>\n",
       "    </tr>\n",
       "    <tr>\n",
       "      <td>mean</td>\n",
       "      <td>64.761692</td>\n",
       "    </tr>\n",
       "    <tr>\n",
       "      <td>std</td>\n",
       "      <td>30.090047</td>\n",
       "    </tr>\n",
       "    <tr>\n",
       "      <td>min</td>\n",
       "      <td>18.250000</td>\n",
       "    </tr>\n",
       "    <tr>\n",
       "      <td>25%</td>\n",
       "      <td>35.500000</td>\n",
       "    </tr>\n",
       "    <tr>\n",
       "      <td>50%</td>\n",
       "      <td>70.350000</td>\n",
       "    </tr>\n",
       "    <tr>\n",
       "      <td>75%</td>\n",
       "      <td>89.850000</td>\n",
       "    </tr>\n",
       "    <tr>\n",
       "      <td>max</td>\n",
       "      <td>118.750000</td>\n",
       "    </tr>\n",
       "  </tbody>\n",
       "</table>\n",
       "</div>"
      ],
      "text/plain": [
       "       MonthlyCharges\n",
       "count     7043.000000\n",
       "mean        64.761692\n",
       "std         30.090047\n",
       "min         18.250000\n",
       "25%         35.500000\n",
       "50%         70.350000\n",
       "75%         89.850000\n",
       "max        118.750000"
      ]
     },
     "metadata": {},
     "output_type": "display_data"
    },
    {
     "data": {
      "text/plain": [
       "'Missing values:'"
      ]
     },
     "metadata": {},
     "output_type": "display_data"
    },
    {
     "data": {
      "text/plain": [
       "customerID          0\n",
       "BeginDate           0\n",
       "EndDate             0\n",
       "Type                0\n",
       "PaperlessBilling    0\n",
       "PaymentMethod       0\n",
       "MonthlyCharges      0\n",
       "TotalCharges        0\n",
       "dtype: int64"
      ]
     },
     "metadata": {},
     "output_type": "display_data"
    },
    {
     "data": {
      "text/plain": [
       "'Duplicates:'"
      ]
     },
     "metadata": {},
     "output_type": "display_data"
    },
    {
     "data": {
      "text/plain": [
       "0"
      ]
     },
     "metadata": {},
     "output_type": "display_data"
    }
   ],
   "source": [
    "contract = general_info('/datasets/final_provider/contract.csv')"
   ]
  },
  {
   "cell_type": "markdown",
   "metadata": {},
   "source": [
    "**Visible problems:**\n",
    "* EndDate column has 'No' values instead of generic date.\n",
    "* Type, PaperlessBilling & PaymentMethod columns have descriptive strings instead of numbers.\n",
    "* BeginDate & EndDate columns have to be coverted to date type.\n",
    "* Type & PaperlessBilling columns have to be coverted to binary type.\n",
    "* PaymentMethod column has to be coverted to category type.\n",
    "* TotalCharges column has to be coverted to float type.\n",
    "* MonthlyCharges column has NaN values.\n",
    "* Most of the values in EndDate column are 'No' values. Because this column is our target column, we can say that the data set is imbalanced."
   ]
  },
  {
   "cell_type": "markdown",
   "metadata": {},
   "source": [
    "#### Personal"
   ]
  },
  {
   "cell_type": "code",
   "execution_count": 5,
   "metadata": {
    "scrolled": false
   },
   "outputs": [
    {
     "data": {
      "text/plain": [
       "'Head:'"
      ]
     },
     "metadata": {},
     "output_type": "display_data"
    },
    {
     "data": {
      "text/html": [
       "<div>\n",
       "<style scoped>\n",
       "    .dataframe tbody tr th:only-of-type {\n",
       "        vertical-align: middle;\n",
       "    }\n",
       "\n",
       "    .dataframe tbody tr th {\n",
       "        vertical-align: top;\n",
       "    }\n",
       "\n",
       "    .dataframe thead th {\n",
       "        text-align: right;\n",
       "    }\n",
       "</style>\n",
       "<table border=\"1\" class=\"dataframe\">\n",
       "  <thead>\n",
       "    <tr style=\"text-align: right;\">\n",
       "      <th></th>\n",
       "      <th>customerID</th>\n",
       "      <th>gender</th>\n",
       "      <th>SeniorCitizen</th>\n",
       "      <th>Partner</th>\n",
       "      <th>Dependents</th>\n",
       "    </tr>\n",
       "  </thead>\n",
       "  <tbody>\n",
       "    <tr>\n",
       "      <td>0</td>\n",
       "      <td>7590-VHVEG</td>\n",
       "      <td>Female</td>\n",
       "      <td>0</td>\n",
       "      <td>Yes</td>\n",
       "      <td>No</td>\n",
       "    </tr>\n",
       "    <tr>\n",
       "      <td>1</td>\n",
       "      <td>5575-GNVDE</td>\n",
       "      <td>Male</td>\n",
       "      <td>0</td>\n",
       "      <td>No</td>\n",
       "      <td>No</td>\n",
       "    </tr>\n",
       "    <tr>\n",
       "      <td>2</td>\n",
       "      <td>3668-QPYBK</td>\n",
       "      <td>Male</td>\n",
       "      <td>0</td>\n",
       "      <td>No</td>\n",
       "      <td>No</td>\n",
       "    </tr>\n",
       "    <tr>\n",
       "      <td>3</td>\n",
       "      <td>7795-CFOCW</td>\n",
       "      <td>Male</td>\n",
       "      <td>0</td>\n",
       "      <td>No</td>\n",
       "      <td>No</td>\n",
       "    </tr>\n",
       "    <tr>\n",
       "      <td>4</td>\n",
       "      <td>9237-HQITU</td>\n",
       "      <td>Female</td>\n",
       "      <td>0</td>\n",
       "      <td>No</td>\n",
       "      <td>No</td>\n",
       "    </tr>\n",
       "  </tbody>\n",
       "</table>\n",
       "</div>"
      ],
      "text/plain": [
       "   customerID  gender  SeniorCitizen Partner Dependents\n",
       "0  7590-VHVEG  Female              0     Yes         No\n",
       "1  5575-GNVDE    Male              0      No         No\n",
       "2  3668-QPYBK    Male              0      No         No\n",
       "3  7795-CFOCW    Male              0      No         No\n",
       "4  9237-HQITU  Female              0      No         No"
      ]
     },
     "metadata": {},
     "output_type": "display_data"
    },
    {
     "data": {
      "text/plain": [
       "'Info:'"
      ]
     },
     "metadata": {},
     "output_type": "display_data"
    },
    {
     "name": "stdout",
     "output_type": "stream",
     "text": [
      "<class 'pandas.core.frame.DataFrame'>\n",
      "RangeIndex: 7043 entries, 0 to 7042\n",
      "Data columns (total 5 columns):\n",
      "customerID       7043 non-null object\n",
      "gender           7043 non-null object\n",
      "SeniorCitizen    7043 non-null int64\n",
      "Partner          7043 non-null object\n",
      "Dependents       7043 non-null object\n",
      "dtypes: int64(1), object(4)\n",
      "memory usage: 275.2+ KB\n"
     ]
    },
    {
     "data": {
      "text/plain": [
       "None"
      ]
     },
     "metadata": {},
     "output_type": "display_data"
    },
    {
     "data": {
      "text/plain": [
       "'Description:'"
      ]
     },
     "metadata": {},
     "output_type": "display_data"
    },
    {
     "data": {
      "text/html": [
       "<div>\n",
       "<style scoped>\n",
       "    .dataframe tbody tr th:only-of-type {\n",
       "        vertical-align: middle;\n",
       "    }\n",
       "\n",
       "    .dataframe tbody tr th {\n",
       "        vertical-align: top;\n",
       "    }\n",
       "\n",
       "    .dataframe thead th {\n",
       "        text-align: right;\n",
       "    }\n",
       "</style>\n",
       "<table border=\"1\" class=\"dataframe\">\n",
       "  <thead>\n",
       "    <tr style=\"text-align: right;\">\n",
       "      <th></th>\n",
       "      <th>SeniorCitizen</th>\n",
       "    </tr>\n",
       "  </thead>\n",
       "  <tbody>\n",
       "    <tr>\n",
       "      <td>count</td>\n",
       "      <td>7043.000000</td>\n",
       "    </tr>\n",
       "    <tr>\n",
       "      <td>mean</td>\n",
       "      <td>0.162147</td>\n",
       "    </tr>\n",
       "    <tr>\n",
       "      <td>std</td>\n",
       "      <td>0.368612</td>\n",
       "    </tr>\n",
       "    <tr>\n",
       "      <td>min</td>\n",
       "      <td>0.000000</td>\n",
       "    </tr>\n",
       "    <tr>\n",
       "      <td>25%</td>\n",
       "      <td>0.000000</td>\n",
       "    </tr>\n",
       "    <tr>\n",
       "      <td>50%</td>\n",
       "      <td>0.000000</td>\n",
       "    </tr>\n",
       "    <tr>\n",
       "      <td>75%</td>\n",
       "      <td>0.000000</td>\n",
       "    </tr>\n",
       "    <tr>\n",
       "      <td>max</td>\n",
       "      <td>1.000000</td>\n",
       "    </tr>\n",
       "  </tbody>\n",
       "</table>\n",
       "</div>"
      ],
      "text/plain": [
       "       SeniorCitizen\n",
       "count    7043.000000\n",
       "mean        0.162147\n",
       "std         0.368612\n",
       "min         0.000000\n",
       "25%         0.000000\n",
       "50%         0.000000\n",
       "75%         0.000000\n",
       "max         1.000000"
      ]
     },
     "metadata": {},
     "output_type": "display_data"
    },
    {
     "data": {
      "text/plain": [
       "'Missing values:'"
      ]
     },
     "metadata": {},
     "output_type": "display_data"
    },
    {
     "data": {
      "text/plain": [
       "customerID       0\n",
       "gender           0\n",
       "SeniorCitizen    0\n",
       "Partner          0\n",
       "Dependents       0\n",
       "dtype: int64"
      ]
     },
     "metadata": {},
     "output_type": "display_data"
    },
    {
     "data": {
      "text/plain": [
       "'Duplicates:'"
      ]
     },
     "metadata": {},
     "output_type": "display_data"
    },
    {
     "data": {
      "text/plain": [
       "0"
      ]
     },
     "metadata": {},
     "output_type": "display_data"
    }
   ],
   "source": [
    "personal = general_info('/datasets/final_provider/personal.csv')"
   ]
  },
  {
   "cell_type": "markdown",
   "metadata": {},
   "source": [
    "**Visible problems:**\n",
    "* SeniorCitizen column has NaN values.\n",
    "* gender, Partner & Dependents columns have string values instead of binary values.\n",
    "* gender, SeniorCitizen, Partner & Dependents columns have to be coverted to binary type."
   ]
  },
  {
   "cell_type": "markdown",
   "metadata": {},
   "source": [
    "#### Internet"
   ]
  },
  {
   "cell_type": "code",
   "execution_count": 6,
   "metadata": {
    "scrolled": false
   },
   "outputs": [
    {
     "data": {
      "text/plain": [
       "'Head:'"
      ]
     },
     "metadata": {},
     "output_type": "display_data"
    },
    {
     "data": {
      "text/html": [
       "<div>\n",
       "<style scoped>\n",
       "    .dataframe tbody tr th:only-of-type {\n",
       "        vertical-align: middle;\n",
       "    }\n",
       "\n",
       "    .dataframe tbody tr th {\n",
       "        vertical-align: top;\n",
       "    }\n",
       "\n",
       "    .dataframe thead th {\n",
       "        text-align: right;\n",
       "    }\n",
       "</style>\n",
       "<table border=\"1\" class=\"dataframe\">\n",
       "  <thead>\n",
       "    <tr style=\"text-align: right;\">\n",
       "      <th></th>\n",
       "      <th>customerID</th>\n",
       "      <th>InternetService</th>\n",
       "      <th>OnlineSecurity</th>\n",
       "      <th>OnlineBackup</th>\n",
       "      <th>DeviceProtection</th>\n",
       "      <th>TechSupport</th>\n",
       "      <th>StreamingTV</th>\n",
       "      <th>StreamingMovies</th>\n",
       "    </tr>\n",
       "  </thead>\n",
       "  <tbody>\n",
       "    <tr>\n",
       "      <td>0</td>\n",
       "      <td>7590-VHVEG</td>\n",
       "      <td>DSL</td>\n",
       "      <td>No</td>\n",
       "      <td>Yes</td>\n",
       "      <td>No</td>\n",
       "      <td>No</td>\n",
       "      <td>No</td>\n",
       "      <td>No</td>\n",
       "    </tr>\n",
       "    <tr>\n",
       "      <td>1</td>\n",
       "      <td>5575-GNVDE</td>\n",
       "      <td>DSL</td>\n",
       "      <td>Yes</td>\n",
       "      <td>No</td>\n",
       "      <td>Yes</td>\n",
       "      <td>No</td>\n",
       "      <td>No</td>\n",
       "      <td>No</td>\n",
       "    </tr>\n",
       "    <tr>\n",
       "      <td>2</td>\n",
       "      <td>3668-QPYBK</td>\n",
       "      <td>DSL</td>\n",
       "      <td>Yes</td>\n",
       "      <td>Yes</td>\n",
       "      <td>No</td>\n",
       "      <td>No</td>\n",
       "      <td>No</td>\n",
       "      <td>No</td>\n",
       "    </tr>\n",
       "    <tr>\n",
       "      <td>3</td>\n",
       "      <td>7795-CFOCW</td>\n",
       "      <td>DSL</td>\n",
       "      <td>Yes</td>\n",
       "      <td>No</td>\n",
       "      <td>Yes</td>\n",
       "      <td>Yes</td>\n",
       "      <td>No</td>\n",
       "      <td>No</td>\n",
       "    </tr>\n",
       "    <tr>\n",
       "      <td>4</td>\n",
       "      <td>9237-HQITU</td>\n",
       "      <td>Fiber optic</td>\n",
       "      <td>No</td>\n",
       "      <td>No</td>\n",
       "      <td>No</td>\n",
       "      <td>No</td>\n",
       "      <td>No</td>\n",
       "      <td>No</td>\n",
       "    </tr>\n",
       "  </tbody>\n",
       "</table>\n",
       "</div>"
      ],
      "text/plain": [
       "   customerID InternetService OnlineSecurity OnlineBackup DeviceProtection  \\\n",
       "0  7590-VHVEG             DSL             No          Yes               No   \n",
       "1  5575-GNVDE             DSL            Yes           No              Yes   \n",
       "2  3668-QPYBK             DSL            Yes          Yes               No   \n",
       "3  7795-CFOCW             DSL            Yes           No              Yes   \n",
       "4  9237-HQITU     Fiber optic             No           No               No   \n",
       "\n",
       "  TechSupport StreamingTV StreamingMovies  \n",
       "0          No          No              No  \n",
       "1          No          No              No  \n",
       "2          No          No              No  \n",
       "3         Yes          No              No  \n",
       "4          No          No              No  "
      ]
     },
     "metadata": {},
     "output_type": "display_data"
    },
    {
     "data": {
      "text/plain": [
       "'Info:'"
      ]
     },
     "metadata": {},
     "output_type": "display_data"
    },
    {
     "name": "stdout",
     "output_type": "stream",
     "text": [
      "<class 'pandas.core.frame.DataFrame'>\n",
      "RangeIndex: 5517 entries, 0 to 5516\n",
      "Data columns (total 8 columns):\n",
      "customerID          5517 non-null object\n",
      "InternetService     5517 non-null object\n",
      "OnlineSecurity      5517 non-null object\n",
      "OnlineBackup        5517 non-null object\n",
      "DeviceProtection    5517 non-null object\n",
      "TechSupport         5517 non-null object\n",
      "StreamingTV         5517 non-null object\n",
      "StreamingMovies     5517 non-null object\n",
      "dtypes: object(8)\n",
      "memory usage: 344.9+ KB\n"
     ]
    },
    {
     "data": {
      "text/plain": [
       "None"
      ]
     },
     "metadata": {},
     "output_type": "display_data"
    },
    {
     "data": {
      "text/plain": [
       "'Description:'"
      ]
     },
     "metadata": {},
     "output_type": "display_data"
    },
    {
     "data": {
      "text/html": [
       "<div>\n",
       "<style scoped>\n",
       "    .dataframe tbody tr th:only-of-type {\n",
       "        vertical-align: middle;\n",
       "    }\n",
       "\n",
       "    .dataframe tbody tr th {\n",
       "        vertical-align: top;\n",
       "    }\n",
       "\n",
       "    .dataframe thead th {\n",
       "        text-align: right;\n",
       "    }\n",
       "</style>\n",
       "<table border=\"1\" class=\"dataframe\">\n",
       "  <thead>\n",
       "    <tr style=\"text-align: right;\">\n",
       "      <th></th>\n",
       "      <th>customerID</th>\n",
       "      <th>InternetService</th>\n",
       "      <th>OnlineSecurity</th>\n",
       "      <th>OnlineBackup</th>\n",
       "      <th>DeviceProtection</th>\n",
       "      <th>TechSupport</th>\n",
       "      <th>StreamingTV</th>\n",
       "      <th>StreamingMovies</th>\n",
       "    </tr>\n",
       "  </thead>\n",
       "  <tbody>\n",
       "    <tr>\n",
       "      <td>count</td>\n",
       "      <td>5517</td>\n",
       "      <td>5517</td>\n",
       "      <td>5517</td>\n",
       "      <td>5517</td>\n",
       "      <td>5517</td>\n",
       "      <td>5517</td>\n",
       "      <td>5517</td>\n",
       "      <td>5517</td>\n",
       "    </tr>\n",
       "    <tr>\n",
       "      <td>unique</td>\n",
       "      <td>5517</td>\n",
       "      <td>2</td>\n",
       "      <td>2</td>\n",
       "      <td>2</td>\n",
       "      <td>2</td>\n",
       "      <td>2</td>\n",
       "      <td>2</td>\n",
       "      <td>2</td>\n",
       "    </tr>\n",
       "    <tr>\n",
       "      <td>top</td>\n",
       "      <td>9620-ENEJV</td>\n",
       "      <td>Fiber optic</td>\n",
       "      <td>No</td>\n",
       "      <td>No</td>\n",
       "      <td>No</td>\n",
       "      <td>No</td>\n",
       "      <td>No</td>\n",
       "      <td>No</td>\n",
       "    </tr>\n",
       "    <tr>\n",
       "      <td>freq</td>\n",
       "      <td>1</td>\n",
       "      <td>3096</td>\n",
       "      <td>3498</td>\n",
       "      <td>3088</td>\n",
       "      <td>3095</td>\n",
       "      <td>3473</td>\n",
       "      <td>2810</td>\n",
       "      <td>2785</td>\n",
       "    </tr>\n",
       "  </tbody>\n",
       "</table>\n",
       "</div>"
      ],
      "text/plain": [
       "        customerID InternetService OnlineSecurity OnlineBackup  \\\n",
       "count         5517            5517           5517         5517   \n",
       "unique        5517               2              2            2   \n",
       "top     9620-ENEJV     Fiber optic             No           No   \n",
       "freq             1            3096           3498         3088   \n",
       "\n",
       "       DeviceProtection TechSupport StreamingTV StreamingMovies  \n",
       "count              5517        5517        5517            5517  \n",
       "unique                2           2           2               2  \n",
       "top                  No          No          No              No  \n",
       "freq               3095        3473        2810            2785  "
      ]
     },
     "metadata": {},
     "output_type": "display_data"
    },
    {
     "data": {
      "text/plain": [
       "'Missing values:'"
      ]
     },
     "metadata": {},
     "output_type": "display_data"
    },
    {
     "data": {
      "text/plain": [
       "customerID          0\n",
       "InternetService     0\n",
       "OnlineSecurity      0\n",
       "OnlineBackup        0\n",
       "DeviceProtection    0\n",
       "TechSupport         0\n",
       "StreamingTV         0\n",
       "StreamingMovies     0\n",
       "dtype: int64"
      ]
     },
     "metadata": {},
     "output_type": "display_data"
    },
    {
     "data": {
      "text/plain": [
       "'Duplicates:'"
      ]
     },
     "metadata": {},
     "output_type": "display_data"
    },
    {
     "data": {
      "text/plain": [
       "0"
      ]
     },
     "metadata": {},
     "output_type": "display_data"
    }
   ],
   "source": [
    "internet = general_info('/datasets/final_provider/internet.csv')"
   ]
  },
  {
   "cell_type": "markdown",
   "metadata": {},
   "source": [
    "**Visible problems:**\n",
    "* InternetService, OnlineSecurity, OnlineBackup, DeviceProtection, TechSupport, StreamingTV & StreamingMovies columns have string values instead of binary values.\n",
    "* InternetService, OnlineSecurity, OnlineBackup, DeviceProtection, TechSupport, StreamingTV & StreamingMovies columns have to be coverted to binary type."
   ]
  },
  {
   "cell_type": "markdown",
   "metadata": {},
   "source": [
    "#### Phone"
   ]
  },
  {
   "cell_type": "code",
   "execution_count": 7,
   "metadata": {
    "scrolled": false
   },
   "outputs": [
    {
     "data": {
      "text/plain": [
       "'Head:'"
      ]
     },
     "metadata": {},
     "output_type": "display_data"
    },
    {
     "data": {
      "text/html": [
       "<div>\n",
       "<style scoped>\n",
       "    .dataframe tbody tr th:only-of-type {\n",
       "        vertical-align: middle;\n",
       "    }\n",
       "\n",
       "    .dataframe tbody tr th {\n",
       "        vertical-align: top;\n",
       "    }\n",
       "\n",
       "    .dataframe thead th {\n",
       "        text-align: right;\n",
       "    }\n",
       "</style>\n",
       "<table border=\"1\" class=\"dataframe\">\n",
       "  <thead>\n",
       "    <tr style=\"text-align: right;\">\n",
       "      <th></th>\n",
       "      <th>customerID</th>\n",
       "      <th>MultipleLines</th>\n",
       "    </tr>\n",
       "  </thead>\n",
       "  <tbody>\n",
       "    <tr>\n",
       "      <td>0</td>\n",
       "      <td>5575-GNVDE</td>\n",
       "      <td>No</td>\n",
       "    </tr>\n",
       "    <tr>\n",
       "      <td>1</td>\n",
       "      <td>3668-QPYBK</td>\n",
       "      <td>No</td>\n",
       "    </tr>\n",
       "    <tr>\n",
       "      <td>2</td>\n",
       "      <td>9237-HQITU</td>\n",
       "      <td>No</td>\n",
       "    </tr>\n",
       "    <tr>\n",
       "      <td>3</td>\n",
       "      <td>9305-CDSKC</td>\n",
       "      <td>Yes</td>\n",
       "    </tr>\n",
       "    <tr>\n",
       "      <td>4</td>\n",
       "      <td>1452-KIOVK</td>\n",
       "      <td>Yes</td>\n",
       "    </tr>\n",
       "  </tbody>\n",
       "</table>\n",
       "</div>"
      ],
      "text/plain": [
       "   customerID MultipleLines\n",
       "0  5575-GNVDE            No\n",
       "1  3668-QPYBK            No\n",
       "2  9237-HQITU            No\n",
       "3  9305-CDSKC           Yes\n",
       "4  1452-KIOVK           Yes"
      ]
     },
     "metadata": {},
     "output_type": "display_data"
    },
    {
     "data": {
      "text/plain": [
       "'Info:'"
      ]
     },
     "metadata": {},
     "output_type": "display_data"
    },
    {
     "name": "stdout",
     "output_type": "stream",
     "text": [
      "<class 'pandas.core.frame.DataFrame'>\n",
      "RangeIndex: 6361 entries, 0 to 6360\n",
      "Data columns (total 2 columns):\n",
      "customerID       6361 non-null object\n",
      "MultipleLines    6361 non-null object\n",
      "dtypes: object(2)\n",
      "memory usage: 99.5+ KB\n"
     ]
    },
    {
     "data": {
      "text/plain": [
       "None"
      ]
     },
     "metadata": {},
     "output_type": "display_data"
    },
    {
     "data": {
      "text/plain": [
       "'Description:'"
      ]
     },
     "metadata": {},
     "output_type": "display_data"
    },
    {
     "data": {
      "text/html": [
       "<div>\n",
       "<style scoped>\n",
       "    .dataframe tbody tr th:only-of-type {\n",
       "        vertical-align: middle;\n",
       "    }\n",
       "\n",
       "    .dataframe tbody tr th {\n",
       "        vertical-align: top;\n",
       "    }\n",
       "\n",
       "    .dataframe thead th {\n",
       "        text-align: right;\n",
       "    }\n",
       "</style>\n",
       "<table border=\"1\" class=\"dataframe\">\n",
       "  <thead>\n",
       "    <tr style=\"text-align: right;\">\n",
       "      <th></th>\n",
       "      <th>customerID</th>\n",
       "      <th>MultipleLines</th>\n",
       "    </tr>\n",
       "  </thead>\n",
       "  <tbody>\n",
       "    <tr>\n",
       "      <td>count</td>\n",
       "      <td>6361</td>\n",
       "      <td>6361</td>\n",
       "    </tr>\n",
       "    <tr>\n",
       "      <td>unique</td>\n",
       "      <td>6361</td>\n",
       "      <td>2</td>\n",
       "    </tr>\n",
       "    <tr>\n",
       "      <td>top</td>\n",
       "      <td>9620-ENEJV</td>\n",
       "      <td>No</td>\n",
       "    </tr>\n",
       "    <tr>\n",
       "      <td>freq</td>\n",
       "      <td>1</td>\n",
       "      <td>3390</td>\n",
       "    </tr>\n",
       "  </tbody>\n",
       "</table>\n",
       "</div>"
      ],
      "text/plain": [
       "        customerID MultipleLines\n",
       "count         6361          6361\n",
       "unique        6361             2\n",
       "top     9620-ENEJV            No\n",
       "freq             1          3390"
      ]
     },
     "metadata": {},
     "output_type": "display_data"
    },
    {
     "data": {
      "text/plain": [
       "'Missing values:'"
      ]
     },
     "metadata": {},
     "output_type": "display_data"
    },
    {
     "data": {
      "text/plain": [
       "customerID       0\n",
       "MultipleLines    0\n",
       "dtype: int64"
      ]
     },
     "metadata": {},
     "output_type": "display_data"
    },
    {
     "data": {
      "text/plain": [
       "'Duplicates:'"
      ]
     },
     "metadata": {},
     "output_type": "display_data"
    },
    {
     "data": {
      "text/plain": [
       "0"
      ]
     },
     "metadata": {},
     "output_type": "display_data"
    }
   ],
   "source": [
    "phone = general_info('/datasets/final_provider/phone.csv')"
   ]
  },
  {
   "cell_type": "markdown",
   "metadata": {},
   "source": [
    "**Visible problems:**\n",
    "*  MultipleLines column has string values instead of binary values.\n",
    "*  MultipleLines column has to be coverted to binary type."
   ]
  },
  {
   "cell_type": "markdown",
   "metadata": {},
   "source": [
    "### Merging Tables"
   ]
  },
  {
   "cell_type": "code",
   "execution_count": 8,
   "metadata": {},
   "outputs": [],
   "source": [
    "df1 = contract.merge(personal, how='outer', on='customerID')\n",
    "df2 = internet.merge(phone, how='outer', on='customerID')\n",
    "df = df1.merge(df2, how='outer', on='customerID')"
   ]
  },
  {
   "cell_type": "markdown",
   "metadata": {},
   "source": [
    "#### Merged Table"
   ]
  },
  {
   "cell_type": "code",
   "execution_count": 9,
   "metadata": {},
   "outputs": [
    {
     "data": {
      "text/html": [
       "<div>\n",
       "<style scoped>\n",
       "    .dataframe tbody tr th:only-of-type {\n",
       "        vertical-align: middle;\n",
       "    }\n",
       "\n",
       "    .dataframe tbody tr th {\n",
       "        vertical-align: top;\n",
       "    }\n",
       "\n",
       "    .dataframe thead th {\n",
       "        text-align: right;\n",
       "    }\n",
       "</style>\n",
       "<table border=\"1\" class=\"dataframe\">\n",
       "  <thead>\n",
       "    <tr style=\"text-align: right;\">\n",
       "      <th></th>\n",
       "      <th>customerID</th>\n",
       "      <th>BeginDate</th>\n",
       "      <th>EndDate</th>\n",
       "      <th>Type</th>\n",
       "      <th>PaperlessBilling</th>\n",
       "      <th>PaymentMethod</th>\n",
       "      <th>MonthlyCharges</th>\n",
       "      <th>TotalCharges</th>\n",
       "      <th>gender</th>\n",
       "      <th>SeniorCitizen</th>\n",
       "      <th>Partner</th>\n",
       "      <th>Dependents</th>\n",
       "      <th>InternetService</th>\n",
       "      <th>OnlineSecurity</th>\n",
       "      <th>OnlineBackup</th>\n",
       "      <th>DeviceProtection</th>\n",
       "      <th>TechSupport</th>\n",
       "      <th>StreamingTV</th>\n",
       "      <th>StreamingMovies</th>\n",
       "      <th>MultipleLines</th>\n",
       "    </tr>\n",
       "  </thead>\n",
       "  <tbody>\n",
       "    <tr>\n",
       "      <td>0</td>\n",
       "      <td>7590-VHVEG</td>\n",
       "      <td>2020-01-01</td>\n",
       "      <td>No</td>\n",
       "      <td>Month-to-month</td>\n",
       "      <td>Yes</td>\n",
       "      <td>Electronic check</td>\n",
       "      <td>29.85</td>\n",
       "      <td>29.85</td>\n",
       "      <td>Female</td>\n",
       "      <td>0</td>\n",
       "      <td>Yes</td>\n",
       "      <td>No</td>\n",
       "      <td>DSL</td>\n",
       "      <td>No</td>\n",
       "      <td>Yes</td>\n",
       "      <td>No</td>\n",
       "      <td>No</td>\n",
       "      <td>No</td>\n",
       "      <td>No</td>\n",
       "      <td>NaN</td>\n",
       "    </tr>\n",
       "    <tr>\n",
       "      <td>1</td>\n",
       "      <td>5575-GNVDE</td>\n",
       "      <td>2017-04-01</td>\n",
       "      <td>No</td>\n",
       "      <td>One year</td>\n",
       "      <td>No</td>\n",
       "      <td>Mailed check</td>\n",
       "      <td>56.95</td>\n",
       "      <td>1889.5</td>\n",
       "      <td>Male</td>\n",
       "      <td>0</td>\n",
       "      <td>No</td>\n",
       "      <td>No</td>\n",
       "      <td>DSL</td>\n",
       "      <td>Yes</td>\n",
       "      <td>No</td>\n",
       "      <td>Yes</td>\n",
       "      <td>No</td>\n",
       "      <td>No</td>\n",
       "      <td>No</td>\n",
       "      <td>No</td>\n",
       "    </tr>\n",
       "    <tr>\n",
       "      <td>2</td>\n",
       "      <td>3668-QPYBK</td>\n",
       "      <td>2019-10-01</td>\n",
       "      <td>2019-12-01 00:00:00</td>\n",
       "      <td>Month-to-month</td>\n",
       "      <td>Yes</td>\n",
       "      <td>Mailed check</td>\n",
       "      <td>53.85</td>\n",
       "      <td>108.15</td>\n",
       "      <td>Male</td>\n",
       "      <td>0</td>\n",
       "      <td>No</td>\n",
       "      <td>No</td>\n",
       "      <td>DSL</td>\n",
       "      <td>Yes</td>\n",
       "      <td>Yes</td>\n",
       "      <td>No</td>\n",
       "      <td>No</td>\n",
       "      <td>No</td>\n",
       "      <td>No</td>\n",
       "      <td>No</td>\n",
       "    </tr>\n",
       "    <tr>\n",
       "      <td>3</td>\n",
       "      <td>7795-CFOCW</td>\n",
       "      <td>2016-05-01</td>\n",
       "      <td>No</td>\n",
       "      <td>One year</td>\n",
       "      <td>No</td>\n",
       "      <td>Bank transfer (automatic)</td>\n",
       "      <td>42.30</td>\n",
       "      <td>1840.75</td>\n",
       "      <td>Male</td>\n",
       "      <td>0</td>\n",
       "      <td>No</td>\n",
       "      <td>No</td>\n",
       "      <td>DSL</td>\n",
       "      <td>Yes</td>\n",
       "      <td>No</td>\n",
       "      <td>Yes</td>\n",
       "      <td>Yes</td>\n",
       "      <td>No</td>\n",
       "      <td>No</td>\n",
       "      <td>NaN</td>\n",
       "    </tr>\n",
       "    <tr>\n",
       "      <td>4</td>\n",
       "      <td>9237-HQITU</td>\n",
       "      <td>2019-09-01</td>\n",
       "      <td>2019-11-01 00:00:00</td>\n",
       "      <td>Month-to-month</td>\n",
       "      <td>Yes</td>\n",
       "      <td>Electronic check</td>\n",
       "      <td>70.70</td>\n",
       "      <td>151.65</td>\n",
       "      <td>Female</td>\n",
       "      <td>0</td>\n",
       "      <td>No</td>\n",
       "      <td>No</td>\n",
       "      <td>Fiber optic</td>\n",
       "      <td>No</td>\n",
       "      <td>No</td>\n",
       "      <td>No</td>\n",
       "      <td>No</td>\n",
       "      <td>No</td>\n",
       "      <td>No</td>\n",
       "      <td>No</td>\n",
       "    </tr>\n",
       "  </tbody>\n",
       "</table>\n",
       "</div>"
      ],
      "text/plain": [
       "   customerID   BeginDate              EndDate            Type  \\\n",
       "0  7590-VHVEG  2020-01-01                   No  Month-to-month   \n",
       "1  5575-GNVDE  2017-04-01                   No        One year   \n",
       "2  3668-QPYBK  2019-10-01  2019-12-01 00:00:00  Month-to-month   \n",
       "3  7795-CFOCW  2016-05-01                   No        One year   \n",
       "4  9237-HQITU  2019-09-01  2019-11-01 00:00:00  Month-to-month   \n",
       "\n",
       "  PaperlessBilling              PaymentMethod  MonthlyCharges TotalCharges  \\\n",
       "0              Yes           Electronic check           29.85        29.85   \n",
       "1               No               Mailed check           56.95       1889.5   \n",
       "2              Yes               Mailed check           53.85       108.15   \n",
       "3               No  Bank transfer (automatic)           42.30      1840.75   \n",
       "4              Yes           Electronic check           70.70       151.65   \n",
       "\n",
       "   gender  SeniorCitizen Partner Dependents InternetService OnlineSecurity  \\\n",
       "0  Female              0     Yes         No             DSL             No   \n",
       "1    Male              0      No         No             DSL            Yes   \n",
       "2    Male              0      No         No             DSL            Yes   \n",
       "3    Male              0      No         No             DSL            Yes   \n",
       "4  Female              0      No         No     Fiber optic             No   \n",
       "\n",
       "  OnlineBackup DeviceProtection TechSupport StreamingTV StreamingMovies  \\\n",
       "0          Yes               No          No          No              No   \n",
       "1           No              Yes          No          No              No   \n",
       "2          Yes               No          No          No              No   \n",
       "3           No              Yes         Yes          No              No   \n",
       "4           No               No          No          No              No   \n",
       "\n",
       "  MultipleLines  \n",
       "0           NaN  \n",
       "1            No  \n",
       "2            No  \n",
       "3           NaN  \n",
       "4            No  "
      ]
     },
     "execution_count": 9,
     "metadata": {},
     "output_type": "execute_result"
    }
   ],
   "source": [
    "df.head()"
   ]
  },
  {
   "cell_type": "markdown",
   "metadata": {},
   "source": [
    "#### Lowercase columns names"
   ]
  },
  {
   "cell_type": "code",
   "execution_count": 10,
   "metadata": {},
   "outputs": [
    {
     "data": {
      "text/plain": [
       "Index(['customerid', 'begindate', 'enddate', 'type', 'paperlessbilling',\n",
       "       'paymentmethod', 'monthlycharges', 'totalcharges', 'gender',\n",
       "       'seniorcitizen', 'partner', 'dependents', 'internetservice',\n",
       "       'onlinesecurity', 'onlinebackup', 'deviceprotection', 'techsupport',\n",
       "       'streamingtv', 'streamingmovies', 'multiplelines'],\n",
       "      dtype='object')"
      ]
     },
     "execution_count": 10,
     "metadata": {},
     "output_type": "execute_result"
    }
   ],
   "source": [
    "df.columns = df.columns.str.lower()\n",
    "df.columns"
   ]
  },
  {
   "cell_type": "markdown",
   "metadata": {},
   "source": [
    "#### Info"
   ]
  },
  {
   "cell_type": "code",
   "execution_count": 11,
   "metadata": {},
   "outputs": [
    {
     "name": "stdout",
     "output_type": "stream",
     "text": [
      "<class 'pandas.core.frame.DataFrame'>\n",
      "Int64Index: 7043 entries, 0 to 7042\n",
      "Data columns (total 20 columns):\n",
      "customerid          7043 non-null object\n",
      "begindate           7043 non-null object\n",
      "enddate             7043 non-null object\n",
      "type                7043 non-null object\n",
      "paperlessbilling    7043 non-null object\n",
      "paymentmethod       7043 non-null object\n",
      "monthlycharges      7043 non-null float64\n",
      "totalcharges        7043 non-null object\n",
      "gender              7043 non-null object\n",
      "seniorcitizen       7043 non-null int64\n",
      "partner             7043 non-null object\n",
      "dependents          7043 non-null object\n",
      "internetservice     5517 non-null object\n",
      "onlinesecurity      5517 non-null object\n",
      "onlinebackup        5517 non-null object\n",
      "deviceprotection    5517 non-null object\n",
      "techsupport         5517 non-null object\n",
      "streamingtv         5517 non-null object\n",
      "streamingmovies     5517 non-null object\n",
      "multiplelines       6361 non-null object\n",
      "dtypes: float64(1), int64(1), object(18)\n",
      "memory usage: 1.1+ MB\n"
     ]
    }
   ],
   "source": [
    "df.info()"
   ]
  },
  {
   "cell_type": "markdown",
   "metadata": {},
   "source": [
    "#### Descriptive statistics"
   ]
  },
  {
   "cell_type": "code",
   "execution_count": 12,
   "metadata": {
    "scrolled": false
   },
   "outputs": [
    {
     "data": {
      "text/html": [
       "<div>\n",
       "<style scoped>\n",
       "    .dataframe tbody tr th:only-of-type {\n",
       "        vertical-align: middle;\n",
       "    }\n",
       "\n",
       "    .dataframe tbody tr th {\n",
       "        vertical-align: top;\n",
       "    }\n",
       "\n",
       "    .dataframe thead th {\n",
       "        text-align: right;\n",
       "    }\n",
       "</style>\n",
       "<table border=\"1\" class=\"dataframe\">\n",
       "  <thead>\n",
       "    <tr style=\"text-align: right;\">\n",
       "      <th></th>\n",
       "      <th>customerid</th>\n",
       "      <th>begindate</th>\n",
       "      <th>enddate</th>\n",
       "      <th>type</th>\n",
       "      <th>paperlessbilling</th>\n",
       "      <th>paymentmethod</th>\n",
       "      <th>monthlycharges</th>\n",
       "      <th>totalcharges</th>\n",
       "      <th>gender</th>\n",
       "      <th>seniorcitizen</th>\n",
       "      <th>partner</th>\n",
       "      <th>dependents</th>\n",
       "      <th>internetservice</th>\n",
       "      <th>onlinesecurity</th>\n",
       "      <th>onlinebackup</th>\n",
       "      <th>deviceprotection</th>\n",
       "      <th>techsupport</th>\n",
       "      <th>streamingtv</th>\n",
       "      <th>streamingmovies</th>\n",
       "      <th>multiplelines</th>\n",
       "    </tr>\n",
       "  </thead>\n",
       "  <tbody>\n",
       "    <tr>\n",
       "      <td>count</td>\n",
       "      <td>7043</td>\n",
       "      <td>7043</td>\n",
       "      <td>7043</td>\n",
       "      <td>7043</td>\n",
       "      <td>7043</td>\n",
       "      <td>7043</td>\n",
       "      <td>7043.000000</td>\n",
       "      <td>7043</td>\n",
       "      <td>7043</td>\n",
       "      <td>7043.000000</td>\n",
       "      <td>7043</td>\n",
       "      <td>7043</td>\n",
       "      <td>5517</td>\n",
       "      <td>5517</td>\n",
       "      <td>5517</td>\n",
       "      <td>5517</td>\n",
       "      <td>5517</td>\n",
       "      <td>5517</td>\n",
       "      <td>5517</td>\n",
       "      <td>6361</td>\n",
       "    </tr>\n",
       "    <tr>\n",
       "      <td>unique</td>\n",
       "      <td>7043</td>\n",
       "      <td>77</td>\n",
       "      <td>5</td>\n",
       "      <td>3</td>\n",
       "      <td>2</td>\n",
       "      <td>4</td>\n",
       "      <td>NaN</td>\n",
       "      <td>6531</td>\n",
       "      <td>2</td>\n",
       "      <td>NaN</td>\n",
       "      <td>2</td>\n",
       "      <td>2</td>\n",
       "      <td>2</td>\n",
       "      <td>2</td>\n",
       "      <td>2</td>\n",
       "      <td>2</td>\n",
       "      <td>2</td>\n",
       "      <td>2</td>\n",
       "      <td>2</td>\n",
       "      <td>2</td>\n",
       "    </tr>\n",
       "    <tr>\n",
       "      <td>top</td>\n",
       "      <td>9620-ENEJV</td>\n",
       "      <td>2014-02-01</td>\n",
       "      <td>No</td>\n",
       "      <td>Month-to-month</td>\n",
       "      <td>Yes</td>\n",
       "      <td>Electronic check</td>\n",
       "      <td>NaN</td>\n",
       "      <td>20.2</td>\n",
       "      <td>Male</td>\n",
       "      <td>NaN</td>\n",
       "      <td>No</td>\n",
       "      <td>No</td>\n",
       "      <td>Fiber optic</td>\n",
       "      <td>No</td>\n",
       "      <td>No</td>\n",
       "      <td>No</td>\n",
       "      <td>No</td>\n",
       "      <td>No</td>\n",
       "      <td>No</td>\n",
       "      <td>No</td>\n",
       "    </tr>\n",
       "    <tr>\n",
       "      <td>freq</td>\n",
       "      <td>1</td>\n",
       "      <td>366</td>\n",
       "      <td>5174</td>\n",
       "      <td>3875</td>\n",
       "      <td>4171</td>\n",
       "      <td>2365</td>\n",
       "      <td>NaN</td>\n",
       "      <td>11</td>\n",
       "      <td>3555</td>\n",
       "      <td>NaN</td>\n",
       "      <td>3641</td>\n",
       "      <td>4933</td>\n",
       "      <td>3096</td>\n",
       "      <td>3498</td>\n",
       "      <td>3088</td>\n",
       "      <td>3095</td>\n",
       "      <td>3473</td>\n",
       "      <td>2810</td>\n",
       "      <td>2785</td>\n",
       "      <td>3390</td>\n",
       "    </tr>\n",
       "    <tr>\n",
       "      <td>mean</td>\n",
       "      <td>NaN</td>\n",
       "      <td>NaN</td>\n",
       "      <td>NaN</td>\n",
       "      <td>NaN</td>\n",
       "      <td>NaN</td>\n",
       "      <td>NaN</td>\n",
       "      <td>64.761692</td>\n",
       "      <td>NaN</td>\n",
       "      <td>NaN</td>\n",
       "      <td>0.162147</td>\n",
       "      <td>NaN</td>\n",
       "      <td>NaN</td>\n",
       "      <td>NaN</td>\n",
       "      <td>NaN</td>\n",
       "      <td>NaN</td>\n",
       "      <td>NaN</td>\n",
       "      <td>NaN</td>\n",
       "      <td>NaN</td>\n",
       "      <td>NaN</td>\n",
       "      <td>NaN</td>\n",
       "    </tr>\n",
       "    <tr>\n",
       "      <td>std</td>\n",
       "      <td>NaN</td>\n",
       "      <td>NaN</td>\n",
       "      <td>NaN</td>\n",
       "      <td>NaN</td>\n",
       "      <td>NaN</td>\n",
       "      <td>NaN</td>\n",
       "      <td>30.090047</td>\n",
       "      <td>NaN</td>\n",
       "      <td>NaN</td>\n",
       "      <td>0.368612</td>\n",
       "      <td>NaN</td>\n",
       "      <td>NaN</td>\n",
       "      <td>NaN</td>\n",
       "      <td>NaN</td>\n",
       "      <td>NaN</td>\n",
       "      <td>NaN</td>\n",
       "      <td>NaN</td>\n",
       "      <td>NaN</td>\n",
       "      <td>NaN</td>\n",
       "      <td>NaN</td>\n",
       "    </tr>\n",
       "    <tr>\n",
       "      <td>min</td>\n",
       "      <td>NaN</td>\n",
       "      <td>NaN</td>\n",
       "      <td>NaN</td>\n",
       "      <td>NaN</td>\n",
       "      <td>NaN</td>\n",
       "      <td>NaN</td>\n",
       "      <td>18.250000</td>\n",
       "      <td>NaN</td>\n",
       "      <td>NaN</td>\n",
       "      <td>0.000000</td>\n",
       "      <td>NaN</td>\n",
       "      <td>NaN</td>\n",
       "      <td>NaN</td>\n",
       "      <td>NaN</td>\n",
       "      <td>NaN</td>\n",
       "      <td>NaN</td>\n",
       "      <td>NaN</td>\n",
       "      <td>NaN</td>\n",
       "      <td>NaN</td>\n",
       "      <td>NaN</td>\n",
       "    </tr>\n",
       "    <tr>\n",
       "      <td>25%</td>\n",
       "      <td>NaN</td>\n",
       "      <td>NaN</td>\n",
       "      <td>NaN</td>\n",
       "      <td>NaN</td>\n",
       "      <td>NaN</td>\n",
       "      <td>NaN</td>\n",
       "      <td>35.500000</td>\n",
       "      <td>NaN</td>\n",
       "      <td>NaN</td>\n",
       "      <td>0.000000</td>\n",
       "      <td>NaN</td>\n",
       "      <td>NaN</td>\n",
       "      <td>NaN</td>\n",
       "      <td>NaN</td>\n",
       "      <td>NaN</td>\n",
       "      <td>NaN</td>\n",
       "      <td>NaN</td>\n",
       "      <td>NaN</td>\n",
       "      <td>NaN</td>\n",
       "      <td>NaN</td>\n",
       "    </tr>\n",
       "    <tr>\n",
       "      <td>50%</td>\n",
       "      <td>NaN</td>\n",
       "      <td>NaN</td>\n",
       "      <td>NaN</td>\n",
       "      <td>NaN</td>\n",
       "      <td>NaN</td>\n",
       "      <td>NaN</td>\n",
       "      <td>70.350000</td>\n",
       "      <td>NaN</td>\n",
       "      <td>NaN</td>\n",
       "      <td>0.000000</td>\n",
       "      <td>NaN</td>\n",
       "      <td>NaN</td>\n",
       "      <td>NaN</td>\n",
       "      <td>NaN</td>\n",
       "      <td>NaN</td>\n",
       "      <td>NaN</td>\n",
       "      <td>NaN</td>\n",
       "      <td>NaN</td>\n",
       "      <td>NaN</td>\n",
       "      <td>NaN</td>\n",
       "    </tr>\n",
       "    <tr>\n",
       "      <td>75%</td>\n",
       "      <td>NaN</td>\n",
       "      <td>NaN</td>\n",
       "      <td>NaN</td>\n",
       "      <td>NaN</td>\n",
       "      <td>NaN</td>\n",
       "      <td>NaN</td>\n",
       "      <td>89.850000</td>\n",
       "      <td>NaN</td>\n",
       "      <td>NaN</td>\n",
       "      <td>0.000000</td>\n",
       "      <td>NaN</td>\n",
       "      <td>NaN</td>\n",
       "      <td>NaN</td>\n",
       "      <td>NaN</td>\n",
       "      <td>NaN</td>\n",
       "      <td>NaN</td>\n",
       "      <td>NaN</td>\n",
       "      <td>NaN</td>\n",
       "      <td>NaN</td>\n",
       "      <td>NaN</td>\n",
       "    </tr>\n",
       "    <tr>\n",
       "      <td>max</td>\n",
       "      <td>NaN</td>\n",
       "      <td>NaN</td>\n",
       "      <td>NaN</td>\n",
       "      <td>NaN</td>\n",
       "      <td>NaN</td>\n",
       "      <td>NaN</td>\n",
       "      <td>118.750000</td>\n",
       "      <td>NaN</td>\n",
       "      <td>NaN</td>\n",
       "      <td>1.000000</td>\n",
       "      <td>NaN</td>\n",
       "      <td>NaN</td>\n",
       "      <td>NaN</td>\n",
       "      <td>NaN</td>\n",
       "      <td>NaN</td>\n",
       "      <td>NaN</td>\n",
       "      <td>NaN</td>\n",
       "      <td>NaN</td>\n",
       "      <td>NaN</td>\n",
       "      <td>NaN</td>\n",
       "    </tr>\n",
       "  </tbody>\n",
       "</table>\n",
       "</div>"
      ],
      "text/plain": [
       "        customerid   begindate enddate            type paperlessbilling  \\\n",
       "count         7043        7043    7043            7043             7043   \n",
       "unique        7043          77       5               3                2   \n",
       "top     9620-ENEJV  2014-02-01      No  Month-to-month              Yes   \n",
       "freq             1         366    5174            3875             4171   \n",
       "mean           NaN         NaN     NaN             NaN              NaN   \n",
       "std            NaN         NaN     NaN             NaN              NaN   \n",
       "min            NaN         NaN     NaN             NaN              NaN   \n",
       "25%            NaN         NaN     NaN             NaN              NaN   \n",
       "50%            NaN         NaN     NaN             NaN              NaN   \n",
       "75%            NaN         NaN     NaN             NaN              NaN   \n",
       "max            NaN         NaN     NaN             NaN              NaN   \n",
       "\n",
       "           paymentmethod  monthlycharges totalcharges gender  seniorcitizen  \\\n",
       "count               7043     7043.000000         7043   7043    7043.000000   \n",
       "unique                 4             NaN         6531      2            NaN   \n",
       "top     Electronic check             NaN         20.2   Male            NaN   \n",
       "freq                2365             NaN           11   3555            NaN   \n",
       "mean                 NaN       64.761692          NaN    NaN       0.162147   \n",
       "std                  NaN       30.090047          NaN    NaN       0.368612   \n",
       "min                  NaN       18.250000          NaN    NaN       0.000000   \n",
       "25%                  NaN       35.500000          NaN    NaN       0.000000   \n",
       "50%                  NaN       70.350000          NaN    NaN       0.000000   \n",
       "75%                  NaN       89.850000          NaN    NaN       0.000000   \n",
       "max                  NaN      118.750000          NaN    NaN       1.000000   \n",
       "\n",
       "       partner dependents internetservice onlinesecurity onlinebackup  \\\n",
       "count     7043       7043            5517           5517         5517   \n",
       "unique       2          2               2              2            2   \n",
       "top         No         No     Fiber optic             No           No   \n",
       "freq      3641       4933            3096           3498         3088   \n",
       "mean       NaN        NaN             NaN            NaN          NaN   \n",
       "std        NaN        NaN             NaN            NaN          NaN   \n",
       "min        NaN        NaN             NaN            NaN          NaN   \n",
       "25%        NaN        NaN             NaN            NaN          NaN   \n",
       "50%        NaN        NaN             NaN            NaN          NaN   \n",
       "75%        NaN        NaN             NaN            NaN          NaN   \n",
       "max        NaN        NaN             NaN            NaN          NaN   \n",
       "\n",
       "       deviceprotection techsupport streamingtv streamingmovies multiplelines  \n",
       "count              5517        5517        5517            5517          6361  \n",
       "unique                2           2           2               2             2  \n",
       "top                  No          No          No              No            No  \n",
       "freq               3095        3473        2810            2785          3390  \n",
       "mean                NaN         NaN         NaN             NaN           NaN  \n",
       "std                 NaN         NaN         NaN             NaN           NaN  \n",
       "min                 NaN         NaN         NaN             NaN           NaN  \n",
       "25%                 NaN         NaN         NaN             NaN           NaN  \n",
       "50%                 NaN         NaN         NaN             NaN           NaN  \n",
       "75%                 NaN         NaN         NaN             NaN           NaN  \n",
       "max                 NaN         NaN         NaN             NaN           NaN  "
      ]
     },
     "execution_count": 12,
     "metadata": {},
     "output_type": "execute_result"
    }
   ],
   "source": [
    "df.describe(include='all')"
   ]
  },
  {
   "cell_type": "markdown",
   "metadata": {},
   "source": [
    "####  Missing Values"
   ]
  },
  {
   "cell_type": "code",
   "execution_count": 13,
   "metadata": {},
   "outputs": [
    {
     "name": "stdout",
     "output_type": "stream",
     "text": [
      "Column:  customerid \n",
      "Number of values:  7043 \n",
      "Unique values:  ['7590-VHVEG' '5575-GNVDE' '3668-QPYBK' ... '4801-JZAZL' '8361-LTMKD'\n",
      " '3186-AJIEK'] \n",
      "__________________________________________________\n",
      "Column:  begindate \n",
      "Number of values:  77 \n",
      "Unique values:  ['2020-01-01' '2017-04-01' '2019-10-01' '2016-05-01' '2019-09-01'\n",
      " '2019-03-01' '2018-04-01' '2019-04-01' '2017-07-01' '2014-12-01'\n",
      " '2019-01-01' '2018-10-01' '2015-04-01' '2015-09-01' '2018-01-01'\n",
      " '2014-05-01' '2015-10-01' '2014-03-01' '2018-05-01' '2019-11-01'\n",
      " '2019-02-01' '2016-01-01' '2017-08-01' '2015-12-01' '2014-02-01'\n",
      " '2018-06-01' '2019-12-01' '2017-11-01' '2019-06-01' '2016-04-01'\n",
      " '2017-02-01' '2018-12-01' '2014-04-01' '2018-09-01' '2014-11-01'\n",
      " '2016-07-01' '2015-02-01' '2018-07-01' '2014-08-01' '2016-03-01'\n",
      " '2018-08-01' '2014-10-01' '2015-06-01' '2016-08-01' '2019-05-01'\n",
      " '2017-03-01' '2016-02-01' '2017-09-01' '2014-09-01' '2017-12-01'\n",
      " '2016-12-01' '2017-06-01' '2015-05-01' '2016-10-01' '2016-09-01'\n",
      " '2019-08-01' '2019-07-01' '2017-05-01' '2017-10-01' '2014-07-01'\n",
      " '2018-03-01' '2015-01-01' '2018-11-01' '2015-03-01' '2018-02-01'\n",
      " '2016-06-01' '2015-08-01' '2015-11-01' '2014-06-01' '2017-01-01'\n",
      " '2015-07-01' '2020-02-01' '2016-11-01' '2013-11-01' '2014-01-01'\n",
      " '2013-10-01' '2013-12-01'] \n",
      "__________________________________________________\n",
      "Column:  enddate \n",
      "Number of values:  5 \n",
      "Unique values:  ['No' '2019-12-01 00:00:00' '2019-11-01 00:00:00' '2019-10-01 00:00:00'\n",
      " '2020-01-01 00:00:00'] \n",
      "__________________________________________________\n",
      "Column:  type \n",
      "Number of values:  3 \n",
      "Unique values:  ['Month-to-month' 'One year' 'Two year'] \n",
      "__________________________________________________\n",
      "Column:  paperlessbilling \n",
      "Number of values:  2 \n",
      "Unique values:  ['Yes' 'No'] \n",
      "__________________________________________________\n",
      "Column:  paymentmethod \n",
      "Number of values:  4 \n",
      "Unique values:  ['Electronic check' 'Mailed check' 'Bank transfer (automatic)'\n",
      " 'Credit card (automatic)'] \n",
      "__________________________________________________\n",
      "Column:  monthlycharges \n",
      "Number of values:  1585 \n",
      "Unique values:  [29.85 56.95 53.85 ... 63.1  44.2  78.7 ] \n",
      "__________________________________________________\n",
      "Column:  totalcharges \n",
      "Number of values:  6531 \n",
      "Unique values:  ['29.85' '1889.5' '108.15' ... '346.45' '306.6' '6844.5'] \n",
      "__________________________________________________\n",
      "Column:  gender \n",
      "Number of values:  2 \n",
      "Unique values:  ['Female' 'Male'] \n",
      "__________________________________________________\n",
      "Column:  seniorcitizen \n",
      "Number of values:  2 \n",
      "Unique values:  [0 1] \n",
      "__________________________________________________\n",
      "Column:  partner \n",
      "Number of values:  2 \n",
      "Unique values:  ['Yes' 'No'] \n",
      "__________________________________________________\n",
      "Column:  dependents \n",
      "Number of values:  2 \n",
      "Unique values:  ['No' 'Yes'] \n",
      "__________________________________________________\n",
      "Column:  internetservice \n",
      "Number of values:  3 \n",
      "Unique values:  ['DSL' 'Fiber optic' nan] \n",
      "__________________________________________________\n",
      "Column:  onlinesecurity \n",
      "Number of values:  3 \n",
      "Unique values:  ['No' 'Yes' nan] \n",
      "__________________________________________________\n",
      "Column:  onlinebackup \n",
      "Number of values:  3 \n",
      "Unique values:  ['Yes' 'No' nan] \n",
      "__________________________________________________\n",
      "Column:  deviceprotection \n",
      "Number of values:  3 \n",
      "Unique values:  ['No' 'Yes' nan] \n",
      "__________________________________________________\n",
      "Column:  techsupport \n",
      "Number of values:  3 \n",
      "Unique values:  ['No' 'Yes' nan] \n",
      "__________________________________________________\n",
      "Column:  streamingtv \n",
      "Number of values:  3 \n",
      "Unique values:  ['No' 'Yes' nan] \n",
      "__________________________________________________\n",
      "Column:  streamingmovies \n",
      "Number of values:  3 \n",
      "Unique values:  ['No' 'Yes' nan] \n",
      "__________________________________________________\n",
      "Column:  multiplelines \n",
      "Number of values:  3 \n",
      "Unique values:  [nan 'No' 'Yes'] \n",
      "__________________________________________________\n"
     ]
    }
   ],
   "source": [
    "for col in df:\n",
    "    print('Column: ', col, \n",
    "          '\\nNumber of values: ', df[col].nunique(dropna=False), \n",
    "          '\\nUnique values: ', df[col].unique(),\n",
    "          '\\n' + '_'*50\n",
    "         )\n",
    "    "
   ]
  },
  {
   "cell_type": "code",
   "execution_count": 14,
   "metadata": {},
   "outputs": [],
   "source": [
    "df.enddate.replace({'No': '2020-02-01'}, inplace=True)\n",
    "df.totalcharges.replace({' ': 0}, inplace=True)\n",
    "df.replace({np.NaN:'No'}, inplace=True)"
   ]
  },
  {
   "cell_type": "markdown",
   "metadata": {},
   "source": [
    "#### Duplicates"
   ]
  },
  {
   "cell_type": "code",
   "execution_count": 15,
   "metadata": {},
   "outputs": [
    {
     "data": {
      "text/plain": [
       "0"
      ]
     },
     "execution_count": 15,
     "metadata": {},
     "output_type": "execute_result"
    }
   ],
   "source": [
    "df.customerid.duplicated().sum()"
   ]
  },
  {
   "cell_type": "markdown",
   "metadata": {},
   "source": [
    "#### Converting Data Types"
   ]
  },
  {
   "cell_type": "code",
   "execution_count": 16,
   "metadata": {},
   "outputs": [],
   "source": [
    "df['begindate'] = pd.to_datetime(df['begindate'], format='%Y-%m-%d')\n",
    "df['enddate'] = pd.to_datetime(df['enddate'], format='%Y-%m-%d')\n",
    "df.totalcharges = df.totalcharges.astype('float64')"
   ]
  },
  {
   "cell_type": "code",
   "execution_count": 17,
   "metadata": {},
   "outputs": [
    {
     "name": "stdout",
     "output_type": "stream",
     "text": [
      "<class 'pandas.core.frame.DataFrame'>\n",
      "Int64Index: 7043 entries, 0 to 7042\n",
      "Data columns (total 20 columns):\n",
      "customerid          7043 non-null object\n",
      "begindate           7043 non-null datetime64[ns]\n",
      "enddate             7043 non-null datetime64[ns]\n",
      "type                7043 non-null object\n",
      "paperlessbilling    7043 non-null object\n",
      "paymentmethod       7043 non-null object\n",
      "monthlycharges      7043 non-null float64\n",
      "totalcharges        7043 non-null float64\n",
      "gender              7043 non-null object\n",
      "seniorcitizen       7043 non-null int64\n",
      "partner             7043 non-null object\n",
      "dependents          7043 non-null object\n",
      "internetservice     7043 non-null object\n",
      "onlinesecurity      7043 non-null object\n",
      "onlinebackup        7043 non-null object\n",
      "deviceprotection    7043 non-null object\n",
      "techsupport         7043 non-null object\n",
      "streamingtv         7043 non-null object\n",
      "streamingmovies     7043 non-null object\n",
      "multiplelines       7043 non-null object\n",
      "dtypes: datetime64[ns](2), float64(2), int64(1), object(15)\n",
      "memory usage: 1.1+ MB\n"
     ]
    }
   ],
   "source": [
    "df.info()"
   ]
  },
  {
   "cell_type": "markdown",
   "metadata": {},
   "source": [
    "#### Adding Features"
   ]
  },
  {
   "cell_type": "code",
   "execution_count": 18,
   "metadata": {},
   "outputs": [
    {
     "data": {
      "text/html": [
       "<div>\n",
       "<style scoped>\n",
       "    .dataframe tbody tr th:only-of-type {\n",
       "        vertical-align: middle;\n",
       "    }\n",
       "\n",
       "    .dataframe tbody tr th {\n",
       "        vertical-align: top;\n",
       "    }\n",
       "\n",
       "    .dataframe thead th {\n",
       "        text-align: right;\n",
       "    }\n",
       "</style>\n",
       "<table border=\"1\" class=\"dataframe\">\n",
       "  <thead>\n",
       "    <tr style=\"text-align: right;\">\n",
       "      <th></th>\n",
       "      <th>customerid</th>\n",
       "      <th>begindate</th>\n",
       "      <th>enddate</th>\n",
       "      <th>type</th>\n",
       "      <th>paperlessbilling</th>\n",
       "      <th>paymentmethod</th>\n",
       "      <th>monthlycharges</th>\n",
       "      <th>totalcharges</th>\n",
       "      <th>gender</th>\n",
       "      <th>seniorcitizen</th>\n",
       "      <th>...</th>\n",
       "      <th>internetservice</th>\n",
       "      <th>onlinesecurity</th>\n",
       "      <th>onlinebackup</th>\n",
       "      <th>deviceprotection</th>\n",
       "      <th>techsupport</th>\n",
       "      <th>streamingtv</th>\n",
       "      <th>streamingmovies</th>\n",
       "      <th>multiplelines</th>\n",
       "      <th>duration</th>\n",
       "      <th>isclient</th>\n",
       "    </tr>\n",
       "  </thead>\n",
       "  <tbody>\n",
       "    <tr>\n",
       "      <td>1046</td>\n",
       "      <td>0810-DHDBD</td>\n",
       "      <td>2015-10-01</td>\n",
       "      <td>2020-02-01</td>\n",
       "      <td>One year</td>\n",
       "      <td>No</td>\n",
       "      <td>Credit card (automatic)</td>\n",
       "      <td>74.00</td>\n",
       "      <td>3877.65</td>\n",
       "      <td>Female</td>\n",
       "      <td>0</td>\n",
       "      <td>...</td>\n",
       "      <td>DSL</td>\n",
       "      <td>Yes</td>\n",
       "      <td>No</td>\n",
       "      <td>Yes</td>\n",
       "      <td>Yes</td>\n",
       "      <td>Yes</td>\n",
       "      <td>No</td>\n",
       "      <td>Yes</td>\n",
       "      <td>1584</td>\n",
       "      <td>1</td>\n",
       "    </tr>\n",
       "    <tr>\n",
       "      <td>1598</td>\n",
       "      <td>7552-KEYGT</td>\n",
       "      <td>2017-11-01</td>\n",
       "      <td>2020-02-01</td>\n",
       "      <td>Two year</td>\n",
       "      <td>No</td>\n",
       "      <td>Bank transfer (automatic)</td>\n",
       "      <td>19.55</td>\n",
       "      <td>520.55</td>\n",
       "      <td>Male</td>\n",
       "      <td>0</td>\n",
       "      <td>...</td>\n",
       "      <td>No</td>\n",
       "      <td>No</td>\n",
       "      <td>No</td>\n",
       "      <td>No</td>\n",
       "      <td>No</td>\n",
       "      <td>No</td>\n",
       "      <td>No</td>\n",
       "      <td>No</td>\n",
       "      <td>822</td>\n",
       "      <td>1</td>\n",
       "    </tr>\n",
       "    <tr>\n",
       "      <td>2943</td>\n",
       "      <td>4526-EXKKN</td>\n",
       "      <td>2016-10-01</td>\n",
       "      <td>2020-02-01</td>\n",
       "      <td>Two year</td>\n",
       "      <td>Yes</td>\n",
       "      <td>Mailed check</td>\n",
       "      <td>24.60</td>\n",
       "      <td>973.95</td>\n",
       "      <td>Male</td>\n",
       "      <td>0</td>\n",
       "      <td>...</td>\n",
       "      <td>No</td>\n",
       "      <td>No</td>\n",
       "      <td>No</td>\n",
       "      <td>No</td>\n",
       "      <td>No</td>\n",
       "      <td>No</td>\n",
       "      <td>No</td>\n",
       "      <td>Yes</td>\n",
       "      <td>1218</td>\n",
       "      <td>1</td>\n",
       "    </tr>\n",
       "    <tr>\n",
       "      <td>5403</td>\n",
       "      <td>0292-WEGCH</td>\n",
       "      <td>2015-08-01</td>\n",
       "      <td>2020-02-01</td>\n",
       "      <td>Month-to-month</td>\n",
       "      <td>Yes</td>\n",
       "      <td>Electronic check</td>\n",
       "      <td>86.20</td>\n",
       "      <td>4524.05</td>\n",
       "      <td>Female</td>\n",
       "      <td>0</td>\n",
       "      <td>...</td>\n",
       "      <td>DSL</td>\n",
       "      <td>No</td>\n",
       "      <td>Yes</td>\n",
       "      <td>Yes</td>\n",
       "      <td>Yes</td>\n",
       "      <td>Yes</td>\n",
       "      <td>Yes</td>\n",
       "      <td>Yes</td>\n",
       "      <td>1645</td>\n",
       "      <td>1</td>\n",
       "    </tr>\n",
       "    <tr>\n",
       "      <td>5971</td>\n",
       "      <td>9800-OUIGR</td>\n",
       "      <td>2014-08-01</td>\n",
       "      <td>2020-02-01</td>\n",
       "      <td>Two year</td>\n",
       "      <td>No</td>\n",
       "      <td>Credit card (automatic)</td>\n",
       "      <td>20.00</td>\n",
       "      <td>1374.20</td>\n",
       "      <td>Male</td>\n",
       "      <td>0</td>\n",
       "      <td>...</td>\n",
       "      <td>No</td>\n",
       "      <td>No</td>\n",
       "      <td>No</td>\n",
       "      <td>No</td>\n",
       "      <td>No</td>\n",
       "      <td>No</td>\n",
       "      <td>No</td>\n",
       "      <td>No</td>\n",
       "      <td>2010</td>\n",
       "      <td>1</td>\n",
       "    </tr>\n",
       "    <tr>\n",
       "      <td>4255</td>\n",
       "      <td>2157-MXBJS</td>\n",
       "      <td>2018-10-01</td>\n",
       "      <td>2019-11-01</td>\n",
       "      <td>One year</td>\n",
       "      <td>Yes</td>\n",
       "      <td>Mailed check</td>\n",
       "      <td>75.30</td>\n",
       "      <td>989.45</td>\n",
       "      <td>Male</td>\n",
       "      <td>0</td>\n",
       "      <td>...</td>\n",
       "      <td>DSL</td>\n",
       "      <td>No</td>\n",
       "      <td>No</td>\n",
       "      <td>Yes</td>\n",
       "      <td>No</td>\n",
       "      <td>Yes</td>\n",
       "      <td>Yes</td>\n",
       "      <td>Yes</td>\n",
       "      <td>396</td>\n",
       "      <td>0</td>\n",
       "    </tr>\n",
       "    <tr>\n",
       "      <td>6593</td>\n",
       "      <td>4701-AHWMW</td>\n",
       "      <td>2015-05-01</td>\n",
       "      <td>2019-12-01</td>\n",
       "      <td>Month-to-month</td>\n",
       "      <td>Yes</td>\n",
       "      <td>Bank transfer (automatic)</td>\n",
       "      <td>54.55</td>\n",
       "      <td>2978.30</td>\n",
       "      <td>Male</td>\n",
       "      <td>0</td>\n",
       "      <td>...</td>\n",
       "      <td>DSL</td>\n",
       "      <td>No</td>\n",
       "      <td>No</td>\n",
       "      <td>Yes</td>\n",
       "      <td>Yes</td>\n",
       "      <td>Yes</td>\n",
       "      <td>Yes</td>\n",
       "      <td>No</td>\n",
       "      <td>1675</td>\n",
       "      <td>0</td>\n",
       "    </tr>\n",
       "    <tr>\n",
       "      <td>2591</td>\n",
       "      <td>8384-FZBJK</td>\n",
       "      <td>2015-05-01</td>\n",
       "      <td>2020-02-01</td>\n",
       "      <td>Month-to-month</td>\n",
       "      <td>Yes</td>\n",
       "      <td>Electronic check</td>\n",
       "      <td>100.60</td>\n",
       "      <td>5611.70</td>\n",
       "      <td>Female</td>\n",
       "      <td>0</td>\n",
       "      <td>...</td>\n",
       "      <td>Fiber optic</td>\n",
       "      <td>No</td>\n",
       "      <td>Yes</td>\n",
       "      <td>No</td>\n",
       "      <td>No</td>\n",
       "      <td>Yes</td>\n",
       "      <td>Yes</td>\n",
       "      <td>Yes</td>\n",
       "      <td>1737</td>\n",
       "      <td>1</td>\n",
       "    </tr>\n",
       "    <tr>\n",
       "      <td>2979</td>\n",
       "      <td>8996-ZROXE</td>\n",
       "      <td>2015-05-01</td>\n",
       "      <td>2020-02-01</td>\n",
       "      <td>One year</td>\n",
       "      <td>Yes</td>\n",
       "      <td>Electronic check</td>\n",
       "      <td>53.50</td>\n",
       "      <td>3035.80</td>\n",
       "      <td>Male</td>\n",
       "      <td>1</td>\n",
       "      <td>...</td>\n",
       "      <td>DSL</td>\n",
       "      <td>No</td>\n",
       "      <td>No</td>\n",
       "      <td>Yes</td>\n",
       "      <td>Yes</td>\n",
       "      <td>No</td>\n",
       "      <td>No</td>\n",
       "      <td>No</td>\n",
       "      <td>1737</td>\n",
       "      <td>1</td>\n",
       "    </tr>\n",
       "    <tr>\n",
       "      <td>539</td>\n",
       "      <td>5394-MEITZ</td>\n",
       "      <td>2015-02-01</td>\n",
       "      <td>2020-02-01</td>\n",
       "      <td>Two year</td>\n",
       "      <td>Yes</td>\n",
       "      <td>Bank transfer (automatic)</td>\n",
       "      <td>80.60</td>\n",
       "      <td>4946.70</td>\n",
       "      <td>Female</td>\n",
       "      <td>0</td>\n",
       "      <td>...</td>\n",
       "      <td>DSL</td>\n",
       "      <td>No</td>\n",
       "      <td>Yes</td>\n",
       "      <td>Yes</td>\n",
       "      <td>Yes</td>\n",
       "      <td>Yes</td>\n",
       "      <td>Yes</td>\n",
       "      <td>No</td>\n",
       "      <td>1826</td>\n",
       "      <td>1</td>\n",
       "    </tr>\n",
       "    <tr>\n",
       "      <td>379</td>\n",
       "      <td>5686-CMAWK</td>\n",
       "      <td>2018-09-01</td>\n",
       "      <td>2020-02-01</td>\n",
       "      <td>One year</td>\n",
       "      <td>No</td>\n",
       "      <td>Electronic check</td>\n",
       "      <td>86.75</td>\n",
       "      <td>1410.25</td>\n",
       "      <td>Male</td>\n",
       "      <td>0</td>\n",
       "      <td>...</td>\n",
       "      <td>Fiber optic</td>\n",
       "      <td>No</td>\n",
       "      <td>No</td>\n",
       "      <td>Yes</td>\n",
       "      <td>Yes</td>\n",
       "      <td>No</td>\n",
       "      <td>No</td>\n",
       "      <td>Yes</td>\n",
       "      <td>518</td>\n",
       "      <td>1</td>\n",
       "    </tr>\n",
       "    <tr>\n",
       "      <td>4518</td>\n",
       "      <td>8808-ELEHO</td>\n",
       "      <td>2019-04-01</td>\n",
       "      <td>2019-12-01</td>\n",
       "      <td>Month-to-month</td>\n",
       "      <td>Yes</td>\n",
       "      <td>Electronic check</td>\n",
       "      <td>81.25</td>\n",
       "      <td>585.95</td>\n",
       "      <td>Male</td>\n",
       "      <td>1</td>\n",
       "      <td>...</td>\n",
       "      <td>Fiber optic</td>\n",
       "      <td>No</td>\n",
       "      <td>No</td>\n",
       "      <td>Yes</td>\n",
       "      <td>No</td>\n",
       "      <td>No</td>\n",
       "      <td>No</td>\n",
       "      <td>Yes</td>\n",
       "      <td>244</td>\n",
       "      <td>0</td>\n",
       "    </tr>\n",
       "    <tr>\n",
       "      <td>1441</td>\n",
       "      <td>2480-EJWYP</td>\n",
       "      <td>2015-04-01</td>\n",
       "      <td>2020-02-01</td>\n",
       "      <td>One year</td>\n",
       "      <td>Yes</td>\n",
       "      <td>Bank transfer (automatic)</td>\n",
       "      <td>97.80</td>\n",
       "      <td>5458.80</td>\n",
       "      <td>Female</td>\n",
       "      <td>1</td>\n",
       "      <td>...</td>\n",
       "      <td>Fiber optic</td>\n",
       "      <td>No</td>\n",
       "      <td>Yes</td>\n",
       "      <td>No</td>\n",
       "      <td>No</td>\n",
       "      <td>Yes</td>\n",
       "      <td>Yes</td>\n",
       "      <td>Yes</td>\n",
       "      <td>1767</td>\n",
       "      <td>1</td>\n",
       "    </tr>\n",
       "    <tr>\n",
       "      <td>4816</td>\n",
       "      <td>5906-DVAPM</td>\n",
       "      <td>2015-07-01</td>\n",
       "      <td>2020-02-01</td>\n",
       "      <td>One year</td>\n",
       "      <td>Yes</td>\n",
       "      <td>Credit card (automatic)</td>\n",
       "      <td>75.00</td>\n",
       "      <td>4213.90</td>\n",
       "      <td>Female</td>\n",
       "      <td>0</td>\n",
       "      <td>...</td>\n",
       "      <td>DSL</td>\n",
       "      <td>Yes</td>\n",
       "      <td>Yes</td>\n",
       "      <td>No</td>\n",
       "      <td>Yes</td>\n",
       "      <td>Yes</td>\n",
       "      <td>No</td>\n",
       "      <td>Yes</td>\n",
       "      <td>1676</td>\n",
       "      <td>1</td>\n",
       "    </tr>\n",
       "    <tr>\n",
       "      <td>1041</td>\n",
       "      <td>1915-OAKWD</td>\n",
       "      <td>2018-10-01</td>\n",
       "      <td>2020-02-01</td>\n",
       "      <td>One year</td>\n",
       "      <td>Yes</td>\n",
       "      <td>Bank transfer (automatic)</td>\n",
       "      <td>19.30</td>\n",
       "      <td>360.35</td>\n",
       "      <td>Female</td>\n",
       "      <td>0</td>\n",
       "      <td>...</td>\n",
       "      <td>No</td>\n",
       "      <td>No</td>\n",
       "      <td>No</td>\n",
       "      <td>No</td>\n",
       "      <td>No</td>\n",
       "      <td>No</td>\n",
       "      <td>No</td>\n",
       "      <td>No</td>\n",
       "      <td>488</td>\n",
       "      <td>1</td>\n",
       "    </tr>\n",
       "    <tr>\n",
       "      <td>1609</td>\n",
       "      <td>3584-WKTTW</td>\n",
       "      <td>2015-11-01</td>\n",
       "      <td>2020-02-01</td>\n",
       "      <td>One year</td>\n",
       "      <td>Yes</td>\n",
       "      <td>Electronic check</td>\n",
       "      <td>111.55</td>\n",
       "      <td>5720.35</td>\n",
       "      <td>Male</td>\n",
       "      <td>0</td>\n",
       "      <td>...</td>\n",
       "      <td>Fiber optic</td>\n",
       "      <td>Yes</td>\n",
       "      <td>No</td>\n",
       "      <td>Yes</td>\n",
       "      <td>Yes</td>\n",
       "      <td>Yes</td>\n",
       "      <td>Yes</td>\n",
       "      <td>Yes</td>\n",
       "      <td>1553</td>\n",
       "      <td>1</td>\n",
       "    </tr>\n",
       "    <tr>\n",
       "      <td>6383</td>\n",
       "      <td>2335-GSODA</td>\n",
       "      <td>2018-03-01</td>\n",
       "      <td>2020-02-01</td>\n",
       "      <td>Two year</td>\n",
       "      <td>No</td>\n",
       "      <td>Mailed check</td>\n",
       "      <td>40.10</td>\n",
       "      <td>857.75</td>\n",
       "      <td>Male</td>\n",
       "      <td>0</td>\n",
       "      <td>...</td>\n",
       "      <td>DSL</td>\n",
       "      <td>Yes</td>\n",
       "      <td>No</td>\n",
       "      <td>Yes</td>\n",
       "      <td>Yes</td>\n",
       "      <td>No</td>\n",
       "      <td>No</td>\n",
       "      <td>No</td>\n",
       "      <td>702</td>\n",
       "      <td>1</td>\n",
       "    </tr>\n",
       "    <tr>\n",
       "      <td>5180</td>\n",
       "      <td>0361-HJRDX</td>\n",
       "      <td>2014-06-01</td>\n",
       "      <td>2020-02-01</td>\n",
       "      <td>Two year</td>\n",
       "      <td>No</td>\n",
       "      <td>Credit card (automatic)</td>\n",
       "      <td>64.35</td>\n",
       "      <td>4539.60</td>\n",
       "      <td>Female</td>\n",
       "      <td>0</td>\n",
       "      <td>...</td>\n",
       "      <td>DSL</td>\n",
       "      <td>Yes</td>\n",
       "      <td>Yes</td>\n",
       "      <td>Yes</td>\n",
       "      <td>Yes</td>\n",
       "      <td>Yes</td>\n",
       "      <td>Yes</td>\n",
       "      <td>No</td>\n",
       "      <td>2071</td>\n",
       "      <td>1</td>\n",
       "    </tr>\n",
       "    <tr>\n",
       "      <td>1339</td>\n",
       "      <td>3838-OZURD</td>\n",
       "      <td>2014-05-01</td>\n",
       "      <td>2019-11-01</td>\n",
       "      <td>Month-to-month</td>\n",
       "      <td>Yes</td>\n",
       "      <td>Credit card (automatic)</td>\n",
       "      <td>105.00</td>\n",
       "      <td>7133.25</td>\n",
       "      <td>Male</td>\n",
       "      <td>0</td>\n",
       "      <td>...</td>\n",
       "      <td>Fiber optic</td>\n",
       "      <td>No</td>\n",
       "      <td>Yes</td>\n",
       "      <td>Yes</td>\n",
       "      <td>No</td>\n",
       "      <td>Yes</td>\n",
       "      <td>Yes</td>\n",
       "      <td>Yes</td>\n",
       "      <td>2010</td>\n",
       "      <td>0</td>\n",
       "    </tr>\n",
       "    <tr>\n",
       "      <td>3685</td>\n",
       "      <td>7244-QWYHG</td>\n",
       "      <td>2015-12-01</td>\n",
       "      <td>2020-02-01</td>\n",
       "      <td>One year</td>\n",
       "      <td>Yes</td>\n",
       "      <td>Bank transfer (automatic)</td>\n",
       "      <td>44.45</td>\n",
       "      <td>2188.45</td>\n",
       "      <td>Male</td>\n",
       "      <td>0</td>\n",
       "      <td>...</td>\n",
       "      <td>DSL</td>\n",
       "      <td>Yes</td>\n",
       "      <td>No</td>\n",
       "      <td>No</td>\n",
       "      <td>Yes</td>\n",
       "      <td>Yes</td>\n",
       "      <td>No</td>\n",
       "      <td>No</td>\n",
       "      <td>1523</td>\n",
       "      <td>1</td>\n",
       "    </tr>\n",
       "  </tbody>\n",
       "</table>\n",
       "<p>20 rows × 22 columns</p>\n",
       "</div>"
      ],
      "text/plain": [
       "      customerid  begindate    enddate            type paperlessbilling  \\\n",
       "1046  0810-DHDBD 2015-10-01 2020-02-01        One year               No   \n",
       "1598  7552-KEYGT 2017-11-01 2020-02-01        Two year               No   \n",
       "2943  4526-EXKKN 2016-10-01 2020-02-01        Two year              Yes   \n",
       "5403  0292-WEGCH 2015-08-01 2020-02-01  Month-to-month              Yes   \n",
       "5971  9800-OUIGR 2014-08-01 2020-02-01        Two year               No   \n",
       "4255  2157-MXBJS 2018-10-01 2019-11-01        One year              Yes   \n",
       "6593  4701-AHWMW 2015-05-01 2019-12-01  Month-to-month              Yes   \n",
       "2591  8384-FZBJK 2015-05-01 2020-02-01  Month-to-month              Yes   \n",
       "2979  8996-ZROXE 2015-05-01 2020-02-01        One year              Yes   \n",
       "539   5394-MEITZ 2015-02-01 2020-02-01        Two year              Yes   \n",
       "379   5686-CMAWK 2018-09-01 2020-02-01        One year               No   \n",
       "4518  8808-ELEHO 2019-04-01 2019-12-01  Month-to-month              Yes   \n",
       "1441  2480-EJWYP 2015-04-01 2020-02-01        One year              Yes   \n",
       "4816  5906-DVAPM 2015-07-01 2020-02-01        One year              Yes   \n",
       "1041  1915-OAKWD 2018-10-01 2020-02-01        One year              Yes   \n",
       "1609  3584-WKTTW 2015-11-01 2020-02-01        One year              Yes   \n",
       "6383  2335-GSODA 2018-03-01 2020-02-01        Two year               No   \n",
       "5180  0361-HJRDX 2014-06-01 2020-02-01        Two year               No   \n",
       "1339  3838-OZURD 2014-05-01 2019-11-01  Month-to-month              Yes   \n",
       "3685  7244-QWYHG 2015-12-01 2020-02-01        One year              Yes   \n",
       "\n",
       "                  paymentmethod  monthlycharges  totalcharges  gender  \\\n",
       "1046    Credit card (automatic)           74.00       3877.65  Female   \n",
       "1598  Bank transfer (automatic)           19.55        520.55    Male   \n",
       "2943               Mailed check           24.60        973.95    Male   \n",
       "5403           Electronic check           86.20       4524.05  Female   \n",
       "5971    Credit card (automatic)           20.00       1374.20    Male   \n",
       "4255               Mailed check           75.30        989.45    Male   \n",
       "6593  Bank transfer (automatic)           54.55       2978.30    Male   \n",
       "2591           Electronic check          100.60       5611.70  Female   \n",
       "2979           Electronic check           53.50       3035.80    Male   \n",
       "539   Bank transfer (automatic)           80.60       4946.70  Female   \n",
       "379            Electronic check           86.75       1410.25    Male   \n",
       "4518           Electronic check           81.25        585.95    Male   \n",
       "1441  Bank transfer (automatic)           97.80       5458.80  Female   \n",
       "4816    Credit card (automatic)           75.00       4213.90  Female   \n",
       "1041  Bank transfer (automatic)           19.30        360.35  Female   \n",
       "1609           Electronic check          111.55       5720.35    Male   \n",
       "6383               Mailed check           40.10        857.75    Male   \n",
       "5180    Credit card (automatic)           64.35       4539.60  Female   \n",
       "1339    Credit card (automatic)          105.00       7133.25    Male   \n",
       "3685  Bank transfer (automatic)           44.45       2188.45    Male   \n",
       "\n",
       "      seniorcitizen  ... internetservice onlinesecurity onlinebackup  \\\n",
       "1046              0  ...             DSL            Yes           No   \n",
       "1598              0  ...              No             No           No   \n",
       "2943              0  ...              No             No           No   \n",
       "5403              0  ...             DSL             No          Yes   \n",
       "5971              0  ...              No             No           No   \n",
       "4255              0  ...             DSL             No           No   \n",
       "6593              0  ...             DSL             No           No   \n",
       "2591              0  ...     Fiber optic             No          Yes   \n",
       "2979              1  ...             DSL             No           No   \n",
       "539               0  ...             DSL             No          Yes   \n",
       "379               0  ...     Fiber optic             No           No   \n",
       "4518              1  ...     Fiber optic             No           No   \n",
       "1441              1  ...     Fiber optic             No          Yes   \n",
       "4816              0  ...             DSL            Yes          Yes   \n",
       "1041              0  ...              No             No           No   \n",
       "1609              0  ...     Fiber optic            Yes           No   \n",
       "6383              0  ...             DSL            Yes           No   \n",
       "5180              0  ...             DSL            Yes          Yes   \n",
       "1339              0  ...     Fiber optic             No          Yes   \n",
       "3685              0  ...             DSL            Yes           No   \n",
       "\n",
       "     deviceprotection techsupport streamingtv streamingmovies multiplelines  \\\n",
       "1046              Yes         Yes         Yes              No           Yes   \n",
       "1598               No          No          No              No            No   \n",
       "2943               No          No          No              No           Yes   \n",
       "5403              Yes         Yes         Yes             Yes           Yes   \n",
       "5971               No          No          No              No            No   \n",
       "4255              Yes          No         Yes             Yes           Yes   \n",
       "6593              Yes         Yes         Yes             Yes            No   \n",
       "2591               No          No         Yes             Yes           Yes   \n",
       "2979              Yes         Yes          No              No            No   \n",
       "539               Yes         Yes         Yes             Yes            No   \n",
       "379               Yes         Yes          No              No           Yes   \n",
       "4518              Yes          No          No              No           Yes   \n",
       "1441               No          No         Yes             Yes           Yes   \n",
       "4816               No         Yes         Yes              No           Yes   \n",
       "1041               No          No          No              No            No   \n",
       "1609              Yes         Yes         Yes             Yes           Yes   \n",
       "6383              Yes         Yes          No              No            No   \n",
       "5180              Yes         Yes         Yes             Yes            No   \n",
       "1339              Yes          No         Yes             Yes           Yes   \n",
       "3685               No         Yes         Yes              No            No   \n",
       "\n",
       "     duration isclient  \n",
       "1046     1584        1  \n",
       "1598      822        1  \n",
       "2943     1218        1  \n",
       "5403     1645        1  \n",
       "5971     2010        1  \n",
       "4255      396        0  \n",
       "6593     1675        0  \n",
       "2591     1737        1  \n",
       "2979     1737        1  \n",
       "539      1826        1  \n",
       "379       518        1  \n",
       "4518      244        0  \n",
       "1441     1767        1  \n",
       "4816     1676        1  \n",
       "1041      488        1  \n",
       "1609     1553        1  \n",
       "6383      702        1  \n",
       "5180     2071        1  \n",
       "1339     2010        0  \n",
       "3685     1523        1  \n",
       "\n",
       "[20 rows x 22 columns]"
      ]
     },
     "execution_count": 18,
     "metadata": {},
     "output_type": "execute_result"
    }
   ],
   "source": [
    "df['duration'] = ((df.enddate - df.begindate)/np.timedelta64(1, 'D'))\n",
    "df['duration'] = df['duration'].astype(int)\n",
    "\n",
    "\n",
    "def isClient(row):\n",
    "    if row.enddate == datetime.datetime(2020, 2, 1):\n",
    "        return 1\n",
    "    else:\n",
    "        return 0\n",
    "\n",
    "df['isclient'] = df.apply(isClient, axis=1)\n",
    "df.sample(20)  "
   ]
  },
  {
   "cell_type": "markdown",
   "metadata": {},
   "source": [
    "#### Dropping unnecessary columns"
   ]
  },
  {
   "cell_type": "code",
   "execution_count": 19,
   "metadata": {},
   "outputs": [
    {
     "data": {
      "text/plain": [
       "Index(['type', 'paperlessbilling', 'paymentmethod', 'monthlycharges',\n",
       "       'totalcharges', 'gender', 'seniorcitizen', 'partner', 'dependents',\n",
       "       'internetservice', 'onlinesecurity', 'onlinebackup', 'deviceprotection',\n",
       "       'techsupport', 'streamingtv', 'streamingmovies', 'multiplelines',\n",
       "       'duration', 'isclient'],\n",
       "      dtype='object')"
      ]
     },
     "execution_count": 19,
     "metadata": {},
     "output_type": "execute_result"
    }
   ],
   "source": [
    "df.drop(['customerid', 'begindate', 'enddate'], axis=1, inplace=True)\n",
    "df.columns"
   ]
  },
  {
   "cell_type": "code",
   "execution_count": 20,
   "metadata": {},
   "outputs": [
    {
     "name": "stdout",
     "output_type": "stream",
     "text": [
      "<class 'pandas.core.frame.DataFrame'>\n",
      "Int64Index: 7043 entries, 0 to 7042\n",
      "Data columns (total 19 columns):\n",
      "type                7043 non-null object\n",
      "paperlessbilling    7043 non-null object\n",
      "paymentmethod       7043 non-null object\n",
      "monthlycharges      7043 non-null float64\n",
      "totalcharges        7043 non-null float64\n",
      "gender              7043 non-null object\n",
      "seniorcitizen       7043 non-null int64\n",
      "partner             7043 non-null object\n",
      "dependents          7043 non-null object\n",
      "internetservice     7043 non-null object\n",
      "onlinesecurity      7043 non-null object\n",
      "onlinebackup        7043 non-null object\n",
      "deviceprotection    7043 non-null object\n",
      "techsupport         7043 non-null object\n",
      "streamingtv         7043 non-null object\n",
      "streamingmovies     7043 non-null object\n",
      "multiplelines       7043 non-null object\n",
      "duration            7043 non-null int64\n",
      "isclient            7043 non-null int64\n",
      "dtypes: float64(2), int64(3), object(14)\n",
      "memory usage: 1.1+ MB\n"
     ]
    }
   ],
   "source": [
    "df.info()"
   ]
  },
  {
   "cell_type": "markdown",
   "metadata": {},
   "source": [
    "### Conclusion\n",
    "In this section, we:\n",
    "* had a first look on the data\n",
    "* merged tables\n",
    "* replaced some wrong values\n",
    "* added duration and isclient features\n",
    "* dropped unnecessary columns\n",
    "* checked for duplicates\n",
    "* converted to appropriate data types"
   ]
  },
  {
   "cell_type": "markdown",
   "metadata": {},
   "source": [
    "<div class=\"alert alert-success\">\n",
    "<b>Reviewer's comment</b>\n",
    "\n",
    "Great, you preprocessed the data, correctly merged the dataframes (so the data on clients who don't use both phone and internet is not lost) and added a good feature (contract duration). Both begindate and enddate were dropped, so there should be no target leakage\n",
    "\n",
    "</div>"
   ]
  },
  {
   "cell_type": "markdown",
   "metadata": {},
   "source": [
    "## EDA"
   ]
  },
  {
   "cell_type": "markdown",
   "metadata": {},
   "source": [
    "### Plotting Distributions"
   ]
  },
  {
   "cell_type": "code",
   "execution_count": 21,
   "metadata": {},
   "outputs": [
    {
     "data": {
      "image/png": "[encoded data removed]",
      "text/plain": [
       "<Figure size 1080x720 with 6 Axes>"
      ]
     },
     "metadata": {
      "needs_background": "light"
     },
     "output_type": "display_data"
    }
   ],
   "source": [
    "df.hist(xrot=None, yrot=None, figsize=(15, 10),  bins=50)\n",
    "plt.show()"
   ]
  },
  {
   "cell_type": "markdown",
   "metadata": {},
   "source": [
    "We can see that our distibutions aren't normal and the data isn't balanced."
   ]
  },
  {
   "cell_type": "code",
   "execution_count": 22,
   "metadata": {},
   "outputs": [
    {
     "data": {
      "text/plain": [
       "<matplotlib.axes._subplots.AxesSubplot at 0x7f73276f74d0>"
      ]
     },
     "metadata": {},
     "output_type": "display_data"
    },
    {
     "data": {
      "image/png": "[encoded data removed]",
      "text/plain": [
       "<Figure size 432x288 with 1 Axes>"
      ]
     },
     "metadata": {
      "needs_background": "light"
     },
     "output_type": "display_data"
    },
    {
     "data": {
      "text/plain": [
       "<matplotlib.axes._subplots.AxesSubplot at 0x7f731e96c810>"
      ]
     },
     "metadata": {},
     "output_type": "display_data"
    },
    {
     "data": {
      "image/png": "[encoded data removed]",
      "text/plain": [
       "<Figure size 432x288 with 1 Axes>"
      ]
     },
     "metadata": {
      "needs_background": "light"
     },
     "output_type": "display_data"
    },
    {
     "data": {
      "text/plain": [
       "<matplotlib.axes._subplots.AxesSubplot at 0x7f731ef2ea10>"
      ]
     },
     "metadata": {},
     "output_type": "display_data"
    },
    {
     "data": {
      "image/png": "[encoded data removed]",
      "text/plain": [
       "<Figure size 432x288 with 1 Axes>"
      ]
     },
     "metadata": {
      "needs_background": "light"
     },
     "output_type": "display_data"
    },
    {
     "data": {
      "text/plain": [
       "<matplotlib.axes._subplots.AxesSubplot at 0x7f731ee98890>"
      ]
     },
     "metadata": {},
     "output_type": "display_data"
    },
    {
     "data": {
      "image/png": "[encoded data removed]",
      "text/plain": [
       "<Figure size 432x288 with 1 Axes>"
      ]
     },
     "metadata": {
      "needs_background": "light"
     },
     "output_type": "display_data"
    },
    {
     "data": {
      "text/plain": [
       "<matplotlib.axes._subplots.AxesSubplot at 0x7f731ee02350>"
      ]
     },
     "metadata": {},
     "output_type": "display_data"
    },
    {
     "data": {
      "image/png": "[encoded data removed]",
      "text/plain": [
       "<Figure size 432x288 with 1 Axes>"
      ]
     },
     "metadata": {
      "needs_background": "light"
     },
     "output_type": "display_data"
    },
    {
     "data": {
      "text/plain": [
       "<matplotlib.axes._subplots.AxesSubplot at 0x7f731ed80d10>"
      ]
     },
     "metadata": {},
     "output_type": "display_data"
    },
    {
     "data": {
      "image/png": "[encoded data removed]",
      "text/plain": [
       "<Figure size 432x288 with 1 Axes>"
      ]
     },
     "metadata": {
      "needs_background": "light"
     },
     "output_type": "display_data"
    },
    {
     "data": {
      "text/plain": [
       "<matplotlib.axes._subplots.AxesSubplot at 0x7f731eeb5950>"
      ]
     },
     "metadata": {},
     "output_type": "display_data"
    },
    {
     "data": {
      "image/png": "[encoded data removed]",
      "text/plain": [
       "<Figure size 432x288 with 1 Axes>"
      ]
     },
     "metadata": {
      "needs_background": "light"
     },
     "output_type": "display_data"
    },
    {
     "data": {
      "text/plain": [
       "<matplotlib.axes._subplots.AxesSubplot at 0x7f731ecf0b50>"
      ]
     },
     "metadata": {},
     "output_type": "display_data"
    },
    {
     "data": {
      "image/png": "[encoded data removed]",
      "text/plain": [
       "<Figure size 432x288 with 1 Axes>"
      ]
     },
     "metadata": {
      "needs_background": "light"
     },
     "output_type": "display_data"
    },
    {
     "data": {
      "text/plain": [
       "<matplotlib.axes._subplots.AxesSubplot at 0x7f731e92a950>"
      ]
     },
     "metadata": {},
     "output_type": "display_data"
    },
    {
     "data": {
      "image/png": "[encoded data removed]",
      "text/plain": [
       "<Figure size 432x288 with 1 Axes>"
      ]
     },
     "metadata": {
      "needs_background": "light"
     },
     "output_type": "display_data"
    },
    {
     "data": {
      "text/plain": [
       "<matplotlib.axes._subplots.AxesSubplot at 0x7f731ecda110>"
      ]
     },
     "metadata": {},
     "output_type": "display_data"
    },
    {
     "data": {
      "image/png": "[encoded data removed]",
      "text/plain": [
       "<Figure size 432x288 with 1 Axes>"
      ]
     },
     "metadata": {
      "needs_background": "light"
     },
     "output_type": "display_data"
    },
    {
     "data": {
      "text/plain": [
       "<matplotlib.axes._subplots.AxesSubplot at 0x7f7327620d50>"
      ]
     },
     "metadata": {},
     "output_type": "display_data"
    },
    {
     "data": {
      "image/png": "[encoded data removed]",
      "text/plain": [
       "<Figure size 432x288 with 1 Axes>"
      ]
     },
     "metadata": {
      "needs_background": "light"
     },
     "output_type": "display_data"
    },
    {
     "data": {
      "text/plain": [
       "<matplotlib.axes._subplots.AxesSubplot at 0x7f7327899190>"
      ]
     },
     "metadata": {},
     "output_type": "display_data"
    },
    {
     "data": {
      "image/png": "[encoded data removed]",
      "text/plain": [
       "<Figure size 432x288 with 1 Axes>"
      ]
     },
     "metadata": {
      "needs_background": "light"
     },
     "output_type": "display_data"
    },
    {
     "data": {
      "text/plain": [
       "<matplotlib.axes._subplots.AxesSubplot at 0x7f7327627310>"
      ]
     },
     "metadata": {},
     "output_type": "display_data"
    },
    {
     "data": {
      "image/png": "[encoded data removed]",
      "text/plain": [
       "<Figure size 432x288 with 1 Axes>"
      ]
     },
     "metadata": {
      "needs_background": "light"
     },
     "output_type": "display_data"
    },
    {
     "data": {
      "text/plain": [
       "<matplotlib.axes._subplots.AxesSubplot at 0x7f731e93b8d0>"
      ]
     },
     "metadata": {},
     "output_type": "display_data"
    },
    {
     "data": {
      "image/png": "[encoded data removed]",
      "text/plain": [
       "<Figure size 432x288 with 1 Axes>"
      ]
     },
     "metadata": {
      "needs_background": "light"
     },
     "output_type": "display_data"
    }
   ],
   "source": [
    "cols = ['type', 'paymentmethod', 'gender', 'internetservice', 'paperlessbilling', 'partner', 'dependents', 'onlinesecurity', 'onlinebackup', 'deviceprotection', 'techsupport', 'streamingtv', 'streamingmovies', 'multiplelines']\n",
    "for col in cols:\n",
    "    display(df[col].value_counts().plot.bar())\n",
    "    plt.title(col)\n",
    "    plt.ylabel('Frequency')\n",
    "    plt.show()"
   ]
  },
  {
   "cell_type": "markdown",
   "metadata": {},
   "source": [
    "We can see the above the differences between the categorical columns."
   ]
  },
  {
   "cell_type": "markdown",
   "metadata": {},
   "source": [
    "### Correlations Hot Map"
   ]
  },
  {
   "cell_type": "code",
   "execution_count": 23,
   "metadata": {},
   "outputs": [
    {
     "data": {
      "image/png": "[encoded data removed]",
      "text/plain": [
       "<Figure size 504x360 with 2 Axes>"
      ]
     },
     "metadata": {},
     "output_type": "display_data"
    }
   ],
   "source": [
    "corr = df.corr()\n",
    "\n",
    "mask = np.zeros_like(corr)\n",
    "\n",
    "mask[np.triu_indices_from(mask)] = True\n",
    "\n",
    "with sns.axes_style(\"white\"):\n",
    "\n",
    "    f, ax = plt.subplots(figsize=(7, 5))\n",
    "\n",
    "    ax = sns.heatmap(corr, linewidths=.5, annot=True, mask=mask)\n"
   ]
  },
  {
   "cell_type": "markdown",
   "metadata": {},
   "source": [
    "We can see above the features' correlations. The highest correlation is 0.83 (duration & totalcharges)."
   ]
  },
  {
   "cell_type": "markdown",
   "metadata": {},
   "source": [
    "<div class=\"alert alert-success\">\n",
    "<b>Reviewer's comment</b>\n",
    "\n",
    "Nice EDA!\n",
    "\n",
    "</div>"
   ]
  },
  {
   "cell_type": "markdown",
   "metadata": {},
   "source": [
    "## Training & Testing"
   ]
  },
  {
   "cell_type": "markdown",
   "metadata": {},
   "source": [
    "### One-Hot-Encoding"
   ]
  },
  {
   "cell_type": "code",
   "execution_count": 24,
   "metadata": {},
   "outputs": [],
   "source": [
    "data_ohe = pd.get_dummies(df, drop_first=True)"
   ]
  },
  {
   "cell_type": "markdown",
   "metadata": {},
   "source": [
    "<div class=\"alert alert-success\">\n",
    "<b>Reviewer's comment</b>\n",
    "\n",
    "Categorical features were encoded correctly\n",
    "\n",
    "</div>"
   ]
  },
  {
   "cell_type": "markdown",
   "metadata": {},
   "source": [
    "### Features & Target Split"
   ]
  },
  {
   "cell_type": "code",
   "execution_count": 25,
   "metadata": {},
   "outputs": [],
   "source": [
    "target = data_ohe['isclient']\n",
    "features = data_ohe.drop('isclient', axis=1)\n",
    "\n",
    "features_train, features_test, target_train, target_test = train_test_split(features, target, test_size=0.25, random_state=12345)\n"
   ]
  },
  {
   "cell_type": "markdown",
   "metadata": {},
   "source": [
    "<div class=\"alert alert-success\">\n",
    "<b>Reviewer's comment</b>\n",
    "\n",
    "Target variable fits the task. The data is split into train and test sets, the proportion is reasonable\n",
    "\n",
    "</div>"
   ]
  },
  {
   "cell_type": "markdown",
   "metadata": {},
   "source": [
    "### Class Imbalance"
   ]
  },
  {
   "cell_type": "code",
   "execution_count": 26,
   "metadata": {},
   "outputs": [
    {
     "data": {
      "text/plain": [
       "1    0.73463\n",
       "0    0.26537\n",
       "Name: isclient, dtype: float64"
      ]
     },
     "execution_count": 26,
     "metadata": {},
     "output_type": "execute_result"
    }
   ],
   "source": [
    "target.value_counts(normalize=True)"
   ]
  },
  {
   "cell_type": "markdown",
   "metadata": {},
   "source": [
    "Our target isn't balanced."
   ]
  },
  {
   "cell_type": "markdown",
   "metadata": {},
   "source": [
    "### Resampling"
   ]
  },
  {
   "cell_type": "code",
   "execution_count": 27,
   "metadata": {},
   "outputs": [],
   "source": [
    "ros = RandomOverSampler(random_state=0)\n",
    "\n",
    "features_resampled, target_resampled = ros.fit_resample(features_train, target_train)"
   ]
  },
  {
   "cell_type": "code",
   "execution_count": 28,
   "metadata": {},
   "outputs": [
    {
     "data": {
      "text/plain": [
       "1    0.5\n",
       "0    0.5\n",
       "Name: isclient, dtype: float64"
      ]
     },
     "execution_count": 28,
     "metadata": {},
     "output_type": "execute_result"
    }
   ],
   "source": [
    "target_resampled.value_counts(normalize=True)\n"
   ]
  },
  {
   "cell_type": "markdown",
   "metadata": {},
   "source": [
    "<div class=\"alert alert-warning\">\n",
    "<b>Reviewer's comment</b>\n",
    "\n",
    "It's nice that you're appling oversampling to deal with class imbalance, but note that you might be getting suboptimal models through the hyperparameter tuning process with cross-validation, because if we apply oversampling to the whole dataset used for cross-validation, there may be data leakage in all cross-validation folds (i.e. there may be examples appearing in both train and validation subsets of the fold). The easiest way to fix this is using [imblearn pipelines](https://imbalanced-learn.org/stable/references/generated/imblearn.pipeline.Pipeline.html#imblearn.pipeline.Pipeline): just add your oversampler and a model in a pipeline and pass it to `GridSearchCV` instead of a model. Now in each cross-validation fold oversampling will be applied only to the fold's train subset, which fixed the problem I described above.\n",
    "\n",
    "</div>"
   ]
  },
  {
   "cell_type": "markdown",
   "metadata": {},
   "source": [
    "### Dummy Classifier"
   ]
  },
  {
   "cell_type": "code",
   "execution_count": 29,
   "metadata": {},
   "outputs": [
    {
     "name": "stdout",
     "output_type": "stream",
     "text": [
      "Dummy classifier ROC-AUc score: 0.509\n",
      "Dummy classifier accuracy score: 0.610\n"
     ]
    }
   ],
   "source": [
    "dc = DummyClassifier(strategy=\"stratified\", random_state=1)\n",
    "dc.fit(features_train, target_train)\n",
    "preds = dc.predict_proba(features_test)[:, 1]\n",
    "print('Dummy classifier ROC-AUc score: {:.3f}'.format(roc_auc_score(target_test, preds)))\n",
    "print('Dummy classifier accuracy score: {:.3f}'.format(accuracy_score(target_test, preds)))"
   ]
  },
  {
   "cell_type": "markdown",
   "metadata": {},
   "source": [
    "Our baseline model doesn't do great job."
   ]
  },
  {
   "cell_type": "markdown",
   "metadata": {},
   "source": [
    "<div class=\"alert alert-success\">\n",
    "<b>Reviewer's comment</b>\n",
    "\n",
    "There's a baseline, good!\n",
    "    \n",
    "</div>"
   ]
  },
  {
   "cell_type": "markdown",
   "metadata": {},
   "source": [
    "### Logistic Regression"
   ]
  },
  {
   "cell_type": "code",
   "execution_count": 30,
   "metadata": {},
   "outputs": [
    {
     "name": "stdout",
     "output_type": "stream",
     "text": [
      "Logistic Regression best AUC-ROC score: 0.847\n",
      "{'lr__penalty': 'l2'}\n",
      "Logistic Regression accuracy score: 0.742\n"
     ]
    }
   ],
   "source": [
    "steps = [('scaler', StandardScaler()), ('lr', LogisticRegression(solver='liblinear', class_weight='balanced', random_state = 12345))]\n",
    "pipe = Pipeline(steps)\n",
    "\n",
    "param_grid={\n",
    "     'lr__penalty':['l1', 'l2', 'elasticnet', 'none']\n",
    " }\n",
    "\n",
    "gscv = GridSearchCV(pipe, param_grid, scoring='roc_auc', cv=5)\n",
    "\n",
    "gscv.fit(features_train, target_train)\n",
    "preds = gscv.predict_proba(features_test)[:, 1]\n",
    "accu_preds = gscv.predict(features_test)\n",
    "\n",
    "print(\"Logistic Regression best AUC-ROC score: {:.3f}\".format(gscv.best_score_))\n",
    "print(gscv.best_params_)\n",
    "print('Logistic Regression accuracy score: {:.3f}'.format(accuracy_score(accu_preds, target_test)))"
   ]
  },
  {
   "cell_type": "markdown",
   "metadata": {},
   "source": [
    "Our Logistic Regression' scores are better than the baseline model."
   ]
  },
  {
   "cell_type": "markdown",
   "metadata": {},
   "source": [
    "### Random Forest Classifier"
   ]
  },
  {
   "cell_type": "code",
   "execution_count": 31,
   "metadata": {},
   "outputs": [
    {
     "name": "stdout",
     "output_type": "stream",
     "text": [
      "Random Forest best AUC-ROC score: 0.844\n",
      "{'rfc__n_estimators': 200}\n",
      "Random Forest accuracy score: 0.806\n"
     ]
    }
   ],
   "source": [
    "steps = [('scaler', StandardScaler()), ('rfc', RandomForestClassifier(random_state=12345, class_weight='balanced'))]\n",
    "\n",
    "pipe = Pipeline(steps)\n",
    "\n",
    "param_grid = {\n",
    "    'rfc__n_estimators': [10, 30, 50, 100, 200]\n",
    "}\n",
    "\n",
    "gscv = GridSearchCV(pipe, param_grid, scoring='roc_auc', cv=5)\n",
    "\n",
    "gscv.fit(features_train, target_train)\n",
    "preds = gscv.predict_proba(features_test)[:, 1]\n",
    "accu_preds = gscv.predict(features_test)\n",
    "\n",
    "print(\"Random Forest best AUC-ROC score: {:.3f}\".format(gscv.best_score_))\n",
    "print(gscv.best_params_)\n",
    "print('Random Forest accuracy score: {:.3f}'.format(accuracy_score(accu_preds, target_test)))"
   ]
  },
  {
   "cell_type": "markdown",
   "metadata": {},
   "source": [
    "The random forest model AUC-ROC score is very close to the Logistic Regression, but the accuracy is higher."
   ]
  },
  {
   "cell_type": "markdown",
   "metadata": {},
   "source": [
    "### CatBoost Classifier"
   ]
  },
  {
   "cell_type": "code",
   "execution_count": 32,
   "metadata": {},
   "outputs": [
    {
     "name": "stdout",
     "output_type": "stream",
     "text": [
      "0:\tloss: 0.4306784\tbest: 0.4306784 (0)\ttotal: 3.24s\tremaining: 25.9s\n",
      "1:\tloss: 0.3822274\tbest: 0.3822274 (1)\ttotal: 5.29s\tremaining: 18.5s\n",
      "2:\tloss: 0.3255040\tbest: 0.3255040 (2)\ttotal: 7.5s\tremaining: 15s\n",
      "3:\tloss: 0.4051596\tbest: 0.3255040 (2)\ttotal: 12s\tremaining: 15s\n",
      "4:\tloss: 0.3143113\tbest: 0.3143113 (4)\ttotal: 16.7s\tremaining: 13.4s\n",
      "5:\tloss: 0.2696945\tbest: 0.2696945 (5)\ttotal: 21.6s\tremaining: 10.8s\n",
      "6:\tloss: 0.3836411\tbest: 0.2696945 (5)\ttotal: 28.2s\tremaining: 8.06s\n",
      "7:\tloss: 0.2764309\tbest: 0.2696945 (5)\ttotal: 34.8s\tremaining: 4.35s\n",
      "8:\tloss: 0.2320716\tbest: 0.2320716 (8)\ttotal: 41.3s\tremaining: 0us\n",
      "Estimating final quality...\n"
     ]
    }
   ],
   "source": [
    "cbc = CatBoostClassifier(random_seed=12345)\n",
    "\n",
    "param_distribution = {\n",
    "    'learning_rate': [0.03, 0.1, 0.2], \n",
    "    'iterations':[100, 200, 300]\n",
    "}\n",
    "\n",
    "randomized_search_results = cbc.randomized_search(\n",
    "    param_distribution,\n",
    "    features_resampled, \n",
    "    target_resampled\n",
    ")"
   ]
  },
  {
   "cell_type": "code",
   "execution_count": 33,
   "metadata": {},
   "outputs": [
    {
     "name": "stdout",
     "output_type": "stream",
     "text": [
      "CatBoost best AUC-ROC score: 0.902\n",
      "CatBoost accuracy score: 0.844\n"
     ]
    }
   ],
   "source": [
    "preds = cbc.predict_proba(features_test)[:,1]\n",
    "accu_preds = cbc.predict(features_test)\n",
    "\n",
    "print(\"CatBoost best AUC-ROC score: {:.3f}\".format(roc_auc_score(target_test, preds)))\n",
    "print('CatBoost accuracy score: {:.3f}'.format(accuracy_score(accu_preds, target_test)))"
   ]
  },
  {
   "cell_type": "markdown",
   "metadata": {},
   "source": [
    "The CatBoost model has the best scores."
   ]
  },
  {
   "cell_type": "markdown",
   "metadata": {},
   "source": [
    "<div class=\"alert alert-success\">\n",
    "<b>Reviewer's comment</b>\n",
    "\n",
    "Great, you tried a couple of different models and tuned their hyperparameters using a cross-validated grid search. The final models were evaluated on the test set. \n",
    "\n",
    "</div>"
   ]
  },
  {
   "cell_type": "markdown",
   "metadata": {},
   "source": [
    "## General Conclusion\n",
    "Our assignment was to predict the churn rate of Interconnect's clientele. \n",
    "\n",
    "In the first step, we preprocessed the dataset:\n",
    "* Merging the tables to one table.\n",
    "* Replacing some values and filling in missing values.\n",
    "* Converting data types to the appropriate ones.\n",
    "* Adding two features.\n",
    "* Dropping unnecessary columns.\n",
    "* Checking for customerid duplicates.\n",
    "* Checking the unique values of each column.\n",
    "\n",
    "In the second step, we plotted several visualizations in order to have a better understanding of our data. We could see that our data isn't balanced, both target and features. In addition, we checked the correlation between features.\n",
    "\n",
    "In the next step, we prepared the data for training. Because we had alot of categorical features, we had to encode the data using the One-Hot -Encoding method. We also resampled the data, dealing with the imbalanced label.\n",
    "\n",
    "Finally, we tried some models:\n",
    "* A baseline model, which was Dummy Classifier.\n",
    "* Logistic Regression\n",
    "* Random Forest Classifier\n",
    "* CatBoost Classifier.\n",
    "\n",
    "In comparison with the other models, the CatBoost Classifier model had the best results."
   ]
  },
  {
   "cell_type": "code",
   "execution_count": null,
   "metadata": {},
   "outputs": [],
   "source": []
  }
 ],
 "metadata": {
  "ExecuteTimeLog": [
   {
    "duration": 1056,
    "start_time": "2021-12-14T16:34:20.531Z"
   },
   {
    "duration": 8996,
    "start_time": "2021-12-14T16:34:48.577Z"
   },
   {
    "duration": 75,
    "start_time": "2021-12-14T16:35:10.524Z"
   },
   {
    "duration": 904,
    "start_time": "2021-12-14T16:39:59.761Z"
   },
   {
    "duration": 466,
    "start_time": "2021-12-14T16:40:41.745Z"
   },
   {
    "duration": 832,
    "start_time": "2021-12-14T16:40:53.433Z"
   },
   {
    "duration": 2906,
    "start_time": "2021-12-14T16:43:31.179Z"
   },
   {
    "duration": 110,
    "start_time": "2021-12-14T16:43:44.698Z"
   },
   {
    "duration": 146,
    "start_time": "2021-12-14T16:44:03.715Z"
   },
   {
    "duration": 113,
    "start_time": "2021-12-14T16:44:31.086Z"
   },
   {
    "duration": 24,
    "start_time": "2021-12-14T16:44:44.328Z"
   },
   {
    "duration": 4,
    "start_time": "2021-12-14T16:47:14.941Z"
   },
   {
    "duration": 44,
    "start_time": "2021-12-14T16:47:49.815Z"
   },
   {
    "duration": 151,
    "start_time": "2021-12-14T16:55:13.832Z"
   },
   {
    "duration": 10385,
    "start_time": "2021-12-14T16:55:25.908Z"
   },
   {
    "duration": 1008,
    "start_time": "2021-12-14T16:57:06.233Z"
   },
   {
    "duration": 105,
    "start_time": "2021-12-14T16:57:31.980Z"
   },
   {
    "duration": 386,
    "start_time": "2021-12-14T16:58:02.184Z"
   },
   {
    "duration": 61,
    "start_time": "2021-12-14T16:58:21.075Z"
   },
   {
    "duration": 403,
    "start_time": "2021-12-14T16:58:35.614Z"
   },
   {
    "duration": 45,
    "start_time": "2021-12-14T16:58:42.933Z"
   },
   {
    "duration": 47,
    "start_time": "2021-12-14T16:58:53.224Z"
   },
   {
    "duration": 59,
    "start_time": "2021-12-14T16:59:08.579Z"
   },
   {
    "duration": 58,
    "start_time": "2021-12-14T16:59:35.746Z"
   },
   {
    "duration": 54,
    "start_time": "2021-12-14T16:59:40.948Z"
   },
   {
    "duration": 55,
    "start_time": "2021-12-14T16:59:46.246Z"
   },
   {
    "duration": 48,
    "start_time": "2021-12-14T17:00:03.260Z"
   },
   {
    "duration": 99,
    "start_time": "2021-12-14T17:00:11.764Z"
   },
   {
    "duration": 54,
    "start_time": "2021-12-14T17:00:37.764Z"
   },
   {
    "duration": 105,
    "start_time": "2021-12-14T17:00:51.062Z"
   },
   {
    "duration": 63,
    "start_time": "2021-12-14T17:01:02.796Z"
   },
   {
    "duration": 54,
    "start_time": "2021-12-14T17:01:12.503Z"
   },
   {
    "duration": 105,
    "start_time": "2021-12-14T17:01:38.180Z"
   },
   {
    "duration": 54,
    "start_time": "2021-12-14T17:02:04.973Z"
   },
   {
    "duration": 1232,
    "start_time": "2021-12-14T17:02:18.612Z"
   },
   {
    "duration": 301,
    "start_time": "2021-12-14T21:51:54.724Z"
   },
   {
    "duration": 568,
    "start_time": "2021-12-14T21:52:24.405Z"
   },
   {
    "duration": 94,
    "start_time": "2021-12-14T21:52:24.975Z"
   },
   {
    "duration": 36,
    "start_time": "2021-12-14T21:52:25.071Z"
   },
   {
    "duration": 63,
    "start_time": "2021-12-14T21:52:25.109Z"
   },
   {
    "duration": 91,
    "start_time": "2021-12-14T21:52:25.174Z"
   },
   {
    "duration": 106,
    "start_time": "2021-12-14T21:52:46.266Z"
   },
   {
    "duration": 330,
    "start_time": "2021-12-15T14:24:17.918Z"
   },
   {
    "duration": 900,
    "start_time": "2021-12-15T14:24:24.260Z"
   },
   {
    "duration": 99,
    "start_time": "2021-12-15T14:24:25.163Z"
   },
   {
    "duration": 55,
    "start_time": "2021-12-15T14:24:25.265Z"
   },
   {
    "duration": 87,
    "start_time": "2021-12-15T14:24:25.323Z"
   },
   {
    "duration": 264,
    "start_time": "2021-12-15T14:24:25.413Z"
   },
   {
    "duration": 25,
    "start_time": "2021-12-15T14:24:25.680Z"
   },
   {
    "duration": 41,
    "start_time": "2021-12-15T14:24:58.540Z"
   },
   {
    "duration": 42,
    "start_time": "2021-12-15T14:25:35.323Z"
   },
   {
    "duration": 355,
    "start_time": "2021-12-15T14:36:23.566Z"
   },
   {
    "duration": 589,
    "start_time": "2021-12-15T14:37:13.696Z"
   },
   {
    "duration": 352,
    "start_time": "2021-12-15T14:37:20.733Z"
   },
   {
    "duration": 12,
    "start_time": "2021-12-15T14:38:29.317Z"
   },
   {
    "duration": 382,
    "start_time": "2021-12-15T14:38:33.548Z"
   },
   {
    "duration": 1478,
    "start_time": "2021-12-15T14:40:05.371Z"
   },
   {
    "duration": 289,
    "start_time": "2021-12-15T14:40:40.952Z"
   },
   {
    "duration": 3,
    "start_time": "2021-12-17T12:00:12.748Z"
   },
   {
    "duration": 3,
    "start_time": "2021-12-17T12:01:19.817Z"
   },
   {
    "duration": 532,
    "start_time": "2021-12-17T12:01:48.635Z"
   },
   {
    "duration": 719,
    "start_time": "2021-12-17T12:01:54.985Z"
   },
   {
    "duration": 3,
    "start_time": "2021-12-17T12:01:55.896Z"
   },
   {
    "duration": 2070,
    "start_time": "2021-12-17T12:01:59.292Z"
   },
   {
    "duration": 89,
    "start_time": "2021-12-17T12:02:24.333Z"
   },
   {
    "duration": 3,
    "start_time": "2021-12-17T12:04:05.205Z"
   },
   {
    "duration": 79,
    "start_time": "2021-12-17T12:04:09.564Z"
   },
   {
    "duration": 3,
    "start_time": "2021-12-17T12:05:01.437Z"
   },
   {
    "duration": 69,
    "start_time": "2021-12-17T12:05:08.267Z"
   },
   {
    "duration": 74,
    "start_time": "2021-12-17T12:05:48.292Z"
   },
   {
    "duration": 3,
    "start_time": "2021-12-17T12:06:32.183Z"
   },
   {
    "duration": 70,
    "start_time": "2021-12-17T12:06:35.870Z"
   },
   {
    "duration": 66,
    "start_time": "2021-12-17T12:08:39.321Z"
   },
   {
    "duration": 76,
    "start_time": "2021-12-17T12:08:47.455Z"
   },
   {
    "duration": 53,
    "start_time": "2021-12-17T12:11:09.934Z"
   },
   {
    "duration": 56,
    "start_time": "2021-12-17T12:11:51.822Z"
   },
   {
    "duration": 6,
    "start_time": "2021-12-17T14:33:57.856Z"
   },
   {
    "duration": 4,
    "start_time": "2021-12-17T14:58:29.957Z"
   },
   {
    "duration": 3,
    "start_time": "2021-12-17T15:05:26.790Z"
   },
   {
    "duration": 3,
    "start_time": "2021-12-17T16:01:56.316Z"
   },
   {
    "duration": 4,
    "start_time": "2021-12-17T16:16:06.414Z"
   },
   {
    "duration": 419,
    "start_time": "2021-12-17T16:17:16.980Z"
   },
   {
    "duration": 901,
    "start_time": "2021-12-17T16:17:27.430Z"
   },
   {
    "duration": 5,
    "start_time": "2021-12-17T16:17:28.334Z"
   },
   {
    "duration": 119,
    "start_time": "2021-12-17T16:17:28.342Z"
   },
   {
    "duration": 104,
    "start_time": "2021-12-17T16:17:28.464Z"
   },
   {
    "duration": 132,
    "start_time": "2021-12-17T16:17:28.571Z"
   },
   {
    "duration": 89,
    "start_time": "2021-12-17T16:17:28.706Z"
   },
   {
    "duration": 18,
    "start_time": "2021-12-17T16:17:28.797Z"
   },
   {
    "duration": 18,
    "start_time": "2021-12-17T16:17:32.186Z"
   },
   {
    "duration": 66,
    "start_time": "2021-12-17T16:19:23.930Z"
   },
   {
    "duration": 3,
    "start_time": "2021-12-17T16:25:48.641Z"
   },
   {
    "duration": 323,
    "start_time": "2021-12-18T09:37:44.058Z"
   },
   {
    "duration": 621,
    "start_time": "2021-12-18T09:37:49.012Z"
   },
   {
    "duration": 3,
    "start_time": "2021-12-18T09:37:49.635Z"
   },
   {
    "duration": 91,
    "start_time": "2021-12-18T09:37:49.640Z"
   },
   {
    "duration": 69,
    "start_time": "2021-12-18T09:37:49.733Z"
   },
   {
    "duration": 100,
    "start_time": "2021-12-18T09:37:49.804Z"
   },
   {
    "duration": 71,
    "start_time": "2021-12-18T09:37:49.907Z"
   },
   {
    "duration": 36,
    "start_time": "2021-12-18T09:37:49.980Z"
   },
   {
    "duration": 4,
    "start_time": "2021-12-18T09:37:50.019Z"
   },
   {
    "duration": 5,
    "start_time": "2021-12-18T09:39:05.267Z"
   },
   {
    "duration": 16,
    "start_time": "2021-12-18T09:39:38.407Z"
   },
   {
    "duration": 16,
    "start_time": "2021-12-18T09:39:55.141Z"
   },
   {
    "duration": 76,
    "start_time": "2021-12-18T09:40:03.350Z"
   },
   {
    "duration": 17,
    "start_time": "2021-12-18T09:41:22.738Z"
   },
   {
    "duration": 27,
    "start_time": "2021-12-18T09:41:27.704Z"
   },
   {
    "duration": 25,
    "start_time": "2021-12-18T09:41:28.799Z"
   },
   {
    "duration": 5,
    "start_time": "2021-12-18T09:42:09.598Z"
   },
   {
    "duration": 702,
    "start_time": "2021-12-18T15:47:53.440Z"
   },
   {
    "duration": 3,
    "start_time": "2021-12-18T15:47:54.144Z"
   },
   {
    "duration": 91,
    "start_time": "2021-12-18T15:47:54.149Z"
   },
   {
    "duration": 74,
    "start_time": "2021-12-18T15:47:54.242Z"
   },
   {
    "duration": 94,
    "start_time": "2021-12-18T15:47:54.318Z"
   },
   {
    "duration": 51,
    "start_time": "2021-12-18T15:47:54.414Z"
   },
   {
    "duration": 53,
    "start_time": "2021-12-18T15:47:54.467Z"
   },
   {
    "duration": 16,
    "start_time": "2021-12-18T15:47:54.522Z"
   },
   {
    "duration": 5,
    "start_time": "2021-12-18T15:47:54.540Z"
   },
   {
    "duration": 16,
    "start_time": "2021-12-18T15:47:54.546Z"
   },
   {
    "duration": 113,
    "start_time": "2021-12-18T15:47:54.563Z"
   },
   {
    "duration": 2,
    "start_time": "2021-12-18T15:47:54.678Z"
   },
   {
    "duration": 5,
    "start_time": "2021-12-18T15:47:54.682Z"
   },
   {
    "duration": 3,
    "start_time": "2021-12-18T15:47:54.706Z"
   },
   {
    "duration": 3,
    "start_time": "2021-12-18T15:49:03.781Z"
   },
   {
    "duration": 5,
    "start_time": "2021-12-18T15:50:20.620Z"
   },
   {
    "duration": 419,
    "start_time": "2021-12-18T15:54:16.203Z"
   },
   {
    "duration": 7,
    "start_time": "2021-12-18T15:55:51.722Z"
   },
   {
    "duration": 7,
    "start_time": "2021-12-18T15:56:04.973Z"
   },
   {
    "duration": 110,
    "start_time": "2021-12-18T15:58:27.978Z"
   },
   {
    "duration": 8939,
    "start_time": "2021-12-18T15:58:45.372Z"
   },
   {
    "duration": 3281,
    "start_time": "2021-12-18T15:59:08.129Z"
   },
   {
    "duration": 857,
    "start_time": "2021-12-18T15:59:11.413Z"
   },
   {
    "duration": 5,
    "start_time": "2021-12-18T15:59:12.272Z"
   },
   {
    "duration": 128,
    "start_time": "2021-12-18T15:59:12.280Z"
   },
   {
    "duration": 100,
    "start_time": "2021-12-18T15:59:12.411Z"
   },
   {
    "duration": 108,
    "start_time": "2021-12-18T15:59:12.513Z"
   },
   {
    "duration": 92,
    "start_time": "2021-12-18T15:59:12.623Z"
   },
   {
    "duration": 33,
    "start_time": "2021-12-18T15:59:12.718Z"
   },
   {
    "duration": 21,
    "start_time": "2021-12-18T15:59:12.753Z"
   },
   {
    "duration": 35,
    "start_time": "2021-12-18T15:59:12.776Z"
   },
   {
    "duration": 23,
    "start_time": "2021-12-18T15:59:12.813Z"
   },
   {
    "duration": 91,
    "start_time": "2021-12-18T15:59:12.838Z"
   },
   {
    "duration": 7,
    "start_time": "2021-12-18T15:59:12.931Z"
   },
   {
    "duration": 14,
    "start_time": "2021-12-18T15:59:12.941Z"
   },
   {
    "duration": 42,
    "start_time": "2021-12-18T15:59:12.957Z"
   },
   {
    "duration": 31,
    "start_time": "2021-12-18T15:59:13.001Z"
   },
   {
    "duration": 39,
    "start_time": "2021-12-18T15:59:22.634Z"
   },
   {
    "duration": 38,
    "start_time": "2021-12-18T16:00:55.104Z"
   },
   {
    "duration": 30,
    "start_time": "2021-12-18T16:03:45.758Z"
   },
   {
    "duration": 42,
    "start_time": "2021-12-18T16:04:00.857Z"
   },
   {
    "duration": 37,
    "start_time": "2021-12-18T16:04:09.519Z"
   },
   {
    "duration": 40,
    "start_time": "2021-12-18T16:04:14.342Z"
   },
   {
    "duration": 39,
    "start_time": "2021-12-18T16:06:44.319Z"
   },
   {
    "duration": 58,
    "start_time": "2021-12-18T16:07:07.464Z"
   },
   {
    "duration": 13,
    "start_time": "2021-12-18T16:09:20.458Z"
   },
   {
    "duration": 5618,
    "start_time": "2021-12-18T16:09:48.800Z"
   },
   {
    "duration": 11,
    "start_time": "2021-12-18T16:10:14.807Z"
   },
   {
    "duration": 6,
    "start_time": "2021-12-18T16:11:56.544Z"
   },
   {
    "duration": 368,
    "start_time": "2021-12-18T16:12:01.622Z"
   },
   {
    "duration": 5,
    "start_time": "2021-12-18T16:16:31.914Z"
   },
   {
    "duration": 6,
    "start_time": "2021-12-18T16:16:49.891Z"
   },
   {
    "duration": 5,
    "start_time": "2021-12-18T16:17:30.079Z"
   },
   {
    "duration": 5,
    "start_time": "2021-12-18T16:18:18.791Z"
   },
   {
    "duration": 127,
    "start_time": "2021-12-18T16:25:12.814Z"
   },
   {
    "duration": 11,
    "start_time": "2021-12-18T16:25:33.514Z"
   },
   {
    "duration": 5,
    "start_time": "2021-12-18T16:25:44.540Z"
   },
   {
    "duration": 5,
    "start_time": "2021-12-18T16:28:28.140Z"
   },
   {
    "duration": 5,
    "start_time": "2021-12-18T16:28:58.376Z"
   },
   {
    "duration": 6,
    "start_time": "2021-12-18T16:29:54.786Z"
   },
   {
    "duration": 4,
    "start_time": "2021-12-18T16:31:11.239Z"
   },
   {
    "duration": 9,
    "start_time": "2021-12-18T16:31:40.108Z"
   },
   {
    "duration": 7,
    "start_time": "2021-12-18T16:32:05.849Z"
   },
   {
    "duration": 9,
    "start_time": "2021-12-18T16:32:25.918Z"
   },
   {
    "duration": 12,
    "start_time": "2021-12-18T16:32:44.440Z"
   },
   {
    "duration": 333,
    "start_time": "2021-12-18T16:35:18.285Z"
   },
   {
    "duration": 8,
    "start_time": "2021-12-18T16:35:30.185Z"
   },
   {
    "duration": 12,
    "start_time": "2021-12-18T16:35:34.322Z"
   },
   {
    "duration": 8,
    "start_time": "2021-12-18T16:35:41.072Z"
   },
   {
    "duration": 8,
    "start_time": "2021-12-18T16:35:42.138Z"
   },
   {
    "duration": 58,
    "start_time": "2021-12-18T16:36:51.740Z"
   },
   {
    "duration": 9,
    "start_time": "2021-12-18T16:37:08.702Z"
   },
   {
    "duration": 4,
    "start_time": "2021-12-18T16:39:52.477Z"
   },
   {
    "duration": 5,
    "start_time": "2021-12-18T16:42:55.944Z"
   },
   {
    "duration": 6,
    "start_time": "2021-12-18T16:43:15.779Z"
   },
   {
    "duration": 6,
    "start_time": "2021-12-18T16:45:06.630Z"
   },
   {
    "duration": 6,
    "start_time": "2021-12-18T16:45:24.995Z"
   },
   {
    "duration": 8,
    "start_time": "2021-12-18T16:45:53.850Z"
   },
   {
    "duration": 2,
    "start_time": "2021-12-18T16:48:21.061Z"
   },
   {
    "duration": 5,
    "start_time": "2021-12-18T16:48:23.703Z"
   },
   {
    "duration": 7,
    "start_time": "2021-12-18T16:49:06.635Z"
   },
   {
    "duration": 6,
    "start_time": "2021-12-18T16:49:19.396Z"
   },
   {
    "duration": 10588,
    "start_time": "2021-12-19T10:30:17.107Z"
   },
   {
    "duration": 979,
    "start_time": "2021-12-19T10:30:27.698Z"
   },
   {
    "duration": 6,
    "start_time": "2021-12-19T10:30:28.681Z"
   },
   {
    "duration": 128,
    "start_time": "2021-12-19T10:30:28.691Z"
   },
   {
    "duration": 102,
    "start_time": "2021-12-19T10:30:28.822Z"
   },
   {
    "duration": 111,
    "start_time": "2021-12-19T10:30:28.926Z"
   },
   {
    "duration": 88,
    "start_time": "2021-12-19T10:30:29.039Z"
   },
   {
    "duration": 35,
    "start_time": "2021-12-19T10:30:29.130Z"
   },
   {
    "duration": 56,
    "start_time": "2021-12-19T10:30:29.167Z"
   },
   {
    "duration": 6,
    "start_time": "2021-12-19T10:30:29.226Z"
   },
   {
    "duration": 23,
    "start_time": "2021-12-19T10:30:29.235Z"
   },
   {
    "duration": 113,
    "start_time": "2021-12-19T10:30:29.260Z"
   },
   {
    "duration": 7,
    "start_time": "2021-12-19T10:30:29.376Z"
   },
   {
    "duration": 10,
    "start_time": "2021-12-19T10:30:29.385Z"
   },
   {
    "duration": 6,
    "start_time": "2021-12-19T10:30:29.417Z"
   },
   {
    "duration": 3,
    "start_time": "2021-12-19T10:30:29.426Z"
   },
   {
    "duration": 5,
    "start_time": "2021-12-19T10:30:29.431Z"
   },
   {
    "duration": 5,
    "start_time": "2021-12-19T10:30:29.438Z"
   },
   {
    "duration": 5,
    "start_time": "2021-12-19T10:30:29.445Z"
   },
   {
    "duration": 18,
    "start_time": "2021-12-19T10:32:34.579Z"
   },
   {
    "duration": 11,
    "start_time": "2021-12-19T10:32:43.744Z"
   },
   {
    "duration": 12,
    "start_time": "2021-12-19T10:33:40.531Z"
   },
   {
    "duration": 8,
    "start_time": "2021-12-19T10:34:18.034Z"
   },
   {
    "duration": 21,
    "start_time": "2021-12-19T10:34:34.405Z"
   },
   {
    "duration": 13,
    "start_time": "2021-12-19T10:34:58.141Z"
   },
   {
    "duration": 21,
    "start_time": "2021-12-19T10:43:45.955Z"
   },
   {
    "duration": 87,
    "start_time": "2021-12-19T10:43:51.378Z"
   },
   {
    "duration": 7,
    "start_time": "2021-12-19T10:44:23.988Z"
   },
   {
    "duration": 6,
    "start_time": "2021-12-19T10:44:46.485Z"
   },
   {
    "duration": 14,
    "start_time": "2021-12-19T10:44:56.182Z"
   },
   {
    "duration": 6,
    "start_time": "2021-12-19T10:44:58.840Z"
   },
   {
    "duration": 21,
    "start_time": "2021-12-19T10:45:37.847Z"
   },
   {
    "duration": 5,
    "start_time": "2021-12-19T10:45:39.074Z"
   },
   {
    "duration": 22,
    "start_time": "2021-12-19T10:45:50.917Z"
   },
   {
    "duration": 45,
    "start_time": "2021-12-19T10:49:20.478Z"
   },
   {
    "duration": 96,
    "start_time": "2021-12-19T10:49:25.601Z"
   },
   {
    "duration": 17,
    "start_time": "2021-12-19T10:54:17.589Z"
   },
   {
    "duration": 343,
    "start_time": "2021-12-19T10:57:15.296Z"
   },
   {
    "duration": 82,
    "start_time": "2021-12-19T10:58:39.507Z"
   },
   {
    "duration": 83,
    "start_time": "2021-12-19T10:58:51.728Z"
   },
   {
    "duration": 82,
    "start_time": "2021-12-19T10:59:01.016Z"
   },
   {
    "duration": 253,
    "start_time": "2021-12-19T11:00:34.237Z"
   },
   {
    "duration": 398,
    "start_time": "2021-12-19T11:04:05.427Z"
   },
   {
    "duration": 239,
    "start_time": "2021-12-19T11:04:15.616Z"
   },
   {
    "duration": 257,
    "start_time": "2021-12-19T11:05:55.117Z"
   },
   {
    "duration": 124,
    "start_time": "2021-12-19T12:11:08.646Z"
   },
   {
    "duration": 10,
    "start_time": "2021-12-19T12:11:13.862Z"
   },
   {
    "duration": 19,
    "start_time": "2021-12-19T12:11:33.277Z"
   },
   {
    "duration": 21,
    "start_time": "2021-12-19T12:11:49.913Z"
   },
   {
    "duration": 32,
    "start_time": "2021-12-19T12:12:06.507Z"
   },
   {
    "duration": 4698,
    "start_time": "2021-12-19T12:15:15.772Z"
   },
   {
    "duration": 4,
    "start_time": "2021-12-19T12:15:20.473Z"
   },
   {
    "duration": 6,
    "start_time": "2021-12-19T12:15:20.480Z"
   },
   {
    "duration": 102,
    "start_time": "2021-12-19T12:15:20.488Z"
   },
   {
    "duration": 100,
    "start_time": "2021-12-19T12:15:20.617Z"
   },
   {
    "duration": 119,
    "start_time": "2021-12-19T12:15:20.719Z"
   },
   {
    "duration": 90,
    "start_time": "2021-12-19T12:15:20.840Z"
   },
   {
    "duration": 37,
    "start_time": "2021-12-19T12:15:20.933Z"
   },
   {
    "duration": 53,
    "start_time": "2021-12-19T12:15:20.972Z"
   },
   {
    "duration": 7,
    "start_time": "2021-12-19T12:15:21.027Z"
   },
   {
    "duration": 24,
    "start_time": "2021-12-19T12:15:21.036Z"
   },
   {
    "duration": 122,
    "start_time": "2021-12-19T12:15:21.062Z"
   },
   {
    "duration": 9,
    "start_time": "2021-12-19T12:18:40.646Z"
   },
   {
    "duration": 89,
    "start_time": "2021-12-19T12:18:48.173Z"
   },
   {
    "duration": 25,
    "start_time": "2021-12-19T12:20:25.768Z"
   },
   {
    "duration": 88,
    "start_time": "2021-12-19T12:20:29.384Z"
   },
   {
    "duration": 20,
    "start_time": "2021-12-19T12:21:08.518Z"
   },
   {
    "duration": 274,
    "start_time": "2021-12-19T12:24:21.917Z"
   },
   {
    "duration": 4504,
    "start_time": "2021-12-19T12:25:42.905Z"
   },
   {
    "duration": 5,
    "start_time": "2021-12-19T12:25:47.412Z"
   },
   {
    "duration": 6,
    "start_time": "2021-12-19T12:25:47.422Z"
   },
   {
    "duration": 133,
    "start_time": "2021-12-19T12:25:47.432Z"
   },
   {
    "duration": 105,
    "start_time": "2021-12-19T12:25:47.568Z"
   },
   {
    "duration": 258,
    "start_time": "2021-12-19T12:25:47.677Z"
   },
   {
    "duration": 122,
    "start_time": "2021-12-19T12:25:47.940Z"
   },
   {
    "duration": 61,
    "start_time": "2021-12-19T12:25:48.067Z"
   },
   {
    "duration": 32,
    "start_time": "2021-12-19T12:25:48.132Z"
   },
   {
    "duration": 9,
    "start_time": "2021-12-19T12:25:48.167Z"
   },
   {
    "duration": 54,
    "start_time": "2021-12-19T12:25:48.180Z"
   },
   {
    "duration": 126,
    "start_time": "2021-12-19T12:25:48.237Z"
   },
   {
    "duration": 37,
    "start_time": "2021-12-19T12:25:49.824Z"
   },
   {
    "duration": 21,
    "start_time": "2021-12-19T12:25:55.501Z"
   },
   {
    "duration": 7,
    "start_time": "2021-12-19T12:25:59.172Z"
   },
   {
    "duration": 17,
    "start_time": "2021-12-19T12:26:03.824Z"
   },
   {
    "duration": 32,
    "start_time": "2021-12-19T12:26:06.678Z"
   },
   {
    "duration": 7,
    "start_time": "2021-12-19T12:30:32.494Z"
   },
   {
    "duration": 50,
    "start_time": "2021-12-19T12:37:06.467Z"
   },
   {
    "duration": 22,
    "start_time": "2021-12-19T12:37:08.814Z"
   },
   {
    "duration": 303,
    "start_time": "2021-12-19T12:37:38.685Z"
   },
   {
    "duration": 63,
    "start_time": "2021-12-19T12:38:00.971Z"
   },
   {
    "duration": 31,
    "start_time": "2021-12-19T12:38:03.126Z"
   },
   {
    "duration": 32,
    "start_time": "2021-12-19T12:42:51.337Z"
   },
   {
    "duration": 36,
    "start_time": "2021-12-19T12:43:49.667Z"
   },
   {
    "duration": 40,
    "start_time": "2021-12-19T12:45:17.800Z"
   },
   {
    "duration": 290,
    "start_time": "2021-12-19T12:48:25.047Z"
   },
   {
    "duration": 40,
    "start_time": "2021-12-19T12:48:38.027Z"
   },
   {
    "duration": 41,
    "start_time": "2021-12-19T12:48:49.519Z"
   },
   {
    "duration": 10,
    "start_time": "2021-12-19T13:13:22.503Z"
   },
   {
    "duration": 10766,
    "start_time": "2021-12-20T13:00:31.660Z"
   },
   {
    "duration": 1013,
    "start_time": "2021-12-20T13:00:42.429Z"
   },
   {
    "duration": 5,
    "start_time": "2021-12-20T13:00:43.445Z"
   },
   {
    "duration": 119,
    "start_time": "2021-12-20T13:00:43.452Z"
   },
   {
    "duration": 73,
    "start_time": "2021-12-20T13:00:43.573Z"
   },
   {
    "duration": 121,
    "start_time": "2021-12-20T13:00:43.663Z"
   },
   {
    "duration": 96,
    "start_time": "2021-12-20T13:00:43.787Z"
   },
   {
    "duration": 35,
    "start_time": "2021-12-20T13:00:43.887Z"
   },
   {
    "duration": 57,
    "start_time": "2021-12-20T13:00:43.924Z"
   },
   {
    "duration": 7,
    "start_time": "2021-12-20T13:00:43.983Z"
   },
   {
    "duration": 23,
    "start_time": "2021-12-20T13:00:43.992Z"
   },
   {
    "duration": 122,
    "start_time": "2021-12-20T13:00:44.017Z"
   },
   {
    "duration": 35,
    "start_time": "2021-12-20T13:00:44.142Z"
   },
   {
    "duration": 3,
    "start_time": "2021-12-20T13:00:44.180Z"
   },
   {
    "duration": 10,
    "start_time": "2021-12-20T13:00:44.186Z"
   },
   {
    "duration": 81,
    "start_time": "2021-12-20T13:00:44.200Z"
   },
   {
    "duration": 31,
    "start_time": "2021-12-20T13:00:44.284Z"
   },
   {
    "duration": 87,
    "start_time": "2021-12-20T13:00:44.318Z"
   },
   {
    "duration": 11,
    "start_time": "2021-12-20T13:00:44.409Z"
   },
   {
    "duration": 4,
    "start_time": "2021-12-20T13:00:44.423Z"
   },
   {
    "duration": 2358,
    "start_time": "2021-12-20T13:02:01.130Z"
   },
   {
    "duration": 1338,
    "start_time": "2021-12-20T13:02:19.915Z"
   },
   {
    "duration": 4101,
    "start_time": "2021-12-20T13:06:16.546Z"
   },
   {
    "duration": 4101,
    "start_time": "2021-12-20T13:06:31.852Z"
   },
   {
    "duration": 6543,
    "start_time": "2021-12-20T13:06:48.485Z"
   },
   {
    "duration": 4196,
    "start_time": "2021-12-20T13:08:06.500Z"
   },
   {
    "duration": 3095,
    "start_time": "2021-12-20T13:08:15.284Z"
   },
   {
    "duration": 416,
    "start_time": "2021-12-20T13:11:02.555Z"
   },
   {
    "duration": 4444,
    "start_time": "2021-12-20T13:15:00.010Z"
   },
   {
    "duration": 1085,
    "start_time": "2021-12-20T13:15:04.458Z"
   },
   {
    "duration": 5,
    "start_time": "2021-12-20T13:15:05.546Z"
   },
   {
    "duration": 138,
    "start_time": "2021-12-20T13:15:05.553Z"
   },
   {
    "duration": 99,
    "start_time": "2021-12-20T13:15:05.694Z"
   },
   {
    "duration": 180,
    "start_time": "2021-12-20T13:15:05.796Z"
   },
   {
    "duration": 97,
    "start_time": "2021-12-20T13:15:05.979Z"
   },
   {
    "duration": 45,
    "start_time": "2021-12-20T13:15:06.079Z"
   },
   {
    "duration": 59,
    "start_time": "2021-12-20T13:15:06.130Z"
   },
   {
    "duration": 7,
    "start_time": "2021-12-20T13:15:06.193Z"
   },
   {
    "duration": 61,
    "start_time": "2021-12-20T13:15:06.203Z"
   },
   {
    "duration": 119,
    "start_time": "2021-12-20T13:15:06.267Z"
   },
   {
    "duration": 27,
    "start_time": "2021-12-20T13:15:06.389Z"
   },
   {
    "duration": 3,
    "start_time": "2021-12-20T13:15:06.419Z"
   },
   {
    "duration": 8,
    "start_time": "2021-12-20T13:15:06.425Z"
   },
   {
    "duration": 64,
    "start_time": "2021-12-20T13:15:06.464Z"
   },
   {
    "duration": 59,
    "start_time": "2021-12-20T13:15:06.531Z"
   },
   {
    "duration": 60,
    "start_time": "2021-12-20T13:15:06.593Z"
   },
   {
    "duration": 18,
    "start_time": "2021-12-20T13:15:06.656Z"
   },
   {
    "duration": 4512,
    "start_time": "2021-12-20T13:15:06.677Z"
   },
   {
    "duration": 1015,
    "start_time": "2021-12-20T13:15:11.192Z"
   },
   {
    "duration": 4267,
    "start_time": "2021-12-20T13:18:15.990Z"
   },
   {
    "duration": 1232,
    "start_time": "2021-12-20T13:18:20.260Z"
   },
   {
    "duration": 7,
    "start_time": "2021-12-20T13:18:21.496Z"
   },
   {
    "duration": 281,
    "start_time": "2021-12-20T13:18:21.507Z"
   },
   {
    "duration": 210,
    "start_time": "2021-12-20T13:18:21.791Z"
   },
   {
    "duration": 284,
    "start_time": "2021-12-20T13:18:22.003Z"
   },
   {
    "duration": 117,
    "start_time": "2021-12-20T13:18:22.290Z"
   },
   {
    "duration": 89,
    "start_time": "2021-12-20T13:18:22.411Z"
   },
   {
    "duration": 31,
    "start_time": "2021-12-20T13:18:22.503Z"
   },
   {
    "duration": 27,
    "start_time": "2021-12-20T13:18:22.537Z"
   },
   {
    "duration": 28,
    "start_time": "2021-12-20T13:18:22.567Z"
   },
   {
    "duration": 122,
    "start_time": "2021-12-20T13:18:22.598Z"
   },
   {
    "duration": 39,
    "start_time": "2021-12-20T13:18:22.723Z"
   },
   {
    "duration": 4,
    "start_time": "2021-12-20T13:18:22.765Z"
   },
   {
    "duration": 9,
    "start_time": "2021-12-20T13:18:22.771Z"
   },
   {
    "duration": 80,
    "start_time": "2021-12-20T13:18:22.783Z"
   },
   {
    "duration": 28,
    "start_time": "2021-12-20T13:18:22.866Z"
   },
   {
    "duration": 68,
    "start_time": "2021-12-20T13:18:22.896Z"
   },
   {
    "duration": 8,
    "start_time": "2021-12-20T13:18:22.967Z"
   },
   {
    "duration": 4880,
    "start_time": "2021-12-20T13:18:22.978Z"
   },
   {
    "duration": 457,
    "start_time": "2021-12-20T13:18:27.863Z"
   },
   {
    "duration": 553,
    "start_time": "2021-12-20T13:18:55.358Z"
   },
   {
    "duration": 197669,
    "start_time": "2021-12-20T13:19:04.912Z"
   },
   {
    "duration": 305,
    "start_time": "2021-12-20T13:22:29.581Z"
   },
   {
    "duration": 305,
    "start_time": "2021-12-20T13:22:46.828Z"
   },
   {
    "duration": 488,
    "start_time": "2021-12-20T13:22:54.380Z"
   },
   {
    "duration": 301,
    "start_time": "2021-12-20T13:24:17.422Z"
   },
   {
    "duration": 304,
    "start_time": "2021-12-20T13:24:29.581Z"
   },
   {
    "duration": 4060,
    "start_time": "2021-12-20T13:24:47.795Z"
   },
   {
    "duration": 46543,
    "start_time": "2021-12-20T13:25:53.440Z"
   },
   {
    "duration": 226,
    "start_time": "2021-12-20T13:26:41.311Z"
   },
   {
    "duration": 255,
    "start_time": "2021-12-20T13:26:54.495Z"
   },
   {
    "duration": 3686,
    "start_time": "2021-12-20T13:27:00.928Z"
   },
   {
    "duration": 411,
    "start_time": "2021-12-20T13:27:27.028Z"
   },
   {
    "duration": 340,
    "start_time": "2021-12-20T13:27:31.702Z"
   },
   {
    "duration": 6,
    "start_time": "2021-12-20T13:27:41.153Z"
   },
   {
    "duration": 446,
    "start_time": "2021-12-20T13:29:00.583Z"
   },
   {
    "duration": 310,
    "start_time": "2021-12-20T13:29:19.955Z"
   },
   {
    "duration": 25050,
    "start_time": "2021-12-20T13:29:27.455Z"
   },
   {
    "duration": 3687,
    "start_time": "2021-12-20T13:38:14.829Z"
   },
   {
    "duration": 796,
    "start_time": "2021-12-20T13:40:32.614Z"
   },
   {
    "duration": 703,
    "start_time": "2021-12-20T13:44:08.852Z"
   },
   {
    "duration": 5440,
    "start_time": "2021-12-20T13:45:31.117Z"
   },
   {
    "duration": 10,
    "start_time": "2021-12-20T13:45:36.562Z"
   },
   {
    "duration": 26,
    "start_time": "2021-12-20T13:45:36.576Z"
   },
   {
    "duration": 181,
    "start_time": "2021-12-20T13:45:36.606Z"
   },
   {
    "duration": 102,
    "start_time": "2021-12-20T13:45:36.790Z"
   },
   {
    "duration": 174,
    "start_time": "2021-12-20T13:45:36.895Z"
   },
   {
    "duration": 106,
    "start_time": "2021-12-20T13:45:37.072Z"
   },
   {
    "duration": 39,
    "start_time": "2021-12-20T13:45:37.182Z"
   },
   {
    "duration": 67,
    "start_time": "2021-12-20T13:45:37.225Z"
   },
   {
    "duration": 7,
    "start_time": "2021-12-20T13:45:37.295Z"
   },
   {
    "duration": 71,
    "start_time": "2021-12-20T13:45:37.304Z"
   },
   {
    "duration": 105,
    "start_time": "2021-12-20T13:45:37.378Z"
   },
   {
    "duration": 40,
    "start_time": "2021-12-20T13:45:37.487Z"
   },
   {
    "duration": 4,
    "start_time": "2021-12-20T13:45:37.530Z"
   },
   {
    "duration": 11,
    "start_time": "2021-12-20T13:45:37.537Z"
   },
   {
    "duration": 40,
    "start_time": "2021-12-20T13:45:37.564Z"
   },
   {
    "duration": 27,
    "start_time": "2021-12-20T13:45:37.606Z"
   },
   {
    "duration": 67,
    "start_time": "2021-12-20T13:45:37.641Z"
   },
   {
    "duration": 8,
    "start_time": "2021-12-20T13:45:37.711Z"
   },
   {
    "duration": 18,
    "start_time": "2021-12-20T13:45:37.721Z"
   },
   {
    "duration": 4068,
    "start_time": "2021-12-20T13:45:37.742Z"
   },
   {
    "duration": 602,
    "start_time": "2021-12-20T13:45:41.812Z"
   },
   {
    "duration": 4588,
    "start_time": "2021-12-20T13:51:04.672Z"
   },
   {
    "duration": 7,
    "start_time": "2021-12-20T13:51:09.263Z"
   },
   {
    "duration": 27,
    "start_time": "2021-12-20T13:51:09.274Z"
   },
   {
    "duration": 193,
    "start_time": "2021-12-20T13:51:09.304Z"
   },
   {
    "duration": 94,
    "start_time": "2021-12-20T13:51:09.499Z"
   },
   {
    "duration": 128,
    "start_time": "2021-12-20T13:51:09.596Z"
   },
   {
    "duration": 92,
    "start_time": "2021-12-20T13:51:09.726Z"
   },
   {
    "duration": 71,
    "start_time": "2021-12-20T13:51:09.821Z"
   },
   {
    "duration": 29,
    "start_time": "2021-12-20T13:51:09.895Z"
   },
   {
    "duration": 25,
    "start_time": "2021-12-20T13:51:09.926Z"
   },
   {
    "duration": 26,
    "start_time": "2021-12-20T13:51:09.963Z"
   },
   {
    "duration": 101,
    "start_time": "2021-12-20T13:51:09.992Z"
   },
   {
    "duration": 847,
    "start_time": "2021-12-20T13:53:42.348Z"
   },
   {
    "duration": 1160,
    "start_time": "2021-12-20T13:54:35.802Z"
   },
   {
    "duration": 347,
    "start_time": "2021-12-20T13:56:09.612Z"
   },
   {
    "duration": 4160,
    "start_time": "2021-12-20T13:56:15.285Z"
   },
   {
    "duration": 1246,
    "start_time": "2021-12-20T13:56:37.522Z"
   },
   {
    "duration": 340,
    "start_time": "2021-12-20T13:57:11.538Z"
   },
   {
    "duration": 301,
    "start_time": "2021-12-20T14:08:27.274Z"
   },
   {
    "duration": 290,
    "start_time": "2021-12-20T14:08:52.720Z"
   },
   {
    "duration": 505,
    "start_time": "2021-12-20T14:09:26.850Z"
   },
   {
    "duration": 4553,
    "start_time": "2021-12-20T14:09:49.851Z"
   },
   {
    "duration": 531,
    "start_time": "2021-12-20T14:10:17.181Z"
   },
   {
    "duration": 3923,
    "start_time": "2021-12-20T14:10:26.767Z"
   },
   {
    "duration": 3729,
    "start_time": "2021-12-20T14:10:45.875Z"
   },
   {
    "duration": 3610,
    "start_time": "2021-12-20T14:11:03.520Z"
   },
   {
    "duration": 3610,
    "start_time": "2021-12-20T14:16:09.661Z"
   },
   {
    "duration": 4942,
    "start_time": "2021-12-20T14:16:28.735Z"
   },
   {
    "duration": 4290,
    "start_time": "2021-12-20T14:16:51.804Z"
   },
   {
    "duration": 3651,
    "start_time": "2021-12-20T14:17:06.539Z"
   },
   {
    "duration": 3657,
    "start_time": "2021-12-20T14:17:21.475Z"
   },
   {
    "duration": 21,
    "start_time": "2021-12-20T14:37:48.313Z"
   },
   {
    "duration": 7055,
    "start_time": "2021-12-20T14:38:29.343Z"
   },
   {
    "duration": 9,
    "start_time": "2021-12-20T14:38:36.412Z"
   },
   {
    "duration": 21,
    "start_time": "2021-12-20T14:38:36.425Z"
   },
   {
    "duration": 233,
    "start_time": "2021-12-20T14:38:36.452Z"
   },
   {
    "duration": 119,
    "start_time": "2021-12-20T14:38:36.689Z"
   },
   {
    "duration": 166,
    "start_time": "2021-12-20T14:38:36.812Z"
   },
   {
    "duration": 117,
    "start_time": "2021-12-20T14:38:36.980Z"
   },
   {
    "duration": 77,
    "start_time": "2021-12-20T14:38:37.103Z"
   },
   {
    "duration": 40,
    "start_time": "2021-12-20T14:38:37.184Z"
   },
   {
    "duration": 13,
    "start_time": "2021-12-20T14:38:37.226Z"
   },
   {
    "duration": 37,
    "start_time": "2021-12-20T14:38:37.242Z"
   },
   {
    "duration": 143,
    "start_time": "2021-12-20T14:38:37.282Z"
   },
   {
    "duration": 44,
    "start_time": "2021-12-20T14:38:37.428Z"
   },
   {
    "duration": 4,
    "start_time": "2021-12-20T14:38:37.475Z"
   },
   {
    "duration": 14,
    "start_time": "2021-12-20T14:38:37.483Z"
   },
   {
    "duration": 38,
    "start_time": "2021-12-20T14:38:37.500Z"
   },
   {
    "duration": 25,
    "start_time": "2021-12-20T14:38:37.563Z"
   },
   {
    "duration": 594,
    "start_time": "2021-12-20T14:38:37.591Z"
   },
   {
    "duration": -19,
    "start_time": "2021-12-20T14:38:38.208Z"
   },
   {
    "duration": -26,
    "start_time": "2021-12-20T14:38:38.217Z"
   },
   {
    "duration": 41,
    "start_time": "2021-12-20T14:40:06.267Z"
   },
   {
    "duration": 42,
    "start_time": "2021-12-20T14:40:14.053Z"
   },
   {
    "duration": 10,
    "start_time": "2021-12-20T14:40:24.994Z"
   },
   {
    "duration": 24,
    "start_time": "2021-12-20T14:40:25.612Z"
   },
   {
    "duration": 377,
    "start_time": "2021-12-20T14:43:47.636Z"
   },
   {
    "duration": 4102,
    "start_time": "2021-12-20T14:44:05.076Z"
   },
   {
    "duration": 6,
    "start_time": "2021-12-20T14:44:09.182Z"
   },
   {
    "duration": 7,
    "start_time": "2021-12-20T14:44:09.192Z"
   },
   {
    "duration": 121,
    "start_time": "2021-12-20T14:44:09.203Z"
   },
   {
    "duration": 96,
    "start_time": "2021-12-20T14:44:09.329Z"
   },
   {
    "duration": 152,
    "start_time": "2021-12-20T14:44:09.427Z"
   },
   {
    "duration": 96,
    "start_time": "2021-12-20T14:44:09.582Z"
   },
   {
    "duration": 36,
    "start_time": "2021-12-20T14:44:09.682Z"
   },
   {
    "duration": 63,
    "start_time": "2021-12-20T14:44:09.721Z"
   },
   {
    "duration": 8,
    "start_time": "2021-12-20T14:44:09.786Z"
   },
   {
    "duration": 22,
    "start_time": "2021-12-20T14:44:09.797Z"
   },
   {
    "duration": 122,
    "start_time": "2021-12-20T14:44:09.822Z"
   },
   {
    "duration": 35,
    "start_time": "2021-12-20T14:44:09.946Z"
   },
   {
    "duration": 3,
    "start_time": "2021-12-20T14:44:09.983Z"
   },
   {
    "duration": 11,
    "start_time": "2021-12-20T14:44:09.989Z"
   },
   {
    "duration": 66,
    "start_time": "2021-12-20T14:44:10.002Z"
   },
   {
    "duration": 23,
    "start_time": "2021-12-20T14:44:10.071Z"
   },
   {
    "duration": 1074,
    "start_time": "2021-12-20T14:44:10.096Z"
   },
   {
    "duration": 1110,
    "start_time": "2021-12-20T14:45:27.060Z"
   },
   {
    "duration": 484,
    "start_time": "2021-12-20T14:45:48.086Z"
   },
   {
    "duration": 344,
    "start_time": "2021-12-20T14:51:09.638Z"
   },
   {
    "duration": 448,
    "start_time": "2021-12-20T14:51:42.409Z"
   },
   {
    "duration": 3559,
    "start_time": "2021-12-20T14:59:50.913Z"
   },
   {
    "duration": 4640,
    "start_time": "2021-12-20T15:00:37.001Z"
   },
   {
    "duration": 7,
    "start_time": "2021-12-20T15:00:41.645Z"
   },
   {
    "duration": 5,
    "start_time": "2021-12-20T15:00:41.656Z"
   },
   {
    "duration": 116,
    "start_time": "2021-12-20T15:00:41.665Z"
   },
   {
    "duration": 117,
    "start_time": "2021-12-20T15:00:41.784Z"
   },
   {
    "duration": 183,
    "start_time": "2021-12-20T15:00:41.905Z"
   },
   {
    "duration": 97,
    "start_time": "2021-12-20T15:00:42.091Z"
   },
   {
    "duration": 38,
    "start_time": "2021-12-20T15:00:42.193Z"
   },
   {
    "duration": 64,
    "start_time": "2021-12-20T15:00:42.235Z"
   },
   {
    "duration": 10,
    "start_time": "2021-12-20T15:00:42.302Z"
   },
   {
    "duration": 62,
    "start_time": "2021-12-20T15:00:42.315Z"
   },
   {
    "duration": 102,
    "start_time": "2021-12-20T15:00:42.380Z"
   },
   {
    "duration": 25,
    "start_time": "2021-12-20T15:00:42.484Z"
   },
   {
    "duration": 3,
    "start_time": "2021-12-20T15:00:42.511Z"
   },
   {
    "duration": 8,
    "start_time": "2021-12-20T15:00:42.517Z"
   },
   {
    "duration": 34,
    "start_time": "2021-12-20T15:00:42.564Z"
   },
   {
    "duration": 23,
    "start_time": "2021-12-20T15:00:42.600Z"
   },
   {
    "duration": 268,
    "start_time": "2021-12-20T15:00:42.625Z"
   },
   {
    "duration": 9,
    "start_time": "2021-12-20T15:00:42.896Z"
   },
   {
    "duration": 22,
    "start_time": "2021-12-20T15:00:42.908Z"
   },
   {
    "duration": 3864,
    "start_time": "2021-12-20T15:00:42.932Z"
   },
   {
    "duration": 4021,
    "start_time": "2021-12-20T15:00:46.799Z"
   },
   {
    "duration": 34,
    "start_time": "2021-12-20T15:09:16.755Z"
   },
   {
    "duration": 566,
    "start_time": "2021-12-20T15:18:33.400Z"
   },
   {
    "duration": 467,
    "start_time": "2021-12-20T15:19:10.781Z"
   },
   {
    "duration": 122,
    "start_time": "2021-12-20T15:19:29.195Z"
   },
   {
    "duration": 1123,
    "start_time": "2021-12-20T15:19:34.405Z"
   },
   {
    "duration": 1255,
    "start_time": "2021-12-20T15:19:45.083Z"
   },
   {
    "duration": 189,
    "start_time": "2021-12-20T15:23:02.488Z"
   },
   {
    "duration": 797,
    "start_time": "2021-12-20T15:23:11.230Z"
   },
   {
    "duration": 823,
    "start_time": "2021-12-20T15:23:48.204Z"
   },
   {
    "duration": 817,
    "start_time": "2021-12-20T15:24:26.111Z"
   },
   {
    "duration": 330,
    "start_time": "2021-12-20T15:29:39.043Z"
   },
   {
    "duration": 5536,
    "start_time": "2021-12-20T15:29:47.844Z"
   },
   {
    "duration": 5,
    "start_time": "2021-12-20T15:29:53.384Z"
   },
   {
    "duration": 6,
    "start_time": "2021-12-20T15:29:53.392Z"
   },
   {
    "duration": 128,
    "start_time": "2021-12-20T15:29:53.400Z"
   },
   {
    "duration": 75,
    "start_time": "2021-12-20T15:29:53.562Z"
   },
   {
    "duration": 116,
    "start_time": "2021-12-20T15:29:53.662Z"
   },
   {
    "duration": 97,
    "start_time": "2021-12-20T15:29:53.781Z"
   },
   {
    "duration": 77,
    "start_time": "2021-12-20T15:29:53.885Z"
   },
   {
    "duration": 29,
    "start_time": "2021-12-20T15:29:53.966Z"
   },
   {
    "duration": 21,
    "start_time": "2021-12-20T15:29:53.999Z"
   },
   {
    "duration": 48,
    "start_time": "2021-12-20T15:29:54.022Z"
   },
   {
    "duration": 119,
    "start_time": "2021-12-20T15:29:54.073Z"
   },
   {
    "duration": 27,
    "start_time": "2021-12-20T15:29:54.195Z"
   },
   {
    "duration": 4,
    "start_time": "2021-12-20T15:29:54.226Z"
   },
   {
    "duration": 37,
    "start_time": "2021-12-20T15:29:54.233Z"
   },
   {
    "duration": 32,
    "start_time": "2021-12-20T15:29:54.273Z"
   },
   {
    "duration": 23,
    "start_time": "2021-12-20T15:29:54.308Z"
   },
   {
    "duration": 250,
    "start_time": "2021-12-20T15:29:54.364Z"
   },
   {
    "duration": 9,
    "start_time": "2021-12-20T15:29:54.617Z"
   },
   {
    "duration": 41,
    "start_time": "2021-12-20T15:29:54.629Z"
   },
   {
    "duration": 3619,
    "start_time": "2021-12-20T15:29:54.673Z"
   },
   {
    "duration": 4569,
    "start_time": "2021-12-20T15:29:58.294Z"
   },
   {
    "duration": 1239,
    "start_time": "2021-12-20T15:30:02.868Z"
   },
   {
    "duration": 8,
    "start_time": "2021-12-20T15:30:04.110Z"
   },
   {
    "duration": 43,
    "start_time": "2021-12-20T15:30:55.020Z"
   },
   {
    "duration": 7,
    "start_time": "2021-12-20T15:31:24.827Z"
   },
   {
    "duration": 9,
    "start_time": "2021-12-20T15:31:34.398Z"
   },
   {
    "duration": 4226,
    "start_time": "2021-12-20T15:43:24.133Z"
   },
   {
    "duration": 5,
    "start_time": "2021-12-20T15:43:28.363Z"
   },
   {
    "duration": 15,
    "start_time": "2021-12-20T15:43:28.371Z"
   },
   {
    "duration": 118,
    "start_time": "2021-12-20T15:43:28.389Z"
   },
   {
    "duration": 100,
    "start_time": "2021-12-20T15:43:28.509Z"
   },
   {
    "duration": 160,
    "start_time": "2021-12-20T15:43:28.611Z"
   },
   {
    "duration": 97,
    "start_time": "2021-12-20T15:43:28.773Z"
   },
   {
    "duration": 37,
    "start_time": "2021-12-20T15:43:28.874Z"
   },
   {
    "duration": 53,
    "start_time": "2021-12-20T15:43:28.914Z"
   },
   {
    "duration": 7,
    "start_time": "2021-12-20T15:43:28.970Z"
   },
   {
    "duration": 23,
    "start_time": "2021-12-20T15:43:28.979Z"
   },
   {
    "duration": 131,
    "start_time": "2021-12-20T15:43:29.004Z"
   },
   {
    "duration": 47,
    "start_time": "2021-12-20T15:43:29.138Z"
   },
   {
    "duration": 3,
    "start_time": "2021-12-20T15:43:29.188Z"
   },
   {
    "duration": 8,
    "start_time": "2021-12-20T15:43:29.194Z"
   },
   {
    "duration": 63,
    "start_time": "2021-12-20T15:43:29.205Z"
   },
   {
    "duration": 30,
    "start_time": "2021-12-20T15:43:29.272Z"
   },
   {
    "duration": 428,
    "start_time": "2021-12-20T15:43:29.305Z"
   },
   {
    "duration": 11,
    "start_time": "2021-12-20T15:43:29.736Z"
   },
   {
    "duration": 27,
    "start_time": "2021-12-20T15:43:29.763Z"
   },
   {
    "duration": 3612,
    "start_time": "2021-12-20T15:43:29.793Z"
   },
   {
    "duration": 4182,
    "start_time": "2021-12-20T15:43:33.408Z"
   },
   {
    "duration": 951,
    "start_time": "2021-12-20T15:43:37.595Z"
   },
   {
    "duration": 294,
    "start_time": "2021-12-20T15:43:38.548Z"
   },
   {
    "duration": 8369,
    "start_time": "2021-12-20T15:43:30.476Z"
   },
   {
    "duration": 8365,
    "start_time": "2021-12-20T15:43:30.483Z"
   },
   {
    "duration": 336,
    "start_time": "2021-12-20T15:45:24.198Z"
   },
   {
    "duration": 408,
    "start_time": "2021-12-20T15:45:29.310Z"
   },
   {
    "duration": 47,
    "start_time": "2021-12-20T15:46:19.100Z"
   },
   {
    "duration": 11,
    "start_time": "2021-12-20T15:46:30.993Z"
   },
   {
    "duration": 7,
    "start_time": "2021-12-20T15:46:33.902Z"
   },
   {
    "duration": 10386,
    "start_time": "2021-12-21T14:36:30.968Z"
   },
   {
    "duration": 1730,
    "start_time": "2021-12-21T14:36:41.357Z"
   },
   {
    "duration": 4,
    "start_time": "2021-12-21T14:36:43.090Z"
   },
   {
    "duration": 131,
    "start_time": "2021-12-21T14:36:43.097Z"
   },
   {
    "duration": 94,
    "start_time": "2021-12-21T14:36:43.231Z"
   },
   {
    "duration": 161,
    "start_time": "2021-12-21T14:36:43.327Z"
   },
   {
    "duration": 90,
    "start_time": "2021-12-21T14:36:43.491Z"
   },
   {
    "duration": 36,
    "start_time": "2021-12-21T14:36:43.584Z"
   },
   {
    "duration": 61,
    "start_time": "2021-12-21T14:36:43.624Z"
   },
   {
    "duration": 7,
    "start_time": "2021-12-21T14:36:43.688Z"
   },
   {
    "duration": 25,
    "start_time": "2021-12-21T14:36:43.697Z"
   },
   {
    "duration": 113,
    "start_time": "2021-12-21T14:36:43.724Z"
   },
   {
    "duration": 39,
    "start_time": "2021-12-21T14:36:43.839Z"
   },
   {
    "duration": 3,
    "start_time": "2021-12-21T14:36:43.881Z"
   },
   {
    "duration": 12,
    "start_time": "2021-12-21T14:36:43.886Z"
   },
   {
    "duration": 18,
    "start_time": "2021-12-21T14:36:43.901Z"
   },
   {
    "duration": 52,
    "start_time": "2021-12-21T14:36:43.921Z"
   },
   {
    "duration": 324,
    "start_time": "2021-12-21T14:36:43.975Z"
   },
   {
    "duration": 22,
    "start_time": "2021-12-21T14:36:44.302Z"
   },
   {
    "duration": 47,
    "start_time": "2021-12-21T14:36:44.328Z"
   },
   {
    "duration": 4264,
    "start_time": "2021-12-21T14:36:44.378Z"
   },
   {
    "duration": 3463,
    "start_time": "2021-12-21T14:36:48.644Z"
   },
   {
    "duration": 806,
    "start_time": "2021-12-21T14:36:52.111Z"
   },
   {
    "duration": 12,
    "start_time": "2021-12-21T14:36:52.919Z"
   },
   {
    "duration": 29,
    "start_time": "2021-12-21T14:36:52.933Z"
   },
   {
    "duration": 750,
    "start_time": "2021-12-21T14:36:52.964Z"
   },
   {
    "duration": 10800,
    "start_time": "2021-12-21T14:38:11.036Z"
   },
   {
    "duration": 4148,
    "start_time": "2021-12-21T14:38:37.565Z"
   },
   {
    "duration": 1658,
    "start_time": "2021-12-21T14:38:41.717Z"
   },
   {
    "duration": 5,
    "start_time": "2021-12-21T14:38:43.379Z"
   },
   {
    "duration": 128,
    "start_time": "2021-12-21T14:38:43.387Z"
   },
   {
    "duration": 106,
    "start_time": "2021-12-21T14:38:43.518Z"
   },
   {
    "duration": 156,
    "start_time": "2021-12-21T14:38:43.627Z"
   },
   {
    "duration": 97,
    "start_time": "2021-12-21T14:38:43.786Z"
   },
   {
    "duration": 42,
    "start_time": "2021-12-21T14:38:43.887Z"
   },
   {
    "duration": 56,
    "start_time": "2021-12-21T14:38:43.932Z"
   },
   {
    "duration": 8,
    "start_time": "2021-12-21T14:38:43.992Z"
   },
   {
    "duration": 27,
    "start_time": "2021-12-21T14:38:44.002Z"
   },
   {
    "duration": 149,
    "start_time": "2021-12-21T14:38:44.031Z"
   },
   {
    "duration": 26,
    "start_time": "2021-12-21T14:38:44.183Z"
   },
   {
    "duration": 3,
    "start_time": "2021-12-21T14:38:44.211Z"
   },
   {
    "duration": 9,
    "start_time": "2021-12-21T14:38:44.217Z"
   },
   {
    "duration": 21,
    "start_time": "2021-12-21T14:38:44.264Z"
   },
   {
    "duration": 23,
    "start_time": "2021-12-21T14:38:44.287Z"
   },
   {
    "duration": 280,
    "start_time": "2021-12-21T14:38:44.313Z"
   },
   {
    "duration": 8,
    "start_time": "2021-12-21T14:38:44.595Z"
   },
   {
    "duration": 21,
    "start_time": "2021-12-21T14:38:44.605Z"
   },
   {
    "duration": 4935,
    "start_time": "2021-12-21T14:38:44.628Z"
   },
   {
    "duration": 3643,
    "start_time": "2021-12-21T14:38:49.565Z"
   },
   {
    "duration": 830,
    "start_time": "2021-12-21T14:38:53.213Z"
   },
   {
    "duration": 20,
    "start_time": "2021-12-21T14:38:54.047Z"
   },
   {
    "duration": 8,
    "start_time": "2021-12-21T14:38:54.069Z"
   },
   {
    "duration": 772,
    "start_time": "2021-12-21T14:38:54.080Z"
   },
   {
    "duration": 127,
    "start_time": "2021-12-21T14:42:24.283Z"
   },
   {
    "duration": 8,
    "start_time": "2021-12-21T14:45:16.227Z"
   },
   {
    "duration": 4,
    "start_time": "2021-12-21T14:45:56.089Z"
   },
   {
    "duration": 7,
    "start_time": "2021-12-21T14:46:05.653Z"
   },
   {
    "duration": 10,
    "start_time": "2021-12-21T14:46:15.213Z"
   },
   {
    "duration": 316,
    "start_time": "2021-12-21T14:46:22.642Z"
   },
   {
    "duration": 10,
    "start_time": "2021-12-21T14:46:32.642Z"
   },
   {
    "duration": 10,
    "start_time": "2021-12-21T14:46:40.078Z"
   },
   {
    "duration": 10,
    "start_time": "2021-12-21T14:47:04.398Z"
   },
   {
    "duration": 13,
    "start_time": "2021-12-21T14:48:24.343Z"
   },
   {
    "duration": 5,
    "start_time": "2021-12-21T15:03:21.755Z"
   },
   {
    "duration": 36,
    "start_time": "2021-12-21T15:03:54.814Z"
   },
   {
    "duration": 38,
    "start_time": "2021-12-21T15:04:03.511Z"
   },
   {
    "duration": 11,
    "start_time": "2021-12-21T15:07:40.004Z"
   },
   {
    "duration": 10,
    "start_time": "2021-12-21T15:07:42.425Z"
   },
   {
    "duration": 6,
    "start_time": "2021-12-21T15:07:53.607Z"
   },
   {
    "duration": 37,
    "start_time": "2021-12-21T15:07:58.279Z"
   },
   {
    "duration": 29,
    "start_time": "2021-12-21T15:08:40.161Z"
   },
   {
    "duration": 37,
    "start_time": "2021-12-21T15:10:43.132Z"
   },
   {
    "duration": 68,
    "start_time": "2021-12-21T15:11:27.011Z"
   },
   {
    "duration": 38,
    "start_time": "2021-12-21T15:12:22.418Z"
   },
   {
    "duration": 34,
    "start_time": "2021-12-21T15:12:50.516Z"
   },
   {
    "duration": 37,
    "start_time": "2021-12-21T15:13:49.958Z"
   },
   {
    "duration": 6,
    "start_time": "2021-12-21T15:15:47.102Z"
   },
   {
    "duration": 30,
    "start_time": "2021-12-21T15:15:51.175Z"
   },
   {
    "duration": 5,
    "start_time": "2021-12-21T15:16:46.662Z"
   },
   {
    "duration": 4,
    "start_time": "2021-12-21T15:18:09.598Z"
   },
   {
    "duration": 327,
    "start_time": "2021-12-21T15:19:16.451Z"
   },
   {
    "duration": 5125,
    "start_time": "2021-12-21T15:19:28.849Z"
   },
   {
    "duration": 7,
    "start_time": "2021-12-21T15:19:33.977Z"
   },
   {
    "duration": 7,
    "start_time": "2021-12-21T15:19:33.988Z"
   },
   {
    "duration": 112,
    "start_time": "2021-12-21T15:19:33.998Z"
   },
   {
    "duration": 110,
    "start_time": "2021-12-21T15:19:34.113Z"
   },
   {
    "duration": 171,
    "start_time": "2021-12-21T15:19:34.226Z"
   },
   {
    "duration": 86,
    "start_time": "2021-12-21T15:19:34.399Z"
   },
   {
    "duration": 34,
    "start_time": "2021-12-21T15:19:34.489Z"
   },
   {
    "duration": 57,
    "start_time": "2021-12-21T15:19:34.525Z"
   },
   {
    "duration": 7,
    "start_time": "2021-12-21T15:19:34.585Z"
   },
   {
    "duration": 23,
    "start_time": "2021-12-21T15:19:34.594Z"
   },
   {
    "duration": 123,
    "start_time": "2021-12-21T15:19:34.620Z"
   },
   {
    "duration": 36,
    "start_time": "2021-12-21T15:19:34.746Z"
   },
   {
    "duration": 4,
    "start_time": "2021-12-21T15:19:34.785Z"
   },
   {
    "duration": 7,
    "start_time": "2021-12-21T15:19:34.792Z"
   },
   {
    "duration": 16,
    "start_time": "2021-12-21T15:19:34.802Z"
   },
   {
    "duration": 56,
    "start_time": "2021-12-21T15:19:34.820Z"
   },
   {
    "duration": 271,
    "start_time": "2021-12-21T15:19:34.878Z"
   },
   {
    "duration": 15911,
    "start_time": "2021-12-22T14:34:09.999Z"
   },
   {
    "duration": 1508,
    "start_time": "2021-12-22T14:34:25.913Z"
   },
   {
    "duration": 4,
    "start_time": "2021-12-22T14:34:27.424Z"
   },
   {
    "duration": 172,
    "start_time": "2021-12-22T14:34:27.431Z"
   },
   {
    "duration": 66,
    "start_time": "2021-12-22T14:34:27.605Z"
   },
   {
    "duration": 251,
    "start_time": "2021-12-22T14:34:27.673Z"
   },
   {
    "duration": 62,
    "start_time": "2021-12-22T14:34:27.928Z"
   },
   {
    "duration": 39,
    "start_time": "2021-12-22T14:34:27.993Z"
   },
   {
    "duration": 18,
    "start_time": "2021-12-22T14:34:28.035Z"
   },
   {
    "duration": 6,
    "start_time": "2021-12-22T14:34:28.055Z"
   },
   {
    "duration": 22,
    "start_time": "2021-12-22T14:34:28.063Z"
   },
   {
    "duration": 81,
    "start_time": "2021-12-22T14:34:28.086Z"
   },
   {
    "duration": 16,
    "start_time": "2021-12-22T14:34:28.169Z"
   },
   {
    "duration": 20,
    "start_time": "2021-12-22T14:34:28.187Z"
   },
   {
    "duration": 7,
    "start_time": "2021-12-22T14:34:28.209Z"
   },
   {
    "duration": 15,
    "start_time": "2021-12-22T14:34:28.219Z"
   },
   {
    "duration": 15,
    "start_time": "2021-12-22T14:34:28.236Z"
   },
   {
    "duration": 192,
    "start_time": "2021-12-22T14:34:28.252Z"
   },
   {
    "duration": 6,
    "start_time": "2021-12-22T14:34:28.446Z"
   },
   {
    "duration": 15,
    "start_time": "2021-12-22T14:34:28.454Z"
   },
   {
    "duration": 3180,
    "start_time": "2021-12-22T14:34:28.471Z"
   },
   {
    "duration": 2360,
    "start_time": "2021-12-22T14:34:31.652Z"
   },
   {
    "duration": 558,
    "start_time": "2021-12-22T14:34:34.016Z"
   },
   {
    "duration": 9,
    "start_time": "2021-12-22T14:34:34.576Z"
   },
   {
    "duration": 21,
    "start_time": "2021-12-22T14:34:34.587Z"
   },
   {
    "duration": 6,
    "start_time": "2021-12-22T14:34:34.610Z"
   },
   {
    "duration": 121,
    "start_time": "2021-12-22T14:34:34.618Z"
   },
   {
    "duration": 2,
    "start_time": "2021-12-22T14:34:34.741Z"
   },
   {
    "duration": 474,
    "start_time": "2021-12-22T14:34:34.744Z"
   },
   {
    "duration": 5,
    "start_time": "2021-12-22T14:40:19.619Z"
   },
   {
    "duration": 3275,
    "start_time": "2021-12-22T14:48:55.002Z"
   },
   {
    "duration": 4,
    "start_time": "2021-12-22T14:48:58.279Z"
   },
   {
    "duration": 5,
    "start_time": "2021-12-22T14:48:58.286Z"
   },
   {
    "duration": 117,
    "start_time": "2021-12-22T14:48:58.293Z"
   },
   {
    "duration": 55,
    "start_time": "2021-12-22T14:48:58.412Z"
   },
   {
    "duration": 82,
    "start_time": "2021-12-22T14:48:58.468Z"
   },
   {
    "duration": 75,
    "start_time": "2021-12-22T14:48:58.551Z"
   },
   {
    "duration": 25,
    "start_time": "2021-12-22T14:48:58.629Z"
   },
   {
    "duration": 17,
    "start_time": "2021-12-22T14:48:58.657Z"
   },
   {
    "duration": 34,
    "start_time": "2021-12-22T14:48:58.676Z"
   },
   {
    "duration": 18,
    "start_time": "2021-12-22T14:48:58.712Z"
   },
   {
    "duration": 57,
    "start_time": "2021-12-22T14:48:58.732Z"
   },
   {
    "duration": 17,
    "start_time": "2021-12-22T14:48:58.807Z"
   },
   {
    "duration": 3,
    "start_time": "2021-12-22T14:48:58.825Z"
   },
   {
    "duration": 11,
    "start_time": "2021-12-22T14:48:58.830Z"
   },
   {
    "duration": 28,
    "start_time": "2021-12-22T14:48:58.843Z"
   },
   {
    "duration": 40,
    "start_time": "2021-12-22T14:48:58.873Z"
   },
   {
    "duration": 254,
    "start_time": "2021-12-22T14:48:58.915Z"
   },
   {
    "duration": 7,
    "start_time": "2021-12-22T14:48:59.172Z"
   },
   {
    "duration": 38,
    "start_time": "2021-12-22T14:48:59.182Z"
   },
   {
    "duration": 2758,
    "start_time": "2021-12-22T14:48:59.222Z"
   },
   {
    "duration": 2183,
    "start_time": "2021-12-22T14:49:01.982Z"
   },
   {
    "duration": 694,
    "start_time": "2021-12-22T14:49:04.168Z"
   },
   {
    "duration": 10,
    "start_time": "2021-12-22T14:49:09.363Z"
   },
   {
    "duration": 375,
    "start_time": "2021-12-22T14:50:05.176Z"
   },
   {
    "duration": 361,
    "start_time": "2021-12-22T14:53:31.042Z"
   },
   {
    "duration": 5,
    "start_time": "2021-12-22T14:53:53.431Z"
   },
   {
    "duration": 5,
    "start_time": "2021-12-22T14:57:16.607Z"
   },
   {
    "duration": 5,
    "start_time": "2021-12-22T14:58:16.100Z"
   },
   {
    "duration": 33,
    "start_time": "2021-12-22T14:58:58.136Z"
   },
   {
    "duration": 6,
    "start_time": "2021-12-22T14:59:50.722Z"
   },
   {
    "duration": 8,
    "start_time": "2021-12-22T15:00:19.184Z"
   },
   {
    "duration": 13,
    "start_time": "2021-12-22T15:00:29.952Z"
   },
   {
    "duration": 7,
    "start_time": "2021-12-22T15:07:45.078Z"
   },
   {
    "duration": 6,
    "start_time": "2021-12-22T15:09:15.301Z"
   },
   {
    "duration": 26,
    "start_time": "2021-12-22T15:09:25.552Z"
   },
   {
    "duration": 29,
    "start_time": "2021-12-22T15:10:10.298Z"
   },
   {
    "duration": 6,
    "start_time": "2021-12-22T15:10:10.778Z"
   },
   {
    "duration": 4,
    "start_time": "2021-12-22T15:23:27.299Z"
   },
   {
    "duration": 345,
    "start_time": "2021-12-22T15:27:48.791Z"
   },
   {
    "duration": 25,
    "start_time": "2021-12-22T15:36:55.397Z"
   },
   {
    "duration": 8,
    "start_time": "2021-12-22T15:37:14.570Z"
   },
   {
    "duration": 5,
    "start_time": "2021-12-22T15:37:22.298Z"
   },
   {
    "duration": 21,
    "start_time": "2021-12-22T15:37:57.746Z"
   },
   {
    "duration": 5,
    "start_time": "2021-12-22T15:37:58.399Z"
   },
   {
    "duration": 365,
    "start_time": "2021-12-22T15:38:29.429Z"
   },
   {
    "duration": 361,
    "start_time": "2021-12-22T15:38:34.513Z"
   },
   {
    "duration": 8,
    "start_time": "2021-12-22T15:39:13.359Z"
   },
   {
    "duration": 15,
    "start_time": "2021-12-22T15:39:19.230Z"
   },
   {
    "duration": 524,
    "start_time": "2021-12-22T15:40:28.261Z"
   },
   {
    "duration": 625,
    "start_time": "2021-12-22T15:40:51.709Z"
   },
   {
    "duration": 9,
    "start_time": "2021-12-22T15:41:40.807Z"
   },
   {
    "duration": 5,
    "start_time": "2021-12-22T15:41:43.057Z"
   },
   {
    "duration": 15,
    "start_time": "2021-12-22T15:41:49.565Z"
   },
   {
    "duration": 6,
    "start_time": "2021-12-22T15:41:51.541Z"
   },
   {
    "duration": 15,
    "start_time": "2021-12-22T15:43:35.171Z"
   },
   {
    "duration": 4,
    "start_time": "2021-12-22T15:50:52.669Z"
   },
   {
    "duration": 14,
    "start_time": "2021-12-22T15:57:51.366Z"
   },
   {
    "duration": 360,
    "start_time": "2021-12-22T15:58:19.710Z"
   },
   {
    "duration": 13,
    "start_time": "2021-12-22T15:58:32.073Z"
   },
   {
    "duration": 16,
    "start_time": "2021-12-22T15:58:37.630Z"
   },
   {
    "duration": 16,
    "start_time": "2021-12-22T15:58:39.578Z"
   },
   {
    "duration": 17,
    "start_time": "2021-12-22T15:58:41.499Z"
   },
   {
    "duration": 15,
    "start_time": "2021-12-22T16:00:33.171Z"
   },
   {
    "duration": 14,
    "start_time": "2021-12-22T16:00:34.766Z"
   },
   {
    "duration": 21,
    "start_time": "2021-12-22T16:00:36.007Z"
   },
   {
    "duration": 16,
    "start_time": "2021-12-22T16:01:05.858Z"
   },
   {
    "duration": 26,
    "start_time": "2021-12-22T16:02:46.235Z"
   },
   {
    "duration": 18,
    "start_time": "2021-12-22T16:02:56.147Z"
   },
   {
    "duration": 15,
    "start_time": "2021-12-22T16:10:05.361Z"
   },
   {
    "duration": 15,
    "start_time": "2021-12-22T16:10:14.921Z"
   },
   {
    "duration": 15,
    "start_time": "2021-12-22T16:12:41.340Z"
   },
   {
    "duration": 110,
    "start_time": "2021-12-22T16:14:43.303Z"
   },
   {
    "duration": 79,
    "start_time": "2021-12-22T16:14:58.271Z"
   },
   {
    "duration": 90,
    "start_time": "2021-12-22T16:15:56.519Z"
   },
   {
    "duration": 497,
    "start_time": "2021-12-22T16:19:53.548Z"
   },
   {
    "duration": 79,
    "start_time": "2021-12-22T16:20:01.254Z"
   },
   {
    "duration": 119,
    "start_time": "2021-12-22T16:20:12.988Z"
   },
   {
    "duration": 4,
    "start_time": "2021-12-22T16:21:20.319Z"
   },
   {
    "duration": 412,
    "start_time": "2021-12-22T16:23:53.025Z"
   },
   {
    "duration": 75,
    "start_time": "2021-12-22T16:24:50.755Z"
   },
   {
    "duration": 417,
    "start_time": "2021-12-22T16:25:31.173Z"
   },
   {
    "duration": 24,
    "start_time": "2021-12-22T16:28:21.751Z"
   },
   {
    "duration": 1691,
    "start_time": "2021-12-22T16:30:00.563Z"
   },
   {
    "duration": 1831,
    "start_time": "2021-12-22T16:30:13.868Z"
   },
   {
    "duration": 1896,
    "start_time": "2021-12-23T12:21:21.121Z"
   },
   {
    "duration": 7942,
    "start_time": "2021-12-23T12:21:24.899Z"
   },
   {
    "duration": 167,
    "start_time": "2021-12-23T12:21:32.843Z"
   },
   {
    "duration": 4,
    "start_time": "2021-12-23T12:21:33.013Z"
   },
   {
    "duration": 100,
    "start_time": "2021-12-23T12:21:33.020Z"
   },
   {
    "duration": 60,
    "start_time": "2021-12-23T12:21:33.123Z"
   },
   {
    "duration": 114,
    "start_time": "2021-12-23T12:21:33.185Z"
   },
   {
    "duration": 73,
    "start_time": "2021-12-23T12:21:33.300Z"
   },
   {
    "duration": 25,
    "start_time": "2021-12-23T12:21:33.377Z"
   },
   {
    "duration": 51,
    "start_time": "2021-12-23T12:21:33.404Z"
   },
   {
    "duration": 13,
    "start_time": "2021-12-23T12:21:33.457Z"
   },
   {
    "duration": 28,
    "start_time": "2021-12-23T12:21:33.472Z"
   },
   {
    "duration": 88,
    "start_time": "2021-12-23T12:21:33.502Z"
   },
   {
    "duration": 22,
    "start_time": "2021-12-23T12:21:33.593Z"
   },
   {
    "duration": 7,
    "start_time": "2021-12-23T12:21:33.617Z"
   },
   {
    "duration": 9,
    "start_time": "2021-12-23T12:21:33.641Z"
   },
   {
    "duration": 19,
    "start_time": "2021-12-23T12:21:33.652Z"
   },
   {
    "duration": 22,
    "start_time": "2021-12-23T12:21:33.674Z"
   },
   {
    "duration": 329,
    "start_time": "2021-12-23T12:21:33.698Z"
   },
   {
    "duration": 7,
    "start_time": "2021-12-23T12:21:34.029Z"
   },
   {
    "duration": 21,
    "start_time": "2021-12-23T12:21:34.037Z"
   },
   {
    "duration": 3882,
    "start_time": "2021-12-23T12:21:34.060Z"
   },
   {
    "duration": 2838,
    "start_time": "2021-12-23T12:21:37.944Z"
   },
   {
    "duration": 793,
    "start_time": "2021-12-23T12:21:40.787Z"
   },
   {
    "duration": 22,
    "start_time": "2021-12-23T12:21:41.582Z"
   },
   {
    "duration": 13,
    "start_time": "2021-12-23T12:21:41.606Z"
   },
   {
    "duration": 20,
    "start_time": "2021-12-23T12:21:41.621Z"
   },
   {
    "duration": 15,
    "start_time": "2021-12-23T12:21:41.643Z"
   },
   {
    "duration": 5,
    "start_time": "2021-12-23T12:21:41.660Z"
   },
   {
    "duration": 17,
    "start_time": "2021-12-23T12:21:41.667Z"
   },
   {
    "duration": 2,
    "start_time": "2021-12-23T12:21:41.686Z"
   },
   {
    "duration": 106,
    "start_time": "2021-12-23T12:21:41.690Z"
   },
   {
    "duration": 743,
    "start_time": "2021-12-23T12:21:41.798Z"
   },
   {
    "duration": 1470,
    "start_time": "2021-12-23T12:21:42.543Z"
   },
   {
    "duration": 96,
    "start_time": "2021-12-23T12:22:42.776Z"
   },
   {
    "duration": 79,
    "start_time": "2021-12-23T12:23:05.765Z"
   },
   {
    "duration": 177,
    "start_time": "2021-12-23T12:23:28.288Z"
   },
   {
    "duration": 180,
    "start_time": "2021-12-23T12:23:41.661Z"
   },
   {
    "duration": 94,
    "start_time": "2021-12-23T12:23:49.953Z"
   },
   {
    "duration": 93,
    "start_time": "2021-12-23T12:24:34.336Z"
   },
   {
    "duration": 199,
    "start_time": "2021-12-23T12:25:10.742Z"
   },
   {
    "duration": 7,
    "start_time": "2021-12-23T12:31:04.949Z"
   },
   {
    "duration": 7509,
    "start_time": "2021-12-23T12:40:35.971Z"
   },
   {
    "duration": 7894,
    "start_time": "2021-12-23T13:56:40.884Z"
   },
   {
    "duration": 4465,
    "start_time": "2021-12-23T13:58:06.256Z"
   },
   {
    "duration": 334,
    "start_time": "2021-12-23T14:02:26.979Z"
   },
   {
    "duration": 278,
    "start_time": "2021-12-23T14:03:11.413Z"
   },
   {
    "duration": 799,
    "start_time": "2021-12-23T14:04:14.546Z"
   },
   {
    "duration": 744,
    "start_time": "2021-12-23T14:04:23.908Z"
   },
   {
    "duration": 908,
    "start_time": "2021-12-23T14:04:30.435Z"
   },
   {
    "duration": 1328,
    "start_time": "2021-12-23T14:05:09.790Z"
   },
   {
    "duration": 4077,
    "start_time": "2021-12-23T14:20:19.663Z"
   },
   {
    "duration": 7,
    "start_time": "2021-12-23T14:20:23.742Z"
   },
   {
    "duration": 14,
    "start_time": "2021-12-23T14:20:23.752Z"
   },
   {
    "duration": 98,
    "start_time": "2021-12-23T14:20:23.768Z"
   },
   {
    "duration": 78,
    "start_time": "2021-12-23T14:20:23.868Z"
   },
   {
    "duration": 106,
    "start_time": "2021-12-23T14:20:23.948Z"
   },
   {
    "duration": 55,
    "start_time": "2021-12-23T14:20:24.056Z"
   },
   {
    "duration": 58,
    "start_time": "2021-12-23T14:20:24.114Z"
   },
   {
    "duration": 18,
    "start_time": "2021-12-23T14:20:24.174Z"
   },
   {
    "duration": 13,
    "start_time": "2021-12-23T14:20:24.194Z"
   },
   {
    "duration": 34,
    "start_time": "2021-12-23T14:20:24.210Z"
   },
   {
    "duration": 71,
    "start_time": "2021-12-23T14:20:24.246Z"
   },
   {
    "duration": 29,
    "start_time": "2021-12-23T14:20:24.318Z"
   },
   {
    "duration": 2,
    "start_time": "2021-12-23T14:20:24.351Z"
   },
   {
    "duration": 20,
    "start_time": "2021-12-23T14:20:24.355Z"
   },
   {
    "duration": 18,
    "start_time": "2021-12-23T14:20:24.377Z"
   },
   {
    "duration": 15,
    "start_time": "2021-12-23T14:20:24.398Z"
   },
   {
    "duration": 3646,
    "start_time": "2021-12-23T14:20:24.415Z"
   },
   {
    "duration": -115,
    "start_time": "2021-12-23T14:20:28.178Z"
   },
   {
    "duration": -125,
    "start_time": "2021-12-23T14:20:28.189Z"
   },
   {
    "duration": -132,
    "start_time": "2021-12-23T14:20:28.197Z"
   },
   {
    "duration": -141,
    "start_time": "2021-12-23T14:20:28.207Z"
   },
   {
    "duration": -151,
    "start_time": "2021-12-23T14:20:28.218Z"
   },
   {
    "duration": -157,
    "start_time": "2021-12-23T14:20:28.225Z"
   },
   {
    "duration": -169,
    "start_time": "2021-12-23T14:20:28.238Z"
   },
   {
    "duration": -174,
    "start_time": "2021-12-23T14:20:28.244Z"
   },
   {
    "duration": -184,
    "start_time": "2021-12-23T14:20:28.256Z"
   },
   {
    "duration": -195,
    "start_time": "2021-12-23T14:20:28.268Z"
   },
   {
    "duration": -201,
    "start_time": "2021-12-23T14:20:28.275Z"
   },
   {
    "duration": -213,
    "start_time": "2021-12-23T14:20:28.288Z"
   },
   {
    "duration": -220,
    "start_time": "2021-12-23T14:20:28.296Z"
   },
   {
    "duration": -230,
    "start_time": "2021-12-23T14:20:28.307Z"
   },
   {
    "duration": -240,
    "start_time": "2021-12-23T14:20:28.318Z"
   },
   {
    "duration": -259,
    "start_time": "2021-12-23T14:20:28.338Z"
   },
   {
    "duration": 197,
    "start_time": "2021-12-23T14:21:20.618Z"
   },
   {
    "duration": 5622,
    "start_time": "2021-12-23T14:22:24.090Z"
   },
   {
    "duration": 5,
    "start_time": "2021-12-23T14:22:29.715Z"
   },
   {
    "duration": 12,
    "start_time": "2021-12-23T14:22:29.723Z"
   },
   {
    "duration": 97,
    "start_time": "2021-12-23T14:22:29.737Z"
   },
   {
    "duration": 64,
    "start_time": "2021-12-23T14:22:29.836Z"
   },
   {
    "duration": 98,
    "start_time": "2021-12-23T14:22:29.902Z"
   },
   {
    "duration": 79,
    "start_time": "2021-12-23T14:22:30.002Z"
   },
   {
    "duration": 25,
    "start_time": "2021-12-23T14:22:30.083Z"
   },
   {
    "duration": 51,
    "start_time": "2021-12-23T14:22:30.110Z"
   },
   {
    "duration": 14,
    "start_time": "2021-12-23T14:22:30.164Z"
   },
   {
    "duration": 23,
    "start_time": "2021-12-23T14:22:30.182Z"
   },
   {
    "duration": 94,
    "start_time": "2021-12-23T14:22:30.208Z"
   },
   {
    "duration": 28,
    "start_time": "2021-12-23T14:22:30.305Z"
   },
   {
    "duration": 7,
    "start_time": "2021-12-23T14:22:30.337Z"
   },
   {
    "duration": 38,
    "start_time": "2021-12-23T14:22:30.346Z"
   },
   {
    "duration": 49,
    "start_time": "2021-12-23T14:22:30.386Z"
   },
   {
    "duration": 62,
    "start_time": "2021-12-23T14:22:30.436Z"
   },
   {
    "duration": 176,
    "start_time": "2021-12-23T14:22:30.500Z"
   },
   {
    "duration": 8,
    "start_time": "2021-12-23T14:22:30.678Z"
   },
   {
    "duration": 47,
    "start_time": "2021-12-23T14:22:30.688Z"
   },
   {
    "duration": 1466,
    "start_time": "2021-12-23T14:22:30.737Z"
   },
   {
    "duration": 2502,
    "start_time": "2021-12-23T14:22:32.205Z"
   },
   {
    "duration": 429,
    "start_time": "2021-12-23T14:22:34.712Z"
   },
   {
    "duration": 29,
    "start_time": "2021-12-23T14:22:35.143Z"
   },
   {
    "duration": 9,
    "start_time": "2021-12-23T14:22:35.174Z"
   },
   {
    "duration": 6,
    "start_time": "2021-12-23T14:22:35.186Z"
   },
   {
    "duration": 47,
    "start_time": "2021-12-23T14:22:35.194Z"
   },
   {
    "duration": 8,
    "start_time": "2021-12-23T14:22:35.243Z"
   },
   {
    "duration": 19,
    "start_time": "2021-12-23T14:22:35.253Z"
   },
   {
    "duration": 8305,
    "start_time": "2021-12-23T14:22:35.274Z"
   },
   {
    "duration": 3,
    "start_time": "2021-12-23T14:22:43.580Z"
   },
   {
    "duration": 667,
    "start_time": "2021-12-23T14:22:43.584Z"
   },
   {
    "duration": 1071,
    "start_time": "2021-12-23T14:22:44.254Z"
   },
   {
    "duration": 3109,
    "start_time": "2021-12-23T14:22:45.327Z"
   },
   {
    "duration": 861,
    "start_time": "2021-12-23T14:28:46.495Z"
   },
   {
    "duration": 2204,
    "start_time": "2021-12-23T14:29:19.942Z"
   },
   {
    "duration": 1040,
    "start_time": "2021-12-23T14:31:52.422Z"
   },
   {
    "duration": 1018,
    "start_time": "2021-12-23T14:32:01.049Z"
   },
   {
    "duration": 699,
    "start_time": "2021-12-23T14:32:09.544Z"
   },
   {
    "duration": 500,
    "start_time": "2021-12-23T14:32:15.151Z"
   },
   {
    "duration": 1224,
    "start_time": "2021-12-23T14:32:19.325Z"
   },
   {
    "duration": 321,
    "start_time": "2021-12-23T14:41:41.876Z"
   },
   {
    "duration": 88,
    "start_time": "2021-12-23T14:42:15.332Z"
   },
   {
    "duration": 1246,
    "start_time": "2021-12-23T14:42:24.986Z"
   },
   {
    "duration": 2650,
    "start_time": "2021-12-23T14:45:25.246Z"
   },
   {
    "duration": 2759,
    "start_time": "2021-12-23T14:45:36.783Z"
   },
   {
    "duration": 17,
    "start_time": "2021-12-23T14:48:21.168Z"
   },
   {
    "duration": 8403,
    "start_time": "2021-12-23T14:49:06.822Z"
   },
   {
    "duration": 7693,
    "start_time": "2021-12-23T14:50:07.715Z"
   },
   {
    "duration": 14122,
    "start_time": "2021-12-23T14:50:35.382Z"
   },
   {
    "duration": 14512,
    "start_time": "2021-12-23T14:54:08.738Z"
   },
   {
    "duration": 293,
    "start_time": "2021-12-23T16:11:59.028Z"
   },
   {
    "duration": 19,
    "start_time": "2021-12-23T16:12:32.077Z"
   },
   {
    "duration": 374,
    "start_time": "2021-12-23T16:13:03.093Z"
   },
   {
    "duration": 56,
    "start_time": "2021-12-23T16:13:46.417Z"
   },
   {
    "duration": 41,
    "start_time": "2021-12-23T16:14:07.265Z"
   },
   {
    "duration": 17,
    "start_time": "2021-12-23T16:14:16.911Z"
   },
   {
    "duration": 40,
    "start_time": "2021-12-23T16:14:29.533Z"
   },
   {
    "duration": 72,
    "start_time": "2021-12-23T16:14:34.678Z"
   },
   {
    "duration": 118,
    "start_time": "2021-12-23T16:15:21.643Z"
   },
   {
    "duration": 97,
    "start_time": "2021-12-23T16:16:20.558Z"
   },
   {
    "duration": 25,
    "start_time": "2021-12-23T16:16:35.736Z"
   },
   {
    "duration": 28,
    "start_time": "2021-12-23T16:17:29.268Z"
   },
   {
    "duration": 27,
    "start_time": "2021-12-23T16:17:51.173Z"
   },
   {
    "duration": 28,
    "start_time": "2021-12-23T16:17:56.286Z"
   },
   {
    "duration": 28,
    "start_time": "2021-12-23T16:18:13.622Z"
   },
   {
    "duration": 27,
    "start_time": "2021-12-23T16:18:18.993Z"
   },
   {
    "duration": 32,
    "start_time": "2021-12-23T16:20:01.095Z"
   },
   {
    "duration": 37,
    "start_time": "2021-12-23T16:20:19.300Z"
   },
   {
    "duration": 29,
    "start_time": "2021-12-23T16:20:33.161Z"
   },
   {
    "duration": 31,
    "start_time": "2021-12-23T16:20:52.196Z"
   },
   {
    "duration": 32,
    "start_time": "2021-12-23T16:21:00.384Z"
   },
   {
    "duration": 39,
    "start_time": "2021-12-23T16:21:36.927Z"
   },
   {
    "duration": 3978,
    "start_time": "2021-12-23T16:23:06.289Z"
   },
   {
    "duration": 5,
    "start_time": "2021-12-23T16:23:10.269Z"
   },
   {
    "duration": 7,
    "start_time": "2021-12-23T16:23:10.276Z"
   },
   {
    "duration": 94,
    "start_time": "2021-12-23T16:23:10.285Z"
   },
   {
    "duration": 87,
    "start_time": "2021-12-23T16:23:10.381Z"
   },
   {
    "duration": 129,
    "start_time": "2021-12-23T16:23:10.471Z"
   },
   {
    "duration": 75,
    "start_time": "2021-12-23T16:23:10.602Z"
   },
   {
    "duration": 26,
    "start_time": "2021-12-23T16:23:10.679Z"
   },
   {
    "duration": 58,
    "start_time": "2021-12-23T16:23:10.707Z"
   },
   {
    "duration": 5,
    "start_time": "2021-12-23T16:23:10.768Z"
   },
   {
    "duration": 16,
    "start_time": "2021-12-23T16:23:10.775Z"
   },
   {
    "duration": 83,
    "start_time": "2021-12-23T16:23:10.793Z"
   },
   {
    "duration": 39,
    "start_time": "2021-12-23T16:23:13.491Z"
   },
   {
    "duration": 6,
    "start_time": "2021-12-23T16:24:34.803Z"
   },
   {
    "duration": 315,
    "start_time": "2021-12-23T16:33:35.160Z"
   },
   {
    "duration": 261,
    "start_time": "2021-12-23T16:35:38.247Z"
   },
   {
    "duration": 269,
    "start_time": "2021-12-23T16:37:10.957Z"
   },
   {
    "duration": 3582,
    "start_time": "2021-12-23T16:37:51.746Z"
   },
   {
    "duration": 6,
    "start_time": "2021-12-23T16:37:55.330Z"
   },
   {
    "duration": 17,
    "start_time": "2021-12-23T16:37:55.338Z"
   },
   {
    "duration": 108,
    "start_time": "2021-12-23T16:37:55.357Z"
   },
   {
    "duration": 83,
    "start_time": "2021-12-23T16:37:55.467Z"
   },
   {
    "duration": 95,
    "start_time": "2021-12-23T16:37:55.552Z"
   },
   {
    "duration": 53,
    "start_time": "2021-12-23T16:37:55.649Z"
   },
   {
    "duration": 59,
    "start_time": "2021-12-23T16:37:55.705Z"
   },
   {
    "duration": 16,
    "start_time": "2021-12-23T16:37:55.767Z"
   },
   {
    "duration": 8,
    "start_time": "2021-12-23T16:37:55.784Z"
   },
   {
    "duration": 16,
    "start_time": "2021-12-23T16:37:55.793Z"
   },
   {
    "duration": 75,
    "start_time": "2021-12-23T16:37:55.811Z"
   },
   {
    "duration": 33,
    "start_time": "2021-12-23T16:37:55.887Z"
   },
   {
    "duration": 17,
    "start_time": "2021-12-23T16:37:55.945Z"
   },
   {
    "duration": 8,
    "start_time": "2021-12-23T16:37:55.966Z"
   },
   {
    "duration": 12,
    "start_time": "2021-12-23T16:37:55.975Z"
   },
   {
    "duration": 12,
    "start_time": "2021-12-23T16:37:55.989Z"
   },
   {
    "duration": 2102,
    "start_time": "2021-12-23T16:37:56.003Z"
   },
   {
    "duration": 595,
    "start_time": "2021-12-23T16:38:42.056Z"
   },
   {
    "duration": 174,
    "start_time": "2021-12-23T16:39:01.992Z"
   },
   {
    "duration": 142,
    "start_time": "2021-12-23T16:39:19.180Z"
   },
   {
    "duration": 145,
    "start_time": "2021-12-23T16:39:37.229Z"
   },
   {
    "duration": 149,
    "start_time": "2021-12-23T16:39:50.306Z"
   },
   {
    "duration": 482,
    "start_time": "2021-12-23T16:42:51.770Z"
   },
   {
    "duration": 5,
    "start_time": "2021-12-23T16:43:07.387Z"
   },
   {
    "duration": 584,
    "start_time": "2021-12-23T16:43:13.118Z"
   },
   {
    "duration": 836,
    "start_time": "2021-12-23T16:49:20.412Z"
   },
   {
    "duration": 6,
    "start_time": "2021-12-23T16:49:27.729Z"
   },
   {
    "duration": 493,
    "start_time": "2021-12-23T16:49:32.336Z"
   },
   {
    "duration": 256,
    "start_time": "2021-12-23T16:49:48.674Z"
   },
   {
    "duration": 531,
    "start_time": "2021-12-23T16:50:08.632Z"
   },
   {
    "duration": 374,
    "start_time": "2021-12-23T16:50:24.540Z"
   },
   {
    "duration": 220,
    "start_time": "2021-12-23T16:52:51.264Z"
   },
   {
    "duration": 4411,
    "start_time": "2021-12-23T16:54:24.092Z"
   },
   {
    "duration": 7,
    "start_time": "2021-12-23T16:54:28.506Z"
   },
   {
    "duration": 10,
    "start_time": "2021-12-23T16:54:28.515Z"
   },
   {
    "duration": 99,
    "start_time": "2021-12-23T16:54:28.527Z"
   },
   {
    "duration": 64,
    "start_time": "2021-12-23T16:54:28.628Z"
   },
   {
    "duration": 109,
    "start_time": "2021-12-23T16:54:28.694Z"
   },
   {
    "duration": 74,
    "start_time": "2021-12-23T16:54:28.805Z"
   },
   {
    "duration": 59,
    "start_time": "2021-12-23T16:54:28.882Z"
   },
   {
    "duration": 19,
    "start_time": "2021-12-23T16:54:28.944Z"
   },
   {
    "duration": 11,
    "start_time": "2021-12-23T16:54:28.965Z"
   },
   {
    "duration": 22,
    "start_time": "2021-12-23T16:54:28.978Z"
   },
   {
    "duration": 93,
    "start_time": "2021-12-23T16:54:29.002Z"
   },
   {
    "duration": 59,
    "start_time": "2021-12-23T16:54:29.098Z"
   },
   {
    "duration": 20,
    "start_time": "2021-12-23T16:54:29.158Z"
   },
   {
    "duration": 6,
    "start_time": "2021-12-23T16:54:29.180Z"
   },
   {
    "duration": 19,
    "start_time": "2021-12-23T16:54:29.188Z"
   },
   {
    "duration": 43,
    "start_time": "2021-12-23T16:54:29.209Z"
   },
   {
    "duration": 346,
    "start_time": "2021-12-23T16:54:37.203Z"
   },
   {
    "duration": 130627,
    "start_time": "2021-12-25T13:19:18.887Z"
   },
   {
    "duration": 1452,
    "start_time": "2021-12-25T13:21:29.517Z"
   },
   {
    "duration": 187,
    "start_time": "2021-12-25T13:21:30.785Z"
   },
   {
    "duration": 166,
    "start_time": "2021-12-25T13:21:30.807Z"
   },
   {
    "duration": 8,
    "start_time": "2021-12-25T13:21:30.966Z"
   },
   {
    "duration": -4,
    "start_time": "2021-12-25T13:21:30.979Z"
   },
   {
    "duration": -15,
    "start_time": "2021-12-25T13:21:30.991Z"
   },
   {
    "duration": -26,
    "start_time": "2021-12-25T13:21:31.003Z"
   },
   {
    "duration": -34,
    "start_time": "2021-12-25T13:21:31.012Z"
   },
   {
    "duration": -39,
    "start_time": "2021-12-25T13:21:31.018Z"
   },
   {
    "duration": -47,
    "start_time": "2021-12-25T13:21:31.027Z"
   },
   {
    "duration": -82,
    "start_time": "2021-12-25T13:21:31.063Z"
   },
   {
    "duration": -95,
    "start_time": "2021-12-25T13:21:31.077Z"
   },
   {
    "duration": -111,
    "start_time": "2021-12-25T13:21:31.094Z"
   },
   {
    "duration": -126,
    "start_time": "2021-12-25T13:21:31.110Z"
   },
   {
    "duration": -144,
    "start_time": "2021-12-25T13:21:31.129Z"
   },
   {
    "duration": -161,
    "start_time": "2021-12-25T13:21:31.147Z"
   },
   {
    "duration": -171,
    "start_time": "2021-12-25T13:21:31.159Z"
   },
   {
    "duration": -183,
    "start_time": "2021-12-25T13:21:31.172Z"
   },
   {
    "duration": -191,
    "start_time": "2021-12-25T13:21:31.181Z"
   },
   {
    "duration": -199,
    "start_time": "2021-12-25T13:21:31.190Z"
   },
   {
    "duration": -205,
    "start_time": "2021-12-25T13:21:31.197Z"
   },
   {
    "duration": -215,
    "start_time": "2021-12-25T13:21:31.208Z"
   },
   {
    "duration": -220,
    "start_time": "2021-12-25T13:21:31.214Z"
   },
   {
    "duration": -231,
    "start_time": "2021-12-25T13:21:31.225Z"
   },
   {
    "duration": -235,
    "start_time": "2021-12-25T13:21:31.230Z"
   },
   {
    "duration": -259,
    "start_time": "2021-12-25T13:21:31.255Z"
   },
   {
    "duration": -266,
    "start_time": "2021-12-25T13:21:31.264Z"
   },
   {
    "duration": -275,
    "start_time": "2021-12-25T13:21:31.274Z"
   },
   {
    "duration": -286,
    "start_time": "2021-12-25T13:21:31.286Z"
   },
   {
    "duration": -346,
    "start_time": "2021-12-25T13:21:31.347Z"
   },
   {
    "duration": -358,
    "start_time": "2021-12-25T13:21:31.360Z"
   },
   {
    "duration": -400,
    "start_time": "2021-12-25T13:21:31.403Z"
   },
   {
    "duration": -406,
    "start_time": "2021-12-25T13:21:31.410Z"
   },
   {
    "duration": 89016,
    "start_time": "2021-12-25T13:22:06.589Z"
   },
   {
    "duration": 1375,
    "start_time": "2021-12-25T13:23:35.607Z"
   },
   {
    "duration": -24,
    "start_time": "2021-12-25T13:23:37.009Z"
   },
   {
    "duration": -37,
    "start_time": "2021-12-25T13:23:37.024Z"
   },
   {
    "duration": -45,
    "start_time": "2021-12-25T13:23:37.033Z"
   },
   {
    "duration": -58,
    "start_time": "2021-12-25T13:23:37.048Z"
   },
   {
    "duration": -72,
    "start_time": "2021-12-25T13:23:37.063Z"
   },
   {
    "duration": -86,
    "start_time": "2021-12-25T13:23:37.078Z"
   },
   {
    "duration": -101,
    "start_time": "2021-12-25T13:23:37.095Z"
   },
   {
    "duration": -115,
    "start_time": "2021-12-25T13:23:37.110Z"
   },
   {
    "duration": -123,
    "start_time": "2021-12-25T13:23:37.119Z"
   },
   {
    "duration": -134,
    "start_time": "2021-12-25T13:23:37.132Z"
   },
   {
    "duration": -143,
    "start_time": "2021-12-25T13:23:37.142Z"
   },
   {
    "duration": -147,
    "start_time": "2021-12-25T13:23:37.148Z"
   },
   {
    "duration": -157,
    "start_time": "2021-12-25T13:23:37.159Z"
   },
   {
    "duration": -163,
    "start_time": "2021-12-25T13:23:37.166Z"
   },
   {
    "duration": -170,
    "start_time": "2021-12-25T13:23:37.175Z"
   },
   {
    "duration": -175,
    "start_time": "2021-12-25T13:23:37.182Z"
   },
   {
    "duration": -184,
    "start_time": "2021-12-25T13:23:37.192Z"
   },
   {
    "duration": -188,
    "start_time": "2021-12-25T13:23:37.196Z"
   },
   {
    "duration": -194,
    "start_time": "2021-12-25T13:23:37.203Z"
   },
   {
    "duration": -205,
    "start_time": "2021-12-25T13:23:37.215Z"
   },
   {
    "duration": -215,
    "start_time": "2021-12-25T13:23:37.226Z"
   },
   {
    "duration": -224,
    "start_time": "2021-12-25T13:23:37.236Z"
   },
   {
    "duration": -278,
    "start_time": "2021-12-25T13:23:37.291Z"
   },
   {
    "duration": -281,
    "start_time": "2021-12-25T13:23:37.295Z"
   },
   {
    "duration": -315,
    "start_time": "2021-12-25T13:23:37.330Z"
   },
   {
    "duration": -328,
    "start_time": "2021-12-25T13:23:37.344Z"
   },
   {
    "duration": -332,
    "start_time": "2021-12-25T13:23:37.349Z"
   },
   {
    "duration": -341,
    "start_time": "2021-12-25T13:23:37.359Z"
   },
   {
    "duration": -347,
    "start_time": "2021-12-25T13:23:37.366Z"
   },
   {
    "duration": -357,
    "start_time": "2021-12-25T13:23:37.377Z"
   },
   {
    "duration": -360,
    "start_time": "2021-12-25T13:23:37.381Z"
   },
   {
    "duration": -372,
    "start_time": "2021-12-25T13:23:37.394Z"
   },
   {
    "duration": 3,
    "start_time": "2021-12-25T13:23:44.931Z"
   },
   {
    "duration": 1378,
    "start_time": "2021-12-25T13:23:44.936Z"
   },
   {
    "duration": 120,
    "start_time": "2021-12-25T13:23:46.197Z"
   },
   {
    "duration": -49,
    "start_time": "2021-12-25T13:23:46.367Z"
   },
   {
    "duration": -61,
    "start_time": "2021-12-25T13:23:46.380Z"
   },
   {
    "duration": -67,
    "start_time": "2021-12-25T13:23:46.387Z"
   },
   {
    "duration": -76,
    "start_time": "2021-12-25T13:23:46.397Z"
   },
   {
    "duration": -88,
    "start_time": "2021-12-25T13:23:46.409Z"
   },
   {
    "duration": -93,
    "start_time": "2021-12-25T13:23:46.415Z"
   },
   {
    "duration": -109,
    "start_time": "2021-12-25T13:23:46.432Z"
   },
   {
    "duration": -120,
    "start_time": "2021-12-25T13:23:46.444Z"
   },
   {
    "duration": -124,
    "start_time": "2021-12-25T13:23:46.449Z"
   },
   {
    "duration": -135,
    "start_time": "2021-12-25T13:23:46.461Z"
   },
   {
    "duration": -142,
    "start_time": "2021-12-25T13:23:46.469Z"
   },
   {
    "duration": -151,
    "start_time": "2021-12-25T13:23:46.479Z"
   },
   {
    "duration": -157,
    "start_time": "2021-12-25T13:23:46.485Z"
   },
   {
    "duration": -166,
    "start_time": "2021-12-25T13:23:46.496Z"
   },
   {
    "duration": -173,
    "start_time": "2021-12-25T13:23:46.503Z"
   },
   {
    "duration": -183,
    "start_time": "2021-12-25T13:23:46.514Z"
   },
   {
    "duration": -193,
    "start_time": "2021-12-25T13:23:46.525Z"
   },
   {
    "duration": -200,
    "start_time": "2021-12-25T13:23:46.533Z"
   },
   {
    "duration": -210,
    "start_time": "2021-12-25T13:23:46.544Z"
   },
   {
    "duration": -216,
    "start_time": "2021-12-25T13:23:46.551Z"
   },
   {
    "duration": -242,
    "start_time": "2021-12-25T13:23:46.578Z"
   },
   {
    "duration": -250,
    "start_time": "2021-12-25T13:23:46.587Z"
   },
   {
    "duration": -272,
    "start_time": "2021-12-25T13:23:46.609Z"
   },
   {
    "duration": -278,
    "start_time": "2021-12-25T13:23:46.616Z"
   },
   {
    "duration": -303,
    "start_time": "2021-12-25T13:23:46.642Z"
   },
   {
    "duration": -309,
    "start_time": "2021-12-25T13:23:46.649Z"
   },
   {
    "duration": -337,
    "start_time": "2021-12-25T13:23:46.678Z"
   },
   {
    "duration": -347,
    "start_time": "2021-12-25T13:23:46.689Z"
   },
   {
    "duration": -370,
    "start_time": "2021-12-25T13:23:46.713Z"
   },
   {
    "duration": -396,
    "start_time": "2021-12-25T13:23:46.739Z"
   },
   {
    "duration": -415,
    "start_time": "2021-12-25T13:23:46.759Z"
   },
   {
    "duration": 11148,
    "start_time": "2021-12-25T13:24:09.458Z"
   },
   {
    "duration": 130,
    "start_time": "2021-12-25T13:24:25.009Z"
   },
   {
    "duration": 5,
    "start_time": "2021-12-25T13:24:39.033Z"
   },
   {
    "duration": 25,
    "start_time": "2021-12-25T13:24:39.040Z"
   },
   {
    "duration": 94,
    "start_time": "2021-12-25T13:24:39.066Z"
   },
   {
    "duration": 64,
    "start_time": "2021-12-25T13:24:39.162Z"
   },
   {
    "duration": 101,
    "start_time": "2021-12-25T13:24:39.227Z"
   },
   {
    "duration": 68,
    "start_time": "2021-12-25T13:24:39.330Z"
   },
   {
    "duration": 25,
    "start_time": "2021-12-25T13:24:39.400Z"
   },
   {
    "duration": 17,
    "start_time": "2021-12-25T13:24:39.427Z"
   },
   {
    "duration": 6,
    "start_time": "2021-12-25T13:24:39.446Z"
   },
   {
    "duration": 42,
    "start_time": "2021-12-25T13:24:39.453Z"
   },
   {
    "duration": 72,
    "start_time": "2021-12-25T13:24:39.498Z"
   },
   {
    "duration": 49,
    "start_time": "2021-12-25T13:24:39.571Z"
   },
   {
    "duration": 17,
    "start_time": "2021-12-25T13:24:39.622Z"
   },
   {
    "duration": 5,
    "start_time": "2021-12-25T13:24:39.641Z"
   },
   {
    "duration": 13,
    "start_time": "2021-12-25T13:24:39.648Z"
   },
   {
    "duration": 38,
    "start_time": "2021-12-25T13:24:39.662Z"
   },
   {
    "duration": 426,
    "start_time": "2021-12-25T13:24:39.702Z"
   },
   {
    "duration": -483,
    "start_time": "2021-12-25T13:24:40.613Z"
   },
   {
    "duration": -491,
    "start_time": "2021-12-25T13:24:40.622Z"
   },
   {
    "duration": -528,
    "start_time": "2021-12-25T13:24:40.660Z"
   },
   {
    "duration": -536,
    "start_time": "2021-12-25T13:24:40.669Z"
   },
   {
    "duration": -578,
    "start_time": "2021-12-25T13:24:40.712Z"
   },
   {
    "duration": -618,
    "start_time": "2021-12-25T13:24:40.753Z"
   },
   {
    "duration": -637,
    "start_time": "2021-12-25T13:24:40.773Z"
   },
   {
    "duration": -658,
    "start_time": "2021-12-25T13:24:40.795Z"
   },
   {
    "duration": -667,
    "start_time": "2021-12-25T13:24:40.805Z"
   },
   {
    "duration": -682,
    "start_time": "2021-12-25T13:24:40.821Z"
   },
   {
    "duration": -694,
    "start_time": "2021-12-25T13:24:40.834Z"
   },
   {
    "duration": -702,
    "start_time": "2021-12-25T13:24:40.843Z"
   },
   {
    "duration": -707,
    "start_time": "2021-12-25T13:24:40.849Z"
   },
   {
    "duration": -715,
    "start_time": "2021-12-25T13:24:40.858Z"
   },
   {
    "duration": -734,
    "start_time": "2021-12-25T13:24:40.878Z"
   },
   {
    "duration": -751,
    "start_time": "2021-12-25T13:24:40.896Z"
   },
   {
    "duration": 17478,
    "start_time": "2021-12-25T13:25:32.563Z"
   },
   {
    "duration": 5,
    "start_time": "2021-12-25T13:25:50.044Z"
   },
   {
    "duration": 7,
    "start_time": "2021-12-25T13:25:50.052Z"
   },
   {
    "duration": 85,
    "start_time": "2021-12-25T13:25:50.061Z"
   },
   {
    "duration": 71,
    "start_time": "2021-12-25T13:25:50.147Z"
   },
   {
    "duration": 100,
    "start_time": "2021-12-25T13:25:50.219Z"
   },
   {
    "duration": 71,
    "start_time": "2021-12-25T13:25:50.321Z"
   },
   {
    "duration": 26,
    "start_time": "2021-12-25T13:25:50.395Z"
   },
   {
    "duration": 16,
    "start_time": "2021-12-25T13:25:50.423Z"
   },
   {
    "duration": 4,
    "start_time": "2021-12-25T13:25:50.441Z"
   },
   {
    "duration": 17,
    "start_time": "2021-12-25T13:25:50.447Z"
   },
   {
    "duration": 72,
    "start_time": "2021-12-25T13:25:50.492Z"
   },
   {
    "duration": 51,
    "start_time": "2021-12-25T13:25:50.566Z"
   },
   {
    "duration": 17,
    "start_time": "2021-12-25T13:25:50.618Z"
   },
   {
    "duration": 5,
    "start_time": "2021-12-25T13:25:50.636Z"
   },
   {
    "duration": 14,
    "start_time": "2021-12-25T13:25:50.643Z"
   },
   {
    "duration": 37,
    "start_time": "2021-12-25T13:25:50.659Z"
   },
   {
    "duration": 193,
    "start_time": "2021-12-25T13:25:50.697Z"
   },
   {
    "duration": 193,
    "start_time": "2021-12-25T13:25:50.892Z"
   },
   {
    "duration": 130,
    "start_time": "2021-12-25T13:25:50.958Z"
   },
   {
    "duration": 125,
    "start_time": "2021-12-25T13:25:50.963Z"
   },
   {
    "duration": 118,
    "start_time": "2021-12-25T13:25:50.971Z"
   },
   {
    "duration": 106,
    "start_time": "2021-12-25T13:25:50.984Z"
   },
   {
    "duration": 92,
    "start_time": "2021-12-25T13:25:50.999Z"
   },
   {
    "duration": 86,
    "start_time": "2021-12-25T13:25:51.006Z"
   },
   {
    "duration": 72,
    "start_time": "2021-12-25T13:25:51.021Z"
   },
   {
    "duration": 61,
    "start_time": "2021-12-25T13:25:51.033Z"
   },
   {
    "duration": 42,
    "start_time": "2021-12-25T13:25:51.052Z"
   },
   {
    "duration": 30,
    "start_time": "2021-12-25T13:25:51.066Z"
   },
   {
    "duration": 25,
    "start_time": "2021-12-25T13:25:51.072Z"
   },
   {
    "duration": 14,
    "start_time": "2021-12-25T13:25:51.084Z"
   },
   {
    "duration": 10,
    "start_time": "2021-12-25T13:25:51.089Z"
   },
   {
    "duration": -2,
    "start_time": "2021-12-25T13:25:51.102Z"
   },
   {
    "duration": -14,
    "start_time": "2021-12-25T13:25:51.115Z"
   },
   {
    "duration": 99943,
    "start_time": "2021-12-25T13:26:45.076Z"
   },
   {
    "duration": 5,
    "start_time": "2021-12-25T13:28:25.021Z"
   },
   {
    "duration": 9,
    "start_time": "2021-12-25T13:28:25.028Z"
   },
   {
    "duration": 84,
    "start_time": "2021-12-25T13:28:25.039Z"
   },
   {
    "duration": 73,
    "start_time": "2021-12-25T13:28:25.125Z"
   },
   {
    "duration": 94,
    "start_time": "2021-12-25T13:28:25.200Z"
   },
   {
    "duration": 48,
    "start_time": "2021-12-25T13:28:25.296Z"
   },
   {
    "duration": 118,
    "start_time": "2021-12-25T13:28:25.346Z"
   },
   {
    "duration": 25,
    "start_time": "2021-12-25T13:28:25.466Z"
   },
   {
    "duration": 6,
    "start_time": "2021-12-25T13:28:25.493Z"
   },
   {
    "duration": 16,
    "start_time": "2021-12-25T13:28:25.500Z"
   },
   {
    "duration": 86,
    "start_time": "2021-12-25T13:28:25.517Z"
   },
   {
    "duration": 33,
    "start_time": "2021-12-25T13:28:25.604Z"
   },
   {
    "duration": 15,
    "start_time": "2021-12-25T13:28:25.639Z"
   },
   {
    "duration": 5,
    "start_time": "2021-12-25T13:28:25.655Z"
   },
   {
    "duration": 38,
    "start_time": "2021-12-25T13:28:25.662Z"
   },
   {
    "duration": 17,
    "start_time": "2021-12-25T13:28:25.702Z"
   },
   {
    "duration": 190,
    "start_time": "2021-12-25T13:28:25.721Z"
   },
   {
    "duration": 6,
    "start_time": "2021-12-25T13:28:25.913Z"
   },
   {
    "duration": 14,
    "start_time": "2021-12-25T13:28:25.921Z"
   },
   {
    "duration": 1285,
    "start_time": "2021-12-25T13:28:25.936Z"
   },
   {
    "duration": 2323,
    "start_time": "2021-12-25T13:28:27.223Z"
   },
   {
    "duration": 458,
    "start_time": "2021-12-25T13:28:29.550Z"
   },
   {
    "duration": 29,
    "start_time": "2021-12-25T13:28:30.011Z"
   },
   {
    "duration": 9,
    "start_time": "2021-12-25T13:28:30.042Z"
   },
   {
    "duration": 20,
    "start_time": "2021-12-25T13:28:30.052Z"
   },
   {
    "duration": 46,
    "start_time": "2021-12-25T13:28:30.074Z"
   },
   {
    "duration": 7,
    "start_time": "2021-12-25T13:28:30.121Z"
   },
   {
    "duration": 18,
    "start_time": "2021-12-25T13:28:30.129Z"
   },
   {
    "duration": 3,
    "start_time": "2021-12-25T13:28:30.149Z"
   },
   {
    "duration": 2341,
    "start_time": "2021-12-25T13:28:30.154Z"
   },
   {
    "duration": 774,
    "start_time": "2021-12-25T13:28:32.497Z"
   },
   {
    "duration": 11413,
    "start_time": "2021-12-25T13:28:33.272Z"
   },
   {
    "duration": 982,
    "start_time": "2021-12-25T13:28:44.691Z"
   },
   {
    "duration": 66,
    "start_time": "2021-12-25T13:43:39.170Z"
   },
   {
    "duration": 7,
    "start_time": "2021-12-25T13:43:43.488Z"
   },
   {
    "duration": 7,
    "start_time": "2021-12-25T13:43:47.685Z"
   },
   {
    "duration": 9,
    "start_time": "2021-12-25T13:43:50.489Z"
   },
   {
    "duration": 2154,
    "start_time": "2021-12-25T13:46:58.445Z"
   },
   {
    "duration": 9535,
    "start_time": "2021-12-25T14:53:11.836Z"
   },
   {
    "duration": 9675,
    "start_time": "2021-12-25T14:54:36.391Z"
   },
   {
    "duration": 9593,
    "start_time": "2021-12-25T14:54:56.797Z"
   },
   {
    "duration": 314,
    "start_time": "2021-12-25T15:02:45.191Z"
   },
   {
    "duration": 185,
    "start_time": "2021-12-25T15:15:03.695Z"
   },
   {
    "duration": 86200,
    "start_time": "2021-12-25T15:18:27.397Z"
   },
   {
    "duration": 186,
    "start_time": "2021-12-25T15:29:56.362Z"
   },
   {
    "duration": 7,
    "start_time": "2021-12-25T15:30:29.956Z"
   },
   {
    "duration": 431,
    "start_time": "2021-12-25T15:30:35.919Z"
   },
   {
    "duration": 192,
    "start_time": "2021-12-25T15:31:05.730Z"
   },
   {
    "duration": 3,
    "start_time": "2021-12-25T15:32:46.153Z"
   },
   {
    "duration": 4,
    "start_time": "2021-12-25T15:33:18.165Z"
   },
   {
    "duration": 4,
    "start_time": "2021-12-25T15:33:38.842Z"
   },
   {
    "duration": 3,
    "start_time": "2021-12-25T15:33:54.459Z"
   },
   {
    "duration": 4004,
    "start_time": "2021-12-25T15:35:02.276Z"
   },
   {
    "duration": 188,
    "start_time": "2021-12-25T15:38:09.205Z"
   },
   {
    "duration": 77085,
    "start_time": "2021-12-25T15:38:17.529Z"
   },
   {
    "duration": 190,
    "start_time": "2021-12-25T15:42:53.789Z"
   },
   {
    "duration": 191,
    "start_time": "2021-12-25T15:43:07.525Z"
   },
   {
    "duration": 201,
    "start_time": "2021-12-25T15:43:23.501Z"
   },
   {
    "duration": 8,
    "start_time": "2021-12-25T15:43:33.645Z"
   },
   {
    "duration": 99972,
    "start_time": "2021-12-25T15:44:03.832Z"
   },
   {
    "duration": 1240,
    "start_time": "2021-12-25T15:45:43.806Z"
   },
   {
    "duration": 3,
    "start_time": "2021-12-25T15:45:45.048Z"
   },
   {
    "duration": 85,
    "start_time": "2021-12-25T15:45:45.053Z"
   },
   {
    "duration": 73,
    "start_time": "2021-12-25T15:45:45.139Z"
   },
   {
    "duration": 89,
    "start_time": "2021-12-25T15:45:45.214Z"
   },
   {
    "duration": 50,
    "start_time": "2021-12-25T15:45:45.304Z"
   },
   {
    "duration": 56,
    "start_time": "2021-12-25T15:45:45.357Z"
   },
   {
    "duration": 19,
    "start_time": "2021-12-25T15:45:45.415Z"
   },
   {
    "duration": 6,
    "start_time": "2021-12-25T15:45:45.437Z"
   },
   {
    "duration": 18,
    "start_time": "2021-12-25T15:45:45.445Z"
   },
   {
    "duration": 73,
    "start_time": "2021-12-25T15:45:45.492Z"
   },
   {
    "duration": 51,
    "start_time": "2021-12-25T15:45:45.566Z"
   },
   {
    "duration": 17,
    "start_time": "2021-12-25T15:45:45.618Z"
   },
   {
    "duration": 5,
    "start_time": "2021-12-25T15:45:45.637Z"
   },
   {
    "duration": 12,
    "start_time": "2021-12-25T15:45:45.644Z"
   },
   {
    "duration": 43,
    "start_time": "2021-12-25T15:45:45.658Z"
   },
   {
    "duration": 189,
    "start_time": "2021-12-25T15:45:45.703Z"
   },
   {
    "duration": 6,
    "start_time": "2021-12-25T15:45:45.894Z"
   },
   {
    "duration": 11,
    "start_time": "2021-12-25T15:45:45.902Z"
   },
   {
    "duration": 1331,
    "start_time": "2021-12-25T15:45:45.914Z"
   },
   {
    "duration": 2307,
    "start_time": "2021-12-25T15:45:47.247Z"
   },
   {
    "duration": 410,
    "start_time": "2021-12-25T15:45:49.557Z"
   },
   {
    "duration": 37,
    "start_time": "2021-12-25T15:45:49.969Z"
   },
   {
    "duration": 9,
    "start_time": "2021-12-25T15:45:50.008Z"
   },
   {
    "duration": 6,
    "start_time": "2021-12-25T15:45:50.018Z"
   },
   {
    "duration": 22,
    "start_time": "2021-12-25T15:45:50.026Z"
   },
   {
    "duration": 6,
    "start_time": "2021-12-25T15:45:50.050Z"
   },
   {
    "duration": 7,
    "start_time": "2021-12-25T15:45:50.057Z"
   },
   {
    "duration": 3,
    "start_time": "2021-12-25T15:45:50.090Z"
   },
   {
    "duration": 2203,
    "start_time": "2021-12-25T15:45:50.095Z"
   },
   {
    "duration": 9481,
    "start_time": "2021-12-25T15:45:52.300Z"
   },
   {
    "duration": 9,
    "start_time": "2021-12-25T15:49:19.917Z"
   },
   {
    "duration": 2299,
    "start_time": "2021-12-25T16:04:31.285Z"
   },
   {
    "duration": 67,
    "start_time": "2021-12-25T16:07:04.721Z"
   },
   {
    "duration": 2203,
    "start_time": "2021-12-25T16:14:45.891Z"
   },
   {
    "duration": 2195,
    "start_time": "2021-12-25T16:15:09.236Z"
   },
   {
    "duration": 15,
    "start_time": "2021-12-25T16:25:04.504Z"
   },
   {
    "duration": 11,
    "start_time": "2021-12-25T16:25:16.397Z"
   },
   {
    "duration": 11,
    "start_time": "2021-12-25T16:25:53.194Z"
   },
   {
    "duration": 10,
    "start_time": "2021-12-25T16:26:14.469Z"
   },
   {
    "duration": 2507,
    "start_time": "2021-12-25T16:30:09.377Z"
   },
   {
    "duration": 4,
    "start_time": "2021-12-25T16:31:53.113Z"
   },
   {
    "duration": 9,
    "start_time": "2021-12-25T16:32:21.675Z"
   },
   {
    "duration": 2370,
    "start_time": "2021-12-25T16:32:37.449Z"
   },
   {
    "duration": 2388,
    "start_time": "2021-12-25T16:32:53.228Z"
   },
   {
    "duration": 2421,
    "start_time": "2021-12-25T16:34:04.716Z"
   },
   {
    "duration": 2395,
    "start_time": "2021-12-25T16:35:49.068Z"
   },
   {
    "duration": 2128,
    "start_time": "2021-12-25T16:36:04.968Z"
   },
   {
    "duration": 9492,
    "start_time": "2021-12-25T16:37:48.939Z"
   },
   {
    "duration": 92,
    "start_time": "2021-12-25T16:39:31.504Z"
   },
   {
    "duration": 17,
    "start_time": "2021-12-25T16:39:39.307Z"
   },
   {
    "duration": 61,
    "start_time": "2021-12-25T16:40:41.307Z"
   },
   {
    "duration": 13,
    "start_time": "2021-12-25T16:40:47.384Z"
   },
   {
    "duration": 9136,
    "start_time": "2021-12-25T16:41:13.088Z"
   },
   {
    "duration": 2168,
    "start_time": "2021-12-25T16:41:49.228Z"
   },
   {
    "duration": 18,
    "start_time": "2021-12-25T16:48:31.587Z"
   },
   {
    "duration": 59,
    "start_time": "2021-12-25T16:49:23.590Z"
   },
   {
    "duration": 8,
    "start_time": "2021-12-25T16:49:32.281Z"
   },
   {
    "duration": 2258,
    "start_time": "2021-12-25T16:50:14.833Z"
   },
   {
    "duration": 5,
    "start_time": "2021-12-25T16:50:17.093Z"
   },
   {
    "duration": 7,
    "start_time": "2021-12-25T16:50:17.100Z"
   },
   {
    "duration": 83,
    "start_time": "2021-12-25T16:50:17.108Z"
   },
   {
    "duration": 49,
    "start_time": "2021-12-25T16:50:17.193Z"
   },
   {
    "duration": 83,
    "start_time": "2021-12-25T16:50:17.244Z"
   },
   {
    "duration": 72,
    "start_time": "2021-12-25T16:50:17.329Z"
   },
   {
    "duration": 27,
    "start_time": "2021-12-25T16:50:17.404Z"
   },
   {
    "duration": 16,
    "start_time": "2021-12-25T16:50:17.433Z"
   },
   {
    "duration": 7,
    "start_time": "2021-12-25T16:50:17.450Z"
   },
   {
    "duration": 39,
    "start_time": "2021-12-25T16:50:17.459Z"
   },
   {
    "duration": 72,
    "start_time": "2021-12-25T16:50:17.500Z"
   },
   {
    "duration": 50,
    "start_time": "2021-12-25T16:50:17.573Z"
   },
   {
    "duration": 15,
    "start_time": "2021-12-25T16:50:17.625Z"
   },
   {
    "duration": 5,
    "start_time": "2021-12-25T16:50:17.641Z"
   },
   {
    "duration": 15,
    "start_time": "2021-12-25T16:50:17.647Z"
   },
   {
    "duration": 38,
    "start_time": "2021-12-25T16:50:17.663Z"
   },
   {
    "duration": 188,
    "start_time": "2021-12-25T16:50:17.703Z"
   },
   {
    "duration": 6,
    "start_time": "2021-12-25T16:50:17.893Z"
   },
   {
    "duration": 11,
    "start_time": "2021-12-25T16:50:17.900Z"
   },
   {
    "duration": 1314,
    "start_time": "2021-12-25T16:50:17.913Z"
   },
   {
    "duration": 2165,
    "start_time": "2021-12-25T16:50:19.229Z"
   },
   {
    "duration": 403,
    "start_time": "2021-12-25T16:50:21.397Z"
   },
   {
    "duration": 27,
    "start_time": "2021-12-25T16:50:21.801Z"
   },
   {
    "duration": 8,
    "start_time": "2021-12-25T16:50:21.829Z"
   },
   {
    "duration": 6,
    "start_time": "2021-12-25T16:50:21.839Z"
   },
   {
    "duration": 16,
    "start_time": "2021-12-25T16:50:21.846Z"
   },
   {
    "duration": 30,
    "start_time": "2021-12-25T16:50:21.864Z"
   },
   {
    "duration": 18,
    "start_time": "2021-12-25T16:50:21.895Z"
   },
   {
    "duration": 2180,
    "start_time": "2021-12-25T16:50:21.915Z"
   },
   {
    "duration": 9245,
    "start_time": "2021-12-25T16:50:24.098Z"
   },
   {
    "duration": 90267,
    "start_time": "2021-12-25T16:50:33.345Z"
   },
   {
    "duration": 13,
    "start_time": "2021-12-25T16:52:03.614Z"
   },
   {
    "duration": 85088,
    "start_time": "2021-12-25T17:13:09.421Z"
   },
   {
    "duration": 1160,
    "start_time": "2021-12-25T17:14:34.511Z"
   },
   {
    "duration": 3,
    "start_time": "2021-12-25T17:14:35.673Z"
   },
   {
    "duration": 85,
    "start_time": "2021-12-25T17:14:35.678Z"
   },
   {
    "duration": 50,
    "start_time": "2021-12-25T17:14:35.764Z"
   },
   {
    "duration": 90,
    "start_time": "2021-12-25T17:14:35.815Z"
   },
   {
    "duration": 47,
    "start_time": "2021-12-25T17:14:35.906Z"
   },
   {
    "duration": 49,
    "start_time": "2021-12-25T17:14:35.955Z"
   },
   {
    "duration": 17,
    "start_time": "2021-12-25T17:14:36.006Z"
   },
   {
    "duration": 5,
    "start_time": "2021-12-25T17:14:36.025Z"
   },
   {
    "duration": 16,
    "start_time": "2021-12-25T17:14:36.031Z"
   },
   {
    "duration": 89,
    "start_time": "2021-12-25T17:14:36.049Z"
   },
   {
    "duration": 33,
    "start_time": "2021-12-25T17:14:36.140Z"
   },
   {
    "duration": 17,
    "start_time": "2021-12-25T17:14:36.191Z"
   },
   {
    "duration": 5,
    "start_time": "2021-12-25T17:14:36.209Z"
   },
   {
    "duration": 14,
    "start_time": "2021-12-25T17:14:36.216Z"
   },
   {
    "duration": 10,
    "start_time": "2021-12-25T17:14:36.231Z"
   },
   {
    "duration": 205,
    "start_time": "2021-12-25T17:14:36.243Z"
   },
   {
    "duration": 5,
    "start_time": "2021-12-25T17:14:36.450Z"
   },
   {
    "duration": 11,
    "start_time": "2021-12-25T17:14:36.457Z"
   },
   {
    "duration": 1328,
    "start_time": "2021-12-25T17:14:36.470Z"
   },
   {
    "duration": 2061,
    "start_time": "2021-12-25T17:14:37.800Z"
   },
   {
    "duration": 391,
    "start_time": "2021-12-25T17:14:39.864Z"
   },
   {
    "duration": 35,
    "start_time": "2021-12-25T17:14:40.256Z"
   },
   {
    "duration": 7,
    "start_time": "2021-12-25T17:14:40.293Z"
   },
   {
    "duration": 6,
    "start_time": "2021-12-25T17:14:40.301Z"
   },
   {
    "duration": 17,
    "start_time": "2021-12-25T17:14:40.308Z"
   },
   {
    "duration": 5,
    "start_time": "2021-12-25T17:14:40.327Z"
   },
   {
    "duration": 7,
    "start_time": "2021-12-25T17:14:40.333Z"
   },
   {
    "duration": 2155,
    "start_time": "2021-12-25T17:14:40.342Z"
   },
   {
    "duration": 9296,
    "start_time": "2021-12-25T17:14:42.499Z"
   },
   {
    "duration": 79301,
    "start_time": "2021-12-25T17:14:51.796Z"
   },
   {
    "duration": 14,
    "start_time": "2021-12-25T17:16:11.099Z"
   }
  ],
  "kernelspec": {
   "display_name": "Python 3",
   "language": "python",
   "name": "python3"
  },
  "language_info": {
   "codemirror_mode": {
    "name": "ipython",
    "version": 3
   },
   "file_extension": ".py",
   "mimetype": "text/x-python",
   "name": "python",
   "nbconvert_exporter": "python",
   "pygments_lexer": "ipython3",
   "version": "3.7.8"
  },
  "toc": {
   "base_numbering": 1,
   "nav_menu": {},
   "number_sections": true,
   "sideBar": true,
   "skip_h1_title": true,
   "title_cell": "Table of Contents",
   "title_sidebar": "Contents",
   "toc_cell": false,
   "toc_position": {
    "height": "calc(100% - 180px)",
    "left": "10px",
    "top": "150px",
    "width": "240px"
   },
   "toc_section_display": true,
   "toc_window_display": true
  }
 },
 "nbformat": 4,
 "nbformat_minor": 2
}
