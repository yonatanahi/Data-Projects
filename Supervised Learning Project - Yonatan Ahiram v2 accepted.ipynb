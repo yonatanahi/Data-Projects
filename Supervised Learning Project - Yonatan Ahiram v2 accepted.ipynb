{
 "cells": [
  {
   "cell_type": "markdown",
   "metadata": {},
   "source": [
    "<div class=\"alert alert-success\">\n",
    "<b>Reviewer's comment V2</b>\n",
    "  \n",
    "The project is accepted. Good luck on the next sprint!\n",
    "  \n",
    "</div>"
   ]
  },
  {
   "cell_type": "markdown",
   "metadata": {},
   "source": [
    "**Review**\n",
    "\n",
    "Hi, my name is Dmitry and I will be reviewing your project.\n",
    "  \n",
    "You can find my comments in colored markdown cells:\n",
    "  \n",
    "<div class=\"alert alert-success\">\n",
    "  If everything is done successfully.\n",
    "</div>\n",
    "  \n",
    "<div class=\"alert alert-warning\">\n",
    "  If I have some (optional) suggestions, or questions to think about, or general comments.\n",
    "</div>\n",
    "  \n",
    "<div class=\"alert alert-danger\">\n",
    "  If a section requires some corrections. Work can't be accepted with red comments.\n",
    "</div>\n",
    "  \n",
    "Please don't remove my comments, as it will make further review iterations much harder for me.\n",
    "  \n",
    "Feel free to reply to my comments or ask questions using the following template:\n",
    "  \n",
    "<div class=\"alert alert-info\">\n",
    "  For your comments and questions.\n",
    "</div>\n",
    "  \n",
    "First of all, thank you for turning in the project! You did an excellent job! There's just one small problem that needs to be fixed before the project is accepted. It should be very straightforward though!"
   ]
  },
  {
   "cell_type": "markdown",
   "metadata": {},
   "source": [
    "# Project description\n",
    "\n",
    "Beta Bank customers are leaving: little by little, chipping away every month. The bankers figured out it’s cheaper to save the existing customers rather than to attract new ones.\n",
    "\n",
    "We need to predict whether a customer will leave the bank soon. You have the data on clients’ past behavior and termination of contracts with the bank.\n",
    "\n",
    "Build a model with the maximum possible F1 score. To pass the project, you need an F1 score of at least **0.59**. Check the F1 for the test set.\n",
    "\n",
    "Additionally, measure the AUC-ROC metric and compare it with the F1.\n",
    "\n",
    "\n",
    "## Data description\n",
    "The data can be found in /datasets/Churn.csv file. \n",
    "\n",
    "**Features**\n",
    "\n",
    "* *RowNumber* — data string index\n",
    "* *CustomerId* — unique customer identifier\n",
    "* *Surname* — surname\n",
    "* *CreditScore* — credit score\n",
    "* *Geography* — country of residence\n",
    "* *Gender* — gender\n",
    "* *Age* — age\n",
    "* *Tenure* — period of maturation for a customer’s fixed deposit (years)\n",
    "* *Balance* — account balance\n",
    "* *NumOfProducts* — number of banking products used by the customer\n",
    "* *HasCrCard* — customer has a credit card\n",
    "* *IsActiveMember* — customer’s activeness\n",
    "* *EstimatedSalary* — estimated salary\n",
    "\n",
    "**Target**\n",
    "\n",
    "* *Exited* — сustomer has left\n",
    "\n"
   ]
  },
  {
   "cell_type": "markdown",
   "metadata": {},
   "source": [
    "## Data Preprocessing"
   ]
  },
  {
   "cell_type": "code",
   "execution_count": 41,
   "metadata": {},
   "outputs": [
    {
     "name": "stdout",
     "output_type": "stream",
     "text": [
      "Defaulting to user installation because normal site-packages is not writeable\n",
      "Requirement already satisfied: sidetable in /home/jovyan/.local/lib/python3.7/site-packages (0.9.0)\n",
      "Requirement already satisfied: pandas>=1.0 in /home/jovyan/.local/lib/python3.7/site-packages (from sidetable) (1.3.3)\n",
      "Requirement already satisfied: pytz>=2017.3 in /opt/conda/lib/python3.7/site-packages (from pandas>=1.0->sidetable) (2021.1)\n",
      "Requirement already satisfied: python-dateutil>=2.7.3 in /opt/conda/lib/python3.7/site-packages (from pandas>=1.0->sidetable) (2.8.1)\n",
      "Requirement already satisfied: numpy>=1.17.3 in /opt/conda/lib/python3.7/site-packages (from pandas>=1.0->sidetable) (1.19.5)\n",
      "Requirement already satisfied: six>=1.5 in /opt/conda/lib/python3.7/site-packages (from python-dateutil>=2.7.3->pandas>=1.0->sidetable) (1.15.0)\n"
     ]
    }
   ],
   "source": [
    "! pip install sidetable"
   ]
  },
  {
   "cell_type": "markdown",
   "metadata": {},
   "source": [
    "### Imports"
   ]
  },
  {
   "cell_type": "code",
   "execution_count": 42,
   "metadata": {},
   "outputs": [],
   "source": [
    "import pandas as pd\n",
    "import sidetable as stb\n",
    "import matplotlib.pyplot as plt\n",
    "from sklearn.preprocessing import StandardScaler\n",
    "from sklearn.model_selection import train_test_split\n",
    "from sklearn.tree import DecisionTreeClassifier\n",
    "from sklearn.ensemble import RandomForestClassifier\n",
    "from sklearn.linear_model import LogisticRegression\n",
    "from sklearn.metrics import f1_score, roc_auc_score, roc_curve\n",
    "from sklearn.utils import shuffle\n",
    "import sys\n",
    "import warnings\n",
    "if not sys.warnoptions:\n",
    "    warnings.simplefilter(\"ignore\")"
   ]
  },
  {
   "cell_type": "markdown",
   "metadata": {},
   "source": [
    "### Data samples"
   ]
  },
  {
   "cell_type": "code",
   "execution_count": 43,
   "metadata": {},
   "outputs": [
    {
     "data": {
      "text/html": [
       "<div>\n",
       "<style scoped>\n",
       "    .dataframe tbody tr th:only-of-type {\n",
       "        vertical-align: middle;\n",
       "    }\n",
       "\n",
       "    .dataframe tbody tr th {\n",
       "        vertical-align: top;\n",
       "    }\n",
       "\n",
       "    .dataframe thead th {\n",
       "        text-align: right;\n",
       "    }\n",
       "</style>\n",
       "<table border=\"1\" class=\"dataframe\">\n",
       "  <thead>\n",
       "    <tr style=\"text-align: right;\">\n",
       "      <th></th>\n",
       "      <th>RowNumber</th>\n",
       "      <th>CustomerId</th>\n",
       "      <th>Surname</th>\n",
       "      <th>CreditScore</th>\n",
       "      <th>Geography</th>\n",
       "      <th>Gender</th>\n",
       "      <th>Age</th>\n",
       "      <th>Tenure</th>\n",
       "      <th>Balance</th>\n",
       "      <th>NumOfProducts</th>\n",
       "      <th>HasCrCard</th>\n",
       "      <th>IsActiveMember</th>\n",
       "      <th>EstimatedSalary</th>\n",
       "      <th>Exited</th>\n",
       "    </tr>\n",
       "  </thead>\n",
       "  <tbody>\n",
       "    <tr>\n",
       "      <th>191</th>\n",
       "      <td>192</td>\n",
       "      <td>15771086</td>\n",
       "      <td>Graham</td>\n",
       "      <td>512</td>\n",
       "      <td>France</td>\n",
       "      <td>Female</td>\n",
       "      <td>36</td>\n",
       "      <td>3.0</td>\n",
       "      <td>84327.77</td>\n",
       "      <td>2</td>\n",
       "      <td>1</td>\n",
       "      <td>0</td>\n",
       "      <td>17675.36</td>\n",
       "      <td>0</td>\n",
       "    </tr>\n",
       "    <tr>\n",
       "      <th>6957</th>\n",
       "      <td>6958</td>\n",
       "      <td>15802274</td>\n",
       "      <td>Waters</td>\n",
       "      <td>686</td>\n",
       "      <td>France</td>\n",
       "      <td>Female</td>\n",
       "      <td>44</td>\n",
       "      <td>7.0</td>\n",
       "      <td>55053.62</td>\n",
       "      <td>1</td>\n",
       "      <td>1</td>\n",
       "      <td>0</td>\n",
       "      <td>181757.19</td>\n",
       "      <td>0</td>\n",
       "    </tr>\n",
       "    <tr>\n",
       "      <th>4025</th>\n",
       "      <td>4026</td>\n",
       "      <td>15640769</td>\n",
       "      <td>Hobbs</td>\n",
       "      <td>660</td>\n",
       "      <td>France</td>\n",
       "      <td>Male</td>\n",
       "      <td>63</td>\n",
       "      <td>8.0</td>\n",
       "      <td>137841.53</td>\n",
       "      <td>1</td>\n",
       "      <td>1</td>\n",
       "      <td>1</td>\n",
       "      <td>42790.29</td>\n",
       "      <td>0</td>\n",
       "    </tr>\n",
       "    <tr>\n",
       "      <th>2269</th>\n",
       "      <td>2270</td>\n",
       "      <td>15613097</td>\n",
       "      <td>Kao</td>\n",
       "      <td>605</td>\n",
       "      <td>France</td>\n",
       "      <td>Female</td>\n",
       "      <td>33</td>\n",
       "      <td>4.0</td>\n",
       "      <td>0.00</td>\n",
       "      <td>2</td>\n",
       "      <td>0</td>\n",
       "      <td>1</td>\n",
       "      <td>83700.66</td>\n",
       "      <td>0</td>\n",
       "    </tr>\n",
       "    <tr>\n",
       "      <th>2581</th>\n",
       "      <td>2582</td>\n",
       "      <td>15634719</td>\n",
       "      <td>Chinwendu</td>\n",
       "      <td>704</td>\n",
       "      <td>France</td>\n",
       "      <td>Male</td>\n",
       "      <td>31</td>\n",
       "      <td>NaN</td>\n",
       "      <td>0.00</td>\n",
       "      <td>2</td>\n",
       "      <td>1</td>\n",
       "      <td>0</td>\n",
       "      <td>183038.33</td>\n",
       "      <td>0</td>\n",
       "    </tr>\n",
       "  </tbody>\n",
       "</table>\n",
       "</div>"
      ],
      "text/plain": [
       "      RowNumber  CustomerId    Surname  CreditScore Geography  Gender  Age  \\\n",
       "191         192    15771086     Graham          512    France  Female   36   \n",
       "6957       6958    15802274     Waters          686    France  Female   44   \n",
       "4025       4026    15640769      Hobbs          660    France    Male   63   \n",
       "2269       2270    15613097        Kao          605    France  Female   33   \n",
       "2581       2582    15634719  Chinwendu          704    France    Male   31   \n",
       "\n",
       "      Tenure    Balance  NumOfProducts  HasCrCard  IsActiveMember  \\\n",
       "191      3.0   84327.77              2          1               0   \n",
       "6957     7.0   55053.62              1          1               0   \n",
       "4025     8.0  137841.53              1          1               1   \n",
       "2269     4.0       0.00              2          0               1   \n",
       "2581     NaN       0.00              2          1               0   \n",
       "\n",
       "      EstimatedSalary  Exited  \n",
       "191          17675.36       0  \n",
       "6957        181757.19       0  \n",
       "4025         42790.29       0  \n",
       "2269         83700.66       0  \n",
       "2581        183038.33       0  "
      ]
     },
     "execution_count": 43,
     "metadata": {},
     "output_type": "execute_result"
    }
   ],
   "source": [
    "data = pd.read_csv('/datasets/Churn.csv')\n",
    "data.sample(5)"
   ]
  },
  {
   "cell_type": "markdown",
   "metadata": {},
   "source": [
    "First look into the data."
   ]
  },
  {
   "cell_type": "markdown",
   "metadata": {},
   "source": [
    "### Info"
   ]
  },
  {
   "cell_type": "code",
   "execution_count": 44,
   "metadata": {},
   "outputs": [
    {
     "name": "stdout",
     "output_type": "stream",
     "text": [
      "<class 'pandas.core.frame.DataFrame'>\n",
      "RangeIndex: 10000 entries, 0 to 9999\n",
      "Data columns (total 14 columns):\n",
      " #   Column           Non-Null Count  Dtype  \n",
      "---  ------           --------------  -----  \n",
      " 0   RowNumber        10000 non-null  int64  \n",
      " 1   CustomerId       10000 non-null  int64  \n",
      " 2   Surname          10000 non-null  object \n",
      " 3   CreditScore      10000 non-null  int64  \n",
      " 4   Geography        10000 non-null  object \n",
      " 5   Gender           10000 non-null  object \n",
      " 6   Age              10000 non-null  int64  \n",
      " 7   Tenure           9091 non-null   float64\n",
      " 8   Balance          10000 non-null  float64\n",
      " 9   NumOfProducts    10000 non-null  int64  \n",
      " 10  HasCrCard        10000 non-null  int64  \n",
      " 11  IsActiveMember   10000 non-null  int64  \n",
      " 12  EstimatedSalary  10000 non-null  float64\n",
      " 13  Exited           10000 non-null  int64  \n",
      "dtypes: float64(3), int64(8), object(3)\n",
      "memory usage: 2.6 MB\n"
     ]
    }
   ],
   "source": [
    "data.info(memory_usage='deep')"
   ]
  },
  {
   "cell_type": "markdown",
   "metadata": {},
   "source": [
    "The data types are looking good. We can see we have some missing values in Tenure column."
   ]
  },
  {
   "cell_type": "markdown",
   "metadata": {},
   "source": [
    "### Describe"
   ]
  },
  {
   "cell_type": "code",
   "execution_count": 45,
   "metadata": {},
   "outputs": [
    {
     "data": {
      "text/html": [
       "<div>\n",
       "<style scoped>\n",
       "    .dataframe tbody tr th:only-of-type {\n",
       "        vertical-align: middle;\n",
       "    }\n",
       "\n",
       "    .dataframe tbody tr th {\n",
       "        vertical-align: top;\n",
       "    }\n",
       "\n",
       "    .dataframe thead th {\n",
       "        text-align: right;\n",
       "    }\n",
       "</style>\n",
       "<table border=\"1\" class=\"dataframe\">\n",
       "  <thead>\n",
       "    <tr style=\"text-align: right;\">\n",
       "      <th></th>\n",
       "      <th>RowNumber</th>\n",
       "      <th>CustomerId</th>\n",
       "      <th>Surname</th>\n",
       "      <th>CreditScore</th>\n",
       "      <th>Geography</th>\n",
       "      <th>Gender</th>\n",
       "      <th>Age</th>\n",
       "      <th>Tenure</th>\n",
       "      <th>Balance</th>\n",
       "      <th>NumOfProducts</th>\n",
       "      <th>HasCrCard</th>\n",
       "      <th>IsActiveMember</th>\n",
       "      <th>EstimatedSalary</th>\n",
       "      <th>Exited</th>\n",
       "    </tr>\n",
       "  </thead>\n",
       "  <tbody>\n",
       "    <tr>\n",
       "      <th>count</th>\n",
       "      <td>10000.00000</td>\n",
       "      <td>1.000000e+04</td>\n",
       "      <td>10000</td>\n",
       "      <td>10000.000000</td>\n",
       "      <td>10000</td>\n",
       "      <td>10000</td>\n",
       "      <td>10000.000000</td>\n",
       "      <td>9091.000000</td>\n",
       "      <td>10000.000000</td>\n",
       "      <td>10000.000000</td>\n",
       "      <td>10000.00000</td>\n",
       "      <td>10000.000000</td>\n",
       "      <td>10000.000000</td>\n",
       "      <td>10000.000000</td>\n",
       "    </tr>\n",
       "    <tr>\n",
       "      <th>unique</th>\n",
       "      <td>NaN</td>\n",
       "      <td>NaN</td>\n",
       "      <td>2932</td>\n",
       "      <td>NaN</td>\n",
       "      <td>3</td>\n",
       "      <td>2</td>\n",
       "      <td>NaN</td>\n",
       "      <td>NaN</td>\n",
       "      <td>NaN</td>\n",
       "      <td>NaN</td>\n",
       "      <td>NaN</td>\n",
       "      <td>NaN</td>\n",
       "      <td>NaN</td>\n",
       "      <td>NaN</td>\n",
       "    </tr>\n",
       "    <tr>\n",
       "      <th>top</th>\n",
       "      <td>NaN</td>\n",
       "      <td>NaN</td>\n",
       "      <td>Smith</td>\n",
       "      <td>NaN</td>\n",
       "      <td>France</td>\n",
       "      <td>Male</td>\n",
       "      <td>NaN</td>\n",
       "      <td>NaN</td>\n",
       "      <td>NaN</td>\n",
       "      <td>NaN</td>\n",
       "      <td>NaN</td>\n",
       "      <td>NaN</td>\n",
       "      <td>NaN</td>\n",
       "      <td>NaN</td>\n",
       "    </tr>\n",
       "    <tr>\n",
       "      <th>freq</th>\n",
       "      <td>NaN</td>\n",
       "      <td>NaN</td>\n",
       "      <td>32</td>\n",
       "      <td>NaN</td>\n",
       "      <td>5014</td>\n",
       "      <td>5457</td>\n",
       "      <td>NaN</td>\n",
       "      <td>NaN</td>\n",
       "      <td>NaN</td>\n",
       "      <td>NaN</td>\n",
       "      <td>NaN</td>\n",
       "      <td>NaN</td>\n",
       "      <td>NaN</td>\n",
       "      <td>NaN</td>\n",
       "    </tr>\n",
       "    <tr>\n",
       "      <th>mean</th>\n",
       "      <td>5000.50000</td>\n",
       "      <td>1.569094e+07</td>\n",
       "      <td>NaN</td>\n",
       "      <td>650.528800</td>\n",
       "      <td>NaN</td>\n",
       "      <td>NaN</td>\n",
       "      <td>38.921800</td>\n",
       "      <td>4.997690</td>\n",
       "      <td>76485.889288</td>\n",
       "      <td>1.530200</td>\n",
       "      <td>0.70550</td>\n",
       "      <td>0.515100</td>\n",
       "      <td>100090.239881</td>\n",
       "      <td>0.203700</td>\n",
       "    </tr>\n",
       "    <tr>\n",
       "      <th>std</th>\n",
       "      <td>2886.89568</td>\n",
       "      <td>7.193619e+04</td>\n",
       "      <td>NaN</td>\n",
       "      <td>96.653299</td>\n",
       "      <td>NaN</td>\n",
       "      <td>NaN</td>\n",
       "      <td>10.487806</td>\n",
       "      <td>2.894723</td>\n",
       "      <td>62397.405202</td>\n",
       "      <td>0.581654</td>\n",
       "      <td>0.45584</td>\n",
       "      <td>0.499797</td>\n",
       "      <td>57510.492818</td>\n",
       "      <td>0.402769</td>\n",
       "    </tr>\n",
       "    <tr>\n",
       "      <th>min</th>\n",
       "      <td>1.00000</td>\n",
       "      <td>1.556570e+07</td>\n",
       "      <td>NaN</td>\n",
       "      <td>350.000000</td>\n",
       "      <td>NaN</td>\n",
       "      <td>NaN</td>\n",
       "      <td>18.000000</td>\n",
       "      <td>0.000000</td>\n",
       "      <td>0.000000</td>\n",
       "      <td>1.000000</td>\n",
       "      <td>0.00000</td>\n",
       "      <td>0.000000</td>\n",
       "      <td>11.580000</td>\n",
       "      <td>0.000000</td>\n",
       "    </tr>\n",
       "    <tr>\n",
       "      <th>25%</th>\n",
       "      <td>2500.75000</td>\n",
       "      <td>1.562853e+07</td>\n",
       "      <td>NaN</td>\n",
       "      <td>584.000000</td>\n",
       "      <td>NaN</td>\n",
       "      <td>NaN</td>\n",
       "      <td>32.000000</td>\n",
       "      <td>2.000000</td>\n",
       "      <td>0.000000</td>\n",
       "      <td>1.000000</td>\n",
       "      <td>0.00000</td>\n",
       "      <td>0.000000</td>\n",
       "      <td>51002.110000</td>\n",
       "      <td>0.000000</td>\n",
       "    </tr>\n",
       "    <tr>\n",
       "      <th>50%</th>\n",
       "      <td>5000.50000</td>\n",
       "      <td>1.569074e+07</td>\n",
       "      <td>NaN</td>\n",
       "      <td>652.000000</td>\n",
       "      <td>NaN</td>\n",
       "      <td>NaN</td>\n",
       "      <td>37.000000</td>\n",
       "      <td>5.000000</td>\n",
       "      <td>97198.540000</td>\n",
       "      <td>1.000000</td>\n",
       "      <td>1.00000</td>\n",
       "      <td>1.000000</td>\n",
       "      <td>100193.915000</td>\n",
       "      <td>0.000000</td>\n",
       "    </tr>\n",
       "    <tr>\n",
       "      <th>75%</th>\n",
       "      <td>7500.25000</td>\n",
       "      <td>1.575323e+07</td>\n",
       "      <td>NaN</td>\n",
       "      <td>718.000000</td>\n",
       "      <td>NaN</td>\n",
       "      <td>NaN</td>\n",
       "      <td>44.000000</td>\n",
       "      <td>7.000000</td>\n",
       "      <td>127644.240000</td>\n",
       "      <td>2.000000</td>\n",
       "      <td>1.00000</td>\n",
       "      <td>1.000000</td>\n",
       "      <td>149388.247500</td>\n",
       "      <td>0.000000</td>\n",
       "    </tr>\n",
       "    <tr>\n",
       "      <th>max</th>\n",
       "      <td>10000.00000</td>\n",
       "      <td>1.581569e+07</td>\n",
       "      <td>NaN</td>\n",
       "      <td>850.000000</td>\n",
       "      <td>NaN</td>\n",
       "      <td>NaN</td>\n",
       "      <td>92.000000</td>\n",
       "      <td>10.000000</td>\n",
       "      <td>250898.090000</td>\n",
       "      <td>4.000000</td>\n",
       "      <td>1.00000</td>\n",
       "      <td>1.000000</td>\n",
       "      <td>199992.480000</td>\n",
       "      <td>1.000000</td>\n",
       "    </tr>\n",
       "  </tbody>\n",
       "</table>\n",
       "</div>"
      ],
      "text/plain": [
       "          RowNumber    CustomerId Surname   CreditScore Geography Gender  \\\n",
       "count   10000.00000  1.000000e+04   10000  10000.000000     10000  10000   \n",
       "unique          NaN           NaN    2932           NaN         3      2   \n",
       "top             NaN           NaN   Smith           NaN    France   Male   \n",
       "freq            NaN           NaN      32           NaN      5014   5457   \n",
       "mean     5000.50000  1.569094e+07     NaN    650.528800       NaN    NaN   \n",
       "std      2886.89568  7.193619e+04     NaN     96.653299       NaN    NaN   \n",
       "min         1.00000  1.556570e+07     NaN    350.000000       NaN    NaN   \n",
       "25%      2500.75000  1.562853e+07     NaN    584.000000       NaN    NaN   \n",
       "50%      5000.50000  1.569074e+07     NaN    652.000000       NaN    NaN   \n",
       "75%      7500.25000  1.575323e+07     NaN    718.000000       NaN    NaN   \n",
       "max     10000.00000  1.581569e+07     NaN    850.000000       NaN    NaN   \n",
       "\n",
       "                 Age       Tenure        Balance  NumOfProducts    HasCrCard  \\\n",
       "count   10000.000000  9091.000000   10000.000000   10000.000000  10000.00000   \n",
       "unique           NaN          NaN            NaN            NaN          NaN   \n",
       "top              NaN          NaN            NaN            NaN          NaN   \n",
       "freq             NaN          NaN            NaN            NaN          NaN   \n",
       "mean       38.921800     4.997690   76485.889288       1.530200      0.70550   \n",
       "std        10.487806     2.894723   62397.405202       0.581654      0.45584   \n",
       "min        18.000000     0.000000       0.000000       1.000000      0.00000   \n",
       "25%        32.000000     2.000000       0.000000       1.000000      0.00000   \n",
       "50%        37.000000     5.000000   97198.540000       1.000000      1.00000   \n",
       "75%        44.000000     7.000000  127644.240000       2.000000      1.00000   \n",
       "max        92.000000    10.000000  250898.090000       4.000000      1.00000   \n",
       "\n",
       "        IsActiveMember  EstimatedSalary        Exited  \n",
       "count     10000.000000     10000.000000  10000.000000  \n",
       "unique             NaN              NaN           NaN  \n",
       "top                NaN              NaN           NaN  \n",
       "freq               NaN              NaN           NaN  \n",
       "mean          0.515100    100090.239881      0.203700  \n",
       "std           0.499797     57510.492818      0.402769  \n",
       "min           0.000000        11.580000      0.000000  \n",
       "25%           0.000000     51002.110000      0.000000  \n",
       "50%           1.000000    100193.915000      0.000000  \n",
       "75%           1.000000    149388.247500      0.000000  \n",
       "max           1.000000    199992.480000      1.000000  "
      ]
     },
     "execution_count": 45,
     "metadata": {},
     "output_type": "execute_result"
    }
   ],
   "source": [
    "data.describe(include='all')"
   ]
  },
  {
   "cell_type": "markdown",
   "metadata": {},
   "source": [
    "We can see here the description of our parameters. No problems here."
   ]
  },
  {
   "cell_type": "markdown",
   "metadata": {},
   "source": [
    "<div class=\"alert alert-success\">\n",
    "<b>Reviewer's comment</b>\n",
    "\n",
    "Alright, the data was loaded and inspected.\n",
    "\n",
    "</div>"
   ]
  },
  {
   "cell_type": "markdown",
   "metadata": {},
   "source": [
    "### Missing values"
   ]
  },
  {
   "cell_type": "code",
   "execution_count": 46,
   "metadata": {
    "scrolled": false
   },
   "outputs": [
    {
     "data": {
      "text/html": [
       "<style type=\"text/css\">\n",
       "</style>\n",
       "<table id=\"T_3c1d4_\">\n",
       "  <thead>\n",
       "    <tr>\n",
       "      <th class=\"blank level0\" >&nbsp;</th>\n",
       "      <th class=\"col_heading level0 col0\" >missing</th>\n",
       "      <th class=\"col_heading level0 col1\" >total</th>\n",
       "      <th class=\"col_heading level0 col2\" >percent</th>\n",
       "    </tr>\n",
       "  </thead>\n",
       "  <tbody>\n",
       "    <tr>\n",
       "      <th id=\"T_3c1d4_level0_row0\" class=\"row_heading level0 row0\" >Tenure</th>\n",
       "      <td id=\"T_3c1d4_row0_col0\" class=\"data row0 col0\" >909</td>\n",
       "      <td id=\"T_3c1d4_row0_col1\" class=\"data row0 col1\" >10,000</td>\n",
       "      <td id=\"T_3c1d4_row0_col2\" class=\"data row0 col2\" >9.09%</td>\n",
       "    </tr>\n",
       "    <tr>\n",
       "      <th id=\"T_3c1d4_level0_row1\" class=\"row_heading level0 row1\" >RowNumber</th>\n",
       "      <td id=\"T_3c1d4_row1_col0\" class=\"data row1 col0\" >0</td>\n",
       "      <td id=\"T_3c1d4_row1_col1\" class=\"data row1 col1\" >10,000</td>\n",
       "      <td id=\"T_3c1d4_row1_col2\" class=\"data row1 col2\" >0.00%</td>\n",
       "    </tr>\n",
       "    <tr>\n",
       "      <th id=\"T_3c1d4_level0_row2\" class=\"row_heading level0 row2\" >CustomerId</th>\n",
       "      <td id=\"T_3c1d4_row2_col0\" class=\"data row2 col0\" >0</td>\n",
       "      <td id=\"T_3c1d4_row2_col1\" class=\"data row2 col1\" >10,000</td>\n",
       "      <td id=\"T_3c1d4_row2_col2\" class=\"data row2 col2\" >0.00%</td>\n",
       "    </tr>\n",
       "    <tr>\n",
       "      <th id=\"T_3c1d4_level0_row3\" class=\"row_heading level0 row3\" >Surname</th>\n",
       "      <td id=\"T_3c1d4_row3_col0\" class=\"data row3 col0\" >0</td>\n",
       "      <td id=\"T_3c1d4_row3_col1\" class=\"data row3 col1\" >10,000</td>\n",
       "      <td id=\"T_3c1d4_row3_col2\" class=\"data row3 col2\" >0.00%</td>\n",
       "    </tr>\n",
       "    <tr>\n",
       "      <th id=\"T_3c1d4_level0_row4\" class=\"row_heading level0 row4\" >CreditScore</th>\n",
       "      <td id=\"T_3c1d4_row4_col0\" class=\"data row4 col0\" >0</td>\n",
       "      <td id=\"T_3c1d4_row4_col1\" class=\"data row4 col1\" >10,000</td>\n",
       "      <td id=\"T_3c1d4_row4_col2\" class=\"data row4 col2\" >0.00%</td>\n",
       "    </tr>\n",
       "    <tr>\n",
       "      <th id=\"T_3c1d4_level0_row5\" class=\"row_heading level0 row5\" >Geography</th>\n",
       "      <td id=\"T_3c1d4_row5_col0\" class=\"data row5 col0\" >0</td>\n",
       "      <td id=\"T_3c1d4_row5_col1\" class=\"data row5 col1\" >10,000</td>\n",
       "      <td id=\"T_3c1d4_row5_col2\" class=\"data row5 col2\" >0.00%</td>\n",
       "    </tr>\n",
       "    <tr>\n",
       "      <th id=\"T_3c1d4_level0_row6\" class=\"row_heading level0 row6\" >Gender</th>\n",
       "      <td id=\"T_3c1d4_row6_col0\" class=\"data row6 col0\" >0</td>\n",
       "      <td id=\"T_3c1d4_row6_col1\" class=\"data row6 col1\" >10,000</td>\n",
       "      <td id=\"T_3c1d4_row6_col2\" class=\"data row6 col2\" >0.00%</td>\n",
       "    </tr>\n",
       "    <tr>\n",
       "      <th id=\"T_3c1d4_level0_row7\" class=\"row_heading level0 row7\" >Age</th>\n",
       "      <td id=\"T_3c1d4_row7_col0\" class=\"data row7 col0\" >0</td>\n",
       "      <td id=\"T_3c1d4_row7_col1\" class=\"data row7 col1\" >10,000</td>\n",
       "      <td id=\"T_3c1d4_row7_col2\" class=\"data row7 col2\" >0.00%</td>\n",
       "    </tr>\n",
       "    <tr>\n",
       "      <th id=\"T_3c1d4_level0_row8\" class=\"row_heading level0 row8\" >Balance</th>\n",
       "      <td id=\"T_3c1d4_row8_col0\" class=\"data row8 col0\" >0</td>\n",
       "      <td id=\"T_3c1d4_row8_col1\" class=\"data row8 col1\" >10,000</td>\n",
       "      <td id=\"T_3c1d4_row8_col2\" class=\"data row8 col2\" >0.00%</td>\n",
       "    </tr>\n",
       "    <tr>\n",
       "      <th id=\"T_3c1d4_level0_row9\" class=\"row_heading level0 row9\" >NumOfProducts</th>\n",
       "      <td id=\"T_3c1d4_row9_col0\" class=\"data row9 col0\" >0</td>\n",
       "      <td id=\"T_3c1d4_row9_col1\" class=\"data row9 col1\" >10,000</td>\n",
       "      <td id=\"T_3c1d4_row9_col2\" class=\"data row9 col2\" >0.00%</td>\n",
       "    </tr>\n",
       "    <tr>\n",
       "      <th id=\"T_3c1d4_level0_row10\" class=\"row_heading level0 row10\" >HasCrCard</th>\n",
       "      <td id=\"T_3c1d4_row10_col0\" class=\"data row10 col0\" >0</td>\n",
       "      <td id=\"T_3c1d4_row10_col1\" class=\"data row10 col1\" >10,000</td>\n",
       "      <td id=\"T_3c1d4_row10_col2\" class=\"data row10 col2\" >0.00%</td>\n",
       "    </tr>\n",
       "    <tr>\n",
       "      <th id=\"T_3c1d4_level0_row11\" class=\"row_heading level0 row11\" >IsActiveMember</th>\n",
       "      <td id=\"T_3c1d4_row11_col0\" class=\"data row11 col0\" >0</td>\n",
       "      <td id=\"T_3c1d4_row11_col1\" class=\"data row11 col1\" >10,000</td>\n",
       "      <td id=\"T_3c1d4_row11_col2\" class=\"data row11 col2\" >0.00%</td>\n",
       "    </tr>\n",
       "    <tr>\n",
       "      <th id=\"T_3c1d4_level0_row12\" class=\"row_heading level0 row12\" >EstimatedSalary</th>\n",
       "      <td id=\"T_3c1d4_row12_col0\" class=\"data row12 col0\" >0</td>\n",
       "      <td id=\"T_3c1d4_row12_col1\" class=\"data row12 col1\" >10,000</td>\n",
       "      <td id=\"T_3c1d4_row12_col2\" class=\"data row12 col2\" >0.00%</td>\n",
       "    </tr>\n",
       "    <tr>\n",
       "      <th id=\"T_3c1d4_level0_row13\" class=\"row_heading level0 row13\" >Exited</th>\n",
       "      <td id=\"T_3c1d4_row13_col0\" class=\"data row13 col0\" >0</td>\n",
       "      <td id=\"T_3c1d4_row13_col1\" class=\"data row13 col1\" >10,000</td>\n",
       "      <td id=\"T_3c1d4_row13_col2\" class=\"data row13 col2\" >0.00%</td>\n",
       "    </tr>\n",
       "  </tbody>\n",
       "</table>\n"
      ],
      "text/plain": [
       "<pandas.io.formats.style.Styler at 0x7fcdc2521a50>"
      ]
     },
     "execution_count": 46,
     "metadata": {},
     "output_type": "execute_result"
    }
   ],
   "source": [
    "data.stb.missing(style=True)"
   ]
  },
  {
   "cell_type": "markdown",
   "metadata": {},
   "source": [
    "We have 9.09% of missing values in Tenure. A reasonable cause can be new clients who has no tenure at all."
   ]
  },
  {
   "cell_type": "code",
   "execution_count": 47,
   "metadata": {},
   "outputs": [],
   "source": [
    "data = data[data.Tenure.notnull()]"
   ]
  },
  {
   "cell_type": "markdown",
   "metadata": {},
   "source": [
    "The missing rows share is less then 10%, so we can delete them."
   ]
  },
  {
   "cell_type": "code",
   "execution_count": 48,
   "metadata": {},
   "outputs": [
    {
     "data": {
      "text/html": [
       "<div>\n",
       "<style scoped>\n",
       "    .dataframe tbody tr th:only-of-type {\n",
       "        vertical-align: middle;\n",
       "    }\n",
       "\n",
       "    .dataframe tbody tr th {\n",
       "        vertical-align: top;\n",
       "    }\n",
       "\n",
       "    .dataframe thead th {\n",
       "        text-align: right;\n",
       "    }\n",
       "</style>\n",
       "<table border=\"1\" class=\"dataframe\">\n",
       "  <thead>\n",
       "    <tr style=\"text-align: right;\">\n",
       "      <th></th>\n",
       "      <th>missing</th>\n",
       "      <th>total</th>\n",
       "      <th>percent</th>\n",
       "    </tr>\n",
       "  </thead>\n",
       "  <tbody>\n",
       "    <tr>\n",
       "      <th>RowNumber</th>\n",
       "      <td>0</td>\n",
       "      <td>9091</td>\n",
       "      <td>0.0</td>\n",
       "    </tr>\n",
       "    <tr>\n",
       "      <th>CustomerId</th>\n",
       "      <td>0</td>\n",
       "      <td>9091</td>\n",
       "      <td>0.0</td>\n",
       "    </tr>\n",
       "    <tr>\n",
       "      <th>Surname</th>\n",
       "      <td>0</td>\n",
       "      <td>9091</td>\n",
       "      <td>0.0</td>\n",
       "    </tr>\n",
       "    <tr>\n",
       "      <th>CreditScore</th>\n",
       "      <td>0</td>\n",
       "      <td>9091</td>\n",
       "      <td>0.0</td>\n",
       "    </tr>\n",
       "    <tr>\n",
       "      <th>Geography</th>\n",
       "      <td>0</td>\n",
       "      <td>9091</td>\n",
       "      <td>0.0</td>\n",
       "    </tr>\n",
       "    <tr>\n",
       "      <th>Gender</th>\n",
       "      <td>0</td>\n",
       "      <td>9091</td>\n",
       "      <td>0.0</td>\n",
       "    </tr>\n",
       "    <tr>\n",
       "      <th>Age</th>\n",
       "      <td>0</td>\n",
       "      <td>9091</td>\n",
       "      <td>0.0</td>\n",
       "    </tr>\n",
       "    <tr>\n",
       "      <th>Tenure</th>\n",
       "      <td>0</td>\n",
       "      <td>9091</td>\n",
       "      <td>0.0</td>\n",
       "    </tr>\n",
       "    <tr>\n",
       "      <th>Balance</th>\n",
       "      <td>0</td>\n",
       "      <td>9091</td>\n",
       "      <td>0.0</td>\n",
       "    </tr>\n",
       "    <tr>\n",
       "      <th>NumOfProducts</th>\n",
       "      <td>0</td>\n",
       "      <td>9091</td>\n",
       "      <td>0.0</td>\n",
       "    </tr>\n",
       "    <tr>\n",
       "      <th>HasCrCard</th>\n",
       "      <td>0</td>\n",
       "      <td>9091</td>\n",
       "      <td>0.0</td>\n",
       "    </tr>\n",
       "    <tr>\n",
       "      <th>IsActiveMember</th>\n",
       "      <td>0</td>\n",
       "      <td>9091</td>\n",
       "      <td>0.0</td>\n",
       "    </tr>\n",
       "    <tr>\n",
       "      <th>EstimatedSalary</th>\n",
       "      <td>0</td>\n",
       "      <td>9091</td>\n",
       "      <td>0.0</td>\n",
       "    </tr>\n",
       "    <tr>\n",
       "      <th>Exited</th>\n",
       "      <td>0</td>\n",
       "      <td>9091</td>\n",
       "      <td>0.0</td>\n",
       "    </tr>\n",
       "  </tbody>\n",
       "</table>\n",
       "</div>"
      ],
      "text/plain": [
       "                 missing  total  percent\n",
       "RowNumber              0   9091      0.0\n",
       "CustomerId             0   9091      0.0\n",
       "Surname                0   9091      0.0\n",
       "CreditScore            0   9091      0.0\n",
       "Geography              0   9091      0.0\n",
       "Gender                 0   9091      0.0\n",
       "Age                    0   9091      0.0\n",
       "Tenure                 0   9091      0.0\n",
       "Balance                0   9091      0.0\n",
       "NumOfProducts          0   9091      0.0\n",
       "HasCrCard              0   9091      0.0\n",
       "IsActiveMember         0   9091      0.0\n",
       "EstimatedSalary        0   9091      0.0\n",
       "Exited                 0   9091      0.0"
      ]
     },
     "execution_count": 48,
     "metadata": {},
     "output_type": "execute_result"
    }
   ],
   "source": [
    "data.stb.missing()"
   ]
  },
  {
   "cell_type": "markdown",
   "metadata": {},
   "source": [
    "No missing values here."
   ]
  },
  {
   "cell_type": "markdown",
   "metadata": {},
   "source": [
    "<div class=\"alert alert-success\">\n",
    "<b>Reviewer's comment</b>\n",
    "\n",
    "Missing values were dealt with reasonably\n",
    "\n",
    "</div>"
   ]
  },
  {
   "cell_type": "markdown",
   "metadata": {},
   "source": [
    "### Duplicates"
   ]
  },
  {
   "cell_type": "code",
   "execution_count": 49,
   "metadata": {},
   "outputs": [
    {
     "data": {
      "text/plain": [
       "0"
      ]
     },
     "execution_count": 49,
     "metadata": {},
     "output_type": "execute_result"
    }
   ],
   "source": [
    "data.duplicated().sum()"
   ]
  },
  {
   "cell_type": "markdown",
   "metadata": {},
   "source": [
    "No duplicates."
   ]
  },
  {
   "cell_type": "markdown",
   "metadata": {},
   "source": [
    "### Dropping unnecessary columns"
   ]
  },
  {
   "cell_type": "markdown",
   "metadata": {},
   "source": [
    "In order to train our model, we have to drop some unnecessary columns (which has no added value for our model)."
   ]
  },
  {
   "cell_type": "code",
   "execution_count": 50,
   "metadata": {},
   "outputs": [],
   "source": [
    "data = data.drop(['RowNumber', 'CustomerId', 'Surname'], axis = 1)"
   ]
  },
  {
   "cell_type": "code",
   "execution_count": 51,
   "metadata": {},
   "outputs": [
    {
     "data": {
      "text/html": [
       "<div>\n",
       "<style scoped>\n",
       "    .dataframe tbody tr th:only-of-type {\n",
       "        vertical-align: middle;\n",
       "    }\n",
       "\n",
       "    .dataframe tbody tr th {\n",
       "        vertical-align: top;\n",
       "    }\n",
       "\n",
       "    .dataframe thead th {\n",
       "        text-align: right;\n",
       "    }\n",
       "</style>\n",
       "<table border=\"1\" class=\"dataframe\">\n",
       "  <thead>\n",
       "    <tr style=\"text-align: right;\">\n",
       "      <th></th>\n",
       "      <th>CreditScore</th>\n",
       "      <th>Geography</th>\n",
       "      <th>Gender</th>\n",
       "      <th>Age</th>\n",
       "      <th>Tenure</th>\n",
       "      <th>Balance</th>\n",
       "      <th>NumOfProducts</th>\n",
       "      <th>HasCrCard</th>\n",
       "      <th>IsActiveMember</th>\n",
       "      <th>EstimatedSalary</th>\n",
       "      <th>Exited</th>\n",
       "    </tr>\n",
       "  </thead>\n",
       "  <tbody>\n",
       "    <tr>\n",
       "      <th>0</th>\n",
       "      <td>619</td>\n",
       "      <td>France</td>\n",
       "      <td>Female</td>\n",
       "      <td>42</td>\n",
       "      <td>2.0</td>\n",
       "      <td>0.00</td>\n",
       "      <td>1</td>\n",
       "      <td>1</td>\n",
       "      <td>1</td>\n",
       "      <td>101348.88</td>\n",
       "      <td>1</td>\n",
       "    </tr>\n",
       "    <tr>\n",
       "      <th>1</th>\n",
       "      <td>608</td>\n",
       "      <td>Spain</td>\n",
       "      <td>Female</td>\n",
       "      <td>41</td>\n",
       "      <td>1.0</td>\n",
       "      <td>83807.86</td>\n",
       "      <td>1</td>\n",
       "      <td>0</td>\n",
       "      <td>1</td>\n",
       "      <td>112542.58</td>\n",
       "      <td>0</td>\n",
       "    </tr>\n",
       "    <tr>\n",
       "      <th>2</th>\n",
       "      <td>502</td>\n",
       "      <td>France</td>\n",
       "      <td>Female</td>\n",
       "      <td>42</td>\n",
       "      <td>8.0</td>\n",
       "      <td>159660.80</td>\n",
       "      <td>3</td>\n",
       "      <td>1</td>\n",
       "      <td>0</td>\n",
       "      <td>113931.57</td>\n",
       "      <td>1</td>\n",
       "    </tr>\n",
       "    <tr>\n",
       "      <th>3</th>\n",
       "      <td>699</td>\n",
       "      <td>France</td>\n",
       "      <td>Female</td>\n",
       "      <td>39</td>\n",
       "      <td>1.0</td>\n",
       "      <td>0.00</td>\n",
       "      <td>2</td>\n",
       "      <td>0</td>\n",
       "      <td>0</td>\n",
       "      <td>93826.63</td>\n",
       "      <td>0</td>\n",
       "    </tr>\n",
       "    <tr>\n",
       "      <th>4</th>\n",
       "      <td>850</td>\n",
       "      <td>Spain</td>\n",
       "      <td>Female</td>\n",
       "      <td>43</td>\n",
       "      <td>2.0</td>\n",
       "      <td>125510.82</td>\n",
       "      <td>1</td>\n",
       "      <td>1</td>\n",
       "      <td>1</td>\n",
       "      <td>79084.10</td>\n",
       "      <td>0</td>\n",
       "    </tr>\n",
       "  </tbody>\n",
       "</table>\n",
       "</div>"
      ],
      "text/plain": [
       "   CreditScore Geography  Gender  Age  Tenure    Balance  NumOfProducts  \\\n",
       "0          619    France  Female   42     2.0       0.00              1   \n",
       "1          608     Spain  Female   41     1.0   83807.86              1   \n",
       "2          502    France  Female   42     8.0  159660.80              3   \n",
       "3          699    France  Female   39     1.0       0.00              2   \n",
       "4          850     Spain  Female   43     2.0  125510.82              1   \n",
       "\n",
       "   HasCrCard  IsActiveMember  EstimatedSalary  Exited  \n",
       "0          1               1        101348.88       1  \n",
       "1          0               1        112542.58       0  \n",
       "2          1               0        113931.57       1  \n",
       "3          0               0         93826.63       0  \n",
       "4          1               1         79084.10       0  "
      ]
     },
     "execution_count": 51,
     "metadata": {},
     "output_type": "execute_result"
    }
   ],
   "source": [
    "data.head()"
   ]
  },
  {
   "cell_type": "markdown",
   "metadata": {},
   "source": [
    "Ok. No unnecessary columns."
   ]
  },
  {
   "cell_type": "markdown",
   "metadata": {},
   "source": [
    "<div class=\"alert alert-success\">\n",
    "<b>Reviewer's comment</b>\n",
    "\n",
    "Great!\n",
    "\n",
    "</div>"
   ]
  },
  {
   "cell_type": "markdown",
   "metadata": {},
   "source": [
    "### Conclusion\n",
    "In this section, we:\n",
    "* had a first look into the data.\n",
    "* checked the info and the description of the data.\n",
    "* handled with missing values.\n",
    "* looked for duplicates.\n",
    "* dropped unnecassary columns."
   ]
  },
  {
   "cell_type": "markdown",
   "metadata": {},
   "source": [
    "## Features Preparation"
   ]
  },
  {
   "cell_type": "markdown",
   "metadata": {},
   "source": [
    "Let's use One-Hot Encoding to handle our categorical columns (Geography, Gender): "
   ]
  },
  {
   "cell_type": "markdown",
   "metadata": {},
   "source": [
    "### One-Hot Encoding"
   ]
  },
  {
   "cell_type": "code",
   "execution_count": 52,
   "metadata": {},
   "outputs": [],
   "source": [
    "data_ohe = pd.get_dummies(data, drop_first=True)"
   ]
  },
  {
   "cell_type": "code",
   "execution_count": 53,
   "metadata": {},
   "outputs": [
    {
     "data": {
      "text/html": [
       "<div>\n",
       "<style scoped>\n",
       "    .dataframe tbody tr th:only-of-type {\n",
       "        vertical-align: middle;\n",
       "    }\n",
       "\n",
       "    .dataframe tbody tr th {\n",
       "        vertical-align: top;\n",
       "    }\n",
       "\n",
       "    .dataframe thead th {\n",
       "        text-align: right;\n",
       "    }\n",
       "</style>\n",
       "<table border=\"1\" class=\"dataframe\">\n",
       "  <thead>\n",
       "    <tr style=\"text-align: right;\">\n",
       "      <th></th>\n",
       "      <th>CreditScore</th>\n",
       "      <th>Age</th>\n",
       "      <th>Tenure</th>\n",
       "      <th>Balance</th>\n",
       "      <th>NumOfProducts</th>\n",
       "      <th>HasCrCard</th>\n",
       "      <th>IsActiveMember</th>\n",
       "      <th>EstimatedSalary</th>\n",
       "      <th>Exited</th>\n",
       "      <th>Geography_Germany</th>\n",
       "      <th>Geography_Spain</th>\n",
       "      <th>Gender_Male</th>\n",
       "    </tr>\n",
       "  </thead>\n",
       "  <tbody>\n",
       "    <tr>\n",
       "      <th>0</th>\n",
       "      <td>619</td>\n",
       "      <td>42</td>\n",
       "      <td>2.0</td>\n",
       "      <td>0.00</td>\n",
       "      <td>1</td>\n",
       "      <td>1</td>\n",
       "      <td>1</td>\n",
       "      <td>101348.88</td>\n",
       "      <td>1</td>\n",
       "      <td>0</td>\n",
       "      <td>0</td>\n",
       "      <td>0</td>\n",
       "    </tr>\n",
       "    <tr>\n",
       "      <th>1</th>\n",
       "      <td>608</td>\n",
       "      <td>41</td>\n",
       "      <td>1.0</td>\n",
       "      <td>83807.86</td>\n",
       "      <td>1</td>\n",
       "      <td>0</td>\n",
       "      <td>1</td>\n",
       "      <td>112542.58</td>\n",
       "      <td>0</td>\n",
       "      <td>0</td>\n",
       "      <td>1</td>\n",
       "      <td>0</td>\n",
       "    </tr>\n",
       "    <tr>\n",
       "      <th>2</th>\n",
       "      <td>502</td>\n",
       "      <td>42</td>\n",
       "      <td>8.0</td>\n",
       "      <td>159660.80</td>\n",
       "      <td>3</td>\n",
       "      <td>1</td>\n",
       "      <td>0</td>\n",
       "      <td>113931.57</td>\n",
       "      <td>1</td>\n",
       "      <td>0</td>\n",
       "      <td>0</td>\n",
       "      <td>0</td>\n",
       "    </tr>\n",
       "    <tr>\n",
       "      <th>3</th>\n",
       "      <td>699</td>\n",
       "      <td>39</td>\n",
       "      <td>1.0</td>\n",
       "      <td>0.00</td>\n",
       "      <td>2</td>\n",
       "      <td>0</td>\n",
       "      <td>0</td>\n",
       "      <td>93826.63</td>\n",
       "      <td>0</td>\n",
       "      <td>0</td>\n",
       "      <td>0</td>\n",
       "      <td>0</td>\n",
       "    </tr>\n",
       "    <tr>\n",
       "      <th>4</th>\n",
       "      <td>850</td>\n",
       "      <td>43</td>\n",
       "      <td>2.0</td>\n",
       "      <td>125510.82</td>\n",
       "      <td>1</td>\n",
       "      <td>1</td>\n",
       "      <td>1</td>\n",
       "      <td>79084.10</td>\n",
       "      <td>0</td>\n",
       "      <td>0</td>\n",
       "      <td>1</td>\n",
       "      <td>0</td>\n",
       "    </tr>\n",
       "  </tbody>\n",
       "</table>\n",
       "</div>"
      ],
      "text/plain": [
       "   CreditScore  Age  Tenure    Balance  NumOfProducts  HasCrCard  \\\n",
       "0          619   42     2.0       0.00              1          1   \n",
       "1          608   41     1.0   83807.86              1          0   \n",
       "2          502   42     8.0  159660.80              3          1   \n",
       "3          699   39     1.0       0.00              2          0   \n",
       "4          850   43     2.0  125510.82              1          1   \n",
       "\n",
       "   IsActiveMember  EstimatedSalary  Exited  Geography_Germany  \\\n",
       "0               1        101348.88       1                  0   \n",
       "1               1        112542.58       0                  0   \n",
       "2               0        113931.57       1                  0   \n",
       "3               0         93826.63       0                  0   \n",
       "4               1         79084.10       0                  0   \n",
       "\n",
       "   Geography_Spain  Gender_Male  \n",
       "0                0            0  \n",
       "1                1            0  \n",
       "2                0            0  \n",
       "3                0            0  \n",
       "4                1            0  "
      ]
     },
     "execution_count": 53,
     "metadata": {},
     "output_type": "execute_result"
    }
   ],
   "source": [
    "data_ohe.head()"
   ]
  },
  {
   "cell_type": "markdown",
   "metadata": {},
   "source": [
    "Done."
   ]
  },
  {
   "cell_type": "markdown",
   "metadata": {},
   "source": [
    "<div class=\"alert alert-success\">\n",
    "<b>Reviewer's comment</b>\n",
    "\n",
    "Categorical features were encoded!\n",
    "\n",
    "</div>"
   ]
  },
  {
   "cell_type": "markdown",
   "metadata": {},
   "source": [
    "### Features & Target Split"
   ]
  },
  {
   "cell_type": "markdown",
   "metadata": {},
   "source": [
    "Let's split our data to 3 sets: train, valid and test."
   ]
  },
  {
   "cell_type": "code",
   "execution_count": 54,
   "metadata": {},
   "outputs": [],
   "source": [
    "target = data_ohe.Exited\n",
    "features = data_ohe.drop('Exited', axis=1)"
   ]
  },
  {
   "cell_type": "code",
   "execution_count": 55,
   "metadata": {},
   "outputs": [],
   "source": [
    "features_train, features_valid_test, target_train, target_valid_test = train_test_split(features, target, test_size=0.4, random_state=12345)\n",
    "features_valid, features_test, target_valid, target_test = train_test_split(features_valid_test, target_valid_test, test_size=0.5, random_state=12345)"
   ]
  },
  {
   "cell_type": "code",
   "execution_count": 56,
   "metadata": {
    "scrolled": true
   },
   "outputs": [
    {
     "name": "stdout",
     "output_type": "stream",
     "text": [
      "train set: 0.6 \n",
      "valid set: 0.2 \n",
      "test set: 0.2\n"
     ]
    }
   ],
   "source": [
    "print('train set:', round(features_train.shape[0]/data.shape[0], 3), \n",
    "     '\\nvalid set:', round(features_valid.shape[0]/data.shape[0], 3),\n",
    "     '\\ntest set:', round(features_test.shape[0]/data.shape[0], 3))"
   ]
  },
  {
   "cell_type": "markdown",
   "metadata": {},
   "source": [
    "Ok. We have the right proportions."
   ]
  },
  {
   "cell_type": "markdown",
   "metadata": {},
   "source": [
    "<div class=\"alert alert-success\">\n",
    "<b>Reviewer's comment</b>\n",
    "\n",
    "The split into train, validation and test looks good\n",
    "\n",
    "</div>"
   ]
  },
  {
   "cell_type": "markdown",
   "metadata": {},
   "source": [
    "### Feature Scaling"
   ]
  },
  {
   "cell_type": "markdown",
   "metadata": {},
   "source": [
    "Let's scale our features:"
   ]
  },
  {
   "cell_type": "code",
   "execution_count": 57,
   "metadata": {},
   "outputs": [
    {
     "data": {
      "text/html": [
       "<div>\n",
       "<style scoped>\n",
       "    .dataframe tbody tr th:only-of-type {\n",
       "        vertical-align: middle;\n",
       "    }\n",
       "\n",
       "    .dataframe tbody tr th {\n",
       "        vertical-align: top;\n",
       "    }\n",
       "\n",
       "    .dataframe thead th {\n",
       "        text-align: right;\n",
       "    }\n",
       "</style>\n",
       "<table border=\"1\" class=\"dataframe\">\n",
       "  <thead>\n",
       "    <tr style=\"text-align: right;\">\n",
       "      <th></th>\n",
       "      <th>CreditScore</th>\n",
       "      <th>Age</th>\n",
       "      <th>Tenure</th>\n",
       "      <th>Balance</th>\n",
       "      <th>NumOfProducts</th>\n",
       "      <th>HasCrCard</th>\n",
       "      <th>IsActiveMember</th>\n",
       "      <th>EstimatedSalary</th>\n",
       "      <th>Geography_Germany</th>\n",
       "      <th>Geography_Spain</th>\n",
       "      <th>Gender_Male</th>\n",
       "    </tr>\n",
       "  </thead>\n",
       "  <tbody>\n",
       "    <tr>\n",
       "      <th>9344</th>\n",
       "      <td>0.809075</td>\n",
       "      <td>-1.039327</td>\n",
       "      <td>-1.025995</td>\n",
       "      <td>0.554904</td>\n",
       "      <td>-0.908179</td>\n",
       "      <td>0.663468</td>\n",
       "      <td>-1.024127</td>\n",
       "      <td>0.019508</td>\n",
       "      <td>-0.58229</td>\n",
       "      <td>-0.572128</td>\n",
       "      <td>-1.107304</td>\n",
       "    </tr>\n",
       "    <tr>\n",
       "      <th>3796</th>\n",
       "      <td>-1.152518</td>\n",
       "      <td>-1.227561</td>\n",
       "      <td>0.696524</td>\n",
       "      <td>0.480609</td>\n",
       "      <td>-0.908179</td>\n",
       "      <td>-1.507231</td>\n",
       "      <td>-1.024127</td>\n",
       "      <td>0.056167</td>\n",
       "      <td>-0.58229</td>\n",
       "      <td>-0.572128</td>\n",
       "      <td>0.903094</td>\n",
       "    </tr>\n",
       "    <tr>\n",
       "      <th>7462</th>\n",
       "      <td>-0.398853</td>\n",
       "      <td>0.090079</td>\n",
       "      <td>1.385532</td>\n",
       "      <td>-1.237830</td>\n",
       "      <td>-0.908179</td>\n",
       "      <td>0.663468</td>\n",
       "      <td>0.976442</td>\n",
       "      <td>0.848738</td>\n",
       "      <td>-0.58229</td>\n",
       "      <td>-0.572128</td>\n",
       "      <td>0.903094</td>\n",
       "    </tr>\n",
       "    <tr>\n",
       "      <th>1508</th>\n",
       "      <td>-0.749875</td>\n",
       "      <td>-0.286389</td>\n",
       "      <td>0.352020</td>\n",
       "      <td>-1.237830</td>\n",
       "      <td>0.809300</td>\n",
       "      <td>0.663468</td>\n",
       "      <td>0.976442</td>\n",
       "      <td>-0.894953</td>\n",
       "      <td>-0.58229</td>\n",
       "      <td>-0.572128</td>\n",
       "      <td>0.903094</td>\n",
       "    </tr>\n",
       "    <tr>\n",
       "      <th>4478</th>\n",
       "      <td>-1.028628</td>\n",
       "      <td>-0.756975</td>\n",
       "      <td>-0.336987</td>\n",
       "      <td>-1.237830</td>\n",
       "      <td>0.809300</td>\n",
       "      <td>-1.507231</td>\n",
       "      <td>0.976442</td>\n",
       "      <td>-1.284516</td>\n",
       "      <td>-0.58229</td>\n",
       "      <td>-0.572128</td>\n",
       "      <td>0.903094</td>\n",
       "    </tr>\n",
       "  </tbody>\n",
       "</table>\n",
       "</div>"
      ],
      "text/plain": [
       "      CreditScore       Age    Tenure   Balance  NumOfProducts  HasCrCard  \\\n",
       "9344     0.809075 -1.039327 -1.025995  0.554904      -0.908179   0.663468   \n",
       "3796    -1.152518 -1.227561  0.696524  0.480609      -0.908179  -1.507231   \n",
       "7462    -0.398853  0.090079  1.385532 -1.237830      -0.908179   0.663468   \n",
       "1508    -0.749875 -0.286389  0.352020 -1.237830       0.809300   0.663468   \n",
       "4478    -1.028628 -0.756975 -0.336987 -1.237830       0.809300  -1.507231   \n",
       "\n",
       "      IsActiveMember  EstimatedSalary  Geography_Germany  Geography_Spain  \\\n",
       "9344       -1.024127         0.019508           -0.58229        -0.572128   \n",
       "3796       -1.024127         0.056167           -0.58229        -0.572128   \n",
       "7462        0.976442         0.848738           -0.58229        -0.572128   \n",
       "1508        0.976442        -0.894953           -0.58229        -0.572128   \n",
       "4478        0.976442        -1.284516           -0.58229        -0.572128   \n",
       "\n",
       "      Gender_Male  \n",
       "9344    -1.107304  \n",
       "3796     0.903094  \n",
       "7462     0.903094  \n",
       "1508     0.903094  \n",
       "4478     0.903094  "
      ]
     },
     "execution_count": 57,
     "metadata": {},
     "output_type": "execute_result"
    }
   ],
   "source": [
    "numeric = features.columns\n",
    "\n",
    "scaler = StandardScaler()\n",
    "scaler.fit(features_train[numeric])\n",
    "features_train[numeric] = scaler.transform(features_train[numeric])\n",
    "features_valid[numeric] = scaler.transform(features_valid[numeric])\n",
    "features_test[numeric] = scaler.transform(features_test[numeric])\n",
    "\n",
    "features_train.head()"
   ]
  },
  {
   "cell_type": "markdown",
   "metadata": {},
   "source": [
    "Done."
   ]
  },
  {
   "cell_type": "markdown",
   "metadata": {},
   "source": [
    "<div class=\"alert alert-success\">\n",
    "<b>Reviewer's comment</b>\n",
    "\n",
    "Feature scaling was applied correctly\n",
    "\n",
    "</div>"
   ]
  },
  {
   "cell_type": "markdown",
   "metadata": {},
   "source": [
    "### Conclusion\n",
    "In this section, we:\n",
    "* used One-Hot Encoding for the categorical parameters.\n",
    "* splitted the data into 3 sets: train, valid and test.\n",
    "* scaled the features."
   ]
  },
  {
   "cell_type": "markdown",
   "metadata": {},
   "source": [
    "## Classes Imbalance"
   ]
  },
  {
   "cell_type": "markdown",
   "metadata": {},
   "source": [
    "Let's check the percentage of the classes:"
   ]
  },
  {
   "cell_type": "markdown",
   "metadata": {},
   "source": [
    "### Classes percentage"
   ]
  },
  {
   "cell_type": "code",
   "execution_count": 58,
   "metadata": {},
   "outputs": [
    {
     "data": {
      "text/html": [
       "<style type=\"text/css\">\n",
       "</style>\n",
       "<table id=\"T_5ef03_\">\n",
       "  <thead>\n",
       "    <tr>\n",
       "      <th class=\"blank level0\" >&nbsp;</th>\n",
       "      <th class=\"col_heading level0 col0\" >Exited</th>\n",
       "      <th class=\"col_heading level0 col1\" >count</th>\n",
       "      <th class=\"col_heading level0 col2\" >percent</th>\n",
       "    </tr>\n",
       "  </thead>\n",
       "  <tbody>\n",
       "    <tr>\n",
       "      <th id=\"T_5ef03_level0_row0\" class=\"row_heading level0 row0\" >0</th>\n",
       "      <td id=\"T_5ef03_row0_col0\" class=\"data row0 col0\" >0</td>\n",
       "      <td id=\"T_5ef03_row0_col1\" class=\"data row0 col1\" >7,237</td>\n",
       "      <td id=\"T_5ef03_row0_col2\" class=\"data row0 col2\" >79.61%</td>\n",
       "    </tr>\n",
       "    <tr>\n",
       "      <th id=\"T_5ef03_level0_row1\" class=\"row_heading level0 row1\" >1</th>\n",
       "      <td id=\"T_5ef03_row1_col0\" class=\"data row1 col0\" >1</td>\n",
       "      <td id=\"T_5ef03_row1_col1\" class=\"data row1 col1\" >1,854</td>\n",
       "      <td id=\"T_5ef03_row1_col2\" class=\"data row1 col2\" >20.39%</td>\n",
       "    </tr>\n",
       "  </tbody>\n",
       "</table>\n"
      ],
      "text/plain": [
       "<pandas.io.formats.style.Styler at 0x7fce26098710>"
      ]
     },
     "execution_count": 58,
     "metadata": {},
     "output_type": "execute_result"
    }
   ],
   "source": [
    "data_ohe.stb.freq(['Exited'], style=True,  cum_cols=False)"
   ]
  },
  {
   "cell_type": "markdown",
   "metadata": {},
   "source": [
    "We have 4 times zeros (80%) more than ones (20%). There is an imbalance in the data."
   ]
  },
  {
   "cell_type": "markdown",
   "metadata": {},
   "source": [
    "<div class=\"alert alert-success\">\n",
    "<b>Reviewer's comment</b>\n",
    "\n",
    "Class imbalance was noted\n",
    "\n",
    "</div>"
   ]
  },
  {
   "cell_type": "markdown",
   "metadata": {},
   "source": [
    "### Decision Tree"
   ]
  },
  {
   "cell_type": "code",
   "execution_count": 59,
   "metadata": {},
   "outputs": [
    {
     "data": {
      "text/html": [
       "<div>\n",
       "<style scoped>\n",
       "    .dataframe tbody tr th:only-of-type {\n",
       "        vertical-align: middle;\n",
       "    }\n",
       "\n",
       "    .dataframe tbody tr th {\n",
       "        vertical-align: top;\n",
       "    }\n",
       "\n",
       "    .dataframe thead th {\n",
       "        text-align: right;\n",
       "    }\n",
       "</style>\n",
       "<table border=\"1\" class=\"dataframe\">\n",
       "  <thead>\n",
       "    <tr style=\"text-align: right;\">\n",
       "      <th></th>\n",
       "      <th>max_depth</th>\n",
       "      <th>f1_score</th>\n",
       "    </tr>\n",
       "  </thead>\n",
       "  <tbody>\n",
       "    <tr>\n",
       "      <th>6</th>\n",
       "      <td>7</td>\n",
       "      <td>0.576</td>\n",
       "    </tr>\n",
       "    <tr>\n",
       "      <th>5</th>\n",
       "      <td>6</td>\n",
       "      <td>0.561</td>\n",
       "    </tr>\n",
       "    <tr>\n",
       "      <th>8</th>\n",
       "      <td>9</td>\n",
       "      <td>0.545</td>\n",
       "    </tr>\n",
       "    <tr>\n",
       "      <th>3</th>\n",
       "      <td>4</td>\n",
       "      <td>0.541</td>\n",
       "    </tr>\n",
       "    <tr>\n",
       "      <th>7</th>\n",
       "      <td>8</td>\n",
       "      <td>0.541</td>\n",
       "    </tr>\n",
       "    <tr>\n",
       "      <th>1</th>\n",
       "      <td>2</td>\n",
       "      <td>0.530</td>\n",
       "    </tr>\n",
       "    <tr>\n",
       "      <th>4</th>\n",
       "      <td>5</td>\n",
       "      <td>0.514</td>\n",
       "    </tr>\n",
       "    <tr>\n",
       "      <th>10</th>\n",
       "      <td>11</td>\n",
       "      <td>0.513</td>\n",
       "    </tr>\n",
       "    <tr>\n",
       "      <th>9</th>\n",
       "      <td>10</td>\n",
       "      <td>0.512</td>\n",
       "    </tr>\n",
       "    <tr>\n",
       "      <th>18</th>\n",
       "      <td>19</td>\n",
       "      <td>0.486</td>\n",
       "    </tr>\n",
       "  </tbody>\n",
       "</table>\n",
       "</div>"
      ],
      "text/plain": [
       "    max_depth  f1_score\n",
       "6           7     0.576\n",
       "5           6     0.561\n",
       "8           9     0.545\n",
       "3           4     0.541\n",
       "7           8     0.541\n",
       "1           2     0.530\n",
       "4           5     0.514\n",
       "10         11     0.513\n",
       "9          10     0.512\n",
       "18         19     0.486"
      ]
     },
     "execution_count": 59,
     "metadata": {},
     "output_type": "execute_result"
    }
   ],
   "source": [
    "f1_scores = []\n",
    "\n",
    "for depth in range(1, 21):\n",
    "    model = DecisionTreeClassifier(random_state=12345, max_depth=depth)\n",
    "    model.fit(features_train, target_train)\n",
    "    predicted_valid = model.predict(features_valid)\n",
    "    f1_scores.append({'max_depth': depth,\n",
    "                     'f1_score': round(f1_score(target_valid, predicted_valid), 3)})\n",
    "\n",
    "f1_df = pd.DataFrame(f1_scores)\n",
    "f1_df = f1_df.sort_values(by='f1_score', ascending=False)\n",
    "f1_df.head(10)"
   ]
  },
  {
   "cell_type": "markdown",
   "metadata": {},
   "source": [
    "The highest f1 score of an imbalanced decision tree (max_depth=7): 0.576. \n",
    "\n",
    "Not enough."
   ]
  },
  {
   "cell_type": "code",
   "execution_count": 60,
   "metadata": {},
   "outputs": [
    {
     "name": "stdout",
     "output_type": "stream",
     "text": [
      "AUC-ROC: 0.671\n"
     ]
    }
   ],
   "source": [
    "probabilities_valid = model.predict_proba(features_valid)\n",
    "probabilities_one_valid = probabilities_valid[:, 1]\n",
    "auc_roc = roc_auc_score(target_valid, probabilities_one_valid)\n",
    "\n",
    "print('AUC-ROC:', round(auc_roc, 3))"
   ]
  },
  {
   "cell_type": "markdown",
   "metadata": {},
   "source": [
    "### Random Forest"
   ]
  },
  {
   "cell_type": "code",
   "execution_count": 61,
   "metadata": {
    "scrolled": false
   },
   "outputs": [
    {
     "data": {
      "text/html": [
       "<div>\n",
       "<style scoped>\n",
       "    .dataframe tbody tr th:only-of-type {\n",
       "        vertical-align: middle;\n",
       "    }\n",
       "\n",
       "    .dataframe tbody tr th {\n",
       "        vertical-align: top;\n",
       "    }\n",
       "\n",
       "    .dataframe thead th {\n",
       "        text-align: right;\n",
       "    }\n",
       "</style>\n",
       "<table border=\"1\" class=\"dataframe\">\n",
       "  <thead>\n",
       "    <tr style=\"text-align: right;\">\n",
       "      <th></th>\n",
       "      <th>n_estimators</th>\n",
       "      <th>max_depth</th>\n",
       "      <th>f1_score</th>\n",
       "    </tr>\n",
       "  </thead>\n",
       "  <tbody>\n",
       "    <tr>\n",
       "      <th>258</th>\n",
       "      <td>13</td>\n",
       "      <td>19</td>\n",
       "      <td>0.595</td>\n",
       "    </tr>\n",
       "    <tr>\n",
       "      <th>298</th>\n",
       "      <td>15</td>\n",
       "      <td>19</td>\n",
       "      <td>0.590</td>\n",
       "    </tr>\n",
       "    <tr>\n",
       "      <th>253</th>\n",
       "      <td>13</td>\n",
       "      <td>14</td>\n",
       "      <td>0.589</td>\n",
       "    </tr>\n",
       "    <tr>\n",
       "      <th>218</th>\n",
       "      <td>11</td>\n",
       "      <td>19</td>\n",
       "      <td>0.589</td>\n",
       "    </tr>\n",
       "    <tr>\n",
       "      <th>278</th>\n",
       "      <td>14</td>\n",
       "      <td>19</td>\n",
       "      <td>0.589</td>\n",
       "    </tr>\n",
       "    <tr>\n",
       "      <th>134</th>\n",
       "      <td>7</td>\n",
       "      <td>15</td>\n",
       "      <td>0.587</td>\n",
       "    </tr>\n",
       "    <tr>\n",
       "      <th>339</th>\n",
       "      <td>17</td>\n",
       "      <td>20</td>\n",
       "      <td>0.586</td>\n",
       "    </tr>\n",
       "    <tr>\n",
       "      <th>296</th>\n",
       "      <td>15</td>\n",
       "      <td>17</td>\n",
       "      <td>0.586</td>\n",
       "    </tr>\n",
       "    <tr>\n",
       "      <th>394</th>\n",
       "      <td>20</td>\n",
       "      <td>15</td>\n",
       "      <td>0.585</td>\n",
       "    </tr>\n",
       "    <tr>\n",
       "      <th>396</th>\n",
       "      <td>20</td>\n",
       "      <td>17</td>\n",
       "      <td>0.585</td>\n",
       "    </tr>\n",
       "  </tbody>\n",
       "</table>\n",
       "</div>"
      ],
      "text/plain": [
       "     n_estimators  max_depth  f1_score\n",
       "258            13         19     0.595\n",
       "298            15         19     0.590\n",
       "253            13         14     0.589\n",
       "218            11         19     0.589\n",
       "278            14         19     0.589\n",
       "134             7         15     0.587\n",
       "339            17         20     0.586\n",
       "296            15         17     0.586\n",
       "394            20         15     0.585\n",
       "396            20         17     0.585"
      ]
     },
     "execution_count": 61,
     "metadata": {},
     "output_type": "execute_result"
    }
   ],
   "source": [
    "f1_scores = []\n",
    "\n",
    "for n_estimator in range(1, 21):\n",
    "    for depth in range(1, 21):\n",
    "        model = RandomForestClassifier(random_state=12345, n_estimators=n_estimator, max_depth=depth)\n",
    "        model.fit(features_train, target_train)\n",
    "        predicted_valid = model.predict(features_valid)\n",
    "        f1_scores.append({'n_estimators':n_estimator,\n",
    "                         'max_depth': depth,\n",
    "                         'f1_score': round(f1_score(target_valid, predicted_valid), 3)})\n",
    "\n",
    "f1_df = pd.DataFrame(f1_scores)\n",
    "f1_df = f1_df.sort_values(by='f1_score', ascending=False)\n",
    "f1_df.head(10)"
   ]
  },
  {
   "cell_type": "markdown",
   "metadata": {},
   "source": [
    "The highest f1 score of an imbalanced random forest (n_estimators=13, max_depth=19): 0.595. \n",
    "\n",
    "That's better :)"
   ]
  },
  {
   "cell_type": "code",
   "execution_count": 62,
   "metadata": {},
   "outputs": [
    {
     "name": "stdout",
     "output_type": "stream",
     "text": [
      "AUC-ROC: 0.85\n"
     ]
    }
   ],
   "source": [
    "probabilities_valid = model.predict_proba(features_valid)\n",
    "probabilities_one_valid = probabilities_valid[:, 1]\n",
    "auc_roc = roc_auc_score(target_valid, probabilities_one_valid)\n",
    "\n",
    "print('AUC-ROC:', round(auc_roc, 3))"
   ]
  },
  {
   "cell_type": "markdown",
   "metadata": {},
   "source": [
    "### Logistic Regression"
   ]
  },
  {
   "cell_type": "code",
   "execution_count": 63,
   "metadata": {},
   "outputs": [
    {
     "name": "stdout",
     "output_type": "stream",
     "text": [
      "F1: 0.303\n"
     ]
    }
   ],
   "source": [
    "model = LogisticRegression(random_state=12345, solver='liblinear')\n",
    "model.fit(features_train, target_train)\n",
    "predicted_valid = model.predict(features_valid)\n",
    "print('F1:', round(f1_score(target_valid, predicted_valid), 3))"
   ]
  },
  {
   "cell_type": "markdown",
   "metadata": {},
   "source": [
    "An imbalanced Logistic Regression has the lowest f1 score. \n",
    "\n",
    "Not enough at all."
   ]
  },
  {
   "cell_type": "code",
   "execution_count": 64,
   "metadata": {},
   "outputs": [
    {
     "name": "stdout",
     "output_type": "stream",
     "text": [
      "AUC-ROC: 0.774\n"
     ]
    }
   ],
   "source": [
    "probabilities_valid = model.predict_proba(features_valid)\n",
    "probabilities_one_valid = probabilities_valid[:, 1]\n",
    "auc_roc = roc_auc_score(target_valid, probabilities_one_valid)\n",
    "\n",
    "print('AUC-ROC:', round(auc_roc, 3))"
   ]
  },
  {
   "cell_type": "markdown",
   "metadata": {},
   "source": [
    "### Conclusion\n",
    "In this section, we:\n",
    "* checked the classes percentage and found an imbalance.\n",
    "* trained a decision tree with imbalanced data (f1=0.576).\n",
    "* trained a random forest with imbalanced data (f1=0.595).\n",
    "* trained a logistic regression with imbalanced data (f1=0.303)."
   ]
  },
  {
   "cell_type": "markdown",
   "metadata": {},
   "source": [
    "<div class=\"alert alert-success\">\n",
    "<b>Reviewer's comment</b>\n",
    "\n",
    "Great, you trained three different models without taking class imbalance into account\n",
    "\n",
    "</div>"
   ]
  },
  {
   "cell_type": "markdown",
   "metadata": {},
   "source": [
    "## Improving the quality of the model"
   ]
  },
  {
   "cell_type": "markdown",
   "metadata": {},
   "source": [
    "In order to improve our models, we will try 3 different methods of classes balancing: \n",
    "* Class Weight Adjustment\n",
    "* Upsampling\n",
    "* Downsampling"
   ]
  },
  {
   "cell_type": "markdown",
   "metadata": {},
   "source": [
    "### Class Weight Adjustment"
   ]
  },
  {
   "cell_type": "markdown",
   "metadata": {},
   "source": [
    "#### Decision Tree"
   ]
  },
  {
   "cell_type": "code",
   "execution_count": 65,
   "metadata": {},
   "outputs": [
    {
     "data": {
      "text/html": [
       "<div>\n",
       "<style scoped>\n",
       "    .dataframe tbody tr th:only-of-type {\n",
       "        vertical-align: middle;\n",
       "    }\n",
       "\n",
       "    .dataframe tbody tr th {\n",
       "        vertical-align: top;\n",
       "    }\n",
       "\n",
       "    .dataframe thead th {\n",
       "        text-align: right;\n",
       "    }\n",
       "</style>\n",
       "<table border=\"1\" class=\"dataframe\">\n",
       "  <thead>\n",
       "    <tr style=\"text-align: right;\">\n",
       "      <th></th>\n",
       "      <th>max_depth</th>\n",
       "      <th>f1_score</th>\n",
       "    </tr>\n",
       "  </thead>\n",
       "  <tbody>\n",
       "    <tr>\n",
       "      <th>4</th>\n",
       "      <td>5</td>\n",
       "      <td>0.574</td>\n",
       "    </tr>\n",
       "    <tr>\n",
       "      <th>5</th>\n",
       "      <td>6</td>\n",
       "      <td>0.563</td>\n",
       "    </tr>\n",
       "    <tr>\n",
       "      <th>7</th>\n",
       "      <td>8</td>\n",
       "      <td>0.558</td>\n",
       "    </tr>\n",
       "    <tr>\n",
       "      <th>2</th>\n",
       "      <td>3</td>\n",
       "      <td>0.549</td>\n",
       "    </tr>\n",
       "    <tr>\n",
       "      <th>3</th>\n",
       "      <td>4</td>\n",
       "      <td>0.546</td>\n",
       "    </tr>\n",
       "    <tr>\n",
       "      <th>6</th>\n",
       "      <td>7</td>\n",
       "      <td>0.541</td>\n",
       "    </tr>\n",
       "    <tr>\n",
       "      <th>1</th>\n",
       "      <td>2</td>\n",
       "      <td>0.530</td>\n",
       "    </tr>\n",
       "    <tr>\n",
       "      <th>10</th>\n",
       "      <td>11</td>\n",
       "      <td>0.514</td>\n",
       "    </tr>\n",
       "    <tr>\n",
       "      <th>8</th>\n",
       "      <td>9</td>\n",
       "      <td>0.512</td>\n",
       "    </tr>\n",
       "    <tr>\n",
       "      <th>9</th>\n",
       "      <td>10</td>\n",
       "      <td>0.510</td>\n",
       "    </tr>\n",
       "  </tbody>\n",
       "</table>\n",
       "</div>"
      ],
      "text/plain": [
       "    max_depth  f1_score\n",
       "4           5     0.574\n",
       "5           6     0.563\n",
       "7           8     0.558\n",
       "2           3     0.549\n",
       "3           4     0.546\n",
       "6           7     0.541\n",
       "1           2     0.530\n",
       "10         11     0.514\n",
       "8           9     0.512\n",
       "9          10     0.510"
      ]
     },
     "execution_count": 65,
     "metadata": {},
     "output_type": "execute_result"
    }
   ],
   "source": [
    "f1_scores = []\n",
    "\n",
    "for depth in range(1, 21):\n",
    "    model = DecisionTreeClassifier(random_state=12345, max_depth=depth, class_weight='balanced')\n",
    "    model.fit(features_train, target_train)\n",
    "    predicted_valid = model.predict(features_valid)\n",
    "    f1_scores.append({'max_depth': depth,\n",
    "                     'f1_score': round(f1_score(target_valid, predicted_valid), 3)})\n",
    "\n",
    "f1_df = pd.DataFrame(f1_scores)\n",
    "f1_df = f1_df.sort_values(by='f1_score', ascending=False)\n",
    "f1_df.head(10)"
   ]
  },
  {
   "cell_type": "markdown",
   "metadata": {},
   "source": [
    "The highest f1 score of decision tree with class weight adjustment (max_depth=5): 0.574. A bit lower, but not a significant difference from the imbalanced decision tree (0.576)."
   ]
  },
  {
   "cell_type": "markdown",
   "metadata": {},
   "source": [
    "#### Random Forest"
   ]
  },
  {
   "cell_type": "code",
   "execution_count": 66,
   "metadata": {},
   "outputs": [
    {
     "data": {
      "text/html": [
       "<div>\n",
       "<style scoped>\n",
       "    .dataframe tbody tr th:only-of-type {\n",
       "        vertical-align: middle;\n",
       "    }\n",
       "\n",
       "    .dataframe tbody tr th {\n",
       "        vertical-align: top;\n",
       "    }\n",
       "\n",
       "    .dataframe thead th {\n",
       "        text-align: right;\n",
       "    }\n",
       "</style>\n",
       "<table border=\"1\" class=\"dataframe\">\n",
       "  <thead>\n",
       "    <tr style=\"text-align: right;\">\n",
       "      <th></th>\n",
       "      <th>n_estimators</th>\n",
       "      <th>max_depth</th>\n",
       "      <th>f1_score</th>\n",
       "    </tr>\n",
       "  </thead>\n",
       "  <tbody>\n",
       "    <tr>\n",
       "      <th>246</th>\n",
       "      <td>13</td>\n",
       "      <td>7</td>\n",
       "      <td>0.644</td>\n",
       "    </tr>\n",
       "    <tr>\n",
       "      <th>249</th>\n",
       "      <td>13</td>\n",
       "      <td>10</td>\n",
       "      <td>0.641</td>\n",
       "    </tr>\n",
       "    <tr>\n",
       "      <th>366</th>\n",
       "      <td>19</td>\n",
       "      <td>7</td>\n",
       "      <td>0.641</td>\n",
       "    </tr>\n",
       "    <tr>\n",
       "      <th>389</th>\n",
       "      <td>20</td>\n",
       "      <td>10</td>\n",
       "      <td>0.641</td>\n",
       "    </tr>\n",
       "    <tr>\n",
       "      <th>269</th>\n",
       "      <td>14</td>\n",
       "      <td>10</td>\n",
       "      <td>0.640</td>\n",
       "    </tr>\n",
       "    <tr>\n",
       "      <th>346</th>\n",
       "      <td>18</td>\n",
       "      <td>7</td>\n",
       "      <td>0.640</td>\n",
       "    </tr>\n",
       "    <tr>\n",
       "      <th>369</th>\n",
       "      <td>19</td>\n",
       "      <td>10</td>\n",
       "      <td>0.639</td>\n",
       "    </tr>\n",
       "    <tr>\n",
       "      <th>329</th>\n",
       "      <td>17</td>\n",
       "      <td>10</td>\n",
       "      <td>0.639</td>\n",
       "    </tr>\n",
       "    <tr>\n",
       "      <th>386</th>\n",
       "      <td>20</td>\n",
       "      <td>7</td>\n",
       "      <td>0.638</td>\n",
       "    </tr>\n",
       "    <tr>\n",
       "      <th>247</th>\n",
       "      <td>13</td>\n",
       "      <td>8</td>\n",
       "      <td>0.638</td>\n",
       "    </tr>\n",
       "  </tbody>\n",
       "</table>\n",
       "</div>"
      ],
      "text/plain": [
       "     n_estimators  max_depth  f1_score\n",
       "246            13          7     0.644\n",
       "249            13         10     0.641\n",
       "366            19          7     0.641\n",
       "389            20         10     0.641\n",
       "269            14         10     0.640\n",
       "346            18          7     0.640\n",
       "369            19         10     0.639\n",
       "329            17         10     0.639\n",
       "386            20          7     0.638\n",
       "247            13          8     0.638"
      ]
     },
     "execution_count": 66,
     "metadata": {},
     "output_type": "execute_result"
    }
   ],
   "source": [
    "f1_scores = []\n",
    "\n",
    "for n_estimator in range(1, 21):\n",
    "    for depth in range(1, 21):\n",
    "        model = RandomForestClassifier(random_state=12345, n_estimators=n_estimator, max_depth=depth, class_weight='balanced')\n",
    "        model.fit(features_train, target_train)\n",
    "        predicted_valid = model.predict(features_valid)\n",
    "        f1_scores.append({'n_estimators':n_estimator,\n",
    "                         'max_depth': depth,\n",
    "                         'f1_score': round(f1_score(target_valid, predicted_valid), 3)})\n",
    "\n",
    "f1_df = pd.DataFrame(f1_scores)\n",
    "f1_df = f1_df.sort_values(by='f1_score', ascending=False)\n",
    "f1_df.head(10)"
   ]
  },
  {
   "cell_type": "markdown",
   "metadata": {},
   "source": [
    "The highest f1 score of random forest with class weight adjustment (n_estimators=13, max_depth=7): 0.644. We can see an improvement from the imbalanced random forest (0.595)."
   ]
  },
  {
   "cell_type": "markdown",
   "metadata": {},
   "source": [
    "#### Logistic Regression"
   ]
  },
  {
   "cell_type": "code",
   "execution_count": 67,
   "metadata": {},
   "outputs": [
    {
     "name": "stdout",
     "output_type": "stream",
     "text": [
      "F1: 0.51\n"
     ]
    }
   ],
   "source": [
    "model = LogisticRegression(random_state=12345, solver='liblinear', class_weight='balanced')\n",
    "model.fit(features_train, target_train)\n",
    "predicted_valid = model.predict(features_valid)\n",
    "print('F1:', round(f1_score(target_valid, predicted_valid), 3))"
   ]
  },
  {
   "cell_type": "markdown",
   "metadata": {},
   "source": [
    "The highest f1 score of logistic regression with class weight adjustment: 0.51. A significant improvement from the imbalanced logistic regression (0.303)."
   ]
  },
  {
   "cell_type": "markdown",
   "metadata": {},
   "source": [
    "### Upsampling"
   ]
  },
  {
   "cell_type": "markdown",
   "metadata": {},
   "source": [
    "#### Finding the classes ratio"
   ]
  },
  {
   "cell_type": "code",
   "execution_count": 68,
   "metadata": {},
   "outputs": [
    {
     "name": "stdout",
     "output_type": "stream",
     "text": [
      "classes ratio: 3.903\n"
     ]
    }
   ],
   "source": [
    "ratio = target[target == 0].count() / target[target == 1].count()\n",
    "print('classes ratio:', round(ratio, 3))"
   ]
  },
  {
   "cell_type": "markdown",
   "metadata": {},
   "source": [
    "The ratio of the classes is almost 4. It means that we have to multiply the ones by 4."
   ]
  },
  {
   "cell_type": "code",
   "execution_count": 69,
   "metadata": {},
   "outputs": [
    {
     "name": "stdout",
     "output_type": "stream",
     "text": [
      "ratio: 0.961\n"
     ]
    }
   ],
   "source": [
    "\n",
    "def upsample(features, target, repeat):\n",
    "    features_zeros = features[target == 0]\n",
    "    features_ones = features[target == 1]\n",
    "    target_zeros = target[target == 0]\n",
    "    target_ones = target[target == 1]\n",
    "\n",
    "    features_upsampled = pd.concat([features_zeros] + [features_ones] * repeat)\n",
    "    target_upsampled = pd.concat([target_zeros] + [target_ones] * repeat)\n",
    "\n",
    "    features_upsampled, target_upsampled = shuffle(\n",
    "        features_upsampled, target_upsampled, random_state=12345\n",
    "    )\n",
    "\n",
    "    return features_upsampled, target_upsampled\n",
    "\n",
    "\n",
    "features_upsampled, target_upsampled = upsample(features_train, target_train, 4)\n",
    "\n",
    "print('ratio:', round(target_upsampled[target_upsampled == 0].shape[0] / target_upsampled[target_upsampled == 1].shape[0], 3))"
   ]
  },
  {
   "cell_type": "markdown",
   "metadata": {},
   "source": [
    "Now the ratio is almost 1. We got the ratio we wanted."
   ]
  },
  {
   "cell_type": "markdown",
   "metadata": {},
   "source": [
    "<div class=\"alert alert-success\">\n",
    "<b>Reviewer's comment</b>\n",
    "\n",
    "Upsampling function is correct and it's applied only to the train set.\n",
    "\n",
    "</div>"
   ]
  },
  {
   "cell_type": "markdown",
   "metadata": {},
   "source": [
    "#### Decision Tree"
   ]
  },
  {
   "cell_type": "code",
   "execution_count": 70,
   "metadata": {},
   "outputs": [
    {
     "data": {
      "text/html": [
       "<div>\n",
       "<style scoped>\n",
       "    .dataframe tbody tr th:only-of-type {\n",
       "        vertical-align: middle;\n",
       "    }\n",
       "\n",
       "    .dataframe tbody tr th {\n",
       "        vertical-align: top;\n",
       "    }\n",
       "\n",
       "    .dataframe thead th {\n",
       "        text-align: right;\n",
       "    }\n",
       "</style>\n",
       "<table border=\"1\" class=\"dataframe\">\n",
       "  <thead>\n",
       "    <tr style=\"text-align: right;\">\n",
       "      <th></th>\n",
       "      <th>max_depth</th>\n",
       "      <th>f1_score</th>\n",
       "    </tr>\n",
       "  </thead>\n",
       "  <tbody>\n",
       "    <tr>\n",
       "      <th>4</th>\n",
       "      <td>5</td>\n",
       "      <td>0.574</td>\n",
       "    </tr>\n",
       "    <tr>\n",
       "      <th>5</th>\n",
       "      <td>6</td>\n",
       "      <td>0.563</td>\n",
       "    </tr>\n",
       "    <tr>\n",
       "      <th>7</th>\n",
       "      <td>8</td>\n",
       "      <td>0.558</td>\n",
       "    </tr>\n",
       "    <tr>\n",
       "      <th>2</th>\n",
       "      <td>3</td>\n",
       "      <td>0.549</td>\n",
       "    </tr>\n",
       "    <tr>\n",
       "      <th>3</th>\n",
       "      <td>4</td>\n",
       "      <td>0.546</td>\n",
       "    </tr>\n",
       "    <tr>\n",
       "      <th>6</th>\n",
       "      <td>7</td>\n",
       "      <td>0.541</td>\n",
       "    </tr>\n",
       "    <tr>\n",
       "      <th>1</th>\n",
       "      <td>2</td>\n",
       "      <td>0.530</td>\n",
       "    </tr>\n",
       "    <tr>\n",
       "      <th>8</th>\n",
       "      <td>9</td>\n",
       "      <td>0.516</td>\n",
       "    </tr>\n",
       "    <tr>\n",
       "      <th>10</th>\n",
       "      <td>11</td>\n",
       "      <td>0.515</td>\n",
       "    </tr>\n",
       "    <tr>\n",
       "      <th>0</th>\n",
       "      <td>1</td>\n",
       "      <td>0.507</td>\n",
       "    </tr>\n",
       "  </tbody>\n",
       "</table>\n",
       "</div>"
      ],
      "text/plain": [
       "    max_depth  f1_score\n",
       "4           5     0.574\n",
       "5           6     0.563\n",
       "7           8     0.558\n",
       "2           3     0.549\n",
       "3           4     0.546\n",
       "6           7     0.541\n",
       "1           2     0.530\n",
       "8           9     0.516\n",
       "10         11     0.515\n",
       "0           1     0.507"
      ]
     },
     "execution_count": 70,
     "metadata": {},
     "output_type": "execute_result"
    }
   ],
   "source": [
    "f1_scores = []\n",
    "\n",
    "for depth in range(1, 21):\n",
    "    model = DecisionTreeClassifier(random_state=12345, max_depth=depth)\n",
    "    model.fit(features_upsampled, target_upsampled)\n",
    "    predicted_valid = model.predict(features_valid)\n",
    "    f1_scores.append({'max_depth': depth,\n",
    "                     'f1_score': round(f1_score(target_valid, predicted_valid), 3)})\n",
    "\n",
    "f1_df = pd.DataFrame(f1_scores)\n",
    "f1_df = f1_df.sort_values(by='f1_score', ascending=False)\n",
    "f1_df.head(10)"
   ]
  },
  {
   "cell_type": "markdown",
   "metadata": {},
   "source": [
    "The highest f1 score of decision tree after upsampling looks same as decision tree with class weight adjustment (max_depth=5): 0.574. A bit lower, but not a significant difference from the imbalanced decision tree (0.576)."
   ]
  },
  {
   "cell_type": "markdown",
   "metadata": {},
   "source": [
    "#### Random Forest"
   ]
  },
  {
   "cell_type": "code",
   "execution_count": 71,
   "metadata": {
    "scrolled": false
   },
   "outputs": [
    {
     "data": {
      "text/html": [
       "<div>\n",
       "<style scoped>\n",
       "    .dataframe tbody tr th:only-of-type {\n",
       "        vertical-align: middle;\n",
       "    }\n",
       "\n",
       "    .dataframe tbody tr th {\n",
       "        vertical-align: top;\n",
       "    }\n",
       "\n",
       "    .dataframe thead th {\n",
       "        text-align: right;\n",
       "    }\n",
       "</style>\n",
       "<table border=\"1\" class=\"dataframe\">\n",
       "  <thead>\n",
       "    <tr style=\"text-align: right;\">\n",
       "      <th></th>\n",
       "      <th>n_estimators</th>\n",
       "      <th>max_depth</th>\n",
       "      <th>f1_score</th>\n",
       "    </tr>\n",
       "  </thead>\n",
       "  <tbody>\n",
       "    <tr>\n",
       "      <th>375</th>\n",
       "      <td>19</td>\n",
       "      <td>16</td>\n",
       "      <td>0.622</td>\n",
       "    </tr>\n",
       "    <tr>\n",
       "      <th>331</th>\n",
       "      <td>17</td>\n",
       "      <td>12</td>\n",
       "      <td>0.620</td>\n",
       "    </tr>\n",
       "    <tr>\n",
       "      <th>327</th>\n",
       "      <td>17</td>\n",
       "      <td>8</td>\n",
       "      <td>0.620</td>\n",
       "    </tr>\n",
       "    <tr>\n",
       "      <th>354</th>\n",
       "      <td>18</td>\n",
       "      <td>15</td>\n",
       "      <td>0.618</td>\n",
       "    </tr>\n",
       "    <tr>\n",
       "      <th>387</th>\n",
       "      <td>20</td>\n",
       "      <td>8</td>\n",
       "      <td>0.617</td>\n",
       "    </tr>\n",
       "    <tr>\n",
       "      <th>386</th>\n",
       "      <td>20</td>\n",
       "      <td>7</td>\n",
       "      <td>0.616</td>\n",
       "    </tr>\n",
       "    <tr>\n",
       "      <th>367</th>\n",
       "      <td>19</td>\n",
       "      <td>8</td>\n",
       "      <td>0.616</td>\n",
       "    </tr>\n",
       "    <tr>\n",
       "      <th>307</th>\n",
       "      <td>16</td>\n",
       "      <td>8</td>\n",
       "      <td>0.616</td>\n",
       "    </tr>\n",
       "    <tr>\n",
       "      <th>311</th>\n",
       "      <td>16</td>\n",
       "      <td>12</td>\n",
       "      <td>0.616</td>\n",
       "    </tr>\n",
       "    <tr>\n",
       "      <th>287</th>\n",
       "      <td>15</td>\n",
       "      <td>8</td>\n",
       "      <td>0.616</td>\n",
       "    </tr>\n",
       "  </tbody>\n",
       "</table>\n",
       "</div>"
      ],
      "text/plain": [
       "     n_estimators  max_depth  f1_score\n",
       "375            19         16     0.622\n",
       "331            17         12     0.620\n",
       "327            17          8     0.620\n",
       "354            18         15     0.618\n",
       "387            20          8     0.617\n",
       "386            20          7     0.616\n",
       "367            19          8     0.616\n",
       "307            16          8     0.616\n",
       "311            16         12     0.616\n",
       "287            15          8     0.616"
      ]
     },
     "execution_count": 71,
     "metadata": {},
     "output_type": "execute_result"
    }
   ],
   "source": [
    "f1_scores = []\n",
    "\n",
    "for n_estimator in range(1, 21):\n",
    "    for depth in range(1, 21):\n",
    "        model = RandomForestClassifier(random_state=12345, n_estimators=n_estimator, max_depth=depth)\n",
    "        model.fit(features_upsampled, target_upsampled)\n",
    "        predicted_valid = model.predict(features_valid)\n",
    "        f1_scores.append({'n_estimators':n_estimator,\n",
    "                         'max_depth': depth,\n",
    "                         'f1_score': round(f1_score(target_valid, predicted_valid), 3)})\n",
    "\n",
    "f1_df = pd.DataFrame(f1_scores)\n",
    "f1_df = f1_df.sort_values(by='f1_score', ascending=False)\n",
    "f1_df.head(10)"
   ]
  },
  {
   "cell_type": "markdown",
   "metadata": {},
   "source": [
    "The highest f1 score of random forest after upsampling is very close to random forest with class weight adjustment: 0.622 and 0.644 respectively. We can see an improvement from the imbalanced random forest (0.595)."
   ]
  },
  {
   "cell_type": "markdown",
   "metadata": {},
   "source": [
    "#### Logistic Regression"
   ]
  },
  {
   "cell_type": "code",
   "execution_count": 72,
   "metadata": {},
   "outputs": [
    {
     "name": "stdout",
     "output_type": "stream",
     "text": [
      "F1: 0.5081374321880651\n"
     ]
    }
   ],
   "source": [
    "model = LogisticRegression(solver='liblinear', random_state = 12345)\n",
    "model.fit(features_upsampled, target_upsampled)\n",
    "predicted_valid = model.predict(features_valid)\n",
    "\n",
    "print('F1:', f1_score(target_valid, predicted_valid))"
   ]
  },
  {
   "cell_type": "markdown",
   "metadata": {},
   "source": [
    "The highest f1 score of logistic regression after upsampling is very close to logistic regression with class weight adjustment: 0.5 and 0.51 respectively. A significant improvement from the imbalanced logistic regression (0.303)."
   ]
  },
  {
   "cell_type": "markdown",
   "metadata": {},
   "source": [
    "### Downsampling"
   ]
  },
  {
   "cell_type": "code",
   "execution_count": 73,
   "metadata": {
    "scrolled": true
   },
   "outputs": [
    {
     "name": "stdout",
     "output_type": "stream",
     "text": [
      "ratio: 0.961\n"
     ]
    }
   ],
   "source": [
    "def downsample(features, target, fraction):\n",
    "    features_zeros = features[target == 0]\n",
    "    features_ones = features[target == 1]\n",
    "    target_zeros = target[target == 0]\n",
    "    target_ones = target[target == 1]\n",
    "\n",
    "    features_downsampled = pd.concat(\n",
    "        [features_zeros.sample(frac=fraction, random_state=12345)]\n",
    "        + [features_ones]\n",
    "    )\n",
    "    target_downsampled = pd.concat(\n",
    "        [target_zeros.sample(frac=fraction, random_state=12345)]\n",
    "        + [target_ones]\n",
    "    )\n",
    "\n",
    "    features_downsampled, target_downsampled = shuffle(\n",
    "        features_downsampled, target_downsampled, random_state=12345\n",
    "    )\n",
    "\n",
    "    return features_downsampled, target_downsampled\n",
    "\n",
    "\n",
    "features_downsampled, target_downsampled = downsample(features_train, target_train, 0.25)\n",
    "\n",
    "print('ratio:', round(target_downsampled[target_downsampled == 0].shape[0] / target_downsampled[target_downsampled == 1].shape[0], 3))"
   ]
  },
  {
   "cell_type": "markdown",
   "metadata": {},
   "source": [
    "Now the ratio is almost 1. We got the ratio we wanted."
   ]
  },
  {
   "cell_type": "markdown",
   "metadata": {},
   "source": [
    "<div class=\"alert alert-success\">\n",
    "<b>Reviewer's comment</b>\n",
    "\n",
    "Downsampling also looks good\n",
    "\n",
    "</div>"
   ]
  },
  {
   "cell_type": "markdown",
   "metadata": {},
   "source": [
    "#### Decision Tree"
   ]
  },
  {
   "cell_type": "code",
   "execution_count": 74,
   "metadata": {},
   "outputs": [
    {
     "data": {
      "text/html": [
       "<div>\n",
       "<style scoped>\n",
       "    .dataframe tbody tr th:only-of-type {\n",
       "        vertical-align: middle;\n",
       "    }\n",
       "\n",
       "    .dataframe tbody tr th {\n",
       "        vertical-align: top;\n",
       "    }\n",
       "\n",
       "    .dataframe thead th {\n",
       "        text-align: right;\n",
       "    }\n",
       "</style>\n",
       "<table border=\"1\" class=\"dataframe\">\n",
       "  <thead>\n",
       "    <tr style=\"text-align: right;\">\n",
       "      <th></th>\n",
       "      <th>max_depth</th>\n",
       "      <th>f1_score</th>\n",
       "    </tr>\n",
       "  </thead>\n",
       "  <tbody>\n",
       "    <tr>\n",
       "      <th>5</th>\n",
       "      <td>6</td>\n",
       "      <td>0.564</td>\n",
       "    </tr>\n",
       "    <tr>\n",
       "      <th>6</th>\n",
       "      <td>7</td>\n",
       "      <td>0.557</td>\n",
       "    </tr>\n",
       "    <tr>\n",
       "      <th>3</th>\n",
       "      <td>4</td>\n",
       "      <td>0.556</td>\n",
       "    </tr>\n",
       "    <tr>\n",
       "      <th>4</th>\n",
       "      <td>5</td>\n",
       "      <td>0.554</td>\n",
       "    </tr>\n",
       "    <tr>\n",
       "      <th>7</th>\n",
       "      <td>8</td>\n",
       "      <td>0.551</td>\n",
       "    </tr>\n",
       "    <tr>\n",
       "      <th>12</th>\n",
       "      <td>13</td>\n",
       "      <td>0.517</td>\n",
       "    </tr>\n",
       "    <tr>\n",
       "      <th>8</th>\n",
       "      <td>9</td>\n",
       "      <td>0.515</td>\n",
       "    </tr>\n",
       "    <tr>\n",
       "      <th>11</th>\n",
       "      <td>12</td>\n",
       "      <td>0.514</td>\n",
       "    </tr>\n",
       "    <tr>\n",
       "      <th>10</th>\n",
       "      <td>11</td>\n",
       "      <td>0.510</td>\n",
       "    </tr>\n",
       "    <tr>\n",
       "      <th>2</th>\n",
       "      <td>3</td>\n",
       "      <td>0.510</td>\n",
       "    </tr>\n",
       "  </tbody>\n",
       "</table>\n",
       "</div>"
      ],
      "text/plain": [
       "    max_depth  f1_score\n",
       "5           6     0.564\n",
       "6           7     0.557\n",
       "3           4     0.556\n",
       "4           5     0.554\n",
       "7           8     0.551\n",
       "12         13     0.517\n",
       "8           9     0.515\n",
       "11         12     0.514\n",
       "10         11     0.510\n",
       "2           3     0.510"
      ]
     },
     "execution_count": 74,
     "metadata": {},
     "output_type": "execute_result"
    }
   ],
   "source": [
    "f1_scores = []\n",
    "\n",
    "for depth in range(1, 21):\n",
    "    model = DecisionTreeClassifier(random_state=12345, max_depth=depth)\n",
    "    model.fit(features_downsampled, target_downsampled)\n",
    "    predicted_valid = model.predict(features_valid)\n",
    "    f1_scores.append({'max_depth': depth,\n",
    "                     'f1_score': round(f1_score(target_valid, predicted_valid), 3)})\n",
    "\n",
    "f1_df = pd.DataFrame(f1_scores)\n",
    "f1_df = f1_df.sort_values(by='f1_score', ascending=False)\n",
    "f1_df.head(10)"
   ]
  },
  {
   "cell_type": "markdown",
   "metadata": {},
   "source": [
    "The highest f1 score of decision tree after downsampling is very close to decision trees after upsampling or class weight adjustment: 0.564 and 0.574 respectively. A bit lower, but not a significant difference from the imbalanced decision tree (0.576)."
   ]
  },
  {
   "cell_type": "markdown",
   "metadata": {},
   "source": [
    "#### Random Forest"
   ]
  },
  {
   "cell_type": "code",
   "execution_count": 75,
   "metadata": {
    "scrolled": false
   },
   "outputs": [
    {
     "data": {
      "text/html": [
       "<div>\n",
       "<style scoped>\n",
       "    .dataframe tbody tr th:only-of-type {\n",
       "        vertical-align: middle;\n",
       "    }\n",
       "\n",
       "    .dataframe tbody tr th {\n",
       "        vertical-align: top;\n",
       "    }\n",
       "\n",
       "    .dataframe thead th {\n",
       "        text-align: right;\n",
       "    }\n",
       "</style>\n",
       "<table border=\"1\" class=\"dataframe\">\n",
       "  <thead>\n",
       "    <tr style=\"text-align: right;\">\n",
       "      <th></th>\n",
       "      <th>n_estimators</th>\n",
       "      <th>max_depth</th>\n",
       "      <th>f1_score</th>\n",
       "    </tr>\n",
       "  </thead>\n",
       "  <tbody>\n",
       "    <tr>\n",
       "      <th>347</th>\n",
       "      <td>18</td>\n",
       "      <td>8</td>\n",
       "      <td>0.604</td>\n",
       "    </tr>\n",
       "    <tr>\n",
       "      <th>387</th>\n",
       "      <td>20</td>\n",
       "      <td>8</td>\n",
       "      <td>0.603</td>\n",
       "    </tr>\n",
       "    <tr>\n",
       "      <th>327</th>\n",
       "      <td>17</td>\n",
       "      <td>8</td>\n",
       "      <td>0.602</td>\n",
       "    </tr>\n",
       "    <tr>\n",
       "      <th>367</th>\n",
       "      <td>19</td>\n",
       "      <td>8</td>\n",
       "      <td>0.601</td>\n",
       "    </tr>\n",
       "    <tr>\n",
       "      <th>287</th>\n",
       "      <td>15</td>\n",
       "      <td>8</td>\n",
       "      <td>0.600</td>\n",
       "    </tr>\n",
       "    <tr>\n",
       "      <th>227</th>\n",
       "      <td>12</td>\n",
       "      <td>8</td>\n",
       "      <td>0.600</td>\n",
       "    </tr>\n",
       "    <tr>\n",
       "      <th>264</th>\n",
       "      <td>14</td>\n",
       "      <td>5</td>\n",
       "      <td>0.600</td>\n",
       "    </tr>\n",
       "    <tr>\n",
       "      <th>307</th>\n",
       "      <td>16</td>\n",
       "      <td>8</td>\n",
       "      <td>0.599</td>\n",
       "    </tr>\n",
       "    <tr>\n",
       "      <th>236</th>\n",
       "      <td>12</td>\n",
       "      <td>17</td>\n",
       "      <td>0.598</td>\n",
       "    </tr>\n",
       "    <tr>\n",
       "      <th>224</th>\n",
       "      <td>12</td>\n",
       "      <td>5</td>\n",
       "      <td>0.597</td>\n",
       "    </tr>\n",
       "  </tbody>\n",
       "</table>\n",
       "</div>"
      ],
      "text/plain": [
       "     n_estimators  max_depth  f1_score\n",
       "347            18          8     0.604\n",
       "387            20          8     0.603\n",
       "327            17          8     0.602\n",
       "367            19          8     0.601\n",
       "287            15          8     0.600\n",
       "227            12          8     0.600\n",
       "264            14          5     0.600\n",
       "307            16          8     0.599\n",
       "236            12         17     0.598\n",
       "224            12          5     0.597"
      ]
     },
     "execution_count": 75,
     "metadata": {},
     "output_type": "execute_result"
    }
   ],
   "source": [
    "f1_scores = []\n",
    "\n",
    "for n_estimator in range(1, 21):\n",
    "    for depth in range(1, 21):\n",
    "        model = RandomForestClassifier(random_state=12345, n_estimators=n_estimator, max_depth=depth)\n",
    "        model.fit(features_downsampled, target_downsampled)\n",
    "        predicted_valid = model.predict(features_valid)\n",
    "        f1_scores.append({'n_estimators':n_estimator,\n",
    "                         'max_depth': depth,\n",
    "                         'f1_score': round(f1_score(target_valid, predicted_valid), 3)})\n",
    "\n",
    "f1_df = pd.DataFrame(f1_scores)\n",
    "f1_df = f1_df.sort_values(by='f1_score', ascending=False)\n",
    "f1_df.head(10)"
   ]
  },
  {
   "cell_type": "markdown",
   "metadata": {},
   "source": [
    "The highest f1 score of random forest after downsampling is very close to random forest after upsampling  and class weight adjustment: 0.622, 0.644 and 0.604 respectively. We can see an improvement from the imbalanced random forest (0.595)."
   ]
  },
  {
   "cell_type": "markdown",
   "metadata": {},
   "source": [
    "#### Logistic Regression"
   ]
  },
  {
   "cell_type": "code",
   "execution_count": 76,
   "metadata": {},
   "outputs": [
    {
     "name": "stdout",
     "output_type": "stream",
     "text": [
      "F1: 0.5053763440860214\n"
     ]
    }
   ],
   "source": [
    "model = LogisticRegression(solver='liblinear', random_state=12345)\n",
    "model.fit(features_downsampled, target_downsampled)\n",
    "predicted_valid = model.predict(features_valid) \n",
    "\n",
    "print('F1:', f1_score(target_valid, predicted_valid))"
   ]
  },
  {
   "cell_type": "markdown",
   "metadata": {},
   "source": [
    "The highest f1 score of logistic regression after downsampling is very close to logistic regression after upsampling  and class weight adjustment: 0.5, 0.5 and 0.51 respectively. A significant improvement from the imbalanced logistic regression (0.303)."
   ]
  },
  {
   "cell_type": "markdown",
   "metadata": {},
   "source": [
    "#### Conclusion\n",
    "In this section, we tried to improve the f1 scores of our models by using different methods:\n",
    "* F1 scores of decision trees after downsampling or upsampling or class weight adjustment (0.564 and 0.574 respectively) didn't improve much relative to the imbalanced decision tree (0.576).\n",
    "* F1 scores of random forests after downsampling or upsampling or class weight adjustment  (0.622, 0.644 and 0.604 respectively) did improve relative to the imbalanced random forest (0.595).\n",
    "* F1 scores of logistic regressions after downsampling or upsampling or class weight adjustment (0.5, 0.5 and 0.51 respectively) have significant improvement relative to the imbalanced logistic regression (0.303)."
   ]
  },
  {
   "cell_type": "markdown",
   "metadata": {},
   "source": [
    "<div class=\"alert alert-success\">\n",
    "<b>Reviewer's comment</b>\n",
    "\n",
    "Excellent! You tried three different methods of dealing with class imbalance, trained different models and tuned their hyperparameters using the validation set\n",
    "\n",
    "</div>"
   ]
  },
  {
   "cell_type": "markdown",
   "metadata": {},
   "source": [
    "## Perform the final testing."
   ]
  },
  {
   "cell_type": "markdown",
   "metadata": {},
   "source": [
    "### Decision Tree"
   ]
  },
  {
   "cell_type": "code",
   "execution_count": 77,
   "metadata": {},
   "outputs": [
    {
     "name": "stdout",
     "output_type": "stream",
     "text": [
      "F1: 0.565\n"
     ]
    }
   ],
   "source": [
    "model = DecisionTreeClassifier(random_state=12345, max_depth=5, class_weight='balanced')\n",
    "model.fit(features_train, target_train)\n",
    "predicted_test = model.predict(features_test)\n",
    "print('F1:', round(f1_score(target_test, predicted_test), 3))"
   ]
  },
  {
   "cell_type": "code",
   "execution_count": 78,
   "metadata": {},
   "outputs": [
    {
     "name": "stdout",
     "output_type": "stream",
     "text": [
      "AUC-ROC: 0.837\n"
     ]
    }
   ],
   "source": [
    "probabilities_test = model.predict_proba(features_test)\n",
    "probabilities_one_test = probabilities_test[:, 1]\n",
    "auc_roc = roc_auc_score(target_test, probabilities_one_test)\n",
    "\n",
    "print('AUC-ROC:', round(auc_roc, 3))"
   ]
  },
  {
   "cell_type": "markdown",
   "metadata": {},
   "source": [
    "The best decision tree (max_depth=5, class_weight='balanced') didn't perform well regarding its f1 score, although its AUC-ROC score isn't bad.\n",
    "\n",
    "Scores before balancing the decision tree (max_depth=7): f1: 0.576, AUC-ROC: 0.671\n",
    "\n",
    "Scores after balancing the decision tree (max_depth=5): f1: 0.565, AUC-ROC: 0.837"
   ]
  },
  {
   "cell_type": "markdown",
   "metadata": {},
   "source": [
    "### Random Forest"
   ]
  },
  {
   "cell_type": "code",
   "execution_count": 79,
   "metadata": {},
   "outputs": [
    {
     "name": "stdout",
     "output_type": "stream",
     "text": [
      "F1: 0.596\n"
     ]
    }
   ],
   "source": [
    "model = RandomForestClassifier(random_state=12345, n_estimators=13, max_depth=7, class_weight='balanced')\n",
    "model.fit(features_train, target_train)\n",
    "predicted_test = model.predict(features_test)\n",
    "print('F1:', round(f1_score(target_test, predicted_test), 3))"
   ]
  },
  {
   "cell_type": "code",
   "execution_count": 80,
   "metadata": {},
   "outputs": [
    {
     "name": "stdout",
     "output_type": "stream",
     "text": [
      "AUC-ROC: 0.849\n"
     ]
    }
   ],
   "source": [
    "probabilities_test = model.predict_proba(features_test)\n",
    "probabilities_one_test = probabilities_test[:, 1]\n",
    "auc_roc = roc_auc_score(target_test, probabilities_one_test)\n",
    "\n",
    "print('AUC-ROC:', round(auc_roc, 3))"
   ]
  },
  {
   "cell_type": "markdown",
   "metadata": {},
   "source": [
    "The best random forest (n_estimators=13, max_depth=7, class_weight='balanced') performed quite well and passed the test! Its f1 and AUC-ROC scores are the highest :)\n",
    "\n",
    "Scores before balancing the random forest (n_estimators=13, max_depth=19): f1: 0.595, AUC-ROC: 0.85\n",
    "\n",
    "Scores after balancing the random forest (n_estimators=13, max_depth=7): f1: 0.596, AUC-ROC: 0.849"
   ]
  },
  {
   "cell_type": "markdown",
   "metadata": {},
   "source": [
    "### Logistic Regression"
   ]
  },
  {
   "cell_type": "code",
   "execution_count": 81,
   "metadata": {},
   "outputs": [
    {
     "name": "stdout",
     "output_type": "stream",
     "text": [
      "F1: 0.503\n"
     ]
    }
   ],
   "source": [
    "model = LogisticRegression(random_state=12345, solver='liblinear', class_weight='balanced')\n",
    "model.fit(features_train, target_train)\n",
    "predicted_test = model.predict(features_test)\n",
    "print('F1:', round(f1_score(target_test, predicted_test), 3))"
   ]
  },
  {
   "cell_type": "code",
   "execution_count": 82,
   "metadata": {},
   "outputs": [
    {
     "name": "stdout",
     "output_type": "stream",
     "text": [
      "AUC-ROC: 0.782\n"
     ]
    }
   ],
   "source": [
    "probabilities_test = model.predict_proba(features_test)\n",
    "probabilities_one_test = probabilities_test[:, 1]\n",
    "auc_roc = roc_auc_score(target_test, probabilities_one_test)\n",
    "\n",
    "print('AUC-ROC:', round(auc_roc, 3))"
   ]
  },
  {
   "cell_type": "markdown",
   "metadata": {},
   "source": [
    "The best logistic regression (class_weight='balanced') didn't perform well and got the lowest scores.\n",
    "\n",
    "Scores before balancing the logistic regression: F1: 0.303, AUC-ROC: 0.774\n",
    "\n",
    "Scores after balancing the logistic regression: F1: 0.503, AUC-ROC: 0.782"
   ]
  },
  {
   "cell_type": "markdown",
   "metadata": {},
   "source": [
    "<div class=\"alert alert-success\">\n",
    "<b>Reviewer's comment</b>\n",
    "\n",
    "Great, the final model was evaluated on the test set!\n",
    "\n",
    "</div>"
   ]
  },
  {
   "cell_type": "markdown",
   "metadata": {},
   "source": [
    "<div class=\"alert alert-danger\">\n",
    "<s><b>Reviewer's comment</b>\n",
    "\n",
    "Could you please add calculation of ROC-AUC score for all models? The idea is to compare how our balancing techniques impact the two metrics (F1 score and ROC-AUC)\n",
    "\n",
    "</div>"
   ]
  },
  {
   "cell_type": "markdown",
   "metadata": {},
   "source": [
    "<div class=\"alert alert-success\">\n",
    "<b>Reviewer's comment V2</b>\n",
    "  \n",
    "Ok, great!\n",
    "  \n",
    "</div>"
   ]
  },
  {
   "cell_type": "markdown",
   "metadata": {},
   "source": [
    "### General Conclusion\n",
    "Our task was to build a model that can predict if a client will leave the bank or not. \n",
    "\n",
    "In order to do this, we:\n",
    "* preprocessed the data: missing values, duplicates etc.\n",
    "* prepared the features for the model: One-Hot Encoding, features scaling, spliiting the data to sets.\n",
    "* examined the data imbalance: training three models with the data (decision tree, random forest, logistic regression) and checking their f1 scores.\n",
    "* improved the quality of our models: balancing our data by three different methods (class weight adjustment, upsampling, downsampling) and training the models on each of them.\n",
    "* choosed the best model and performed the final testing on the test set.\n",
    "\n",
    "Our random forest model got good scores (F1: 0.596, AUC-ROC: 0.84). In order to predict which client is going to leave the bank soon, we recommend using random forest with the following hyperparameters: n_estimators=13, max_depth=7, class_weight='balanced'."
   ]
  },
  {
   "cell_type": "markdown",
   "metadata": {},
   "source": [
    "<div class=\"alert alert-success\">\n",
    "<b>Reviewer's comment</b>\n",
    "\n",
    "Conclusions look good!\n",
    "\n",
    "</div>"
   ]
  },
  {
   "cell_type": "markdown",
   "metadata": {},
   "source": [
    "# Project evaluation\n",
    "We’ve put together the evaluation criteria for the project. Read this carefully before moving on to the task.\n",
    "\n",
    "Here’s what the reviewers will look at when reviewing your project:\n",
    "\n",
    "* How did you prepare the data for training? Have you processed all of the feature types?\n",
    "* Have you explained the preprocessing steps well enough?\n",
    "* How did you investigate the balance of classes?\n",
    "* Did you study the model without taking into account the imbalance of classes?\n",
    "* What are your findings about the task research?\n",
    "* Have you correctly split the data into sets?\n",
    "* How have you worked with the imbalance of classes?\n",
    "* Did you use at least two techniques for imbalance fixing?\n",
    "* Have you performed the model training, validation, and final testing correctly?\n",
    "* How high is your F1 score?\n",
    "* Did you examine the AUC-ROC values?\n",
    "* Have you kept to the project structure and kept the code neat?\n",
    "\n",
    "You have your takeaway sheets and chapter summaries, so you are ready to proceed to the project.\n",
    "\n",
    "Good luck!"
   ]
  },
  {
   "cell_type": "code",
   "execution_count": null,
   "metadata": {},
   "outputs": [],
   "source": []
  }
 ],
 "metadata": {
  "ExecuteTimeLog": [
   {
    "duration": 981,
    "start_time": "2021-10-05T08:25:30.457Z"
   },
   {
    "duration": 58,
    "start_time": "2021-10-05T08:25:52.654Z"
   },
   {
    "duration": 381,
    "start_time": "2021-10-05T08:29:15.186Z"
   },
   {
    "duration": 10124,
    "start_time": "2021-10-05T08:29:36.842Z"
   },
   {
    "duration": 13,
    "start_time": "2021-10-05T08:29:48.407Z"
   },
   {
    "duration": 14,
    "start_time": "2021-10-05T08:30:03.327Z"
   },
   {
    "duration": 63,
    "start_time": "2021-10-05T08:30:19.434Z"
   },
   {
    "duration": 30,
    "start_time": "2021-10-05T08:32:15.006Z"
   },
   {
    "duration": 20,
    "start_time": "2021-10-05T08:33:52.756Z"
   },
   {
    "duration": 15,
    "start_time": "2021-10-05T08:33:57.551Z"
   },
   {
    "duration": 17,
    "start_time": "2021-10-05T08:34:22.233Z"
   },
   {
    "duration": 16,
    "start_time": "2021-10-05T08:34:26.433Z"
   },
   {
    "duration": 367,
    "start_time": "2021-10-05T08:42:23.210Z"
   },
   {
    "duration": 8,
    "start_time": "2021-10-05T08:42:35.205Z"
   },
   {
    "duration": 14,
    "start_time": "2021-10-05T08:43:09.522Z"
   },
   {
    "duration": 13,
    "start_time": "2021-10-05T09:07:44.323Z"
   },
   {
    "duration": 18,
    "start_time": "2021-10-05T09:08:01.952Z"
   },
   {
    "duration": 6,
    "start_time": "2021-10-05T09:08:40.526Z"
   },
   {
    "duration": 9,
    "start_time": "2021-10-05T09:08:41.708Z"
   },
   {
    "duration": 3032,
    "start_time": "2021-10-05T09:16:41.444Z"
   },
   {
    "duration": 4,
    "start_time": "2021-10-05T09:16:44.478Z"
   },
   {
    "duration": 56,
    "start_time": "2021-10-05T09:16:44.486Z"
   },
   {
    "duration": 12,
    "start_time": "2021-10-05T09:16:44.544Z"
   },
   {
    "duration": 73,
    "start_time": "2021-10-05T09:16:44.559Z"
   },
   {
    "duration": 20,
    "start_time": "2021-10-05T09:16:44.634Z"
   },
   {
    "duration": 33,
    "start_time": "2021-10-05T09:16:44.657Z"
   },
   {
    "duration": 15,
    "start_time": "2021-10-05T09:16:44.694Z"
   },
   {
    "duration": 261,
    "start_time": "2021-10-05T09:16:47.649Z"
   },
   {
    "duration": 19,
    "start_time": "2021-10-05T09:16:48.928Z"
   },
   {
    "duration": 27,
    "start_time": "2021-10-05T09:17:03.705Z"
   },
   {
    "duration": 30,
    "start_time": "2021-10-05T09:22:47.107Z"
   },
   {
    "duration": 18,
    "start_time": "2021-10-05T09:25:55.707Z"
   },
   {
    "duration": 6,
    "start_time": "2021-10-05T09:26:21.294Z"
   },
   {
    "duration": 17,
    "start_time": "2021-10-05T09:26:23.495Z"
   },
   {
    "duration": 20,
    "start_time": "2021-10-05T09:27:12.731Z"
   },
   {
    "duration": 18,
    "start_time": "2021-10-05T09:27:17.676Z"
   },
   {
    "duration": 575,
    "start_time": "2021-10-05T10:51:40.591Z"
   },
   {
    "duration": 4,
    "start_time": "2021-10-05T10:54:52.976Z"
   },
   {
    "duration": 3208,
    "start_time": "2021-10-05T11:04:01.692Z"
   },
   {
    "duration": 3,
    "start_time": "2021-10-05T11:04:04.903Z"
   },
   {
    "duration": 59,
    "start_time": "2021-10-05T11:04:04.909Z"
   },
   {
    "duration": 12,
    "start_time": "2021-10-05T11:04:04.971Z"
   },
   {
    "duration": 62,
    "start_time": "2021-10-05T11:04:04.985Z"
   },
   {
    "duration": 37,
    "start_time": "2021-10-05T11:04:05.049Z"
   },
   {
    "duration": 12,
    "start_time": "2021-10-05T11:04:05.089Z"
   },
   {
    "duration": 19,
    "start_time": "2021-10-05T11:04:05.104Z"
   },
   {
    "duration": 6,
    "start_time": "2021-10-05T11:04:05.125Z"
   },
   {
    "duration": 48,
    "start_time": "2021-10-05T11:04:05.133Z"
   },
   {
    "duration": 5,
    "start_time": "2021-10-05T11:04:05.184Z"
   },
   {
    "duration": 29,
    "start_time": "2021-10-05T11:04:05.191Z"
   },
   {
    "duration": 24,
    "start_time": "2021-10-05T11:04:05.223Z"
   },
   {
    "duration": 334,
    "start_time": "2021-10-05T11:04:05.250Z"
   },
   {
    "duration": 43,
    "start_time": "2021-10-05T11:04:37.390Z"
   },
   {
    "duration": 8,
    "start_time": "2021-10-05T11:04:55.283Z"
   },
   {
    "duration": 3148,
    "start_time": "2021-10-05T11:12:18.194Z"
   },
   {
    "duration": 4,
    "start_time": "2021-10-05T11:12:21.345Z"
   },
   {
    "duration": 60,
    "start_time": "2021-10-05T11:12:21.352Z"
   },
   {
    "duration": 12,
    "start_time": "2021-10-05T11:12:21.414Z"
   },
   {
    "duration": 82,
    "start_time": "2021-10-05T11:12:21.428Z"
   },
   {
    "duration": 22,
    "start_time": "2021-10-05T11:12:21.512Z"
   },
   {
    "duration": 13,
    "start_time": "2021-10-05T11:12:21.537Z"
   },
   {
    "duration": 17,
    "start_time": "2021-10-05T11:12:21.582Z"
   },
   {
    "duration": 6,
    "start_time": "2021-10-05T11:12:21.603Z"
   },
   {
    "duration": 25,
    "start_time": "2021-10-05T11:12:21.613Z"
   },
   {
    "duration": 52,
    "start_time": "2021-10-05T11:12:21.641Z"
   },
   {
    "duration": 19,
    "start_time": "2021-10-05T11:12:21.696Z"
   },
   {
    "duration": 9,
    "start_time": "2021-10-05T11:12:21.718Z"
   },
   {
    "duration": 16,
    "start_time": "2021-10-05T11:12:21.730Z"
   },
   {
    "duration": 74,
    "start_time": "2021-10-05T11:12:21.749Z"
   },
   {
    "duration": 21,
    "start_time": "2021-10-05T11:13:03.001Z"
   },
   {
    "duration": 20,
    "start_time": "2021-10-05T11:13:10.863Z"
   },
   {
    "duration": 39,
    "start_time": "2021-10-05T11:15:49.264Z"
   },
   {
    "duration": 49,
    "start_time": "2021-10-05T11:16:38.855Z"
   },
   {
    "duration": 323,
    "start_time": "2021-10-05T13:28:16.881Z"
   },
   {
    "duration": 10658,
    "start_time": "2021-10-05T13:28:23.640Z"
   },
   {
    "duration": 826,
    "start_time": "2021-10-05T13:28:34.300Z"
   },
   {
    "duration": 47,
    "start_time": "2021-10-05T13:28:35.128Z"
   },
   {
    "duration": 14,
    "start_time": "2021-10-05T13:28:35.177Z"
   },
   {
    "duration": 36,
    "start_time": "2021-10-05T13:28:35.193Z"
   },
   {
    "duration": 28,
    "start_time": "2021-10-05T13:28:35.231Z"
   },
   {
    "duration": 12,
    "start_time": "2021-10-05T13:28:35.261Z"
   },
   {
    "duration": 11,
    "start_time": "2021-10-05T13:28:35.276Z"
   },
   {
    "duration": 4,
    "start_time": "2021-10-05T13:28:35.288Z"
   },
   {
    "duration": 13,
    "start_time": "2021-10-05T13:28:35.294Z"
   },
   {
    "duration": 44,
    "start_time": "2021-10-05T13:28:35.308Z"
   },
   {
    "duration": 10,
    "start_time": "2021-10-05T13:28:35.354Z"
   },
   {
    "duration": 13,
    "start_time": "2021-10-05T13:28:35.365Z"
   },
   {
    "duration": 7,
    "start_time": "2021-10-05T13:28:35.380Z"
   },
   {
    "duration": 16,
    "start_time": "2021-10-05T13:28:35.388Z"
   },
   {
    "duration": 334,
    "start_time": "2021-10-05T13:28:35.406Z"
   },
   {
    "duration": 224,
    "start_time": "2021-10-05T13:29:28.355Z"
   },
   {
    "duration": 13,
    "start_time": "2021-10-05T13:30:38.995Z"
   },
   {
    "duration": 782,
    "start_time": "2021-10-05T13:30:49.653Z"
   },
   {
    "duration": 12,
    "start_time": "2021-10-05T13:31:02.413Z"
   },
   {
    "duration": 11,
    "start_time": "2021-10-05T13:31:06.868Z"
   },
   {
    "duration": 11,
    "start_time": "2021-10-05T13:32:40.754Z"
   },
   {
    "duration": 11,
    "start_time": "2021-10-05T13:39:24.276Z"
   },
   {
    "duration": 246,
    "start_time": "2021-10-05T13:40:23.876Z"
   },
   {
    "duration": 577,
    "start_time": "2021-10-05T13:42:18.560Z"
   },
   {
    "duration": 577,
    "start_time": "2021-10-05T13:48:11.818Z"
   },
   {
    "duration": 746,
    "start_time": "2021-10-05T13:48:29.731Z"
   },
   {
    "duration": 4,
    "start_time": "2021-10-05T13:50:41.358Z"
   },
   {
    "duration": 507,
    "start_time": "2021-10-05T13:50:45.060Z"
   },
   {
    "duration": 25748,
    "start_time": "2021-10-05T14:44:00.025Z"
   },
   {
    "duration": 468,
    "start_time": "2021-10-05T14:45:24.421Z"
   },
   {
    "duration": 455,
    "start_time": "2021-10-05T14:53:32.281Z"
   },
   {
    "duration": 490,
    "start_time": "2021-10-05T14:54:47.428Z"
   },
   {
    "duration": 477,
    "start_time": "2021-10-05T14:55:05.792Z"
   },
   {
    "duration": 25414,
    "start_time": "2021-10-05T14:56:14.461Z"
   },
   {
    "duration": 78,
    "start_time": "2021-10-05T14:57:10.263Z"
   },
   {
    "duration": 24783,
    "start_time": "2021-10-05T14:57:16.873Z"
   },
   {
    "duration": 270,
    "start_time": "2021-10-05T14:59:39.083Z"
   },
   {
    "duration": 18,
    "start_time": "2021-10-05T15:00:03.411Z"
   },
   {
    "duration": 12,
    "start_time": "2021-10-05T15:13:23.115Z"
   },
   {
    "duration": 9,
    "start_time": "2021-10-05T15:22:54.368Z"
   },
   {
    "duration": 16,
    "start_time": "2021-10-05T15:22:56.007Z"
   },
   {
    "duration": 18,
    "start_time": "2021-10-05T15:23:37.588Z"
   },
   {
    "duration": 314,
    "start_time": "2021-10-06T08:30:23.137Z"
   },
   {
    "duration": 12571,
    "start_time": "2021-10-06T08:30:33.915Z"
   },
   {
    "duration": 1427,
    "start_time": "2021-10-06T08:30:46.489Z"
   },
   {
    "duration": 60,
    "start_time": "2021-10-06T08:30:47.920Z"
   },
   {
    "duration": 22,
    "start_time": "2021-10-06T08:30:47.983Z"
   },
   {
    "duration": 59,
    "start_time": "2021-10-06T08:30:48.009Z"
   },
   {
    "duration": 42,
    "start_time": "2021-10-06T08:30:48.070Z"
   },
   {
    "duration": 19,
    "start_time": "2021-10-06T08:30:48.115Z"
   },
   {
    "duration": 16,
    "start_time": "2021-10-06T08:30:48.140Z"
   },
   {
    "duration": 45,
    "start_time": "2021-10-06T08:30:48.159Z"
   },
   {
    "duration": 29,
    "start_time": "2021-10-06T08:30:48.208Z"
   },
   {
    "duration": 18,
    "start_time": "2021-10-06T08:30:48.240Z"
   },
   {
    "duration": 22,
    "start_time": "2021-10-06T08:30:48.260Z"
   },
   {
    "duration": 27,
    "start_time": "2021-10-06T08:30:48.284Z"
   },
   {
    "duration": 14,
    "start_time": "2021-10-06T08:30:48.316Z"
   },
   {
    "duration": 23,
    "start_time": "2021-10-06T08:30:48.333Z"
   },
   {
    "duration": 1293,
    "start_time": "2021-10-06T08:30:48.358Z"
   },
   {
    "duration": 550,
    "start_time": "2021-10-06T08:30:49.653Z"
   },
   {
    "duration": 33825,
    "start_time": "2021-10-06T08:30:50.206Z"
   },
   {
    "duration": 74,
    "start_time": "2021-10-06T08:31:24.033Z"
   },
   {
    "duration": 111,
    "start_time": "2021-10-06T08:31:24.110Z"
   },
   {
    "duration": 25,
    "start_time": "2021-10-06T08:32:35.939Z"
   },
   {
    "duration": 581,
    "start_time": "2021-10-06T08:33:34.623Z"
   },
   {
    "duration": 33944,
    "start_time": "2021-10-06T08:38:16.346Z"
   },
   {
    "duration": 7,
    "start_time": "2021-10-06T09:13:19.830Z"
   },
   {
    "duration": 8,
    "start_time": "2021-10-06T09:13:43.205Z"
   },
   {
    "duration": 6,
    "start_time": "2021-10-06T09:14:04.194Z"
   },
   {
    "duration": 7,
    "start_time": "2021-10-06T09:14:48.104Z"
   },
   {
    "duration": 514,
    "start_time": "2021-10-06T09:16:06.811Z"
   },
   {
    "duration": 1231,
    "start_time": "2021-10-06T09:16:20.956Z"
   },
   {
    "duration": 6,
    "start_time": "2021-10-06T09:16:30.199Z"
   },
   {
    "duration": 14,
    "start_time": "2021-10-06T09:16:36.332Z"
   },
   {
    "duration": 71,
    "start_time": "2021-10-06T09:16:46.534Z"
   },
   {
    "duration": 729,
    "start_time": "2021-10-06T09:19:04.071Z"
   },
   {
    "duration": 44763,
    "start_time": "2021-10-06T09:20:04.543Z"
   },
   {
    "duration": 14,
    "start_time": "2021-10-06T09:23:32.732Z"
   },
   {
    "duration": 20,
    "start_time": "2021-10-06T09:23:33.363Z"
   },
   {
    "duration": 243,
    "start_time": "2021-10-06T09:25:51.269Z"
   },
   {
    "duration": 18856,
    "start_time": "2021-10-06T09:27:03.498Z"
   },
   {
    "duration": 97,
    "start_time": "2021-10-06T09:36:27.003Z"
   },
   {
    "duration": 1131,
    "start_time": "2021-10-06T11:06:42.379Z"
   },
   {
    "duration": 11757,
    "start_time": "2021-10-06T11:06:52.086Z"
   },
   {
    "duration": 670,
    "start_time": "2021-10-06T11:07:03.846Z"
   },
   {
    "duration": 59,
    "start_time": "2021-10-06T11:07:04.520Z"
   },
   {
    "duration": 12,
    "start_time": "2021-10-06T11:07:04.582Z"
   },
   {
    "duration": 85,
    "start_time": "2021-10-06T11:07:04.597Z"
   },
   {
    "duration": 29,
    "start_time": "2021-10-06T11:07:04.684Z"
   },
   {
    "duration": 14,
    "start_time": "2021-10-06T11:07:04.716Z"
   },
   {
    "duration": 42,
    "start_time": "2021-10-06T11:07:04.734Z"
   },
   {
    "duration": 6,
    "start_time": "2021-10-06T11:07:04.779Z"
   },
   {
    "duration": 21,
    "start_time": "2021-10-06T11:07:04.788Z"
   },
   {
    "duration": 50,
    "start_time": "2021-10-06T11:07:04.812Z"
   },
   {
    "duration": 18,
    "start_time": "2021-10-06T11:07:04.865Z"
   },
   {
    "duration": 8,
    "start_time": "2021-10-06T11:07:04.886Z"
   },
   {
    "duration": 25,
    "start_time": "2021-10-06T11:07:04.896Z"
   },
   {
    "duration": 68,
    "start_time": "2021-10-06T11:07:04.924Z"
   },
   {
    "duration": 822,
    "start_time": "2021-10-06T11:07:04.995Z"
   },
   {
    "duration": 556,
    "start_time": "2021-10-06T11:07:05.820Z"
   },
   {
    "duration": 32124,
    "start_time": "2021-10-06T11:07:06.379Z"
   },
   {
    "duration": 157,
    "start_time": "2021-10-06T11:07:38.506Z"
   },
   {
    "duration": 612,
    "start_time": "2021-10-06T11:07:38.666Z"
   },
   {
    "duration": 32382,
    "start_time": "2021-10-06T11:07:39.281Z"
   },
   {
    "duration": 103,
    "start_time": "2021-10-06T11:08:11.666Z"
   },
   {
    "duration": 94,
    "start_time": "2021-10-06T11:08:11.775Z"
   },
   {
    "duration": 14,
    "start_time": "2021-10-06T11:08:11.873Z"
   },
   {
    "duration": 765,
    "start_time": "2021-10-06T11:08:11.890Z"
   },
   {
    "duration": 44888,
    "start_time": "2021-10-06T11:08:12.661Z"
   },
   {
    "duration": 111,
    "start_time": "2021-10-06T11:08:57.552Z"
   },
   {
    "duration": 104,
    "start_time": "2021-10-06T11:08:57.665Z"
   },
   {
    "duration": 282,
    "start_time": "2021-10-06T11:08:57.772Z"
   },
   {
    "duration": 18987,
    "start_time": "2021-10-06T11:08:58.061Z"
   },
   {
    "duration": 25,
    "start_time": "2021-10-06T11:09:17.051Z"
   },
   {
    "duration": 268,
    "start_time": "2021-10-06T11:09:17.079Z"
   },
   {
    "duration": 5,
    "start_time": "2021-10-06T11:09:17.361Z"
   },
   {
    "duration": 402,
    "start_time": "2021-10-06T11:10:20.383Z"
   },
   {
    "duration": 8,
    "start_time": "2021-10-06T11:10:32.510Z"
   },
   {
    "duration": 342,
    "start_time": "2021-10-06T11:10:38.872Z"
   },
   {
    "duration": 5,
    "start_time": "2021-10-06T11:11:10.208Z"
   },
   {
    "duration": 279,
    "start_time": "2021-10-06T11:11:15.978Z"
   },
   {
    "duration": 8,
    "start_time": "2021-10-06T11:12:07.358Z"
   },
   {
    "duration": 263,
    "start_time": "2021-10-06T11:14:25.467Z"
   },
   {
    "duration": 7,
    "start_time": "2021-10-06T11:14:29.975Z"
   },
   {
    "duration": 26,
    "start_time": "2021-10-06T11:18:35.246Z"
   },
   {
    "duration": 10,
    "start_time": "2021-10-06T11:18:42.375Z"
   },
   {
    "duration": 24,
    "start_time": "2021-10-06T11:18:55.551Z"
   },
   {
    "duration": 19,
    "start_time": "2021-10-06T11:20:00.439Z"
   },
   {
    "duration": 25,
    "start_time": "2021-10-06T11:21:23.307Z"
   },
   {
    "duration": 132,
    "start_time": "2021-10-06T11:21:44.106Z"
   },
   {
    "duration": 99,
    "start_time": "2021-10-06T11:24:50.073Z"
   },
   {
    "duration": 93,
    "start_time": "2021-10-06T11:24:55.974Z"
   },
   {
    "duration": 58,
    "start_time": "2021-10-06T11:25:26.728Z"
   },
   {
    "duration": 45,
    "start_time": "2021-10-06T12:00:08.362Z"
   },
   {
    "duration": 47,
    "start_time": "2021-10-06T12:00:13.872Z"
   },
   {
    "duration": 3523,
    "start_time": "2021-10-06T12:02:10.094Z"
   },
   {
    "duration": 6,
    "start_time": "2021-10-06T12:02:13.621Z"
   },
   {
    "duration": 59,
    "start_time": "2021-10-06T12:02:13.630Z"
   },
   {
    "duration": 37,
    "start_time": "2021-10-06T12:02:13.692Z"
   },
   {
    "duration": 100,
    "start_time": "2021-10-06T12:02:13.732Z"
   },
   {
    "duration": 35,
    "start_time": "2021-10-06T12:02:13.835Z"
   },
   {
    "duration": 17,
    "start_time": "2021-10-06T12:02:13.873Z"
   },
   {
    "duration": 22,
    "start_time": "2021-10-06T12:02:13.893Z"
   },
   {
    "duration": 6,
    "start_time": "2021-10-06T12:02:13.919Z"
   },
   {
    "duration": 17,
    "start_time": "2021-10-06T12:02:13.963Z"
   },
   {
    "duration": 22,
    "start_time": "2021-10-06T12:02:13.982Z"
   },
   {
    "duration": 18,
    "start_time": "2021-10-06T12:02:14.007Z"
   },
   {
    "duration": 39,
    "start_time": "2021-10-06T12:02:14.027Z"
   },
   {
    "duration": 12,
    "start_time": "2021-10-06T12:02:14.068Z"
   },
   {
    "duration": 79,
    "start_time": "2021-10-06T12:02:14.084Z"
   },
   {
    "duration": 22,
    "start_time": "2021-10-06T12:02:14.166Z"
   },
   {
    "duration": 567,
    "start_time": "2021-10-06T12:02:14.190Z"
   },
   {
    "duration": 34322,
    "start_time": "2021-10-06T12:02:14.763Z"
   },
   {
    "duration": 80,
    "start_time": "2021-10-06T12:02:49.088Z"
   },
   {
    "duration": 733,
    "start_time": "2021-10-06T12:02:49.171Z"
   },
   {
    "duration": 34702,
    "start_time": "2021-10-06T12:02:49.906Z"
   },
   {
    "duration": 62,
    "start_time": "2021-10-06T12:03:24.610Z"
   },
   {
    "duration": 94,
    "start_time": "2021-10-06T12:03:24.679Z"
   },
   {
    "duration": 15,
    "start_time": "2021-10-06T12:03:24.776Z"
   },
   {
    "duration": 837,
    "start_time": "2021-10-06T12:03:24.794Z"
   },
   {
    "duration": 46430,
    "start_time": "2021-10-06T12:03:25.634Z"
   },
   {
    "duration": 100,
    "start_time": "2021-10-06T12:04:12.066Z"
   },
   {
    "duration": 104,
    "start_time": "2021-10-06T12:04:12.169Z"
   },
   {
    "duration": 282,
    "start_time": "2021-10-06T12:04:12.275Z"
   },
   {
    "duration": 22900,
    "start_time": "2021-10-06T12:04:12.562Z"
   },
   {
    "duration": 99,
    "start_time": "2021-10-06T12:04:35.465Z"
   },
   {
    "duration": 199,
    "start_time": "2021-10-06T12:04:35.567Z"
   },
   {
    "duration": 293,
    "start_time": "2021-10-06T12:04:35.768Z"
   },
   {
    "duration": 10,
    "start_time": "2021-10-06T12:04:36.064Z"
   },
   {
    "duration": 25,
    "start_time": "2021-10-06T12:22:07.489Z"
   },
   {
    "duration": 8,
    "start_time": "2021-10-06T12:22:22.217Z"
   },
   {
    "duration": 22,
    "start_time": "2021-10-06T12:24:37.917Z"
   },
   {
    "duration": 6,
    "start_time": "2021-10-06T12:48:34.125Z"
   },
   {
    "duration": 7,
    "start_time": "2021-10-06T12:49:12.632Z"
   },
   {
    "duration": 7,
    "start_time": "2021-10-06T12:49:33.869Z"
   },
   {
    "duration": 5,
    "start_time": "2021-10-06T12:50:37.836Z"
   },
   {
    "duration": 102,
    "start_time": "2021-10-06T12:51:17.021Z"
   },
   {
    "duration": 5,
    "start_time": "2021-10-06T12:51:28.742Z"
   },
   {
    "duration": 100,
    "start_time": "2021-10-06T12:52:37.290Z"
   },
   {
    "duration": 6,
    "start_time": "2021-10-06T12:52:53.002Z"
   },
   {
    "duration": 6,
    "start_time": "2021-10-06T12:53:01.596Z"
   },
   {
    "duration": 35,
    "start_time": "2021-10-06T12:54:33.716Z"
   },
   {
    "duration": 103,
    "start_time": "2021-10-06T13:13:24.852Z"
   },
   {
    "duration": 25,
    "start_time": "2021-10-06T13:15:27.635Z"
   },
   {
    "duration": 318,
    "start_time": "2021-10-06T17:22:44.688Z"
   },
   {
    "duration": 11341,
    "start_time": "2021-10-06T17:22:57.471Z"
   },
   {
    "duration": 1996,
    "start_time": "2021-10-06T17:23:08.815Z"
   },
   {
    "duration": 57,
    "start_time": "2021-10-06T17:23:10.814Z"
   },
   {
    "duration": 19,
    "start_time": "2021-10-06T17:23:10.874Z"
   },
   {
    "duration": 90,
    "start_time": "2021-10-06T17:23:10.896Z"
   },
   {
    "duration": 756,
    "start_time": "2021-10-06T17:23:10.988Z"
   },
   {
    "duration": 5,
    "start_time": "2021-10-06T17:23:11.747Z"
   },
   {
    "duration": 31,
    "start_time": "2021-10-06T17:23:11.755Z"
   },
   {
    "duration": 36,
    "start_time": "2021-10-06T17:23:11.789Z"
   },
   {
    "duration": 5,
    "start_time": "2021-10-06T17:23:11.828Z"
   },
   {
    "duration": 45,
    "start_time": "2021-10-06T17:23:11.835Z"
   },
   {
    "duration": 42,
    "start_time": "2021-10-06T17:23:11.883Z"
   },
   {
    "duration": 38,
    "start_time": "2021-10-06T17:23:11.928Z"
   },
   {
    "duration": 33,
    "start_time": "2021-10-06T17:23:11.968Z"
   },
   {
    "duration": 35,
    "start_time": "2021-10-06T17:23:12.004Z"
   },
   {
    "duration": 24,
    "start_time": "2021-10-06T17:23:12.041Z"
   },
   {
    "duration": 54,
    "start_time": "2021-10-06T17:23:12.068Z"
   },
   {
    "duration": 19,
    "start_time": "2021-10-06T17:23:12.125Z"
   },
   {
    "duration": 541,
    "start_time": "2021-10-06T17:23:12.146Z"
   },
   {
    "duration": 33836,
    "start_time": "2021-10-06T17:23:12.690Z"
   },
   {
    "duration": 98,
    "start_time": "2021-10-06T17:23:46.529Z"
   },
   {
    "duration": 650,
    "start_time": "2021-10-06T17:23:46.630Z"
   },
   {
    "duration": 32369,
    "start_time": "2021-10-06T17:23:47.285Z"
   },
   {
    "duration": 74,
    "start_time": "2021-10-06T17:24:19.657Z"
   },
   {
    "duration": 9,
    "start_time": "2021-10-06T17:24:19.823Z"
   },
   {
    "duration": 16,
    "start_time": "2021-10-06T17:24:19.834Z"
   },
   {
    "duration": 731,
    "start_time": "2021-10-06T17:24:19.853Z"
   },
   {
    "duration": 44384,
    "start_time": "2021-10-06T17:24:20.587Z"
   },
   {
    "duration": 50,
    "start_time": "2021-10-06T17:25:04.974Z"
   },
   {
    "duration": 112,
    "start_time": "2021-10-06T17:25:05.027Z"
   },
   {
    "duration": 319,
    "start_time": "2021-10-06T17:25:05.142Z"
   },
   {
    "duration": 17390,
    "start_time": "2021-10-06T17:25:05.464Z"
   },
   {
    "duration": 16,
    "start_time": "2021-10-06T17:25:22.857Z"
   },
   {
    "duration": 178,
    "start_time": "2021-10-06T17:25:22.927Z"
   },
   {
    "duration": 268,
    "start_time": "2021-10-06T17:25:23.123Z"
   },
   {
    "duration": 6,
    "start_time": "2021-10-06T17:25:23.394Z"
   },
   {
    "duration": 8,
    "start_time": "2021-10-06T17:25:32.603Z"
   },
   {
    "duration": 16,
    "start_time": "2021-10-06T17:30:27.440Z"
   },
   {
    "duration": 398,
    "start_time": "2021-10-06T17:30:55.317Z"
   },
   {
    "duration": 17,
    "start_time": "2021-10-06T17:31:13.834Z"
   },
   {
    "duration": 4358,
    "start_time": "2021-10-06T17:31:28.652Z"
   },
   {
    "duration": 266,
    "start_time": "2021-10-06T17:31:47.922Z"
   },
   {
    "duration": 16,
    "start_time": "2021-10-06T17:32:16.462Z"
   },
   {
    "duration": 274,
    "start_time": "2021-10-06T17:32:24.385Z"
   },
   {
    "duration": 15,
    "start_time": "2021-10-06T17:32:27.894Z"
   },
   {
    "duration": 16,
    "start_time": "2021-10-06T17:33:03.389Z"
   },
   {
    "duration": 84,
    "start_time": "2021-10-06T18:37:31.632Z"
   },
   {
    "duration": 16,
    "start_time": "2021-10-06T18:37:44.226Z"
   },
   {
    "duration": 15,
    "start_time": "2021-10-06T18:38:22.275Z"
   },
   {
    "duration": 7125,
    "start_time": "2021-10-07T09:42:00.538Z"
   },
   {
    "duration": 1118,
    "start_time": "2021-10-07T09:42:07.665Z"
   },
   {
    "duration": 42,
    "start_time": "2021-10-07T09:42:08.785Z"
   },
   {
    "duration": 11,
    "start_time": "2021-10-07T09:42:08.828Z"
   },
   {
    "duration": 61,
    "start_time": "2021-10-07T09:42:08.841Z"
   },
   {
    "duration": 304,
    "start_time": "2021-10-07T09:42:08.904Z"
   },
   {
    "duration": 4,
    "start_time": "2021-10-07T09:42:09.210Z"
   },
   {
    "duration": 30,
    "start_time": "2021-10-07T09:42:09.216Z"
   },
   {
    "duration": 11,
    "start_time": "2021-10-07T09:42:09.248Z"
   },
   {
    "duration": 3,
    "start_time": "2021-10-07T09:42:09.261Z"
   },
   {
    "duration": 14,
    "start_time": "2021-10-07T09:42:09.266Z"
   },
   {
    "duration": 25,
    "start_time": "2021-10-07T09:42:09.281Z"
   },
   {
    "duration": 10,
    "start_time": "2021-10-07T09:42:09.307Z"
   },
   {
    "duration": 6,
    "start_time": "2021-10-07T09:42:09.318Z"
   },
   {
    "duration": 6,
    "start_time": "2021-10-07T09:42:09.326Z"
   },
   {
    "duration": 11,
    "start_time": "2021-10-07T09:42:09.333Z"
   },
   {
    "duration": 24,
    "start_time": "2021-10-07T09:42:09.345Z"
   },
   {
    "duration": 35,
    "start_time": "2021-10-07T09:42:09.371Z"
   },
   {
    "duration": 360,
    "start_time": "2021-10-07T09:42:09.407Z"
   },
   {
    "duration": 19991,
    "start_time": "2021-10-07T09:42:09.768Z"
   },
   {
    "duration": 48,
    "start_time": "2021-10-07T09:42:29.761Z"
   },
   {
    "duration": 503,
    "start_time": "2021-10-07T09:42:29.811Z"
   },
   {
    "duration": 20152,
    "start_time": "2021-10-07T09:42:30.317Z"
   },
   {
    "duration": 29,
    "start_time": "2021-10-07T09:42:50.471Z"
   },
   {
    "duration": 7,
    "start_time": "2021-10-07T09:42:50.502Z"
   },
   {
    "duration": 13,
    "start_time": "2021-10-07T09:42:50.602Z"
   },
   {
    "duration": 550,
    "start_time": "2021-10-07T09:42:50.617Z"
   },
   {
    "duration": 27432,
    "start_time": "2021-10-07T09:42:51.168Z"
   },
   {
    "duration": 24,
    "start_time": "2021-10-07T09:43:18.601Z"
   },
   {
    "duration": 99,
    "start_time": "2021-10-07T09:43:18.701Z"
   },
   {
    "duration": 179,
    "start_time": "2021-10-07T09:43:18.802Z"
   },
   {
    "duration": 11257,
    "start_time": "2021-10-07T09:43:18.983Z"
   },
   {
    "duration": 58,
    "start_time": "2021-10-07T09:43:30.242Z"
   },
   {
    "duration": 147,
    "start_time": "2021-10-07T09:43:30.303Z"
   },
   {
    "duration": 184,
    "start_time": "2021-10-07T09:43:30.452Z"
   },
   {
    "duration": 4,
    "start_time": "2021-10-07T09:43:30.638Z"
   },
   {
    "duration": 11,
    "start_time": "2021-10-07T09:43:43.447Z"
   },
   {
    "duration": 54,
    "start_time": "2021-10-07T09:43:59.108Z"
   },
   {
    "duration": 11,
    "start_time": "2021-10-07T09:44:20.098Z"
   },
   {
    "duration": 12,
    "start_time": "2021-10-07T10:04:34.934Z"
   },
   {
    "duration": 12,
    "start_time": "2021-10-07T10:10:33.309Z"
   },
   {
    "duration": 47,
    "start_time": "2021-10-07T11:23:48.771Z"
   },
   {
    "duration": 2754,
    "start_time": "2021-10-07T11:28:10.068Z"
   },
   {
    "duration": 4,
    "start_time": "2021-10-07T11:28:12.824Z"
   },
   {
    "duration": 42,
    "start_time": "2021-10-07T11:28:12.830Z"
   },
   {
    "duration": 12,
    "start_time": "2021-10-07T11:28:12.874Z"
   },
   {
    "duration": 54,
    "start_time": "2021-10-07T11:28:12.888Z"
   },
   {
    "duration": 15,
    "start_time": "2021-10-07T11:28:12.944Z"
   },
   {
    "duration": 4,
    "start_time": "2021-10-07T11:28:12.960Z"
   },
   {
    "duration": 19,
    "start_time": "2021-10-07T11:28:12.966Z"
   },
   {
    "duration": 16,
    "start_time": "2021-10-07T11:28:12.999Z"
   },
   {
    "duration": 4,
    "start_time": "2021-10-07T11:28:13.016Z"
   },
   {
    "duration": 13,
    "start_time": "2021-10-07T11:28:13.022Z"
   },
   {
    "duration": 9,
    "start_time": "2021-10-07T11:28:13.037Z"
   },
   {
    "duration": 11,
    "start_time": "2021-10-07T11:28:13.048Z"
   },
   {
    "duration": 39,
    "start_time": "2021-10-07T11:28:13.061Z"
   },
   {
    "duration": 11,
    "start_time": "2021-10-07T11:28:13.103Z"
   },
   {
    "duration": 5,
    "start_time": "2021-10-07T11:28:13.116Z"
   },
   {
    "duration": 24,
    "start_time": "2021-10-07T11:28:13.122Z"
   },
   {
    "duration": 11,
    "start_time": "2021-10-07T11:28:13.148Z"
   },
   {
    "duration": 418,
    "start_time": "2021-10-07T11:28:13.161Z"
   },
   {
    "duration": 20585,
    "start_time": "2021-10-07T11:28:13.580Z"
   },
   {
    "duration": 136,
    "start_time": "2021-10-07T11:28:34.166Z"
   },
   {
    "duration": 455,
    "start_time": "2021-10-07T11:28:34.306Z"
   },
   {
    "duration": 20147,
    "start_time": "2021-10-07T11:28:34.764Z"
   },
   {
    "duration": 88,
    "start_time": "2021-10-07T11:28:54.913Z"
   },
   {
    "duration": 98,
    "start_time": "2021-10-07T11:28:55.003Z"
   },
   {
    "duration": 17,
    "start_time": "2021-10-07T11:28:55.102Z"
   },
   {
    "duration": 493,
    "start_time": "2021-10-07T11:28:55.121Z"
   },
   {
    "duration": 27379,
    "start_time": "2021-10-07T11:28:55.616Z"
   },
   {
    "duration": 19,
    "start_time": "2021-10-07T11:29:23.000Z"
   },
   {
    "duration": 179,
    "start_time": "2021-10-07T11:29:23.022Z"
   },
   {
    "duration": 182,
    "start_time": "2021-10-07T11:29:23.203Z"
   },
   {
    "duration": 11390,
    "start_time": "2021-10-07T11:29:23.387Z"
   },
   {
    "duration": 22,
    "start_time": "2021-10-07T11:29:34.779Z"
   },
   {
    "duration": 246,
    "start_time": "2021-10-07T11:29:34.804Z"
   },
   {
    "duration": 12,
    "start_time": "2021-10-07T11:29:35.052Z"
   },
   {
    "duration": 198,
    "start_time": "2021-10-07T11:29:35.066Z"
   },
   {
    "duration": 13,
    "start_time": "2021-10-07T11:30:59.781Z"
   },
   {
    "duration": 20,
    "start_time": "2021-10-07T11:33:56.847Z"
   },
   {
    "duration": 33,
    "start_time": "2021-10-07T11:34:10.217Z"
   },
   {
    "duration": 20,
    "start_time": "2021-10-07T11:37:55.191Z"
   },
   {
    "duration": 14,
    "start_time": "2021-10-07T11:38:15.470Z"
   },
   {
    "duration": 178,
    "start_time": "2021-10-07T11:44:37.308Z"
   },
   {
    "duration": 392,
    "start_time": "2021-10-08T06:50:33.630Z"
   },
   {
    "duration": 12044,
    "start_time": "2021-10-08T06:51:07.751Z"
   },
   {
    "duration": 1544,
    "start_time": "2021-10-08T06:51:19.798Z"
   },
   {
    "duration": 57,
    "start_time": "2021-10-08T06:51:21.345Z"
   },
   {
    "duration": 17,
    "start_time": "2021-10-08T06:51:21.405Z"
   },
   {
    "duration": 81,
    "start_time": "2021-10-08T06:51:21.425Z"
   },
   {
    "duration": 722,
    "start_time": "2021-10-08T06:51:21.509Z"
   },
   {
    "duration": 5,
    "start_time": "2021-10-08T06:51:22.234Z"
   },
   {
    "duration": 23,
    "start_time": "2021-10-08T06:51:22.258Z"
   },
   {
    "duration": 19,
    "start_time": "2021-10-08T06:51:22.285Z"
   },
   {
    "duration": 8,
    "start_time": "2021-10-08T06:51:22.307Z"
   },
   {
    "duration": 55,
    "start_time": "2021-10-08T06:51:22.318Z"
   },
   {
    "duration": 22,
    "start_time": "2021-10-08T06:51:22.376Z"
   },
   {
    "duration": 19,
    "start_time": "2021-10-08T06:51:22.400Z"
   },
   {
    "duration": 35,
    "start_time": "2021-10-08T06:51:22.422Z"
   },
   {
    "duration": 17,
    "start_time": "2021-10-08T06:51:22.460Z"
   },
   {
    "duration": 19,
    "start_time": "2021-10-08T06:51:22.479Z"
   },
   {
    "duration": 53,
    "start_time": "2021-10-08T06:51:22.501Z"
   },
   {
    "duration": 17,
    "start_time": "2021-10-08T06:51:22.556Z"
   },
   {
    "duration": 515,
    "start_time": "2021-10-08T06:51:22.576Z"
   },
   {
    "duration": 31218,
    "start_time": "2021-10-08T06:51:23.093Z"
   },
   {
    "duration": 145,
    "start_time": "2021-10-08T06:51:54.313Z"
   },
   {
    "duration": 624,
    "start_time": "2021-10-08T06:51:54.461Z"
   },
   {
    "duration": 31052,
    "start_time": "2021-10-08T06:51:55.090Z"
   },
   {
    "duration": 113,
    "start_time": "2021-10-08T06:52:26.145Z"
   },
   {
    "duration": 99,
    "start_time": "2021-10-08T06:52:26.262Z"
   },
   {
    "duration": 15,
    "start_time": "2021-10-08T06:52:26.363Z"
   },
   {
    "duration": 723,
    "start_time": "2021-10-08T06:52:26.380Z"
   },
   {
    "duration": 43076,
    "start_time": "2021-10-08T06:52:27.106Z"
   },
   {
    "duration": 76,
    "start_time": "2021-10-08T06:53:10.184Z"
   },
   {
    "duration": 101,
    "start_time": "2021-10-08T06:53:10.263Z"
   },
   {
    "duration": 254,
    "start_time": "2021-10-08T06:53:10.367Z"
   },
   {
    "duration": 17420,
    "start_time": "2021-10-08T06:53:10.623Z"
   },
   {
    "duration": 26,
    "start_time": "2021-10-08T06:53:28.045Z"
   },
   {
    "duration": 205,
    "start_time": "2021-10-08T06:53:28.074Z"
   },
   {
    "duration": 106,
    "start_time": "2021-10-08T06:53:28.281Z"
   },
   {
    "duration": 427,
    "start_time": "2021-10-08T06:53:28.389Z"
   },
   {
    "duration": -66,
    "start_time": "2021-10-08T06:53:28.884Z"
   },
   {
    "duration": -81,
    "start_time": "2021-10-08T06:53:28.900Z"
   },
   {
    "duration": 26,
    "start_time": "2021-10-08T06:56:27.984Z"
   },
   {
    "duration": 11,
    "start_time": "2021-10-08T07:02:04.359Z"
   },
   {
    "duration": 27,
    "start_time": "2021-10-08T07:03:47.873Z"
   },
   {
    "duration": 8,
    "start_time": "2021-10-08T07:03:47.904Z"
   },
   {
    "duration": 110,
    "start_time": "2021-10-08T07:03:47.915Z"
   },
   {
    "duration": 13,
    "start_time": "2021-10-08T07:03:48.028Z"
   },
   {
    "duration": 117,
    "start_time": "2021-10-08T07:03:48.043Z"
   },
   {
    "duration": 196,
    "start_time": "2021-10-08T07:03:48.164Z"
   },
   {
    "duration": 11,
    "start_time": "2021-10-08T07:04:40.106Z"
   },
   {
    "duration": 11,
    "start_time": "2021-10-08T07:04:51.017Z"
   },
   {
    "duration": 11,
    "start_time": "2021-10-08T07:05:20.098Z"
   },
   {
    "duration": 11,
    "start_time": "2021-10-08T07:05:30.550Z"
   },
   {
    "duration": 25,
    "start_time": "2021-10-08T07:05:49.791Z"
   },
   {
    "duration": 7,
    "start_time": "2021-10-08T07:05:49.819Z"
   },
   {
    "duration": 89,
    "start_time": "2021-10-08T07:05:49.829Z"
   },
   {
    "duration": 13,
    "start_time": "2021-10-08T07:05:49.920Z"
   },
   {
    "duration": 39,
    "start_time": "2021-10-08T07:05:49.935Z"
   },
   {
    "duration": 185,
    "start_time": "2021-10-08T07:05:49.977Z"
   },
   {
    "duration": 12102,
    "start_time": "2021-10-09T09:30:58.994Z"
   },
   {
    "duration": 1695,
    "start_time": "2021-10-09T09:31:11.099Z"
   },
   {
    "duration": 56,
    "start_time": "2021-10-09T09:31:12.796Z"
   },
   {
    "duration": 18,
    "start_time": "2021-10-09T09:31:12.854Z"
   },
   {
    "duration": 85,
    "start_time": "2021-10-09T09:31:12.874Z"
   },
   {
    "duration": 591,
    "start_time": "2021-10-09T09:31:12.961Z"
   },
   {
    "duration": 6,
    "start_time": "2021-10-09T09:31:13.555Z"
   },
   {
    "duration": 40,
    "start_time": "2021-10-09T09:31:13.565Z"
   },
   {
    "duration": 17,
    "start_time": "2021-10-09T09:31:13.608Z"
   },
   {
    "duration": 6,
    "start_time": "2021-10-09T09:31:13.627Z"
   },
   {
    "duration": 19,
    "start_time": "2021-10-09T09:31:13.636Z"
   },
   {
    "duration": 47,
    "start_time": "2021-10-09T09:31:13.657Z"
   },
   {
    "duration": 17,
    "start_time": "2021-10-09T09:31:13.706Z"
   },
   {
    "duration": 13,
    "start_time": "2021-10-09T09:31:13.726Z"
   },
   {
    "duration": 17,
    "start_time": "2021-10-09T09:31:13.741Z"
   },
   {
    "duration": 18,
    "start_time": "2021-10-09T09:31:13.760Z"
   },
   {
    "duration": 51,
    "start_time": "2021-10-09T09:31:13.781Z"
   },
   {
    "duration": 19,
    "start_time": "2021-10-09T09:31:13.835Z"
   },
   {
    "duration": 559,
    "start_time": "2021-10-09T09:31:13.856Z"
   },
   {
    "duration": 8,
    "start_time": "2021-10-09T09:31:14.417Z"
   },
   {
    "duration": 32523,
    "start_time": "2021-10-09T09:31:14.427Z"
   },
   {
    "duration": 54,
    "start_time": "2021-10-09T09:31:46.952Z"
   },
   {
    "duration": 604,
    "start_time": "2021-10-09T09:31:47.103Z"
   },
   {
    "duration": 31674,
    "start_time": "2021-10-09T09:31:47.709Z"
   },
   {
    "duration": 35,
    "start_time": "2021-10-09T09:32:19.386Z"
   },
   {
    "duration": 99,
    "start_time": "2021-10-09T09:32:19.502Z"
   },
   {
    "duration": 31,
    "start_time": "2021-10-09T09:32:19.604Z"
   },
   {
    "duration": 784,
    "start_time": "2021-10-09T09:32:19.638Z"
   },
   {
    "duration": 3046,
    "start_time": "2021-10-09T09:33:26.806Z"
   },
   {
    "duration": 7,
    "start_time": "2021-10-09T09:33:29.857Z"
   },
   {
    "duration": 64,
    "start_time": "2021-10-09T09:33:29.867Z"
   },
   {
    "duration": 19,
    "start_time": "2021-10-09T09:33:29.934Z"
   },
   {
    "duration": 90,
    "start_time": "2021-10-09T09:33:29.956Z"
   },
   {
    "duration": 20,
    "start_time": "2021-10-09T09:33:30.049Z"
   },
   {
    "duration": 5,
    "start_time": "2021-10-09T09:33:30.072Z"
   },
   {
    "duration": 22,
    "start_time": "2021-10-09T09:33:30.101Z"
   },
   {
    "duration": 20,
    "start_time": "2021-10-09T09:33:30.126Z"
   },
   {
    "duration": 5,
    "start_time": "2021-10-09T09:33:30.149Z"
   },
   {
    "duration": 53,
    "start_time": "2021-10-09T09:33:30.157Z"
   },
   {
    "duration": 21,
    "start_time": "2021-10-09T09:33:30.213Z"
   },
   {
    "duration": 28,
    "start_time": "2021-10-09T09:33:30.236Z"
   },
   {
    "duration": 20,
    "start_time": "2021-10-09T09:33:30.267Z"
   },
   {
    "duration": 16,
    "start_time": "2021-10-09T09:33:30.290Z"
   },
   {
    "duration": 14,
    "start_time": "2021-10-09T09:33:30.308Z"
   },
   {
    "duration": 46,
    "start_time": "2021-10-09T09:33:30.325Z"
   },
   {
    "duration": 30,
    "start_time": "2021-10-09T09:33:30.373Z"
   },
   {
    "duration": 547,
    "start_time": "2021-10-09T09:33:30.405Z"
   },
   {
    "duration": 8,
    "start_time": "2021-10-09T09:33:30.954Z"
   },
   {
    "duration": 32052,
    "start_time": "2021-10-09T09:33:30.964Z"
   },
   {
    "duration": 18,
    "start_time": "2021-10-09T09:34:03.019Z"
   },
   {
    "duration": 62,
    "start_time": "2021-10-09T09:34:03.040Z"
   },
   {
    "duration": 102,
    "start_time": "2021-10-09T09:34:03.106Z"
   },
   {
    "duration": 600,
    "start_time": "2021-10-09T09:34:03.301Z"
   },
   {
    "duration": 32738,
    "start_time": "2021-10-09T09:34:03.903Z"
   },
   {
    "duration": 67,
    "start_time": "2021-10-09T09:34:36.643Z"
   },
   {
    "duration": 7,
    "start_time": "2021-10-09T09:34:36.801Z"
   },
   {
    "duration": 14,
    "start_time": "2021-10-09T09:34:36.810Z"
   },
   {
    "duration": 762,
    "start_time": "2021-10-09T09:34:36.827Z"
   },
   {
    "duration": 45278,
    "start_time": "2021-10-09T09:34:37.594Z"
   },
   {
    "duration": 43,
    "start_time": "2021-10-09T09:35:22.875Z"
   },
   {
    "duration": 109,
    "start_time": "2021-10-09T09:35:23.002Z"
   },
   {
    "duration": 268,
    "start_time": "2021-10-09T09:35:23.113Z"
   },
   {
    "duration": 19161,
    "start_time": "2021-10-09T09:35:23.384Z"
   },
   {
    "duration": 56,
    "start_time": "2021-10-09T09:35:42.547Z"
   },
   {
    "duration": 117,
    "start_time": "2021-10-09T09:35:42.607Z"
   },
   {
    "duration": 9,
    "start_time": "2021-10-09T09:35:42.726Z"
   },
   {
    "duration": 122,
    "start_time": "2021-10-09T09:35:42.737Z"
   },
   {
    "duration": 13,
    "start_time": "2021-10-09T09:35:42.861Z"
   },
   {
    "duration": 47,
    "start_time": "2021-10-09T09:35:42.876Z"
   },
   {
    "duration": 82,
    "start_time": "2021-10-09T09:35:42.927Z"
   }
  ],
  "kernelspec": {
   "display_name": "Python 3",
   "language": "python",
   "name": "python3"
  },
  "language_info": {
   "codemirror_mode": {
    "name": "ipython",
    "version": 3
   },
   "file_extension": ".py",
   "mimetype": "text/x-python",
   "name": "python",
   "nbconvert_exporter": "python",
   "pygments_lexer": "ipython3",
   "version": "3.7.8"
  },
  "toc": {
   "base_numbering": 1,
   "nav_menu": {},
   "number_sections": true,
   "sideBar": true,
   "skip_h1_title": true,
   "title_cell": "Table of Contents",
   "title_sidebar": "Contents",
   "toc_cell": false,
   "toc_position": {
    "height": "calc(100% - 180px)",
    "left": "10px",
    "top": "150px",
    "width": "240px"
   },
   "toc_section_display": true,
   "toc_window_display": true
  }
 },
 "nbformat": 4,
 "nbformat_minor": 2
}
