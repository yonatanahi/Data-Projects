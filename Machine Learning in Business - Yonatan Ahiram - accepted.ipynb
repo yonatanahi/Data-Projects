{
 "cells": [
  {
   "cell_type": "markdown",
   "metadata": {},
   "source": [
    "**Review**\n",
    "\t  \n",
    "Hi, my name is Dmitry and I will be reviewing your project.\n",
    "  \n",
    "You can find my comments in colored markdown cells:\n",
    "  \n",
    "<div class=\"alert alert-success\">\n",
    "  If everything is done successfully.\n",
    "</div>\n",
    "  \n",
    "<div class=\"alert alert-warning\">\n",
    "  If I have some (optional) suggestions, or questions to think about, or general comments.\n",
    "</div>\n",
    "  \n",
    "<div class=\"alert alert-danger\">\n",
    "  If a section requires some corrections. Work can't be accepted with red comments.\n",
    "</div>\n",
    "  \n",
    "Please don't remove my comments, as it will make further review iterations much harder for me.\n",
    "  \n",
    "Feel free to reply to my comments or ask questions using the following template:\n",
    "  \n",
    "<div class=\"alert alert-info\">\n",
    "  For your comments and questions.\n",
    "</div>\n",
    "  \n",
    "First of all, thank you for turning in the project! You did an excellent job! The project is accepted. Keep up the good work on the next sprint!"
   ]
  },
  {
   "cell_type": "markdown",
   "metadata": {},
   "source": [
    "# Project description\n",
    "You work for the OilyGiant mining company. Your task is to find the best place for a new well.\n",
    "\n",
    "Steps to choose the location:\n",
    "\n",
    "* Collect the oil well parameters in the selected region: oil quality and volume of reserves;\n",
    "* Build a model for predicting the volume of reserves in the new wells;\n",
    "* Pick the oil wells with the highest estimated values;\n",
    "* Pick the region with the highest total profit for the selected oil wells.\n",
    "\n",
    "You have data on oil samples from three regions. Parameters of each oil well in the region are already known. Build a model that will help to pick the region with the highest profit margin. Analyze potential profit and risks using the Bootstrapping technique.\n",
    "\n",
    "\n",
    "## Data description\n",
    "Geological exploration data for the three regions are stored in files:\n",
    "\n",
    "* `geo_data_0.csv`. \n",
    "* `geo_data_1.csv`. \n",
    "* `geo_data_2.csv`. \n",
    "* *id* — unique oil well identifier\n",
    "* *f0, f1, f2* — three features of points (their specific meaning is unimportant, but the features themselves are significant)\n",
    "* *product* — volume of reserves in the oil well (thousand barrels).\n",
    "\n",
    "### Conditions:\n",
    "\n",
    "* Only linear regression is suitable for model training (the rest are not sufficiently predictable).\n",
    "* When exploring the region, a study of 500 points is carried with picking the best 200 points for the profit calculation.\n",
    "* The budget for development of 200 oil wells is 100 USD million.\n",
    "* One barrel of raw materials brings 4.5 USD of revenue. The revenue from one unit of product is 4,500 dollars (volume of reserves is in thousand barrels).\n",
    "* After the risk evaluation, keep only the regions with the risk of losses lower than 2.5%.  From the ones that fit the criteria, the region with the highest average profit should be selected.\n",
    "\n",
    "The data is synthetic: contract details and well characteristics are not disclosed.\n"
   ]
  },
  {
   "cell_type": "markdown",
   "metadata": {},
   "source": [
    "## Project instructions\n",
    "\n",
    "### Download and prepare the data. Explain the procedure."
   ]
  },
  {
   "cell_type": "code",
   "execution_count": 1,
   "metadata": {},
   "outputs": [
    {
     "name": "stdout",
     "output_type": "stream",
     "text": [
      "Defaulting to user installation because normal site-packages is not writeable\n",
      "Collecting sidetable\n",
      "  Downloading sidetable-0.9.0-py3-none-any.whl (17 kB)\n",
      "Collecting pandas>=1.0\n",
      "  Downloading pandas-1.3.3-cp37-cp37m-manylinux_2_17_x86_64.manylinux2014_x86_64.whl (11.3 MB)\n",
      "\u001b[K     |████████████████████████████████| 11.3 MB 1.5 MB/s eta 0:00:01\n",
      "\u001b[?25hRequirement already satisfied: numpy>=1.17.3 in /opt/conda/lib/python3.7/site-packages (from pandas>=1.0->sidetable) (1.19.5)\n",
      "Requirement already satisfied: python-dateutil>=2.7.3 in /opt/conda/lib/python3.7/site-packages (from pandas>=1.0->sidetable) (2.8.1)\n",
      "Requirement already satisfied: pytz>=2017.3 in /opt/conda/lib/python3.7/site-packages (from pandas>=1.0->sidetable) (2021.1)\n",
      "Requirement already satisfied: six>=1.5 in /opt/conda/lib/python3.7/site-packages (from python-dateutil>=2.7.3->pandas>=1.0->sidetable) (1.15.0)\n",
      "Installing collected packages: pandas, sidetable\n",
      "Successfully installed pandas-1.3.3 sidetable-0.9.0\n"
     ]
    }
   ],
   "source": [
    "! pip install sidetable"
   ]
  },
  {
   "cell_type": "markdown",
   "metadata": {},
   "source": [
    "#### Imports"
   ]
  },
  {
   "cell_type": "code",
   "execution_count": 2,
   "metadata": {},
   "outputs": [],
   "source": [
    "import pandas as pd\n",
    "import numpy as np\n",
    "import sidetable as stb\n",
    "import math\n",
    "import matplotlib.pyplot as plt\n",
    "from sklearn.preprocessing import StandardScaler\n",
    "from sklearn.model_selection import train_test_split\n",
    "from sklearn.linear_model import LinearRegression\n",
    "from sklearn.metrics import mean_squared_error\n",
    "import sys\n",
    "import warnings\n",
    "if not sys.warnoptions:\n",
    "    warnings.simplefilter(\"ignore\")"
   ]
  },
  {
   "cell_type": "code",
   "execution_count": 3,
   "metadata": {},
   "outputs": [],
   "source": [
    "geo_data = []\n",
    "\n",
    "for i in range(3):    \n",
    "    geo_data.append(pd.read_csv('/datasets/geo_data_{}.csv'.format(i)))\n"
   ]
  },
  {
   "cell_type": "markdown",
   "metadata": {},
   "source": [
    "#### Data samples"
   ]
  },
  {
   "cell_type": "code",
   "execution_count": 4,
   "metadata": {
    "scrolled": false
   },
   "outputs": [
    {
     "data": {
      "text/html": [
       "<div>\n",
       "<style scoped>\n",
       "    .dataframe tbody tr th:only-of-type {\n",
       "        vertical-align: middle;\n",
       "    }\n",
       "\n",
       "    .dataframe tbody tr th {\n",
       "        vertical-align: top;\n",
       "    }\n",
       "\n",
       "    .dataframe thead th {\n",
       "        text-align: right;\n",
       "    }\n",
       "</style>\n",
       "<table border=\"1\" class=\"dataframe\">\n",
       "  <thead>\n",
       "    <tr style=\"text-align: right;\">\n",
       "      <th></th>\n",
       "      <th>id</th>\n",
       "      <th>f0</th>\n",
       "      <th>f1</th>\n",
       "      <th>f2</th>\n",
       "      <th>product</th>\n",
       "    </tr>\n",
       "  </thead>\n",
       "  <tbody>\n",
       "    <tr>\n",
       "      <th>0</th>\n",
       "      <td>txEyH</td>\n",
       "      <td>0.705745</td>\n",
       "      <td>-0.497823</td>\n",
       "      <td>1.22117</td>\n",
       "      <td>105.280062</td>\n",
       "    </tr>\n",
       "  </tbody>\n",
       "</table>\n",
       "</div>"
      ],
      "text/plain": [
       "      id        f0        f1       f2     product\n",
       "0  txEyH  0.705745 -0.497823  1.22117  105.280062"
      ]
     },
     "metadata": {},
     "output_type": "display_data"
    },
    {
     "data": {
      "text/html": [
       "<div>\n",
       "<style scoped>\n",
       "    .dataframe tbody tr th:only-of-type {\n",
       "        vertical-align: middle;\n",
       "    }\n",
       "\n",
       "    .dataframe tbody tr th {\n",
       "        vertical-align: top;\n",
       "    }\n",
       "\n",
       "    .dataframe thead th {\n",
       "        text-align: right;\n",
       "    }\n",
       "</style>\n",
       "<table border=\"1\" class=\"dataframe\">\n",
       "  <thead>\n",
       "    <tr style=\"text-align: right;\">\n",
       "      <th></th>\n",
       "      <th>id</th>\n",
       "      <th>f0</th>\n",
       "      <th>f1</th>\n",
       "      <th>f2</th>\n",
       "      <th>product</th>\n",
       "    </tr>\n",
       "  </thead>\n",
       "  <tbody>\n",
       "    <tr>\n",
       "      <th>0</th>\n",
       "      <td>kBEdx</td>\n",
       "      <td>-15.001348</td>\n",
       "      <td>-8.276</td>\n",
       "      <td>-0.005876</td>\n",
       "      <td>3.179103</td>\n",
       "    </tr>\n",
       "  </tbody>\n",
       "</table>\n",
       "</div>"
      ],
      "text/plain": [
       "      id         f0     f1        f2   product\n",
       "0  kBEdx -15.001348 -8.276 -0.005876  3.179103"
      ]
     },
     "metadata": {},
     "output_type": "display_data"
    },
    {
     "data": {
      "text/html": [
       "<div>\n",
       "<style scoped>\n",
       "    .dataframe tbody tr th:only-of-type {\n",
       "        vertical-align: middle;\n",
       "    }\n",
       "\n",
       "    .dataframe tbody tr th {\n",
       "        vertical-align: top;\n",
       "    }\n",
       "\n",
       "    .dataframe thead th {\n",
       "        text-align: right;\n",
       "    }\n",
       "</style>\n",
       "<table border=\"1\" class=\"dataframe\">\n",
       "  <thead>\n",
       "    <tr style=\"text-align: right;\">\n",
       "      <th></th>\n",
       "      <th>id</th>\n",
       "      <th>f0</th>\n",
       "      <th>f1</th>\n",
       "      <th>f2</th>\n",
       "      <th>product</th>\n",
       "    </tr>\n",
       "  </thead>\n",
       "  <tbody>\n",
       "    <tr>\n",
       "      <th>0</th>\n",
       "      <td>fwXo0</td>\n",
       "      <td>-1.146987</td>\n",
       "      <td>0.963328</td>\n",
       "      <td>-0.828965</td>\n",
       "      <td>27.758673</td>\n",
       "    </tr>\n",
       "  </tbody>\n",
       "</table>\n",
       "</div>"
      ],
      "text/plain": [
       "      id        f0        f1        f2    product\n",
       "0  fwXo0 -1.146987  0.963328 -0.828965  27.758673"
      ]
     },
     "metadata": {},
     "output_type": "display_data"
    }
   ],
   "source": [
    "for data in geo_data:\n",
    "    display(data.head(1))"
   ]
  },
  {
   "cell_type": "markdown",
   "metadata": {},
   "source": [
    "First look into the data."
   ]
  },
  {
   "cell_type": "markdown",
   "metadata": {},
   "source": [
    "#### Data Infos"
   ]
  },
  {
   "cell_type": "code",
   "execution_count": 5,
   "metadata": {},
   "outputs": [
    {
     "name": "stdout",
     "output_type": "stream",
     "text": [
      "<class 'pandas.core.frame.DataFrame'>\n",
      "RangeIndex: 100000 entries, 0 to 99999\n",
      "Data columns (total 5 columns):\n",
      " #   Column   Non-Null Count   Dtype  \n",
      "---  ------   --------------   -----  \n",
      " 0   id       100000 non-null  object \n",
      " 1   f0       100000 non-null  float64\n",
      " 2   f1       100000 non-null  float64\n",
      " 3   f2       100000 non-null  float64\n",
      " 4   product  100000 non-null  float64\n",
      "dtypes: float64(4), object(1)\n",
      "memory usage: 3.8+ MB\n"
     ]
    },
    {
     "data": {
      "text/plain": [
       "None"
      ]
     },
     "metadata": {},
     "output_type": "display_data"
    },
    {
     "name": "stdout",
     "output_type": "stream",
     "text": [
      "<class 'pandas.core.frame.DataFrame'>\n",
      "RangeIndex: 100000 entries, 0 to 99999\n",
      "Data columns (total 5 columns):\n",
      " #   Column   Non-Null Count   Dtype  \n",
      "---  ------   --------------   -----  \n",
      " 0   id       100000 non-null  object \n",
      " 1   f0       100000 non-null  float64\n",
      " 2   f1       100000 non-null  float64\n",
      " 3   f2       100000 non-null  float64\n",
      " 4   product  100000 non-null  float64\n",
      "dtypes: float64(4), object(1)\n",
      "memory usage: 3.8+ MB\n"
     ]
    },
    {
     "data": {
      "text/plain": [
       "None"
      ]
     },
     "metadata": {},
     "output_type": "display_data"
    },
    {
     "name": "stdout",
     "output_type": "stream",
     "text": [
      "<class 'pandas.core.frame.DataFrame'>\n",
      "RangeIndex: 100000 entries, 0 to 99999\n",
      "Data columns (total 5 columns):\n",
      " #   Column   Non-Null Count   Dtype  \n",
      "---  ------   --------------   -----  \n",
      " 0   id       100000 non-null  object \n",
      " 1   f0       100000 non-null  float64\n",
      " 2   f1       100000 non-null  float64\n",
      " 3   f2       100000 non-null  float64\n",
      " 4   product  100000 non-null  float64\n",
      "dtypes: float64(4), object(1)\n",
      "memory usage: 3.8+ MB\n"
     ]
    },
    {
     "data": {
      "text/plain": [
       "None"
      ]
     },
     "metadata": {},
     "output_type": "display_data"
    }
   ],
   "source": [
    "for data in geo_data:\n",
    "    display(data.info())"
   ]
  },
  {
   "cell_type": "markdown",
   "metadata": {},
   "source": [
    "The data types looks OK."
   ]
  },
  {
   "cell_type": "markdown",
   "metadata": {},
   "source": [
    "#### Data description"
   ]
  },
  {
   "cell_type": "code",
   "execution_count": 6,
   "metadata": {},
   "outputs": [
    {
     "data": {
      "text/html": [
       "<div>\n",
       "<style scoped>\n",
       "    .dataframe tbody tr th:only-of-type {\n",
       "        vertical-align: middle;\n",
       "    }\n",
       "\n",
       "    .dataframe tbody tr th {\n",
       "        vertical-align: top;\n",
       "    }\n",
       "\n",
       "    .dataframe thead th {\n",
       "        text-align: right;\n",
       "    }\n",
       "</style>\n",
       "<table border=\"1\" class=\"dataframe\">\n",
       "  <thead>\n",
       "    <tr style=\"text-align: right;\">\n",
       "      <th></th>\n",
       "      <th>f0</th>\n",
       "      <th>f1</th>\n",
       "      <th>f2</th>\n",
       "      <th>product</th>\n",
       "    </tr>\n",
       "  </thead>\n",
       "  <tbody>\n",
       "    <tr>\n",
       "      <th>count</th>\n",
       "      <td>100000.000000</td>\n",
       "      <td>100000.000000</td>\n",
       "      <td>100000.000000</td>\n",
       "      <td>100000.000000</td>\n",
       "    </tr>\n",
       "    <tr>\n",
       "      <th>mean</th>\n",
       "      <td>0.500419</td>\n",
       "      <td>0.250143</td>\n",
       "      <td>2.502647</td>\n",
       "      <td>92.500000</td>\n",
       "    </tr>\n",
       "    <tr>\n",
       "      <th>std</th>\n",
       "      <td>0.871832</td>\n",
       "      <td>0.504433</td>\n",
       "      <td>3.248248</td>\n",
       "      <td>44.288691</td>\n",
       "    </tr>\n",
       "    <tr>\n",
       "      <th>min</th>\n",
       "      <td>-1.408605</td>\n",
       "      <td>-0.848218</td>\n",
       "      <td>-12.088328</td>\n",
       "      <td>0.000000</td>\n",
       "    </tr>\n",
       "    <tr>\n",
       "      <th>25%</th>\n",
       "      <td>-0.072580</td>\n",
       "      <td>-0.200881</td>\n",
       "      <td>0.287748</td>\n",
       "      <td>56.497507</td>\n",
       "    </tr>\n",
       "    <tr>\n",
       "      <th>50%</th>\n",
       "      <td>0.502360</td>\n",
       "      <td>0.250252</td>\n",
       "      <td>2.515969</td>\n",
       "      <td>91.849972</td>\n",
       "    </tr>\n",
       "    <tr>\n",
       "      <th>75%</th>\n",
       "      <td>1.073581</td>\n",
       "      <td>0.700646</td>\n",
       "      <td>4.715088</td>\n",
       "      <td>128.564089</td>\n",
       "    </tr>\n",
       "    <tr>\n",
       "      <th>max</th>\n",
       "      <td>2.362331</td>\n",
       "      <td>1.343769</td>\n",
       "      <td>16.003790</td>\n",
       "      <td>185.364347</td>\n",
       "    </tr>\n",
       "  </tbody>\n",
       "</table>\n",
       "</div>"
      ],
      "text/plain": [
       "                  f0             f1             f2        product\n",
       "count  100000.000000  100000.000000  100000.000000  100000.000000\n",
       "mean        0.500419       0.250143       2.502647      92.500000\n",
       "std         0.871832       0.504433       3.248248      44.288691\n",
       "min        -1.408605      -0.848218     -12.088328       0.000000\n",
       "25%        -0.072580      -0.200881       0.287748      56.497507\n",
       "50%         0.502360       0.250252       2.515969      91.849972\n",
       "75%         1.073581       0.700646       4.715088     128.564089\n",
       "max         2.362331       1.343769      16.003790     185.364347"
      ]
     },
     "metadata": {},
     "output_type": "display_data"
    },
    {
     "data": {
      "text/html": [
       "<div>\n",
       "<style scoped>\n",
       "    .dataframe tbody tr th:only-of-type {\n",
       "        vertical-align: middle;\n",
       "    }\n",
       "\n",
       "    .dataframe tbody tr th {\n",
       "        vertical-align: top;\n",
       "    }\n",
       "\n",
       "    .dataframe thead th {\n",
       "        text-align: right;\n",
       "    }\n",
       "</style>\n",
       "<table border=\"1\" class=\"dataframe\">\n",
       "  <thead>\n",
       "    <tr style=\"text-align: right;\">\n",
       "      <th></th>\n",
       "      <th>f0</th>\n",
       "      <th>f1</th>\n",
       "      <th>f2</th>\n",
       "      <th>product</th>\n",
       "    </tr>\n",
       "  </thead>\n",
       "  <tbody>\n",
       "    <tr>\n",
       "      <th>count</th>\n",
       "      <td>100000.000000</td>\n",
       "      <td>100000.000000</td>\n",
       "      <td>100000.000000</td>\n",
       "      <td>100000.000000</td>\n",
       "    </tr>\n",
       "    <tr>\n",
       "      <th>mean</th>\n",
       "      <td>1.141296</td>\n",
       "      <td>-4.796579</td>\n",
       "      <td>2.494541</td>\n",
       "      <td>68.825000</td>\n",
       "    </tr>\n",
       "    <tr>\n",
       "      <th>std</th>\n",
       "      <td>8.965932</td>\n",
       "      <td>5.119872</td>\n",
       "      <td>1.703572</td>\n",
       "      <td>45.944423</td>\n",
       "    </tr>\n",
       "    <tr>\n",
       "      <th>min</th>\n",
       "      <td>-31.609576</td>\n",
       "      <td>-26.358598</td>\n",
       "      <td>-0.018144</td>\n",
       "      <td>0.000000</td>\n",
       "    </tr>\n",
       "    <tr>\n",
       "      <th>25%</th>\n",
       "      <td>-6.298551</td>\n",
       "      <td>-8.267985</td>\n",
       "      <td>1.000021</td>\n",
       "      <td>26.953261</td>\n",
       "    </tr>\n",
       "    <tr>\n",
       "      <th>50%</th>\n",
       "      <td>1.153055</td>\n",
       "      <td>-4.813172</td>\n",
       "      <td>2.011479</td>\n",
       "      <td>57.085625</td>\n",
       "    </tr>\n",
       "    <tr>\n",
       "      <th>75%</th>\n",
       "      <td>8.621015</td>\n",
       "      <td>-1.332816</td>\n",
       "      <td>3.999904</td>\n",
       "      <td>107.813044</td>\n",
       "    </tr>\n",
       "    <tr>\n",
       "      <th>max</th>\n",
       "      <td>29.421755</td>\n",
       "      <td>18.734063</td>\n",
       "      <td>5.019721</td>\n",
       "      <td>137.945408</td>\n",
       "    </tr>\n",
       "  </tbody>\n",
       "</table>\n",
       "</div>"
      ],
      "text/plain": [
       "                  f0             f1             f2        product\n",
       "count  100000.000000  100000.000000  100000.000000  100000.000000\n",
       "mean        1.141296      -4.796579       2.494541      68.825000\n",
       "std         8.965932       5.119872       1.703572      45.944423\n",
       "min       -31.609576     -26.358598      -0.018144       0.000000\n",
       "25%        -6.298551      -8.267985       1.000021      26.953261\n",
       "50%         1.153055      -4.813172       2.011479      57.085625\n",
       "75%         8.621015      -1.332816       3.999904     107.813044\n",
       "max        29.421755      18.734063       5.019721     137.945408"
      ]
     },
     "metadata": {},
     "output_type": "display_data"
    },
    {
     "data": {
      "text/html": [
       "<div>\n",
       "<style scoped>\n",
       "    .dataframe tbody tr th:only-of-type {\n",
       "        vertical-align: middle;\n",
       "    }\n",
       "\n",
       "    .dataframe tbody tr th {\n",
       "        vertical-align: top;\n",
       "    }\n",
       "\n",
       "    .dataframe thead th {\n",
       "        text-align: right;\n",
       "    }\n",
       "</style>\n",
       "<table border=\"1\" class=\"dataframe\">\n",
       "  <thead>\n",
       "    <tr style=\"text-align: right;\">\n",
       "      <th></th>\n",
       "      <th>f0</th>\n",
       "      <th>f1</th>\n",
       "      <th>f2</th>\n",
       "      <th>product</th>\n",
       "    </tr>\n",
       "  </thead>\n",
       "  <tbody>\n",
       "    <tr>\n",
       "      <th>count</th>\n",
       "      <td>100000.000000</td>\n",
       "      <td>100000.000000</td>\n",
       "      <td>100000.000000</td>\n",
       "      <td>100000.000000</td>\n",
       "    </tr>\n",
       "    <tr>\n",
       "      <th>mean</th>\n",
       "      <td>0.002023</td>\n",
       "      <td>-0.002081</td>\n",
       "      <td>2.495128</td>\n",
       "      <td>95.000000</td>\n",
       "    </tr>\n",
       "    <tr>\n",
       "      <th>std</th>\n",
       "      <td>1.732045</td>\n",
       "      <td>1.730417</td>\n",
       "      <td>3.473445</td>\n",
       "      <td>44.749921</td>\n",
       "    </tr>\n",
       "    <tr>\n",
       "      <th>min</th>\n",
       "      <td>-8.760004</td>\n",
       "      <td>-7.084020</td>\n",
       "      <td>-11.970335</td>\n",
       "      <td>0.000000</td>\n",
       "    </tr>\n",
       "    <tr>\n",
       "      <th>25%</th>\n",
       "      <td>-1.162288</td>\n",
       "      <td>-1.174820</td>\n",
       "      <td>0.130359</td>\n",
       "      <td>59.450441</td>\n",
       "    </tr>\n",
       "    <tr>\n",
       "      <th>50%</th>\n",
       "      <td>0.009424</td>\n",
       "      <td>-0.009482</td>\n",
       "      <td>2.484236</td>\n",
       "      <td>94.925613</td>\n",
       "    </tr>\n",
       "    <tr>\n",
       "      <th>75%</th>\n",
       "      <td>1.158535</td>\n",
       "      <td>1.163678</td>\n",
       "      <td>4.858794</td>\n",
       "      <td>130.595027</td>\n",
       "    </tr>\n",
       "    <tr>\n",
       "      <th>max</th>\n",
       "      <td>7.238262</td>\n",
       "      <td>7.844801</td>\n",
       "      <td>16.739402</td>\n",
       "      <td>190.029838</td>\n",
       "    </tr>\n",
       "  </tbody>\n",
       "</table>\n",
       "</div>"
      ],
      "text/plain": [
       "                  f0             f1             f2        product\n",
       "count  100000.000000  100000.000000  100000.000000  100000.000000\n",
       "mean        0.002023      -0.002081       2.495128      95.000000\n",
       "std         1.732045       1.730417       3.473445      44.749921\n",
       "min        -8.760004      -7.084020     -11.970335       0.000000\n",
       "25%        -1.162288      -1.174820       0.130359      59.450441\n",
       "50%         0.009424      -0.009482       2.484236      94.925613\n",
       "75%         1.158535       1.163678       4.858794     130.595027\n",
       "max         7.238262       7.844801      16.739402     190.029838"
      ]
     },
     "metadata": {},
     "output_type": "display_data"
    }
   ],
   "source": [
    "for data in geo_data:\n",
    "    display(data.describe())"
   ]
  },
  {
   "cell_type": "markdown",
   "metadata": {},
   "source": [
    "Descriptive statistics looks good."
   ]
  },
  {
   "cell_type": "markdown",
   "metadata": {},
   "source": [
    "#### Missing values"
   ]
  },
  {
   "cell_type": "code",
   "execution_count": 7,
   "metadata": {},
   "outputs": [
    {
     "data": {
      "text/html": [
       "<style type=\"text/css\">\n",
       "</style>\n",
       "<table id=\"T_e1658_\">\n",
       "  <thead>\n",
       "    <tr>\n",
       "      <th class=\"blank level0\" >&nbsp;</th>\n",
       "      <th class=\"col_heading level0 col0\" >missing</th>\n",
       "      <th class=\"col_heading level0 col1\" >total</th>\n",
       "      <th class=\"col_heading level0 col2\" >percent</th>\n",
       "    </tr>\n",
       "  </thead>\n",
       "  <tbody>\n",
       "    <tr>\n",
       "      <th id=\"T_e1658_level0_row0\" class=\"row_heading level0 row0\" >id</th>\n",
       "      <td id=\"T_e1658_row0_col0\" class=\"data row0 col0\" >0</td>\n",
       "      <td id=\"T_e1658_row0_col1\" class=\"data row0 col1\" >100,000</td>\n",
       "      <td id=\"T_e1658_row0_col2\" class=\"data row0 col2\" >0.00%</td>\n",
       "    </tr>\n",
       "    <tr>\n",
       "      <th id=\"T_e1658_level0_row1\" class=\"row_heading level0 row1\" >f0</th>\n",
       "      <td id=\"T_e1658_row1_col0\" class=\"data row1 col0\" >0</td>\n",
       "      <td id=\"T_e1658_row1_col1\" class=\"data row1 col1\" >100,000</td>\n",
       "      <td id=\"T_e1658_row1_col2\" class=\"data row1 col2\" >0.00%</td>\n",
       "    </tr>\n",
       "    <tr>\n",
       "      <th id=\"T_e1658_level0_row2\" class=\"row_heading level0 row2\" >f1</th>\n",
       "      <td id=\"T_e1658_row2_col0\" class=\"data row2 col0\" >0</td>\n",
       "      <td id=\"T_e1658_row2_col1\" class=\"data row2 col1\" >100,000</td>\n",
       "      <td id=\"T_e1658_row2_col2\" class=\"data row2 col2\" >0.00%</td>\n",
       "    </tr>\n",
       "    <tr>\n",
       "      <th id=\"T_e1658_level0_row3\" class=\"row_heading level0 row3\" >f2</th>\n",
       "      <td id=\"T_e1658_row3_col0\" class=\"data row3 col0\" >0</td>\n",
       "      <td id=\"T_e1658_row3_col1\" class=\"data row3 col1\" >100,000</td>\n",
       "      <td id=\"T_e1658_row3_col2\" class=\"data row3 col2\" >0.00%</td>\n",
       "    </tr>\n",
       "    <tr>\n",
       "      <th id=\"T_e1658_level0_row4\" class=\"row_heading level0 row4\" >product</th>\n",
       "      <td id=\"T_e1658_row4_col0\" class=\"data row4 col0\" >0</td>\n",
       "      <td id=\"T_e1658_row4_col1\" class=\"data row4 col1\" >100,000</td>\n",
       "      <td id=\"T_e1658_row4_col2\" class=\"data row4 col2\" >0.00%</td>\n",
       "    </tr>\n",
       "  </tbody>\n",
       "</table>\n"
      ],
      "text/plain": [
       "<pandas.io.formats.style.Styler at 0x7fed06d2d2d0>"
      ]
     },
     "metadata": {},
     "output_type": "display_data"
    },
    {
     "data": {
      "text/html": [
       "<style type=\"text/css\">\n",
       "</style>\n",
       "<table id=\"T_b3288_\">\n",
       "  <thead>\n",
       "    <tr>\n",
       "      <th class=\"blank level0\" >&nbsp;</th>\n",
       "      <th class=\"col_heading level0 col0\" >missing</th>\n",
       "      <th class=\"col_heading level0 col1\" >total</th>\n",
       "      <th class=\"col_heading level0 col2\" >percent</th>\n",
       "    </tr>\n",
       "  </thead>\n",
       "  <tbody>\n",
       "    <tr>\n",
       "      <th id=\"T_b3288_level0_row0\" class=\"row_heading level0 row0\" >id</th>\n",
       "      <td id=\"T_b3288_row0_col0\" class=\"data row0 col0\" >0</td>\n",
       "      <td id=\"T_b3288_row0_col1\" class=\"data row0 col1\" >100,000</td>\n",
       "      <td id=\"T_b3288_row0_col2\" class=\"data row0 col2\" >0.00%</td>\n",
       "    </tr>\n",
       "    <tr>\n",
       "      <th id=\"T_b3288_level0_row1\" class=\"row_heading level0 row1\" >f0</th>\n",
       "      <td id=\"T_b3288_row1_col0\" class=\"data row1 col0\" >0</td>\n",
       "      <td id=\"T_b3288_row1_col1\" class=\"data row1 col1\" >100,000</td>\n",
       "      <td id=\"T_b3288_row1_col2\" class=\"data row1 col2\" >0.00%</td>\n",
       "    </tr>\n",
       "    <tr>\n",
       "      <th id=\"T_b3288_level0_row2\" class=\"row_heading level0 row2\" >f1</th>\n",
       "      <td id=\"T_b3288_row2_col0\" class=\"data row2 col0\" >0</td>\n",
       "      <td id=\"T_b3288_row2_col1\" class=\"data row2 col1\" >100,000</td>\n",
       "      <td id=\"T_b3288_row2_col2\" class=\"data row2 col2\" >0.00%</td>\n",
       "    </tr>\n",
       "    <tr>\n",
       "      <th id=\"T_b3288_level0_row3\" class=\"row_heading level0 row3\" >f2</th>\n",
       "      <td id=\"T_b3288_row3_col0\" class=\"data row3 col0\" >0</td>\n",
       "      <td id=\"T_b3288_row3_col1\" class=\"data row3 col1\" >100,000</td>\n",
       "      <td id=\"T_b3288_row3_col2\" class=\"data row3 col2\" >0.00%</td>\n",
       "    </tr>\n",
       "    <tr>\n",
       "      <th id=\"T_b3288_level0_row4\" class=\"row_heading level0 row4\" >product</th>\n",
       "      <td id=\"T_b3288_row4_col0\" class=\"data row4 col0\" >0</td>\n",
       "      <td id=\"T_b3288_row4_col1\" class=\"data row4 col1\" >100,000</td>\n",
       "      <td id=\"T_b3288_row4_col2\" class=\"data row4 col2\" >0.00%</td>\n",
       "    </tr>\n",
       "  </tbody>\n",
       "</table>\n"
      ],
      "text/plain": [
       "<pandas.io.formats.style.Styler at 0x7fed05cd05d0>"
      ]
     },
     "metadata": {},
     "output_type": "display_data"
    },
    {
     "data": {
      "text/html": [
       "<style type=\"text/css\">\n",
       "</style>\n",
       "<table id=\"T_28a91_\">\n",
       "  <thead>\n",
       "    <tr>\n",
       "      <th class=\"blank level0\" >&nbsp;</th>\n",
       "      <th class=\"col_heading level0 col0\" >missing</th>\n",
       "      <th class=\"col_heading level0 col1\" >total</th>\n",
       "      <th class=\"col_heading level0 col2\" >percent</th>\n",
       "    </tr>\n",
       "  </thead>\n",
       "  <tbody>\n",
       "    <tr>\n",
       "      <th id=\"T_28a91_level0_row0\" class=\"row_heading level0 row0\" >id</th>\n",
       "      <td id=\"T_28a91_row0_col0\" class=\"data row0 col0\" >0</td>\n",
       "      <td id=\"T_28a91_row0_col1\" class=\"data row0 col1\" >100,000</td>\n",
       "      <td id=\"T_28a91_row0_col2\" class=\"data row0 col2\" >0.00%</td>\n",
       "    </tr>\n",
       "    <tr>\n",
       "      <th id=\"T_28a91_level0_row1\" class=\"row_heading level0 row1\" >f0</th>\n",
       "      <td id=\"T_28a91_row1_col0\" class=\"data row1 col0\" >0</td>\n",
       "      <td id=\"T_28a91_row1_col1\" class=\"data row1 col1\" >100,000</td>\n",
       "      <td id=\"T_28a91_row1_col2\" class=\"data row1 col2\" >0.00%</td>\n",
       "    </tr>\n",
       "    <tr>\n",
       "      <th id=\"T_28a91_level0_row2\" class=\"row_heading level0 row2\" >f1</th>\n",
       "      <td id=\"T_28a91_row2_col0\" class=\"data row2 col0\" >0</td>\n",
       "      <td id=\"T_28a91_row2_col1\" class=\"data row2 col1\" >100,000</td>\n",
       "      <td id=\"T_28a91_row2_col2\" class=\"data row2 col2\" >0.00%</td>\n",
       "    </tr>\n",
       "    <tr>\n",
       "      <th id=\"T_28a91_level0_row3\" class=\"row_heading level0 row3\" >f2</th>\n",
       "      <td id=\"T_28a91_row3_col0\" class=\"data row3 col0\" >0</td>\n",
       "      <td id=\"T_28a91_row3_col1\" class=\"data row3 col1\" >100,000</td>\n",
       "      <td id=\"T_28a91_row3_col2\" class=\"data row3 col2\" >0.00%</td>\n",
       "    </tr>\n",
       "    <tr>\n",
       "      <th id=\"T_28a91_level0_row4\" class=\"row_heading level0 row4\" >product</th>\n",
       "      <td id=\"T_28a91_row4_col0\" class=\"data row4 col0\" >0</td>\n",
       "      <td id=\"T_28a91_row4_col1\" class=\"data row4 col1\" >100,000</td>\n",
       "      <td id=\"T_28a91_row4_col2\" class=\"data row4 col2\" >0.00%</td>\n",
       "    </tr>\n",
       "  </tbody>\n",
       "</table>\n"
      ],
      "text/plain": [
       "<pandas.io.formats.style.Styler at 0x7fed06d2d590>"
      ]
     },
     "metadata": {},
     "output_type": "display_data"
    }
   ],
   "source": [
    "for data in geo_data:\n",
    "    display(data.stb.missing(style=True))"
   ]
  },
  {
   "cell_type": "markdown",
   "metadata": {},
   "source": [
    "No missing values."
   ]
  },
  {
   "cell_type": "markdown",
   "metadata": {},
   "source": [
    "#### Duplicates"
   ]
  },
  {
   "cell_type": "markdown",
   "metadata": {},
   "source": [
    "Checkig duplicates for rows:"
   ]
  },
  {
   "cell_type": "code",
   "execution_count": 8,
   "metadata": {
    "scrolled": true
   },
   "outputs": [
    {
     "data": {
      "text/plain": [
       "0"
      ]
     },
     "metadata": {},
     "output_type": "display_data"
    },
    {
     "data": {
      "text/plain": [
       "0"
      ]
     },
     "metadata": {},
     "output_type": "display_data"
    },
    {
     "data": {
      "text/plain": [
       "0"
      ]
     },
     "metadata": {},
     "output_type": "display_data"
    }
   ],
   "source": [
    "for data in geo_data:\n",
    "    display(data.duplicated().sum())"
   ]
  },
  {
   "cell_type": "markdown",
   "metadata": {},
   "source": [
    "No duplicated rows."
   ]
  },
  {
   "cell_type": "markdown",
   "metadata": {},
   "source": [
    "Cheking duplicates for IDs:"
   ]
  },
  {
   "cell_type": "code",
   "execution_count": 9,
   "metadata": {},
   "outputs": [
    {
     "data": {
      "text/plain": [
       "'geo_data_0 duplicated IDs: 1.000%'"
      ]
     },
     "metadata": {},
     "output_type": "display_data"
    },
    {
     "data": {
      "text/plain": [
       "'geo_data_1 duplicated IDs: 0.400%'"
      ]
     },
     "metadata": {},
     "output_type": "display_data"
    },
    {
     "data": {
      "text/plain": [
       "'geo_data_2 duplicated IDs: 0.400%'"
      ]
     },
     "metadata": {},
     "output_type": "display_data"
    }
   ],
   "source": [
    "for i in range(3):\n",
    "    display(\"geo_data_{} duplicated IDs: {:.3%}\".format(i, geo_data[i].id.duplicated().sum() / len(geo_data[i]) * 100))\n",
    "    "
   ]
  },
  {
   "cell_type": "markdown",
   "metadata": {},
   "source": [
    "Maybe there were points which smapled more than once. Thus, We won't drop them."
   ]
  },
  {
   "cell_type": "markdown",
   "metadata": {},
   "source": [
    "#### Dropping unnecessary columns"
   ]
  },
  {
   "cell_type": "code",
   "execution_count": 10,
   "metadata": {},
   "outputs": [],
   "source": [
    "new_geo_data = []\n",
    "\n",
    "for data in geo_data:\n",
    "    new_geo_data.append(data.drop(['id'], axis = 1))"
   ]
  },
  {
   "cell_type": "code",
   "execution_count": 11,
   "metadata": {},
   "outputs": [
    {
     "data": {
      "text/html": [
       "<div>\n",
       "<style scoped>\n",
       "    .dataframe tbody tr th:only-of-type {\n",
       "        vertical-align: middle;\n",
       "    }\n",
       "\n",
       "    .dataframe tbody tr th {\n",
       "        vertical-align: top;\n",
       "    }\n",
       "\n",
       "    .dataframe thead th {\n",
       "        text-align: right;\n",
       "    }\n",
       "</style>\n",
       "<table border=\"1\" class=\"dataframe\">\n",
       "  <thead>\n",
       "    <tr style=\"text-align: right;\">\n",
       "      <th></th>\n",
       "      <th>f0</th>\n",
       "      <th>f1</th>\n",
       "      <th>f2</th>\n",
       "      <th>product</th>\n",
       "    </tr>\n",
       "  </thead>\n",
       "  <tbody>\n",
       "    <tr>\n",
       "      <th>0</th>\n",
       "      <td>0.705745</td>\n",
       "      <td>-0.497823</td>\n",
       "      <td>1.22117</td>\n",
       "      <td>105.280062</td>\n",
       "    </tr>\n",
       "  </tbody>\n",
       "</table>\n",
       "</div>"
      ],
      "text/plain": [
       "         f0        f1       f2     product\n",
       "0  0.705745 -0.497823  1.22117  105.280062"
      ]
     },
     "metadata": {},
     "output_type": "display_data"
    },
    {
     "data": {
      "text/html": [
       "<div>\n",
       "<style scoped>\n",
       "    .dataframe tbody tr th:only-of-type {\n",
       "        vertical-align: middle;\n",
       "    }\n",
       "\n",
       "    .dataframe tbody tr th {\n",
       "        vertical-align: top;\n",
       "    }\n",
       "\n",
       "    .dataframe thead th {\n",
       "        text-align: right;\n",
       "    }\n",
       "</style>\n",
       "<table border=\"1\" class=\"dataframe\">\n",
       "  <thead>\n",
       "    <tr style=\"text-align: right;\">\n",
       "      <th></th>\n",
       "      <th>f0</th>\n",
       "      <th>f1</th>\n",
       "      <th>f2</th>\n",
       "      <th>product</th>\n",
       "    </tr>\n",
       "  </thead>\n",
       "  <tbody>\n",
       "    <tr>\n",
       "      <th>0</th>\n",
       "      <td>-15.001348</td>\n",
       "      <td>-8.276</td>\n",
       "      <td>-0.005876</td>\n",
       "      <td>3.179103</td>\n",
       "    </tr>\n",
       "  </tbody>\n",
       "</table>\n",
       "</div>"
      ],
      "text/plain": [
       "          f0     f1        f2   product\n",
       "0 -15.001348 -8.276 -0.005876  3.179103"
      ]
     },
     "metadata": {},
     "output_type": "display_data"
    },
    {
     "data": {
      "text/html": [
       "<div>\n",
       "<style scoped>\n",
       "    .dataframe tbody tr th:only-of-type {\n",
       "        vertical-align: middle;\n",
       "    }\n",
       "\n",
       "    .dataframe tbody tr th {\n",
       "        vertical-align: top;\n",
       "    }\n",
       "\n",
       "    .dataframe thead th {\n",
       "        text-align: right;\n",
       "    }\n",
       "</style>\n",
       "<table border=\"1\" class=\"dataframe\">\n",
       "  <thead>\n",
       "    <tr style=\"text-align: right;\">\n",
       "      <th></th>\n",
       "      <th>f0</th>\n",
       "      <th>f1</th>\n",
       "      <th>f2</th>\n",
       "      <th>product</th>\n",
       "    </tr>\n",
       "  </thead>\n",
       "  <tbody>\n",
       "    <tr>\n",
       "      <th>0</th>\n",
       "      <td>-1.146987</td>\n",
       "      <td>0.963328</td>\n",
       "      <td>-0.828965</td>\n",
       "      <td>27.758673</td>\n",
       "    </tr>\n",
       "  </tbody>\n",
       "</table>\n",
       "</div>"
      ],
      "text/plain": [
       "         f0        f1        f2    product\n",
       "0 -1.146987  0.963328 -0.828965  27.758673"
      ]
     },
     "metadata": {},
     "output_type": "display_data"
    }
   ],
   "source": [
    "for data in new_geo_data:\n",
    "    display(data.head(1))"
   ]
  },
  {
   "cell_type": "markdown",
   "metadata": {},
   "source": [
    "We dropped unnecessary column (id, which is non-numeric)."
   ]
  },
  {
   "cell_type": "markdown",
   "metadata": {},
   "source": [
    "#### Conclusion\n",
    "In this section, we:\n",
    "* imported the required libraries.\n",
    "* looked into the data.\n",
    "* checked the infos.\n",
    "* checked the descriptive statistics.\n",
    "* checked for missing values.\n",
    "* checked for duplicates.\n",
    "* dropped unnecessary column (id)."
   ]
  },
  {
   "cell_type": "markdown",
   "metadata": {},
   "source": [
    "<div class=\"alert alert-success\">\n",
    "<b>Reviewer's comment</b>\n",
    "\t  \n",
    "The data was loaded and inspected!\n",
    "\t  \n",
    "</div>"
   ]
  },
  {
   "cell_type": "markdown",
   "metadata": {},
   "source": [
    "### Train and test the model for each region:\n",
    "#### Split the data into a training set and validation set at a ratio of 75:25."
   ]
  },
  {
   "cell_type": "code",
   "execution_count": 12,
   "metadata": {},
   "outputs": [],
   "source": [
    "features_targets = []\n",
    "\n",
    "for i in range(3):\n",
    "    features = new_geo_data[i].drop('product', axis=1)\n",
    "    target = new_geo_data[i]['product']\n",
    "    \n",
    "    features_targets.append({\n",
    "        'features' : features,\n",
    "        'target' : target\n",
    "    })\n"
   ]
  },
  {
   "cell_type": "markdown",
   "metadata": {},
   "source": [
    "Targets & features were split."
   ]
  },
  {
   "cell_type": "code",
   "execution_count": 13,
   "metadata": {},
   "outputs": [
    {
     "data": {
      "text/plain": [
       "'geo_data_0:'"
      ]
     },
     "metadata": {},
     "output_type": "display_data"
    },
    {
     "data": {
      "text/plain": [
       "'Features train-Validation ratio: 0.75 : 0.25'"
      ]
     },
     "metadata": {},
     "output_type": "display_data"
    },
    {
     "data": {
      "text/plain": [
       "'Target train-Validation ratio: 0.75 : 0.25'"
      ]
     },
     "metadata": {},
     "output_type": "display_data"
    },
    {
     "name": "stdout",
     "output_type": "stream",
     "text": [
      "\n"
     ]
    },
    {
     "data": {
      "text/plain": [
       "'geo_data_1:'"
      ]
     },
     "metadata": {},
     "output_type": "display_data"
    },
    {
     "data": {
      "text/plain": [
       "'Features train-Validation ratio: 0.75 : 0.25'"
      ]
     },
     "metadata": {},
     "output_type": "display_data"
    },
    {
     "data": {
      "text/plain": [
       "'Target train-Validation ratio: 0.75 : 0.25'"
      ]
     },
     "metadata": {},
     "output_type": "display_data"
    },
    {
     "name": "stdout",
     "output_type": "stream",
     "text": [
      "\n"
     ]
    },
    {
     "data": {
      "text/plain": [
       "'geo_data_2:'"
      ]
     },
     "metadata": {},
     "output_type": "display_data"
    },
    {
     "data": {
      "text/plain": [
       "'Features train-Validation ratio: 0.75 : 0.25'"
      ]
     },
     "metadata": {},
     "output_type": "display_data"
    },
    {
     "data": {
      "text/plain": [
       "'Target train-Validation ratio: 0.75 : 0.25'"
      ]
     },
     "metadata": {},
     "output_type": "display_data"
    },
    {
     "name": "stdout",
     "output_type": "stream",
     "text": [
      "\n"
     ]
    }
   ],
   "source": [
    "features_targets_train_valid = []\n",
    "\n",
    "for data in features_targets:\n",
    "    features_train, features_valid, target_train, target_valid = train_test_split(data['features'], data['target'], test_size=0.25, random_state=12345)\n",
    "    features_targets_train_valid.append({\n",
    "        'features_train' : features_train, \n",
    "        'features_valid' : features_valid, \n",
    "        'target_train' : target_train, \n",
    "        'target_valid' : target_valid\n",
    "    })\n",
    "\n",
    "for i in range(3):\n",
    "    features_train_ratio = len(features_targets_train_valid[i]['features_train'])/len(geo_data[i])\n",
    "    features_valid_ratio = len(features_targets_train_valid[i]['features_valid'])/len(geo_data[i])\n",
    "    target_train_ratio = len(features_targets_train_valid[i]['target_train'])/len(geo_data[i]) \n",
    "    target_valid_ratio = len(features_targets_train_valid[i]['target_valid'])/len(geo_data[i])\n",
    "    display('geo_data_{}:'.format(i))\n",
    "    display('Features train-Validation ratio: {} : {}'.format(features_train_ratio, features_valid_ratio))\n",
    "    display('Target train-Validation ratio: {} : {}'.format(target_train_ratio, target_valid_ratio))\n",
    "    print()"
   ]
  },
  {
   "cell_type": "markdown",
   "metadata": {},
   "source": [
    "Train & valid sets were split correctly."
   ]
  },
  {
   "cell_type": "markdown",
   "metadata": {},
   "source": [
    "<div class=\"alert alert-success\">\n",
    "<b>Reviewer's comment</b>\n",
    "\t  \n",
    "The data for each region was split into train and validation\n",
    "\t  \n",
    "</div>"
   ]
  },
  {
   "cell_type": "markdown",
   "metadata": {},
   "source": [
    "#### Features scaling"
   ]
  },
  {
   "cell_type": "code",
   "execution_count": 14,
   "metadata": {},
   "outputs": [
    {
     "data": {
      "text/plain": [
       "array([-0.5448279 ,  1.39026372, -0.09495893])"
      ]
     },
     "metadata": {},
     "output_type": "display_data"
    },
    {
     "data": {
      "text/plain": [
       "array([ 0.51791717, -0.61009708, -0.1262255 ])"
      ]
     },
     "metadata": {},
     "output_type": "display_data"
    },
    {
     "data": {
      "text/plain": [
       "array([-0.85085526,  0.62442838,  0.29694289])"
      ]
     },
     "metadata": {},
     "output_type": "display_data"
    },
    {
     "data": {
      "text/plain": [
       "array([-0.16861596,  0.57137209,  0.29747121])"
      ]
     },
     "metadata": {},
     "output_type": "display_data"
    },
    {
     "data": {
      "text/plain": [
       "array([-0.52615957,  0.77632883, -0.40079292])"
      ]
     },
     "metadata": {},
     "output_type": "display_data"
    },
    {
     "data": {
      "text/plain": [
       "array([-0.8367172 , -2.22743862, -0.07848897])"
      ]
     },
     "metadata": {},
     "output_type": "display_data"
    }
   ],
   "source": [
    "for data in features_targets_train_valid:\n",
    "    scaler = StandardScaler()\n",
    "    scaler.fit(data['features_train'])\n",
    "    data['features_train'] = scaler.transform(data['features_train'])\n",
    "    data['features_valid'] = scaler.transform(data['features_valid'])\n",
    "\n",
    "for data in features_targets_train_valid:\n",
    "    display(data['features_train'][0])\n",
    "    display(data['features_valid'][0])"
   ]
  },
  {
   "cell_type": "markdown",
   "metadata": {},
   "source": [
    "Features were scaled correctly."
   ]
  },
  {
   "cell_type": "markdown",
   "metadata": {},
   "source": [
    "<div class=\"alert alert-success\">\n",
    "<b>Reviewer's comment</b>\n",
    "\t  \n",
    "Scaling was applied correctly\n",
    "\t  \n",
    "</div>"
   ]
  },
  {
   "cell_type": "markdown",
   "metadata": {},
   "source": [
    "#### Train the model and make predictions for the validation set. Save the predictions and correct answers for the validation set.\n"
   ]
  },
  {
   "cell_type": "code",
   "execution_count": 81,
   "metadata": {},
   "outputs": [],
   "source": [
    "predictions_targets_valid = []\n",
    "\n",
    "for data in features_targets_train_valid:\n",
    "    model = LinearRegression() \n",
    "    model.fit(data['features_train'], data['target_train'])\n",
    "    predicted_valid = model.predict(data['features_valid'])\n",
    "    predict_target_valid = pd.concat([pd.Series(predicted_valid), data['target_valid'].reset_index(drop=True)], axis=1)\n",
    "    predict_target_valid.columns = ['predicted', 'target']\n",
    "    predictions_targets_valid.append(predict_target_valid)"
   ]
  },
  {
   "cell_type": "markdown",
   "metadata": {},
   "source": [
    "OK. We trained a linear reagression model and made predictions."
   ]
  },
  {
   "cell_type": "markdown",
   "metadata": {},
   "source": [
    "#### Print the average volume of predicted reserves and model RMSE."
   ]
  },
  {
   "cell_type": "code",
   "execution_count": 82,
   "metadata": {},
   "outputs": [
    {
     "data": {
      "text/plain": [
       "'geo_data_0 mean: 92.59'"
      ]
     },
     "metadata": {},
     "output_type": "display_data"
    },
    {
     "data": {
      "text/plain": [
       "'geo_data_0 RMSE: 37.58'"
      ]
     },
     "metadata": {},
     "output_type": "display_data"
    },
    {
     "name": "stdout",
     "output_type": "stream",
     "text": [
      "\n"
     ]
    },
    {
     "data": {
      "text/plain": [
       "'geo_data_1 mean: 68.73'"
      ]
     },
     "metadata": {},
     "output_type": "display_data"
    },
    {
     "data": {
      "text/plain": [
       "'geo_data_1 RMSE: 0.89'"
      ]
     },
     "metadata": {},
     "output_type": "display_data"
    },
    {
     "name": "stdout",
     "output_type": "stream",
     "text": [
      "\n"
     ]
    },
    {
     "data": {
      "text/plain": [
       "'geo_data_2 mean: 94.97'"
      ]
     },
     "metadata": {},
     "output_type": "display_data"
    },
    {
     "data": {
      "text/plain": [
       "'geo_data_2 RMSE: 40.03'"
      ]
     },
     "metadata": {},
     "output_type": "display_data"
    },
    {
     "name": "stdout",
     "output_type": "stream",
     "text": [
      "\n"
     ]
    }
   ],
   "source": [
    "for i in range(3):\n",
    "    display('geo_data_{} mean: {}'.format(i, round(predictions_targets_valid[i]['predicted'].mean(), 2)))\n",
    "    display('geo_data_{} RMSE: {}'.format(i, round(math.sqrt(mean_squared_error(predictions_targets_valid[i]['target'], predictions_targets_valid[i]['predicted'])), 2)))    \n",
    "    print()"
   ]
  },
  {
   "cell_type": "markdown",
   "metadata": {},
   "source": [
    "#### Analyze the results."
   ]
  },
  {
   "cell_type": "markdown",
   "metadata": {},
   "source": [
    "geo_data_1 has the best minimal RMSE score, but the lowest profit mean. \n",
    "\n",
    "In addition, geo_data_2 has the best profit mean, but high RMSE score. \n",
    "\n",
    "geo_data_0 profit mean and RMSE score are very close to those of geo_data_2."
   ]
  },
  {
   "cell_type": "markdown",
   "metadata": {},
   "source": [
    "<div class=\"alert alert-success\">\n",
    "<b>Reviewer's comment</b>\n",
    "\t  \n",
    "The models were trained and evaluated correctly\n",
    "    \n",
    "\t  \n",
    "</div>"
   ]
  },
  {
   "cell_type": "markdown",
   "metadata": {},
   "source": [
    "## Prepare for profit calculation:"
   ]
  },
  {
   "cell_type": "markdown",
   "metadata": {},
   "source": [
    "#### Store all key values for calculations in separate variables."
   ]
  },
  {
   "cell_type": "code",
   "execution_count": 83,
   "metadata": {},
   "outputs": [],
   "source": [
    "unit_revenue = 4500\n",
    "well_cost_200 = 100000000\n",
    "one_well_cost = well_cost_200 / 200"
   ]
  },
  {
   "cell_type": "markdown",
   "metadata": {},
   "source": [
    "#### Calculate the volume of reserves sufficient for developing a new well without losses. Compare the obtained value with the average volume of reserves in each region. Provide the findings about the preparation for profit calculation step."
   ]
  },
  {
   "cell_type": "code",
   "execution_count": 84,
   "metadata": {},
   "outputs": [
    {
     "name": "stdout",
     "output_type": "stream",
     "text": [
      "The volume of reserves sufficient for developing a new well without losses: 111.11\n"
     ]
    }
   ],
   "source": [
    "sufficient_reserves = one_well_cost / unit_revenue\n",
    "print('The volume of reserves sufficient for developing a new well without losses:', round(sufficient_reserves, 2))"
   ]
  },
  {
   "cell_type": "markdown",
   "metadata": {},
   "source": [
    "As we calculated above, the average volume of reserves in each region are: 92.59, 68.73, 94.97 (respectively). So our volume of reserves means are not sufficient for profit."
   ]
  },
  {
   "cell_type": "markdown",
   "metadata": {},
   "source": [
    "<div class=\"alert alert-success\">\n",
    "<b>Reviewer's comment</b>\n",
    "\t  \n",
    "Yep, that's right!\n",
    "\t  \n",
    "</div>"
   ]
  },
  {
   "cell_type": "markdown",
   "metadata": {},
   "source": [
    "### Write a function to calculate profit from a set of selected oil wells and model predictions:\n",
    "* Pick the wells with the highest values of predictions. \n",
    "* Summarize the target volume of reserves in accordance with these predictions. \n",
    "* Provide findings: suggest a region for oil wells' development and justify the choice. \n",
    "* Calculate the profit for the obtained volume of reserves."
   ]
  },
  {
   "cell_type": "code",
   "execution_count": 85,
   "metadata": {},
   "outputs": [
    {
     "data": {
      "text/plain": [
       "'Geo_data_0 - reserves volume: 29601.84, predictions profit: 33208280.0'"
      ]
     },
     "metadata": {},
     "output_type": "display_data"
    },
    {
     "data": {
      "text/plain": [
       "'Geo_data_1 - reserves volume: 27589.08, predictions profit: 24150860.0'"
      ]
     },
     "metadata": {},
     "output_type": "display_data"
    },
    {
     "data": {
      "text/plain": [
       "'Geo_data_2 - reserves volume: 28245.22, predictions profit: 27103490.0'"
      ]
     },
     "metadata": {},
     "output_type": "display_data"
    }
   ],
   "source": [
    "def reserves_profit(predictions, targets):\n",
    "    high_predictions = predictions.sort_values(ascending=False)[:200]\n",
    "    targets_high_predictions = targets.iloc[high_predictions.index]\n",
    "    reserves_volume = round(targets_high_predictions.sum(), 2)\n",
    "    predicted_profit = round(reserves_volume * unit_revenue - well_cost_200, 2)\n",
    "    return reserves_volume, predicted_profit\n",
    "\n",
    "for i in range(3):\n",
    "    reserves_volume, predicted_profit = reserves_profit(predictions_targets_valid[i]['predicted'], predictions_targets_valid[i]['target'])\n",
    "    display('Geo_data_{} - reserves volume: {}, predictions profit: {}'.format(i, reserves_volume, predicted_profit))\n",
    "\n"
   ]
  },
  {
   "cell_type": "markdown",
   "metadata": {},
   "source": [
    "According to the findings, the best region for oil wells' development is Geo_data_0 which has the highest reserves volume and thus the highest predicted profit."
   ]
  },
  {
   "cell_type": "markdown",
   "metadata": {},
   "source": [
    "<div class=\"alert alert-success\">\n",
    "<b>Reviewer's comment</b>\n",
    "\n",
    "Profit calculation function is correct\n",
    "\t  \n",
    "</div>"
   ]
  },
  {
   "cell_type": "markdown",
   "metadata": {},
   "source": [
    "### Calculate risks and profit for each region:\n",
    "#### Use the bootstrapping technique with 1000 samples to find the distribution of profit."
   ]
  },
  {
   "cell_type": "code",
   "execution_count": 103,
   "metadata": {},
   "outputs": [],
   "source": [
    "state = np.random.RandomState(12345)\n",
    "\n",
    "profits = []\n",
    "\n",
    "for i in range(3):\n",
    "    values = []\n",
    "    for j in range(1000):\n",
    "        target_subsample = predictions_targets_valid[i]['target'].sample(n=500, replace=True, random_state=state)\n",
    "        predict_subsample = predictions_targets_valid[i]['predicted'][target_subsample.index]\n",
    "        target_subsample.reset_index(inplace=True, drop=True)\n",
    "        predict_subsample.reset_index(inplace=True, drop=True)\n",
    "        reserves, profit = reserves_profit(predict_subsample, target_subsample)\n",
    "        values.append(profit)\n",
    "    \n",
    "    profits.append(pd.Series(values))"
   ]
  },
  {
   "cell_type": "markdown",
   "metadata": {},
   "source": [
    "<div class=\"alert alert-success\">\n",
    "<b>Reviewer's comment</b>\n",
    "\t  \n",
    "Bootstrapping looks good\n",
    "\t  \n",
    "</div>"
   ]
  },
  {
   "cell_type": "code",
   "execution_count": 113,
   "metadata": {},
   "outputs": [
    {
     "data": {
      "image/png": "[encoded data removed]",
      "text/plain": [
       "<Figure size 720x360 with 1 Axes>"
      ]
     },
     "metadata": {
      "needs_background": "light"
     },
     "output_type": "display_data"
    }
   ],
   "source": [
    "for i in range(3):\n",
    "    (profits[i]/100000).hist(bins=50, figsize=(10, 5), label='geo_data_{}'.format(i), alpha=0.5)\n",
    "    plt.legend()\n",
    "    plt.title('Distribution of profit per region')\n",
    "    plt.xlabel('Profit (Millions)')\n",
    "    plt.ylabel('Frequency')\n"
   ]
  },
  {
   "cell_type": "markdown",
   "metadata": {},
   "source": [
    "We can see the profits distribution of each region, but we in order to decide which region has the best profit we need to do more calculations."
   ]
  },
  {
   "cell_type": "markdown",
   "metadata": {},
   "source": [
    "<div class=\"alert alert-success\">\n",
    "<b>Reviewer's comment</b>\n",
    "\t  \n",
    "Nice visualization of profit distribution for each region!\n",
    "\t  \n",
    "</div>"
   ]
  },
  {
   "cell_type": "markdown",
   "metadata": {},
   "source": [
    "#### Find average profit, 95% confidence interval and risk of losses. Loss is negative profit, calculate it as a probability and then express as a percentage. Provide findings: suggest a region for development of oil wells and justify the choice."
   ]
  },
  {
   "cell_type": "code",
   "execution_count": 109,
   "metadata": {},
   "outputs": [
    {
     "data": {
      "text/plain": [
       "'geo_data_0:'"
      ]
     },
     "metadata": {},
     "output_type": "display_data"
    },
    {
     "data": {
      "text/plain": [
       "'Mean: 3961648.88'"
      ]
     },
     "metadata": {},
     "output_type": "display_data"
    },
    {
     "data": {
      "text/plain": [
       "'95% Confidence Interval: (-1112147.88, 9097681.62)'"
      ]
     },
     "metadata": {},
     "output_type": "display_data"
    },
    {
     "data": {
      "text/plain": [
       "'Risk of losses: 6.90%'"
      ]
     },
     "metadata": {},
     "output_type": "display_data"
    },
    {
     "name": "stdout",
     "output_type": "stream",
     "text": [
      "\n"
     ]
    },
    {
     "data": {
      "text/plain": [
       "'geo_data_1:'"
      ]
     },
     "metadata": {},
     "output_type": "display_data"
    },
    {
     "data": {
      "text/plain": [
       "'Mean: 4611558.0'"
      ]
     },
     "metadata": {},
     "output_type": "display_data"
    },
    {
     "data": {
      "text/plain": [
       "'95% Confidence Interval: (780515.0, 8629505.0)'"
      ]
     },
     "metadata": {},
     "output_type": "display_data"
    },
    {
     "data": {
      "text/plain": [
       "'Risk of losses: 0.70%'"
      ]
     },
     "metadata": {},
     "output_type": "display_data"
    },
    {
     "name": "stdout",
     "output_type": "stream",
     "text": [
      "\n"
     ]
    },
    {
     "data": {
      "text/plain": [
       "'geo_data_2:'"
      ]
     },
     "metadata": {},
     "output_type": "display_data"
    },
    {
     "data": {
      "text/plain": [
       "'Mean: 3929505.11'"
      ]
     },
     "metadata": {},
     "output_type": "display_data"
    },
    {
     "data": {
      "text/plain": [
       "'95% Confidence Interval: (-1122267.25, 9345615.87)'"
      ]
     },
     "metadata": {},
     "output_type": "display_data"
    },
    {
     "data": {
      "text/plain": [
       "'Risk of losses: 6.50%'"
      ]
     },
     "metadata": {},
     "output_type": "display_data"
    },
    {
     "name": "stdout",
     "output_type": "stream",
     "text": [
      "\n"
     ]
    }
   ],
   "source": [
    "for i in range(3):\n",
    "    display('geo_data_{}:'.format(i))\n",
    "    display('Mean: {}'.format(profits[i].mean().round(2)))\n",
    "    lower = profits[i].quantile(0.025).round(2)\n",
    "    upper = profits[i].quantile(0.975).round(2)\n",
    "    display('95% Confidence Interval: ({}, {})'.format(lower, upper))\n",
    "    losses_risk = profits[i][profits[i] < 0].count() / 1000\n",
    "    display('Risk of losses: {:.2%}'.format(losses_risk))\n",
    "    print()"
   ]
  },
  {
   "cell_type": "markdown",
   "metadata": {},
   "source": [
    "We suggest to choose geo_data_1 as a region for development of oil wells. It has the highest profits mean and the lowest risk of losses. In addition, it is the only region with all positive values in 95% Confidence Interval."
   ]
  },
  {
   "cell_type": "markdown",
   "metadata": {},
   "source": [
    "<div class=\"alert alert-success\">\n",
    "<b>Reviewer's comment</b>\n",
    "\t  \n",
    "Mean profit, 95% confidence interval and risk of losses were calculated correctly. The choice of the region is justified\n",
    "\t  \n",
    "</div>"
   ]
  },
  {
   "cell_type": "markdown",
   "metadata": {},
   "source": [
    "## Project evaluation\n",
    "We’ve put together the evaluation criteria for the project. Read this carefully before moving on to the task.\n",
    "Here’s what the reviewers will look at when reviewing your project:\n",
    "\n",
    "    How did you prepare the data for training?\n",
    "    Have you followed all the steps of the instructions?\n",
    "    Have you taken into account all the business conditions?\n",
    "    What are your findings about the task study?\n",
    "    Have you applied the Bootstrapping technique correctly?\n",
    "    Have you suggested the best region for well development? Is the choice justified?\n",
    "    Did you avoid code duplication?\n",
    "    Have you kept to the project structure and kept the code neat?\n",
    "\n",
    "You have your takeaway sheets and chapter summaries, so you are ready to proceed to the project.\n",
    "Good luck!"
   ]
  }
 ],
 "metadata": {
  "ExecuteTimeLog": [
   {
    "duration": 727,
    "start_time": "2021-10-12T13:55:25.535Z"
   },
   {
    "duration": 3,
    "start_time": "2021-10-12T13:55:57.505Z"
   },
   {
    "duration": 2557,
    "start_time": "2021-10-12T13:57:34.078Z"
   },
   {
    "duration": 1971,
    "start_time": "2021-10-12T13:57:57.172Z"
   },
   {
    "duration": 3371,
    "start_time": "2021-10-12T13:58:31.908Z"
   },
   {
    "duration": 514,
    "start_time": "2021-10-12T13:58:54.501Z"
   },
   {
    "duration": 551,
    "start_time": "2021-10-12T14:00:26.574Z"
   },
   {
    "duration": 524,
    "start_time": "2021-10-12T14:00:42.751Z"
   },
   {
    "duration": 482,
    "start_time": "2021-10-12T14:01:14.934Z"
   },
   {
    "duration": 42,
    "start_time": "2021-10-12T14:02:04.474Z"
   },
   {
    "duration": 784,
    "start_time": "2021-10-13T11:03:34.848Z"
   },
   {
    "duration": 478,
    "start_time": "2021-10-13T11:03:35.635Z"
   },
   {
    "duration": 60,
    "start_time": "2021-10-13T11:03:36.115Z"
   },
   {
    "duration": 40,
    "start_time": "2021-10-13T11:03:36.177Z"
   },
   {
    "duration": 147,
    "start_time": "2021-10-13T11:15:11.459Z"
   },
   {
    "duration": 10866,
    "start_time": "2021-10-13T11:19:02.919Z"
   },
   {
    "duration": 403,
    "start_time": "2021-10-13T11:22:24.493Z"
   },
   {
    "duration": 753,
    "start_time": "2021-10-13T11:22:40.374Z"
   },
   {
    "duration": 698,
    "start_time": "2021-10-13T11:22:46.505Z"
   },
   {
    "duration": 191,
    "start_time": "2021-10-13T11:23:03.595Z"
   },
   {
    "duration": 36,
    "start_time": "2021-10-13T11:36:46.795Z"
   },
   {
    "duration": 57,
    "start_time": "2021-10-13T11:39:54.219Z"
   },
   {
    "duration": 350,
    "start_time": "2021-10-13T11:40:25.902Z"
   },
   {
    "duration": 322,
    "start_time": "2021-10-13T11:41:32.658Z"
   },
   {
    "duration": 302,
    "start_time": "2021-10-13T11:43:27.313Z"
   },
   {
    "duration": 56,
    "start_time": "2021-10-13T11:43:43.382Z"
   },
   {
    "duration": 310,
    "start_time": "2021-10-13T11:50:26.956Z"
   },
   {
    "duration": 42,
    "start_time": "2021-10-13T11:51:34.956Z"
   },
   {
    "duration": 494,
    "start_time": "2021-10-13T11:51:59.166Z"
   },
   {
    "duration": 339,
    "start_time": "2021-10-13T11:53:47.999Z"
   },
   {
    "duration": 252,
    "start_time": "2021-10-13T11:54:08.470Z"
   },
   {
    "duration": 41,
    "start_time": "2021-10-13T11:54:34.133Z"
   },
   {
    "duration": 1329,
    "start_time": "2021-10-13T11:59:34.676Z"
   },
   {
    "duration": 42,
    "start_time": "2021-10-13T12:00:05.959Z"
   },
   {
    "duration": 42,
    "start_time": "2021-10-13T12:00:53.374Z"
   },
   {
    "duration": 40,
    "start_time": "2021-10-13T12:01:46.544Z"
   },
   {
    "duration": 29,
    "start_time": "2021-10-13T12:02:31.052Z"
   },
   {
    "duration": 28,
    "start_time": "2021-10-13T12:02:49.970Z"
   },
   {
    "duration": 32,
    "start_time": "2021-10-13T12:03:10.761Z"
   },
   {
    "duration": 24,
    "start_time": "2021-10-13T12:03:29.083Z"
   },
   {
    "duration": 20,
    "start_time": "2021-10-13T12:03:58.629Z"
   },
   {
    "duration": 19,
    "start_time": "2021-10-13T12:04:03.975Z"
   },
   {
    "duration": 24,
    "start_time": "2021-10-13T12:04:09.094Z"
   },
   {
    "duration": 28,
    "start_time": "2021-10-13T12:04:16.797Z"
   },
   {
    "duration": 26,
    "start_time": "2021-10-13T12:04:26.889Z"
   },
   {
    "duration": 32,
    "start_time": "2021-10-13T12:06:33.669Z"
   },
   {
    "duration": 50,
    "start_time": "2021-10-13T12:07:08.348Z"
   },
   {
    "duration": 66,
    "start_time": "2021-10-13T12:41:53.447Z"
   },
   {
    "duration": 303,
    "start_time": "2021-10-13T12:53:22.357Z"
   },
   {
    "duration": 70,
    "start_time": "2021-10-13T12:54:15.708Z"
   },
   {
    "duration": 106,
    "start_time": "2021-10-13T12:56:10.762Z"
   },
   {
    "duration": 122,
    "start_time": "2021-10-13T12:56:29.831Z"
   },
   {
    "duration": 160,
    "start_time": "2021-10-13T12:57:39.354Z"
   },
   {
    "duration": 139,
    "start_time": "2021-10-13T12:58:04.795Z"
   },
   {
    "duration": 63,
    "start_time": "2021-10-13T13:04:24.847Z"
   },
   {
    "duration": 98,
    "start_time": "2021-10-13T13:18:45.758Z"
   },
   {
    "duration": 339,
    "start_time": "2021-10-13T13:18:56.899Z"
   },
   {
    "duration": 6,
    "start_time": "2021-10-13T13:19:08.304Z"
   },
   {
    "duration": 339,
    "start_time": "2021-10-13T13:19:21.336Z"
   },
   {
    "duration": 11,
    "start_time": "2021-10-13T13:22:01.211Z"
   },
   {
    "duration": 31,
    "start_time": "2021-10-13T13:22:22.111Z"
   },
   {
    "duration": 9,
    "start_time": "2021-10-13T13:22:38.519Z"
   },
   {
    "duration": 27,
    "start_time": "2021-10-13T13:22:39.404Z"
   },
   {
    "duration": 13,
    "start_time": "2021-10-13T13:24:00.904Z"
   },
   {
    "duration": 25,
    "start_time": "2021-10-13T13:24:01.641Z"
   },
   {
    "duration": 60,
    "start_time": "2021-10-13T13:26:24.440Z"
   },
   {
    "duration": 101,
    "start_time": "2021-10-13T13:26:29.538Z"
   },
   {
    "duration": 1289,
    "start_time": "2021-10-13T13:26:34.735Z"
   },
   {
    "duration": 319,
    "start_time": "2021-10-13T13:26:57.954Z"
   },
   {
    "duration": 6295,
    "start_time": "2021-10-13T13:27:17.160Z"
   },
   {
    "duration": 291,
    "start_time": "2021-10-13T13:27:39.788Z"
   },
   {
    "duration": 315,
    "start_time": "2021-10-13T13:29:56.055Z"
   },
   {
    "duration": 192,
    "start_time": "2021-10-13T13:33:44.685Z"
   },
   {
    "duration": 340,
    "start_time": "2021-10-13T15:48:46.061Z"
   },
   {
    "duration": 11091,
    "start_time": "2021-10-13T15:48:50.544Z"
   },
   {
    "duration": 1562,
    "start_time": "2021-10-13T15:49:01.638Z"
   },
   {
    "duration": 490,
    "start_time": "2021-10-13T15:49:03.204Z"
   },
   {
    "duration": 44,
    "start_time": "2021-10-13T15:49:03.697Z"
   },
   {
    "duration": 83,
    "start_time": "2021-10-13T15:49:03.744Z"
   },
   {
    "duration": 155,
    "start_time": "2021-10-13T15:49:03.830Z"
   },
   {
    "duration": 734,
    "start_time": "2021-10-13T15:49:03.987Z"
   },
   {
    "duration": 229,
    "start_time": "2021-10-13T15:49:04.725Z"
   },
   {
    "duration": 77,
    "start_time": "2021-10-13T15:49:04.957Z"
   },
   {
    "duration": 13,
    "start_time": "2021-10-13T15:49:05.036Z"
   },
   {
    "duration": 52,
    "start_time": "2021-10-13T15:49:05.051Z"
   },
   {
    "duration": 67,
    "start_time": "2021-10-13T15:49:05.105Z"
   },
   {
    "duration": 120,
    "start_time": "2021-10-13T15:49:05.201Z"
   },
   {
    "duration": 592,
    "start_time": "2021-10-13T15:49:05.324Z"
   },
   {
    "duration": 469,
    "start_time": "2021-10-13T15:52:20.846Z"
   },
   {
    "duration": 399,
    "start_time": "2021-10-13T15:52:39.105Z"
   },
   {
    "duration": 450,
    "start_time": "2021-10-13T15:56:11.054Z"
   },
   {
    "duration": 408,
    "start_time": "2021-10-13T15:56:46.551Z"
   },
   {
    "duration": 363,
    "start_time": "2021-10-13T15:56:53.095Z"
   },
   {
    "duration": 364,
    "start_time": "2021-10-13T15:57:06.693Z"
   },
   {
    "duration": 563,
    "start_time": "2021-10-13T15:57:23.249Z"
   },
   {
    "duration": 428,
    "start_time": "2021-10-13T16:00:09.087Z"
   },
   {
    "duration": 10,
    "start_time": "2021-10-13T16:00:46.479Z"
   },
   {
    "duration": 5,
    "start_time": "2021-10-13T16:03:31.654Z"
   },
   {
    "duration": 260,
    "start_time": "2021-10-13T16:06:09.268Z"
   },
   {
    "duration": 269,
    "start_time": "2021-10-13T16:06:32.976Z"
   },
   {
    "duration": 5,
    "start_time": "2021-10-13T16:08:37.367Z"
   },
   {
    "duration": 268,
    "start_time": "2021-10-13T16:08:43.000Z"
   },
   {
    "duration": 10,
    "start_time": "2021-10-13T16:11:09.475Z"
   },
   {
    "duration": 260,
    "start_time": "2021-10-13T16:11:15.884Z"
   },
   {
    "duration": 11,
    "start_time": "2021-10-13T16:11:20.046Z"
   },
   {
    "duration": 255,
    "start_time": "2021-10-13T16:12:32.391Z"
   },
   {
    "duration": 275,
    "start_time": "2021-10-13T16:14:12.370Z"
   },
   {
    "duration": 10,
    "start_time": "2021-10-13T16:14:35.061Z"
   },
   {
    "duration": 15,
    "start_time": "2021-10-13T16:15:17.916Z"
   },
   {
    "duration": 274,
    "start_time": "2021-10-13T16:15:44.021Z"
   },
   {
    "duration": 285,
    "start_time": "2021-10-13T16:16:00.884Z"
   },
   {
    "duration": 259,
    "start_time": "2021-10-13T16:16:34.657Z"
   },
   {
    "duration": 85,
    "start_time": "2021-10-13T16:17:31.699Z"
   },
   {
    "duration": 89,
    "start_time": "2021-10-13T16:17:37.881Z"
   },
   {
    "duration": 10,
    "start_time": "2021-10-13T16:18:08.958Z"
   },
   {
    "duration": 261,
    "start_time": "2021-10-13T16:19:18.313Z"
   },
   {
    "duration": 8,
    "start_time": "2021-10-13T16:19:55.960Z"
   },
   {
    "duration": 7,
    "start_time": "2021-10-13T16:20:00.404Z"
   },
   {
    "duration": 7,
    "start_time": "2021-10-13T16:20:09.076Z"
   },
   {
    "duration": 12,
    "start_time": "2021-10-13T16:20:22.454Z"
   },
   {
    "duration": 29,
    "start_time": "2021-10-13T16:22:03.312Z"
   },
   {
    "duration": 17,
    "start_time": "2021-10-13T16:22:34.835Z"
   },
   {
    "duration": 26,
    "start_time": "2021-10-13T16:22:49.460Z"
   },
   {
    "duration": 12362,
    "start_time": "2021-10-14T12:06:59.053Z"
   },
   {
    "duration": 1602,
    "start_time": "2021-10-14T12:07:11.418Z"
   },
   {
    "duration": 426,
    "start_time": "2021-10-14T12:07:13.023Z"
   },
   {
    "duration": 48,
    "start_time": "2021-10-14T12:07:13.452Z"
   },
   {
    "duration": 75,
    "start_time": "2021-10-14T12:07:13.502Z"
   },
   {
    "duration": 139,
    "start_time": "2021-10-14T12:07:13.579Z"
   },
   {
    "duration": 771,
    "start_time": "2021-10-14T12:07:13.720Z"
   },
   {
    "duration": 224,
    "start_time": "2021-10-14T12:07:14.495Z"
   },
   {
    "duration": 70,
    "start_time": "2021-10-14T12:07:14.722Z"
   },
   {
    "duration": 10,
    "start_time": "2021-10-14T12:07:14.794Z"
   },
   {
    "duration": 12,
    "start_time": "2021-10-14T12:07:14.806Z"
   },
   {
    "duration": 60,
    "start_time": "2021-10-14T12:07:14.820Z"
   },
   {
    "duration": 87,
    "start_time": "2021-10-14T12:07:14.882Z"
   },
   {
    "duration": 126,
    "start_time": "2021-10-14T12:07:14.971Z"
   },
   {
    "duration": 482,
    "start_time": "2021-10-14T12:07:15.099Z"
   },
   {
    "duration": 11,
    "start_time": "2021-10-14T12:07:15.583Z"
   },
   {
    "duration": 71,
    "start_time": "2021-10-14T12:07:15.596Z"
   },
   {
    "duration": 725,
    "start_time": "2021-10-14T12:11:38.483Z"
   },
   {
    "duration": 56,
    "start_time": "2021-10-14T12:11:54.062Z"
   },
   {
    "duration": 57,
    "start_time": "2021-10-14T12:12:08.611Z"
   },
   {
    "duration": 58,
    "start_time": "2021-10-14T12:12:17.576Z"
   },
   {
    "duration": 62,
    "start_time": "2021-10-14T13:58:24.477Z"
   },
   {
    "duration": 52,
    "start_time": "2021-10-14T13:58:32.040Z"
   },
   {
    "duration": 54,
    "start_time": "2021-10-14T13:58:36.782Z"
   },
   {
    "duration": 55,
    "start_time": "2021-10-14T13:58:46.143Z"
   },
   {
    "duration": 58,
    "start_time": "2021-10-14T13:59:20.780Z"
   },
   {
    "duration": 517,
    "start_time": "2021-10-14T14:00:23.409Z"
   },
   {
    "duration": 96,
    "start_time": "2021-10-14T14:00:50.193Z"
   },
   {
    "duration": 336,
    "start_time": "2021-10-14T14:01:04.343Z"
   },
   {
    "duration": 60,
    "start_time": "2021-10-14T14:02:29.628Z"
   },
   {
    "duration": 339,
    "start_time": "2021-10-14T14:04:09.058Z"
   },
   {
    "duration": 279,
    "start_time": "2021-10-14T14:05:06.256Z"
   },
   {
    "duration": 319,
    "start_time": "2021-10-14T14:05:31.193Z"
   },
   {
    "duration": 294,
    "start_time": "2021-10-14T14:05:44.320Z"
   },
   {
    "duration": 75,
    "start_time": "2021-10-14T14:07:05.484Z"
   },
   {
    "duration": 62,
    "start_time": "2021-10-14T14:12:18.184Z"
   },
   {
    "duration": 106,
    "start_time": "2021-10-14T14:13:37.580Z"
   },
   {
    "duration": 57,
    "start_time": "2021-10-14T14:14:06.234Z"
   },
   {
    "duration": 42,
    "start_time": "2021-10-14T14:15:42.335Z"
   },
   {
    "duration": 44,
    "start_time": "2021-10-14T14:15:46.915Z"
   },
   {
    "duration": 38,
    "start_time": "2021-10-14T14:15:58.407Z"
   },
   {
    "duration": 40,
    "start_time": "2021-10-14T14:16:10.747Z"
   },
   {
    "duration": 53,
    "start_time": "2021-10-14T14:16:18.010Z"
   },
   {
    "duration": 42,
    "start_time": "2021-10-14T14:16:23.392Z"
   },
   {
    "duration": 421,
    "start_time": "2021-10-14T14:18:52.649Z"
   },
   {
    "duration": 38,
    "start_time": "2021-10-14T14:20:33.945Z"
   },
   {
    "duration": 260,
    "start_time": "2021-10-14T14:25:03.505Z"
   },
   {
    "duration": 458,
    "start_time": "2021-10-14T14:26:41.496Z"
   },
   {
    "duration": 295,
    "start_time": "2021-10-14T14:27:15.268Z"
   },
   {
    "duration": 382,
    "start_time": "2021-10-14T14:28:06.987Z"
   },
   {
    "duration": 348,
    "start_time": "2021-10-14T14:28:16.618Z"
   },
   {
    "duration": 501,
    "start_time": "2021-10-14T14:29:19.450Z"
   },
   {
    "duration": 593,
    "start_time": "2021-10-14T14:29:51.551Z"
   },
   {
    "duration": 292,
    "start_time": "2021-10-14T14:31:29.594Z"
   },
   {
    "duration": 363,
    "start_time": "2021-10-14T14:32:13.701Z"
   },
   {
    "duration": 596,
    "start_time": "2021-10-14T14:32:27.884Z"
   },
   {
    "duration": 275,
    "start_time": "2021-10-14T14:32:35.912Z"
   },
   {
    "duration": 323,
    "start_time": "2021-10-14T14:34:04.049Z"
   },
   {
    "duration": 12,
    "start_time": "2021-10-14T14:34:10.648Z"
   },
   {
    "duration": 21,
    "start_time": "2021-10-14T14:35:35.618Z"
   },
   {
    "duration": 34,
    "start_time": "2021-10-14T14:37:08.503Z"
   },
   {
    "duration": 17,
    "start_time": "2021-10-14T14:40:09.340Z"
   },
   {
    "duration": 17,
    "start_time": "2021-10-14T14:40:18.010Z"
   },
   {
    "duration": 296,
    "start_time": "2021-10-14T15:55:22.989Z"
   },
   {
    "duration": 4,
    "start_time": "2021-10-14T15:55:28.074Z"
   },
   {
    "duration": 3,
    "start_time": "2021-10-14T15:55:29.861Z"
   },
   {
    "duration": 5,
    "start_time": "2021-10-14T15:55:35.296Z"
   },
   {
    "duration": 6,
    "start_time": "2021-10-14T15:56:34.703Z"
   },
   {
    "duration": 21,
    "start_time": "2021-10-14T15:56:41.327Z"
   },
   {
    "duration": 3287,
    "start_time": "2021-10-14T15:56:48.744Z"
   },
   {
    "duration": 6,
    "start_time": "2021-10-14T15:56:52.035Z"
   },
   {
    "duration": 1085,
    "start_time": "2021-10-14T15:56:52.045Z"
   },
   {
    "duration": 58,
    "start_time": "2021-10-14T15:56:53.133Z"
   },
   {
    "duration": 86,
    "start_time": "2021-10-14T15:56:53.194Z"
   },
   {
    "duration": 148,
    "start_time": "2021-10-14T15:56:53.283Z"
   },
   {
    "duration": 88,
    "start_time": "2021-10-14T15:56:53.434Z"
   },
   {
    "duration": 235,
    "start_time": "2021-10-14T15:56:53.528Z"
   },
   {
    "duration": 57,
    "start_time": "2021-10-14T15:56:53.766Z"
   },
   {
    "duration": 36,
    "start_time": "2021-10-14T15:56:53.826Z"
   },
   {
    "duration": 27,
    "start_time": "2021-10-14T15:56:53.864Z"
   },
   {
    "duration": 70,
    "start_time": "2021-10-14T15:56:53.893Z"
   },
   {
    "duration": 97,
    "start_time": "2021-10-14T15:56:53.965Z"
   },
   {
    "duration": 513,
    "start_time": "2021-10-14T15:56:54.064Z"
   },
   {
    "duration": 20,
    "start_time": "2021-10-14T15:56:54.579Z"
   },
   {
    "duration": 60,
    "start_time": "2021-10-14T15:56:54.602Z"
   },
   {
    "duration": 7,
    "start_time": "2021-10-14T15:56:54.665Z"
   },
   {
    "duration": 3374,
    "start_time": "2021-10-14T15:57:18.003Z"
   },
   {
    "duration": 1961,
    "start_time": "2021-10-14T15:57:21.380Z"
   },
   {
    "duration": 616,
    "start_time": "2021-10-14T15:57:23.345Z"
   },
   {
    "duration": 51,
    "start_time": "2021-10-14T15:57:23.965Z"
   },
   {
    "duration": 85,
    "start_time": "2021-10-14T15:57:24.018Z"
   },
   {
    "duration": 166,
    "start_time": "2021-10-14T15:57:24.106Z"
   },
   {
    "duration": 802,
    "start_time": "2021-10-14T15:57:24.275Z"
   },
   {
    "duration": 240,
    "start_time": "2021-10-14T15:57:25.082Z"
   },
   {
    "duration": 75,
    "start_time": "2021-10-14T15:57:25.324Z"
   },
   {
    "duration": 12,
    "start_time": "2021-10-14T15:57:25.401Z"
   },
   {
    "duration": 56,
    "start_time": "2021-10-14T15:57:25.416Z"
   },
   {
    "duration": 49,
    "start_time": "2021-10-14T15:57:25.475Z"
   },
   {
    "duration": 67,
    "start_time": "2021-10-14T15:57:25.561Z"
   },
   {
    "duration": 352,
    "start_time": "2021-10-14T15:57:25.630Z"
   },
   {
    "duration": 1018,
    "start_time": "2021-10-14T15:57:25.985Z"
   },
   {
    "duration": 66,
    "start_time": "2021-10-14T15:57:26.939Z"
   },
   {
    "duration": -9,
    "start_time": "2021-10-14T15:57:27.016Z"
   },
   {
    "duration": 24,
    "start_time": "2021-10-14T15:57:32.818Z"
   },
   {
    "duration": 5,
    "start_time": "2021-10-14T15:57:37.309Z"
   },
   {
    "duration": 5,
    "start_time": "2021-10-14T15:57:39.542Z"
   },
   {
    "duration": 5,
    "start_time": "2021-10-14T15:58:13.851Z"
   },
   {
    "duration": 6,
    "start_time": "2021-10-14T15:58:55.476Z"
   },
   {
    "duration": 86,
    "start_time": "2021-10-14T16:01:39.222Z"
   },
   {
    "duration": 18,
    "start_time": "2021-10-14T16:02:09.772Z"
   },
   {
    "duration": 18,
    "start_time": "2021-10-14T16:03:41.865Z"
   },
   {
    "duration": 320,
    "start_time": "2021-10-14T16:10:20.823Z"
   },
   {
    "duration": 9,
    "start_time": "2021-10-14T16:10:43.820Z"
   },
   {
    "duration": 20,
    "start_time": "2021-10-14T16:14:41.327Z"
   },
   {
    "duration": 22,
    "start_time": "2021-10-14T16:15:10.069Z"
   },
   {
    "duration": 361,
    "start_time": "2021-10-14T16:23:33.373Z"
   },
   {
    "duration": 283,
    "start_time": "2021-10-14T16:23:56.478Z"
   },
   {
    "duration": 15,
    "start_time": "2021-10-14T16:27:22.731Z"
   },
   {
    "duration": 21,
    "start_time": "2021-10-14T16:28:58.902Z"
   },
   {
    "duration": 26,
    "start_time": "2021-10-14T16:30:17.648Z"
   },
   {
    "duration": 27,
    "start_time": "2021-10-14T16:30:39.842Z"
   },
   {
    "duration": 27,
    "start_time": "2021-10-14T16:30:57.701Z"
   },
   {
    "duration": 26,
    "start_time": "2021-10-14T16:31:02.090Z"
   },
   {
    "duration": 25,
    "start_time": "2021-10-14T16:31:22.768Z"
   },
   {
    "duration": 21,
    "start_time": "2021-10-14T16:32:18.981Z"
   },
   {
    "duration": 4,
    "start_time": "2021-10-14T16:33:45.680Z"
   },
   {
    "duration": 4,
    "start_time": "2021-10-14T16:33:47.265Z"
   },
   {
    "duration": 20,
    "start_time": "2021-10-14T16:34:07.899Z"
   },
   {
    "duration": 13,
    "start_time": "2021-10-14T16:35:18.866Z"
   },
   {
    "duration": 11145,
    "start_time": "2021-10-14T19:53:46.286Z"
   },
   {
    "duration": 1683,
    "start_time": "2021-10-14T19:53:57.434Z"
   },
   {
    "duration": 448,
    "start_time": "2021-10-14T19:53:59.121Z"
   },
   {
    "duration": 41,
    "start_time": "2021-10-14T19:53:59.572Z"
   },
   {
    "duration": 77,
    "start_time": "2021-10-14T19:53:59.615Z"
   },
   {
    "duration": 152,
    "start_time": "2021-10-14T19:53:59.695Z"
   },
   {
    "duration": 865,
    "start_time": "2021-10-14T19:53:59.857Z"
   },
   {
    "duration": 254,
    "start_time": "2021-10-14T19:54:00.726Z"
   },
   {
    "duration": 84,
    "start_time": "2021-10-14T19:54:00.983Z"
   },
   {
    "duration": 13,
    "start_time": "2021-10-14T19:54:01.069Z"
   },
   {
    "duration": 44,
    "start_time": "2021-10-14T19:54:01.085Z"
   },
   {
    "duration": 60,
    "start_time": "2021-10-14T19:54:01.131Z"
   },
   {
    "duration": 97,
    "start_time": "2021-10-14T19:54:01.193Z"
   },
   {
    "duration": 383,
    "start_time": "2021-10-14T19:54:01.293Z"
   },
   {
    "duration": 16,
    "start_time": "2021-10-14T19:54:01.678Z"
   },
   {
    "duration": 16,
    "start_time": "2021-10-14T19:54:01.696Z"
   },
   {
    "duration": 109,
    "start_time": "2021-10-14T19:54:01.714Z"
   },
   {
    "duration": 42,
    "start_time": "2021-10-14T19:54:01.825Z"
   },
   {
    "duration": 10,
    "start_time": "2021-10-14T19:54:01.870Z"
   },
   {
    "duration": 26,
    "start_time": "2021-10-14T20:05:57.629Z"
   },
   {
    "duration": 26,
    "start_time": "2021-10-14T20:07:19.042Z"
   },
   {
    "duration": 566,
    "start_time": "2021-10-14T20:08:15.341Z"
   },
   {
    "duration": 32,
    "start_time": "2021-10-14T20:09:07.590Z"
   },
   {
    "duration": 31,
    "start_time": "2021-10-14T20:09:14.444Z"
   },
   {
    "duration": 25,
    "start_time": "2021-10-14T20:11:45.385Z"
   },
   {
    "duration": 30,
    "start_time": "2021-10-14T20:12:21.381Z"
   },
   {
    "duration": 31,
    "start_time": "2021-10-14T20:12:55.725Z"
   },
   {
    "duration": 19,
    "start_time": "2021-10-14T20:13:52.362Z"
   },
   {
    "duration": 7,
    "start_time": "2021-10-14T20:30:45.666Z"
   },
   {
    "duration": 44,
    "start_time": "2021-10-14T21:29:11.074Z"
   },
   {
    "duration": 382,
    "start_time": "2021-10-14T21:30:36.290Z"
   },
   {
    "duration": 379,
    "start_time": "2021-10-14T21:31:07.039Z"
   },
   {
    "duration": 46,
    "start_time": "2021-10-14T21:33:18.376Z"
   },
   {
    "duration": 361,
    "start_time": "2021-10-14T21:33:37.841Z"
   },
   {
    "duration": 44,
    "start_time": "2021-10-14T21:33:47.281Z"
   },
   {
    "duration": 13062,
    "start_time": "2021-10-15T10:13:58.799Z"
   },
   {
    "duration": 1607,
    "start_time": "2021-10-15T10:14:11.863Z"
   },
   {
    "duration": 450,
    "start_time": "2021-10-15T10:14:13.472Z"
   },
   {
    "duration": 41,
    "start_time": "2021-10-15T10:14:13.925Z"
   },
   {
    "duration": 77,
    "start_time": "2021-10-15T10:14:13.968Z"
   },
   {
    "duration": 158,
    "start_time": "2021-10-15T10:14:14.048Z"
   },
   {
    "duration": 666,
    "start_time": "2021-10-15T10:14:14.208Z"
   },
   {
    "duration": 245,
    "start_time": "2021-10-15T10:14:14.877Z"
   },
   {
    "duration": 78,
    "start_time": "2021-10-15T10:14:15.124Z"
   },
   {
    "duration": 12,
    "start_time": "2021-10-15T10:14:15.204Z"
   },
   {
    "duration": 28,
    "start_time": "2021-10-15T10:14:15.219Z"
   },
   {
    "duration": 70,
    "start_time": "2021-10-15T10:14:15.249Z"
   },
   {
    "duration": 90,
    "start_time": "2021-10-15T10:14:15.321Z"
   },
   {
    "duration": 408,
    "start_time": "2021-10-15T10:14:15.413Z"
   },
   {
    "duration": 76,
    "start_time": "2021-10-15T10:14:15.824Z"
   },
   {
    "duration": 3,
    "start_time": "2021-10-15T10:14:15.903Z"
   },
   {
    "duration": 11,
    "start_time": "2021-10-15T10:14:15.909Z"
   },
   {
    "duration": 36,
    "start_time": "2021-10-15T10:14:15.923Z"
   },
   {
    "duration": 25,
    "start_time": "2021-10-15T10:14:16.001Z"
   },
   {
    "duration": 15,
    "start_time": "2021-10-15T10:14:16.028Z"
   },
   {
    "duration": 43,
    "start_time": "2021-10-15T10:14:48.520Z"
   },
   {
    "duration": 5898,
    "start_time": "2021-10-15T10:44:51.194Z"
   },
   {
    "duration": 472,
    "start_time": "2021-10-15T10:46:05.976Z"
   },
   {
    "duration": 102,
    "start_time": "2021-10-15T10:49:29.080Z"
   },
   {
    "duration": 305,
    "start_time": "2021-10-15T10:49:35.380Z"
   },
   {
    "duration": 545,
    "start_time": "2021-10-15T10:49:52.672Z"
   },
   {
    "duration": 2308,
    "start_time": "2021-10-15T10:50:58.592Z"
   },
   {
    "duration": 8,
    "start_time": "2021-10-15T10:51:03.611Z"
   },
   {
    "duration": 2213,
    "start_time": "2021-10-15T10:54:32.664Z"
   },
   {
    "duration": 10,
    "start_time": "2021-10-15T10:55:08.884Z"
   },
   {
    "duration": 28,
    "start_time": "2021-10-15T10:56:36.717Z"
   },
   {
    "duration": 24,
    "start_time": "2021-10-15T10:59:58.909Z"
   },
   {
    "duration": 24,
    "start_time": "2021-10-15T11:00:23.481Z"
   },
   {
    "duration": 24,
    "start_time": "2021-10-15T11:01:30.466Z"
   },
   {
    "duration": 23,
    "start_time": "2021-10-15T11:01:43.850Z"
   },
   {
    "duration": 23,
    "start_time": "2021-10-15T11:02:18.970Z"
   },
   {
    "duration": 579,
    "start_time": "2021-10-15T11:05:39.408Z"
   },
   {
    "duration": 1109,
    "start_time": "2021-10-15T11:09:03.981Z"
   },
   {
    "duration": 756,
    "start_time": "2021-10-15T11:09:11.510Z"
   },
   {
    "duration": 1008,
    "start_time": "2021-10-15T11:09:36.596Z"
   },
   {
    "duration": 912,
    "start_time": "2021-10-15T11:09:44.095Z"
   },
   {
    "duration": 816,
    "start_time": "2021-10-15T11:09:51.751Z"
   },
   {
    "duration": 728,
    "start_time": "2021-10-15T11:09:57.790Z"
   },
   {
    "duration": 688,
    "start_time": "2021-10-15T11:10:03.465Z"
   },
   {
    "duration": 863,
    "start_time": "2021-10-15T11:10:09.687Z"
   },
   {
    "duration": 730,
    "start_time": "2021-10-15T11:10:16.823Z"
   },
   {
    "duration": 840,
    "start_time": "2021-10-15T11:14:14.541Z"
   },
   {
    "duration": 738,
    "start_time": "2021-10-15T11:18:40.453Z"
   },
   {
    "duration": 328,
    "start_time": "2021-10-15T11:18:51.224Z"
   },
   {
    "duration": 845,
    "start_time": "2021-10-15T11:19:08.684Z"
   },
   {
    "duration": 973,
    "start_time": "2021-10-15T11:19:36.484Z"
   },
   {
    "duration": 831,
    "start_time": "2021-10-15T11:20:27.843Z"
   },
   {
    "duration": 858,
    "start_time": "2021-10-15T11:20:57.818Z"
   },
   {
    "duration": 841,
    "start_time": "2021-10-15T11:21:04.659Z"
   },
   {
    "duration": 1080,
    "start_time": "2021-10-15T11:21:11.771Z"
   },
   {
    "duration": 855,
    "start_time": "2021-10-15T11:21:18.136Z"
   },
   {
    "duration": 860,
    "start_time": "2021-10-15T11:21:28.700Z"
   },
   {
    "duration": 885,
    "start_time": "2021-10-15T11:22:55.058Z"
   },
   {
    "duration": 1003,
    "start_time": "2021-10-15T11:23:57.159Z"
   },
   {
    "duration": 119,
    "start_time": "2021-10-15T11:24:51.927Z"
   },
   {
    "duration": 894,
    "start_time": "2021-10-15T11:24:59.342Z"
   },
   {
    "duration": 880,
    "start_time": "2021-10-15T11:25:33.032Z"
   },
   {
    "duration": 33,
    "start_time": "2021-10-15T11:32:50.967Z"
   },
   {
    "duration": 105,
    "start_time": "2021-10-15T11:33:32.195Z"
   },
   {
    "duration": 126,
    "start_time": "2021-10-15T11:34:25.314Z"
   },
   {
    "duration": 792,
    "start_time": "2021-10-15T11:35:02.542Z"
   },
   {
    "duration": 359,
    "start_time": "2021-10-15T11:35:43.160Z"
   },
   {
    "duration": 340,
    "start_time": "2021-10-15T11:36:09.314Z"
   },
   {
    "duration": 30,
    "start_time": "2021-10-15T11:36:23.106Z"
   },
   {
    "duration": 30,
    "start_time": "2021-10-15T11:36:32.366Z"
   },
   {
    "duration": 30,
    "start_time": "2021-10-15T11:36:36.760Z"
   },
   {
    "duration": 29,
    "start_time": "2021-10-15T11:39:07.227Z"
   },
   {
    "duration": 33,
    "start_time": "2021-10-15T11:39:29.913Z"
   },
   {
    "duration": 29,
    "start_time": "2021-10-15T11:40:32.012Z"
   },
   {
    "duration": 33,
    "start_time": "2021-10-15T11:40:51.303Z"
   },
   {
    "duration": 36,
    "start_time": "2021-10-15T11:40:59.897Z"
   },
   {
    "duration": 22,
    "start_time": "2021-10-15T11:41:13.139Z"
   },
   {
    "duration": 33,
    "start_time": "2021-10-15T11:41:21.147Z"
   },
   {
    "duration": 19,
    "start_time": "2021-10-15T11:41:33.681Z"
   },
   {
    "duration": 129,
    "start_time": "2021-10-15T11:42:46.780Z"
   },
   {
    "duration": 70,
    "start_time": "2021-10-15T11:43:33.497Z"
   },
   {
    "duration": 61,
    "start_time": "2021-10-15T11:43:40.749Z"
   },
   {
    "duration": 64,
    "start_time": "2021-10-15T11:43:46.127Z"
   },
   {
    "duration": 41,
    "start_time": "2021-10-15T11:44:21.888Z"
   },
   {
    "duration": 10,
    "start_time": "2021-10-15T11:44:48.708Z"
   },
   {
    "duration": 57,
    "start_time": "2021-10-15T12:00:17.189Z"
   },
   {
    "duration": 8211,
    "start_time": "2021-10-15T15:51:46.043Z"
   },
   {
    "duration": 1091,
    "start_time": "2021-10-15T15:51:54.257Z"
   },
   {
    "duration": 339,
    "start_time": "2021-10-15T15:51:55.350Z"
   },
   {
    "duration": 27,
    "start_time": "2021-10-15T15:51:55.692Z"
   },
   {
    "duration": 33,
    "start_time": "2021-10-15T15:51:55.721Z"
   },
   {
    "duration": 113,
    "start_time": "2021-10-15T15:51:55.756Z"
   },
   {
    "duration": 346,
    "start_time": "2021-10-15T15:51:55.871Z"
   },
   {
    "duration": 135,
    "start_time": "2021-10-15T15:51:56.219Z"
   },
   {
    "duration": 57,
    "start_time": "2021-10-15T15:51:56.356Z"
   },
   {
    "duration": 9,
    "start_time": "2021-10-15T15:51:56.415Z"
   },
   {
    "duration": 19,
    "start_time": "2021-10-15T15:51:56.425Z"
   },
   {
    "duration": 10,
    "start_time": "2021-10-15T15:51:56.445Z"
   },
   {
    "duration": 57,
    "start_time": "2021-10-15T15:51:56.457Z"
   },
   {
    "duration": 17,
    "start_time": "2021-10-15T15:51:56.516Z"
   },
   {
    "duration": 66,
    "start_time": "2021-10-15T15:51:56.535Z"
   },
   {
    "duration": 106,
    "start_time": "2021-10-15T15:51:56.692Z"
   },
   {
    "duration": 3,
    "start_time": "2021-10-15T15:51:56.799Z"
   },
   {
    "duration": 8,
    "start_time": "2021-10-15T15:51:56.803Z"
   },
   {
    "duration": 21,
    "start_time": "2021-10-15T15:51:56.812Z"
   },
   {
    "duration": 61,
    "start_time": "2021-10-15T15:51:56.834Z"
   },
   {
    "duration": 1297,
    "start_time": "2021-10-15T15:51:56.896Z"
   },
   {
    "duration": 507,
    "start_time": "2021-10-15T15:51:58.195Z"
   },
   {
    "duration": 20,
    "start_time": "2021-10-15T15:51:58.704Z"
   },
   {
    "duration": 325,
    "start_time": "2021-10-15T20:10:31.658Z"
   },
   {
    "duration": 28,
    "start_time": "2021-10-15T20:10:33.612Z"
   },
   {
    "duration": 59,
    "start_time": "2021-10-15T20:10:55.962Z"
   },
   {
    "duration": 18,
    "start_time": "2021-10-15T20:11:03.766Z"
   },
   {
    "duration": 271,
    "start_time": "2021-10-15T20:11:26.992Z"
   },
   {
    "duration": 352,
    "start_time": "2021-10-15T20:11:35.453Z"
   },
   {
    "duration": 21,
    "start_time": "2021-10-15T20:11:38.218Z"
   },
   {
    "duration": 85,
    "start_time": "2021-10-15T20:11:50.291Z"
   },
   {
    "duration": 16,
    "start_time": "2021-10-15T20:11:57.121Z"
   },
   {
    "duration": 209,
    "start_time": "2021-10-15T20:43:23.459Z"
   },
   {
    "duration": 214,
    "start_time": "2021-10-15T20:43:52.394Z"
   },
   {
    "duration": 277,
    "start_time": "2021-10-15T20:45:00.527Z"
   },
   {
    "duration": 34,
    "start_time": "2021-10-15T20:45:10.984Z"
   },
   {
    "duration": 32,
    "start_time": "2021-10-15T20:46:35.760Z"
   },
   {
    "duration": 32,
    "start_time": "2021-10-15T20:46:42.343Z"
   },
   {
    "duration": 39,
    "start_time": "2021-10-15T20:49:31.997Z"
   },
   {
    "duration": 39,
    "start_time": "2021-10-15T20:49:39.381Z"
   },
   {
    "duration": 64,
    "start_time": "2021-10-15T20:51:52.089Z"
   },
   {
    "duration": 62,
    "start_time": "2021-10-15T20:52:17.121Z"
   },
   {
    "duration": 196,
    "start_time": "2021-10-15T20:52:42.193Z"
   },
   {
    "duration": 20,
    "start_time": "2021-10-15T20:53:16.558Z"
   },
   {
    "duration": 1877,
    "start_time": "2021-10-15T21:22:18.364Z"
   },
   {
    "duration": 4,
    "start_time": "2021-10-15T21:22:20.243Z"
   },
   {
    "duration": 364,
    "start_time": "2021-10-15T21:22:20.249Z"
   },
   {
    "duration": 19,
    "start_time": "2021-10-15T21:22:20.615Z"
   },
   {
    "duration": 34,
    "start_time": "2021-10-15T21:22:20.635Z"
   },
   {
    "duration": 86,
    "start_time": "2021-10-15T21:22:20.691Z"
   },
   {
    "duration": 46,
    "start_time": "2021-10-15T21:22:20.791Z"
   },
   {
    "duration": 136,
    "start_time": "2021-10-15T21:22:20.839Z"
   },
   {
    "duration": 52,
    "start_time": "2021-10-15T21:22:20.976Z"
   },
   {
    "duration": 10,
    "start_time": "2021-10-15T21:22:21.029Z"
   },
   {
    "duration": 18,
    "start_time": "2021-10-15T21:22:21.040Z"
   },
   {
    "duration": 32,
    "start_time": "2021-10-15T21:22:21.059Z"
   },
   {
    "duration": 39,
    "start_time": "2021-10-15T21:22:21.092Z"
   },
   {
    "duration": 58,
    "start_time": "2021-10-15T21:22:21.133Z"
   },
   {
    "duration": 200,
    "start_time": "2021-10-15T21:22:21.193Z"
   },
   {
    "duration": 102,
    "start_time": "2021-10-15T21:22:21.395Z"
   },
   {
    "duration": 3,
    "start_time": "2021-10-15T21:22:21.498Z"
   },
   {
    "duration": 89,
    "start_time": "2021-10-15T21:22:21.503Z"
   },
   {
    "duration": 22,
    "start_time": "2021-10-15T21:22:21.594Z"
   },
   {
    "duration": 13,
    "start_time": "2021-10-15T21:22:21.617Z"
   },
   {
    "duration": 1325,
    "start_time": "2021-10-15T21:22:21.632Z"
   },
   {
    "duration": 521,
    "start_time": "2021-10-15T21:22:22.959Z"
   },
   {
    "duration": 27,
    "start_time": "2021-10-15T21:22:23.482Z"
   },
   {
    "duration": 3,
    "start_time": "2021-10-15T21:26:21.086Z"
   },
   {
    "duration": 11658,
    "start_time": "2021-10-16T11:01:19.312Z"
   },
   {
    "duration": 1557,
    "start_time": "2021-10-16T11:01:30.973Z"
   },
   {
    "duration": 458,
    "start_time": "2021-10-16T11:01:32.533Z"
   },
   {
    "duration": 31,
    "start_time": "2021-10-16T11:01:32.993Z"
   },
   {
    "duration": 73,
    "start_time": "2021-10-16T11:01:33.026Z"
   },
   {
    "duration": 161,
    "start_time": "2021-10-16T11:01:33.101Z"
   },
   {
    "duration": 833,
    "start_time": "2021-10-16T11:01:33.265Z"
   },
   {
    "duration": 227,
    "start_time": "2021-10-16T11:01:34.104Z"
   },
   {
    "duration": 73,
    "start_time": "2021-10-16T11:01:34.335Z"
   },
   {
    "duration": 16,
    "start_time": "2021-10-16T11:01:34.411Z"
   },
   {
    "duration": 28,
    "start_time": "2021-10-16T11:01:34.458Z"
   },
   {
    "duration": 12,
    "start_time": "2021-10-16T11:01:34.488Z"
   },
   {
    "duration": 98,
    "start_time": "2021-10-16T11:01:34.502Z"
   },
   {
    "duration": 66,
    "start_time": "2021-10-16T11:01:34.602Z"
   },
   {
    "duration": 190,
    "start_time": "2021-10-16T11:01:34.670Z"
   },
   {
    "duration": 112,
    "start_time": "2021-10-16T11:01:34.863Z"
   },
   {
    "duration": 5,
    "start_time": "2021-10-16T11:01:34.978Z"
   },
   {
    "duration": 74,
    "start_time": "2021-10-16T11:01:34.986Z"
   },
   {
    "duration": 33,
    "start_time": "2021-10-16T11:01:35.062Z"
   },
   {
    "duration": 69,
    "start_time": "2021-10-16T11:01:35.098Z"
   },
   {
    "duration": 2533,
    "start_time": "2021-10-16T11:01:35.170Z"
   },
   {
    "duration": 967,
    "start_time": "2021-10-16T11:01:37.706Z"
   },
   {
    "duration": 83,
    "start_time": "2021-10-16T11:01:38.679Z"
   },
   {
    "duration": 5,
    "start_time": "2021-10-16T11:24:30.135Z"
   },
   {
    "duration": 13,
    "start_time": "2021-10-16T11:40:22.913Z"
   },
   {
    "duration": 5,
    "start_time": "2021-10-16T11:46:25.585Z"
   },
   {
    "duration": 21,
    "start_time": "2021-10-16T11:49:07.789Z"
   },
   {
    "duration": 21,
    "start_time": "2021-10-16T11:54:43.437Z"
   },
   {
    "duration": 21,
    "start_time": "2021-10-16T11:56:56.690Z"
   },
   {
    "duration": 24,
    "start_time": "2021-10-16T12:01:20.625Z"
   },
   {
    "duration": 22,
    "start_time": "2021-10-16T12:04:34.181Z"
   },
   {
    "duration": 22,
    "start_time": "2021-10-16T12:04:46.358Z"
   },
   {
    "duration": 26,
    "start_time": "2021-10-16T12:07:01.287Z"
   },
   {
    "duration": 22,
    "start_time": "2021-10-16T12:07:35.987Z"
   },
   {
    "duration": 24,
    "start_time": "2021-10-16T12:13:15.914Z"
   },
   {
    "duration": 41,
    "start_time": "2021-10-16T12:20:48.511Z"
   },
   {
    "duration": 34,
    "start_time": "2021-10-16T12:21:06.638Z"
   },
   {
    "duration": 12,
    "start_time": "2021-10-16T12:25:11.751Z"
   },
   {
    "duration": 35,
    "start_time": "2021-10-16T12:25:41.003Z"
   },
   {
    "duration": 6,
    "start_time": "2021-10-16T12:39:54.872Z"
   },
   {
    "duration": 565,
    "start_time": "2021-10-16T12:40:03.771Z"
   },
   {
    "duration": 424,
    "start_time": "2021-10-16T12:40:19.934Z"
   },
   {
    "duration": 425,
    "start_time": "2021-10-16T12:42:29.057Z"
   },
   {
    "duration": 591,
    "start_time": "2021-10-16T12:42:39.854Z"
   },
   {
    "duration": 413,
    "start_time": "2021-10-16T12:43:46.724Z"
   },
   {
    "duration": 412,
    "start_time": "2021-10-16T12:44:00.398Z"
   },
   {
    "duration": 423,
    "start_time": "2021-10-16T12:46:16.165Z"
   },
   {
    "duration": 461,
    "start_time": "2021-10-16T12:46:20.077Z"
   },
   {
    "duration": 25,
    "start_time": "2021-10-16T12:47:25.171Z"
   },
   {
    "duration": 35,
    "start_time": "2021-10-16T12:47:44.756Z"
   },
   {
    "duration": 408,
    "start_time": "2021-10-16T12:48:06.946Z"
   },
   {
    "duration": 416,
    "start_time": "2021-10-16T12:48:54.081Z"
   },
   {
    "duration": 459,
    "start_time": "2021-10-16T12:49:56.961Z"
   },
   {
    "duration": 148,
    "start_time": "2021-10-16T12:52:32.325Z"
   },
   {
    "duration": 465,
    "start_time": "2021-10-16T12:52:44.149Z"
   },
   {
    "duration": 561,
    "start_time": "2021-10-16T12:53:01.129Z"
   },
   {
    "duration": 185,
    "start_time": "2021-10-16T12:53:19.877Z"
   },
   {
    "duration": 205,
    "start_time": "2021-10-16T12:53:30.854Z"
   },
   {
    "duration": 184,
    "start_time": "2021-10-16T13:05:47.680Z"
   },
   {
    "duration": 135,
    "start_time": "2021-10-16T13:07:47.725Z"
   },
   {
    "duration": 415,
    "start_time": "2021-10-16T13:08:08.336Z"
   },
   {
    "duration": 199,
    "start_time": "2021-10-16T13:08:15.367Z"
   },
   {
    "duration": 163,
    "start_time": "2021-10-16T13:09:00.899Z"
   },
   {
    "duration": 449,
    "start_time": "2021-10-16T13:10:25.214Z"
   },
   {
    "duration": 566,
    "start_time": "2021-10-16T13:10:36.692Z"
   },
   {
    "duration": 447,
    "start_time": "2021-10-16T13:11:31.613Z"
   },
   {
    "duration": 269,
    "start_time": "2021-10-16T13:12:58.098Z"
   },
   {
    "duration": 130,
    "start_time": "2021-10-16T13:13:13.334Z"
   },
   {
    "duration": 488,
    "start_time": "2021-10-16T13:13:58.839Z"
   },
   {
    "duration": 377,
    "start_time": "2021-10-16T13:14:03.681Z"
   },
   {
    "duration": 256,
    "start_time": "2021-10-16T13:15:48.704Z"
   },
   {
    "duration": 434,
    "start_time": "2021-10-16T13:16:21.233Z"
   },
   {
    "duration": 520,
    "start_time": "2021-10-16T13:16:38.446Z"
   },
   {
    "duration": 515,
    "start_time": "2021-10-16T13:17:29.245Z"
   },
   {
    "duration": 259,
    "start_time": "2021-10-16T13:17:53.101Z"
   },
   {
    "duration": 172,
    "start_time": "2021-10-16T13:18:05.189Z"
   },
   {
    "duration": 5135,
    "start_time": "2021-10-16T13:18:09.537Z"
   },
   {
    "duration": 848,
    "start_time": "2021-10-16T13:18:13.827Z"
   },
   {
    "duration": 832,
    "start_time": "2021-10-16T13:18:13.844Z"
   },
   {
    "duration": 811,
    "start_time": "2021-10-16T13:18:13.866Z"
   },
   {
    "duration": 792,
    "start_time": "2021-10-16T13:18:13.887Z"
   },
   {
    "duration": 784,
    "start_time": "2021-10-16T13:18:13.896Z"
   },
   {
    "duration": 767,
    "start_time": "2021-10-16T13:18:13.914Z"
   },
   {
    "duration": 413,
    "start_time": "2021-10-16T13:18:46.547Z"
   },
   {
    "duration": 403,
    "start_time": "2021-10-16T13:20:05.067Z"
   },
   {
    "duration": 139,
    "start_time": "2021-10-16T13:20:18.019Z"
   },
   {
    "duration": 22,
    "start_time": "2021-10-16T13:20:28.629Z"
   },
   {
    "duration": 3,
    "start_time": "2021-10-16T13:20:28.653Z"
   },
   {
    "duration": 10,
    "start_time": "2021-10-16T13:20:28.659Z"
   },
   {
    "duration": 27,
    "start_time": "2021-10-16T13:20:28.672Z"
   },
   {
    "duration": 1910,
    "start_time": "2021-10-16T13:20:28.701Z"
   },
   {
    "duration": 597,
    "start_time": "2021-10-16T13:20:30.613Z"
   },
   {
    "duration": 926,
    "start_time": "2021-10-16T13:20:30.286Z"
   },
   {
    "duration": 1864,
    "start_time": "2021-10-16T13:21:26.173Z"
   },
   {
    "duration": 828,
    "start_time": "2021-10-16T13:22:02.804Z"
   },
   {
    "duration": 1863,
    "start_time": "2021-10-16T13:23:01.713Z"
   },
   {
    "duration": 36,
    "start_time": "2021-10-16T13:23:48.142Z"
   },
   {
    "duration": 36,
    "start_time": "2021-10-16T13:24:14.009Z"
   },
   {
    "duration": 37,
    "start_time": "2021-10-16T13:30:19.452Z"
   },
   {
    "duration": 41,
    "start_time": "2021-10-16T13:30:32.571Z"
   },
   {
    "duration": 22,
    "start_time": "2021-10-16T13:30:52.835Z"
   },
   {
    "duration": 899,
    "start_time": "2021-10-16T13:31:01.024Z"
   },
   {
    "duration": 36,
    "start_time": "2021-10-16T13:31:25.866Z"
   },
   {
    "duration": 884,
    "start_time": "2021-10-16T13:31:57.527Z"
   },
   {
    "duration": 964,
    "start_time": "2021-10-16T13:32:10.281Z"
   },
   {
    "duration": 1019,
    "start_time": "2021-10-16T13:32:41.438Z"
   },
   {
    "duration": 1369,
    "start_time": "2021-10-16T13:33:12.559Z"
   },
   {
    "duration": 861,
    "start_time": "2021-10-16T13:33:17.923Z"
   },
   {
    "duration": 4065,
    "start_time": "2021-10-16T13:33:35.957Z"
   },
   {
    "duration": 892,
    "start_time": "2021-10-16T13:33:40.025Z"
   },
   {
    "duration": 1002,
    "start_time": "2021-10-16T13:33:50.567Z"
   },
   {
    "duration": 854,
    "start_time": "2021-10-16T13:34:18.717Z"
   },
   {
    "duration": 926,
    "start_time": "2021-10-16T13:34:24.980Z"
   },
   {
    "duration": 969,
    "start_time": "2021-10-16T13:34:31.006Z"
   },
   {
    "duration": 36,
    "start_time": "2021-10-16T13:37:32.265Z"
   },
   {
    "duration": 870,
    "start_time": "2021-10-16T13:38:55.896Z"
   },
   {
    "duration": 873,
    "start_time": "2021-10-16T13:39:12.695Z"
   },
   {
    "duration": 858,
    "start_time": "2021-10-16T13:39:18.750Z"
   },
   {
    "duration": 948,
    "start_time": "2021-10-16T13:39:23.414Z"
   },
   {
    "duration": 129,
    "start_time": "2021-10-16T13:45:27.897Z"
   }
  ],
  "kernelspec": {
   "display_name": "Python 3",
   "language": "python",
   "name": "python3"
  },
  "language_info": {
   "codemirror_mode": {
    "name": "ipython",
    "version": 3
   },
   "file_extension": ".py",
   "mimetype": "text/x-python",
   "name": "python",
   "nbconvert_exporter": "python",
   "pygments_lexer": "ipython3",
   "version": "3.7.8"
  },
  "toc": {
   "base_numbering": 1,
   "nav_menu": {},
   "number_sections": true,
   "sideBar": true,
   "skip_h1_title": true,
   "title_cell": "Table of Contents",
   "title_sidebar": "Contents",
   "toc_cell": false,
   "toc_position": {
    "height": "calc(100% - 180px)",
    "left": "10px",
    "top": "150px",
    "width": "240px"
   },
   "toc_section_display": true,
   "toc_window_display": true
  }
 },
 "nbformat": 4,
 "nbformat_minor": 2
}
