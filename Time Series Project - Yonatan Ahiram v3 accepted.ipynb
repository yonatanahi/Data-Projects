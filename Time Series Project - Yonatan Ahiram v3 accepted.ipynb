{
 "cells": [
  {
   "cell_type": "markdown",
   "metadata": {},
   "source": [
    "<div class=\"alert alert-success\">\n",
    "<b>Reviewer's comment V3</b>\n",
    "\t  \n",
    "Thank you for taking the time to improve the project! Now it is accepted. Good luck on the next sprint! :)\n",
    "\t  \n",
    "</div>"
   ]
  },
  {
   "cell_type": "markdown",
   "metadata": {},
   "source": [
    "**Review**\n",
    "\t  \n",
    "Hi, my name is Dmitry and I will be reviewing your project.\n",
    "  \n",
    "You can find my comments in colored markdown cells:\n",
    "  \n",
    "<div class=\"alert alert-success\">\n",
    "  If everything is done successfully.\n",
    "</div>\n",
    "  \n",
    "<div class=\"alert alert-warning\">\n",
    "  If I have some (optional) suggestions, or questions to think about, or general comments.\n",
    "</div>\n",
    "  \n",
    "<div class=\"alert alert-danger\">\n",
    "  If a section requires some corrections. Work can't be accepted with red comments.\n",
    "</div>\n",
    "  \n",
    "Please don't remove my comments, as it will make further review iterations much harder for me.\n",
    "  \n",
    "Feel free to reply to my comments or ask questions using the following template:\n",
    "  \n",
    "<div class=\"alert alert-info\">\n",
    "  For your comments and questions.\n",
    "</div>\n",
    "  \n",
    "First of all, thank you for turning in the project! You did a great job overall, there's just one small problem that needs to be fixed before the project can be accepted. Should be pretty straightforward though!"
   ]
  },
  {
   "cell_type": "markdown",
   "metadata": {},
   "source": [
    "# Project description\n",
    "\n",
    "Sweet Lift Taxi company has collected historical data on taxi orders at airports. To attract more drivers during peak hours, we need to predict the amount of taxi orders for the next hour. Build a model for such a prediction.\n",
    "\n",
    "The RMSE metric on the test set should not be more than 48.\n",
    "\n",
    "## Project instructions\n",
    "\n",
    "1. Download the data and resample it by one hour.\n",
    "2. Analyze the data.\n",
    "3. Train different models with different hyperparameters. The test sample should be 10% of the initial dataset. \n",
    "4. Test the data using the test sample and provide a conclusion.\n",
    "\n",
    "## Data description\n",
    "\n",
    "The data is stored in file `taxi.csv`. The number of orders is in the '*num_orders*' column."
   ]
  },
  {
   "cell_type": "markdown",
   "metadata": {},
   "source": [
    "## Preparation"
   ]
  },
  {
   "cell_type": "code",
   "execution_count": 1,
   "metadata": {},
   "outputs": [
    {
     "name": "stdout",
     "output_type": "stream",
     "text": [
      "Defaulting to user installation because normal site-packages is not writeable\n",
      "Requirement already up-to-date: scikit-learn in /home/jovyan/.local/lib/python3.7/site-packages (1.0.1)\n",
      "Requirement already satisfied, skipping upgrade: joblib>=0.11 in /opt/conda/lib/python3.7/site-packages (from scikit-learn) (1.0.1)\n",
      "Requirement already satisfied, skipping upgrade: scipy>=1.1.0 in /opt/conda/lib/python3.7/site-packages (from scikit-learn) (1.4.1)\n",
      "Requirement already satisfied, skipping upgrade: numpy>=1.14.6 in /opt/conda/lib/python3.7/site-packages (from scikit-learn) (1.19.5)\n",
      "Requirement already satisfied, skipping upgrade: threadpoolctl>=2.0.0 in /home/jovyan/.local/lib/python3.7/site-packages (from scikit-learn) (3.0.0)\n"
     ]
    }
   ],
   "source": [
    "!pip install -U scikit-learn --upgrade # sklearn"
   ]
  },
  {
   "cell_type": "markdown",
   "metadata": {},
   "source": [
    "### Imports"
   ]
  },
  {
   "cell_type": "code",
   "execution_count": 2,
   "metadata": {},
   "outputs": [],
   "source": [
    "import pandas as pd\n",
    "import numpy as np\n",
    "import math\n",
    "from math import sqrt\n",
    "\n",
    "from statsmodels.tsa.seasonal import seasonal_decompose\n",
    "from statsmodels.tools.eval_measures import rmse\n",
    "\n",
    "import matplotlib.pyplot as plt\n",
    "\n",
    "import sklearn\n",
    "from sklearn.model_selection import train_test_split, GridSearchCV\n",
    "from sklearn.model_selection import TimeSeriesSplit\n",
    "from sklearn.model_selection import cross_validate\n",
    "from sklearn.linear_model import LinearRegression\n",
    "from sklearn.ensemble import RandomForestRegressor\n",
    "from sklearn.metrics import mean_squared_error, make_scorer\n",
    "\n",
    "\n",
    "from catboost import CatBoostRegressor"
   ]
  },
  {
   "cell_type": "code",
   "execution_count": 3,
   "metadata": {},
   "outputs": [
    {
     "data": {
      "text/html": [
       "<div>\n",
       "<style scoped>\n",
       "    .dataframe tbody tr th:only-of-type {\n",
       "        vertical-align: middle;\n",
       "    }\n",
       "\n",
       "    .dataframe tbody tr th {\n",
       "        vertical-align: top;\n",
       "    }\n",
       "\n",
       "    .dataframe thead th {\n",
       "        text-align: right;\n",
       "    }\n",
       "</style>\n",
       "<table border=\"1\" class=\"dataframe\">\n",
       "  <thead>\n",
       "    <tr style=\"text-align: right;\">\n",
       "      <th></th>\n",
       "      <th>datetime</th>\n",
       "      <th>num_orders</th>\n",
       "    </tr>\n",
       "  </thead>\n",
       "  <tbody>\n",
       "    <tr>\n",
       "      <td>0</td>\n",
       "      <td>2018-03-01 00:00:00</td>\n",
       "      <td>9</td>\n",
       "    </tr>\n",
       "    <tr>\n",
       "      <td>1</td>\n",
       "      <td>2018-03-01 00:10:00</td>\n",
       "      <td>14</td>\n",
       "    </tr>\n",
       "    <tr>\n",
       "      <td>2</td>\n",
       "      <td>2018-03-01 00:20:00</td>\n",
       "      <td>28</td>\n",
       "    </tr>\n",
       "    <tr>\n",
       "      <td>3</td>\n",
       "      <td>2018-03-01 00:30:00</td>\n",
       "      <td>20</td>\n",
       "    </tr>\n",
       "    <tr>\n",
       "      <td>4</td>\n",
       "      <td>2018-03-01 00:40:00</td>\n",
       "      <td>32</td>\n",
       "    </tr>\n",
       "  </tbody>\n",
       "</table>\n",
       "</div>"
      ],
      "text/plain": [
       "              datetime  num_orders\n",
       "0  2018-03-01 00:00:00           9\n",
       "1  2018-03-01 00:10:00          14\n",
       "2  2018-03-01 00:20:00          28\n",
       "3  2018-03-01 00:30:00          20\n",
       "4  2018-03-01 00:40:00          32"
      ]
     },
     "execution_count": 3,
     "metadata": {},
     "output_type": "execute_result"
    }
   ],
   "source": [
    "df = pd.read_csv('https://code.s3.yandex.net/datasets/taxi.csv')\n",
    "df.head()"
   ]
  },
  {
   "cell_type": "code",
   "execution_count": 4,
   "metadata": {},
   "outputs": [
    {
     "name": "stdout",
     "output_type": "stream",
     "text": [
      "<class 'pandas.core.frame.DataFrame'>\n",
      "RangeIndex: 26496 entries, 0 to 26495\n",
      "Data columns (total 2 columns):\n",
      "datetime      26496 non-null object\n",
      "num_orders    26496 non-null int64\n",
      "dtypes: int64(1), object(1)\n",
      "memory usage: 414.1+ KB\n"
     ]
    }
   ],
   "source": [
    "df.info()"
   ]
  },
  {
   "cell_type": "code",
   "execution_count": 5,
   "metadata": {},
   "outputs": [
    {
     "data": {
      "text/html": [
       "<div>\n",
       "<style scoped>\n",
       "    .dataframe tbody tr th:only-of-type {\n",
       "        vertical-align: middle;\n",
       "    }\n",
       "\n",
       "    .dataframe tbody tr th {\n",
       "        vertical-align: top;\n",
       "    }\n",
       "\n",
       "    .dataframe thead th {\n",
       "        text-align: right;\n",
       "    }\n",
       "</style>\n",
       "<table border=\"1\" class=\"dataframe\">\n",
       "  <thead>\n",
       "    <tr style=\"text-align: right;\">\n",
       "      <th></th>\n",
       "      <th>num_orders</th>\n",
       "    </tr>\n",
       "  </thead>\n",
       "  <tbody>\n",
       "    <tr>\n",
       "      <td>count</td>\n",
       "      <td>26496.000000</td>\n",
       "    </tr>\n",
       "    <tr>\n",
       "      <td>mean</td>\n",
       "      <td>14.070463</td>\n",
       "    </tr>\n",
       "    <tr>\n",
       "      <td>std</td>\n",
       "      <td>9.211330</td>\n",
       "    </tr>\n",
       "    <tr>\n",
       "      <td>min</td>\n",
       "      <td>0.000000</td>\n",
       "    </tr>\n",
       "    <tr>\n",
       "      <td>25%</td>\n",
       "      <td>8.000000</td>\n",
       "    </tr>\n",
       "    <tr>\n",
       "      <td>50%</td>\n",
       "      <td>13.000000</td>\n",
       "    </tr>\n",
       "    <tr>\n",
       "      <td>75%</td>\n",
       "      <td>19.000000</td>\n",
       "    </tr>\n",
       "    <tr>\n",
       "      <td>max</td>\n",
       "      <td>119.000000</td>\n",
       "    </tr>\n",
       "  </tbody>\n",
       "</table>\n",
       "</div>"
      ],
      "text/plain": [
       "         num_orders\n",
       "count  26496.000000\n",
       "mean      14.070463\n",
       "std        9.211330\n",
       "min        0.000000\n",
       "25%        8.000000\n",
       "50%       13.000000\n",
       "75%       19.000000\n",
       "max      119.000000"
      ]
     },
     "execution_count": 5,
     "metadata": {},
     "output_type": "execute_result"
    }
   ],
   "source": [
    "df.describe()"
   ]
  },
  {
   "cell_type": "markdown",
   "metadata": {},
   "source": [
    "### Duplicates"
   ]
  },
  {
   "cell_type": "code",
   "execution_count": 6,
   "metadata": {},
   "outputs": [
    {
     "data": {
      "text/plain": [
       "0"
      ]
     },
     "execution_count": 6,
     "metadata": {},
     "output_type": "execute_result"
    }
   ],
   "source": [
    "df.duplicated().sum()"
   ]
  },
  {
   "cell_type": "markdown",
   "metadata": {},
   "source": [
    "### Missing Values"
   ]
  },
  {
   "cell_type": "code",
   "execution_count": 7,
   "metadata": {},
   "outputs": [
    {
     "data": {
      "text/plain": [
       "datetime      0\n",
       "num_orders    0\n",
       "dtype: int64"
      ]
     },
     "execution_count": 7,
     "metadata": {},
     "output_type": "execute_result"
    }
   ],
   "source": [
    "df.isnull().sum()"
   ]
  },
  {
   "cell_type": "markdown",
   "metadata": {},
   "source": [
    "### Converting & setting datetime as index"
   ]
  },
  {
   "cell_type": "code",
   "execution_count": 8,
   "metadata": {},
   "outputs": [
    {
     "data": {
      "text/html": [
       "<div>\n",
       "<style scoped>\n",
       "    .dataframe tbody tr th:only-of-type {\n",
       "        vertical-align: middle;\n",
       "    }\n",
       "\n",
       "    .dataframe tbody tr th {\n",
       "        vertical-align: top;\n",
       "    }\n",
       "\n",
       "    .dataframe thead th {\n",
       "        text-align: right;\n",
       "    }\n",
       "</style>\n",
       "<table border=\"1\" class=\"dataframe\">\n",
       "  <thead>\n",
       "    <tr style=\"text-align: right;\">\n",
       "      <th></th>\n",
       "      <th>num_orders</th>\n",
       "    </tr>\n",
       "    <tr>\n",
       "      <th>datetime</th>\n",
       "      <th></th>\n",
       "    </tr>\n",
       "  </thead>\n",
       "  <tbody>\n",
       "    <tr>\n",
       "      <td>2018-03-01 00:00:00</td>\n",
       "      <td>9</td>\n",
       "    </tr>\n",
       "    <tr>\n",
       "      <td>2018-03-01 00:10:00</td>\n",
       "      <td>14</td>\n",
       "    </tr>\n",
       "    <tr>\n",
       "      <td>2018-03-01 00:20:00</td>\n",
       "      <td>28</td>\n",
       "    </tr>\n",
       "    <tr>\n",
       "      <td>2018-03-01 00:30:00</td>\n",
       "      <td>20</td>\n",
       "    </tr>\n",
       "    <tr>\n",
       "      <td>2018-03-01 00:40:00</td>\n",
       "      <td>32</td>\n",
       "    </tr>\n",
       "  </tbody>\n",
       "</table>\n",
       "</div>"
      ],
      "text/plain": [
       "                     num_orders\n",
       "datetime                       \n",
       "2018-03-01 00:00:00           9\n",
       "2018-03-01 00:10:00          14\n",
       "2018-03-01 00:20:00          28\n",
       "2018-03-01 00:30:00          20\n",
       "2018-03-01 00:40:00          32"
      ]
     },
     "execution_count": 8,
     "metadata": {},
     "output_type": "execute_result"
    }
   ],
   "source": [
    "df.datetime = pd.to_datetime(df.datetime)\n",
    "df.set_index('datetime', inplace=True)\n",
    "df.sort_index(inplace=True)\n",
    "df.head()"
   ]
  },
  {
   "cell_type": "markdown",
   "metadata": {},
   "source": [
    "<div class=\"alert alert-success\">\n",
    "<b>Reviewer's comment</b>\n",
    "\t  \n",
    "Great, you loaded the data and made sure it is in chronological order!\n",
    "\t  \n",
    "</div>"
   ]
  },
  {
   "cell_type": "markdown",
   "metadata": {},
   "source": [
    "### Resampling"
   ]
  },
  {
   "cell_type": "code",
   "execution_count": 9,
   "metadata": {},
   "outputs": [
    {
     "data": {
      "text/html": [
       "<div>\n",
       "<style scoped>\n",
       "    .dataframe tbody tr th:only-of-type {\n",
       "        vertical-align: middle;\n",
       "    }\n",
       "\n",
       "    .dataframe tbody tr th {\n",
       "        vertical-align: top;\n",
       "    }\n",
       "\n",
       "    .dataframe thead th {\n",
       "        text-align: right;\n",
       "    }\n",
       "</style>\n",
       "<table border=\"1\" class=\"dataframe\">\n",
       "  <thead>\n",
       "    <tr style=\"text-align: right;\">\n",
       "      <th></th>\n",
       "      <th>num_orders</th>\n",
       "    </tr>\n",
       "    <tr>\n",
       "      <th>datetime</th>\n",
       "      <th></th>\n",
       "    </tr>\n",
       "  </thead>\n",
       "  <tbody>\n",
       "    <tr>\n",
       "      <td>2018-03-01 00:00:00</td>\n",
       "      <td>124</td>\n",
       "    </tr>\n",
       "    <tr>\n",
       "      <td>2018-03-01 01:00:00</td>\n",
       "      <td>85</td>\n",
       "    </tr>\n",
       "    <tr>\n",
       "      <td>2018-03-01 02:00:00</td>\n",
       "      <td>71</td>\n",
       "    </tr>\n",
       "    <tr>\n",
       "      <td>2018-03-01 03:00:00</td>\n",
       "      <td>66</td>\n",
       "    </tr>\n",
       "    <tr>\n",
       "      <td>2018-03-01 04:00:00</td>\n",
       "      <td>43</td>\n",
       "    </tr>\n",
       "  </tbody>\n",
       "</table>\n",
       "</div>"
      ],
      "text/plain": [
       "                     num_orders\n",
       "datetime                       \n",
       "2018-03-01 00:00:00         124\n",
       "2018-03-01 01:00:00          85\n",
       "2018-03-01 02:00:00          71\n",
       "2018-03-01 03:00:00          66\n",
       "2018-03-01 04:00:00          43"
      ]
     },
     "execution_count": 9,
     "metadata": {},
     "output_type": "execute_result"
    }
   ],
   "source": [
    "df = df.resample('1H').sum()\n",
    "df.head()"
   ]
  },
  {
   "cell_type": "markdown",
   "metadata": {},
   "source": [
    "<div class=\"alert alert-success\">\n",
    "<b>Reviewer's comment</b>\n",
    "\t  \n",
    "The data was resampled correctly\n",
    "\t  \n",
    "</div>"
   ]
  },
  {
   "cell_type": "markdown",
   "metadata": {},
   "source": [
    "### Conclusion\n",
    "In this section, we:\n",
    "* imported the required libraries\n",
    "* loaded the data\n",
    "* had a first look into the data\n",
    "* looked into the data info\n",
    "* displayed the descriptive statistics\n",
    "* checked for duplicates\n",
    "* checked for missing values\n",
    "* converted & set datetime as index\n",
    "* resampled the data"
   ]
  },
  {
   "cell_type": "markdown",
   "metadata": {},
   "source": [
    "<div class=\"alert alert-success\">\n",
    "<b>Reviewer's comment</b>\n",
    "\t  \n",
    "Good!\n",
    "\t  \n",
    "</div>"
   ]
  },
  {
   "cell_type": "markdown",
   "metadata": {},
   "source": [
    "## Analysis"
   ]
  },
  {
   "cell_type": "code",
   "execution_count": 10,
   "metadata": {},
   "outputs": [
    {
     "name": "stdout",
     "output_type": "stream",
     "text": [
      "Minimal index: 2018-03-01 00:00:00 \n",
      "Maximal index: 2018-08-31 23:00:00\n"
     ]
    }
   ],
   "source": [
    "print('Minimal index:', df.index.min(), '\\nMaximal index:', df.index.max())"
   ]
  },
  {
   "cell_type": "code",
   "execution_count": 11,
   "metadata": {},
   "outputs": [
    {
     "data": {
      "image/png": "[encoded data removed]",
      "text/plain": [
       "<Figure size 720x1080 with 3 Axes>"
      ]
     },
     "metadata": {
      "needs_background": "light"
     },
     "output_type": "display_data"
    }
   ],
   "source": [
    "decomposed = seasonal_decompose(df) \n",
    "\n",
    "plt.figure(figsize=(10, 15))\n",
    "\n",
    "plt.subplot(311)\n",
    "decomposed.trend.plot(ax=plt.gca())\n",
    "plt.title('Trend')\n",
    "\n",
    "plt.subplot(312)\n",
    "decomposed.seasonal['2018-03-01' : '2018-03-07'].plot(ax=plt.gca())\n",
    "plt.title('Seasonality')\n",
    "\n",
    "plt.subplot(313)\n",
    "decomposed.resid.plot(ax=plt.gca())\n",
    "plt.title('Residuals')\n",
    "\n",
    "plt.tight_layout()"
   ]
  },
  {
   "cell_type": "markdown",
   "metadata": {},
   "source": [
    "We can see the trend in the first plot: there are more orders over time.\n",
    "\n",
    "We take only a week for seasonal plot: there is a pattern for everyday.\n",
    "\n",
    "The residuals have a mean around zero."
   ]
  },
  {
   "cell_type": "code",
   "execution_count": 12,
   "metadata": {
    "scrolled": true
   },
   "outputs": [
    {
     "data": {
      "image/png": "[encoded data removed]",
      "text/plain": [
       "<Figure size 720x360 with 1 Axes>"
      ]
     },
     "metadata": {
      "needs_background": "light"
     },
     "output_type": "display_data"
    }
   ],
   "source": [
    "df['mean'] = df.num_orders.rolling(24).mean() \n",
    "df['std'] = df.num_orders.rolling(24).std() \n",
    "\n",
    "df.plot(figsize=(10, 5))\n",
    "plt.show()"
   ]
  },
  {
   "cell_type": "markdown",
   "metadata": {},
   "source": [
    "We added the rolling mean and std to the data. We can see that the mean and std changes over time, what means that our data is nonstationary."
   ]
  },
  {
   "cell_type": "markdown",
   "metadata": {},
   "source": [
    "<div class=\"alert alert-success\">\n",
    "<b>Reviewer's comment</b>\n",
    "\t  \n",
    "Great, you visualized the data, did a seasonal decomposition and noted some patterns\n",
    "\t  \n",
    "</div>"
   ]
  },
  {
   "cell_type": "markdown",
   "metadata": {},
   "source": [
    "### Converting to Stationary Series"
   ]
  },
  {
   "cell_type": "code",
   "execution_count": 13,
   "metadata": {},
   "outputs": [
    {
     "data": {
      "image/png": "[encoded data removed]",
      "text/plain": [
       "<Figure size 432x288 with 1 Axes>"
      ]
     },
     "metadata": {
      "needs_background": "light"
     },
     "output_type": "display_data"
    }
   ],
   "source": [
    "df -= df.shift()\n",
    "df['mean'] = df.num_orders.rolling(15).mean()\n",
    "df['std'] = df.num_orders.rolling(15).std()\n",
    "df.plot()\n",
    "plt.show()"
   ]
  },
  {
   "cell_type": "markdown",
   "metadata": {},
   "source": [
    "In order to be able to predict with our models, we converted the data to stationary series."
   ]
  },
  {
   "cell_type": "markdown",
   "metadata": {},
   "source": [
    "<div class=\"alert alert-warning\">\n",
    "<b>Reviewer's comment</b>\n",
    "\t  \n",
    "If you do this, don't forget to make an inverse transformation after making predictions\n",
    "\t  \n",
    "</div>"
   ]
  },
  {
   "cell_type": "markdown",
   "metadata": {},
   "source": [
    "## Training"
   ]
  },
  {
   "cell_type": "code",
   "execution_count": 14,
   "metadata": {},
   "outputs": [
    {
     "name": "stdout",
     "output_type": "stream",
     "text": [
      "                     num_orders  mean  std  year  month  day  dayofweek  hour  \\\n",
      "datetime                                                                        \n",
      "2018-03-01 00:00:00         NaN   NaN  NaN  2018      3    1          3     0   \n",
      "2018-03-01 01:00:00       -39.0   NaN  NaN  2018      3    1          3     1   \n",
      "2018-03-01 02:00:00       -14.0   NaN  NaN  2018      3    1          3     2   \n",
      "2018-03-01 03:00:00        -5.0   NaN  NaN  2018      3    1          3     3   \n",
      "2018-03-01 04:00:00       -23.0   NaN  NaN  2018      3    1          3     4   \n",
      "\n",
      "                     lag_1  lag_2  lag_3  lag_4  rolling_mean  \n",
      "datetime                                                       \n",
      "2018-03-01 00:00:00    NaN    NaN    NaN    NaN           NaN  \n",
      "2018-03-01 01:00:00    NaN    NaN    NaN    NaN           NaN  \n",
      "2018-03-01 02:00:00  -39.0    NaN    NaN    NaN           NaN  \n",
      "2018-03-01 03:00:00  -14.0  -39.0    NaN    NaN           NaN  \n",
      "2018-03-01 04:00:00   -5.0  -14.0  -39.0    NaN           NaN  \n"
     ]
    }
   ],
   "source": [
    "def make_features(data, max_lag, rolling_mean_size):\n",
    "    data['year'] = data.index.year\n",
    "    data['month'] = data.index.month\n",
    "    data['day'] = data.index.day\n",
    "    data['dayofweek'] = data.index.dayofweek\n",
    "    data['hour']  = data.index.hour\n",
    "    \n",
    "    for lag in range(1, max_lag + 1):\n",
    "        data['lag_{}'.format(lag)] = data.num_orders.shift(lag)\n",
    "\n",
    "    data['rolling_mean'] = data.num_orders.shift().rolling(rolling_mean_size).mean()\n",
    "\n",
    "make_features(df, 4, 4)\n",
    "print(df.head())"
   ]
  },
  {
   "cell_type": "markdown",
   "metadata": {},
   "source": [
    "<div class=\"alert alert-warning\">\n",
    "<b>Reviewer's comment</b>\n",
    "\t  \n",
    "The features look good! There are calendar features, lag features and a correctly shifted rolling mean. One obvious omission is current hour feature\n",
    "\t  \n",
    "</div>"
   ]
  },
  {
   "cell_type": "markdown",
   "metadata": {},
   "source": [
    "<div class=\"alert alert-info\">\n",
    "  Thanks :)\n",
    "</div>"
   ]
  },
  {
   "cell_type": "markdown",
   "metadata": {},
   "source": [
    "In order to train the models, we added some features, based on the data already have."
   ]
  },
  {
   "cell_type": "code",
   "execution_count": 15,
   "metadata": {},
   "outputs": [],
   "source": [
    "df = df.dropna()\n",
    "\n",
    "train, test = train_test_split(df, shuffle=False, test_size=0.1)"
   ]
  },
  {
   "cell_type": "markdown",
   "metadata": {},
   "source": [
    "<div class=\"alert alert-success\">\n",
    "<b>Reviewer's comment</b>\n",
    "\t  \n",
    "The data is split into train and test without shuffling\n",
    "\t  \n",
    "</div>"
   ]
  },
  {
   "cell_type": "markdown",
   "metadata": {},
   "source": [
    "### Features & Target"
   ]
  },
  {
   "cell_type": "code",
   "execution_count": 16,
   "metadata": {},
   "outputs": [],
   "source": [
    "train_features = train.drop('num_orders', axis=1)\n",
    "train_target = train.num_orders\n",
    "\n",
    "test_features = test.drop('num_orders', axis=1)\n",
    "test_target = test.num_orders"
   ]
  },
  {
   "cell_type": "markdown",
   "metadata": {},
   "source": [
    "### Linear Regression"
   ]
  },
  {
   "cell_type": "code",
   "execution_count": 17,
   "metadata": {
    "scrolled": false
   },
   "outputs": [],
   "source": [
    "def rmse_score(Y, pred):\n",
    "    return math.sqrt(mean_squared_error(Y, pred))\n",
    "\n",
    "rmse = make_scorer(rmse_score, greater_is_better=False)\n",
    "\n",
    "tscv = TimeSeriesSplit(n_splits=5)"
   ]
  },
  {
   "cell_type": "code",
   "execution_count": 18,
   "metadata": {},
   "outputs": [
    {
     "name": "stdout",
     "output_type": "stream",
     "text": [
      "The RMSE score (on test) is 47.648\n"
     ]
    }
   ],
   "source": [
    "lr = LinearRegression()\n",
    " \n",
    "lr = GridSearchCV(lr, param_grid={}, cv=tscv, scoring=rmse)\n",
    "lr.fit(train_features,train_target)\n",
    "\n",
    "predictions = lr.predict(test_features)\n",
    "predictions = pd.DataFrame(predictions)\n",
    "print('The RMSE score (on test) is {:.3f}'.format(rmse_score(test_target, predictions)))"
   ]
  },
  {
   "cell_type": "markdown",
   "metadata": {},
   "source": [
    "### Random Forest"
   ]
  },
  {
   "cell_type": "code",
   "execution_count": 19,
   "metadata": {},
   "outputs": [
    {
     "name": "stdout",
     "output_type": "stream",
     "text": [
      "The best hyperparameters are:  {'n_estimators': 20}\n",
      "The RMSE score (on test) is 38.460\n"
     ]
    }
   ],
   "source": [
    "params = {'n_estimators' : [3,10,20]}\n",
    "\n",
    "rf = RandomForestRegressor(random_state=0)\n",
    "\n",
    "rf = GridSearchCV(rf, param_grid=params, cv=tscv, scoring=rmse)\n",
    "rf.fit(train_features,train_target)\n",
    "\n",
    "predictions = rf.predict(test_features)\n",
    "print('The best hyperparameters are: ',rf.best_params_)\n",
    "print('The RMSE score (on test) is {:.3f}'.format(rmse_score(test_target, predictions)))"
   ]
  },
  {
   "cell_type": "markdown",
   "metadata": {},
   "source": [
    "### CatBoost Regressor"
   ]
  },
  {
   "cell_type": "code",
   "execution_count": 20,
   "metadata": {},
   "outputs": [
    {
     "name": "stdout",
     "output_type": "stream",
     "text": [
      "The best hyperparameters are:  {'iterations': 100}\n",
      "The RMSE score (on test) is 41.323\n"
     ]
    }
   ],
   "source": [
    "params = {'iterations' : [10, 50 , 100]}\n",
    "\n",
    "cbr = CatBoostRegressor(verbose=0) \n",
    "\n",
    "cbr = GridSearchCV(cbr, param_grid=params, cv=tscv, scoring=rmse)\n",
    "cbr.fit(train_features,train_target)\n",
    "\n",
    "predictions = cbr.predict(test_features)\n",
    "print('The best hyperparameters are: ',cbr.best_params_)\n",
    "print('The RMSE score (on test) is {:.3f}'.format(rmse_score(test_target, predictions)))"
   ]
  },
  {
   "cell_type": "markdown",
   "metadata": {},
   "source": [
    "## Conclusion\n",
    "We trained 3 models with the data. All of the models got RMSE score less than 48. The best model is random forest of n_estimators=20."
   ]
  },
  {
   "cell_type": "markdown",
   "metadata": {},
   "source": [
    "<div class=\"alert alert-danger\">\n",
    "<b>Reviewer's comment</b>\n",
    "\t  \n",
    "It's nice that you tried a couple of different models and did some hypeprarameter tuning. One problem is that hyperparameters are tuned using the test set. To tune hyperparameters we either need to split the data into three parts (train, validation and test), or use cross-validation (for time series models, regular k-fold cross-validation is inappropriate due to data leakage, something like [TimeSeriesSplit](https://scikit-learn.org/stable/modules/generated/sklearn.model_selection.TimeSeriesSplit.html) is needed)\n",
    "\t  \n",
    "</div>"
   ]
  },
  {
   "cell_type": "markdown",
   "metadata": {},
   "source": [
    "<div class=\"alert alert-info\">\n",
    "  Thanks for your important comment, I hope it's okay now :)\n",
    "</div>"
   ]
  },
  {
   "cell_type": "markdown",
   "metadata": {},
   "source": [
    "<div class=\"alert alert-danger\">\n",
    "<b>Reviewer's comment V2</b>\n",
    "\t  \n",
    "Almost, but not quite: now you have a validation set for tuning hyperparameters (great!), but then you go on to evaluate the model with different hyperparameters on the test set as well. When we tune hyperparameters using the validation set, it leads to a biased validation set score, so we need separate data which is not used for training/hypeprarameter tuning in any way to get an unbiased estimate. You may wonder, why do we care about getting an unbiased estimate? Well, if the estimate is biased, it's likely too optimistic, and that can lead to disappointing performance of the model when it rolls out in production. So, to sum up, the hyperparameters need to be fixed (using validation set/cross-validation) before the single final evaluation of the model on the test set.\n",
    "\t  \n",
    "</div>"
   ]
  },
  {
   "cell_type": "markdown",
   "metadata": {},
   "source": [
    "<div class=\"alert alert-info\">\n",
    "  I'm not sure that I understood your comment (because I used train, valid & test sets in the previous version as you proposed), but I changed the split method to TimeSeriesSplit. \n",
    "</div>"
   ]
  },
  {
   "cell_type": "markdown",
   "metadata": {},
   "source": [
    "<div class=\"alert alert-success\">\n",
    "<b>Reviewer's comment V3</b>\n",
    "\t  \n",
    "In the previous version, you were evaluating the model with different hyperparameters on both validation and test set, and that kind of defeats the point of separating them. The model's hyperparameters should be tuned only using the validation set/cross-vlaidation, and then only after we select the best hyperparameters, we can evaluate the final model on the test set. I hope this makes sense!\n",
    "    \n",
    "Anyway, now everything is correct! :)\n",
    "\t  \n",
    "</div>"
   ]
  },
  {
   "cell_type": "markdown",
   "metadata": {},
   "source": [
    "# Review checklist"
   ]
  },
  {
   "cell_type": "markdown",
   "metadata": {},
   "source": [
    "- [x]  Jupyter Notebook is open\n",
    "- [ ]  The code is error-free\n",
    "- [ ]  The cells with the code have been arranged in order of execution\n",
    "- [ ]  The data has been downloaded and prepared\n",
    "- [ ]  The data has been analyzed\n",
    "- [ ]  The model has been trained and hyperparameters have been selected\n",
    "- [ ]  The models have been evaluated. Conclusion has been provided\n",
    "- [ ] *RMSE* for the test set is not more than 48"
   ]
  }
 ],
 "metadata": {
  "ExecuteTimeLog": [
   {
    "duration": 404,
    "start_time": "2021-11-23T12:03:24.232Z"
   },
   {
    "duration": 779,
    "start_time": "2021-11-23T12:03:28.223Z"
   },
   {
    "duration": 3245,
    "start_time": "2021-11-23T12:03:29.006Z"
   },
   {
    "duration": 133,
    "start_time": "2021-11-23T12:04:04.188Z"
   },
   {
    "duration": 434,
    "start_time": "2021-11-23T12:13:56.564Z"
   },
   {
    "duration": 126,
    "start_time": "2021-11-23T12:15:43.701Z"
   },
   {
    "duration": 10,
    "start_time": "2021-11-23T12:15:48.000Z"
   },
   {
    "duration": 132,
    "start_time": "2021-11-23T12:17:08.632Z"
   },
   {
    "duration": 360,
    "start_time": "2021-11-23T12:19:14.960Z"
   },
   {
    "duration": 354,
    "start_time": "2021-11-23T12:19:47.878Z"
   },
   {
    "duration": 4,
    "start_time": "2021-11-23T12:20:12.014Z"
   },
   {
    "duration": 1151,
    "start_time": "2021-11-23T12:20:12.020Z"
   },
   {
    "duration": 150,
    "start_time": "2021-11-23T12:20:18.286Z"
   },
   {
    "duration": 351,
    "start_time": "2021-11-23T12:20:18.721Z"
   },
   {
    "duration": 379,
    "start_time": "2021-11-23T12:20:36.629Z"
   },
   {
    "duration": 373,
    "start_time": "2021-11-23T12:20:47.975Z"
   },
   {
    "duration": 3,
    "start_time": "2021-11-23T12:20:53.264Z"
   },
   {
    "duration": 234,
    "start_time": "2021-11-23T12:20:53.395Z"
   },
   {
    "duration": 3,
    "start_time": "2021-11-23T12:20:53.632Z"
   },
   {
    "duration": 365,
    "start_time": "2021-11-23T12:20:56.953Z"
   },
   {
    "duration": 3,
    "start_time": "2021-11-23T12:21:06.394Z"
   },
   {
    "duration": 134,
    "start_time": "2021-11-23T12:21:06.526Z"
   },
   {
    "duration": 3,
    "start_time": "2021-11-23T12:21:06.663Z"
   },
   {
    "duration": 5,
    "start_time": "2021-11-23T12:21:12.734Z"
   },
   {
    "duration": 357,
    "start_time": "2021-11-23T12:22:46.116Z"
   },
   {
    "duration": 53343,
    "start_time": "2021-11-23T12:22:53.876Z"
   },
   {
    "duration": 5,
    "start_time": "2021-11-23T12:24:11.248Z"
   },
   {
    "duration": 215,
    "start_time": "2021-11-23T12:24:11.369Z"
   },
   {
    "duration": 155,
    "start_time": "2021-11-23T12:24:17.825Z"
   },
   {
    "duration": 12,
    "start_time": "2021-11-23T12:24:18.449Z"
   },
   {
    "duration": 467,
    "start_time": "2021-11-23T12:24:24.588Z"
   },
   {
    "duration": 10,
    "start_time": "2021-11-23T12:24:45.841Z"
   },
   {
    "duration": 18,
    "start_time": "2021-11-23T12:24:53.520Z"
   },
   {
    "duration": 9,
    "start_time": "2021-11-23T12:25:15.158Z"
   },
   {
    "duration": 9,
    "start_time": "2021-11-23T12:25:40.413Z"
   },
   {
    "duration": 8,
    "start_time": "2021-11-23T12:25:46.384Z"
   },
   {
    "duration": 6,
    "start_time": "2021-11-23T12:26:25.112Z"
   },
   {
    "duration": 129,
    "start_time": "2021-11-23T12:28:42.061Z"
   },
   {
    "duration": 9,
    "start_time": "2021-11-23T12:28:54.009Z"
   },
   {
    "duration": 18,
    "start_time": "2021-11-23T12:29:13.200Z"
   },
   {
    "duration": 10,
    "start_time": "2021-11-23T12:30:38.104Z"
   },
   {
    "duration": 19,
    "start_time": "2021-11-23T12:33:27.501Z"
   },
   {
    "duration": 15,
    "start_time": "2021-11-23T12:36:05.673Z"
   },
   {
    "duration": 13,
    "start_time": "2021-11-23T12:36:20.066Z"
   },
   {
    "duration": 417,
    "start_time": "2021-11-23T12:36:47.967Z"
   },
   {
    "duration": 3,
    "start_time": "2021-11-23T12:37:07.835Z"
   },
   {
    "duration": 148,
    "start_time": "2021-11-23T12:37:09.604Z"
   },
   {
    "duration": 9,
    "start_time": "2021-11-23T12:37:09.755Z"
   },
   {
    "duration": 21,
    "start_time": "2021-11-23T12:37:09.767Z"
   },
   {
    "duration": 12,
    "start_time": "2021-11-23T12:37:09.790Z"
   },
   {
    "duration": 21,
    "start_time": "2021-11-23T12:37:09.805Z"
   },
   {
    "duration": 385,
    "start_time": "2021-11-23T12:37:14.774Z"
   },
   {
    "duration": 3,
    "start_time": "2021-11-23T12:37:21.176Z"
   },
   {
    "duration": 139,
    "start_time": "2021-11-23T12:37:21.192Z"
   },
   {
    "duration": 10,
    "start_time": "2021-11-23T12:37:21.333Z"
   },
   {
    "duration": 25,
    "start_time": "2021-11-23T12:37:21.345Z"
   },
   {
    "duration": 28,
    "start_time": "2021-11-23T12:37:21.373Z"
   },
   {
    "duration": 21,
    "start_time": "2021-11-23T12:37:21.403Z"
   },
   {
    "duration": 18,
    "start_time": "2021-11-23T12:37:35.846Z"
   },
   {
    "duration": 17,
    "start_time": "2021-11-23T12:38:23.271Z"
   },
   {
    "duration": 498,
    "start_time": "2021-11-23T12:39:29.838Z"
   },
   {
    "duration": 499,
    "start_time": "2021-11-23T12:40:48.111Z"
   },
   {
    "duration": 499,
    "start_time": "2021-11-23T12:41:01.759Z"
   },
   {
    "duration": 499,
    "start_time": "2021-11-23T12:41:20.523Z"
   },
   {
    "duration": 342,
    "start_time": "2021-11-23T12:43:15.163Z"
   },
   {
    "duration": 611,
    "start_time": "2021-11-23T12:43:22.337Z"
   },
   {
    "duration": 391,
    "start_time": "2021-11-23T12:43:26.290Z"
   },
   {
    "duration": 8,
    "start_time": "2021-11-23T12:44:37.987Z"
   },
   {
    "duration": 508,
    "start_time": "2021-11-23T12:46:17.901Z"
   },
   {
    "duration": 466,
    "start_time": "2021-11-23T12:49:56.855Z"
   },
   {
    "duration": 475,
    "start_time": "2021-11-23T12:50:09.614Z"
   },
   {
    "duration": 484,
    "start_time": "2021-11-23T12:50:20.498Z"
   },
   {
    "duration": 6,
    "start_time": "2021-11-23T12:51:03.498Z"
   },
   {
    "duration": 7,
    "start_time": "2021-11-23T12:52:08.172Z"
   },
   {
    "duration": 446,
    "start_time": "2021-11-23T12:53:16.595Z"
   },
   {
    "duration": 445,
    "start_time": "2021-11-23T12:53:43.850Z"
   },
   {
    "duration": 8925,
    "start_time": "2021-11-23T13:03:34.289Z"
   },
   {
    "duration": 4,
    "start_time": "2021-11-23T13:04:44.687Z"
   },
   {
    "duration": 127,
    "start_time": "2021-11-23T13:04:44.980Z"
   },
   {
    "duration": 9,
    "start_time": "2021-11-23T13:04:45.110Z"
   },
   {
    "duration": 23,
    "start_time": "2021-11-23T13:04:45.122Z"
   },
   {
    "duration": 17,
    "start_time": "2021-11-23T13:04:45.148Z"
   },
   {
    "duration": 33,
    "start_time": "2021-11-23T13:04:45.168Z"
   },
   {
    "duration": 196,
    "start_time": "2021-11-23T13:04:45.204Z"
   },
   {
    "duration": 17,
    "start_time": "2021-11-23T13:04:45.402Z"
   },
   {
    "duration": 5,
    "start_time": "2021-11-23T13:04:45.421Z"
   },
   {
    "duration": 9805,
    "start_time": "2021-11-23T13:04:45.429Z"
   },
   {
    "duration": -196,
    "start_time": "2021-11-23T13:04:55.432Z"
   },
   {
    "duration": 497,
    "start_time": "2021-11-23T13:05:37.256Z"
   },
   {
    "duration": 538,
    "start_time": "2021-11-23T13:08:33.326Z"
   },
   {
    "duration": 524,
    "start_time": "2021-11-23T13:08:48.790Z"
   },
   {
    "duration": 524,
    "start_time": "2021-11-23T13:09:48.700Z"
   },
   {
    "duration": 398,
    "start_time": "2021-11-23T13:09:50.022Z"
   },
   {
    "duration": 284,
    "start_time": "2021-11-23T13:10:04.353Z"
   },
   {
    "duration": 610,
    "start_time": "2021-11-23T13:11:42.101Z"
   },
   {
    "duration": 4,
    "start_time": "2021-11-23T13:11:52.537Z"
   },
   {
    "duration": 319,
    "start_time": "2021-11-23T13:11:52.544Z"
   },
   {
    "duration": 10,
    "start_time": "2021-11-23T13:11:52.866Z"
   },
   {
    "duration": 22,
    "start_time": "2021-11-23T13:11:52.878Z"
   },
   {
    "duration": 18,
    "start_time": "2021-11-23T13:11:52.902Z"
   },
   {
    "duration": 10,
    "start_time": "2021-11-23T13:11:52.922Z"
   },
   {
    "duration": 24,
    "start_time": "2021-11-23T13:11:52.935Z"
   },
   {
    "duration": 48,
    "start_time": "2021-11-23T13:11:52.963Z"
   },
   {
    "duration": 6,
    "start_time": "2021-11-23T13:11:53.014Z"
   },
   {
    "duration": 571,
    "start_time": "2021-11-23T13:11:53.023Z"
   },
   {
    "duration": 296,
    "start_time": "2021-11-23T13:11:53.597Z"
   },
   {
    "duration": 349,
    "start_time": "2021-11-23T13:11:53.900Z"
   },
   {
    "duration": 711,
    "start_time": "2021-11-23T13:12:50.383Z"
   },
   {
    "duration": 600,
    "start_time": "2021-11-23T13:13:15.346Z"
   },
   {
    "duration": 347,
    "start_time": "2021-11-23T13:22:35.935Z"
   },
   {
    "duration": 81,
    "start_time": "2021-11-23T13:22:45.325Z"
   },
   {
    "duration": 9,
    "start_time": "2021-11-23T13:22:47.841Z"
   },
   {
    "duration": 5,
    "start_time": "2021-11-23T13:25:25.700Z"
   },
   {
    "duration": 8,
    "start_time": "2021-11-23T13:25:53.035Z"
   },
   {
    "duration": 391,
    "start_time": "2021-11-23T13:28:37.550Z"
   },
   {
    "duration": 10,
    "start_time": "2021-11-23T13:29:43.392Z"
   },
   {
    "duration": 123,
    "start_time": "2021-11-23T13:31:34.800Z"
   },
   {
    "duration": 25,
    "start_time": "2021-11-23T13:31:56.470Z"
   },
   {
    "duration": 8,
    "start_time": "2021-11-23T13:32:57.542Z"
   },
   {
    "duration": 10,
    "start_time": "2021-11-23T13:33:15.416Z"
   },
   {
    "duration": 7,
    "start_time": "2021-11-23T13:35:08.520Z"
   },
   {
    "duration": 8,
    "start_time": "2021-11-23T13:35:24.060Z"
   },
   {
    "duration": 18,
    "start_time": "2021-11-23T13:35:28.844Z"
   },
   {
    "duration": 10,
    "start_time": "2021-11-23T13:36:19.587Z"
   },
   {
    "duration": 405,
    "start_time": "2021-11-23T13:47:57.086Z"
   },
   {
    "duration": 9355,
    "start_time": "2021-11-23T13:49:41.608Z"
   },
   {
    "duration": 369,
    "start_time": "2021-11-23T13:51:09.531Z"
   },
   {
    "duration": 22,
    "start_time": "2021-11-23T13:51:16.944Z"
   },
   {
    "duration": 11,
    "start_time": "2021-11-23T13:52:10.679Z"
   },
   {
    "duration": 7,
    "start_time": "2021-11-23T13:52:57.341Z"
   },
   {
    "duration": 352,
    "start_time": "2021-11-23T13:52:58.577Z"
   },
   {
    "duration": 22,
    "start_time": "2021-11-23T13:53:20.348Z"
   },
   {
    "duration": 21,
    "start_time": "2021-11-23T13:53:22.854Z"
   },
   {
    "duration": 8,
    "start_time": "2021-11-23T13:53:27.025Z"
   },
   {
    "duration": 1509,
    "start_time": "2021-11-23T14:36:14.202Z"
   },
   {
    "duration": 1998,
    "start_time": "2021-11-23T14:37:53.075Z"
   },
   {
    "duration": 1659,
    "start_time": "2021-11-23T14:38:41.390Z"
   },
   {
    "duration": 1584,
    "start_time": "2021-11-23T14:39:36.234Z"
   },
   {
    "duration": 1637,
    "start_time": "2021-11-23T14:40:00.103Z"
   },
   {
    "duration": 1445,
    "start_time": "2021-11-23T14:40:20.061Z"
   },
   {
    "duration": 1226,
    "start_time": "2021-11-23T14:40:39.612Z"
   },
   {
    "duration": 5,
    "start_time": "2021-11-23T14:53:13.119Z"
   },
   {
    "duration": 191,
    "start_time": "2021-11-23T14:53:13.127Z"
   },
   {
    "duration": 10,
    "start_time": "2021-11-23T14:53:13.321Z"
   },
   {
    "duration": 20,
    "start_time": "2021-11-23T14:53:13.335Z"
   },
   {
    "duration": 47,
    "start_time": "2021-11-23T14:53:13.358Z"
   },
   {
    "duration": 11,
    "start_time": "2021-11-23T14:53:13.408Z"
   },
   {
    "duration": 22,
    "start_time": "2021-11-23T14:53:13.422Z"
   },
   {
    "duration": 15,
    "start_time": "2021-11-23T14:53:13.447Z"
   },
   {
    "duration": 5,
    "start_time": "2021-11-23T14:53:13.500Z"
   },
   {
    "duration": 605,
    "start_time": "2021-11-23T14:53:13.507Z"
   },
   {
    "duration": 1653,
    "start_time": "2021-11-23T14:53:14.115Z"
   },
   {
    "duration": 598,
    "start_time": "2021-11-23T14:53:15.771Z"
   },
   {
    "duration": 9,
    "start_time": "2021-11-23T14:53:16.372Z"
   },
   {
    "duration": 8,
    "start_time": "2021-11-23T14:53:16.400Z"
   },
   {
    "duration": 31,
    "start_time": "2021-11-23T14:53:16.412Z"
   },
   {
    "duration": 11,
    "start_time": "2021-11-23T14:53:16.445Z"
   },
   {
    "duration": 41,
    "start_time": "2021-11-23T14:53:16.459Z"
   },
   {
    "duration": 3,
    "start_time": "2021-11-23T14:53:16.503Z"
   },
   {
    "duration": 9,
    "start_time": "2021-11-23T14:53:16.508Z"
   },
   {
    "duration": 83,
    "start_time": "2021-11-23T14:53:16.520Z"
   },
   {
    "duration": 96,
    "start_time": "2021-11-23T14:53:16.606Z"
   },
   {
    "duration": 8,
    "start_time": "2021-11-23T16:02:22.637Z"
   },
   {
    "duration": 8,
    "start_time": "2021-11-23T16:02:30.888Z"
   },
   {
    "duration": 452,
    "start_time": "2021-11-23T16:08:30.885Z"
   },
   {
    "duration": 5,
    "start_time": "2021-11-23T16:09:02.126Z"
   },
   {
    "duration": 14,
    "start_time": "2021-11-23T16:09:27.519Z"
   },
   {
    "duration": 4,
    "start_time": "2021-11-23T16:23:05.251Z"
   },
   {
    "duration": 8,
    "start_time": "2021-11-23T16:24:13.084Z"
   },
   {
    "duration": 15,
    "start_time": "2021-11-23T16:24:59.255Z"
   },
   {
    "duration": 7,
    "start_time": "2021-11-23T16:25:01.717Z"
   },
   {
    "duration": 143,
    "start_time": "2021-11-23T16:26:25.813Z"
   },
   {
    "duration": 364,
    "start_time": "2021-11-23T16:26:37.374Z"
   },
   {
    "duration": 10,
    "start_time": "2021-11-23T16:26:49.354Z"
   },
   {
    "duration": 9,
    "start_time": "2021-11-23T16:27:16.350Z"
   },
   {
    "duration": 9,
    "start_time": "2021-11-23T16:27:57.592Z"
   },
   {
    "duration": 9,
    "start_time": "2021-11-23T16:28:07.164Z"
   },
   {
    "duration": 8,
    "start_time": "2021-11-23T16:28:18.504Z"
   },
   {
    "duration": 1237,
    "start_time": "2021-11-26T14:20:34.338Z"
   },
   {
    "duration": 134,
    "start_time": "2021-11-26T14:20:35.577Z"
   },
   {
    "duration": 7,
    "start_time": "2021-11-26T14:20:35.713Z"
   },
   {
    "duration": 23,
    "start_time": "2021-11-26T14:20:35.722Z"
   },
   {
    "duration": 14,
    "start_time": "2021-11-26T14:20:35.747Z"
   },
   {
    "duration": 27,
    "start_time": "2021-11-26T14:20:35.763Z"
   },
   {
    "duration": 22,
    "start_time": "2021-11-26T14:20:35.792Z"
   },
   {
    "duration": 14,
    "start_time": "2021-11-26T14:20:35.816Z"
   },
   {
    "duration": 11,
    "start_time": "2021-11-26T14:20:35.833Z"
   },
   {
    "duration": 378,
    "start_time": "2021-11-26T14:20:35.845Z"
   },
   {
    "duration": 559,
    "start_time": "2021-11-26T14:20:36.225Z"
   },
   {
    "duration": 8675,
    "start_time": "2021-11-26T14:20:28.111Z"
   },
   {
    "duration": 8669,
    "start_time": "2021-11-26T14:20:28.118Z"
   },
   {
    "duration": 8641,
    "start_time": "2021-11-26T14:20:28.147Z"
   },
   {
    "duration": 8627,
    "start_time": "2021-11-26T14:20:28.162Z"
   },
   {
    "duration": 8625,
    "start_time": "2021-11-26T14:20:28.165Z"
   },
   {
    "duration": 8621,
    "start_time": "2021-11-26T14:20:28.170Z"
   },
   {
    "duration": 8612,
    "start_time": "2021-11-26T14:20:28.180Z"
   },
   {
    "duration": 8611,
    "start_time": "2021-11-26T14:20:28.182Z"
   },
   {
    "duration": 8600,
    "start_time": "2021-11-26T14:20:28.194Z"
   },
   {
    "duration": 8585,
    "start_time": "2021-11-26T14:20:28.210Z"
   },
   {
    "duration": 8581,
    "start_time": "2021-11-26T14:20:28.215Z"
   },
   {
    "duration": 4,
    "start_time": "2021-11-26T14:23:08.975Z"
   },
   {
    "duration": 253,
    "start_time": "2021-11-26T14:23:08.984Z"
   },
   {
    "duration": 7,
    "start_time": "2021-11-26T14:23:09.239Z"
   },
   {
    "duration": 13,
    "start_time": "2021-11-26T14:23:09.248Z"
   },
   {
    "duration": 15,
    "start_time": "2021-11-26T14:23:09.263Z"
   },
   {
    "duration": 7,
    "start_time": "2021-11-26T14:23:09.280Z"
   },
   {
    "duration": 15,
    "start_time": "2021-11-26T14:23:09.289Z"
   },
   {
    "duration": 12,
    "start_time": "2021-11-26T14:23:09.306Z"
   },
   {
    "duration": 3,
    "start_time": "2021-11-26T14:23:09.320Z"
   },
   {
    "duration": 462,
    "start_time": "2021-11-26T14:23:09.325Z"
   },
   {
    "duration": 296,
    "start_time": "2021-11-26T14:23:09.789Z"
   },
   {
    "duration": 8638,
    "start_time": "2021-11-26T14:23:01.449Z"
   },
   {
    "duration": 8634,
    "start_time": "2021-11-26T14:23:01.454Z"
   },
   {
    "duration": 8628,
    "start_time": "2021-11-26T14:23:01.461Z"
   },
   {
    "duration": 8625,
    "start_time": "2021-11-26T14:23:01.466Z"
   },
   {
    "duration": 8615,
    "start_time": "2021-11-26T14:23:01.476Z"
   },
   {
    "duration": 8611,
    "start_time": "2021-11-26T14:23:01.481Z"
   },
   {
    "duration": 8609,
    "start_time": "2021-11-26T14:23:01.484Z"
   },
   {
    "duration": 8603,
    "start_time": "2021-11-26T14:23:01.492Z"
   },
   {
    "duration": 8599,
    "start_time": "2021-11-26T14:23:01.497Z"
   },
   {
    "duration": 8582,
    "start_time": "2021-11-26T14:23:01.515Z"
   },
   {
    "duration": 8579,
    "start_time": "2021-11-26T14:23:01.520Z"
   },
   {
    "duration": 4,
    "start_time": "2021-11-26T14:24:53.810Z"
   },
   {
    "duration": 89,
    "start_time": "2021-11-26T14:24:53.815Z"
   },
   {
    "duration": 8,
    "start_time": "2021-11-26T14:24:53.906Z"
   },
   {
    "duration": 16,
    "start_time": "2021-11-26T14:24:53.916Z"
   },
   {
    "duration": 13,
    "start_time": "2021-11-26T14:24:53.934Z"
   },
   {
    "duration": 14,
    "start_time": "2021-11-26T14:24:53.949Z"
   },
   {
    "duration": 14,
    "start_time": "2021-11-26T14:24:53.965Z"
   },
   {
    "duration": 10,
    "start_time": "2021-11-26T14:24:53.981Z"
   },
   {
    "duration": 8,
    "start_time": "2021-11-26T14:24:53.993Z"
   },
   {
    "duration": 1049,
    "start_time": "2021-11-26T14:24:54.003Z"
   },
   {
    "duration": 366,
    "start_time": "2021-11-26T14:24:55.054Z"
   },
   {
    "duration": 363,
    "start_time": "2021-11-26T14:24:55.423Z"
   },
   {
    "duration": 362,
    "start_time": "2021-11-26T14:24:55.788Z"
   },
   {
    "duration": 7254,
    "start_time": "2021-11-26T14:24:48.899Z"
   },
   {
    "duration": 7245,
    "start_time": "2021-11-26T14:24:48.909Z"
   },
   {
    "duration": 7238,
    "start_time": "2021-11-26T14:24:48.916Z"
   },
   {
    "duration": 7231,
    "start_time": "2021-11-26T14:24:48.925Z"
   },
   {
    "duration": 7222,
    "start_time": "2021-11-26T14:24:48.935Z"
   },
   {
    "duration": 7214,
    "start_time": "2021-11-26T14:24:48.944Z"
   },
   {
    "duration": 7210,
    "start_time": "2021-11-26T14:24:48.949Z"
   },
   {
    "duration": 7207,
    "start_time": "2021-11-26T14:24:48.953Z"
   },
   {
    "duration": 7198,
    "start_time": "2021-11-26T14:24:48.963Z"
   },
   {
    "duration": 3,
    "start_time": "2021-11-26T14:27:38.691Z"
   },
   {
    "duration": 2,
    "start_time": "2021-11-26T14:27:50.059Z"
   },
   {
    "duration": 19,
    "start_time": "2021-11-26T14:27:50.070Z"
   },
   {
    "duration": 8,
    "start_time": "2021-11-26T14:27:50.460Z"
   },
   {
    "duration": 5,
    "start_time": "2021-11-26T14:27:50.469Z"
   },
   {
    "duration": 7,
    "start_time": "2021-11-26T14:27:50.476Z"
   },
   {
    "duration": 6,
    "start_time": "2021-11-26T14:27:50.485Z"
   },
   {
    "duration": 176,
    "start_time": "2021-11-26T14:27:50.492Z"
   },
   {
    "duration": 273,
    "start_time": "2021-11-26T14:27:50.670Z"
   },
   {
    "duration": 8788,
    "start_time": "2021-11-26T14:27:42.157Z"
   },
   {
    "duration": 2241,
    "start_time": "2021-11-26T14:29:22.319Z"
   },
   {
    "duration": 272,
    "start_time": "2021-11-26T14:33:37.540Z"
   },
   {
    "duration": 4,
    "start_time": "2021-11-26T14:33:43.086Z"
   },
   {
    "duration": 1397,
    "start_time": "2021-11-26T14:33:46.404Z"
   },
   {
    "duration": 3218,
    "start_time": "2021-11-26T14:35:05.422Z"
   },
   {
    "duration": 2736,
    "start_time": "2021-11-26T14:35:27.907Z"
   },
   {
    "duration": 3510,
    "start_time": "2021-11-26T14:35:55.933Z"
   },
   {
    "duration": 3251,
    "start_time": "2021-11-26T14:36:18.703Z"
   },
   {
    "duration": 4177,
    "start_time": "2021-11-26T14:36:35.654Z"
   },
   {
    "duration": 4197,
    "start_time": "2021-11-26T14:36:52.925Z"
   },
   {
    "duration": 1398,
    "start_time": "2021-11-26T14:41:30.964Z"
   },
   {
    "duration": 1436,
    "start_time": "2021-11-26T14:42:31.132Z"
   },
   {
    "duration": 8710,
    "start_time": "2021-11-26T14:43:01.466Z"
   },
   {
    "duration": 258,
    "start_time": "2021-11-26T14:45:29.833Z"
   },
   {
    "duration": 29121,
    "start_time": "2021-11-26T14:45:44.034Z"
   },
   {
    "duration": 8110,
    "start_time": "2021-11-26T14:46:30.900Z"
   },
   {
    "duration": 15,
    "start_time": "2021-11-26T14:47:17.745Z"
   },
   {
    "duration": 10,
    "start_time": "2021-11-26T14:47:59.468Z"
   },
   {
    "duration": 23,
    "start_time": "2021-11-26T14:52:49.116Z"
   },
   {
    "duration": 55,
    "start_time": "2021-11-26T14:54:56.280Z"
   },
   {
    "duration": 237,
    "start_time": "2021-11-26T14:55:04.561Z"
   },
   {
    "duration": 426,
    "start_time": "2021-11-26T14:55:16.119Z"
   },
   {
    "duration": 1470,
    "start_time": "2021-11-26T14:55:20.877Z"
   },
   {
    "duration": 3067,
    "start_time": "2021-11-26T14:55:27.009Z"
   },
   {
    "duration": 427,
    "start_time": "2021-11-26T14:55:37.076Z"
   },
   {
    "duration": 52,
    "start_time": "2021-11-26T14:55:45.085Z"
   },
   {
    "duration": 299,
    "start_time": "2021-11-26T14:55:50.587Z"
   },
   {
    "duration": 596,
    "start_time": "2021-11-26T14:55:58.967Z"
   },
   {
    "duration": 300,
    "start_time": "2021-11-26T14:56:05.354Z"
   },
   {
    "duration": 225,
    "start_time": "2021-11-26T14:57:23.588Z"
   },
   {
    "duration": 222,
    "start_time": "2021-11-26T14:58:06.166Z"
   },
   {
    "duration": 79,
    "start_time": "2021-11-26T14:58:17.827Z"
   },
   {
    "duration": 738,
    "start_time": "2021-11-26T14:58:41.327Z"
   },
   {
    "duration": 738,
    "start_time": "2021-11-26T14:58:50.939Z"
   },
   {
    "duration": 4,
    "start_time": "2021-11-26T15:00:41.055Z"
   },
   {
    "duration": 82,
    "start_time": "2021-11-26T15:00:41.081Z"
   },
   {
    "duration": 8,
    "start_time": "2021-11-26T15:00:44.283Z"
   },
   {
    "duration": 34,
    "start_time": "2021-11-26T15:00:44.294Z"
   },
   {
    "duration": 15,
    "start_time": "2021-11-26T15:00:44.417Z"
   },
   {
    "duration": 18,
    "start_time": "2021-11-26T15:00:44.434Z"
   },
   {
    "duration": 30,
    "start_time": "2021-11-26T15:00:44.455Z"
   },
   {
    "duration": 36,
    "start_time": "2021-11-26T15:00:44.487Z"
   },
   {
    "duration": 15,
    "start_time": "2021-11-26T15:00:44.525Z"
   },
   {
    "duration": 1359,
    "start_time": "2021-11-26T15:00:44.542Z"
   },
   {
    "duration": 381,
    "start_time": "2021-11-26T15:00:45.903Z"
   },
   {
    "duration": 390,
    "start_time": "2021-11-26T15:00:46.286Z"
   },
   {
    "duration": 3,
    "start_time": "2021-11-26T15:00:46.678Z"
   },
   {
    "duration": 26,
    "start_time": "2021-11-26T15:00:46.683Z"
   },
   {
    "duration": 39,
    "start_time": "2021-11-26T15:00:46.712Z"
   },
   {
    "duration": 16,
    "start_time": "2021-11-26T15:00:46.752Z"
   },
   {
    "duration": 24,
    "start_time": "2021-11-26T15:00:46.770Z"
   },
   {
    "duration": 35,
    "start_time": "2021-11-26T15:00:46.796Z"
   },
   {
    "duration": 914,
    "start_time": "2021-11-26T15:00:46.834Z"
   },
   {
    "duration": 8479,
    "start_time": "2021-11-26T15:00:47.750Z"
   },
   {
    "duration": 5,
    "start_time": "2021-11-26T15:00:56.231Z"
   },
   {
    "duration": 726,
    "start_time": "2021-11-26T15:27:00.528Z"
   },
   {
    "duration": 719,
    "start_time": "2021-11-26T15:27:38.670Z"
   },
   {
    "duration": 8771,
    "start_time": "2021-11-26T15:28:08.033Z"
   },
   {
    "duration": 1261,
    "start_time": "2021-11-29T12:36:33.085Z"
   },
   {
    "duration": 172,
    "start_time": "2021-11-29T12:36:34.348Z"
   },
   {
    "duration": 7,
    "start_time": "2021-11-29T12:36:34.522Z"
   },
   {
    "duration": 37,
    "start_time": "2021-11-29T12:36:34.531Z"
   },
   {
    "duration": 34,
    "start_time": "2021-11-29T12:36:34.570Z"
   },
   {
    "duration": 16,
    "start_time": "2021-11-29T12:36:34.605Z"
   },
   {
    "duration": 42,
    "start_time": "2021-11-29T12:36:34.622Z"
   },
   {
    "duration": 25,
    "start_time": "2021-11-29T12:36:34.666Z"
   },
   {
    "duration": 24,
    "start_time": "2021-11-29T12:36:34.693Z"
   },
   {
    "duration": 1051,
    "start_time": "2021-11-29T12:36:34.719Z"
   },
   {
    "duration": 429,
    "start_time": "2021-11-29T12:36:35.772Z"
   },
   {
    "duration": 355,
    "start_time": "2021-11-29T12:36:36.202Z"
   },
   {
    "duration": 18,
    "start_time": "2021-11-29T12:36:36.559Z"
   },
   {
    "duration": 7,
    "start_time": "2021-11-29T12:36:36.578Z"
   },
   {
    "duration": 4,
    "start_time": "2021-11-29T12:36:36.587Z"
   },
   {
    "duration": 18,
    "start_time": "2021-11-29T12:36:36.592Z"
   },
   {
    "duration": 794,
    "start_time": "2021-11-29T12:36:36.613Z"
   },
   {
    "duration": 6751,
    "start_time": "2021-11-29T12:36:37.409Z"
   },
   {
    "duration": 3,
    "start_time": "2021-11-29T12:45:50.680Z"
   },
   {
    "duration": 3,
    "start_time": "2021-11-29T13:01:05.593Z"
   },
   {
    "duration": 82,
    "start_time": "2021-11-29T13:01:05.600Z"
   },
   {
    "duration": 6,
    "start_time": "2021-11-29T13:01:05.684Z"
   },
   {
    "duration": 20,
    "start_time": "2021-11-29T13:01:05.692Z"
   },
   {
    "duration": 11,
    "start_time": "2021-11-29T13:01:05.713Z"
   },
   {
    "duration": 5,
    "start_time": "2021-11-29T13:01:05.726Z"
   },
   {
    "duration": 25,
    "start_time": "2021-11-29T13:01:05.732Z"
   },
   {
    "duration": 10,
    "start_time": "2021-11-29T13:01:05.759Z"
   },
   {
    "duration": 5,
    "start_time": "2021-11-29T13:01:05.771Z"
   },
   {
    "duration": 1052,
    "start_time": "2021-11-29T13:01:05.778Z"
   },
   {
    "duration": 438,
    "start_time": "2021-11-29T13:01:06.832Z"
   },
   {
    "duration": 345,
    "start_time": "2021-11-29T13:01:07.272Z"
   },
   {
    "duration": 34,
    "start_time": "2021-11-29T13:01:07.618Z"
   },
   {
    "duration": 8,
    "start_time": "2021-11-29T13:01:07.654Z"
   },
   {
    "duration": 363,
    "start_time": "2021-11-29T13:01:07.663Z"
   },
   {
    "duration": 5,
    "start_time": "2021-11-29T13:02:22.721Z"
   },
   {
    "duration": 109,
    "start_time": "2021-11-29T13:02:22.730Z"
   },
   {
    "duration": 8,
    "start_time": "2021-11-29T13:02:22.841Z"
   },
   {
    "duration": 50,
    "start_time": "2021-11-29T13:02:22.851Z"
   },
   {
    "duration": 104,
    "start_time": "2021-11-29T13:02:22.903Z"
   },
   {
    "duration": 15,
    "start_time": "2021-11-29T13:02:23.009Z"
   },
   {
    "duration": 42,
    "start_time": "2021-11-29T13:02:23.026Z"
   },
   {
    "duration": 22,
    "start_time": "2021-11-29T13:02:23.070Z"
   },
   {
    "duration": 20,
    "start_time": "2021-11-29T13:02:23.094Z"
   },
   {
    "duration": 1082,
    "start_time": "2021-11-29T13:02:23.116Z"
   },
   {
    "duration": 544,
    "start_time": "2021-11-29T13:02:24.200Z"
   },
   {
    "duration": 505,
    "start_time": "2021-11-29T13:02:24.746Z"
   },
   {
    "duration": 22,
    "start_time": "2021-11-29T13:02:25.253Z"
   },
   {
    "duration": 44,
    "start_time": "2021-11-29T13:02:25.276Z"
   },
   {
    "duration": 7,
    "start_time": "2021-11-29T13:02:51.251Z"
   },
   {
    "duration": 94,
    "start_time": "2021-11-29T13:02:51.261Z"
   },
   {
    "duration": 8,
    "start_time": "2021-11-29T13:02:51.358Z"
   },
   {
    "duration": 24,
    "start_time": "2021-11-29T13:02:51.368Z"
   },
   {
    "duration": 20,
    "start_time": "2021-11-29T13:02:51.394Z"
   },
   {
    "duration": 25,
    "start_time": "2021-11-29T13:02:51.415Z"
   },
   {
    "duration": 25,
    "start_time": "2021-11-29T13:02:51.442Z"
   },
   {
    "duration": 14,
    "start_time": "2021-11-29T13:02:51.470Z"
   },
   {
    "duration": 6,
    "start_time": "2021-11-29T13:02:51.486Z"
   },
   {
    "duration": 1041,
    "start_time": "2021-11-29T13:02:51.494Z"
   },
   {
    "duration": 373,
    "start_time": "2021-11-29T13:02:52.537Z"
   },
   {
    "duration": 425,
    "start_time": "2021-11-29T13:02:52.912Z"
   },
   {
    "duration": 22,
    "start_time": "2021-11-29T13:02:53.339Z"
   },
   {
    "duration": 5,
    "start_time": "2021-11-29T13:02:53.363Z"
   },
   {
    "duration": 7,
    "start_time": "2021-11-29T13:02:53.370Z"
   },
   {
    "duration": 10,
    "start_time": "2021-11-29T13:12:15.269Z"
   },
   {
    "duration": 3,
    "start_time": "2021-11-29T13:16:14.570Z"
   },
   {
    "duration": 85,
    "start_time": "2021-11-29T13:16:14.576Z"
   },
   {
    "duration": 7,
    "start_time": "2021-11-29T13:16:14.663Z"
   },
   {
    "duration": 13,
    "start_time": "2021-11-29T13:16:14.671Z"
   },
   {
    "duration": 12,
    "start_time": "2021-11-29T13:16:14.686Z"
   },
   {
    "duration": 6,
    "start_time": "2021-11-29T13:16:14.700Z"
   },
   {
    "duration": 41,
    "start_time": "2021-11-29T13:16:14.708Z"
   },
   {
    "duration": 18,
    "start_time": "2021-11-29T13:16:14.751Z"
   },
   {
    "duration": 18,
    "start_time": "2021-11-29T13:16:14.772Z"
   },
   {
    "duration": 1040,
    "start_time": "2021-11-29T13:16:14.792Z"
   },
   {
    "duration": 359,
    "start_time": "2021-11-29T13:16:15.834Z"
   },
   {
    "duration": 410,
    "start_time": "2021-11-29T13:16:16.195Z"
   },
   {
    "duration": 17,
    "start_time": "2021-11-29T13:16:16.607Z"
   },
   {
    "duration": 21,
    "start_time": "2021-11-29T13:16:16.626Z"
   },
   {
    "duration": 7,
    "start_time": "2021-11-29T13:16:16.648Z"
   },
   {
    "duration": 9,
    "start_time": "2021-11-29T13:16:16.656Z"
   },
   {
    "duration": 746,
    "start_time": "2021-11-29T13:16:16.667Z"
   },
   {
    "duration": 6863,
    "start_time": "2021-11-29T13:16:17.415Z"
   },
   {
    "duration": 596,
    "start_time": "2021-11-29T13:19:39.866Z"
   },
   {
    "duration": 466,
    "start_time": "2021-11-29T13:20:34.224Z"
   },
   {
    "duration": 585,
    "start_time": "2021-11-29T13:26:00.240Z"
   },
   {
    "duration": 6,
    "start_time": "2021-11-29T13:26:53.037Z"
   },
   {
    "duration": 736,
    "start_time": "2021-11-29T13:28:27.085Z"
   },
   {
    "duration": 714,
    "start_time": "2021-11-29T13:31:16.254Z"
   },
   {
    "duration": 6491,
    "start_time": "2021-11-29T13:31:35.609Z"
   },
   {
    "duration": 6418,
    "start_time": "2021-11-29T13:32:46.682Z"
   },
   {
    "duration": 1881,
    "start_time": "2021-11-30T15:51:48.928Z"
   },
   {
    "duration": 514,
    "start_time": "2021-11-30T16:01:49.845Z"
   },
   {
    "duration": 6,
    "start_time": "2021-11-30T16:01:56.878Z"
   },
   {
    "duration": 141,
    "start_time": "2021-11-30T16:01:56.887Z"
   },
   {
    "duration": 10,
    "start_time": "2021-11-30T16:01:57.031Z"
   },
   {
    "duration": 21,
    "start_time": "2021-11-30T16:01:57.044Z"
   },
   {
    "duration": 16,
    "start_time": "2021-11-30T16:01:57.067Z"
   },
   {
    "duration": 9,
    "start_time": "2021-11-30T16:01:57.086Z"
   },
   {
    "duration": 19,
    "start_time": "2021-11-30T16:01:57.098Z"
   },
   {
    "duration": 56,
    "start_time": "2021-11-30T16:01:57.119Z"
   },
   {
    "duration": 4,
    "start_time": "2021-11-30T16:01:57.179Z"
   },
   {
    "duration": 1632,
    "start_time": "2021-11-30T16:01:57.186Z"
   },
   {
    "duration": 766,
    "start_time": "2021-11-30T16:01:58.821Z"
   },
   {
    "duration": 598,
    "start_time": "2021-11-30T16:01:59.590Z"
   },
   {
    "duration": 29,
    "start_time": "2021-11-30T16:02:00.190Z"
   },
   {
    "duration": 11,
    "start_time": "2021-11-30T16:02:00.222Z"
   },
   {
    "duration": 31,
    "start_time": "2021-11-30T16:02:00.236Z"
   },
   {
    "duration": 294,
    "start_time": "2021-11-30T16:02:00.270Z"
   },
   {
    "duration": 125,
    "start_time": "2021-11-30T16:02:34.637Z"
   },
   {
    "duration": 386,
    "start_time": "2021-11-30T16:03:47.617Z"
   },
   {
    "duration": 386,
    "start_time": "2021-11-30T16:05:00.219Z"
   },
   {
    "duration": 5,
    "start_time": "2021-11-30T16:05:30.506Z"
   },
   {
    "duration": 7,
    "start_time": "2021-11-30T16:05:40.676Z"
   },
   {
    "duration": 15685,
    "start_time": "2021-11-30T16:10:40.168Z"
   },
   {
    "duration": 8,
    "start_time": "2021-11-30T16:11:02.638Z"
   },
   {
    "duration": 7,
    "start_time": "2021-11-30T16:11:31.558Z"
   },
   {
    "duration": 4443,
    "start_time": "2021-11-30T16:13:19.410Z"
   },
   {
    "duration": 6,
    "start_time": "2021-11-30T16:13:23.856Z"
   },
   {
    "duration": 300,
    "start_time": "2021-11-30T16:13:23.866Z"
   },
   {
    "duration": 11,
    "start_time": "2021-11-30T16:13:24.169Z"
   },
   {
    "duration": 37,
    "start_time": "2021-11-30T16:13:24.182Z"
   },
   {
    "duration": 17,
    "start_time": "2021-11-30T16:13:24.222Z"
   },
   {
    "duration": 12,
    "start_time": "2021-11-30T16:13:24.242Z"
   },
   {
    "duration": 26,
    "start_time": "2021-11-30T16:13:24.259Z"
   },
   {
    "duration": 16,
    "start_time": "2021-11-30T16:13:24.288Z"
   },
   {
    "duration": 6,
    "start_time": "2021-11-30T16:13:24.306Z"
   },
   {
    "duration": 1858,
    "start_time": "2021-11-30T16:13:24.314Z"
   },
   {
    "duration": 699,
    "start_time": "2021-11-30T16:13:26.174Z"
   },
   {
    "duration": 575,
    "start_time": "2021-11-30T16:13:26.877Z"
   },
   {
    "duration": 30,
    "start_time": "2021-11-30T16:13:27.461Z"
   },
   {
    "duration": 14,
    "start_time": "2021-11-30T16:13:27.495Z"
   },
   {
    "duration": 10,
    "start_time": "2021-11-30T16:13:27.512Z"
   },
   {
    "duration": 42,
    "start_time": "2021-11-30T16:13:27.524Z"
   },
   {
    "duration": 14,
    "start_time": "2021-11-30T16:13:27.569Z"
   },
   {
    "duration": 868,
    "start_time": "2021-11-30T16:13:27.660Z"
   },
   {
    "duration": 9731,
    "start_time": "2021-11-30T16:13:28.530Z"
   },
   {
    "duration": 7,
    "start_time": "2021-11-30T16:13:38.264Z"
   },
   {
    "duration": 812,
    "start_time": "2021-11-30T16:13:38.274Z"
   },
   {
    "duration": 11998,
    "start_time": "2021-11-30T16:13:39.090Z"
   },
   {
    "duration": 1209,
    "start_time": "2021-12-01T14:28:43.888Z"
   },
   {
    "duration": 340,
    "start_time": "2021-12-01T14:29:20.330Z"
   },
   {
    "duration": 5,
    "start_time": "2021-12-01T14:30:30.111Z"
   },
   {
    "duration": 264,
    "start_time": "2021-12-01T14:30:42.525Z"
   },
   {
    "duration": 6717,
    "start_time": "2021-12-01T14:31:12.348Z"
   },
   {
    "duration": 5,
    "start_time": "2021-12-01T14:31:19.068Z"
   },
   {
    "duration": 116,
    "start_time": "2021-12-01T14:31:19.075Z"
   },
   {
    "duration": 9,
    "start_time": "2021-12-01T14:31:19.193Z"
   },
   {
    "duration": 17,
    "start_time": "2021-12-01T14:31:19.204Z"
   },
   {
    "duration": 13,
    "start_time": "2021-12-01T14:31:19.223Z"
   },
   {
    "duration": 32,
    "start_time": "2021-12-01T14:31:19.237Z"
   },
   {
    "duration": 14,
    "start_time": "2021-12-01T14:31:19.272Z"
   },
   {
    "duration": 19,
    "start_time": "2021-12-01T14:31:19.288Z"
   },
   {
    "duration": 3,
    "start_time": "2021-12-01T14:31:19.309Z"
   },
   {
    "duration": 1217,
    "start_time": "2021-12-01T14:31:19.314Z"
   },
   {
    "duration": 467,
    "start_time": "2021-12-01T14:31:20.533Z"
   },
   {
    "duration": 380,
    "start_time": "2021-12-01T14:31:21.001Z"
   },
   {
    "duration": 21,
    "start_time": "2021-12-01T14:31:21.383Z"
   },
   {
    "duration": 9,
    "start_time": "2021-12-01T14:31:21.405Z"
   },
   {
    "duration": 7,
    "start_time": "2021-12-01T14:31:21.416Z"
   },
   {
    "duration": 272,
    "start_time": "2021-12-01T14:31:21.425Z"
   },
   {
    "duration": 280,
    "start_time": "2021-12-01T14:31:28.283Z"
   },
   {
    "duration": 293,
    "start_time": "2021-12-01T14:32:06.187Z"
   },
   {
    "duration": 3,
    "start_time": "2021-12-01T14:33:27.265Z"
   },
   {
    "duration": 6,
    "start_time": "2021-12-01T14:33:35.566Z"
   },
   {
    "duration": 266,
    "start_time": "2021-12-01T14:34:05.482Z"
   },
   {
    "duration": 250,
    "start_time": "2021-12-01T14:35:44.571Z"
   },
   {
    "duration": 547,
    "start_time": "2021-12-01T14:36:02.802Z"
   },
   {
    "duration": 268,
    "start_time": "2021-12-01T14:36:11.061Z"
   },
   {
    "duration": 251,
    "start_time": "2021-12-01T14:37:07.901Z"
   },
   {
    "duration": 5,
    "start_time": "2021-12-01T14:37:21.576Z"
   },
   {
    "duration": 5,
    "start_time": "2021-12-01T14:37:25.868Z"
   },
   {
    "duration": 269,
    "start_time": "2021-12-01T14:37:37.003Z"
   },
   {
    "duration": 6,
    "start_time": "2021-12-01T14:37:54.192Z"
   },
   {
    "duration": 246,
    "start_time": "2021-12-01T14:38:12.209Z"
   },
   {
    "duration": 259,
    "start_time": "2021-12-01T14:38:16.185Z"
   },
   {
    "duration": 253,
    "start_time": "2021-12-01T14:38:21.072Z"
   },
   {
    "duration": 9,
    "start_time": "2021-12-01T14:38:34.483Z"
   },
   {
    "duration": 253,
    "start_time": "2021-12-01T14:39:54.380Z"
   },
   {
    "duration": 4,
    "start_time": "2021-12-01T14:40:36.000Z"
   },
   {
    "duration": 426,
    "start_time": "2021-12-01T14:40:42.192Z"
   },
   {
    "duration": 4,
    "start_time": "2021-12-01T14:41:06.294Z"
   },
   {
    "duration": 232,
    "start_time": "2021-12-01T14:41:12.232Z"
   },
   {
    "duration": 29,
    "start_time": "2021-12-01T14:41:20.021Z"
   },
   {
    "duration": 31,
    "start_time": "2021-12-01T14:41:25.000Z"
   },
   {
    "duration": 10219,
    "start_time": "2021-12-06T14:55:52.288Z"
   },
   {
    "duration": 1760,
    "start_time": "2021-12-06T14:56:02.510Z"
   },
   {
    "duration": 138,
    "start_time": "2021-12-06T14:56:04.273Z"
   },
   {
    "duration": 10,
    "start_time": "2021-12-06T14:56:04.414Z"
   },
   {
    "duration": 21,
    "start_time": "2021-12-06T14:56:04.427Z"
   },
   {
    "duration": 18,
    "start_time": "2021-12-06T14:56:04.451Z"
   },
   {
    "duration": 46,
    "start_time": "2021-12-06T14:56:04.471Z"
   },
   {
    "duration": 35,
    "start_time": "2021-12-06T14:56:04.525Z"
   },
   {
    "duration": 21,
    "start_time": "2021-12-06T14:56:04.565Z"
   },
   {
    "duration": 31,
    "start_time": "2021-12-06T14:56:04.589Z"
   },
   {
    "duration": 3253,
    "start_time": "2021-12-06T14:56:04.623Z"
   },
   {
    "duration": 695,
    "start_time": "2021-12-06T14:56:07.879Z"
   },
   {
    "duration": 602,
    "start_time": "2021-12-06T14:56:08.576Z"
   },
   {
    "duration": 44,
    "start_time": "2021-12-06T14:56:09.180Z"
   },
   {
    "duration": 11,
    "start_time": "2021-12-06T14:56:09.226Z"
   },
   {
    "duration": 13,
    "start_time": "2021-12-06T14:56:32.419Z"
   },
   {
    "duration": 5,
    "start_time": "2021-12-06T14:58:19.200Z"
   },
   {
    "duration": 224,
    "start_time": "2021-12-06T14:59:47.418Z"
   },
   {
    "duration": 682,
    "start_time": "2021-12-06T15:00:53.424Z"
   },
   {
    "duration": 5,
    "start_time": "2021-12-06T15:03:45.798Z"
   },
   {
    "duration": 220,
    "start_time": "2021-12-06T15:03:50.827Z"
   },
   {
    "duration": 363,
    "start_time": "2021-12-06T15:09:01.403Z"
   },
   {
    "duration": 2887,
    "start_time": "2021-12-06T15:11:07.712Z"
   },
   {
    "duration": 48739,
    "start_time": "2021-12-06T15:13:38.204Z"
   },
   {
    "duration": 49340,
    "start_time": "2021-12-06T15:15:35.197Z"
   },
   {
    "duration": 47853,
    "start_time": "2021-12-06T15:16:38.757Z"
   },
   {
    "duration": 49120,
    "start_time": "2021-12-06T15:17:43.566Z"
   },
   {
    "duration": 3248,
    "start_time": "2021-12-06T15:19:54.451Z"
   },
   {
    "duration": 52949,
    "start_time": "2021-12-06T15:20:10.279Z"
   },
   {
    "duration": 216,
    "start_time": "2021-12-06T15:21:03.233Z"
   },
   {
    "duration": 3774,
    "start_time": "2021-12-06T15:21:14.100Z"
   },
   {
    "duration": 5422,
    "start_time": "2021-12-06T15:25:32.222Z"
   },
   {
    "duration": 1769,
    "start_time": "2021-12-06T15:25:37.648Z"
   },
   {
    "duration": 244,
    "start_time": "2021-12-06T15:25:39.421Z"
   },
   {
    "duration": 15,
    "start_time": "2021-12-06T15:25:39.668Z"
   },
   {
    "duration": 39,
    "start_time": "2021-12-06T15:25:39.687Z"
   },
   {
    "duration": 25,
    "start_time": "2021-12-06T15:25:39.730Z"
   },
   {
    "duration": 11,
    "start_time": "2021-12-06T15:25:39.759Z"
   },
   {
    "duration": 71,
    "start_time": "2021-12-06T15:25:39.774Z"
   },
   {
    "duration": 20,
    "start_time": "2021-12-06T15:25:39.854Z"
   },
   {
    "duration": 6,
    "start_time": "2021-12-06T15:25:39.877Z"
   },
   {
    "duration": 2663,
    "start_time": "2021-12-06T15:25:39.886Z"
   },
   {
    "duration": 1137,
    "start_time": "2021-12-06T15:25:42.556Z"
   },
   {
    "duration": 1164,
    "start_time": "2021-12-06T15:25:43.697Z"
   },
   {
    "duration": 60,
    "start_time": "2021-12-06T15:25:44.864Z"
   },
   {
    "duration": 15,
    "start_time": "2021-12-06T15:25:44.927Z"
   },
   {
    "duration": 10,
    "start_time": "2021-12-06T15:25:44.946Z"
   },
   {
    "duration": 9,
    "start_time": "2021-12-06T15:25:44.959Z"
   },
   {
    "duration": 249,
    "start_time": "2021-12-06T15:25:44.970Z"
   },
   {
    "duration": 3618,
    "start_time": "2021-12-06T15:25:45.224Z"
   },
   {
    "duration": 58396,
    "start_time": "2021-12-06T15:25:48.847Z"
   }
  ],
  "kernelspec": {
   "display_name": "Python 3",
   "language": "python",
   "name": "python3"
  },
  "language_info": {
   "codemirror_mode": {
    "name": "ipython",
    "version": 3
   },
   "file_extension": ".py",
   "mimetype": "text/x-python",
   "name": "python",
   "nbconvert_exporter": "python",
   "pygments_lexer": "ipython3",
   "version": "3.7.8"
  },
  "toc": {
   "base_numbering": 1,
   "nav_menu": {},
   "number_sections": true,
   "sideBar": true,
   "skip_h1_title": true,
   "title_cell": "Table of Contents",
   "title_sidebar": "Contents",
   "toc_cell": false,
   "toc_position": {
    "height": "calc(100% - 180px)",
    "left": "10px",
    "top": "150px",
    "width": "240px"
   },
   "toc_section_display": true,
   "toc_window_display": true
  }
 },
 "nbformat": 4,
 "nbformat_minor": 2
}
