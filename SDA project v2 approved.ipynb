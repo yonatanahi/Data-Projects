{
 "cells": [
  {
   "cell_type": "markdown",
   "metadata": {},
   "source": [
    "<div style=\"border:solid green 2px; padding: 20px\"> <h1 style=\"color:green; margin-bottom:20px\">Reviewer's comment v1</h1>\n",
    "\n",
    "Hello Yonatan, my name is Dmitrii. I'm going to review your project! Nice to meet you! 🙌\n",
    "\n",
    "You can find my comments under the heading **«Review»**. I will categorize my comments in green, blue or red boxes like this:\n",
    "\n",
    "<div class=\"alert alert-success\">\n",
    "    <b>Success:</b> if everything is done successfully\n",
    "</div>\n",
    "<div class=\"alert alert-warning\">\n",
    "    <b>Remarks:</b> if I can give some recommendations or ways to improve the project\n",
    "</div>\n",
    "<div class=\"alert alert-danger\">\n",
    "    <b>Needs fixing:</b> if the block requires some corrections. Work can't be accepted with the red comments\n",
    "</div>\n",
    "\n",
    "Please don't remove my comments :) If you have any questions don't hesitate to respond to my comments in a different section. \n",
    "<div class=\"alert alert-info\"> <b>Student comments:</b> For example like this</div>    \n"
   ]
  },
  {
   "cell_type": "markdown",
   "metadata": {
    "toc": true
   },
   "source": [
    "<h1>Table of Contents<span class=\"tocSkip\"></span></h1>\n",
    "<div class=\"toc\"><ul class=\"toc-item\"><li><span><a href=\"#Reviewer's-comment-v1\" data-toc-modified-id=\"Reviewer's-comment-v1-1\"><span class=\"toc-item-num\">1&nbsp;&nbsp;</span>Reviewer's comment v1</a></span></li><li><span><a href=\"#Personal-message\" data-toc-modified-id=\"Personal-message-2\"><span class=\"toc-item-num\">2&nbsp;&nbsp;</span>Personal message</a></span><ul class=\"toc-item\"><li><span><a href=\"#Introduction\" data-toc-modified-id=\"Introduction-2.1\"><span class=\"toc-item-num\">2.1&nbsp;&nbsp;</span>Introduction</a></span></li><li><span><a href=\"#Open-the-data-file-and-study-the-general-information.\" data-toc-modified-id=\"Open-the-data-file-and-study-the-general-information.-2.2\"><span class=\"toc-item-num\">2.2&nbsp;&nbsp;</span>Open the data file and study the general information.</a></span><ul class=\"toc-item\"><li><span><a href=\"#Imports\" data-toc-modified-id=\"Imports-2.2.1\"><span class=\"toc-item-num\">2.2.1&nbsp;&nbsp;</span>Imports</a></span></li><li><span><a href=\"#Datasets-samples\" data-toc-modified-id=\"Datasets-samples-2.2.2\"><span class=\"toc-item-num\">2.2.2&nbsp;&nbsp;</span>Datasets samples</a></span></li><li><span><a href=\"#Datasets-infos\" data-toc-modified-id=\"Datasets-infos-2.2.3\"><span class=\"toc-item-num\">2.2.3&nbsp;&nbsp;</span>Datasets infos</a></span></li><li><span><a href=\"#Conclusion\" data-toc-modified-id=\"Conclusion-2.2.4\"><span class=\"toc-item-num\">2.2.4&nbsp;&nbsp;</span>Conclusion</a></span></li></ul></li><li><span><a href=\"#Data-preprocessing\" data-toc-modified-id=\"Data-preprocessing-2.3\"><span class=\"toc-item-num\">2.3&nbsp;&nbsp;</span>Data preprocessing</a></span><ul class=\"toc-item\"><li><span><a href=\"#Missing-values\" data-toc-modified-id=\"Missing-values-2.3.1\"><span class=\"toc-item-num\">2.3.1&nbsp;&nbsp;</span>Missing values</a></span></li><li><span><a href=\"#Checking-and-converting-data-types\" data-toc-modified-id=\"Checking-and-converting-data-types-2.3.2\"><span class=\"toc-item-num\">2.3.2&nbsp;&nbsp;</span>Checking and converting data types</a></span></li><li><span><a href=\"#Checking-for-ouliers\" data-toc-modified-id=\"Checking-for-ouliers-2.3.3\"><span class=\"toc-item-num\">2.3.3&nbsp;&nbsp;</span>Checking for ouliers</a></span></li><li><span><a href=\"#Droping-zeros-in-internet-and-calls-tables\" data-toc-modified-id=\"Droping-zeros-in-internet-and-calls-tables-2.3.4\"><span class=\"toc-item-num\">2.3.4&nbsp;&nbsp;</span>Droping zeros in internet and calls tables</a></span></li><li><span><a href=\"#Checking-zeros-after-dropping\" data-toc-modified-id=\"Checking-zeros-after-dropping-2.3.5\"><span class=\"toc-item-num\">2.3.5&nbsp;&nbsp;</span>Checking zeros after dropping</a></span></li><li><span><a href=\"#Checking-the-distributions-after-dropping\" data-toc-modified-id=\"Checking-the-distributions-after-dropping-2.3.6\"><span class=\"toc-item-num\">2.3.6&nbsp;&nbsp;</span>Checking the distributions after dropping</a></span></li><li><span><a href=\"#Conclusion\" data-toc-modified-id=\"Conclusion-2.3.7\"><span class=\"toc-item-num\">2.3.7&nbsp;&nbsp;</span>Conclusion</a></span></li></ul></li><li><span><a href=\"#Make-calculations-and-add-them-to-the-table\" data-toc-modified-id=\"Make-calculations-and-add-them-to-the-table-2.4\"><span class=\"toc-item-num\">2.4&nbsp;&nbsp;</span>Make calculations and add them to the table</a></span><ul class=\"toc-item\"><li><span><a href=\"#Adding-month-to-calls,-messages-and-internet\" data-toc-modified-id=\"Adding-month-to-calls,-messages-and-internet-2.4.1\"><span class=\"toc-item-num\">2.4.1&nbsp;&nbsp;</span>Adding month to calls, messages and internet</a></span></li><li><span><a href=\"#Rounding-duration-column-in-calls-table\" data-toc-modified-id=\"Rounding-duration-column-in-calls-table-2.4.2\"><span class=\"toc-item-num\">2.4.2&nbsp;&nbsp;</span>Rounding duration column in calls table</a></span></li><li><span><a href=\"#The-number-of-calls-made-and-minutes-used-per-month-by-user\" data-toc-modified-id=\"The-number-of-calls-made-and-minutes-used-per-month-by-user-2.4.3\"><span class=\"toc-item-num\">2.4.3&nbsp;&nbsp;</span>The number of calls made and minutes used per month by user</a></span></li><li><span><a href=\"#The-number-of-text-messages-sent-per-month-by-user\" data-toc-modified-id=\"The-number-of-text-messages-sent-per-month-by-user-2.4.4\"><span class=\"toc-item-num\">2.4.4&nbsp;&nbsp;</span>The number of text messages sent per month by user</a></span></li><li><span><a href=\"#The-volume-of-data-per-month-by-user\" data-toc-modified-id=\"The-volume-of-data-per-month-by-user-2.4.5\"><span class=\"toc-item-num\">2.4.5&nbsp;&nbsp;</span>The volume of data per month by user</a></span></li><li><span><a href=\"#The-monthly-revenue-from-each-user\" data-toc-modified-id=\"The-monthly-revenue-from-each-user-2.4.6\"><span class=\"toc-item-num\">2.4.6&nbsp;&nbsp;</span>The monthly revenue from each user</a></span></li><li><span><a href=\"#Checking-unique-user-ids-in-the-tables\" data-toc-modified-id=\"Checking-unique-user-ids-in-the-tables-2.4.7\"><span class=\"toc-item-num\">2.4.7&nbsp;&nbsp;</span>Checking unique user ids in the tables</a></span></li><li><span><a href=\"#Conclusion\" data-toc-modified-id=\"Conclusion-2.4.8\"><span class=\"toc-item-num\">2.4.8&nbsp;&nbsp;</span>Conclusion</a></span></li></ul></li><li><span><a href=\"#Carry-out-exploratory-data-analysis\" data-toc-modified-id=\"Carry-out-exploratory-data-analysis-2.5\"><span class=\"toc-item-num\">2.5&nbsp;&nbsp;</span>Carry out exploratory data analysis</a></span><ul class=\"toc-item\"><li><span><a href=\"#Conclusion\" data-toc-modified-id=\"Conclusion-2.5.1\"><span class=\"toc-item-num\">2.5.1&nbsp;&nbsp;</span>Conclusion</a></span><ul class=\"toc-item\"><li><span><a href=\"#First-findings\" data-toc-modified-id=\"First-findings-2.5.1.1\"><span class=\"toc-item-num\">2.5.1.1&nbsp;&nbsp;</span>First findings</a></span></li></ul></li></ul></li><li><span><a href=\"#Carry-out-statistical-data-analysis\" data-toc-modified-id=\"Carry-out-statistical-data-analysis-2.6\"><span class=\"toc-item-num\">2.6&nbsp;&nbsp;</span>Carry out statistical data analysis</a></span><ul class=\"toc-item\"><li><span><a href=\"#Checking-the-hypothesis:-the-average-revenue-from-users-of-Ultimate-and-Surf-calling-plans-differs\" data-toc-modified-id=\"Checking-the-hypothesis:-the-average-revenue-from-users-of-Ultimate-and-Surf-calling-plans-differs-2.6.1\"><span class=\"toc-item-num\">2.6.1&nbsp;&nbsp;</span>Checking the hypothesis: the average revenue from users of Ultimate and Surf calling plans differs</a></span></li><li><span><a href=\"#Checking-the-hypothesis:-the-average-revenue-from-users-in-NY-NJ-area-is-different-from-that-of-the-users-from-other-regions\" data-toc-modified-id=\"Checking-the-hypothesis:-the-average-revenue-from-users-in-NY-NJ-area-is-different-from-that-of-the-users-from-other-regions-2.6.2\"><span class=\"toc-item-num\">2.6.2&nbsp;&nbsp;</span>Checking the hypothesis: the average revenue from users in NY-NJ area is different from that of the users from other regions</a></span></li></ul></li><li><span><a href=\"#Overall-conclusion\" data-toc-modified-id=\"Overall-conclusion-2.7\"><span class=\"toc-item-num\">2.7&nbsp;&nbsp;</span>Overall conclusion</a></span></li></ul></li><li><span><a href=\"#Project-completion-checklist\" data-toc-modified-id=\"Project-completion-checklist-3\"><span class=\"toc-item-num\">3&nbsp;&nbsp;</span>Project completion checklist</a></span></li></ul></div>"
   ]
  },
  {
   "cell_type": "markdown",
   "metadata": {},
   "source": [
    "# Personal message\n",
    "\n",
    "Hi Dmitrii,\n",
    "\n",
    "Nice to meet you too 🙂 \n",
    "\n",
    "I learned a lot from your comments! thanks 🤝\n"
   ]
  },
  {
   "cell_type": "markdown",
   "metadata": {},
   "source": [
    "<div style=\"border:solid green 2px; padding: 20px\">\n",
    "<b>Reviewer's comment v1</b>\n",
    "    \n",
    "<b>Overall Feedback</b> \n",
    "\n",
    "Hi Yonatan, I really enjoyed it! :) \n",
    "    \n",
    "I can see that a lot of effort has been made! Your project already looks really good and you accomplished impressive results.\n",
    "\n",
    "Nevertheless, there are some comments that will help you to make your project even better and should be fixed before this project can be accepted:\n",
    "- Double-check data for some strange values (such as zeros).\n",
    "- Extend your analysis with conclusions and observations based on the histograms and metrics.\n",
    "\n",
    "I will wait for the new version of the project. Come back soon! :)\n",
    "\n",
    "And of course, if you have any questions along the way, remember that you can always reach out to your tutor for any clarification.\n",
    "</div>"
   ]
  },
  {
   "cell_type": "markdown",
   "metadata": {},
   "source": [
    "<div style=\"border:solid green 2px; padding: 20px\">\n",
    "<b>Reviewer's comment v2:</b>\n",
    "    \n",
    "<b>Overall Feedback</b> \n",
    "    \n",
    "- Hi Yonatan, thank you for making all corrections.\n",
    "- No critial issues left, so your project has been accepted! \n",
    "\n",
    "Please keep up the great work and good luck on the next project! 🍀 \n",
    "</div>"
   ]
  },
  {
   "cell_type": "markdown",
   "metadata": {},
   "source": [
    "##  Introduction\n",
    "<a class=\"anchor\" id=\"introduction\"></a> \n",
    "[Go back to the Table of Contents](#table_of_contents) "
   ]
  },
  {
   "cell_type": "markdown",
   "metadata": {},
   "source": [
    "In this project, we will explore clients' behavior of two prepaid plans, Surf and Ultimate (500 clients of Megaline telecom operator), in order to know which of the plans brings in more revenue in order to adjust the advertising budget.\n",
    "\n",
    "We will start with preprocessing of the dataset: missing values, duplicates, convering data types etc. \n",
    "\n",
    "Afterwards, we are going to carry out exploratory data analysis: plotting histograms etc.\n",
    "\n",
    "The next step will be, statistical data analysis on two hypotheses:\n",
    "1. The average revenue from users of Ultimate and Surf calling plans differs.\n",
    "1. The average revenue from users in NY-NJ area is different from that of the users from other regions.\n",
    "\n",
    "\n",
    "Finally, we will conclude the whole process in relation to the research question:\n",
    "\n",
    "   * which prepaid plan brings in more revenue?\n",
    "\n"
   ]
  },
  {
   "cell_type": "markdown",
   "metadata": {},
   "source": [
    "<div class=\"alert alert-block alert-success\">\n",
    "<b>Reviewer's comment v1</b>\n",
    " \n",
    "- Great that you added additional information about the project goal and tasks. It gives an overview of what you are going to achieve in this project. \n",
    "- Also, this introduction potentially can be used as a Readme file in your portfolio on Github. One example of a nice introduction for a data analysis project can be found here: https://github.com/CICIFLY/Data-Analytics-Projects/blob/master/AB%20Testing%20Result%20Analyze/readme.md\n",
    "</div>"
   ]
  },
  {
   "cell_type": "markdown",
   "metadata": {},
   "source": [
    "##  Open the data file and study the general information. \n",
    "<a class=\"anchor\" id=\"open_file\"></a> \n",
    "[Go back to the Table of Contents](#table_of_contents) "
   ]
  },
  {
   "cell_type": "markdown",
   "metadata": {},
   "source": [
    "### Imports"
   ]
  },
  {
   "cell_type": "code",
   "execution_count": 1,
   "metadata": {},
   "outputs": [],
   "source": [
    "import pandas as pd\n",
    "import numpy as np\n",
    "import matplotlib.pyplot as plt\n",
    "from IPython.display import display\n",
    "from functools import reduce\n",
    "from scipy import stats as st\n",
    "import math"
   ]
  },
  {
   "cell_type": "code",
   "execution_count": 2,
   "metadata": {
    "scrolled": true
   },
   "outputs": [],
   "source": [
    "dfs_dict = {}\n",
    "csvs_names = ['megaline_calls', 'megaline_internet', 'megaline_messages', 'megaline_plans', 'megaline_users1']\n",
    "dfs_names = ['calls', 'internet', 'messages', 'plans', 'users']\n",
    "\n",
    "for i in range(len(dfs_names)):\n",
    "    \n",
    "    try:\n",
    "        dfs_dict[dfs_names[i]] = pd.read_csv('/Users/yonatan/Desktop/Practicum/Sprint 4 - Statistical Data Analysis/Statistical Data Analysis project/'  + csvs_names[i] + '.csv')\n",
    "        \n",
    "    except:\n",
    "        dfs_dict[dfs_names[i]] = pd.read_csv('/datasets/' + csvs_names[i] + '.csv')"
   ]
  },
  {
   "cell_type": "markdown",
   "metadata": {},
   "source": [
    "<div class=\"alert alert-block alert-success\">\n",
    "<b>Reviewer's comment v1:</b>\n",
    "    \n",
    "Great that all imports and data load are grouped in different cells before the project. \n",
    "</div>"
   ]
  },
  {
   "cell_type": "markdown",
   "metadata": {},
   "source": [
    "### Datasets samples"
   ]
  },
  {
   "cell_type": "code",
   "execution_count": 3,
   "metadata": {
    "scrolled": false
   },
   "outputs": [
    {
     "name": "stdout",
     "output_type": "stream",
     "text": [
      "megaline_calls\n"
     ]
    },
    {
     "data": {
      "text/html": [
       "<div>\n",
       "<style scoped>\n",
       "    .dataframe tbody tr th:only-of-type {\n",
       "        vertical-align: middle;\n",
       "    }\n",
       "\n",
       "    .dataframe tbody tr th {\n",
       "        vertical-align: top;\n",
       "    }\n",
       "\n",
       "    .dataframe thead th {\n",
       "        text-align: right;\n",
       "    }\n",
       "</style>\n",
       "<table border=\"1\" class=\"dataframe\">\n",
       "  <thead>\n",
       "    <tr style=\"text-align: right;\">\n",
       "      <th></th>\n",
       "      <th>id</th>\n",
       "      <th>user_id</th>\n",
       "      <th>call_date</th>\n",
       "      <th>duration</th>\n",
       "    </tr>\n",
       "  </thead>\n",
       "  <tbody>\n",
       "    <tr>\n",
       "      <td>110744</td>\n",
       "      <td>1390_193</td>\n",
       "      <td>1390</td>\n",
       "      <td>2018-10-29</td>\n",
       "      <td>6.77</td>\n",
       "    </tr>\n",
       "  </tbody>\n",
       "</table>\n",
       "</div>"
      ],
      "text/plain": [
       "              id  user_id   call_date  duration\n",
       "110744  1390_193     1390  2018-10-29      6.77"
      ]
     },
     "metadata": {},
     "output_type": "display_data"
    },
    {
     "name": "stdout",
     "output_type": "stream",
     "text": [
      "\n",
      "megaline_internet\n"
     ]
    },
    {
     "data": {
      "text/html": [
       "<div>\n",
       "<style scoped>\n",
       "    .dataframe tbody tr th:only-of-type {\n",
       "        vertical-align: middle;\n",
       "    }\n",
       "\n",
       "    .dataframe tbody tr th {\n",
       "        vertical-align: top;\n",
       "    }\n",
       "\n",
       "    .dataframe thead th {\n",
       "        text-align: right;\n",
       "    }\n",
       "</style>\n",
       "<table border=\"1\" class=\"dataframe\">\n",
       "  <thead>\n",
       "    <tr style=\"text-align: right;\">\n",
       "      <th></th>\n",
       "      <th>id</th>\n",
       "      <th>user_id</th>\n",
       "      <th>session_date</th>\n",
       "      <th>mb_used</th>\n",
       "    </tr>\n",
       "  </thead>\n",
       "  <tbody>\n",
       "    <tr>\n",
       "      <td>25317</td>\n",
       "      <td>1117_250</td>\n",
       "      <td>1117</td>\n",
       "      <td>2018-09-21</td>\n",
       "      <td>178.11</td>\n",
       "    </tr>\n",
       "  </tbody>\n",
       "</table>\n",
       "</div>"
      ],
      "text/plain": [
       "             id  user_id session_date  mb_used\n",
       "25317  1117_250     1117   2018-09-21   178.11"
      ]
     },
     "metadata": {},
     "output_type": "display_data"
    },
    {
     "name": "stdout",
     "output_type": "stream",
     "text": [
      "\n",
      "megaline_messages\n"
     ]
    },
    {
     "data": {
      "text/html": [
       "<div>\n",
       "<style scoped>\n",
       "    .dataframe tbody tr th:only-of-type {\n",
       "        vertical-align: middle;\n",
       "    }\n",
       "\n",
       "    .dataframe tbody tr th {\n",
       "        vertical-align: top;\n",
       "    }\n",
       "\n",
       "    .dataframe thead th {\n",
       "        text-align: right;\n",
       "    }\n",
       "</style>\n",
       "<table border=\"1\" class=\"dataframe\">\n",
       "  <thead>\n",
       "    <tr style=\"text-align: right;\">\n",
       "      <th></th>\n",
       "      <th>id</th>\n",
       "      <th>user_id</th>\n",
       "      <th>message_date</th>\n",
       "    </tr>\n",
       "  </thead>\n",
       "  <tbody>\n",
       "    <tr>\n",
       "      <td>31088</td>\n",
       "      <td>1194_247</td>\n",
       "      <td>1194</td>\n",
       "      <td>2018-10-06</td>\n",
       "    </tr>\n",
       "  </tbody>\n",
       "</table>\n",
       "</div>"
      ],
      "text/plain": [
       "             id  user_id message_date\n",
       "31088  1194_247     1194   2018-10-06"
      ]
     },
     "metadata": {},
     "output_type": "display_data"
    },
    {
     "name": "stdout",
     "output_type": "stream",
     "text": [
      "\n",
      "megaline_plans\n"
     ]
    },
    {
     "data": {
      "text/html": [
       "<div>\n",
       "<style scoped>\n",
       "    .dataframe tbody tr th:only-of-type {\n",
       "        vertical-align: middle;\n",
       "    }\n",
       "\n",
       "    .dataframe tbody tr th {\n",
       "        vertical-align: top;\n",
       "    }\n",
       "\n",
       "    .dataframe thead th {\n",
       "        text-align: right;\n",
       "    }\n",
       "</style>\n",
       "<table border=\"1\" class=\"dataframe\">\n",
       "  <thead>\n",
       "    <tr style=\"text-align: right;\">\n",
       "      <th></th>\n",
       "      <th>messages_included</th>\n",
       "      <th>mb_per_month_included</th>\n",
       "      <th>minutes_included</th>\n",
       "      <th>usd_monthly_pay</th>\n",
       "      <th>usd_per_gb</th>\n",
       "      <th>usd_per_message</th>\n",
       "      <th>usd_per_minute</th>\n",
       "      <th>plan_name</th>\n",
       "    </tr>\n",
       "  </thead>\n",
       "  <tbody>\n",
       "    <tr>\n",
       "      <td>1</td>\n",
       "      <td>1000</td>\n",
       "      <td>30720</td>\n",
       "      <td>3000</td>\n",
       "      <td>70</td>\n",
       "      <td>7</td>\n",
       "      <td>0.01</td>\n",
       "      <td>0.01</td>\n",
       "      <td>ultimate</td>\n",
       "    </tr>\n",
       "  </tbody>\n",
       "</table>\n",
       "</div>"
      ],
      "text/plain": [
       "   messages_included  mb_per_month_included  minutes_included  \\\n",
       "1               1000                  30720              3000   \n",
       "\n",
       "   usd_monthly_pay  usd_per_gb  usd_per_message  usd_per_minute plan_name  \n",
       "1               70           7             0.01            0.01  ultimate  "
      ]
     },
     "metadata": {},
     "output_type": "display_data"
    },
    {
     "name": "stdout",
     "output_type": "stream",
     "text": [
      "\n",
      "megaline_users1\n"
     ]
    },
    {
     "data": {
      "text/html": [
       "<div>\n",
       "<style scoped>\n",
       "    .dataframe tbody tr th:only-of-type {\n",
       "        vertical-align: middle;\n",
       "    }\n",
       "\n",
       "    .dataframe tbody tr th {\n",
       "        vertical-align: top;\n",
       "    }\n",
       "\n",
       "    .dataframe thead th {\n",
       "        text-align: right;\n",
       "    }\n",
       "</style>\n",
       "<table border=\"1\" class=\"dataframe\">\n",
       "  <thead>\n",
       "    <tr style=\"text-align: right;\">\n",
       "      <th></th>\n",
       "      <th>user_id</th>\n",
       "      <th>first_name</th>\n",
       "      <th>last_name</th>\n",
       "      <th>age</th>\n",
       "      <th>city</th>\n",
       "      <th>reg_date</th>\n",
       "      <th>tariff</th>\n",
       "      <th>churn_date</th>\n",
       "    </tr>\n",
       "  </thead>\n",
       "  <tbody>\n",
       "    <tr>\n",
       "      <td>287</td>\n",
       "      <td>1287</td>\n",
       "      <td>Heide</td>\n",
       "      <td>Gill</td>\n",
       "      <td>74</td>\n",
       "      <td>Sacramento–Roseville–Folsom, CA MSA</td>\n",
       "      <td>2018-03-15</td>\n",
       "      <td>surf</td>\n",
       "      <td>NaN</td>\n",
       "    </tr>\n",
       "  </tbody>\n",
       "</table>\n",
       "</div>"
      ],
      "text/plain": [
       "     user_id first_name last_name  age                                 city  \\\n",
       "287     1287      Heide      Gill   74  Sacramento–Roseville–Folsom, CA MSA   \n",
       "\n",
       "       reg_date tariff churn_date  \n",
       "287  2018-03-15   surf        NaN  "
      ]
     },
     "metadata": {},
     "output_type": "display_data"
    },
    {
     "name": "stdout",
     "output_type": "stream",
     "text": [
      "\n"
     ]
    }
   ],
   "source": [
    "for i in range(len(dfs_dict)):\n",
    "    print(csvs_names[i])\n",
    "    display(dfs_dict[dfs_names[i]].sample())\n",
    "    print()"
   ]
  },
  {
   "cell_type": "markdown",
   "metadata": {},
   "source": [
    "### Datasets infos"
   ]
  },
  {
   "cell_type": "code",
   "execution_count": 4,
   "metadata": {
    "scrolled": true
   },
   "outputs": [
    {
     "name": "stdout",
     "output_type": "stream",
     "text": [
      "megaline_calls\n",
      "<class 'pandas.core.frame.DataFrame'>\n",
      "RangeIndex: 137735 entries, 0 to 137734\n",
      "Data columns (total 4 columns):\n",
      "id           137735 non-null object\n",
      "user_id      137735 non-null int64\n",
      "call_date    137735 non-null object\n",
      "duration     137735 non-null float64\n",
      "dtypes: float64(1), int64(1), object(2)\n",
      "memory usage: 4.2+ MB\n",
      "None\n",
      "\n",
      "megaline_internet\n",
      "<class 'pandas.core.frame.DataFrame'>\n",
      "RangeIndex: 104825 entries, 0 to 104824\n",
      "Data columns (total 4 columns):\n",
      "id              104825 non-null object\n",
      "user_id         104825 non-null int64\n",
      "session_date    104825 non-null object\n",
      "mb_used         104825 non-null float64\n",
      "dtypes: float64(1), int64(1), object(2)\n",
      "memory usage: 3.2+ MB\n",
      "None\n",
      "\n",
      "megaline_messages\n",
      "<class 'pandas.core.frame.DataFrame'>\n",
      "RangeIndex: 76051 entries, 0 to 76050\n",
      "Data columns (total 3 columns):\n",
      "id              76051 non-null object\n",
      "user_id         76051 non-null int64\n",
      "message_date    76051 non-null object\n",
      "dtypes: int64(1), object(2)\n",
      "memory usage: 1.7+ MB\n",
      "None\n",
      "\n",
      "megaline_plans\n",
      "<class 'pandas.core.frame.DataFrame'>\n",
      "RangeIndex: 2 entries, 0 to 1\n",
      "Data columns (total 8 columns):\n",
      "messages_included        2 non-null int64\n",
      "mb_per_month_included    2 non-null int64\n",
      "minutes_included         2 non-null int64\n",
      "usd_monthly_pay          2 non-null int64\n",
      "usd_per_gb               2 non-null int64\n",
      "usd_per_message          2 non-null float64\n",
      "usd_per_minute           2 non-null float64\n",
      "plan_name                2 non-null object\n",
      "dtypes: float64(2), int64(5), object(1)\n",
      "memory usage: 256.0+ bytes\n",
      "None\n",
      "\n",
      "megaline_users1\n",
      "<class 'pandas.core.frame.DataFrame'>\n",
      "RangeIndex: 500 entries, 0 to 499\n",
      "Data columns (total 8 columns):\n",
      "user_id       500 non-null int64\n",
      "first_name    500 non-null object\n",
      "last_name     500 non-null object\n",
      "age           500 non-null int64\n",
      "city          500 non-null object\n",
      "reg_date      500 non-null object\n",
      "tariff        500 non-null object\n",
      "churn_date    34 non-null object\n",
      "dtypes: int64(2), object(6)\n",
      "memory usage: 31.4+ KB\n",
      "None\n",
      "\n"
     ]
    }
   ],
   "source": [
    "for i in range(len(dfs_dict)):\n",
    "    print(csvs_names[i])\n",
    "    print(dfs_dict[dfs_names[i]].info())\n",
    "    print()"
   ]
  },
  {
   "cell_type": "markdown",
   "metadata": {},
   "source": [
    "### Conclusion"
   ]
  },
  {
   "cell_type": "markdown",
   "metadata": {},
   "source": [
    "The problems we found in the dataset: \n",
    "* NaNs in megaline_users1['churn_date'] column \n",
    "* some columns need to be converted to other data types (for example: date_posted - from object to date)."
   ]
  },
  {
   "cell_type": "markdown",
   "metadata": {},
   "source": [
    "<div class=\"alert alert-success\" role=\"alert\">\n",
    "<b>Reviewer's comment v1</b>\n",
    "    \n",
    "Great start! Now we got a first look at the data and you already identified all issues with the data.</div>"
   ]
  },
  {
   "cell_type": "markdown",
   "metadata": {},
   "source": [
    "## Data preprocessing\n",
    "<a class=\"anchor\" id=\"data_preprocessing\"></a> \n",
    "[Go back to the Table of Contents](#table_of_contents) "
   ]
  },
  {
   "cell_type": "markdown",
   "metadata": {},
   "source": [
    "### Missing values\n",
    "<a class=\"anchor\" id=\"missing_values\"></a> \n",
    "[Go back to the Table of Contents](#table_of_contents) "
   ]
  },
  {
   "cell_type": "code",
   "execution_count": 5,
   "metadata": {
    "scrolled": true
   },
   "outputs": [
    {
     "name": "stdout",
     "output_type": "stream",
     "text": [
      "megaline_calls\n",
      "id           0.0\n",
      "user_id      0.0\n",
      "call_date    0.0\n",
      "duration     0.0\n",
      "dtype: float64\n",
      "\n",
      "megaline_internet\n",
      "id              0.0\n",
      "user_id         0.0\n",
      "session_date    0.0\n",
      "mb_used         0.0\n",
      "dtype: float64\n",
      "\n",
      "megaline_messages\n",
      "id              0.0\n",
      "user_id         0.0\n",
      "message_date    0.0\n",
      "dtype: float64\n",
      "\n",
      "megaline_plans\n",
      "messages_included        0.0\n",
      "mb_per_month_included    0.0\n",
      "minutes_included         0.0\n",
      "usd_monthly_pay          0.0\n",
      "usd_per_gb               0.0\n",
      "usd_per_message          0.0\n",
      "usd_per_minute           0.0\n",
      "plan_name                0.0\n",
      "dtype: float64\n",
      "\n",
      "megaline_users1\n",
      "user_id        0.0\n",
      "first_name     0.0\n",
      "last_name      0.0\n",
      "age            0.0\n",
      "city           0.0\n",
      "reg_date       0.0\n",
      "tariff         0.0\n",
      "churn_date    93.2\n",
      "dtype: float64\n",
      "\n"
     ]
    }
   ],
   "source": [
    "for i in range(len(dfs_dict)):\n",
    "    print(csvs_names[i])\n",
    "    print(dfs_dict[dfs_names[i]].isnull().sum()/len(dfs_dict[dfs_names[i]]) * 100)\n",
    "    print()"
   ]
  },
  {
   "cell_type": "markdown",
   "metadata": {},
   "source": [
    "<div class=\"alert alert-success\" role=\"alert\">\n",
    "<b>Reviewer's comment v1</b>\n",
    "\n",
    "Nice that you checked missing data in the cycle.\n",
    "\n",
    "</div>"
   ]
  },
  {
   "cell_type": "markdown",
   "metadata": {},
   "source": [
    "As we saw above in in the previous section (with the info method), there are no nulls, except for megaline_users1\\['churn_date'\\] (93.2% are missing). \n",
    "\n",
    "We already know that if the value is \n",
    "missing, the calling plan was being used when this data was generated, so we won't change it."
   ]
  },
  {
   "cell_type": "markdown",
   "metadata": {},
   "source": [
    "<div class=\"alert alert-warning\">\n",
    "<b>Reviewer's comment v1</b>\n",
    "    \n",
    "In that case, missing churn_date means that this user still uses Megaline's services. So, in my opinion, putting a date in the past can be confusing for other people.\n",
    "\n",
    "</div>"
   ]
  },
  {
   "cell_type": "markdown",
   "metadata": {},
   "source": [
    "<div class=\"alert alert-info\"> <b>Student comments:</b> \n",
    "\n",
    "I got you. Actually, we don't need to change it at all, because we don't need to use it later.</div>  \n",
    "    "
   ]
  },
  {
   "cell_type": "markdown",
   "metadata": {},
   "source": [
    "<div class=\"alert alert-success\" role=\"alert\">\n",
    "<b>Reviewer's comment v2</b>\n",
    "\n",
    "True or otherwise it is better to encode this column with 2 values: 0 is an active user and 1 is not.\n",
    "\n",
    "</div>"
   ]
  },
  {
   "cell_type": "code",
   "execution_count": 6,
   "metadata": {},
   "outputs": [
    {
     "data": {
      "text/plain": [
       "466"
      ]
     },
     "execution_count": 6,
     "metadata": {},
     "output_type": "execute_result"
    }
   ],
   "source": [
    "dfs_dict['users']['churn_date'].isnull().sum()"
   ]
  },
  {
   "cell_type": "markdown",
   "metadata": {},
   "source": [
    "Ok, no nulls anymore..."
   ]
  },
  {
   "cell_type": "markdown",
   "metadata": {},
   "source": [
    "### Checking and converting data types\n",
    "<a class=\"anchor\" id=\"convert\"></a> \n",
    "[Go back to the Table of Contents](#table_of_contents) "
   ]
  },
  {
   "cell_type": "markdown",
   "metadata": {},
   "source": [
    "* Lowering the strings in object data types:"
   ]
  },
  {
   "cell_type": "code",
   "execution_count": 7,
   "metadata": {},
   "outputs": [],
   "source": [
    "users_cols = ['first_name', 'last_name', 'city', 'tariff']\n",
    "\n",
    "for col in users_cols:\n",
    "    dfs_dict['users'][col] = dfs_dict['users'][col].str.lower()"
   ]
  },
  {
   "cell_type": "markdown",
   "metadata": {},
   "source": [
    "* Checking for duplicates"
   ]
  },
  {
   "cell_type": "code",
   "execution_count": 8,
   "metadata": {},
   "outputs": [
    {
     "name": "stdout",
     "output_type": "stream",
     "text": [
      "0\n",
      "0\n",
      "0\n",
      "0\n",
      "0\n"
     ]
    }
   ],
   "source": [
    "for i in range(len(dfs_dict)):\n",
    "    print(dfs_dict[dfs_names[i]].duplicated().sum())"
   ]
  },
  {
   "cell_type": "markdown",
   "metadata": {},
   "source": [
    "* No duplicates in the dataset."
   ]
  },
  {
   "cell_type": "markdown",
   "metadata": {},
   "source": [
    "* Let's change the data types of our columns according to their values: \n",
    "    * category: users\\['tariff'\\], plans\\['plan_name'\\]\n",
    "    * datetime64: calls\\['call_date'\\], internet\\['session_date'\\], messages\\['message_date'\\], users\\['churn_date'\\]."
   ]
  },
  {
   "cell_type": "code",
   "execution_count": 9,
   "metadata": {},
   "outputs": [],
   "source": [
    "dfs_dict['users']['tariff'] = dfs_dict['users']['tariff'].astype('category') \n",
    "dfs_dict['plans']['plan_name'] = dfs_dict['plans']['plan_name'].astype('category')\n",
    "\n",
    "dfs_dict['calls']['call_date'] = pd.to_datetime(dfs_dict['calls']['call_date'], format=\"%Y-%m-%d\")\n",
    "dfs_dict['internet']['session_date'] = pd.to_datetime(dfs_dict['internet']['session_date'], format=\"%Y-%m-%d\")\n",
    "dfs_dict['messages']['message_date'] = pd.to_datetime(dfs_dict['messages']['message_date'], format=\"%Y-%m-%d\")\n",
    "dfs_dict['users']['churn_date'] = pd.to_datetime(dfs_dict['users']['churn_date'], format=\"%Y-%m-%d\")"
   ]
  },
  {
   "cell_type": "markdown",
   "metadata": {},
   "source": [
    "Let's check the data types:"
   ]
  },
  {
   "cell_type": "code",
   "execution_count": 10,
   "metadata": {
    "scrolled": true
   },
   "outputs": [
    {
     "name": "stdout",
     "output_type": "stream",
     "text": [
      "megaline_calls\n",
      "<class 'pandas.core.frame.DataFrame'>\n",
      "RangeIndex: 137735 entries, 0 to 137734\n",
      "Data columns (total 4 columns):\n",
      "id           137735 non-null object\n",
      "user_id      137735 non-null int64\n",
      "call_date    137735 non-null datetime64[ns]\n",
      "duration     137735 non-null float64\n",
      "dtypes: datetime64[ns](1), float64(1), int64(1), object(1)\n",
      "memory usage: 4.2+ MB\n",
      "None\n",
      "\n",
      "megaline_internet\n",
      "<class 'pandas.core.frame.DataFrame'>\n",
      "RangeIndex: 104825 entries, 0 to 104824\n",
      "Data columns (total 4 columns):\n",
      "id              104825 non-null object\n",
      "user_id         104825 non-null int64\n",
      "session_date    104825 non-null datetime64[ns]\n",
      "mb_used         104825 non-null float64\n",
      "dtypes: datetime64[ns](1), float64(1), int64(1), object(1)\n",
      "memory usage: 3.2+ MB\n",
      "None\n",
      "\n",
      "megaline_messages\n",
      "<class 'pandas.core.frame.DataFrame'>\n",
      "RangeIndex: 76051 entries, 0 to 76050\n",
      "Data columns (total 3 columns):\n",
      "id              76051 non-null object\n",
      "user_id         76051 non-null int64\n",
      "message_date    76051 non-null datetime64[ns]\n",
      "dtypes: datetime64[ns](1), int64(1), object(1)\n",
      "memory usage: 1.7+ MB\n",
      "None\n",
      "\n",
      "megaline_plans\n",
      "<class 'pandas.core.frame.DataFrame'>\n",
      "RangeIndex: 2 entries, 0 to 1\n",
      "Data columns (total 8 columns):\n",
      "messages_included        2 non-null int64\n",
      "mb_per_month_included    2 non-null int64\n",
      "minutes_included         2 non-null int64\n",
      "usd_monthly_pay          2 non-null int64\n",
      "usd_per_gb               2 non-null int64\n",
      "usd_per_message          2 non-null float64\n",
      "usd_per_minute           2 non-null float64\n",
      "plan_name                2 non-null category\n",
      "dtypes: category(1), float64(2), int64(5)\n",
      "memory usage: 338.0 bytes\n",
      "None\n",
      "\n",
      "megaline_users1\n",
      "<class 'pandas.core.frame.DataFrame'>\n",
      "RangeIndex: 500 entries, 0 to 499\n",
      "Data columns (total 8 columns):\n",
      "user_id       500 non-null int64\n",
      "first_name    500 non-null object\n",
      "last_name     500 non-null object\n",
      "age           500 non-null int64\n",
      "city          500 non-null object\n",
      "reg_date      500 non-null object\n",
      "tariff        500 non-null category\n",
      "churn_date    34 non-null datetime64[ns]\n",
      "dtypes: category(1), datetime64[ns](1), int64(2), object(4)\n",
      "memory usage: 28.1+ KB\n",
      "None\n",
      "\n"
     ]
    }
   ],
   "source": [
    "for i in range(len(dfs_dict)):\n",
    "    print(csvs_names[i])\n",
    "    print(dfs_dict[dfs_names[i]].info())\n",
    "    print()"
   ]
  },
  {
   "cell_type": "markdown",
   "metadata": {},
   "source": [
    "\n",
    "Ok, the data types have changed as we wanted. All set for the next step!"
   ]
  },
  {
   "cell_type": "markdown",
   "metadata": {},
   "source": [
    "### Checking for ouliers"
   ]
  },
  {
   "cell_type": "markdown",
   "metadata": {},
   "source": [
    "Let's check the distributions of calls duration and MB used in internet sessions:"
   ]
  },
  {
   "cell_type": "code",
   "execution_count": 11,
   "metadata": {},
   "outputs": [
    {
     "data": {
      "image/png": "[encoded data removed]",
      "text/plain": [
       "<Figure size 432x288 with 1 Axes>"
      ]
     },
     "metadata": {
      "needs_background": "light"
     },
     "output_type": "display_data"
    },
    {
     "data": {
      "image/png": "[encoded data removed]",
      "text/plain": [
       "<Figure size 432x288 with 1 Axes>"
      ]
     },
     "metadata": {
      "needs_background": "light"
     },
     "output_type": "display_data"
    }
   ],
   "source": [
    "dfs_dict['calls']['duration'].hist(bins=100)\n",
    "plt.title('Calls duration frequency')\n",
    "plt.xlabel('Calls duration (minutes)')\n",
    "plt.ylabel('Frequency')\n",
    "plt.show()\n",
    "\n",
    "dfs_dict['internet']['mb_used'].hist(bins=100)\n",
    "plt.title('Internet sessions - MB used frequency')\n",
    "plt.xlabel('MB used')\n",
    "plt.ylabel('Frequency')\n",
    "plt.show()\n"
   ]
  },
  {
   "cell_type": "markdown",
   "metadata": {},
   "source": [
    "Ok. It looks very strange: we have a lot of zero values in our distributions.\n",
    "\n",
    "Let's see the percentages of zeros in the distributions:"
   ]
  },
  {
   "cell_type": "code",
   "execution_count": 12,
   "metadata": {},
   "outputs": [
    {
     "name": "stdout",
     "output_type": "stream",
     "text": [
      "Calls duration - zeros percentage: 0.19 \n",
      "MB used - zeros percentage: 0.13\n"
     ]
    }
   ],
   "source": [
    "calls_duration_zeros_percentage = len(dfs_dict['calls'][dfs_dict['calls']['duration'] == 0]) / len(dfs_dict['calls'])\n",
    "mb_used_zeros_percentage = len(dfs_dict['internet'][dfs_dict['internet']['mb_used'] == 0]) / len(dfs_dict['internet'])\n",
    "print(\"Calls duration - zeros percentage:\", round(calls_duration_zeros_percentage, 2), '\\nMB used - zeros percentage:', round(mb_used_zeros_percentage, 2))\n"
   ]
  },
  {
   "cell_type": "markdown",
   "metadata": {},
   "source": [
    "We can see that the percentages of zeros in both columns are high. Maybe these zeros reflect failed connections or other error of the telecom operator.\n",
    "\n",
    "It has a huge effect on our distributions, so let's drop them:"
   ]
  },
  {
   "cell_type": "markdown",
   "metadata": {},
   "source": [
    "### Droping zeros in internet and calls tables"
   ]
  },
  {
   "cell_type": "code",
   "execution_count": 13,
   "metadata": {},
   "outputs": [],
   "source": [
    "dfs_dict['calls'].drop(dfs_dict['calls'][dfs_dict['calls']['duration'] == 0].index, inplace = True)\n",
    "dfs_dict['internet'].drop(dfs_dict['internet'][dfs_dict['internet']['mb_used'] == 0].index, inplace = True)"
   ]
  },
  {
   "cell_type": "markdown",
   "metadata": {},
   "source": [
    "### Checking zeros after dropping"
   ]
  },
  {
   "cell_type": "code",
   "execution_count": 14,
   "metadata": {},
   "outputs": [
    {
     "name": "stdout",
     "output_type": "stream",
     "text": [
      "Calls duration - zeros percentage: 0.0 \n",
      "MB used - zeros percentage: 0.0\n"
     ]
    }
   ],
   "source": [
    "calls_duration_zeros_percentage = len(dfs_dict['calls'][dfs_dict['calls']['duration'] == 0]) / len(dfs_dict['calls'])\n",
    "mb_used_zeros_percentage = len(dfs_dict['internet'][dfs_dict['internet']['mb_used'] == 0]) / len(dfs_dict['internet'])\n",
    "print(\"Calls duration - zeros percentage:\", round(calls_duration_zeros_percentage, 2), '\\nMB used - zeros percentage:', round(mb_used_zeros_percentage, 2))\n"
   ]
  },
  {
   "cell_type": "markdown",
   "metadata": {},
   "source": [
    "Ok. Looks better :)"
   ]
  },
  {
   "cell_type": "markdown",
   "metadata": {},
   "source": [
    "### Checking the distributions after dropping"
   ]
  },
  {
   "cell_type": "code",
   "execution_count": 15,
   "metadata": {
    "scrolled": false
   },
   "outputs": [
    {
     "data": {
      "image/png": "[encoded data removed]",
      "text/plain": [
       "<Figure size 432x288 with 1 Axes>"
      ]
     },
     "metadata": {
      "needs_background": "light"
     },
     "output_type": "display_data"
    },
    {
     "data": {
      "image/png": "[encoded data removed]",
      "text/plain": [
       "<Figure size 432x288 with 1 Axes>"
      ]
     },
     "metadata": {
      "needs_background": "light"
     },
     "output_type": "display_data"
    }
   ],
   "source": [
    "dfs_dict['calls']['duration'].hist(bins=100)\n",
    "plt.title('Calls duration frequency')\n",
    "plt.xlabel('Calls duration (minutes)')\n",
    "plt.ylabel('Frequency')\n",
    "plt.show()\n",
    "\n",
    "dfs_dict['internet']['mb_used'].hist(bins=100)\n",
    "plt.title('Internet sessions - MB used frequency')\n",
    "plt.xlabel('MB used')\n",
    "plt.ylabel('Frequency')\n",
    "plt.show()"
   ]
  },
  {
   "cell_type": "markdown",
   "metadata": {},
   "source": [
    "Now the distributions looks more like normal distributions :)\n",
    "\n",
    "It turns out that the ouliers had a great impact on our data."
   ]
  },
  {
   "cell_type": "markdown",
   "metadata": {},
   "source": [
    "### Conclusion"
   ]
  },
  {
   "cell_type": "markdown",
   "metadata": {},
   "source": [
    "In this section:\n",
    "* We checked for missing values.\n",
    "* We checked for duplicates.\n",
    "* We changed the required data type in order to work with dates and categorical values.\n",
    "* we set the date of missing values in dfs_dict\\['users'\\]\\['churn_date'\\] to '2000-01-01'.\n",
    "* We dropped the zeros rows in internet and calls tables."
   ]
  },
  {
   "cell_type": "markdown",
   "metadata": {},
   "source": [
    "<div class=\"alert alert-danger\">\n",
    "<b>Reviewer's comment v1</b>\n",
    "\n",
    "Could you please double-check data with internet traffic and calls - are there any anomalies in datasets (zero values, for example)? It is very useful to always check data for some strange values or outliers. Sometimes it is difficult due to a large amount of data, but it helps to identify problems we have with available data. \n",
    "    \n",
    "Can you please analyze this data additionally decide what to do with it? You can easily check this data - build histograms, for example.\n",
    "\n",
    "\n",
    "</div>"
   ]
  },
  {
   "cell_type": "markdown",
   "metadata": {},
   "source": [
    "<div class=\"alert alert-info\"> <b>Student comments:</b>\n",
    "    \n",
    "Thank you for drawing my attention to the zeros problem. I realy missed it...</div>  \n",
    "    "
   ]
  },
  {
   "cell_type": "markdown",
   "metadata": {},
   "source": [
    "<div class=\"alert alert-success\" role=\"alert\">\n",
    "<b>Reviewer's comment v2</b>\n",
    "\n",
    "Great! Now you identified correctly all issues with the data. On the real project it will be a good time to schedule a call with data engineer who provided dataset :) \n",
    "\n",
    "</div>"
   ]
  },
  {
   "cell_type": "markdown",
   "metadata": {},
   "source": [
    "## Make calculations and add them to the table\n",
    "<a class=\"anchor\" id=\"calculations\"></a> \n",
    "[Go back to the Table of Contents](#table_of_contents) "
   ]
  },
  {
   "cell_type": "markdown",
   "metadata": {},
   "source": [
    "### Adding month to calls, messages and internet"
   ]
  },
  {
   "cell_type": "code",
   "execution_count": 16,
   "metadata": {},
   "outputs": [],
   "source": [
    "dfs_dict['calls']['month'] = dfs_dict['calls']['call_date'].dt.month\n",
    "dfs_dict['messages']['month'] = dfs_dict['messages']['message_date'].dt.month\n",
    "dfs_dict['internet']['month'] = dfs_dict['internet']['session_date'].dt.month"
   ]
  },
  {
   "cell_type": "markdown",
   "metadata": {},
   "source": [
    "<div class=\"alert alert-warning\">\n",
    "<b>Reviewer's comment v1</b>\n",
    "    \n",
    "I think it is mentioned that we have data only for one year, but usually, it is nice to double-check whether it is correct, as extracting months from multiple years data can lead to issues.\n",
    "    \n",
    "</div>"
   ]
  },
  {
   "cell_type": "markdown",
   "metadata": {},
   "source": [
    "### Rounding duration column in calls table"
   ]
  },
  {
   "cell_type": "code",
   "execution_count": 17,
   "metadata": {},
   "outputs": [
    {
     "data": {
      "text/html": [
       "<div>\n",
       "<style scoped>\n",
       "    .dataframe tbody tr th:only-of-type {\n",
       "        vertical-align: middle;\n",
       "    }\n",
       "\n",
       "    .dataframe tbody tr th {\n",
       "        vertical-align: top;\n",
       "    }\n",
       "\n",
       "    .dataframe thead th {\n",
       "        text-align: right;\n",
       "    }\n",
       "</style>\n",
       "<table border=\"1\" class=\"dataframe\">\n",
       "  <thead>\n",
       "    <tr style=\"text-align: right;\">\n",
       "      <th></th>\n",
       "      <th>id</th>\n",
       "      <th>user_id</th>\n",
       "      <th>call_date</th>\n",
       "      <th>duration</th>\n",
       "      <th>month</th>\n",
       "    </tr>\n",
       "  </thead>\n",
       "  <tbody>\n",
       "    <tr>\n",
       "      <td>0</td>\n",
       "      <td>1000_93</td>\n",
       "      <td>1000</td>\n",
       "      <td>2018-12-27</td>\n",
       "      <td>9.0</td>\n",
       "      <td>12</td>\n",
       "    </tr>\n",
       "    <tr>\n",
       "      <td>1</td>\n",
       "      <td>1000_145</td>\n",
       "      <td>1000</td>\n",
       "      <td>2018-12-27</td>\n",
       "      <td>14.0</td>\n",
       "      <td>12</td>\n",
       "    </tr>\n",
       "    <tr>\n",
       "      <td>2</td>\n",
       "      <td>1000_247</td>\n",
       "      <td>1000</td>\n",
       "      <td>2018-12-27</td>\n",
       "      <td>15.0</td>\n",
       "      <td>12</td>\n",
       "    </tr>\n",
       "    <tr>\n",
       "      <td>3</td>\n",
       "      <td>1000_309</td>\n",
       "      <td>1000</td>\n",
       "      <td>2018-12-28</td>\n",
       "      <td>6.0</td>\n",
       "      <td>12</td>\n",
       "    </tr>\n",
       "    <tr>\n",
       "      <td>4</td>\n",
       "      <td>1000_380</td>\n",
       "      <td>1000</td>\n",
       "      <td>2018-12-30</td>\n",
       "      <td>5.0</td>\n",
       "      <td>12</td>\n",
       "    </tr>\n",
       "    <tr>\n",
       "      <td>...</td>\n",
       "      <td>...</td>\n",
       "      <td>...</td>\n",
       "      <td>...</td>\n",
       "      <td>...</td>\n",
       "      <td>...</td>\n",
       "    </tr>\n",
       "    <tr>\n",
       "      <td>137730</td>\n",
       "      <td>1499_199</td>\n",
       "      <td>1499</td>\n",
       "      <td>2018-11-21</td>\n",
       "      <td>9.0</td>\n",
       "      <td>11</td>\n",
       "    </tr>\n",
       "    <tr>\n",
       "      <td>137731</td>\n",
       "      <td>1499_200</td>\n",
       "      <td>1499</td>\n",
       "      <td>2018-10-20</td>\n",
       "      <td>11.0</td>\n",
       "      <td>10</td>\n",
       "    </tr>\n",
       "    <tr>\n",
       "      <td>137732</td>\n",
       "      <td>1499_201</td>\n",
       "      <td>1499</td>\n",
       "      <td>2018-09-21</td>\n",
       "      <td>9.0</td>\n",
       "      <td>9</td>\n",
       "    </tr>\n",
       "    <tr>\n",
       "      <td>137733</td>\n",
       "      <td>1499_202</td>\n",
       "      <td>1499</td>\n",
       "      <td>2018-10-10</td>\n",
       "      <td>1.0</td>\n",
       "      <td>10</td>\n",
       "    </tr>\n",
       "    <tr>\n",
       "      <td>137734</td>\n",
       "      <td>1499_203</td>\n",
       "      <td>1499</td>\n",
       "      <td>2018-12-29</td>\n",
       "      <td>14.0</td>\n",
       "      <td>12</td>\n",
       "    </tr>\n",
       "  </tbody>\n",
       "</table>\n",
       "<p>110901 rows × 5 columns</p>\n",
       "</div>"
      ],
      "text/plain": [
       "              id  user_id  call_date  duration  month\n",
       "0        1000_93     1000 2018-12-27       9.0     12\n",
       "1       1000_145     1000 2018-12-27      14.0     12\n",
       "2       1000_247     1000 2018-12-27      15.0     12\n",
       "3       1000_309     1000 2018-12-28       6.0     12\n",
       "4       1000_380     1000 2018-12-30       5.0     12\n",
       "...          ...      ...        ...       ...    ...\n",
       "137730  1499_199     1499 2018-11-21       9.0     11\n",
       "137731  1499_200     1499 2018-10-20      11.0     10\n",
       "137732  1499_201     1499 2018-09-21       9.0      9\n",
       "137733  1499_202     1499 2018-10-10       1.0     10\n",
       "137734  1499_203     1499 2018-12-29      14.0     12\n",
       "\n",
       "[110901 rows x 5 columns]"
      ]
     },
     "execution_count": 17,
     "metadata": {},
     "output_type": "execute_result"
    }
   ],
   "source": [
    "dfs_dict['calls']['duration'] = np.ceil(dfs_dict['calls']['duration'])\n",
    "dfs_dict['calls']"
   ]
  },
  {
   "cell_type": "markdown",
   "metadata": {},
   "source": [
    "<div class=\"alert alert-warning\">\n",
    "<b>Reviewer's comment v1</b>\n",
    "    \n",
    "Good that you realised this via function, however, apply() method takes more time than np.ceil() method. You can use np.ceil() for example like this:\n",
    "\n",
    "    calls['duration'] = np.ceil(calls['duration'])\n",
    "    \n",
    "</div>"
   ]
  },
  {
   "cell_type": "markdown",
   "metadata": {},
   "source": [
    "<div class=\"alert alert-info\"> <b>Student comments:</b> \n",
    "\n",
    "It also looks nicer :)    \n",
    "</div>  \n",
    "    "
   ]
  },
  {
   "cell_type": "markdown",
   "metadata": {},
   "source": [
    "### The number of calls made and minutes used per month by user\n"
   ]
  },
  {
   "cell_type": "code",
   "execution_count": 18,
   "metadata": {},
   "outputs": [
    {
     "data": {
      "text/html": [
       "<div>\n",
       "<style scoped>\n",
       "    .dataframe tbody tr th:only-of-type {\n",
       "        vertical-align: middle;\n",
       "    }\n",
       "\n",
       "    .dataframe tbody tr th {\n",
       "        vertical-align: top;\n",
       "    }\n",
       "\n",
       "    .dataframe thead th {\n",
       "        text-align: right;\n",
       "    }\n",
       "</style>\n",
       "<table border=\"1\" class=\"dataframe\">\n",
       "  <thead>\n",
       "    <tr style=\"text-align: right;\">\n",
       "      <th></th>\n",
       "      <th>month</th>\n",
       "      <th>calls</th>\n",
       "      <th>duration</th>\n",
       "    </tr>\n",
       "    <tr>\n",
       "      <th>user_id</th>\n",
       "      <th></th>\n",
       "      <th></th>\n",
       "      <th></th>\n",
       "    </tr>\n",
       "  </thead>\n",
       "  <tbody>\n",
       "    <tr>\n",
       "      <td>1000</td>\n",
       "      <td>12</td>\n",
       "      <td>16</td>\n",
       "      <td>124.0</td>\n",
       "    </tr>\n",
       "    <tr>\n",
       "      <td>1001</td>\n",
       "      <td>8</td>\n",
       "      <td>22</td>\n",
       "      <td>182.0</td>\n",
       "    </tr>\n",
       "    <tr>\n",
       "      <td>1001</td>\n",
       "      <td>9</td>\n",
       "      <td>38</td>\n",
       "      <td>315.0</td>\n",
       "    </tr>\n",
       "    <tr>\n",
       "      <td>1001</td>\n",
       "      <td>10</td>\n",
       "      <td>47</td>\n",
       "      <td>393.0</td>\n",
       "    </tr>\n",
       "    <tr>\n",
       "      <td>1001</td>\n",
       "      <td>11</td>\n",
       "      <td>49</td>\n",
       "      <td>426.0</td>\n",
       "    </tr>\n",
       "    <tr>\n",
       "      <td>1001</td>\n",
       "      <td>12</td>\n",
       "      <td>46</td>\n",
       "      <td>412.0</td>\n",
       "    </tr>\n",
       "    <tr>\n",
       "      <td>1002</td>\n",
       "      <td>10</td>\n",
       "      <td>8</td>\n",
       "      <td>59.0</td>\n",
       "    </tr>\n",
       "    <tr>\n",
       "      <td>1002</td>\n",
       "      <td>11</td>\n",
       "      <td>48</td>\n",
       "      <td>386.0</td>\n",
       "    </tr>\n",
       "    <tr>\n",
       "      <td>1002</td>\n",
       "      <td>12</td>\n",
       "      <td>38</td>\n",
       "      <td>384.0</td>\n",
       "    </tr>\n",
       "    <tr>\n",
       "      <td>1003</td>\n",
       "      <td>12</td>\n",
       "      <td>118</td>\n",
       "      <td>1104.0</td>\n",
       "    </tr>\n",
       "  </tbody>\n",
       "</table>\n",
       "</div>"
      ],
      "text/plain": [
       "         month  calls  duration\n",
       "user_id                        \n",
       "1000        12     16     124.0\n",
       "1001         8     22     182.0\n",
       "1001         9     38     315.0\n",
       "1001        10     47     393.0\n",
       "1001        11     49     426.0\n",
       "1001        12     46     412.0\n",
       "1002        10      8      59.0\n",
       "1002        11     48     386.0\n",
       "1002        12     38     384.0\n",
       "1003        12    118    1104.0"
      ]
     },
     "execution_count": 18,
     "metadata": {},
     "output_type": "execute_result"
    }
   ],
   "source": [
    "calls_pivot = pd.pivot_table(dfs_dict['calls'], values='duration', index=['user_id', 'month'], aggfunc=['count', 'sum']).reset_index().set_index('user_id')\n",
    "calls_pivot.columns = ['month', 'calls', 'duration']\n",
    "calls_pivot.head(10)"
   ]
  },
  {
   "cell_type": "markdown",
   "metadata": {},
   "source": [
    "### The number of text messages sent per month by user"
   ]
  },
  {
   "cell_type": "code",
   "execution_count": 19,
   "metadata": {},
   "outputs": [
    {
     "data": {
      "text/html": [
       "<div>\n",
       "<style scoped>\n",
       "    .dataframe tbody tr th:only-of-type {\n",
       "        vertical-align: middle;\n",
       "    }\n",
       "\n",
       "    .dataframe tbody tr th {\n",
       "        vertical-align: top;\n",
       "    }\n",
       "\n",
       "    .dataframe thead th {\n",
       "        text-align: right;\n",
       "    }\n",
       "</style>\n",
       "<table border=\"1\" class=\"dataframe\">\n",
       "  <thead>\n",
       "    <tr style=\"text-align: right;\">\n",
       "      <th></th>\n",
       "      <th>month</th>\n",
       "      <th>messages</th>\n",
       "    </tr>\n",
       "    <tr>\n",
       "      <th>user_id</th>\n",
       "      <th></th>\n",
       "      <th></th>\n",
       "    </tr>\n",
       "  </thead>\n",
       "  <tbody>\n",
       "    <tr>\n",
       "      <td>1000</td>\n",
       "      <td>12</td>\n",
       "      <td>11</td>\n",
       "    </tr>\n",
       "    <tr>\n",
       "      <td>1001</td>\n",
       "      <td>8</td>\n",
       "      <td>30</td>\n",
       "    </tr>\n",
       "    <tr>\n",
       "      <td>1001</td>\n",
       "      <td>9</td>\n",
       "      <td>44</td>\n",
       "    </tr>\n",
       "    <tr>\n",
       "      <td>1001</td>\n",
       "      <td>10</td>\n",
       "      <td>53</td>\n",
       "    </tr>\n",
       "    <tr>\n",
       "      <td>1001</td>\n",
       "      <td>11</td>\n",
       "      <td>36</td>\n",
       "    </tr>\n",
       "    <tr>\n",
       "      <td>1001</td>\n",
       "      <td>12</td>\n",
       "      <td>44</td>\n",
       "    </tr>\n",
       "    <tr>\n",
       "      <td>1002</td>\n",
       "      <td>10</td>\n",
       "      <td>15</td>\n",
       "    </tr>\n",
       "    <tr>\n",
       "      <td>1002</td>\n",
       "      <td>11</td>\n",
       "      <td>32</td>\n",
       "    </tr>\n",
       "    <tr>\n",
       "      <td>1002</td>\n",
       "      <td>12</td>\n",
       "      <td>41</td>\n",
       "    </tr>\n",
       "    <tr>\n",
       "      <td>1003</td>\n",
       "      <td>12</td>\n",
       "      <td>50</td>\n",
       "    </tr>\n",
       "  </tbody>\n",
       "</table>\n",
       "</div>"
      ],
      "text/plain": [
       "         month  messages\n",
       "user_id                 \n",
       "1000        12        11\n",
       "1001         8        30\n",
       "1001         9        44\n",
       "1001        10        53\n",
       "1001        11        36\n",
       "1001        12        44\n",
       "1002        10        15\n",
       "1002        11        32\n",
       "1002        12        41\n",
       "1003        12        50"
      ]
     },
     "execution_count": 19,
     "metadata": {},
     "output_type": "execute_result"
    }
   ],
   "source": [
    "messages_pivot = pd.pivot_table(dfs_dict['messages'], values='id', index=['user_id', 'month'], aggfunc=['count']).reset_index().set_index('user_id')\n",
    "messages_pivot.columns = ['month', 'messages']\n",
    "messages_pivot.head(10)\n"
   ]
  },
  {
   "cell_type": "markdown",
   "metadata": {},
   "source": [
    "### The volume of data per month by user\n"
   ]
  },
  {
   "cell_type": "code",
   "execution_count": 20,
   "metadata": {},
   "outputs": [
    {
     "data": {
      "text/html": [
       "<div>\n",
       "<style scoped>\n",
       "    .dataframe tbody tr th:only-of-type {\n",
       "        vertical-align: middle;\n",
       "    }\n",
       "\n",
       "    .dataframe tbody tr th {\n",
       "        vertical-align: top;\n",
       "    }\n",
       "\n",
       "    .dataframe thead th {\n",
       "        text-align: right;\n",
       "    }\n",
       "</style>\n",
       "<table border=\"1\" class=\"dataframe\">\n",
       "  <thead>\n",
       "    <tr style=\"text-align: right;\">\n",
       "      <th></th>\n",
       "      <th>month</th>\n",
       "      <th>mb_used</th>\n",
       "    </tr>\n",
       "    <tr>\n",
       "      <th>user_id</th>\n",
       "      <th></th>\n",
       "      <th></th>\n",
       "    </tr>\n",
       "  </thead>\n",
       "  <tbody>\n",
       "    <tr>\n",
       "      <td>1000</td>\n",
       "      <td>12</td>\n",
       "      <td>1901.47</td>\n",
       "    </tr>\n",
       "    <tr>\n",
       "      <td>1001</td>\n",
       "      <td>8</td>\n",
       "      <td>6919.15</td>\n",
       "    </tr>\n",
       "    <tr>\n",
       "      <td>1001</td>\n",
       "      <td>9</td>\n",
       "      <td>13314.82</td>\n",
       "    </tr>\n",
       "    <tr>\n",
       "      <td>1001</td>\n",
       "      <td>10</td>\n",
       "      <td>22330.49</td>\n",
       "    </tr>\n",
       "    <tr>\n",
       "      <td>1001</td>\n",
       "      <td>11</td>\n",
       "      <td>18504.30</td>\n",
       "    </tr>\n",
       "    <tr>\n",
       "      <td>1001</td>\n",
       "      <td>12</td>\n",
       "      <td>19369.18</td>\n",
       "    </tr>\n",
       "    <tr>\n",
       "      <td>1002</td>\n",
       "      <td>10</td>\n",
       "      <td>6552.01</td>\n",
       "    </tr>\n",
       "    <tr>\n",
       "      <td>1002</td>\n",
       "      <td>11</td>\n",
       "      <td>19345.08</td>\n",
       "    </tr>\n",
       "    <tr>\n",
       "      <td>1002</td>\n",
       "      <td>12</td>\n",
       "      <td>14396.24</td>\n",
       "    </tr>\n",
       "    <tr>\n",
       "      <td>1003</td>\n",
       "      <td>12</td>\n",
       "      <td>27044.14</td>\n",
       "    </tr>\n",
       "  </tbody>\n",
       "</table>\n",
       "</div>"
      ],
      "text/plain": [
       "         month   mb_used\n",
       "user_id                 \n",
       "1000        12   1901.47\n",
       "1001         8   6919.15\n",
       "1001         9  13314.82\n",
       "1001        10  22330.49\n",
       "1001        11  18504.30\n",
       "1001        12  19369.18\n",
       "1002        10   6552.01\n",
       "1002        11  19345.08\n",
       "1002        12  14396.24\n",
       "1003        12  27044.14"
      ]
     },
     "execution_count": 20,
     "metadata": {},
     "output_type": "execute_result"
    }
   ],
   "source": [
    "internet_pivot = pd.pivot_table(dfs_dict['internet'], values='mb_used', index=['user_id', 'month'], aggfunc=['sum']).reset_index().set_index('user_id')\n",
    "internet_pivot.columns = ['month', 'mb_used']\n",
    "internet_pivot.head(10)\n"
   ]
  },
  {
   "cell_type": "code",
   "execution_count": 21,
   "metadata": {},
   "outputs": [
    {
     "data": {
      "text/html": [
       "<div>\n",
       "<style scoped>\n",
       "    .dataframe tbody tr th:only-of-type {\n",
       "        vertical-align: middle;\n",
       "    }\n",
       "\n",
       "    .dataframe tbody tr th {\n",
       "        vertical-align: top;\n",
       "    }\n",
       "\n",
       "    .dataframe thead th {\n",
       "        text-align: right;\n",
       "    }\n",
       "</style>\n",
       "<table border=\"1\" class=\"dataframe\">\n",
       "  <thead>\n",
       "    <tr style=\"text-align: right;\">\n",
       "      <th></th>\n",
       "      <th>month</th>\n",
       "      <th>gb_used</th>\n",
       "    </tr>\n",
       "    <tr>\n",
       "      <th>user_id</th>\n",
       "      <th></th>\n",
       "      <th></th>\n",
       "    </tr>\n",
       "  </thead>\n",
       "  <tbody>\n",
       "    <tr>\n",
       "      <td>1000</td>\n",
       "      <td>12</td>\n",
       "      <td>2</td>\n",
       "    </tr>\n",
       "    <tr>\n",
       "      <td>1001</td>\n",
       "      <td>8</td>\n",
       "      <td>7</td>\n",
       "    </tr>\n",
       "    <tr>\n",
       "      <td>1001</td>\n",
       "      <td>9</td>\n",
       "      <td>14</td>\n",
       "    </tr>\n",
       "    <tr>\n",
       "      <td>1001</td>\n",
       "      <td>10</td>\n",
       "      <td>22</td>\n",
       "    </tr>\n",
       "    <tr>\n",
       "      <td>1001</td>\n",
       "      <td>11</td>\n",
       "      <td>19</td>\n",
       "    </tr>\n",
       "  </tbody>\n",
       "</table>\n",
       "</div>"
      ],
      "text/plain": [
       "         month  gb_used\n",
       "user_id                \n",
       "1000        12        2\n",
       "1001         8        7\n",
       "1001         9       14\n",
       "1001        10       22\n",
       "1001        11       19"
      ]
     },
     "execution_count": 21,
     "metadata": {},
     "output_type": "execute_result"
    }
   ],
   "source": [
    "def convert_to_gb(row):\n",
    "    gb = math.ceil(row['mb_used'] / 1024)\n",
    "    return gb\n",
    "\n",
    "internet_pivot['mb_used'] = internet_pivot.apply(convert_to_gb, axis=1)\n",
    "internet_pivot.columns = ['month', 'gb_used']\n",
    "internet_pivot.head()"
   ]
  },
  {
   "cell_type": "markdown",
   "metadata": {},
   "source": [
    "<div class=\"alert alert-success\" role=\"alert\">\n",
    "<b>Reviewer's comment v1</b>\n",
    "\n",
    "Good that you did not forget about internet rounding.\n",
    "\n",
    "</div>"
   ]
  },
  {
   "cell_type": "markdown",
   "metadata": {},
   "source": [
    "### The monthly revenue from each user \n"
   ]
  },
  {
   "cell_type": "markdown",
   "metadata": {},
   "source": [
    "subtract the free package limit from the total number of calls, text messages, and data; multiply the result by the calling plan value; add the monthly charge depending on the calling plan"
   ]
  },
  {
   "cell_type": "code",
   "execution_count": 22,
   "metadata": {
    "scrolled": true
   },
   "outputs": [
    {
     "data": {
      "text/html": [
       "<div>\n",
       "<style scoped>\n",
       "    .dataframe tbody tr th:only-of-type {\n",
       "        vertical-align: middle;\n",
       "    }\n",
       "\n",
       "    .dataframe tbody tr th {\n",
       "        vertical-align: top;\n",
       "    }\n",
       "\n",
       "    .dataframe thead th {\n",
       "        text-align: right;\n",
       "    }\n",
       "</style>\n",
       "<table border=\"1\" class=\"dataframe\">\n",
       "  <thead>\n",
       "    <tr style=\"text-align: right;\">\n",
       "      <th></th>\n",
       "      <th>user_id</th>\n",
       "      <th>month</th>\n",
       "      <th>calls</th>\n",
       "      <th>duration</th>\n",
       "      <th>messages</th>\n",
       "      <th>gb_used</th>\n",
       "    </tr>\n",
       "  </thead>\n",
       "  <tbody>\n",
       "    <tr>\n",
       "      <td>0</td>\n",
       "      <td>1000</td>\n",
       "      <td>12</td>\n",
       "      <td>16.0</td>\n",
       "      <td>124.0</td>\n",
       "      <td>11.0</td>\n",
       "      <td>2.0</td>\n",
       "    </tr>\n",
       "    <tr>\n",
       "      <td>1</td>\n",
       "      <td>1001</td>\n",
       "      <td>8</td>\n",
       "      <td>22.0</td>\n",
       "      <td>182.0</td>\n",
       "      <td>30.0</td>\n",
       "      <td>7.0</td>\n",
       "    </tr>\n",
       "    <tr>\n",
       "      <td>2</td>\n",
       "      <td>1001</td>\n",
       "      <td>9</td>\n",
       "      <td>38.0</td>\n",
       "      <td>315.0</td>\n",
       "      <td>44.0</td>\n",
       "      <td>14.0</td>\n",
       "    </tr>\n",
       "    <tr>\n",
       "      <td>3</td>\n",
       "      <td>1001</td>\n",
       "      <td>10</td>\n",
       "      <td>47.0</td>\n",
       "      <td>393.0</td>\n",
       "      <td>53.0</td>\n",
       "      <td>22.0</td>\n",
       "    </tr>\n",
       "    <tr>\n",
       "      <td>4</td>\n",
       "      <td>1001</td>\n",
       "      <td>11</td>\n",
       "      <td>49.0</td>\n",
       "      <td>426.0</td>\n",
       "      <td>36.0</td>\n",
       "      <td>19.0</td>\n",
       "    </tr>\n",
       "  </tbody>\n",
       "</table>\n",
       "</div>"
      ],
      "text/plain": [
       "   user_id  month  calls  duration  messages  gb_used\n",
       "0     1000     12   16.0     124.0      11.0      2.0\n",
       "1     1001      8   22.0     182.0      30.0      7.0\n",
       "2     1001      9   38.0     315.0      44.0     14.0\n",
       "3     1001     10   47.0     393.0      53.0     22.0\n",
       "4     1001     11   49.0     426.0      36.0     19.0"
      ]
     },
     "execution_count": 22,
     "metadata": {},
     "output_type": "execute_result"
    }
   ],
   "source": [
    "data_frames = [calls_pivot, messages_pivot, internet_pivot]\n",
    "df_merged = reduce(lambda  left,right: pd.merge(left,right,on=['user_id', 'month'],how='outer'), data_frames)\n",
    "df_merged = df_merged.reset_index()\n",
    "df_merged.head()"
   ]
  },
  {
   "cell_type": "markdown",
   "metadata": {},
   "source": [
    "<div class=\"alert alert-success\" role=\"alert\">\n",
    "<b>Reviewer's comment v1</b>\n",
    "\n",
    "Great. how = 'outer' is fine here in order not to lose data.\n",
    "\n",
    "</div>"
   ]
  },
  {
   "cell_type": "markdown",
   "metadata": {},
   "source": [
    "### Checking unique user ids in the tables"
   ]
  },
  {
   "cell_type": "code",
   "execution_count": 23,
   "metadata": {},
   "outputs": [
    {
     "name": "stdout",
     "output_type": "stream",
     "text": [
      "Number of unique user ids in tables: \n",
      "Users: 500 \n",
      "Merged: 490 \n",
      "Calls: 481 \n",
      "Messages: 402 \n",
      "Internet: 489\n"
     ]
    }
   ],
   "source": [
    "print('Number of unique user ids in tables:', '\\nUsers:', len(dfs_dict['users']['user_id'].unique()), '\\nMerged:', len(df_merged['user_id'].unique()), '\\nCalls:', len(dfs_dict['calls']['user_id'].unique()), '\\nMessages:', len(dfs_dict['messages']['user_id'].unique()),'\\nInternet:', len(dfs_dict['internet']['user_id'].unique()))\n"
   ]
  },
  {
   "cell_type": "markdown",
   "metadata": {},
   "source": [
    "We can see here that we don't have the same number of unique user ids in the different tables, but the numbers are reasonable (not more than in the users table). So, probably several users don't have data in the other tables."
   ]
  },
  {
   "cell_type": "code",
   "execution_count": 24,
   "metadata": {},
   "outputs": [
    {
     "data": {
      "text/html": [
       "<div>\n",
       "<style scoped>\n",
       "    .dataframe tbody tr th:only-of-type {\n",
       "        vertical-align: middle;\n",
       "    }\n",
       "\n",
       "    .dataframe tbody tr th {\n",
       "        vertical-align: top;\n",
       "    }\n",
       "\n",
       "    .dataframe thead th {\n",
       "        text-align: right;\n",
       "    }\n",
       "</style>\n",
       "<table border=\"1\" class=\"dataframe\">\n",
       "  <thead>\n",
       "    <tr style=\"text-align: right;\">\n",
       "      <th></th>\n",
       "      <th>user_id</th>\n",
       "      <th>month</th>\n",
       "      <th>calls</th>\n",
       "      <th>duration</th>\n",
       "      <th>messages</th>\n",
       "      <th>gb_used</th>\n",
       "      <th>tariff</th>\n",
       "    </tr>\n",
       "  </thead>\n",
       "  <tbody>\n",
       "    <tr>\n",
       "      <td>0</td>\n",
       "      <td>1000</td>\n",
       "      <td>12</td>\n",
       "      <td>16.0</td>\n",
       "      <td>124.0</td>\n",
       "      <td>11.0</td>\n",
       "      <td>2.0</td>\n",
       "      <td>ultimate</td>\n",
       "    </tr>\n",
       "    <tr>\n",
       "      <td>1</td>\n",
       "      <td>1001</td>\n",
       "      <td>8</td>\n",
       "      <td>22.0</td>\n",
       "      <td>182.0</td>\n",
       "      <td>30.0</td>\n",
       "      <td>7.0</td>\n",
       "      <td>surf</td>\n",
       "    </tr>\n",
       "    <tr>\n",
       "      <td>2</td>\n",
       "      <td>1001</td>\n",
       "      <td>9</td>\n",
       "      <td>38.0</td>\n",
       "      <td>315.0</td>\n",
       "      <td>44.0</td>\n",
       "      <td>14.0</td>\n",
       "      <td>surf</td>\n",
       "    </tr>\n",
       "    <tr>\n",
       "      <td>3</td>\n",
       "      <td>1001</td>\n",
       "      <td>10</td>\n",
       "      <td>47.0</td>\n",
       "      <td>393.0</td>\n",
       "      <td>53.0</td>\n",
       "      <td>22.0</td>\n",
       "      <td>surf</td>\n",
       "    </tr>\n",
       "    <tr>\n",
       "      <td>4</td>\n",
       "      <td>1001</td>\n",
       "      <td>11</td>\n",
       "      <td>49.0</td>\n",
       "      <td>426.0</td>\n",
       "      <td>36.0</td>\n",
       "      <td>19.0</td>\n",
       "      <td>surf</td>\n",
       "    </tr>\n",
       "  </tbody>\n",
       "</table>\n",
       "</div>"
      ],
      "text/plain": [
       "   user_id  month  calls  duration  messages  gb_used    tariff\n",
       "0     1000     12   16.0     124.0      11.0      2.0  ultimate\n",
       "1     1001      8   22.0     182.0      30.0      7.0      surf\n",
       "2     1001      9   38.0     315.0      44.0     14.0      surf\n",
       "3     1001     10   47.0     393.0      53.0     22.0      surf\n",
       "4     1001     11   49.0     426.0      36.0     19.0      surf"
      ]
     },
     "execution_count": 24,
     "metadata": {},
     "output_type": "execute_result"
    }
   ],
   "source": [
    "def set_tariff(row):\n",
    "    return dfs_dict['users'][dfs_dict['users']['user_id'] == row['user_id']]['tariff'].values[0]\n",
    "\n",
    "df_merged['tariff'] = df_merged.apply(set_tariff, axis=1)\n",
    "df_merged.head()"
   ]
  },
  {
   "cell_type": "code",
   "execution_count": 25,
   "metadata": {
    "scrolled": false
   },
   "outputs": [
    {
     "data": {
      "text/html": [
       "<div>\n",
       "<style scoped>\n",
       "    .dataframe tbody tr th:only-of-type {\n",
       "        vertical-align: middle;\n",
       "    }\n",
       "\n",
       "    .dataframe tbody tr th {\n",
       "        vertical-align: top;\n",
       "    }\n",
       "\n",
       "    .dataframe thead th {\n",
       "        text-align: right;\n",
       "    }\n",
       "</style>\n",
       "<table border=\"1\" class=\"dataframe\">\n",
       "  <thead>\n",
       "    <tr style=\"text-align: right;\">\n",
       "      <th></th>\n",
       "      <th>user_id</th>\n",
       "      <th>month</th>\n",
       "      <th>calls</th>\n",
       "      <th>duration</th>\n",
       "      <th>messages</th>\n",
       "      <th>gb_used</th>\n",
       "      <th>tariff</th>\n",
       "      <th>revenue</th>\n",
       "    </tr>\n",
       "  </thead>\n",
       "  <tbody>\n",
       "    <tr>\n",
       "      <td>0</td>\n",
       "      <td>1000</td>\n",
       "      <td>12</td>\n",
       "      <td>16.0</td>\n",
       "      <td>124.0</td>\n",
       "      <td>11.0</td>\n",
       "      <td>2.0</td>\n",
       "      <td>ultimate</td>\n",
       "      <td>70.00</td>\n",
       "    </tr>\n",
       "    <tr>\n",
       "      <td>1</td>\n",
       "      <td>1001</td>\n",
       "      <td>8</td>\n",
       "      <td>22.0</td>\n",
       "      <td>182.0</td>\n",
       "      <td>30.0</td>\n",
       "      <td>7.0</td>\n",
       "      <td>surf</td>\n",
       "      <td>20.00</td>\n",
       "    </tr>\n",
       "    <tr>\n",
       "      <td>2</td>\n",
       "      <td>1001</td>\n",
       "      <td>9</td>\n",
       "      <td>38.0</td>\n",
       "      <td>315.0</td>\n",
       "      <td>44.0</td>\n",
       "      <td>14.0</td>\n",
       "      <td>surf</td>\n",
       "      <td>20.00</td>\n",
       "    </tr>\n",
       "    <tr>\n",
       "      <td>3</td>\n",
       "      <td>1001</td>\n",
       "      <td>10</td>\n",
       "      <td>47.0</td>\n",
       "      <td>393.0</td>\n",
       "      <td>53.0</td>\n",
       "      <td>22.0</td>\n",
       "      <td>surf</td>\n",
       "      <td>90.09</td>\n",
       "    </tr>\n",
       "    <tr>\n",
       "      <td>4</td>\n",
       "      <td>1001</td>\n",
       "      <td>11</td>\n",
       "      <td>49.0</td>\n",
       "      <td>426.0</td>\n",
       "      <td>36.0</td>\n",
       "      <td>19.0</td>\n",
       "      <td>surf</td>\n",
       "      <td>60.00</td>\n",
       "    </tr>\n",
       "  </tbody>\n",
       "</table>\n",
       "</div>"
      ],
      "text/plain": [
       "   user_id  month  calls  duration  messages  gb_used    tariff  revenue\n",
       "0     1000     12   16.0     124.0      11.0      2.0  ultimate    70.00\n",
       "1     1001      8   22.0     182.0      30.0      7.0      surf    20.00\n",
       "2     1001      9   38.0     315.0      44.0     14.0      surf    20.00\n",
       "3     1001     10   47.0     393.0      53.0     22.0      surf    90.09\n",
       "4     1001     11   49.0     426.0      36.0     19.0      surf    60.00"
      ]
     },
     "execution_count": 25,
     "metadata": {},
     "output_type": "execute_result"
    }
   ],
   "source": [
    "def set_revenue(row):\n",
    "    revenue = 0\n",
    "    if row['tariff'] == 'surf':\n",
    "        revenue += 20\n",
    "        \n",
    "        messages = row['messages'] - 50\n",
    "        if messages > 0:\n",
    "            revenue += messages * 0.03\n",
    "        \n",
    "        duration = row['duration'] - 500\n",
    "        if duration > 0:\n",
    "            revenue += duration * 0.03\n",
    "            \n",
    "        gb_over = row['gb_used'] - 15\n",
    "        if gb_over > 0:\n",
    "            revenue += gb_over * 10\n",
    "        \n",
    "    else: \n",
    "        revenue += 70\n",
    "        \n",
    "        messages = row['messages'] - 1000\n",
    "        if messages > 0:\n",
    "            revenue += messages * 0.01\n",
    "        \n",
    "        duration = row['duration'] - 3000\n",
    "        if duration > 0:\n",
    "            revenue += duration * 0.01\n",
    "            \n",
    "        gb_over = row['gb_used'] - 30\n",
    "        if gb_over > 0:\n",
    "            revenue += gb_over * 7\n",
    "        \n",
    "    \n",
    "    return round(revenue, 2)\n",
    "\n",
    "df_merged['revenue'] = df_merged.apply(set_revenue, axis=1)\n",
    "df_merged.head()"
   ]
  },
  {
   "cell_type": "markdown",
   "metadata": {},
   "source": [
    "### Conclusion"
   ]
  },
  {
   "cell_type": "markdown",
   "metadata": {},
   "source": [
    "<div class=\"alert alert-block alert-warning\">\n",
    "<b>Reviewer's comment v1</b>\n",
    "\n",
    "Everything is correct here! Great, that you created a function to calculate revenue. \n",
    "\n",
    "However, it is better to avoid hard-coding in your code of all values from the data plans. These values could be frequently updated and it will be annoyingly inconvenient to update them once again in the code. I would recommend to use an actual table with values or create a separate data dictionary - https://towardsdatascience.com/12-examples-to-master-python-dictionaries-5a8bcd688c6d\n",
    "    \n",
    "It is also possible to make the calculation of revenue a little bit shorter / easier using np.where - https://numpy.org/doc/stable/reference/generated/numpy.where.html\n",
    "\n",
    "      np.where ('condition: if exceeding the package limit', 'multiply the difference by the price of additional services', '0')\n",
    "    \n",
    "</div>"
   ]
  },
  {
   "cell_type": "markdown",
   "metadata": {},
   "source": [
    "In this section:\n",
    "* We added month column to calls, messages and internet tables in order to sum the monthly usage. \n",
    "* we rounded up the minutes, in order to perform the required revenue calculation.\n",
    "* We created the folowwing pivot tables: calls, messages and internet. \n",
    "* We converted MB to GB.\n",
    "* We merged the pivot tables.\n",
    "* We add a tariff column to the merged table.\n",
    "* We calculated the monthly revenue from each user.\n",
    "* We checked our merged table for unique user ids."
   ]
  },
  {
   "cell_type": "markdown",
   "metadata": {},
   "source": [
    "## Carry out exploratory data analysis\n",
    "<a class=\"anchor\" id=\"eda\"></a> \n",
    "[Go back to the Table of Contents](#table_of_contents) "
   ]
  },
  {
   "cell_type": "markdown",
   "metadata": {},
   "source": [
    "In this section we'll check the distributions of surf and ultimate users by calls duration, number of messages, number of used GBs and revenue. "
   ]
  },
  {
   "cell_type": "code",
   "execution_count": 37,
   "metadata": {
    "scrolled": false
   },
   "outputs": [
    {
     "data": {
      "image/png": "[encoded data removed]",
      "text/plain": [
       "<Figure size 432x288 with 1 Axes>"
      ]
     },
     "metadata": {
      "needs_background": "light"
     },
     "output_type": "display_data"
    },
    {
     "name": "stdout",
     "output_type": "stream",
     "text": [
      "Surf:  mean: 436.80 var: 52481.56 std: 229.09 \n",
      "Ultimate: mean: 435.29 var: 56387.09 std: 237.46\n",
      "\n"
     ]
    },
    {
     "data": {
      "image/png": "[encoded data removed]",
      "text/plain": [
       "<Figure size 432x288 with 1 Axes>"
      ]
     },
     "metadata": {
      "needs_background": "light"
     },
     "output_type": "display_data"
    },
    {
     "name": "stdout",
     "output_type": "stream",
     "text": [
      "Surf:  mean: 40.11 var: 1091.34 std: 33.04 \n",
      "Ultimate: mean: 46.30 var: 1085.18 std: 32.94\n",
      "\n"
     ]
    },
    {
     "data": {
      "image/png": "[encoded data removed]",
      "text/plain": [
       "<Figure size 432x288 with 1 Axes>"
      ]
     },
     "metadata": {
      "needs_background": "light"
     },
     "output_type": "display_data"
    },
    {
     "name": "stdout",
     "output_type": "stream",
     "text": [
      "Surf:  mean: 16.83 var: 59.47 std: 7.71 \n",
      "Ultimate: mean: 17.33 var: 58.49 std: 7.65\n",
      "\n"
     ]
    },
    {
     "data": {
      "image/png": "[encoded data removed]",
      "text/plain": [
       "<Figure size 432x288 with 1 Axes>"
      ]
     },
     "metadata": {
      "needs_background": "light"
     },
     "output_type": "display_data"
    },
    {
     "name": "stdout",
     "output_type": "stream",
     "text": [
      "Surf:  mean: 60.71 var: 3067.84 std: 55.39 \n",
      "Ultimate: mean: 72.31 var: 129.85 std: 11.40\n",
      "\n"
     ]
    }
   ],
   "source": [
    "surf = df_merged[df_merged['tariff'] == 'surf']\n",
    "ultimate = df_merged[df_merged['tariff'] == 'ultimate']\n",
    "\n",
    "cols = ['duration', 'messages', 'gb_used', 'revenue']\n",
    "\n",
    "for col in cols:\n",
    "    surf_mean = surf[col].mean() \n",
    "    surf_var = surf[col].var()\n",
    "    surf_std = surf[col].std() \n",
    "    surf_stats = \"mean: {:.2f} var: {:.2f} std: {:.2f}\".format(surf_mean, surf_var, surf_std)\n",
    "    \n",
    "    ultimate_mean = ultimate[col].mean() \n",
    "    ultimate_var = ultimate[col].var()\n",
    "    ultimate_std = ultimate[col].std() \n",
    "    ultimate_stats = \"mean: {:.2f} var: {:.2f} std: {:.2f}\".format(ultimate_mean, ultimate_var, ultimate_std)\n",
    "    \n",
    "    fig, ax = plt.subplots()\n",
    "    \n",
    "    surf[col].plot(ax=ax, kind='hist', title='{} frequency'.format(col), bins=100)#, range=(0, 1000))\n",
    "    ultimate[col].plot(ax=ax, kind='hist', title='{} frequency'.format(col), bins=100)#, range=(0, 1000))\n",
    "    plt.xlabel(col)\n",
    "    ax.legend([\"Surf\", \"Ultimate\"])\n",
    "    plt.show()\n",
    "    \n",
    "    print(\"Surf: \", surf_stats, \"\\nUltimate:\", ultimate_stats)\n",
    "    print()"
   ]
  },
  {
   "cell_type": "code",
   "execution_count": 27,
   "metadata": {},
   "outputs": [
    {
     "data": {
      "text/plain": [
       "0     3.0\n",
       "1    11.0\n",
       "dtype: float64"
      ]
     },
     "execution_count": 27,
     "metadata": {},
     "output_type": "execute_result"
    }
   ],
   "source": [
    "df_merged['messages'].mode()"
   ]
  },
  {
   "cell_type": "markdown",
   "metadata": {},
   "source": [
    "### Conclusion"
   ]
  },
  {
   "cell_type": "markdown",
   "metadata": {},
   "source": [
    "#### First findings\n",
    "* **Calls duration frequency** \n",
    "\n",
    "The mean, variance and standard deviation are very close. The distributions looks normal. Probably ther is no significant difference between the user plans in terms of calls durations.\n",
    "\n",
    "* **Messages frequency** \n",
    "\n",
    "Here again, the mean, variance and standard deviation are very close. In this case, the distributions doesn't look normal, but look similar. Probably ther is no significant difference between the users of both plans in terms of number of messages.\n",
    "\n",
    "* **Internet GB used frequency**\n",
    "We also can see the same things here: the mean, variance and standard deviation are very close. The distrubutions here are normal and beautiful ;)\n",
    "In terms of usage, we can guess that the users in both plans use the internet in a very similar way.\n",
    "\n",
    "* **Revenue frequency**\n",
    "Here is the real thing: we can see clearly from the histogram that the users of ultimate plan brings a way more revenue tha the users of surf. Also the numbers in this case differ significantly.\n",
    "\n",
    "\n",
    "In any case, we have to test our findings!"
   ]
  },
  {
   "cell_type": "markdown",
   "metadata": {},
   "source": [
    "<div class=\"alert alert-danger\">\n",
    "<b>Reviewer's comment v1</b>\n",
    "\n",
    "Very nice visualisation of the data and great that you also managed to combine 2 plans on one histogram! \n",
    "    \n",
    "However, what findings can you already share based on your analysis, calculated metrics and graphs? \n",
    "\n",
    "</div>"
   ]
  },
  {
   "cell_type": "markdown",
   "metadata": {},
   "source": [
    "<div class=\"alert alert-block alert-warning\">\n",
    "<b>Reviewer's comment v1</b>\n",
    "\n",
    "It's a matter of taste, but sometimes it is easier to analyze the data (spread, averages, etc.) for each feature using a boxplot in addition to histograms. If you have time and willing to practice, you can display two charts (histogram and a boxplot) using a two-column subplot.\n",
    "\n",
    "        fig, axes = plt.subplots(1, 2, figsize=(16, 5))\n",
    "        ....\n",
    "        sns.distplot(...)\n",
    "        sns.distplot(...)\n",
    "        ... \n",
    "        sns.boxplot(...)\n",
    "    \n",
    "</div>"
   ]
  },
  {
   "cell_type": "markdown",
   "metadata": {},
   "source": [
    "<div class=\"alert alert-info\"> <b>Student comments:</b> \n",
    "    \n",
    "I hope it's better now.</div>  \n",
    "    "
   ]
  },
  {
   "cell_type": "markdown",
   "metadata": {},
   "source": [
    "<div class=\"alert alert-success\" role=\"alert\">\n",
    "<b>Reviewer's comment v2</b>\n",
    "\n",
    "Yes! Thank for extending your conclusions. \n",
    "\n",
    "Btw it is possible to make your graphs a little bit bigger: \n",
    "    \n",
    "    fig, ax = plt.subplots(figsize=(12,6))\n",
    "\n",
    "And as a last thing, I can recommend cool lectures on stat analysis here: https://www.youtube.com/playlist?list=PL2SOU6wwxB0uwwH80KTQ6ht66KWxbzTIo  :)\n",
    "</div>"
   ]
  },
  {
   "cell_type": "markdown",
   "metadata": {},
   "source": [
    "## Carry out statistical data analysis\n"
   ]
  },
  {
   "cell_type": "markdown",
   "metadata": {},
   "source": [
    "### Checking the hypothesis: the average revenue from users of Ultimate and Surf calling plans differs\n"
   ]
  },
  {
   "cell_type": "code",
   "execution_count": 28,
   "metadata": {},
   "outputs": [
    {
     "name": "stdout",
     "output_type": "stream",
     "text": [
      "p-value:  2.862674510698644e-08\n",
      "We reject the null hypothesis\n"
     ]
    }
   ],
   "source": [
    "alpha = 0.05 \n",
    "\n",
    "results = st.ttest_ind(surf['revenue'], ultimate['revenue'])\n",
    "\n",
    "print('p-value: ', results.pvalue)\n",
    "\n",
    "if results.pvalue < alpha:\n",
    "    print(\"We reject the null hypothesis\")\n",
    "else:\n",
    "    print(\"We can't reject the null hypothesis\") "
   ]
  },
  {
   "cell_type": "markdown",
   "metadata": {},
   "source": [
    "We have here a hypothesis on the equality of two population means:\n",
    "* The null hypothesis (H₀): the average revenue from users of Ultimate and Surf calling plans **equals**.\n",
    "* The alternative hypothesis (H₁): the average revenue from users of Ultimate and Surf calling plans **differs**.\n",
    "\n",
    "We checked the p-value (with alpah of 0.05) using the T-test for the means of two independent samples of scores and rejected the null hypothsis. There is a difference between the revenues of surf and ultimate plans: Ultimate plan brings in more revenue."
   ]
  },
  {
   "cell_type": "markdown",
   "metadata": {},
   "source": [
    "### Checking the hypothesis: the average revenue from users in NY-NJ area is different from that of the users from other regions\n"
   ]
  },
  {
   "cell_type": "code",
   "execution_count": 29,
   "metadata": {},
   "outputs": [
    {
     "data": {
      "text/html": [
       "<div>\n",
       "<style scoped>\n",
       "    .dataframe tbody tr th:only-of-type {\n",
       "        vertical-align: middle;\n",
       "    }\n",
       "\n",
       "    .dataframe tbody tr th {\n",
       "        vertical-align: top;\n",
       "    }\n",
       "\n",
       "    .dataframe thead th {\n",
       "        text-align: right;\n",
       "    }\n",
       "</style>\n",
       "<table border=\"1\" class=\"dataframe\">\n",
       "  <thead>\n",
       "    <tr style=\"text-align: right;\">\n",
       "      <th></th>\n",
       "      <th>user_id</th>\n",
       "      <th>month</th>\n",
       "      <th>calls</th>\n",
       "      <th>duration</th>\n",
       "      <th>messages</th>\n",
       "      <th>gb_used</th>\n",
       "      <th>tariff</th>\n",
       "      <th>revenue</th>\n",
       "      <th>region</th>\n",
       "    </tr>\n",
       "  </thead>\n",
       "  <tbody>\n",
       "    <tr>\n",
       "      <td>0</td>\n",
       "      <td>1000</td>\n",
       "      <td>12</td>\n",
       "      <td>16.0</td>\n",
       "      <td>124.0</td>\n",
       "      <td>11.0</td>\n",
       "      <td>2.0</td>\n",
       "      <td>ultimate</td>\n",
       "      <td>70.00</td>\n",
       "      <td>other</td>\n",
       "    </tr>\n",
       "    <tr>\n",
       "      <td>1</td>\n",
       "      <td>1001</td>\n",
       "      <td>8</td>\n",
       "      <td>22.0</td>\n",
       "      <td>182.0</td>\n",
       "      <td>30.0</td>\n",
       "      <td>7.0</td>\n",
       "      <td>surf</td>\n",
       "      <td>20.00</td>\n",
       "      <td>other</td>\n",
       "    </tr>\n",
       "    <tr>\n",
       "      <td>2</td>\n",
       "      <td>1001</td>\n",
       "      <td>9</td>\n",
       "      <td>38.0</td>\n",
       "      <td>315.0</td>\n",
       "      <td>44.0</td>\n",
       "      <td>14.0</td>\n",
       "      <td>surf</td>\n",
       "      <td>20.00</td>\n",
       "      <td>other</td>\n",
       "    </tr>\n",
       "    <tr>\n",
       "      <td>3</td>\n",
       "      <td>1001</td>\n",
       "      <td>10</td>\n",
       "      <td>47.0</td>\n",
       "      <td>393.0</td>\n",
       "      <td>53.0</td>\n",
       "      <td>22.0</td>\n",
       "      <td>surf</td>\n",
       "      <td>90.09</td>\n",
       "      <td>other</td>\n",
       "    </tr>\n",
       "    <tr>\n",
       "      <td>4</td>\n",
       "      <td>1001</td>\n",
       "      <td>11</td>\n",
       "      <td>49.0</td>\n",
       "      <td>426.0</td>\n",
       "      <td>36.0</td>\n",
       "      <td>19.0</td>\n",
       "      <td>surf</td>\n",
       "      <td>60.00</td>\n",
       "      <td>other</td>\n",
       "    </tr>\n",
       "    <tr>\n",
       "      <td>5</td>\n",
       "      <td>1001</td>\n",
       "      <td>12</td>\n",
       "      <td>46.0</td>\n",
       "      <td>412.0</td>\n",
       "      <td>44.0</td>\n",
       "      <td>19.0</td>\n",
       "      <td>surf</td>\n",
       "      <td>60.00</td>\n",
       "      <td>other</td>\n",
       "    </tr>\n",
       "    <tr>\n",
       "      <td>6</td>\n",
       "      <td>1002</td>\n",
       "      <td>10</td>\n",
       "      <td>8.0</td>\n",
       "      <td>59.0</td>\n",
       "      <td>15.0</td>\n",
       "      <td>7.0</td>\n",
       "      <td>surf</td>\n",
       "      <td>20.00</td>\n",
       "      <td>other</td>\n",
       "    </tr>\n",
       "    <tr>\n",
       "      <td>7</td>\n",
       "      <td>1002</td>\n",
       "      <td>11</td>\n",
       "      <td>48.0</td>\n",
       "      <td>386.0</td>\n",
       "      <td>32.0</td>\n",
       "      <td>19.0</td>\n",
       "      <td>surf</td>\n",
       "      <td>60.00</td>\n",
       "      <td>other</td>\n",
       "    </tr>\n",
       "    <tr>\n",
       "      <td>8</td>\n",
       "      <td>1002</td>\n",
       "      <td>12</td>\n",
       "      <td>38.0</td>\n",
       "      <td>384.0</td>\n",
       "      <td>41.0</td>\n",
       "      <td>15.0</td>\n",
       "      <td>surf</td>\n",
       "      <td>20.00</td>\n",
       "      <td>other</td>\n",
       "    </tr>\n",
       "    <tr>\n",
       "      <td>9</td>\n",
       "      <td>1003</td>\n",
       "      <td>12</td>\n",
       "      <td>118.0</td>\n",
       "      <td>1104.0</td>\n",
       "      <td>50.0</td>\n",
       "      <td>27.0</td>\n",
       "      <td>surf</td>\n",
       "      <td>158.12</td>\n",
       "      <td>other</td>\n",
       "    </tr>\n",
       "  </tbody>\n",
       "</table>\n",
       "</div>"
      ],
      "text/plain": [
       "   user_id  month  calls  duration  messages  gb_used    tariff  revenue  \\\n",
       "0     1000     12   16.0     124.0      11.0      2.0  ultimate    70.00   \n",
       "1     1001      8   22.0     182.0      30.0      7.0      surf    20.00   \n",
       "2     1001      9   38.0     315.0      44.0     14.0      surf    20.00   \n",
       "3     1001     10   47.0     393.0      53.0     22.0      surf    90.09   \n",
       "4     1001     11   49.0     426.0      36.0     19.0      surf    60.00   \n",
       "5     1001     12   46.0     412.0      44.0     19.0      surf    60.00   \n",
       "6     1002     10    8.0      59.0      15.0      7.0      surf    20.00   \n",
       "7     1002     11   48.0     386.0      32.0     19.0      surf    60.00   \n",
       "8     1002     12   38.0     384.0      41.0     15.0      surf    20.00   \n",
       "9     1003     12  118.0    1104.0      50.0     27.0      surf   158.12   \n",
       "\n",
       "  region  \n",
       "0  other  \n",
       "1  other  \n",
       "2  other  \n",
       "3  other  \n",
       "4  other  \n",
       "5  other  \n",
       "6  other  \n",
       "7  other  \n",
       "8  other  \n",
       "9  other  "
      ]
     },
     "execution_count": 29,
     "metadata": {},
     "output_type": "execute_result"
    }
   ],
   "source": [
    "users = dfs_dict['users']\n",
    "users['city'] = users['city'].str.lower()\n",
    "\n",
    "\n",
    "def set_region(row):\n",
    "    city = users[users['user_id'] == row['user_id']]['city'].values[0]\n",
    "    if \"ny-nj\" in city:       \n",
    "        return \"ny-nj\"                 \n",
    "    else:\n",
    "        return \"other\"\n",
    "    \n",
    "\n",
    "df_merged['region'] = df_merged.apply(set_region, axis=1)\n",
    "df_merged.head(10)\n"
   ]
  },
  {
   "cell_type": "code",
   "execution_count": 30,
   "metadata": {},
   "outputs": [],
   "source": [
    "ny_nj = df_merged[df_merged['region'] == 'ny-nj']\n",
    "other = df_merged[df_merged['region'] == 'other']"
   ]
  },
  {
   "cell_type": "code",
   "execution_count": 31,
   "metadata": {
    "scrolled": true
   },
   "outputs": [
    {
     "data": {
      "image/png": "[encoded data removed]",
      "text/plain": [
       "<Figure size 432x288 with 1 Axes>"
      ]
     },
     "metadata": {
      "needs_background": "light"
     },
     "output_type": "display_data"
    },
    {
     "name": "stdout",
     "output_type": "stream",
     "text": [
      "NY-NJ:  mean: 59.92 var: 1895.55 std: 43.54 \n",
      "Other: mean: 65.22 var: 2225.05 std: 47.17\n",
      "\n"
     ]
    }
   ],
   "source": [
    "ny_nj_mean = ny_nj['revenue'].mean() \n",
    "ny_nj_var = ny_nj['revenue'].var()\n",
    "ny_nj_std = ny_nj['revenue'].std() \n",
    "ny_nj_stats = \"mean: {:.2f} var: {:.2f} std: {:.2f}\".format(ny_nj_mean, ny_nj_var, ny_nj_std)\n",
    "\n",
    "other_mean = other['revenue'].mean() \n",
    "other_var = other['revenue'].var()\n",
    "other_std = other['revenue'].std() \n",
    "other_stats = \"mean: {:.2f} var: {:.2f} std: {:.2f}\".format(other_mean, other_var, other_std)\n",
    "\n",
    "fig, ax = plt.subplots()\n",
    "other['revenue'].plot(ax=ax, kind='hist', title='{} frequency'.format(col))\n",
    "ny_nj['revenue'].plot(ax=ax, kind='hist', title='{} frequency'.format(col))\n",
    "plt.xlabel('revenue')\n",
    "ax.legend([ \"Other\", \"NY-NJ\"])\n",
    "plt.show()\n",
    "\n",
    "print(\"NY-NJ: \", ny_nj_stats, \"\\nOther:\", other_stats)\n",
    "print()"
   ]
  },
  {
   "cell_type": "markdown",
   "metadata": {},
   "source": [
    "Visually, we can see differences between the disributions of NY-NJ and other. we also see that the means and the standard deviation sare very close, but the variances are not. \n",
    "\n",
    "Let's check it!"
   ]
  },
  {
   "cell_type": "code",
   "execution_count": 32,
   "metadata": {},
   "outputs": [
    {
     "name": "stdout",
     "output_type": "stream",
     "text": [
      "p-value:  0.043557431621342436\n",
      "We reject the null hypothesis\n"
     ]
    }
   ],
   "source": [
    "alpha = 0.05 \n",
    "\n",
    "results = st.ttest_ind(ny_nj['revenue'], other['revenue'])\n",
    "\n",
    "print('p-value: ', results.pvalue)\n",
    "\n",
    "if results.pvalue < alpha:\n",
    "    print(\"We reject the null hypothesis\")\n",
    "else:\n",
    "    print(\"We can't reject the null hypothesis\") "
   ]
  },
  {
   "cell_type": "markdown",
   "metadata": {},
   "source": [
    "We have here a hypothesis on the equality of two population means:\n",
    "* The null hypothesis (H₀): the average revenue of users from NY-NJ and Other regions **equals**.\n",
    "* The alternative hypothesis (H₁): the average revenue of users from NY-NJ and Other regions **differs**.\n",
    "\n",
    "We checked the p-value (with alpah of 0.05) using the T-test for the means of two independent samples of scores and rejected the null hypothsis. There is a significant difference between the revenues of NY-NJ and Other regions: Other regions brings in more revenue."
   ]
  },
  {
   "cell_type": "markdown",
   "metadata": {},
   "source": [
    "<div class=\"alert alert-success\" role=\"alert\">\n",
    "<b>Reviewer's comment v1:</b>\n",
    "    \n",
    "- Great job! Hypotheses hav been formulated and tested correctly. \n",
    "- Btw it is also possible to compare the variances of the samples before testing hypotheses in order to understand which value in the parameter equal_var to use (by default, True). In your work, you accept it as True, while you do not justify your choice. To compare variances you can  use Levene test (https://docs.scipy.org/doc/scipy/reference/generated/scipy.stats.levene.html or Bartlett’s test (https://docs.scipy.org/doc/scipy/reference/generated/scipy.stats.bartlett.html).\n",
    "- And you can additionally test data distribution type (e.g. Shapiro Wilk test). You can check various tests that can be used here - https://towardsdatascience.com/6-ways-to-test-for-a-normal-distribution-which-one-to-use-9dcf47d8fa93"
   ]
  },
  {
   "cell_type": "markdown",
   "metadata": {},
   "source": [
    "## Overall conclusion\n",
    "<a class=\"anchor\" id=\"conclusion\"></a> \n",
    "[Go back to the Table of Contents](#table_of_contents) "
   ]
  },
  {
   "cell_type": "markdown",
   "metadata": {},
   "source": [
    "So, what we had here?\n",
    "\n",
    "After open the files and displaying the tables and the infos we found the following problems  in the dataset:\n",
    "* NaNs in megaline_users1['churn_date'] column\n",
    "* some columns need to be converted to other data types (for example: date_posted - from object to date).\n",
    "\n",
    "In the preprocessing step:\n",
    "* We checked for missing values.\n",
    "* We checked for duplicates.\n",
    "* We changed the required data type in order to work with dates and categorical values.\n",
    "* we set the date of missing values in dfs_dict['users']['churn_date'] to '2000-01-01'.\n",
    "\n",
    "In the calaulations section:\n",
    "* We added month column to calls, messages and internet tables in order to sum the monthly usage.\n",
    "* we rounded up the minutes, in order to perform the required revenue calculation.\n",
    "* We created the folowwing pivot tables: calls, messages and internet.\n",
    "* We converted MB to GB.\n",
    "* We merged the pivot tables.\n",
    "* We add a tariff column to the merged table.\n",
    "* We calculated the monthly revenue from each user.\n",
    "* We checked our merged table for unique user ids.\n",
    "\n",
    "In the exploratory data analysis section:\n",
    "* We saw that except of the distribution of revenue, all the distributions (calls duration, number of messages, number of used GBs) looks very similar and their mean, standard deviation and variance are very close.\n",
    "\n",
    "In the statistical data analysis:\n",
    "* We checked the p-value (with alpah of 0.05) using the T-test for the means of two independent samples of scores and rejected the null hypothsis. Probably, there is a difference between the revenues of surf and ultimate plans.\n",
    "\n",
    "* We saw differences between the disributions of NY-NJ and other. We also see that the means and the standard deviation sare very close, but the variances are not. \n",
    "\n",
    "* We checked the p-value (with alpah of 0.05) using the T-test for the means of two independent samples of scores and rejected the null hypothsis. Probably, there is a difference between the revenues of surf and ultimate plans.\n",
    "\n",
    "So let's answer our research questions: \n",
    "\n",
    "* which prepaid plan brings in more revenue?\n",
    "* which region (NY-NJ and other) brings in more revenue?\n",
    "\n",
    "Our conclusions are:\n",
    "* Ultimate plan brings in more revenue.\n",
    "* Other regions brings in more revenue.\n",
    "\n",
    "Therefore, We recommend to adjust the advertising budget in accordance with our conclusions."
   ]
  },
  {
   "cell_type": "markdown",
   "metadata": {},
   "source": [
    "<div class=\"alert alert-success\" role=\"alert\">\n",
    "<b>Reviewer's comment v1:</b>\n",
    "    \n",
    "- Overall you conducted outstanding research with interesting findings, clean code and nice visualisation.\n",
    "- I also like your overall conclusions. It is very structured and provides insights about what you accomplished and recommendations to the business.\n"
   ]
  },
  {
   "cell_type": "markdown",
   "metadata": {},
   "source": [
    "# Project completion checklist\n",
    "<a class=\"anchor\" id=\"checklist\"></a> \n",
    "[Go back to the Table of Contents](#table_of_contents) \n",
    "\n",
    "Mark the completed tasks with 'x'. Then press Shift+Enter."
   ]
  },
  {
   "cell_type": "markdown",
   "metadata": {},
   "source": [
    "- [x]  file opened\n",
    "- [x]  files explored (first rows printed, info() method)\n",
    "- [x]  missing values determined\n",
    "- [x]  missing values filled in\n",
    "- [x]  clarification of the discovered missing values provided\n",
    "- [x]  data types converted\n",
    "- [x]  explanation of which columns had the data types changed and why\n",
    "- [x]  How you explain the problems identified in the data\n",
    "- [x]  How you prepare the data for analysis\n",
    "- [x]  What graphs you plot for distributions\n",
    "- [x]  How you interpret the resulting graphs\n",
    "- [x]  How you calculate the standard deviation and variance\n",
    "- [x]  Whether you formulate the alternative and null hypotheses\n",
    "- [x]  What methods you use to test hypotheses\n",
    "- [x]  Whether you interpret the results of your hypothesis tests\n",
    "- [x]  Whether you follow the project structure and keep the code tidy\n",
    "- [x]  The conclusions you come to\n",
    "- [x]  Whether you leave comments at each step\n",
    "- [x]  each stage has a conclusion\n",
    "- [x]  overall conclusion drawn"
   ]
  }
 ],
 "metadata": {
  "ExecuteTimeLog": [
   {
    "duration": 709,
    "start_time": "2021-06-29T19:44:49.152Z"
   },
   {
    "duration": 22,
    "start_time": "2021-06-29T19:44:49.863Z"
   },
   {
    "duration": 16,
    "start_time": "2021-06-29T19:44:49.887Z"
   },
   {
    "duration": 41,
    "start_time": "2021-06-29T19:44:49.905Z"
   },
   {
    "duration": 6,
    "start_time": "2021-06-29T19:44:49.947Z"
   },
   {
    "duration": 4,
    "start_time": "2021-06-29T19:44:49.955Z"
   },
   {
    "duration": 28,
    "start_time": "2021-06-29T19:44:49.960Z"
   },
   {
    "duration": 4,
    "start_time": "2021-06-29T19:44:49.991Z"
   },
   {
    "duration": 7,
    "start_time": "2021-06-29T19:44:49.997Z"
   },
   {
    "duration": 6,
    "start_time": "2021-06-29T19:44:50.005Z"
   },
   {
    "duration": 7,
    "start_time": "2021-06-29T19:44:50.012Z"
   },
   {
    "duration": 8,
    "start_time": "2021-06-29T19:44:50.021Z"
   },
   {
    "duration": 6,
    "start_time": "2021-06-29T19:44:50.030Z"
   },
   {
    "duration": 52,
    "start_time": "2021-06-29T19:44:50.038Z"
   },
   {
    "duration": 18,
    "start_time": "2021-06-29T19:44:50.092Z"
   },
   {
    "duration": 115,
    "start_time": "2021-06-29T19:44:50.112Z"
   },
   {
    "duration": 38,
    "start_time": "2021-06-29T19:44:50.229Z"
   },
   {
    "duration": 41,
    "start_time": "2021-06-29T19:44:50.269Z"
   },
   {
    "duration": 13,
    "start_time": "2021-06-29T19:44:50.311Z"
   },
   {
    "duration": 8,
    "start_time": "2021-06-29T19:44:50.326Z"
   },
   {
    "duration": 10,
    "start_time": "2021-06-29T19:44:50.335Z"
   },
   {
    "duration": 39,
    "start_time": "2021-06-29T19:44:50.346Z"
   },
   {
    "duration": 8,
    "start_time": "2021-06-29T19:44:50.389Z"
   },
   {
    "duration": 8,
    "start_time": "2021-06-29T19:44:50.400Z"
   },
   {
    "duration": 9,
    "start_time": "2021-06-29T19:44:50.410Z"
   },
   {
    "duration": 4394,
    "start_time": "2021-06-29T19:44:50.420Z"
   },
   {
    "duration": 10,
    "start_time": "2021-06-29T19:44:54.816Z"
   },
   {
    "duration": 6,
    "start_time": "2021-06-29T19:44:54.827Z"
   },
   {
    "duration": 7,
    "start_time": "2021-06-29T19:44:54.834Z"
   },
   {
    "duration": 13,
    "start_time": "2021-06-29T19:44:54.843Z"
   },
   {
    "duration": 294,
    "start_time": "2021-06-29T19:44:54.858Z"
   },
   {
    "duration": 250,
    "start_time": "2021-06-29T19:44:55.153Z"
   },
   {
    "duration": 354,
    "start_time": "2021-06-29T19:44:55.404Z"
   },
   {
    "duration": 201,
    "start_time": "2021-06-29T19:44:55.760Z"
   },
   {
    "duration": 186,
    "start_time": "2021-06-29T19:44:55.963Z"
   },
   {
    "duration": 17,
    "start_time": "2021-06-29T19:44:56.151Z"
   },
   {
    "duration": 31,
    "start_time": "2021-06-29T19:44:56.170Z"
   },
   {
    "duration": 270,
    "start_time": "2021-06-29T19:44:56.203Z"
   },
   {
    "duration": 191,
    "start_time": "2021-06-29T19:44:56.474Z"
   },
   {
    "duration": 361,
    "start_time": "2021-06-29T19:44:56.667Z"
   },
   {
    "duration": 192,
    "start_time": "2021-06-29T19:44:57.029Z"
   },
   {
    "duration": 261,
    "start_time": "2021-06-29T19:44:57.223Z"
   },
   {
    "duration": 344,
    "start_time": "2021-06-29T19:44:57.486Z"
   },
   {
    "duration": 10,
    "start_time": "2021-06-29T19:44:57.832Z"
   },
   {
    "duration": 62,
    "start_time": "2021-06-29T19:44:57.843Z"
   },
   {
    "duration": 13,
    "start_time": "2021-06-29T19:44:57.907Z"
   },
   {
    "duration": 20,
    "start_time": "2021-06-29T19:44:57.921Z"
   },
   {
    "duration": 42,
    "start_time": "2021-06-29T19:44:57.943Z"
   },
   {
    "duration": 22,
    "start_time": "2021-06-29T19:44:57.986Z"
   },
   {
    "duration": 6,
    "start_time": "2021-06-29T19:44:58.009Z"
   },
   {
    "duration": 242,
    "start_time": "2021-06-29T19:44:58.017Z"
   },
   {
    "duration": 226,
    "start_time": "2021-06-29T19:44:58.261Z"
   },
   {
    "duration": 26,
    "start_time": "2021-06-29T19:44:58.488Z"
   },
   {
    "duration": 6,
    "start_time": "2021-06-29T19:44:58.515Z"
   },
   {
    "duration": 215,
    "start_time": "2021-06-29T19:44:58.523Z"
   },
   {
    "duration": 6,
    "start_time": "2021-06-29T19:44:58.739Z"
   },
   {
    "duration": 387,
    "start_time": "2021-06-29T19:44:58.746Z"
   },
   {
    "duration": 378,
    "start_time": "2021-06-29T19:44:59.134Z"
   },
   {
    "duration": 408,
    "start_time": "2021-06-29T19:44:59.514Z"
   },
   {
    "duration": 368,
    "start_time": "2021-06-29T19:44:59.923Z"
   },
   {
    "duration": 26,
    "start_time": "2021-06-29T19:45:00.293Z"
   },
   {
    "duration": 7,
    "start_time": "2021-06-29T19:45:00.321Z"
   },
   {
    "duration": 289,
    "start_time": "2021-06-29T19:45:00.329Z"
   },
   {
    "duration": 7,
    "start_time": "2021-06-29T19:45:00.620Z"
   },
   {
    "duration": 361,
    "start_time": "2021-06-29T19:45:00.628Z"
   },
   {
    "duration": 373,
    "start_time": "2021-06-29T19:45:00.990Z"
   },
   {
    "duration": 447,
    "start_time": "2021-06-29T19:45:01.365Z"
   },
   {
    "duration": 360,
    "start_time": "2021-06-29T19:45:01.816Z"
   },
   {
    "duration": 1001,
    "start_time": "2021-06-30T09:14:42.524Z"
   },
   {
    "duration": 34,
    "start_time": "2021-06-30T09:14:43.527Z"
   },
   {
    "duration": 21,
    "start_time": "2021-06-30T09:14:43.564Z"
   },
   {
    "duration": 72,
    "start_time": "2021-06-30T09:14:43.588Z"
   },
   {
    "duration": 10,
    "start_time": "2021-06-30T09:14:43.662Z"
   },
   {
    "duration": 6,
    "start_time": "2021-06-30T09:14:43.675Z"
   },
   {
    "duration": 16,
    "start_time": "2021-06-30T09:14:43.683Z"
   },
   {
    "duration": 5,
    "start_time": "2021-06-30T09:14:43.703Z"
   },
   {
    "duration": 47,
    "start_time": "2021-06-30T09:14:43.711Z"
   },
   {
    "duration": 7,
    "start_time": "2021-06-30T09:14:43.760Z"
   },
   {
    "duration": 6,
    "start_time": "2021-06-30T09:14:43.769Z"
   },
   {
    "duration": 16,
    "start_time": "2021-06-30T09:14:43.777Z"
   },
   {
    "duration": 6,
    "start_time": "2021-06-30T09:14:43.796Z"
   },
   {
    "duration": 17,
    "start_time": "2021-06-30T09:14:43.804Z"
   },
   {
    "duration": 23,
    "start_time": "2021-06-30T09:14:43.856Z"
   },
   {
    "duration": 167,
    "start_time": "2021-06-30T09:14:43.881Z"
   },
   {
    "duration": 55,
    "start_time": "2021-06-30T09:14:44.051Z"
   },
   {
    "duration": 51,
    "start_time": "2021-06-30T09:14:44.108Z"
   },
   {
    "duration": 16,
    "start_time": "2021-06-30T09:14:44.162Z"
   },
   {
    "duration": 9,
    "start_time": "2021-06-30T09:14:44.181Z"
   },
   {
    "duration": 12,
    "start_time": "2021-06-30T09:14:44.192Z"
   },
   {
    "duration": 48,
    "start_time": "2021-06-30T09:14:44.207Z"
   },
   {
    "duration": 12,
    "start_time": "2021-06-30T09:14:44.261Z"
   },
   {
    "duration": 82,
    "start_time": "2021-06-30T09:14:44.276Z"
   },
   {
    "duration": 191,
    "start_time": "2021-06-30T09:14:44.360Z"
   },
   {
    "duration": 8360,
    "start_time": "2021-06-30T09:14:44.553Z"
   },
   {
    "duration": 12,
    "start_time": "2021-06-30T09:14:52.916Z"
   },
   {
    "duration": 27,
    "start_time": "2021-06-30T09:14:52.930Z"
   },
   {
    "duration": 8,
    "start_time": "2021-06-30T09:14:52.959Z"
   },
   {
    "duration": 15,
    "start_time": "2021-06-30T09:14:52.969Z"
   },
   {
    "duration": 437,
    "start_time": "2021-06-30T09:14:52.987Z"
   },
   {
    "duration": 347,
    "start_time": "2021-06-30T09:14:53.427Z"
   },
   {
    "duration": 578,
    "start_time": "2021-06-30T09:14:53.777Z"
   },
   {
    "duration": 297,
    "start_time": "2021-06-30T09:14:54.358Z"
   },
   {
    "duration": 284,
    "start_time": "2021-06-30T09:14:54.658Z"
   },
   {
    "duration": 32,
    "start_time": "2021-06-30T09:14:54.945Z"
   },
   {
    "duration": 31,
    "start_time": "2021-06-30T09:14:54.979Z"
   },
   {
    "duration": 421,
    "start_time": "2021-06-30T09:14:55.012Z"
   },
   {
    "duration": 328,
    "start_time": "2021-06-30T09:14:55.436Z"
   },
   {
    "duration": 554,
    "start_time": "2021-06-30T09:14:55.766Z"
   },
   {
    "duration": 397,
    "start_time": "2021-06-30T09:14:56.323Z"
   },
   {
    "duration": 348,
    "start_time": "2021-06-30T09:14:56.723Z"
   },
   {
    "duration": 522,
    "start_time": "2021-06-30T09:14:57.073Z"
   },
   {
    "duration": 11,
    "start_time": "2021-06-30T09:14:57.597Z"
   },
   {
    "duration": 85,
    "start_time": "2021-06-30T09:14:57.611Z"
   },
   {
    "duration": 19,
    "start_time": "2021-06-30T09:14:57.699Z"
   },
   {
    "duration": 49,
    "start_time": "2021-06-30T09:14:57.720Z"
   },
   {
    "duration": 31,
    "start_time": "2021-06-30T09:14:57.771Z"
   },
   {
    "duration": 55,
    "start_time": "2021-06-30T09:14:57.804Z"
   },
   {
    "duration": 10,
    "start_time": "2021-06-30T09:14:57.861Z"
   },
   {
    "duration": 348,
    "start_time": "2021-06-30T09:14:57.873Z"
   },
   {
    "duration": 361,
    "start_time": "2021-06-30T09:14:58.224Z"
   },
   {
    "duration": 41,
    "start_time": "2021-06-30T09:14:58.588Z"
   },
   {
    "duration": 30,
    "start_time": "2021-06-30T09:14:58.633Z"
   },
   {
    "duration": 313,
    "start_time": "2021-06-30T09:14:58.666Z"
   },
   {
    "duration": 9,
    "start_time": "2021-06-30T09:14:58.981Z"
   },
   {
    "duration": 563,
    "start_time": "2021-06-30T09:14:58.992Z"
   },
   {
    "duration": 489,
    "start_time": "2021-06-30T09:14:59.558Z"
   },
   {
    "duration": 572,
    "start_time": "2021-06-30T09:15:00.049Z"
   },
   {
    "duration": 539,
    "start_time": "2021-06-30T09:15:00.623Z"
   },
   {
    "duration": 37,
    "start_time": "2021-06-30T09:15:01.165Z"
   },
   {
    "duration": 9,
    "start_time": "2021-06-30T09:15:01.204Z"
   },
   {
    "duration": 449,
    "start_time": "2021-06-30T09:15:01.215Z"
   },
   {
    "duration": 10,
    "start_time": "2021-06-30T09:15:01.666Z"
   },
   {
    "duration": 704,
    "start_time": "2021-06-30T09:15:01.678Z"
   },
   {
    "duration": 569,
    "start_time": "2021-06-30T09:15:02.384Z"
   },
   {
    "duration": 575,
    "start_time": "2021-06-30T09:15:02.956Z"
   },
   {
    "duration": 532,
    "start_time": "2021-06-30T09:15:03.538Z"
   },
   {
    "duration": 4,
    "start_time": "2021-06-30T09:30:25.565Z"
   },
   {
    "duration": 515,
    "start_time": "2021-06-30T09:30:26.187Z"
   },
   {
    "duration": 367,
    "start_time": "2021-07-04T10:25:59.411Z"
   },
   {
    "duration": 3,
    "start_time": "2021-07-04T10:35:02.357Z"
   },
   {
    "duration": 1214,
    "start_time": "2021-07-04T10:35:09.840Z"
   },
   {
    "duration": 1118,
    "start_time": "2021-07-04T10:40:32.930Z"
   },
   {
    "duration": 3,
    "start_time": "2021-07-04T10:41:06.228Z"
   },
   {
    "duration": 715,
    "start_time": "2021-07-04T10:41:07.544Z"
   },
   {
    "duration": 677,
    "start_time": "2021-07-04T10:43:54.294Z"
   },
   {
    "duration": 654,
    "start_time": "2021-07-04T10:47:18.623Z"
   },
   {
    "duration": 694,
    "start_time": "2021-07-04T10:48:41.656Z"
   },
   {
    "duration": 4,
    "start_time": "2021-07-04T10:53:58.830Z"
   },
   {
    "duration": 845,
    "start_time": "2021-07-04T10:53:59.686Z"
   },
   {
    "duration": 714,
    "start_time": "2021-07-04T10:54:11.790Z"
   },
   {
    "duration": 650,
    "start_time": "2021-07-04T10:56:14.541Z"
   },
   {
    "duration": 59,
    "start_time": "2021-07-04T10:58:01.529Z"
   },
   {
    "duration": 50,
    "start_time": "2021-07-04T10:58:09.969Z"
   },
   {
    "duration": 291,
    "start_time": "2021-07-04T11:04:57.262Z"
   },
   {
    "duration": 295,
    "start_time": "2021-07-04T11:05:17.866Z"
   },
   {
    "duration": 595,
    "start_time": "2021-07-04T11:05:52.786Z"
   },
   {
    "duration": 290,
    "start_time": "2021-07-04T11:07:13.287Z"
   },
   {
    "duration": 5,
    "start_time": "2021-07-04T11:07:20.815Z"
   },
   {
    "duration": 2377,
    "start_time": "2021-07-04T11:07:40.144Z"
   },
   {
    "duration": -501,
    "start_time": "2021-07-04T11:07:43.025Z"
   },
   {
    "duration": 50,
    "start_time": "2021-07-04T11:08:18.642Z"
   },
   {
    "duration": 46,
    "start_time": "2021-07-04T11:08:22.626Z"
   },
   {
    "duration": 8,
    "start_time": "2021-07-04T11:08:43.490Z"
   },
   {
    "duration": 7,
    "start_time": "2021-07-04T11:08:51.534Z"
   },
   {
    "duration": 31,
    "start_time": "2021-07-04T11:09:04.156Z"
   },
   {
    "duration": 9,
    "start_time": "2021-07-04T11:15:40.801Z"
   },
   {
    "duration": 29,
    "start_time": "2021-07-04T11:15:50.531Z"
   },
   {
    "duration": 40,
    "start_time": "2021-07-04T11:16:08.381Z"
   },
   {
    "duration": 27,
    "start_time": "2021-07-04T11:23:31.988Z"
   },
   {
    "duration": 31,
    "start_time": "2021-07-04T11:25:33.514Z"
   },
   {
    "duration": 26,
    "start_time": "2021-07-04T11:26:09.533Z"
   },
   {
    "duration": 29,
    "start_time": "2021-07-04T11:37:40.809Z"
   },
   {
    "duration": 372,
    "start_time": "2021-07-04T11:38:55.689Z"
   },
   {
    "duration": 4,
    "start_time": "2021-07-04T11:39:30.531Z"
   },
   {
    "duration": 54,
    "start_time": "2021-07-04T11:39:30.540Z"
   },
   {
    "duration": 28,
    "start_time": "2021-07-04T11:39:30.597Z"
   },
   {
    "duration": 57,
    "start_time": "2021-07-04T11:39:30.627Z"
   },
   {
    "duration": 301,
    "start_time": "2021-07-04T11:39:30.686Z"
   },
   {
    "duration": -102,
    "start_time": "2021-07-04T11:39:31.093Z"
   },
   {
    "duration": -136,
    "start_time": "2021-07-04T11:39:31.128Z"
   },
   {
    "duration": -156,
    "start_time": "2021-07-04T11:39:31.149Z"
   },
   {
    "duration": -173,
    "start_time": "2021-07-04T11:39:31.167Z"
   },
   {
    "duration": -189,
    "start_time": "2021-07-04T11:39:31.185Z"
   },
   {
    "duration": -205,
    "start_time": "2021-07-04T11:39:31.202Z"
   },
   {
    "duration": -217,
    "start_time": "2021-07-04T11:39:31.215Z"
   },
   {
    "duration": -257,
    "start_time": "2021-07-04T11:39:31.256Z"
   },
   {
    "duration": -263,
    "start_time": "2021-07-04T11:39:31.263Z"
   },
   {
    "duration": -275,
    "start_time": "2021-07-04T11:39:31.276Z"
   },
   {
    "duration": -288,
    "start_time": "2021-07-04T11:39:31.290Z"
   },
   {
    "duration": -294,
    "start_time": "2021-07-04T11:39:31.297Z"
   },
   {
    "duration": 349,
    "start_time": "2021-07-04T11:39:31.044Z"
   },
   {
    "duration": 313,
    "start_time": "2021-07-04T11:41:40.941Z"
   },
   {
    "duration": 358,
    "start_time": "2021-07-04T11:42:08.596Z"
   },
   {
    "duration": 96,
    "start_time": "2021-07-04T11:43:02.460Z"
   },
   {
    "duration": 48,
    "start_time": "2021-07-04T11:43:17.299Z"
   },
   {
    "duration": 53,
    "start_time": "2021-07-04T11:44:31.641Z"
   },
   {
    "duration": 25,
    "start_time": "2021-07-04T11:44:59.395Z"
   },
   {
    "duration": 326,
    "start_time": "2021-07-04T11:45:16.145Z"
   },
   {
    "duration": 479,
    "start_time": "2021-07-04T11:45:16.485Z"
   },
   {
    "duration": 48,
    "start_time": "2021-07-04T11:46:41.063Z"
   },
   {
    "duration": 314,
    "start_time": "2021-07-04T11:50:13.072Z"
   },
   {
    "duration": 371,
    "start_time": "2021-07-04T11:52:51.501Z"
   },
   {
    "duration": 724,
    "start_time": "2021-07-04T11:53:13.950Z"
   },
   {
    "duration": 385,
    "start_time": "2021-07-04T11:53:34.204Z"
   },
   {
    "duration": 375,
    "start_time": "2021-07-04T11:53:47.743Z"
   },
   {
    "duration": 305,
    "start_time": "2021-07-04T11:54:42.253Z"
   },
   {
    "duration": 340,
    "start_time": "2021-07-04T11:55:18.573Z"
   },
   {
    "duration": 35,
    "start_time": "2021-07-04T11:55:26.732Z"
   },
   {
    "duration": 62,
    "start_time": "2021-07-04T11:57:00.193Z"
   },
   {
    "duration": 58,
    "start_time": "2021-07-04T12:02:13.046Z"
   },
   {
    "duration": 49,
    "start_time": "2021-07-04T12:03:24.371Z"
   },
   {
    "duration": 7,
    "start_time": "2021-07-04T12:04:43.053Z"
   },
   {
    "duration": 309,
    "start_time": "2021-07-04T12:04:46.103Z"
   },
   {
    "duration": 6,
    "start_time": "2021-07-04T12:04:55.225Z"
   },
   {
    "duration": 8,
    "start_time": "2021-07-04T12:05:15.844Z"
   },
   {
    "duration": 323,
    "start_time": "2021-07-04T12:05:39.416Z"
   },
   {
    "duration": 143,
    "start_time": "2021-07-04T12:06:48.651Z"
   },
   {
    "duration": 71,
    "start_time": "2021-07-04T12:09:42.474Z"
   },
   {
    "duration": 48,
    "start_time": "2021-07-04T12:10:16.246Z"
   },
   {
    "duration": 49,
    "start_time": "2021-07-04T12:14:40.632Z"
   },
   {
    "duration": 64,
    "start_time": "2021-07-04T12:14:57.624Z"
   },
   {
    "duration": 39,
    "start_time": "2021-07-04T12:15:25.001Z"
   },
   {
    "duration": 40,
    "start_time": "2021-07-04T12:15:57.654Z"
   },
   {
    "duration": 3,
    "start_time": "2021-07-04T12:16:23.959Z"
   },
   {
    "duration": 48,
    "start_time": "2021-07-04T12:16:53.605Z"
   },
   {
    "duration": 495,
    "start_time": "2021-07-04T12:16:59.402Z"
   },
   {
    "duration": 509,
    "start_time": "2021-07-04T12:17:46.670Z"
   },
   {
    "duration": 4219,
    "start_time": "2021-07-04T12:18:44.500Z"
   },
   {
    "duration": 4947,
    "start_time": "2021-07-04T12:20:10.469Z"
   },
   {
    "duration": 153,
    "start_time": "2021-07-04T12:20:56.722Z"
   },
   {
    "duration": 137,
    "start_time": "2021-07-04T12:21:33.130Z"
   },
   {
    "duration": 392,
    "start_time": "2021-07-04T12:21:47.316Z"
   },
   {
    "duration": 374,
    "start_time": "2021-07-04T12:22:07.719Z"
   },
   {
    "duration": 7,
    "start_time": "2021-07-04T12:23:26.517Z"
   },
   {
    "duration": 8,
    "start_time": "2021-07-04T12:23:33.130Z"
   },
   {
    "duration": 51,
    "start_time": "2021-07-04T12:23:43.877Z"
   },
   {
    "duration": 68,
    "start_time": "2021-07-04T12:23:51.035Z"
   },
   {
    "duration": 87,
    "start_time": "2021-07-04T12:23:55.099Z"
   },
   {
    "duration": 107,
    "start_time": "2021-07-04T12:24:00.573Z"
   },
   {
    "duration": 94,
    "start_time": "2021-07-04T12:24:10.524Z"
   },
   {
    "duration": 680,
    "start_time": "2021-07-04T12:24:15.020Z"
   },
   {
    "duration": 7808,
    "start_time": "2021-07-04T12:25:44.645Z"
   },
   {
    "duration": 2121,
    "start_time": "2021-07-04T12:26:45.311Z"
   },
   {
    "duration": 12663,
    "start_time": "2021-07-04T12:26:59.068Z"
   },
   {
    "duration": 17212,
    "start_time": "2021-07-04T12:29:45.138Z"
   },
   {
    "duration": 13680,
    "start_time": "2021-07-04T12:30:48.642Z"
   },
   {
    "duration": 13484,
    "start_time": "2021-07-04T12:31:28.664Z"
   },
   {
    "duration": 12378,
    "start_time": "2021-07-04T12:32:08.594Z"
   },
   {
    "duration": 14751,
    "start_time": "2021-07-04T12:32:44.863Z"
   },
   {
    "duration": 11841,
    "start_time": "2021-07-04T12:33:21.002Z"
   },
   {
    "duration": 11663,
    "start_time": "2021-07-04T12:33:37.460Z"
   },
   {
    "duration": 4,
    "start_time": "2021-07-04T12:40:31.618Z"
   },
   {
    "duration": 13471,
    "start_time": "2021-07-04T14:05:49.607Z"
   },
   {
    "duration": 12828,
    "start_time": "2021-07-04T14:06:03.081Z"
   },
   {
    "duration": 12096,
    "start_time": "2021-07-04T14:06:16.571Z"
   },
   {
    "duration": 3210,
    "start_time": "2021-07-04T14:21:01.416Z"
   },
   {
    "duration": 432,
    "start_time": "2021-07-04T15:12:31.975Z"
   },
   {
    "duration": 156,
    "start_time": "2021-07-04T15:14:26.274Z"
   },
   {
    "duration": 8190,
    "start_time": "2021-07-04T15:15:29.746Z"
   },
   {
    "duration": 12959,
    "start_time": "2021-07-04T15:15:58.654Z"
   },
   {
    "duration": 13176,
    "start_time": "2021-07-04T15:16:11.616Z"
   },
   {
    "duration": 8,
    "start_time": "2021-07-04T15:16:57.796Z"
   },
   {
    "duration": 323,
    "start_time": "2021-07-04T15:20:04.918Z"
   },
   {
    "duration": 419,
    "start_time": "2021-07-04T15:20:55.974Z"
   },
   {
    "duration": 402,
    "start_time": "2021-07-04T18:16:31.600Z"
   },
   {
    "duration": 1444,
    "start_time": "2021-07-04T18:16:51.887Z"
   },
   {
    "duration": 531,
    "start_time": "2021-07-04T18:16:53.335Z"
   },
   {
    "duration": 82,
    "start_time": "2021-07-04T18:16:53.870Z"
   },
   {
    "duration": 392,
    "start_time": "2021-07-04T18:16:53.954Z"
   },
   {
    "duration": 25,
    "start_time": "2021-07-04T18:16:54.325Z"
   },
   {
    "duration": 17,
    "start_time": "2021-07-04T18:16:54.334Z"
   },
   {
    "duration": 10,
    "start_time": "2021-07-04T18:16:54.342Z"
   },
   {
    "duration": 2,
    "start_time": "2021-07-04T18:16:54.351Z"
   },
   {
    "duration": -5,
    "start_time": "2021-07-04T18:16:54.359Z"
   },
   {
    "duration": -26,
    "start_time": "2021-07-04T18:16:54.382Z"
   },
   {
    "duration": -75,
    "start_time": "2021-07-04T18:16:54.432Z"
   },
   {
    "duration": -96,
    "start_time": "2021-07-04T18:16:54.454Z"
   },
   {
    "duration": -194,
    "start_time": "2021-07-04T18:16:54.553Z"
   },
   {
    "duration": -232,
    "start_time": "2021-07-04T18:16:54.592Z"
   },
   {
    "duration": -264,
    "start_time": "2021-07-04T18:16:54.625Z"
   },
   {
    "duration": -331,
    "start_time": "2021-07-04T18:16:54.694Z"
   },
   {
    "duration": -359,
    "start_time": "2021-07-04T18:16:54.724Z"
   },
   {
    "duration": -374,
    "start_time": "2021-07-04T18:16:54.740Z"
   },
   {
    "duration": -383,
    "start_time": "2021-07-04T18:16:54.751Z"
   },
   {
    "duration": -400,
    "start_time": "2021-07-04T18:16:54.769Z"
   },
   {
    "duration": -413,
    "start_time": "2021-07-04T18:16:54.783Z"
   },
   {
    "duration": -420,
    "start_time": "2021-07-04T18:16:54.792Z"
   },
   {
    "duration": -429,
    "start_time": "2021-07-04T18:16:54.802Z"
   },
   {
    "duration": -436,
    "start_time": "2021-07-04T18:16:54.810Z"
   },
   {
    "duration": 284,
    "start_time": "2021-07-04T18:18:09.097Z"
   },
   {
    "duration": 59,
    "start_time": "2021-07-04T18:18:45.818Z"
   },
   {
    "duration": 296,
    "start_time": "2021-07-04T18:18:53.221Z"
   },
   {
    "duration": 43,
    "start_time": "2021-07-04T18:18:53.479Z"
   },
   {
    "duration": 30,
    "start_time": "2021-07-04T18:18:53.493Z"
   },
   {
    "duration": 20,
    "start_time": "2021-07-04T18:18:53.504Z"
   },
   {
    "duration": -7,
    "start_time": "2021-07-04T18:18:53.533Z"
   },
   {
    "duration": -17,
    "start_time": "2021-07-04T18:18:53.544Z"
   },
   {
    "duration": -156,
    "start_time": "2021-07-04T18:18:53.685Z"
   },
   {
    "duration": -203,
    "start_time": "2021-07-04T18:18:53.733Z"
   },
   {
    "duration": -221,
    "start_time": "2021-07-04T18:18:53.752Z"
   },
   {
    "duration": -236,
    "start_time": "2021-07-04T18:18:53.769Z"
   },
   {
    "duration": -252,
    "start_time": "2021-07-04T18:18:53.786Z"
   },
   {
    "duration": -269,
    "start_time": "2021-07-04T18:18:53.807Z"
   },
   {
    "duration": -303,
    "start_time": "2021-07-04T18:18:53.843Z"
   },
   {
    "duration": -354,
    "start_time": "2021-07-04T18:18:53.895Z"
   },
   {
    "duration": -401,
    "start_time": "2021-07-04T18:18:53.944Z"
   },
   {
    "duration": -436,
    "start_time": "2021-07-04T18:18:53.981Z"
   },
   {
    "duration": -447,
    "start_time": "2021-07-04T18:18:53.993Z"
   },
   {
    "duration": -454,
    "start_time": "2021-07-04T18:18:54.002Z"
   },
   {
    "duration": -494,
    "start_time": "2021-07-04T18:18:54.043Z"
   },
   {
    "duration": -543,
    "start_time": "2021-07-04T18:18:54.094Z"
   },
   {
    "duration": 65,
    "start_time": "2021-07-04T18:19:18.369Z"
   },
   {
    "duration": 11,
    "start_time": "2021-07-04T18:19:25.401Z"
   },
   {
    "duration": 27,
    "start_time": "2021-07-04T18:19:25.415Z"
   },
   {
    "duration": 9,
    "start_time": "2021-07-04T18:19:25.446Z"
   },
   {
    "duration": 202,
    "start_time": "2021-07-04T18:19:25.458Z"
   },
   {
    "duration": 88,
    "start_time": "2021-07-04T18:19:25.663Z"
   },
   {
    "duration": 283,
    "start_time": "2021-07-04T18:19:25.754Z"
   },
   {
    "duration": -60,
    "start_time": "2021-07-04T18:19:26.100Z"
   },
   {
    "duration": -92,
    "start_time": "2021-07-04T18:19:26.134Z"
   },
   {
    "duration": -125,
    "start_time": "2021-07-04T18:19:26.168Z"
   },
   {
    "duration": -188,
    "start_time": "2021-07-04T18:19:26.234Z"
   },
   {
    "duration": -234,
    "start_time": "2021-07-04T18:19:26.281Z"
   },
   {
    "duration": -256,
    "start_time": "2021-07-04T18:19:26.305Z"
   },
   {
    "duration": -276,
    "start_time": "2021-07-04T18:19:26.326Z"
   },
   {
    "duration": -299,
    "start_time": "2021-07-04T18:19:26.351Z"
   },
   {
    "duration": -337,
    "start_time": "2021-07-04T18:19:26.390Z"
   },
   {
    "duration": -358,
    "start_time": "2021-07-04T18:19:26.413Z"
   },
   {
    "duration": -366,
    "start_time": "2021-07-04T18:19:26.422Z"
   },
   {
    "duration": -380,
    "start_time": "2021-07-04T18:19:26.437Z"
   },
   {
    "duration": -398,
    "start_time": "2021-07-04T18:19:26.456Z"
   },
   {
    "duration": 67,
    "start_time": "2021-07-04T18:19:46.587Z"
   },
   {
    "duration": 65,
    "start_time": "2021-07-04T18:19:56.013Z"
   },
   {
    "duration": 85,
    "start_time": "2021-07-04T18:19:56.081Z"
   },
   {
    "duration": 66,
    "start_time": "2021-07-04T18:19:56.170Z"
   },
   {
    "duration": 41,
    "start_time": "2021-07-04T18:19:56.239Z"
   },
   {
    "duration": 59,
    "start_time": "2021-07-04T18:19:56.282Z"
   },
   {
    "duration": 3986,
    "start_time": "2021-07-04T18:19:56.344Z"
   },
   {
    "duration": 316,
    "start_time": "2021-07-04T18:20:00.332Z"
   },
   {
    "duration": 12304,
    "start_time": "2021-07-04T18:20:00.652Z"
   },
   {
    "duration": 13078,
    "start_time": "2021-07-04T18:20:12.960Z"
   },
   {
    "duration": 341,
    "start_time": "2021-07-04T18:20:26.042Z"
   },
   {
    "duration": 331,
    "start_time": "2021-07-04T18:20:26.387Z"
   },
   {
    "duration": 11,
    "start_time": "2021-07-04T18:20:26.721Z"
   },
   {
    "duration": 556,
    "start_time": "2021-07-04T18:20:26.735Z"
   },
   {
    "duration": 41,
    "start_time": "2021-07-04T18:21:07.877Z"
   },
   {
    "duration": 524,
    "start_time": "2021-07-04T18:42:37.820Z"
   },
   {
    "duration": 491,
    "start_time": "2021-07-04T18:45:17.411Z"
   },
   {
    "duration": 88,
    "start_time": "2021-07-04T18:46:24.363Z"
   },
   {
    "duration": 831,
    "start_time": "2021-07-04T18:47:08.793Z"
   },
   {
    "duration": 474,
    "start_time": "2021-07-04T18:49:28.630Z"
   },
   {
    "duration": 99,
    "start_time": "2021-07-04T18:51:27.375Z"
   },
   {
    "duration": 105,
    "start_time": "2021-07-04T18:51:51.131Z"
   },
   {
    "duration": 155,
    "start_time": "2021-07-04T18:52:12.393Z"
   },
   {
    "duration": 127,
    "start_time": "2021-07-04T18:53:49.422Z"
   },
   {
    "duration": 97,
    "start_time": "2021-07-04T18:54:30.831Z"
   },
   {
    "duration": 94,
    "start_time": "2021-07-04T18:54:43.585Z"
   },
   {
    "duration": 100,
    "start_time": "2021-07-04T18:54:58.134Z"
   },
   {
    "duration": 105,
    "start_time": "2021-07-04T18:55:17.011Z"
   },
   {
    "duration": 91,
    "start_time": "2021-07-04T18:55:24.201Z"
   },
   {
    "duration": 103,
    "start_time": "2021-07-04T18:56:44.827Z"
   },
   {
    "duration": 99,
    "start_time": "2021-07-04T18:56:54.375Z"
   },
   {
    "duration": 105,
    "start_time": "2021-07-04T18:57:27.531Z"
   },
   {
    "duration": 39,
    "start_time": "2021-07-04T18:57:49.571Z"
   },
   {
    "duration": 506,
    "start_time": "2021-07-04T18:59:16.224Z"
   },
   {
    "duration": 481,
    "start_time": "2021-07-04T19:00:05.018Z"
   },
   {
    "duration": 282,
    "start_time": "2021-07-04T19:02:09.175Z"
   },
   {
    "duration": 35,
    "start_time": "2021-07-04T19:02:18.780Z"
   },
   {
    "duration": 491,
    "start_time": "2021-07-04T19:03:06.037Z"
   },
   {
    "duration": 8,
    "start_time": "2021-07-04T19:04:44.682Z"
   },
   {
    "duration": 537,
    "start_time": "2021-07-04T19:04:59.209Z"
   },
   {
    "duration": 776,
    "start_time": "2021-07-04T19:06:10.234Z"
   },
   {
    "duration": 16888,
    "start_time": "2021-07-04T19:10:38.593Z"
   },
   {
    "duration": 7025,
    "start_time": "2021-07-04T19:11:08.388Z"
   },
   {
    "duration": 7283,
    "start_time": "2021-07-04T19:11:27.649Z"
   },
   {
    "duration": 544,
    "start_time": "2021-07-04T19:45:16.688Z"
   },
   {
    "duration": 7113,
    "start_time": "2021-07-04T19:45:40.189Z"
   },
   {
    "duration": 506,
    "start_time": "2021-07-04T19:47:14.891Z"
   },
   {
    "duration": 520,
    "start_time": "2021-07-04T19:47:57.624Z"
   },
   {
    "duration": 9689,
    "start_time": "2021-07-04T19:48:33.669Z"
   },
   {
    "duration": 6086,
    "start_time": "2021-07-04T19:49:13.437Z"
   },
   {
    "duration": 10761,
    "start_time": "2021-07-04T19:51:15.070Z"
   },
   {
    "duration": 11513,
    "start_time": "2021-07-04T19:51:30.316Z"
   },
   {
    "duration": 499,
    "start_time": "2021-07-04T19:53:28.113Z"
   },
   {
    "duration": 549,
    "start_time": "2021-07-04T19:53:55.112Z"
   },
   {
    "duration": 115,
    "start_time": "2021-07-04T19:54:27.121Z"
   },
   {
    "duration": 105,
    "start_time": "2021-07-04T19:54:32.576Z"
   },
   {
    "duration": 94,
    "start_time": "2021-07-04T19:55:11.142Z"
   },
   {
    "duration": 488,
    "start_time": "2021-07-04T19:55:24.175Z"
   },
   {
    "duration": 684,
    "start_time": "2021-07-04T19:56:39.487Z"
   },
   {
    "duration": 6969,
    "start_time": "2021-07-04T19:57:18.835Z"
   },
   {
    "duration": 549,
    "start_time": "2021-07-04T19:57:51.391Z"
   },
   {
    "duration": 4977,
    "start_time": "2021-07-04T19:58:03.869Z"
   },
   {
    "duration": 6763,
    "start_time": "2021-07-04T19:58:59.709Z"
   },
   {
    "duration": 7199,
    "start_time": "2021-07-04T19:59:37.385Z"
   },
   {
    "duration": 529,
    "start_time": "2021-07-04T20:00:11.499Z"
   },
   {
    "duration": 510,
    "start_time": "2021-07-04T20:00:16.330Z"
   },
   {
    "duration": 4664,
    "start_time": "2021-07-04T20:01:50.470Z"
   },
   {
    "duration": 137,
    "start_time": "2021-07-04T20:02:50.386Z"
   },
   {
    "duration": 530,
    "start_time": "2021-07-04T20:03:40.371Z"
   },
   {
    "duration": 321,
    "start_time": "2021-07-04T20:04:45.220Z"
   },
   {
    "duration": 97,
    "start_time": "2021-07-04T20:05:23.835Z"
   },
   {
    "duration": 18445,
    "start_time": "2021-07-04T20:05:45.802Z"
   },
   {
    "duration": 6323,
    "start_time": "2021-07-04T20:06:05.296Z"
   },
   {
    "duration": 5819,
    "start_time": "2021-07-04T20:07:39.581Z"
   },
   {
    "duration": 6829,
    "start_time": "2021-07-04T20:08:10.792Z"
   },
   {
    "duration": 707,
    "start_time": "2021-07-04T20:09:38.735Z"
   },
   {
    "duration": 96,
    "start_time": "2021-07-04T20:10:30.232Z"
   },
   {
    "duration": 6490,
    "start_time": "2021-07-04T20:10:35.841Z"
   },
   {
    "duration": 508,
    "start_time": "2021-07-04T20:11:12.091Z"
   },
   {
    "duration": 5852,
    "start_time": "2021-07-04T20:11:44.930Z"
   },
   {
    "duration": 5316,
    "start_time": "2021-07-04T20:12:19.776Z"
   },
   {
    "duration": 55,
    "start_time": "2021-07-04T20:13:29.019Z"
   },
   {
    "duration": 29,
    "start_time": "2021-07-04T20:14:49.688Z"
   },
   {
    "duration": 33,
    "start_time": "2021-07-04T20:15:04.639Z"
   },
   {
    "duration": 6,
    "start_time": "2021-07-04T20:17:19.842Z"
   },
   {
    "duration": 6,
    "start_time": "2021-07-04T20:17:45.161Z"
   },
   {
    "duration": 5,
    "start_time": "2021-07-04T20:18:00.846Z"
   },
   {
    "duration": 8427,
    "start_time": "2021-07-04T20:21:09.255Z"
   },
   {
    "duration": 5958,
    "start_time": "2021-07-04T20:21:38.929Z"
   },
   {
    "duration": 519,
    "start_time": "2021-07-04T20:21:56.946Z"
   },
   {
    "duration": 4645,
    "start_time": "2021-07-04T20:22:02.782Z"
   },
   {
    "duration": 4670,
    "start_time": "2021-07-04T20:24:14.239Z"
   },
   {
    "duration": 4549,
    "start_time": "2021-07-04T20:27:21.028Z"
   },
   {
    "duration": 498,
    "start_time": "2021-07-04T20:27:44.025Z"
   },
   {
    "duration": 4518,
    "start_time": "2021-07-04T20:27:52.084Z"
   },
   {
    "duration": 457,
    "start_time": "2021-07-04T20:28:04.064Z"
   },
   {
    "duration": 4540,
    "start_time": "2021-07-04T20:28:09.509Z"
   },
   {
    "duration": 96,
    "start_time": "2021-07-04T20:28:47.792Z"
   },
   {
    "duration": 100,
    "start_time": "2021-07-04T20:28:52.785Z"
   },
   {
    "duration": 481,
    "start_time": "2021-07-04T20:28:56.385Z"
   },
   {
    "duration": 487,
    "start_time": "2021-07-04T20:29:10.389Z"
   },
   {
    "duration": 491,
    "start_time": "2021-07-04T20:31:03.671Z"
   },
   {
    "duration": 503,
    "start_time": "2021-07-04T20:31:21.124Z"
   },
   {
    "duration": 492,
    "start_time": "2021-07-04T20:33:34.999Z"
   },
   {
    "duration": 820,
    "start_time": "2021-07-04T20:34:25.462Z"
   },
   {
    "duration": 173,
    "start_time": "2021-07-04T20:34:41.224Z"
   },
   {
    "duration": 4397,
    "start_time": "2021-07-04T20:34:49.965Z"
   },
   {
    "duration": 3517,
    "start_time": "2021-07-04T20:37:32.960Z"
   },
   {
    "duration": 5,
    "start_time": "2021-07-04T20:37:55.602Z"
   },
   {
    "duration": 4491,
    "start_time": "2021-07-04T20:38:10.652Z"
   },
   {
    "duration": 4227,
    "start_time": "2021-07-04T20:39:01.392Z"
   },
   {
    "duration": 3102,
    "start_time": "2021-07-04T20:39:23.855Z"
   },
   {
    "duration": 3045,
    "start_time": "2021-07-04T20:39:33.586Z"
   },
   {
    "duration": 2992,
    "start_time": "2021-07-04T20:39:45.878Z"
   },
   {
    "duration": 3244,
    "start_time": "2021-07-04T20:40:04.168Z"
   },
   {
    "duration": 3053,
    "start_time": "2021-07-04T20:40:12.628Z"
   },
   {
    "duration": 3102,
    "start_time": "2021-07-04T20:40:23.481Z"
   },
   {
    "duration": 21,
    "start_time": "2021-07-04T20:41:47.974Z"
   },
   {
    "duration": 8,
    "start_time": "2021-07-04T20:42:25.608Z"
   },
   {
    "duration": 22,
    "start_time": "2021-07-04T20:42:39.002Z"
   },
   {
    "duration": 7,
    "start_time": "2021-07-04T20:42:47.124Z"
   },
   {
    "duration": 7124,
    "start_time": "2021-07-04T20:43:57.053Z"
   },
   {
    "duration": 22,
    "start_time": "2021-07-04T20:45:01.104Z"
   },
   {
    "duration": 5,
    "start_time": "2021-07-04T20:45:44.151Z"
   },
   {
    "duration": 381,
    "start_time": "2021-07-04T20:45:44.163Z"
   },
   {
    "duration": 49,
    "start_time": "2021-07-04T20:45:44.547Z"
   },
   {
    "duration": 56,
    "start_time": "2021-07-04T20:45:44.600Z"
   },
   {
    "duration": 87,
    "start_time": "2021-07-04T20:45:44.658Z"
   },
   {
    "duration": 7,
    "start_time": "2021-07-04T20:45:44.748Z"
   },
   {
    "duration": 19,
    "start_time": "2021-07-04T20:45:44.758Z"
   },
   {
    "duration": 23,
    "start_time": "2021-07-04T20:45:44.780Z"
   },
   {
    "duration": 156,
    "start_time": "2021-07-04T20:45:44.807Z"
   },
   {
    "duration": 83,
    "start_time": "2021-07-04T20:45:44.966Z"
   },
   {
    "duration": 56,
    "start_time": "2021-07-04T20:45:45.051Z"
   },
   {
    "duration": 51,
    "start_time": "2021-07-04T20:45:45.109Z"
   },
   {
    "duration": 91,
    "start_time": "2021-07-04T20:45:45.163Z"
   },
   {
    "duration": 58,
    "start_time": "2021-07-04T20:45:45.257Z"
   },
   {
    "duration": 58,
    "start_time": "2021-07-04T20:45:45.318Z"
   },
   {
    "duration": 36,
    "start_time": "2021-07-04T20:45:45.378Z"
   },
   {
    "duration": 3105,
    "start_time": "2021-07-04T20:45:45.416Z"
   },
   {
    "duration": 141,
    "start_time": "2021-07-04T20:45:48.523Z"
   },
   {
    "duration": 13096,
    "start_time": "2021-07-04T20:45:48.667Z"
   },
   {
    "duration": 13207,
    "start_time": "2021-07-04T20:46:01.766Z"
   },
   {
    "duration": 378,
    "start_time": "2021-07-04T20:46:14.976Z"
   },
   {
    "duration": 304,
    "start_time": "2021-07-04T20:46:15.357Z"
   },
   {
    "duration": 7,
    "start_time": "2021-07-04T20:46:15.663Z"
   },
   {
    "duration": 3076,
    "start_time": "2021-07-04T20:46:15.674Z"
   },
   {
    "duration": 29,
    "start_time": "2021-07-04T20:46:18.752Z"
   },
   {
    "duration": 287,
    "start_time": "2021-07-04T20:46:18.801Z"
   },
   {
    "duration": 345,
    "start_time": "2021-07-04T20:46:19.091Z"
   },
   {
    "duration": 307,
    "start_time": "2021-07-04T20:46:48.493Z"
   },
   {
    "duration": 8,
    "start_time": "2021-07-04T20:47:15.247Z"
   },
   {
    "duration": 6,
    "start_time": "2021-07-04T20:47:38.957Z"
   },
   {
    "duration": 306,
    "start_time": "2021-07-04T21:31:06.656Z"
   },
   {
    "duration": 285,
    "start_time": "2021-07-04T21:31:35.412Z"
   },
   {
    "duration": 325,
    "start_time": "2021-07-04T21:32:06.161Z"
   },
   {
    "duration": 336,
    "start_time": "2021-07-05T07:11:53.319Z"
   },
   {
    "duration": 1372,
    "start_time": "2021-07-05T07:11:58.484Z"
   },
   {
    "duration": 403,
    "start_time": "2021-07-05T07:11:59.859Z"
   },
   {
    "duration": 68,
    "start_time": "2021-07-05T07:12:00.265Z"
   },
   {
    "duration": 99,
    "start_time": "2021-07-05T07:12:00.337Z"
   },
   {
    "duration": 75,
    "start_time": "2021-07-05T07:12:00.439Z"
   },
   {
    "duration": 9,
    "start_time": "2021-07-05T07:12:00.518Z"
   },
   {
    "duration": 20,
    "start_time": "2021-07-05T07:12:00.530Z"
   },
   {
    "duration": 22,
    "start_time": "2021-07-05T07:12:00.553Z"
   },
   {
    "duration": 178,
    "start_time": "2021-07-05T07:12:00.578Z"
   },
   {
    "duration": 84,
    "start_time": "2021-07-05T07:12:00.759Z"
   },
   {
    "duration": 56,
    "start_time": "2021-07-05T07:12:00.845Z"
   },
   {
    "duration": 56,
    "start_time": "2021-07-05T07:12:00.904Z"
   },
   {
    "duration": 104,
    "start_time": "2021-07-05T07:12:00.963Z"
   },
   {
    "duration": 56,
    "start_time": "2021-07-05T07:12:01.069Z"
   },
   {
    "duration": 38,
    "start_time": "2021-07-05T07:12:01.127Z"
   },
   {
    "duration": 61,
    "start_time": "2021-07-05T07:12:01.168Z"
   },
   {
    "duration": 3381,
    "start_time": "2021-07-05T07:12:01.231Z"
   },
   {
    "duration": 163,
    "start_time": "2021-07-05T07:12:04.615Z"
   },
   {
    "duration": 12035,
    "start_time": "2021-07-05T07:12:04.781Z"
   },
   {
    "duration": 437,
    "start_time": "2021-07-05T07:12:16.819Z"
   },
   {
    "duration": -503,
    "start_time": "2021-07-05T07:12:17.763Z"
   },
   {
    "duration": -509,
    "start_time": "2021-07-05T07:12:17.771Z"
   },
   {
    "duration": -631,
    "start_time": "2021-07-05T07:12:17.894Z"
   },
   {
    "duration": -665,
    "start_time": "2021-07-05T07:12:17.930Z"
   },
   {
    "duration": -696,
    "start_time": "2021-07-05T07:12:17.962Z"
   },
   {
    "duration": -754,
    "start_time": "2021-07-05T07:12:18.022Z"
   },
   {
    "duration": -793,
    "start_time": "2021-07-05T07:12:18.062Z"
   },
   {
    "duration": -907,
    "start_time": "2021-07-05T07:12:18.178Z"
   },
   {
    "duration": -944,
    "start_time": "2021-07-05T07:12:18.216Z"
   },
   {
    "duration": 1427,
    "start_time": "2021-07-05T07:50:08.676Z"
   },
   {
    "duration": 1501,
    "start_time": "2021-07-05T07:50:48.019Z"
   },
   {
    "duration": 1502,
    "start_time": "2021-07-05T07:51:39.491Z"
   },
   {
    "duration": 4,
    "start_time": "2021-07-05T07:53:25.131Z"
   },
   {
    "duration": 447,
    "start_time": "2021-07-05T07:53:25.140Z"
   },
   {
    "duration": 67,
    "start_time": "2021-07-05T07:53:25.590Z"
   },
   {
    "duration": 94,
    "start_time": "2021-07-05T07:53:25.661Z"
   },
   {
    "duration": 81,
    "start_time": "2021-07-05T07:53:25.758Z"
   },
   {
    "duration": 7,
    "start_time": "2021-07-05T07:53:25.841Z"
   },
   {
    "duration": 13,
    "start_time": "2021-07-05T07:53:25.850Z"
   },
   {
    "duration": 37,
    "start_time": "2021-07-05T07:53:25.865Z"
   },
   {
    "duration": 182,
    "start_time": "2021-07-05T07:53:25.905Z"
   },
   {
    "duration": 87,
    "start_time": "2021-07-05T07:53:26.091Z"
   },
   {
    "duration": 64,
    "start_time": "2021-07-05T07:53:26.181Z"
   },
   {
    "duration": 72,
    "start_time": "2021-07-05T07:53:26.248Z"
   },
   {
    "duration": 94,
    "start_time": "2021-07-05T07:53:26.323Z"
   },
   {
    "duration": 40,
    "start_time": "2021-07-05T07:53:26.420Z"
   },
   {
    "duration": 67,
    "start_time": "2021-07-05T07:53:26.462Z"
   },
   {
    "duration": 32,
    "start_time": "2021-07-05T07:53:26.532Z"
   },
   {
    "duration": 3377,
    "start_time": "2021-07-05T07:53:26.567Z"
   },
   {
    "duration": 151,
    "start_time": "2021-07-05T07:53:29.947Z"
   },
   {
    "duration": 1916,
    "start_time": "2021-07-05T07:53:30.102Z"
   },
   {
    "duration": 518,
    "start_time": "2021-07-05T07:53:32.021Z"
   },
   {
    "duration": 318,
    "start_time": "2021-07-05T07:53:32.541Z"
   },
   {
    "duration": 6,
    "start_time": "2021-07-05T07:53:32.861Z"
   },
   {
    "duration": 4090,
    "start_time": "2021-07-05T07:53:32.870Z"
   },
   {
    "duration": 48,
    "start_time": "2021-07-05T07:53:36.962Z"
   },
   {
    "duration": 328,
    "start_time": "2021-07-05T07:53:37.013Z"
   },
   {
    "duration": 664,
    "start_time": "2021-07-05T07:53:37.344Z"
   },
   {
    "duration": 9,
    "start_time": "2021-07-05T07:53:38.010Z"
   },
   {
    "duration": 379,
    "start_time": "2021-07-05T09:46:20.996Z"
   },
   {
    "duration": 1427,
    "start_time": "2021-07-05T09:46:34.720Z"
   },
   {
    "duration": 459,
    "start_time": "2021-07-05T09:46:36.150Z"
   },
   {
    "duration": 75,
    "start_time": "2021-07-05T09:46:36.612Z"
   },
   {
    "duration": 62,
    "start_time": "2021-07-05T09:46:36.690Z"
   },
   {
    "duration": 78,
    "start_time": "2021-07-05T09:46:36.755Z"
   },
   {
    "duration": 7,
    "start_time": "2021-07-05T09:46:36.835Z"
   },
   {
    "duration": 17,
    "start_time": "2021-07-05T09:46:36.845Z"
   },
   {
    "duration": 26,
    "start_time": "2021-07-05T09:46:36.868Z"
   },
   {
    "duration": 196,
    "start_time": "2021-07-05T09:46:36.897Z"
   },
   {
    "duration": 76,
    "start_time": "2021-07-05T09:46:37.096Z"
   },
   {
    "duration": 49,
    "start_time": "2021-07-05T09:46:37.185Z"
   },
   {
    "duration": 72,
    "start_time": "2021-07-05T09:46:37.236Z"
   },
   {
    "duration": 83,
    "start_time": "2021-07-05T09:46:37.310Z"
   },
   {
    "duration": 43,
    "start_time": "2021-07-05T09:46:37.396Z"
   },
   {
    "duration": 65,
    "start_time": "2021-07-05T09:46:37.441Z"
   },
   {
    "duration": 33,
    "start_time": "2021-07-05T09:46:37.508Z"
   },
   {
    "duration": 388,
    "start_time": "2021-07-05T09:46:37.543Z"
   },
   {
    "duration": 508,
    "start_time": "2021-07-05T09:46:37.425Z"
   },
   {
    "duration": 503,
    "start_time": "2021-07-05T09:46:37.432Z"
   },
   {
    "duration": 484,
    "start_time": "2021-07-05T09:46:37.452Z"
   },
   {
    "duration": 439,
    "start_time": "2021-07-05T09:46:37.499Z"
   },
   {
    "duration": 426,
    "start_time": "2021-07-05T09:46:37.513Z"
   },
   {
    "duration": 402,
    "start_time": "2021-07-05T09:46:37.538Z"
   },
   {
    "duration": 391,
    "start_time": "2021-07-05T09:46:37.551Z"
   },
   {
    "duration": 7,
    "start_time": "2021-07-05T09:47:24.397Z"
   },
   {
    "duration": 6,
    "start_time": "2021-07-05T09:47:50.973Z"
   },
   {
    "duration": 6,
    "start_time": "2021-07-05T09:47:59.387Z"
   },
   {
    "duration": 317,
    "start_time": "2021-07-05T09:48:32.777Z"
   },
   {
    "duration": 6,
    "start_time": "2021-07-05T09:48:40.571Z"
   },
   {
    "duration": 5,
    "start_time": "2021-07-05T09:50:02.018Z"
   },
   {
    "duration": 360,
    "start_time": "2021-07-05T09:52:36.335Z"
   },
   {
    "duration": 14,
    "start_time": "2021-07-05T09:54:31.715Z"
   },
   {
    "duration": 332,
    "start_time": "2021-07-05T09:54:59.884Z"
   },
   {
    "duration": 9,
    "start_time": "2021-07-05T09:57:34.899Z"
   },
   {
    "duration": 5,
    "start_time": "2021-07-05T09:57:43.437Z"
   },
   {
    "duration": 5,
    "start_time": "2021-07-05T09:57:53.210Z"
   },
   {
    "duration": 27,
    "start_time": "2021-07-05T09:58:47.758Z"
   },
   {
    "duration": 320,
    "start_time": "2021-07-05T10:02:46.241Z"
   },
   {
    "duration": 6,
    "start_time": "2021-07-05T10:02:52.631Z"
   },
   {
    "duration": 97,
    "start_time": "2021-07-05T10:03:30.735Z"
   },
   {
    "duration": 15,
    "start_time": "2021-07-05T10:03:36.102Z"
   },
   {
    "duration": 19,
    "start_time": "2021-07-05T10:04:45.618Z"
   },
   {
    "duration": 10451,
    "start_time": "2021-07-05T10:07:02.041Z"
   },
   {
    "duration": 9623,
    "start_time": "2021-07-05T10:07:44.845Z"
   },
   {
    "duration": 9551,
    "start_time": "2021-07-05T10:08:41.068Z"
   },
   {
    "duration": 153,
    "start_time": "2021-07-05T10:09:19.047Z"
   },
   {
    "duration": 7,
    "start_time": "2021-07-05T10:12:21.648Z"
   },
   {
    "duration": 23,
    "start_time": "2021-07-05T10:13:02.617Z"
   },
   {
    "duration": 15,
    "start_time": "2021-07-05T10:13:13.696Z"
   },
   {
    "duration": 7,
    "start_time": "2021-07-05T10:13:19.603Z"
   },
   {
    "duration": 7,
    "start_time": "2021-07-05T10:14:04.083Z"
   },
   {
    "duration": 10,
    "start_time": "2021-07-05T10:14:25.177Z"
   },
   {
    "duration": 7,
    "start_time": "2021-07-05T10:15:02.363Z"
   },
   {
    "duration": 8,
    "start_time": "2021-07-05T10:15:09.631Z"
   },
   {
    "duration": 10,
    "start_time": "2021-07-05T10:15:26.692Z"
   },
   {
    "duration": 11,
    "start_time": "2021-07-05T10:17:04.889Z"
   },
   {
    "duration": 312,
    "start_time": "2021-07-05T10:17:46.926Z"
   },
   {
    "duration": 109,
    "start_time": "2021-07-05T10:18:12.161Z"
   },
   {
    "duration": 17,
    "start_time": "2021-07-05T10:18:52.794Z"
   },
   {
    "duration": 10,
    "start_time": "2021-07-05T10:20:38.446Z"
   },
   {
    "duration": 9,
    "start_time": "2021-07-05T10:26:12.753Z"
   },
   {
    "duration": 10,
    "start_time": "2021-07-05T10:26:26.675Z"
   },
   {
    "duration": 133,
    "start_time": "2021-07-05T10:38:32.652Z"
   },
   {
    "duration": 4,
    "start_time": "2021-07-05T10:40:36.571Z"
   },
   {
    "duration": 433,
    "start_time": "2021-07-05T10:40:36.581Z"
   },
   {
    "duration": 81,
    "start_time": "2021-07-05T10:40:37.017Z"
   },
   {
    "duration": 56,
    "start_time": "2021-07-05T10:40:37.102Z"
   },
   {
    "duration": 52,
    "start_time": "2021-07-05T10:40:37.186Z"
   },
   {
    "duration": 7,
    "start_time": "2021-07-05T10:40:37.241Z"
   },
   {
    "duration": 36,
    "start_time": "2021-07-05T10:40:37.251Z"
   },
   {
    "duration": 22,
    "start_time": "2021-07-05T10:40:37.290Z"
   },
   {
    "duration": 193,
    "start_time": "2021-07-05T10:40:37.316Z"
   },
   {
    "duration": 86,
    "start_time": "2021-07-05T10:40:37.512Z"
   },
   {
    "duration": 44,
    "start_time": "2021-07-05T10:40:37.601Z"
   },
   {
    "duration": 74,
    "start_time": "2021-07-05T10:40:37.648Z"
   },
   {
    "duration": 86,
    "start_time": "2021-07-05T10:40:37.725Z"
   },
   {
    "duration": 42,
    "start_time": "2021-07-05T10:40:37.815Z"
   },
   {
    "duration": 56,
    "start_time": "2021-07-05T10:40:37.860Z"
   },
   {
    "duration": 32,
    "start_time": "2021-07-05T10:40:37.918Z"
   },
   {
    "duration": 34,
    "start_time": "2021-07-05T10:40:37.953Z"
   },
   {
    "duration": 3410,
    "start_time": "2021-07-05T10:40:37.990Z"
   },
   {
    "duration": 150,
    "start_time": "2021-07-05T10:40:41.403Z"
   },
   {
    "duration": 767,
    "start_time": "2021-07-05T10:40:41.556Z"
   },
   {
    "duration": -687,
    "start_time": "2021-07-05T10:40:43.012Z"
   },
   {
    "duration": -701,
    "start_time": "2021-07-05T10:40:43.028Z"
   },
   {
    "duration": -705,
    "start_time": "2021-07-05T10:40:43.033Z"
   },
   {
    "duration": -713,
    "start_time": "2021-07-05T10:40:43.043Z"
   },
   {
    "duration": 321,
    "start_time": "2021-07-05T10:42:25.282Z"
   },
   {
    "duration": 1395,
    "start_time": "2021-07-05T10:42:41.247Z"
   },
   {
    "duration": 5,
    "start_time": "2021-07-05T10:43:38.072Z"
   },
   {
    "duration": 421,
    "start_time": "2021-07-05T10:43:38.080Z"
   },
   {
    "duration": 62,
    "start_time": "2021-07-05T10:43:38.503Z"
   },
   {
    "duration": 58,
    "start_time": "2021-07-05T10:43:38.587Z"
   },
   {
    "duration": 76,
    "start_time": "2021-07-05T10:43:38.648Z"
   },
   {
    "duration": 7,
    "start_time": "2021-07-05T10:43:38.726Z"
   },
   {
    "duration": 17,
    "start_time": "2021-07-05T10:43:38.737Z"
   },
   {
    "duration": 30,
    "start_time": "2021-07-05T10:43:38.757Z"
   },
   {
    "duration": 184,
    "start_time": "2021-07-05T10:43:38.790Z"
   },
   {
    "duration": 74,
    "start_time": "2021-07-05T10:43:38.985Z"
   },
   {
    "duration": 57,
    "start_time": "2021-07-05T10:43:39.062Z"
   },
   {
    "duration": 73,
    "start_time": "2021-07-05T10:43:39.122Z"
   },
   {
    "duration": 90,
    "start_time": "2021-07-05T10:43:39.197Z"
   },
   {
    "duration": 43,
    "start_time": "2021-07-05T10:43:39.290Z"
   },
   {
    "duration": 65,
    "start_time": "2021-07-05T10:43:39.335Z"
   },
   {
    "duration": 37,
    "start_time": "2021-07-05T10:43:39.402Z"
   },
   {
    "duration": 11,
    "start_time": "2021-07-05T10:43:39.441Z"
   },
   {
    "duration": 4061,
    "start_time": "2021-07-05T10:43:39.454Z"
   },
   {
    "duration": 150,
    "start_time": "2021-07-05T10:43:43.521Z"
   },
   {
    "duration": 1561,
    "start_time": "2021-07-05T10:43:43.674Z"
   },
   {
    "duration": 7,
    "start_time": "2021-07-05T10:43:45.238Z"
   },
   {
    "duration": 3556,
    "start_time": "2021-07-05T10:43:45.248Z"
   },
   {
    "duration": 9,
    "start_time": "2021-07-05T10:43:48.806Z"
   },
   {
    "duration": 7,
    "start_time": "2021-07-05T10:43:48.818Z"
   },
   {
    "duration": 4,
    "start_time": "2021-07-05T10:48:08.583Z"
   },
   {
    "duration": 133,
    "start_time": "2021-07-05T10:49:24.049Z"
   },
   {
    "duration": 371,
    "start_time": "2021-07-05T10:51:52.390Z"
   },
   {
    "duration": 37,
    "start_time": "2021-07-05T10:52:23.403Z"
   },
   {
    "duration": 55,
    "start_time": "2021-07-05T10:55:55.131Z"
   },
   {
    "duration": 57,
    "start_time": "2021-07-05T10:56:25.161Z"
   },
   {
    "duration": 9238,
    "start_time": "2021-07-05T10:56:38.910Z"
   },
   {
    "duration": 38,
    "start_time": "2021-07-05T10:57:13.266Z"
   },
   {
    "duration": 56,
    "start_time": "2021-07-05T10:57:17.840Z"
   },
   {
    "duration": 9867,
    "start_time": "2021-07-05T10:58:25.047Z"
   },
   {
    "duration": 43,
    "start_time": "2021-07-05T11:00:16.194Z"
   },
   {
    "duration": 32,
    "start_time": "2021-07-05T11:00:23.683Z"
   },
   {
    "duration": 3181,
    "start_time": "2021-07-05T11:00:34.349Z"
   },
   {
    "duration": 153,
    "start_time": "2021-07-05T11:00:37.532Z"
   },
   {
    "duration": 40,
    "start_time": "2021-07-05T11:06:07.713Z"
   },
   {
    "duration": 3202,
    "start_time": "2021-07-05T11:15:00.161Z"
   },
   {
    "duration": 3150,
    "start_time": "2021-07-05T11:15:15.629Z"
   },
   {
    "duration": 5,
    "start_time": "2021-07-05T11:15:39.127Z"
   },
   {
    "duration": 415,
    "start_time": "2021-07-05T11:15:39.136Z"
   },
   {
    "duration": 56,
    "start_time": "2021-07-05T11:15:39.553Z"
   },
   {
    "duration": 74,
    "start_time": "2021-07-05T11:15:39.613Z"
   },
   {
    "duration": 46,
    "start_time": "2021-07-05T11:15:39.690Z"
   },
   {
    "duration": 6,
    "start_time": "2021-07-05T11:15:39.739Z"
   },
   {
    "duration": 15,
    "start_time": "2021-07-05T11:15:39.748Z"
   },
   {
    "duration": 8,
    "start_time": "2021-07-05T11:15:39.786Z"
   },
   {
    "duration": 160,
    "start_time": "2021-07-05T11:15:39.798Z"
   },
   {
    "duration": 93,
    "start_time": "2021-07-05T11:15:39.961Z"
   },
   {
    "duration": 62,
    "start_time": "2021-07-05T11:15:40.057Z"
   },
   {
    "duration": 76,
    "start_time": "2021-07-05T11:15:40.122Z"
   },
   {
    "duration": 3166,
    "start_time": "2021-07-05T11:15:44.072Z"
   },
   {
    "duration": 3209,
    "start_time": "2021-07-05T11:16:27.502Z"
   },
   {
    "duration": 5,
    "start_time": "2021-07-05T11:16:33.720Z"
   },
   {
    "duration": 420,
    "start_time": "2021-07-05T11:16:33.727Z"
   },
   {
    "duration": 63,
    "start_time": "2021-07-05T11:16:34.150Z"
   },
   {
    "duration": 89,
    "start_time": "2021-07-05T11:16:34.218Z"
   },
   {
    "duration": 54,
    "start_time": "2021-07-05T11:16:34.310Z"
   },
   {
    "duration": 9,
    "start_time": "2021-07-05T11:16:34.386Z"
   },
   {
    "duration": 12,
    "start_time": "2021-07-05T11:16:34.398Z"
   },
   {
    "duration": 15,
    "start_time": "2021-07-05T11:16:34.413Z"
   },
   {
    "duration": 175,
    "start_time": "2021-07-05T11:16:34.431Z"
   },
   {
    "duration": 79,
    "start_time": "2021-07-05T11:16:34.609Z"
   },
   {
    "duration": 45,
    "start_time": "2021-07-05T11:16:34.691Z"
   },
   {
    "duration": 74,
    "start_time": "2021-07-05T11:16:34.738Z"
   },
   {
    "duration": 3140,
    "start_time": "2021-07-05T11:16:37.884Z"
   },
   {
    "duration": 3151,
    "start_time": "2021-07-05T11:17:29.489Z"
   },
   {
    "duration": 4,
    "start_time": "2021-07-05T11:17:43.896Z"
   },
   {
    "duration": 393,
    "start_time": "2021-07-05T11:17:43.902Z"
   },
   {
    "duration": 59,
    "start_time": "2021-07-05T11:17:44.297Z"
   },
   {
    "duration": 55,
    "start_time": "2021-07-05T11:17:44.386Z"
   },
   {
    "duration": 73,
    "start_time": "2021-07-05T11:17:44.444Z"
   },
   {
    "duration": 6,
    "start_time": "2021-07-05T11:17:44.519Z"
   },
   {
    "duration": 9,
    "start_time": "2021-07-05T11:17:44.530Z"
   },
   {
    "duration": 44,
    "start_time": "2021-07-05T11:17:44.542Z"
   },
   {
    "duration": 155,
    "start_time": "2021-07-05T11:17:44.588Z"
   },
   {
    "duration": 85,
    "start_time": "2021-07-05T11:17:44.745Z"
   },
   {
    "duration": 61,
    "start_time": "2021-07-05T11:17:44.832Z"
   },
   {
    "duration": 51,
    "start_time": "2021-07-05T11:17:44.895Z"
   },
   {
    "duration": 3019,
    "start_time": "2021-07-05T11:17:48.080Z"
   },
   {
    "duration": 55,
    "start_time": "2021-07-05T11:21:38.096Z"
   },
   {
    "duration": 33,
    "start_time": "2021-07-05T11:22:06.275Z"
   },
   {
    "duration": 3303,
    "start_time": "2021-07-05T11:22:14.720Z"
   },
   {
    "duration": 534,
    "start_time": "2021-07-05T11:25:46.577Z"
   },
   {
    "duration": 134,
    "start_time": "2021-07-05T11:26:11.704Z"
   },
   {
    "duration": 4,
    "start_time": "2021-07-05T11:27:30.850Z"
   },
   {
    "duration": 402,
    "start_time": "2021-07-05T11:27:30.857Z"
   },
   {
    "duration": 57,
    "start_time": "2021-07-05T11:27:31.262Z"
   },
   {
    "duration": 86,
    "start_time": "2021-07-05T11:27:31.322Z"
   },
   {
    "duration": 52,
    "start_time": "2021-07-05T11:27:31.411Z"
   },
   {
    "duration": 7,
    "start_time": "2021-07-05T11:27:31.486Z"
   },
   {
    "duration": 17,
    "start_time": "2021-07-05T11:27:31.497Z"
   },
   {
    "duration": 23,
    "start_time": "2021-07-05T11:27:31.517Z"
   },
   {
    "duration": 154,
    "start_time": "2021-07-05T11:27:31.542Z"
   },
   {
    "duration": 71,
    "start_time": "2021-07-05T11:27:31.699Z"
   },
   {
    "duration": 58,
    "start_time": "2021-07-05T11:27:31.773Z"
   },
   {
    "duration": 76,
    "start_time": "2021-07-05T11:27:31.833Z"
   },
   {
    "duration": 3464,
    "start_time": "2021-07-05T11:27:31.912Z"
   },
   {
    "duration": 56,
    "start_time": "2021-07-05T11:27:35.386Z"
   },
   {
    "duration": 62,
    "start_time": "2021-07-05T11:27:35.445Z"
   },
   {
    "duration": 36,
    "start_time": "2021-07-05T11:27:35.510Z"
   },
   {
    "duration": 75,
    "start_time": "2021-07-05T11:27:35.548Z"
   },
   {
    "duration": 33,
    "start_time": "2021-07-05T11:27:35.625Z"
   },
   {
    "duration": 32,
    "start_time": "2021-07-05T11:27:35.662Z"
   },
   {
    "duration": 3838,
    "start_time": "2021-07-05T11:27:35.697Z"
   },
   {
    "duration": 3237,
    "start_time": "2021-07-05T11:27:45.591Z"
   },
   {
    "duration": 154,
    "start_time": "2021-07-05T11:27:48.831Z"
   },
   {
    "duration": 10714,
    "start_time": "2021-07-05T11:28:06.439Z"
   },
   {
    "duration": -1632,
    "start_time": "2021-07-05T11:28:18.789Z"
   },
   {
    "duration": -1648,
    "start_time": "2021-07-05T11:28:18.807Z"
   },
   {
    "duration": -1660,
    "start_time": "2021-07-05T11:28:18.821Z"
   },
   {
    "duration": -1670,
    "start_time": "2021-07-05T11:28:18.833Z"
   },
   {
    "duration": 1479,
    "start_time": "2021-07-05T11:28:42.715Z"
   },
   {
    "duration": 8,
    "start_time": "2021-07-05T11:28:56.002Z"
   },
   {
    "duration": 3174,
    "start_time": "2021-07-05T11:28:56.014Z"
   },
   {
    "duration": 10,
    "start_time": "2021-07-05T11:28:59.192Z"
   },
   {
    "duration": 9,
    "start_time": "2021-07-05T11:28:59.205Z"
   },
   {
    "duration": 1552,
    "start_time": "2021-07-05T12:23:47.993Z"
   },
   {
    "duration": 1691,
    "start_time": "2021-07-05T12:25:48.101Z"
   },
   {
    "duration": 1538,
    "start_time": "2021-07-05T12:28:45.437Z"
   },
   {
    "duration": 1553,
    "start_time": "2021-07-05T12:29:14.681Z"
   },
   {
    "duration": 1540,
    "start_time": "2021-07-05T12:30:39.071Z"
   },
   {
    "duration": 1564,
    "start_time": "2021-07-05T12:30:53.323Z"
   },
   {
    "duration": 1383,
    "start_time": "2021-07-05T12:31:11.941Z"
   },
   {
    "duration": 1909,
    "start_time": "2021-07-05T12:31:23.512Z"
   },
   {
    "duration": 1564,
    "start_time": "2021-07-05T12:31:37.234Z"
   },
   {
    "duration": 1442,
    "start_time": "2021-07-05T12:32:17.725Z"
   },
   {
    "duration": 1685,
    "start_time": "2021-07-05T12:32:25.331Z"
   },
   {
    "duration": 7,
    "start_time": "2021-07-05T13:34:00.659Z"
   },
   {
    "duration": 356,
    "start_time": "2021-07-05T13:44:53.549Z"
   },
   {
    "duration": 427,
    "start_time": "2021-07-05T13:45:19.434Z"
   },
   {
    "duration": 328,
    "start_time": "2021-07-05T13:45:33.439Z"
   },
   {
    "duration": 342,
    "start_time": "2021-07-05T13:46:02.984Z"
   },
   {
    "duration": 336,
    "start_time": "2021-07-05T13:46:24.089Z"
   },
   {
    "duration": 382,
    "start_time": "2021-07-05T13:46:58.444Z"
   },
   {
    "duration": 516,
    "start_time": "2021-07-05T13:48:09.411Z"
   },
   {
    "duration": 388,
    "start_time": "2021-07-05T13:48:24.171Z"
   },
   {
    "duration": 393,
    "start_time": "2021-07-05T13:48:32.859Z"
   },
   {
    "duration": 401,
    "start_time": "2021-07-05T13:49:12.356Z"
   },
   {
    "duration": 120,
    "start_time": "2021-07-05T13:55:21.255Z"
   },
   {
    "duration": 316,
    "start_time": "2021-07-05T20:18:30.630Z"
   },
   {
    "duration": 241,
    "start_time": "2021-07-05T20:18:32.847Z"
   },
   {
    "duration": 1276,
    "start_time": "2021-07-05T20:18:38.218Z"
   },
   {
    "duration": 367,
    "start_time": "2021-07-05T20:18:39.497Z"
   },
   {
    "duration": 89,
    "start_time": "2021-07-05T20:18:39.867Z"
   },
   {
    "duration": 54,
    "start_time": "2021-07-05T20:18:39.958Z"
   },
   {
    "duration": 75,
    "start_time": "2021-07-05T20:18:40.015Z"
   },
   {
    "duration": 8,
    "start_time": "2021-07-05T20:18:40.093Z"
   },
   {
    "duration": 8,
    "start_time": "2021-07-05T20:18:40.104Z"
   },
   {
    "duration": 44,
    "start_time": "2021-07-05T20:18:40.118Z"
   },
   {
    "duration": 154,
    "start_time": "2021-07-05T20:18:40.165Z"
   },
   {
    "duration": 91,
    "start_time": "2021-07-05T20:18:40.321Z"
   },
   {
    "duration": 56,
    "start_time": "2021-07-05T20:18:40.414Z"
   },
   {
    "duration": 46,
    "start_time": "2021-07-05T20:18:40.472Z"
   },
   {
    "duration": 2965,
    "start_time": "2021-07-05T20:18:40.520Z"
   },
   {
    "duration": 68,
    "start_time": "2021-07-05T20:18:43.488Z"
   },
   {
    "duration": 35,
    "start_time": "2021-07-05T20:18:43.558Z"
   },
   {
    "duration": 34,
    "start_time": "2021-07-05T20:18:43.595Z"
   },
   {
    "duration": 80,
    "start_time": "2021-07-05T20:18:43.631Z"
   },
   {
    "duration": 49,
    "start_time": "2021-07-05T20:18:43.713Z"
   },
   {
    "duration": 10,
    "start_time": "2021-07-05T20:18:43.764Z"
   },
   {
    "duration": 3050,
    "start_time": "2021-07-05T20:18:43.777Z"
   },
   {
    "duration": 141,
    "start_time": "2021-07-05T20:18:46.829Z"
   },
   {
    "duration": 15,
    "start_time": "2021-07-05T20:18:46.972Z"
   },
   {
    "duration": 1659,
    "start_time": "2021-07-05T20:18:46.991Z"
   },
   {
    "duration": 7,
    "start_time": "2021-07-05T20:18:48.652Z"
   },
   {
    "duration": 2950,
    "start_time": "2021-07-05T20:18:48.662Z"
   },
   {
    "duration": 7,
    "start_time": "2021-07-05T20:18:51.614Z"
   },
   {
    "duration": 386,
    "start_time": "2021-07-05T20:18:51.623Z"
   },
   {
    "duration": 6,
    "start_time": "2021-07-05T20:18:52.011Z"
   },
   {
    "duration": 137,
    "start_time": "2021-07-06T10:57:52.885Z"
   },
   {
    "duration": 518,
    "start_time": "2021-07-06T11:11:10.933Z"
   },
   {
    "duration": 1562,
    "start_time": "2021-07-06T11:11:25.083Z"
   },
   {
    "duration": 410,
    "start_time": "2021-07-06T11:11:26.647Z"
   },
   {
    "duration": 68,
    "start_time": "2021-07-06T11:11:27.060Z"
   },
   {
    "duration": 92,
    "start_time": "2021-07-06T11:11:27.131Z"
   },
   {
    "duration": 69,
    "start_time": "2021-07-06T11:11:27.225Z"
   },
   {
    "duration": 8,
    "start_time": "2021-07-06T11:11:27.297Z"
   },
   {
    "duration": 10,
    "start_time": "2021-07-06T11:11:27.309Z"
   },
   {
    "duration": 221,
    "start_time": "2021-07-06T11:11:27.322Z"
   },
   {
    "duration": 88,
    "start_time": "2021-07-06T11:11:27.547Z"
   },
   {
    "duration": 54,
    "start_time": "2021-07-06T11:11:27.638Z"
   },
   {
    "duration": 341,
    "start_time": "2021-07-06T11:11:27.695Z"
   },
   {
    "duration": 320,
    "start_time": "2021-07-06T11:11:44.139Z"
   },
   {
    "duration": 636,
    "start_time": "2021-07-06T11:12:47.298Z"
   },
   {
    "duration": 594,
    "start_time": "2021-07-06T11:12:58.356Z"
   },
   {
    "duration": 678,
    "start_time": "2021-07-06T11:13:10.447Z"
   },
   {
    "duration": 734,
    "start_time": "2021-07-06T11:14:29.971Z"
   },
   {
    "duration": 590,
    "start_time": "2021-07-06T11:16:23.805Z"
   },
   {
    "duration": 19,
    "start_time": "2021-07-06T11:21:31.652Z"
   },
   {
    "duration": 11,
    "start_time": "2021-07-06T11:21:57.073Z"
   },
   {
    "duration": 12,
    "start_time": "2021-07-06T11:24:29.131Z"
   },
   {
    "duration": 11,
    "start_time": "2021-07-06T11:24:35.494Z"
   },
   {
    "duration": 13,
    "start_time": "2021-07-06T11:26:16.621Z"
   },
   {
    "duration": 94,
    "start_time": "2021-07-06T11:26:48.665Z"
   },
   {
    "duration": 13,
    "start_time": "2021-07-06T11:27:02.932Z"
   },
   {
    "duration": 440,
    "start_time": "2021-07-06T11:36:50.189Z"
   },
   {
    "duration": 102,
    "start_time": "2021-07-06T11:39:27.365Z"
   },
   {
    "duration": 31,
    "start_time": "2021-07-06T11:39:37.075Z"
   },
   {
    "duration": 42,
    "start_time": "2021-07-06T11:39:56.986Z"
   },
   {
    "duration": 11,
    "start_time": "2021-07-06T11:40:14.146Z"
   },
   {
    "duration": 42,
    "start_time": "2021-07-06T11:40:16.373Z"
   },
   {
    "duration": 16,
    "start_time": "2021-07-06T11:41:07.512Z"
   },
   {
    "duration": 55,
    "start_time": "2021-07-06T11:41:47.156Z"
   },
   {
    "duration": 10,
    "start_time": "2021-07-06T11:41:49.765Z"
   },
   {
    "duration": 1205,
    "start_time": "2021-07-06T11:42:19.412Z"
   },
   {
    "duration": 1158,
    "start_time": "2021-07-06T11:43:07.901Z"
   },
   {
    "duration": 4,
    "start_time": "2021-07-06T11:43:31.583Z"
   },
   {
    "duration": 1928,
    "start_time": "2021-07-06T11:43:31.591Z"
   },
   {
    "duration": 73,
    "start_time": "2021-07-06T11:43:33.522Z"
   },
   {
    "duration": 59,
    "start_time": "2021-07-06T11:43:33.598Z"
   },
   {
    "duration": 189,
    "start_time": "2021-07-06T11:43:33.659Z"
   },
   {
    "duration": 8,
    "start_time": "2021-07-06T11:43:33.850Z"
   },
   {
    "duration": 27,
    "start_time": "2021-07-06T11:43:33.864Z"
   },
   {
    "duration": 191,
    "start_time": "2021-07-06T11:43:33.896Z"
   },
   {
    "duration": 69,
    "start_time": "2021-07-06T11:43:34.089Z"
   },
   {
    "duration": 63,
    "start_time": "2021-07-06T11:43:34.160Z"
   },
   {
    "duration": 1175,
    "start_time": "2021-07-06T11:43:34.226Z"
   },
   {
    "duration": 15,
    "start_time": "2021-07-06T11:43:35.403Z"
   },
   {
    "duration": 65,
    "start_time": "2021-07-06T11:43:35.420Z"
   },
   {
    "duration": 10,
    "start_time": "2021-07-06T11:43:35.488Z"
   },
   {
    "duration": 1110,
    "start_time": "2021-07-06T11:43:35.500Z"
   },
   {
    "duration": 27,
    "start_time": "2021-07-06T11:53:49.574Z"
   },
   {
    "duration": 18,
    "start_time": "2021-07-06T11:54:03.230Z"
   },
   {
    "duration": 5,
    "start_time": "2021-07-06T12:04:28.866Z"
   },
   {
    "duration": 457,
    "start_time": "2021-07-06T12:04:28.877Z"
   },
   {
    "duration": 63,
    "start_time": "2021-07-06T12:04:29.338Z"
   },
   {
    "duration": 82,
    "start_time": "2021-07-06T12:04:29.404Z"
   },
   {
    "duration": 62,
    "start_time": "2021-07-06T12:04:29.488Z"
   },
   {
    "duration": 6,
    "start_time": "2021-07-06T12:04:29.553Z"
   },
   {
    "duration": 32,
    "start_time": "2021-07-06T12:04:29.561Z"
   },
   {
    "duration": 201,
    "start_time": "2021-07-06T12:04:29.595Z"
   },
   {
    "duration": 85,
    "start_time": "2021-07-06T12:04:29.801Z"
   },
   {
    "duration": 48,
    "start_time": "2021-07-06T12:04:29.890Z"
   },
   {
    "duration": 1399,
    "start_time": "2021-07-06T12:04:29.941Z"
   },
   {
    "duration": 14,
    "start_time": "2021-07-06T12:04:31.343Z"
   },
   {
    "duration": 73,
    "start_time": "2021-07-06T12:04:31.360Z"
   },
   {
    "duration": 60,
    "start_time": "2021-07-06T12:04:31.436Z"
   },
   {
    "duration": 1135,
    "start_time": "2021-07-06T12:04:31.499Z"
   },
   {
    "duration": 57,
    "start_time": "2021-07-06T12:04:32.636Z"
   },
   {
    "duration": 22,
    "start_time": "2021-07-06T12:04:32.696Z"
   },
   {
    "duration": 88,
    "start_time": "2021-07-06T12:04:32.722Z"
   },
   {
    "duration": 40,
    "start_time": "2021-07-06T12:04:32.813Z"
   },
   {
    "duration": 59,
    "start_time": "2021-07-06T12:04:32.855Z"
   },
   {
    "duration": 73,
    "start_time": "2021-07-06T12:04:32.916Z"
   },
   {
    "duration": 34,
    "start_time": "2021-07-06T12:04:32.991Z"
   },
   {
    "duration": 9,
    "start_time": "2021-07-06T12:04:33.027Z"
   },
   {
    "duration": 3407,
    "start_time": "2021-07-06T12:04:33.040Z"
   },
   {
    "duration": 148,
    "start_time": "2021-07-06T12:04:36.450Z"
   },
   {
    "duration": 1516,
    "start_time": "2021-07-06T12:04:36.600Z"
   },
   {
    "duration": 1558,
    "start_time": "2021-07-06T12:10:39.274Z"
   },
   {
    "duration": 1528,
    "start_time": "2021-07-06T12:13:24.184Z"
   },
   {
    "duration": 432,
    "start_time": "2021-07-06T12:13:25.715Z"
   },
   {
    "duration": 65,
    "start_time": "2021-07-06T12:13:26.149Z"
   },
   {
    "duration": 86,
    "start_time": "2021-07-06T12:13:26.216Z"
   },
   {
    "duration": 50,
    "start_time": "2021-07-06T12:13:26.305Z"
   },
   {
    "duration": 27,
    "start_time": "2021-07-06T12:13:26.358Z"
   },
   {
    "duration": 9,
    "start_time": "2021-07-06T12:13:26.388Z"
   },
   {
    "duration": 169,
    "start_time": "2021-07-06T12:13:26.400Z"
   },
   {
    "duration": 76,
    "start_time": "2021-07-06T12:13:26.572Z"
   },
   {
    "duration": 61,
    "start_time": "2021-07-06T12:13:26.650Z"
   },
   {
    "duration": 1116,
    "start_time": "2021-07-06T12:13:52.080Z"
   },
   {
    "duration": 1138,
    "start_time": "2021-07-06T12:14:01.722Z"
   },
   {
    "duration": 111,
    "start_time": "2021-07-06T12:14:19.026Z"
   },
   {
    "duration": 23,
    "start_time": "2021-07-06T12:14:32.506Z"
   },
   {
    "duration": 435,
    "start_time": "2021-07-06T12:19:23.683Z"
   },
   {
    "duration": 149,
    "start_time": "2021-07-06T12:23:44.306Z"
   },
   {
    "duration": 28,
    "start_time": "2021-07-06T12:24:47.553Z"
   },
   {
    "duration": 27,
    "start_time": "2021-07-06T12:25:08.815Z"
   },
   {
    "duration": 1247,
    "start_time": "2021-07-06T12:25:53.714Z"
   },
   {
    "duration": 337,
    "start_time": "2021-07-06T12:26:52.904Z"
   },
   {
    "duration": 4,
    "start_time": "2021-07-06T12:27:03.512Z"
   },
   {
    "duration": 417,
    "start_time": "2021-07-06T12:27:03.519Z"
   },
   {
    "duration": 61,
    "start_time": "2021-07-06T12:27:03.939Z"
   },
   {
    "duration": 82,
    "start_time": "2021-07-06T12:27:04.004Z"
   },
   {
    "duration": 55,
    "start_time": "2021-07-06T12:27:04.089Z"
   },
   {
    "duration": 8,
    "start_time": "2021-07-06T12:27:04.148Z"
   },
   {
    "duration": 10,
    "start_time": "2021-07-06T12:27:04.187Z"
   },
   {
    "duration": 165,
    "start_time": "2021-07-06T12:27:04.200Z"
   },
   {
    "duration": 83,
    "start_time": "2021-07-06T12:27:04.367Z"
   },
   {
    "duration": 71,
    "start_time": "2021-07-06T12:27:04.453Z"
   },
   {
    "duration": 1326,
    "start_time": "2021-07-06T12:27:04.527Z"
   },
   {
    "duration": 30,
    "start_time": "2021-07-06T12:27:05.855Z"
   },
   {
    "duration": 48,
    "start_time": "2021-07-06T12:27:05.888Z"
   },
   {
    "duration": 11,
    "start_time": "2021-07-06T12:27:05.938Z"
   },
   {
    "duration": 1250,
    "start_time": "2021-07-06T12:27:05.951Z"
   },
   {
    "duration": 44,
    "start_time": "2021-07-06T12:27:07.204Z"
   },
   {
    "duration": 49,
    "start_time": "2021-07-06T12:27:07.250Z"
   },
   {
    "duration": 178,
    "start_time": "2021-07-06T12:27:07.302Z"
   },
   {
    "duration": 45,
    "start_time": "2021-07-06T12:27:07.487Z"
   },
   {
    "duration": 57,
    "start_time": "2021-07-06T12:27:07.534Z"
   },
   {
    "duration": 55,
    "start_time": "2021-07-06T12:27:07.593Z"
   },
   {
    "duration": 56,
    "start_time": "2021-07-06T12:27:07.650Z"
   },
   {
    "duration": 11,
    "start_time": "2021-07-06T12:27:07.709Z"
   },
   {
    "duration": 3890,
    "start_time": "2021-07-06T12:27:07.722Z"
   },
   {
    "duration": 150,
    "start_time": "2021-07-06T12:27:11.615Z"
   },
   {
    "duration": 4501,
    "start_time": "2021-07-06T12:27:11.767Z"
   },
   {
    "duration": 12,
    "start_time": "2021-07-06T12:28:24.367Z"
   },
   {
    "duration": 6,
    "start_time": "2021-07-06T12:28:42.015Z"
   },
   {
    "duration": 328,
    "start_time": "2021-07-06T12:28:51.481Z"
   },
   {
    "duration": 9,
    "start_time": "2021-07-06T12:29:06.428Z"
   },
   {
    "duration": 112,
    "start_time": "2021-07-06T12:30:17.960Z"
   },
   {
    "duration": 4411,
    "start_time": "2021-07-06T12:30:26.534Z"
   },
   {
    "duration": 4565,
    "start_time": "2021-07-06T12:30:58.010Z"
   },
   {
    "duration": 4425,
    "start_time": "2021-07-06T12:31:16.837Z"
   },
   {
    "duration": 60,
    "start_time": "2021-07-06T12:32:08.173Z"
   },
   {
    "duration": 4340,
    "start_time": "2021-07-06T12:39:33.435Z"
   },
   {
    "duration": 4398,
    "start_time": "2021-07-06T12:40:01.640Z"
   },
   {
    "duration": 4368,
    "start_time": "2021-07-06T12:40:13.383Z"
   },
   {
    "duration": 4183,
    "start_time": "2021-07-06T12:40:43.048Z"
   },
   {
    "duration": 4,
    "start_time": "2021-07-06T12:41:08.500Z"
   },
   {
    "duration": 1038,
    "start_time": "2021-07-06T12:41:08.511Z"
   },
   {
    "duration": 63,
    "start_time": "2021-07-06T12:41:09.551Z"
   },
   {
    "duration": 95,
    "start_time": "2021-07-06T12:41:09.618Z"
   },
   {
    "duration": 68,
    "start_time": "2021-07-06T12:41:09.717Z"
   },
   {
    "duration": 8,
    "start_time": "2021-07-06T12:41:09.789Z"
   },
   {
    "duration": 14,
    "start_time": "2021-07-06T12:41:09.800Z"
   },
   {
    "duration": 220,
    "start_time": "2021-07-06T12:41:09.817Z"
   },
   {
    "duration": 113,
    "start_time": "2021-07-06T12:41:10.043Z"
   },
   {
    "duration": 84,
    "start_time": "2021-07-06T12:41:10.160Z"
   },
   {
    "duration": 1364,
    "start_time": "2021-07-06T12:41:10.246Z"
   },
   {
    "duration": 16,
    "start_time": "2021-07-06T12:41:11.613Z"
   },
   {
    "duration": 76,
    "start_time": "2021-07-06T12:41:11.632Z"
   },
   {
    "duration": 11,
    "start_time": "2021-07-06T12:41:11.711Z"
   },
   {
    "duration": 1194,
    "start_time": "2021-07-06T12:41:11.725Z"
   },
   {
    "duration": 44,
    "start_time": "2021-07-06T12:41:12.921Z"
   },
   {
    "duration": 39,
    "start_time": "2021-07-06T12:41:12.968Z"
   },
   {
    "duration": 86,
    "start_time": "2021-07-06T12:41:13.010Z"
   },
   {
    "duration": 41,
    "start_time": "2021-07-06T12:41:13.099Z"
   },
   {
    "duration": 67,
    "start_time": "2021-07-06T12:41:13.142Z"
   },
   {
    "duration": 73,
    "start_time": "2021-07-06T12:41:13.212Z"
   },
   {
    "duration": 37,
    "start_time": "2021-07-06T12:41:13.289Z"
   },
   {
    "duration": 10,
    "start_time": "2021-07-06T12:41:13.328Z"
   },
   {
    "duration": 3326,
    "start_time": "2021-07-06T12:41:13.342Z"
   },
   {
    "duration": 161,
    "start_time": "2021-07-06T12:41:16.671Z"
   },
   {
    "duration": 6,
    "start_time": "2021-07-06T13:37:39.104Z"
   },
   {
    "duration": 436,
    "start_time": "2021-07-06T13:37:39.113Z"
   },
   {
    "duration": 64,
    "start_time": "2021-07-06T13:37:39.552Z"
   },
   {
    "duration": 87,
    "start_time": "2021-07-06T13:37:39.619Z"
   },
   {
    "duration": 51,
    "start_time": "2021-07-06T13:37:39.709Z"
   },
   {
    "duration": 25,
    "start_time": "2021-07-06T13:37:39.762Z"
   },
   {
    "duration": 11,
    "start_time": "2021-07-06T13:37:39.793Z"
   },
   {
    "duration": 202,
    "start_time": "2021-07-06T13:37:39.807Z"
   },
   {
    "duration": 105,
    "start_time": "2021-07-06T13:37:40.012Z"
   },
   {
    "duration": 48,
    "start_time": "2021-07-06T13:37:40.120Z"
   },
   {
    "duration": 1216,
    "start_time": "2021-07-06T13:37:40.187Z"
   },
   {
    "duration": 18,
    "start_time": "2021-07-06T13:37:41.406Z"
   },
   {
    "duration": 82,
    "start_time": "2021-07-06T13:37:41.427Z"
   },
   {
    "duration": 13,
    "start_time": "2021-07-06T13:37:41.511Z"
   },
   {
    "duration": 1353,
    "start_time": "2021-07-06T13:37:41.526Z"
   },
   {
    "duration": 53,
    "start_time": "2021-07-06T13:37:42.881Z"
   },
   {
    "duration": 21,
    "start_time": "2021-07-06T13:37:42.936Z"
   },
   {
    "duration": 87,
    "start_time": "2021-07-06T13:37:42.960Z"
   },
   {
    "duration": 63,
    "start_time": "2021-07-06T13:37:43.052Z"
   },
   {
    "duration": 38,
    "start_time": "2021-07-06T13:37:43.118Z"
   },
   {
    "duration": 84,
    "start_time": "2021-07-06T13:37:43.159Z"
   },
   {
    "duration": 57,
    "start_time": "2021-07-06T13:37:43.246Z"
   },
   {
    "duration": 12,
    "start_time": "2021-07-06T13:37:43.306Z"
   },
   {
    "duration": 3804,
    "start_time": "2021-07-06T13:37:43.321Z"
   },
   {
    "duration": 141,
    "start_time": "2021-07-06T13:37:47.127Z"
   },
   {
    "duration": 4496,
    "start_time": "2021-07-06T13:37:47.271Z"
   },
   {
    "duration": 18,
    "start_time": "2021-07-06T13:37:51.769Z"
   },
   {
    "duration": 8,
    "start_time": "2021-07-06T13:37:51.792Z"
   },
   {
    "duration": 3357,
    "start_time": "2021-07-06T13:37:51.802Z"
   },
   {
    "duration": 10,
    "start_time": "2021-07-06T13:37:55.162Z"
   },
   {
    "duration": 437,
    "start_time": "2021-07-06T13:37:55.186Z"
   },
   {
    "duration": 6,
    "start_time": "2021-07-06T13:37:55.626Z"
   },
   {
    "duration": 400,
    "start_time": "2021-07-06T15:22:40.334Z"
   },
   {
    "duration": 1731,
    "start_time": "2021-07-06T15:22:46.701Z"
   },
   {
    "duration": 424,
    "start_time": "2021-07-06T15:22:48.436Z"
   },
   {
    "duration": 81,
    "start_time": "2021-07-06T15:22:48.864Z"
   },
   {
    "duration": 93,
    "start_time": "2021-07-06T15:22:48.949Z"
   },
   {
    "duration": 98,
    "start_time": "2021-07-06T15:22:49.045Z"
   },
   {
    "duration": 9,
    "start_time": "2021-07-06T15:22:49.146Z"
   },
   {
    "duration": 31,
    "start_time": "2021-07-06T15:22:49.157Z"
   },
   {
    "duration": 223,
    "start_time": "2021-07-06T15:22:49.192Z"
   },
   {
    "duration": 90,
    "start_time": "2021-07-06T15:22:49.419Z"
   },
   {
    "duration": 46,
    "start_time": "2021-07-06T15:22:49.511Z"
   },
   {
    "duration": 1356,
    "start_time": "2021-07-06T15:22:49.559Z"
   },
   {
    "duration": 16,
    "start_time": "2021-07-06T15:22:50.918Z"
   },
   {
    "duration": 74,
    "start_time": "2021-07-06T15:22:50.937Z"
   },
   {
    "duration": 11,
    "start_time": "2021-07-06T15:22:51.014Z"
   },
   {
    "duration": 1364,
    "start_time": "2021-07-06T15:22:51.027Z"
   },
   {
    "duration": 46,
    "start_time": "2021-07-06T15:22:52.394Z"
   },
   {
    "duration": 47,
    "start_time": "2021-07-06T15:22:52.443Z"
   },
   {
    "duration": 119,
    "start_time": "2021-07-06T15:22:52.493Z"
   },
   {
    "duration": 45,
    "start_time": "2021-07-06T15:22:52.615Z"
   },
   {
    "duration": 62,
    "start_time": "2021-07-06T15:22:52.663Z"
   },
   {
    "duration": 88,
    "start_time": "2021-07-06T15:22:52.728Z"
   },
   {
    "duration": 36,
    "start_time": "2021-07-06T15:22:52.819Z"
   },
   {
    "duration": 33,
    "start_time": "2021-07-06T15:22:52.860Z"
   },
   {
    "duration": 3766,
    "start_time": "2021-07-06T15:22:52.895Z"
   },
   {
    "duration": 153,
    "start_time": "2021-07-06T15:22:56.664Z"
   },
   {
    "duration": 4558,
    "start_time": "2021-07-06T15:22:56.821Z"
   },
   {
    "duration": 8,
    "start_time": "2021-07-06T15:23:01.385Z"
   },
   {
    "duration": 20,
    "start_time": "2021-07-06T15:23:01.396Z"
   },
   {
    "duration": 3917,
    "start_time": "2021-07-06T15:23:01.419Z"
   },
   {
    "duration": 9,
    "start_time": "2021-07-06T15:23:05.338Z"
   },
   {
    "duration": 459,
    "start_time": "2021-07-06T15:23:05.350Z"
   },
   {
    "duration": 8,
    "start_time": "2021-07-06T15:23:05.811Z"
   },
   {
    "duration": 4465,
    "start_time": "2021-07-06T15:23:17.406Z"
   },
   {
    "duration": 4603,
    "start_time": "2021-07-06T15:23:24.806Z"
   },
   {
    "duration": 5232,
    "start_time": "2021-07-06T15:23:38.358Z"
   },
   {
    "duration": 5111,
    "start_time": "2021-07-06T15:23:46.679Z"
   },
   {
    "duration": 4656,
    "start_time": "2021-07-06T15:23:59.305Z"
   }
  ],
  "kernelspec": {
   "display_name": "Python 3",
   "language": "python",
   "name": "python3"
  },
  "language_info": {
   "codemirror_mode": {
    "name": "ipython",
    "version": 3
   },
   "file_extension": ".py",
   "mimetype": "text/x-python",
   "name": "python",
   "nbconvert_exporter": "python",
   "pygments_lexer": "ipython3",
   "version": "3.7.8"
  },
  "toc": {
   "base_numbering": 1,
   "nav_menu": {
    "height": "652px",
    "width": "664px"
   },
   "number_sections": true,
   "sideBar": true,
   "skip_h1_title": false,
   "title_cell": "Table of Contents",
   "title_sidebar": "Contents",
   "toc_cell": true,
   "toc_position": {
    "height": "calc(100% - 180px)",
    "left": "10px",
    "top": "150px",
    "width": "288px"
   },
   "toc_section_display": true,
   "toc_window_display": false
  }
 },
 "nbformat": 4,
 "nbformat_minor": 2
}
