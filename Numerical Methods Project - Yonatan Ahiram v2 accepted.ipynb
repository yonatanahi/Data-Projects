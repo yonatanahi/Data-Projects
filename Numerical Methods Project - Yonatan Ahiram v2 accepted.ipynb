{
 "cells": [
  {
   "cell_type": "markdown",
   "metadata": {},
   "source": [
    "**Review**\n",
    "\t  \n",
    "Hi, my name is Dmitry and I will be reviewing your project.\n",
    "  \n",
    "You can find my comments in colored markdown cells:\n",
    "  \n",
    "<div class=\"alert alert-success\">\n",
    "  If everything is done successfully.\n",
    "</div>\n",
    "  \n",
    "<div class=\"alert alert-warning\">\n",
    "  If I have some (optional) suggestions, or questions to think about, or general comments.\n",
    "</div>\n",
    "  \n",
    "<div class=\"alert alert-danger\">\n",
    "  If a section requires some corrections. Work can't be accepted with red comments.\n",
    "</div>\n",
    "  \n",
    "Please don't remove my comments, as it will make further review iterations much harder for me.\n",
    "  \n",
    "Feel free to reply to my comments or ask questions using the following template:\n",
    "  \n",
    "<div class=\"alert alert-info\">\n",
    "  For your comments and questions.\n",
    "</div>\n",
    "  \n",
    "First of all, thank you for turning in the project! You did a pretty good job overall, there's just one small problem that needs to be fixed before the project can be accepted. Good luck!"
   ]
  },
  {
   "cell_type": "markdown",
   "metadata": {},
   "source": [
    "<div class=\"alert alert-info\">\n",
    "  Hi Dmitry, thank you for reviewing my project :)\n",
    "</div>"
   ]
  },
  {
   "cell_type": "markdown",
   "metadata": {},
   "source": [
    "<div class=\"alert alert-success\">\n",
    "<b>Reviewer's comment V2</b>\n",
    "\t  \n",
    "You're welcome! :)\n",
    "    \n",
    "Thanks for taking the time to improve the project! Now it's accepted, and you can move on to the next sprint! Keep up the good work!\n",
    "\t  \n",
    "</div>"
   ]
  },
  {
   "cell_type": "markdown",
   "metadata": {},
   "source": [
    "Rusty Bargain used car sales service is developing an app to attract new customers. In that app, you can quickly find out the market value of your car. You have access to historical data: technical specifications, trim versions, and prices. You need to build the model to determine the value. \n",
    "\n",
    "Rusty Bargain is interested in:\n",
    "\n",
    "- the quality of the prediction;\n",
    "- the speed of the prediction;\n",
    "- the time required for training"
   ]
  },
  {
   "cell_type": "markdown",
   "metadata": {},
   "source": [
    "## Project instructions\n",
    "\n",
    "1. Download and look at the data.\n",
    "2. Train different models with various hyperparameters (You should make at least two different models, but more is better. Remember, various implementations of gradient boosting don't count as different models.) The main point of this step is to compare gradient boosting methods with random forest, decision tree, and linear regression.\n",
    "3. Analyze the speed and quality of the models.\n",
    "\n",
    "Notes:\n",
    "\n",
    "* Use the RMSE metric to evaluate the models.\n",
    "* Linear regression is not very good for hyperparameter tuning, but it is perfect for doing a sanity check of other methods. If gradient boosting performs worse than linear regression, something definitely went wrong.\n",
    "* On your own, work with the LightGBM library and use its tools to build gradient boosting models.\n",
    "* Ideally, your project should include linear regression for a sanity check, a tree-based algorithm with hyperparameter tuning (preferably, random forrest), LightGBM with hyperparameter tuning (try a couple of sets), and CatBoost and XGBoost with hyperparameter tuning (optional).\n",
    "* Take note of the encoding of categorical features for simple algorithms. LightGBM and CatBoost have their implementation, but XGBoost requires OHE.\n",
    "* You can use a special command to find the cell code runtime in Jupyter Notebook. Find that command.\n",
    "* Since the training of a gradient boosting model can take a long time, change only a few model parameters.\n",
    "* If Jupyter Notebook stops working, delete the excessive variables by using the `del` operator:\n",
    "\n",
    "  `del features_train`\n",
    "   \n",
    "\n",
    "## Data description\n",
    "The dataset is stored in file /datasets/car_data.csv. \n",
    "\n",
    "**Features**\n",
    "\n",
    "* *DateCrawled* — date profile was downloaded from the database\n",
    "* *VehicleType* — vehicle body type\n",
    "* *RegistrationYear* — vehicle registration year\n",
    "* *Gearbox* — gearbox type\n",
    "* *Power* — power (hp)\n",
    "* *Model* — vehicle model\n",
    "* *Mileage* — mileage (measured in km due to dataset's regional specifics)\n",
    "* *RegistrationMonth* — vehicle registration month\n",
    "* *FuelType* — fuel type\n",
    "* *Brand* — vehicle brand\n",
    "* *NotRepaired* — vehicle repaired or not\n",
    "* *DateCreated* — date of profile creation\n",
    "* *NumberOfPictures* — number of vehicle pictures\n",
    "* *PostalCode* — postal code of profile owner (user)\n",
    "* *LastSeen* — date of the last activity of the user\n",
    "\n",
    "**Target**\n",
    "\n",
    "*Price* — price (Euro)\n",
    "\n",
    "### Project evaluation\n",
    "We’ve put together the evaluation criteria for the project. Read this carefully before moving on to the task.\n",
    "Here’s what the reviewers will look at when reviewing your project:\n",
    "\n",
    "* Have you followed all the steps of the instructions?\n",
    "* How did you prepare the data?\n",
    "* What models and hyperparameters have you considered?\n",
    "* Have you managed to avoid code duplication?\n",
    "* What are your findings?\n",
    "* Have you kept to the project structure?\n",
    "* Have you kept the code neat?\n",
    "\n",
    "You have your takeaway sheets and chapter summaries, so you are ready to proceed to the project.\n",
    "Good luck!"
   ]
  },
  {
   "cell_type": "markdown",
   "metadata": {},
   "source": [
    "## Data preparation"
   ]
  },
  {
   "cell_type": "code",
   "execution_count": 67,
   "metadata": {},
   "outputs": [
    {
     "name": "stdout",
     "output_type": "stream",
     "text": [
      "Defaulting to user installation because normal site-packages is not writeable\n",
      "Requirement already satisfied: sidetable in /home/jovyan/.local/lib/python3.7/site-packages (0.9.0)\n",
      "Requirement already satisfied: pandas>=1.0 in /home/jovyan/.local/lib/python3.7/site-packages (from sidetable) (1.3.4)\n",
      "Requirement already satisfied: numpy>=1.17.3; platform_machine != \"aarch64\" and platform_machine != \"arm64\" and python_version < \"3.10\" in /opt/conda/lib/python3.7/site-packages (from pandas>=1.0->sidetable) (1.19.5)\n",
      "Requirement already satisfied: pytz>=2017.3 in /opt/conda/lib/python3.7/site-packages (from pandas>=1.0->sidetable) (2021.1)\n",
      "Requirement already satisfied: python-dateutil>=2.7.3 in /opt/conda/lib/python3.7/site-packages (from pandas>=1.0->sidetable) (2.8.1)\n",
      "Requirement already satisfied: six>=1.5 in /opt/conda/lib/python3.7/site-packages (from python-dateutil>=2.7.3->pandas>=1.0->sidetable) (1.15.0)\n"
     ]
    }
   ],
   "source": [
    "! pip install sidetable"
   ]
  },
  {
   "cell_type": "markdown",
   "metadata": {},
   "source": [
    "### Imports"
   ]
  },
  {
   "cell_type": "code",
   "execution_count": 68,
   "metadata": {},
   "outputs": [],
   "source": [
    "import pandas as pd\n",
    "import numpy as np\n",
    "import math\n",
    "\n",
    "import matplotlib.pyplot as plt\n",
    "import sidetable as stb\n",
    "\n",
    "from sklearn.preprocessing import StandardScaler\n",
    "from sklearn.model_selection import train_test_split\n",
    "\n",
    "from sklearn.ensemble import RandomForestRegressor\n",
    "from sklearn.linear_model import LinearRegression\n",
    "\n",
    "from sklearn.metrics import mean_squared_error\n",
    "\n",
    "from catboost import CatBoostRegressor\n",
    "import xgboost as xgb\n",
    "\n",
    "import sys\n",
    "import warnings\n",
    "if not sys.warnoptions:\n",
    "    warnings.simplefilter(\"ignore\")"
   ]
  },
  {
   "cell_type": "code",
   "execution_count": 69,
   "metadata": {},
   "outputs": [
    {
     "data": {
      "text/html": [
       "<div>\n",
       "<style scoped>\n",
       "    .dataframe tbody tr th:only-of-type {\n",
       "        vertical-align: middle;\n",
       "    }\n",
       "\n",
       "    .dataframe tbody tr th {\n",
       "        vertical-align: top;\n",
       "    }\n",
       "\n",
       "    .dataframe thead th {\n",
       "        text-align: right;\n",
       "    }\n",
       "</style>\n",
       "<table border=\"1\" class=\"dataframe\">\n",
       "  <thead>\n",
       "    <tr style=\"text-align: right;\">\n",
       "      <th></th>\n",
       "      <th>DateCrawled</th>\n",
       "      <th>Price</th>\n",
       "      <th>VehicleType</th>\n",
       "      <th>RegistrationYear</th>\n",
       "      <th>Gearbox</th>\n",
       "      <th>Power</th>\n",
       "      <th>Model</th>\n",
       "      <th>Mileage</th>\n",
       "      <th>RegistrationMonth</th>\n",
       "      <th>FuelType</th>\n",
       "      <th>Brand</th>\n",
       "      <th>NotRepaired</th>\n",
       "      <th>DateCreated</th>\n",
       "      <th>NumberOfPictures</th>\n",
       "      <th>PostalCode</th>\n",
       "      <th>LastSeen</th>\n",
       "    </tr>\n",
       "  </thead>\n",
       "  <tbody>\n",
       "    <tr>\n",
       "      <th>0</th>\n",
       "      <td>24/03/2016 11:52</td>\n",
       "      <td>480</td>\n",
       "      <td>NaN</td>\n",
       "      <td>1993</td>\n",
       "      <td>manual</td>\n",
       "      <td>0</td>\n",
       "      <td>golf</td>\n",
       "      <td>150000</td>\n",
       "      <td>0</td>\n",
       "      <td>petrol</td>\n",
       "      <td>volkswagen</td>\n",
       "      <td>NaN</td>\n",
       "      <td>24/03/2016 00:00</td>\n",
       "      <td>0</td>\n",
       "      <td>70435</td>\n",
       "      <td>07/04/2016 03:16</td>\n",
       "    </tr>\n",
       "    <tr>\n",
       "      <th>1</th>\n",
       "      <td>24/03/2016 10:58</td>\n",
       "      <td>18300</td>\n",
       "      <td>coupe</td>\n",
       "      <td>2011</td>\n",
       "      <td>manual</td>\n",
       "      <td>190</td>\n",
       "      <td>NaN</td>\n",
       "      <td>125000</td>\n",
       "      <td>5</td>\n",
       "      <td>gasoline</td>\n",
       "      <td>audi</td>\n",
       "      <td>yes</td>\n",
       "      <td>24/03/2016 00:00</td>\n",
       "      <td>0</td>\n",
       "      <td>66954</td>\n",
       "      <td>07/04/2016 01:46</td>\n",
       "    </tr>\n",
       "    <tr>\n",
       "      <th>2</th>\n",
       "      <td>14/03/2016 12:52</td>\n",
       "      <td>9800</td>\n",
       "      <td>suv</td>\n",
       "      <td>2004</td>\n",
       "      <td>auto</td>\n",
       "      <td>163</td>\n",
       "      <td>grand</td>\n",
       "      <td>125000</td>\n",
       "      <td>8</td>\n",
       "      <td>gasoline</td>\n",
       "      <td>jeep</td>\n",
       "      <td>NaN</td>\n",
       "      <td>14/03/2016 00:00</td>\n",
       "      <td>0</td>\n",
       "      <td>90480</td>\n",
       "      <td>05/04/2016 12:47</td>\n",
       "    </tr>\n",
       "    <tr>\n",
       "      <th>3</th>\n",
       "      <td>17/03/2016 16:54</td>\n",
       "      <td>1500</td>\n",
       "      <td>small</td>\n",
       "      <td>2001</td>\n",
       "      <td>manual</td>\n",
       "      <td>75</td>\n",
       "      <td>golf</td>\n",
       "      <td>150000</td>\n",
       "      <td>6</td>\n",
       "      <td>petrol</td>\n",
       "      <td>volkswagen</td>\n",
       "      <td>no</td>\n",
       "      <td>17/03/2016 00:00</td>\n",
       "      <td>0</td>\n",
       "      <td>91074</td>\n",
       "      <td>17/03/2016 17:40</td>\n",
       "    </tr>\n",
       "    <tr>\n",
       "      <th>4</th>\n",
       "      <td>31/03/2016 17:25</td>\n",
       "      <td>3600</td>\n",
       "      <td>small</td>\n",
       "      <td>2008</td>\n",
       "      <td>manual</td>\n",
       "      <td>69</td>\n",
       "      <td>fabia</td>\n",
       "      <td>90000</td>\n",
       "      <td>7</td>\n",
       "      <td>gasoline</td>\n",
       "      <td>skoda</td>\n",
       "      <td>no</td>\n",
       "      <td>31/03/2016 00:00</td>\n",
       "      <td>0</td>\n",
       "      <td>60437</td>\n",
       "      <td>06/04/2016 10:17</td>\n",
       "    </tr>\n",
       "  </tbody>\n",
       "</table>\n",
       "</div>"
      ],
      "text/plain": [
       "        DateCrawled  Price VehicleType  RegistrationYear Gearbox  Power  \\\n",
       "0  24/03/2016 11:52    480         NaN              1993  manual      0   \n",
       "1  24/03/2016 10:58  18300       coupe              2011  manual    190   \n",
       "2  14/03/2016 12:52   9800         suv              2004    auto    163   \n",
       "3  17/03/2016 16:54   1500       small              2001  manual     75   \n",
       "4  31/03/2016 17:25   3600       small              2008  manual     69   \n",
       "\n",
       "   Model  Mileage  RegistrationMonth  FuelType       Brand NotRepaired  \\\n",
       "0   golf   150000                  0    petrol  volkswagen         NaN   \n",
       "1    NaN   125000                  5  gasoline        audi         yes   \n",
       "2  grand   125000                  8  gasoline        jeep         NaN   \n",
       "3   golf   150000                  6    petrol  volkswagen          no   \n",
       "4  fabia    90000                  7  gasoline       skoda          no   \n",
       "\n",
       "        DateCreated  NumberOfPictures  PostalCode          LastSeen  \n",
       "0  24/03/2016 00:00                 0       70435  07/04/2016 03:16  \n",
       "1  24/03/2016 00:00                 0       66954  07/04/2016 01:46  \n",
       "2  14/03/2016 00:00                 0       90480  05/04/2016 12:47  \n",
       "3  17/03/2016 00:00                 0       91074  17/03/2016 17:40  \n",
       "4  31/03/2016 00:00                 0       60437  06/04/2016 10:17  "
      ]
     },
     "execution_count": 69,
     "metadata": {},
     "output_type": "execute_result"
    }
   ],
   "source": [
    "df = pd.read_csv('/datasets/car_data.csv')\n",
    "df.head()"
   ]
  },
  {
   "cell_type": "code",
   "execution_count": 70,
   "metadata": {},
   "outputs": [
    {
     "data": {
      "text/plain": [
       "Index(['datecrawled', 'price', 'vehicletype', 'registrationyear', 'gearbox',\n",
       "       'power', 'model', 'mileage', 'registrationmonth', 'fueltype', 'brand',\n",
       "       'notrepaired', 'datecreated', 'numberofpictures', 'postalcode',\n",
       "       'lastseen'],\n",
       "      dtype='object')"
      ]
     },
     "execution_count": 70,
     "metadata": {},
     "output_type": "execute_result"
    }
   ],
   "source": [
    "df.columns = df.columns.str.lower()\n",
    "df.columns"
   ]
  },
  {
   "cell_type": "markdown",
   "metadata": {},
   "source": [
    "### Info"
   ]
  },
  {
   "cell_type": "code",
   "execution_count": 71,
   "metadata": {},
   "outputs": [
    {
     "name": "stdout",
     "output_type": "stream",
     "text": [
      "<class 'pandas.core.frame.DataFrame'>\n",
      "RangeIndex: 354369 entries, 0 to 354368\n",
      "Data columns (total 16 columns):\n",
      " #   Column             Non-Null Count   Dtype \n",
      "---  ------             --------------   ----- \n",
      " 0   datecrawled        354369 non-null  object\n",
      " 1   price              354369 non-null  int64 \n",
      " 2   vehicletype        316879 non-null  object\n",
      " 3   registrationyear   354369 non-null  int64 \n",
      " 4   gearbox            334536 non-null  object\n",
      " 5   power              354369 non-null  int64 \n",
      " 6   model              334664 non-null  object\n",
      " 7   mileage            354369 non-null  int64 \n",
      " 8   registrationmonth  354369 non-null  int64 \n",
      " 9   fueltype           321474 non-null  object\n",
      " 10  brand              354369 non-null  object\n",
      " 11  notrepaired        283215 non-null  object\n",
      " 12  datecreated        354369 non-null  object\n",
      " 13  numberofpictures   354369 non-null  int64 \n",
      " 14  postalcode         354369 non-null  int64 \n",
      " 15  lastseen           354369 non-null  object\n",
      "dtypes: int64(7), object(9)\n",
      "memory usage: 43.3+ MB\n"
     ]
    }
   ],
   "source": [
    "df.info()"
   ]
  },
  {
   "cell_type": "markdown",
   "metadata": {},
   "source": [
    "We have some object data types here, we'll deal with them later."
   ]
  },
  {
   "cell_type": "markdown",
   "metadata": {},
   "source": [
    "### Description"
   ]
  },
  {
   "cell_type": "code",
   "execution_count": 72,
   "metadata": {},
   "outputs": [
    {
     "data": {
      "text/html": [
       "<div>\n",
       "<style scoped>\n",
       "    .dataframe tbody tr th:only-of-type {\n",
       "        vertical-align: middle;\n",
       "    }\n",
       "\n",
       "    .dataframe tbody tr th {\n",
       "        vertical-align: top;\n",
       "    }\n",
       "\n",
       "    .dataframe thead th {\n",
       "        text-align: right;\n",
       "    }\n",
       "</style>\n",
       "<table border=\"1\" class=\"dataframe\">\n",
       "  <thead>\n",
       "    <tr style=\"text-align: right;\">\n",
       "      <th></th>\n",
       "      <th>datecrawled</th>\n",
       "      <th>price</th>\n",
       "      <th>vehicletype</th>\n",
       "      <th>registrationyear</th>\n",
       "      <th>gearbox</th>\n",
       "      <th>power</th>\n",
       "      <th>model</th>\n",
       "      <th>mileage</th>\n",
       "      <th>registrationmonth</th>\n",
       "      <th>fueltype</th>\n",
       "      <th>brand</th>\n",
       "      <th>notrepaired</th>\n",
       "      <th>datecreated</th>\n",
       "      <th>numberofpictures</th>\n",
       "      <th>postalcode</th>\n",
       "      <th>lastseen</th>\n",
       "    </tr>\n",
       "  </thead>\n",
       "  <tbody>\n",
       "    <tr>\n",
       "      <th>count</th>\n",
       "      <td>354369</td>\n",
       "      <td>354369.000000</td>\n",
       "      <td>316879</td>\n",
       "      <td>354369.000000</td>\n",
       "      <td>334536</td>\n",
       "      <td>354369.000000</td>\n",
       "      <td>334664</td>\n",
       "      <td>354369.000000</td>\n",
       "      <td>354369.000000</td>\n",
       "      <td>321474</td>\n",
       "      <td>354369</td>\n",
       "      <td>283215</td>\n",
       "      <td>354369</td>\n",
       "      <td>354369.0</td>\n",
       "      <td>354369.000000</td>\n",
       "      <td>354369</td>\n",
       "    </tr>\n",
       "    <tr>\n",
       "      <th>unique</th>\n",
       "      <td>15470</td>\n",
       "      <td>NaN</td>\n",
       "      <td>8</td>\n",
       "      <td>NaN</td>\n",
       "      <td>2</td>\n",
       "      <td>NaN</td>\n",
       "      <td>250</td>\n",
       "      <td>NaN</td>\n",
       "      <td>NaN</td>\n",
       "      <td>7</td>\n",
       "      <td>40</td>\n",
       "      <td>2</td>\n",
       "      <td>109</td>\n",
       "      <td>NaN</td>\n",
       "      <td>NaN</td>\n",
       "      <td>18592</td>\n",
       "    </tr>\n",
       "    <tr>\n",
       "      <th>top</th>\n",
       "      <td>05/03/2016 14:25</td>\n",
       "      <td>NaN</td>\n",
       "      <td>sedan</td>\n",
       "      <td>NaN</td>\n",
       "      <td>manual</td>\n",
       "      <td>NaN</td>\n",
       "      <td>golf</td>\n",
       "      <td>NaN</td>\n",
       "      <td>NaN</td>\n",
       "      <td>petrol</td>\n",
       "      <td>volkswagen</td>\n",
       "      <td>no</td>\n",
       "      <td>03/04/2016 00:00</td>\n",
       "      <td>NaN</td>\n",
       "      <td>NaN</td>\n",
       "      <td>07/04/2016 07:16</td>\n",
       "    </tr>\n",
       "    <tr>\n",
       "      <th>freq</th>\n",
       "      <td>66</td>\n",
       "      <td>NaN</td>\n",
       "      <td>91457</td>\n",
       "      <td>NaN</td>\n",
       "      <td>268251</td>\n",
       "      <td>NaN</td>\n",
       "      <td>29232</td>\n",
       "      <td>NaN</td>\n",
       "      <td>NaN</td>\n",
       "      <td>216352</td>\n",
       "      <td>77013</td>\n",
       "      <td>247161</td>\n",
       "      <td>13719</td>\n",
       "      <td>NaN</td>\n",
       "      <td>NaN</td>\n",
       "      <td>654</td>\n",
       "    </tr>\n",
       "    <tr>\n",
       "      <th>mean</th>\n",
       "      <td>NaN</td>\n",
       "      <td>4416.656776</td>\n",
       "      <td>NaN</td>\n",
       "      <td>2004.234448</td>\n",
       "      <td>NaN</td>\n",
       "      <td>110.094337</td>\n",
       "      <td>NaN</td>\n",
       "      <td>128211.172535</td>\n",
       "      <td>5.714645</td>\n",
       "      <td>NaN</td>\n",
       "      <td>NaN</td>\n",
       "      <td>NaN</td>\n",
       "      <td>NaN</td>\n",
       "      <td>0.0</td>\n",
       "      <td>50508.689087</td>\n",
       "      <td>NaN</td>\n",
       "    </tr>\n",
       "    <tr>\n",
       "      <th>std</th>\n",
       "      <td>NaN</td>\n",
       "      <td>4514.158514</td>\n",
       "      <td>NaN</td>\n",
       "      <td>90.227958</td>\n",
       "      <td>NaN</td>\n",
       "      <td>189.850405</td>\n",
       "      <td>NaN</td>\n",
       "      <td>37905.341530</td>\n",
       "      <td>3.726421</td>\n",
       "      <td>NaN</td>\n",
       "      <td>NaN</td>\n",
       "      <td>NaN</td>\n",
       "      <td>NaN</td>\n",
       "      <td>0.0</td>\n",
       "      <td>25783.096248</td>\n",
       "      <td>NaN</td>\n",
       "    </tr>\n",
       "    <tr>\n",
       "      <th>min</th>\n",
       "      <td>NaN</td>\n",
       "      <td>0.000000</td>\n",
       "      <td>NaN</td>\n",
       "      <td>1000.000000</td>\n",
       "      <td>NaN</td>\n",
       "      <td>0.000000</td>\n",
       "      <td>NaN</td>\n",
       "      <td>5000.000000</td>\n",
       "      <td>0.000000</td>\n",
       "      <td>NaN</td>\n",
       "      <td>NaN</td>\n",
       "      <td>NaN</td>\n",
       "      <td>NaN</td>\n",
       "      <td>0.0</td>\n",
       "      <td>1067.000000</td>\n",
       "      <td>NaN</td>\n",
       "    </tr>\n",
       "    <tr>\n",
       "      <th>25%</th>\n",
       "      <td>NaN</td>\n",
       "      <td>1050.000000</td>\n",
       "      <td>NaN</td>\n",
       "      <td>1999.000000</td>\n",
       "      <td>NaN</td>\n",
       "      <td>69.000000</td>\n",
       "      <td>NaN</td>\n",
       "      <td>125000.000000</td>\n",
       "      <td>3.000000</td>\n",
       "      <td>NaN</td>\n",
       "      <td>NaN</td>\n",
       "      <td>NaN</td>\n",
       "      <td>NaN</td>\n",
       "      <td>0.0</td>\n",
       "      <td>30165.000000</td>\n",
       "      <td>NaN</td>\n",
       "    </tr>\n",
       "    <tr>\n",
       "      <th>50%</th>\n",
       "      <td>NaN</td>\n",
       "      <td>2700.000000</td>\n",
       "      <td>NaN</td>\n",
       "      <td>2003.000000</td>\n",
       "      <td>NaN</td>\n",
       "      <td>105.000000</td>\n",
       "      <td>NaN</td>\n",
       "      <td>150000.000000</td>\n",
       "      <td>6.000000</td>\n",
       "      <td>NaN</td>\n",
       "      <td>NaN</td>\n",
       "      <td>NaN</td>\n",
       "      <td>NaN</td>\n",
       "      <td>0.0</td>\n",
       "      <td>49413.000000</td>\n",
       "      <td>NaN</td>\n",
       "    </tr>\n",
       "    <tr>\n",
       "      <th>75%</th>\n",
       "      <td>NaN</td>\n",
       "      <td>6400.000000</td>\n",
       "      <td>NaN</td>\n",
       "      <td>2008.000000</td>\n",
       "      <td>NaN</td>\n",
       "      <td>143.000000</td>\n",
       "      <td>NaN</td>\n",
       "      <td>150000.000000</td>\n",
       "      <td>9.000000</td>\n",
       "      <td>NaN</td>\n",
       "      <td>NaN</td>\n",
       "      <td>NaN</td>\n",
       "      <td>NaN</td>\n",
       "      <td>0.0</td>\n",
       "      <td>71083.000000</td>\n",
       "      <td>NaN</td>\n",
       "    </tr>\n",
       "    <tr>\n",
       "      <th>max</th>\n",
       "      <td>NaN</td>\n",
       "      <td>20000.000000</td>\n",
       "      <td>NaN</td>\n",
       "      <td>9999.000000</td>\n",
       "      <td>NaN</td>\n",
       "      <td>20000.000000</td>\n",
       "      <td>NaN</td>\n",
       "      <td>150000.000000</td>\n",
       "      <td>12.000000</td>\n",
       "      <td>NaN</td>\n",
       "      <td>NaN</td>\n",
       "      <td>NaN</td>\n",
       "      <td>NaN</td>\n",
       "      <td>0.0</td>\n",
       "      <td>99998.000000</td>\n",
       "      <td>NaN</td>\n",
       "    </tr>\n",
       "  </tbody>\n",
       "</table>\n",
       "</div>"
      ],
      "text/plain": [
       "             datecrawled          price vehicletype  registrationyear gearbox  \\\n",
       "count             354369  354369.000000      316879     354369.000000  334536   \n",
       "unique             15470            NaN           8               NaN       2   \n",
       "top     05/03/2016 14:25            NaN       sedan               NaN  manual   \n",
       "freq                  66            NaN       91457               NaN  268251   \n",
       "mean                 NaN    4416.656776         NaN       2004.234448     NaN   \n",
       "std                  NaN    4514.158514         NaN         90.227958     NaN   \n",
       "min                  NaN       0.000000         NaN       1000.000000     NaN   \n",
       "25%                  NaN    1050.000000         NaN       1999.000000     NaN   \n",
       "50%                  NaN    2700.000000         NaN       2003.000000     NaN   \n",
       "75%                  NaN    6400.000000         NaN       2008.000000     NaN   \n",
       "max                  NaN   20000.000000         NaN       9999.000000     NaN   \n",
       "\n",
       "                power   model        mileage  registrationmonth fueltype  \\\n",
       "count   354369.000000  334664  354369.000000      354369.000000   321474   \n",
       "unique            NaN     250            NaN                NaN        7   \n",
       "top               NaN    golf            NaN                NaN   petrol   \n",
       "freq              NaN   29232            NaN                NaN   216352   \n",
       "mean       110.094337     NaN  128211.172535           5.714645      NaN   \n",
       "std        189.850405     NaN   37905.341530           3.726421      NaN   \n",
       "min          0.000000     NaN    5000.000000           0.000000      NaN   \n",
       "25%         69.000000     NaN  125000.000000           3.000000      NaN   \n",
       "50%        105.000000     NaN  150000.000000           6.000000      NaN   \n",
       "75%        143.000000     NaN  150000.000000           9.000000      NaN   \n",
       "max      20000.000000     NaN  150000.000000          12.000000      NaN   \n",
       "\n",
       "             brand notrepaired       datecreated  numberofpictures  \\\n",
       "count       354369      283215            354369          354369.0   \n",
       "unique          40           2               109               NaN   \n",
       "top     volkswagen          no  03/04/2016 00:00               NaN   \n",
       "freq         77013      247161             13719               NaN   \n",
       "mean           NaN         NaN               NaN               0.0   \n",
       "std            NaN         NaN               NaN               0.0   \n",
       "min            NaN         NaN               NaN               0.0   \n",
       "25%            NaN         NaN               NaN               0.0   \n",
       "50%            NaN         NaN               NaN               0.0   \n",
       "75%            NaN         NaN               NaN               0.0   \n",
       "max            NaN         NaN               NaN               0.0   \n",
       "\n",
       "           postalcode          lastseen  \n",
       "count   354369.000000            354369  \n",
       "unique            NaN             18592  \n",
       "top               NaN  07/04/2016 07:16  \n",
       "freq              NaN               654  \n",
       "mean     50508.689087               NaN  \n",
       "std      25783.096248               NaN  \n",
       "min       1067.000000               NaN  \n",
       "25%      30165.000000               NaN  \n",
       "50%      49413.000000               NaN  \n",
       "75%      71083.000000               NaN  \n",
       "max      99998.000000               NaN  "
      ]
     },
     "execution_count": 72,
     "metadata": {},
     "output_type": "execute_result"
    }
   ],
   "source": [
    "df.describe(include='all')"
   ]
  },
  {
   "cell_type": "markdown",
   "metadata": {},
   "source": [
    "We can see that we have NaNs all over the place..."
   ]
  },
  {
   "cell_type": "markdown",
   "metadata": {},
   "source": [
    "<div class=\"alert alert-success\">\n",
    "<b>Reviewer's comment</b>\n",
    "\t  \n",
    "The data was loaded and inspected\n",
    "\t  \n",
    "</div>"
   ]
  },
  {
   "cell_type": "markdown",
   "metadata": {},
   "source": [
    "### Duplicates"
   ]
  },
  {
   "cell_type": "code",
   "execution_count": 73,
   "metadata": {},
   "outputs": [
    {
     "data": {
      "text/plain": [
       "0.07393423239617461"
      ]
     },
     "execution_count": 73,
     "metadata": {},
     "output_type": "execute_result"
    }
   ],
   "source": [
    "df.duplicated().sum()/len(df) * 100"
   ]
  },
  {
   "cell_type": "markdown",
   "metadata": {},
   "source": [
    "We have less than 1% of duplicates, we'll get rid of them:"
   ]
  },
  {
   "cell_type": "code",
   "execution_count": 74,
   "metadata": {},
   "outputs": [
    {
     "data": {
      "text/plain": [
       "0"
      ]
     },
     "execution_count": 74,
     "metadata": {},
     "output_type": "execute_result"
    }
   ],
   "source": [
    "df.drop_duplicates(inplace=True)\n",
    "df.duplicated().sum()"
   ]
  },
  {
   "cell_type": "markdown",
   "metadata": {},
   "source": [
    "No duplicates :)"
   ]
  },
  {
   "cell_type": "markdown",
   "metadata": {},
   "source": [
    "<div class=\"alert alert-success\">\n",
    "<b>Reviewer's comment</b>\n",
    "\t  \n",
    "Duplicates were removed\n",
    "\t  \n",
    "</div>"
   ]
  },
  {
   "cell_type": "markdown",
   "metadata": {},
   "source": [
    "### Missing values"
   ]
  },
  {
   "cell_type": "code",
   "execution_count": 75,
   "metadata": {},
   "outputs": [
    {
     "data": {
      "text/html": [
       "<div>\n",
       "<style scoped>\n",
       "    .dataframe tbody tr th:only-of-type {\n",
       "        vertical-align: middle;\n",
       "    }\n",
       "\n",
       "    .dataframe tbody tr th {\n",
       "        vertical-align: top;\n",
       "    }\n",
       "\n",
       "    .dataframe thead th {\n",
       "        text-align: right;\n",
       "    }\n",
       "</style>\n",
       "<table border=\"1\" class=\"dataframe\">\n",
       "  <thead>\n",
       "    <tr style=\"text-align: right;\">\n",
       "      <th></th>\n",
       "      <th>missing</th>\n",
       "      <th>total</th>\n",
       "      <th>percent</th>\n",
       "    </tr>\n",
       "  </thead>\n",
       "  <tbody>\n",
       "    <tr>\n",
       "      <th>notrepaired</th>\n",
       "      <td>71145</td>\n",
       "      <td>354107</td>\n",
       "      <td>20.091385</td>\n",
       "    </tr>\n",
       "    <tr>\n",
       "      <th>vehicletype</th>\n",
       "      <td>37484</td>\n",
       "      <td>354107</td>\n",
       "      <td>10.585501</td>\n",
       "    </tr>\n",
       "    <tr>\n",
       "      <th>fueltype</th>\n",
       "      <td>32889</td>\n",
       "      <td>354107</td>\n",
       "      <td>9.287871</td>\n",
       "    </tr>\n",
       "    <tr>\n",
       "      <th>gearbox</th>\n",
       "      <td>19830</td>\n",
       "      <td>354107</td>\n",
       "      <td>5.600002</td>\n",
       "    </tr>\n",
       "    <tr>\n",
       "      <th>model</th>\n",
       "      <td>19701</td>\n",
       "      <td>354107</td>\n",
       "      <td>5.563573</td>\n",
       "    </tr>\n",
       "  </tbody>\n",
       "</table>\n",
       "</div>"
      ],
      "text/plain": [
       "             missing   total    percent\n",
       "notrepaired    71145  354107  20.091385\n",
       "vehicletype    37484  354107  10.585501\n",
       "fueltype       32889  354107   9.287871\n",
       "gearbox        19830  354107   5.600002\n",
       "model          19701  354107   5.563573"
      ]
     },
     "execution_count": 75,
     "metadata": {},
     "output_type": "execute_result"
    }
   ],
   "source": [
    "df.stb.missing().head()"
   ]
  },
  {
   "cell_type": "markdown",
   "metadata": {},
   "source": [
    "We have a lot of miising values, let's fill them:"
   ]
  },
  {
   "cell_type": "code",
   "execution_count": 76,
   "metadata": {
    "scrolled": true
   },
   "outputs": [],
   "source": [
    "df.notrepaired.fillna('no', inplace=True)\n",
    "df.vehicletype.fillna('sedan', inplace=True)\n",
    "df.fueltype.fillna('petrol', inplace=True)\n",
    "df.gearbox.fillna('manual', inplace=True)\n",
    "df.model.fillna('golf', inplace=True)\n",
    "\n",
    "df.price.fillna(df.price.mean(), inplace=True)\n",
    "df.registrationyear.fillna(int(df.registrationyear.median()), inplace=True)\n",
    "df.power.fillna(int(df.power.mean()), inplace=True)\n",
    "df.mileage.fillna(df.mileage.mean(), inplace=True)\n",
    "df.registrationmonth.fillna(df.registrationmonth.mode(), inplace=True)"
   ]
  },
  {
   "cell_type": "code",
   "execution_count": 77,
   "metadata": {},
   "outputs": [
    {
     "data": {
      "text/html": [
       "<div>\n",
       "<style scoped>\n",
       "    .dataframe tbody tr th:only-of-type {\n",
       "        vertical-align: middle;\n",
       "    }\n",
       "\n",
       "    .dataframe tbody tr th {\n",
       "        vertical-align: top;\n",
       "    }\n",
       "\n",
       "    .dataframe thead th {\n",
       "        text-align: right;\n",
       "    }\n",
       "</style>\n",
       "<table border=\"1\" class=\"dataframe\">\n",
       "  <thead>\n",
       "    <tr style=\"text-align: right;\">\n",
       "      <th></th>\n",
       "      <th>missing</th>\n",
       "      <th>total</th>\n",
       "      <th>percent</th>\n",
       "    </tr>\n",
       "  </thead>\n",
       "  <tbody>\n",
       "    <tr>\n",
       "      <th>datecrawled</th>\n",
       "      <td>0</td>\n",
       "      <td>354107</td>\n",
       "      <td>0.0</td>\n",
       "    </tr>\n",
       "    <tr>\n",
       "      <th>price</th>\n",
       "      <td>0</td>\n",
       "      <td>354107</td>\n",
       "      <td>0.0</td>\n",
       "    </tr>\n",
       "    <tr>\n",
       "      <th>vehicletype</th>\n",
       "      <td>0</td>\n",
       "      <td>354107</td>\n",
       "      <td>0.0</td>\n",
       "    </tr>\n",
       "    <tr>\n",
       "      <th>registrationyear</th>\n",
       "      <td>0</td>\n",
       "      <td>354107</td>\n",
       "      <td>0.0</td>\n",
       "    </tr>\n",
       "    <tr>\n",
       "      <th>gearbox</th>\n",
       "      <td>0</td>\n",
       "      <td>354107</td>\n",
       "      <td>0.0</td>\n",
       "    </tr>\n",
       "  </tbody>\n",
       "</table>\n",
       "</div>"
      ],
      "text/plain": [
       "                  missing   total  percent\n",
       "datecrawled             0  354107      0.0\n",
       "price                   0  354107      0.0\n",
       "vehicletype             0  354107      0.0\n",
       "registrationyear        0  354107      0.0\n",
       "gearbox                 0  354107      0.0"
      ]
     },
     "execution_count": 77,
     "metadata": {},
     "output_type": "execute_result"
    }
   ],
   "source": [
    "df.stb.missing().head()"
   ]
  },
  {
   "cell_type": "markdown",
   "metadata": {},
   "source": [
    "No missing values here :)"
   ]
  },
  {
   "cell_type": "markdown",
   "metadata": {},
   "source": [
    "<div class=\"alert alert-warning\">\n",
    "<b>Reviewer's comment</b>\n",
    "\t  \n",
    "Would be nice if you explained how you filled the missing values for categorical features. I guess those are the most common values?\n",
    "\t  \n",
    "</div>"
   ]
  },
  {
   "cell_type": "markdown",
   "metadata": {},
   "source": [
    "<div class=\"alert alert-info\">\n",
    "  Yes, you're right :)\n",
    "</div>"
   ]
  },
  {
   "cell_type": "markdown",
   "metadata": {},
   "source": [
    "<div class=\"alert alert-success\">\n",
    "<b>Reviewer's comment V2</b>\n",
    "\t  \n",
    "Ok!\n",
    "\t  \n",
    "</div>"
   ]
  },
  {
   "cell_type": "markdown",
   "metadata": {},
   "source": [
    "### Dropping unnecessary columns"
   ]
  },
  {
   "cell_type": "markdown",
   "metadata": {},
   "source": [
    "It seems that dates and postal codes columns don't have added value for us. We'll drop them:"
   ]
  },
  {
   "cell_type": "code",
   "execution_count": 78,
   "metadata": {},
   "outputs": [
    {
     "data": {
      "text/plain": [
       "Index(['price', 'vehicletype', 'registrationyear', 'gearbox', 'power', 'model',\n",
       "       'mileage', 'registrationmonth', 'fueltype', 'brand', 'notrepaired'],\n",
       "      dtype='object')"
      ]
     },
     "execution_count": 78,
     "metadata": {},
     "output_type": "execute_result"
    }
   ],
   "source": [
    "columns = ['datecrawled', 'datecreated', 'postalcode', 'lastseen', 'numberofpictures']\n",
    "df.drop(columns, axis=1, inplace=True)\n",
    "df.columns"
   ]
  },
  {
   "cell_type": "markdown",
   "metadata": {},
   "source": [
    "<div class=\"alert alert-warning\">\n",
    "<b>Reviewer's comment</b>\n",
    "\t  \n",
    "Ok, makes sense. There's another useless column: `NumberOfPictures`, which is a constant 0 (see the distribution below)\n",
    "\t  \n",
    "</div>"
   ]
  },
  {
   "cell_type": "markdown",
   "metadata": {},
   "source": [
    "<div class=\"alert alert-info\">\n",
    "  Thanks, corrected :)\n",
    "</div>"
   ]
  },
  {
   "cell_type": "markdown",
   "metadata": {},
   "source": [
    "<div class=\"alert alert-success\">\n",
    "<b>Reviewer's comment V2</b>\n",
    "\t  \n",
    "Great!\n",
    "\t  \n",
    "</div>"
   ]
  },
  {
   "cell_type": "markdown",
   "metadata": {},
   "source": [
    "### Distributions"
   ]
  },
  {
   "cell_type": "code",
   "execution_count": 79,
   "metadata": {},
   "outputs": [
    {
     "data": {
      "image/png": "[encoded data removed]",
      "text/plain": [
       "<Figure size 720x720 with 6 Axes>"
      ]
     },
     "metadata": {
      "needs_background": "light"
     },
     "output_type": "display_data"
    }
   ],
   "source": [
    "df.hist(figsize=(10, 10), bins=50, xrot=25) \n",
    "plt.show()"
   ]
  },
  {
   "cell_type": "markdown",
   "metadata": {},
   "source": [
    "We can see visually the characteristics of our data, for example: the price distribution is not normal etc."
   ]
  },
  {
   "cell_type": "markdown",
   "metadata": {},
   "source": [
    "### Dropping outliers"
   ]
  },
  {
   "cell_type": "code",
   "execution_count": 80,
   "metadata": {},
   "outputs": [],
   "source": [
    "condition1 = (df.registrationyear > 1950) & (df.registrationyear <= 2021)\n",
    "condition2 = df.price > 0\n",
    "condition3 = (df.power > 0) & (df.power < 1500)\n",
    "\n",
    "df = df[condition1 & condition2 & condition3]"
   ]
  },
  {
   "cell_type": "markdown",
   "metadata": {},
   "source": [
    "### Conclusion\n",
    "In this section, we:\n",
    "* imported the required libraries\n",
    "* dropped the duplicates\n",
    "* dealed with missing values\n",
    "* dropped unnecessary columns\n",
    "* plotted the data distributions\n",
    "* dropped outliers"
   ]
  },
  {
   "cell_type": "markdown",
   "metadata": {},
   "source": [
    "<div class=\"alert alert-warning\">\n",
    "<b>Reviewer's comment</b>\n",
    "\t  \n",
    "You seem to have missed a couple of things that could be cleaned up, like: `registrationyear` has minimum 1000, which doesn't make sense; minimal price of 0 (apparently a lot of people are just giving away their cars on this app); power ranges up to 20000, but the most powerful cars in the world have only about 1500 hp.\n",
    "\t  \n",
    "</div>"
   ]
  },
  {
   "cell_type": "markdown",
   "metadata": {},
   "source": [
    "<div class=\"alert alert-info\">\n",
    "  Thanks, corrected :)\n",
    "</div>"
   ]
  },
  {
   "cell_type": "markdown",
   "metadata": {},
   "source": [
    "<div class=\"alert alert-success\">\n",
    "<b>Reviewer's comment V2</b>\n",
    "\t  \n",
    "Cool!\n",
    "\t  \n",
    "</div>"
   ]
  },
  {
   "cell_type": "markdown",
   "metadata": {},
   "source": [
    "## Model training"
   ]
  },
  {
   "cell_type": "markdown",
   "metadata": {},
   "source": [
    "### Features & Targets"
   ]
  },
  {
   "cell_type": "markdown",
   "metadata": {},
   "source": [
    "We'll use One-Hot-Encoding for the categorical columns:"
   ]
  },
  {
   "cell_type": "code",
   "execution_count": 81,
   "metadata": {
    "scrolled": false
   },
   "outputs": [],
   "source": [
    "df_ohe = pd.get_dummies(df, drop_first=True)\n",
    "\n",
    "features = df_ohe.drop('price', axis=1)\n",
    "target = df_ohe.price"
   ]
  },
  {
   "cell_type": "markdown",
   "metadata": {},
   "source": [
    "<div class=\"alert alert-success\">\n",
    "<b>Reviewer's comment</b>\n",
    "\t  \n",
    "Categorical features were encoded with OHE for models that don't have their own means of encoding categorical features\n",
    "    \n",
    "</div>"
   ]
  },
  {
   "cell_type": "code",
   "execution_count": 82,
   "metadata": {},
   "outputs": [
    {
     "name": "stdout",
     "output_type": "stream",
     "text": [
      "0.6 0.2 0.2\n"
     ]
    }
   ],
   "source": [
    "features_train, features_valid, target_train, target_valid = train_test_split(features, target, test_size=0.4, random_state=12345)\n",
    "features_test, features_valid, target_test, target_valid = train_test_split(features_valid, target_valid, test_size=0.5, random_state=12345)\n",
    "\n",
    "train_len = round(features_train.shape[0]/len(df), 2)\n",
    "valid_len = round(features_valid.shape[0]/len(df), 2)\n",
    "test_len = round(features_test.shape[0]/len(df), 2)\n",
    "print(train_len, valid_len, test_len)     "
   ]
  },
  {
   "cell_type": "markdown",
   "metadata": {},
   "source": [
    "<div class=\"alert alert-success\">\n",
    "<b>Reviewer's comment</b>\n",
    "\t  \n",
    "The split into train and test is reasonable\n",
    "\t  \n",
    "</div>"
   ]
  },
  {
   "cell_type": "markdown",
   "metadata": {},
   "source": [
    "### Scaling"
   ]
  },
  {
   "cell_type": "code",
   "execution_count": 83,
   "metadata": {},
   "outputs": [
    {
     "data": {
      "text/plain": [
       "array([[ 0.97151442, -0.52920248, -0.77494406, ...,  1.89502328,\n",
       "        -0.09784372, -0.32650729],\n",
       "       [-0.62408864, -1.0474302 , -0.09407631, ..., -0.527698  ,\n",
       "        -0.09784372, -0.32650729],\n",
       "       [ 0.53634995,  0.33451039,  0.58679145, ...,  1.89502328,\n",
       "        -0.09784372, -0.32650729],\n",
       "       ...,\n",
       "       [-1.05925311, -0.78831634, -2.13667958, ..., -0.527698  ,\n",
       "        -0.09784372, -0.32650729],\n",
       "       [ 0.82645959,  0.97365792,  0.58679145, ..., -0.527698  ,\n",
       "        -0.09784372, -0.32650729],\n",
       "       [-0.33397899,  0.17904208,  0.58679145, ..., -0.527698  ,\n",
       "        -0.09784372, -0.32650729]])"
      ]
     },
     "execution_count": 83,
     "metadata": {},
     "output_type": "execute_result"
    }
   ],
   "source": [
    "scaler = StandardScaler()\n",
    "scaler.fit(features_train)\n",
    "scaler.transform(features_train)\n",
    "scaler.transform(features_valid)\n"
   ]
  },
  {
   "cell_type": "markdown",
   "metadata": {},
   "source": [
    "<div class=\"alert alert-success\">\n",
    "<b>Reviewer's comment</b>\n",
    "\t  \n",
    "Scaling was applied correctly\n",
    "\t  \n",
    "</div>"
   ]
  },
  {
   "cell_type": "markdown",
   "metadata": {},
   "source": [
    "\n",
    "### Random Forest"
   ]
  },
  {
   "cell_type": "markdown",
   "metadata": {},
   "source": [
    "##### v1"
   ]
  },
  {
   "cell_type": "code",
   "execution_count": 84,
   "metadata": {},
   "outputs": [
    {
     "name": "stdout",
     "output_type": "stream",
     "text": [
      "CPU times: user 7.94 s, sys: 152 ms, total: 8.09 s\n",
      "Wall time: 8.32 s\n"
     ]
    },
    {
     "data": {
      "text/plain": [
       "RandomForestRegressor(bootstrap=True, criterion='mse', max_depth=5,\n",
       "                      max_features='auto', max_leaf_nodes=None,\n",
       "                      min_impurity_decrease=0.0, min_impurity_split=None,\n",
       "                      min_samples_leaf=1, min_samples_split=2,\n",
       "                      min_weight_fraction_leaf=0.0, n_estimators=5, n_jobs=None,\n",
       "                      oob_score=False, random_state=None, verbose=0,\n",
       "                      warm_start=False)"
      ]
     },
     "execution_count": 84,
     "metadata": {},
     "output_type": "execute_result"
    }
   ],
   "source": [
    "%%time\n",
    "\n",
    "model = RandomForestRegressor(n_estimators=5, max_depth=5)\n",
    "model.fit(features_train, target_train)\n"
   ]
  },
  {
   "cell_type": "code",
   "execution_count": 85,
   "metadata": {},
   "outputs": [
    {
     "name": "stdout",
     "output_type": "stream",
     "text": [
      "CPU times: user 75.5 ms, sys: 65.7 ms, total: 141 ms\n",
      "Wall time: 155 ms\n"
     ]
    }
   ],
   "source": [
    "%%time\n",
    "\n",
    "predicted_valid = model.predict(features_valid)"
   ]
  },
  {
   "cell_type": "code",
   "execution_count": 86,
   "metadata": {},
   "outputs": [
    {
     "name": "stdout",
     "output_type": "stream",
     "text": [
      "Random Forest RMSE: 2439.15\n"
     ]
    }
   ],
   "source": [
    "rf_rmse1 = round(math.sqrt(mean_squared_error(target_valid, predicted_valid)), 2)\n",
    "print('Random Forest RMSE: {}'.format(rf_rmse1))    "
   ]
  },
  {
   "cell_type": "markdown",
   "metadata": {},
   "source": [
    "##### v2"
   ]
  },
  {
   "cell_type": "code",
   "execution_count": 87,
   "metadata": {},
   "outputs": [
    {
     "name": "stdout",
     "output_type": "stream",
     "text": [
      "CPU times: user 27.8 s, sys: 100 ms, total: 27.9 s\n",
      "Wall time: 28.1 s\n"
     ]
    },
    {
     "data": {
      "text/plain": [
       "RandomForestRegressor(bootstrap=True, criterion='mse', max_depth=10,\n",
       "                      max_features='auto', max_leaf_nodes=None,\n",
       "                      min_impurity_decrease=0.0, min_impurity_split=None,\n",
       "                      min_samples_leaf=1, min_samples_split=2,\n",
       "                      min_weight_fraction_leaf=0.0, n_estimators=10,\n",
       "                      n_jobs=None, oob_score=False, random_state=None,\n",
       "                      verbose=0, warm_start=False)"
      ]
     },
     "execution_count": 87,
     "metadata": {},
     "output_type": "execute_result"
    }
   ],
   "source": [
    "%%time\n",
    "\n",
    "model = RandomForestRegressor(n_estimators=10, max_depth=10)\n",
    "model.fit(features_train, target_train)"
   ]
  },
  {
   "cell_type": "code",
   "execution_count": 88,
   "metadata": {},
   "outputs": [
    {
     "name": "stdout",
     "output_type": "stream",
     "text": [
      "CPU times: user 143 ms, sys: 60.8 ms, total: 203 ms\n",
      "Wall time: 221 ms\n"
     ]
    }
   ],
   "source": [
    "%%time\n",
    "\n",
    "predicted_valid = model.predict(features_valid)"
   ]
  },
  {
   "cell_type": "code",
   "execution_count": 89,
   "metadata": {},
   "outputs": [
    {
     "name": "stdout",
     "output_type": "stream",
     "text": [
      "Random Forest RMSE: 1925.16\n"
     ]
    }
   ],
   "source": [
    "rf_rmse2 = round(math.sqrt(mean_squared_error(target_valid, predicted_valid)), 2)\n",
    "print('Random Forest RMSE: {}'.format(rf_rmse2))    \n"
   ]
  },
  {
   "cell_type": "markdown",
   "metadata": {},
   "source": [
    "### Linear Regression"
   ]
  },
  {
   "cell_type": "code",
   "execution_count": 90,
   "metadata": {},
   "outputs": [
    {
     "name": "stdout",
     "output_type": "stream",
     "text": [
      "CPU times: user 15.6 s, sys: 4.66 s, total: 20.2 s\n",
      "Wall time: 20.2 s\n"
     ]
    },
    {
     "data": {
      "text/plain": [
       "LinearRegression(copy_X=True, fit_intercept=True, n_jobs=None, normalize=False)"
      ]
     },
     "execution_count": 90,
     "metadata": {},
     "output_type": "execute_result"
    }
   ],
   "source": [
    "%%time\n",
    "\n",
    "model = LinearRegression() \n",
    "model.fit(features_train, target_train)"
   ]
  },
  {
   "cell_type": "code",
   "execution_count": 91,
   "metadata": {},
   "outputs": [
    {
     "name": "stdout",
     "output_type": "stream",
     "text": [
      "CPU times: user 136 ms, sys: 127 ms, total: 263 ms\n",
      "Wall time: 274 ms\n"
     ]
    }
   ],
   "source": [
    "%%time\n",
    "\n",
    "predicted_valid = model.predict(features_valid)"
   ]
  },
  {
   "cell_type": "code",
   "execution_count": 92,
   "metadata": {
    "scrolled": true
   },
   "outputs": [
    {
     "name": "stdout",
     "output_type": "stream",
     "text": [
      "Linear Regression RMSE: 2737.73\n"
     ]
    }
   ],
   "source": [
    "lr_rmse = round(math.sqrt(mean_squared_error(target_valid, predicted_valid)), 2)\n",
    "print('Linear Regression RMSE: {}'.format(lr_rmse))    \n"
   ]
  },
  {
   "cell_type": "markdown",
   "metadata": {},
   "source": [
    "### Gradient Boosting Models"
   ]
  },
  {
   "cell_type": "markdown",
   "metadata": {},
   "source": [
    "In order to save the kernel live, we will decrease the number of columns:"
   ]
  },
  {
   "cell_type": "code",
   "execution_count": 93,
   "metadata": {},
   "outputs": [],
   "source": [
    "cols = features_train.columns[150:]\n",
    "feats_train = features_train.drop(cols, axis=1)\n",
    "feats_valid = features_valid.drop(cols, axis=1)"
   ]
  },
  {
   "cell_type": "markdown",
   "metadata": {},
   "source": [
    "#### XGBoost"
   ]
  },
  {
   "cell_type": "markdown",
   "metadata": {},
   "source": [
    "##### v1"
   ]
  },
  {
   "cell_type": "code",
   "execution_count": 94,
   "metadata": {},
   "outputs": [
    {
     "name": "stdout",
     "output_type": "stream",
     "text": [
      "[20:16:25] WARNING: /workspace/src/objective/regression_obj.cu:152: reg:linear is now deprecated in favor of reg:squarederror.\n",
      "CPU times: user 5.45 s, sys: 636 ms, total: 6.09 s\n",
      "Wall time: 6.31 s\n"
     ]
    },
    {
     "data": {
      "text/plain": [
       "XGBRegressor(alpha=10, base_score=0.5, booster='gbtree', colsample_bylevel=1,\n",
       "             colsample_bynode=1, colsample_bytree=0.3, gamma=0,\n",
       "             importance_type='gain', learning_rate=0.1, max_delta_step=0,\n",
       "             max_depth=5, min_child_weight=1, missing=None, n_estimators=5,\n",
       "             n_jobs=1, nthread=None, objective='reg:linear', random_state=0,\n",
       "             reg_alpha=0, reg_lambda=1, scale_pos_weight=1, seed=None,\n",
       "             silent=None, subsample=1, verbosity=1)"
      ]
     },
     "execution_count": 94,
     "metadata": {},
     "output_type": "execute_result"
    }
   ],
   "source": [
    "%%time\n",
    "\n",
    "xg_reg = xgb.XGBRegressor(objective ='reg:linear', colsample_bytree = 0.3, \\\n",
    "        learning_rate = 0.1, max_depth = 5, alpha = 10, n_estimators = 5)\n",
    "\n",
    "xg_reg.fit(feats_train, target_train)"
   ]
  },
  {
   "cell_type": "code",
   "execution_count": 95,
   "metadata": {},
   "outputs": [
    {
     "name": "stdout",
     "output_type": "stream",
     "text": [
      "CPU times: user 218 ms, sys: 143 ms, total: 361 ms\n",
      "Wall time: 375 ms\n"
     ]
    }
   ],
   "source": [
    "%%time\n",
    "\n",
    "predicted_valid = xg_reg.predict(feats_valid)"
   ]
  },
  {
   "cell_type": "code",
   "execution_count": 96,
   "metadata": {},
   "outputs": [
    {
     "name": "stdout",
     "output_type": "stream",
     "text": [
      "XGBoost RMSE: 4837.94\n"
     ]
    }
   ],
   "source": [
    "xgboost_rmse1 = round(math.sqrt(mean_squared_error(target_valid, predicted_valid)), 2)\n",
    "print('XGBoost RMSE: {}'.format(xgboost_rmse1))    "
   ]
  },
  {
   "cell_type": "markdown",
   "metadata": {},
   "source": [
    "##### v2"
   ]
  },
  {
   "cell_type": "code",
   "execution_count": 97,
   "metadata": {},
   "outputs": [
    {
     "name": "stdout",
     "output_type": "stream",
     "text": [
      "[20:16:32] WARNING: /workspace/src/objective/regression_obj.cu:152: reg:linear is now deprecated in favor of reg:squarederror.\n",
      "CPU times: user 12.6 s, sys: 648 ms, total: 13.2 s\n",
      "Wall time: 13.3 s\n"
     ]
    },
    {
     "data": {
      "text/plain": [
       "XGBRegressor(alpha=9, base_score=0.5, booster='gbtree', colsample_bylevel=1,\n",
       "             colsample_bynode=1, colsample_bytree=0.3, gamma=0,\n",
       "             importance_type='gain', learning_rate=0.1, max_delta_step=0,\n",
       "             max_depth=10, min_child_weight=1, missing=None, n_estimators=10,\n",
       "             n_jobs=1, nthread=None, objective='reg:linear', random_state=0,\n",
       "             reg_alpha=0, reg_lambda=1, scale_pos_weight=1, seed=None,\n",
       "             silent=None, subsample=1, verbosity=1)"
      ]
     },
     "execution_count": 97,
     "metadata": {},
     "output_type": "execute_result"
    }
   ],
   "source": [
    "%%time\n",
    "\n",
    "xg_reg = xgb.XGBRegressor(objective ='reg:linear', colsample_bytree = 0.3, \\\n",
    "        learning_rate = 0.1, max_depth = 10, alpha = 9, n_estimators = 10)\n",
    "\n",
    "xg_reg.fit(feats_train, target_train)"
   ]
  },
  {
   "cell_type": "code",
   "execution_count": 98,
   "metadata": {},
   "outputs": [
    {
     "name": "stdout",
     "output_type": "stream",
     "text": [
      "CPU times: user 298 ms, sys: 97.4 ms, total: 396 ms\n",
      "Wall time: 409 ms\n"
     ]
    }
   ],
   "source": [
    "%%time\n",
    "\n",
    "predicted_valid = xg_reg.predict(feats_valid)"
   ]
  },
  {
   "cell_type": "code",
   "execution_count": 99,
   "metadata": {},
   "outputs": [
    {
     "name": "stdout",
     "output_type": "stream",
     "text": [
      "XGBoost RMSE: 3777.93\n"
     ]
    }
   ],
   "source": [
    "xgboost_rmse2 = round(math.sqrt(mean_squared_error(target_valid, predicted_valid)), 2)\n",
    "print('XGBoost RMSE: {}'.format(xgboost_rmse2))    "
   ]
  },
  {
   "cell_type": "markdown",
   "metadata": {},
   "source": [
    "#### CatBoost "
   ]
  },
  {
   "cell_type": "code",
   "execution_count": 100,
   "metadata": {},
   "outputs": [],
   "source": [
    "features = df.drop('price', axis=1)\n",
    "target = df.price\n",
    "\n",
    "features_train, features_valid, target_train, target_valid = train_test_split(features, target, test_size=0.4, random_state=12345)\n",
    "features_test, features_valid, target_test, target_valid = train_test_split(features_valid, target_valid, test_size=0.5, random_state=12345)\n"
   ]
  },
  {
   "cell_type": "code",
   "execution_count": 101,
   "metadata": {},
   "outputs": [],
   "source": [
    "cat_features = [\n",
    "    'vehicletype',\n",
    "    'model',\n",
    "    'fueltype',\n",
    "    'brand',\n",
    "    'notrepaired',\n",
    "    'gearbox'\n",
    "]"
   ]
  },
  {
   "cell_type": "markdown",
   "metadata": {},
   "source": [
    "##### v1"
   ]
  },
  {
   "cell_type": "code",
   "execution_count": 102,
   "metadata": {},
   "outputs": [
    {
     "name": "stdout",
     "output_type": "stream",
     "text": [
      "0:\tlearn: 4488.2952749\ttotal: 231ms\tremaining: 2.07s\n",
      "1:\tlearn: 4401.1060805\ttotal: 529ms\tremaining: 2.12s\n",
      "2:\tlearn: 4318.8957381\ttotal: 744ms\tremaining: 1.73s\n",
      "3:\tlearn: 4241.0247768\ttotal: 1.03s\tremaining: 1.55s\n",
      "4:\tlearn: 4161.9796380\ttotal: 1.33s\tremaining: 1.33s\n",
      "5:\tlearn: 4090.4289553\ttotal: 1.62s\tremaining: 1.08s\n",
      "6:\tlearn: 4016.1830173\ttotal: 1.83s\tremaining: 784ms\n",
      "7:\tlearn: 3947.8757018\ttotal: 2.12s\tremaining: 531ms\n",
      "8:\tlearn: 3880.0615594\ttotal: 2.33s\tremaining: 259ms\n",
      "9:\tlearn: 3817.5834291\ttotal: 2.62s\tremaining: 0us\n",
      "CPU times: user 3.22 s, sys: 406 ms, total: 3.62 s\n",
      "Wall time: 4.91 s\n"
     ]
    },
    {
     "data": {
      "text/plain": [
       "<catboost.core.CatBoostRegressor at 0x7fdcb32f9210>"
      ]
     },
     "execution_count": 102,
     "metadata": {},
     "output_type": "execute_result"
    }
   ],
   "source": [
    "%%time\n",
    "\n",
    "model = CatBoostRegressor(loss_function='RMSE', iterations=10)\n",
    "model.fit(features_train, target_train, cat_features=cat_features)"
   ]
  },
  {
   "cell_type": "code",
   "execution_count": 103,
   "metadata": {},
   "outputs": [
    {
     "name": "stdout",
     "output_type": "stream",
     "text": [
      "CPU times: user 181 ms, sys: 8.14 ms, total: 189 ms\n",
      "Wall time: 181 ms\n"
     ]
    }
   ],
   "source": [
    "%%time\n",
    "\n",
    "predicted_valid = model.predict(features_valid)"
   ]
  },
  {
   "cell_type": "code",
   "execution_count": 104,
   "metadata": {},
   "outputs": [
    {
     "name": "stdout",
     "output_type": "stream",
     "text": [
      "CatBoost RMSE: 3823.61\n"
     ]
    }
   ],
   "source": [
    "catboost_rmse1 = round(math.sqrt(mean_squared_error(target_valid, predicted_valid)), 2)\n",
    "print('CatBoost RMSE: {}'.format(catboost_rmse1))    "
   ]
  },
  {
   "cell_type": "markdown",
   "metadata": {},
   "source": [
    "##### v2"
   ]
  },
  {
   "cell_type": "code",
   "execution_count": 105,
   "metadata": {},
   "outputs": [
    {
     "name": "stdout",
     "output_type": "stream",
     "text": [
      "0:\tlearn: 4488.2952749\ttotal: 193ms\tremaining: 9.46s\n",
      "10:\tlearn: 3756.6411643\ttotal: 2.79s\tremaining: 9.91s\n",
      "20:\tlearn: 3245.8922053\ttotal: 5.87s\tremaining: 8.11s\n",
      "30:\tlearn: 2888.7670298\ttotal: 8.37s\tremaining: 5.13s\n",
      "40:\tlearn: 2631.3046061\ttotal: 10.9s\tremaining: 2.39s\n",
      "49:\tlearn: 2457.1692090\ttotal: 13.2s\tremaining: 0us\n",
      "CPU times: user 12.1 s, sys: 1.52 s, total: 13.6 s\n",
      "Wall time: 15.3 s\n"
     ]
    },
    {
     "data": {
      "text/plain": [
       "<catboost.core.CatBoostRegressor at 0x7fdcb32d52d0>"
      ]
     },
     "execution_count": 105,
     "metadata": {},
     "output_type": "execute_result"
    }
   ],
   "source": [
    "%%time\n",
    "\n",
    "model = CatBoostRegressor(loss_function='RMSE', iterations=50)\n",
    "model.fit(features_train, target_train, cat_features=cat_features, verbose=10)"
   ]
  },
  {
   "cell_type": "code",
   "execution_count": 106,
   "metadata": {},
   "outputs": [
    {
     "name": "stdout",
     "output_type": "stream",
     "text": [
      "CPU times: user 190 ms, sys: 5.45 ms, total: 196 ms\n",
      "Wall time: 162 ms\n"
     ]
    }
   ],
   "source": [
    "%%time\n",
    "\n",
    "predicted_valid = model.predict(features_valid)"
   ]
  },
  {
   "cell_type": "code",
   "execution_count": 107,
   "metadata": {},
   "outputs": [
    {
     "name": "stdout",
     "output_type": "stream",
     "text": [
      "CatBoost RMSE: 2457.75\n"
     ]
    }
   ],
   "source": [
    "catboost_rmse2 = round(math.sqrt(mean_squared_error(target_valid, predicted_valid)), 2)\n",
    "print('CatBoost RMSE: {}'.format(catboost_rmse2)) "
   ]
  },
  {
   "cell_type": "markdown",
   "metadata": {},
   "source": [
    "## Model analysis"
   ]
  },
  {
   "cell_type": "code",
   "execution_count": 108,
   "metadata": {},
   "outputs": [
    {
     "data": {
      "text/html": [
       "<div>\n",
       "<style scoped>\n",
       "    .dataframe tbody tr th:only-of-type {\n",
       "        vertical-align: middle;\n",
       "    }\n",
       "\n",
       "    .dataframe tbody tr th {\n",
       "        vertical-align: top;\n",
       "    }\n",
       "\n",
       "    .dataframe thead th {\n",
       "        text-align: right;\n",
       "    }\n",
       "</style>\n",
       "<table border=\"1\" class=\"dataframe\">\n",
       "  <thead>\n",
       "    <tr style=\"text-align: right;\">\n",
       "      <th></th>\n",
       "      <th>RMSE</th>\n",
       "    </tr>\n",
       "  </thead>\n",
       "  <tbody>\n",
       "    <tr>\n",
       "      <th>rf_rmse2</th>\n",
       "      <td>1925.16</td>\n",
       "    </tr>\n",
       "    <tr>\n",
       "      <th>rf_rmse1</th>\n",
       "      <td>2439.15</td>\n",
       "    </tr>\n",
       "    <tr>\n",
       "      <th>catboost_rmse2</th>\n",
       "      <td>2457.75</td>\n",
       "    </tr>\n",
       "    <tr>\n",
       "      <th>lr_rmse</th>\n",
       "      <td>2737.73</td>\n",
       "    </tr>\n",
       "    <tr>\n",
       "      <th>xgboost_rmse2</th>\n",
       "      <td>3777.93</td>\n",
       "    </tr>\n",
       "    <tr>\n",
       "      <th>catboost_rmse1</th>\n",
       "      <td>3823.61</td>\n",
       "    </tr>\n",
       "    <tr>\n",
       "      <th>xgboost_rmse1</th>\n",
       "      <td>4837.94</td>\n",
       "    </tr>\n",
       "  </tbody>\n",
       "</table>\n",
       "</div>"
      ],
      "text/plain": [
       "                   RMSE\n",
       "rf_rmse2        1925.16\n",
       "rf_rmse1        2439.15\n",
       "catboost_rmse2  2457.75\n",
       "lr_rmse         2737.73\n",
       "xgboost_rmse2   3777.93\n",
       "catboost_rmse1  3823.61\n",
       "xgboost_rmse1   4837.94"
      ]
     },
     "execution_count": 108,
     "metadata": {},
     "output_type": "execute_result"
    }
   ],
   "source": [
    "dict = {'rf_rmse1':rf_rmse1,\n",
    "        'rf_rmse2':rf_rmse2,\n",
    "        'lr_rmse':lr_rmse,\n",
    "        'xgboost_rmse1':xgboost_rmse1,\n",
    "        'xgboost_rmse2':xgboost_rmse2,\n",
    "        'catboost_rmse1': catboost_rmse1,        \n",
    "        'catboost_rmse2': catboost_rmse2}\n",
    "   \n",
    "\n",
    "rmses = pd.DataFrame.from_dict(dict, orient='index', columns=['RMSE']).sort_values('RMSE')\n",
    "\n",
    "rmses"
   ]
  },
  {
   "cell_type": "markdown",
   "metadata": {},
   "source": [
    "### Final Model"
   ]
  },
  {
   "cell_type": "markdown",
   "metadata": {},
   "source": [
    "Because of its performance, We choose the CatBoostRegressor v2 to be our final model:"
   ]
  },
  {
   "cell_type": "markdown",
   "metadata": {},
   "source": [
    "<div class=\"alert alert-warning\">\n",
    "<b>Reviewer's comment V2</b>\n",
    "\t  \n",
    "Based on the table above, I would think that `rf_rmse2` showed better performance: `1925 < 2457`\n",
    "\t  \n",
    "</div>"
   ]
  },
  {
   "cell_type": "code",
   "execution_count": 109,
   "metadata": {},
   "outputs": [
    {
     "name": "stdout",
     "output_type": "stream",
     "text": [
      "CPU times: user 191 ms, sys: 15.7 ms, total: 207 ms\n",
      "Wall time: 242 ms\n"
     ]
    }
   ],
   "source": [
    "%%time\n",
    "\n",
    "predicted_test = model.predict(features_test)"
   ]
  },
  {
   "cell_type": "code",
   "execution_count": 110,
   "metadata": {},
   "outputs": [
    {
     "name": "stdout",
     "output_type": "stream",
     "text": [
      "CatBoost RMSE: 2479.63\n"
     ]
    }
   ],
   "source": [
    "catboost_rmse2 = round(math.sqrt(mean_squared_error(target_test, predicted_test)), 2)\n",
    "print('CatBoost RMSE: {}'.format(catboost_rmse2)) "
   ]
  },
  {
   "cell_type": "markdown",
   "metadata": {},
   "source": [
    "\n",
    "### Conclusion\n",
    "**RMSE score** \n",
    "\n",
    "random forest models are the best. However, our CatBoost v2 model is doing better than our Linear Regression model, which is our sanity check model. Moreover, our valid and test RMSEs in the final model are very close.\n",
    "\n",
    "**time required for training**\n",
    "\n",
    "CatBoost v1 model has the best time (Wall time: 7.61 s). For comparison, Linear Regression requires a lot of time (Wall time: 40 s).\n",
    "\n",
    "**time required for predicting**\n",
    "\n",
    "our Random Forest Regressor v1 model requires the minimal time (Wall time: 199 ms). CatBoost v1 model is right after it (Wall time: 275 ms). Linear Regression requires more than twice in terms of time (Wall time: 589 ms)."
   ]
  },
  {
   "cell_type": "markdown",
   "metadata": {},
   "source": [
    "<div class=\"alert alert-danger\">\n",
    "<s><b>Reviewer's comment</b>\n",
    "\t  \n",
    "Great, you tried a couple of different models, did some hyperparameter tuning and measured train and prediction times. One small problem: when you're trying out different hyperparameters for a model using a validation set, you need a separate test set to evaluate the final model. Otherwise, we are getting a biased estimate of the model's generalization performance, which can lead to problems when the model rolls out in production (i.e. worse performance than you would expect based on the validation set score).\n",
    "\t  \n",
    "</div>"
   ]
  },
  {
   "cell_type": "markdown",
   "metadata": {},
   "source": [
    "<div class=\"alert alert-info\">\n",
    "  I hope it's okay now :)\n",
    "</div>"
   ]
  },
  {
   "cell_type": "markdown",
   "metadata": {},
   "source": [
    "<div class=\"alert alert-success\">\n",
    "<b>Reviewer's comment V2</b>\n",
    "\t  \n",
    "Yep, well done!\n",
    "\t  \n",
    "</div>"
   ]
  },
  {
   "cell_type": "markdown",
   "metadata": {},
   "source": [
    "# Checklist"
   ]
  },
  {
   "cell_type": "markdown",
   "metadata": {},
   "source": [
    "Type 'x' to check. Then press Shift+Enter."
   ]
  },
  {
   "cell_type": "markdown",
   "metadata": {},
   "source": [
    "- [x]  Jupyter Notebook is open\n",
    "- [ ]  Code is error free\n",
    "- [ ]  The cells with the code have been arranged in order of execution\n",
    "- [ ]  The data has been downloaded and prepared\n",
    "- [ ]  The models have been trained\n",
    "- [ ]  The analysis of speed and quality of the models has been performed"
   ]
  },
  {
   "cell_type": "code",
   "execution_count": null,
   "metadata": {},
   "outputs": [],
   "source": []
  }
 ],
 "metadata": {
  "ExecuteTimeLog": [
   {
    "duration": 627,
    "start_time": "2021-11-13T18:53:12.050Z"
   },
   {
    "duration": 600,
    "start_time": "2021-11-13T18:53:32.800Z"
   },
   {
    "duration": 110,
    "start_time": "2021-11-13T18:53:54.637Z"
   },
   {
    "duration": 94,
    "start_time": "2021-11-13T18:54:12.381Z"
   },
   {
    "duration": 8063,
    "start_time": "2021-11-13T18:57:21.896Z"
   },
   {
    "duration": 544,
    "start_time": "2021-11-13T18:57:41.347Z"
   },
   {
    "duration": 231,
    "start_time": "2021-11-13T18:58:02.940Z"
   },
   {
    "duration": 467,
    "start_time": "2021-11-13T19:00:28.202Z"
   },
   {
    "duration": 292,
    "start_time": "2021-11-13T19:02:47.159Z"
   },
   {
    "duration": 5,
    "start_time": "2021-11-13T19:10:35.187Z"
   },
   {
    "duration": 487,
    "start_time": "2021-11-13T19:11:08.781Z"
   },
   {
    "duration": 361,
    "start_time": "2021-11-13T19:11:12.957Z"
   },
   {
    "duration": 408,
    "start_time": "2021-11-13T19:11:21.356Z"
   },
   {
    "duration": 354,
    "start_time": "2021-11-13T19:11:31.284Z"
   },
   {
    "duration": 37,
    "start_time": "2021-11-13T19:11:42.869Z"
   },
   {
    "duration": 168,
    "start_time": "2021-11-13T19:12:42.561Z"
   },
   {
    "duration": 2998,
    "start_time": "2021-11-13T19:25:06.738Z"
   },
   {
    "duration": 6,
    "start_time": "2021-11-13T19:25:09.739Z"
   },
   {
    "duration": 659,
    "start_time": "2021-11-13T19:25:09.748Z"
   },
   {
    "duration": 149,
    "start_time": "2021-11-13T19:25:10.410Z"
   },
   {
    "duration": 582,
    "start_time": "2021-11-13T19:25:10.561Z"
   },
   {
    "duration": 319,
    "start_time": "2021-11-13T19:25:11.145Z"
   },
   {
    "duration": 273,
    "start_time": "2021-11-13T19:25:11.465Z"
   },
   {
    "duration": 168,
    "start_time": "2021-11-13T19:25:11.740Z"
   },
   {
    "duration": 136,
    "start_time": "2021-11-13T19:25:26.914Z"
   },
   {
    "duration": 151,
    "start_time": "2021-11-13T19:25:35.401Z"
   },
   {
    "duration": 4,
    "start_time": "2021-11-13T19:27:18.441Z"
   },
   {
    "duration": 365,
    "start_time": "2021-11-13T19:28:06.756Z"
   },
   {
    "duration": 4,
    "start_time": "2021-11-13T19:29:12.237Z"
   },
   {
    "duration": 5,
    "start_time": "2021-11-13T19:29:21.099Z"
   },
   {
    "duration": 127,
    "start_time": "2021-11-13T19:29:25.343Z"
   },
   {
    "duration": 513,
    "start_time": "2021-11-13T19:29:31.534Z"
   },
   {
    "duration": 276,
    "start_time": "2021-11-13T19:29:58.463Z"
   },
   {
    "duration": 234,
    "start_time": "2021-11-13T19:30:07.039Z"
   },
   {
    "duration": 238,
    "start_time": "2021-11-13T19:30:23.235Z"
   },
   {
    "duration": 19,
    "start_time": "2021-11-13T19:31:29.589Z"
   },
   {
    "duration": 237,
    "start_time": "2021-11-13T19:31:56.852Z"
   },
   {
    "duration": 21,
    "start_time": "2021-11-13T19:32:10.874Z"
   },
   {
    "duration": 236,
    "start_time": "2021-11-13T19:32:13.039Z"
   },
   {
    "duration": 140,
    "start_time": "2021-11-13T19:42:18.796Z"
   },
   {
    "duration": 424,
    "start_time": "2021-11-13T19:42:19.524Z"
   },
   {
    "duration": 2789,
    "start_time": "2021-11-13T19:43:02.979Z"
   },
   {
    "duration": 4,
    "start_time": "2021-11-13T19:43:05.771Z"
   },
   {
    "duration": 574,
    "start_time": "2021-11-13T19:43:05.777Z"
   },
   {
    "duration": 5,
    "start_time": "2021-11-13T19:43:06.353Z"
   },
   {
    "duration": 121,
    "start_time": "2021-11-13T19:43:06.360Z"
   },
   {
    "duration": 482,
    "start_time": "2021-11-13T19:43:06.483Z"
   },
   {
    "duration": 253,
    "start_time": "2021-11-13T19:43:30.717Z"
   },
   {
    "duration": 237,
    "start_time": "2021-11-13T19:43:38.005Z"
   },
   {
    "duration": 512,
    "start_time": "2021-11-13T19:45:27.218Z"
   },
   {
    "duration": 523,
    "start_time": "2021-11-13T19:45:36.960Z"
   },
   {
    "duration": 227,
    "start_time": "2021-11-13T19:46:10.615Z"
   },
   {
    "duration": 76,
    "start_time": "2021-11-13T19:46:27.621Z"
   },
   {
    "duration": 213,
    "start_time": "2021-11-13T19:46:30.309Z"
   },
   {
    "duration": 61,
    "start_time": "2021-11-13T19:46:58.838Z"
   },
   {
    "duration": 209,
    "start_time": "2021-11-13T19:46:59.546Z"
   },
   {
    "duration": 68,
    "start_time": "2021-11-13T19:53:26.284Z"
   },
   {
    "duration": 530,
    "start_time": "2021-11-13T19:53:57.688Z"
   },
   {
    "duration": 83656,
    "start_time": "2021-11-13T19:54:09.610Z"
   },
   {
    "duration": 1748,
    "start_time": "2021-11-13T20:03:16.921Z"
   },
   {
    "duration": 1739,
    "start_time": "2021-11-13T20:03:16.932Z"
   },
   {
    "duration": 1734,
    "start_time": "2021-11-13T20:03:16.937Z"
   },
   {
    "duration": 1724,
    "start_time": "2021-11-13T20:03:16.948Z"
   },
   {
    "duration": 1721,
    "start_time": "2021-11-13T20:03:16.952Z"
   },
   {
    "duration": 1717,
    "start_time": "2021-11-13T20:03:16.957Z"
   },
   {
    "duration": 1708,
    "start_time": "2021-11-13T20:03:16.967Z"
   },
   {
    "duration": 1696,
    "start_time": "2021-11-13T20:03:16.980Z"
   },
   {
    "duration": 1691,
    "start_time": "2021-11-13T20:03:16.986Z"
   },
   {
    "duration": 1687,
    "start_time": "2021-11-13T20:03:16.991Z"
   },
   {
    "duration": 1677,
    "start_time": "2021-11-13T20:03:17.002Z"
   },
   {
    "duration": 1673,
    "start_time": "2021-11-13T20:03:17.007Z"
   },
   {
    "duration": 2725,
    "start_time": "2021-11-13T20:03:23.803Z"
   },
   {
    "duration": 4,
    "start_time": "2021-11-13T20:03:26.532Z"
   },
   {
    "duration": 6893,
    "start_time": "2021-11-13T20:03:26.538Z"
   },
   {
    "duration": 24,
    "start_time": "2021-11-13T20:03:33.433Z"
   },
   {
    "duration": 131,
    "start_time": "2021-11-13T20:03:33.459Z"
   },
   {
    "duration": 491,
    "start_time": "2021-11-13T20:03:33.592Z"
   },
   {
    "duration": 248,
    "start_time": "2021-11-13T20:03:34.085Z"
   },
   {
    "duration": 537,
    "start_time": "2021-11-13T20:03:34.336Z"
   },
   {
    "duration": 409,
    "start_time": "2021-11-13T20:03:34.875Z"
   },
   {
    "duration": 135,
    "start_time": "2021-11-13T20:03:35.286Z"
   },
   {
    "duration": 410,
    "start_time": "2021-11-13T20:03:35.423Z"
   },
   {
    "duration": 1815,
    "start_time": "2021-11-13T20:04:49.843Z"
   },
   {
    "duration": 2936,
    "start_time": "2021-11-13T20:05:07.787Z"
   },
   {
    "duration": 1389,
    "start_time": "2021-11-13T20:05:10.725Z"
   },
   {
    "duration": 648,
    "start_time": "2021-11-13T20:05:12.117Z"
   },
   {
    "duration": 4,
    "start_time": "2021-11-13T20:05:12.767Z"
   },
   {
    "duration": 142,
    "start_time": "2021-11-13T20:05:12.772Z"
   },
   {
    "duration": 425,
    "start_time": "2021-11-13T20:05:12.916Z"
   },
   {
    "duration": 343,
    "start_time": "2021-11-13T20:05:13.343Z"
   },
   {
    "duration": 711,
    "start_time": "2021-11-13T20:05:13.689Z"
   },
   {
    "duration": 251,
    "start_time": "2021-11-13T20:05:14.406Z"
   },
   {
    "duration": 85,
    "start_time": "2021-11-13T20:05:14.659Z"
   },
   {
    "duration": 243,
    "start_time": "2021-11-13T20:05:14.746Z"
   },
   {
    "duration": 909,
    "start_time": "2021-11-13T20:05:14.991Z"
   },
   {
    "duration": 2293,
    "start_time": "2021-11-13T20:06:51.458Z"
   },
   {
    "duration": 1252,
    "start_time": "2021-11-13T20:06:53.753Z"
   },
   {
    "duration": 620,
    "start_time": "2021-11-13T20:06:55.007Z"
   },
   {
    "duration": 5,
    "start_time": "2021-11-13T20:06:55.629Z"
   },
   {
    "duration": 144,
    "start_time": "2021-11-13T20:06:55.635Z"
   },
   {
    "duration": 428,
    "start_time": "2021-11-13T20:06:55.780Z"
   },
   {
    "duration": 356,
    "start_time": "2021-11-13T20:06:56.209Z"
   },
   {
    "duration": 730,
    "start_time": "2021-11-13T20:06:56.568Z"
   },
   {
    "duration": 265,
    "start_time": "2021-11-13T20:06:57.300Z"
   },
   {
    "duration": 82,
    "start_time": "2021-11-13T20:06:57.568Z"
   },
   {
    "duration": 247,
    "start_time": "2021-11-13T20:06:57.652Z"
   },
   {
    "duration": 6,
    "start_time": "2021-11-13T20:06:57.901Z"
   },
   {
    "duration": 4,
    "start_time": "2021-11-13T20:08:07.680Z"
   },
   {
    "duration": 2184,
    "start_time": "2021-11-13T20:09:34.070Z"
   },
   {
    "duration": 1152,
    "start_time": "2021-11-13T20:09:36.256Z"
   },
   {
    "duration": 579,
    "start_time": "2021-11-13T20:09:37.410Z"
   },
   {
    "duration": 5,
    "start_time": "2021-11-13T20:09:37.991Z"
   },
   {
    "duration": 127,
    "start_time": "2021-11-13T20:09:38.006Z"
   },
   {
    "duration": 405,
    "start_time": "2021-11-13T20:09:38.134Z"
   },
   {
    "duration": 330,
    "start_time": "2021-11-13T20:09:38.540Z"
   },
   {
    "duration": 683,
    "start_time": "2021-11-13T20:09:38.872Z"
   },
   {
    "duration": 226,
    "start_time": "2021-11-13T20:09:39.557Z"
   },
   {
    "duration": 78,
    "start_time": "2021-11-13T20:09:39.785Z"
   },
   {
    "duration": 231,
    "start_time": "2021-11-13T20:09:39.865Z"
   },
   {
    "duration": 2257,
    "start_time": "2021-11-13T20:11:04.497Z"
   },
   {
    "duration": 1250,
    "start_time": "2021-11-13T20:11:06.757Z"
   },
   {
    "duration": 583,
    "start_time": "2021-11-13T20:11:08.009Z"
   },
   {
    "duration": 4,
    "start_time": "2021-11-13T20:11:08.594Z"
   },
   {
    "duration": 212,
    "start_time": "2021-11-13T20:11:08.607Z"
   },
   {
    "duration": 698,
    "start_time": "2021-11-13T20:11:08.821Z"
   },
   {
    "duration": 523,
    "start_time": "2021-11-13T20:11:09.521Z"
   },
   {
    "duration": 1081,
    "start_time": "2021-11-13T20:11:10.047Z"
   },
   {
    "duration": 269,
    "start_time": "2021-11-13T20:11:11.130Z"
   },
   {
    "duration": 77,
    "start_time": "2021-11-13T20:11:11.401Z"
   },
   {
    "duration": 440,
    "start_time": "2021-11-13T20:11:11.480Z"
   },
   {
    "duration": 2736,
    "start_time": "2021-11-13T20:12:53.764Z"
   },
   {
    "duration": 1604,
    "start_time": "2021-11-13T20:12:56.502Z"
   },
   {
    "duration": 940,
    "start_time": "2021-11-13T20:12:58.109Z"
   },
   {
    "duration": 6,
    "start_time": "2021-11-13T20:12:59.051Z"
   },
   {
    "duration": 249,
    "start_time": "2021-11-13T20:12:59.059Z"
   },
   {
    "duration": 706,
    "start_time": "2021-11-13T20:12:59.310Z"
   },
   {
    "duration": 561,
    "start_time": "2021-11-13T20:13:00.018Z"
   },
   {
    "duration": 1184,
    "start_time": "2021-11-13T20:13:00.582Z"
   },
   {
    "duration": 473,
    "start_time": "2021-11-13T20:13:01.768Z"
   },
   {
    "duration": 146,
    "start_time": "2021-11-13T20:13:02.244Z"
   },
   {
    "duration": 440,
    "start_time": "2021-11-13T20:13:02.392Z"
   },
   {
    "duration": 2072,
    "start_time": "2021-11-13T20:13:02.835Z"
   },
   {
    "duration": 1083,
    "start_time": "2021-11-13T20:15:22.628Z"
   },
   {
    "duration": 1057,
    "start_time": "2021-11-13T20:15:43.424Z"
   },
   {
    "duration": 1000,
    "start_time": "2021-11-13T20:15:57.169Z"
   },
   {
    "duration": 1524,
    "start_time": "2021-11-13T20:17:30.356Z"
   },
   {
    "duration": 319,
    "start_time": "2021-11-13T20:19:05.871Z"
   },
   {
    "duration": 1613,
    "start_time": "2021-11-13T20:19:24.049Z"
   },
   {
    "duration": 1176,
    "start_time": "2021-11-13T20:23:51.521Z"
   },
   {
    "duration": 1164,
    "start_time": "2021-11-13T20:37:20.950Z"
   },
   {
    "duration": 1297,
    "start_time": "2021-11-13T20:37:42.687Z"
   },
   {
    "duration": 1132,
    "start_time": "2021-11-13T20:37:55.221Z"
   },
   {
    "duration": 27,
    "start_time": "2021-11-13T20:45:16.796Z"
   },
   {
    "duration": 471,
    "start_time": "2021-11-13T20:52:27.435Z"
   },
   {
    "duration": 42,
    "start_time": "2021-11-13T20:52:38.939Z"
   },
   {
    "duration": 146,
    "start_time": "2021-11-13T20:52:39.702Z"
   },
   {
    "duration": 482,
    "start_time": "2021-11-13T20:52:40.776Z"
   },
   {
    "duration": 10478,
    "start_time": "2021-11-14T11:43:19.245Z"
   },
   {
    "duration": 1966,
    "start_time": "2021-11-14T11:43:29.726Z"
   },
   {
    "duration": 1106,
    "start_time": "2021-11-14T11:43:31.695Z"
   },
   {
    "duration": 6,
    "start_time": "2021-11-14T11:43:32.804Z"
   },
   {
    "duration": 258,
    "start_time": "2021-11-14T11:43:32.812Z"
   },
   {
    "duration": 819,
    "start_time": "2021-11-14T11:43:33.072Z"
   },
   {
    "duration": 581,
    "start_time": "2021-11-14T11:43:33.893Z"
   },
   {
    "duration": 1219,
    "start_time": "2021-11-14T11:43:34.478Z"
   },
   {
    "duration": 474,
    "start_time": "2021-11-14T11:43:35.700Z"
   },
   {
    "duration": 146,
    "start_time": "2021-11-14T11:43:36.176Z"
   },
   {
    "duration": 444,
    "start_time": "2021-11-14T11:43:36.324Z"
   },
   {
    "duration": 2327,
    "start_time": "2021-11-14T11:43:36.770Z"
   },
   {
    "duration": 41,
    "start_time": "2021-11-14T11:43:39.099Z"
   },
   {
    "duration": 189,
    "start_time": "2021-11-14T11:43:39.143Z"
   },
   {
    "duration": 566,
    "start_time": "2021-11-14T11:43:39.334Z"
   },
   {
    "duration": 40,
    "start_time": "2021-11-14T11:43:39.863Z"
   },
   {
    "duration": 129,
    "start_time": "2021-11-14T11:47:00.841Z"
   },
   {
    "duration": 36,
    "start_time": "2021-11-14T11:52:58.627Z"
   },
   {
    "duration": 1234,
    "start_time": "2021-11-14T11:53:10.514Z"
   },
   {
    "duration": 1442,
    "start_time": "2021-11-14T11:53:33.893Z"
   },
   {
    "duration": 295,
    "start_time": "2021-11-14T11:54:28.088Z"
   },
   {
    "duration": 4,
    "start_time": "2021-11-14T12:08:47.532Z"
   },
   {
    "duration": 7,
    "start_time": "2021-11-14T12:09:32.583Z"
   },
   {
    "duration": 4,
    "start_time": "2021-11-14T12:10:15.224Z"
   },
   {
    "duration": 7,
    "start_time": "2021-11-14T12:10:39.063Z"
   },
   {
    "duration": 13,
    "start_time": "2021-11-14T12:10:48.345Z"
   },
   {
    "duration": 5,
    "start_time": "2021-11-14T12:10:58.961Z"
   },
   {
    "duration": 5,
    "start_time": "2021-11-14T12:12:01.379Z"
   },
   {
    "duration": 10,
    "start_time": "2021-11-14T12:12:08.153Z"
   },
   {
    "duration": 4,
    "start_time": "2021-11-14T12:12:15.913Z"
   },
   {
    "duration": 6,
    "start_time": "2021-11-14T12:13:07.692Z"
   },
   {
    "duration": 6,
    "start_time": "2021-11-14T12:13:12.602Z"
   },
   {
    "duration": 6,
    "start_time": "2021-11-14T12:13:15.898Z"
   },
   {
    "duration": 258,
    "start_time": "2021-11-14T12:15:10.302Z"
   },
   {
    "duration": 10,
    "start_time": "2021-11-14T12:15:44.252Z"
   },
   {
    "duration": 9,
    "start_time": "2021-11-14T12:16:00.523Z"
   },
   {
    "duration": 7,
    "start_time": "2021-11-14T12:16:04.777Z"
   },
   {
    "duration": 7,
    "start_time": "2021-11-14T12:16:58.048Z"
   },
   {
    "duration": 101,
    "start_time": "2021-11-14T12:17:34.701Z"
   },
   {
    "duration": 271,
    "start_time": "2021-11-14T12:17:39.055Z"
   },
   {
    "duration": 98,
    "start_time": "2021-11-14T12:17:58.940Z"
   },
   {
    "duration": 267,
    "start_time": "2021-11-14T12:18:03.731Z"
   },
   {
    "duration": 77,
    "start_time": "2021-11-14T12:18:39.012Z"
   },
   {
    "duration": 266,
    "start_time": "2021-11-14T12:19:37.134Z"
   },
   {
    "duration": 81,
    "start_time": "2021-11-14T12:20:01.168Z"
   },
   {
    "duration": 2229,
    "start_time": "2021-11-14T12:20:57.744Z"
   },
   {
    "duration": 5,
    "start_time": "2021-11-14T12:20:59.975Z"
   },
   {
    "duration": 622,
    "start_time": "2021-11-14T12:20:59.981Z"
   },
   {
    "duration": 5,
    "start_time": "2021-11-14T12:21:00.605Z"
   },
   {
    "duration": 134,
    "start_time": "2021-11-14T12:21:00.612Z"
   },
   {
    "duration": 437,
    "start_time": "2021-11-14T12:21:00.748Z"
   },
   {
    "duration": 303,
    "start_time": "2021-11-14T12:21:01.186Z"
   },
   {
    "duration": 675,
    "start_time": "2021-11-14T12:21:01.491Z"
   },
   {
    "duration": 241,
    "start_time": "2021-11-14T12:21:02.168Z"
   },
   {
    "duration": 113,
    "start_time": "2021-11-14T12:21:02.410Z"
   },
   {
    "duration": 246,
    "start_time": "2021-11-14T12:21:02.525Z"
   },
   {
    "duration": 30,
    "start_time": "2021-11-14T12:21:02.772Z"
   },
   {
    "duration": 1512,
    "start_time": "2021-11-14T12:21:02.804Z"
   },
   {
    "duration": 45,
    "start_time": "2021-11-14T12:21:04.318Z"
   },
   {
    "duration": 101,
    "start_time": "2021-11-14T12:21:04.365Z"
   },
   {
    "duration": 343,
    "start_time": "2021-11-14T12:21:04.467Z"
   },
   {
    "duration": 106,
    "start_time": "2021-11-14T12:21:04.706Z"
   },
   {
    "duration": 913,
    "start_time": "2021-11-14T12:31:50.831Z"
   },
   {
    "duration": 795,
    "start_time": "2021-11-14T12:31:51.746Z"
   },
   {
    "duration": 3579,
    "start_time": "2021-11-14T12:31:52.543Z"
   },
   {
    "duration": 261,
    "start_time": "2021-11-14T12:31:56.124Z"
   },
   {
    "duration": 26751,
    "start_time": "2021-11-14T12:33:15.518Z"
   },
   {
    "duration": 250,
    "start_time": "2021-11-14T12:36:56.429Z"
   },
   {
    "duration": 264,
    "start_time": "2021-11-14T12:37:07.845Z"
   },
   {
    "duration": 4,
    "start_time": "2021-11-14T12:39:58.555Z"
   },
   {
    "duration": 259,
    "start_time": "2021-11-14T12:41:46.287Z"
   },
   {
    "duration": 17,
    "start_time": "2021-11-14T12:44:07.547Z"
   },
   {
    "duration": 5,
    "start_time": "2021-11-14T12:44:14.480Z"
   },
   {
    "duration": 32410,
    "start_time": "2021-11-14T12:46:43.383Z"
   },
   {
    "duration": 10708,
    "start_time": "2021-11-14T12:58:19.314Z"
   },
   {
    "duration": 5,
    "start_time": "2021-11-14T12:58:30.024Z"
   },
   {
    "duration": 37759,
    "start_time": "2021-11-14T13:00:34.670Z"
   },
   {
    "duration": 4,
    "start_time": "2021-11-14T13:01:12.431Z"
   },
   {
    "duration": 3,
    "start_time": "2021-11-14T13:17:07.009Z"
   },
   {
    "duration": 307,
    "start_time": "2021-11-14T13:17:08.106Z"
   },
   {
    "duration": 905,
    "start_time": "2021-11-14T13:18:52.534Z"
   },
   {
    "duration": -464,
    "start_time": "2021-11-14T13:28:03.956Z"
   },
   {
    "duration": -476,
    "start_time": "2021-11-14T13:28:03.969Z"
   },
   {
    "duration": -489,
    "start_time": "2021-11-14T13:28:03.984Z"
   },
   {
    "duration": -496,
    "start_time": "2021-11-14T13:28:03.992Z"
   },
   {
    "duration": -596,
    "start_time": "2021-11-14T13:28:04.093Z"
   },
   {
    "duration": -605,
    "start_time": "2021-11-14T13:28:04.103Z"
   },
   {
    "duration": -610,
    "start_time": "2021-11-14T13:28:04.109Z"
   },
   {
    "duration": -620,
    "start_time": "2021-11-14T13:28:04.120Z"
   },
   {
    "duration": -624,
    "start_time": "2021-11-14T13:28:04.125Z"
   },
   {
    "duration": -634,
    "start_time": "2021-11-14T13:28:04.136Z"
   },
   {
    "duration": -638,
    "start_time": "2021-11-14T13:28:04.142Z"
   },
   {
    "duration": -646,
    "start_time": "2021-11-14T13:28:04.151Z"
   },
   {
    "duration": -652,
    "start_time": "2021-11-14T13:28:04.158Z"
   },
   {
    "duration": -682,
    "start_time": "2021-11-14T13:28:04.189Z"
   },
   {
    "duration": -710,
    "start_time": "2021-11-14T13:28:04.218Z"
   },
   {
    "duration": -729,
    "start_time": "2021-11-14T13:28:04.238Z"
   },
   {
    "duration": -739,
    "start_time": "2021-11-14T13:28:04.249Z"
   },
   {
    "duration": -746,
    "start_time": "2021-11-14T13:28:04.257Z"
   },
   {
    "duration": -757,
    "start_time": "2021-11-14T13:28:04.270Z"
   },
   {
    "duration": -761,
    "start_time": "2021-11-14T13:28:04.275Z"
   },
   {
    "duration": -773,
    "start_time": "2021-11-14T13:28:04.288Z"
   },
   {
    "duration": -781,
    "start_time": "2021-11-14T13:28:04.297Z"
   },
   {
    "duration": 2388,
    "start_time": "2021-11-14T13:28:04.996Z"
   },
   {
    "duration": 5,
    "start_time": "2021-11-14T13:28:07.387Z"
   },
   {
    "duration": 901,
    "start_time": "2021-11-14T13:28:07.394Z"
   },
   {
    "duration": 5,
    "start_time": "2021-11-14T13:28:08.298Z"
   },
   {
    "duration": 154,
    "start_time": "2021-11-14T13:28:08.305Z"
   },
   {
    "duration": 664,
    "start_time": "2021-11-14T13:28:08.461Z"
   },
   {
    "duration": 512,
    "start_time": "2021-11-14T13:28:09.127Z"
   },
   {
    "duration": 1050,
    "start_time": "2021-11-14T13:28:09.643Z"
   },
   {
    "duration": 442,
    "start_time": "2021-11-14T13:28:10.696Z"
   },
   {
    "duration": 190,
    "start_time": "2021-11-14T13:28:11.141Z"
   },
   {
    "duration": 445,
    "start_time": "2021-11-14T13:28:11.333Z"
   },
   {
    "duration": 34,
    "start_time": "2021-11-14T13:28:11.781Z"
   },
   {
    "duration": 1886,
    "start_time": "2021-11-14T13:28:11.817Z"
   },
   {
    "duration": 1388,
    "start_time": "2021-11-14T13:28:13.705Z"
   },
   {
    "duration": 1238,
    "start_time": "2021-11-14T13:28:15.095Z"
   },
   {
    "duration": 3920,
    "start_time": "2021-11-14T13:28:16.336Z"
   },
   {
    "duration": 5,
    "start_time": "2021-11-14T13:28:20.258Z"
   },
   {
    "duration": 24,
    "start_time": "2021-11-14T13:28:20.265Z"
   },
   {
    "duration": 40494,
    "start_time": "2021-11-14T13:28:20.292Z"
   },
   {
    "duration": 4,
    "start_time": "2021-11-14T13:29:00.788Z"
   },
   {
    "duration": 3214,
    "start_time": "2021-11-14T13:29:22.023Z"
   },
   {
    "duration": 5193,
    "start_time": "2021-11-14T13:29:25.240Z"
   },
   {
    "duration": 949,
    "start_time": "2021-11-14T13:29:30.435Z"
   },
   {
    "duration": 5,
    "start_time": "2021-11-14T13:29:31.386Z"
   },
   {
    "duration": 238,
    "start_time": "2021-11-14T13:29:31.392Z"
   },
   {
    "duration": 692,
    "start_time": "2021-11-14T13:29:31.632Z"
   },
   {
    "duration": 398,
    "start_time": "2021-11-14T13:29:32.326Z"
   },
   {
    "duration": 779,
    "start_time": "2021-11-14T13:29:32.727Z"
   },
   {
    "duration": 270,
    "start_time": "2021-11-14T13:29:33.508Z"
   },
   {
    "duration": 123,
    "start_time": "2021-11-14T13:29:33.781Z"
   },
   {
    "duration": 266,
    "start_time": "2021-11-14T13:29:33.906Z"
   },
   {
    "duration": 40,
    "start_time": "2021-11-14T13:29:34.175Z"
   },
   {
    "duration": 1963,
    "start_time": "2021-11-14T13:29:34.217Z"
   },
   {
    "duration": 970,
    "start_time": "2021-11-14T13:29:36.182Z"
   },
   {
    "duration": 946,
    "start_time": "2021-11-14T13:29:37.154Z"
   },
   {
    "duration": 3433,
    "start_time": "2021-11-14T13:29:38.102Z"
   },
   {
    "duration": 86,
    "start_time": "2021-11-14T13:29:41.537Z"
   },
   {
    "duration": 80,
    "start_time": "2021-11-14T13:29:41.545Z"
   },
   {
    "duration": 25,
    "start_time": "2021-11-14T13:29:41.601Z"
   },
   {
    "duration": 16,
    "start_time": "2021-11-14T13:29:41.611Z"
   },
   {
    "duration": 10,
    "start_time": "2021-11-14T13:29:41.618Z"
   },
   {
    "duration": 5,
    "start_time": "2021-11-14T13:29:41.625Z"
   },
   {
    "duration": 5,
    "start_time": "2021-11-14T13:30:13.063Z"
   },
   {
    "duration": 676,
    "start_time": "2021-11-14T13:30:39.591Z"
   },
   {
    "duration": 441,
    "start_time": "2021-11-14T13:30:52.811Z"
   },
   {
    "duration": 6938,
    "start_time": "2021-11-15T15:13:23.296Z"
   },
   {
    "duration": 1141,
    "start_time": "2021-11-15T15:13:30.237Z"
   },
   {
    "duration": 577,
    "start_time": "2021-11-15T15:13:31.380Z"
   },
   {
    "duration": 4,
    "start_time": "2021-11-15T15:13:31.959Z"
   },
   {
    "duration": 135,
    "start_time": "2021-11-15T15:13:31.965Z"
   },
   {
    "duration": 422,
    "start_time": "2021-11-15T15:13:32.102Z"
   },
   {
    "duration": 330,
    "start_time": "2021-11-15T15:13:32.526Z"
   },
   {
    "duration": 670,
    "start_time": "2021-11-15T15:13:32.859Z"
   },
   {
    "duration": 238,
    "start_time": "2021-11-15T15:13:33.531Z"
   },
   {
    "duration": 102,
    "start_time": "2021-11-15T15:13:33.770Z"
   },
   {
    "duration": 240,
    "start_time": "2021-11-15T15:13:33.873Z"
   },
   {
    "duration": 36,
    "start_time": "2021-11-15T15:13:34.114Z"
   },
   {
    "duration": 1663,
    "start_time": "2021-11-15T15:13:34.152Z"
   },
   {
    "duration": 920,
    "start_time": "2021-11-15T15:13:35.816Z"
   },
   {
    "duration": 746,
    "start_time": "2021-11-15T15:13:36.738Z"
   },
   {
    "duration": 3305,
    "start_time": "2021-11-15T15:13:37.486Z"
   },
   {
    "duration": 273,
    "start_time": "2021-11-15T15:13:40.793Z"
   },
   {
    "duration": 3170,
    "start_time": "2021-11-15T15:13:37.898Z"
   },
   {
    "duration": 3161,
    "start_time": "2021-11-15T15:13:37.909Z"
   },
   {
    "duration": 3052,
    "start_time": "2021-11-15T15:13:38.020Z"
   },
   {
    "duration": 3048,
    "start_time": "2021-11-15T15:13:38.025Z"
   },
   {
    "duration": 3043,
    "start_time": "2021-11-15T15:13:38.032Z"
   },
   {
    "duration": 4,
    "start_time": "2021-11-15T15:14:03.065Z"
   },
   {
    "duration": 4,
    "start_time": "2021-11-15T15:14:30.718Z"
   },
   {
    "duration": 4,
    "start_time": "2021-11-15T15:14:39.344Z"
   },
   {
    "duration": 4,
    "start_time": "2021-11-15T15:14:47.386Z"
   },
   {
    "duration": 4,
    "start_time": "2021-11-15T15:15:07.509Z"
   },
   {
    "duration": 5,
    "start_time": "2021-11-15T15:16:21.715Z"
   },
   {
    "duration": 4,
    "start_time": "2021-11-15T15:18:54.150Z"
   },
   {
    "duration": 4,
    "start_time": "2021-11-15T15:18:58.807Z"
   },
   {
    "duration": 125,
    "start_time": "2021-11-15T15:30:43.230Z"
   },
   {
    "duration": 4,
    "start_time": "2021-11-15T15:30:47.004Z"
   },
   {
    "duration": 660,
    "start_time": "2021-11-15T15:30:48.220Z"
   },
   {
    "duration": 530,
    "start_time": "2021-11-15T15:32:09.060Z"
   },
   {
    "duration": 28926,
    "start_time": "2021-11-15T15:33:33.826Z"
   },
   {
    "duration": 4,
    "start_time": "2021-11-15T15:34:02.753Z"
   },
   {
    "duration": 90099,
    "start_time": "2021-11-15T15:34:55.443Z"
   },
   {
    "duration": 5,
    "start_time": "2021-11-15T15:36:25.544Z"
   },
   {
    "duration": 23844,
    "start_time": "2021-11-15T15:36:25.551Z"
   },
   {
    "duration": 5,
    "start_time": "2021-11-15T15:36:49.490Z"
   },
   {
    "duration": 44,
    "start_time": "2021-11-15T15:40:39.577Z"
   },
   {
    "duration": 28603,
    "start_time": "2021-11-15T15:43:18.949Z"
   },
   {
    "duration": 128,
    "start_time": "2021-11-15T15:43:47.553Z"
   },
   {
    "duration": 89998,
    "start_time": "2021-11-15T15:44:04.093Z"
   },
   {
    "duration": 273,
    "start_time": "2021-11-15T15:45:34.092Z"
   },
   {
    "duration": 24036,
    "start_time": "2021-11-15T15:45:34.367Z"
   },
   {
    "duration": 95,
    "start_time": "2021-11-15T15:45:58.405Z"
   },
   {
    "duration": 4,
    "start_time": "2021-11-15T15:56:41.736Z"
   },
   {
    "duration": 308,
    "start_time": "2021-11-15T15:57:54.350Z"
   },
   {
    "duration": 329,
    "start_time": "2021-11-15T15:59:50.853Z"
   },
   {
    "duration": 307,
    "start_time": "2021-11-15T16:00:49.299Z"
   },
   {
    "duration": 7,
    "start_time": "2021-11-15T16:03:23.599Z"
   },
   {
    "duration": 3,
    "start_time": "2021-11-15T16:23:19.347Z"
   },
   {
    "duration": 3,
    "start_time": "2021-11-15T16:23:54.328Z"
   },
   {
    "duration": 202,
    "start_time": "2021-11-15T16:23:57.585Z"
   },
   {
    "duration": 854,
    "start_time": "2021-11-15T16:25:23.201Z"
   },
   {
    "duration": 3,
    "start_time": "2021-11-15T16:25:25.712Z"
   },
   {
    "duration": 195,
    "start_time": "2021-11-15T16:25:28.982Z"
   },
   {
    "duration": 2,
    "start_time": "2021-11-15T16:26:15.873Z"
   },
   {
    "duration": 187,
    "start_time": "2021-11-15T16:26:17.883Z"
   },
   {
    "duration": 88,
    "start_time": "2021-11-15T16:27:03.222Z"
   },
   {
    "duration": 536,
    "start_time": "2021-11-15T16:27:29.839Z"
   },
   {
    "duration": 4,
    "start_time": "2021-11-15T16:27:33.992Z"
   },
   {
    "duration": 279,
    "start_time": "2021-11-15T16:27:41.021Z"
   },
   {
    "duration": 600,
    "start_time": "2021-11-15T16:27:41.565Z"
   },
   {
    "duration": 98,
    "start_time": "2021-11-15T16:27:47.741Z"
   },
   {
    "duration": 38,
    "start_time": "2021-11-15T16:27:54.927Z"
   },
   {
    "duration": 88,
    "start_time": "2021-11-15T16:28:10.568Z"
   },
   {
    "duration": 11,
    "start_time": "2021-11-15T16:28:11.355Z"
   },
   {
    "duration": 3,
    "start_time": "2021-11-15T16:28:24.098Z"
   },
   {
    "duration": 5223,
    "start_time": "2021-11-15T16:28:26.705Z"
   },
   {
    "duration": 4,
    "start_time": "2021-11-15T16:32:55.381Z"
   },
   {
    "duration": 2,
    "start_time": "2021-11-15T16:36:22.804Z"
   },
   {
    "duration": 5,
    "start_time": "2021-11-15T16:36:24.418Z"
   },
   {
    "duration": 2707,
    "start_time": "2021-11-15T16:36:28.003Z"
   },
   {
    "duration": 4,
    "start_time": "2021-11-15T16:43:41.665Z"
   },
   {
    "duration": 4619,
    "start_time": "2021-11-15T16:44:13.718Z"
   },
   {
    "duration": 4246,
    "start_time": "2021-11-15T16:44:45.114Z"
   },
   {
    "duration": 13071,
    "start_time": "2021-11-15T16:46:14.199Z"
   },
   {
    "duration": 137,
    "start_time": "2021-11-15T16:46:47.988Z"
   },
   {
    "duration": 140,
    "start_time": "2021-11-15T16:47:48.586Z"
   },
   {
    "duration": 144,
    "start_time": "2021-11-15T16:47:55.982Z"
   },
   {
    "duration": 146,
    "start_time": "2021-11-15T16:49:09.593Z"
   },
   {
    "duration": 4,
    "start_time": "2021-11-15T16:49:10.461Z"
   },
   {
    "duration": 13252,
    "start_time": "2021-11-15T16:49:15.127Z"
   },
   {
    "duration": 143,
    "start_time": "2021-11-15T16:49:28.381Z"
   },
   {
    "duration": 5,
    "start_time": "2021-11-15T16:49:28.526Z"
   },
   {
    "duration": 16,
    "start_time": "2021-11-15T16:51:50.060Z"
   },
   {
    "duration": 188,
    "start_time": "2021-11-15T17:00:20.705Z"
   },
   {
    "duration": 4,
    "start_time": "2021-11-15T17:00:27.749Z"
   },
   {
    "duration": 194,
    "start_time": "2021-11-15T17:00:31.978Z"
   },
   {
    "duration": 226,
    "start_time": "2021-11-15T17:02:17.122Z"
   },
   {
    "duration": 200,
    "start_time": "2021-11-15T17:02:36.092Z"
   },
   {
    "duration": 196,
    "start_time": "2021-11-15T17:07:09.663Z"
   },
   {
    "duration": 1910,
    "start_time": "2021-11-15T17:07:23.802Z"
   },
   {
    "duration": 5,
    "start_time": "2021-11-15T17:13:28.813Z"
   },
   {
    "duration": 170,
    "start_time": "2021-11-15T17:13:34.250Z"
   },
   {
    "duration": 221,
    "start_time": "2021-11-15T17:14:02.481Z"
   },
   {
    "duration": 57,
    "start_time": "2021-11-15T17:36:40.876Z"
   },
   {
    "duration": 176,
    "start_time": "2021-11-15T17:36:45.679Z"
   },
   {
    "duration": 7,
    "start_time": "2021-11-15T17:36:49.997Z"
   },
   {
    "duration": 213,
    "start_time": "2021-11-15T17:37:00.633Z"
   },
   {
    "duration": 188,
    "start_time": "2021-11-15T17:41:15.437Z"
   },
   {
    "duration": 172,
    "start_time": "2021-11-15T17:52:07.929Z"
   },
   {
    "duration": 185,
    "start_time": "2021-11-15T17:52:53.227Z"
   },
   {
    "duration": 189,
    "start_time": "2021-11-15T17:53:03.776Z"
   },
   {
    "duration": 4,
    "start_time": "2021-11-15T17:57:01.989Z"
   },
   {
    "duration": 16,
    "start_time": "2021-11-15T18:03:58.325Z"
   },
   {
    "duration": 3,
    "start_time": "2021-11-15T18:05:29.132Z"
   },
   {
    "duration": 183,
    "start_time": "2021-11-15T18:05:54.793Z"
   },
   {
    "duration": 918,
    "start_time": "2021-11-15T18:07:20.726Z"
   },
   {
    "duration": 877,
    "start_time": "2021-11-15T18:07:35.280Z"
   },
   {
    "duration": 704,
    "start_time": "2021-11-15T18:07:39.189Z"
   },
   {
    "duration": 3285,
    "start_time": "2021-11-15T18:07:43.487Z"
   },
   {
    "duration": 15636,
    "start_time": "2021-11-15T22:26:09.662Z"
   },
   {
    "duration": 1945,
    "start_time": "2021-11-15T22:26:25.302Z"
   },
   {
    "duration": 995,
    "start_time": "2021-11-15T22:26:27.251Z"
   },
   {
    "duration": 6,
    "start_time": "2021-11-15T22:26:28.249Z"
   },
   {
    "duration": 210,
    "start_time": "2021-11-15T22:26:28.268Z"
   },
   {
    "duration": 643,
    "start_time": "2021-11-15T22:26:28.481Z"
   },
   {
    "duration": 570,
    "start_time": "2021-11-15T22:26:29.126Z"
   },
   {
    "duration": 1271,
    "start_time": "2021-11-15T22:26:29.699Z"
   },
   {
    "duration": 383,
    "start_time": "2021-11-15T22:26:30.975Z"
   },
   {
    "duration": 178,
    "start_time": "2021-11-15T22:26:31.368Z"
   },
   {
    "duration": 420,
    "start_time": "2021-11-15T22:26:31.549Z"
   },
   {
    "duration": 65,
    "start_time": "2021-11-15T22:26:31.972Z"
   },
   {
    "duration": 4687,
    "start_time": "2021-11-15T22:26:32.040Z"
   },
   {
    "duration": 1271,
    "start_time": "2021-11-15T22:26:36.729Z"
   },
   {
    "duration": 1207,
    "start_time": "2021-11-15T22:26:38.002Z"
   },
   {
    "duration": 3864,
    "start_time": "2021-11-15T22:26:39.212Z"
   },
   {
    "duration": 34364,
    "start_time": "2021-11-15T22:26:43.079Z"
   },
   {
    "duration": 168,
    "start_time": "2021-11-15T22:27:17.445Z"
   },
   {
    "duration": 5,
    "start_time": "2021-11-15T22:27:17.615Z"
   },
   {
    "duration": 109167,
    "start_time": "2021-11-15T22:27:17.623Z"
   },
   {
    "duration": 399,
    "start_time": "2021-11-15T22:29:06.792Z"
   },
   {
    "duration": 6,
    "start_time": "2021-11-15T22:29:07.194Z"
   },
   {
    "duration": 29176,
    "start_time": "2021-11-15T22:29:07.202Z"
   },
   {
    "duration": 189,
    "start_time": "2021-11-15T22:29:36.381Z"
   },
   {
    "duration": 94,
    "start_time": "2021-11-15T22:29:36.573Z"
   },
   {
    "duration": 24961,
    "start_time": "2021-11-15T22:29:36.670Z"
   },
   {
    "duration": 221,
    "start_time": "2021-11-15T22:30:01.636Z"
   },
   {
    "duration": 9,
    "start_time": "2021-11-15T22:30:01.860Z"
   },
   {
    "duration": 6228,
    "start_time": "2021-11-15T22:30:01.871Z"
   },
   {
    "duration": 198,
    "start_time": "2021-11-15T22:30:08.102Z"
   },
   {
    "duration": 6,
    "start_time": "2021-11-15T22:30:08.302Z"
   },
   {
    "duration": 20047,
    "start_time": "2021-11-15T22:30:08.311Z"
   },
   {
    "duration": 232,
    "start_time": "2021-11-15T22:30:28.361Z"
   },
   {
    "duration": 6,
    "start_time": "2021-11-15T22:30:28.596Z"
   },
   {
    "duration": 4,
    "start_time": "2021-11-15T22:35:52.248Z"
   },
   {
    "duration": 337,
    "start_time": "2021-11-15T22:36:35.229Z"
   },
   {
    "duration": 6,
    "start_time": "2021-11-15T22:36:35.845Z"
   },
   {
    "duration": 3850,
    "start_time": "2021-11-15T22:37:34.144Z"
   },
   {
    "duration": 7,
    "start_time": "2021-11-15T22:37:37.997Z"
   },
   {
    "duration": 1210,
    "start_time": "2021-11-15T22:37:38.007Z"
   },
   {
    "duration": 7,
    "start_time": "2021-11-15T22:37:39.220Z"
   },
   {
    "duration": 199,
    "start_time": "2021-11-15T22:37:39.229Z"
   },
   {
    "duration": 593,
    "start_time": "2021-11-15T22:37:39.430Z"
   },
   {
    "duration": 497,
    "start_time": "2021-11-15T22:37:40.026Z"
   },
   {
    "duration": 988,
    "start_time": "2021-11-15T22:37:40.527Z"
   },
   {
    "duration": 360,
    "start_time": "2021-11-15T22:37:41.518Z"
   },
   {
    "duration": 166,
    "start_time": "2021-11-15T22:37:41.880Z"
   },
   {
    "duration": 345,
    "start_time": "2021-11-15T22:37:42.048Z"
   },
   {
    "duration": 71,
    "start_time": "2021-11-15T22:37:42.396Z"
   },
   {
    "duration": 2209,
    "start_time": "2021-11-15T22:37:42.469Z"
   },
   {
    "duration": 1204,
    "start_time": "2021-11-15T22:37:44.680Z"
   },
   {
    "duration": 1146,
    "start_time": "2021-11-15T22:37:45.886Z"
   },
   {
    "duration": 3902,
    "start_time": "2021-11-15T22:37:47.035Z"
   },
   {
    "duration": 3225,
    "start_time": "2021-11-15T22:38:32.615Z"
   },
   {
    "duration": 2691,
    "start_time": "2021-11-15T22:38:35.843Z"
   },
   {
    "duration": 1100,
    "start_time": "2021-11-15T22:38:38.537Z"
   },
   {
    "duration": 7,
    "start_time": "2021-11-15T22:38:39.639Z"
   },
   {
    "duration": 204,
    "start_time": "2021-11-15T22:38:39.648Z"
   },
   {
    "duration": 602,
    "start_time": "2021-11-15T22:38:39.855Z"
   },
   {
    "duration": 548,
    "start_time": "2021-11-15T22:38:40.460Z"
   },
   {
    "duration": 1029,
    "start_time": "2021-11-15T22:38:41.012Z"
   },
   {
    "duration": 351,
    "start_time": "2021-11-15T22:38:42.043Z"
   },
   {
    "duration": 159,
    "start_time": "2021-11-15T22:38:42.397Z"
   },
   {
    "duration": 341,
    "start_time": "2021-11-15T22:38:42.559Z"
   },
   {
    "duration": 68,
    "start_time": "2021-11-15T22:38:42.902Z"
   },
   {
    "duration": 2895,
    "start_time": "2021-11-15T22:38:42.972Z"
   },
   {
    "duration": 1221,
    "start_time": "2021-11-15T22:38:45.870Z"
   },
   {
    "duration": 1156,
    "start_time": "2021-11-15T22:38:47.093Z"
   },
   {
    "duration": 4090,
    "start_time": "2021-11-15T22:38:48.252Z"
   },
   {
    "duration": 24559,
    "start_time": "2021-11-15T22:38:57.776Z"
   },
   {
    "duration": 860,
    "start_time": "2021-11-15T22:39:22.337Z"
   },
   {
    "duration": 6,
    "start_time": "2021-11-15T22:39:23.201Z"
   },
   {
    "duration": 224,
    "start_time": "2021-11-15T22:39:23.211Z"
   },
   {
    "duration": 4,
    "start_time": "2021-11-15T22:39:23.438Z"
   },
   {
    "duration": 6121,
    "start_time": "2021-11-15T22:39:23.445Z"
   },
   {
    "duration": 219,
    "start_time": "2021-11-15T22:39:29.569Z"
   },
   {
    "duration": 6,
    "start_time": "2021-11-15T22:39:29.791Z"
   },
   {
    "duration": 19814,
    "start_time": "2021-11-15T22:39:29.800Z"
   },
   {
    "duration": 261,
    "start_time": "2021-11-15T22:39:49.618Z"
   },
   {
    "duration": 6,
    "start_time": "2021-11-15T22:39:49.882Z"
   },
   {
    "duration": 6,
    "start_time": "2021-11-15T22:40:33.712Z"
   },
   {
    "duration": 3252,
    "start_time": "2021-11-15T22:43:03.079Z"
   },
   {
    "duration": 7,
    "start_time": "2021-11-15T22:43:06.335Z"
   },
   {
    "duration": 852,
    "start_time": "2021-11-15T22:43:06.345Z"
   },
   {
    "duration": 6,
    "start_time": "2021-11-15T22:43:07.200Z"
   },
   {
    "duration": 195,
    "start_time": "2021-11-15T22:43:07.209Z"
   },
   {
    "duration": 605,
    "start_time": "2021-11-15T22:43:07.406Z"
   },
   {
    "duration": 484,
    "start_time": "2021-11-15T22:43:08.014Z"
   },
   {
    "duration": 1008,
    "start_time": "2021-11-15T22:43:08.503Z"
   },
   {
    "duration": 359,
    "start_time": "2021-11-15T22:43:09.514Z"
   },
   {
    "duration": 157,
    "start_time": "2021-11-15T22:43:09.875Z"
   },
   {
    "duration": 349,
    "start_time": "2021-11-15T22:43:10.035Z"
   },
   {
    "duration": 49,
    "start_time": "2021-11-15T22:43:10.386Z"
   },
   {
    "duration": 2211,
    "start_time": "2021-11-15T22:43:10.438Z"
   },
   {
    "duration": 1314,
    "start_time": "2021-11-15T22:43:12.651Z"
   },
   {
    "duration": 1169,
    "start_time": "2021-11-15T22:43:13.968Z"
   },
   {
    "duration": 3910,
    "start_time": "2021-11-15T22:43:15.139Z"
   },
   {
    "duration": 34528,
    "start_time": "2021-11-15T22:43:19.052Z"
   },
   {
    "duration": 183,
    "start_time": "2021-11-15T22:43:53.582Z"
   },
   {
    "duration": 6,
    "start_time": "2021-11-15T22:43:53.767Z"
   },
   {
    "duration": 108683,
    "start_time": "2021-11-15T22:43:53.775Z"
   },
   {
    "duration": 387,
    "start_time": "2021-11-15T22:45:42.467Z"
   },
   {
    "duration": 12,
    "start_time": "2021-11-15T22:45:42.856Z"
   },
   {
    "duration": 3260,
    "start_time": "2021-11-15T22:46:04.085Z"
   },
   {
    "duration": 2396,
    "start_time": "2021-11-15T22:46:07.348Z"
   },
   {
    "duration": 900,
    "start_time": "2021-11-15T22:46:09.747Z"
   },
   {
    "duration": 7,
    "start_time": "2021-11-15T22:46:10.649Z"
   },
   {
    "duration": 220,
    "start_time": "2021-11-15T22:46:10.658Z"
   },
   {
    "duration": 603,
    "start_time": "2021-11-15T22:46:10.880Z"
   },
   {
    "duration": 530,
    "start_time": "2021-11-15T22:46:11.485Z"
   },
   {
    "duration": 1095,
    "start_time": "2021-11-15T22:46:12.019Z"
   },
   {
    "duration": 352,
    "start_time": "2021-11-15T22:46:13.117Z"
   },
   {
    "duration": 168,
    "start_time": "2021-11-15T22:46:13.472Z"
   },
   {
    "duration": 348,
    "start_time": "2021-11-15T22:46:13.643Z"
   },
   {
    "duration": 75,
    "start_time": "2021-11-15T22:46:13.993Z"
   },
   {
    "duration": 2786,
    "start_time": "2021-11-15T22:46:14.070Z"
   },
   {
    "duration": 1212,
    "start_time": "2021-11-15T22:46:16.859Z"
   },
   {
    "duration": 1168,
    "start_time": "2021-11-15T22:46:18.074Z"
   },
   {
    "duration": 3923,
    "start_time": "2021-11-15T22:46:19.244Z"
   },
   {
    "duration": 33982,
    "start_time": "2021-11-15T22:46:23.169Z"
   },
   {
    "duration": 171,
    "start_time": "2021-11-15T22:46:57.153Z"
   },
   {
    "duration": 6,
    "start_time": "2021-11-15T22:46:57.327Z"
   },
   {
    "duration": 111819,
    "start_time": "2021-11-15T22:46:57.335Z"
   },
   {
    "duration": 420,
    "start_time": "2021-11-15T22:48:49.157Z"
   },
   {
    "duration": 9,
    "start_time": "2021-11-15T22:48:49.580Z"
   },
   {
    "duration": 29654,
    "start_time": "2021-11-15T22:48:49.615Z"
   },
   {
    "duration": 205,
    "start_time": "2021-11-15T22:49:19.273Z"
   },
   {
    "duration": 8,
    "start_time": "2021-11-15T22:49:19.483Z"
   },
   {
    "duration": 25256,
    "start_time": "2021-11-15T22:49:19.494Z"
   },
   {
    "duration": 891,
    "start_time": "2021-11-15T22:49:44.753Z"
   },
   {
    "duration": 5,
    "start_time": "2021-11-15T22:49:45.647Z"
   },
   {
    "duration": 246,
    "start_time": "2021-11-15T22:49:45.654Z"
   },
   {
    "duration": 5,
    "start_time": "2021-11-15T22:49:45.903Z"
   },
   {
    "duration": 6272,
    "start_time": "2021-11-15T22:49:45.911Z"
   },
   {
    "duration": 210,
    "start_time": "2021-11-15T22:49:52.185Z"
   },
   {
    "duration": 6,
    "start_time": "2021-11-15T22:49:52.397Z"
   },
   {
    "duration": 20513,
    "start_time": "2021-11-15T22:49:52.405Z"
   },
   {
    "duration": 267,
    "start_time": "2021-11-15T22:50:12.920Z"
   },
   {
    "duration": 7,
    "start_time": "2021-11-15T22:50:13.191Z"
   },
   {
    "duration": 6,
    "start_time": "2021-11-15T22:51:33.311Z"
   },
   {
    "duration": 6,
    "start_time": "2021-11-15T22:53:07.251Z"
   },
   {
    "duration": 5,
    "start_time": "2021-11-15T22:54:53.408Z"
   },
   {
    "duration": 6,
    "start_time": "2021-11-15T22:55:06.232Z"
   },
   {
    "duration": 6,
    "start_time": "2021-11-15T22:55:42.197Z"
   },
   {
    "duration": 12085,
    "start_time": "2021-11-16T11:31:43.933Z"
   },
   {
    "duration": 1652,
    "start_time": "2021-11-16T11:31:56.020Z"
   },
   {
    "duration": 827,
    "start_time": "2021-11-16T11:31:57.674Z"
   },
   {
    "duration": 6,
    "start_time": "2021-11-16T11:31:58.504Z"
   },
   {
    "duration": 192,
    "start_time": "2021-11-16T11:31:58.512Z"
   },
   {
    "duration": 684,
    "start_time": "2021-11-16T11:31:58.707Z"
   },
   {
    "duration": 469,
    "start_time": "2021-11-16T11:31:59.393Z"
   },
   {
    "duration": 1039,
    "start_time": "2021-11-16T11:31:59.867Z"
   },
   {
    "duration": 374,
    "start_time": "2021-11-16T11:32:00.909Z"
   },
   {
    "duration": 156,
    "start_time": "2021-11-16T11:32:01.285Z"
   },
   {
    "duration": 335,
    "start_time": "2021-11-16T11:32:01.444Z"
   },
   {
    "duration": 56,
    "start_time": "2021-11-16T11:32:01.781Z"
   },
   {
    "duration": 2908,
    "start_time": "2021-11-16T11:32:01.840Z"
   },
   {
    "duration": 1141,
    "start_time": "2021-11-16T11:32:04.759Z"
   },
   {
    "duration": 1233,
    "start_time": "2021-11-16T11:32:05.902Z"
   },
   {
    "duration": 4061,
    "start_time": "2021-11-16T11:32:07.137Z"
   },
   {
    "duration": 34304,
    "start_time": "2021-11-16T11:32:11.200Z"
   },
   {
    "duration": 176,
    "start_time": "2021-11-16T11:32:45.506Z"
   },
   {
    "duration": 5,
    "start_time": "2021-11-16T11:32:45.685Z"
   },
   {
    "duration": 109919,
    "start_time": "2021-11-16T11:32:45.692Z"
   },
   {
    "duration": 424,
    "start_time": "2021-11-16T11:34:35.614Z"
   },
   {
    "duration": 5,
    "start_time": "2021-11-16T11:34:36.041Z"
   },
   {
    "duration": 33800,
    "start_time": "2021-11-16T11:34:36.063Z"
   },
   {
    "duration": 102,
    "start_time": "2021-11-16T11:35:09.866Z"
   },
   {
    "duration": 7,
    "start_time": "2021-11-16T11:35:10.061Z"
   },
   {
    "duration": 30505,
    "start_time": "2021-11-16T11:35:10.071Z"
   },
   {
    "duration": 875,
    "start_time": "2021-11-16T11:35:40.578Z"
   },
   {
    "duration": 10,
    "start_time": "2021-11-16T11:35:41.460Z"
   },
   {
    "duration": 246,
    "start_time": "2021-11-16T11:35:41.472Z"
   },
   {
    "duration": 4,
    "start_time": "2021-11-16T11:35:41.720Z"
   },
   {
    "duration": 8632,
    "start_time": "2021-11-16T11:35:41.726Z"
   },
   {
    "duration": 208,
    "start_time": "2021-11-16T11:35:50.361Z"
   },
   {
    "duration": 9,
    "start_time": "2021-11-16T11:35:50.572Z"
   },
   {
    "duration": 22514,
    "start_time": "2021-11-16T11:35:50.584Z"
   },
   {
    "duration": 192,
    "start_time": "2021-11-16T11:36:13.100Z"
   },
   {
    "duration": 6,
    "start_time": "2021-11-16T11:36:13.294Z"
   },
   {
    "duration": 4592,
    "start_time": "2021-11-16T11:53:47.620Z"
   },
   {
    "duration": 7,
    "start_time": "2021-11-16T11:53:52.215Z"
   },
   {
    "duration": 923,
    "start_time": "2021-11-16T11:53:52.225Z"
   },
   {
    "duration": 9,
    "start_time": "2021-11-16T11:53:53.151Z"
   },
   {
    "duration": 366,
    "start_time": "2021-11-16T11:53:53.163Z"
   },
   {
    "duration": 843,
    "start_time": "2021-11-16T11:53:53.532Z"
   },
   {
    "duration": 572,
    "start_time": "2021-11-16T11:53:54.378Z"
   },
   {
    "duration": 1141,
    "start_time": "2021-11-16T11:53:54.958Z"
   },
   {
    "duration": 476,
    "start_time": "2021-11-16T11:53:56.103Z"
   },
   {
    "duration": 239,
    "start_time": "2021-11-16T11:53:56.582Z"
   },
   {
    "duration": 563,
    "start_time": "2021-11-16T11:53:56.824Z"
   },
   {
    "duration": 70,
    "start_time": "2021-11-16T11:53:57.390Z"
   },
   {
    "duration": 2400,
    "start_time": "2021-11-16T11:53:57.463Z"
   },
   {
    "duration": 1193,
    "start_time": "2021-11-16T11:53:59.866Z"
   },
   {
    "duration": 1667,
    "start_time": "2021-11-16T11:54:01.061Z"
   },
   {
    "duration": 3849,
    "start_time": "2021-11-16T11:54:02.731Z"
   },
   {
    "duration": 37021,
    "start_time": "2021-11-16T11:54:06.584Z"
   },
   {
    "duration": 179,
    "start_time": "2021-11-16T11:54:43.608Z"
   },
   {
    "duration": 6,
    "start_time": "2021-11-16T11:54:43.790Z"
   },
   {
    "duration": 118062,
    "start_time": "2021-11-16T11:54:43.799Z"
   },
   {
    "duration": 404,
    "start_time": "2021-11-16T11:56:41.864Z"
   },
   {
    "duration": 6,
    "start_time": "2021-11-16T11:56:42.271Z"
   },
   {
    "duration": 3335,
    "start_time": "2021-11-16T11:57:15.686Z"
   },
   {
    "duration": 2597,
    "start_time": "2021-11-16T11:57:19.024Z"
   },
   {
    "duration": 853,
    "start_time": "2021-11-16T11:57:21.624Z"
   },
   {
    "duration": 7,
    "start_time": "2021-11-16T11:57:22.480Z"
   },
   {
    "duration": 211,
    "start_time": "2021-11-16T11:57:22.489Z"
   },
   {
    "duration": 576,
    "start_time": "2021-11-16T11:57:22.703Z"
   },
   {
    "duration": 491,
    "start_time": "2021-11-16T11:57:23.282Z"
   },
   {
    "duration": 983,
    "start_time": "2021-11-16T11:57:23.779Z"
   },
   {
    "duration": 363,
    "start_time": "2021-11-16T11:57:24.765Z"
   },
   {
    "duration": 161,
    "start_time": "2021-11-16T11:57:25.130Z"
   },
   {
    "duration": 340,
    "start_time": "2021-11-16T11:57:25.294Z"
   },
   {
    "duration": 65,
    "start_time": "2021-11-16T11:57:25.636Z"
   },
   {
    "duration": 3022,
    "start_time": "2021-11-16T11:57:25.703Z"
   },
   {
    "duration": 1348,
    "start_time": "2021-11-16T11:57:28.728Z"
   },
   {
    "duration": 1314,
    "start_time": "2021-11-16T11:57:30.079Z"
   },
   {
    "duration": 3885,
    "start_time": "2021-11-16T11:57:31.396Z"
   },
   {
    "duration": 37075,
    "start_time": "2021-11-16T11:57:35.284Z"
   },
   {
    "duration": 176,
    "start_time": "2021-11-16T11:58:12.362Z"
   },
   {
    "duration": 7,
    "start_time": "2021-11-16T11:58:12.540Z"
   },
   {
    "duration": 116181,
    "start_time": "2021-11-16T11:58:12.549Z"
   },
   {
    "duration": 376,
    "start_time": "2021-11-16T12:00:08.733Z"
   },
   {
    "duration": 6,
    "start_time": "2021-11-16T12:00:09.111Z"
   },
   {
    "duration": 36058,
    "start_time": "2021-11-16T12:00:09.122Z"
   },
   {
    "duration": 183,
    "start_time": "2021-11-16T12:00:45.185Z"
   },
   {
    "duration": 87,
    "start_time": "2021-11-16T12:00:45.374Z"
   },
   {
    "duration": 25909,
    "start_time": "2021-11-16T12:00:45.464Z"
   },
   {
    "duration": 861,
    "start_time": "2021-11-16T12:01:11.376Z"
   },
   {
    "duration": 7,
    "start_time": "2021-11-16T12:01:12.239Z"
   },
   {
    "duration": 4296,
    "start_time": "2021-11-16T12:02:19.978Z"
   },
   {
    "duration": 2434,
    "start_time": "2021-11-16T12:02:24.278Z"
   },
   {
    "duration": 926,
    "start_time": "2021-11-16T12:02:26.715Z"
   },
   {
    "duration": 8,
    "start_time": "2021-11-16T12:02:27.645Z"
   },
   {
    "duration": 326,
    "start_time": "2021-11-16T12:02:27.660Z"
   },
   {
    "duration": 1037,
    "start_time": "2021-11-16T12:02:27.989Z"
   },
   {
    "duration": 694,
    "start_time": "2021-11-16T12:02:29.029Z"
   },
   {
    "duration": 1591,
    "start_time": "2021-11-16T12:02:29.728Z"
   },
   {
    "duration": 471,
    "start_time": "2021-11-16T12:02:31.323Z"
   },
   {
    "duration": 164,
    "start_time": "2021-11-16T12:02:31.797Z"
   },
   {
    "duration": 353,
    "start_time": "2021-11-16T12:02:31.963Z"
   },
   {
    "duration": 59,
    "start_time": "2021-11-16T12:02:32.319Z"
   },
   {
    "duration": 3983,
    "start_time": "2021-11-16T12:02:32.381Z"
   },
   {
    "duration": 1317,
    "start_time": "2021-11-16T12:02:36.367Z"
   },
   {
    "duration": 1135,
    "start_time": "2021-11-16T12:02:37.686Z"
   },
   {
    "duration": 4115,
    "start_time": "2021-11-16T12:02:38.824Z"
   },
   {
    "duration": 40318,
    "start_time": "2021-11-16T12:02:42.942Z"
   },
   {
    "duration": 189,
    "start_time": "2021-11-16T12:03:23.263Z"
   },
   {
    "duration": 6,
    "start_time": "2021-11-16T12:03:23.458Z"
   },
   {
    "duration": 120994,
    "start_time": "2021-11-16T12:03:23.466Z"
   },
   {
    "duration": 400,
    "start_time": "2021-11-16T12:05:24.462Z"
   },
   {
    "duration": 7,
    "start_time": "2021-11-16T12:05:24.865Z"
   },
   {
    "duration": 33894,
    "start_time": "2021-11-16T12:05:24.879Z"
   },
   {
    "duration": 201,
    "start_time": "2021-11-16T12:05:58.861Z"
   },
   {
    "duration": 5,
    "start_time": "2021-11-16T12:05:59.065Z"
   },
   {
    "duration": 25253,
    "start_time": "2021-11-16T12:05:59.074Z"
   },
   {
    "duration": 837,
    "start_time": "2021-11-16T12:06:24.329Z"
   },
   {
    "duration": 6,
    "start_time": "2021-11-16T12:06:25.168Z"
   },
   {
    "duration": 439,
    "start_time": "2021-11-16T12:07:01.398Z"
   },
   {
    "duration": -60,
    "start_time": "2021-11-16T12:07:01.901Z"
   },
   {
    "duration": -68,
    "start_time": "2021-11-16T12:07:01.910Z"
   },
   {
    "duration": -233,
    "start_time": "2021-11-16T12:07:02.077Z"
   },
   {
    "duration": -248,
    "start_time": "2021-11-16T12:07:02.093Z"
   },
   {
    "duration": -261,
    "start_time": "2021-11-16T12:07:02.108Z"
   },
   {
    "duration": -272,
    "start_time": "2021-11-16T12:07:02.120Z"
   },
   {
    "duration": -290,
    "start_time": "2021-11-16T12:07:02.140Z"
   },
   {
    "duration": -307,
    "start_time": "2021-11-16T12:07:02.158Z"
   },
   {
    "duration": -321,
    "start_time": "2021-11-16T12:07:02.174Z"
   },
   {
    "duration": -337,
    "start_time": "2021-11-16T12:07:02.192Z"
   },
   {
    "duration": -351,
    "start_time": "2021-11-16T12:07:02.208Z"
   },
   {
    "duration": 4033,
    "start_time": "2021-11-16T12:07:10.630Z"
   },
   {
    "duration": 2526,
    "start_time": "2021-11-16T12:07:14.667Z"
   },
   {
    "duration": 857,
    "start_time": "2021-11-16T12:07:17.195Z"
   },
   {
    "duration": 5,
    "start_time": "2021-11-16T12:07:18.055Z"
   },
   {
    "duration": 198,
    "start_time": "2021-11-16T12:07:18.062Z"
   },
   {
    "duration": 577,
    "start_time": "2021-11-16T12:07:18.262Z"
   },
   {
    "duration": 483,
    "start_time": "2021-11-16T12:07:18.842Z"
   },
   {
    "duration": 987,
    "start_time": "2021-11-16T12:07:19.329Z"
   },
   {
    "duration": 352,
    "start_time": "2021-11-16T12:07:20.319Z"
   },
   {
    "duration": 180,
    "start_time": "2021-11-16T12:07:20.674Z"
   },
   {
    "duration": 350,
    "start_time": "2021-11-16T12:07:20.856Z"
   },
   {
    "duration": 66,
    "start_time": "2021-11-16T12:07:21.209Z"
   },
   {
    "duration": 3513,
    "start_time": "2021-11-16T12:07:21.278Z"
   },
   {
    "duration": 1204,
    "start_time": "2021-11-16T12:07:24.794Z"
   },
   {
    "duration": 1167,
    "start_time": "2021-11-16T12:07:26.001Z"
   },
   {
    "duration": 4042,
    "start_time": "2021-11-16T12:07:27.171Z"
   },
   {
    "duration": 37665,
    "start_time": "2021-11-16T12:07:31.215Z"
   },
   {
    "duration": 173,
    "start_time": "2021-11-16T12:08:08.883Z"
   },
   {
    "duration": 5,
    "start_time": "2021-11-16T12:08:09.058Z"
   },
   {
    "duration": 116926,
    "start_time": "2021-11-16T12:08:09.065Z"
   },
   {
    "duration": 389,
    "start_time": "2021-11-16T12:10:05.994Z"
   },
   {
    "duration": 5,
    "start_time": "2021-11-16T12:10:06.385Z"
   },
   {
    "duration": 36177,
    "start_time": "2021-11-16T12:10:06.394Z"
   },
   {
    "duration": 185,
    "start_time": "2021-11-16T12:10:42.574Z"
   },
   {
    "duration": 8,
    "start_time": "2021-11-16T12:10:42.763Z"
   },
   {
    "duration": 26760,
    "start_time": "2021-11-16T12:10:42.775Z"
   },
   {
    "duration": 885,
    "start_time": "2021-11-16T12:11:09.539Z"
   },
   {
    "duration": 12,
    "start_time": "2021-11-16T12:11:10.427Z"
   },
   {
    "duration": 688,
    "start_time": "2021-11-16T12:12:21.560Z"
   },
   {
    "duration": 3299,
    "start_time": "2021-11-16T12:12:28.897Z"
   },
   {
    "duration": 2428,
    "start_time": "2021-11-16T12:12:32.199Z"
   },
   {
    "duration": 857,
    "start_time": "2021-11-16T12:12:34.630Z"
   },
   {
    "duration": 6,
    "start_time": "2021-11-16T12:12:35.490Z"
   },
   {
    "duration": 204,
    "start_time": "2021-11-16T12:12:35.498Z"
   },
   {
    "duration": 581,
    "start_time": "2021-11-16T12:12:35.705Z"
   },
   {
    "duration": 514,
    "start_time": "2021-11-16T12:12:36.288Z"
   },
   {
    "duration": 1002,
    "start_time": "2021-11-16T12:12:36.805Z"
   },
   {
    "duration": 342,
    "start_time": "2021-11-16T12:12:37.810Z"
   },
   {
    "duration": 152,
    "start_time": "2021-11-16T12:12:38.158Z"
   },
   {
    "duration": 343,
    "start_time": "2021-11-16T12:12:38.312Z"
   },
   {
    "duration": 57,
    "start_time": "2021-11-16T12:12:38.657Z"
   },
   {
    "duration": 2992,
    "start_time": "2021-11-16T12:12:38.717Z"
   },
   {
    "duration": 1200,
    "start_time": "2021-11-16T12:12:41.712Z"
   },
   {
    "duration": 1154,
    "start_time": "2021-11-16T12:13:07.044Z"
   },
   {
    "duration": 1274,
    "start_time": "2021-11-16T12:13:40.037Z"
   },
   {
    "duration": 3636,
    "start_time": "2021-11-16T12:14:02.691Z"
   },
   {
    "duration": 9,
    "start_time": "2021-11-16T12:14:06.332Z"
   },
   {
    "duration": 1254,
    "start_time": "2021-11-16T12:14:06.346Z"
   },
   {
    "duration": 63,
    "start_time": "2021-11-16T12:14:07.604Z"
   },
   {
    "duration": 550,
    "start_time": "2021-11-16T12:14:07.670Z"
   },
   {
    "duration": 643,
    "start_time": "2021-11-16T12:14:08.223Z"
   },
   {
    "duration": 455,
    "start_time": "2021-11-16T12:14:08.868Z"
   },
   {
    "duration": 971,
    "start_time": "2021-11-16T12:14:09.327Z"
   },
   {
    "duration": 354,
    "start_time": "2021-11-16T12:14:10.301Z"
   },
   {
    "duration": 175,
    "start_time": "2021-11-16T12:14:10.660Z"
   },
   {
    "duration": 354,
    "start_time": "2021-11-16T12:14:10.837Z"
   },
   {
    "duration": 75,
    "start_time": "2021-11-16T12:14:11.194Z"
   },
   {
    "duration": 3069,
    "start_time": "2021-11-16T12:14:11.272Z"
   },
   {
    "duration": 1299,
    "start_time": "2021-11-16T12:14:14.343Z"
   },
   {
    "duration": 1253,
    "start_time": "2021-11-16T12:14:15.645Z"
   },
   {
    "duration": 4571,
    "start_time": "2021-11-16T12:14:16.901Z"
   },
   {
    "duration": 38945,
    "start_time": "2021-11-16T12:14:21.475Z"
   },
   {
    "duration": 175,
    "start_time": "2021-11-16T12:15:00.422Z"
   },
   {
    "duration": 7,
    "start_time": "2021-11-16T12:15:00.600Z"
   },
   {
    "duration": 118330,
    "start_time": "2021-11-16T12:15:00.610Z"
   },
   {
    "duration": 399,
    "start_time": "2021-11-16T12:16:58.943Z"
   },
   {
    "duration": 15,
    "start_time": "2021-11-16T12:16:59.344Z"
   },
   {
    "duration": 3841,
    "start_time": "2021-11-16T12:18:38.120Z"
   },
   {
    "duration": 2455,
    "start_time": "2021-11-16T12:18:41.964Z"
   },
   {
    "duration": 1114,
    "start_time": "2021-11-16T12:18:44.422Z"
   },
   {
    "duration": 7,
    "start_time": "2021-11-16T12:18:45.540Z"
   },
   {
    "duration": 242,
    "start_time": "2021-11-16T12:18:45.550Z"
   },
   {
    "duration": 1121,
    "start_time": "2021-11-16T12:18:45.796Z"
   },
   {
    "duration": 704,
    "start_time": "2021-11-16T12:18:46.920Z"
   },
   {
    "duration": 1013,
    "start_time": "2021-11-16T12:18:47.627Z"
   },
   {
    "duration": 354,
    "start_time": "2021-11-16T12:18:48.643Z"
   },
   {
    "duration": 230,
    "start_time": "2021-11-16T12:18:49.000Z"
   },
   {
    "duration": 584,
    "start_time": "2021-11-16T12:18:49.233Z"
   },
   {
    "duration": 76,
    "start_time": "2021-11-16T12:18:49.820Z"
   },
   {
    "duration": 3091,
    "start_time": "2021-11-16T12:18:49.899Z"
   },
   {
    "duration": 1306,
    "start_time": "2021-11-16T12:18:52.993Z"
   },
   {
    "duration": 1484,
    "start_time": "2021-11-16T12:18:54.302Z"
   },
   {
    "duration": 3875,
    "start_time": "2021-11-16T12:18:55.789Z"
   },
   {
    "duration": 38285,
    "start_time": "2021-11-16T12:18:59.667Z"
   },
   {
    "duration": 169,
    "start_time": "2021-11-16T12:19:37.958Z"
   },
   {
    "duration": 6,
    "start_time": "2021-11-16T12:19:38.130Z"
   },
   {
    "duration": 122003,
    "start_time": "2021-11-16T12:19:38.139Z"
   },
   {
    "duration": 401,
    "start_time": "2021-11-16T12:21:40.144Z"
   },
   {
    "duration": 15,
    "start_time": "2021-11-16T12:21:40.547Z"
   },
   {
    "duration": 35505,
    "start_time": "2021-11-16T12:21:40.567Z"
   },
   {
    "duration": 195,
    "start_time": "2021-11-16T12:22:16.076Z"
   },
   {
    "duration": 111,
    "start_time": "2021-11-16T12:22:16.274Z"
   },
   {
    "duration": 604,
    "start_time": "2021-11-16T12:22:16.388Z"
   },
   {
    "duration": -82,
    "start_time": "2021-11-16T12:22:17.076Z"
   },
   {
    "duration": -96,
    "start_time": "2021-11-16T12:22:17.092Z"
   },
   {
    "duration": -235,
    "start_time": "2021-11-16T12:22:17.232Z"
   },
   {
    "duration": -245,
    "start_time": "2021-11-16T12:22:17.244Z"
   },
   {
    "duration": -249,
    "start_time": "2021-11-16T12:22:17.250Z"
   },
   {
    "duration": -255,
    "start_time": "2021-11-16T12:22:17.258Z"
   },
   {
    "duration": -262,
    "start_time": "2021-11-16T12:22:17.266Z"
   },
   {
    "duration": -269,
    "start_time": "2021-11-16T12:22:17.275Z"
   },
   {
    "duration": -276,
    "start_time": "2021-11-16T12:22:17.283Z"
   },
   {
    "duration": -286,
    "start_time": "2021-11-16T12:22:17.295Z"
   },
   {
    "duration": -295,
    "start_time": "2021-11-16T12:22:17.306Z"
   },
   {
    "duration": -302,
    "start_time": "2021-11-16T12:22:17.315Z"
   },
   {
    "duration": -312,
    "start_time": "2021-11-16T12:22:17.326Z"
   },
   {
    "duration": -317,
    "start_time": "2021-11-16T12:22:17.333Z"
   },
   {
    "duration": -374,
    "start_time": "2021-11-16T12:22:17.391Z"
   },
   {
    "duration": 405,
    "start_time": "2021-11-16T12:22:38.253Z"
   },
   {
    "duration": 511,
    "start_time": "2021-11-16T12:26:23.636Z"
   },
   {
    "duration": 386,
    "start_time": "2021-11-16T12:26:36.358Z"
   },
   {
    "duration": 4219,
    "start_time": "2021-11-16T12:26:40.971Z"
   },
   {
    "duration": 9,
    "start_time": "2021-11-16T12:26:45.194Z"
   },
   {
    "duration": 1086,
    "start_time": "2021-11-16T12:26:45.207Z"
   },
   {
    "duration": 8,
    "start_time": "2021-11-16T12:26:46.297Z"
   },
   {
    "duration": 240,
    "start_time": "2021-11-16T12:26:46.308Z"
   },
   {
    "duration": 1041,
    "start_time": "2021-11-16T12:26:46.551Z"
   },
   {
    "duration": 540,
    "start_time": "2021-11-16T12:26:47.595Z"
   },
   {
    "duration": 1080,
    "start_time": "2021-11-16T12:26:48.139Z"
   },
   {
    "duration": 351,
    "start_time": "2021-11-16T12:26:49.223Z"
   },
   {
    "duration": 166,
    "start_time": "2021-11-16T12:26:49.576Z"
   },
   {
    "duration": 344,
    "start_time": "2021-11-16T12:26:49.744Z"
   },
   {
    "duration": 45,
    "start_time": "2021-11-16T12:26:50.090Z"
   },
   {
    "duration": 3104,
    "start_time": "2021-11-16T12:26:50.138Z"
   },
   {
    "duration": 1188,
    "start_time": "2021-11-16T12:26:53.245Z"
   },
   {
    "duration": 1160,
    "start_time": "2021-11-16T12:26:54.436Z"
   },
   {
    "duration": 4412,
    "start_time": "2021-11-16T12:26:55.599Z"
   },
   {
    "duration": 4783,
    "start_time": "2021-11-16T12:28:50.279Z"
   },
   {
    "duration": 2200,
    "start_time": "2021-11-16T12:28:55.066Z"
   },
   {
    "duration": 856,
    "start_time": "2021-11-16T12:28:57.270Z"
   },
   {
    "duration": 6,
    "start_time": "2021-11-16T12:28:58.129Z"
   },
   {
    "duration": 200,
    "start_time": "2021-11-16T12:28:58.137Z"
   },
   {
    "duration": 600,
    "start_time": "2021-11-16T12:28:58.340Z"
   },
   {
    "duration": 634,
    "start_time": "2021-11-16T12:28:58.942Z"
   },
   {
    "duration": 1067,
    "start_time": "2021-11-16T12:28:59.580Z"
   },
   {
    "duration": 445,
    "start_time": "2021-11-16T12:29:00.658Z"
   },
   {
    "duration": 164,
    "start_time": "2021-11-16T12:29:01.106Z"
   },
   {
    "duration": 344,
    "start_time": "2021-11-16T12:29:01.273Z"
   },
   {
    "duration": 77,
    "start_time": "2021-11-16T12:29:01.620Z"
   },
   {
    "duration": 3049,
    "start_time": "2021-11-16T12:29:01.700Z"
   },
   {
    "duration": 1338,
    "start_time": "2021-11-16T12:29:04.751Z"
   },
   {
    "duration": 1330,
    "start_time": "2021-11-16T12:29:06.092Z"
   },
   {
    "duration": 3984,
    "start_time": "2021-11-16T12:29:07.425Z"
   },
   {
    "duration": 39740,
    "start_time": "2021-11-16T12:29:11.412Z"
   },
   {
    "duration": 201,
    "start_time": "2021-11-16T12:29:51.160Z"
   },
   {
    "duration": 8,
    "start_time": "2021-11-16T12:29:51.364Z"
   },
   {
    "duration": 132121,
    "start_time": "2021-11-16T12:29:51.375Z"
   },
   {
    "duration": 412,
    "start_time": "2021-11-16T12:32:03.498Z"
   },
   {
    "duration": 8,
    "start_time": "2021-11-16T12:32:03.913Z"
   },
   {
    "duration": 36845,
    "start_time": "2021-11-16T12:32:03.926Z"
   },
   {
    "duration": 195,
    "start_time": "2021-11-16T12:32:40.774Z"
   },
   {
    "duration": 83,
    "start_time": "2021-11-16T12:32:40.979Z"
   },
   {
    "duration": 558,
    "start_time": "2021-11-16T12:32:41.065Z"
   },
   {
    "duration": 19,
    "start_time": "2021-11-16T12:32:41.607Z"
   },
   {
    "duration": 13,
    "start_time": "2021-11-16T12:32:41.615Z"
   },
   {
    "duration": -123,
    "start_time": "2021-11-16T12:32:41.753Z"
   },
   {
    "duration": -129,
    "start_time": "2021-11-16T12:32:41.761Z"
   },
   {
    "duration": -141,
    "start_time": "2021-11-16T12:32:41.774Z"
   },
   {
    "duration": -149,
    "start_time": "2021-11-16T12:32:41.784Z"
   },
   {
    "duration": -156,
    "start_time": "2021-11-16T12:32:41.793Z"
   },
   {
    "duration": -165,
    "start_time": "2021-11-16T12:32:41.804Z"
   },
   {
    "duration": -177,
    "start_time": "2021-11-16T12:32:41.818Z"
   },
   {
    "duration": -183,
    "start_time": "2021-11-16T12:32:41.826Z"
   },
   {
    "duration": -188,
    "start_time": "2021-11-16T12:32:41.833Z"
   },
   {
    "duration": -193,
    "start_time": "2021-11-16T12:32:41.840Z"
   },
   {
    "duration": -204,
    "start_time": "2021-11-16T12:32:41.853Z"
   },
   {
    "duration": -210,
    "start_time": "2021-11-16T12:32:41.861Z"
   },
   {
    "duration": -223,
    "start_time": "2021-11-16T12:32:41.875Z"
   },
   {
    "duration": 410,
    "start_time": "2021-11-16T12:35:20.036Z"
   },
   {
    "duration": 4,
    "start_time": "2021-11-16T12:35:59.771Z"
   },
   {
    "duration": 506,
    "start_time": "2021-11-16T12:36:03.477Z"
   },
   {
    "duration": 517,
    "start_time": "2021-11-16T12:36:39.113Z"
   },
   {
    "duration": 1393,
    "start_time": "2021-11-16T12:36:50.788Z"
   },
   {
    "duration": 1124,
    "start_time": "2021-11-16T12:36:52.183Z"
   },
   {
    "duration": 3800,
    "start_time": "2021-11-16T12:36:53.310Z"
   },
   {
    "duration": 332,
    "start_time": "2021-11-16T12:38:30.479Z"
   },
   {
    "duration": 3349,
    "start_time": "2021-11-16T12:38:35.468Z"
   },
   {
    "duration": 2592,
    "start_time": "2021-11-16T12:38:38.820Z"
   },
   {
    "duration": 893,
    "start_time": "2021-11-16T12:38:41.415Z"
   },
   {
    "duration": 7,
    "start_time": "2021-11-16T12:38:42.312Z"
   },
   {
    "duration": 344,
    "start_time": "2021-11-16T12:38:42.322Z"
   },
   {
    "duration": 1056,
    "start_time": "2021-11-16T12:38:42.669Z"
   },
   {
    "duration": 788,
    "start_time": "2021-11-16T12:38:43.728Z"
   },
   {
    "duration": 1586,
    "start_time": "2021-11-16T12:38:44.522Z"
   },
   {
    "duration": 474,
    "start_time": "2021-11-16T12:38:46.112Z"
   },
   {
    "duration": 174,
    "start_time": "2021-11-16T12:38:46.589Z"
   },
   {
    "duration": 840,
    "start_time": "2021-11-16T12:38:46.766Z"
   },
   {
    "duration": -241,
    "start_time": "2021-11-16T12:38:47.853Z"
   },
   {
    "duration": -251,
    "start_time": "2021-11-16T12:38:47.865Z"
   },
   {
    "duration": -253,
    "start_time": "2021-11-16T12:38:47.869Z"
   },
   {
    "duration": -259,
    "start_time": "2021-11-16T12:38:47.876Z"
   },
   {
    "duration": -265,
    "start_time": "2021-11-16T12:38:47.883Z"
   },
   {
    "duration": -271,
    "start_time": "2021-11-16T12:38:47.892Z"
   },
   {
    "duration": -387,
    "start_time": "2021-11-16T12:38:48.010Z"
   },
   {
    "duration": -391,
    "start_time": "2021-11-16T12:38:48.016Z"
   },
   {
    "duration": -393,
    "start_time": "2021-11-16T12:38:48.020Z"
   },
   {
    "duration": -400,
    "start_time": "2021-11-16T12:38:48.029Z"
   },
   {
    "duration": -426,
    "start_time": "2021-11-16T12:38:48.057Z"
   },
   {
    "duration": -435,
    "start_time": "2021-11-16T12:38:48.067Z"
   },
   {
    "duration": -440,
    "start_time": "2021-11-16T12:38:48.074Z"
   },
   {
    "duration": -444,
    "start_time": "2021-11-16T12:38:48.080Z"
   },
   {
    "duration": -451,
    "start_time": "2021-11-16T12:38:48.089Z"
   },
   {
    "duration": -459,
    "start_time": "2021-11-16T12:38:48.099Z"
   },
   {
    "duration": -464,
    "start_time": "2021-11-16T12:38:48.106Z"
   },
   {
    "duration": -457,
    "start_time": "2021-11-16T12:38:48.117Z"
   },
   {
    "duration": -465,
    "start_time": "2021-11-16T12:38:48.127Z"
   },
   {
    "duration": -469,
    "start_time": "2021-11-16T12:38:48.134Z"
   },
   {
    "duration": -478,
    "start_time": "2021-11-16T12:38:48.145Z"
   },
   {
    "duration": -483,
    "start_time": "2021-11-16T12:38:48.152Z"
   },
   {
    "duration": -494,
    "start_time": "2021-11-16T12:38:48.165Z"
   },
   {
    "duration": -498,
    "start_time": "2021-11-16T12:38:48.171Z"
   },
   {
    "duration": -506,
    "start_time": "2021-11-16T12:38:48.181Z"
   },
   {
    "duration": -511,
    "start_time": "2021-11-16T12:38:48.188Z"
   },
   {
    "duration": -518,
    "start_time": "2021-11-16T12:38:48.198Z"
   },
   {
    "duration": -526,
    "start_time": "2021-11-16T12:38:48.208Z"
   },
   {
    "duration": -532,
    "start_time": "2021-11-16T12:38:48.216Z"
   },
   {
    "duration": 4338,
    "start_time": "2021-11-16T12:38:56.125Z"
   },
   {
    "duration": 7,
    "start_time": "2021-11-16T12:39:00.467Z"
   },
   {
    "duration": 1167,
    "start_time": "2021-11-16T12:39:00.478Z"
   },
   {
    "duration": 15,
    "start_time": "2021-11-16T12:39:01.649Z"
   },
   {
    "duration": 195,
    "start_time": "2021-11-16T12:39:01.667Z"
   },
   {
    "duration": 597,
    "start_time": "2021-11-16T12:39:01.865Z"
   },
   {
    "duration": 521,
    "start_time": "2021-11-16T12:39:02.465Z"
   },
   {
    "duration": 1619,
    "start_time": "2021-11-16T12:39:02.990Z"
   },
   {
    "duration": 601,
    "start_time": "2021-11-16T12:39:04.613Z"
   },
   {
    "duration": 248,
    "start_time": "2021-11-16T12:39:05.217Z"
   },
   {
    "duration": 526,
    "start_time": "2021-11-16T12:39:05.468Z"
   },
   {
    "duration": 84,
    "start_time": "2021-11-16T12:39:05.997Z"
   },
   {
    "duration": 3145,
    "start_time": "2021-11-16T12:39:06.084Z"
   },
   {
    "duration": 1738,
    "start_time": "2021-11-16T12:39:09.232Z"
   },
   {
    "duration": 1844,
    "start_time": "2021-11-16T12:39:10.973Z"
   },
   {
    "duration": 4153,
    "start_time": "2021-11-16T12:39:12.820Z"
   },
   {
    "duration": 3691,
    "start_time": "2021-11-16T12:40:27.517Z"
   },
   {
    "duration": 2872,
    "start_time": "2021-11-16T12:40:31.211Z"
   },
   {
    "duration": 1209,
    "start_time": "2021-11-16T12:40:34.088Z"
   },
   {
    "duration": 6,
    "start_time": "2021-11-16T12:40:35.300Z"
   },
   {
    "duration": 215,
    "start_time": "2021-11-16T12:40:35.309Z"
   },
   {
    "duration": 606,
    "start_time": "2021-11-16T12:40:35.527Z"
   },
   {
    "duration": 502,
    "start_time": "2021-11-16T12:40:36.136Z"
   },
   {
    "duration": 1014,
    "start_time": "2021-11-16T12:40:36.643Z"
   },
   {
    "duration": 352,
    "start_time": "2021-11-16T12:40:37.660Z"
   },
   {
    "duration": 162,
    "start_time": "2021-11-16T12:40:38.014Z"
   },
   {
    "duration": 339,
    "start_time": "2021-11-16T12:40:38.178Z"
   },
   {
    "duration": 67,
    "start_time": "2021-11-16T12:40:38.520Z"
   },
   {
    "duration": 4115,
    "start_time": "2021-11-16T12:40:38.589Z"
   },
   {
    "duration": 1202,
    "start_time": "2021-11-16T12:40:42.706Z"
   },
   {
    "duration": 1331,
    "start_time": "2021-11-16T12:40:43.911Z"
   },
   {
    "duration": 4233,
    "start_time": "2021-11-16T12:40:45.244Z"
   },
   {
    "duration": 16193,
    "start_time": "2021-11-16T12:40:54.472Z"
   },
   {
    "duration": 826,
    "start_time": "2021-11-16T12:41:10.669Z"
   },
   {
    "duration": 7,
    "start_time": "2021-11-16T12:41:11.500Z"
   },
   {
    "duration": 3770,
    "start_time": "2021-11-16T12:42:00.702Z"
   },
   {
    "duration": 2746,
    "start_time": "2021-11-16T12:42:04.475Z"
   },
   {
    "duration": 995,
    "start_time": "2021-11-16T12:42:07.224Z"
   },
   {
    "duration": 6,
    "start_time": "2021-11-16T12:42:08.222Z"
   },
   {
    "duration": 207,
    "start_time": "2021-11-16T12:42:08.230Z"
   },
   {
    "duration": 919,
    "start_time": "2021-11-16T12:42:08.440Z"
   },
   {
    "duration": 498,
    "start_time": "2021-11-16T12:42:09.361Z"
   },
   {
    "duration": 1433,
    "start_time": "2021-11-16T12:42:09.865Z"
   },
   {
    "duration": 593,
    "start_time": "2021-11-16T12:42:11.302Z"
   },
   {
    "duration": 237,
    "start_time": "2021-11-16T12:42:11.898Z"
   },
   {
    "duration": 590,
    "start_time": "2021-11-16T12:42:12.138Z"
   },
   {
    "duration": 74,
    "start_time": "2021-11-16T12:42:12.731Z"
   },
   {
    "duration": 3651,
    "start_time": "2021-11-16T12:42:12.808Z"
   },
   {
    "duration": 1198,
    "start_time": "2021-11-16T12:42:16.462Z"
   },
   {
    "duration": 1197,
    "start_time": "2021-11-16T12:42:17.662Z"
   },
   {
    "duration": 3877,
    "start_time": "2021-11-16T12:42:18.861Z"
   },
   {
    "duration": 15235,
    "start_time": "2021-11-16T12:42:25.007Z"
   },
   {
    "duration": 1062,
    "start_time": "2021-11-16T12:42:40.246Z"
   },
   {
    "duration": 5,
    "start_time": "2021-11-16T12:42:41.311Z"
   },
   {
    "duration": 3811,
    "start_time": "2021-11-16T12:43:56.771Z"
   },
   {
    "duration": 3689,
    "start_time": "2021-11-16T12:44:00.585Z"
   },
   {
    "duration": 1150,
    "start_time": "2021-11-16T12:44:04.279Z"
   },
   {
    "duration": 7,
    "start_time": "2021-11-16T12:44:05.431Z"
   },
   {
    "duration": 240,
    "start_time": "2021-11-16T12:44:05.440Z"
   },
   {
    "duration": 641,
    "start_time": "2021-11-16T12:44:05.683Z"
   },
   {
    "duration": 535,
    "start_time": "2021-11-16T12:44:06.327Z"
   },
   {
    "duration": 1107,
    "start_time": "2021-11-16T12:44:06.865Z"
   },
   {
    "duration": 361,
    "start_time": "2021-11-16T12:44:07.974Z"
   },
   {
    "duration": 188,
    "start_time": "2021-11-16T12:44:08.338Z"
   },
   {
    "duration": 414,
    "start_time": "2021-11-16T12:44:08.529Z"
   },
   {
    "duration": 66,
    "start_time": "2021-11-16T12:44:08.946Z"
   },
   {
    "duration": 3316,
    "start_time": "2021-11-16T12:44:09.015Z"
   },
   {
    "duration": 1428,
    "start_time": "2021-11-16T12:44:12.333Z"
   },
   {
    "duration": 1661,
    "start_time": "2021-11-16T12:44:13.764Z"
   },
   {
    "duration": 4214,
    "start_time": "2021-11-16T12:44:15.427Z"
   },
   {
    "duration": 15429,
    "start_time": "2021-11-16T12:45:09.259Z"
   },
   {
    "duration": 825,
    "start_time": "2021-11-16T12:45:24.690Z"
   },
   {
    "duration": 6,
    "start_time": "2021-11-16T12:45:25.518Z"
   },
   {
    "duration": 3959,
    "start_time": "2021-11-16T12:52:21.123Z"
   },
   {
    "duration": 2820,
    "start_time": "2021-11-16T12:52:25.086Z"
   },
   {
    "duration": 1201,
    "start_time": "2021-11-16T12:52:27.910Z"
   },
   {
    "duration": 9,
    "start_time": "2021-11-16T12:52:29.115Z"
   },
   {
    "duration": 212,
    "start_time": "2021-11-16T12:52:29.128Z"
   },
   {
    "duration": 594,
    "start_time": "2021-11-16T12:52:29.343Z"
   },
   {
    "duration": 508,
    "start_time": "2021-11-16T12:52:29.940Z"
   },
   {
    "duration": 1143,
    "start_time": "2021-11-16T12:52:30.452Z"
   },
   {
    "duration": 561,
    "start_time": "2021-11-16T12:52:31.598Z"
   },
   {
    "duration": 173,
    "start_time": "2021-11-16T12:52:32.162Z"
   },
   {
    "duration": 346,
    "start_time": "2021-11-16T12:52:32.338Z"
   },
   {
    "duration": 57,
    "start_time": "2021-11-16T12:52:32.687Z"
   },
   {
    "duration": 3470,
    "start_time": "2021-11-16T12:52:32.758Z"
   },
   {
    "duration": 1498,
    "start_time": "2021-11-16T12:52:36.230Z"
   },
   {
    "duration": 1147,
    "start_time": "2021-11-16T12:52:37.731Z"
   },
   {
    "duration": 3818,
    "start_time": "2021-11-16T12:52:38.881Z"
   },
   {
    "duration": 15781,
    "start_time": "2021-11-16T12:52:44.123Z"
   },
   {
    "duration": 836,
    "start_time": "2021-11-16T12:52:59.907Z"
   },
   {
    "duration": 14,
    "start_time": "2021-11-16T12:53:00.746Z"
   },
   {
    "duration": 444,
    "start_time": "2021-11-16T13:01:06.945Z"
   },
   {
    "duration": 3357,
    "start_time": "2021-11-16T13:01:39.813Z"
   },
   {
    "duration": 3041,
    "start_time": "2021-11-16T13:01:43.173Z"
   },
   {
    "duration": 1281,
    "start_time": "2021-11-16T13:01:46.218Z"
   },
   {
    "duration": 8,
    "start_time": "2021-11-16T13:01:47.502Z"
   },
   {
    "duration": 212,
    "start_time": "2021-11-16T13:01:47.513Z"
   },
   {
    "duration": 748,
    "start_time": "2021-11-16T13:01:47.727Z"
   },
   {
    "duration": 852,
    "start_time": "2021-11-16T13:01:48.478Z"
   },
   {
    "duration": 1620,
    "start_time": "2021-11-16T13:01:49.334Z"
   },
   {
    "duration": 608,
    "start_time": "2021-11-16T13:01:50.961Z"
   },
   {
    "duration": 194,
    "start_time": "2021-11-16T13:01:51.571Z"
   },
   {
    "duration": 346,
    "start_time": "2021-11-16T13:01:51.768Z"
   },
   {
    "duration": 77,
    "start_time": "2021-11-16T13:01:52.118Z"
   },
   {
    "duration": 4632,
    "start_time": "2021-11-16T13:01:52.198Z"
   },
   {
    "duration": 1744,
    "start_time": "2021-11-16T13:01:56.832Z"
   },
   {
    "duration": 1829,
    "start_time": "2021-11-16T13:01:58.578Z"
   },
   {
    "duration": 4141,
    "start_time": "2021-11-16T13:02:00.411Z"
   },
   {
    "duration": 2849,
    "start_time": "2021-11-16T13:02:29.332Z"
   },
   {
    "duration": 1369,
    "start_time": "2021-11-16T13:02:42.054Z"
   },
   {
    "duration": 4572,
    "start_time": "2021-11-16T13:03:03.451Z"
   },
   {
    "duration": 6,
    "start_time": "2021-11-16T13:03:08.026Z"
   },
   {
    "duration": 834,
    "start_time": "2021-11-16T13:03:08.036Z"
   },
   {
    "duration": 8,
    "start_time": "2021-11-16T13:03:08.873Z"
   },
   {
    "duration": 230,
    "start_time": "2021-11-16T13:03:08.883Z"
   },
   {
    "duration": 657,
    "start_time": "2021-11-16T13:03:09.116Z"
   },
   {
    "duration": 468,
    "start_time": "2021-11-16T13:03:09.776Z"
   },
   {
    "duration": 1018,
    "start_time": "2021-11-16T13:03:10.248Z"
   },
   {
    "duration": 369,
    "start_time": "2021-11-16T13:03:11.269Z"
   },
   {
    "duration": 174,
    "start_time": "2021-11-16T13:03:11.641Z"
   },
   {
    "duration": 380,
    "start_time": "2021-11-16T13:03:11.818Z"
   },
   {
    "duration": 68,
    "start_time": "2021-11-16T13:03:12.201Z"
   },
   {
    "duration": 3175,
    "start_time": "2021-11-16T13:03:12.272Z"
   },
   {
    "duration": 1475,
    "start_time": "2021-11-16T13:03:15.458Z"
   },
   {
    "duration": 1380,
    "start_time": "2021-11-16T13:03:16.936Z"
   },
   {
    "duration": 4322,
    "start_time": "2021-11-16T13:03:18.319Z"
   },
   {
    "duration": 6,
    "start_time": "2021-11-16T13:04:43.699Z"
   },
   {
    "duration": 2811,
    "start_time": "2021-11-16T13:05:14.038Z"
   },
   {
    "duration": 3166,
    "start_time": "2021-11-16T13:05:49.616Z"
   },
   {
    "duration": 6,
    "start_time": "2021-11-16T13:06:15.160Z"
   },
   {
    "duration": 4447,
    "start_time": "2021-11-16T13:06:44.711Z"
   },
   {
    "duration": 62,
    "start_time": "2021-11-16T13:09:28.248Z"
   },
   {
    "duration": 8577,
    "start_time": "2021-11-16T13:09:33.650Z"
   },
   {
    "duration": 507,
    "start_time": "2021-11-16T13:09:42.230Z"
   },
   {
    "duration": 18,
    "start_time": "2021-11-16T13:09:42.741Z"
   },
   {
    "duration": 7226,
    "start_time": "2021-11-16T13:09:42.762Z"
   },
   {
    "duration": 512,
    "start_time": "2021-11-16T13:09:49.992Z"
   },
   {
    "duration": 7,
    "start_time": "2021-11-16T13:09:50.507Z"
   },
   {
    "duration": 224,
    "start_time": "2021-11-16T13:09:50.518Z"
   },
   {
    "duration": 6,
    "start_time": "2021-11-16T13:09:50.746Z"
   },
   {
    "duration": 6992,
    "start_time": "2021-11-16T13:09:50.755Z"
   },
   {
    "duration": 255,
    "start_time": "2021-11-16T13:09:57.750Z"
   },
   {
    "duration": 5,
    "start_time": "2021-11-16T13:09:58.008Z"
   },
   {
    "duration": 20182,
    "start_time": "2021-11-16T13:09:58.016Z"
   },
   {
    "duration": 368,
    "start_time": "2021-11-16T13:10:18.200Z"
   },
   {
    "duration": 7,
    "start_time": "2021-11-16T13:10:18.571Z"
   },
   {
    "duration": 134,
    "start_time": "2021-11-16T13:10:18.581Z"
   },
   {
    "duration": 404,
    "start_time": "2021-11-16T13:10:41.005Z"
   },
   {
    "duration": 390,
    "start_time": "2021-11-16T13:10:54.338Z"
   },
   {
    "duration": 6,
    "start_time": "2021-11-16T13:11:14.497Z"
   },
   {
    "duration": 629,
    "start_time": "2021-11-16T13:13:15.280Z"
   },
   {
    "duration": 3829,
    "start_time": "2021-11-16T13:13:22.544Z"
   },
   {
    "duration": 6,
    "start_time": "2021-11-16T13:13:26.377Z"
   },
   {
    "duration": 975,
    "start_time": "2021-11-16T13:13:26.387Z"
   },
   {
    "duration": 7,
    "start_time": "2021-11-16T13:13:27.364Z"
   },
   {
    "duration": 195,
    "start_time": "2021-11-16T13:13:27.373Z"
   },
   {
    "duration": 612,
    "start_time": "2021-11-16T13:13:27.571Z"
   },
   {
    "duration": 701,
    "start_time": "2021-11-16T13:13:28.186Z"
   },
   {
    "duration": 1514,
    "start_time": "2021-11-16T13:13:28.892Z"
   },
   {
    "duration": 598,
    "start_time": "2021-11-16T13:13:30.410Z"
   },
   {
    "duration": 209,
    "start_time": "2021-11-16T13:13:31.010Z"
   },
   {
    "duration": 344,
    "start_time": "2021-11-16T13:13:31.222Z"
   },
   {
    "duration": 54,
    "start_time": "2021-11-16T13:13:31.569Z"
   },
   {
    "duration": 2454,
    "start_time": "2021-11-16T13:13:31.625Z"
   },
   {
    "duration": 1169,
    "start_time": "2021-11-16T13:13:34.081Z"
   },
   {
    "duration": 1145,
    "start_time": "2021-11-16T13:13:35.252Z"
   },
   {
    "duration": 3668,
    "start_time": "2021-11-16T13:16:55.841Z"
   },
   {
    "duration": 2617,
    "start_time": "2021-11-16T13:16:59.512Z"
   },
   {
    "duration": 869,
    "start_time": "2021-11-16T13:17:02.133Z"
   },
   {
    "duration": 6,
    "start_time": "2021-11-16T13:17:03.005Z"
   },
   {
    "duration": 254,
    "start_time": "2021-11-16T13:17:03.013Z"
   },
   {
    "duration": 597,
    "start_time": "2021-11-16T13:17:03.270Z"
   },
   {
    "duration": 490,
    "start_time": "2021-11-16T13:17:03.869Z"
   },
   {
    "duration": 1265,
    "start_time": "2021-11-16T13:17:04.364Z"
   },
   {
    "duration": 390,
    "start_time": "2021-11-16T13:17:05.632Z"
   },
   {
    "duration": 199,
    "start_time": "2021-11-16T13:17:06.024Z"
   },
   {
    "duration": 384,
    "start_time": "2021-11-16T13:17:06.225Z"
   },
   {
    "duration": 76,
    "start_time": "2021-11-16T13:17:06.611Z"
   },
   {
    "duration": 3314,
    "start_time": "2021-11-16T13:17:06.690Z"
   },
   {
    "duration": 1717,
    "start_time": "2021-11-16T13:17:10.006Z"
   },
   {
    "duration": 1249,
    "start_time": "2021-11-16T13:17:11.727Z"
   },
   {
    "duration": 4210,
    "start_time": "2021-11-16T13:17:12.979Z"
   },
   {
    "duration": 39445,
    "start_time": "2021-11-16T13:17:17.192Z"
   },
   {
    "duration": 205,
    "start_time": "2021-11-16T13:17:56.640Z"
   },
   {
    "duration": 16,
    "start_time": "2021-11-16T13:17:56.848Z"
   },
   {
    "duration": 120553,
    "start_time": "2021-11-16T13:17:56.868Z"
   },
   {
    "duration": 380,
    "start_time": "2021-11-16T13:19:57.424Z"
   },
   {
    "duration": 6,
    "start_time": "2021-11-16T13:19:57.806Z"
   },
   {
    "duration": 35164,
    "start_time": "2021-11-16T13:19:57.818Z"
   },
   {
    "duration": 179,
    "start_time": "2021-11-16T13:20:32.985Z"
   },
   {
    "duration": 8,
    "start_time": "2021-11-16T13:20:33.167Z"
   },
   {
    "duration": 155,
    "start_time": "2021-11-16T13:20:33.178Z"
   },
   {
    "duration": 9328,
    "start_time": "2021-11-16T13:20:33.336Z"
   },
   {
    "duration": 524,
    "start_time": "2021-11-16T13:20:42.667Z"
   },
   {
    "duration": 6,
    "start_time": "2021-11-16T13:20:43.193Z"
   },
   {
    "duration": 8742,
    "start_time": "2021-11-16T13:20:43.201Z"
   },
   {
    "duration": 523,
    "start_time": "2021-11-16T13:20:51.946Z"
   },
   {
    "duration": 6,
    "start_time": "2021-11-16T13:20:52.472Z"
   },
   {
    "duration": 217,
    "start_time": "2021-11-16T13:20:52.480Z"
   },
   {
    "duration": 4,
    "start_time": "2021-11-16T13:20:52.700Z"
   },
   {
    "duration": 6521,
    "start_time": "2021-11-16T13:20:52.706Z"
   },
   {
    "duration": 197,
    "start_time": "2021-11-16T13:20:59.229Z"
   },
   {
    "duration": 7,
    "start_time": "2021-11-16T13:20:59.460Z"
   },
   {
    "duration": 20335,
    "start_time": "2021-11-16T13:20:59.470Z"
   },
   {
    "duration": 259,
    "start_time": "2021-11-16T13:21:19.807Z"
   },
   {
    "duration": 8,
    "start_time": "2021-11-16T13:21:20.069Z"
   },
   {
    "duration": 12,
    "start_time": "2021-11-16T13:21:20.080Z"
   },
   {
    "duration": 9,
    "start_time": "2021-11-16T13:22:54.862Z"
   },
   {
    "duration": 8,
    "start_time": "2021-11-16T13:23:55.620Z"
   },
   {
    "duration": 9,
    "start_time": "2021-11-16T13:24:05.789Z"
   },
   {
    "duration": 12,
    "start_time": "2021-11-16T13:27:53.869Z"
   },
   {
    "duration": 554,
    "start_time": "2021-11-16T13:28:22.498Z"
   },
   {
    "duration": 25,
    "start_time": "2021-11-16T13:29:01.199Z"
   },
   {
    "duration": 24,
    "start_time": "2021-11-16T13:29:41.304Z"
   },
   {
    "duration": 429,
    "start_time": "2021-11-16T14:01:33.058Z"
   },
   {
    "duration": 11,
    "start_time": "2021-11-16T14:01:42.514Z"
   },
   {
    "duration": 11,
    "start_time": "2021-11-16T14:02:06.756Z"
   },
   {
    "duration": 410,
    "start_time": "2021-11-16T14:02:29.657Z"
   },
   {
    "duration": 12,
    "start_time": "2021-11-16T14:02:42.323Z"
   },
   {
    "duration": 16,
    "start_time": "2021-11-16T14:03:18.718Z"
   },
   {
    "duration": 15,
    "start_time": "2021-11-16T14:03:23.373Z"
   },
   {
    "duration": 4362,
    "start_time": "2021-11-16T14:05:41.950Z"
   },
   {
    "duration": 9,
    "start_time": "2021-11-16T14:05:46.316Z"
   },
   {
    "duration": 821,
    "start_time": "2021-11-16T14:05:46.328Z"
   },
   {
    "duration": 7,
    "start_time": "2021-11-16T14:05:47.160Z"
   },
   {
    "duration": 190,
    "start_time": "2021-11-16T14:05:47.169Z"
   },
   {
    "duration": 595,
    "start_time": "2021-11-16T14:05:47.362Z"
   },
   {
    "duration": 557,
    "start_time": "2021-11-16T14:05:47.960Z"
   },
   {
    "duration": 970,
    "start_time": "2021-11-16T14:05:48.521Z"
   },
   {
    "duration": 410,
    "start_time": "2021-11-16T14:05:49.494Z"
   },
   {
    "duration": 275,
    "start_time": "2021-11-16T14:05:49.908Z"
   },
   {
    "duration": 353,
    "start_time": "2021-11-16T14:05:50.185Z"
   },
   {
    "duration": 61,
    "start_time": "2021-11-16T14:05:50.541Z"
   },
   {
    "duration": 2463,
    "start_time": "2021-11-16T14:05:50.605Z"
   },
   {
    "duration": 1546,
    "start_time": "2021-11-16T14:05:53.071Z"
   },
   {
    "duration": 1149,
    "start_time": "2021-11-16T14:05:54.620Z"
   },
   {
    "duration": 3359,
    "start_time": "2021-11-16T14:06:14.201Z"
   },
   {
    "duration": 2397,
    "start_time": "2021-11-16T14:06:17.563Z"
   },
   {
    "duration": 869,
    "start_time": "2021-11-16T14:06:19.963Z"
   },
   {
    "duration": 7,
    "start_time": "2021-11-16T14:06:20.836Z"
   },
   {
    "duration": 322,
    "start_time": "2021-11-16T14:06:20.846Z"
   },
   {
    "duration": 603,
    "start_time": "2021-11-16T14:06:21.171Z"
   },
   {
    "duration": 759,
    "start_time": "2021-11-16T14:06:21.777Z"
   },
   {
    "duration": 1252,
    "start_time": "2021-11-16T14:06:22.541Z"
   },
   {
    "duration": 359,
    "start_time": "2021-11-16T14:06:23.796Z"
   },
   {
    "duration": 161,
    "start_time": "2021-11-16T14:06:24.157Z"
   },
   {
    "duration": 354,
    "start_time": "2021-11-16T14:06:24.320Z"
   },
   {
    "duration": 59,
    "start_time": "2021-11-16T14:06:24.677Z"
   },
   {
    "duration": 3059,
    "start_time": "2021-11-16T14:06:24.739Z"
   },
   {
    "duration": 1241,
    "start_time": "2021-11-16T14:06:27.802Z"
   },
   {
    "duration": 1201,
    "start_time": "2021-11-16T14:06:29.045Z"
   },
   {
    "duration": 4300,
    "start_time": "2021-11-16T14:06:30.249Z"
   },
   {
    "duration": 12292,
    "start_time": "2021-11-16T14:06:34.552Z"
   },
   {
    "duration": 128,
    "start_time": "2021-11-16T14:06:46.847Z"
   },
   {
    "duration": 6,
    "start_time": "2021-11-16T14:06:46.977Z"
   },
   {
    "duration": 48115,
    "start_time": "2021-11-16T14:06:46.985Z"
   },
   {
    "duration": 225,
    "start_time": "2021-11-16T14:07:35.102Z"
   },
   {
    "duration": 7,
    "start_time": "2021-11-16T14:07:35.330Z"
   },
   {
    "duration": 38408,
    "start_time": "2021-11-16T14:07:35.360Z"
   },
   {
    "duration": 287,
    "start_time": "2021-11-16T14:08:13.772Z"
   },
   {
    "duration": 7,
    "start_time": "2021-11-16T14:08:14.061Z"
   },
   {
    "duration": 94,
    "start_time": "2021-11-16T14:08:14.071Z"
   },
   {
    "duration": 12510,
    "start_time": "2021-11-16T14:08:14.168Z"
   },
   {
    "duration": 554,
    "start_time": "2021-11-16T14:08:26.680Z"
   },
   {
    "duration": 6,
    "start_time": "2021-11-16T14:08:27.237Z"
   },
   {
    "duration": 34840,
    "start_time": "2021-11-16T14:08:27.261Z"
   },
   {
    "duration": 738,
    "start_time": "2021-11-16T14:09:02.111Z"
   },
   {
    "duration": 10,
    "start_time": "2021-11-16T14:09:02.851Z"
   },
   {
    "duration": 221,
    "start_time": "2021-11-16T14:09:02.864Z"
   },
   {
    "duration": 4,
    "start_time": "2021-11-16T14:09:03.088Z"
   },
   {
    "duration": 7257,
    "start_time": "2021-11-16T14:09:03.095Z"
   },
   {
    "duration": 213,
    "start_time": "2021-11-16T14:09:10.355Z"
   },
   {
    "duration": 6,
    "start_time": "2021-11-16T14:09:10.570Z"
   },
   {
    "duration": 20319,
    "start_time": "2021-11-16T14:09:10.579Z"
   },
   {
    "duration": 260,
    "start_time": "2021-11-16T14:09:30.901Z"
   },
   {
    "duration": 7,
    "start_time": "2021-11-16T14:09:31.164Z"
   },
   {
    "duration": 34,
    "start_time": "2021-11-16T14:09:31.174Z"
   },
   {
    "duration": 3936,
    "start_time": "2021-11-16T14:11:54.365Z"
   },
   {
    "duration": 7,
    "start_time": "2021-11-16T14:11:58.304Z"
   },
   {
    "duration": 827,
    "start_time": "2021-11-16T14:11:58.314Z"
   },
   {
    "duration": 16,
    "start_time": "2021-11-16T14:11:59.145Z"
   },
   {
    "duration": 198,
    "start_time": "2021-11-16T14:11:59.164Z"
   },
   {
    "duration": 652,
    "start_time": "2021-11-16T14:11:59.365Z"
   },
   {
    "duration": 488,
    "start_time": "2021-11-16T14:12:00.019Z"
   },
   {
    "duration": 1269,
    "start_time": "2021-11-16T14:12:00.510Z"
   },
   {
    "duration": 639,
    "start_time": "2021-11-16T14:12:01.783Z"
   },
   {
    "duration": 188,
    "start_time": "2021-11-16T14:12:02.425Z"
   },
   {
    "duration": 340,
    "start_time": "2021-11-16T14:12:02.615Z"
   },
   {
    "duration": 57,
    "start_time": "2021-11-16T14:12:02.959Z"
   },
   {
    "duration": 2544,
    "start_time": "2021-11-16T14:12:03.019Z"
   },
   {
    "duration": 1180,
    "start_time": "2021-11-16T14:12:05.566Z"
   },
   {
    "duration": 1136,
    "start_time": "2021-11-16T14:12:06.749Z"
   },
   {
    "duration": 4081,
    "start_time": "2021-11-16T14:15:02.977Z"
   },
   {
    "duration": 2647,
    "start_time": "2021-11-16T14:15:07.061Z"
   },
   {
    "duration": 909,
    "start_time": "2021-11-16T14:15:09.712Z"
   },
   {
    "duration": 6,
    "start_time": "2021-11-16T14:15:10.624Z"
   },
   {
    "duration": 211,
    "start_time": "2021-11-16T14:15:10.632Z"
   },
   {
    "duration": 697,
    "start_time": "2021-11-16T14:15:10.845Z"
   },
   {
    "duration": 495,
    "start_time": "2021-11-16T14:15:11.544Z"
   },
   {
    "duration": 1025,
    "start_time": "2021-11-16T14:15:12.043Z"
   },
   {
    "duration": 351,
    "start_time": "2021-11-16T14:15:13.071Z"
   },
   {
    "duration": 157,
    "start_time": "2021-11-16T14:15:13.424Z"
   },
   {
    "duration": 354,
    "start_time": "2021-11-16T14:15:13.584Z"
   },
   {
    "duration": 79,
    "start_time": "2021-11-16T14:15:13.941Z"
   },
   {
    "duration": 3206,
    "start_time": "2021-11-16T14:15:14.022Z"
   },
   {
    "duration": 1381,
    "start_time": "2021-11-16T14:15:17.231Z"
   },
   {
    "duration": 1276,
    "start_time": "2021-11-16T14:15:18.614Z"
   },
   {
    "duration": 4088,
    "start_time": "2021-11-16T14:15:19.892Z"
   },
   {
    "duration": 13057,
    "start_time": "2021-11-16T14:15:23.983Z"
   },
   {
    "duration": 140,
    "start_time": "2021-11-16T14:15:37.042Z"
   },
   {
    "duration": 5,
    "start_time": "2021-11-16T14:15:37.185Z"
   },
   {
    "duration": 51459,
    "start_time": "2021-11-16T14:15:37.193Z"
   },
   {
    "duration": 285,
    "start_time": "2021-11-16T14:16:28.655Z"
   },
   {
    "duration": 19,
    "start_time": "2021-11-16T14:16:28.943Z"
   },
   {
    "duration": 37094,
    "start_time": "2021-11-16T14:16:28.969Z"
   },
   {
    "duration": 198,
    "start_time": "2021-11-16T14:17:06.067Z"
   },
   {
    "duration": 7,
    "start_time": "2021-11-16T14:17:06.269Z"
   },
   {
    "duration": 81,
    "start_time": "2021-11-16T14:17:06.280Z"
   },
   {
    "duration": 4109,
    "start_time": "2021-11-16T14:17:40.685Z"
   },
   {
    "duration": 2657,
    "start_time": "2021-11-16T14:17:44.797Z"
   },
   {
    "duration": 953,
    "start_time": "2021-11-16T14:17:47.457Z"
   },
   {
    "duration": 6,
    "start_time": "2021-11-16T14:17:48.413Z"
   },
   {
    "duration": 237,
    "start_time": "2021-11-16T14:17:48.422Z"
   },
   {
    "duration": 677,
    "start_time": "2021-11-16T14:17:48.662Z"
   },
   {
    "duration": 761,
    "start_time": "2021-11-16T14:17:49.343Z"
   },
   {
    "duration": 1362,
    "start_time": "2021-11-16T14:17:50.109Z"
   },
   {
    "duration": 376,
    "start_time": "2021-11-16T14:17:51.475Z"
   },
   {
    "duration": 162,
    "start_time": "2021-11-16T14:17:51.858Z"
   },
   {
    "duration": 840,
    "start_time": "2021-11-16T14:17:52.022Z"
   },
   {
    "duration": 122,
    "start_time": "2021-11-16T14:17:52.865Z"
   },
   {
    "duration": 3960,
    "start_time": "2021-11-16T14:17:52.989Z"
   },
   {
    "duration": 1675,
    "start_time": "2021-11-16T14:17:56.952Z"
   },
   {
    "duration": 1441,
    "start_time": "2021-11-16T14:17:58.630Z"
   },
   {
    "duration": 4204,
    "start_time": "2021-11-16T14:18:00.074Z"
   },
   {
    "duration": 13322,
    "start_time": "2021-11-16T14:18:04.281Z"
   },
   {
    "duration": 134,
    "start_time": "2021-11-16T14:18:17.607Z"
   },
   {
    "duration": 17,
    "start_time": "2021-11-16T14:18:17.744Z"
   },
   {
    "duration": 47910,
    "start_time": "2021-11-16T14:18:17.764Z"
   },
   {
    "duration": 303,
    "start_time": "2021-11-16T14:19:05.678Z"
   },
   {
    "duration": 8,
    "start_time": "2021-11-16T14:19:05.984Z"
   },
   {
    "duration": 33572,
    "start_time": "2021-11-16T14:19:05.999Z"
   },
   {
    "duration": 185,
    "start_time": "2021-11-16T14:19:39.574Z"
   },
   {
    "duration": 10,
    "start_time": "2021-11-16T14:19:39.763Z"
   },
   {
    "duration": 79,
    "start_time": "2021-11-16T14:19:39.860Z"
   },
   {
    "duration": 9423,
    "start_time": "2021-11-16T14:19:39.942Z"
   },
   {
    "duration": 541,
    "start_time": "2021-11-16T14:19:49.368Z"
   },
   {
    "duration": 6,
    "start_time": "2021-11-16T14:19:49.911Z"
   },
   {
    "duration": 20203,
    "start_time": "2021-11-16T14:19:49.919Z"
   },
   {
    "duration": 598,
    "start_time": "2021-11-16T14:20:10.124Z"
   },
   {
    "duration": 6,
    "start_time": "2021-11-16T14:20:10.725Z"
   },
   {
    "duration": 213,
    "start_time": "2021-11-16T14:20:10.734Z"
   },
   {
    "duration": 3,
    "start_time": "2021-11-16T14:20:10.950Z"
   },
   {
    "duration": 6790,
    "start_time": "2021-11-16T14:20:10.955Z"
   },
   {
    "duration": 345,
    "start_time": "2021-11-16T14:20:17.748Z"
   },
   {
    "duration": 6,
    "start_time": "2021-11-16T14:20:18.095Z"
   },
   {
    "duration": 21089,
    "start_time": "2021-11-16T14:20:18.104Z"
   },
   {
    "duration": 273,
    "start_time": "2021-11-16T14:20:39.195Z"
   },
   {
    "duration": 7,
    "start_time": "2021-11-16T14:20:39.470Z"
   },
   {
    "duration": 26,
    "start_time": "2021-11-16T14:20:39.480Z"
   },
   {
    "duration": 21,
    "start_time": "2021-11-16T14:25:25.411Z"
   },
   {
    "duration": 3835,
    "start_time": "2021-11-16T14:26:52.861Z"
   },
   {
    "duration": 2026,
    "start_time": "2021-11-16T14:26:56.699Z"
   },
   {
    "duration": 984,
    "start_time": "2021-11-16T14:26:58.728Z"
   },
   {
    "duration": 6,
    "start_time": "2021-11-16T14:26:59.715Z"
   },
   {
    "duration": 191,
    "start_time": "2021-11-16T14:26:59.724Z"
   },
   {
    "duration": 601,
    "start_time": "2021-11-16T14:26:59.918Z"
   },
   {
    "duration": 521,
    "start_time": "2021-11-16T14:27:00.522Z"
   },
   {
    "duration": 1113,
    "start_time": "2021-11-16T14:27:01.049Z"
   },
   {
    "duration": 339,
    "start_time": "2021-11-16T14:27:02.165Z"
   },
   {
    "duration": 157,
    "start_time": "2021-11-16T14:27:02.506Z"
   },
   {
    "duration": 337,
    "start_time": "2021-11-16T14:27:02.665Z"
   },
   {
    "duration": 61,
    "start_time": "2021-11-16T14:27:03.005Z"
   },
   {
    "duration": 3228,
    "start_time": "2021-11-16T14:27:03.069Z"
   },
   {
    "duration": 1176,
    "start_time": "2021-11-16T14:27:06.300Z"
   },
   {
    "duration": 1402,
    "start_time": "2021-11-16T14:27:07.479Z"
   },
   {
    "duration": 4327,
    "start_time": "2021-11-16T14:27:08.883Z"
   },
   {
    "duration": 12925,
    "start_time": "2021-11-16T14:27:13.213Z"
   },
   {
    "duration": 139,
    "start_time": "2021-11-16T14:27:26.142Z"
   },
   {
    "duration": 8,
    "start_time": "2021-11-16T14:27:26.283Z"
   },
   {
    "duration": 45045,
    "start_time": "2021-11-16T14:27:26.295Z"
   },
   {
    "duration": 217,
    "start_time": "2021-11-16T14:28:11.343Z"
   },
   {
    "duration": 6,
    "start_time": "2021-11-16T14:28:11.563Z"
   },
   {
    "duration": 33306,
    "start_time": "2021-11-16T14:28:11.573Z"
   },
   {
    "duration": 179,
    "start_time": "2021-11-16T14:28:44.883Z"
   },
   {
    "duration": 95,
    "start_time": "2021-11-16T14:28:45.065Z"
   },
   {
    "duration": 116,
    "start_time": "2021-11-16T14:28:45.164Z"
   },
   {
    "duration": 9646,
    "start_time": "2021-11-16T14:28:45.282Z"
   },
   {
    "duration": 613,
    "start_time": "2021-11-16T14:28:54.931Z"
   },
   {
    "duration": 14,
    "start_time": "2021-11-16T14:28:55.547Z"
   },
   {
    "duration": 20239,
    "start_time": "2021-11-16T14:28:55.564Z"
   },
   {
    "duration": 555,
    "start_time": "2021-11-16T14:29:15.806Z"
   },
   {
    "duration": 6,
    "start_time": "2021-11-16T14:29:16.364Z"
   },
   {
    "duration": 6,
    "start_time": "2021-11-16T14:29:16.373Z"
   },
   {
    "duration": 429,
    "start_time": "2021-11-16T14:29:16.382Z"
   },
   {
    "duration": 251,
    "start_time": "2021-11-16T14:29:16.814Z"
   },
   {
    "duration": 8,
    "start_time": "2021-11-16T14:29:17.068Z"
   },
   {
    "duration": 278,
    "start_time": "2021-11-16T14:29:17.079Z"
   },
   {
    "duration": 282,
    "start_time": "2021-11-16T14:29:17.361Z"
   },
   {
    "duration": 7,
    "start_time": "2021-11-16T14:29:17.646Z"
   },
   {
    "duration": 15,
    "start_time": "2021-11-16T14:29:17.656Z"
   },
   {
    "duration": 514,
    "start_time": "2021-11-16T14:37:20.679Z"
   },
   {
    "duration": 4074,
    "start_time": "2021-11-16T14:40:55.523Z"
   },
   {
    "duration": 6,
    "start_time": "2021-11-16T14:40:59.601Z"
   },
   {
    "duration": 1187,
    "start_time": "2021-11-16T14:40:59.611Z"
   },
   {
    "duration": 7,
    "start_time": "2021-11-16T14:41:00.801Z"
   },
   {
    "duration": 222,
    "start_time": "2021-11-16T14:41:00.810Z"
   },
   {
    "duration": 652,
    "start_time": "2021-11-16T14:41:01.035Z"
   },
   {
    "duration": 700,
    "start_time": "2021-11-16T14:41:01.690Z"
   },
   {
    "duration": 1018,
    "start_time": "2021-11-16T14:41:02.393Z"
   },
   {
    "duration": 493,
    "start_time": "2021-11-16T14:41:03.414Z"
   },
   {
    "duration": 178,
    "start_time": "2021-11-16T14:41:03.909Z"
   },
   {
    "duration": 376,
    "start_time": "2021-11-16T14:41:04.090Z"
   },
   {
    "duration": 52,
    "start_time": "2021-11-16T14:41:04.468Z"
   },
   {
    "duration": 2391,
    "start_time": "2021-11-16T14:41:04.523Z"
   },
   {
    "duration": 1690,
    "start_time": "2021-11-16T14:41:06.917Z"
   },
   {
    "duration": 1425,
    "start_time": "2021-11-16T14:41:08.610Z"
   },
   {
    "duration": 3596,
    "start_time": "2021-11-16T14:41:23.176Z"
   },
   {
    "duration": 2733,
    "start_time": "2021-11-16T14:41:26.775Z"
   },
   {
    "duration": 1235,
    "start_time": "2021-11-16T14:41:29.511Z"
   },
   {
    "duration": 7,
    "start_time": "2021-11-16T14:41:30.749Z"
   },
   {
    "duration": 244,
    "start_time": "2021-11-16T14:41:30.759Z"
   },
   {
    "duration": 644,
    "start_time": "2021-11-16T14:41:31.006Z"
   },
   {
    "duration": 660,
    "start_time": "2021-11-16T14:41:31.653Z"
   },
   {
    "duration": 1102,
    "start_time": "2021-11-16T14:41:32.318Z"
   },
   {
    "duration": 377,
    "start_time": "2021-11-16T14:41:33.423Z"
   },
   {
    "duration": 169,
    "start_time": "2021-11-16T14:41:33.802Z"
   },
   {
    "duration": 368,
    "start_time": "2021-11-16T14:41:33.975Z"
   },
   {
    "duration": 63,
    "start_time": "2021-11-16T14:41:34.345Z"
   },
   {
    "duration": 3282,
    "start_time": "2021-11-16T14:41:34.410Z"
   },
   {
    "duration": 1439,
    "start_time": "2021-11-16T14:41:37.695Z"
   },
   {
    "duration": 1259,
    "start_time": "2021-11-16T14:41:39.136Z"
   },
   {
    "duration": 4177,
    "start_time": "2021-11-16T14:41:40.398Z"
   },
   {
    "duration": 12444,
    "start_time": "2021-11-16T14:41:44.578Z"
   },
   {
    "duration": 161,
    "start_time": "2021-11-16T14:41:57.025Z"
   },
   {
    "duration": 6,
    "start_time": "2021-11-16T14:41:57.188Z"
   },
   {
    "duration": 49658,
    "start_time": "2021-11-16T14:41:57.197Z"
   },
   {
    "duration": 248,
    "start_time": "2021-11-16T14:42:46.860Z"
   },
   {
    "duration": 6,
    "start_time": "2021-11-16T14:42:47.111Z"
   },
   {
    "duration": 40346,
    "start_time": "2021-11-16T14:42:47.122Z"
   },
   {
    "duration": 188,
    "start_time": "2021-11-16T14:43:27.474Z"
   },
   {
    "duration": 10,
    "start_time": "2021-11-16T14:43:27.666Z"
   },
   {
    "duration": 166,
    "start_time": "2021-11-16T14:43:27.681Z"
   },
   {
    "duration": 9092,
    "start_time": "2021-11-16T14:43:27.850Z"
   },
   {
    "duration": 522,
    "start_time": "2021-11-16T14:43:36.944Z"
   },
   {
    "duration": 7,
    "start_time": "2021-11-16T14:43:37.472Z"
   },
   {
    "duration": 21511,
    "start_time": "2021-11-16T14:43:37.483Z"
   },
   {
    "duration": 616,
    "start_time": "2021-11-16T14:43:58.997Z"
   },
   {
    "duration": 7,
    "start_time": "2021-11-16T14:43:59.616Z"
   },
   {
    "duration": 6,
    "start_time": "2021-11-16T14:43:59.626Z"
   },
   {
    "duration": 486,
    "start_time": "2021-11-16T14:43:59.665Z"
   },
   {
    "duration": 293,
    "start_time": "2021-11-16T14:44:00.153Z"
   },
   {
    "duration": 7,
    "start_time": "2021-11-16T14:44:00.449Z"
   },
   {
    "duration": 314,
    "start_time": "2021-11-16T14:44:00.459Z"
   },
   {
    "duration": 300,
    "start_time": "2021-11-16T14:44:00.776Z"
   },
   {
    "duration": 10,
    "start_time": "2021-11-16T14:44:01.079Z"
   },
   {
    "duration": 30,
    "start_time": "2021-11-16T14:44:01.092Z"
   },
   {
    "duration": 3,
    "start_time": "2021-11-16T14:45:08.750Z"
   },
   {
    "duration": 280,
    "start_time": "2021-11-16T14:45:09.809Z"
   },
   {
    "duration": 4,
    "start_time": "2021-11-16T14:45:45.012Z"
   },
   {
    "duration": 297,
    "start_time": "2021-11-16T14:45:46.051Z"
   },
   {
    "duration": 56,
    "start_time": "2021-11-16T14:46:59.359Z"
   },
   {
    "duration": 6981,
    "start_time": "2021-11-16T14:48:16.476Z"
   },
   {
    "duration": 2933,
    "start_time": "2021-11-16T14:48:23.461Z"
   },
   {
    "duration": 965,
    "start_time": "2021-11-16T14:48:26.398Z"
   },
   {
    "duration": 6,
    "start_time": "2021-11-16T14:48:27.366Z"
   },
   {
    "duration": 223,
    "start_time": "2021-11-16T14:48:27.375Z"
   },
   {
    "duration": 647,
    "start_time": "2021-11-16T14:48:27.600Z"
   },
   {
    "duration": 533,
    "start_time": "2021-11-16T14:48:28.250Z"
   },
   {
    "duration": 1240,
    "start_time": "2021-11-16T14:48:28.786Z"
   },
   {
    "duration": 390,
    "start_time": "2021-11-16T14:48:30.029Z"
   },
   {
    "duration": 179,
    "start_time": "2021-11-16T14:48:30.421Z"
   },
   {
    "duration": 403,
    "start_time": "2021-11-16T14:48:30.603Z"
   },
   {
    "duration": 72,
    "start_time": "2021-11-16T14:48:31.008Z"
   },
   {
    "duration": 3210,
    "start_time": "2021-11-16T14:48:31.082Z"
   },
   {
    "duration": 1708,
    "start_time": "2021-11-16T14:48:34.295Z"
   },
   {
    "duration": 1218,
    "start_time": "2021-11-16T14:48:36.005Z"
   },
   {
    "duration": 4329,
    "start_time": "2021-11-16T14:48:37.226Z"
   },
   {
    "duration": 13437,
    "start_time": "2021-11-16T14:48:41.562Z"
   },
   {
    "duration": 136,
    "start_time": "2021-11-16T14:48:55.001Z"
   },
   {
    "duration": 6,
    "start_time": "2021-11-16T14:48:55.139Z"
   },
   {
    "duration": 50979,
    "start_time": "2021-11-16T14:48:55.147Z"
   },
   {
    "duration": 293,
    "start_time": "2021-11-16T14:49:46.129Z"
   },
   {
    "duration": 8,
    "start_time": "2021-11-16T14:49:46.425Z"
   },
   {
    "duration": 40952,
    "start_time": "2021-11-16T14:49:46.440Z"
   },
   {
    "duration": 181,
    "start_time": "2021-11-16T14:50:27.397Z"
   },
   {
    "duration": 85,
    "start_time": "2021-11-16T14:50:27.582Z"
   },
   {
    "duration": 76,
    "start_time": "2021-11-16T14:50:27.670Z"
   },
   {
    "duration": 9233,
    "start_time": "2021-11-16T14:50:27.748Z"
   },
   {
    "duration": 519,
    "start_time": "2021-11-16T14:50:36.984Z"
   },
   {
    "duration": 6,
    "start_time": "2021-11-16T14:50:37.506Z"
   },
   {
    "duration": 9040,
    "start_time": "2021-11-16T14:50:37.515Z"
   },
   {
    "duration": 776,
    "start_time": "2021-11-16T14:50:46.558Z"
   },
   {
    "duration": 6,
    "start_time": "2021-11-16T14:50:47.337Z"
   },
   {
    "duration": 103,
    "start_time": "2021-11-16T14:50:47.346Z"
   },
   {
    "duration": 311,
    "start_time": "2021-11-16T14:50:47.453Z"
   },
   {
    "duration": 275,
    "start_time": "2021-11-16T14:50:47.766Z"
   },
   {
    "duration": 8,
    "start_time": "2021-11-16T14:50:48.044Z"
   },
   {
    "duration": 331,
    "start_time": "2021-11-16T14:50:48.055Z"
   },
   {
    "duration": 263,
    "start_time": "2021-11-16T14:50:48.388Z"
   },
   {
    "duration": 6,
    "start_time": "2021-11-16T14:50:48.654Z"
   },
   {
    "duration": 33,
    "start_time": "2021-11-16T14:50:48.663Z"
   },
   {
    "duration": 3762,
    "start_time": "2021-11-16T14:51:37.077Z"
   },
   {
    "duration": 1816,
    "start_time": "2021-11-16T14:51:40.843Z"
   },
   {
    "duration": 937,
    "start_time": "2021-11-16T14:51:42.662Z"
   },
   {
    "duration": 6,
    "start_time": "2021-11-16T14:51:43.602Z"
   },
   {
    "duration": 215,
    "start_time": "2021-11-16T14:51:43.611Z"
   },
   {
    "duration": 720,
    "start_time": "2021-11-16T14:51:43.829Z"
   },
   {
    "duration": 558,
    "start_time": "2021-11-16T14:51:44.552Z"
   },
   {
    "duration": 1293,
    "start_time": "2021-11-16T14:51:45.113Z"
   },
   {
    "duration": 415,
    "start_time": "2021-11-16T14:51:46.410Z"
   },
   {
    "duration": 173,
    "start_time": "2021-11-16T14:51:46.827Z"
   },
   {
    "duration": 374,
    "start_time": "2021-11-16T14:51:47.002Z"
   },
   {
    "duration": 61,
    "start_time": "2021-11-16T14:51:47.379Z"
   },
   {
    "duration": 3737,
    "start_time": "2021-11-16T14:51:47.460Z"
   },
   {
    "duration": 1305,
    "start_time": "2021-11-16T14:51:51.200Z"
   },
   {
    "duration": 1373,
    "start_time": "2021-11-16T14:51:52.508Z"
   },
   {
    "duration": 4145,
    "start_time": "2021-11-16T14:51:53.884Z"
   },
   {
    "duration": 12717,
    "start_time": "2021-11-16T14:51:58.032Z"
   },
   {
    "duration": 221,
    "start_time": "2021-11-16T14:52:10.751Z"
   },
   {
    "duration": 6,
    "start_time": "2021-11-16T14:52:10.975Z"
   },
   {
    "duration": 50005,
    "start_time": "2021-11-16T14:52:10.984Z"
   },
   {
    "duration": 341,
    "start_time": "2021-11-16T14:53:00.992Z"
   },
   {
    "duration": 8,
    "start_time": "2021-11-16T14:53:01.337Z"
   },
   {
    "duration": 42615,
    "start_time": "2021-11-16T14:53:01.370Z"
   },
   {
    "duration": 297,
    "start_time": "2021-11-16T14:53:43.989Z"
   },
   {
    "duration": 10,
    "start_time": "2021-11-16T14:53:44.362Z"
   },
   {
    "duration": 168,
    "start_time": "2021-11-16T14:53:44.375Z"
   },
   {
    "duration": 9115,
    "start_time": "2021-11-16T14:53:44.545Z"
   },
   {
    "duration": 538,
    "start_time": "2021-11-16T14:53:53.663Z"
   },
   {
    "duration": 7,
    "start_time": "2021-11-16T14:53:54.204Z"
   },
   {
    "duration": 15013,
    "start_time": "2021-11-16T14:53:54.214Z"
   },
   {
    "duration": 714,
    "start_time": "2021-11-16T14:54:09.229Z"
   },
   {
    "duration": 7,
    "start_time": "2021-11-16T14:54:09.946Z"
   },
   {
    "duration": 240,
    "start_time": "2021-11-16T14:54:09.956Z"
   },
   {
    "duration": 4,
    "start_time": "2021-11-16T14:54:10.198Z"
   },
   {
    "duration": 3824,
    "start_time": "2021-11-16T14:54:21.900Z"
   },
   {
    "duration": 2062,
    "start_time": "2021-11-16T14:54:25.729Z"
   },
   {
    "duration": 942,
    "start_time": "2021-11-16T14:54:27.794Z"
   },
   {
    "duration": 24,
    "start_time": "2021-11-16T14:54:28.740Z"
   },
   {
    "duration": 312,
    "start_time": "2021-11-16T14:54:28.768Z"
   },
   {
    "duration": 806,
    "start_time": "2021-11-16T14:54:29.085Z"
   },
   {
    "duration": 795,
    "start_time": "2021-11-16T14:54:29.894Z"
   },
   {
    "duration": 1147,
    "start_time": "2021-11-16T14:54:30.693Z"
   },
   {
    "duration": 396,
    "start_time": "2021-11-16T14:54:31.843Z"
   },
   {
    "duration": 181,
    "start_time": "2021-11-16T14:54:32.241Z"
   },
   {
    "duration": 396,
    "start_time": "2021-11-16T14:54:32.424Z"
   },
   {
    "duration": 71,
    "start_time": "2021-11-16T14:54:32.822Z"
   },
   {
    "duration": 3390,
    "start_time": "2021-11-16T14:54:32.895Z"
   },
   {
    "duration": 1295,
    "start_time": "2021-11-16T14:54:36.287Z"
   },
   {
    "duration": 1236,
    "start_time": "2021-11-16T14:54:37.584Z"
   },
   {
    "duration": 3948,
    "start_time": "2021-11-16T14:54:38.822Z"
   },
   {
    "duration": 12771,
    "start_time": "2021-11-16T14:54:42.773Z"
   },
   {
    "duration": 214,
    "start_time": "2021-11-16T14:54:55.547Z"
   },
   {
    "duration": 12,
    "start_time": "2021-11-16T14:54:55.764Z"
   },
   {
    "duration": 48821,
    "start_time": "2021-11-16T14:54:55.779Z"
   },
   {
    "duration": 323,
    "start_time": "2021-11-16T14:55:44.603Z"
   },
   {
    "duration": 6,
    "start_time": "2021-11-16T14:55:44.928Z"
   },
   {
    "duration": 40034,
    "start_time": "2021-11-16T14:55:44.939Z"
   },
   {
    "duration": 600,
    "start_time": "2021-11-16T14:56:24.977Z"
   },
   {
    "duration": 11,
    "start_time": "2021-11-16T14:56:25.582Z"
   },
   {
    "duration": 181,
    "start_time": "2021-11-16T14:56:25.596Z"
   },
   {
    "duration": 11427,
    "start_time": "2021-11-16T14:56:25.783Z"
   },
   {
    "duration": 541,
    "start_time": "2021-11-16T14:56:37.213Z"
   },
   {
    "duration": 6,
    "start_time": "2021-11-16T14:56:37.759Z"
   },
   {
    "duration": 22898,
    "start_time": "2021-11-16T14:56:37.768Z"
   },
   {
    "duration": 625,
    "start_time": "2021-11-16T14:57:00.669Z"
   },
   {
    "duration": 15,
    "start_time": "2021-11-16T14:57:01.298Z"
   },
   {
    "duration": 354,
    "start_time": "2021-11-16T14:57:01.317Z"
   },
   {
    "duration": 8,
    "start_time": "2021-11-16T14:57:01.674Z"
   },
   {
    "duration": 7636,
    "start_time": "2021-11-16T14:57:01.686Z"
   },
   {
    "duration": 281,
    "start_time": "2021-11-16T14:57:09.324Z"
   },
   {
    "duration": 6,
    "start_time": "2021-11-16T14:57:09.608Z"
   },
   {
    "duration": 21884,
    "start_time": "2021-11-16T14:57:09.617Z"
   },
   {
    "duration": 300,
    "start_time": "2021-11-16T14:57:31.503Z"
   },
   {
    "duration": 55,
    "start_time": "2021-11-16T14:57:31.806Z"
   },
   {
    "duration": 28,
    "start_time": "2021-11-16T14:57:31.868Z"
   },
   {
    "duration": 294,
    "start_time": "2021-11-17T15:13:52.428Z"
   },
   {
    "duration": 8065,
    "start_time": "2021-11-17T15:14:00.692Z"
   },
   {
    "duration": 1262,
    "start_time": "2021-11-17T15:14:08.759Z"
   },
   {
    "duration": 641,
    "start_time": "2021-11-17T15:14:10.023Z"
   },
   {
    "duration": 4,
    "start_time": "2021-11-17T15:14:10.666Z"
   },
   {
    "duration": 134,
    "start_time": "2021-11-17T15:14:10.672Z"
   },
   {
    "duration": 419,
    "start_time": "2021-11-17T15:14:10.808Z"
   },
   {
    "duration": 363,
    "start_time": "2021-11-17T15:14:11.229Z"
   },
   {
    "duration": 714,
    "start_time": "2021-11-17T15:14:11.595Z"
   },
   {
    "duration": 240,
    "start_time": "2021-11-17T15:14:12.311Z"
   },
   {
    "duration": 113,
    "start_time": "2021-11-17T15:14:12.553Z"
   },
   {
    "duration": 242,
    "start_time": "2021-11-17T15:14:12.668Z"
   },
   {
    "duration": 39,
    "start_time": "2021-11-17T15:14:12.912Z"
   },
   {
    "duration": 1644,
    "start_time": "2021-11-17T15:14:12.964Z"
   },
   {
    "duration": 365,
    "start_time": "2021-11-17T15:14:14.610Z"
   },
   {
    "duration": 292,
    "start_time": "2021-11-17T15:18:46.605Z"
   },
   {
    "duration": 331,
    "start_time": "2021-11-17T15:19:28.711Z"
   },
   {
    "duration": 314,
    "start_time": "2021-11-17T15:21:26.278Z"
   },
   {
    "duration": 311,
    "start_time": "2021-11-17T15:21:48.329Z"
   },
   {
    "duration": 66,
    "start_time": "2021-11-17T15:22:14.171Z"
   },
   {
    "duration": 65,
    "start_time": "2021-11-17T15:22:26.347Z"
   },
   {
    "duration": 266,
    "start_time": "2021-11-17T15:27:37.024Z"
   },
   {
    "duration": 2216,
    "start_time": "2021-11-17T15:27:44.435Z"
   },
   {
    "duration": 4,
    "start_time": "2021-11-17T15:27:46.654Z"
   },
   {
    "duration": 599,
    "start_time": "2021-11-17T15:27:46.660Z"
   },
   {
    "duration": 5,
    "start_time": "2021-11-17T15:27:47.263Z"
   },
   {
    "duration": 130,
    "start_time": "2021-11-17T15:27:47.270Z"
   },
   {
    "duration": 428,
    "start_time": "2021-11-17T15:27:47.401Z"
   },
   {
    "duration": 312,
    "start_time": "2021-11-17T15:27:47.830Z"
   },
   {
    "duration": 671,
    "start_time": "2021-11-17T15:27:48.145Z"
   },
   {
    "duration": 248,
    "start_time": "2021-11-17T15:27:48.818Z"
   },
   {
    "duration": 114,
    "start_time": "2021-11-17T15:27:49.068Z"
   },
   {
    "duration": 239,
    "start_time": "2021-11-17T15:27:49.184Z"
   },
   {
    "duration": 38,
    "start_time": "2021-11-17T15:27:49.425Z"
   },
   {
    "duration": 1126,
    "start_time": "2021-11-17T15:27:49.465Z"
   },
   {
    "duration": 89,
    "start_time": "2021-11-17T15:27:50.593Z"
   },
   {
    "duration": 890,
    "start_time": "2021-11-17T15:27:50.684Z"
   },
   {
    "duration": 1139,
    "start_time": "2021-11-17T15:27:51.576Z"
   },
   {
    "duration": 2408,
    "start_time": "2021-11-17T15:27:52.717Z"
   },
   {
    "duration": 570,
    "start_time": "2021-11-17T15:27:55.127Z"
   },
   {
    "duration": 223,
    "start_time": "2021-11-17T15:27:55.698Z"
   },
   {
    "duration": 278,
    "start_time": "2021-11-17T15:27:55.923Z"
   },
   {
    "duration": 22,
    "start_time": "2021-11-17T15:27:56.181Z"
   },
   {
    "duration": -2,
    "start_time": "2021-11-17T15:27:56.206Z"
   },
   {
    "duration": -25,
    "start_time": "2021-11-17T15:27:56.230Z"
   },
   {
    "duration": -40,
    "start_time": "2021-11-17T15:27:56.246Z"
   },
   {
    "duration": -109,
    "start_time": "2021-11-17T15:27:56.316Z"
   },
   {
    "duration": -141,
    "start_time": "2021-11-17T15:27:56.348Z"
   },
   {
    "duration": -147,
    "start_time": "2021-11-17T15:27:56.355Z"
   },
   {
    "duration": -201,
    "start_time": "2021-11-17T15:27:56.410Z"
   },
   {
    "duration": -206,
    "start_time": "2021-11-17T15:27:56.416Z"
   },
   {
    "duration": -216,
    "start_time": "2021-11-17T15:27:56.427Z"
   },
   {
    "duration": -243,
    "start_time": "2021-11-17T15:27:56.454Z"
   },
   {
    "duration": -257,
    "start_time": "2021-11-17T15:27:56.469Z"
   },
   {
    "duration": -288,
    "start_time": "2021-11-17T15:27:56.502Z"
   },
   {
    "duration": -315,
    "start_time": "2021-11-17T15:27:56.529Z"
   },
   {
    "duration": -320,
    "start_time": "2021-11-17T15:27:56.535Z"
   },
   {
    "duration": -333,
    "start_time": "2021-11-17T15:27:56.549Z"
   },
   {
    "duration": -352,
    "start_time": "2021-11-17T15:27:56.569Z"
   },
   {
    "duration": -379,
    "start_time": "2021-11-17T15:27:56.597Z"
   },
   {
    "duration": -385,
    "start_time": "2021-11-17T15:27:56.604Z"
   },
   {
    "duration": -398,
    "start_time": "2021-11-17T15:27:56.618Z"
   },
   {
    "duration": -424,
    "start_time": "2021-11-17T15:27:56.645Z"
   },
   {
    "duration": -430,
    "start_time": "2021-11-17T15:27:56.652Z"
   },
   {
    "duration": 2275,
    "start_time": "2021-11-17T15:29:21.063Z"
   },
   {
    "duration": 5,
    "start_time": "2021-11-17T15:29:23.340Z"
   },
   {
    "duration": 584,
    "start_time": "2021-11-17T15:29:23.347Z"
   },
   {
    "duration": 5,
    "start_time": "2021-11-17T15:29:23.933Z"
   },
   {
    "duration": 133,
    "start_time": "2021-11-17T15:29:23.940Z"
   },
   {
    "duration": 437,
    "start_time": "2021-11-17T15:29:24.075Z"
   },
   {
    "duration": 315,
    "start_time": "2021-11-17T15:29:24.514Z"
   },
   {
    "duration": 673,
    "start_time": "2021-11-17T15:29:24.831Z"
   },
   {
    "duration": 244,
    "start_time": "2021-11-17T15:29:25.506Z"
   },
   {
    "duration": 119,
    "start_time": "2021-11-17T15:29:25.752Z"
   },
   {
    "duration": 239,
    "start_time": "2021-11-17T15:29:25.873Z"
   },
   {
    "duration": 32,
    "start_time": "2021-11-17T15:29:26.114Z"
   },
   {
    "duration": 1400,
    "start_time": "2021-11-17T15:29:26.147Z"
   },
   {
    "duration": 74,
    "start_time": "2021-11-17T15:29:27.549Z"
   },
   {
    "duration": 911,
    "start_time": "2021-11-17T15:29:27.625Z"
   },
   {
    "duration": 1041,
    "start_time": "2021-11-17T15:29:28.538Z"
   },
   {
    "duration": 2437,
    "start_time": "2021-11-17T15:29:29.581Z"
   },
   {
    "duration": 583,
    "start_time": "2021-11-17T15:29:32.020Z"
   },
   {
    "duration": 202,
    "start_time": "2021-11-17T15:29:32.605Z"
   },
   {
    "duration": 568,
    "start_time": "2021-11-17T15:29:32.809Z"
   },
   {
    "duration": 40,
    "start_time": "2021-11-17T15:29:33.341Z"
   },
   {
    "duration": 33,
    "start_time": "2021-11-17T15:29:33.349Z"
   },
   {
    "duration": 22,
    "start_time": "2021-11-17T15:29:33.361Z"
   },
   {
    "duration": 7,
    "start_time": "2021-11-17T15:29:33.378Z"
   },
   {
    "duration": -7,
    "start_time": "2021-11-17T15:29:33.393Z"
   },
   {
    "duration": -14,
    "start_time": "2021-11-17T15:29:33.402Z"
   },
   {
    "duration": -50,
    "start_time": "2021-11-17T15:29:33.439Z"
   },
   {
    "duration": -66,
    "start_time": "2021-11-17T15:29:33.457Z"
   },
   {
    "duration": -99,
    "start_time": "2021-11-17T15:29:33.491Z"
   },
   {
    "duration": -109,
    "start_time": "2021-11-17T15:29:33.502Z"
   },
   {
    "duration": -119,
    "start_time": "2021-11-17T15:29:33.514Z"
   },
   {
    "duration": -127,
    "start_time": "2021-11-17T15:29:33.523Z"
   },
   {
    "duration": -134,
    "start_time": "2021-11-17T15:29:33.531Z"
   },
   {
    "duration": -156,
    "start_time": "2021-11-17T15:29:33.554Z"
   },
   {
    "duration": -169,
    "start_time": "2021-11-17T15:29:33.567Z"
   },
   {
    "duration": -180,
    "start_time": "2021-11-17T15:29:33.580Z"
   },
   {
    "duration": -192,
    "start_time": "2021-11-17T15:29:33.593Z"
   },
   {
    "duration": -209,
    "start_time": "2021-11-17T15:29:33.611Z"
   },
   {
    "duration": -223,
    "start_time": "2021-11-17T15:29:33.626Z"
   },
   {
    "duration": -228,
    "start_time": "2021-11-17T15:29:33.632Z"
   },
   {
    "duration": -241,
    "start_time": "2021-11-17T15:29:33.646Z"
   },
   {
    "duration": -255,
    "start_time": "2021-11-17T15:29:33.661Z"
   },
   {
    "duration": 1251,
    "start_time": "2021-11-17T15:31:27.674Z"
   },
   {
    "duration": 44,
    "start_time": "2021-11-17T15:34:09.442Z"
   },
   {
    "duration": 83,
    "start_time": "2021-11-17T15:34:32.145Z"
   },
   {
    "duration": 84,
    "start_time": "2021-11-17T15:35:37.798Z"
   },
   {
    "duration": 128,
    "start_time": "2021-11-17T15:35:52.873Z"
   },
   {
    "duration": 84,
    "start_time": "2021-11-17T15:35:56.178Z"
   },
   {
    "duration": 398,
    "start_time": "2021-11-17T15:37:06.616Z"
   },
   {
    "duration": 2579,
    "start_time": "2021-11-17T15:37:16.992Z"
   },
   {
    "duration": 5,
    "start_time": "2021-11-17T15:37:19.574Z"
   },
   {
    "duration": 775,
    "start_time": "2021-11-17T15:37:19.581Z"
   },
   {
    "duration": 7,
    "start_time": "2021-11-17T15:37:20.358Z"
   },
   {
    "duration": 139,
    "start_time": "2021-11-17T15:37:20.367Z"
   },
   {
    "duration": 437,
    "start_time": "2021-11-17T15:37:20.508Z"
   },
   {
    "duration": 305,
    "start_time": "2021-11-17T15:37:20.947Z"
   },
   {
    "duration": 712,
    "start_time": "2021-11-17T15:37:21.255Z"
   },
   {
    "duration": 675,
    "start_time": "2021-11-17T15:37:21.970Z"
   },
   {
    "duration": 126,
    "start_time": "2021-11-17T15:37:22.648Z"
   },
   {
    "duration": 245,
    "start_time": "2021-11-17T15:37:22.776Z"
   },
   {
    "duration": 42,
    "start_time": "2021-11-17T15:37:23.023Z"
   },
   {
    "duration": 1128,
    "start_time": "2021-11-17T15:37:23.067Z"
   },
   {
    "duration": 85,
    "start_time": "2021-11-17T15:37:24.198Z"
   },
   {
    "duration": 917,
    "start_time": "2021-11-17T15:37:24.285Z"
   },
   {
    "duration": 1032,
    "start_time": "2021-11-17T15:37:25.204Z"
   },
   {
    "duration": 2411,
    "start_time": "2021-11-17T15:37:26.238Z"
   },
   {
    "duration": 93,
    "start_time": "2021-11-17T15:37:28.651Z"
   },
   {
    "duration": 586,
    "start_time": "2021-11-17T15:37:28.746Z"
   },
   {
    "duration": 174,
    "start_time": "2021-11-17T15:37:29.334Z"
   },
   {
    "duration": 251,
    "start_time": "2021-11-17T15:37:29.510Z"
   },
   {
    "duration": -4,
    "start_time": "2021-11-17T15:37:29.768Z"
   },
   {
    "duration": -17,
    "start_time": "2021-11-17T15:37:29.782Z"
   },
   {
    "duration": -40,
    "start_time": "2021-11-17T15:37:29.806Z"
   },
   {
    "duration": -90,
    "start_time": "2021-11-17T15:37:29.857Z"
   },
   {
    "duration": -107,
    "start_time": "2021-11-17T15:37:29.875Z"
   },
   {
    "duration": -118,
    "start_time": "2021-11-17T15:37:29.887Z"
   },
   {
    "duration": -183,
    "start_time": "2021-11-17T15:37:29.953Z"
   },
   {
    "duration": -188,
    "start_time": "2021-11-17T15:37:29.960Z"
   },
   {
    "duration": -202,
    "start_time": "2021-11-17T15:37:29.975Z"
   },
   {
    "duration": -231,
    "start_time": "2021-11-17T15:37:30.006Z"
   },
   {
    "duration": -237,
    "start_time": "2021-11-17T15:37:30.013Z"
   },
   {
    "duration": -272,
    "start_time": "2021-11-17T15:37:30.049Z"
   },
   {
    "duration": -383,
    "start_time": "2021-11-17T15:37:30.162Z"
   },
   {
    "duration": -419,
    "start_time": "2021-11-17T15:37:30.199Z"
   },
   {
    "duration": -449,
    "start_time": "2021-11-17T15:37:30.231Z"
   },
   {
    "duration": -468,
    "start_time": "2021-11-17T15:37:30.251Z"
   },
   {
    "duration": -475,
    "start_time": "2021-11-17T15:37:30.259Z"
   },
   {
    "duration": -492,
    "start_time": "2021-11-17T15:37:30.278Z"
   },
   {
    "duration": -509,
    "start_time": "2021-11-17T15:37:30.296Z"
   },
   {
    "duration": -535,
    "start_time": "2021-11-17T15:37:30.324Z"
   },
   {
    "duration": -547,
    "start_time": "2021-11-17T15:37:30.337Z"
   },
   {
    "duration": -556,
    "start_time": "2021-11-17T15:37:30.347Z"
   },
   {
    "duration": 2281,
    "start_time": "2021-11-17T15:38:58.319Z"
   },
   {
    "duration": 5,
    "start_time": "2021-11-17T15:39:00.602Z"
   },
   {
    "duration": 769,
    "start_time": "2021-11-17T15:39:00.610Z"
   },
   {
    "duration": 6,
    "start_time": "2021-11-17T15:39:01.381Z"
   },
   {
    "duration": 241,
    "start_time": "2021-11-17T15:39:01.389Z"
   },
   {
    "duration": 483,
    "start_time": "2021-11-17T15:39:01.632Z"
   },
   {
    "duration": 322,
    "start_time": "2021-11-17T15:39:02.117Z"
   },
   {
    "duration": 672,
    "start_time": "2021-11-17T15:39:02.442Z"
   },
   {
    "duration": 251,
    "start_time": "2021-11-17T15:39:03.117Z"
   },
   {
    "duration": 120,
    "start_time": "2021-11-17T15:39:03.370Z"
   },
   {
    "duration": 246,
    "start_time": "2021-11-17T15:39:03.492Z"
   },
   {
    "duration": 42,
    "start_time": "2021-11-17T15:39:03.740Z"
   },
   {
    "duration": 1318,
    "start_time": "2021-11-17T15:39:03.784Z"
   },
   {
    "duration": 79,
    "start_time": "2021-11-17T15:39:05.104Z"
   },
   {
    "duration": 940,
    "start_time": "2021-11-17T15:39:05.185Z"
   },
   {
    "duration": 1069,
    "start_time": "2021-11-17T15:39:06.127Z"
   },
   {
    "duration": 2555,
    "start_time": "2021-11-17T15:39:07.198Z"
   },
   {
    "duration": 87,
    "start_time": "2021-11-17T15:39:09.755Z"
   },
   {
    "duration": 569,
    "start_time": "2021-11-17T15:39:09.844Z"
   },
   {
    "duration": 177,
    "start_time": "2021-11-17T15:39:10.415Z"
   },
   {
    "duration": 260,
    "start_time": "2021-11-17T15:39:10.593Z"
   },
   {
    "duration": 14,
    "start_time": "2021-11-17T15:39:10.841Z"
   },
   {
    "duration": 6,
    "start_time": "2021-11-17T15:39:10.850Z"
   },
   {
    "duration": -23,
    "start_time": "2021-11-17T15:39:10.880Z"
   },
   {
    "duration": -41,
    "start_time": "2021-11-17T15:39:10.899Z"
   },
   {
    "duration": -71,
    "start_time": "2021-11-17T15:39:10.930Z"
   },
   {
    "duration": -77,
    "start_time": "2021-11-17T15:39:10.937Z"
   },
   {
    "duration": -133,
    "start_time": "2021-11-17T15:39:10.994Z"
   },
   {
    "duration": -156,
    "start_time": "2021-11-17T15:39:11.018Z"
   },
   {
    "duration": -167,
    "start_time": "2021-11-17T15:39:11.030Z"
   },
   {
    "duration": -192,
    "start_time": "2021-11-17T15:39:11.056Z"
   },
   {
    "duration": -220,
    "start_time": "2021-11-17T15:39:11.085Z"
   },
   {
    "duration": -227,
    "start_time": "2021-11-17T15:39:11.092Z"
   },
   {
    "duration": -239,
    "start_time": "2021-11-17T15:39:11.105Z"
   },
   {
    "duration": -266,
    "start_time": "2021-11-17T15:39:11.133Z"
   },
   {
    "duration": -270,
    "start_time": "2021-11-17T15:39:11.138Z"
   },
   {
    "duration": -282,
    "start_time": "2021-11-17T15:39:11.151Z"
   },
   {
    "duration": -287,
    "start_time": "2021-11-17T15:39:11.157Z"
   },
   {
    "duration": -308,
    "start_time": "2021-11-17T15:39:11.179Z"
   },
   {
    "duration": -326,
    "start_time": "2021-11-17T15:39:11.198Z"
   },
   {
    "duration": -330,
    "start_time": "2021-11-17T15:39:11.203Z"
   },
   {
    "duration": -343,
    "start_time": "2021-11-17T15:39:11.217Z"
   },
   {
    "duration": -348,
    "start_time": "2021-11-17T15:39:11.223Z"
   },
   {
    "duration": 2351,
    "start_time": "2021-11-17T15:40:39.557Z"
   },
   {
    "duration": 5,
    "start_time": "2021-11-17T15:40:41.910Z"
   },
   {
    "duration": 606,
    "start_time": "2021-11-17T15:40:41.917Z"
   },
   {
    "duration": 5,
    "start_time": "2021-11-17T15:40:42.525Z"
   },
   {
    "duration": 140,
    "start_time": "2021-11-17T15:40:42.531Z"
   },
   {
    "duration": 454,
    "start_time": "2021-11-17T15:40:42.673Z"
   },
   {
    "duration": 318,
    "start_time": "2021-11-17T15:40:43.130Z"
   },
   {
    "duration": 672,
    "start_time": "2021-11-17T15:40:43.450Z"
   },
   {
    "duration": 248,
    "start_time": "2021-11-17T15:40:44.124Z"
   },
   {
    "duration": 118,
    "start_time": "2021-11-17T15:40:44.373Z"
   },
   {
    "duration": 247,
    "start_time": "2021-11-17T15:40:44.493Z"
   },
   {
    "duration": 42,
    "start_time": "2021-11-17T15:40:44.742Z"
   },
   {
    "duration": 1134,
    "start_time": "2021-11-17T15:40:44.785Z"
   },
   {
    "duration": 86,
    "start_time": "2021-11-17T15:40:45.921Z"
   },
   {
    "duration": 1139,
    "start_time": "2021-11-17T15:40:46.009Z"
   },
   {
    "duration": 1045,
    "start_time": "2021-11-17T15:40:47.150Z"
   },
   {
    "duration": 2431,
    "start_time": "2021-11-17T15:40:48.197Z"
   },
   {
    "duration": 93,
    "start_time": "2021-11-17T15:40:50.630Z"
   },
   {
    "duration": 566,
    "start_time": "2021-11-17T15:40:50.724Z"
   },
   {
    "duration": 192,
    "start_time": "2021-11-17T15:40:51.292Z"
   },
   {
    "duration": 266,
    "start_time": "2021-11-17T15:40:51.486Z"
   },
   {
    "duration": 27,
    "start_time": "2021-11-17T15:40:51.729Z"
   },
   {
    "duration": 23,
    "start_time": "2021-11-17T15:40:51.735Z"
   },
   {
    "duration": 12,
    "start_time": "2021-11-17T15:40:51.747Z"
   },
   {
    "duration": 0,
    "start_time": "2021-11-17T15:40:51.761Z"
   },
   {
    "duration": -4,
    "start_time": "2021-11-17T15:40:51.766Z"
   },
   {
    "duration": -13,
    "start_time": "2021-11-17T15:40:51.777Z"
   },
   {
    "duration": -17,
    "start_time": "2021-11-17T15:40:51.782Z"
   },
   {
    "duration": -31,
    "start_time": "2021-11-17T15:40:51.797Z"
   },
   {
    "duration": -41,
    "start_time": "2021-11-17T15:40:51.809Z"
   },
   {
    "duration": -45,
    "start_time": "2021-11-17T15:40:51.815Z"
   },
   {
    "duration": -94,
    "start_time": "2021-11-17T15:40:51.865Z"
   },
   {
    "duration": -104,
    "start_time": "2021-11-17T15:40:51.877Z"
   },
   {
    "duration": -109,
    "start_time": "2021-11-17T15:40:51.883Z"
   },
   {
    "duration": -140,
    "start_time": "2021-11-17T15:40:51.916Z"
   },
   {
    "duration": -152,
    "start_time": "2021-11-17T15:40:51.930Z"
   },
   {
    "duration": -162,
    "start_time": "2021-11-17T15:40:51.941Z"
   },
   {
    "duration": -184,
    "start_time": "2021-11-17T15:40:51.965Z"
   },
   {
    "duration": -196,
    "start_time": "2021-11-17T15:40:51.978Z"
   },
   {
    "duration": -200,
    "start_time": "2021-11-17T15:40:51.984Z"
   },
   {
    "duration": -216,
    "start_time": "2021-11-17T15:40:52.001Z"
   },
   {
    "duration": -223,
    "start_time": "2021-11-17T15:40:52.010Z"
   },
   {
    "duration": -231,
    "start_time": "2021-11-17T15:40:52.020Z"
   },
   {
    "duration": 1026,
    "start_time": "2021-11-17T15:43:09.208Z"
   },
   {
    "duration": 1025,
    "start_time": "2021-11-17T15:43:43.957Z"
   },
   {
    "duration": 1243,
    "start_time": "2021-11-17T15:43:58.290Z"
   },
   {
    "duration": 1055,
    "start_time": "2021-11-17T15:44:19.488Z"
   },
   {
    "duration": 1334,
    "start_time": "2021-11-17T15:44:54.609Z"
   },
   {
    "duration": 1155,
    "start_time": "2021-11-17T15:45:13.098Z"
   },
   {
    "duration": 86,
    "start_time": "2021-11-17T15:49:21.559Z"
   },
   {
    "duration": 82,
    "start_time": "2021-11-17T15:49:27.289Z"
   },
   {
    "duration": 98,
    "start_time": "2021-11-17T15:55:07.826Z"
   },
   {
    "duration": 80,
    "start_time": "2021-11-17T15:55:09.196Z"
   },
   {
    "duration": 2222,
    "start_time": "2021-11-17T15:55:25.760Z"
   },
   {
    "duration": 4,
    "start_time": "2021-11-17T15:55:27.984Z"
   },
   {
    "duration": 813,
    "start_time": "2021-11-17T15:55:27.990Z"
   },
   {
    "duration": 5,
    "start_time": "2021-11-17T15:55:28.805Z"
   },
   {
    "duration": 141,
    "start_time": "2021-11-17T15:55:28.813Z"
   },
   {
    "duration": 442,
    "start_time": "2021-11-17T15:55:28.956Z"
   },
   {
    "duration": 306,
    "start_time": "2021-11-17T15:55:29.400Z"
   },
   {
    "duration": 660,
    "start_time": "2021-11-17T15:55:29.709Z"
   },
   {
    "duration": 242,
    "start_time": "2021-11-17T15:55:30.372Z"
   },
   {
    "duration": 105,
    "start_time": "2021-11-17T15:55:30.616Z"
   },
   {
    "duration": 129,
    "start_time": "2021-11-17T15:55:30.723Z"
   },
   {
    "duration": 254,
    "start_time": "2021-11-17T15:55:30.854Z"
   },
   {
    "duration": 27,
    "start_time": "2021-11-17T15:55:31.110Z"
   },
   {
    "duration": 1124,
    "start_time": "2021-11-17T15:55:31.140Z"
   },
   {
    "duration": 64,
    "start_time": "2021-11-17T15:55:32.265Z"
   },
   {
    "duration": 895,
    "start_time": "2021-11-17T15:55:32.330Z"
   },
   {
    "duration": 1031,
    "start_time": "2021-11-17T15:55:33.227Z"
   },
   {
    "duration": 2416,
    "start_time": "2021-11-17T15:55:34.260Z"
   },
   {
    "duration": 3,
    "start_time": "2021-11-17T15:55:36.678Z"
   },
   {
    "duration": 588,
    "start_time": "2021-11-17T15:55:36.683Z"
   },
   {
    "duration": 180,
    "start_time": "2021-11-17T15:55:37.273Z"
   },
   {
    "duration": 288,
    "start_time": "2021-11-17T15:55:37.455Z"
   },
   {
    "duration": 24,
    "start_time": "2021-11-17T15:55:37.721Z"
   },
   {
    "duration": -15,
    "start_time": "2021-11-17T15:55:37.761Z"
   },
   {
    "duration": -28,
    "start_time": "2021-11-17T15:55:37.775Z"
   },
   {
    "duration": -36,
    "start_time": "2021-11-17T15:55:37.784Z"
   },
   {
    "duration": -47,
    "start_time": "2021-11-17T15:55:37.796Z"
   },
   {
    "duration": -53,
    "start_time": "2021-11-17T15:55:37.803Z"
   },
   {
    "duration": -58,
    "start_time": "2021-11-17T15:55:37.809Z"
   },
   {
    "duration": -65,
    "start_time": "2021-11-17T15:55:37.817Z"
   },
   {
    "duration": -76,
    "start_time": "2021-11-17T15:55:37.829Z"
   },
   {
    "duration": -80,
    "start_time": "2021-11-17T15:55:37.834Z"
   },
   {
    "duration": -127,
    "start_time": "2021-11-17T15:55:37.882Z"
   },
   {
    "duration": -138,
    "start_time": "2021-11-17T15:55:37.894Z"
   },
   {
    "duration": -143,
    "start_time": "2021-11-17T15:55:37.900Z"
   },
   {
    "duration": -154,
    "start_time": "2021-11-17T15:55:37.913Z"
   },
   {
    "duration": -160,
    "start_time": "2021-11-17T15:55:37.920Z"
   },
   {
    "duration": -168,
    "start_time": "2021-11-17T15:55:37.929Z"
   },
   {
    "duration": -179,
    "start_time": "2021-11-17T15:55:37.941Z"
   },
   {
    "duration": -184,
    "start_time": "2021-11-17T15:55:37.947Z"
   },
   {
    "duration": -189,
    "start_time": "2021-11-17T15:55:37.953Z"
   },
   {
    "duration": -214,
    "start_time": "2021-11-17T15:55:37.979Z"
   },
   {
    "duration": -228,
    "start_time": "2021-11-17T15:55:37.994Z"
   },
   {
    "duration": -237,
    "start_time": "2021-11-17T15:55:38.004Z"
   },
   {
    "duration": 87,
    "start_time": "2021-11-17T15:57:19.927Z"
   },
   {
    "duration": 168,
    "start_time": "2021-11-17T15:57:59.336Z"
   },
   {
    "duration": 98,
    "start_time": "2021-11-17T15:58:09.140Z"
   },
   {
    "duration": 163,
    "start_time": "2021-11-17T15:58:09.640Z"
   },
   {
    "duration": 91,
    "start_time": "2021-11-17T15:58:20.995Z"
   },
   {
    "duration": 2242,
    "start_time": "2021-11-17T15:59:08.355Z"
   },
   {
    "duration": 5,
    "start_time": "2021-11-17T15:59:10.599Z"
   },
   {
    "duration": 584,
    "start_time": "2021-11-17T15:59:10.606Z"
   },
   {
    "duration": 4,
    "start_time": "2021-11-17T15:59:11.192Z"
   },
   {
    "duration": 140,
    "start_time": "2021-11-17T15:59:11.198Z"
   },
   {
    "duration": 452,
    "start_time": "2021-11-17T15:59:11.340Z"
   },
   {
    "duration": 550,
    "start_time": "2021-11-17T15:59:11.793Z"
   },
   {
    "duration": 671,
    "start_time": "2021-11-17T15:59:12.345Z"
   },
   {
    "duration": 275,
    "start_time": "2021-11-17T15:59:13.018Z"
   },
   {
    "duration": 97,
    "start_time": "2021-11-17T15:59:13.294Z"
   },
   {
    "duration": 248,
    "start_time": "2021-11-17T15:59:13.393Z"
   },
   {
    "duration": 2298,
    "start_time": "2021-11-17T16:00:01.979Z"
   },
   {
    "duration": 5,
    "start_time": "2021-11-17T16:00:04.279Z"
   },
   {
    "duration": 589,
    "start_time": "2021-11-17T16:00:04.286Z"
   },
   {
    "duration": 5,
    "start_time": "2021-11-17T16:00:04.877Z"
   },
   {
    "duration": 140,
    "start_time": "2021-11-17T16:00:04.884Z"
   },
   {
    "duration": 447,
    "start_time": "2021-11-17T16:00:05.025Z"
   },
   {
    "duration": 310,
    "start_time": "2021-11-17T16:00:05.474Z"
   },
   {
    "duration": 635,
    "start_time": "2021-11-17T16:00:05.787Z"
   },
   {
    "duration": 239,
    "start_time": "2021-11-17T16:00:06.425Z"
   },
   {
    "duration": 103,
    "start_time": "2021-11-17T16:00:06.665Z"
   },
   {
    "duration": 248,
    "start_time": "2021-11-17T16:00:06.769Z"
   },
   {
    "duration": 244,
    "start_time": "2021-11-17T16:00:07.018Z"
   },
   {
    "duration": 29,
    "start_time": "2021-11-17T16:00:07.263Z"
   },
   {
    "duration": 1280,
    "start_time": "2021-11-17T16:00:07.294Z"
   },
   {
    "duration": 71,
    "start_time": "2021-11-17T16:00:08.576Z"
   },
   {
    "duration": 901,
    "start_time": "2021-11-17T16:00:08.663Z"
   },
   {
    "duration": 1045,
    "start_time": "2021-11-17T16:00:09.566Z"
   },
   {
    "duration": 2644,
    "start_time": "2021-11-17T16:00:10.613Z"
   },
   {
    "duration": 3,
    "start_time": "2021-11-17T16:00:13.263Z"
   },
   {
    "duration": 587,
    "start_time": "2021-11-17T16:00:13.268Z"
   },
   {
    "duration": 170,
    "start_time": "2021-11-17T16:00:13.857Z"
   },
   {
    "duration": 247,
    "start_time": "2021-11-17T16:00:14.028Z"
   },
   {
    "duration": -14,
    "start_time": "2021-11-17T16:00:14.291Z"
   },
   {
    "duration": -27,
    "start_time": "2021-11-17T16:00:14.305Z"
   },
   {
    "duration": -48,
    "start_time": "2021-11-17T16:00:14.327Z"
   },
   {
    "duration": -64,
    "start_time": "2021-11-17T16:00:14.343Z"
   },
   {
    "duration": -87,
    "start_time": "2021-11-17T16:00:14.367Z"
   },
   {
    "duration": -137,
    "start_time": "2021-11-17T16:00:14.418Z"
   },
   {
    "duration": -166,
    "start_time": "2021-11-17T16:00:14.448Z"
   },
   {
    "duration": -193,
    "start_time": "2021-11-17T16:00:14.476Z"
   },
   {
    "duration": -205,
    "start_time": "2021-11-17T16:00:14.489Z"
   },
   {
    "duration": -219,
    "start_time": "2021-11-17T16:00:14.504Z"
   },
   {
    "duration": -257,
    "start_time": "2021-11-17T16:00:14.543Z"
   },
   {
    "duration": -266,
    "start_time": "2021-11-17T16:00:14.553Z"
   },
   {
    "duration": -272,
    "start_time": "2021-11-17T16:00:14.560Z"
   },
   {
    "duration": -286,
    "start_time": "2021-11-17T16:00:14.575Z"
   },
   {
    "duration": -314,
    "start_time": "2021-11-17T16:00:14.603Z"
   },
   {
    "duration": -319,
    "start_time": "2021-11-17T16:00:14.610Z"
   },
   {
    "duration": -332,
    "start_time": "2021-11-17T16:00:14.624Z"
   },
   {
    "duration": -350,
    "start_time": "2021-11-17T16:00:14.643Z"
   },
   {
    "duration": -379,
    "start_time": "2021-11-17T16:00:14.673Z"
   },
   {
    "duration": -507,
    "start_time": "2021-11-17T16:00:14.801Z"
   },
   {
    "duration": -510,
    "start_time": "2021-11-17T16:00:14.805Z"
   },
   {
    "duration": -516,
    "start_time": "2021-11-17T16:00:14.812Z"
   },
   {
    "duration": 2190,
    "start_time": "2021-11-17T16:00:22.355Z"
   },
   {
    "duration": 1355,
    "start_time": "2021-11-17T16:00:24.548Z"
   },
   {
    "duration": 670,
    "start_time": "2021-11-17T16:00:25.906Z"
   },
   {
    "duration": 5,
    "start_time": "2021-11-17T16:00:26.578Z"
   },
   {
    "duration": 133,
    "start_time": "2021-11-17T16:00:26.585Z"
   },
   {
    "duration": 440,
    "start_time": "2021-11-17T16:00:26.720Z"
   },
   {
    "duration": 348,
    "start_time": "2021-11-17T16:00:27.163Z"
   },
   {
    "duration": 859,
    "start_time": "2021-11-17T16:00:27.515Z"
   },
   {
    "duration": 246,
    "start_time": "2021-11-17T16:00:28.377Z"
   },
   {
    "duration": 103,
    "start_time": "2021-11-17T16:00:28.625Z"
   },
   {
    "duration": 256,
    "start_time": "2021-11-17T16:00:28.730Z"
   },
   {
    "duration": 263,
    "start_time": "2021-11-17T16:00:28.988Z"
   },
   {
    "duration": 49,
    "start_time": "2021-11-17T16:00:29.254Z"
   },
   {
    "duration": 1760,
    "start_time": "2021-11-17T16:00:29.305Z"
   },
   {
    "duration": 97,
    "start_time": "2021-11-17T16:00:31.067Z"
   },
   {
    "duration": 915,
    "start_time": "2021-11-17T16:00:31.166Z"
   },
   {
    "duration": 1029,
    "start_time": "2021-11-17T16:00:32.083Z"
   },
   {
    "duration": 2405,
    "start_time": "2021-11-17T16:00:33.113Z"
   },
   {
    "duration": 2,
    "start_time": "2021-11-17T16:00:35.520Z"
   },
   {
    "duration": 1105,
    "start_time": "2021-11-17T16:00:35.524Z"
   },
   {
    "duration": 204,
    "start_time": "2021-11-17T16:00:36.631Z"
   },
   {
    "duration": 393,
    "start_time": "2021-11-17T16:00:36.837Z"
   },
   {
    "duration": 90,
    "start_time": "2021-11-17T16:00:37.143Z"
   },
   {
    "duration": 29,
    "start_time": "2021-11-17T16:00:37.205Z"
   },
   {
    "duration": 22,
    "start_time": "2021-11-17T16:00:37.213Z"
   },
   {
    "duration": 9,
    "start_time": "2021-11-17T16:00:37.227Z"
   },
   {
    "duration": -32,
    "start_time": "2021-11-17T16:00:37.269Z"
   },
   {
    "duration": -35,
    "start_time": "2021-11-17T16:00:37.273Z"
   },
   {
    "duration": -52,
    "start_time": "2021-11-17T16:00:37.291Z"
   },
   {
    "duration": -97,
    "start_time": "2021-11-17T16:00:37.338Z"
   },
   {
    "duration": -103,
    "start_time": "2021-11-17T16:00:37.344Z"
   },
   {
    "duration": -114,
    "start_time": "2021-11-17T16:00:37.357Z"
   },
   {
    "duration": -124,
    "start_time": "2021-11-17T16:00:37.368Z"
   },
   {
    "duration": -128,
    "start_time": "2021-11-17T16:00:37.373Z"
   },
   {
    "duration": -133,
    "start_time": "2021-11-17T16:00:37.379Z"
   },
   {
    "duration": -144,
    "start_time": "2021-11-17T16:00:37.391Z"
   },
   {
    "duration": -155,
    "start_time": "2021-11-17T16:00:37.403Z"
   },
   {
    "duration": -162,
    "start_time": "2021-11-17T16:00:37.411Z"
   },
   {
    "duration": -172,
    "start_time": "2021-11-17T16:00:37.422Z"
   },
   {
    "duration": -176,
    "start_time": "2021-11-17T16:00:37.427Z"
   },
   {
    "duration": -184,
    "start_time": "2021-11-17T16:00:37.436Z"
   },
   {
    "duration": -188,
    "start_time": "2021-11-17T16:00:37.441Z"
   },
   {
    "duration": -197,
    "start_time": "2021-11-17T16:00:37.451Z"
   },
   {
    "duration": -200,
    "start_time": "2021-11-17T16:00:37.456Z"
   },
   {
    "duration": 22,
    "start_time": "2021-11-17T16:01:01.865Z"
   },
   {
    "duration": 11,
    "start_time": "2021-11-17T16:01:36.724Z"
   },
   {
    "duration": 14,
    "start_time": "2021-11-17T16:04:07.400Z"
   },
   {
    "duration": 2277,
    "start_time": "2021-11-17T16:05:13.180Z"
   },
   {
    "duration": 4,
    "start_time": "2021-11-17T16:05:15.460Z"
   },
   {
    "duration": 578,
    "start_time": "2021-11-17T16:05:15.466Z"
   },
   {
    "duration": 5,
    "start_time": "2021-11-17T16:05:16.046Z"
   },
   {
    "duration": 141,
    "start_time": "2021-11-17T16:05:16.052Z"
   },
   {
    "duration": 427,
    "start_time": "2021-11-17T16:05:16.195Z"
   },
   {
    "duration": 305,
    "start_time": "2021-11-17T16:05:16.624Z"
   },
   {
    "duration": 700,
    "start_time": "2021-11-17T16:05:16.932Z"
   },
   {
    "duration": 254,
    "start_time": "2021-11-17T16:05:17.634Z"
   },
   {
    "duration": 133,
    "start_time": "2021-11-17T16:05:17.890Z"
   },
   {
    "duration": 254,
    "start_time": "2021-11-17T16:05:18.025Z"
   },
   {
    "duration": 42,
    "start_time": "2021-11-17T16:05:18.281Z"
   },
   {
    "duration": 1442,
    "start_time": "2021-11-17T16:05:18.324Z"
   },
   {
    "duration": 127,
    "start_time": "2021-11-17T16:05:19.768Z"
   },
   {
    "duration": 245,
    "start_time": "2021-11-17T16:05:19.897Z"
   },
   {
    "duration": 939,
    "start_time": "2021-11-17T16:05:20.144Z"
   },
   {
    "duration": 1049,
    "start_time": "2021-11-17T16:05:21.085Z"
   },
   {
    "duration": 2413,
    "start_time": "2021-11-17T16:05:22.136Z"
   },
   {
    "duration": 27,
    "start_time": "2021-11-17T16:05:24.550Z"
   },
   {
    "duration": 564,
    "start_time": "2021-11-17T16:05:24.578Z"
   },
   {
    "duration": 179,
    "start_time": "2021-11-17T16:05:25.144Z"
   },
   {
    "duration": 269,
    "start_time": "2021-11-17T16:05:25.325Z"
   },
   {
    "duration": 85,
    "start_time": "2021-11-17T16:05:25.511Z"
   },
   {
    "duration": 79,
    "start_time": "2021-11-17T16:05:25.518Z"
   },
   {
    "duration": 68,
    "start_time": "2021-11-17T16:05:25.530Z"
   },
   {
    "duration": 32,
    "start_time": "2021-11-17T16:05:25.567Z"
   },
   {
    "duration": 21,
    "start_time": "2021-11-17T16:05:25.579Z"
   },
   {
    "duration": 13,
    "start_time": "2021-11-17T16:05:25.588Z"
   },
   {
    "duration": 2,
    "start_time": "2021-11-17T16:05:25.600Z"
   },
   {
    "duration": -29,
    "start_time": "2021-11-17T16:05:25.632Z"
   },
   {
    "duration": -40,
    "start_time": "2021-11-17T16:05:25.644Z"
   },
   {
    "duration": -46,
    "start_time": "2021-11-17T16:05:25.651Z"
   },
   {
    "duration": -55,
    "start_time": "2021-11-17T16:05:25.661Z"
   },
   {
    "duration": -60,
    "start_time": "2021-11-17T16:05:25.667Z"
   },
   {
    "duration": -70,
    "start_time": "2021-11-17T16:05:25.678Z"
   },
   {
    "duration": -75,
    "start_time": "2021-11-17T16:05:25.684Z"
   },
   {
    "duration": -84,
    "start_time": "2021-11-17T16:05:25.694Z"
   },
   {
    "duration": -88,
    "start_time": "2021-11-17T16:05:25.699Z"
   },
   {
    "duration": -97,
    "start_time": "2021-11-17T16:05:25.709Z"
   },
   {
    "duration": -102,
    "start_time": "2021-11-17T16:05:25.715Z"
   },
   {
    "duration": -112,
    "start_time": "2021-11-17T16:05:25.726Z"
   },
   {
    "duration": -117,
    "start_time": "2021-11-17T16:05:25.732Z"
   },
   {
    "duration": -122,
    "start_time": "2021-11-17T16:05:25.738Z"
   },
   {
    "duration": -134,
    "start_time": "2021-11-17T16:05:25.751Z"
   },
   {
    "duration": 100,
    "start_time": "2021-11-17T16:06:37.553Z"
   },
   {
    "duration": 103,
    "start_time": "2021-11-17T16:07:06.824Z"
   },
   {
    "duration": 2260,
    "start_time": "2021-11-17T16:07:24.605Z"
   },
   {
    "duration": 5,
    "start_time": "2021-11-17T16:07:26.868Z"
   },
   {
    "duration": 567,
    "start_time": "2021-11-17T16:07:26.875Z"
   },
   {
    "duration": 4,
    "start_time": "2021-11-17T16:07:27.444Z"
   },
   {
    "duration": 134,
    "start_time": "2021-11-17T16:07:27.450Z"
   },
   {
    "duration": 414,
    "start_time": "2021-11-17T16:07:27.586Z"
   },
   {
    "duration": 308,
    "start_time": "2021-11-17T16:07:28.002Z"
   },
   {
    "duration": 631,
    "start_time": "2021-11-17T16:07:28.312Z"
   },
   {
    "duration": 250,
    "start_time": "2021-11-17T16:07:28.945Z"
   },
   {
    "duration": 118,
    "start_time": "2021-11-17T16:07:29.196Z"
   },
   {
    "duration": 236,
    "start_time": "2021-11-17T16:07:29.316Z"
   },
   {
    "duration": 36,
    "start_time": "2021-11-17T16:07:29.554Z"
   },
   {
    "duration": 1254,
    "start_time": "2021-11-17T16:07:29.591Z"
   },
   {
    "duration": 77,
    "start_time": "2021-11-17T16:07:30.847Z"
   },
   {
    "duration": 175,
    "start_time": "2021-11-17T16:07:30.926Z"
   },
   {
    "duration": 891,
    "start_time": "2021-11-17T16:07:31.103Z"
   },
   {
    "duration": 1059,
    "start_time": "2021-11-17T16:07:31.995Z"
   },
   {
    "duration": 2455,
    "start_time": "2021-11-17T16:07:33.056Z"
   },
   {
    "duration": 22,
    "start_time": "2021-11-17T16:07:35.512Z"
   },
   {
    "duration": 578,
    "start_time": "2021-11-17T16:07:35.535Z"
   },
   {
    "duration": 177,
    "start_time": "2021-11-17T16:07:36.115Z"
   },
   {
    "duration": 268,
    "start_time": "2021-11-17T16:07:36.293Z"
   },
   {
    "duration": 81,
    "start_time": "2021-11-17T16:07:36.483Z"
   },
   {
    "duration": 61,
    "start_time": "2021-11-17T16:07:36.504Z"
   },
   {
    "duration": 49,
    "start_time": "2021-11-17T16:07:36.516Z"
   },
   {
    "duration": 29,
    "start_time": "2021-11-17T16:07:36.537Z"
   },
   {
    "duration": 17,
    "start_time": "2021-11-17T16:07:36.550Z"
   },
   {
    "duration": 6,
    "start_time": "2021-11-17T16:07:36.562Z"
   },
   {
    "duration": -7,
    "start_time": "2021-11-17T16:07:36.576Z"
   },
   {
    "duration": -29,
    "start_time": "2021-11-17T16:07:36.598Z"
   },
   {
    "duration": -45,
    "start_time": "2021-11-17T16:07:36.615Z"
   },
   {
    "duration": -59,
    "start_time": "2021-11-17T16:07:36.630Z"
   },
   {
    "duration": -73,
    "start_time": "2021-11-17T16:07:36.645Z"
   },
   {
    "duration": -87,
    "start_time": "2021-11-17T16:07:36.660Z"
   },
   {
    "duration": -100,
    "start_time": "2021-11-17T16:07:36.673Z"
   },
   {
    "duration": -104,
    "start_time": "2021-11-17T16:07:36.678Z"
   },
   {
    "duration": -115,
    "start_time": "2021-11-17T16:07:36.691Z"
   },
   {
    "duration": -119,
    "start_time": "2021-11-17T16:07:36.696Z"
   },
   {
    "duration": -129,
    "start_time": "2021-11-17T16:07:36.707Z"
   },
   {
    "duration": -133,
    "start_time": "2021-11-17T16:07:36.712Z"
   },
   {
    "duration": -143,
    "start_time": "2021-11-17T16:07:36.723Z"
   },
   {
    "duration": -148,
    "start_time": "2021-11-17T16:07:36.728Z"
   },
   {
    "duration": -158,
    "start_time": "2021-11-17T16:07:36.739Z"
   },
   {
    "duration": -162,
    "start_time": "2021-11-17T16:07:36.744Z"
   },
   {
    "duration": 2187,
    "start_time": "2021-11-17T16:08:02.390Z"
   },
   {
    "duration": 1526,
    "start_time": "2021-11-17T16:08:04.579Z"
   },
   {
    "duration": 627,
    "start_time": "2021-11-17T16:08:06.107Z"
   },
   {
    "duration": 5,
    "start_time": "2021-11-17T16:08:06.736Z"
   },
   {
    "duration": 147,
    "start_time": "2021-11-17T16:08:06.742Z"
   },
   {
    "duration": 463,
    "start_time": "2021-11-17T16:08:06.890Z"
   },
   {
    "duration": 361,
    "start_time": "2021-11-17T16:08:07.356Z"
   },
   {
    "duration": 751,
    "start_time": "2021-11-17T16:08:07.720Z"
   },
   {
    "duration": 241,
    "start_time": "2021-11-17T16:08:08.473Z"
   },
   {
    "duration": 111,
    "start_time": "2021-11-17T16:08:08.715Z"
   },
   {
    "duration": 247,
    "start_time": "2021-11-17T16:08:08.827Z"
   },
   {
    "duration": 40,
    "start_time": "2021-11-17T16:08:09.076Z"
   },
   {
    "duration": 1654,
    "start_time": "2021-11-17T16:08:09.118Z"
   },
   {
    "duration": 99,
    "start_time": "2021-11-17T16:08:10.774Z"
   },
   {
    "duration": 171,
    "start_time": "2021-11-17T16:08:10.874Z"
   },
   {
    "duration": 920,
    "start_time": "2021-11-17T16:08:11.047Z"
   },
   {
    "duration": 1024,
    "start_time": "2021-11-17T16:08:11.969Z"
   },
   {
    "duration": 2420,
    "start_time": "2021-11-17T16:08:12.995Z"
   },
   {
    "duration": 21,
    "start_time": "2021-11-17T16:08:15.416Z"
   },
   {
    "duration": 656,
    "start_time": "2021-11-17T16:08:15.439Z"
   },
   {
    "duration": 179,
    "start_time": "2021-11-17T16:08:16.096Z"
   },
   {
    "duration": 259,
    "start_time": "2021-11-17T16:08:16.277Z"
   },
   {
    "duration": 96,
    "start_time": "2021-11-17T16:08:16.443Z"
   },
   {
    "duration": 92,
    "start_time": "2021-11-17T16:08:16.448Z"
   },
   {
    "duration": 80,
    "start_time": "2021-11-17T16:08:16.461Z"
   },
   {
    "duration": 75,
    "start_time": "2021-11-17T16:08:16.467Z"
   },
   {
    "duration": 64,
    "start_time": "2021-11-17T16:08:16.479Z"
   },
   {
    "duration": 53,
    "start_time": "2021-11-17T16:08:16.491Z"
   },
   {
    "duration": 47,
    "start_time": "2021-11-17T16:08:16.498Z"
   },
   {
    "duration": 35,
    "start_time": "2021-11-17T16:08:16.511Z"
   },
   {
    "duration": 23,
    "start_time": "2021-11-17T16:08:16.524Z"
   },
   {
    "duration": 18,
    "start_time": "2021-11-17T16:08:16.530Z"
   },
   {
    "duration": 6,
    "start_time": "2021-11-17T16:08:16.543Z"
   },
   {
    "duration": 1,
    "start_time": "2021-11-17T16:08:16.549Z"
   },
   {
    "duration": -8,
    "start_time": "2021-11-17T16:08:16.559Z"
   },
   {
    "duration": -12,
    "start_time": "2021-11-17T16:08:16.564Z"
   },
   {
    "duration": -22,
    "start_time": "2021-11-17T16:08:16.575Z"
   },
   {
    "duration": -27,
    "start_time": "2021-11-17T16:08:16.581Z"
   },
   {
    "duration": -37,
    "start_time": "2021-11-17T16:08:16.592Z"
   },
   {
    "duration": -44,
    "start_time": "2021-11-17T16:08:16.600Z"
   },
   {
    "duration": -53,
    "start_time": "2021-11-17T16:08:16.610Z"
   },
   {
    "duration": -59,
    "start_time": "2021-11-17T16:08:16.617Z"
   },
   {
    "duration": -68,
    "start_time": "2021-11-17T16:08:16.627Z"
   },
   {
    "duration": -75,
    "start_time": "2021-11-17T16:08:16.635Z"
   },
   {
    "duration": 2272,
    "start_time": "2021-11-17T16:10:20.054Z"
   },
   {
    "duration": 1281,
    "start_time": "2021-11-17T16:10:22.328Z"
   },
   {
    "duration": 627,
    "start_time": "2021-11-17T16:10:23.611Z"
   },
   {
    "duration": 5,
    "start_time": "2021-11-17T16:10:24.241Z"
   },
   {
    "duration": 145,
    "start_time": "2021-11-17T16:10:24.248Z"
   },
   {
    "duration": 438,
    "start_time": "2021-11-17T16:10:24.395Z"
   },
   {
    "duration": 364,
    "start_time": "2021-11-17T16:10:24.835Z"
   },
   {
    "duration": 748,
    "start_time": "2021-11-17T16:10:25.201Z"
   },
   {
    "duration": 246,
    "start_time": "2021-11-17T16:10:25.951Z"
   },
   {
    "duration": 224,
    "start_time": "2021-11-17T16:10:26.198Z"
   },
   {
    "duration": 233,
    "start_time": "2021-11-17T16:10:26.423Z"
   },
   {
    "duration": 43,
    "start_time": "2021-11-17T16:10:26.658Z"
   },
   {
    "duration": 1642,
    "start_time": "2021-11-17T16:10:26.702Z"
   },
   {
    "duration": 98,
    "start_time": "2021-11-17T16:10:28.346Z"
   },
   {
    "duration": 174,
    "start_time": "2021-11-17T16:10:28.445Z"
   },
   {
    "duration": 907,
    "start_time": "2021-11-17T16:10:28.621Z"
   },
   {
    "duration": 1272,
    "start_time": "2021-11-17T16:10:29.530Z"
   },
   {
    "duration": 2410,
    "start_time": "2021-11-17T16:10:30.804Z"
   },
   {
    "duration": 20,
    "start_time": "2021-11-17T16:10:33.216Z"
   },
   {
    "duration": 661,
    "start_time": "2021-11-17T16:10:33.238Z"
   },
   {
    "duration": 242,
    "start_time": "2021-11-17T16:10:33.901Z"
   },
   {
    "duration": 260,
    "start_time": "2021-11-17T16:10:34.145Z"
   },
   {
    "duration": 99,
    "start_time": "2021-11-17T16:10:34.309Z"
   },
   {
    "duration": 90,
    "start_time": "2021-11-17T16:10:34.319Z"
   },
   {
    "duration": 85,
    "start_time": "2021-11-17T16:10:34.325Z"
   },
   {
    "duration": 73,
    "start_time": "2021-11-17T16:10:34.338Z"
   },
   {
    "duration": 65,
    "start_time": "2021-11-17T16:10:34.347Z"
   },
   {
    "duration": 51,
    "start_time": "2021-11-17T16:10:34.362Z"
   },
   {
    "duration": 39,
    "start_time": "2021-11-17T16:10:34.374Z"
   },
   {
    "duration": 33,
    "start_time": "2021-11-17T16:10:34.381Z"
   },
   {
    "duration": 27,
    "start_time": "2021-11-17T16:10:34.388Z"
   },
   {
    "duration": 22,
    "start_time": "2021-11-17T16:10:34.394Z"
   },
   {
    "duration": 11,
    "start_time": "2021-11-17T16:10:34.406Z"
   },
   {
    "duration": 6,
    "start_time": "2021-11-17T16:10:34.412Z"
   },
   {
    "duration": -3,
    "start_time": "2021-11-17T16:10:34.422Z"
   },
   {
    "duration": -24,
    "start_time": "2021-11-17T16:10:34.444Z"
   },
   {
    "duration": -34,
    "start_time": "2021-11-17T16:10:34.455Z"
   },
   {
    "duration": -40,
    "start_time": "2021-11-17T16:10:34.462Z"
   },
   {
    "duration": -49,
    "start_time": "2021-11-17T16:10:34.472Z"
   },
   {
    "duration": -54,
    "start_time": "2021-11-17T16:10:34.478Z"
   },
   {
    "duration": -63,
    "start_time": "2021-11-17T16:10:34.488Z"
   },
   {
    "duration": -69,
    "start_time": "2021-11-17T16:10:34.495Z"
   },
   {
    "duration": -78,
    "start_time": "2021-11-17T16:10:34.505Z"
   },
   {
    "duration": -90,
    "start_time": "2021-11-17T16:10:34.518Z"
   },
   {
    "duration": 95,
    "start_time": "2021-11-17T16:10:57.089Z"
   },
   {
    "duration": 292,
    "start_time": "2021-11-17T16:12:58.813Z"
   },
   {
    "duration": 19,
    "start_time": "2021-11-17T16:13:04.757Z"
   },
   {
    "duration": 26,
    "start_time": "2021-11-17T16:15:14.463Z"
   },
   {
    "duration": 2512,
    "start_time": "2021-11-17T16:15:29.557Z"
   },
   {
    "duration": 1368,
    "start_time": "2021-11-17T16:15:32.072Z"
   },
   {
    "duration": 720,
    "start_time": "2021-11-17T16:15:33.443Z"
   },
   {
    "duration": 5,
    "start_time": "2021-11-17T16:15:34.165Z"
   },
   {
    "duration": 152,
    "start_time": "2021-11-17T16:15:34.171Z"
   },
   {
    "duration": 456,
    "start_time": "2021-11-17T16:15:34.324Z"
   },
   {
    "duration": 374,
    "start_time": "2021-11-17T16:15:34.783Z"
   },
   {
    "duration": 746,
    "start_time": "2021-11-17T16:15:35.164Z"
   },
   {
    "duration": 263,
    "start_time": "2021-11-17T16:15:35.913Z"
   },
   {
    "duration": 119,
    "start_time": "2021-11-17T16:15:36.178Z"
   },
   {
    "duration": 261,
    "start_time": "2021-11-17T16:15:36.299Z"
   },
   {
    "duration": 42,
    "start_time": "2021-11-17T16:15:36.563Z"
   },
   {
    "duration": 1824,
    "start_time": "2021-11-17T16:15:36.607Z"
   },
   {
    "duration": 471,
    "start_time": "2021-11-17T16:15:38.433Z"
   },
   {
    "duration": -102,
    "start_time": "2021-11-17T16:15:39.010Z"
   },
   {
    "duration": -110,
    "start_time": "2021-11-17T16:15:39.019Z"
   },
   {
    "duration": -117,
    "start_time": "2021-11-17T16:15:39.026Z"
   },
   {
    "duration": -128,
    "start_time": "2021-11-17T16:15:39.038Z"
   },
   {
    "duration": -133,
    "start_time": "2021-11-17T16:15:39.044Z"
   },
   {
    "duration": -142,
    "start_time": "2021-11-17T16:15:39.053Z"
   },
   {
    "duration": -148,
    "start_time": "2021-11-17T16:15:39.060Z"
   },
   {
    "duration": -157,
    "start_time": "2021-11-17T16:15:39.070Z"
   },
   {
    "duration": -163,
    "start_time": "2021-11-17T16:15:39.077Z"
   },
   {
    "duration": -174,
    "start_time": "2021-11-17T16:15:39.089Z"
   },
   {
    "duration": -181,
    "start_time": "2021-11-17T16:15:39.096Z"
   },
   {
    "duration": -189,
    "start_time": "2021-11-17T16:15:39.105Z"
   },
   {
    "duration": -195,
    "start_time": "2021-11-17T16:15:39.112Z"
   },
   {
    "duration": -205,
    "start_time": "2021-11-17T16:15:39.123Z"
   },
   {
    "duration": -216,
    "start_time": "2021-11-17T16:15:39.135Z"
   },
   {
    "duration": -222,
    "start_time": "2021-11-17T16:15:39.141Z"
   },
   {
    "duration": -234,
    "start_time": "2021-11-17T16:15:39.154Z"
   },
   {
    "duration": -241,
    "start_time": "2021-11-17T16:15:39.162Z"
   },
   {
    "duration": -251,
    "start_time": "2021-11-17T16:15:39.172Z"
   },
   {
    "duration": -256,
    "start_time": "2021-11-17T16:15:39.178Z"
   },
   {
    "duration": -263,
    "start_time": "2021-11-17T16:15:39.187Z"
   },
   {
    "duration": -270,
    "start_time": "2021-11-17T16:15:39.195Z"
   },
   {
    "duration": -278,
    "start_time": "2021-11-17T16:15:39.204Z"
   },
   {
    "duration": -286,
    "start_time": "2021-11-17T16:15:39.212Z"
   },
   {
    "duration": -293,
    "start_time": "2021-11-17T16:15:39.220Z"
   },
   {
    "duration": -299,
    "start_time": "2021-11-17T16:15:39.227Z"
   },
   {
    "duration": -307,
    "start_time": "2021-11-17T16:15:39.236Z"
   },
   {
    "duration": -326,
    "start_time": "2021-11-17T16:15:39.256Z"
   },
   {
    "duration": -333,
    "start_time": "2021-11-17T16:15:39.264Z"
   },
   {
    "duration": -344,
    "start_time": "2021-11-17T16:15:39.275Z"
   },
   {
    "duration": 170,
    "start_time": "2021-11-17T16:16:25.444Z"
   },
   {
    "duration": 12645,
    "start_time": "2021-11-17T18:21:11.816Z"
   },
   {
    "duration": 1805,
    "start_time": "2021-11-17T18:21:24.465Z"
   },
   {
    "duration": 904,
    "start_time": "2021-11-17T18:21:26.274Z"
   },
   {
    "duration": 6,
    "start_time": "2021-11-17T18:21:27.181Z"
   },
   {
    "duration": 201,
    "start_time": "2021-11-17T18:21:27.201Z"
   },
   {
    "duration": 696,
    "start_time": "2021-11-17T18:21:27.406Z"
   },
   {
    "duration": 597,
    "start_time": "2021-11-17T18:21:28.106Z"
   },
   {
    "duration": 1082,
    "start_time": "2021-11-17T18:21:28.708Z"
   },
   {
    "duration": 374,
    "start_time": "2021-11-17T18:21:29.793Z"
   },
   {
    "duration": 160,
    "start_time": "2021-11-17T18:21:30.169Z"
   },
   {
    "duration": 385,
    "start_time": "2021-11-17T18:21:30.332Z"
   },
   {
    "duration": 54,
    "start_time": "2021-11-17T18:21:30.722Z"
   },
   {
    "duration": 2753,
    "start_time": "2021-11-17T18:21:30.779Z"
   },
   {
    "duration": 64,
    "start_time": "2021-11-17T18:21:33.536Z"
   },
   {
    "duration": 236,
    "start_time": "2021-11-17T18:21:33.603Z"
   },
   {
    "duration": 1213,
    "start_time": "2021-11-17T18:21:33.842Z"
   },
   {
    "duration": 1429,
    "start_time": "2021-11-17T18:21:35.058Z"
   },
   {
    "duration": 3057,
    "start_time": "2021-11-17T18:21:36.490Z"
   },
   {
    "duration": 53,
    "start_time": "2021-11-17T18:21:39.550Z"
   },
   {
    "duration": 8931,
    "start_time": "2021-11-17T18:21:39.607Z"
   },
   {
    "duration": 163,
    "start_time": "2021-11-17T18:21:48.540Z"
   },
   {
    "duration": 121,
    "start_time": "2021-11-17T18:21:48.706Z"
   },
   {
    "duration": 31134,
    "start_time": "2021-11-17T18:21:48.832Z"
   },
   {
    "duration": 233,
    "start_time": "2021-11-17T18:22:19.969Z"
   },
   {
    "duration": 8,
    "start_time": "2021-11-17T18:22:20.206Z"
   },
   {
    "duration": 22798,
    "start_time": "2021-11-17T18:22:20.217Z"
   },
   {
    "duration": 306,
    "start_time": "2021-11-17T18:22:43.020Z"
   },
   {
    "duration": 77,
    "start_time": "2021-11-17T18:22:43.330Z"
   },
   {
    "duration": 137,
    "start_time": "2021-11-17T18:22:43.411Z"
   },
   {
    "duration": 7356,
    "start_time": "2021-11-17T18:22:43.550Z"
   },
   {
    "duration": 392,
    "start_time": "2021-11-17T18:22:50.910Z"
   },
   {
    "duration": 10,
    "start_time": "2021-11-17T18:22:51.305Z"
   },
   {
    "duration": 13930,
    "start_time": "2021-11-17T18:22:51.320Z"
   },
   {
    "duration": 518,
    "start_time": "2021-11-17T18:23:05.253Z"
   },
   {
    "duration": 7,
    "start_time": "2021-11-17T18:23:05.774Z"
   },
   {
    "duration": 194,
    "start_time": "2021-11-17T18:23:05.801Z"
   },
   {
    "duration": 4,
    "start_time": "2021-11-17T18:23:05.997Z"
   },
   {
    "duration": 5974,
    "start_time": "2021-11-17T18:23:06.005Z"
   },
   {
    "duration": 241,
    "start_time": "2021-11-17T18:23:11.982Z"
   },
   {
    "duration": 5,
    "start_time": "2021-11-17T18:23:12.225Z"
   },
   {
    "duration": 18594,
    "start_time": "2021-11-17T18:23:12.232Z"
   },
   {
    "duration": 184,
    "start_time": "2021-11-17T18:23:30.828Z"
   },
   {
    "duration": 6,
    "start_time": "2021-11-17T18:23:31.015Z"
   },
   {
    "duration": 18,
    "start_time": "2021-11-17T18:23:31.024Z"
   },
   {
    "duration": 236,
    "start_time": "2021-11-17T18:23:47.499Z"
   },
   {
    "duration": 215,
    "start_time": "2021-11-17T18:25:38.530Z"
   },
   {
    "duration": 208,
    "start_time": "2021-11-17T18:25:45.553Z"
   },
   {
    "duration": 213,
    "start_time": "2021-11-17T18:26:16.200Z"
   },
   {
    "duration": 129,
    "start_time": "2021-11-17T18:31:16.628Z"
   },
   {
    "duration": 6,
    "start_time": "2021-11-17T18:31:19.044Z"
   },
   {
    "duration": 568,
    "start_time": "2021-11-17T18:36:13.487Z"
   },
   {
    "duration": 368,
    "start_time": "2021-11-17T18:36:27.235Z"
   },
   {
    "duration": 3965,
    "start_time": "2021-11-17T18:36:45.053Z"
   },
   {
    "duration": 1699,
    "start_time": "2021-11-17T18:36:49.021Z"
   },
   {
    "duration": 906,
    "start_time": "2021-11-17T18:36:50.724Z"
   },
   {
    "duration": 7,
    "start_time": "2021-11-17T18:36:51.632Z"
   },
   {
    "duration": 210,
    "start_time": "2021-11-17T18:36:51.641Z"
   },
   {
    "duration": 669,
    "start_time": "2021-11-17T18:36:51.853Z"
   },
   {
    "duration": 703,
    "start_time": "2021-11-17T18:36:52.525Z"
   },
   {
    "duration": 1228,
    "start_time": "2021-11-17T18:36:53.232Z"
   },
   {
    "duration": 394,
    "start_time": "2021-11-17T18:36:54.465Z"
   },
   {
    "duration": 168,
    "start_time": "2021-11-17T18:36:54.863Z"
   },
   {
    "duration": 371,
    "start_time": "2021-11-17T18:36:55.034Z"
   },
   {
    "duration": 53,
    "start_time": "2021-11-17T18:36:55.407Z"
   },
   {
    "duration": 2768,
    "start_time": "2021-11-17T18:36:55.463Z"
   },
   {
    "duration": 44,
    "start_time": "2021-11-17T18:36:58.234Z"
   },
   {
    "duration": 1131,
    "start_time": "2021-11-17T18:36:58.281Z"
   },
   {
    "duration": 1490,
    "start_time": "2021-11-17T18:36:59.415Z"
   },
   {
    "duration": 2784,
    "start_time": "2021-11-17T18:37:00.909Z"
   },
   {
    "duration": 43,
    "start_time": "2021-11-17T18:37:03.700Z"
   },
   {
    "duration": 9096,
    "start_time": "2021-11-17T18:37:03.746Z"
   },
   {
    "duration": 152,
    "start_time": "2021-11-17T18:37:12.844Z"
   },
   {
    "duration": 6,
    "start_time": "2021-11-17T18:37:13.001Z"
   },
   {
    "duration": 31679,
    "start_time": "2021-11-17T18:37:13.010Z"
   },
   {
    "duration": 220,
    "start_time": "2021-11-17T18:37:44.692Z"
   },
   {
    "duration": 6,
    "start_time": "2021-11-17T18:37:44.915Z"
   },
   {
    "duration": 24899,
    "start_time": "2021-11-17T18:37:44.923Z"
   },
   {
    "duration": 280,
    "start_time": "2021-11-17T18:38:09.826Z"
   },
   {
    "duration": 87,
    "start_time": "2021-11-17T18:38:10.116Z"
   },
   {
    "duration": 52,
    "start_time": "2021-11-17T18:38:10.208Z"
   },
   {
    "duration": 6418,
    "start_time": "2021-11-17T18:38:10.263Z"
   },
   {
    "duration": 384,
    "start_time": "2021-11-17T18:38:16.683Z"
   },
   {
    "duration": 6,
    "start_time": "2021-11-17T18:38:17.069Z"
   },
   {
    "duration": 13793,
    "start_time": "2021-11-17T18:38:17.078Z"
   },
   {
    "duration": 404,
    "start_time": "2021-11-17T18:38:30.873Z"
   },
   {
    "duration": 6,
    "start_time": "2021-11-17T18:38:31.279Z"
   },
   {
    "duration": 207,
    "start_time": "2021-11-17T18:38:31.288Z"
   },
   {
    "duration": 4,
    "start_time": "2021-11-17T18:38:31.497Z"
   },
   {
    "duration": 5928,
    "start_time": "2021-11-17T18:38:31.504Z"
   },
   {
    "duration": 225,
    "start_time": "2021-11-17T18:38:37.435Z"
   },
   {
    "duration": 43,
    "start_time": "2021-11-17T18:38:37.663Z"
   },
   {
    "duration": 19109,
    "start_time": "2021-11-17T18:38:37.709Z"
   },
   {
    "duration": 205,
    "start_time": "2021-11-17T18:38:56.820Z"
   },
   {
    "duration": 6,
    "start_time": "2021-11-17T18:38:57.028Z"
   },
   {
    "duration": 65,
    "start_time": "2021-11-17T18:38:57.037Z"
   },
   {
    "duration": 3071,
    "start_time": "2021-11-17T18:38:57.109Z"
   },
   {
    "duration": 319,
    "start_time": "2021-11-17T18:39:00.182Z"
   },
   {
    "duration": 2930,
    "start_time": "2021-11-17T18:39:36.842Z"
   },
   {
    "duration": 18556,
    "start_time": "2021-11-17T18:40:06.234Z"
   },
   {
    "duration": 218,
    "start_time": "2021-11-17T18:40:24.792Z"
   },
   {
    "duration": 7,
    "start_time": "2021-11-17T18:40:25.016Z"
   },
   {
    "duration": 31,
    "start_time": "2021-11-17T18:40:25.026Z"
   },
   {
    "duration": 2803,
    "start_time": "2021-11-17T18:40:25.061Z"
   },
   {
    "duration": 319,
    "start_time": "2021-11-17T18:40:27.867Z"
   },
   {
    "duration": 3807,
    "start_time": "2021-11-17T18:41:54.242Z"
   },
   {
    "duration": 18604,
    "start_time": "2021-11-17T18:42:35.483Z"
   },
   {
    "duration": 2879,
    "start_time": "2021-11-17T18:42:54.091Z"
   },
   {
    "duration": 323,
    "start_time": "2021-11-17T18:42:56.973Z"
   },
   {
    "duration": 3268,
    "start_time": "2021-11-17T18:43:24.549Z"
   },
   {
    "duration": 1746,
    "start_time": "2021-11-17T18:43:27.820Z"
   },
   {
    "duration": 999,
    "start_time": "2021-11-17T18:43:29.569Z"
   },
   {
    "duration": 7,
    "start_time": "2021-11-17T18:43:30.571Z"
   },
   {
    "duration": 202,
    "start_time": "2021-11-17T18:43:30.580Z"
   },
   {
    "duration": 615,
    "start_time": "2021-11-17T18:43:30.785Z"
   },
   {
    "duration": 519,
    "start_time": "2021-11-17T18:43:31.403Z"
   },
   {
    "duration": 1188,
    "start_time": "2021-11-17T18:43:31.925Z"
   },
   {
    "duration": 349,
    "start_time": "2021-11-17T18:43:33.116Z"
   },
   {
    "duration": 146,
    "start_time": "2021-11-17T18:43:33.468Z"
   },
   {
    "duration": 349,
    "start_time": "2021-11-17T18:43:33.617Z"
   },
   {
    "duration": 61,
    "start_time": "2021-11-17T18:43:33.969Z"
   },
   {
    "duration": 2617,
    "start_time": "2021-11-17T18:43:34.032Z"
   },
   {
    "duration": 62,
    "start_time": "2021-11-17T18:43:36.651Z"
   },
   {
    "duration": 1053,
    "start_time": "2021-11-17T18:43:36.715Z"
   },
   {
    "duration": 1320,
    "start_time": "2021-11-17T18:43:37.771Z"
   },
   {
    "duration": 2733,
    "start_time": "2021-11-17T18:43:39.094Z"
   },
   {
    "duration": 8297,
    "start_time": "2021-11-17T18:43:41.829Z"
   },
   {
    "duration": 158,
    "start_time": "2021-11-17T18:43:50.128Z"
   },
   {
    "duration": 14,
    "start_time": "2021-11-17T18:43:50.289Z"
   },
   {
    "duration": 28836,
    "start_time": "2021-11-17T18:43:50.305Z"
   },
   {
    "duration": 227,
    "start_time": "2021-11-17T18:44:19.143Z"
   },
   {
    "duration": 6,
    "start_time": "2021-11-17T18:44:19.375Z"
   },
   {
    "duration": 27927,
    "start_time": "2021-11-17T18:44:19.384Z"
   },
   {
    "duration": 389,
    "start_time": "2021-11-17T18:44:47.313Z"
   },
   {
    "duration": 6,
    "start_time": "2021-11-17T18:44:47.705Z"
   },
   {
    "duration": 53,
    "start_time": "2021-11-17T18:44:47.714Z"
   },
   {
    "duration": 6174,
    "start_time": "2021-11-17T18:44:47.770Z"
   },
   {
    "duration": 374,
    "start_time": "2021-11-17T18:44:53.946Z"
   },
   {
    "duration": 5,
    "start_time": "2021-11-17T18:44:54.322Z"
   },
   {
    "duration": 13864,
    "start_time": "2021-11-17T18:44:54.330Z"
   },
   {
    "duration": 400,
    "start_time": "2021-11-17T18:45:08.196Z"
   },
   {
    "duration": 6,
    "start_time": "2021-11-17T18:45:08.598Z"
   },
   {
    "duration": 202,
    "start_time": "2021-11-17T18:45:08.607Z"
   },
   {
    "duration": 5,
    "start_time": "2021-11-17T18:45:08.811Z"
   },
   {
    "duration": 5729,
    "start_time": "2021-11-17T18:45:08.819Z"
   },
   {
    "duration": 167,
    "start_time": "2021-11-17T18:45:14.551Z"
   },
   {
    "duration": 5,
    "start_time": "2021-11-17T18:45:14.720Z"
   },
   {
    "duration": 18204,
    "start_time": "2021-11-17T18:45:14.727Z"
   },
   {
    "duration": 189,
    "start_time": "2021-11-17T18:45:32.934Z"
   },
   {
    "duration": 5,
    "start_time": "2021-11-17T18:45:33.125Z"
   },
   {
    "duration": 71,
    "start_time": "2021-11-17T18:45:33.133Z"
   },
   {
    "duration": 17888,
    "start_time": "2021-11-17T18:45:33.206Z"
   },
   {
    "duration": 3739,
    "start_time": "2021-11-17T18:45:51.097Z"
   },
   {
    "duration": 320,
    "start_time": "2021-11-17T18:45:54.839Z"
   },
   {
    "duration": 2959,
    "start_time": "2021-11-17T18:47:00.695Z"
   },
   {
    "duration": 3426,
    "start_time": "2021-11-17T18:48:16.465Z"
   },
   {
    "duration": 1866,
    "start_time": "2021-11-17T18:48:19.895Z"
   },
   {
    "duration": 926,
    "start_time": "2021-11-17T18:48:21.764Z"
   },
   {
    "duration": 13,
    "start_time": "2021-11-17T18:48:22.692Z"
   },
   {
    "duration": 209,
    "start_time": "2021-11-17T18:48:22.707Z"
   },
   {
    "duration": 614,
    "start_time": "2021-11-17T18:48:22.919Z"
   },
   {
    "duration": 549,
    "start_time": "2021-11-17T18:48:23.536Z"
   },
   {
    "duration": 1124,
    "start_time": "2021-11-17T18:48:24.089Z"
   },
   {
    "duration": 460,
    "start_time": "2021-11-17T18:48:25.216Z"
   },
   {
    "duration": 150,
    "start_time": "2021-11-17T18:48:25.679Z"
   },
   {
    "duration": 357,
    "start_time": "2021-11-17T18:48:25.831Z"
   },
   {
    "duration": 59,
    "start_time": "2021-11-17T18:48:26.190Z"
   },
   {
    "duration": 3151,
    "start_time": "2021-11-17T18:48:26.252Z"
   },
   {
    "duration": 47,
    "start_time": "2021-11-17T18:48:29.406Z"
   },
   {
    "duration": 1083,
    "start_time": "2021-11-17T18:48:29.455Z"
   },
   {
    "duration": 1635,
    "start_time": "2021-11-17T18:48:30.541Z"
   },
   {
    "duration": 2725,
    "start_time": "2021-11-17T18:48:32.179Z"
   },
   {
    "duration": 8595,
    "start_time": "2021-11-17T18:48:34.906Z"
   },
   {
    "duration": 156,
    "start_time": "2021-11-17T18:48:43.504Z"
   },
   {
    "duration": 7,
    "start_time": "2021-11-17T18:48:43.662Z"
   },
   {
    "duration": 29490,
    "start_time": "2021-11-17T18:48:43.671Z"
   },
   {
    "duration": 219,
    "start_time": "2021-11-17T18:49:13.163Z"
   },
   {
    "duration": 17,
    "start_time": "2021-11-17T18:49:13.387Z"
   },
   {
    "duration": 22894,
    "start_time": "2021-11-17T18:49:13.409Z"
   },
   {
    "duration": 200,
    "start_time": "2021-11-17T18:49:36.307Z"
   },
   {
    "duration": 90,
    "start_time": "2021-11-17T18:49:36.511Z"
   },
   {
    "duration": 140,
    "start_time": "2021-11-17T18:49:36.605Z"
   },
   {
    "duration": 7041,
    "start_time": "2021-11-17T18:49:36.748Z"
   },
   {
    "duration": 393,
    "start_time": "2021-11-17T18:49:43.791Z"
   },
   {
    "duration": 13,
    "start_time": "2021-11-17T18:49:44.187Z"
   },
   {
    "duration": 14017,
    "start_time": "2021-11-17T18:49:44.203Z"
   },
   {
    "duration": 415,
    "start_time": "2021-11-17T18:49:58.223Z"
   },
   {
    "duration": 5,
    "start_time": "2021-11-17T18:49:58.641Z"
   },
   {
    "duration": 208,
    "start_time": "2021-11-17T18:49:58.648Z"
   },
   {
    "duration": 4,
    "start_time": "2021-11-17T18:49:58.858Z"
   },
   {
    "duration": 5771,
    "start_time": "2021-11-17T18:49:58.864Z"
   },
   {
    "duration": 177,
    "start_time": "2021-11-17T18:50:04.638Z"
   },
   {
    "duration": 6,
    "start_time": "2021-11-17T18:50:04.818Z"
   },
   {
    "duration": 19283,
    "start_time": "2021-11-17T18:50:04.826Z"
   },
   {
    "duration": 219,
    "start_time": "2021-11-17T18:50:24.111Z"
   },
   {
    "duration": 8,
    "start_time": "2021-11-17T18:50:24.332Z"
   },
   {
    "duration": 73,
    "start_time": "2021-11-17T18:50:24.343Z"
   },
   {
    "duration": 3157,
    "start_time": "2021-11-17T18:50:24.418Z"
   },
   {
    "duration": 305,
    "start_time": "2021-11-17T18:50:27.577Z"
   },
   {
    "duration": 24,
    "start_time": "2021-11-17T18:51:21.772Z"
   },
   {
    "duration": 3909,
    "start_time": "2021-11-17T19:42:24.851Z"
   },
   {
    "duration": 7,
    "start_time": "2021-11-17T19:42:28.764Z"
   },
   {
    "duration": 854,
    "start_time": "2021-11-17T19:42:28.774Z"
   },
   {
    "duration": 7,
    "start_time": "2021-11-17T19:42:29.631Z"
   },
   {
    "duration": 214,
    "start_time": "2021-11-17T19:42:29.640Z"
   },
   {
    "duration": 618,
    "start_time": "2021-11-17T19:42:29.856Z"
   },
   {
    "duration": 502,
    "start_time": "2021-11-17T19:42:30.477Z"
   },
   {
    "duration": 1028,
    "start_time": "2021-11-17T19:42:30.983Z"
   },
   {
    "duration": 356,
    "start_time": "2021-11-17T19:42:32.014Z"
   },
   {
    "duration": 151,
    "start_time": "2021-11-17T19:42:32.373Z"
   },
   {
    "duration": 378,
    "start_time": "2021-11-17T19:42:32.526Z"
   },
   {
    "duration": 43,
    "start_time": "2021-11-17T19:42:32.907Z"
   },
   {
    "duration": 2022,
    "start_time": "2021-11-17T19:42:32.953Z"
   },
   {
    "duration": 61,
    "start_time": "2021-11-17T19:42:34.978Z"
   },
   {
    "duration": 1053,
    "start_time": "2021-11-17T19:42:35.041Z"
   },
   {
    "duration": 1303,
    "start_time": "2021-11-17T19:42:36.097Z"
   },
   {
    "duration": 2886,
    "start_time": "2021-11-17T19:44:11.101Z"
   },
   {
    "duration": 1315,
    "start_time": "2021-11-17T19:44:55.618Z"
   },
   {
    "duration": 8754,
    "start_time": "2021-11-17T19:46:28.040Z"
   },
   {
    "duration": 139,
    "start_time": "2021-11-17T19:46:41.094Z"
   },
   {
    "duration": 6,
    "start_time": "2021-11-17T19:46:53.855Z"
   },
   {
    "duration": 4212,
    "start_time": "2021-11-17T20:15:10.959Z"
   },
   {
    "duration": 6,
    "start_time": "2021-11-17T20:15:15.174Z"
   },
   {
    "duration": 869,
    "start_time": "2021-11-17T20:15:15.184Z"
   },
   {
    "duration": 6,
    "start_time": "2021-11-17T20:15:16.056Z"
   },
   {
    "duration": 192,
    "start_time": "2021-11-17T20:15:16.064Z"
   },
   {
    "duration": 750,
    "start_time": "2021-11-17T20:15:16.259Z"
   },
   {
    "duration": 591,
    "start_time": "2021-11-17T20:15:17.012Z"
   },
   {
    "duration": 1069,
    "start_time": "2021-11-17T20:15:17.607Z"
   },
   {
    "duration": 359,
    "start_time": "2021-11-17T20:15:18.679Z"
   },
   {
    "duration": 140,
    "start_time": "2021-11-17T20:15:19.041Z"
   },
   {
    "duration": 347,
    "start_time": "2021-11-17T20:15:19.184Z"
   },
   {
    "duration": 43,
    "start_time": "2021-11-17T20:15:19.534Z"
   },
   {
    "duration": 2068,
    "start_time": "2021-11-17T20:15:19.580Z"
   },
   {
    "duration": 53,
    "start_time": "2021-11-17T20:15:21.651Z"
   },
   {
    "duration": 1042,
    "start_time": "2021-11-17T20:15:21.706Z"
   },
   {
    "duration": 1325,
    "start_time": "2021-11-17T20:15:22.750Z"
   },
   {
    "duration": 2900,
    "start_time": "2021-11-17T20:15:24.077Z"
   },
   {
    "duration": 8328,
    "start_time": "2021-11-17T20:15:26.980Z"
   },
   {
    "duration": 160,
    "start_time": "2021-11-17T20:15:35.310Z"
   },
   {
    "duration": 6,
    "start_time": "2021-11-17T20:15:35.472Z"
   },
   {
    "duration": 28159,
    "start_time": "2021-11-17T20:15:35.480Z"
   },
   {
    "duration": 227,
    "start_time": "2021-11-17T20:16:03.643Z"
   },
   {
    "duration": 6,
    "start_time": "2021-11-17T20:16:03.877Z"
   },
   {
    "duration": 20221,
    "start_time": "2021-11-17T20:16:03.901Z"
   },
   {
    "duration": 282,
    "start_time": "2021-11-17T20:16:24.125Z"
   },
   {
    "duration": 93,
    "start_time": "2021-11-17T20:16:24.410Z"
   },
   {
    "duration": 120,
    "start_time": "2021-11-17T20:16:24.506Z"
   },
   {
    "duration": 6316,
    "start_time": "2021-11-17T20:16:24.629Z"
   },
   {
    "duration": 379,
    "start_time": "2021-11-17T20:16:30.948Z"
   },
   {
    "duration": 5,
    "start_time": "2021-11-17T20:16:31.330Z"
   },
   {
    "duration": 13377,
    "start_time": "2021-11-17T20:16:31.338Z"
   },
   {
    "duration": 414,
    "start_time": "2021-11-17T20:16:44.717Z"
   },
   {
    "duration": 6,
    "start_time": "2021-11-17T20:16:45.133Z"
   },
   {
    "duration": 249,
    "start_time": "2021-11-17T20:16:45.141Z"
   },
   {
    "duration": 4,
    "start_time": "2021-11-17T20:16:45.392Z"
   },
   {
    "duration": 4918,
    "start_time": "2021-11-17T20:16:45.401Z"
   },
   {
    "duration": 185,
    "start_time": "2021-11-17T20:16:50.322Z"
   },
   {
    "duration": 5,
    "start_time": "2021-11-17T20:16:50.510Z"
   },
   {
    "duration": 15331,
    "start_time": "2021-11-17T20:16:50.518Z"
   },
   {
    "duration": 167,
    "start_time": "2021-11-17T20:17:05.852Z"
   },
   {
    "duration": 8,
    "start_time": "2021-11-17T20:17:06.021Z"
   },
   {
    "duration": 18,
    "start_time": "2021-11-17T20:17:06.031Z"
   },
   {
    "duration": 254,
    "start_time": "2021-11-17T20:17:06.052Z"
   },
   {
    "duration": 6,
    "start_time": "2021-11-17T20:17:06.309Z"
   }
  ],
  "kernelspec": {
   "display_name": "Python 3",
   "language": "python",
   "name": "python3"
  },
  "language_info": {
   "codemirror_mode": {
    "name": "ipython",
    "version": 3
   },
   "file_extension": ".py",
   "mimetype": "text/x-python",
   "name": "python",
   "nbconvert_exporter": "python",
   "pygments_lexer": "ipython3",
   "version": "3.7.8"
  },
  "toc": {
   "base_numbering": 1,
   "nav_menu": {},
   "number_sections": true,
   "sideBar": true,
   "skip_h1_title": true,
   "title_cell": "Table of Contents",
   "title_sidebar": "Contents",
   "toc_cell": false,
   "toc_position": {
    "height": "calc(100% - 180px)",
    "left": "10px",
    "top": "150px",
    "width": "240px"
   },
   "toc_section_display": true,
   "toc_window_display": true
  }
 },
 "nbformat": 4,
 "nbformat_minor": 2
}
