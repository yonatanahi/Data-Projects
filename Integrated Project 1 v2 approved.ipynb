{
 "cells": [
  {
   "cell_type": "markdown",
   "metadata": {},
   "source": [
    "Hi Yonatan. I'm Svetlana and will review your project. I've added all my comments to new cells with different coloring. Please don't delete my comments.\n",
    "\n",
    "\n",
    "The first time I see a mistake, I'll just point it out and let you find it and fix it yourself. In a real job, your boss will do the same, and I'm trying to prepare you to work as an Data Analyst. But if you can't handle this task yet, I'll give you a more accurate hint at the next check.\n",
    "\n",
    "<div class=\"alert alert-success\" role=\"alert\">\n",
    "Reviewer's comment v. 1:\n",
    "    \n",
    "If you did something great I'm using green color for my comment\n",
    "</div>\n",
    "\n",
    "<div class=\"alert alert-warning\" role=\"alert\">\n",
    "Reviewer's comment v. 1:\n",
    "    \n",
    "If I want to give you advice or think that something can be improved, then I'll use yellow. This is an optional recommendation.\n",
    "</div>\n",
    "\n",
    "<div class=\"alert alert-danger\" role=\"alert\">\n",
    "Reviewer's comment v. 1:\n",
    "    \n",
    "If the topic requires some extra work so I can accept it then the color will be red\n",
    "</div>\n",
    "\n",
    "## Review v. 1<a class=\"tocSkip\">\n",
    "\n",
    "Thank you! Your project has been received. You've done a lot of work. Regrettably, your project is not quite ready for review. This is because the period of time for analysis is wrong. You've already done a lot, I am sure you can handle it!"
   ]
  },
  {
   "cell_type": "markdown",
   "metadata": {},
   "source": [
    "Hi Svetlana,\n",
    "\n",
    "Thank you for reviewing my project.\n",
    "\n",
    "I changed several things according to your comments.\n",
    "\n",
    "I hope it is better now :)\n",
    "\n",
    "Yonatan"
   ]
  },
  {
   "cell_type": "markdown",
   "metadata": {},
   "source": [
    "## Review v. 2<a class=\"tocSkip\">\n",
    "\n",
    "You've worked hard and now your project is perfect! Your project has passed code review. Congratulations! Well done!"
   ]
  },
  {
   "cell_type": "markdown",
   "metadata": {},
   "source": [
    "\n",
    "# Project  description \n",
    "You  work for  the  online  store Ice, which  sells  video  games  all  over  the world.  User and expert reviews,  genres,  platforms  (e.g. Xbox  or PlayStation),  and  historical  data on game  sales  are available  from  open sources.  You  need to identify  patterns  that  determine  whether  a game succeeds  or not.  This  will  allow  you  to spot potential  big  winners  and plan  advertising campaigns. \n",
    "\n",
    "In front of you is data going  back to 2016. Let’s imagine  that it’s December 2016 and you’re planning  a campaign  for  2017. \n",
    "\n",
    "The  important  thing  is  to get experience  working  with  data. It doesn't really  matter  whether you're  forecasting  2017 sales  based on data from  2016 or 2027 sales  based on data from  2026. The  dataset contains  the abbreviation  ESRB.  The  Entertainment  Software  Rating  Board evaluates  a game's  content  and assigns  an age rating  such  as Teen  or Mature. \n",
    "\n",
    "\n",
    "\n",
    "\n",
    "\n",
    "\n",
    "**Data description**\n",
    "* Name \n",
    "* Platform \n",
    "* Year_of_Release \n",
    "* Genre \n",
    "* NA_sales (North  American  sales  in  USD million) \n",
    "* EU_sales (sales  in  Europe  in  USD million) \n",
    "* JP_sales (sales  in  Japan in  USD million) \n",
    "* Other_sales (sales  in  other  countries  in  USD million) \n",
    "* Critic_Score (maximum  of 100) \n",
    "* User_Score (maximum  of 10) \n",
    "* Rating (ESRB) Data for  2016 may  be incomplete. "
   ]
  },
  {
   "cell_type": "markdown",
   "metadata": {},
   "source": [
    "# intruduction"
   ]
  },
  {
   "cell_type": "markdown",
   "metadata": {},
   "source": [
    "In this project, we will explore the dataset of games. \n",
    "\n",
    "First, we will do the preprocessing: missing values, converting data types etc.\n",
    "\n",
    "Afterwards, we will analize the data using differend kinds of plots and calcultions. \n",
    "\n",
    "In the next step, we will examine two hypotheses on the data:\n",
    "* Average user ratings of the Xbox One and PC platforms are the same.\n",
    "* Average user ratings for the Action and Sports genres are different.\n",
    "\n",
    "Finally, we will conclude the whole process.\n",
    "\n",
    "I hope, you will enjoy :)"
   ]
  },
  {
   "cell_type": "markdown",
   "metadata": {},
   "source": [
    "<div class=\"alert alert-success\" role=\"alert\">\n",
    "Reviewer's comment v. 1:\n",
    "    \n",
    "👍👍👍\n",
    "</div>"
   ]
  },
  {
   "cell_type": "markdown",
   "metadata": {},
   "source": [
    "## Open  the data file and study  the general information "
   ]
  },
  {
   "cell_type": "markdown",
   "metadata": {},
   "source": [
    "### Installs"
   ]
  },
  {
   "cell_type": "code",
   "execution_count": 1,
   "metadata": {},
   "outputs": [
    {
     "name": "stdout",
     "output_type": "stream",
     "text": [
      "Collecting sidetable\n",
      "  Downloading sidetable-0.8.0-py3-none-any.whl (15 kB)\n",
      "Collecting pandas>=1.0\n",
      "  Downloading pandas-1.3.0-cp37-cp37m-manylinux_2_5_x86_64.manylinux1_x86_64.whl (10.8 MB)\n",
      "\u001b[K     |████████████████████████████████| 10.8 MB 1.0 MB/s eta 0:00:01\n",
      "\u001b[?25hRequirement already satisfied: pytz>=2017.3 in /opt/conda/lib/python3.7/site-packages (from pandas>=1.0->sidetable) (2021.1)\n",
      "Requirement already satisfied: numpy>=1.17.3 in /opt/conda/lib/python3.7/site-packages (from pandas>=1.0->sidetable) (1.19.5)\n",
      "Requirement already satisfied: python-dateutil>=2.7.3 in /opt/conda/lib/python3.7/site-packages (from pandas>=1.0->sidetable) (2.8.1)\n",
      "Requirement already satisfied: six>=1.5 in /opt/conda/lib/python3.7/site-packages (from python-dateutil>=2.7.3->pandas>=1.0->sidetable) (1.15.0)\n",
      "Installing collected packages: pandas, sidetable\n",
      "Successfully installed pandas-1.3.0 sidetable-0.8.0\n",
      "Defaulting to user installation because normal site-packages is not writeable\n",
      "Collecting squarify\n",
      "  Downloading squarify-0.4.3-py3-none-any.whl (4.3 kB)\n",
      "Installing collected packages: squarify\n",
      "Successfully installed squarify-0.4.3\n"
     ]
    }
   ],
   "source": [
    "!pip install --user sidetable\n",
    "!pip install squarify"
   ]
  },
  {
   "cell_type": "markdown",
   "metadata": {},
   "source": [
    "### Imports"
   ]
  },
  {
   "cell_type": "code",
   "execution_count": 2,
   "metadata": {},
   "outputs": [
    {
     "name": "stderr",
     "output_type": "stream",
     "text": [
      "/opt/conda/lib/python3.7/site-packages/statsmodels/tools/_testing.py:19: FutureWarning: pandas.util.testing is deprecated. Use the functions in the public API at pandas.testing instead.\n",
      "  import pandas.util.testing as tm\n"
     ]
    }
   ],
   "source": [
    "import pandas as pd\n",
    "import numpy as np\n",
    "from scipy import stats as st\n",
    "import matplotlib.pyplot as plt \n",
    "import seaborn as sns\n",
    "import sidetable\n",
    "import squarify\n",
    "import warnings\n",
    "warnings.simplefilter('ignore')"
   ]
  },
  {
   "cell_type": "code",
   "execution_count": 3,
   "metadata": {},
   "outputs": [
    {
     "data": {
      "text/html": [
       "<div>\n",
       "<style scoped>\n",
       "    .dataframe tbody tr th:only-of-type {\n",
       "        vertical-align: middle;\n",
       "    }\n",
       "\n",
       "    .dataframe tbody tr th {\n",
       "        vertical-align: top;\n",
       "    }\n",
       "\n",
       "    .dataframe thead th {\n",
       "        text-align: right;\n",
       "    }\n",
       "</style>\n",
       "<table border=\"1\" class=\"dataframe\">\n",
       "  <thead>\n",
       "    <tr style=\"text-align: right;\">\n",
       "      <th></th>\n",
       "      <th>Name</th>\n",
       "      <th>Platform</th>\n",
       "      <th>Year_of_Release</th>\n",
       "      <th>Genre</th>\n",
       "      <th>NA_sales</th>\n",
       "      <th>EU_sales</th>\n",
       "      <th>JP_sales</th>\n",
       "      <th>Other_sales</th>\n",
       "      <th>Critic_Score</th>\n",
       "      <th>User_Score</th>\n",
       "      <th>Rating</th>\n",
       "    </tr>\n",
       "  </thead>\n",
       "  <tbody>\n",
       "    <tr>\n",
       "      <th>8934</th>\n",
       "      <td>Hoppechan: Tsukutte! Asonde! Punipuni Town!!</td>\n",
       "      <td>3DS</td>\n",
       "      <td>2013.0</td>\n",
       "      <td>Action</td>\n",
       "      <td>0.00</td>\n",
       "      <td>0.00</td>\n",
       "      <td>0.15</td>\n",
       "      <td>0.00</td>\n",
       "      <td>NaN</td>\n",
       "      <td>NaN</td>\n",
       "      <td>NaN</td>\n",
       "    </tr>\n",
       "    <tr>\n",
       "      <th>15776</th>\n",
       "      <td>Rogue Trooper</td>\n",
       "      <td>XB</td>\n",
       "      <td>2006.0</td>\n",
       "      <td>Shooter</td>\n",
       "      <td>0.01</td>\n",
       "      <td>0.00</td>\n",
       "      <td>0.00</td>\n",
       "      <td>0.00</td>\n",
       "      <td>71.0</td>\n",
       "      <td>8.5</td>\n",
       "      <td>T</td>\n",
       "    </tr>\n",
       "    <tr>\n",
       "      <th>12132</th>\n",
       "      <td>Goodbye Deponia</td>\n",
       "      <td>PC</td>\n",
       "      <td>2013.0</td>\n",
       "      <td>Adventure</td>\n",
       "      <td>0.00</td>\n",
       "      <td>0.06</td>\n",
       "      <td>0.00</td>\n",
       "      <td>0.00</td>\n",
       "      <td>80.0</td>\n",
       "      <td>7.9</td>\n",
       "      <td>NaN</td>\n",
       "    </tr>\n",
       "    <tr>\n",
       "      <th>4136</th>\n",
       "      <td>Dynasty Warriors Gundam</td>\n",
       "      <td>PS3</td>\n",
       "      <td>2007.0</td>\n",
       "      <td>Action</td>\n",
       "      <td>0.14</td>\n",
       "      <td>0.01</td>\n",
       "      <td>0.31</td>\n",
       "      <td>0.02</td>\n",
       "      <td>60.0</td>\n",
       "      <td>6.9</td>\n",
       "      <td>T</td>\n",
       "    </tr>\n",
       "    <tr>\n",
       "      <th>16429</th>\n",
       "      <td>Greg Hastings' Tournament Paintball Max'd</td>\n",
       "      <td>PS2</td>\n",
       "      <td>2006.0</td>\n",
       "      <td>Shooter</td>\n",
       "      <td>0.01</td>\n",
       "      <td>0.00</td>\n",
       "      <td>0.00</td>\n",
       "      <td>0.00</td>\n",
       "      <td>70.0</td>\n",
       "      <td>9.2</td>\n",
       "      <td>E10+</td>\n",
       "    </tr>\n",
       "    <tr>\n",
       "      <th>1957</th>\n",
       "      <td>Darksiders</td>\n",
       "      <td>X360</td>\n",
       "      <td>2010.0</td>\n",
       "      <td>Action</td>\n",
       "      <td>0.67</td>\n",
       "      <td>0.28</td>\n",
       "      <td>0.01</td>\n",
       "      <td>0.10</td>\n",
       "      <td>83.0</td>\n",
       "      <td>7.9</td>\n",
       "      <td>M</td>\n",
       "    </tr>\n",
       "    <tr>\n",
       "      <th>2126</th>\n",
       "      <td>Mass Effect 3</td>\n",
       "      <td>PC</td>\n",
       "      <td>2012.0</td>\n",
       "      <td>Role-Playing</td>\n",
       "      <td>0.40</td>\n",
       "      <td>0.44</td>\n",
       "      <td>0.00</td>\n",
       "      <td>0.12</td>\n",
       "      <td>89.0</td>\n",
       "      <td>5.5</td>\n",
       "      <td>M</td>\n",
       "    </tr>\n",
       "    <tr>\n",
       "      <th>14136</th>\n",
       "      <td>Luminous Arc 3</td>\n",
       "      <td>DS</td>\n",
       "      <td>2009.0</td>\n",
       "      <td>Role-Playing</td>\n",
       "      <td>0.00</td>\n",
       "      <td>0.00</td>\n",
       "      <td>0.04</td>\n",
       "      <td>0.00</td>\n",
       "      <td>NaN</td>\n",
       "      <td>NaN</td>\n",
       "      <td>NaN</td>\n",
       "    </tr>\n",
       "    <tr>\n",
       "      <th>1019</th>\n",
       "      <td>Star Wars Episode I: The Phantom Menace</td>\n",
       "      <td>PS</td>\n",
       "      <td>1999.0</td>\n",
       "      <td>Adventure</td>\n",
       "      <td>0.72</td>\n",
       "      <td>0.89</td>\n",
       "      <td>0.04</td>\n",
       "      <td>0.10</td>\n",
       "      <td>NaN</td>\n",
       "      <td>NaN</td>\n",
       "      <td>NaN</td>\n",
       "    </tr>\n",
       "    <tr>\n",
       "      <th>7382</th>\n",
       "      <td>The Fairly OddParents: Breakin' Da Rules</td>\n",
       "      <td>GC</td>\n",
       "      <td>2003.0</td>\n",
       "      <td>Platform</td>\n",
       "      <td>0.16</td>\n",
       "      <td>0.04</td>\n",
       "      <td>0.00</td>\n",
       "      <td>0.01</td>\n",
       "      <td>NaN</td>\n",
       "      <td>NaN</td>\n",
       "      <td>NaN</td>\n",
       "    </tr>\n",
       "  </tbody>\n",
       "</table>\n",
       "</div>"
      ],
      "text/plain": [
       "                                               Name Platform  Year_of_Release  \\\n",
       "8934   Hoppechan: Tsukutte! Asonde! Punipuni Town!!      3DS           2013.0   \n",
       "15776                                 Rogue Trooper       XB           2006.0   \n",
       "12132                               Goodbye Deponia       PC           2013.0   \n",
       "4136                        Dynasty Warriors Gundam      PS3           2007.0   \n",
       "16429     Greg Hastings' Tournament Paintball Max'd      PS2           2006.0   \n",
       "1957                                     Darksiders     X360           2010.0   \n",
       "2126                                  Mass Effect 3       PC           2012.0   \n",
       "14136                                Luminous Arc 3       DS           2009.0   \n",
       "1019        Star Wars Episode I: The Phantom Menace       PS           1999.0   \n",
       "7382       The Fairly OddParents: Breakin' Da Rules       GC           2003.0   \n",
       "\n",
       "              Genre  NA_sales  EU_sales  JP_sales  Other_sales  Critic_Score  \\\n",
       "8934         Action      0.00      0.00      0.15         0.00           NaN   \n",
       "15776       Shooter      0.01      0.00      0.00         0.00          71.0   \n",
       "12132     Adventure      0.00      0.06      0.00         0.00          80.0   \n",
       "4136         Action      0.14      0.01      0.31         0.02          60.0   \n",
       "16429       Shooter      0.01      0.00      0.00         0.00          70.0   \n",
       "1957         Action      0.67      0.28      0.01         0.10          83.0   \n",
       "2126   Role-Playing      0.40      0.44      0.00         0.12          89.0   \n",
       "14136  Role-Playing      0.00      0.00      0.04         0.00           NaN   \n",
       "1019      Adventure      0.72      0.89      0.04         0.10           NaN   \n",
       "7382       Platform      0.16      0.04      0.00         0.01           NaN   \n",
       "\n",
       "      User_Score Rating  \n",
       "8934         NaN    NaN  \n",
       "15776        8.5      T  \n",
       "12132        7.9    NaN  \n",
       "4136         6.9      T  \n",
       "16429        9.2   E10+  \n",
       "1957         7.9      M  \n",
       "2126         5.5      M  \n",
       "14136        NaN    NaN  \n",
       "1019         NaN    NaN  \n",
       "7382         NaN    NaN  "
      ]
     },
     "execution_count": 3,
     "metadata": {},
     "output_type": "execute_result"
    }
   ],
   "source": [
    "try:\n",
    "    df = pd.read_csv('/Users/yonatan/Desktop/Practicum/Integrated Project 1/games.csv')\n",
    "\n",
    "except:\n",
    "    df = pd.read_csv('/datasets/games.csv')\n",
    "\n",
    "df.sample(10)    "
   ]
  },
  {
   "cell_type": "markdown",
   "metadata": {},
   "source": [
    "<div class=\"alert alert-success\" role=\"alert\">\n",
    "Reviewer's comment v. 1:\n",
    "    \n",
    "It's a really good idea to use try-except for the path to the file in case of local work.\n",
    "</div>"
   ]
  },
  {
   "cell_type": "markdown",
   "metadata": {},
   "source": [
    "### DataFrame info"
   ]
  },
  {
   "cell_type": "code",
   "execution_count": 4,
   "metadata": {},
   "outputs": [
    {
     "name": "stdout",
     "output_type": "stream",
     "text": [
      "<class 'pandas.core.frame.DataFrame'>\n",
      "RangeIndex: 16715 entries, 0 to 16714\n",
      "Data columns (total 11 columns):\n",
      " #   Column           Non-Null Count  Dtype  \n",
      "---  ------           --------------  -----  \n",
      " 0   Name             16713 non-null  object \n",
      " 1   Platform         16715 non-null  object \n",
      " 2   Year_of_Release  16446 non-null  float64\n",
      " 3   Genre            16713 non-null  object \n",
      " 4   NA_sales         16715 non-null  float64\n",
      " 5   EU_sales         16715 non-null  float64\n",
      " 6   JP_sales         16715 non-null  float64\n",
      " 7   Other_sales      16715 non-null  float64\n",
      " 8   Critic_Score     8137 non-null   float64\n",
      " 9   User_Score       10014 non-null  object \n",
      " 10  Rating           9949 non-null   object \n",
      "dtypes: float64(6), object(5)\n",
      "memory usage: 1.4+ MB\n"
     ]
    }
   ],
   "source": [
    "df.info()"
   ]
  },
  {
   "cell_type": "code",
   "execution_count": 5,
   "metadata": {
    "scrolled": true
   },
   "outputs": [
    {
     "data": {
      "text/html": [
       "<div>\n",
       "<style scoped>\n",
       "    .dataframe tbody tr th:only-of-type {\n",
       "        vertical-align: middle;\n",
       "    }\n",
       "\n",
       "    .dataframe tbody tr th {\n",
       "        vertical-align: top;\n",
       "    }\n",
       "\n",
       "    .dataframe thead th {\n",
       "        text-align: right;\n",
       "    }\n",
       "</style>\n",
       "<table border=\"1\" class=\"dataframe\">\n",
       "  <thead>\n",
       "    <tr style=\"text-align: right;\">\n",
       "      <th></th>\n",
       "      <th>Name</th>\n",
       "      <th>Platform</th>\n",
       "      <th>Year_of_Release</th>\n",
       "      <th>Genre</th>\n",
       "      <th>NA_sales</th>\n",
       "      <th>EU_sales</th>\n",
       "      <th>JP_sales</th>\n",
       "      <th>Other_sales</th>\n",
       "      <th>Critic_Score</th>\n",
       "      <th>User_Score</th>\n",
       "      <th>Rating</th>\n",
       "    </tr>\n",
       "  </thead>\n",
       "  <tbody>\n",
       "    <tr>\n",
       "      <th>count</th>\n",
       "      <td>16713</td>\n",
       "      <td>16715</td>\n",
       "      <td>16446.000000</td>\n",
       "      <td>16713</td>\n",
       "      <td>16715.000000</td>\n",
       "      <td>16715.000000</td>\n",
       "      <td>16715.000000</td>\n",
       "      <td>16715.000000</td>\n",
       "      <td>8137.000000</td>\n",
       "      <td>10014</td>\n",
       "      <td>9949</td>\n",
       "    </tr>\n",
       "    <tr>\n",
       "      <th>unique</th>\n",
       "      <td>11559</td>\n",
       "      <td>31</td>\n",
       "      <td>NaN</td>\n",
       "      <td>12</td>\n",
       "      <td>NaN</td>\n",
       "      <td>NaN</td>\n",
       "      <td>NaN</td>\n",
       "      <td>NaN</td>\n",
       "      <td>NaN</td>\n",
       "      <td>96</td>\n",
       "      <td>8</td>\n",
       "    </tr>\n",
       "    <tr>\n",
       "      <th>top</th>\n",
       "      <td>Need for Speed: Most Wanted</td>\n",
       "      <td>PS2</td>\n",
       "      <td>NaN</td>\n",
       "      <td>Action</td>\n",
       "      <td>NaN</td>\n",
       "      <td>NaN</td>\n",
       "      <td>NaN</td>\n",
       "      <td>NaN</td>\n",
       "      <td>NaN</td>\n",
       "      <td>tbd</td>\n",
       "      <td>E</td>\n",
       "    </tr>\n",
       "    <tr>\n",
       "      <th>freq</th>\n",
       "      <td>12</td>\n",
       "      <td>2161</td>\n",
       "      <td>NaN</td>\n",
       "      <td>3369</td>\n",
       "      <td>NaN</td>\n",
       "      <td>NaN</td>\n",
       "      <td>NaN</td>\n",
       "      <td>NaN</td>\n",
       "      <td>NaN</td>\n",
       "      <td>2424</td>\n",
       "      <td>3990</td>\n",
       "    </tr>\n",
       "    <tr>\n",
       "      <th>mean</th>\n",
       "      <td>NaN</td>\n",
       "      <td>NaN</td>\n",
       "      <td>2006.484616</td>\n",
       "      <td>NaN</td>\n",
       "      <td>0.263377</td>\n",
       "      <td>0.145060</td>\n",
       "      <td>0.077617</td>\n",
       "      <td>0.047342</td>\n",
       "      <td>68.967679</td>\n",
       "      <td>NaN</td>\n",
       "      <td>NaN</td>\n",
       "    </tr>\n",
       "    <tr>\n",
       "      <th>std</th>\n",
       "      <td>NaN</td>\n",
       "      <td>NaN</td>\n",
       "      <td>5.877050</td>\n",
       "      <td>NaN</td>\n",
       "      <td>0.813604</td>\n",
       "      <td>0.503339</td>\n",
       "      <td>0.308853</td>\n",
       "      <td>0.186731</td>\n",
       "      <td>13.938165</td>\n",
       "      <td>NaN</td>\n",
       "      <td>NaN</td>\n",
       "    </tr>\n",
       "    <tr>\n",
       "      <th>min</th>\n",
       "      <td>NaN</td>\n",
       "      <td>NaN</td>\n",
       "      <td>1980.000000</td>\n",
       "      <td>NaN</td>\n",
       "      <td>0.000000</td>\n",
       "      <td>0.000000</td>\n",
       "      <td>0.000000</td>\n",
       "      <td>0.000000</td>\n",
       "      <td>13.000000</td>\n",
       "      <td>NaN</td>\n",
       "      <td>NaN</td>\n",
       "    </tr>\n",
       "    <tr>\n",
       "      <th>25%</th>\n",
       "      <td>NaN</td>\n",
       "      <td>NaN</td>\n",
       "      <td>2003.000000</td>\n",
       "      <td>NaN</td>\n",
       "      <td>0.000000</td>\n",
       "      <td>0.000000</td>\n",
       "      <td>0.000000</td>\n",
       "      <td>0.000000</td>\n",
       "      <td>60.000000</td>\n",
       "      <td>NaN</td>\n",
       "      <td>NaN</td>\n",
       "    </tr>\n",
       "    <tr>\n",
       "      <th>50%</th>\n",
       "      <td>NaN</td>\n",
       "      <td>NaN</td>\n",
       "      <td>2007.000000</td>\n",
       "      <td>NaN</td>\n",
       "      <td>0.080000</td>\n",
       "      <td>0.020000</td>\n",
       "      <td>0.000000</td>\n",
       "      <td>0.010000</td>\n",
       "      <td>71.000000</td>\n",
       "      <td>NaN</td>\n",
       "      <td>NaN</td>\n",
       "    </tr>\n",
       "    <tr>\n",
       "      <th>75%</th>\n",
       "      <td>NaN</td>\n",
       "      <td>NaN</td>\n",
       "      <td>2010.000000</td>\n",
       "      <td>NaN</td>\n",
       "      <td>0.240000</td>\n",
       "      <td>0.110000</td>\n",
       "      <td>0.040000</td>\n",
       "      <td>0.030000</td>\n",
       "      <td>79.000000</td>\n",
       "      <td>NaN</td>\n",
       "      <td>NaN</td>\n",
       "    </tr>\n",
       "    <tr>\n",
       "      <th>max</th>\n",
       "      <td>NaN</td>\n",
       "      <td>NaN</td>\n",
       "      <td>2016.000000</td>\n",
       "      <td>NaN</td>\n",
       "      <td>41.360000</td>\n",
       "      <td>28.960000</td>\n",
       "      <td>10.220000</td>\n",
       "      <td>10.570000</td>\n",
       "      <td>98.000000</td>\n",
       "      <td>NaN</td>\n",
       "      <td>NaN</td>\n",
       "    </tr>\n",
       "  </tbody>\n",
       "</table>\n",
       "</div>"
      ],
      "text/plain": [
       "                               Name Platform  Year_of_Release   Genre  \\\n",
       "count                         16713    16715     16446.000000   16713   \n",
       "unique                        11559       31              NaN      12   \n",
       "top     Need for Speed: Most Wanted      PS2              NaN  Action   \n",
       "freq                             12     2161              NaN    3369   \n",
       "mean                            NaN      NaN      2006.484616     NaN   \n",
       "std                             NaN      NaN         5.877050     NaN   \n",
       "min                             NaN      NaN      1980.000000     NaN   \n",
       "25%                             NaN      NaN      2003.000000     NaN   \n",
       "50%                             NaN      NaN      2007.000000     NaN   \n",
       "75%                             NaN      NaN      2010.000000     NaN   \n",
       "max                             NaN      NaN      2016.000000     NaN   \n",
       "\n",
       "            NA_sales      EU_sales      JP_sales   Other_sales  Critic_Score  \\\n",
       "count   16715.000000  16715.000000  16715.000000  16715.000000   8137.000000   \n",
       "unique           NaN           NaN           NaN           NaN           NaN   \n",
       "top              NaN           NaN           NaN           NaN           NaN   \n",
       "freq             NaN           NaN           NaN           NaN           NaN   \n",
       "mean        0.263377      0.145060      0.077617      0.047342     68.967679   \n",
       "std         0.813604      0.503339      0.308853      0.186731     13.938165   \n",
       "min         0.000000      0.000000      0.000000      0.000000     13.000000   \n",
       "25%         0.000000      0.000000      0.000000      0.000000     60.000000   \n",
       "50%         0.080000      0.020000      0.000000      0.010000     71.000000   \n",
       "75%         0.240000      0.110000      0.040000      0.030000     79.000000   \n",
       "max        41.360000     28.960000     10.220000     10.570000     98.000000   \n",
       "\n",
       "       User_Score Rating  \n",
       "count       10014   9949  \n",
       "unique         96      8  \n",
       "top           tbd      E  \n",
       "freq         2424   3990  \n",
       "mean          NaN    NaN  \n",
       "std           NaN    NaN  \n",
       "min           NaN    NaN  \n",
       "25%           NaN    NaN  \n",
       "50%           NaN    NaN  \n",
       "75%           NaN    NaN  \n",
       "max           NaN    NaN  "
      ]
     },
     "execution_count": 5,
     "metadata": {},
     "output_type": "execute_result"
    }
   ],
   "source": [
    "df.describe(include='all')"
   ]
  },
  {
   "cell_type": "markdown",
   "metadata": {},
   "source": [
    "### Conclusion"
   ]
  },
  {
   "cell_type": "markdown",
   "metadata": {},
   "source": [
    "Problems in the dataset: missing values, upper and lower cases, converting data types of several columns."
   ]
  },
  {
   "cell_type": "markdown",
   "metadata": {},
   "source": [
    "<div class=\"alert alert-success\" role=\"alert\">\n",
    "Reviewer's comment v. 1:\n",
    "    \n",
    "Yes, you correctly noted the main problems with data.\n",
    "</div>"
   ]
  },
  {
   "cell_type": "markdown",
   "metadata": {},
   "source": [
    "## Prepare  the data "
   ]
  },
  {
   "cell_type": "markdown",
   "metadata": {},
   "source": [
    "### Replace the column names to lowercase"
   ]
  },
  {
   "cell_type": "code",
   "execution_count": 6,
   "metadata": {},
   "outputs": [],
   "source": [
    "df.columns = df.columns.str.lower()\n",
    "df.name = df.name.str.lower()\n",
    "df.platform = df.platform.str.lower()\n",
    "df.genre = df.genre.str.lower()"
   ]
  },
  {
   "cell_type": "markdown",
   "metadata": {},
   "source": [
    "<div class=\"alert alert-success\" role=\"alert\">\n",
    "Reviewer's comment v. 1:\n",
    "    \n",
    "It's great that you bring columns to the lower case.\n",
    "</div>"
   ]
  },
  {
   "cell_type": "code",
   "execution_count": 7,
   "metadata": {},
   "outputs": [
    {
     "data": {
      "text/plain": [
       "Index(['name', 'platform', 'year_of_release', 'genre', 'na_sales', 'eu_sales',\n",
       "       'jp_sales', 'other_sales', 'critic_score', 'user_score', 'rating'],\n",
       "      dtype='object')"
      ]
     },
     "execution_count": 7,
     "metadata": {},
     "output_type": "execute_result"
    }
   ],
   "source": [
    "df.columns"
   ]
  },
  {
   "cell_type": "markdown",
   "metadata": {},
   "source": [
    "In order to deal with case sensitivity, we lowered the case in several columns in addition to columns names."
   ]
  },
  {
   "cell_type": "markdown",
   "metadata": {},
   "source": [
    "### Missing values"
   ]
  },
  {
   "cell_type": "markdown",
   "metadata": {},
   "source": [
    "Let's check the percentage of missing values in our DataFrame:"
   ]
  },
  {
   "cell_type": "code",
   "execution_count": 8,
   "metadata": {
    "scrolled": false
   },
   "outputs": [
    {
     "data": {
      "text/html": [
       "<style type=\"text/css\">\n",
       "</style>\n",
       "<table id=\"T_2bc0e_\">\n",
       "  <thead>\n",
       "    <tr>\n",
       "      <th class=\"blank level0\" >&nbsp;</th>\n",
       "      <th class=\"col_heading level0 col0\" >missing</th>\n",
       "      <th class=\"col_heading level0 col1\" >total</th>\n",
       "      <th class=\"col_heading level0 col2\" >percent</th>\n",
       "    </tr>\n",
       "  </thead>\n",
       "  <tbody>\n",
       "    <tr>\n",
       "      <th id=\"T_2bc0e_level0_row0\" class=\"row_heading level0 row0\" >critic_score</th>\n",
       "      <td id=\"T_2bc0e_row0_col0\" class=\"data row0 col0\" >8,578</td>\n",
       "      <td id=\"T_2bc0e_row0_col1\" class=\"data row0 col1\" >16,715</td>\n",
       "      <td id=\"T_2bc0e_row0_col2\" class=\"data row0 col2\" >51.32%</td>\n",
       "    </tr>\n",
       "    <tr>\n",
       "      <th id=\"T_2bc0e_level0_row1\" class=\"row_heading level0 row1\" >rating</th>\n",
       "      <td id=\"T_2bc0e_row1_col0\" class=\"data row1 col0\" >6,766</td>\n",
       "      <td id=\"T_2bc0e_row1_col1\" class=\"data row1 col1\" >16,715</td>\n",
       "      <td id=\"T_2bc0e_row1_col2\" class=\"data row1 col2\" >40.48%</td>\n",
       "    </tr>\n",
       "    <tr>\n",
       "      <th id=\"T_2bc0e_level0_row2\" class=\"row_heading level0 row2\" >user_score</th>\n",
       "      <td id=\"T_2bc0e_row2_col0\" class=\"data row2 col0\" >6,701</td>\n",
       "      <td id=\"T_2bc0e_row2_col1\" class=\"data row2 col1\" >16,715</td>\n",
       "      <td id=\"T_2bc0e_row2_col2\" class=\"data row2 col2\" >40.09%</td>\n",
       "    </tr>\n",
       "    <tr>\n",
       "      <th id=\"T_2bc0e_level0_row3\" class=\"row_heading level0 row3\" >year_of_release</th>\n",
       "      <td id=\"T_2bc0e_row3_col0\" class=\"data row3 col0\" >269</td>\n",
       "      <td id=\"T_2bc0e_row3_col1\" class=\"data row3 col1\" >16,715</td>\n",
       "      <td id=\"T_2bc0e_row3_col2\" class=\"data row3 col2\" >1.61%</td>\n",
       "    </tr>\n",
       "    <tr>\n",
       "      <th id=\"T_2bc0e_level0_row4\" class=\"row_heading level0 row4\" >name</th>\n",
       "      <td id=\"T_2bc0e_row4_col0\" class=\"data row4 col0\" >2</td>\n",
       "      <td id=\"T_2bc0e_row4_col1\" class=\"data row4 col1\" >16,715</td>\n",
       "      <td id=\"T_2bc0e_row4_col2\" class=\"data row4 col2\" >0.01%</td>\n",
       "    </tr>\n",
       "    <tr>\n",
       "      <th id=\"T_2bc0e_level0_row5\" class=\"row_heading level0 row5\" >genre</th>\n",
       "      <td id=\"T_2bc0e_row5_col0\" class=\"data row5 col0\" >2</td>\n",
       "      <td id=\"T_2bc0e_row5_col1\" class=\"data row5 col1\" >16,715</td>\n",
       "      <td id=\"T_2bc0e_row5_col2\" class=\"data row5 col2\" >0.01%</td>\n",
       "    </tr>\n",
       "    <tr>\n",
       "      <th id=\"T_2bc0e_level0_row6\" class=\"row_heading level0 row6\" >platform</th>\n",
       "      <td id=\"T_2bc0e_row6_col0\" class=\"data row6 col0\" >0</td>\n",
       "      <td id=\"T_2bc0e_row6_col1\" class=\"data row6 col1\" >16,715</td>\n",
       "      <td id=\"T_2bc0e_row6_col2\" class=\"data row6 col2\" >0.00%</td>\n",
       "    </tr>\n",
       "    <tr>\n",
       "      <th id=\"T_2bc0e_level0_row7\" class=\"row_heading level0 row7\" >na_sales</th>\n",
       "      <td id=\"T_2bc0e_row7_col0\" class=\"data row7 col0\" >0</td>\n",
       "      <td id=\"T_2bc0e_row7_col1\" class=\"data row7 col1\" >16,715</td>\n",
       "      <td id=\"T_2bc0e_row7_col2\" class=\"data row7 col2\" >0.00%</td>\n",
       "    </tr>\n",
       "    <tr>\n",
       "      <th id=\"T_2bc0e_level0_row8\" class=\"row_heading level0 row8\" >eu_sales</th>\n",
       "      <td id=\"T_2bc0e_row8_col0\" class=\"data row8 col0\" >0</td>\n",
       "      <td id=\"T_2bc0e_row8_col1\" class=\"data row8 col1\" >16,715</td>\n",
       "      <td id=\"T_2bc0e_row8_col2\" class=\"data row8 col2\" >0.00%</td>\n",
       "    </tr>\n",
       "    <tr>\n",
       "      <th id=\"T_2bc0e_level0_row9\" class=\"row_heading level0 row9\" >jp_sales</th>\n",
       "      <td id=\"T_2bc0e_row9_col0\" class=\"data row9 col0\" >0</td>\n",
       "      <td id=\"T_2bc0e_row9_col1\" class=\"data row9 col1\" >16,715</td>\n",
       "      <td id=\"T_2bc0e_row9_col2\" class=\"data row9 col2\" >0.00%</td>\n",
       "    </tr>\n",
       "    <tr>\n",
       "      <th id=\"T_2bc0e_level0_row10\" class=\"row_heading level0 row10\" >other_sales</th>\n",
       "      <td id=\"T_2bc0e_row10_col0\" class=\"data row10 col0\" >0</td>\n",
       "      <td id=\"T_2bc0e_row10_col1\" class=\"data row10 col1\" >16,715</td>\n",
       "      <td id=\"T_2bc0e_row10_col2\" class=\"data row10 col2\" >0.00%</td>\n",
       "    </tr>\n",
       "  </tbody>\n",
       "</table>\n"
      ],
      "text/plain": [
       "<pandas.io.formats.style.Styler at 0x7fd96de735d0>"
      ]
     },
     "execution_count": 8,
     "metadata": {},
     "output_type": "execute_result"
    }
   ],
   "source": [
    "df.stb.missing(style=True)"
   ]
  },
  {
   "cell_type": "markdown",
   "metadata": {},
   "source": [
    "So we have 6 columns with missing values: critic_score (51.32), rating (40.48), user_score (40.09), year_of_release (1.61), name (0.01), genre (0.01).\n",
    "\n",
    "Possible reasons for missing values: \n",
    "* lack of data\n",
    "* human/machine errors\n",
    "* 'tbd' (to be determined) - data that we'll have later."
   ]
  },
  {
   "cell_type": "markdown",
   "metadata": {},
   "source": [
    "<div class=\"alert alert-danger\" role=\"alert\">\n",
    "Reviewer's comment v. 1:\n",
    "    \n",
    "Could you please explain a possible reasond of a missing values?\n",
    "</div>"
   ]
  },
  {
   "cell_type": "markdown",
   "metadata": {},
   "source": [
    "<div class=\"alert alert-success\" role=\"alert\">\n",
    "Reviewer's comment v. 2:\n",
    "    \n",
    "Yes, a missing values can be due to human/technical errors or optionality of the fields.\n",
    "</div>"
   ]
  },
  {
   "cell_type": "code",
   "execution_count": 9,
   "metadata": {},
   "outputs": [
    {
     "data": {
      "text/plain": [
       "0"
      ]
     },
     "execution_count": 9,
     "metadata": {},
     "output_type": "execute_result"
    }
   ],
   "source": [
    "len(df[df.duplicated()])\n"
   ]
  },
  {
   "cell_type": "markdown",
   "metadata": {},
   "source": [
    "No duplicates in the dataset."
   ]
  },
  {
   "cell_type": "markdown",
   "metadata": {},
   "source": [
    "<div class=\"alert alert-success\" role=\"alert\">\n",
    "Reviewer's comment v. 1:\n",
    "    \n",
    "Yes, there are no duplicates in our data.\n",
    "</div>"
   ]
  },
  {
   "cell_type": "markdown",
   "metadata": {},
   "source": [
    "### Convert the data to the required types. "
   ]
  },
  {
   "cell_type": "code",
   "execution_count": 10,
   "metadata": {},
   "outputs": [],
   "source": [
    "df.year_of_release = df.year_of_release.fillna(0).astype('int')"
   ]
  },
  {
   "cell_type": "markdown",
   "metadata": {},
   "source": [
    "In order to filter through years, we fill in the missing values with zero. In addition, we converted the data type to int, because there is no sense in float in case of years."
   ]
  },
  {
   "cell_type": "markdown",
   "metadata": {},
   "source": [
    "<div class=\"alert alert-success\" role=\"alert\">\n",
    "Reviewer's comment v. 1:\n",
    "    \n",
    "Yes, a reasonable decision :)\n",
    "</div>"
   ]
  },
  {
   "cell_type": "code",
   "execution_count": 11,
   "metadata": {},
   "outputs": [],
   "source": [
    "df.loc[df.user_score == 'tbd', 'user_score'] = np.nan\n",
    "df.user_score = df.user_score.astype('float')"
   ]
  },
  {
   "cell_type": "markdown",
   "metadata": {},
   "source": [
    "In the info above, we saw that user score is an object. If we look at the values of user score, we can see a mix between floats (written as a string) and 'tbd' (to be determined). In order to be able to do calculation on this column, we fill in the missing values with NaN and converted the data type to float."
   ]
  },
  {
   "cell_type": "markdown",
   "metadata": {},
   "source": [
    "### Calculate the total sales (the sum of sales in all regions) for each game and put these values in a separate column"
   ]
  },
  {
   "cell_type": "code",
   "execution_count": 12,
   "metadata": {
    "scrolled": true
   },
   "outputs": [
    {
     "data": {
      "text/html": [
       "<div>\n",
       "<style scoped>\n",
       "    .dataframe tbody tr th:only-of-type {\n",
       "        vertical-align: middle;\n",
       "    }\n",
       "\n",
       "    .dataframe tbody tr th {\n",
       "        vertical-align: top;\n",
       "    }\n",
       "\n",
       "    .dataframe thead th {\n",
       "        text-align: right;\n",
       "    }\n",
       "</style>\n",
       "<table border=\"1\" class=\"dataframe\">\n",
       "  <thead>\n",
       "    <tr style=\"text-align: right;\">\n",
       "      <th></th>\n",
       "      <th>name</th>\n",
       "      <th>platform</th>\n",
       "      <th>year_of_release</th>\n",
       "      <th>genre</th>\n",
       "      <th>na_sales</th>\n",
       "      <th>eu_sales</th>\n",
       "      <th>jp_sales</th>\n",
       "      <th>other_sales</th>\n",
       "      <th>critic_score</th>\n",
       "      <th>user_score</th>\n",
       "      <th>rating</th>\n",
       "      <th>total_sales</th>\n",
       "    </tr>\n",
       "  </thead>\n",
       "  <tbody>\n",
       "    <tr>\n",
       "      <th>0</th>\n",
       "      <td>wii sports</td>\n",
       "      <td>wii</td>\n",
       "      <td>2006</td>\n",
       "      <td>sports</td>\n",
       "      <td>41.36</td>\n",
       "      <td>28.96</td>\n",
       "      <td>3.77</td>\n",
       "      <td>8.45</td>\n",
       "      <td>76.0</td>\n",
       "      <td>8.0</td>\n",
       "      <td>E</td>\n",
       "      <td>82.54</td>\n",
       "    </tr>\n",
       "    <tr>\n",
       "      <th>1</th>\n",
       "      <td>super mario bros.</td>\n",
       "      <td>nes</td>\n",
       "      <td>1985</td>\n",
       "      <td>platform</td>\n",
       "      <td>29.08</td>\n",
       "      <td>3.58</td>\n",
       "      <td>6.81</td>\n",
       "      <td>0.77</td>\n",
       "      <td>NaN</td>\n",
       "      <td>NaN</td>\n",
       "      <td>NaN</td>\n",
       "      <td>40.24</td>\n",
       "    </tr>\n",
       "    <tr>\n",
       "      <th>2</th>\n",
       "      <td>mario kart wii</td>\n",
       "      <td>wii</td>\n",
       "      <td>2008</td>\n",
       "      <td>racing</td>\n",
       "      <td>15.68</td>\n",
       "      <td>12.76</td>\n",
       "      <td>3.79</td>\n",
       "      <td>3.29</td>\n",
       "      <td>82.0</td>\n",
       "      <td>8.3</td>\n",
       "      <td>E</td>\n",
       "      <td>35.52</td>\n",
       "    </tr>\n",
       "    <tr>\n",
       "      <th>3</th>\n",
       "      <td>wii sports resort</td>\n",
       "      <td>wii</td>\n",
       "      <td>2009</td>\n",
       "      <td>sports</td>\n",
       "      <td>15.61</td>\n",
       "      <td>10.93</td>\n",
       "      <td>3.28</td>\n",
       "      <td>2.95</td>\n",
       "      <td>80.0</td>\n",
       "      <td>8.0</td>\n",
       "      <td>E</td>\n",
       "      <td>32.77</td>\n",
       "    </tr>\n",
       "    <tr>\n",
       "      <th>4</th>\n",
       "      <td>pokemon red/pokemon blue</td>\n",
       "      <td>gb</td>\n",
       "      <td>1996</td>\n",
       "      <td>role-playing</td>\n",
       "      <td>11.27</td>\n",
       "      <td>8.89</td>\n",
       "      <td>10.22</td>\n",
       "      <td>1.00</td>\n",
       "      <td>NaN</td>\n",
       "      <td>NaN</td>\n",
       "      <td>NaN</td>\n",
       "      <td>31.38</td>\n",
       "    </tr>\n",
       "  </tbody>\n",
       "</table>\n",
       "</div>"
      ],
      "text/plain": [
       "                       name platform  year_of_release         genre  na_sales  \\\n",
       "0                wii sports      wii             2006        sports     41.36   \n",
       "1         super mario bros.      nes             1985      platform     29.08   \n",
       "2            mario kart wii      wii             2008        racing     15.68   \n",
       "3         wii sports resort      wii             2009        sports     15.61   \n",
       "4  pokemon red/pokemon blue       gb             1996  role-playing     11.27   \n",
       "\n",
       "   eu_sales  jp_sales  other_sales  critic_score  user_score rating  \\\n",
       "0     28.96      3.77         8.45          76.0         8.0      E   \n",
       "1      3.58      6.81         0.77           NaN         NaN    NaN   \n",
       "2     12.76      3.79         3.29          82.0         8.3      E   \n",
       "3     10.93      3.28         2.95          80.0         8.0      E   \n",
       "4      8.89     10.22         1.00           NaN         NaN    NaN   \n",
       "\n",
       "   total_sales  \n",
       "0        82.54  \n",
       "1        40.24  \n",
       "2        35.52  \n",
       "3        32.77  \n",
       "4        31.38  "
      ]
     },
     "execution_count": 12,
     "metadata": {},
     "output_type": "execute_result"
    }
   ],
   "source": [
    "df['total_sales'] = df[['na_sales', 'eu_sales', 'jp_sales', 'other_sales']].sum(axis=1)\n",
    "df.head()"
   ]
  },
  {
   "cell_type": "markdown",
   "metadata": {},
   "source": [
    "### Conclusion"
   ]
  },
  {
   "cell_type": "markdown",
   "metadata": {},
   "source": [
    "In this section, we:\n",
    "* replaced the column names and several columns to lowercase.\n",
    "* filled in missing values in year_of_release and user_score and converted their data types.\n",
    "* Calculated the total sales (the sum of sales in all regions) for each game and put these values in a separate column."
   ]
  },
  {
   "cell_type": "markdown",
   "metadata": {},
   "source": [
    "<div class=\"alert alert-success\" role=\"alert\">\n",
    "Reviewer's comment v. 1:\n",
    "    \n",
    "Ok :)\n",
    "</div>"
   ]
  },
  {
   "cell_type": "markdown",
   "metadata": {},
   "source": [
    "##  Analyze  the data "
   ]
  },
  {
   "cell_type": "markdown",
   "metadata": {},
   "source": [
    "### Look at how many games were released in different years. Is the data for every period significant? "
   ]
  },
  {
   "cell_type": "code",
   "execution_count": 13,
   "metadata": {
    "scrolled": true
   },
   "outputs": [
    {
     "data": {
      "text/html": [
       "<div>\n",
       "<style scoped>\n",
       "    .dataframe tbody tr th:only-of-type {\n",
       "        vertical-align: middle;\n",
       "    }\n",
       "\n",
       "    .dataframe tbody tr th {\n",
       "        vertical-align: top;\n",
       "    }\n",
       "\n",
       "    .dataframe thead th {\n",
       "        text-align: right;\n",
       "    }\n",
       "</style>\n",
       "<table border=\"1\" class=\"dataframe\">\n",
       "  <thead>\n",
       "    <tr style=\"text-align: right;\">\n",
       "      <th></th>\n",
       "      <th>year_of_release</th>\n",
       "      <th>number_of_games</th>\n",
       "    </tr>\n",
       "  </thead>\n",
       "  <tbody>\n",
       "    <tr>\n",
       "      <th>0</th>\n",
       "      <td>1980</td>\n",
       "      <td>9</td>\n",
       "    </tr>\n",
       "    <tr>\n",
       "      <th>1</th>\n",
       "      <td>1981</td>\n",
       "      <td>46</td>\n",
       "    </tr>\n",
       "    <tr>\n",
       "      <th>2</th>\n",
       "      <td>1982</td>\n",
       "      <td>36</td>\n",
       "    </tr>\n",
       "    <tr>\n",
       "      <th>3</th>\n",
       "      <td>1983</td>\n",
       "      <td>17</td>\n",
       "    </tr>\n",
       "    <tr>\n",
       "      <th>4</th>\n",
       "      <td>1984</td>\n",
       "      <td>14</td>\n",
       "    </tr>\n",
       "    <tr>\n",
       "      <th>5</th>\n",
       "      <td>1985</td>\n",
       "      <td>14</td>\n",
       "    </tr>\n",
       "    <tr>\n",
       "      <th>6</th>\n",
       "      <td>1986</td>\n",
       "      <td>21</td>\n",
       "    </tr>\n",
       "    <tr>\n",
       "      <th>7</th>\n",
       "      <td>1987</td>\n",
       "      <td>16</td>\n",
       "    </tr>\n",
       "    <tr>\n",
       "      <th>8</th>\n",
       "      <td>1988</td>\n",
       "      <td>15</td>\n",
       "    </tr>\n",
       "    <tr>\n",
       "      <th>9</th>\n",
       "      <td>1989</td>\n",
       "      <td>17</td>\n",
       "    </tr>\n",
       "    <tr>\n",
       "      <th>10</th>\n",
       "      <td>1990</td>\n",
       "      <td>16</td>\n",
       "    </tr>\n",
       "    <tr>\n",
       "      <th>11</th>\n",
       "      <td>1991</td>\n",
       "      <td>41</td>\n",
       "    </tr>\n",
       "    <tr>\n",
       "      <th>12</th>\n",
       "      <td>1992</td>\n",
       "      <td>43</td>\n",
       "    </tr>\n",
       "    <tr>\n",
       "      <th>13</th>\n",
       "      <td>1993</td>\n",
       "      <td>60</td>\n",
       "    </tr>\n",
       "    <tr>\n",
       "      <th>14</th>\n",
       "      <td>1994</td>\n",
       "      <td>121</td>\n",
       "    </tr>\n",
       "    <tr>\n",
       "      <th>15</th>\n",
       "      <td>1995</td>\n",
       "      <td>219</td>\n",
       "    </tr>\n",
       "    <tr>\n",
       "      <th>16</th>\n",
       "      <td>1996</td>\n",
       "      <td>263</td>\n",
       "    </tr>\n",
       "    <tr>\n",
       "      <th>17</th>\n",
       "      <td>1997</td>\n",
       "      <td>289</td>\n",
       "    </tr>\n",
       "    <tr>\n",
       "      <th>18</th>\n",
       "      <td>1998</td>\n",
       "      <td>379</td>\n",
       "    </tr>\n",
       "    <tr>\n",
       "      <th>19</th>\n",
       "      <td>1999</td>\n",
       "      <td>338</td>\n",
       "    </tr>\n",
       "    <tr>\n",
       "      <th>20</th>\n",
       "      <td>2000</td>\n",
       "      <td>350</td>\n",
       "    </tr>\n",
       "    <tr>\n",
       "      <th>21</th>\n",
       "      <td>2001</td>\n",
       "      <td>482</td>\n",
       "    </tr>\n",
       "    <tr>\n",
       "      <th>22</th>\n",
       "      <td>2002</td>\n",
       "      <td>829</td>\n",
       "    </tr>\n",
       "    <tr>\n",
       "      <th>23</th>\n",
       "      <td>2003</td>\n",
       "      <td>775</td>\n",
       "    </tr>\n",
       "    <tr>\n",
       "      <th>24</th>\n",
       "      <td>2004</td>\n",
       "      <td>762</td>\n",
       "    </tr>\n",
       "    <tr>\n",
       "      <th>25</th>\n",
       "      <td>2005</td>\n",
       "      <td>939</td>\n",
       "    </tr>\n",
       "    <tr>\n",
       "      <th>26</th>\n",
       "      <td>2006</td>\n",
       "      <td>1006</td>\n",
       "    </tr>\n",
       "    <tr>\n",
       "      <th>27</th>\n",
       "      <td>2007</td>\n",
       "      <td>1197</td>\n",
       "    </tr>\n",
       "    <tr>\n",
       "      <th>28</th>\n",
       "      <td>2008</td>\n",
       "      <td>1427</td>\n",
       "    </tr>\n",
       "    <tr>\n",
       "      <th>29</th>\n",
       "      <td>2009</td>\n",
       "      <td>1426</td>\n",
       "    </tr>\n",
       "    <tr>\n",
       "      <th>30</th>\n",
       "      <td>2010</td>\n",
       "      <td>1255</td>\n",
       "    </tr>\n",
       "    <tr>\n",
       "      <th>31</th>\n",
       "      <td>2011</td>\n",
       "      <td>1136</td>\n",
       "    </tr>\n",
       "    <tr>\n",
       "      <th>32</th>\n",
       "      <td>2012</td>\n",
       "      <td>653</td>\n",
       "    </tr>\n",
       "    <tr>\n",
       "      <th>33</th>\n",
       "      <td>2013</td>\n",
       "      <td>544</td>\n",
       "    </tr>\n",
       "    <tr>\n",
       "      <th>34</th>\n",
       "      <td>2014</td>\n",
       "      <td>581</td>\n",
       "    </tr>\n",
       "    <tr>\n",
       "      <th>35</th>\n",
       "      <td>2015</td>\n",
       "      <td>606</td>\n",
       "    </tr>\n",
       "    <tr>\n",
       "      <th>36</th>\n",
       "      <td>2016</td>\n",
       "      <td>502</td>\n",
       "    </tr>\n",
       "  </tbody>\n",
       "</table>\n",
       "</div>"
      ],
      "text/plain": [
       "    year_of_release  number_of_games\n",
       "0              1980                9\n",
       "1              1981               46\n",
       "2              1982               36\n",
       "3              1983               17\n",
       "4              1984               14\n",
       "5              1985               14\n",
       "6              1986               21\n",
       "7              1987               16\n",
       "8              1988               15\n",
       "9              1989               17\n",
       "10             1990               16\n",
       "11             1991               41\n",
       "12             1992               43\n",
       "13             1993               60\n",
       "14             1994              121\n",
       "15             1995              219\n",
       "16             1996              263\n",
       "17             1997              289\n",
       "18             1998              379\n",
       "19             1999              338\n",
       "20             2000              350\n",
       "21             2001              482\n",
       "22             2002              829\n",
       "23             2003              775\n",
       "24             2004              762\n",
       "25             2005              939\n",
       "26             2006             1006\n",
       "27             2007             1197\n",
       "28             2008             1427\n",
       "29             2009             1426\n",
       "30             2010             1255\n",
       "31             2011             1136\n",
       "32             2012              653\n",
       "33             2013              544\n",
       "34             2014              581\n",
       "35             2015              606\n",
       "36             2016              502"
      ]
     },
     "execution_count": 13,
     "metadata": {},
     "output_type": "execute_result"
    }
   ],
   "source": [
    "filtered_df = df.query('year_of_release != 0')\n",
    "year_pivot = pd.pivot_table(filtered_df, values='name', index='year_of_release', aggfunc='count').reset_index()\n",
    "year_pivot.columns = ['year_of_release', 'number_of_games']\n",
    "year_pivot"
   ]
  },
  {
   "cell_type": "code",
   "execution_count": 14,
   "metadata": {
    "scrolled": false
   },
   "outputs": [
    {
     "data": {
      "image/png": "[encoded data removed]",
      "text/plain": [
       "<Figure size 1224x720 with 1 Axes>"
      ]
     },
     "metadata": {
      "needs_background": "light"
     },
     "output_type": "display_data"
    }
   ],
   "source": [
    "fig, ax = plt.subplots(figsize=(17, 10))\n",
    "ax.vlines(x=year_pivot.year_of_release, ymin=0, ymax=year_pivot.number_of_games, color='purple', alpha=0.7, linewidth=2)\n",
    "ax.scatter(x=year_pivot.year_of_release, y=year_pivot.number_of_games, s=75, color='black', alpha=0.7)\n",
    "\n",
    "ax.set_title('Lollypop for number of games by year', fontdict={'size':15})\n",
    "ax.set_ylabel('Number of games')\n",
    "ax.set_xticks(year_pivot.year_of_release)\n",
    "ax.set_xticklabels(year_pivot.year_of_release, rotation=90)\n",
    "\n",
    "for row in year_pivot.itertuples():\n",
    "    ax.text(row.year_of_release, row.number_of_games+30, s=row.number_of_games)\n"
   ]
  },
  {
   "cell_type": "markdown",
   "metadata": {},
   "source": [
    "As we can see, along the 80s and half of 90s, there are't much games. Probably because it was the beginning of the industry,and there weren't much PCs. At the second half of the 90s, we can see increase in number of games till 2008. In this period, many people bought PCs. Then, we see a decrease in number of video games till 2016, maybe because of the rising of the online games.\n",
    "\n",
    "The data is not equally significant for all the years. There isn't enough data for the 80s and 90s."
   ]
  },
  {
   "cell_type": "markdown",
   "metadata": {},
   "source": [
    "<div class=\"alert alert-danger\" role=\"alert\">\n",
    "Reviewer's comment v. 1:\n",
    "    \n",
    "Could you please analyse dynamics of the total sales? Are there any trends?\n",
    "</div>"
   ]
  },
  {
   "cell_type": "markdown",
   "metadata": {},
   "source": [
    "<div class=\"alert alert-success\" role=\"alert\">\n",
    "Reviewer's comment v. 2:\n",
    "    \n",
    "Yes, you corrrectly noted main trends :)\n",
    "</div>"
   ]
  },
  {
   "cell_type": "markdown",
   "metadata": {},
   "source": [
    "<div class=\"alert alert-warning\" role=\"alert\">\n",
    "Reviewer's comment v. 1:\n",
    "    \n",
    "Could you please describe a possible reason of increasing and decreasing in the number of games?\n",
    "</div>"
   ]
  },
  {
   "cell_type": "markdown",
   "metadata": {},
   "source": [
    "<div class=\"alert alert-success\" role=\"alert\">\n",
    "Reviewer's comment v. 2:\n",
    "    \n",
    "Yes, the growth the number of games could be associated with an increase in the number of personal computers/platforms per user, and the decline with the growing popularity of mobile and online games.\n",
    "</div>"
   ]
  },
  {
   "cell_type": "markdown",
   "metadata": {},
   "source": [
    "### Look at how sales varied from platform to platform. Choose the platforms with the greatest total sales and build a distribution based on data for each year."
   ]
  },
  {
   "cell_type": "code",
   "execution_count": 15,
   "metadata": {},
   "outputs": [
    {
     "data": {
      "text/html": [
       "<div>\n",
       "<style scoped>\n",
       "    .dataframe tbody tr th:only-of-type {\n",
       "        vertical-align: middle;\n",
       "    }\n",
       "\n",
       "    .dataframe tbody tr th {\n",
       "        vertical-align: top;\n",
       "    }\n",
       "\n",
       "    .dataframe thead th {\n",
       "        text-align: right;\n",
       "    }\n",
       "</style>\n",
       "<table border=\"1\" class=\"dataframe\">\n",
       "  <thead>\n",
       "    <tr style=\"text-align: right;\">\n",
       "      <th></th>\n",
       "      <th>platform</th>\n",
       "      <th>total_sales</th>\n",
       "    </tr>\n",
       "  </thead>\n",
       "  <tbody>\n",
       "    <tr>\n",
       "      <th>0</th>\n",
       "      <td>pcfx</td>\n",
       "      <td>0.03</td>\n",
       "    </tr>\n",
       "    <tr>\n",
       "      <th>1</th>\n",
       "      <td>gg</td>\n",
       "      <td>0.04</td>\n",
       "    </tr>\n",
       "    <tr>\n",
       "      <th>2</th>\n",
       "      <td>3do</td>\n",
       "      <td>0.10</td>\n",
       "    </tr>\n",
       "    <tr>\n",
       "      <th>3</th>\n",
       "      <td>tg16</td>\n",
       "      <td>0.16</td>\n",
       "    </tr>\n",
       "    <tr>\n",
       "      <th>4</th>\n",
       "      <td>ws</td>\n",
       "      <td>1.42</td>\n",
       "    </tr>\n",
       "  </tbody>\n",
       "</table>\n",
       "</div>"
      ],
      "text/plain": [
       "  platform  total_sales\n",
       "0     pcfx         0.03\n",
       "1       gg         0.04\n",
       "2      3do         0.10\n",
       "3     tg16         0.16\n",
       "4       ws         1.42"
      ]
     },
     "execution_count": 15,
     "metadata": {},
     "output_type": "execute_result"
    }
   ],
   "source": [
    "total_sales_pivot = pd.pivot_table(filtered_df, values='total_sales', index='platform', aggfunc='sum')\n",
    "total_sales_pivot.sort_values(by='total_sales', inplace=True)\n",
    "total_sales_pivot.reset_index(inplace=True)\n",
    "total_sales_pivot.head()"
   ]
  },
  {
   "cell_type": "code",
   "execution_count": 16,
   "metadata": {
    "scrolled": true
   },
   "outputs": [
    {
     "data": {
      "text/html": [
       "<div>\n",
       "<style scoped>\n",
       "    .dataframe tbody tr th:only-of-type {\n",
       "        vertical-align: middle;\n",
       "    }\n",
       "\n",
       "    .dataframe tbody tr th {\n",
       "        vertical-align: top;\n",
       "    }\n",
       "\n",
       "    .dataframe thead th {\n",
       "        text-align: right;\n",
       "    }\n",
       "</style>\n",
       "<table border=\"1\" class=\"dataframe\">\n",
       "  <thead>\n",
       "    <tr style=\"text-align: right;\">\n",
       "      <th></th>\n",
       "      <th>platform</th>\n",
       "      <th>total_sales</th>\n",
       "      <th>sales_z</th>\n",
       "    </tr>\n",
       "  </thead>\n",
       "  <tbody>\n",
       "    <tr>\n",
       "      <th>0</th>\n",
       "      <td>pcfx</td>\n",
       "      <td>0.03</td>\n",
       "      <td>-0.826947</td>\n",
       "    </tr>\n",
       "    <tr>\n",
       "      <th>1</th>\n",
       "      <td>gg</td>\n",
       "      <td>0.04</td>\n",
       "      <td>-0.826918</td>\n",
       "    </tr>\n",
       "    <tr>\n",
       "      <th>2</th>\n",
       "      <td>3do</td>\n",
       "      <td>0.10</td>\n",
       "      <td>-0.826744</td>\n",
       "    </tr>\n",
       "    <tr>\n",
       "      <th>3</th>\n",
       "      <td>tg16</td>\n",
       "      <td>0.16</td>\n",
       "      <td>-0.826569</td>\n",
       "    </tr>\n",
       "    <tr>\n",
       "      <th>4</th>\n",
       "      <td>ws</td>\n",
       "      <td>1.42</td>\n",
       "      <td>-0.822906</td>\n",
       "    </tr>\n",
       "    <tr>\n",
       "      <th>5</th>\n",
       "      <td>ng</td>\n",
       "      <td>1.44</td>\n",
       "      <td>-0.822847</td>\n",
       "    </tr>\n",
       "    <tr>\n",
       "      <th>6</th>\n",
       "      <td>scd</td>\n",
       "      <td>1.86</td>\n",
       "      <td>-0.821626</td>\n",
       "    </tr>\n",
       "    <tr>\n",
       "      <th>7</th>\n",
       "      <td>dc</td>\n",
       "      <td>15.95</td>\n",
       "      <td>-0.780654</td>\n",
       "    </tr>\n",
       "    <tr>\n",
       "      <th>8</th>\n",
       "      <td>gen</td>\n",
       "      <td>30.77</td>\n",
       "      <td>-0.737560</td>\n",
       "    </tr>\n",
       "    <tr>\n",
       "      <th>9</th>\n",
       "      <td>sat</td>\n",
       "      <td>33.59</td>\n",
       "      <td>-0.729359</td>\n",
       "    </tr>\n",
       "    <tr>\n",
       "      <th>10</th>\n",
       "      <td>psv</td>\n",
       "      <td>53.81</td>\n",
       "      <td>-0.670562</td>\n",
       "    </tr>\n",
       "    <tr>\n",
       "      <th>11</th>\n",
       "      <td>wiiu</td>\n",
       "      <td>82.19</td>\n",
       "      <td>-0.588037</td>\n",
       "    </tr>\n",
       "    <tr>\n",
       "      <th>12</th>\n",
       "      <td>2600</td>\n",
       "      <td>86.48</td>\n",
       "      <td>-0.575562</td>\n",
       "    </tr>\n",
       "    <tr>\n",
       "      <th>13</th>\n",
       "      <td>xone</td>\n",
       "      <td>159.32</td>\n",
       "      <td>-0.363753</td>\n",
       "    </tr>\n",
       "    <tr>\n",
       "      <th>14</th>\n",
       "      <td>gc</td>\n",
       "      <td>196.73</td>\n",
       "      <td>-0.254970</td>\n",
       "    </tr>\n",
       "    <tr>\n",
       "      <th>15</th>\n",
       "      <td>snes</td>\n",
       "      <td>200.04</td>\n",
       "      <td>-0.245344</td>\n",
       "    </tr>\n",
       "    <tr>\n",
       "      <th>16</th>\n",
       "      <td>n64</td>\n",
       "      <td>218.01</td>\n",
       "      <td>-0.193090</td>\n",
       "    </tr>\n",
       "    <tr>\n",
       "      <th>17</th>\n",
       "      <td>nes</td>\n",
       "      <td>251.05</td>\n",
       "      <td>-0.097014</td>\n",
       "    </tr>\n",
       "    <tr>\n",
       "      <th>18</th>\n",
       "      <td>xb</td>\n",
       "      <td>251.57</td>\n",
       "      <td>-0.095502</td>\n",
       "    </tr>\n",
       "    <tr>\n",
       "      <th>19</th>\n",
       "      <td>gb</td>\n",
       "      <td>254.43</td>\n",
       "      <td>-0.087185</td>\n",
       "    </tr>\n",
       "    <tr>\n",
       "      <th>20</th>\n",
       "      <td>pc</td>\n",
       "      <td>255.76</td>\n",
       "      <td>-0.083318</td>\n",
       "    </tr>\n",
       "    <tr>\n",
       "      <th>21</th>\n",
       "      <td>3ds</td>\n",
       "      <td>257.81</td>\n",
       "      <td>-0.077357</td>\n",
       "    </tr>\n",
       "    <tr>\n",
       "      <th>22</th>\n",
       "      <td>psp</td>\n",
       "      <td>289.53</td>\n",
       "      <td>0.014881</td>\n",
       "    </tr>\n",
       "    <tr>\n",
       "      <th>23</th>\n",
       "      <td>gba</td>\n",
       "      <td>312.88</td>\n",
       "      <td>0.082780</td>\n",
       "    </tr>\n",
       "    <tr>\n",
       "      <th>24</th>\n",
       "      <td>ps4</td>\n",
       "      <td>314.14</td>\n",
       "      <td>0.086443</td>\n",
       "    </tr>\n",
       "    <tr>\n",
       "      <th>25</th>\n",
       "      <td>ps</td>\n",
       "      <td>727.58</td>\n",
       "      <td>1.288673</td>\n",
       "    </tr>\n",
       "    <tr>\n",
       "      <th>26</th>\n",
       "      <td>ds</td>\n",
       "      <td>802.78</td>\n",
       "      <td>1.507345</td>\n",
       "    </tr>\n",
       "    <tr>\n",
       "      <th>27</th>\n",
       "      <td>wii</td>\n",
       "      <td>891.18</td>\n",
       "      <td>1.764401</td>\n",
       "    </tr>\n",
       "    <tr>\n",
       "      <th>28</th>\n",
       "      <td>ps3</td>\n",
       "      <td>931.34</td>\n",
       "      <td>1.881181</td>\n",
       "    </tr>\n",
       "    <tr>\n",
       "      <th>29</th>\n",
       "      <td>x360</td>\n",
       "      <td>961.24</td>\n",
       "      <td>1.968126</td>\n",
       "    </tr>\n",
       "    <tr>\n",
       "      <th>30</th>\n",
       "      <td>ps2</td>\n",
       "      <td>1233.56</td>\n",
       "      <td>2.759997</td>\n",
       "    </tr>\n",
       "  </tbody>\n",
       "</table>\n",
       "</div>"
      ],
      "text/plain": [
       "   platform  total_sales   sales_z\n",
       "0      pcfx         0.03 -0.826947\n",
       "1        gg         0.04 -0.826918\n",
       "2       3do         0.10 -0.826744\n",
       "3      tg16         0.16 -0.826569\n",
       "4        ws         1.42 -0.822906\n",
       "5        ng         1.44 -0.822847\n",
       "6       scd         1.86 -0.821626\n",
       "7        dc        15.95 -0.780654\n",
       "8       gen        30.77 -0.737560\n",
       "9       sat        33.59 -0.729359\n",
       "10      psv        53.81 -0.670562\n",
       "11     wiiu        82.19 -0.588037\n",
       "12     2600        86.48 -0.575562\n",
       "13     xone       159.32 -0.363753\n",
       "14       gc       196.73 -0.254970\n",
       "15     snes       200.04 -0.245344\n",
       "16      n64       218.01 -0.193090\n",
       "17      nes       251.05 -0.097014\n",
       "18       xb       251.57 -0.095502\n",
       "19       gb       254.43 -0.087185\n",
       "20       pc       255.76 -0.083318\n",
       "21      3ds       257.81 -0.077357\n",
       "22      psp       289.53  0.014881\n",
       "23      gba       312.88  0.082780\n",
       "24      ps4       314.14  0.086443\n",
       "25       ps       727.58  1.288673\n",
       "26       ds       802.78  1.507345\n",
       "27      wii       891.18  1.764401\n",
       "28      ps3       931.34  1.881181\n",
       "29     x360       961.24  1.968126\n",
       "30      ps2      1233.56  2.759997"
      ]
     },
     "execution_count": 16,
     "metadata": {},
     "output_type": "execute_result"
    }
   ],
   "source": [
    "total_sales_pivot['sales_z'] = (total_sales_pivot['total_sales'] - total_sales_pivot['total_sales'].mean()) / total_sales_pivot['total_sales'].std()\n",
    "total_sales_pivot"
   ]
  },
  {
   "cell_type": "code",
   "execution_count": 17,
   "metadata": {},
   "outputs": [
    {
     "data": {
      "text/html": [
       "<div>\n",
       "<style scoped>\n",
       "    .dataframe tbody tr th:only-of-type {\n",
       "        vertical-align: middle;\n",
       "    }\n",
       "\n",
       "    .dataframe tbody tr th {\n",
       "        vertical-align: top;\n",
       "    }\n",
       "\n",
       "    .dataframe thead th {\n",
       "        text-align: right;\n",
       "    }\n",
       "</style>\n",
       "<table border=\"1\" class=\"dataframe\">\n",
       "  <thead>\n",
       "    <tr style=\"text-align: right;\">\n",
       "      <th></th>\n",
       "      <th>platform</th>\n",
       "      <th>total_sales</th>\n",
       "      <th>sales_z</th>\n",
       "      <th>color</th>\n",
       "    </tr>\n",
       "  </thead>\n",
       "  <tbody>\n",
       "    <tr>\n",
       "      <th>0</th>\n",
       "      <td>pcfx</td>\n",
       "      <td>0.03</td>\n",
       "      <td>-0.826947</td>\n",
       "      <td>red</td>\n",
       "    </tr>\n",
       "    <tr>\n",
       "      <th>1</th>\n",
       "      <td>gg</td>\n",
       "      <td>0.04</td>\n",
       "      <td>-0.826918</td>\n",
       "      <td>red</td>\n",
       "    </tr>\n",
       "    <tr>\n",
       "      <th>2</th>\n",
       "      <td>3do</td>\n",
       "      <td>0.10</td>\n",
       "      <td>-0.826744</td>\n",
       "      <td>red</td>\n",
       "    </tr>\n",
       "    <tr>\n",
       "      <th>3</th>\n",
       "      <td>tg16</td>\n",
       "      <td>0.16</td>\n",
       "      <td>-0.826569</td>\n",
       "      <td>red</td>\n",
       "    </tr>\n",
       "    <tr>\n",
       "      <th>4</th>\n",
       "      <td>ws</td>\n",
       "      <td>1.42</td>\n",
       "      <td>-0.822906</td>\n",
       "      <td>red</td>\n",
       "    </tr>\n",
       "    <tr>\n",
       "      <th>5</th>\n",
       "      <td>ng</td>\n",
       "      <td>1.44</td>\n",
       "      <td>-0.822847</td>\n",
       "      <td>red</td>\n",
       "    </tr>\n",
       "    <tr>\n",
       "      <th>6</th>\n",
       "      <td>scd</td>\n",
       "      <td>1.86</td>\n",
       "      <td>-0.821626</td>\n",
       "      <td>red</td>\n",
       "    </tr>\n",
       "    <tr>\n",
       "      <th>7</th>\n",
       "      <td>dc</td>\n",
       "      <td>15.95</td>\n",
       "      <td>-0.780654</td>\n",
       "      <td>red</td>\n",
       "    </tr>\n",
       "    <tr>\n",
       "      <th>8</th>\n",
       "      <td>gen</td>\n",
       "      <td>30.77</td>\n",
       "      <td>-0.737560</td>\n",
       "      <td>red</td>\n",
       "    </tr>\n",
       "    <tr>\n",
       "      <th>9</th>\n",
       "      <td>sat</td>\n",
       "      <td>33.59</td>\n",
       "      <td>-0.729359</td>\n",
       "      <td>red</td>\n",
       "    </tr>\n",
       "    <tr>\n",
       "      <th>10</th>\n",
       "      <td>psv</td>\n",
       "      <td>53.81</td>\n",
       "      <td>-0.670562</td>\n",
       "      <td>red</td>\n",
       "    </tr>\n",
       "    <tr>\n",
       "      <th>11</th>\n",
       "      <td>wiiu</td>\n",
       "      <td>82.19</td>\n",
       "      <td>-0.588037</td>\n",
       "      <td>red</td>\n",
       "    </tr>\n",
       "    <tr>\n",
       "      <th>12</th>\n",
       "      <td>2600</td>\n",
       "      <td>86.48</td>\n",
       "      <td>-0.575562</td>\n",
       "      <td>red</td>\n",
       "    </tr>\n",
       "    <tr>\n",
       "      <th>13</th>\n",
       "      <td>xone</td>\n",
       "      <td>159.32</td>\n",
       "      <td>-0.363753</td>\n",
       "      <td>red</td>\n",
       "    </tr>\n",
       "    <tr>\n",
       "      <th>14</th>\n",
       "      <td>gc</td>\n",
       "      <td>196.73</td>\n",
       "      <td>-0.254970</td>\n",
       "      <td>red</td>\n",
       "    </tr>\n",
       "    <tr>\n",
       "      <th>15</th>\n",
       "      <td>snes</td>\n",
       "      <td>200.04</td>\n",
       "      <td>-0.245344</td>\n",
       "      <td>red</td>\n",
       "    </tr>\n",
       "    <tr>\n",
       "      <th>16</th>\n",
       "      <td>n64</td>\n",
       "      <td>218.01</td>\n",
       "      <td>-0.193090</td>\n",
       "      <td>red</td>\n",
       "    </tr>\n",
       "    <tr>\n",
       "      <th>17</th>\n",
       "      <td>nes</td>\n",
       "      <td>251.05</td>\n",
       "      <td>-0.097014</td>\n",
       "      <td>red</td>\n",
       "    </tr>\n",
       "    <tr>\n",
       "      <th>18</th>\n",
       "      <td>xb</td>\n",
       "      <td>251.57</td>\n",
       "      <td>-0.095502</td>\n",
       "      <td>red</td>\n",
       "    </tr>\n",
       "    <tr>\n",
       "      <th>19</th>\n",
       "      <td>gb</td>\n",
       "      <td>254.43</td>\n",
       "      <td>-0.087185</td>\n",
       "      <td>red</td>\n",
       "    </tr>\n",
       "    <tr>\n",
       "      <th>20</th>\n",
       "      <td>pc</td>\n",
       "      <td>255.76</td>\n",
       "      <td>-0.083318</td>\n",
       "      <td>red</td>\n",
       "    </tr>\n",
       "    <tr>\n",
       "      <th>21</th>\n",
       "      <td>3ds</td>\n",
       "      <td>257.81</td>\n",
       "      <td>-0.077357</td>\n",
       "      <td>red</td>\n",
       "    </tr>\n",
       "    <tr>\n",
       "      <th>22</th>\n",
       "      <td>psp</td>\n",
       "      <td>289.53</td>\n",
       "      <td>0.014881</td>\n",
       "      <td>green</td>\n",
       "    </tr>\n",
       "    <tr>\n",
       "      <th>23</th>\n",
       "      <td>gba</td>\n",
       "      <td>312.88</td>\n",
       "      <td>0.082780</td>\n",
       "      <td>green</td>\n",
       "    </tr>\n",
       "    <tr>\n",
       "      <th>24</th>\n",
       "      <td>ps4</td>\n",
       "      <td>314.14</td>\n",
       "      <td>0.086443</td>\n",
       "      <td>green</td>\n",
       "    </tr>\n",
       "    <tr>\n",
       "      <th>25</th>\n",
       "      <td>ps</td>\n",
       "      <td>727.58</td>\n",
       "      <td>1.288673</td>\n",
       "      <td>green</td>\n",
       "    </tr>\n",
       "    <tr>\n",
       "      <th>26</th>\n",
       "      <td>ds</td>\n",
       "      <td>802.78</td>\n",
       "      <td>1.507345</td>\n",
       "      <td>green</td>\n",
       "    </tr>\n",
       "    <tr>\n",
       "      <th>27</th>\n",
       "      <td>wii</td>\n",
       "      <td>891.18</td>\n",
       "      <td>1.764401</td>\n",
       "      <td>green</td>\n",
       "    </tr>\n",
       "    <tr>\n",
       "      <th>28</th>\n",
       "      <td>ps3</td>\n",
       "      <td>931.34</td>\n",
       "      <td>1.881181</td>\n",
       "      <td>green</td>\n",
       "    </tr>\n",
       "    <tr>\n",
       "      <th>29</th>\n",
       "      <td>x360</td>\n",
       "      <td>961.24</td>\n",
       "      <td>1.968126</td>\n",
       "      <td>green</td>\n",
       "    </tr>\n",
       "    <tr>\n",
       "      <th>30</th>\n",
       "      <td>ps2</td>\n",
       "      <td>1233.56</td>\n",
       "      <td>2.759997</td>\n",
       "      <td>green</td>\n",
       "    </tr>\n",
       "  </tbody>\n",
       "</table>\n",
       "</div>"
      ],
      "text/plain": [
       "   platform  total_sales   sales_z  color\n",
       "0      pcfx         0.03 -0.826947    red\n",
       "1        gg         0.04 -0.826918    red\n",
       "2       3do         0.10 -0.826744    red\n",
       "3      tg16         0.16 -0.826569    red\n",
       "4        ws         1.42 -0.822906    red\n",
       "5        ng         1.44 -0.822847    red\n",
       "6       scd         1.86 -0.821626    red\n",
       "7        dc        15.95 -0.780654    red\n",
       "8       gen        30.77 -0.737560    red\n",
       "9       sat        33.59 -0.729359    red\n",
       "10      psv        53.81 -0.670562    red\n",
       "11     wiiu        82.19 -0.588037    red\n",
       "12     2600        86.48 -0.575562    red\n",
       "13     xone       159.32 -0.363753    red\n",
       "14       gc       196.73 -0.254970    red\n",
       "15     snes       200.04 -0.245344    red\n",
       "16      n64       218.01 -0.193090    red\n",
       "17      nes       251.05 -0.097014    red\n",
       "18       xb       251.57 -0.095502    red\n",
       "19       gb       254.43 -0.087185    red\n",
       "20       pc       255.76 -0.083318    red\n",
       "21      3ds       257.81 -0.077357    red\n",
       "22      psp       289.53  0.014881  green\n",
       "23      gba       312.88  0.082780  green\n",
       "24      ps4       314.14  0.086443  green\n",
       "25       ps       727.58  1.288673  green\n",
       "26       ds       802.78  1.507345  green\n",
       "27      wii       891.18  1.764401  green\n",
       "28      ps3       931.34  1.881181  green\n",
       "29     x360       961.24  1.968126  green\n",
       "30      ps2      1233.56  2.759997  green"
      ]
     },
     "execution_count": 17,
     "metadata": {},
     "output_type": "execute_result"
    }
   ],
   "source": [
    "total_sales_pivot['color'] = ['red' if x < 0 else 'green' for x in total_sales_pivot['sales_z']]\n",
    "total_sales_pivot"
   ]
  },
  {
   "cell_type": "code",
   "execution_count": 18,
   "metadata": {},
   "outputs": [
    {
     "data": {
      "image/png": "[encoded data removed]",
      "text/plain": [
       "<Figure size 1008x720 with 1 Axes>"
      ]
     },
     "metadata": {
      "needs_background": "light"
     },
     "output_type": "display_data"
    }
   ],
   "source": [
    "plt.figure(figsize=(14, 10))\n",
    "plt.hlines(y=total_sales_pivot.platform, xmin=0, xmax=total_sales_pivot.sales_z, color=total_sales_pivot.color, alpha=0.4, linewidth=10)\n",
    "plt.title(\"Total sales' Z-scores by platform\")\n",
    "plt.show()"
   ]
  },
  {
   "cell_type": "markdown",
   "metadata": {},
   "source": [
    "We can see a graph of total sales Z-scores by platform. The platforms in green are the platforms with total sales above the average total sales of all the platfroms. The red ones are the platforms which their total sales are under this average."
   ]
  },
  {
   "cell_type": "markdown",
   "metadata": {},
   "source": [
    "<div class=\"alert alert-danger\" role=\"alert\">\n",
    "Reviewer's comment v. 1:\n",
    "    \n",
    "Could you please describe graphs? Please note that after each of the graphs it's necessary to add description/conclusions.\n",
    "</div>"
   ]
  },
  {
   "cell_type": "markdown",
   "metadata": {},
   "source": [
    "<div class=\"alert alert-success\" role=\"alert\">\n",
    "Reviewer's comment v. 2:\n",
    "    \n",
    "Well done that you clearly analysed graph.\n",
    "</div>"
   ]
  },
  {
   "cell_type": "markdown",
   "metadata": {},
   "source": [
    "As we can see above and below, these are the platforms with the greatest total sales:"
   ]
  },
  {
   "cell_type": "code",
   "execution_count": 19,
   "metadata": {
    "scrolled": true
   },
   "outputs": [
    {
     "data": {
      "text/plain": [
       "['ps2', 'x360', 'ps3', 'wii', 'ds']"
      ]
     },
     "execution_count": 19,
     "metadata": {},
     "output_type": "execute_result"
    }
   ],
   "source": [
    "greatest_total_sales = total_sales_pivot.nlargest(5, ['total_sales'])\n",
    "platforms_names = greatest_total_sales.platform.tolist()\n",
    "platforms_names"
   ]
  },
  {
   "cell_type": "code",
   "execution_count": 20,
   "metadata": {},
   "outputs": [
    {
     "data": {
      "text/html": [
       "<div>\n",
       "<style scoped>\n",
       "    .dataframe tbody tr th:only-of-type {\n",
       "        vertical-align: middle;\n",
       "    }\n",
       "\n",
       "    .dataframe tbody tr th {\n",
       "        vertical-align: top;\n",
       "    }\n",
       "\n",
       "    .dataframe thead th {\n",
       "        text-align: right;\n",
       "    }\n",
       "</style>\n",
       "<table border=\"1\" class=\"dataframe\">\n",
       "  <thead>\n",
       "    <tr style=\"text-align: right;\">\n",
       "      <th></th>\n",
       "      <th>name</th>\n",
       "      <th>platform</th>\n",
       "      <th>year_of_release</th>\n",
       "      <th>genre</th>\n",
       "      <th>na_sales</th>\n",
       "      <th>eu_sales</th>\n",
       "      <th>jp_sales</th>\n",
       "      <th>other_sales</th>\n",
       "      <th>critic_score</th>\n",
       "      <th>user_score</th>\n",
       "      <th>rating</th>\n",
       "      <th>total_sales</th>\n",
       "    </tr>\n",
       "  </thead>\n",
       "  <tbody>\n",
       "    <tr>\n",
       "      <th>0</th>\n",
       "      <td>wii sports</td>\n",
       "      <td>wii</td>\n",
       "      <td>2006</td>\n",
       "      <td>sports</td>\n",
       "      <td>41.36</td>\n",
       "      <td>28.96</td>\n",
       "      <td>3.77</td>\n",
       "      <td>8.45</td>\n",
       "      <td>76.0</td>\n",
       "      <td>8.0</td>\n",
       "      <td>E</td>\n",
       "      <td>82.54</td>\n",
       "    </tr>\n",
       "    <tr>\n",
       "      <th>2</th>\n",
       "      <td>mario kart wii</td>\n",
       "      <td>wii</td>\n",
       "      <td>2008</td>\n",
       "      <td>racing</td>\n",
       "      <td>15.68</td>\n",
       "      <td>12.76</td>\n",
       "      <td>3.79</td>\n",
       "      <td>3.29</td>\n",
       "      <td>82.0</td>\n",
       "      <td>8.3</td>\n",
       "      <td>E</td>\n",
       "      <td>35.52</td>\n",
       "    </tr>\n",
       "    <tr>\n",
       "      <th>3</th>\n",
       "      <td>wii sports resort</td>\n",
       "      <td>wii</td>\n",
       "      <td>2009</td>\n",
       "      <td>sports</td>\n",
       "      <td>15.61</td>\n",
       "      <td>10.93</td>\n",
       "      <td>3.28</td>\n",
       "      <td>2.95</td>\n",
       "      <td>80.0</td>\n",
       "      <td>8.0</td>\n",
       "      <td>E</td>\n",
       "      <td>32.77</td>\n",
       "    </tr>\n",
       "    <tr>\n",
       "      <th>6</th>\n",
       "      <td>new super mario bros.</td>\n",
       "      <td>ds</td>\n",
       "      <td>2006</td>\n",
       "      <td>platform</td>\n",
       "      <td>11.28</td>\n",
       "      <td>9.14</td>\n",
       "      <td>6.50</td>\n",
       "      <td>2.88</td>\n",
       "      <td>89.0</td>\n",
       "      <td>8.5</td>\n",
       "      <td>E</td>\n",
       "      <td>29.80</td>\n",
       "    </tr>\n",
       "    <tr>\n",
       "      <th>7</th>\n",
       "      <td>wii play</td>\n",
       "      <td>wii</td>\n",
       "      <td>2006</td>\n",
       "      <td>misc</td>\n",
       "      <td>13.96</td>\n",
       "      <td>9.18</td>\n",
       "      <td>2.93</td>\n",
       "      <td>2.84</td>\n",
       "      <td>58.0</td>\n",
       "      <td>6.6</td>\n",
       "      <td>E</td>\n",
       "      <td>28.91</td>\n",
       "    </tr>\n",
       "  </tbody>\n",
       "</table>\n",
       "</div>"
      ],
      "text/plain": [
       "                    name platform  year_of_release     genre  na_sales  \\\n",
       "0             wii sports      wii             2006    sports     41.36   \n",
       "2         mario kart wii      wii             2008    racing     15.68   \n",
       "3      wii sports resort      wii             2009    sports     15.61   \n",
       "6  new super mario bros.       ds             2006  platform     11.28   \n",
       "7               wii play      wii             2006      misc     13.96   \n",
       "\n",
       "   eu_sales  jp_sales  other_sales  critic_score  user_score rating  \\\n",
       "0     28.96      3.77         8.45          76.0         8.0      E   \n",
       "2     12.76      3.79         3.29          82.0         8.3      E   \n",
       "3     10.93      3.28         2.95          80.0         8.0      E   \n",
       "6      9.14      6.50         2.88          89.0         8.5      E   \n",
       "7      9.18      2.93         2.84          58.0         6.6      E   \n",
       "\n",
       "   total_sales  \n",
       "0        82.54  \n",
       "2        35.52  \n",
       "3        32.77  \n",
       "6        29.80  \n",
       "7        28.91  "
      ]
     },
     "execution_count": 20,
     "metadata": {},
     "output_type": "execute_result"
    }
   ],
   "source": [
    "greatest_total_sales_platforms = filtered_df.query('platform in @platforms_names')\n",
    "greatest_total_sales_platforms.head()"
   ]
  },
  {
   "cell_type": "code",
   "execution_count": 21,
   "metadata": {
    "scrolled": false
   },
   "outputs": [
    {
     "data": {
      "image/png": "[encoded data removed]",
      "text/plain": [
       "<Figure size 720x576 with 1 Axes>"
      ]
     },
     "metadata": {
      "needs_background": "light"
     },
     "output_type": "display_data"
    }
   ],
   "source": [
    "plt.figure(figsize=(10, 8))\n",
    "sns.lineplot(data=greatest_total_sales_platforms , x='year_of_release', y='total_sales', hue='platform', estimator='sum', markers=False, ci = None)\n",
    "plt.show()"
   ]
  },
  {
   "cell_type": "markdown",
   "metadata": {},
   "source": [
    "We can see the total sales by year of the 5 greatest platforms. Each platform has an increase of about 5 years till reaching the total sales' peak and then a decrease of about 5 years."
   ]
  },
  {
   "cell_type": "markdown",
   "metadata": {},
   "source": [
    "<div class=\"alert alert-danger\" role=\"alert\">\n",
    "Reviewer's comment v. 1:\n",
    "    \n",
    "Could you please analyse graph more clearly? Please describe the changes in total sales for the most popular platforms.\n",
    "</div>"
   ]
  },
  {
   "cell_type": "markdown",
   "metadata": {},
   "source": [
    "<div class=\"alert alert-success\" role=\"alert\">\n",
    "Reviewer's comment v. 2:\n",
    "    \n",
    "👍👍👍\n",
    "</div>"
   ]
  },
  {
   "cell_type": "markdown",
   "metadata": {},
   "source": [
    "### Find platforms that used to be popular but now have *zero sales*. How long does it generally take for new platforms to appear and old ones to fade? "
   ]
  },
  {
   "cell_type": "code",
   "execution_count": 22,
   "metadata": {},
   "outputs": [
    {
     "name": "stdout",
     "output_type": "stream",
     "text": [
      "ps2 11\n",
      "x360 11\n",
      "ps3 10\n",
      "wii 10\n",
      "ds 28\n"
     ]
    }
   ],
   "source": [
    "for platform in platforms_names:\n",
    "    platform_df = greatest_total_sales_platforms.query('platform == @platform')\n",
    "    print(platform, platform_df.year_of_release.max() - platform_df.year_of_release.min())"
   ]
  },
  {
   "cell_type": "markdown",
   "metadata": {},
   "source": [
    "We can see from the cell above and the previous line plot, that the lifetime of a platform is about 10 years."
   ]
  },
  {
   "cell_type": "markdown",
   "metadata": {},
   "source": [
    "<div class=\"alert alert-success\" role=\"alert\">\n",
    "Reviewer's comment v. 1:\n",
    "    \n",
    "Yes, a typical lifespan of the platforms is about 10-11 year. Please note that lifespan is slightly decreased with time.\n",
    "</div>"
   ]
  },
  {
   "cell_type": "markdown",
   "metadata": {},
   "source": [
    "<div class=\"alert alert-success\" role=\"alert\">\n",
    "Reviewer's comment v. 1:\n",
    "    \n",
    "Please note that Ridgeplots can be useful here: https://matplotlib.org/matplotblog/posts/create-ridgeplots-in-matplotlib/   \n",
    "</div>"
   ]
  },
  {
   "cell_type": "markdown",
   "metadata": {},
   "source": [
    "### Determine what period you should take data for. To do so, look at your answers to the previous questions. The data should allow you to build a prognosis for 2017.  Work only with the data that you've decided is relevant. Disregard the data for previous years."
   ]
  },
  {
   "cell_type": "markdown",
   "metadata": {},
   "source": [
    "<div class=\"alert alert-danger\" role=\"alert\">\n",
    "Reviewer's comment v. 1:\n",
    "    \n",
    "Please note that it's better to use data since 2014. Could you please explain why? Please fix it and I will check the next parts of the project.\n",
    "</div>"
   ]
  },
  {
   "cell_type": "code",
   "execution_count": 23,
   "metadata": {},
   "outputs": [],
   "source": [
    "filtered_df = df.query('year_of_release >= 2014')"
   ]
  },
  {
   "cell_type": "markdown",
   "metadata": {},
   "source": [
    "It's better to use data since 2014, because the data of the recent years is the most relevant for 2017's prognosis."
   ]
  },
  {
   "cell_type": "markdown",
   "metadata": {},
   "source": [
    "<div class=\"alert alert-success\" role=\"alert\">\n",
    "Reviewer's comment v. 2:\n",
    "    \n",
    "The reason why to chose data since 2014 is the following. We see that the leader in sales for the entire history of the PS2. But sales by 2011 are already zero. The X360 was at its peak in 2010, but by 2016 it had fallen to almost 0. In general, a sharp decline in the platform can occur in just 3 years. Let's look at this sales horizon.\n",
    "</div>"
   ]
  },
  {
   "cell_type": "markdown",
   "metadata": {},
   "source": [
    "\n",
    "### Which platforms are leading in sales? \n"
   ]
  },
  {
   "cell_type": "code",
   "execution_count": 24,
   "metadata": {},
   "outputs": [],
   "source": [
    "total_sales_pivot = pd.pivot_table(filtered_df, values='total_sales', index='platform', aggfunc='sum').sort_values(by='total_sales', ascending=False).reset_index()\n",
    "total_sales_pivot\n",
    "\n",
    "sizes = total_sales_pivot.total_sales.values.tolist()\n",
    "label = total_sales_pivot.apply(lambda x: str(x[0]) + '\\n' + '$' + str(round(x[1])), axis=1)"
   ]
  },
  {
   "cell_type": "code",
   "execution_count": 25,
   "metadata": {
    "scrolled": false
   },
   "outputs": [
    {
     "data": {
      "image/png": "[encoded data removed]",
      "text/plain": [
       "<Figure size 1080x648 with 1 Axes>"
      ]
     },
     "metadata": {
      "needs_background": "light"
     },
     "output_type": "display_data"
    }
   ],
   "source": [
    "plt.figure(figsize=(15, 9))\n",
    "squarify.plot(sizes=sizes, label=label, alpha=0.5)\n",
    "plt.show()"
   ]
  },
  {
   "cell_type": "markdown",
   "metadata": {},
   "source": [
    "The leading platforms in sales are xone and ps4."
   ]
  },
  {
   "cell_type": "markdown",
   "metadata": {},
   "source": [
    "<div class=\"alert alert-success\" role=\"alert\">\n",
    "Reviewer's comment v. 2:\n",
    "    \n",
    "Yes, Xbox One and PS4 are leading platforms.\n",
    "</div>"
   ]
  },
  {
   "cell_type": "markdown",
   "metadata": {},
   "source": [
    "### Which ones are growing or shrinking? Select several potentially profitable platforms."
   ]
  },
  {
   "cell_type": "code",
   "execution_count": 26,
   "metadata": {
    "scrolled": true
   },
   "outputs": [
    {
     "data": {
      "text/html": [
       "<div>\n",
       "<style scoped>\n",
       "    .dataframe tbody tr th:only-of-type {\n",
       "        vertical-align: middle;\n",
       "    }\n",
       "\n",
       "    .dataframe tbody tr th {\n",
       "        vertical-align: top;\n",
       "    }\n",
       "\n",
       "    .dataframe thead th {\n",
       "        text-align: right;\n",
       "    }\n",
       "</style>\n",
       "<table border=\"1\" class=\"dataframe\">\n",
       "  <thead>\n",
       "    <tr style=\"text-align: right;\">\n",
       "      <th>platform</th>\n",
       "      <th>3ds</th>\n",
       "      <th>pc</th>\n",
       "      <th>ps3</th>\n",
       "      <th>ps4</th>\n",
       "      <th>psp</th>\n",
       "      <th>psv</th>\n",
       "      <th>wii</th>\n",
       "      <th>wiiu</th>\n",
       "      <th>x360</th>\n",
       "      <th>xone</th>\n",
       "    </tr>\n",
       "    <tr>\n",
       "      <th>year_of_release</th>\n",
       "      <th></th>\n",
       "      <th></th>\n",
       "      <th></th>\n",
       "      <th></th>\n",
       "      <th></th>\n",
       "      <th></th>\n",
       "      <th></th>\n",
       "      <th></th>\n",
       "      <th></th>\n",
       "      <th></th>\n",
       "    </tr>\n",
       "  </thead>\n",
       "  <tbody>\n",
       "    <tr>\n",
       "      <th>2014</th>\n",
       "      <td>43.76</td>\n",
       "      <td>13.28</td>\n",
       "      <td>47.76</td>\n",
       "      <td>100.00</td>\n",
       "      <td>0.24</td>\n",
       "      <td>11.90</td>\n",
       "      <td>3.75</td>\n",
       "      <td>22.03</td>\n",
       "      <td>34.74</td>\n",
       "      <td>54.07</td>\n",
       "    </tr>\n",
       "    <tr>\n",
       "      <th>2015</th>\n",
       "      <td>27.78</td>\n",
       "      <td>8.52</td>\n",
       "      <td>16.82</td>\n",
       "      <td>118.90</td>\n",
       "      <td>0.12</td>\n",
       "      <td>6.25</td>\n",
       "      <td>1.14</td>\n",
       "      <td>16.35</td>\n",
       "      <td>11.96</td>\n",
       "      <td>60.14</td>\n",
       "    </tr>\n",
       "    <tr>\n",
       "      <th>2016</th>\n",
       "      <td>15.14</td>\n",
       "      <td>5.25</td>\n",
       "      <td>3.60</td>\n",
       "      <td>69.25</td>\n",
       "      <td>0.00</td>\n",
       "      <td>4.25</td>\n",
       "      <td>0.18</td>\n",
       "      <td>4.60</td>\n",
       "      <td>1.52</td>\n",
       "      <td>26.15</td>\n",
       "    </tr>\n",
       "  </tbody>\n",
       "</table>\n",
       "</div>"
      ],
      "text/plain": [
       "platform           3ds     pc    ps3     ps4   psp    psv   wii   wiiu   x360  \\\n",
       "year_of_release                                                                 \n",
       "2014             43.76  13.28  47.76  100.00  0.24  11.90  3.75  22.03  34.74   \n",
       "2015             27.78   8.52  16.82  118.90  0.12   6.25  1.14  16.35  11.96   \n",
       "2016             15.14   5.25   3.60   69.25  0.00   4.25  0.18   4.60   1.52   \n",
       "\n",
       "platform          xone  \n",
       "year_of_release         \n",
       "2014             54.07  \n",
       "2015             60.14  \n",
       "2016             26.15  "
      ]
     },
     "execution_count": 26,
     "metadata": {},
     "output_type": "execute_result"
    }
   ],
   "source": [
    "sales_years_pivot = pd.pivot_table(filtered_df, index='year_of_release', columns='platform', values='total_sales', aggfunc='sum', fill_value=0)\n",
    "sales_years_pivot"
   ]
  },
  {
   "cell_type": "code",
   "execution_count": 27,
   "metadata": {},
   "outputs": [
    {
     "data": {
      "text/html": [
       "<div>\n",
       "<style scoped>\n",
       "    .dataframe tbody tr th:only-of-type {\n",
       "        vertical-align: middle;\n",
       "    }\n",
       "\n",
       "    .dataframe tbody tr th {\n",
       "        vertical-align: top;\n",
       "    }\n",
       "\n",
       "    .dataframe thead th {\n",
       "        text-align: right;\n",
       "    }\n",
       "</style>\n",
       "<table border=\"1\" class=\"dataframe\">\n",
       "  <thead>\n",
       "    <tr style=\"text-align: right;\">\n",
       "      <th>year_of_release</th>\n",
       "      <th>2014</th>\n",
       "      <th>2015</th>\n",
       "      <th>2016</th>\n",
       "    </tr>\n",
       "    <tr>\n",
       "      <th>platform</th>\n",
       "      <th></th>\n",
       "      <th></th>\n",
       "      <th></th>\n",
       "    </tr>\n",
       "  </thead>\n",
       "  <tbody>\n",
       "    <tr>\n",
       "      <th>3ds</th>\n",
       "      <td>NaN</td>\n",
       "      <td>-15.98</td>\n",
       "      <td>-12.64</td>\n",
       "    </tr>\n",
       "    <tr>\n",
       "      <th>pc</th>\n",
       "      <td>NaN</td>\n",
       "      <td>-4.76</td>\n",
       "      <td>-3.27</td>\n",
       "    </tr>\n",
       "    <tr>\n",
       "      <th>ps3</th>\n",
       "      <td>NaN</td>\n",
       "      <td>-30.94</td>\n",
       "      <td>-13.22</td>\n",
       "    </tr>\n",
       "    <tr>\n",
       "      <th>ps4</th>\n",
       "      <td>NaN</td>\n",
       "      <td>18.90</td>\n",
       "      <td>-49.65</td>\n",
       "    </tr>\n",
       "    <tr>\n",
       "      <th>psp</th>\n",
       "      <td>NaN</td>\n",
       "      <td>-0.12</td>\n",
       "      <td>-0.12</td>\n",
       "    </tr>\n",
       "    <tr>\n",
       "      <th>psv</th>\n",
       "      <td>NaN</td>\n",
       "      <td>-5.65</td>\n",
       "      <td>-2.00</td>\n",
       "    </tr>\n",
       "    <tr>\n",
       "      <th>wii</th>\n",
       "      <td>NaN</td>\n",
       "      <td>-2.61</td>\n",
       "      <td>-0.96</td>\n",
       "    </tr>\n",
       "    <tr>\n",
       "      <th>wiiu</th>\n",
       "      <td>NaN</td>\n",
       "      <td>-5.68</td>\n",
       "      <td>-11.75</td>\n",
       "    </tr>\n",
       "    <tr>\n",
       "      <th>x360</th>\n",
       "      <td>NaN</td>\n",
       "      <td>-22.78</td>\n",
       "      <td>-10.44</td>\n",
       "    </tr>\n",
       "    <tr>\n",
       "      <th>xone</th>\n",
       "      <td>NaN</td>\n",
       "      <td>6.07</td>\n",
       "      <td>-33.99</td>\n",
       "    </tr>\n",
       "  </tbody>\n",
       "</table>\n",
       "</div>"
      ],
      "text/plain": [
       "year_of_release  2014   2015   2016\n",
       "platform                           \n",
       "3ds               NaN -15.98 -12.64\n",
       "pc                NaN  -4.76  -3.27\n",
       "ps3               NaN -30.94 -13.22\n",
       "ps4               NaN  18.90 -49.65\n",
       "psp               NaN  -0.12  -0.12\n",
       "psv               NaN  -5.65  -2.00\n",
       "wii               NaN  -2.61  -0.96\n",
       "wiiu              NaN  -5.68 -11.75\n",
       "x360              NaN -22.78 -10.44\n",
       "xone              NaN   6.07 -33.99"
      ]
     },
     "execution_count": 27,
     "metadata": {},
     "output_type": "execute_result"
    }
   ],
   "source": [
    "dynamics = sales_years_pivot - sales_years_pivot.shift(+1)\n",
    "dynamics.T"
   ]
  },
  {
   "cell_type": "code",
   "execution_count": 28,
   "metadata": {
    "scrolled": false
   },
   "outputs": [
    {
     "data": {
      "image/png": "[encoded data removed]",
      "text/plain": [
       "<Figure size 1080x648 with 2 Axes>"
      ]
     },
     "metadata": {
      "needs_background": "light"
     },
     "output_type": "display_data"
    }
   ],
   "source": [
    "plt.figure(figsize=(15,9))\n",
    "sns.heatmap(dynamics.T, cmap='RdBu_r')\n",
    "plt.show()"
   ]
  },
  {
   "cell_type": "markdown",
   "metadata": {},
   "source": [
    "Several potentially profitable platforms: x360, wii, ps3."
   ]
  },
  {
   "cell_type": "markdown",
   "metadata": {},
   "source": [
    "<div class=\"alert alert-success\" role=\"alert\">\n",
    "Reviewer's comment v. 2:\n",
    "    \n",
    "Yes, you are right :)\n",
    "</div>"
   ]
  },
  {
   "cell_type": "markdown",
   "metadata": {},
   "source": [
    "\n",
    "### Build a box plot for the global sales of all games, broken down by platform. Are the differences in sales significant? What about average sales on various platforms? Describe your findings.\n"
   ]
  },
  {
   "cell_type": "code",
   "execution_count": 29,
   "metadata": {},
   "outputs": [
    {
     "data": {
      "image/png": "[encoded data removed]",
      "text/plain": [
       "<Figure size 936x720 with 1 Axes>"
      ]
     },
     "metadata": {
      "needs_background": "light"
     },
     "output_type": "display_data"
    }
   ],
   "source": [
    "grouped=filtered_df.groupby(['platform','year_of_release'])['total_sales'].mean().reset_index()\n",
    "\n",
    "ordered=grouped.groupby(['platform'])['total_sales'].sum().sort_values().reset_index()['platform']\n",
    "\n",
    "\n",
    "plt.figure(figsize=(13,10))\n",
    "sns.boxplot(x='platform',y='total_sales',data=grouped,order=ordered)\n",
    "plt.show()"
   ]
  },
  {
   "cell_type": "markdown",
   "metadata": {},
   "source": [
    "The differences in sales look significant. We can see that the total sales averages vary significantly from platform to platform."
   ]
  },
  {
   "cell_type": "markdown",
   "metadata": {},
   "source": [
    "<div class=\"alert alert-success\" role=\"alert\">\n",
    "Reviewer's comment v. 2:\n",
    "    \n",
    "You correctly noted that the average total sales vary significantly from platform to platform.\n",
    "</div>"
   ]
  },
  {
   "cell_type": "markdown",
   "metadata": {},
   "source": [
    "\n",
    "### Take a look at how user and professional reviews affect sales for one popular platform (you choose). Build a scatter plot and calculate the correlation between reviews and sales. Draw conclusions.\n"
   ]
  },
  {
   "cell_type": "code",
   "execution_count": 30,
   "metadata": {},
   "outputs": [
    {
     "data": {
      "text/html": [
       "<div>\n",
       "<style scoped>\n",
       "    .dataframe tbody tr th:only-of-type {\n",
       "        vertical-align: middle;\n",
       "    }\n",
       "\n",
       "    .dataframe tbody tr th {\n",
       "        vertical-align: top;\n",
       "    }\n",
       "\n",
       "    .dataframe thead th {\n",
       "        text-align: right;\n",
       "    }\n",
       "</style>\n",
       "<table border=\"1\" class=\"dataframe\">\n",
       "  <thead>\n",
       "    <tr style=\"text-align: right;\">\n",
       "      <th></th>\n",
       "      <th>critic_score</th>\n",
       "      <th>total_sales</th>\n",
       "    </tr>\n",
       "  </thead>\n",
       "  <tbody>\n",
       "    <tr>\n",
       "      <th>critic_score</th>\n",
       "      <td>1.0</td>\n",
       "      <td>1.0</td>\n",
       "    </tr>\n",
       "    <tr>\n",
       "      <th>total_sales</th>\n",
       "      <td>1.0</td>\n",
       "      <td>1.0</td>\n",
       "    </tr>\n",
       "  </tbody>\n",
       "</table>\n",
       "</div>"
      ],
      "text/plain": [
       "              critic_score  total_sales\n",
       "critic_score           1.0          1.0\n",
       "total_sales            1.0          1.0"
      ]
     },
     "execution_count": 30,
     "metadata": {},
     "output_type": "execute_result"
    },
    {
     "data": {
      "image/png": "[encoded data removed]",
      "text/plain": [
       "<Figure size 432x288 with 1 Axes>"
      ]
     },
     "metadata": {
      "needs_background": "light"
     },
     "output_type": "display_data"
    }
   ],
   "source": [
    "platform = filtered_df[filtered_df.platform == 'ps3']\n",
    "critic_pivot = pd.pivot_table(platform, values=['critic_score', 'total_sales'], index='year_of_release', aggfunc='mean')\n",
    "critic_pivot = critic_pivot[critic_pivot.notnull().all(axis=1)]\n",
    "critic_pivot.critic_score = round(critic_pivot.critic_score, 2)\n",
    "\n",
    "critic_pivot.plot.scatter(x='critic_score', y='total_sales')\n",
    "critic_pivot.corr()"
   ]
  },
  {
   "cell_type": "code",
   "execution_count": 31,
   "metadata": {},
   "outputs": [
    {
     "data": {
      "text/html": [
       "<div>\n",
       "<style scoped>\n",
       "    .dataframe tbody tr th:only-of-type {\n",
       "        vertical-align: middle;\n",
       "    }\n",
       "\n",
       "    .dataframe tbody tr th {\n",
       "        vertical-align: top;\n",
       "    }\n",
       "\n",
       "    .dataframe thead th {\n",
       "        text-align: right;\n",
       "    }\n",
       "</style>\n",
       "<table border=\"1\" class=\"dataframe\">\n",
       "  <thead>\n",
       "    <tr style=\"text-align: right;\">\n",
       "      <th></th>\n",
       "      <th>total_sales</th>\n",
       "      <th>user_score</th>\n",
       "    </tr>\n",
       "  </thead>\n",
       "  <tbody>\n",
       "    <tr>\n",
       "      <th>total_sales</th>\n",
       "      <td>1.000000</td>\n",
       "      <td>0.883348</td>\n",
       "    </tr>\n",
       "    <tr>\n",
       "      <th>user_score</th>\n",
       "      <td>0.883348</td>\n",
       "      <td>1.000000</td>\n",
       "    </tr>\n",
       "  </tbody>\n",
       "</table>\n",
       "</div>"
      ],
      "text/plain": [
       "             total_sales  user_score\n",
       "total_sales     1.000000    0.883348\n",
       "user_score      0.883348    1.000000"
      ]
     },
     "execution_count": 31,
     "metadata": {},
     "output_type": "execute_result"
    },
    {
     "data": {
      "image/png": "[encoded data removed]",
      "text/plain": [
       "<Figure size 432x288 with 1 Axes>"
      ]
     },
     "metadata": {
      "needs_background": "light"
     },
     "output_type": "display_data"
    }
   ],
   "source": [
    "user_pivot = pd.pivot_table(platform, values=['user_score', 'total_sales'], index='year_of_release', aggfunc='mean')\n",
    "user_pivot = user_pivot[user_pivot.notnull().all(axis=1)]\n",
    "user_pivot.user_score = round(user_pivot.user_score, 2)\n",
    "\n",
    "user_pivot.plot.scatter(x='user_score', y='total_sales')\n",
    "user_pivot.corr()"
   ]
  },
  {
   "cell_type": "markdown",
   "metadata": {},
   "source": [
    "We can see from the correlation tables and the scatter plots that the critic and user scores (1 and 0.88 respectively) have a strong significant effect on total sales."
   ]
  },
  {
   "cell_type": "markdown",
   "metadata": {},
   "source": [
    "<div class=\"alert alert-success\" role=\"alert\">\n",
    "Reviewer's comment v. 2:\n",
    "    \n",
    "You have made a correct conclusion :)\n",
    "</div>"
   ]
  },
  {
   "cell_type": "markdown",
   "metadata": {},
   "source": [
    "\n",
    "### Keeping your conclusions in mind, compare the sales of the same games on other platforms.\n"
   ]
  },
  {
   "cell_type": "code",
   "execution_count": 32,
   "metadata": {
    "scrolled": false
   },
   "outputs": [
    {
     "name": "stdout",
     "output_type": "stream",
     "text": [
      "xone critic score correlation: 0.2\n",
      "There isn't a strong correlation between critic score and total sales. \n",
      "\n",
      "xone user score correlation: 0.24\n",
      "There isn't a strong correlation between user score and total sales. \n",
      "\n",
      "ps4 critic score correlation: 0.98\n",
      "There is a strong correlation between critic score and total sales. \n",
      "\n",
      "ps4 user score correlation: -0.98\n",
      "There is a strong correlation between user score and total sales. \n",
      "\n",
      "3ds critic score correlation: -0.99\n",
      "There is a strong correlation between critic score and total sales. \n",
      "\n",
      "3ds user score correlation: -0.98\n",
      "There is a strong correlation between user score and total sales. \n",
      "\n"
     ]
    },
    {
     "data": {
      "image/png": "[encoded data removed]",
      "text/plain": [
       "<Figure size 432x288 with 1 Axes>"
      ]
     },
     "metadata": {
      "needs_background": "light"
     },
     "output_type": "display_data"
    },
    {
     "data": {
      "image/png": "[encoded data removed]",
      "text/plain": [
       "<Figure size 432x288 with 1 Axes>"
      ]
     },
     "metadata": {
      "needs_background": "light"
     },
     "output_type": "display_data"
    },
    {
     "data": {
      "image/png": "[encoded data removed]",
      "text/plain": [
       "<Figure size 432x288 with 1 Axes>"
      ]
     },
     "metadata": {
      "needs_background": "light"
     },
     "output_type": "display_data"
    },
    {
     "data": {
      "image/png": "[encoded data removed]",
      "text/plain": [
       "<Figure size 432x288 with 1 Axes>"
      ]
     },
     "metadata": {
      "needs_background": "light"
     },
     "output_type": "display_data"
    },
    {
     "data": {
      "image/png": "[encoded data removed]",
      "text/plain": [
       "<Figure size 432x288 with 1 Axes>"
      ]
     },
     "metadata": {
      "needs_background": "light"
     },
     "output_type": "display_data"
    },
    {
     "data": {
      "image/png": "[encoded data removed]",
      "text/plain": [
       "<Figure size 432x288 with 1 Axes>"
      ]
     },
     "metadata": {
      "needs_background": "light"
     },
     "output_type": "display_data"
    }
   ],
   "source": [
    "platforms = ['xone', 'ps4', '3ds']\n",
    "\n",
    "def score_effect(platform_name):\n",
    "    \n",
    "    platform = filtered_df[filtered_df.platform == platform_name]\n",
    "    critic_pivot = pd.pivot_table(platform, values=['critic_score', 'total_sales'], index='year_of_release', aggfunc='mean')\n",
    "    critic_pivot = critic_pivot[critic_pivot.notnull().all(axis=1)]\n",
    "    critic_pivot.critic_score = round(critic_pivot.critic_score, 2)\n",
    "    critic_pivot.plot.scatter(x='critic_score', y='total_sales')\n",
    "    plt.title(platform_name)\n",
    "    \n",
    "    critic_corr = round(critic_pivot.corr().iat[0,1], 2)\n",
    "    print(platform_name, 'critic score correlation:', critic_corr)\n",
    "    if abs(critic_corr) >= 0.5:\n",
    "        print('There is a strong correlation between critic score and total sales.', '\\n')\n",
    "    else:\n",
    "        print('There isn\\'t a strong correlation between critic score and total sales.', '\\n')\n",
    "        \n",
    "    user_pivot = pd.pivot_table(platform, values=['user_score', 'total_sales'], index='year_of_release', aggfunc='mean')\n",
    "    user_pivot = user_pivot[user_pivot.notnull().all(axis=1)]\n",
    "    user_pivot.user_score = round(user_pivot.user_score, 2)\n",
    "    user_pivot.plot.scatter(x='user_score', y='total_sales')\n",
    "    \n",
    "    user_corr = round(user_pivot.corr().iat[0,1], 2)\n",
    "    print(platform_name, 'user score correlation:', user_corr)\n",
    "    if abs(user_corr) >= 0.5:\n",
    "        print('There is a strong correlation between user score and total sales.', '\\n')\n",
    "    else:\n",
    "        print('There isn\\'t a strong correlation between user score and total sales.', '\\n')\n",
    "        \n",
    "    \n",
    "\n",
    "for platform in platforms:\n",
    "    score_effect(platform)"
   ]
  },
  {
   "cell_type": "markdown",
   "metadata": {},
   "source": [
    "We can see from the correlation tables and scatter plots that 2 other platforms have similar strong effect on total sales in accordance with critic and user scores, the third one has non significant correlation."
   ]
  },
  {
   "cell_type": "markdown",
   "metadata": {},
   "source": [
    "<div class=\"alert alert-success\" role=\"alert\">\n",
    "Reviewer's comment v. 2:\n",
    "    \n",
    "Yes, we have a correlations between variables. Please note that correlation function shows only linear dependecy between variables. Maybe this link will be interesting for you: https://machinelearningmastery.com/how-to-use-correlation-to-understand-the-relationship-between-variables/.\n",
    "</div>"
   ]
  },
  {
   "cell_type": "markdown",
   "metadata": {},
   "source": [
    "\n",
    "### Take a look at the general distribution of games by genre. What can we say about the most profitable genres? Can you generalize about genres with high and low sales? "
   ]
  },
  {
   "cell_type": "code",
   "execution_count": 33,
   "metadata": {
    "scrolled": true
   },
   "outputs": [
    {
     "data": {
      "image/png": "[encoded data removed]",
      "text/plain": [
       "<Figure size 432x288 with 1 Axes>"
      ]
     },
     "metadata": {
      "needs_background": "light"
     },
     "output_type": "display_data"
    }
   ],
   "source": [
    "genre_pivot = pd.pivot_table(filtered_df, values='total_sales', index='genre', aggfunc='sum').sort_values(by='total_sales').reset_index()\n",
    "genre_pivot.plot.bar(x='genre', y='total_sales', rot=45)\n",
    "plt.show()"
   ]
  },
  {
   "cell_type": "markdown",
   "metadata": {},
   "source": [
    "The most profitable genres are: action, shooter, sports.\n",
    "\n",
    "The least profitable genres are: strategy, puzzle, simulation."
   ]
  },
  {
   "cell_type": "markdown",
   "metadata": {},
   "source": [
    "### Conclusion"
   ]
  },
  {
   "cell_type": "markdown",
   "metadata": {},
   "source": [
    "In this section, we saw that:\n",
    "* the data isn't significant for  every  period.\n",
    "* the sales  varied  from  platform  to platform. Average lifetime of a platform is 10 years.\n",
    "* we should take the data since 2014.\n",
    "* some platforms are very profitable and some not.\n",
    "* there are significant differences  in  sales across platforms.\n",
    "* user and professional  reviews  affect  sales across platforms.\n",
    "* some genres are very profitable and some not."
   ]
  },
  {
   "cell_type": "markdown",
   "metadata": {},
   "source": [
    "<div class=\"alert alert-success\" role=\"alert\">\n",
    "Reviewer's comment v. 2:\n",
    "    \n",
    "Ok :)\n",
    "</div>"
   ]
  },
  {
   "cell_type": "markdown",
   "metadata": {},
   "source": [
    "## Create a user profile  for  each region For each  region  (NA, EU, JP), determine: "
   ]
  },
  {
   "cell_type": "markdown",
   "metadata": {},
   "source": [
    "### Top five platforms by market shares and regions"
   ]
  },
  {
   "cell_type": "code",
   "execution_count": 34,
   "metadata": {},
   "outputs": [
    {
     "data": {
      "text/html": [
       "<div>\n",
       "<style scoped>\n",
       "    .dataframe tbody tr th:only-of-type {\n",
       "        vertical-align: middle;\n",
       "    }\n",
       "\n",
       "    .dataframe tbody tr th {\n",
       "        vertical-align: top;\n",
       "    }\n",
       "\n",
       "    .dataframe thead th {\n",
       "        text-align: right;\n",
       "    }\n",
       "</style>\n",
       "<table border=\"1\" class=\"dataframe\">\n",
       "  <thead>\n",
       "    <tr style=\"text-align: right;\">\n",
       "      <th></th>\n",
       "      <th>eu_sales</th>\n",
       "      <th>jp_sales</th>\n",
       "      <th>na_sales</th>\n",
       "    </tr>\n",
       "    <tr>\n",
       "      <th>platform</th>\n",
       "      <th></th>\n",
       "      <th></th>\n",
       "      <th></th>\n",
       "    </tr>\n",
       "  </thead>\n",
       "  <tbody>\n",
       "    <tr>\n",
       "      <th>ps3</th>\n",
       "      <td>43.427988</td>\n",
       "      <td>19.078388</td>\n",
       "      <td>37.493624</td>\n",
       "    </tr>\n",
       "    <tr>\n",
       "      <th>wii</th>\n",
       "      <td>55.460385</td>\n",
       "      <td>0.000000</td>\n",
       "      <td>44.539615</td>\n",
       "    </tr>\n",
       "    <tr>\n",
       "      <th>x360</th>\n",
       "      <td>35.308867</td>\n",
       "      <td>0.182357</td>\n",
       "      <td>64.508776</td>\n",
       "    </tr>\n",
       "  </tbody>\n",
       "</table>\n",
       "</div>"
      ],
      "text/plain": [
       "           eu_sales   jp_sales   na_sales\n",
       "platform                                 \n",
       "ps3       43.427988  19.078388  37.493624\n",
       "wii       55.460385   0.000000  44.539615\n",
       "x360      35.308867   0.182357  64.508776"
      ]
     },
     "metadata": {},
     "output_type": "display_data"
    },
    {
     "data": {
      "image/png": "[encoded data removed]",
      "text/plain": [
       "<Figure size 432x288 with 1 Axes>"
      ]
     },
     "metadata": {
      "needs_background": "light"
     },
     "output_type": "display_data"
    }
   ],
   "source": [
    "top_five_df = greatest_total_sales_platforms.query('year_of_release >= 2014')\n",
    "platforms_regions = pd.pivot_table(top_five_df, index='platform', values=['na_sales', 'eu_sales', 'jp_sales'], aggfunc='sum')                                                \n",
    "\n",
    "platforms_percentage = platforms_regions.div(platforms_regions.sum(axis=1), axis=0) * 100\n",
    "display(platforms_percentage)\n",
    "\n",
    "platforms_percentage.plot(kind='bar', stacked=True, rot=0)\n",
    "plt.title(\"Top five platforms by market shares and regions\")\n",
    "plt.ylabel(\"market shares\")\n",
    "plt.show()"
   ]
  },
  {
   "cell_type": "markdown",
   "metadata": {},
   "source": [
    "We can see that north america has the largest market share of x360, europe has the largest market share of wii and japan has market share only of ps3 (and non significant market share of x360)."
   ]
  },
  {
   "cell_type": "markdown",
   "metadata": {},
   "source": [
    "<div class=\"alert alert-success\" role=\"alert\">\n",
    "Reviewer's comment v. 2:\n",
    "    \n",
    "Yes, we have different leading platforms for these regions.\n",
    "</div>"
   ]
  },
  {
   "cell_type": "markdown",
   "metadata": {},
   "source": [
    "### Top five genres"
   ]
  },
  {
   "cell_type": "code",
   "execution_count": 35,
   "metadata": {
    "scrolled": false
   },
   "outputs": [
    {
     "data": {
      "text/html": [
       "<div>\n",
       "<style scoped>\n",
       "    .dataframe tbody tr th:only-of-type {\n",
       "        vertical-align: middle;\n",
       "    }\n",
       "\n",
       "    .dataframe tbody tr th {\n",
       "        vertical-align: top;\n",
       "    }\n",
       "\n",
       "    .dataframe thead th {\n",
       "        text-align: right;\n",
       "    }\n",
       "</style>\n",
       "<table border=\"1\" class=\"dataframe\">\n",
       "  <thead>\n",
       "    <tr style=\"text-align: right;\">\n",
       "      <th></th>\n",
       "      <th>eu_sales</th>\n",
       "      <th>jp_sales</th>\n",
       "      <th>na_sales</th>\n",
       "    </tr>\n",
       "    <tr>\n",
       "      <th>genre</th>\n",
       "      <th></th>\n",
       "      <th></th>\n",
       "      <th></th>\n",
       "    </tr>\n",
       "  </thead>\n",
       "  <tbody>\n",
       "    <tr>\n",
       "      <th>action</th>\n",
       "      <td>39.638682</td>\n",
       "      <td>16.542685</td>\n",
       "      <td>43.818633</td>\n",
       "    </tr>\n",
       "    <tr>\n",
       "      <th>adventure</th>\n",
       "      <td>42.265193</td>\n",
       "      <td>10.220994</td>\n",
       "      <td>47.513812</td>\n",
       "    </tr>\n",
       "    <tr>\n",
       "      <th>fighting</th>\n",
       "      <td>20.496894</td>\n",
       "      <td>42.236025</td>\n",
       "      <td>37.267081</td>\n",
       "    </tr>\n",
       "    <tr>\n",
       "      <th>misc</th>\n",
       "      <td>46.233230</td>\n",
       "      <td>4.334365</td>\n",
       "      <td>49.432405</td>\n",
       "    </tr>\n",
       "    <tr>\n",
       "      <th>platform</th>\n",
       "      <td>55.555556</td>\n",
       "      <td>2.469136</td>\n",
       "      <td>41.975309</td>\n",
       "    </tr>\n",
       "    <tr>\n",
       "      <th>puzzle</th>\n",
       "      <td>0.000000</td>\n",
       "      <td>100.000000</td>\n",
       "      <td>0.000000</td>\n",
       "    </tr>\n",
       "    <tr>\n",
       "      <th>racing</th>\n",
       "      <td>51.489362</td>\n",
       "      <td>5.106383</td>\n",
       "      <td>43.404255</td>\n",
       "    </tr>\n",
       "    <tr>\n",
       "      <th>role-playing</th>\n",
       "      <td>26.484561</td>\n",
       "      <td>29.216152</td>\n",
       "      <td>44.299287</td>\n",
       "    </tr>\n",
       "    <tr>\n",
       "      <th>shooter</th>\n",
       "      <td>40.961199</td>\n",
       "      <td>2.910053</td>\n",
       "      <td>56.128748</td>\n",
       "    </tr>\n",
       "    <tr>\n",
       "      <th>simulation</th>\n",
       "      <td>46.478873</td>\n",
       "      <td>2.816901</td>\n",
       "      <td>50.704225</td>\n",
       "    </tr>\n",
       "    <tr>\n",
       "      <th>sports</th>\n",
       "      <td>44.513081</td>\n",
       "      <td>3.997093</td>\n",
       "      <td>51.489826</td>\n",
       "    </tr>\n",
       "    <tr>\n",
       "      <th>strategy</th>\n",
       "      <td>0.000000</td>\n",
       "      <td>100.000000</td>\n",
       "      <td>0.000000</td>\n",
       "    </tr>\n",
       "  </tbody>\n",
       "</table>\n",
       "</div>"
      ],
      "text/plain": [
       "               eu_sales    jp_sales   na_sales\n",
       "genre                                         \n",
       "action        39.638682   16.542685  43.818633\n",
       "adventure     42.265193   10.220994  47.513812\n",
       "fighting      20.496894   42.236025  37.267081\n",
       "misc          46.233230    4.334365  49.432405\n",
       "platform      55.555556    2.469136  41.975309\n",
       "puzzle         0.000000  100.000000   0.000000\n",
       "racing        51.489362    5.106383  43.404255\n",
       "role-playing  26.484561   29.216152  44.299287\n",
       "shooter       40.961199    2.910053  56.128748\n",
       "simulation    46.478873    2.816901  50.704225\n",
       "sports        44.513081    3.997093  51.489826\n",
       "strategy       0.000000  100.000000   0.000000"
      ]
     },
     "metadata": {},
     "output_type": "display_data"
    },
    {
     "data": {
      "image/png": "[encoded data removed]",
      "text/plain": [
       "<Figure size 432x288 with 1 Axes>"
      ]
     },
     "metadata": {
      "needs_background": "light"
     },
     "output_type": "display_data"
    }
   ],
   "source": [
    "top_five_genres_names = genre_pivot.nlargest(5, ['total_sales']).genre.tolist()\n",
    "genres_regions = pd.pivot_table(top_five_df, index='genre', values=['na_sales', 'eu_sales', 'jp_sales'], aggfunc='sum')                                                \n",
    "\n",
    "genres_percentage = genres_regions.div(genres_regions.sum(axis=1), axis=0) * 100\n",
    "display(genres_percentage)\n",
    "genres_percentage.plot(kind='bar', stacked=True, rot=45)\n",
    "\n",
    "plt.title(\"Top five platforms by market shares and regions\")\n",
    "plt.ylabel(\"market shares\")\n",
    "plt.show()"
   ]
  },
  {
   "cell_type": "markdown",
   "metadata": {},
   "source": [
    "We can see differnces between total sales by regions in relation to genres:\n",
    "* Japan has 100% market share in puzzle and strategy.\n",
    "* North America has above 50% market share in: shooter, sports  and simulation.\n",
    "* Europe has above 50% market share in platform. "
   ]
  },
  {
   "cell_type": "markdown",
   "metadata": {},
   "source": [
    "<div class=\"alert alert-warning\" role=\"alert\">\n",
    "Reviewer's comment v. 2:\n",
    "    \n",
    "Could you please describe a possible reason of similarities and differences in preferences of these regions?\n",
    "</div>"
   ]
  },
  {
   "cell_type": "markdown",
   "metadata": {},
   "source": [
    "### ESRB ratings effect on sales in individual regions"
   ]
  },
  {
   "cell_type": "code",
   "execution_count": 36,
   "metadata": {
    "scrolled": false
   },
   "outputs": [
    {
     "data": {
      "text/html": [
       "<div>\n",
       "<style scoped>\n",
       "    .dataframe tbody tr th:only-of-type {\n",
       "        vertical-align: middle;\n",
       "    }\n",
       "\n",
       "    .dataframe tbody tr th {\n",
       "        vertical-align: top;\n",
       "    }\n",
       "\n",
       "    .dataframe thead th {\n",
       "        text-align: right;\n",
       "    }\n",
       "</style>\n",
       "<table border=\"1\" class=\"dataframe\">\n",
       "  <thead>\n",
       "    <tr style=\"text-align: right;\">\n",
       "      <th></th>\n",
       "      <th>eu_sales</th>\n",
       "      <th>jp_sales</th>\n",
       "      <th>na_sales</th>\n",
       "    </tr>\n",
       "    <tr>\n",
       "      <th>rating</th>\n",
       "      <th></th>\n",
       "      <th></th>\n",
       "      <th></th>\n",
       "    </tr>\n",
       "  </thead>\n",
       "  <tbody>\n",
       "    <tr>\n",
       "      <th>E</th>\n",
       "      <td>49.312043</td>\n",
       "      <td>7.593002</td>\n",
       "      <td>43.094955</td>\n",
       "    </tr>\n",
       "    <tr>\n",
       "      <th>E10+</th>\n",
       "      <td>40.971026</td>\n",
       "      <td>6.985121</td>\n",
       "      <td>52.043853</td>\n",
       "    </tr>\n",
       "    <tr>\n",
       "      <th>M</th>\n",
       "      <td>47.222924</td>\n",
       "      <td>4.048112</td>\n",
       "      <td>48.728963</td>\n",
       "    </tr>\n",
       "    <tr>\n",
       "      <th>T</th>\n",
       "      <td>38.804100</td>\n",
       "      <td>16.833713</td>\n",
       "      <td>44.362187</td>\n",
       "    </tr>\n",
       "  </tbody>\n",
       "</table>\n",
       "</div>"
      ],
      "text/plain": [
       "         eu_sales   jp_sales   na_sales\n",
       "rating                                 \n",
       "E       49.312043   7.593002  43.094955\n",
       "E10+    40.971026   6.985121  52.043853\n",
       "M       47.222924   4.048112  48.728963\n",
       "T       38.804100  16.833713  44.362187"
      ]
     },
     "metadata": {},
     "output_type": "display_data"
    },
    {
     "data": {
      "image/png": "[encoded data removed]",
      "text/plain": [
       "<Figure size 432x288 with 1 Axes>"
      ]
     },
     "metadata": {
      "needs_background": "light"
     },
     "output_type": "display_data"
    }
   ],
   "source": [
    "ratings_regions = pd.pivot_table(filtered_df, index='rating', values=['na_sales', 'eu_sales', 'jp_sales'], aggfunc='sum') \n",
    "ratings_percentage = ratings_regions.div(ratings_regions.sum(axis=1), axis=0) * 100\n",
    "\n",
    "display(ratings_percentage)\n",
    "ratings_percentage.plot(kind='bar', stacked=True, rot=0)\n",
    "\n",
    "plt.title(\"Sales by rating and region\")\n",
    "plt.ylabel(\"market shares\")\n",
    "plt.show()"
   ]
  },
  {
   "cell_type": "markdown",
   "metadata": {},
   "source": [
    "We can see that:\n",
    "* Japan's largest market share is T rating.\n",
    "* North America has above 50% market share in E10+ rating.\n",
    "* Europe's largest market share is E rating (almost 50%)."
   ]
  },
  {
   "cell_type": "markdown",
   "metadata": {},
   "source": [
    "### Conclusion"
   ]
  },
  {
   "cell_type": "markdown",
   "metadata": {},
   "source": [
    "In this section we:\n",
    "* looked at the top five platforms and described variations in their market shares from region to region.\n",
    "* looked at the top five genres and described variations in their market shares from region to region.\n",
    "* saw the effect of ESRB ratings on sales in different regions."
   ]
  },
  {
   "cell_type": "markdown",
   "metadata": {},
   "source": [
    "<div class=\"alert alert-success\" role=\"alert\">\n",
    "Reviewer's comment v. 2:\n",
    "    \n",
    "👍👍👍\n",
    "</div>"
   ]
  },
  {
   "cell_type": "markdown",
   "metadata": {},
   "source": [
    "## Test the following  hypotheses: "
   ]
  },
  {
   "cell_type": "markdown",
   "metadata": {},
   "source": [
    "### Hypothesis: Average user ratings of the Xbox One and PC platforms are the same"
   ]
  },
  {
   "cell_type": "code",
   "execution_count": 37,
   "metadata": {},
   "outputs": [
    {
     "name": "stdout",
     "output_type": "stream",
     "text": [
      "p-value:  0.10450507919348415\n",
      "We can't reject the null hypothesis\n"
     ]
    }
   ],
   "source": [
    "alpha = 0.05 \n",
    "sample_1 = filtered_df.query('platform == \"xone\" and user_score.notnull()').user_score\n",
    "sample_2 = filtered_df.query('platform == \"pc\" and user_score.notnull()').user_score\n",
    "\n",
    "results = st.ttest_ind(sample_1, sample_2)\n",
    "\n",
    "print('p-value: ', results.pvalue)\n",
    "\n",
    "if results.pvalue < alpha:\n",
    "    print(\"We reject the null hypothesis\")\n",
    "else:\n",
    "    print(\"We can't reject the null hypothesis\") "
   ]
  },
  {
   "cell_type": "markdown",
   "metadata": {},
   "source": [
    "* H0: Average user ratings of the Xbox One and PC platforms are the same.\n",
    "* H1:Average user ratings of the Xbox One and PC platforms are not the same\n",
    "\n",
    "As we can see above, We can't reject the null hypothesis: Average user ratings of the Xbox One and PC platforms are the same."
   ]
  },
  {
   "cell_type": "markdown",
   "metadata": {},
   "source": [
    "<div class=\"alert alert-success\" role=\"alert\">\n",
    "Reviewer's comment v. 1:\n",
    "    \n",
    "It's great that you formulated the null and alternative hypotheses explicitly.\n",
    "</div>"
   ]
  },
  {
   "cell_type": "markdown",
   "metadata": {},
   "source": [
    "<div class=\"alert alert-success\" role=\"alert\">\n",
    "Reviewer's comment v. 2:\n",
    "    \n",
    "Yes, you are right. We don't have a statistically significant differences between average XBox One user ratings and PC user ratings.\n",
    "</div>"
   ]
  },
  {
   "cell_type": "markdown",
   "metadata": {},
   "source": [
    "### Hypothesis: Average user ratings for the Action and Sports genres are different"
   ]
  },
  {
   "cell_type": "code",
   "execution_count": 38,
   "metadata": {},
   "outputs": [
    {
     "name": "stdout",
     "output_type": "stream",
     "text": [
      "p-value:  2.8711147985105864e-19\n",
      "We reject the null hypothesis\n"
     ]
    }
   ],
   "source": [
    "sample_1 = filtered_df.query('genre == \"action\" and user_score.notnull()').user_score\n",
    "sample_2 = filtered_df.query('genre == \"sports\" and user_score.notnull()').user_score\n",
    "\n",
    "results = st.ttest_ind(sample_1, sample_2)\n",
    "\n",
    "print('p-value: ', results.pvalue)\n",
    "\n",
    "if results.pvalue < alpha:\n",
    "    print(\"We reject the null hypothesis\")\n",
    "else:\n",
    "    print(\"We can't reject the null hypothesis\") "
   ]
  },
  {
   "cell_type": "markdown",
   "metadata": {},
   "source": [
    "* H0: Average user ratings for the Action and Sports genres are the same.\n",
    "* H1: Average user ratings for the Action and Sports genres are different.\n",
    "\n",
    "As we can see above, we reject the null hypothesis: Average user ratings for the Action and Sports genres are different."
   ]
  },
  {
   "cell_type": "markdown",
   "metadata": {},
   "source": [
    "<div class=\"alert alert-success\" role=\"alert\">\n",
    "Reviewer's comment v. 1:\n",
    "    \n",
    "Good job, hypotheses formulation is correct :)\n",
    "</div>"
   ]
  },
  {
   "cell_type": "markdown",
   "metadata": {},
   "source": [
    "<div class=\"alert alert-success\" role=\"alert\">\n",
    "Reviewer's comment v. 2:\n",
    "    \n",
    "Yes, you are right, there is a statistically significant differences in the average user_scores for Action and Sport.\n",
    "</div>"
   ]
  },
  {
   "cell_type": "markdown",
   "metadata": {},
   "source": [
    "### Conclusion"
   ]
  },
  {
   "cell_type": "markdown",
   "metadata": {},
   "source": [
    "In this section, we test 2 independent hypotheses:\n",
    "1. Average user ratings of the Xbox One and PC platforms are the same (H0 in its own test).\n",
    "2. Average user ratings for the Action and Sports genres are different (H1 in its own test).\n",
    "\n",
    "* In the first, we can't reject the null hypothesis. In the second, we reject the null hypothesis and thus we accepted the alternative hypothesis."
   ]
  },
  {
   "cell_type": "markdown",
   "metadata": {},
   "source": [
    "<div class=\"alert alert-success\" role=\"alert\">\n",
    "Reviewer's comment v. 1:\n",
    "    \n",
    "Maybe this link will be interesting for you: https://ocw.mit.edu/courses/mathematics/18-443-statistics-for-applications-fall-2006/lecture-notes/lecture13.pdf \n",
    "</div>"
   ]
  },
  {
   "cell_type": "markdown",
   "metadata": {},
   "source": [
    "Thanks :)"
   ]
  },
  {
   "cell_type": "markdown",
   "metadata": {},
   "source": [
    "##  Write  a general conclusion "
   ]
  },
  {
   "cell_type": "markdown",
   "metadata": {},
   "source": [
    "In this project, we:\n",
    "* recognized problems in the dataset: missing values, upper and lower cases, converting data types of several columns.\n",
    "* replaced the column names and several columns to lowercase, filled in missing values in year_of_release and user_score and converted their data types, calculated the total sales (the sum of sales in all regions) for each game and put these values in a separate column.\n",
    "* found that the data isn't significant for every period.\n",
    "* found that the sales varied from platform to platform.\n",
    "* found that an average lifetime of a platform is 10 years.\n",
    "* understood that we should take the data since 2014.\n",
    "* saw that some platforms are very profitable and some not.\n",
    "* saw that there are significant differences in sales across platforms.\n",
    "* looked how user and professional reviews affect sales across platforms.\n",
    "* saw that some genres are very profitable and some not.\n",
    "* looked at the top five platforms and described variations in their market shares from region to region.\n",
    "* looked at the top five genres and described variations in their market shares from region to region.\n",
    "* saw the effect of ESRB ratings on sales in different regions.\n",
    "\n",
    "\n",
    "In addition, we tested 2 independent hypotheses:\n",
    "\n",
    "1. Average user ratings of the Xbox One and PC platforms are the same (H0 in its own test). We accepted this hypothesis.\n",
    "2. Average user ratings for the Action and Sports genres are different (H1 in its own test). We accepted this hypothesis.\n",
    "\n",
    "To sum up, I recommend to take into consideration the next parameters in relation to games sales:\n",
    "* the region\n",
    "* the genre\n",
    "* users and critics scores\n",
    "* previous years trends\n",
    "* ESRB ratings\n",
    "* the different platforms"
   ]
  },
  {
   "cell_type": "markdown",
   "metadata": {},
   "source": [
    "<div class=\"alert alert-success\" role=\"alert\">\n",
    "Reviewer's comment v. 2:\n",
    "    \n",
    "You have made a really detailed conclusion, well done!\n",
    "</div>"
   ]
  },
  {
   "cell_type": "code",
   "execution_count": null,
   "metadata": {},
   "outputs": [],
   "source": []
  }
 ],
 "metadata": {
  "ExecuteTimeLog": [
   {
    "duration": 830,
    "start_time": "2021-07-07T12:06:36.217Z"
   },
   {
    "duration": 104,
    "start_time": "2021-07-07T12:06:49.975Z"
   },
   {
    "duration": 18,
    "start_time": "2021-07-07T12:07:10.260Z"
   },
   {
    "duration": 43,
    "start_time": "2021-07-07T12:08:27.916Z"
   },
   {
    "duration": 4,
    "start_time": "2021-07-07T12:09:04.384Z"
   },
   {
    "duration": 6,
    "start_time": "2021-07-07T12:09:12.474Z"
   },
   {
    "duration": 28,
    "start_time": "2021-07-07T12:10:40.377Z"
   },
   {
    "duration": 65,
    "start_time": "2021-07-07T12:31:32.510Z"
   },
   {
    "duration": 6978,
    "start_time": "2021-07-07T12:34:43.677Z"
   },
   {
    "duration": 11450,
    "start_time": "2021-07-07T12:36:01.378Z"
   },
   {
    "duration": 6670,
    "start_time": "2021-07-07T13:33:12.520Z"
   },
   {
    "duration": 6647,
    "start_time": "2021-07-07T13:33:31.190Z"
   },
   {
    "duration": 90,
    "start_time": "2021-07-07T13:34:35.160Z"
   },
   {
    "duration": 559,
    "start_time": "2021-07-07T13:34:51.561Z"
   },
   {
    "duration": 7684,
    "start_time": "2021-07-07T14:12:46.630Z"
   },
   {
    "duration": 20,
    "start_time": "2021-07-07T14:13:03.547Z"
   },
   {
    "duration": 10125,
    "start_time": "2021-07-07T14:13:05.784Z"
   },
   {
    "duration": 4,
    "start_time": "2021-07-07T14:13:26.274Z"
   },
   {
    "duration": 6722,
    "start_time": "2021-07-07T14:13:33.068Z"
   },
   {
    "duration": 4,
    "start_time": "2021-07-07T14:14:32.203Z"
   },
   {
    "duration": 74,
    "start_time": "2021-07-07T14:14:32.212Z"
   },
   {
    "duration": 15,
    "start_time": "2021-07-07T14:14:32.289Z"
   },
   {
    "duration": 89,
    "start_time": "2021-07-07T14:14:32.308Z"
   },
   {
    "duration": 4,
    "start_time": "2021-07-07T14:14:32.401Z"
   },
   {
    "duration": 15,
    "start_time": "2021-07-07T14:14:32.407Z"
   },
   {
    "duration": 35,
    "start_time": "2021-07-07T14:14:32.425Z"
   },
   {
    "duration": 4,
    "start_time": "2021-07-07T14:14:32.462Z"
   },
   {
    "duration": 7,
    "start_time": "2021-07-07T14:14:44.630Z"
   },
   {
    "duration": 21,
    "start_time": "2021-07-07T14:15:00.356Z"
   },
   {
    "duration": 12,
    "start_time": "2021-07-07T14:15:15.886Z"
   },
   {
    "duration": 8,
    "start_time": "2021-07-07T14:15:32.324Z"
   },
   {
    "duration": 261,
    "start_time": "2021-07-07T14:16:25.710Z"
   },
   {
    "duration": 285,
    "start_time": "2021-07-07T14:16:33.223Z"
   },
   {
    "duration": 41,
    "start_time": "2021-07-07T14:16:43.476Z"
   },
   {
    "duration": 25,
    "start_time": "2021-07-07T14:16:49.802Z"
   },
   {
    "duration": 27,
    "start_time": "2021-07-07T14:17:05.345Z"
   },
   {
    "duration": 30,
    "start_time": "2021-07-07T14:19:53.888Z"
   },
   {
    "duration": 27,
    "start_time": "2021-07-07T14:19:59.289Z"
   },
   {
    "duration": 56,
    "start_time": "2021-07-07T14:20:44.774Z"
   },
   {
    "duration": 24,
    "start_time": "2021-07-07T14:39:15.502Z"
   },
   {
    "duration": 317,
    "start_time": "2021-07-07T14:44:29.993Z"
   },
   {
    "duration": 532,
    "start_time": "2021-07-07T14:44:39.729Z"
   },
   {
    "duration": 24,
    "start_time": "2021-07-07T14:44:59.552Z"
   },
   {
    "duration": 676,
    "start_time": "2021-07-07T14:45:17.810Z"
   },
   {
    "duration": 334,
    "start_time": "2021-07-07T14:45:30.164Z"
   },
   {
    "duration": 17,
    "start_time": "2021-07-07T14:46:23.283Z"
   },
   {
    "duration": 24,
    "start_time": "2021-07-07T14:46:30.974Z"
   },
   {
    "duration": 670,
    "start_time": "2021-07-07T14:46:40.944Z"
   },
   {
    "duration": 274,
    "start_time": "2021-07-07T14:47:08.419Z"
   },
   {
    "duration": 424,
    "start_time": "2021-07-07T14:48:45.303Z"
   },
   {
    "duration": 409,
    "start_time": "2021-07-07T14:49:23.470Z"
   },
   {
    "duration": 542,
    "start_time": "2021-07-07T14:50:13.639Z"
   },
   {
    "duration": 4,
    "start_time": "2021-07-07T14:52:57.441Z"
   },
   {
    "duration": 442,
    "start_time": "2021-07-07T14:53:06.067Z"
   },
   {
    "duration": 260,
    "start_time": "2021-07-07T14:55:21.140Z"
   },
   {
    "duration": 597,
    "start_time": "2021-07-07T14:55:28.350Z"
   },
   {
    "duration": 301,
    "start_time": "2021-07-07T14:55:34.087Z"
   },
   {
    "duration": 7,
    "start_time": "2021-07-07T14:56:14.089Z"
   },
   {
    "duration": 23,
    "start_time": "2021-07-07T14:56:16.198Z"
   },
   {
    "duration": 777,
    "start_time": "2021-07-07T14:56:47.007Z"
   },
   {
    "duration": 29,
    "start_time": "2021-07-07T14:57:40.135Z"
   },
   {
    "duration": 318,
    "start_time": "2021-07-07T14:57:51.208Z"
   },
   {
    "duration": 5,
    "start_time": "2021-07-07T15:02:09.858Z"
   },
   {
    "duration": 323,
    "start_time": "2021-07-07T15:07:35.606Z"
   },
   {
    "duration": 65,
    "start_time": "2021-07-07T15:07:41.617Z"
   },
   {
    "duration": 329,
    "start_time": "2021-07-07T15:30:56.429Z"
   },
   {
    "duration": 1373,
    "start_time": "2021-07-07T19:31:43.477Z"
   },
   {
    "duration": 52,
    "start_time": "2021-07-07T19:31:44.852Z"
   },
   {
    "duration": 9,
    "start_time": "2021-07-07T19:31:44.906Z"
   },
   {
    "duration": 29,
    "start_time": "2021-07-07T19:31:44.917Z"
   },
   {
    "duration": 47,
    "start_time": "2021-07-07T19:31:44.948Z"
   },
   {
    "duration": 3,
    "start_time": "2021-07-07T19:31:44.997Z"
   },
   {
    "duration": 21,
    "start_time": "2021-07-07T19:31:45.002Z"
   },
   {
    "duration": 18,
    "start_time": "2021-07-07T19:31:45.025Z"
   },
   {
    "duration": 17,
    "start_time": "2021-07-07T19:31:50.507Z"
   },
   {
    "duration": 8,
    "start_time": "2021-07-07T19:31:52.835Z"
   },
   {
    "duration": 1205,
    "start_time": "2021-07-07T20:49:37.294Z"
   },
   {
    "duration": 178,
    "start_time": "2021-07-07T20:50:58.201Z"
   },
   {
    "duration": 3,
    "start_time": "2021-07-07T20:51:05.173Z"
   },
   {
    "duration": 6,
    "start_time": "2021-07-07T20:52:37.003Z"
   },
   {
    "duration": 17,
    "start_time": "2021-07-07T20:53:04.710Z"
   },
   {
    "duration": 4,
    "start_time": "2021-07-07T21:03:07.373Z"
   },
   {
    "duration": 12,
    "start_time": "2021-07-07T21:03:12.944Z"
   },
   {
    "duration": 228,
    "start_time": "2021-07-07T21:35:10.333Z"
   },
   {
    "duration": 1841,
    "start_time": "2021-07-08T09:25:37.205Z"
   },
   {
    "duration": 452,
    "start_time": "2021-07-08T09:25:50.470Z"
   },
   {
    "duration": 4,
    "start_time": "2021-07-08T09:26:10.295Z"
   },
   {
    "duration": 256,
    "start_time": "2021-07-08T09:28:35.728Z"
   },
   {
    "duration": 4,
    "start_time": "2021-07-08T09:28:42.699Z"
   },
   {
    "duration": 77,
    "start_time": "2021-07-08T09:28:42.706Z"
   },
   {
    "duration": 17,
    "start_time": "2021-07-08T09:28:42.787Z"
   },
   {
    "duration": 74,
    "start_time": "2021-07-08T09:28:42.807Z"
   },
   {
    "duration": 40,
    "start_time": "2021-07-08T09:28:42.884Z"
   },
   {
    "duration": 29,
    "start_time": "2021-07-08T09:28:42.926Z"
   },
   {
    "duration": 28,
    "start_time": "2021-07-08T09:28:42.957Z"
   },
   {
    "duration": 25,
    "start_time": "2021-07-08T09:28:42.988Z"
   },
   {
    "duration": 5,
    "start_time": "2021-07-08T09:28:43.015Z"
   },
   {
    "duration": 10,
    "start_time": "2021-07-08T09:28:43.055Z"
   },
   {
    "duration": 20,
    "start_time": "2021-07-08T09:28:43.067Z"
   },
   {
    "duration": 31,
    "start_time": "2021-07-08T09:28:43.089Z"
   },
   {
    "duration": 6286,
    "start_time": "2021-07-08T09:28:50.178Z"
   },
   {
    "duration": 393,
    "start_time": "2021-07-08T09:29:18.887Z"
   },
   {
    "duration": 472,
    "start_time": "2021-07-08T09:32:08.989Z"
   },
   {
    "duration": 433,
    "start_time": "2021-07-08T09:48:38.947Z"
   },
   {
    "duration": 82,
    "start_time": "2021-07-08T10:11:11.240Z"
   },
   {
    "duration": 89,
    "start_time": "2021-07-08T10:11:16.723Z"
   },
   {
    "duration": 4,
    "start_time": "2021-07-08T10:24:33.574Z"
   },
   {
    "duration": 262,
    "start_time": "2021-07-08T10:33:13.498Z"
   },
   {
    "duration": 4,
    "start_time": "2021-07-08T10:34:33.066Z"
   },
   {
    "duration": 4,
    "start_time": "2021-07-08T10:34:56.292Z"
   },
   {
    "duration": 72,
    "start_time": "2021-07-08T10:34:56.302Z"
   },
   {
    "duration": 13,
    "start_time": "2021-07-08T10:34:56.377Z"
   },
   {
    "duration": 65,
    "start_time": "2021-07-08T10:34:56.394Z"
   },
   {
    "duration": 34,
    "start_time": "2021-07-08T10:34:56.462Z"
   },
   {
    "duration": 16,
    "start_time": "2021-07-08T10:34:56.499Z"
   },
   {
    "duration": 43,
    "start_time": "2021-07-08T10:34:56.517Z"
   },
   {
    "duration": 26,
    "start_time": "2021-07-08T10:34:56.563Z"
   },
   {
    "duration": 5,
    "start_time": "2021-07-08T10:34:56.592Z"
   },
   {
    "duration": 13,
    "start_time": "2021-07-08T10:34:56.600Z"
   },
   {
    "duration": 50,
    "start_time": "2021-07-08T10:34:56.616Z"
   },
   {
    "duration": 35,
    "start_time": "2021-07-08T10:34:56.668Z"
   },
   {
    "duration": 419,
    "start_time": "2021-07-08T10:34:56.705Z"
   },
   {
    "duration": 83,
    "start_time": "2021-07-08T10:40:31.688Z"
   },
   {
    "duration": 12580,
    "start_time": "2021-07-08T10:41:33.363Z"
   },
   {
    "duration": 9,
    "start_time": "2021-07-08T10:41:48.542Z"
   },
   {
    "duration": 33,
    "start_time": "2021-07-08T10:43:14.786Z"
   },
   {
    "duration": 252,
    "start_time": "2021-07-08T10:45:02.095Z"
   },
   {
    "duration": 575,
    "start_time": "2021-07-08T10:50:00.092Z"
   },
   {
    "duration": 33,
    "start_time": "2021-07-08T11:01:41.046Z"
   },
   {
    "duration": 40,
    "start_time": "2021-07-08T11:02:00.356Z"
   },
   {
    "duration": 37,
    "start_time": "2021-07-08T11:02:37.752Z"
   },
   {
    "duration": 3,
    "start_time": "2021-07-08T11:03:03.123Z"
   },
   {
    "duration": 4,
    "start_time": "2021-07-08T11:03:18.379Z"
   },
   {
    "duration": 10,
    "start_time": "2021-07-08T11:04:16.602Z"
   },
   {
    "duration": 293,
    "start_time": "2021-07-08T11:09:24.266Z"
   },
   {
    "duration": 466,
    "start_time": "2021-07-08T11:10:08.057Z"
   },
   {
    "duration": 486,
    "start_time": "2021-07-08T11:10:15.473Z"
   },
   {
    "duration": 268,
    "start_time": "2021-07-08T11:13:29.332Z"
   },
   {
    "duration": 29,
    "start_time": "2021-07-08T11:13:50.122Z"
   },
   {
    "duration": 31,
    "start_time": "2021-07-08T11:14:04.371Z"
   },
   {
    "duration": 26,
    "start_time": "2021-07-08T11:14:22.951Z"
   },
   {
    "duration": 24,
    "start_time": "2021-07-08T11:19:31.529Z"
   },
   {
    "duration": 4,
    "start_time": "2021-07-08T11:20:21.219Z"
   },
   {
    "duration": 24,
    "start_time": "2021-07-08T11:22:10.489Z"
   },
   {
    "duration": 3,
    "start_time": "2021-07-08T11:22:29.731Z"
   },
   {
    "duration": 10,
    "start_time": "2021-07-08T11:22:29.739Z"
   },
   {
    "duration": 76,
    "start_time": "2021-07-08T11:22:29.752Z"
   },
   {
    "duration": 13,
    "start_time": "2021-07-08T11:22:29.831Z"
   },
   {
    "duration": 91,
    "start_time": "2021-07-08T11:22:29.846Z"
   },
   {
    "duration": 50,
    "start_time": "2021-07-08T11:22:29.940Z"
   },
   {
    "duration": 6,
    "start_time": "2021-07-08T11:22:29.993Z"
   },
   {
    "duration": 58,
    "start_time": "2021-07-08T11:22:30.002Z"
   },
   {
    "duration": 31,
    "start_time": "2021-07-08T11:22:30.064Z"
   },
   {
    "duration": 6,
    "start_time": "2021-07-08T11:22:30.099Z"
   },
   {
    "duration": 23,
    "start_time": "2021-07-08T11:22:30.108Z"
   },
   {
    "duration": 48,
    "start_time": "2021-07-08T11:22:30.134Z"
   },
   {
    "duration": 36,
    "start_time": "2021-07-08T11:22:30.185Z"
   },
   {
    "duration": 451,
    "start_time": "2021-07-08T11:22:30.225Z"
   },
   {
    "duration": 3,
    "start_time": "2021-07-08T11:22:30.679Z"
   },
   {
    "duration": 332,
    "start_time": "2021-07-08T11:22:36.335Z"
   },
   {
    "duration": 22,
    "start_time": "2021-07-08T11:23:51.099Z"
   },
   {
    "duration": 27,
    "start_time": "2021-07-08T11:24:19.264Z"
   },
   {
    "duration": 28,
    "start_time": "2021-07-08T11:24:34.361Z"
   },
   {
    "duration": 4,
    "start_time": "2021-07-08T11:25:04.962Z"
   },
   {
    "duration": 20,
    "start_time": "2021-07-08T11:25:04.968Z"
   },
   {
    "duration": 82,
    "start_time": "2021-07-08T11:25:04.991Z"
   },
   {
    "duration": 13,
    "start_time": "2021-07-08T11:25:05.076Z"
   },
   {
    "duration": 106,
    "start_time": "2021-07-08T11:25:05.091Z"
   },
   {
    "duration": 36,
    "start_time": "2021-07-08T11:25:05.200Z"
   },
   {
    "duration": 5,
    "start_time": "2021-07-08T11:25:05.258Z"
   },
   {
    "duration": 35,
    "start_time": "2021-07-08T11:25:05.266Z"
   },
   {
    "duration": 60,
    "start_time": "2021-07-08T11:25:05.304Z"
   },
   {
    "duration": 6,
    "start_time": "2021-07-08T11:25:05.367Z"
   },
   {
    "duration": 34,
    "start_time": "2021-07-08T11:25:05.376Z"
   },
   {
    "duration": 24,
    "start_time": "2021-07-08T11:25:05.412Z"
   },
   {
    "duration": 408,
    "start_time": "2021-07-08T11:25:05.454Z"
   },
   {
    "duration": 3,
    "start_time": "2021-07-08T11:25:05.865Z"
   },
   {
    "duration": 39,
    "start_time": "2021-07-08T11:25:05.871Z"
   },
   {
    "duration": 28,
    "start_time": "2021-07-08T11:31:15.505Z"
   },
   {
    "duration": 3,
    "start_time": "2021-07-08T11:31:48.570Z"
   },
   {
    "duration": 30,
    "start_time": "2021-07-08T11:31:48.575Z"
   },
   {
    "duration": 72,
    "start_time": "2021-07-08T11:31:48.608Z"
   },
   {
    "duration": 13,
    "start_time": "2021-07-08T11:31:48.683Z"
   },
   {
    "duration": 98,
    "start_time": "2021-07-08T11:31:48.699Z"
   },
   {
    "duration": 36,
    "start_time": "2021-07-08T11:31:48.800Z"
   },
   {
    "duration": 6,
    "start_time": "2021-07-08T11:31:48.854Z"
   },
   {
    "duration": 32,
    "start_time": "2021-07-08T11:31:48.862Z"
   },
   {
    "duration": 25,
    "start_time": "2021-07-08T11:31:48.897Z"
   },
   {
    "duration": 30,
    "start_time": "2021-07-08T11:31:48.925Z"
   },
   {
    "duration": 26,
    "start_time": "2021-07-08T11:31:48.957Z"
   },
   {
    "duration": 22,
    "start_time": "2021-07-08T11:31:48.986Z"
   },
   {
    "duration": 465,
    "start_time": "2021-07-08T11:31:49.010Z"
   },
   {
    "duration": 2,
    "start_time": "2021-07-08T11:31:49.478Z"
   },
   {
    "duration": 38,
    "start_time": "2021-07-08T11:31:49.482Z"
   },
   {
    "duration": 5,
    "start_time": "2021-07-08T11:33:11.504Z"
   },
   {
    "duration": 86,
    "start_time": "2021-07-08T11:33:13.057Z"
   },
   {
    "duration": 18,
    "start_time": "2021-07-08T11:33:19.677Z"
   },
   {
    "duration": 110,
    "start_time": "2021-07-08T11:33:22.175Z"
   },
   {
    "duration": 56,
    "start_time": "2021-07-08T11:33:26.844Z"
   },
   {
    "duration": 8,
    "start_time": "2021-07-08T11:33:27.670Z"
   },
   {
    "duration": 26,
    "start_time": "2021-07-08T11:33:30.303Z"
   },
   {
    "duration": 27,
    "start_time": "2021-07-08T11:33:33.498Z"
   },
   {
    "duration": 6,
    "start_time": "2021-07-08T11:33:37.051Z"
   },
   {
    "duration": 25,
    "start_time": "2021-07-08T11:33:40.685Z"
   },
   {
    "duration": 28,
    "start_time": "2021-07-08T11:38:53.100Z"
   },
   {
    "duration": 39,
    "start_time": "2021-07-08T11:39:15.718Z"
   },
   {
    "duration": 21,
    "start_time": "2021-07-08T11:41:40.334Z"
   },
   {
    "duration": 26,
    "start_time": "2021-07-08T11:41:54.169Z"
   },
   {
    "duration": 25,
    "start_time": "2021-07-08T11:42:16.337Z"
   },
   {
    "duration": 275,
    "start_time": "2021-07-08T11:42:41.961Z"
   },
   {
    "duration": 274,
    "start_time": "2021-07-08T11:43:06.775Z"
   },
   {
    "duration": 25,
    "start_time": "2021-07-08T11:43:34.854Z"
   },
   {
    "duration": 26,
    "start_time": "2021-07-08T11:43:42.610Z"
   },
   {
    "duration": 25,
    "start_time": "2021-07-08T11:44:21.396Z"
   },
   {
    "duration": 26,
    "start_time": "2021-07-08T11:44:32.067Z"
   },
   {
    "duration": 268,
    "start_time": "2021-07-08T11:45:01.556Z"
   },
   {
    "duration": 25,
    "start_time": "2021-07-08T11:45:12.930Z"
   },
   {
    "duration": 27,
    "start_time": "2021-07-08T11:46:11.634Z"
   },
   {
    "duration": 269,
    "start_time": "2021-07-08T11:46:32.324Z"
   },
   {
    "duration": 27,
    "start_time": "2021-07-08T11:50:03.118Z"
   },
   {
    "duration": 24,
    "start_time": "2021-07-08T11:50:22.106Z"
   },
   {
    "duration": 251,
    "start_time": "2021-07-08T11:52:45.497Z"
   },
   {
    "duration": 6000,
    "start_time": "2021-07-08T11:53:08.467Z"
   },
   {
    "duration": 7135,
    "start_time": "2021-07-08T11:53:35.897Z"
   },
   {
    "duration": 16,
    "start_time": "2021-07-08T11:54:09.100Z"
   },
   {
    "duration": 18,
    "start_time": "2021-07-08T11:54:52.524Z"
   },
   {
    "duration": 34,
    "start_time": "2021-07-08T11:55:02.443Z"
   },
   {
    "duration": 23,
    "start_time": "2021-07-08T11:55:23.374Z"
   },
   {
    "duration": 13,
    "start_time": "2021-07-08T11:55:37.061Z"
   },
   {
    "duration": 12,
    "start_time": "2021-07-08T11:55:58.334Z"
   },
   {
    "duration": 7,
    "start_time": "2021-07-08T11:58:24.632Z"
   },
   {
    "duration": 12,
    "start_time": "2021-07-08T11:58:32.926Z"
   },
   {
    "duration": 23,
    "start_time": "2021-07-08T12:00:04.065Z"
   },
   {
    "duration": 25,
    "start_time": "2021-07-08T12:00:14.179Z"
   },
   {
    "duration": 4,
    "start_time": "2021-07-08T12:17:54.401Z"
   },
   {
    "duration": 37,
    "start_time": "2021-07-08T12:18:30.591Z"
   },
   {
    "duration": 4,
    "start_time": "2021-07-08T12:18:56.374Z"
   },
   {
    "duration": 6,
    "start_time": "2021-07-08T12:18:56.383Z"
   },
   {
    "duration": 75,
    "start_time": "2021-07-08T12:18:56.391Z"
   },
   {
    "duration": 15,
    "start_time": "2021-07-08T12:18:56.470Z"
   },
   {
    "duration": 101,
    "start_time": "2021-07-08T12:18:56.489Z"
   },
   {
    "duration": 37,
    "start_time": "2021-07-08T12:18:56.593Z"
   },
   {
    "duration": 29,
    "start_time": "2021-07-08T12:18:56.632Z"
   },
   {
    "duration": 43,
    "start_time": "2021-07-08T12:18:56.664Z"
   },
   {
    "duration": 27,
    "start_time": "2021-07-08T12:18:56.710Z"
   },
   {
    "duration": 15,
    "start_time": "2021-07-08T12:18:56.740Z"
   },
   {
    "duration": 11,
    "start_time": "2021-07-08T12:18:56.758Z"
   },
   {
    "duration": 26,
    "start_time": "2021-07-08T12:19:08.068Z"
   },
   {
    "duration": 23,
    "start_time": "2021-07-08T12:19:53.550Z"
   },
   {
    "duration": 11,
    "start_time": "2021-07-08T12:32:02.562Z"
   },
   {
    "duration": 279,
    "start_time": "2021-07-08T12:35:23.852Z"
   },
   {
    "duration": 17,
    "start_time": "2021-07-08T12:35:39.313Z"
   },
   {
    "duration": 14,
    "start_time": "2021-07-08T12:35:59.741Z"
   },
   {
    "duration": 10,
    "start_time": "2021-07-08T12:36:03.492Z"
   },
   {
    "duration": 14,
    "start_time": "2021-07-08T12:36:30.886Z"
   },
   {
    "duration": 23,
    "start_time": "2021-07-08T12:38:01.491Z"
   },
   {
    "duration": 36,
    "start_time": "2021-07-08T12:40:57.795Z"
   },
   {
    "duration": 11,
    "start_time": "2021-07-08T12:42:17.163Z"
   },
   {
    "duration": 34,
    "start_time": "2021-07-08T12:42:23.370Z"
   },
   {
    "duration": 35,
    "start_time": "2021-07-08T12:43:21.688Z"
   },
   {
    "duration": 282,
    "start_time": "2021-07-08T12:46:14.584Z"
   },
   {
    "duration": 549,
    "start_time": "2021-07-08T12:46:50.299Z"
   },
   {
    "duration": 9,
    "start_time": "2021-07-08T12:48:06.926Z"
   },
   {
    "duration": 25,
    "start_time": "2021-07-08T12:50:36.598Z"
   },
   {
    "duration": 23,
    "start_time": "2021-07-08T12:52:08.114Z"
   },
   {
    "duration": 22,
    "start_time": "2021-07-08T12:52:17.024Z"
   },
   {
    "duration": 24,
    "start_time": "2021-07-08T12:52:25.591Z"
   },
   {
    "duration": 24,
    "start_time": "2021-07-08T12:52:56.362Z"
   },
   {
    "duration": 33,
    "start_time": "2021-07-08T12:53:34.240Z"
   },
   {
    "duration": 575,
    "start_time": "2021-07-08T12:54:12.618Z"
   },
   {
    "duration": 43,
    "start_time": "2021-07-08T14:37:23.443Z"
   },
   {
    "duration": 24,
    "start_time": "2021-07-08T14:41:07.357Z"
   },
   {
    "duration": 408,
    "start_time": "2021-07-08T17:04:09.307Z"
   },
   {
    "duration": 4,
    "start_time": "2021-07-08T17:04:26.567Z"
   },
   {
    "duration": 2436,
    "start_time": "2021-07-08T17:04:26.573Z"
   },
   {
    "duration": 1520,
    "start_time": "2021-07-08T17:04:27.493Z"
   },
   {
    "duration": 1514,
    "start_time": "2021-07-08T17:04:27.500Z"
   },
   {
    "duration": 1500,
    "start_time": "2021-07-08T17:04:27.515Z"
   },
   {
    "duration": 1405,
    "start_time": "2021-07-08T17:04:27.612Z"
   },
   {
    "duration": 1388,
    "start_time": "2021-07-08T17:04:27.630Z"
   },
   {
    "duration": 1370,
    "start_time": "2021-07-08T17:04:27.650Z"
   },
   {
    "duration": 1364,
    "start_time": "2021-07-08T17:04:27.657Z"
   },
   {
    "duration": 1356,
    "start_time": "2021-07-08T17:04:27.666Z"
   },
   {
    "duration": 1344,
    "start_time": "2021-07-08T17:04:27.680Z"
   },
   {
    "duration": 1331,
    "start_time": "2021-07-08T17:04:27.694Z"
   },
   {
    "duration": 1325,
    "start_time": "2021-07-08T17:04:27.701Z"
   },
   {
    "duration": 1318,
    "start_time": "2021-07-08T17:04:27.710Z"
   },
   {
    "duration": 968,
    "start_time": "2021-07-08T17:05:01.142Z"
   },
   {
    "duration": 11956,
    "start_time": "2021-07-08T17:05:31.428Z"
   },
   {
    "duration": 8,
    "start_time": "2021-07-08T17:05:43.387Z"
   },
   {
    "duration": 79,
    "start_time": "2021-07-08T17:05:43.399Z"
   },
   {
    "duration": 21,
    "start_time": "2021-07-08T17:05:43.482Z"
   },
   {
    "duration": 104,
    "start_time": "2021-07-08T17:05:43.505Z"
   },
   {
    "duration": 55,
    "start_time": "2021-07-08T17:05:43.612Z"
   },
   {
    "duration": 6,
    "start_time": "2021-07-08T17:05:43.669Z"
   },
   {
    "duration": 2314,
    "start_time": "2021-07-08T17:05:43.679Z"
   },
   {
    "duration": 43,
    "start_time": "2021-07-08T17:05:45.998Z"
   },
   {
    "duration": 41,
    "start_time": "2021-07-08T17:05:46.063Z"
   },
   {
    "duration": 8,
    "start_time": "2021-07-08T17:05:46.107Z"
   },
   {
    "duration": 45,
    "start_time": "2021-07-08T17:05:46.118Z"
   },
   {
    "duration": 28,
    "start_time": "2021-07-08T17:05:46.166Z"
   },
   {
    "duration": 33,
    "start_time": "2021-07-08T17:05:46.197Z"
   },
   {
    "duration": 932,
    "start_time": "2021-07-08T17:05:46.233Z"
   },
   {
    "duration": 1102,
    "start_time": "2021-07-08T17:05:46.066Z"
   },
   {
    "duration": 1085,
    "start_time": "2021-07-08T17:05:46.084Z"
   },
   {
    "duration": 1019,
    "start_time": "2021-07-08T17:05:46.152Z"
   },
   {
    "duration": 992,
    "start_time": "2021-07-08T17:05:46.180Z"
   },
   {
    "duration": 986,
    "start_time": "2021-07-08T17:05:46.188Z"
   },
   {
    "duration": 134,
    "start_time": "2021-07-09T13:50:17.298Z"
   },
   {
    "duration": 510,
    "start_time": "2021-07-09T13:50:54.397Z"
   },
   {
    "duration": 14141,
    "start_time": "2021-07-09T13:51:17.758Z"
   },
   {
    "duration": 2252,
    "start_time": "2021-07-09T13:51:31.905Z"
   },
   {
    "duration": 100,
    "start_time": "2021-07-09T13:51:34.162Z"
   },
   {
    "duration": 30,
    "start_time": "2021-07-09T13:51:34.265Z"
   },
   {
    "duration": 71,
    "start_time": "2021-07-09T13:51:34.299Z"
   },
   {
    "duration": 45,
    "start_time": "2021-07-09T13:51:34.385Z"
   },
   {
    "duration": 6,
    "start_time": "2021-07-09T13:51:34.432Z"
   },
   {
    "duration": 817,
    "start_time": "2021-07-09T13:51:34.441Z"
   },
   {
    "duration": 38,
    "start_time": "2021-07-09T13:51:35.261Z"
   },
   {
    "duration": 39,
    "start_time": "2021-07-09T13:51:35.303Z"
   },
   {
    "duration": 6,
    "start_time": "2021-07-09T13:51:35.344Z"
   },
   {
    "duration": 41,
    "start_time": "2021-07-09T13:51:35.352Z"
   },
   {
    "duration": 28,
    "start_time": "2021-07-09T13:51:35.397Z"
   },
   {
    "duration": 23,
    "start_time": "2021-07-09T13:51:35.427Z"
   },
   {
    "duration": 1027,
    "start_time": "2021-07-09T13:51:52.847Z"
   },
   {
    "duration": 1133,
    "start_time": "2021-07-09T13:53:34.879Z"
   },
   {
    "duration": 931,
    "start_time": "2021-07-09T13:53:43.707Z"
   },
   {
    "duration": 878,
    "start_time": "2021-07-09T13:53:51.147Z"
   },
   {
    "duration": 11,
    "start_time": "2021-07-09T13:55:03.806Z"
   },
   {
    "duration": 828,
    "start_time": "2021-07-09T13:55:26.895Z"
   },
   {
    "duration": 12,
    "start_time": "2021-07-09T13:55:39.289Z"
   },
   {
    "duration": 928,
    "start_time": "2021-07-09T13:55:45.203Z"
   },
   {
    "duration": 866,
    "start_time": "2021-07-09T13:56:40.225Z"
   },
   {
    "duration": 845,
    "start_time": "2021-07-09T14:00:08.479Z"
   },
   {
    "duration": 675,
    "start_time": "2021-07-09T14:02:17.800Z"
   },
   {
    "duration": 801,
    "start_time": "2021-07-09T14:02:36.454Z"
   },
   {
    "duration": 662,
    "start_time": "2021-07-09T14:03:47.792Z"
   },
   {
    "duration": 1266,
    "start_time": "2021-07-09T14:04:48.094Z"
   },
   {
    "duration": 811,
    "start_time": "2021-07-09T14:05:01.952Z"
   },
   {
    "duration": 1340,
    "start_time": "2021-07-09T14:05:19.815Z"
   },
   {
    "duration": 1078,
    "start_time": "2021-07-09T14:05:56.657Z"
   },
   {
    "duration": 994,
    "start_time": "2021-07-09T14:06:22.134Z"
   },
   {
    "duration": 1113,
    "start_time": "2021-07-09T14:06:33.247Z"
   },
   {
    "duration": 1085,
    "start_time": "2021-07-09T14:07:13.873Z"
   },
   {
    "duration": 721,
    "start_time": "2021-07-09T14:19:25.162Z"
   },
   {
    "duration": 1746,
    "start_time": "2021-07-09T14:20:08.306Z"
   },
   {
    "duration": 215,
    "start_time": "2021-07-09T19:53:55.051Z"
   },
   {
    "duration": 8409,
    "start_time": "2021-07-09T19:54:01.328Z"
   },
   {
    "duration": 1496,
    "start_time": "2021-07-09T19:54:09.739Z"
   },
   {
    "duration": 62,
    "start_time": "2021-07-09T19:54:11.237Z"
   },
   {
    "duration": 13,
    "start_time": "2021-07-09T19:54:11.301Z"
   },
   {
    "duration": 42,
    "start_time": "2021-07-09T19:54:11.316Z"
   },
   {
    "duration": 46,
    "start_time": "2021-07-09T19:54:11.359Z"
   },
   {
    "duration": 4,
    "start_time": "2021-07-09T19:54:11.407Z"
   },
   {
    "duration": 323,
    "start_time": "2021-07-09T19:54:11.413Z"
   },
   {
    "duration": 18,
    "start_time": "2021-07-09T19:54:11.738Z"
   },
   {
    "duration": 46,
    "start_time": "2021-07-09T19:54:11.758Z"
   },
   {
    "duration": 5,
    "start_time": "2021-07-09T19:54:11.806Z"
   },
   {
    "duration": 9,
    "start_time": "2021-07-09T19:54:11.812Z"
   },
   {
    "duration": 16,
    "start_time": "2021-07-09T19:54:11.823Z"
   },
   {
    "duration": 15,
    "start_time": "2021-07-09T19:54:11.841Z"
   },
   {
    "duration": 772,
    "start_time": "2021-07-09T19:54:11.857Z"
   },
   {
    "duration": 2,
    "start_time": "2021-07-09T19:54:12.630Z"
   },
   {
    "duration": 3,
    "start_time": "2021-07-09T19:54:21.970Z"
   },
   {
    "duration": 273,
    "start_time": "2021-07-09T19:54:22.347Z"
   },
   {
    "duration": 180,
    "start_time": "2021-07-09T19:57:04.673Z"
   },
   {
    "duration": 8,
    "start_time": "2021-07-09T19:58:01.064Z"
   },
   {
    "duration": 11,
    "start_time": "2021-07-09T19:58:07.933Z"
   },
   {
    "duration": 14,
    "start_time": "2021-07-09T19:58:16.718Z"
   },
   {
    "duration": 11,
    "start_time": "2021-07-09T20:03:42.981Z"
   },
   {
    "duration": 1070,
    "start_time": "2021-07-09T20:04:47.492Z"
   },
   {
    "duration": 16,
    "start_time": "2021-07-09T20:05:02.064Z"
   },
   {
    "duration": 12,
    "start_time": "2021-07-09T20:05:06.909Z"
   },
   {
    "duration": 270,
    "start_time": "2021-07-10T10:00:39.088Z"
   },
   {
    "duration": 232,
    "start_time": "2021-07-10T10:00:39.610Z"
   },
   {
    "duration": 7215,
    "start_time": "2021-07-10T10:00:48.572Z"
   },
   {
    "duration": 1424,
    "start_time": "2021-07-10T10:00:55.789Z"
   },
   {
    "duration": 50,
    "start_time": "2021-07-10T10:00:57.215Z"
   },
   {
    "duration": 12,
    "start_time": "2021-07-10T10:00:57.267Z"
   },
   {
    "duration": 38,
    "start_time": "2021-07-10T10:00:57.281Z"
   },
   {
    "duration": 20,
    "start_time": "2021-07-10T10:00:57.321Z"
   },
   {
    "duration": 4,
    "start_time": "2021-07-10T10:00:57.342Z"
   },
   {
    "duration": 440,
    "start_time": "2021-07-10T10:00:57.347Z"
   },
   {
    "duration": 17,
    "start_time": "2021-07-10T10:00:57.789Z"
   },
   {
    "duration": 22,
    "start_time": "2021-07-10T10:00:57.807Z"
   },
   {
    "duration": 5,
    "start_time": "2021-07-10T10:00:57.830Z"
   },
   {
    "duration": 14,
    "start_time": "2021-07-10T10:00:57.836Z"
   },
   {
    "duration": 7,
    "start_time": "2021-07-10T10:00:57.851Z"
   },
   {
    "duration": 37,
    "start_time": "2021-07-10T10:00:57.860Z"
   },
   {
    "duration": 631,
    "start_time": "2021-07-10T10:00:57.899Z"
   },
   {
    "duration": 2,
    "start_time": "2021-07-10T10:00:58.532Z"
   },
   {
    "duration": 21,
    "start_time": "2021-07-10T10:00:58.536Z"
   },
   {
    "duration": 10,
    "start_time": "2021-07-10T10:00:58.559Z"
   },
   {
    "duration": 26,
    "start_time": "2021-07-10T10:00:58.570Z"
   },
   {
    "duration": 16,
    "start_time": "2021-07-10T10:00:58.597Z"
   },
   {
    "duration": 294,
    "start_time": "2021-07-10T10:00:58.614Z"
   },
   {
    "duration": 11,
    "start_time": "2021-07-10T10:03:45.580Z"
   },
   {
    "duration": 364,
    "start_time": "2021-07-10T10:08:34.562Z"
   },
   {
    "duration": 282,
    "start_time": "2021-07-10T10:09:03.862Z"
   },
   {
    "duration": 1821,
    "start_time": "2021-07-10T10:19:41.314Z"
   },
   {
    "duration": 4,
    "start_time": "2021-07-10T10:19:43.138Z"
   },
   {
    "duration": 50,
    "start_time": "2021-07-10T10:19:43.144Z"
   },
   {
    "duration": 12,
    "start_time": "2021-07-10T10:19:43.196Z"
   },
   {
    "duration": 40,
    "start_time": "2021-07-10T10:19:43.210Z"
   },
   {
    "duration": 20,
    "start_time": "2021-07-10T10:19:43.251Z"
   },
   {
    "duration": 21,
    "start_time": "2021-07-10T10:19:43.272Z"
   },
   {
    "duration": 15,
    "start_time": "2021-07-10T10:19:43.296Z"
   },
   {
    "duration": 15,
    "start_time": "2021-07-10T10:19:43.313Z"
   },
   {
    "duration": 22,
    "start_time": "2021-07-10T10:19:43.329Z"
   },
   {
    "duration": 3,
    "start_time": "2021-07-10T10:19:43.353Z"
   },
   {
    "duration": 38,
    "start_time": "2021-07-10T10:19:43.358Z"
   },
   {
    "duration": 12,
    "start_time": "2021-07-10T10:19:43.397Z"
   },
   {
    "duration": 633,
    "start_time": "2021-07-10T10:19:43.411Z"
   },
   {
    "duration": 8,
    "start_time": "2021-07-10T10:19:44.046Z"
   },
   {
    "duration": 2,
    "start_time": "2021-07-10T10:19:44.056Z"
   },
   {
    "duration": 31,
    "start_time": "2021-07-10T10:19:44.059Z"
   },
   {
    "duration": 8,
    "start_time": "2021-07-10T10:19:44.092Z"
   },
   {
    "duration": 9,
    "start_time": "2021-07-10T10:19:44.102Z"
   },
   {
    "duration": 265,
    "start_time": "2021-07-10T10:19:44.113Z"
   },
   {
    "duration": 17,
    "start_time": "2021-07-10T10:19:44.380Z"
   },
   {
    "duration": 16,
    "start_time": "2021-07-10T10:19:44.399Z"
   },
   {
    "duration": 292,
    "start_time": "2021-07-10T10:19:44.418Z"
   },
   {
    "duration": 7,
    "start_time": "2021-07-10T11:27:56.044Z"
   },
   {
    "duration": 13,
    "start_time": "2021-07-10T11:28:02.836Z"
   },
   {
    "duration": 10,
    "start_time": "2021-07-10T11:28:21.667Z"
   },
   {
    "duration": 14,
    "start_time": "2021-07-10T11:28:29.486Z"
   },
   {
    "duration": 321,
    "start_time": "2021-07-10T11:29:11.465Z"
   },
   {
    "duration": 242,
    "start_time": "2021-07-10T11:29:29.154Z"
   },
   {
    "duration": 247,
    "start_time": "2021-07-10T11:29:40.734Z"
   },
   {
    "duration": 15,
    "start_time": "2021-07-10T11:30:17.936Z"
   },
   {
    "duration": 15,
    "start_time": "2021-07-10T11:30:31.967Z"
   },
   {
    "duration": 11,
    "start_time": "2021-07-10T11:32:43.886Z"
   },
   {
    "duration": 16,
    "start_time": "2021-07-10T11:37:52.043Z"
   },
   {
    "duration": 243,
    "start_time": "2021-07-10T11:41:03.682Z"
   },
   {
    "duration": 4633,
    "start_time": "2021-07-10T11:43:56.168Z"
   },
   {
    "duration": 6,
    "start_time": "2021-07-10T11:44:08.698Z"
   },
   {
    "duration": 324,
    "start_time": "2021-07-10T11:44:21.487Z"
   },
   {
    "duration": 16,
    "start_time": "2021-07-10T11:44:45.749Z"
   },
   {
    "duration": 306,
    "start_time": "2021-07-10T11:44:50.125Z"
   },
   {
    "duration": 301,
    "start_time": "2021-07-10T11:44:57.380Z"
   },
   {
    "duration": 4470,
    "start_time": "2021-07-10T11:52:20.144Z"
   },
   {
    "duration": 3,
    "start_time": "2021-07-10T11:52:24.616Z"
   },
   {
    "duration": 55,
    "start_time": "2021-07-10T11:52:24.621Z"
   },
   {
    "duration": 11,
    "start_time": "2021-07-10T11:52:24.678Z"
   },
   {
    "duration": 41,
    "start_time": "2021-07-10T11:52:24.691Z"
   },
   {
    "duration": 22,
    "start_time": "2021-07-10T11:52:24.734Z"
   },
   {
    "duration": 4,
    "start_time": "2021-07-10T11:52:24.758Z"
   },
   {
    "duration": 35,
    "start_time": "2021-07-10T11:52:24.763Z"
   },
   {
    "duration": 16,
    "start_time": "2021-07-10T11:52:24.801Z"
   },
   {
    "duration": 20,
    "start_time": "2021-07-10T11:52:24.819Z"
   },
   {
    "duration": 3,
    "start_time": "2021-07-10T11:52:24.841Z"
   },
   {
    "duration": 14,
    "start_time": "2021-07-10T11:52:24.846Z"
   },
   {
    "duration": 101,
    "start_time": "2021-07-10T11:52:24.861Z"
   },
   {
    "duration": -27,
    "start_time": "2021-07-10T11:52:24.991Z"
   },
   {
    "duration": -47,
    "start_time": "2021-07-10T11:52:25.012Z"
   },
   {
    "duration": -60,
    "start_time": "2021-07-10T11:52:25.025Z"
   },
   {
    "duration": -70,
    "start_time": "2021-07-10T11:52:25.036Z"
   },
   {
    "duration": -77,
    "start_time": "2021-07-10T11:52:25.044Z"
   },
   {
    "duration": -87,
    "start_time": "2021-07-10T11:52:25.055Z"
   },
   {
    "duration": -92,
    "start_time": "2021-07-10T11:52:25.061Z"
   },
   {
    "duration": -104,
    "start_time": "2021-07-10T11:52:25.074Z"
   },
   {
    "duration": -117,
    "start_time": "2021-07-10T11:52:25.088Z"
   },
   {
    "duration": -123,
    "start_time": "2021-07-10T11:52:25.095Z"
   },
   {
    "duration": -134,
    "start_time": "2021-07-10T11:52:25.107Z"
   },
   {
    "duration": -141,
    "start_time": "2021-07-10T11:52:25.115Z"
   },
   {
    "duration": 20,
    "start_time": "2021-07-10T11:53:31.783Z"
   },
   {
    "duration": 647,
    "start_time": "2021-07-10T11:53:33.130Z"
   },
   {
    "duration": 2,
    "start_time": "2021-07-10T11:53:37.117Z"
   },
   {
    "duration": 16,
    "start_time": "2021-07-10T11:53:40.152Z"
   },
   {
    "duration": 12,
    "start_time": "2021-07-10T11:53:41.821Z"
   },
   {
    "duration": 12,
    "start_time": "2021-07-10T11:53:45.382Z"
   },
   {
    "duration": 403,
    "start_time": "2021-07-10T11:53:46.366Z"
   },
   {
    "duration": 11,
    "start_time": "2021-07-10T11:53:55.630Z"
   },
   {
    "duration": 19,
    "start_time": "2021-07-10T11:54:07.695Z"
   },
   {
    "duration": 289,
    "start_time": "2021-07-10T11:54:08.109Z"
   },
   {
    "duration": 12,
    "start_time": "2021-07-10T11:55:08.130Z"
   },
   {
    "duration": 16,
    "start_time": "2021-07-10T11:55:13.729Z"
   },
   {
    "duration": 285,
    "start_time": "2021-07-10T11:55:15.854Z"
   },
   {
    "duration": 9,
    "start_time": "2021-07-10T11:55:24.982Z"
   },
   {
    "duration": 15,
    "start_time": "2021-07-10T11:55:26.005Z"
   },
   {
    "duration": 303,
    "start_time": "2021-07-10T11:55:28.055Z"
   },
   {
    "duration": 9,
    "start_time": "2021-07-10T13:31:30.482Z"
   },
   {
    "duration": 7,
    "start_time": "2021-07-10T13:35:04.433Z"
   },
   {
    "duration": 12,
    "start_time": "2021-07-10T13:36:08.264Z"
   },
   {
    "duration": 11,
    "start_time": "2021-07-10T13:36:29.300Z"
   },
   {
    "duration": 12,
    "start_time": "2021-07-10T13:37:17.705Z"
   },
   {
    "duration": 297,
    "start_time": "2021-07-10T13:37:18.208Z"
   },
   {
    "duration": 16,
    "start_time": "2021-07-10T13:37:33.381Z"
   },
   {
    "duration": 462,
    "start_time": "2021-07-10T13:37:33.835Z"
   },
   {
    "duration": 13,
    "start_time": "2021-07-10T13:50:22.177Z"
   },
   {
    "duration": 35,
    "start_time": "2021-07-10T13:50:32.211Z"
   },
   {
    "duration": 41,
    "start_time": "2021-07-10T13:50:49.014Z"
   },
   {
    "duration": 26,
    "start_time": "2021-07-10T13:59:57.412Z"
   },
   {
    "duration": 29,
    "start_time": "2021-07-10T14:07:51.164Z"
   },
   {
    "duration": 26,
    "start_time": "2021-07-10T14:08:52.715Z"
   },
   {
    "duration": 483,
    "start_time": "2021-07-10T14:10:18.852Z"
   },
   {
    "duration": 457,
    "start_time": "2021-07-10T14:10:45.018Z"
   },
   {
    "duration": 501,
    "start_time": "2021-07-10T14:18:59.830Z"
   },
   {
    "duration": 339,
    "start_time": "2021-07-11T11:20:25.841Z"
   },
   {
    "duration": 16985,
    "start_time": "2021-07-11T11:20:30.960Z"
   },
   {
    "duration": 2223,
    "start_time": "2021-07-11T11:20:47.948Z"
   },
   {
    "duration": 72,
    "start_time": "2021-07-11T11:20:50.174Z"
   },
   {
    "duration": 24,
    "start_time": "2021-07-11T11:20:50.249Z"
   },
   {
    "duration": 64,
    "start_time": "2021-07-11T11:20:50.275Z"
   },
   {
    "duration": 33,
    "start_time": "2021-07-11T11:20:50.356Z"
   },
   {
    "duration": 7,
    "start_time": "2021-07-11T11:20:50.391Z"
   },
   {
    "duration": 678,
    "start_time": "2021-07-11T11:20:50.402Z"
   },
   {
    "duration": 25,
    "start_time": "2021-07-11T11:20:51.083Z"
   },
   {
    "duration": 55,
    "start_time": "2021-07-11T11:20:51.110Z"
   },
   {
    "duration": 5,
    "start_time": "2021-07-11T11:20:51.167Z"
   },
   {
    "duration": 12,
    "start_time": "2021-07-11T11:20:51.175Z"
   },
   {
    "duration": 25,
    "start_time": "2021-07-11T11:20:51.190Z"
   },
   {
    "duration": 66,
    "start_time": "2021-07-11T11:20:51.218Z"
   },
   {
    "duration": 861,
    "start_time": "2021-07-11T11:20:51.287Z"
   },
   {
    "duration": -425,
    "start_time": "2021-07-11T11:20:52.576Z"
   },
   {
    "duration": -429,
    "start_time": "2021-07-11T11:20:52.581Z"
   },
   {
    "duration": -438,
    "start_time": "2021-07-11T11:20:52.591Z"
   },
   {
    "duration": -444,
    "start_time": "2021-07-11T11:20:52.598Z"
   },
   {
    "duration": -458,
    "start_time": "2021-07-11T11:20:52.614Z"
   },
   {
    "duration": -510,
    "start_time": "2021-07-11T11:20:52.667Z"
   },
   {
    "duration": -518,
    "start_time": "2021-07-11T11:20:52.676Z"
   },
   {
    "duration": -521,
    "start_time": "2021-07-11T11:20:52.681Z"
   },
   {
    "duration": -533,
    "start_time": "2021-07-11T11:20:52.694Z"
   },
   {
    "duration": -569,
    "start_time": "2021-07-11T11:20:52.732Z"
   },
   {
    "duration": -591,
    "start_time": "2021-07-11T11:20:52.755Z"
   },
   {
    "duration": -606,
    "start_time": "2021-07-11T11:20:52.772Z"
   },
   {
    "duration": -635,
    "start_time": "2021-07-11T11:20:52.802Z"
   },
   {
    "duration": -763,
    "start_time": "2021-07-11T11:20:52.932Z"
   },
   {
    "duration": -894,
    "start_time": "2021-07-11T11:20:53.064Z"
   },
   {
    "duration": -924,
    "start_time": "2021-07-11T11:20:53.095Z"
   },
   {
    "duration": -930,
    "start_time": "2021-07-11T11:20:53.102Z"
   },
   {
    "duration": -936,
    "start_time": "2021-07-11T11:20:53.110Z"
   },
   {
    "duration": 6,
    "start_time": "2021-07-11T11:21:27.253Z"
   },
   {
    "duration": 10,
    "start_time": "2021-07-11T11:28:59.997Z"
   },
   {
    "duration": 14,
    "start_time": "2021-07-11T11:29:56.919Z"
   },
   {
    "duration": 9,
    "start_time": "2021-07-11T11:30:09.780Z"
   },
   {
    "duration": 1377,
    "start_time": "2021-07-11T11:35:03.214Z"
   },
   {
    "duration": 33,
    "start_time": "2021-07-11T11:37:28.036Z"
   },
   {
    "duration": 19,
    "start_time": "2021-07-11T11:40:07.436Z"
   },
   {
    "duration": 19,
    "start_time": "2021-07-11T11:40:24.824Z"
   },
   {
    "duration": 20,
    "start_time": "2021-07-11T11:40:31.601Z"
   },
   {
    "duration": 20,
    "start_time": "2021-07-11T11:40:41.032Z"
   },
   {
    "duration": 105,
    "start_time": "2021-07-11T11:41:38.192Z"
   },
   {
    "duration": 16,
    "start_time": "2021-07-11T11:43:17.050Z"
   },
   {
    "duration": 23,
    "start_time": "2021-07-11T11:43:25.136Z"
   },
   {
    "duration": 514,
    "start_time": "2021-07-11T11:44:08.556Z"
   },
   {
    "duration": 716,
    "start_time": "2021-07-11T11:45:20.076Z"
   },
   {
    "duration": 998,
    "start_time": "2021-07-11T11:46:50.309Z"
   },
   {
    "duration": 31,
    "start_time": "2021-07-11T11:47:12.770Z"
   },
   {
    "duration": 943,
    "start_time": "2021-07-11T11:47:15.374Z"
   },
   {
    "duration": 553,
    "start_time": "2021-07-11T11:48:22.772Z"
   },
   {
    "duration": 25,
    "start_time": "2021-07-11T11:49:05.941Z"
   },
   {
    "duration": 536,
    "start_time": "2021-07-11T11:49:27.839Z"
   },
   {
    "duration": 27,
    "start_time": "2021-07-11T11:50:43.347Z"
   },
   {
    "duration": 24,
    "start_time": "2021-07-11T11:51:13.820Z"
   },
   {
    "duration": 512,
    "start_time": "2021-07-11T11:51:19.310Z"
   },
   {
    "duration": 25,
    "start_time": "2021-07-11T11:52:04.454Z"
   },
   {
    "duration": 518,
    "start_time": "2021-07-11T11:52:48.907Z"
   },
   {
    "duration": 19,
    "start_time": "2021-07-11T11:55:42.140Z"
   },
   {
    "duration": 20,
    "start_time": "2021-07-11T11:58:00.759Z"
   },
   {
    "duration": 520,
    "start_time": "2021-07-11T11:58:06.977Z"
   },
   {
    "duration": 38,
    "start_time": "2021-07-11T11:59:56.529Z"
   },
   {
    "duration": 339,
    "start_time": "2021-07-11T12:00:46.099Z"
   },
   {
    "duration": 25,
    "start_time": "2021-07-11T12:02:13.831Z"
   },
   {
    "duration": 554,
    "start_time": "2021-07-11T12:02:23.640Z"
   },
   {
    "duration": 365,
    "start_time": "2021-07-11T12:06:16.002Z"
   },
   {
    "duration": 388,
    "start_time": "2021-07-11T12:07:10.309Z"
   },
   {
    "duration": 376,
    "start_time": "2021-07-11T12:08:53.945Z"
   },
   {
    "duration": 6482,
    "start_time": "2021-07-11T12:28:47.607Z"
   },
   {
    "duration": 5,
    "start_time": "2021-07-11T12:28:54.092Z"
   },
   {
    "duration": 82,
    "start_time": "2021-07-11T12:28:54.100Z"
   },
   {
    "duration": 21,
    "start_time": "2021-07-11T12:28:54.186Z"
   },
   {
    "duration": 82,
    "start_time": "2021-07-11T12:28:54.210Z"
   },
   {
    "duration": 30,
    "start_time": "2021-07-11T12:28:54.294Z"
   },
   {
    "duration": 12,
    "start_time": "2021-07-11T12:28:54.327Z"
   },
   {
    "duration": 24,
    "start_time": "2021-07-11T12:28:54.356Z"
   },
   {
    "duration": 27,
    "start_time": "2021-07-11T12:28:54.384Z"
   },
   {
    "duration": 63,
    "start_time": "2021-07-11T12:28:54.414Z"
   },
   {
    "duration": 5,
    "start_time": "2021-07-11T12:28:54.480Z"
   },
   {
    "duration": 21,
    "start_time": "2021-07-11T12:28:54.487Z"
   },
   {
    "duration": 35,
    "start_time": "2021-07-11T12:28:54.510Z"
   },
   {
    "duration": 41,
    "start_time": "2021-07-11T12:28:54.556Z"
   },
   {
    "duration": 1170,
    "start_time": "2021-07-11T12:28:54.600Z"
   },
   {
    "duration": 3,
    "start_time": "2021-07-11T12:28:55.772Z"
   },
   {
    "duration": 32,
    "start_time": "2021-07-11T12:28:55.777Z"
   },
   {
    "duration": 16,
    "start_time": "2021-07-11T12:28:55.811Z"
   },
   {
    "duration": 41,
    "start_time": "2021-07-11T12:28:55.830Z"
   },
   {
    "duration": 521,
    "start_time": "2021-07-11T12:28:55.874Z"
   },
   {
    "duration": 14,
    "start_time": "2021-07-11T12:28:56.397Z"
   },
   {
    "duration": 50,
    "start_time": "2021-07-11T12:28:56.413Z"
   },
   {
    "duration": 492,
    "start_time": "2021-07-11T12:28:56.467Z"
   },
   {
    "duration": 10,
    "start_time": "2021-07-11T12:28:56.962Z"
   },
   {
    "duration": 20,
    "start_time": "2021-07-11T12:28:56.974Z"
   },
   {
    "duration": 574,
    "start_time": "2021-07-11T12:28:56.996Z"
   },
   {
    "duration": 67,
    "start_time": "2021-07-11T12:28:57.572Z"
   },
   {
    "duration": 57,
    "start_time": "2021-07-11T12:28:57.642Z"
   },
   {
    "duration": 745,
    "start_time": "2021-07-11T12:28:57.701Z"
   },
   {
    "duration": 893,
    "start_time": "2021-07-11T12:28:58.456Z"
   },
   {
    "duration": 389,
    "start_time": "2021-07-11T12:28:59.351Z"
   },
   {
    "duration": 375,
    "start_time": "2021-07-11T12:28:59.742Z"
   },
   {
    "duration": 407,
    "start_time": "2021-07-11T12:29:00.119Z"
   },
   {
    "duration": 3,
    "start_time": "2021-07-11T12:29:00.530Z"
   },
   {
    "duration": 7,
    "start_time": "2021-07-11T12:33:21.900Z"
   },
   {
    "duration": 2312,
    "start_time": "2021-07-11T12:34:33.884Z"
   },
   {
    "duration": 2567,
    "start_time": "2021-07-11T12:35:50.813Z"
   },
   {
    "duration": 752,
    "start_time": "2021-07-11T12:36:22.235Z"
   },
   {
    "duration": 998,
    "start_time": "2021-07-11T12:36:30.619Z"
   },
   {
    "duration": 770,
    "start_time": "2021-07-11T12:37:15.823Z"
   },
   {
    "duration": 2580,
    "start_time": "2021-07-11T12:40:37.066Z"
   },
   {
    "duration": 2204,
    "start_time": "2021-07-11T12:40:44.691Z"
   },
   {
    "duration": 2332,
    "start_time": "2021-07-11T12:41:09.153Z"
   },
   {
    "duration": 2161,
    "start_time": "2021-07-11T12:41:35.527Z"
   },
   {
    "duration": 2267,
    "start_time": "2021-07-11T12:42:10.229Z"
   },
   {
    "duration": 2339,
    "start_time": "2021-07-11T12:42:52.388Z"
   },
   {
    "duration": 2427,
    "start_time": "2021-07-11T12:43:04.836Z"
   },
   {
    "duration": 2276,
    "start_time": "2021-07-11T12:43:27.186Z"
   },
   {
    "duration": 2521,
    "start_time": "2021-07-11T13:24:58.462Z"
   },
   {
    "duration": 2721,
    "start_time": "2021-07-11T13:26:48.259Z"
   },
   {
    "duration": 2241,
    "start_time": "2021-07-11T13:26:59.441Z"
   },
   {
    "duration": 2482,
    "start_time": "2021-07-11T13:30:41.365Z"
   },
   {
    "duration": 2170,
    "start_time": "2021-07-11T13:31:59.716Z"
   },
   {
    "duration": 2339,
    "start_time": "2021-07-11T13:32:27.748Z"
   },
   {
    "duration": 17422,
    "start_time": "2021-07-11T15:40:15.826Z"
   },
   {
    "duration": 2470,
    "start_time": "2021-07-11T15:40:33.251Z"
   },
   {
    "duration": 104,
    "start_time": "2021-07-11T15:40:35.724Z"
   },
   {
    "duration": 37,
    "start_time": "2021-07-11T15:40:35.831Z"
   },
   {
    "duration": 111,
    "start_time": "2021-07-11T15:40:35.871Z"
   },
   {
    "duration": 48,
    "start_time": "2021-07-11T15:40:35.985Z"
   },
   {
    "duration": 29,
    "start_time": "2021-07-11T15:40:36.036Z"
   },
   {
    "duration": 792,
    "start_time": "2021-07-11T15:40:36.069Z"
   },
   {
    "duration": 38,
    "start_time": "2021-07-11T15:40:36.868Z"
   },
   {
    "duration": 69,
    "start_time": "2021-07-11T15:40:36.911Z"
   },
   {
    "duration": 6,
    "start_time": "2021-07-11T15:40:36.983Z"
   },
   {
    "duration": 15,
    "start_time": "2021-07-11T15:40:36.993Z"
   },
   {
    "duration": 63,
    "start_time": "2021-07-11T15:40:37.011Z"
   },
   {
    "duration": 28,
    "start_time": "2021-07-11T15:40:37.076Z"
   },
   {
    "duration": 1205,
    "start_time": "2021-07-11T15:40:37.107Z"
   },
   {
    "duration": 3,
    "start_time": "2021-07-11T15:40:38.315Z"
   },
   {
    "duration": 48,
    "start_time": "2021-07-11T15:40:38.321Z"
   },
   {
    "duration": 20,
    "start_time": "2021-07-11T15:40:38.372Z"
   },
   {
    "duration": 21,
    "start_time": "2021-07-11T15:40:38.395Z"
   },
   {
    "duration": 575,
    "start_time": "2021-07-11T15:40:38.419Z"
   },
   {
    "duration": 16,
    "start_time": "2021-07-11T15:40:38.996Z"
   },
   {
    "duration": 61,
    "start_time": "2021-07-11T15:40:39.015Z"
   },
   {
    "duration": 640,
    "start_time": "2021-07-11T15:40:39.078Z"
   },
   {
    "duration": 9,
    "start_time": "2021-07-11T15:40:39.721Z"
   },
   {
    "duration": 43,
    "start_time": "2021-07-11T15:40:39.733Z"
   },
   {
    "duration": 630,
    "start_time": "2021-07-11T15:40:39.779Z"
   },
   {
    "duration": 110,
    "start_time": "2021-07-11T15:40:40.413Z"
   },
   {
    "duration": 66,
    "start_time": "2021-07-11T15:40:40.526Z"
   },
   {
    "duration": 878,
    "start_time": "2021-07-11T15:40:40.597Z"
   },
   {
    "duration": 1093,
    "start_time": "2021-07-11T15:40:41.479Z"
   },
   {
    "duration": 420,
    "start_time": "2021-07-11T15:40:42.578Z"
   },
   {
    "duration": 549,
    "start_time": "2021-07-11T15:40:43.002Z"
   },
   {
    "duration": 2629,
    "start_time": "2021-07-11T15:40:43.554Z"
   },
   {
    "duration": 3,
    "start_time": "2021-07-11T15:40:46.187Z"
   },
   {
    "duration": 2445,
    "start_time": "2021-07-11T15:41:57.784Z"
   },
   {
    "duration": 2507,
    "start_time": "2021-07-11T15:43:15.912Z"
   },
   {
    "duration": 761,
    "start_time": "2021-07-11T16:02:01.749Z"
   },
   {
    "duration": 914,
    "start_time": "2021-07-11T16:07:27.283Z"
   },
   {
    "duration": 2490,
    "start_time": "2021-07-11T16:14:01.397Z"
   },
   {
    "duration": 2659,
    "start_time": "2021-07-11T16:15:14.803Z"
   },
   {
    "duration": 2219,
    "start_time": "2021-07-11T16:17:41.822Z"
   },
   {
    "duration": 2243,
    "start_time": "2021-07-11T16:19:22.241Z"
   },
   {
    "duration": 2695,
    "start_time": "2021-07-11T16:21:37.433Z"
   },
   {
    "duration": 2166,
    "start_time": "2021-07-11T16:23:09.613Z"
   },
   {
    "duration": 2206,
    "start_time": "2021-07-11T16:23:25.064Z"
   },
   {
    "duration": 22,
    "start_time": "2021-07-11T16:26:33.568Z"
   },
   {
    "duration": 24,
    "start_time": "2021-07-11T16:27:19.421Z"
   },
   {
    "duration": 21,
    "start_time": "2021-07-11T16:27:39.875Z"
   },
   {
    "duration": 421,
    "start_time": "2021-07-11T16:28:53.854Z"
   },
   {
    "duration": 315,
    "start_time": "2021-07-11T16:29:02.982Z"
   },
   {
    "duration": 311,
    "start_time": "2021-07-11T16:29:35.758Z"
   },
   {
    "duration": 12,
    "start_time": "2021-07-11T16:39:37.073Z"
   },
   {
    "duration": 13,
    "start_time": "2021-07-11T16:40:51.388Z"
   },
   {
    "duration": 10,
    "start_time": "2021-07-11T16:41:01.232Z"
   },
   {
    "duration": 6,
    "start_time": "2021-07-11T16:41:25.619Z"
   },
   {
    "duration": 9,
    "start_time": "2021-07-11T16:41:33.575Z"
   },
   {
    "duration": 371,
    "start_time": "2021-07-11T21:16:36.280Z"
   },
   {
    "duration": 18216,
    "start_time": "2021-07-11T21:16:41.157Z"
   },
   {
    "duration": 2197,
    "start_time": "2021-07-11T21:16:59.376Z"
   },
   {
    "duration": 78,
    "start_time": "2021-07-11T21:17:01.576Z"
   },
   {
    "duration": 28,
    "start_time": "2021-07-11T21:17:01.657Z"
   },
   {
    "duration": 131,
    "start_time": "2021-07-11T21:17:01.688Z"
   },
   {
    "duration": 55,
    "start_time": "2021-07-11T21:17:01.822Z"
   },
   {
    "duration": 7,
    "start_time": "2021-07-11T21:17:01.879Z"
   },
   {
    "duration": 754,
    "start_time": "2021-07-11T21:17:01.908Z"
   },
   {
    "duration": 41,
    "start_time": "2021-07-11T21:17:02.668Z"
   },
   {
    "duration": 39,
    "start_time": "2021-07-11T21:17:02.713Z"
   },
   {
    "duration": 7,
    "start_time": "2021-07-11T21:17:02.755Z"
   },
   {
    "duration": 49,
    "start_time": "2021-07-11T21:17:02.765Z"
   },
   {
    "duration": 25,
    "start_time": "2021-07-11T21:17:02.816Z"
   },
   {
    "duration": 28,
    "start_time": "2021-07-11T21:17:02.843Z"
   },
   {
    "duration": 1080,
    "start_time": "2021-07-11T21:17:02.874Z"
   },
   {
    "duration": 4,
    "start_time": "2021-07-11T21:17:03.957Z"
   },
   {
    "duration": 44,
    "start_time": "2021-07-11T21:17:03.964Z"
   },
   {
    "duration": 24,
    "start_time": "2021-07-11T21:17:04.010Z"
   },
   {
    "duration": 29,
    "start_time": "2021-07-11T21:17:04.037Z"
   },
   {
    "duration": 915,
    "start_time": "2021-07-11T21:17:04.069Z"
   },
   {
    "duration": 27,
    "start_time": "2021-07-11T21:17:04.986Z"
   },
   {
    "duration": 42,
    "start_time": "2021-07-11T21:17:05.015Z"
   },
   {
    "duration": 931,
    "start_time": "2021-07-11T21:17:05.059Z"
   },
   {
    "duration": 22,
    "start_time": "2021-07-11T21:17:05.993Z"
   },
   {
    "duration": 65,
    "start_time": "2021-07-11T21:17:06.018Z"
   },
   {
    "duration": 898,
    "start_time": "2021-07-11T21:17:06.087Z"
   },
   {
    "duration": 134,
    "start_time": "2021-07-11T21:17:06.993Z"
   },
   {
    "duration": 83,
    "start_time": "2021-07-11T21:17:07.130Z"
   },
   {
    "duration": 800,
    "start_time": "2021-07-11T21:17:07.216Z"
   },
   {
    "duration": 932,
    "start_time": "2021-07-11T21:17:08.018Z"
   },
   {
    "duration": 468,
    "start_time": "2021-07-11T21:17:08.953Z"
   },
   {
    "duration": 409,
    "start_time": "2021-07-11T21:17:09.423Z"
   },
   {
    "duration": 2284,
    "start_time": "2021-07-11T21:17:09.834Z"
   },
   {
    "duration": 356,
    "start_time": "2021-07-11T21:17:12.121Z"
   },
   {
    "duration": 50,
    "start_time": "2021-07-11T21:17:12.480Z"
   },
   {
    "duration": 3,
    "start_time": "2021-07-11T21:17:12.532Z"
   },
   {
    "duration": 15,
    "start_time": "2021-07-11T21:17:45.892Z"
   },
   {
    "duration": 126,
    "start_time": "2021-07-11T21:22:08.105Z"
   },
   {
    "duration": 29,
    "start_time": "2021-07-11T21:22:24.457Z"
   },
   {
    "duration": 154,
    "start_time": "2021-07-11T21:24:20.233Z"
   },
   {
    "duration": 503,
    "start_time": "2021-07-11T21:26:48.390Z"
   },
   {
    "duration": 30,
    "start_time": "2021-07-11T21:27:00.783Z"
   },
   {
    "duration": 29,
    "start_time": "2021-07-11T21:28:44.878Z"
   },
   {
    "duration": 30,
    "start_time": "2021-07-11T21:29:04.187Z"
   },
   {
    "duration": 31,
    "start_time": "2021-07-11T21:29:21.575Z"
   },
   {
    "duration": 21,
    "start_time": "2021-07-11T21:30:59.003Z"
   },
   {
    "duration": 428,
    "start_time": "2021-07-11T21:32:12.613Z"
   },
   {
    "duration": 37,
    "start_time": "2021-07-11T21:32:49.191Z"
   },
   {
    "duration": 394,
    "start_time": "2021-07-11T21:33:10.362Z"
   },
   {
    "duration": 37,
    "start_time": "2021-07-11T21:35:49.295Z"
   },
   {
    "duration": 30,
    "start_time": "2021-07-11T21:36:46.627Z"
   },
   {
    "duration": 385,
    "start_time": "2021-07-11T21:37:17.221Z"
   },
   {
    "duration": 363,
    "start_time": "2021-07-11T21:37:47.087Z"
   },
   {
    "duration": 31,
    "start_time": "2021-07-11T21:38:02.217Z"
   },
   {
    "duration": 404,
    "start_time": "2021-07-11T21:39:02.007Z"
   },
   {
    "duration": 43,
    "start_time": "2021-07-11T21:39:19.284Z"
   },
   {
    "duration": 49,
    "start_time": "2021-07-11T21:39:45.552Z"
   },
   {
    "duration": 50,
    "start_time": "2021-07-11T21:44:37.788Z"
   },
   {
    "duration": 51,
    "start_time": "2021-07-11T21:44:55.231Z"
   },
   {
    "duration": 52,
    "start_time": "2021-07-11T21:45:15.767Z"
   },
   {
    "duration": 56,
    "start_time": "2021-07-11T21:46:33.667Z"
   },
   {
    "duration": 531,
    "start_time": "2021-07-11T21:50:18.561Z"
   },
   {
    "duration": 36,
    "start_time": "2021-07-11T21:53:30.316Z"
   },
   {
    "duration": 800,
    "start_time": "2021-07-11T21:54:04.143Z"
   },
   {
    "duration": 1074,
    "start_time": "2021-07-11T21:55:11.912Z"
   },
   {
    "duration": 979,
    "start_time": "2021-07-11T21:55:26.537Z"
   },
   {
    "duration": 42,
    "start_time": "2021-07-11T21:55:58.471Z"
   },
   {
    "duration": 45,
    "start_time": "2021-07-11T21:56:01.837Z"
   },
   {
    "duration": 914,
    "start_time": "2021-07-11T21:56:27.295Z"
   },
   {
    "duration": 794,
    "start_time": "2021-07-11T21:57:50.215Z"
   },
   {
    "duration": 214,
    "start_time": "2021-07-11T21:58:17.266Z"
   },
   {
    "duration": 237,
    "start_time": "2021-07-11T21:58:35.206Z"
   },
   {
    "duration": 345,
    "start_time": "2021-07-11T22:01:28.080Z"
   },
   {
    "duration": 328,
    "start_time": "2021-07-11T22:04:13.069Z"
   },
   {
    "duration": 321,
    "start_time": "2021-07-11T22:04:30.823Z"
   },
   {
    "duration": 802,
    "start_time": "2021-07-11T22:05:19.113Z"
   },
   {
    "duration": 508,
    "start_time": "2021-07-11T22:05:30.310Z"
   },
   {
    "duration": 326,
    "start_time": "2021-07-11T22:06:26.444Z"
   },
   {
    "duration": 453,
    "start_time": "2021-07-11T22:06:35.659Z"
   },
   {
    "duration": 320,
    "start_time": "2021-07-11T22:06:53.050Z"
   },
   {
    "duration": 37,
    "start_time": "2021-07-11T22:07:06.225Z"
   },
   {
    "duration": 37,
    "start_time": "2021-07-11T22:10:46.165Z"
   },
   {
    "duration": 29,
    "start_time": "2021-07-11T22:11:16.473Z"
   },
   {
    "duration": 31,
    "start_time": "2021-07-11T22:12:48.052Z"
   },
   {
    "duration": 29,
    "start_time": "2021-07-11T22:13:30.904Z"
   },
   {
    "duration": 367,
    "start_time": "2021-07-11T22:38:37.537Z"
   },
   {
    "duration": 28,
    "start_time": "2021-07-11T22:39:03.257Z"
   },
   {
    "duration": 313,
    "start_time": "2021-07-11T22:39:57.143Z"
   },
   {
    "duration": 304,
    "start_time": "2021-07-11T22:40:28.044Z"
   },
   {
    "duration": 299,
    "start_time": "2021-07-11T22:40:35.441Z"
   },
   {
    "duration": 312,
    "start_time": "2021-07-11T22:40:43.744Z"
   },
   {
    "duration": 306,
    "start_time": "2021-07-11T22:40:47.646Z"
   },
   {
    "duration": 311,
    "start_time": "2021-07-11T22:40:54.255Z"
   },
   {
    "duration": 502,
    "start_time": "2021-07-11T22:43:39.363Z"
   },
   {
    "duration": 805,
    "start_time": "2021-07-11T22:47:24.111Z"
   },
   {
    "duration": 3,
    "start_time": "2021-07-11T22:47:52.751Z"
   },
   {
    "duration": 835,
    "start_time": "2021-07-11T22:52:32.951Z"
   },
   {
    "duration": 852,
    "start_time": "2021-07-11T22:53:34.700Z"
   },
   {
    "duration": 845,
    "start_time": "2021-07-11T22:53:45.278Z"
   },
   {
    "duration": 436,
    "start_time": "2021-07-11T22:54:18.881Z"
   },
   {
    "duration": 124,
    "start_time": "2021-07-11T22:56:55.876Z"
   },
   {
    "duration": 820,
    "start_time": "2021-07-11T22:57:02.317Z"
   },
   {
    "duration": 464,
    "start_time": "2021-07-11T22:57:10.367Z"
   },
   {
    "duration": 876,
    "start_time": "2021-07-11T22:57:29.956Z"
   },
   {
    "duration": 307,
    "start_time": "2021-07-11T22:58:20.265Z"
   },
   {
    "duration": 371,
    "start_time": "2021-07-12T11:44:51.261Z"
   },
   {
    "duration": 15805,
    "start_time": "2021-07-12T11:44:58.595Z"
   },
   {
    "duration": 2007,
    "start_time": "2021-07-12T11:45:14.403Z"
   },
   {
    "duration": 72,
    "start_time": "2021-07-12T11:45:16.414Z"
   },
   {
    "duration": 19,
    "start_time": "2021-07-12T11:45:16.489Z"
   },
   {
    "duration": 82,
    "start_time": "2021-07-12T11:45:16.510Z"
   },
   {
    "duration": 32,
    "start_time": "2021-07-12T11:45:16.595Z"
   },
   {
    "duration": 10,
    "start_time": "2021-07-12T11:45:16.630Z"
   },
   {
    "duration": 735,
    "start_time": "2021-07-12T11:45:16.645Z"
   },
   {
    "duration": 30,
    "start_time": "2021-07-12T11:45:17.386Z"
   },
   {
    "duration": 68,
    "start_time": "2021-07-12T11:45:17.419Z"
   },
   {
    "duration": 8,
    "start_time": "2021-07-12T11:45:17.490Z"
   },
   {
    "duration": 16,
    "start_time": "2021-07-12T11:45:17.500Z"
   },
   {
    "duration": 26,
    "start_time": "2021-07-12T11:45:17.519Z"
   },
   {
    "duration": 66,
    "start_time": "2021-07-12T11:45:17.548Z"
   },
   {
    "duration": 1036,
    "start_time": "2021-07-12T11:45:17.616Z"
   },
   {
    "duration": 4,
    "start_time": "2021-07-12T11:45:18.655Z"
   },
   {
    "duration": 43,
    "start_time": "2021-07-12T11:45:18.661Z"
   },
   {
    "duration": 16,
    "start_time": "2021-07-12T11:45:18.706Z"
   },
   {
    "duration": 23,
    "start_time": "2021-07-12T11:45:18.725Z"
   },
   {
    "duration": 578,
    "start_time": "2021-07-12T11:45:18.750Z"
   },
   {
    "duration": 15,
    "start_time": "2021-07-12T11:45:19.330Z"
   },
   {
    "duration": 52,
    "start_time": "2021-07-12T11:45:19.347Z"
   },
   {
    "duration": 615,
    "start_time": "2021-07-12T11:45:19.404Z"
   },
   {
    "duration": 10,
    "start_time": "2021-07-12T11:45:20.022Z"
   },
   {
    "duration": 58,
    "start_time": "2021-07-12T11:45:20.035Z"
   },
   {
    "duration": 594,
    "start_time": "2021-07-12T11:45:20.095Z"
   },
   {
    "duration": 70,
    "start_time": "2021-07-12T11:45:20.692Z"
   },
   {
    "duration": 62,
    "start_time": "2021-07-12T11:45:20.765Z"
   },
   {
    "duration": 777,
    "start_time": "2021-07-12T11:45:20.830Z"
   },
   {
    "duration": 962,
    "start_time": "2021-07-12T11:45:21.609Z"
   },
   {
    "duration": 399,
    "start_time": "2021-07-12T11:45:22.574Z"
   },
   {
    "duration": 396,
    "start_time": "2021-07-12T11:45:22.975Z"
   },
   {
    "duration": 2661,
    "start_time": "2021-07-12T11:45:23.374Z"
   },
   {
    "duration": 357,
    "start_time": "2021-07-12T11:45:26.037Z"
   },
   {
    "duration": 464,
    "start_time": "2021-07-12T11:45:26.396Z"
   },
   {
    "duration": 377,
    "start_time": "2021-07-12T11:45:37.419Z"
   },
   {
    "duration": 11,
    "start_time": "2021-07-12T11:47:47.762Z"
   },
   {
    "duration": 13,
    "start_time": "2021-07-12T11:49:10.965Z"
   },
   {
    "duration": 9,
    "start_time": "2021-07-12T11:49:24.042Z"
   },
   {
    "duration": 7,
    "start_time": "2021-07-12T11:49:30.642Z"
   },
   {
    "duration": 6,
    "start_time": "2021-07-12T11:50:08.499Z"
   },
   {
    "duration": 32,
    "start_time": "2021-07-12T11:51:10.843Z"
   },
   {
    "duration": 28,
    "start_time": "2021-07-12T11:52:35.771Z"
   },
   {
    "duration": 27,
    "start_time": "2021-07-12T11:52:52.681Z"
   },
   {
    "duration": 466,
    "start_time": "2021-07-12T11:54:55.283Z"
   },
   {
    "duration": 447,
    "start_time": "2021-07-12T11:55:15.147Z"
   },
   {
    "duration": 447,
    "start_time": "2021-07-12T11:55:48.628Z"
   },
   {
    "duration": 459,
    "start_time": "2021-07-12T11:56:20.979Z"
   },
   {
    "duration": 470,
    "start_time": "2021-07-12T11:56:31.233Z"
   },
   {
    "duration": 326,
    "start_time": "2021-07-12T11:57:06.895Z"
   },
   {
    "duration": 30,
    "start_time": "2021-07-12T12:00:35.248Z"
   },
   {
    "duration": 6524,
    "start_time": "2021-07-12T12:00:49.628Z"
   },
   {
    "duration": 5,
    "start_time": "2021-07-12T12:00:56.156Z"
   },
   {
    "duration": 81,
    "start_time": "2021-07-12T12:00:56.165Z"
   },
   {
    "duration": 21,
    "start_time": "2021-07-12T12:00:56.249Z"
   },
   {
    "duration": 67,
    "start_time": "2021-07-12T12:00:56.284Z"
   },
   {
    "duration": 46,
    "start_time": "2021-07-12T12:00:56.354Z"
   },
   {
    "duration": 34,
    "start_time": "2021-07-12T12:08:58.174Z"
   },
   {
    "duration": 24,
    "start_time": "2021-07-12T12:11:07.325Z"
   },
   {
    "duration": 27,
    "start_time": "2021-07-12T12:12:46.440Z"
   },
   {
    "duration": 27,
    "start_time": "2021-07-12T12:13:29.505Z"
   },
   {
    "duration": 380,
    "start_time": "2021-07-12T12:14:06.691Z"
   },
   {
    "duration": 359,
    "start_time": "2021-07-12T12:14:23.012Z"
   },
   {
    "duration": 373,
    "start_time": "2021-07-12T12:15:39.048Z"
   },
   {
    "duration": 5,
    "start_time": "2021-07-12T12:24:00.713Z"
   },
   {
    "duration": 361,
    "start_time": "2021-07-12T12:28:06.899Z"
   },
   {
    "duration": 527,
    "start_time": "2021-07-12T12:28:42.616Z"
   },
   {
    "duration": 15,
    "start_time": "2021-07-12T12:29:25.790Z"
   },
   {
    "duration": 15,
    "start_time": "2021-07-12T12:29:47.925Z"
   },
   {
    "duration": 22,
    "start_time": "2021-07-12T12:31:03.717Z"
   },
   {
    "duration": 16,
    "start_time": "2021-07-12T12:32:36.795Z"
   },
   {
    "duration": 20,
    "start_time": "2021-07-12T12:33:14.272Z"
   },
   {
    "duration": 19,
    "start_time": "2021-07-12T12:33:36.042Z"
   },
   {
    "duration": 18,
    "start_time": "2021-07-12T12:35:14.947Z"
   },
   {
    "duration": 114,
    "start_time": "2021-07-12T12:39:37.765Z"
   },
   {
    "duration": 18633,
    "start_time": "2021-07-12T14:20:48.479Z"
   },
   {
    "duration": 1662,
    "start_time": "2021-07-12T14:21:07.115Z"
   },
   {
    "duration": 79,
    "start_time": "2021-07-12T14:21:08.784Z"
   },
   {
    "duration": 24,
    "start_time": "2021-07-12T14:21:08.866Z"
   },
   {
    "duration": 108,
    "start_time": "2021-07-12T14:21:08.893Z"
   },
   {
    "duration": 44,
    "start_time": "2021-07-12T14:21:09.004Z"
   },
   {
    "duration": 34,
    "start_time": "2021-07-12T14:21:09.051Z"
   },
   {
    "duration": 708,
    "start_time": "2021-07-12T14:21:09.091Z"
   },
   {
    "duration": 25,
    "start_time": "2021-07-12T14:21:09.803Z"
   },
   {
    "duration": 56,
    "start_time": "2021-07-12T14:21:09.831Z"
   },
   {
    "duration": 6,
    "start_time": "2021-07-12T14:21:09.889Z"
   },
   {
    "duration": 18,
    "start_time": "2021-07-12T14:21:09.898Z"
   },
   {
    "duration": 24,
    "start_time": "2021-07-12T14:21:09.918Z"
   },
   {
    "duration": 63,
    "start_time": "2021-07-12T14:21:09.944Z"
   },
   {
    "duration": 1045,
    "start_time": "2021-07-12T14:21:10.011Z"
   },
   {
    "duration": 3,
    "start_time": "2021-07-12T14:21:11.059Z"
   },
   {
    "duration": 44,
    "start_time": "2021-07-12T14:21:11.065Z"
   },
   {
    "duration": 17,
    "start_time": "2021-07-12T14:21:11.111Z"
   },
   {
    "duration": 19,
    "start_time": "2021-07-12T14:21:11.130Z"
   },
   {
    "duration": 579,
    "start_time": "2021-07-12T14:21:11.152Z"
   },
   {
    "duration": 15,
    "start_time": "2021-07-12T14:21:11.734Z"
   },
   {
    "duration": 51,
    "start_time": "2021-07-12T14:21:11.751Z"
   },
   {
    "duration": 589,
    "start_time": "2021-07-12T14:21:11.807Z"
   },
   {
    "duration": 10,
    "start_time": "2021-07-12T14:21:12.398Z"
   },
   {
    "duration": 33,
    "start_time": "2021-07-12T14:21:12.411Z"
   },
   {
    "duration": 620,
    "start_time": "2021-07-12T14:21:12.447Z"
   },
   {
    "duration": 81,
    "start_time": "2021-07-12T14:21:13.070Z"
   },
   {
    "duration": 66,
    "start_time": "2021-07-12T14:21:13.154Z"
   },
   {
    "duration": 820,
    "start_time": "2021-07-12T14:21:13.223Z"
   },
   {
    "duration": 956,
    "start_time": "2021-07-12T14:21:14.047Z"
   },
   {
    "duration": 433,
    "start_time": "2021-07-12T14:21:15.007Z"
   },
   {
    "duration": 445,
    "start_time": "2021-07-12T14:21:15.442Z"
   },
   {
    "duration": 2554,
    "start_time": "2021-07-12T14:21:15.890Z"
   },
   {
    "duration": 343,
    "start_time": "2021-07-12T14:21:18.446Z"
   },
   {
    "duration": 465,
    "start_time": "2021-07-12T14:21:18.791Z"
   },
   {
    "duration": 477,
    "start_time": "2021-07-12T14:21:19.259Z"
   },
   {
    "duration": 384,
    "start_time": "2021-07-12T14:21:19.739Z"
   },
   {
    "duration": 20,
    "start_time": "2021-07-12T14:21:20.126Z"
   },
   {
    "duration": 41,
    "start_time": "2021-07-12T14:21:20.148Z"
   },
   {
    "duration": 5,
    "start_time": "2021-07-12T14:21:46.537Z"
   },
   {
    "duration": 26,
    "start_time": "2021-07-12T14:26:52.711Z"
   },
   {
    "duration": 14,
    "start_time": "2021-07-12T14:32:40.586Z"
   },
   {
    "duration": 8,
    "start_time": "2021-07-12T14:33:41.958Z"
   },
   {
    "duration": 22,
    "start_time": "2021-07-12T15:22:38.647Z"
   },
   {
    "duration": 16,
    "start_time": "2021-07-12T15:22:42.233Z"
   },
   {
    "duration": 17,
    "start_time": "2021-07-12T15:22:48.476Z"
   },
   {
    "duration": 492,
    "start_time": "2021-07-12T15:22:51.907Z"
   },
   {
    "duration": 15,
    "start_time": "2021-07-12T15:23:41.488Z"
   },
   {
    "duration": 9,
    "start_time": "2021-07-12T15:24:03.068Z"
   },
   {
    "duration": 964,
    "start_time": "2021-07-12T15:26:30.522Z"
   },
   {
    "duration": 836,
    "start_time": "2021-07-12T15:28:00.175Z"
   },
   {
    "duration": 928,
    "start_time": "2021-07-12T15:28:10.303Z"
   },
   {
    "duration": 8,
    "start_time": "2021-07-12T16:03:15.829Z"
   },
   {
    "duration": 25,
    "start_time": "2021-07-12T16:03:24.239Z"
   },
   {
    "duration": 517,
    "start_time": "2021-07-12T16:03:37.184Z"
   },
   {
    "duration": 17,
    "start_time": "2021-07-12T16:07:26.619Z"
   },
   {
    "duration": 26,
    "start_time": "2021-07-12T16:10:49.432Z"
   },
   {
    "duration": 26,
    "start_time": "2021-07-12T16:11:12.013Z"
   },
   {
    "duration": 27,
    "start_time": "2021-07-12T16:11:26.219Z"
   },
   {
    "duration": 26,
    "start_time": "2021-07-12T16:11:34.391Z"
   },
   {
    "duration": 337,
    "start_time": "2021-07-13T12:51:21.833Z"
   },
   {
    "duration": 18110,
    "start_time": "2021-07-13T12:51:27.705Z"
   },
   {
    "duration": 2108,
    "start_time": "2021-07-13T12:51:45.819Z"
   },
   {
    "duration": 76,
    "start_time": "2021-07-13T12:51:47.931Z"
   },
   {
    "duration": 21,
    "start_time": "2021-07-13T12:51:48.011Z"
   },
   {
    "duration": 66,
    "start_time": "2021-07-13T12:51:48.055Z"
   },
   {
    "duration": 43,
    "start_time": "2021-07-13T12:51:48.123Z"
   },
   {
    "duration": 9,
    "start_time": "2021-07-13T12:51:48.169Z"
   },
   {
    "duration": 640,
    "start_time": "2021-07-13T12:51:48.182Z"
   },
   {
    "duration": 33,
    "start_time": "2021-07-13T12:51:48.825Z"
   },
   {
    "duration": 5,
    "start_time": "2021-07-13T12:51:48.861Z"
   },
   {
    "duration": 12,
    "start_time": "2021-07-13T12:51:48.868Z"
   },
   {
    "duration": 25,
    "start_time": "2021-07-13T12:51:48.882Z"
   },
   {
    "duration": 60,
    "start_time": "2021-07-13T12:51:48.909Z"
   },
   {
    "duration": 1026,
    "start_time": "2021-07-13T12:51:48.972Z"
   },
   {
    "duration": 22,
    "start_time": "2021-07-13T12:51:50.000Z"
   },
   {
    "duration": 39,
    "start_time": "2021-07-13T12:51:50.024Z"
   },
   {
    "duration": 35,
    "start_time": "2021-07-13T12:51:50.065Z"
   },
   {
    "duration": 554,
    "start_time": "2021-07-13T12:51:50.103Z"
   },
   {
    "duration": 9,
    "start_time": "2021-07-13T12:51:50.660Z"
   },
   {
    "duration": 29,
    "start_time": "2021-07-13T12:51:50.671Z"
   },
   {
    "duration": 618,
    "start_time": "2021-07-13T12:51:50.703Z"
   },
   {
    "duration": 39,
    "start_time": "2021-07-13T12:51:51.323Z"
   },
   {
    "duration": 8,
    "start_time": "2021-07-13T12:51:51.367Z"
   },
   {
    "duration": 24,
    "start_time": "2021-07-13T12:51:51.378Z"
   },
   {
    "duration": 606,
    "start_time": "2021-07-13T12:51:51.404Z"
   },
   {
    "duration": 79,
    "start_time": "2021-07-13T12:51:52.015Z"
   },
   {
    "duration": 60,
    "start_time": "2021-07-13T12:51:52.096Z"
   },
   {
    "duration": 723,
    "start_time": "2021-07-13T12:51:52.159Z"
   },
   {
    "duration": 924,
    "start_time": "2021-07-13T12:51:52.884Z"
   },
   {
    "duration": 494,
    "start_time": "2021-07-13T12:51:53.811Z"
   },
   {
    "duration": 426,
    "start_time": "2021-07-13T12:51:54.308Z"
   },
   {
    "duration": 2592,
    "start_time": "2021-07-13T12:51:54.736Z"
   },
   {
    "duration": 346,
    "start_time": "2021-07-13T12:51:57.331Z"
   },
   {
    "duration": 454,
    "start_time": "2021-07-13T12:51:57.680Z"
   },
   {
    "duration": 467,
    "start_time": "2021-07-13T12:51:58.136Z"
   },
   {
    "duration": 366,
    "start_time": "2021-07-13T12:51:58.605Z"
   },
   {
    "duration": 19,
    "start_time": "2021-07-13T12:51:58.973Z"
   },
   {
    "duration": 18,
    "start_time": "2021-07-13T12:51:58.995Z"
   },
   {
    "duration": 6956,
    "start_time": "2021-07-14T13:30:47.705Z"
   },
   {
    "duration": 1142,
    "start_time": "2021-07-14T13:30:54.663Z"
   },
   {
    "duration": 54,
    "start_time": "2021-07-14T13:30:55.810Z"
   },
   {
    "duration": 19,
    "start_time": "2021-07-14T13:30:55.866Z"
   },
   {
    "duration": 43,
    "start_time": "2021-07-14T13:30:55.886Z"
   },
   {
    "duration": 18,
    "start_time": "2021-07-14T13:30:55.930Z"
   },
   {
    "duration": 4,
    "start_time": "2021-07-14T13:30:55.950Z"
   },
   {
    "duration": 1113,
    "start_time": "2021-07-14T13:30:55.955Z"
   },
   {
    "duration": 17,
    "start_time": "2021-07-14T13:30:57.069Z"
   },
   {
    "duration": 3,
    "start_time": "2021-07-14T13:30:57.088Z"
   },
   {
    "duration": 7,
    "start_time": "2021-07-14T13:30:57.093Z"
   },
   {
    "duration": 16,
    "start_time": "2021-07-14T13:30:57.101Z"
   },
   {
    "duration": 17,
    "start_time": "2021-07-14T13:30:57.119Z"
   },
   {
    "duration": 732,
    "start_time": "2021-07-14T13:30:57.137Z"
   },
   {
    "duration": 19,
    "start_time": "2021-07-14T13:30:57.871Z"
   },
   {
    "duration": 11,
    "start_time": "2021-07-14T13:30:57.891Z"
   },
   {
    "duration": 13,
    "start_time": "2021-07-14T13:30:57.904Z"
   },
   {
    "duration": 342,
    "start_time": "2021-07-14T13:30:57.919Z"
   },
   {
    "duration": 6,
    "start_time": "2021-07-14T13:30:58.263Z"
   },
   {
    "duration": 27,
    "start_time": "2021-07-14T13:30:58.270Z"
   },
   {
    "duration": 316,
    "start_time": "2021-07-14T13:30:58.299Z"
   },
   {
    "duration": 17,
    "start_time": "2021-07-14T13:30:58.618Z"
   },
   {
    "duration": 5,
    "start_time": "2021-07-14T13:30:58.637Z"
   },
   {
    "duration": 11,
    "start_time": "2021-07-14T13:30:58.644Z"
   },
   {
    "duration": 432,
    "start_time": "2021-07-14T13:30:58.657Z"
   },
   {
    "duration": 44,
    "start_time": "2021-07-14T13:30:59.090Z"
   },
   {
    "duration": 30,
    "start_time": "2021-07-14T13:30:59.136Z"
   },
   {
    "duration": 556,
    "start_time": "2021-07-14T13:30:59.167Z"
   },
   {
    "duration": 579,
    "start_time": "2021-07-14T13:30:59.724Z"
   },
   {
    "duration": 305,
    "start_time": "2021-07-14T13:31:00.305Z"
   },
   {
    "duration": 285,
    "start_time": "2021-07-14T13:31:00.612Z"
   },
   {
    "duration": 1552,
    "start_time": "2021-07-14T13:31:00.899Z"
   },
   {
    "duration": 220,
    "start_time": "2021-07-14T13:31:02.453Z"
   },
   {
    "duration": 303,
    "start_time": "2021-07-14T13:31:02.675Z"
   },
   {
    "duration": 294,
    "start_time": "2021-07-14T13:31:02.980Z"
   },
   {
    "duration": 233,
    "start_time": "2021-07-14T13:31:03.277Z"
   },
   {
    "duration": 15,
    "start_time": "2021-07-14T13:31:03.512Z"
   },
   {
    "duration": 11,
    "start_time": "2021-07-14T13:31:03.528Z"
   },
   {
    "duration": 302,
    "start_time": "2021-07-14T16:40:02.361Z"
   },
   {
    "duration": 11565,
    "start_time": "2021-07-14T16:40:11.460Z"
   },
   {
    "duration": 1192,
    "start_time": "2021-07-14T16:40:23.027Z"
   },
   {
    "duration": 51,
    "start_time": "2021-07-14T16:40:24.221Z"
   },
   {
    "duration": 13,
    "start_time": "2021-07-14T16:40:24.274Z"
   },
   {
    "duration": 56,
    "start_time": "2021-07-14T16:40:24.289Z"
   },
   {
    "duration": 18,
    "start_time": "2021-07-14T16:40:24.346Z"
   },
   {
    "duration": 13,
    "start_time": "2021-07-14T16:40:24.365Z"
   },
   {
    "duration": 590,
    "start_time": "2021-07-14T16:40:24.381Z"
   },
   {
    "duration": 18,
    "start_time": "2021-07-14T16:40:24.973Z"
   },
   {
    "duration": 4,
    "start_time": "2021-07-14T16:40:24.993Z"
   },
   {
    "duration": 12,
    "start_time": "2021-07-14T16:40:24.999Z"
   },
   {
    "duration": 32,
    "start_time": "2021-07-14T16:40:25.013Z"
   },
   {
    "duration": 20,
    "start_time": "2021-07-14T16:40:25.047Z"
   },
   {
    "duration": 19,
    "start_time": "2021-07-14T16:40:48.954Z"
   },
   {
    "duration": 141,
    "start_time": "2021-07-14T16:42:21.308Z"
   },
   {
    "duration": 615,
    "start_time": "2021-07-14T16:42:40.403Z"
   },
   {
    "duration": 20,
    "start_time": "2021-07-14T16:44:11.113Z"
   },
   {
    "duration": 333,
    "start_time": "2021-07-14T16:44:25.905Z"
   },
   {
    "duration": 16,
    "start_time": "2021-07-14T16:44:56.855Z"
   },
   {
    "duration": 678,
    "start_time": "2021-07-14T16:45:04.650Z"
   },
   {
    "duration": 15176,
    "start_time": "2021-07-15T13:55:30.390Z"
   },
   {
    "duration": 1695,
    "start_time": "2021-07-15T13:55:45.570Z"
   },
   {
    "duration": 73,
    "start_time": "2021-07-15T13:55:47.269Z"
   },
   {
    "duration": 18,
    "start_time": "2021-07-15T13:55:47.345Z"
   },
   {
    "duration": 79,
    "start_time": "2021-07-15T13:55:47.366Z"
   },
   {
    "duration": 37,
    "start_time": "2021-07-15T13:55:47.448Z"
   },
   {
    "duration": 6,
    "start_time": "2021-07-15T13:55:47.487Z"
   },
   {
    "duration": 728,
    "start_time": "2021-07-15T13:55:47.497Z"
   },
   {
    "duration": 25,
    "start_time": "2021-07-15T13:55:48.228Z"
   },
   {
    "duration": 5,
    "start_time": "2021-07-15T13:55:48.256Z"
   },
   {
    "duration": 25,
    "start_time": "2021-07-15T13:55:48.264Z"
   },
   {
    "duration": 24,
    "start_time": "2021-07-15T13:55:48.292Z"
   },
   {
    "duration": 27,
    "start_time": "2021-07-15T13:55:48.318Z"
   },
   {
    "duration": 1040,
    "start_time": "2021-07-15T13:55:48.348Z"
   },
   {
    "duration": 560,
    "start_time": "2021-07-15T14:26:07.586Z"
   },
   {
    "duration": 6772,
    "start_time": "2021-07-15T14:26:14.020Z"
   },
   {
    "duration": 5,
    "start_time": "2021-07-15T14:26:20.795Z"
   },
   {
    "duration": 75,
    "start_time": "2021-07-15T14:26:20.803Z"
   },
   {
    "duration": 19,
    "start_time": "2021-07-15T14:26:20.882Z"
   },
   {
    "duration": 160,
    "start_time": "2021-07-15T14:26:20.904Z"
   },
   {
    "duration": 33,
    "start_time": "2021-07-15T14:26:21.067Z"
   },
   {
    "duration": 10,
    "start_time": "2021-07-15T14:26:21.102Z"
   },
   {
    "duration": 24,
    "start_time": "2021-07-15T14:26:21.115Z"
   },
   {
    "duration": 58,
    "start_time": "2021-07-15T14:26:21.142Z"
   },
   {
    "duration": 5,
    "start_time": "2021-07-15T14:26:21.202Z"
   },
   {
    "duration": 13,
    "start_time": "2021-07-15T14:26:21.209Z"
   },
   {
    "duration": 24,
    "start_time": "2021-07-15T14:26:21.224Z"
   },
   {
    "duration": 58,
    "start_time": "2021-07-15T14:26:21.251Z"
   },
   {
    "duration": 1028,
    "start_time": "2021-07-15T14:26:21.311Z"
   },
   {
    "duration": 22,
    "start_time": "2021-07-15T14:26:22.342Z"
   },
   {
    "duration": 18,
    "start_time": "2021-07-15T14:26:22.385Z"
   },
   {
    "duration": 18,
    "start_time": "2021-07-15T14:26:22.406Z"
   },
   {
    "duration": 565,
    "start_time": "2021-07-15T14:26:22.426Z"
   },
   {
    "duration": 9,
    "start_time": "2021-07-15T14:26:22.993Z"
   },
   {
    "duration": 357,
    "start_time": "2021-07-15T14:26:23.004Z"
   },
   {
    "duration": -215,
    "start_time": "2021-07-15T14:26:23.579Z"
   },
   {
    "duration": -225,
    "start_time": "2021-07-15T14:26:23.591Z"
   },
   {
    "duration": -231,
    "start_time": "2021-07-15T14:26:23.598Z"
   },
   {
    "duration": -244,
    "start_time": "2021-07-15T14:26:23.613Z"
   },
   {
    "duration": -269,
    "start_time": "2021-07-15T14:26:23.639Z"
   },
   {
    "duration": -276,
    "start_time": "2021-07-15T14:26:23.648Z"
   },
   {
    "duration": -289,
    "start_time": "2021-07-15T14:26:23.663Z"
   },
   {
    "duration": -302,
    "start_time": "2021-07-15T14:26:23.677Z"
   },
   {
    "duration": -316,
    "start_time": "2021-07-15T14:26:23.693Z"
   },
   {
    "duration": -331,
    "start_time": "2021-07-15T14:26:23.709Z"
   },
   {
    "duration": -345,
    "start_time": "2021-07-15T14:26:23.725Z"
   },
   {
    "duration": -358,
    "start_time": "2021-07-15T14:26:23.739Z"
   },
   {
    "duration": -373,
    "start_time": "2021-07-15T14:26:23.755Z"
   },
   {
    "duration": -377,
    "start_time": "2021-07-15T14:26:23.761Z"
   },
   {
    "duration": -394,
    "start_time": "2021-07-15T14:26:23.779Z"
   },
   {
    "duration": -407,
    "start_time": "2021-07-15T14:26:23.794Z"
   },
   {
    "duration": -422,
    "start_time": "2021-07-15T14:26:23.810Z"
   },
   {
    "duration": -433,
    "start_time": "2021-07-15T14:26:23.822Z"
   },
   {
    "duration": 572,
    "start_time": "2021-07-15T14:26:40.283Z"
   },
   {
    "duration": 396,
    "start_time": "2021-07-15T14:26:55.159Z"
   },
   {
    "duration": 45,
    "start_time": "2021-07-15T14:27:35.260Z"
   },
   {
    "duration": 535,
    "start_time": "2021-07-15T14:27:36.762Z"
   },
   {
    "duration": 28,
    "start_time": "2021-07-15T14:30:42.969Z"
   },
   {
    "duration": 13,
    "start_time": "2021-07-15T14:30:43.001Z"
   },
   {
    "duration": 17,
    "start_time": "2021-07-15T14:30:43.018Z"
   },
   {
    "duration": 619,
    "start_time": "2021-07-15T14:30:43.087Z"
   },
   {
    "duration": 70,
    "start_time": "2021-07-15T14:30:43.708Z"
   },
   {
    "duration": 51,
    "start_time": "2021-07-15T14:30:43.786Z"
   },
   {
    "duration": 766,
    "start_time": "2021-07-15T14:30:44.754Z"
   },
   {
    "duration": 923,
    "start_time": "2021-07-15T14:30:45.523Z"
   },
   {
    "duration": 558,
    "start_time": "2021-07-15T14:30:46.449Z"
   },
   {
    "duration": 678,
    "start_time": "2021-07-15T14:30:47.010Z"
   },
   {
    "duration": 2748,
    "start_time": "2021-07-15T14:30:47.691Z"
   },
   {
    "duration": 343,
    "start_time": "2021-07-15T14:30:50.442Z"
   },
   {
    "duration": 351,
    "start_time": "2021-07-15T14:30:50.788Z"
   },
   {
    "duration": 474,
    "start_time": "2021-07-15T14:30:51.144Z"
   },
   {
    "duration": 373,
    "start_time": "2021-07-15T14:30:51.621Z"
   },
   {
    "duration": 20,
    "start_time": "2021-07-15T14:30:51.996Z"
   },
   {
    "duration": 17,
    "start_time": "2021-07-15T14:30:52.019Z"
   },
   {
    "duration": 8,
    "start_time": "2021-07-15T14:34:40.522Z"
   },
   {
    "duration": 20,
    "start_time": "2021-07-15T14:34:40.533Z"
   },
   {
    "duration": 518,
    "start_time": "2021-07-15T14:34:40.556Z"
   },
   {
    "duration": 40,
    "start_time": "2021-07-15T14:34:41.076Z"
   },
   {
    "duration": 14,
    "start_time": "2021-07-15T14:34:41.119Z"
   },
   {
    "duration": 649,
    "start_time": "2021-07-15T14:34:41.136Z"
   },
   {
    "duration": 813,
    "start_time": "2021-07-15T14:34:41.790Z"
   },
   {
    "duration": 401,
    "start_time": "2021-07-15T14:34:42.607Z"
   },
   {
    "duration": 453,
    "start_time": "2021-07-15T14:34:43.011Z"
   },
   {
    "duration": 2750,
    "start_time": "2021-07-15T14:34:43.466Z"
   },
   {
    "duration": 583,
    "start_time": "2021-07-15T14:34:46.218Z"
   },
   {
    "duration": 465,
    "start_time": "2021-07-15T14:34:46.803Z"
   },
   {
    "duration": 474,
    "start_time": "2021-07-15T14:34:47.270Z"
   },
   {
    "duration": 316,
    "start_time": "2021-07-15T14:34:47.746Z"
   },
   {
    "duration": 26,
    "start_time": "2021-07-15T14:34:48.064Z"
   },
   {
    "duration": 27,
    "start_time": "2021-07-15T14:34:48.092Z"
   },
   {
    "duration": 8,
    "start_time": "2021-07-15T14:34:52.779Z"
   },
   {
    "duration": 18,
    "start_time": "2021-07-15T14:34:52.790Z"
   },
   {
    "duration": 665,
    "start_time": "2021-07-15T14:34:52.812Z"
   },
   {
    "duration": 43,
    "start_time": "2021-07-15T14:34:53.480Z"
   },
   {
    "duration": 18,
    "start_time": "2021-07-15T14:34:53.525Z"
   },
   {
    "duration": 680,
    "start_time": "2021-07-15T14:34:53.546Z"
   },
   {
    "duration": 660,
    "start_time": "2021-07-15T14:34:54.229Z"
   },
   {
    "duration": 484,
    "start_time": "2021-07-15T14:34:54.893Z"
   },
   {
    "duration": 414,
    "start_time": "2021-07-15T14:34:55.384Z"
   },
   {
    "duration": 2699,
    "start_time": "2021-07-15T14:34:55.801Z"
   },
   {
    "duration": 368,
    "start_time": "2021-07-15T14:34:58.503Z"
   },
   {
    "duration": 352,
    "start_time": "2021-07-15T14:34:58.874Z"
   },
   {
    "duration": 573,
    "start_time": "2021-07-15T14:34:59.228Z"
   },
   {
    "duration": 330,
    "start_time": "2021-07-15T14:34:59.803Z"
   },
   {
    "duration": 18,
    "start_time": "2021-07-15T14:35:00.135Z"
   },
   {
    "duration": 38,
    "start_time": "2021-07-15T14:35:00.155Z"
   },
   {
    "duration": 21,
    "start_time": "2021-07-15T14:37:25.109Z"
   },
   {
    "duration": 14,
    "start_time": "2021-07-15T14:37:55.584Z"
   },
   {
    "duration": 307,
    "start_time": "2021-07-15T14:51:45.645Z"
   },
   {
    "duration": 302,
    "start_time": "2021-07-15T14:52:25.017Z"
   },
   {
    "duration": 572,
    "start_time": "2021-07-15T14:52:25.322Z"
   },
   {
    "duration": 325,
    "start_time": "2021-07-15T14:52:25.896Z"
   },
   {
    "duration": 18,
    "start_time": "2021-07-15T14:52:26.224Z"
   },
   {
    "duration": 17,
    "start_time": "2021-07-15T14:52:26.245Z"
   },
   {
    "duration": 332,
    "start_time": "2021-07-15T15:13:32.459Z"
   },
   {
    "duration": 333,
    "start_time": "2021-07-15T15:13:46.705Z"
   },
   {
    "duration": 23,
    "start_time": "2021-07-15T15:14:08.518Z"
   },
   {
    "duration": 16,
    "start_time": "2021-07-15T15:14:35.260Z"
   },
   {
    "duration": 39,
    "start_time": "2021-07-15T15:14:45.798Z"
   },
   {
    "duration": 17,
    "start_time": "2021-07-15T15:15:11.189Z"
   },
   {
    "duration": 24,
    "start_time": "2021-07-15T15:15:14.573Z"
   },
   {
    "duration": 26,
    "start_time": "2021-07-15T15:15:28.507Z"
   },
   {
    "duration": 38,
    "start_time": "2021-07-15T15:16:53.969Z"
   },
   {
    "duration": 1029,
    "start_time": "2021-07-15T15:19:05.261Z"
   },
   {
    "duration": 230315,
    "start_time": "2021-07-15T20:20:54.657Z"
   },
   {
    "duration": 1637,
    "start_time": "2021-07-15T20:24:44.976Z"
   },
   {
    "duration": 85,
    "start_time": "2021-07-15T20:24:46.622Z"
   },
   {
    "duration": 19,
    "start_time": "2021-07-15T20:24:46.710Z"
   },
   {
    "duration": 92,
    "start_time": "2021-07-15T20:24:46.732Z"
   },
   {
    "duration": 28,
    "start_time": "2021-07-15T20:24:46.827Z"
   },
   {
    "duration": 7,
    "start_time": "2021-07-15T20:24:46.860Z"
   },
   {
    "duration": 90859,
    "start_time": "2021-07-15T20:24:46.870Z"
   },
   {
    "duration": 23,
    "start_time": "2021-07-15T20:26:17.732Z"
   },
   {
    "duration": 5,
    "start_time": "2021-07-15T20:26:17.758Z"
   },
   {
    "duration": 35,
    "start_time": "2021-07-15T20:26:17.765Z"
   },
   {
    "duration": 23,
    "start_time": "2021-07-15T20:26:17.802Z"
   },
   {
    "duration": 25,
    "start_time": "2021-07-15T20:26:17.828Z"
   },
   {
    "duration": 1036,
    "start_time": "2021-07-15T20:26:17.856Z"
   },
   {
    "duration": 26,
    "start_time": "2021-07-15T20:26:18.894Z"
   },
   {
    "duration": 20,
    "start_time": "2021-07-15T20:26:18.923Z"
   },
   {
    "duration": 26,
    "start_time": "2021-07-15T20:26:18.945Z"
   },
   {
    "duration": 554,
    "start_time": "2021-07-15T20:26:18.974Z"
   },
   {
    "duration": 9,
    "start_time": "2021-07-15T20:26:19.532Z"
   },
   {
    "duration": 37,
    "start_time": "2021-07-15T20:26:19.544Z"
   },
   {
    "duration": 591,
    "start_time": "2021-07-15T20:26:19.601Z"
   },
   {
    "duration": 27,
    "start_time": "2021-07-15T20:26:20.205Z"
   },
   {
    "duration": 11,
    "start_time": "2021-07-15T20:26:20.235Z"
   },
   {
    "duration": 32,
    "start_time": "2021-07-15T20:26:20.248Z"
   },
   {
    "duration": 503,
    "start_time": "2021-07-15T20:26:20.283Z"
   },
   {
    "duration": 43,
    "start_time": "2021-07-15T20:26:20.788Z"
   },
   {
    "duration": 13,
    "start_time": "2021-07-15T20:26:20.834Z"
   },
   {
    "duration": 684,
    "start_time": "2021-07-15T20:26:20.850Z"
   },
   {
    "duration": 666,
    "start_time": "2021-07-15T20:26:21.537Z"
   },
   {
    "duration": 404,
    "start_time": "2021-07-15T20:26:22.206Z"
   },
   {
    "duration": 417,
    "start_time": "2021-07-15T20:26:22.614Z"
   },
   {
    "duration": 2294,
    "start_time": "2021-07-15T20:26:23.034Z"
   },
   {
    "duration": 361,
    "start_time": "2021-07-15T20:26:25.332Z"
   },
   {
    "duration": 396,
    "start_time": "2021-07-15T20:26:25.700Z"
   },
   {
    "duration": 475,
    "start_time": "2021-07-15T20:26:26.100Z"
   },
   {
    "duration": 412,
    "start_time": "2021-07-15T20:26:26.578Z"
   },
   {
    "duration": 23,
    "start_time": "2021-07-15T20:26:26.992Z"
   },
   {
    "duration": 18,
    "start_time": "2021-07-15T20:26:27.017Z"
   }
  ],
  "kernelspec": {
   "display_name": "Python 3",
   "language": "python",
   "name": "python3"
  },
  "language_info": {
   "codemirror_mode": {
    "name": "ipython",
    "version": 3
   },
   "file_extension": ".py",
   "mimetype": "text/x-python",
   "name": "python",
   "nbconvert_exporter": "python",
   "pygments_lexer": "ipython3",
   "version": "3.7.8"
  },
  "toc": {
   "base_numbering": 1,
   "nav_menu": {
    "height": "413px",
    "width": "335px"
   },
   "number_sections": true,
   "sideBar": true,
   "skip_h1_title": false,
   "title_cell": "Table of Contents",
   "title_sidebar": "Contents",
   "toc_cell": false,
   "toc_position": {
    "height": "calc(100% - 180px)",
    "left": "10px",
    "top": "150px",
    "width": "228px"
   },
   "toc_section_display": true,
   "toc_window_display": false
  }
 },
 "nbformat": 4,
 "nbformat_minor": 2
}
