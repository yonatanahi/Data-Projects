{
 "cells": [
  {
   "cell_type": "markdown",
   "metadata": {},
   "source": [
    "### Personal message\n",
    "\n",
    "Hi Svetlana,\n",
    "\n",
    "I did the required changes, I hope it's OK now.\n",
    "\n",
    "Thanks in advance,\n",
    "\n",
    "Yonatan"
   ]
  },
  {
   "cell_type": "markdown",
   "metadata": {},
   "source": [
    "Hi Yonatan. I'm Svetlana and will review your project. I've added all my comments to new cells with different coloring. Please don't delete my comments.\n",
    "\n",
    "\n",
    "The first time I see a mistake, I'll just point it out and let you find it and fix it yourself. In a real job, your boss will do the same, and I'm trying to prepare you to work as an Data Analyst. But if you can't handle this task yet, I'll give you a more accurate hint at the next check.\n",
    "\n",
    "<div class=\"alert alert-success\" role=\"alert\">\n",
    "Reviewer's comment v. 1:\n",
    "    \n",
    "If you did something great I'm using green color for my comment\n",
    "</div>\n",
    "\n",
    "<div class=\"alert alert-warning\" role=\"alert\">\n",
    "Reviewer's comment v. 1:\n",
    "    \n",
    "If I want to give you advice or think that something can be improved, then I'll use yellow. This is an optional recommendation.\n",
    "</div>\n",
    "\n",
    "<div class=\"alert alert-danger\" role=\"alert\">\n",
    "Reviewer's comment v. 1:\n",
    "    \n",
    "If the topic requires some extra work so I can accept it then the color will be red\n",
    "</div>\n",
    "\n",
    "## Review v. 1<a class=\"tocSkip\">\n",
    "\n",
    "You've worked really hard and submitted a solid project. While there's room for improvement, on the whole, your project is looking good. I've found some tiny mistakes in your project. They'll be easy to fix. There are also some comments for improvement. They don’t mean that you’ve done anything wrong, but they’re things we wanted to point out that can help you further develop your skills. You're almost there! \n",
    "    \n",
    "## Review v. 2<a class=\"tocSkip\">\n",
    "    \n",
    "All your hard work has paid off, and now your project is perfect! I'm glad to say that your project has been accepted. Keep up the good work, and good luck on the next sprint!"
   ]
  },
  {
   "cell_type": "markdown",
   "metadata": {},
   "source": [
    "# Research on car sales ads\n",
    "\n",
    "You're an analyst at Crankshaft List. Hundreds of free advertisements for vehicles are published on your site every day.\n",
    "\n",
    "You need to study data collected over the last few years and determine which factors influence the price of a vehicle. "
   ]
  },
  {
   "cell_type": "markdown",
   "metadata": {},
   "source": [
    "### Table Of Contents \n",
    "<a class=\"anchor\" id=\"table_of_contents\"></a>\n",
    "- [Introduction](#introduction)\n",
    "\n",
    "- [Open the data file and study the general information](#open_file)\n",
    "\n",
    "- [Data preprocessing](#data_preprocessing)\n",
    " - [missing values](#missing_values)\n",
    " - [Descriptive statistics](#descriptive)\n",
    " - [Checking and converting data types](#convert)\n",
    "\n",
    "- [Make calculations and add them to the table](#calculations)\n",
    "\n",
    "- [Carry out exploratory data analysis](#eda)\n",
    " - [Determining the upper limits of outliers](#limits)\n",
    "\n",
    "- [Overall conclusion](#conclusion)\n",
    "\n",
    "- [Project completion checklist](#checklist)"
   ]
  },
  {
   "cell_type": "markdown",
   "metadata": {},
   "source": [
    "##  Introduction\n",
    "<a class=\"anchor\" id=\"introduction\"></a> \n",
    "[Go back to the Table of Contents](#table_of_contents) "
   ]
  },
  {
   "cell_type": "markdown",
   "metadata": {},
   "source": [
    "In this project, I will explore advertisements for vehicles dataset and try to explain the different findings. There are several factors influencing the price of a vehicle, I will give my explanations to the probable links of these factors to the price.\n",
    "\n",
    "I will start with preprocessing of the dataset: missing values, duplicates etc. \n",
    "\n",
    "The next step will be plotting the different variables with: scatter plot, box plot etc.\n",
    "\n",
    "Finally, I will conclude the whole process in relation to the research question:\n",
    "\n",
    "   * Which factors influence the price of a vehicle?\n",
    "\n"
   ]
  },
  {
   "cell_type": "markdown",
   "metadata": {},
   "source": [
    "<div class=\"alert alert-success\" role=\"alert\">\n",
    "Reviewer's comment v. 1:\n",
    "    \n",
    "Well done that you clearly described the project.\n",
    "</div>"
   ]
  },
  {
   "cell_type": "markdown",
   "metadata": {},
   "source": [
    "## Open the data file and study the general information. \n",
    "<a class=\"anchor\" id=\"open_file\"></a> \n",
    "[Go back to the Table of Contents](#table_of_contents) "
   ]
  },
  {
   "cell_type": "code",
   "execution_count": 1,
   "metadata": {},
   "outputs": [
    {
     "data": {
      "text/html": [
       "<div>\n",
       "<style scoped>\n",
       "    .dataframe tbody tr th:only-of-type {\n",
       "        vertical-align: middle;\n",
       "    }\n",
       "\n",
       "    .dataframe tbody tr th {\n",
       "        vertical-align: top;\n",
       "    }\n",
       "\n",
       "    .dataframe thead th {\n",
       "        text-align: right;\n",
       "    }\n",
       "</style>\n",
       "<table border=\"1\" class=\"dataframe\">\n",
       "  <thead>\n",
       "    <tr style=\"text-align: right;\">\n",
       "      <th></th>\n",
       "      <th>price</th>\n",
       "      <th>model_year</th>\n",
       "      <th>model</th>\n",
       "      <th>condition</th>\n",
       "      <th>cylinders</th>\n",
       "      <th>fuel</th>\n",
       "      <th>odometer</th>\n",
       "      <th>transmission</th>\n",
       "      <th>type</th>\n",
       "      <th>paint_color</th>\n",
       "      <th>is_4wd</th>\n",
       "      <th>date_posted</th>\n",
       "      <th>days_listed</th>\n",
       "    </tr>\n",
       "  </thead>\n",
       "  <tbody>\n",
       "    <tr>\n",
       "      <td>0</td>\n",
       "      <td>9400</td>\n",
       "      <td>2011.0</td>\n",
       "      <td>bmw x5</td>\n",
       "      <td>good</td>\n",
       "      <td>6.0</td>\n",
       "      <td>gas</td>\n",
       "      <td>145000.0</td>\n",
       "      <td>automatic</td>\n",
       "      <td>SUV</td>\n",
       "      <td>NaN</td>\n",
       "      <td>1.0</td>\n",
       "      <td>2018-06-23</td>\n",
       "      <td>19</td>\n",
       "    </tr>\n",
       "    <tr>\n",
       "      <td>1</td>\n",
       "      <td>25500</td>\n",
       "      <td>NaN</td>\n",
       "      <td>ford f-150</td>\n",
       "      <td>good</td>\n",
       "      <td>6.0</td>\n",
       "      <td>gas</td>\n",
       "      <td>88705.0</td>\n",
       "      <td>automatic</td>\n",
       "      <td>pickup</td>\n",
       "      <td>white</td>\n",
       "      <td>1.0</td>\n",
       "      <td>2018-10-19</td>\n",
       "      <td>50</td>\n",
       "    </tr>\n",
       "    <tr>\n",
       "      <td>2</td>\n",
       "      <td>5500</td>\n",
       "      <td>2013.0</td>\n",
       "      <td>hyundai sonata</td>\n",
       "      <td>like new</td>\n",
       "      <td>4.0</td>\n",
       "      <td>gas</td>\n",
       "      <td>110000.0</td>\n",
       "      <td>automatic</td>\n",
       "      <td>sedan</td>\n",
       "      <td>red</td>\n",
       "      <td>NaN</td>\n",
       "      <td>2019-02-07</td>\n",
       "      <td>79</td>\n",
       "    </tr>\n",
       "    <tr>\n",
       "      <td>3</td>\n",
       "      <td>1500</td>\n",
       "      <td>2003.0</td>\n",
       "      <td>ford f-150</td>\n",
       "      <td>fair</td>\n",
       "      <td>8.0</td>\n",
       "      <td>gas</td>\n",
       "      <td>NaN</td>\n",
       "      <td>automatic</td>\n",
       "      <td>pickup</td>\n",
       "      <td>NaN</td>\n",
       "      <td>NaN</td>\n",
       "      <td>2019-03-22</td>\n",
       "      <td>9</td>\n",
       "    </tr>\n",
       "    <tr>\n",
       "      <td>4</td>\n",
       "      <td>14900</td>\n",
       "      <td>2017.0</td>\n",
       "      <td>chrysler 200</td>\n",
       "      <td>excellent</td>\n",
       "      <td>4.0</td>\n",
       "      <td>gas</td>\n",
       "      <td>80903.0</td>\n",
       "      <td>automatic</td>\n",
       "      <td>sedan</td>\n",
       "      <td>black</td>\n",
       "      <td>NaN</td>\n",
       "      <td>2019-04-02</td>\n",
       "      <td>28</td>\n",
       "    </tr>\n",
       "    <tr>\n",
       "      <td>5</td>\n",
       "      <td>14990</td>\n",
       "      <td>2014.0</td>\n",
       "      <td>chrysler 300</td>\n",
       "      <td>excellent</td>\n",
       "      <td>6.0</td>\n",
       "      <td>gas</td>\n",
       "      <td>57954.0</td>\n",
       "      <td>automatic</td>\n",
       "      <td>sedan</td>\n",
       "      <td>black</td>\n",
       "      <td>1.0</td>\n",
       "      <td>2018-06-20</td>\n",
       "      <td>15</td>\n",
       "    </tr>\n",
       "    <tr>\n",
       "      <td>6</td>\n",
       "      <td>12990</td>\n",
       "      <td>2015.0</td>\n",
       "      <td>toyota camry</td>\n",
       "      <td>excellent</td>\n",
       "      <td>4.0</td>\n",
       "      <td>gas</td>\n",
       "      <td>79212.0</td>\n",
       "      <td>automatic</td>\n",
       "      <td>sedan</td>\n",
       "      <td>white</td>\n",
       "      <td>NaN</td>\n",
       "      <td>2018-12-27</td>\n",
       "      <td>73</td>\n",
       "    </tr>\n",
       "    <tr>\n",
       "      <td>7</td>\n",
       "      <td>15990</td>\n",
       "      <td>2013.0</td>\n",
       "      <td>honda pilot</td>\n",
       "      <td>excellent</td>\n",
       "      <td>6.0</td>\n",
       "      <td>gas</td>\n",
       "      <td>109473.0</td>\n",
       "      <td>automatic</td>\n",
       "      <td>SUV</td>\n",
       "      <td>black</td>\n",
       "      <td>1.0</td>\n",
       "      <td>2019-01-07</td>\n",
       "      <td>68</td>\n",
       "    </tr>\n",
       "    <tr>\n",
       "      <td>8</td>\n",
       "      <td>11500</td>\n",
       "      <td>2012.0</td>\n",
       "      <td>kia sorento</td>\n",
       "      <td>excellent</td>\n",
       "      <td>4.0</td>\n",
       "      <td>gas</td>\n",
       "      <td>104174.0</td>\n",
       "      <td>automatic</td>\n",
       "      <td>SUV</td>\n",
       "      <td>NaN</td>\n",
       "      <td>1.0</td>\n",
       "      <td>2018-07-16</td>\n",
       "      <td>19</td>\n",
       "    </tr>\n",
       "    <tr>\n",
       "      <td>9</td>\n",
       "      <td>9200</td>\n",
       "      <td>2008.0</td>\n",
       "      <td>honda pilot</td>\n",
       "      <td>excellent</td>\n",
       "      <td>NaN</td>\n",
       "      <td>gas</td>\n",
       "      <td>147191.0</td>\n",
       "      <td>automatic</td>\n",
       "      <td>SUV</td>\n",
       "      <td>blue</td>\n",
       "      <td>1.0</td>\n",
       "      <td>2019-02-15</td>\n",
       "      <td>17</td>\n",
       "    </tr>\n",
       "  </tbody>\n",
       "</table>\n",
       "</div>"
      ],
      "text/plain": [
       "   price  model_year           model  condition  cylinders fuel  odometer  \\\n",
       "0   9400      2011.0          bmw x5       good        6.0  gas  145000.0   \n",
       "1  25500         NaN      ford f-150       good        6.0  gas   88705.0   \n",
       "2   5500      2013.0  hyundai sonata   like new        4.0  gas  110000.0   \n",
       "3   1500      2003.0      ford f-150       fair        8.0  gas       NaN   \n",
       "4  14900      2017.0    chrysler 200  excellent        4.0  gas   80903.0   \n",
       "5  14990      2014.0    chrysler 300  excellent        6.0  gas   57954.0   \n",
       "6  12990      2015.0    toyota camry  excellent        4.0  gas   79212.0   \n",
       "7  15990      2013.0     honda pilot  excellent        6.0  gas  109473.0   \n",
       "8  11500      2012.0     kia sorento  excellent        4.0  gas  104174.0   \n",
       "9   9200      2008.0     honda pilot  excellent        NaN  gas  147191.0   \n",
       "\n",
       "  transmission    type paint_color  is_4wd date_posted  days_listed  \n",
       "0    automatic     SUV         NaN     1.0  2018-06-23           19  \n",
       "1    automatic  pickup       white     1.0  2018-10-19           50  \n",
       "2    automatic   sedan         red     NaN  2019-02-07           79  \n",
       "3    automatic  pickup         NaN     NaN  2019-03-22            9  \n",
       "4    automatic   sedan       black     NaN  2019-04-02           28  \n",
       "5    automatic   sedan       black     1.0  2018-06-20           15  \n",
       "6    automatic   sedan       white     NaN  2018-12-27           73  \n",
       "7    automatic     SUV       black     1.0  2019-01-07           68  \n",
       "8    automatic     SUV         NaN     1.0  2018-07-16           19  \n",
       "9    automatic     SUV        blue     1.0  2019-02-15           17  "
      ]
     },
     "execution_count": 1,
     "metadata": {},
     "output_type": "execute_result"
    }
   ],
   "source": [
    "import pandas as pd\n",
    "import numpy as np\n",
    "import matplotlib.pyplot as plt\n",
    "\n",
    "try:\n",
    "    df = pd.read_csv('/Users/yonatan/Desktop/Practicum/Sprint 3 - Exploratory Data Analysis (EDA)/Project -Exploratory Data Analysis (EDA)/vehicles_us.csv')\n",
    "\n",
    "except:\n",
    "    df = pd.read_csv('/datasets/vehicles_us.csv')\n",
    "\n",
    "df.head(10)"
   ]
  },
  {
   "cell_type": "markdown",
   "metadata": {},
   "source": [
    "<div class=\"alert alert-success\" role=\"alert\">\n",
    "Reviewer's comment v. 1:\n",
    "    \n",
    "Well done for using try-except for the path to the file.\n",
    "</div>"
   ]
  },
  {
   "cell_type": "code",
   "execution_count": 2,
   "metadata": {},
   "outputs": [
    {
     "name": "stdout",
     "output_type": "stream",
     "text": [
      "<class 'pandas.core.frame.DataFrame'>\n",
      "RangeIndex: 51525 entries, 0 to 51524\n",
      "Data columns (total 13 columns):\n",
      "price           51525 non-null int64\n",
      "model_year      47906 non-null float64\n",
      "model           51525 non-null object\n",
      "condition       51525 non-null object\n",
      "cylinders       46265 non-null float64\n",
      "fuel            51525 non-null object\n",
      "odometer        43633 non-null float64\n",
      "transmission    51525 non-null object\n",
      "type            51525 non-null object\n",
      "paint_color     42258 non-null object\n",
      "is_4wd          25572 non-null float64\n",
      "date_posted     51525 non-null object\n",
      "days_listed     51525 non-null int64\n",
      "dtypes: float64(4), int64(2), object(7)\n",
      "memory usage: 5.1+ MB\n"
     ]
    }
   ],
   "source": [
    "df.info()"
   ]
  },
  {
   "cell_type": "markdown",
   "metadata": {},
   "source": [
    "### Conclusion"
   ]
  },
  {
   "cell_type": "markdown",
   "metadata": {},
   "source": [
    "Problems in the dataset: NaNs in several columns, some columns need to be converted to other data types (for example: date_posted - from object to date)."
   ]
  },
  {
   "cell_type": "markdown",
   "metadata": {},
   "source": [
    "<div class=\"alert alert-success\" role=\"alert\">\n",
    "Reviewer's comment v. 1:\n",
    "    \n",
    "Yes, you correctly noted a problem with a missing values.\n",
    "</div>"
   ]
  },
  {
   "cell_type": "markdown",
   "metadata": {},
   "source": [
    "## Data preprocessing\n",
    "<a class=\"anchor\" id=\"data_preprocessing\"></a> \n",
    "[Go back to the Table of Contents](#table_of_contents) "
   ]
  },
  {
   "cell_type": "markdown",
   "metadata": {},
   "source": [
    "### Missing values\n",
    "<a class=\"anchor\" id=\"missing_values\"></a> \n",
    "[Go back to the Table of Contents](#table_of_contents) "
   ]
  },
  {
   "cell_type": "code",
   "execution_count": 3,
   "metadata": {},
   "outputs": [
    {
     "data": {
      "text/plain": [
       "price            0.000000\n",
       "model_year       7.023775\n",
       "model            0.000000\n",
       "condition        0.000000\n",
       "cylinders       10.208637\n",
       "fuel             0.000000\n",
       "odometer        15.316836\n",
       "transmission     0.000000\n",
       "type             0.000000\n",
       "paint_color     17.985444\n",
       "is_4wd          50.369723\n",
       "date_posted      0.000000\n",
       "days_listed      0.000000\n",
       "dtype: float64"
      ]
     },
     "execution_count": 3,
     "metadata": {},
     "output_type": "execute_result"
    }
   ],
   "source": [
    "df.isnull().sum()/len(df) * 100"
   ]
  },
  {
   "cell_type": "markdown",
   "metadata": {},
   "source": [
    "<div class=\"alert alert-danger\" role=\"alert\">\n",
    "Reviewer's comment v. 1:\n",
    "    \n",
    "Could you please calculate the percentage of a missing values? It's important to know when making decision about processing of a missing values.\n",
    "</div>"
   ]
  },
  {
   "cell_type": "markdown",
   "metadata": {},
   "source": [
    "<div class=\"alert alert-success\" role=\"alert\">\n",
    "Reviewer's comment v. 2:\n",
    "    \n",
    "Well done that you calculated the percentage of a missing values. This is important to know when making a decision on processing a missing values.\n",
    "</div>"
   ]
  },
  {
   "cell_type": "markdown",
   "metadata": {},
   "source": [
    "We have here 5 columns with missing values (percentage of missing values): model_year (7%), cylinders (10%), odometer (15%), paint_color(17%) and is_4wd (50%).\n",
    "\n",
    "Possible explanations to missing values:\n",
    "* People forgot to enter the model year of the vehicle.\n",
    "* People don't know how many cylinders the vehicle has.\n",
    "* People don't want potential buyers to know the vehicle's number of kilometers, especially if the odometer's number is high.\n",
    "* People don't want to write the vehicle's color, especially if the color isn't attractive.\n",
    "* The zeros in is_4wd are missing because of machine or human error. "
   ]
  },
  {
   "cell_type": "markdown",
   "metadata": {},
   "source": [
    "<div class=\"alert alert-success\" role=\"alert\">\n",
    "Reviewer's comment v. 1:\n",
    "    \n",
    "Yes, a reasonable explanations :)\n",
    "</div>"
   ]
  },
  {
   "cell_type": "markdown",
   "metadata": {},
   "source": [
    "* Let's see the the decriptive statistics of the datset:"
   ]
  },
  {
   "cell_type": "markdown",
   "metadata": {},
   "source": [
    "### Descriptive statistics\n",
    "<a class=\"anchor\" id=\"descriptive\"></a> \n",
    "[Go back to the Table of Contents](#table_of_contents) "
   ]
  },
  {
   "cell_type": "code",
   "execution_count": 4,
   "metadata": {},
   "outputs": [
    {
     "data": {
      "text/html": [
       "<div>\n",
       "<style scoped>\n",
       "    .dataframe tbody tr th:only-of-type {\n",
       "        vertical-align: middle;\n",
       "    }\n",
       "\n",
       "    .dataframe tbody tr th {\n",
       "        vertical-align: top;\n",
       "    }\n",
       "\n",
       "    .dataframe thead th {\n",
       "        text-align: right;\n",
       "    }\n",
       "</style>\n",
       "<table border=\"1\" class=\"dataframe\">\n",
       "  <thead>\n",
       "    <tr style=\"text-align: right;\">\n",
       "      <th></th>\n",
       "      <th>price</th>\n",
       "      <th>model_year</th>\n",
       "      <th>cylinders</th>\n",
       "      <th>odometer</th>\n",
       "      <th>is_4wd</th>\n",
       "      <th>days_listed</th>\n",
       "    </tr>\n",
       "  </thead>\n",
       "  <tbody>\n",
       "    <tr>\n",
       "      <td>count</td>\n",
       "      <td>51525.000000</td>\n",
       "      <td>47906.000000</td>\n",
       "      <td>46265.000000</td>\n",
       "      <td>43633.000000</td>\n",
       "      <td>25572.0</td>\n",
       "      <td>51525.00000</td>\n",
       "    </tr>\n",
       "    <tr>\n",
       "      <td>mean</td>\n",
       "      <td>12132.464920</td>\n",
       "      <td>2009.750470</td>\n",
       "      <td>6.125235</td>\n",
       "      <td>115553.461738</td>\n",
       "      <td>1.0</td>\n",
       "      <td>39.55476</td>\n",
       "    </tr>\n",
       "    <tr>\n",
       "      <td>std</td>\n",
       "      <td>10040.803015</td>\n",
       "      <td>6.282065</td>\n",
       "      <td>1.660360</td>\n",
       "      <td>65094.611341</td>\n",
       "      <td>0.0</td>\n",
       "      <td>28.20427</td>\n",
       "    </tr>\n",
       "    <tr>\n",
       "      <td>min</td>\n",
       "      <td>1.000000</td>\n",
       "      <td>1908.000000</td>\n",
       "      <td>3.000000</td>\n",
       "      <td>0.000000</td>\n",
       "      <td>1.0</td>\n",
       "      <td>0.00000</td>\n",
       "    </tr>\n",
       "    <tr>\n",
       "      <td>25%</td>\n",
       "      <td>5000.000000</td>\n",
       "      <td>2006.000000</td>\n",
       "      <td>4.000000</td>\n",
       "      <td>70000.000000</td>\n",
       "      <td>1.0</td>\n",
       "      <td>19.00000</td>\n",
       "    </tr>\n",
       "    <tr>\n",
       "      <td>50%</td>\n",
       "      <td>9000.000000</td>\n",
       "      <td>2011.000000</td>\n",
       "      <td>6.000000</td>\n",
       "      <td>113000.000000</td>\n",
       "      <td>1.0</td>\n",
       "      <td>33.00000</td>\n",
       "    </tr>\n",
       "    <tr>\n",
       "      <td>75%</td>\n",
       "      <td>16839.000000</td>\n",
       "      <td>2014.000000</td>\n",
       "      <td>8.000000</td>\n",
       "      <td>155000.000000</td>\n",
       "      <td>1.0</td>\n",
       "      <td>53.00000</td>\n",
       "    </tr>\n",
       "    <tr>\n",
       "      <td>max</td>\n",
       "      <td>375000.000000</td>\n",
       "      <td>2019.000000</td>\n",
       "      <td>12.000000</td>\n",
       "      <td>990000.000000</td>\n",
       "      <td>1.0</td>\n",
       "      <td>271.00000</td>\n",
       "    </tr>\n",
       "  </tbody>\n",
       "</table>\n",
       "</div>"
      ],
      "text/plain": [
       "               price    model_year     cylinders       odometer   is_4wd  \\\n",
       "count   51525.000000  47906.000000  46265.000000   43633.000000  25572.0   \n",
       "mean    12132.464920   2009.750470      6.125235  115553.461738      1.0   \n",
       "std     10040.803015      6.282065      1.660360   65094.611341      0.0   \n",
       "min         1.000000   1908.000000      3.000000       0.000000      1.0   \n",
       "25%      5000.000000   2006.000000      4.000000   70000.000000      1.0   \n",
       "50%      9000.000000   2011.000000      6.000000  113000.000000      1.0   \n",
       "75%     16839.000000   2014.000000      8.000000  155000.000000      1.0   \n",
       "max    375000.000000   2019.000000     12.000000  990000.000000      1.0   \n",
       "\n",
       "       days_listed  \n",
       "count  51525.00000  \n",
       "mean      39.55476  \n",
       "std       28.20427  \n",
       "min        0.00000  \n",
       "25%       19.00000  \n",
       "50%       33.00000  \n",
       "75%       53.00000  \n",
       "max      271.00000  "
      ]
     },
     "execution_count": 4,
     "metadata": {},
     "output_type": "execute_result"
    }
   ],
   "source": [
    "df.describe()"
   ]
  },
  {
   "cell_type": "markdown",
   "metadata": {},
   "source": [
    "#### Checking model_year column"
   ]
  },
  {
   "cell_type": "markdown",
   "metadata": {},
   "source": [
    "* As we can see, the median and the mean are close, so we can fill in the missing values with each of them. \n",
    "\n",
    "* Let's fill in the missing values with the median:"
   ]
  },
  {
   "cell_type": "markdown",
   "metadata": {},
   "source": [
    "<div class=\"alert alert-success\" role=\"alert\">\n",
    "Reviewer's comment v. 1:\n",
    "    \n",
    "Yes, you are right.\n",
    "</div>"
   ]
  },
  {
   "cell_type": "code",
   "execution_count": 5,
   "metadata": {},
   "outputs": [],
   "source": [
    "model_year_median = df['model_year'].median()\n",
    "df.loc[df['model_year'].isnull(), 'model_year'] = model_year_median"
   ]
  },
  {
   "cell_type": "markdown",
   "metadata": {},
   "source": [
    "* Checking again:"
   ]
  },
  {
   "cell_type": "code",
   "execution_count": 6,
   "metadata": {},
   "outputs": [
    {
     "data": {
      "text/plain": [
       "0"
      ]
     },
     "execution_count": 6,
     "metadata": {},
     "output_type": "execute_result"
    }
   ],
   "source": [
    "len(df[df['model_year'].isnull()])"
   ]
  },
  {
   "cell_type": "markdown",
   "metadata": {},
   "source": [
    "* Done."
   ]
  },
  {
   "cell_type": "markdown",
   "metadata": {},
   "source": [
    "#### Checking cylinders column"
   ]
  },
  {
   "cell_type": "markdown",
   "metadata": {},
   "source": [
    "* As we can see, the median and the mean are close, so we can fill in the missing values with both of them. Let's fill in the missing values with the median:"
   ]
  },
  {
   "cell_type": "code",
   "execution_count": 7,
   "metadata": {},
   "outputs": [],
   "source": [
    "cylinders_median = df['cylinders'].median()\n",
    "df.loc[df['cylinders'].isnull(), 'cylinders'] = cylinders_median"
   ]
  },
  {
   "cell_type": "markdown",
   "metadata": {},
   "source": [
    "<div class=\"alert alert-success\" role=\"alert\">\n",
    "Reviewer's comment v. 1:\n",
    "    \n",
    "Ok :)\n",
    "</div>"
   ]
  },
  {
   "cell_type": "markdown",
   "metadata": {},
   "source": [
    "* Checking again:"
   ]
  },
  {
   "cell_type": "code",
   "execution_count": 8,
   "metadata": {},
   "outputs": [
    {
     "data": {
      "text/plain": [
       "0"
      ]
     },
     "execution_count": 8,
     "metadata": {},
     "output_type": "execute_result"
    }
   ],
   "source": [
    "len(df[df['cylinders'].isnull()])"
   ]
  },
  {
   "cell_type": "markdown",
   "metadata": {},
   "source": [
    "Done."
   ]
  },
  {
   "cell_type": "markdown",
   "metadata": {},
   "source": [
    "#### Checking is_4wd column"
   ]
  },
  {
   "cell_type": "markdown",
   "metadata": {},
   "source": [
    "* Let's see wich unique values are in this column:"
   ]
  },
  {
   "cell_type": "code",
   "execution_count": 9,
   "metadata": {},
   "outputs": [
    {
     "data": {
      "text/plain": [
       "array([1.])"
      ]
     },
     "execution_count": 9,
     "metadata": {},
     "output_type": "execute_result"
    }
   ],
   "source": [
    "df['is_4wd'][df['is_4wd'].notnull()].unique()"
   ]
  },
  {
   "cell_type": "markdown",
   "metadata": {},
   "source": [
    "* As we can see, the only value in this column is 1.0. Because there only two possible values, it is reasonable that the missing values here are the zeros. "
   ]
  },
  {
   "cell_type": "markdown",
   "metadata": {},
   "source": [
    "* Filling in the missing values in is_4wd with 0:"
   ]
  },
  {
   "cell_type": "code",
   "execution_count": 10,
   "metadata": {},
   "outputs": [],
   "source": [
    "df.loc[df['is_4wd'].isnull(), 'is_4wd'] = 0"
   ]
  },
  {
   "cell_type": "markdown",
   "metadata": {},
   "source": [
    "* Checking again:"
   ]
  },
  {
   "cell_type": "code",
   "execution_count": 11,
   "metadata": {},
   "outputs": [
    {
     "data": {
      "text/plain": [
       "0"
      ]
     },
     "execution_count": 11,
     "metadata": {},
     "output_type": "execute_result"
    }
   ],
   "source": [
    "len(df[df['is_4wd'].isnull()])"
   ]
  },
  {
   "cell_type": "markdown",
   "metadata": {},
   "source": [
    "* Done."
   ]
  },
  {
   "cell_type": "markdown",
   "metadata": {},
   "source": [
    "<div class=\"alert alert-success\" role=\"alert\">\n",
    "Reviewer's comment v. 1:\n",
    "    \n",
    "Well done that you explained why you filled missing values in the \"is_4wd\" column with zeros. \n",
    "</div>"
   ]
  },
  {
   "cell_type": "markdown",
   "metadata": {},
   "source": [
    "#### Checking odometer column"
   ]
  },
  {
   "cell_type": "markdown",
   "metadata": {},
   "source": [
    "* As we can see, the median and the mean are close, so we can fill in the missing values with both of them. Let's fill in the missing values with the median:"
   ]
  },
  {
   "cell_type": "code",
   "execution_count": 12,
   "metadata": {},
   "outputs": [],
   "source": [
    "odometer_median = df['odometer'].median()\n",
    "df.loc[df['odometer'].isnull(), 'odometer'] = odometer_median"
   ]
  },
  {
   "cell_type": "markdown",
   "metadata": {},
   "source": [
    "* Checking again:"
   ]
  },
  {
   "cell_type": "code",
   "execution_count": 13,
   "metadata": {},
   "outputs": [
    {
     "data": {
      "text/plain": [
       "0"
      ]
     },
     "execution_count": 13,
     "metadata": {},
     "output_type": "execute_result"
    }
   ],
   "source": [
    "len(df[df['odometer'].isnull()])"
   ]
  },
  {
   "cell_type": "markdown",
   "metadata": {},
   "source": [
    "* Done"
   ]
  },
  {
   "cell_type": "markdown",
   "metadata": {},
   "source": [
    "#### Checking paint_color column"
   ]
  },
  {
   "cell_type": "markdown",
   "metadata": {},
   "source": [
    "* Checking paint_color's values frequency:"
   ]
  },
  {
   "cell_type": "code",
   "execution_count": 14,
   "metadata": {},
   "outputs": [
    {
     "data": {
      "text/plain": [
       "white     10029\n",
       "black      7692\n",
       "silver     6244\n",
       "grey       5037\n",
       "blue       4475\n",
       "red        4421\n",
       "green      1396\n",
       "brown      1223\n",
       "custom     1153\n",
       "yellow      255\n",
       "orange      231\n",
       "purple      102\n",
       "Name: paint_color, dtype: int64"
      ]
     },
     "execution_count": 14,
     "metadata": {},
     "output_type": "execute_result"
    }
   ],
   "source": [
    "df['paint_color'].value_counts()"
   ]
  },
  {
   "cell_type": "markdown",
   "metadata": {},
   "source": [
    "* As we can see, the most common value in this column is white. In this case, I won't fill in the missing values with white (there are 9267 of them and it's a categorical variable). "
   ]
  },
  {
   "cell_type": "markdown",
   "metadata": {},
   "source": [
    "#### Final checking for missing values"
   ]
  },
  {
   "cell_type": "code",
   "execution_count": 15,
   "metadata": {
    "scrolled": true
   },
   "outputs": [
    {
     "data": {
      "text/plain": [
       "price              0\n",
       "model_year         0\n",
       "model              0\n",
       "condition          0\n",
       "cylinders          0\n",
       "fuel               0\n",
       "odometer           0\n",
       "transmission       0\n",
       "type               0\n",
       "paint_color     9267\n",
       "is_4wd             0\n",
       "date_posted        0\n",
       "days_listed        0\n",
       "dtype: int64"
      ]
     },
     "execution_count": 15,
     "metadata": {},
     "output_type": "execute_result"
    }
   ],
   "source": [
    "df.isnull().sum()"
   ]
  },
  {
   "cell_type": "markdown",
   "metadata": {},
   "source": [
    "* Everything is OK."
   ]
  },
  {
   "cell_type": "markdown",
   "metadata": {},
   "source": [
    "<div class=\"alert alert-success\" role=\"alert\">\n",
    "Reviewer's comment v. 1:\n",
    "    \n",
    "Great, now we don't have a missing values.\n",
    "</div>"
   ]
  },
  {
   "cell_type": "markdown",
   "metadata": {},
   "source": [
    "### Checking and converting data types\n",
    "<a class=\"anchor\" id=\"convert\"></a> \n",
    "[Go back to the Table of Contents](#table_of_contents) "
   ]
  },
  {
   "cell_type": "markdown",
   "metadata": {},
   "source": [
    "* Lowering the strings in object data types:"
   ]
  },
  {
   "cell_type": "code",
   "execution_count": 16,
   "metadata": {},
   "outputs": [],
   "source": [
    "df['model'] = df['model'].str.lower()\n",
    "df['condition'] = df['condition'].str.lower()\n",
    "df['fuel'] = df['fuel'].str.lower()\n",
    "df['transmission'] = df['transmission'].str.lower()\n",
    "df['type'] = df['type'].str.lower()\n",
    "df['paint_color'] = df['paint_color'].str.lower()\n",
    "df['date_posted'] = df['date_posted'].str.lower()"
   ]
  },
  {
   "cell_type": "markdown",
   "metadata": {},
   "source": [
    "* Checking for duplicates"
   ]
  },
  {
   "cell_type": "code",
   "execution_count": 17,
   "metadata": {},
   "outputs": [
    {
     "data": {
      "text/plain": [
       "0"
      ]
     },
     "execution_count": 17,
     "metadata": {},
     "output_type": "execute_result"
    }
   ],
   "source": [
    "df.duplicated().sum()"
   ]
  },
  {
   "cell_type": "markdown",
   "metadata": {},
   "source": [
    "* No duplicates in the dataset."
   ]
  },
  {
   "cell_type": "markdown",
   "metadata": {},
   "source": [
    "<div class=\"alert alert-success\" role=\"alert\">\n",
    "Reviewer's comment v. 1:\n",
    "    \n",
    "Yes, we don't have duplicates in our data.\n",
    "</div>"
   ]
  },
  {
   "cell_type": "markdown",
   "metadata": {},
   "source": [
    "Let's change the data types of our columns according to their values: \n",
    "* int8: cylinders (the maximum cylinders is 12).\n",
    "* int16: days_listed (the maximum days listed is 271).\n",
    "* int32: price, odometer (the maximum values are 375000 and 990000 respectively).\n",
    "* category: paint_color, type, transmission, fuel, condition, model (they are all categorical variables).\n",
    "* boolean: is_4wd (only 2 options).\n",
    "* datetime64: date_posted, model_year (in order to make calculations of date)."
   ]
  },
  {
   "cell_type": "markdown",
   "metadata": {},
   "source": [
    "<div class=\"alert alert-success\" role=\"alert\">\n",
    "Reviewer's comment v. 1:\n",
    "    \n",
    "In case of large datasets optimization of the data type is a good practice.\n",
    "\n",
    "Please see for details: https://medium.com/@vincentteyssier/optimizing-the-size-of-a-pandas-dataframe-for-low-memory-environment-5f07db3d72e\n",
    "</div>"
   ]
  },
  {
   "cell_type": "code",
   "execution_count": 18,
   "metadata": {},
   "outputs": [],
   "source": [
    "df = df.astype({'price':'int32', 'model':'category', 'condition':'category', 'cylinders':'int8', 'fuel':'category','odometer':'int32', 'transmission':'category', 'type':'category', 'paint_color':'category', 'is_4wd':'bool', 'days_listed':'int16'})"
   ]
  },
  {
   "cell_type": "code",
   "execution_count": 19,
   "metadata": {},
   "outputs": [],
   "source": [
    "df['date_posted'] = pd.to_datetime(df['date_posted'], format=\"%Y-%m-%d\")"
   ]
  },
  {
   "cell_type": "code",
   "execution_count": 20,
   "metadata": {},
   "outputs": [],
   "source": [
    "df['model_year'] = pd.to_datetime(df['model_year'], format=\"%Y\")"
   ]
  },
  {
   "cell_type": "code",
   "execution_count": 21,
   "metadata": {},
   "outputs": [
    {
     "name": "stdout",
     "output_type": "stream",
     "text": [
      "<class 'pandas.core.frame.DataFrame'>\n",
      "RangeIndex: 51525 entries, 0 to 51524\n",
      "Data columns (total 13 columns):\n",
      "price           51525 non-null int32\n",
      "model_year      51525 non-null datetime64[ns]\n",
      "model           51525 non-null category\n",
      "condition       51525 non-null category\n",
      "cylinders       51525 non-null int8\n",
      "fuel            51525 non-null category\n",
      "odometer        51525 non-null int32\n",
      "transmission    51525 non-null category\n",
      "type            51525 non-null category\n",
      "paint_color     42258 non-null category\n",
      "is_4wd          51525 non-null bool\n",
      "date_posted     51525 non-null datetime64[ns]\n",
      "days_listed     51525 non-null int16\n",
      "dtypes: bool(1), category(6), datetime64[ns](2), int16(1), int32(2), int8(1)\n",
      "memory usage: 1.7 MB\n"
     ]
    }
   ],
   "source": [
    "df.info()"
   ]
  },
  {
   "cell_type": "markdown",
   "metadata": {},
   "source": [
    "Ok, the data types have changed as we wanted. All set for the next step!"
   ]
  },
  {
   "cell_type": "markdown",
   "metadata": {},
   "source": [
    "### Conclusion"
   ]
  },
  {
   "cell_type": "markdown",
   "metadata": {},
   "source": [
    "In the preprocessing part:\n",
    "* I found and replaced the following missing values: model_year, cylinders, odometer, is_4wd.\n",
    "* I found no duplicates.\n",
    "* I changed the data types of the following columns:cylinders, days_listed, price, odometer, paint_color, type, transmission, fuel, condition, model, is_4wd, date_posted, model_year."
   ]
  },
  {
   "cell_type": "markdown",
   "metadata": {},
   "source": [
    "<div class=\"alert alert-danger\" role=\"alert\">\n",
    "Reviewer's comment v. 1:\n",
    "    \n",
    "Please note that it’s necessary to add a conclusion for each part of the project. \n",
    "</div>"
   ]
  },
  {
   "cell_type": "markdown",
   "metadata": {},
   "source": [
    "<div class=\"alert alert-success\" role=\"alert\">\n",
    "Reviewer's comment v. 2:\n",
    "    \n",
    "It's great that you clearly described main results of this part of the project.\n",
    "</div>"
   ]
  },
  {
   "cell_type": "markdown",
   "metadata": {},
   "source": [
    "## Make calculations and add them to the table\n",
    "<a class=\"anchor\" id=\"calculations\"></a> \n",
    "[Go back to the Table of Contents](#table_of_contents) "
   ]
  },
  {
   "cell_type": "markdown",
   "metadata": {},
   "source": [
    "### Adding day of the week, month, and year"
   ]
  },
  {
   "cell_type": "code",
   "execution_count": 22,
   "metadata": {},
   "outputs": [],
   "source": [
    "df['day_of_week'] = df['date_posted'].dt.weekday"
   ]
  },
  {
   "cell_type": "code",
   "execution_count": 23,
   "metadata": {},
   "outputs": [],
   "source": [
    "df['month'] = df['date_posted'].dt.month"
   ]
  },
  {
   "cell_type": "code",
   "execution_count": 24,
   "metadata": {},
   "outputs": [],
   "source": [
    "df['year'] = df['date_posted'].dt.year"
   ]
  },
  {
   "cell_type": "markdown",
   "metadata": {},
   "source": [
    "### Adding vehicle's age"
   ]
  },
  {
   "cell_type": "code",
   "execution_count": 25,
   "metadata": {},
   "outputs": [],
   "source": [
    "df['age'] = df['year'] - df['model_year'].dt.year"
   ]
  },
  {
   "cell_type": "markdown",
   "metadata": {},
   "source": [
    "### Adding vehicle's average mileage per year"
   ]
  },
  {
   "cell_type": "code",
   "execution_count": 26,
   "metadata": {},
   "outputs": [],
   "source": [
    "def average_year_mileage(row):\n",
    "    if row['age'] != 0:\n",
    "        return row['odometer'] / row['age']\n",
    "    else:\n",
    "        return row['odometer']\n",
    "\n",
    "df['average_year_mileage'] = df.apply(average_year_mileage, axis=1)"
   ]
  },
  {
   "cell_type": "code",
   "execution_count": 27,
   "metadata": {},
   "outputs": [
    {
     "data": {
      "text/plain": [
       "count     51525.000000\n",
       "mean      19129.552314\n",
       "std       16864.127228\n",
       "min           0.000000\n",
       "25%       10360.444444\n",
       "50%       15161.285714\n",
       "75%       22221.428571\n",
       "max      373200.000000\n",
       "Name: average_year_mileage, dtype: float64"
      ]
     },
     "execution_count": 27,
     "metadata": {},
     "output_type": "execute_result"
    }
   ],
   "source": [
    "df['average_year_mileage'].describe()"
   ]
  },
  {
   "cell_type": "markdown",
   "metadata": {},
   "source": [
    "### Replacing string values with a numeric scale in the condition  column"
   ]
  },
  {
   "cell_type": "code",
   "execution_count": 28,
   "metadata": {},
   "outputs": [
    {
     "data": {
      "text/plain": [
       "excellent    24773\n",
       "good         20145\n",
       "like new      4742\n",
       "fair          1607\n",
       "new            143\n",
       "salvage        115\n",
       "Name: condition, dtype: int64"
      ]
     },
     "execution_count": 28,
     "metadata": {},
     "output_type": "execute_result"
    }
   ],
   "source": [
    "df['condition'].value_counts()"
   ]
  },
  {
   "cell_type": "code",
   "execution_count": 29,
   "metadata": {},
   "outputs": [],
   "source": [
    "def to_numeric(condition):\n",
    "    if condition == 'new':\n",
    "        return 5\n",
    "    elif condition == 'like new':\n",
    "        return 4\n",
    "    elif condition == 'excellent':\n",
    "        return 3\n",
    "    elif condition == 'good':\n",
    "        return 2\n",
    "    elif condition == 'fair':\n",
    "        return 1\n",
    "    else:\n",
    "        return 0\n",
    "\n",
    "df['condition'] = df['condition'].apply(to_numeric)\n",
    "df['condition'] = df['condition'].astype('int8')"
   ]
  },
  {
   "cell_type": "markdown",
   "metadata": {},
   "source": [
    "<div class=\"alert alert-success\" role=\"alert\">\n",
    "Reviewer's comment v. 1:\n",
    "    \n",
    "Yes, it's necessary to convert the condition column to a numeric scale.\n",
    "</div>"
   ]
  },
  {
   "cell_type": "code",
   "execution_count": 30,
   "metadata": {},
   "outputs": [
    {
     "data": {
      "text/plain": [
       "count    51525.000000\n",
       "mean         2.637535\n",
       "std          0.712447\n",
       "min          0.000000\n",
       "25%          2.000000\n",
       "50%          3.000000\n",
       "75%          3.000000\n",
       "max          5.000000\n",
       "Name: condition, dtype: float64"
      ]
     },
     "execution_count": 30,
     "metadata": {},
     "output_type": "execute_result"
    }
   ],
   "source": [
    "df.head()\n",
    "df['condition'].describe()"
   ]
  },
  {
   "cell_type": "markdown",
   "metadata": {},
   "source": [
    "The strings in condition column were replaced by numbers and the data type was changed as well."
   ]
  },
  {
   "cell_type": "markdown",
   "metadata": {},
   "source": [
    "<div class=\"alert alert-success\" role=\"alert\">\n",
    "Reviewer's comment v. 1:\n",
    "    \n",
    "Ok, lets move to the data analysis.\n",
    "</div>"
   ]
  },
  {
   "cell_type": "markdown",
   "metadata": {},
   "source": [
    "## Carry out exploratory data analysis\n",
    "<a class=\"anchor\" id=\"eda\"></a> \n",
    "[Go back to the Table of Contents](#table_of_contents) "
   ]
  },
  {
   "cell_type": "code",
   "execution_count": 31,
   "metadata": {
    "scrolled": false
   },
   "outputs": [
    {
     "data": {
      "image/png": "[encoded data removed]",
      "text/plain": [
       "<Figure size 432x288 with 1 Axes>"
      ]
     },
     "metadata": {
      "needs_background": "light"
     },
     "output_type": "display_data"
    }
   ],
   "source": [
    "df['price'].plot(kind='hist', title='Price Frequency', bins=50, range=(0, 40000))\n",
    "plt.xlabel('Price')\n",
    "plt.show()"
   ]
  },
  {
   "cell_type": "markdown",
   "metadata": {},
   "source": [
    "<div class=\"alert alert-success\" role=\"alert\">\n",
    "Reviewer's comment v. 1:\n",
    "    \n",
    "It's great that you didn't forget the axis labels and the title to the graph.\n",
    "</div>"
   ]
  },
  {
   "cell_type": "markdown",
   "metadata": {},
   "source": [
    "There are significant ouliers here. Without the range parameter the maximum in the x axis is 350,000 and you just see a spike. The range limit makes it possible to see the ditribution in more detail."
   ]
  },
  {
   "cell_type": "markdown",
   "metadata": {},
   "source": [
    "<div class=\"alert alert-success\" role=\"alert\">\n",
    "Reviewer's comment v. 1:\n",
    "    \n",
    "Well done that you analyzed the graph in details.\n",
    "</div>"
   ]
  },
  {
   "cell_type": "code",
   "execution_count": 32,
   "metadata": {
    "scrolled": true
   },
   "outputs": [
    {
     "data": {
      "image/png": "[encoded data removed]",
      "text/plain": [
       "<Figure size 432x288 with 1 Axes>"
      ]
     },
     "metadata": {
      "needs_background": "light"
     },
     "output_type": "display_data"
    }
   ],
   "source": [
    "df['age'].plot(kind='hist', title='Age Frequency', range=(0, 25), bins=20)\n",
    "plt.xlabel('Age')\n",
    "plt.show()"
   ]
  },
  {
   "cell_type": "markdown",
   "metadata": {},
   "source": [
    "Without the range parameter the maximum in the x axis is 100. After changing the range, we can see what vehicle's age most of people are looking for."
   ]
  },
  {
   "cell_type": "code",
   "execution_count": 33,
   "metadata": {
    "scrolled": true
   },
   "outputs": [
    {
     "data": {
      "image/png": "[encoded data removed]",
      "text/plain": [
       "<Figure size 432x288 with 1 Axes>"
      ]
     },
     "metadata": {
      "needs_background": "light"
     },
     "output_type": "display_data"
    }
   ],
   "source": [
    "df['average_year_mileage'].plot(kind='hist', title='Average yearly mileage Frequency', bins=100, range=(0, 40000))\n",
    "plt.xlabel('Average yeary mileage')\n",
    "plt.show()"
   ]
  },
  {
   "cell_type": "markdown",
   "metadata": {},
   "source": [
    "The maximum value on x axis without the range is 350,000. After changing the range, we can see the main distibution."
   ]
  },
  {
   "cell_type": "code",
   "execution_count": 34,
   "metadata": {
    "scrolled": true
   },
   "outputs": [
    {
     "data": {
      "image/png": "[encoded data removed]",
      "text/plain": [
       "<Figure size 432x288 with 1 Axes>"
      ]
     },
     "metadata": {
      "needs_background": "light"
     },
     "output_type": "display_data"
    }
   ],
   "source": [
    "df['cylinders'].plot(kind='hist', title=\"Frequency of cylinders' number\")\n",
    "plt.xlabel('Cylinders')\n",
    "plt.show()"
   ]
  },
  {
   "cell_type": "markdown",
   "metadata": {},
   "source": [
    "The maximum value of cylenders in this plot is 12, so we don't need to change the range."
   ]
  },
  {
   "cell_type": "code",
   "execution_count": 35,
   "metadata": {},
   "outputs": [
    {
     "data": {
      "image/png": "[encoded data removed]",
      "text/plain": [
       "<Figure size 432x288 with 1 Axes>"
      ]
     },
     "metadata": {
      "needs_background": "light"
     },
     "output_type": "display_data"
    }
   ],
   "source": [
    "df['condition'].plot(kind='hist', title='Frequency of condition')\n",
    "plt.xlabel('Condition')\n",
    "plt.show()"
   ]
  },
  {
   "cell_type": "markdown",
   "metadata": {},
   "source": [
    "The maximum value here is 5, so we don't need to change the range."
   ]
  },
  {
   "cell_type": "markdown",
   "metadata": {},
   "source": [
    "<div class=\"alert alert-success\" role=\"alert\">\n",
    "Reviewer's comment v. 1:\n",
    "    \n",
    "It will be better to analyse the type of distributions.\n",
    "    \n",
    "Please see for details: https://www.analyticsvidhya.com/blog/2017/09/6-probability-distributions-data-science/\n",
    "</div>"
   ]
  },
  {
   "cell_type": "markdown",
   "metadata": {},
   "source": [
    "### Determining the upper limits of outliers\n",
    "<a class=\"anchor\" id=\"limits\"></a> \n",
    "[Go back to the Table of Contents](#table_of_contents) "
   ]
  },
  {
   "cell_type": "code",
   "execution_count": 36,
   "metadata": {},
   "outputs": [
    {
     "data": {
      "text/plain": [
       "{'price_lower_lim': -12758.5,\n",
       " 'price_upper_lim': 34597.5,\n",
       " 'age_lower_lim': -8.0,\n",
       " 'age_upper_lim': 24.0,\n",
       " 'average_year_mileage_lower_lim': -7431.031746031746,\n",
       " 'average_year_mileage_upper_lim': 40012.90476190476,\n",
       " 'cylinders_lower_lim': -2.0,\n",
       " 'cylinders_upper_lim': 14.0,\n",
       " 'condition_lower_lim': 0.5,\n",
       " 'condition_upper_lim': 4.5}"
      ]
     },
     "execution_count": 36,
     "metadata": {},
     "output_type": "execute_result"
    }
   ],
   "source": [
    "# IQR = Q3 — Q1\n",
    "# Q1–1.5 * IQR, Q3 + 1.5 * IQR\n",
    "limits_dict = {}\n",
    "for column in ['price', 'age', 'average_year_mileage', 'cylinders', 'condition']:\n",
    "    Q1 = df[column].quantile(0.25)\n",
    "    Q3 = df[column].quantile(0.75)\n",
    "    IQR = Q3 - Q1 \n",
    "    limits_dict[\"{}_lower_lim\".format(column)] = Q1 - 1.5 * IQR\n",
    "    limits_dict[\"{}_upper_lim\".format(column)] = Q3 + 1.5 * IQR\n",
    "\n",
    "limits_dict"
   ]
  },
  {
   "cell_type": "markdown",
   "metadata": {},
   "source": [
    "### Saving filtered data and outliers in separate DataFrames"
   ]
  },
  {
   "cell_type": "code",
   "execution_count": 37,
   "metadata": {
    "scrolled": true
   },
   "outputs": [],
   "source": [
    "filtered_data = df.query('price < 34597.5 and age < 24 and average_year_mileage < 40012.9 and 0.5 < condition < 4.5')\n",
    "outliers = df.query('price > 34597.5 or age > 24 or average_year_mileage > 40012.9 or 0.5 > condition or condition > 4.5 ')"
   ]
  },
  {
   "cell_type": "markdown",
   "metadata": {},
   "source": [
    "<div class=\"alert alert-success\" role=\"alert\">\n",
    "Reviewer's comment v. 1:\n",
    "    \n",
    "Good job that you clearly analysed an outliers.\n",
    "    \n",
    "Maybe this link will be interesting for you: https://towardsdatascience.com/ways-to-detect-and-remove-the-outliers-404d16608dba \n",
    "</div>"
   ]
  },
  {
   "cell_type": "markdown",
   "metadata": {},
   "source": [
    "### Histograms of filtered data"
   ]
  },
  {
   "cell_type": "code",
   "execution_count": 38,
   "metadata": {
    "scrolled": true
   },
   "outputs": [
    {
     "data": {
      "image/png": "[encoded data removed]",
      "text/plain": [
       "<Figure size 432x288 with 1 Axes>"
      ]
     },
     "metadata": {
      "needs_background": "light"
     },
     "output_type": "display_data"
    }
   ],
   "source": [
    "filtered_data['price'].plot(kind='hist', title='Price Frequency', bins=50)\n",
    "plt.xlabel('Price')\n",
    "plt.show()"
   ]
  },
  {
   "cell_type": "markdown",
   "metadata": {},
   "source": [
    "I don't see a significant difference between the price histograms with and without outliers."
   ]
  },
  {
   "cell_type": "code",
   "execution_count": 39,
   "metadata": {
    "scrolled": true
   },
   "outputs": [
    {
     "data": {
      "image/png": "[encoded data removed]",
      "text/plain": [
       "<Figure size 432x288 with 1 Axes>"
      ]
     },
     "metadata": {
      "needs_background": "light"
     },
     "output_type": "display_data"
    }
   ],
   "source": [
    "filtered_data['age'].plot(kind='hist', title='Age Frequency', bins=20)\n",
    "plt.xlabel('Age')\n",
    "plt.show()"
   ]
  },
  {
   "cell_type": "markdown",
   "metadata": {},
   "source": [
    "There are some differences here: less ouliers means less spikes."
   ]
  },
  {
   "cell_type": "code",
   "execution_count": 40,
   "metadata": {
    "scrolled": true
   },
   "outputs": [
    {
     "data": {
      "image/png": "[encoded data removed]",
      "text/plain": [
       "<Figure size 432x288 with 1 Axes>"
      ]
     },
     "metadata": {
      "needs_background": "light"
     },
     "output_type": "display_data"
    }
   ],
   "source": [
    "filtered_data['average_year_mileage'].plot(kind='hist', title='Average yearly mileage Frequency', range=(0, 40000), bins=100)\n",
    "plt.xlabel('Average yeary mileage')\n",
    "plt.show()"
   ]
  },
  {
   "cell_type": "markdown",
   "metadata": {},
   "source": [
    "Looks very similar to the equivalent histogram with ouliers."
   ]
  },
  {
   "cell_type": "code",
   "execution_count": 41,
   "metadata": {
    "scrolled": true
   },
   "outputs": [
    {
     "data": {
      "image/png": "[encoded data removed]",
      "text/plain": [
       "<Figure size 432x288 with 1 Axes>"
      ]
     },
     "metadata": {
      "needs_background": "light"
     },
     "output_type": "display_data"
    }
   ],
   "source": [
    "filtered_data['cylinders'].plot(kind='hist', title=\"Frequency of cylinders' number\")\n",
    "plt.xlabel('Cylinders')\n",
    "plt.show()"
   ]
  },
  {
   "cell_type": "markdown",
   "metadata": {},
   "source": [
    "Looks the same as the equivalent cylenders histogram. The only differece is the frequency's maximum value: 17,500 vs 20,000."
   ]
  },
  {
   "cell_type": "code",
   "execution_count": 42,
   "metadata": {
    "scrolled": true
   },
   "outputs": [
    {
     "data": {
      "image/png": "[encoded data removed]",
      "text/plain": [
       "<Figure size 432x288 with 1 Axes>"
      ]
     },
     "metadata": {
      "needs_background": "light"
     },
     "output_type": "display_data"
    }
   ],
   "source": [
    "filtered_data['condition'].plot(kind='hist', title='Frequency of condition')\n",
    "plt.xlabel('Condition')\n",
    "plt.show()"
   ]
  },
  {
   "cell_type": "markdown",
   "metadata": {},
   "source": [
    "The difference here is the maximum value on the frequency axis: 20000 vs 25000."
   ]
  },
  {
   "cell_type": "code",
   "execution_count": 43,
   "metadata": {},
   "outputs": [
    {
     "data": {
      "image/png": "[encoded data removed]",
      "text/plain": [
       "<Figure size 432x288 with 1 Axes>"
      ]
     },
     "metadata": {
      "needs_background": "light"
     },
     "output_type": "display_data"
    }
   ],
   "source": [
    "filtered_data['days_listed'].plot(kind='hist', title='Frequency of days listed', bins=100)\n",
    "plt.xlabel('days listed')\n",
    "plt.show()"
   ]
  },
  {
   "cell_type": "code",
   "execution_count": 44,
   "metadata": {
    "scrolled": true
   },
   "outputs": [
    {
     "data": {
      "text/plain": [
       "count    45882.000000\n",
       "mean        39.561113\n",
       "std         28.233934\n",
       "min          0.000000\n",
       "25%         19.000000\n",
       "50%         33.000000\n",
       "75%         53.000000\n",
       "max        271.000000\n",
       "Name: days_listed, dtype: float64"
      ]
     },
     "execution_count": 44,
     "metadata": {},
     "output_type": "execute_result"
    }
   ],
   "source": [
    "filtered_data['days_listed'].describe()"
   ]
  },
  {
   "cell_type": "markdown",
   "metadata": {},
   "source": [
    "As we can see above, the typical lifetime of an ad is something around 39 (mean)."
   ]
  },
  {
   "cell_type": "markdown",
   "metadata": {},
   "source": [
    "<div class=\"alert alert-danger\" role=\"alert\">\n",
    "Reviewer's comment v. 1:\n",
    "    \n",
    "Could you please clarify which value are you going to choose as typical lifetime of an ad?\n",
    "</div>"
   ]
  },
  {
   "cell_type": "markdown",
   "metadata": {},
   "source": [
    "<div class=\"alert alert-success\" role=\"alert\">\n",
    "Reviewer's comment v. 2:\n",
    "    \n",
    "Ok :)\n",
    "</div>"
   ]
  },
  {
   "cell_type": "markdown",
   "metadata": {},
   "source": [
    "Let's check the correlation between the different factors in relation to days_listed:"
   ]
  },
  {
   "cell_type": "code",
   "execution_count": 45,
   "metadata": {
    "scrolled": false
   },
   "outputs": [
    {
     "data": {
      "text/html": [
       "<div>\n",
       "<style scoped>\n",
       "    .dataframe tbody tr th:only-of-type {\n",
       "        vertical-align: middle;\n",
       "    }\n",
       "\n",
       "    .dataframe tbody tr th {\n",
       "        vertical-align: top;\n",
       "    }\n",
       "\n",
       "    .dataframe thead th {\n",
       "        text-align: right;\n",
       "    }\n",
       "</style>\n",
       "<table border=\"1\" class=\"dataframe\">\n",
       "  <thead>\n",
       "    <tr style=\"text-align: right;\">\n",
       "      <th></th>\n",
       "      <th>price</th>\n",
       "      <th>condition</th>\n",
       "      <th>cylinders</th>\n",
       "      <th>odometer</th>\n",
       "      <th>is_4wd</th>\n",
       "      <th>days_listed</th>\n",
       "      <th>day_of_week</th>\n",
       "      <th>month</th>\n",
       "      <th>year</th>\n",
       "      <th>age</th>\n",
       "      <th>average_year_mileage</th>\n",
       "    </tr>\n",
       "  </thead>\n",
       "  <tbody>\n",
       "    <tr>\n",
       "      <td>price</td>\n",
       "      <td>1.000000</td>\n",
       "      <td>0.190576</td>\n",
       "      <td>0.289269</td>\n",
       "      <td>-0.409840</td>\n",
       "      <td>0.334687</td>\n",
       "      <td>-0.001795</td>\n",
       "      <td>0.000469</td>\n",
       "      <td>-0.022764</td>\n",
       "      <td>0.021383</td>\n",
       "      <td>-0.501243</td>\n",
       "      <td>0.199497</td>\n",
       "    </tr>\n",
       "    <tr>\n",
       "      <td>condition</td>\n",
       "      <td>0.190576</td>\n",
       "      <td>1.000000</td>\n",
       "      <td>-0.074372</td>\n",
       "      <td>-0.268412</td>\n",
       "      <td>-0.000192</td>\n",
       "      <td>0.001174</td>\n",
       "      <td>0.004339</td>\n",
       "      <td>-0.008960</td>\n",
       "      <td>0.009087</td>\n",
       "      <td>-0.274624</td>\n",
       "      <td>0.055772</td>\n",
       "    </tr>\n",
       "    <tr>\n",
       "      <td>cylinders</td>\n",
       "      <td>0.289269</td>\n",
       "      <td>-0.074372</td>\n",
       "      <td>1.000000</td>\n",
       "      <td>0.110772</td>\n",
       "      <td>0.389290</td>\n",
       "      <td>0.005006</td>\n",
       "      <td>-0.004664</td>\n",
       "      <td>0.002893</td>\n",
       "      <td>-0.002096</td>\n",
       "      <td>0.145236</td>\n",
       "      <td>-0.047675</td>\n",
       "    </tr>\n",
       "    <tr>\n",
       "      <td>odometer</td>\n",
       "      <td>-0.409840</td>\n",
       "      <td>-0.268412</td>\n",
       "      <td>0.110772</td>\n",
       "      <td>1.000000</td>\n",
       "      <td>0.054578</td>\n",
       "      <td>0.006856</td>\n",
       "      <td>0.002797</td>\n",
       "      <td>0.017652</td>\n",
       "      <td>-0.013354</td>\n",
       "      <td>0.541981</td>\n",
       "      <td>0.237256</td>\n",
       "    </tr>\n",
       "    <tr>\n",
       "      <td>is_4wd</td>\n",
       "      <td>0.334687</td>\n",
       "      <td>-0.000192</td>\n",
       "      <td>0.389290</td>\n",
       "      <td>0.054578</td>\n",
       "      <td>1.000000</td>\n",
       "      <td>0.004083</td>\n",
       "      <td>0.004799</td>\n",
       "      <td>0.004388</td>\n",
       "      <td>-0.002044</td>\n",
       "      <td>0.018148</td>\n",
       "      <td>0.044836</td>\n",
       "    </tr>\n",
       "    <tr>\n",
       "      <td>days_listed</td>\n",
       "      <td>-0.001795</td>\n",
       "      <td>0.001174</td>\n",
       "      <td>0.005006</td>\n",
       "      <td>0.006856</td>\n",
       "      <td>0.004083</td>\n",
       "      <td>1.000000</td>\n",
       "      <td>0.002787</td>\n",
       "      <td>-0.010961</td>\n",
       "      <td>0.011779</td>\n",
       "      <td>0.002907</td>\n",
       "      <td>0.001127</td>\n",
       "    </tr>\n",
       "    <tr>\n",
       "      <td>day_of_week</td>\n",
       "      <td>0.000469</td>\n",
       "      <td>0.004339</td>\n",
       "      <td>-0.004664</td>\n",
       "      <td>0.002797</td>\n",
       "      <td>0.004799</td>\n",
       "      <td>0.002787</td>\n",
       "      <td>1.000000</td>\n",
       "      <td>0.006804</td>\n",
       "      <td>-0.006592</td>\n",
       "      <td>-0.000236</td>\n",
       "      <td>-0.000641</td>\n",
       "    </tr>\n",
       "    <tr>\n",
       "      <td>month</td>\n",
       "      <td>-0.022764</td>\n",
       "      <td>-0.008960</td>\n",
       "      <td>0.002893</td>\n",
       "      <td>0.017652</td>\n",
       "      <td>0.004388</td>\n",
       "      <td>-0.010961</td>\n",
       "      <td>0.006804</td>\n",
       "      <td>1.000000</td>\n",
       "      <td>-0.820952</td>\n",
       "      <td>-0.037468</td>\n",
       "      <td>0.080111</td>\n",
       "    </tr>\n",
       "    <tr>\n",
       "      <td>year</td>\n",
       "      <td>0.021383</td>\n",
       "      <td>0.009087</td>\n",
       "      <td>-0.002096</td>\n",
       "      <td>-0.013354</td>\n",
       "      <td>-0.002044</td>\n",
       "      <td>0.011779</td>\n",
       "      <td>-0.006592</td>\n",
       "      <td>-0.820952</td>\n",
       "      <td>1.000000</td>\n",
       "      <td>0.053156</td>\n",
       "      <td>-0.096771</td>\n",
       "    </tr>\n",
       "    <tr>\n",
       "      <td>age</td>\n",
       "      <td>-0.501243</td>\n",
       "      <td>-0.274624</td>\n",
       "      <td>0.145236</td>\n",
       "      <td>0.541981</td>\n",
       "      <td>0.018148</td>\n",
       "      <td>0.002907</td>\n",
       "      <td>-0.000236</td>\n",
       "      <td>-0.037468</td>\n",
       "      <td>0.053156</td>\n",
       "      <td>1.000000</td>\n",
       "      <td>-0.544039</td>\n",
       "    </tr>\n",
       "    <tr>\n",
       "      <td>average_year_mileage</td>\n",
       "      <td>0.199497</td>\n",
       "      <td>0.055772</td>\n",
       "      <td>-0.047675</td>\n",
       "      <td>0.237256</td>\n",
       "      <td>0.044836</td>\n",
       "      <td>0.001127</td>\n",
       "      <td>-0.000641</td>\n",
       "      <td>0.080111</td>\n",
       "      <td>-0.096771</td>\n",
       "      <td>-0.544039</td>\n",
       "      <td>1.000000</td>\n",
       "    </tr>\n",
       "  </tbody>\n",
       "</table>\n",
       "</div>"
      ],
      "text/plain": [
       "                         price  condition  cylinders  odometer    is_4wd  \\\n",
       "price                 1.000000   0.190576   0.289269 -0.409840  0.334687   \n",
       "condition             0.190576   1.000000  -0.074372 -0.268412 -0.000192   \n",
       "cylinders             0.289269  -0.074372   1.000000  0.110772  0.389290   \n",
       "odometer             -0.409840  -0.268412   0.110772  1.000000  0.054578   \n",
       "is_4wd                0.334687  -0.000192   0.389290  0.054578  1.000000   \n",
       "days_listed          -0.001795   0.001174   0.005006  0.006856  0.004083   \n",
       "day_of_week           0.000469   0.004339  -0.004664  0.002797  0.004799   \n",
       "month                -0.022764  -0.008960   0.002893  0.017652  0.004388   \n",
       "year                  0.021383   0.009087  -0.002096 -0.013354 -0.002044   \n",
       "age                  -0.501243  -0.274624   0.145236  0.541981  0.018148   \n",
       "average_year_mileage  0.199497   0.055772  -0.047675  0.237256  0.044836   \n",
       "\n",
       "                      days_listed  day_of_week     month      year       age  \\\n",
       "price                   -0.001795     0.000469 -0.022764  0.021383 -0.501243   \n",
       "condition                0.001174     0.004339 -0.008960  0.009087 -0.274624   \n",
       "cylinders                0.005006    -0.004664  0.002893 -0.002096  0.145236   \n",
       "odometer                 0.006856     0.002797  0.017652 -0.013354  0.541981   \n",
       "is_4wd                   0.004083     0.004799  0.004388 -0.002044  0.018148   \n",
       "days_listed              1.000000     0.002787 -0.010961  0.011779  0.002907   \n",
       "day_of_week              0.002787     1.000000  0.006804 -0.006592 -0.000236   \n",
       "month                   -0.010961     0.006804  1.000000 -0.820952 -0.037468   \n",
       "year                     0.011779    -0.006592 -0.820952  1.000000  0.053156   \n",
       "age                      0.002907    -0.000236 -0.037468  0.053156  1.000000   \n",
       "average_year_mileage     0.001127    -0.000641  0.080111 -0.096771 -0.544039   \n",
       "\n",
       "                      average_year_mileage  \n",
       "price                             0.199497  \n",
       "condition                         0.055772  \n",
       "cylinders                        -0.047675  \n",
       "odometer                          0.237256  \n",
       "is_4wd                            0.044836  \n",
       "days_listed                       0.001127  \n",
       "day_of_week                      -0.000641  \n",
       "month                             0.080111  \n",
       "year                             -0.096771  \n",
       "age                              -0.544039  \n",
       "average_year_mileage              1.000000  "
      ]
     },
     "execution_count": 45,
     "metadata": {},
     "output_type": "execute_result"
    }
   ],
   "source": [
    "filtered_data.corr()"
   ]
  },
  {
   "cell_type": "markdown",
   "metadata": {},
   "source": [
    "As we can see above, there are correlations between several different factors to days_listed:\n",
    "* age (-0.5)\n",
    "* odometer (-0.4)\n",
    "* cylinders (0.28)\n",
    "* is_4wd (0.33)\n",
    "* condition (0.19)\n",
    "* average_year_mileage (0.19)\n",
    "\n",
    "Let's take a closer look at low (below Q1) and high (above Q3) sections of days_listed in the distribution: "
   ]
  },
  {
   "cell_type": "code",
   "execution_count": 46,
   "metadata": {},
   "outputs": [],
   "source": [
    "Q1 = filtered_data['days_listed'].quantile(0.25)\n",
    "Q3 = filtered_data['days_listed'].quantile(0.75)\n",
    "short_time = filtered_data.query('days_listed < @Q1')\n",
    "long_time = filtered_data.query('days_listed > @Q3')"
   ]
  },
  {
   "cell_type": "code",
   "execution_count": 47,
   "metadata": {
    "scrolled": false
   },
   "outputs": [
    {
     "data": {
      "text/plain": [
       "count    11194.000000\n",
       "mean        11.119707\n",
       "std          4.679714\n",
       "min          0.000000\n",
       "25%          8.000000\n",
       "50%         12.000000\n",
       "75%         15.000000\n",
       "max         18.000000\n",
       "Name: days_listed, dtype: float64"
      ]
     },
     "execution_count": 47,
     "metadata": {},
     "output_type": "execute_result"
    }
   ],
   "source": [
    "short_time['days_listed'].describe()"
   ]
  },
  {
   "cell_type": "code",
   "execution_count": 48,
   "metadata": {},
   "outputs": [
    {
     "data": {
      "image/png": "[encoded data removed]",
      "text/plain": [
       "<Figure size 432x288 with 1 Axes>"
      ]
     },
     "metadata": {
      "needs_background": "light"
     },
     "output_type": "display_data"
    }
   ],
   "source": [
    "short_time['days_listed'].hist()\n",
    "plt.title('Days listed of short time ads')\n",
    "plt.xlabel('Number of days')\n",
    "plt.ylabel('Frequency')\n",
    "plt.show()"
   ]
  },
  {
   "cell_type": "markdown",
   "metadata": {},
   "source": [
    "Short time ads have an average of 11 days (and a median of 12), which means this is a typical lifetime of a short time ad."
   ]
  },
  {
   "cell_type": "markdown",
   "metadata": {},
   "source": [
    "<div class=\"alert alert-success\" role=\"alert\">\n",
    "Reviewer's comment v. 2:\n",
    "    \n",
    "Yes, you are right :)\n",
    "</div>"
   ]
  },
  {
   "cell_type": "code",
   "execution_count": 49,
   "metadata": {
    "scrolled": true
   },
   "outputs": [
    {
     "data": {
      "text/plain": [
       "count    11419.000000\n",
       "mean        78.761187\n",
       "std         24.398193\n",
       "min         54.000000\n",
       "25%         61.000000\n",
       "50%         72.000000\n",
       "75%         89.000000\n",
       "max        271.000000\n",
       "Name: days_listed, dtype: float64"
      ]
     },
     "execution_count": 49,
     "metadata": {},
     "output_type": "execute_result"
    }
   ],
   "source": [
    "long_time['days_listed'].describe()"
   ]
  },
  {
   "cell_type": "code",
   "execution_count": 50,
   "metadata": {
    "scrolled": true
   },
   "outputs": [
    {
     "data": {
      "image/png": "[encoded data removed]",
      "text/plain": [
       "<Figure size 432x288 with 1 Axes>"
      ]
     },
     "metadata": {
      "needs_background": "light"
     },
     "output_type": "display_data"
    }
   ],
   "source": [
    "long_time['days_listed'].hist(bins=100)\n",
    "plt.title('Days listed of long time ads')\n",
    "plt.xlabel('Number of days')\n",
    "plt.ylabel('Frequency')\n",
    "plt.show()"
   ]
  },
  {
   "cell_type": "markdown",
   "metadata": {},
   "source": [
    "Long time ads have an average of 78 days (and a median of 72), which means this is a typical lifetime of a long time ad."
   ]
  },
  {
   "cell_type": "markdown",
   "metadata": {},
   "source": [
    "<div class=\"alert alert-danger\" role=\"alert\">\n",
    "Reviewer's comment v. 1:\n",
    "    \n",
    "Could you please describe when ads were removed quickly, and when they were listed for an abnormally long time? Please explain your choice.\n",
    "</div>"
   ]
  },
  {
   "cell_type": "markdown",
   "metadata": {},
   "source": [
    "*I hope the cells above is what you meant, if not - please be more specific.*"
   ]
  },
  {
   "cell_type": "markdown",
   "metadata": {},
   "source": [
    "<div class=\"alert alert-success\" role=\"alert\">\n",
    "Reviewer's comment v. 2:\n",
    "    \n",
    "Well done that you chose when ads were removed quickly, and when they were listed for an abnormally long time and explained this choice.\n",
    "</div>"
   ]
  },
  {
   "cell_type": "markdown",
   "metadata": {},
   "source": [
    "### Analyzing the number of ads and the average price for each type of vehicle"
   ]
  },
  {
   "cell_type": "code",
   "execution_count": 51,
   "metadata": {
    "scrolled": false
   },
   "outputs": [
    {
     "data": {
      "text/html": [
       "<div>\n",
       "<style scoped>\n",
       "    .dataframe tbody tr th:only-of-type {\n",
       "        vertical-align: middle;\n",
       "    }\n",
       "\n",
       "    .dataframe tbody tr th {\n",
       "        vertical-align: top;\n",
       "    }\n",
       "\n",
       "    .dataframe thead th {\n",
       "        text-align: right;\n",
       "    }\n",
       "</style>\n",
       "<table border=\"1\" class=\"dataframe\">\n",
       "  <thead>\n",
       "    <tr style=\"text-align: right;\">\n",
       "      <th></th>\n",
       "      <th>type</th>\n",
       "      <th>mean price</th>\n",
       "      <th>number of ads</th>\n",
       "    </tr>\n",
       "  </thead>\n",
       "  <tbody>\n",
       "    <tr>\n",
       "      <td>0</td>\n",
       "      <td>bus</td>\n",
       "      <td>18107.428571</td>\n",
       "      <td>21</td>\n",
       "    </tr>\n",
       "    <tr>\n",
       "      <td>5</td>\n",
       "      <td>offroad</td>\n",
       "      <td>13812.944134</td>\n",
       "      <td>179</td>\n",
       "    </tr>\n",
       "    <tr>\n",
       "      <td>6</td>\n",
       "      <td>other</td>\n",
       "      <td>9911.775229</td>\n",
       "      <td>218</td>\n",
       "    </tr>\n",
       "    <tr>\n",
       "      <td>1</td>\n",
       "      <td>convertible</td>\n",
       "      <td>12948.642202</td>\n",
       "      <td>327</td>\n",
       "    </tr>\n",
       "    <tr>\n",
       "      <td>11</td>\n",
       "      <td>van</td>\n",
       "      <td>8262.089908</td>\n",
       "      <td>545</td>\n",
       "    </tr>\n",
       "    <tr>\n",
       "      <td>3</td>\n",
       "      <td>hatchback</td>\n",
       "      <td>6555.308824</td>\n",
       "      <td>952</td>\n",
       "    </tr>\n",
       "    <tr>\n",
       "      <td>4</td>\n",
       "      <td>mini-van</td>\n",
       "      <td>7561.373953</td>\n",
       "      <td>1075</td>\n",
       "    </tr>\n",
       "    <tr>\n",
       "      <td>12</td>\n",
       "      <td>wagon</td>\n",
       "      <td>8691.236130</td>\n",
       "      <td>1478</td>\n",
       "    </tr>\n",
       "    <tr>\n",
       "      <td>2</td>\n",
       "      <td>coupe</td>\n",
       "      <td>12947.608059</td>\n",
       "      <td>1911</td>\n",
       "    </tr>\n",
       "    <tr>\n",
       "      <td>7</td>\n",
       "      <td>pickup</td>\n",
       "      <td>14406.490900</td>\n",
       "      <td>6044</td>\n",
       "    </tr>\n",
       "    <tr>\n",
       "      <td>10</td>\n",
       "      <td>truck</td>\n",
       "      <td>14543.784792</td>\n",
       "      <td>10534</td>\n",
       "    </tr>\n",
       "    <tr>\n",
       "      <td>8</td>\n",
       "      <td>sedan</td>\n",
       "      <td>6666.667793</td>\n",
       "      <td>11249</td>\n",
       "    </tr>\n",
       "    <tr>\n",
       "      <td>9</td>\n",
       "      <td>suv</td>\n",
       "      <td>10080.488589</td>\n",
       "      <td>11349</td>\n",
       "    </tr>\n",
       "  </tbody>\n",
       "</table>\n",
       "</div>"
      ],
      "text/plain": [
       "           type    mean price  number of ads\n",
       "0           bus  18107.428571             21\n",
       "5       offroad  13812.944134            179\n",
       "6         other   9911.775229            218\n",
       "1   convertible  12948.642202            327\n",
       "11          van   8262.089908            545\n",
       "3     hatchback   6555.308824            952\n",
       "4      mini-van   7561.373953           1075\n",
       "12        wagon   8691.236130           1478\n",
       "2         coupe  12947.608059           1911\n",
       "7        pickup  14406.490900           6044\n",
       "10        truck  14543.784792          10534\n",
       "8         sedan   6666.667793          11249\n",
       "9           suv  10080.488589          11349"
      ]
     },
     "execution_count": 51,
     "metadata": {},
     "output_type": "execute_result"
    }
   ],
   "source": [
    "ads_type_price = pd.pivot_table(filtered_data, values='price', index='type', aggfunc=['mean', 'count'])\n",
    "ads_type_price.columns = ['mean price', 'number of ads']\n",
    "ads_type_price.reset_index(inplace=True)\n",
    "ads_type_price.sort_values(by='number of ads', inplace=True)\n",
    "ads_type_price"
   ]
  },
  {
   "cell_type": "markdown",
   "metadata": {},
   "source": [
    "Let's see if there any correlation between mean price and number af ads:"
   ]
  },
  {
   "cell_type": "code",
   "execution_count": 52,
   "metadata": {
    "scrolled": true
   },
   "outputs": [
    {
     "data": {
      "text/html": [
       "<div>\n",
       "<style scoped>\n",
       "    .dataframe tbody tr th:only-of-type {\n",
       "        vertical-align: middle;\n",
       "    }\n",
       "\n",
       "    .dataframe tbody tr th {\n",
       "        vertical-align: top;\n",
       "    }\n",
       "\n",
       "    .dataframe thead th {\n",
       "        text-align: right;\n",
       "    }\n",
       "</style>\n",
       "<table border=\"1\" class=\"dataframe\">\n",
       "  <thead>\n",
       "    <tr style=\"text-align: right;\">\n",
       "      <th></th>\n",
       "      <th>mean price</th>\n",
       "      <th>number of ads</th>\n",
       "    </tr>\n",
       "  </thead>\n",
       "  <tbody>\n",
       "    <tr>\n",
       "      <td>mean price</td>\n",
       "      <td>1.000000</td>\n",
       "      <td>-0.074218</td>\n",
       "    </tr>\n",
       "    <tr>\n",
       "      <td>number of ads</td>\n",
       "      <td>-0.074218</td>\n",
       "      <td>1.000000</td>\n",
       "    </tr>\n",
       "  </tbody>\n",
       "</table>\n",
       "</div>"
      ],
      "text/plain": [
       "               mean price  number of ads\n",
       "mean price       1.000000      -0.074218\n",
       "number of ads   -0.074218       1.000000"
      ]
     },
     "execution_count": 52,
     "metadata": {},
     "output_type": "execute_result"
    }
   ],
   "source": [
    "ads_type_price.corr()"
   ]
  },
  {
   "cell_type": "markdown",
   "metadata": {},
   "source": [
    "As we can see, There is no correlation here."
   ]
  },
  {
   "cell_type": "markdown",
   "metadata": {},
   "source": [
    "<div class=\"alert alert-success\" role=\"alert\">\n",
    "Reviewer's comment v. 1:\n",
    "    \n",
    "Yes, you are right :)\n",
    "</div>"
   ]
  },
  {
   "cell_type": "code",
   "execution_count": 53,
   "metadata": {
    "scrolled": true
   },
   "outputs": [
    {
     "data": {
      "image/png": "[encoded data removed]",
      "text/plain": [
       "<Figure size 432x288 with 1 Axes>"
      ]
     },
     "metadata": {
      "needs_background": "light"
     },
     "output_type": "display_data"
    }
   ],
   "source": [
    "ads_type_price.sort_values(by='mean price').plot(x='type', y='mean price', kind='bar', rot=45, grid=True)\n",
    "plt.title('Mean price by type')\n",
    "plt.ylabel('Mean price')\n",
    "plt.show()"
   ]
  },
  {
   "cell_type": "markdown",
   "metadata": {},
   "source": [
    "We can see that the mean price changes according to the vehicle type."
   ]
  },
  {
   "cell_type": "code",
   "execution_count": 54,
   "metadata": {
    "scrolled": true
   },
   "outputs": [
    {
     "data": {
      "image/png": "[encoded data removed]",
      "text/plain": [
       "<Figure size 432x288 with 1 Axes>"
      ]
     },
     "metadata": {
      "needs_background": "light"
     },
     "output_type": "display_data"
    }
   ],
   "source": [
    "ads_type_price.plot(x='type', y='number of ads', kind='bar', rot=45, grid=True)\n",
    "plt.title('number of ads by type')\n",
    "plt.ylabel('Number of ads')\n",
    "plt.show()"
   ]
  },
  {
   "cell_type": "markdown",
   "metadata": {},
   "source": [
    "There is a great difference between the popularity (or advertisement) of different types.\n",
    "\n",
    "The two types with the greatest number of ads are: sedan and SUV."
   ]
  },
  {
   "cell_type": "markdown",
   "metadata": {},
   "source": [
    "<div class=\"alert alert-success\" role=\"alert\">\n",
    "Reviewer's comment v. 1:\n",
    "    \n",
    "Yes, SUVs and Sedans have the largest number of ads.\n",
    "</div>"
   ]
  },
  {
   "cell_type": "markdown",
   "metadata": {},
   "source": [
    "* What factors impact the price most? Take **each of the popular types** you \n",
    "detected at the previous stage and study whether the price depends on \n",
    "age, mileage, condition, transmission type, and color."
   ]
  },
  {
   "cell_type": "markdown",
   "metadata": {},
   "source": [
    "#### Sedan analysis"
   ]
  },
  {
   "cell_type": "code",
   "execution_count": 55,
   "metadata": {
    "scrolled": true
   },
   "outputs": [
    {
     "data": {
      "text/html": [
       "<div>\n",
       "<style scoped>\n",
       "    .dataframe tbody tr th:only-of-type {\n",
       "        vertical-align: middle;\n",
       "    }\n",
       "\n",
       "    .dataframe tbody tr th {\n",
       "        vertical-align: top;\n",
       "    }\n",
       "\n",
       "    .dataframe thead th {\n",
       "        text-align: right;\n",
       "    }\n",
       "</style>\n",
       "<table border=\"1\" class=\"dataframe\">\n",
       "  <thead>\n",
       "    <tr style=\"text-align: right;\">\n",
       "      <th></th>\n",
       "      <th>price</th>\n",
       "      <th>condition</th>\n",
       "      <th>cylinders</th>\n",
       "      <th>odometer</th>\n",
       "      <th>is_4wd</th>\n",
       "      <th>days_listed</th>\n",
       "      <th>day_of_week</th>\n",
       "      <th>month</th>\n",
       "      <th>year</th>\n",
       "      <th>age</th>\n",
       "      <th>average_year_mileage</th>\n",
       "    </tr>\n",
       "  </thead>\n",
       "  <tbody>\n",
       "    <tr>\n",
       "      <td>price</td>\n",
       "      <td>1.000000</td>\n",
       "      <td>0.292925</td>\n",
       "      <td>-0.023318</td>\n",
       "      <td>-0.530176</td>\n",
       "      <td>0.057687</td>\n",
       "      <td>0.000931</td>\n",
       "      <td>-0.003256</td>\n",
       "      <td>-0.042944</td>\n",
       "      <td>0.037770</td>\n",
       "      <td>-0.608685</td>\n",
       "      <td>0.209320</td>\n",
       "    </tr>\n",
       "    <tr>\n",
       "      <td>condition</td>\n",
       "      <td>0.292925</td>\n",
       "      <td>1.000000</td>\n",
       "      <td>-0.037735</td>\n",
       "      <td>-0.316549</td>\n",
       "      <td>0.021506</td>\n",
       "      <td>-0.006520</td>\n",
       "      <td>-0.002506</td>\n",
       "      <td>-0.007436</td>\n",
       "      <td>0.010655</td>\n",
       "      <td>-0.294255</td>\n",
       "      <td>0.038839</td>\n",
       "    </tr>\n",
       "    <tr>\n",
       "      <td>cylinders</td>\n",
       "      <td>-0.023318</td>\n",
       "      <td>-0.037735</td>\n",
       "      <td>1.000000</td>\n",
       "      <td>0.049129</td>\n",
       "      <td>0.183372</td>\n",
       "      <td>0.007518</td>\n",
       "      <td>-0.002481</td>\n",
       "      <td>-0.003763</td>\n",
       "      <td>0.002330</td>\n",
       "      <td>0.101459</td>\n",
       "      <td>-0.067244</td>\n",
       "    </tr>\n",
       "    <tr>\n",
       "      <td>odometer</td>\n",
       "      <td>-0.530176</td>\n",
       "      <td>-0.316549</td>\n",
       "      <td>0.049129</td>\n",
       "      <td>1.000000</td>\n",
       "      <td>-0.051146</td>\n",
       "      <td>0.008155</td>\n",
       "      <td>0.002154</td>\n",
       "      <td>0.021288</td>\n",
       "      <td>-0.013293</td>\n",
       "      <td>0.558843</td>\n",
       "      <td>0.228468</td>\n",
       "    </tr>\n",
       "    <tr>\n",
       "      <td>is_4wd</td>\n",
       "      <td>0.057687</td>\n",
       "      <td>0.021506</td>\n",
       "      <td>0.183372</td>\n",
       "      <td>-0.051146</td>\n",
       "      <td>1.000000</td>\n",
       "      <td>0.004433</td>\n",
       "      <td>-0.020890</td>\n",
       "      <td>0.008858</td>\n",
       "      <td>-0.003422</td>\n",
       "      <td>-0.070592</td>\n",
       "      <td>0.028467</td>\n",
       "    </tr>\n",
       "    <tr>\n",
       "      <td>days_listed</td>\n",
       "      <td>0.000931</td>\n",
       "      <td>-0.006520</td>\n",
       "      <td>0.007518</td>\n",
       "      <td>0.008155</td>\n",
       "      <td>0.004433</td>\n",
       "      <td>1.000000</td>\n",
       "      <td>0.013382</td>\n",
       "      <td>-0.009227</td>\n",
       "      <td>0.014553</td>\n",
       "      <td>0.002329</td>\n",
       "      <td>0.003285</td>\n",
       "    </tr>\n",
       "    <tr>\n",
       "      <td>day_of_week</td>\n",
       "      <td>-0.003256</td>\n",
       "      <td>-0.002506</td>\n",
       "      <td>-0.002481</td>\n",
       "      <td>0.002154</td>\n",
       "      <td>-0.020890</td>\n",
       "      <td>0.013382</td>\n",
       "      <td>1.000000</td>\n",
       "      <td>0.005503</td>\n",
       "      <td>-0.006033</td>\n",
       "      <td>-0.000900</td>\n",
       "      <td>0.005337</td>\n",
       "    </tr>\n",
       "    <tr>\n",
       "      <td>month</td>\n",
       "      <td>-0.042944</td>\n",
       "      <td>-0.007436</td>\n",
       "      <td>-0.003763</td>\n",
       "      <td>0.021288</td>\n",
       "      <td>0.008858</td>\n",
       "      <td>-0.009227</td>\n",
       "      <td>0.005503</td>\n",
       "      <td>1.000000</td>\n",
       "      <td>-0.821706</td>\n",
       "      <td>-0.037015</td>\n",
       "      <td>0.080447</td>\n",
       "    </tr>\n",
       "    <tr>\n",
       "      <td>year</td>\n",
       "      <td>0.037770</td>\n",
       "      <td>0.010655</td>\n",
       "      <td>0.002330</td>\n",
       "      <td>-0.013293</td>\n",
       "      <td>-0.003422</td>\n",
       "      <td>0.014553</td>\n",
       "      <td>-0.006033</td>\n",
       "      <td>-0.821706</td>\n",
       "      <td>1.000000</td>\n",
       "      <td>0.057059</td>\n",
       "      <td>-0.098239</td>\n",
       "    </tr>\n",
       "    <tr>\n",
       "      <td>age</td>\n",
       "      <td>-0.608685</td>\n",
       "      <td>-0.294255</td>\n",
       "      <td>0.101459</td>\n",
       "      <td>0.558843</td>\n",
       "      <td>-0.070592</td>\n",
       "      <td>0.002329</td>\n",
       "      <td>-0.000900</td>\n",
       "      <td>-0.037015</td>\n",
       "      <td>0.057059</td>\n",
       "      <td>1.000000</td>\n",
       "      <td>-0.534587</td>\n",
       "    </tr>\n",
       "    <tr>\n",
       "      <td>average_year_mileage</td>\n",
       "      <td>0.209320</td>\n",
       "      <td>0.038839</td>\n",
       "      <td>-0.067244</td>\n",
       "      <td>0.228468</td>\n",
       "      <td>0.028467</td>\n",
       "      <td>0.003285</td>\n",
       "      <td>0.005337</td>\n",
       "      <td>0.080447</td>\n",
       "      <td>-0.098239</td>\n",
       "      <td>-0.534587</td>\n",
       "      <td>1.000000</td>\n",
       "    </tr>\n",
       "  </tbody>\n",
       "</table>\n",
       "</div>"
      ],
      "text/plain": [
       "                         price  condition  cylinders  odometer    is_4wd  \\\n",
       "price                 1.000000   0.292925  -0.023318 -0.530176  0.057687   \n",
       "condition             0.292925   1.000000  -0.037735 -0.316549  0.021506   \n",
       "cylinders            -0.023318  -0.037735   1.000000  0.049129  0.183372   \n",
       "odometer             -0.530176  -0.316549   0.049129  1.000000 -0.051146   \n",
       "is_4wd                0.057687   0.021506   0.183372 -0.051146  1.000000   \n",
       "days_listed           0.000931  -0.006520   0.007518  0.008155  0.004433   \n",
       "day_of_week          -0.003256  -0.002506  -0.002481  0.002154 -0.020890   \n",
       "month                -0.042944  -0.007436  -0.003763  0.021288  0.008858   \n",
       "year                  0.037770   0.010655   0.002330 -0.013293 -0.003422   \n",
       "age                  -0.608685  -0.294255   0.101459  0.558843 -0.070592   \n",
       "average_year_mileage  0.209320   0.038839  -0.067244  0.228468  0.028467   \n",
       "\n",
       "                      days_listed  day_of_week     month      year       age  \\\n",
       "price                    0.000931    -0.003256 -0.042944  0.037770 -0.608685   \n",
       "condition               -0.006520    -0.002506 -0.007436  0.010655 -0.294255   \n",
       "cylinders                0.007518    -0.002481 -0.003763  0.002330  0.101459   \n",
       "odometer                 0.008155     0.002154  0.021288 -0.013293  0.558843   \n",
       "is_4wd                   0.004433    -0.020890  0.008858 -0.003422 -0.070592   \n",
       "days_listed              1.000000     0.013382 -0.009227  0.014553  0.002329   \n",
       "day_of_week              0.013382     1.000000  0.005503 -0.006033 -0.000900   \n",
       "month                   -0.009227     0.005503  1.000000 -0.821706 -0.037015   \n",
       "year                     0.014553    -0.006033 -0.821706  1.000000  0.057059   \n",
       "age                      0.002329    -0.000900 -0.037015  0.057059  1.000000   \n",
       "average_year_mileage     0.003285     0.005337  0.080447 -0.098239 -0.534587   \n",
       "\n",
       "                      average_year_mileage  \n",
       "price                             0.209320  \n",
       "condition                         0.038839  \n",
       "cylinders                        -0.067244  \n",
       "odometer                          0.228468  \n",
       "is_4wd                            0.028467  \n",
       "days_listed                       0.003285  \n",
       "day_of_week                       0.005337  \n",
       "month                             0.080447  \n",
       "year                             -0.098239  \n",
       "age                              -0.534587  \n",
       "average_year_mileage              1.000000  "
      ]
     },
     "execution_count": 55,
     "metadata": {},
     "output_type": "execute_result"
    }
   ],
   "source": [
    "sedan_df = filtered_data.query('type == \"sedan\"')\n",
    "sedan_df.corr()"
   ]
  },
  {
   "cell_type": "markdown",
   "metadata": {},
   "source": [
    "We can see from the table above some correlations:\n",
    "* Age has a relatively strong negative correlation of -0.6 with the price, which means that the price decreases when the age proceeds.\n",
    "* Average yearly mileage has a weak positive correlation of 0.2 with the price. It is a little strange to see that, because normally the price decreases as the mileage higher.\n",
    "* Condition has also a weak positive correlation of 0.29 with the price, which means that the price increases when the condition better.\n",
    "* The other correlations are too weak."
   ]
  },
  {
   "cell_type": "markdown",
   "metadata": {},
   "source": [
    "<div class=\"alert alert-success\" role=\"alert\">\n",
    "Reviewer's comment v. 1:\n",
    "    \n",
    "Well done for using a correlation function. But please note that correlation function shows only linear dependecy between variables. Maybe this link will be interesting for you: https://machinelearningmastery.com/how-to-use-correlation-to-understand-the-relationship-between-variables/.\n",
    "</div>"
   ]
  },
  {
   "cell_type": "code",
   "execution_count": 56,
   "metadata": {
    "scrolled": true
   },
   "outputs": [
    {
     "data": {
      "text/plain": [
       "automatic    10571\n",
       "manual         568\n",
       "other          110\n",
       "Name: transmission, dtype: int64"
      ]
     },
     "execution_count": 56,
     "metadata": {},
     "output_type": "execute_result"
    }
   ],
   "source": [
    "sedan_df['transmission'].value_counts()"
   ]
  },
  {
   "cell_type": "code",
   "execution_count": 57,
   "metadata": {
    "scrolled": true
   },
   "outputs": [
    {
     "name": "stderr",
     "output_type": "stream",
     "text": [
      "/opt/conda/lib/python3.7/site-packages/numpy/core/_asarray.py:83: VisibleDeprecationWarning: Creating an ndarray from ragged nested sequences (which is a list-or-tuple of lists-or-tuples-or ndarrays with different lengths or shapes) is deprecated. If you meant to do this, you must specify 'dtype=object' when creating the ndarray\n",
      "  return array(a, dtype, copy=False, order=order)\n"
     ]
    },
    {
     "data": {
      "text/plain": [
       "(0, 40000)"
      ]
     },
     "execution_count": 57,
     "metadata": {},
     "output_type": "execute_result"
    },
    {
     "data": {
      "image/png": "[encoded data removed]",
      "text/plain": [
       "<Figure size 360x360 with 1 Axes>"
      ]
     },
     "metadata": {
      "needs_background": "light"
     },
     "output_type": "display_data"
    }
   ],
   "source": [
    "fig, ax = plt.subplots(figsize=(5,5))\n",
    "sedan_df.boxplot(column=['price'], by='transmission', grid=True, ax=ax)\n",
    "plt.ylabel('price')\n",
    "plt.xlabel('transmission type')\n",
    "plt.ylim(0, 40000)"
   ]
  },
  {
   "cell_type": "markdown",
   "metadata": {},
   "source": [
    "<div class=\"alert alert-danger\" role=\"alert\">\n",
    "Reviewer's comment v. 1:\n",
    "    \n",
    "Please note that as Data Analyst you should describe graphs in details and make a corresponding conclusion.\n",
    "</div>"
   ]
  },
  {
   "cell_type": "markdown",
   "metadata": {},
   "source": [
    "We can see clearly that there is a differeces between the prices of different transmission types. Automatic type has the highest median price (over 5000), the next one is manual type with median price of almost 5000 and the lowest median price is of other (below 5000)"
   ]
  },
  {
   "cell_type": "markdown",
   "metadata": {},
   "source": [
    "<div class=\"alert alert-success\" role=\"alert\">\n",
    "Reviewer's comment v. 2:\n",
    "    \n",
    "👍👍👍\n",
    "</div>"
   ]
  },
  {
   "cell_type": "code",
   "execution_count": 58,
   "metadata": {},
   "outputs": [
    {
     "data": {
      "text/plain": [
       "silver    1902\n",
       "black     1621\n",
       "grey      1497\n",
       "white     1389\n",
       "blue      1166\n",
       "red        886\n",
       "custom     267\n",
       "brown      248\n",
       "green      199\n",
       "purple      26\n",
       "yellow      22\n",
       "orange       9\n",
       "Name: paint_color, dtype: int64"
      ]
     },
     "execution_count": 58,
     "metadata": {},
     "output_type": "execute_result"
    }
   ],
   "source": [
    "sedan_df['paint_color'].value_counts()"
   ]
  },
  {
   "cell_type": "markdown",
   "metadata": {},
   "source": [
    "We can see that there are less than 50 ads with each of the following colors: purple, yellow and orange. So they won't be included in our boxplot."
   ]
  },
  {
   "cell_type": "markdown",
   "metadata": {},
   "source": [
    "<div class=\"alert alert-success\" role=\"alert\">\n",
    "Reviewer's comment v. 1:\n",
    "    \n",
    "Please note that you can avoid warnings (if necessary) by using the code below.\n",
    "</div>"
   ]
  },
  {
   "cell_type": "markdown",
   "metadata": {},
   "source": [
    "Thanks :)"
   ]
  },
  {
   "cell_type": "code",
   "execution_count": 59,
   "metadata": {},
   "outputs": [],
   "source": [
    "import sys\n",
    "import warnings\n",
    "if not sys.warnoptions:\n",
    "       warnings.simplefilter(\"ignore\")"
   ]
  },
  {
   "cell_type": "code",
   "execution_count": 60,
   "metadata": {},
   "outputs": [
    {
     "data": {
      "text/plain": [
       "(0, 20000)"
      ]
     },
     "execution_count": 60,
     "metadata": {},
     "output_type": "execute_result"
    },
    {
     "data": {
      "image/png": "[encoded data removed]",
      "text/plain": [
       "<Figure size 360x360 with 1 Axes>"
      ]
     },
     "metadata": {
      "needs_background": "light"
     },
     "output_type": "display_data"
    }
   ],
   "source": [
    "sedan_filtered_color = sedan_df[sedan_df.paint_color.isin([\"purple\", \"yellow\", \"orange\"]) == False]\n",
    "fig, ax = plt.subplots(figsize=(5,5))\n",
    "sedan_filtered_color.sort_values(by='price').boxplot(column=['price'], by='paint_color', grid=True, rot=45, ax=ax)\n",
    "plt.title('price by paint color of sedan')\n",
    "plt.ylabel('price')\n",
    "plt.ylim(0, 20000)"
   ]
  },
  {
   "cell_type": "markdown",
   "metadata": {},
   "source": [
    "<div class=\"alert alert-success\" role=\"alert\">\n",
    "Reviewer's comment v. 1:\n",
    "    \n",
    "Please fix the overlapping of titles on the graph.\n",
    "</div>"
   ]
  },
  {
   "cell_type": "markdown",
   "metadata": {},
   "source": [
    "We can see some differences in prices for different colors, but it doesn't look significant."
   ]
  },
  {
   "cell_type": "code",
   "execution_count": 61,
   "metadata": {
    "scrolled": true
   },
   "outputs": [
    {
     "data": {
      "image/png": "[encoded data removed]",
      "text/plain": [
       "<Figure size 432x288 with 1 Axes>"
      ]
     },
     "metadata": {
      "needs_background": "light"
     },
     "output_type": "display_data"
    }
   ],
   "source": [
    "sedan_df.plot(x='age', y='price', kind='scatter')\n",
    "plt.title('Age by price of sedan')\n",
    "plt.show()"
   ]
  },
  {
   "cell_type": "markdown",
   "metadata": {},
   "source": [
    "As mentioned above, we can see clear correlation between age and price."
   ]
  },
  {
   "cell_type": "code",
   "execution_count": 62,
   "metadata": {
    "scrolled": true
   },
   "outputs": [
    {
     "data": {
      "image/png": "[encoded data removed]",
      "text/plain": [
       "<Figure size 432x288 with 1 Axes>"
      ]
     },
     "metadata": {
      "needs_background": "light"
     },
     "output_type": "display_data"
    }
   ],
   "source": [
    "sedan_df.plot(x='average_year_mileage', y='price', kind='scatter', alpha=0.03) \n",
    "plt.title('Average yearly mileage by price of sedan')\n",
    "plt.show()"
   ]
  },
  {
   "cell_type": "markdown",
   "metadata": {},
   "source": [
    "As we see, there is no clear correlation between price and age."
   ]
  },
  {
   "cell_type": "code",
   "execution_count": 63,
   "metadata": {},
   "outputs": [
    {
     "data": {
      "image/png": "[encoded data removed]",
      "text/plain": [
       "<Figure size 432x288 with 1 Axes>"
      ]
     },
     "metadata": {
      "needs_background": "light"
     },
     "output_type": "display_data"
    }
   ],
   "source": [
    "sedan_df.plot(x='condition', y='price', kind='scatter') \n",
    "plt.title('Condition by price of sedan')\n",
    "plt.show()"
   ]
  },
  {
   "cell_type": "markdown",
   "metadata": {},
   "source": [
    "As we see, the correlation between price and condition is not strong. Condition 1 is cheaper, but the other conditions are quite similar in price."
   ]
  },
  {
   "cell_type": "markdown",
   "metadata": {},
   "source": [
    "#### SUV analysis"
   ]
  },
  {
   "cell_type": "code",
   "execution_count": 64,
   "metadata": {
    "scrolled": false
   },
   "outputs": [
    {
     "data": {
      "text/html": [
       "<div>\n",
       "<style scoped>\n",
       "    .dataframe tbody tr th:only-of-type {\n",
       "        vertical-align: middle;\n",
       "    }\n",
       "\n",
       "    .dataframe tbody tr th {\n",
       "        vertical-align: top;\n",
       "    }\n",
       "\n",
       "    .dataframe thead th {\n",
       "        text-align: right;\n",
       "    }\n",
       "</style>\n",
       "<table border=\"1\" class=\"dataframe\">\n",
       "  <thead>\n",
       "    <tr style=\"text-align: right;\">\n",
       "      <th></th>\n",
       "      <th>price</th>\n",
       "      <th>condition</th>\n",
       "      <th>cylinders</th>\n",
       "      <th>odometer</th>\n",
       "      <th>is_4wd</th>\n",
       "      <th>days_listed</th>\n",
       "      <th>day_of_week</th>\n",
       "      <th>month</th>\n",
       "      <th>year</th>\n",
       "      <th>age</th>\n",
       "      <th>average_year_mileage</th>\n",
       "    </tr>\n",
       "  </thead>\n",
       "  <tbody>\n",
       "    <tr>\n",
       "      <td>price</td>\n",
       "      <td>1.000000</td>\n",
       "      <td>0.263186</td>\n",
       "      <td>0.007359</td>\n",
       "      <td>-0.481829</td>\n",
       "      <td>0.121597</td>\n",
       "      <td>-0.022554</td>\n",
       "      <td>0.009404</td>\n",
       "      <td>-0.018428</td>\n",
       "      <td>0.014768</td>\n",
       "      <td>-0.569037</td>\n",
       "      <td>0.262868</td>\n",
       "    </tr>\n",
       "    <tr>\n",
       "      <td>condition</td>\n",
       "      <td>0.263186</td>\n",
       "      <td>1.000000</td>\n",
       "      <td>-0.089064</td>\n",
       "      <td>-0.310155</td>\n",
       "      <td>-0.011624</td>\n",
       "      <td>-0.011913</td>\n",
       "      <td>0.010204</td>\n",
       "      <td>-0.002889</td>\n",
       "      <td>0.001546</td>\n",
       "      <td>-0.305976</td>\n",
       "      <td>0.053775</td>\n",
       "    </tr>\n",
       "    <tr>\n",
       "      <td>cylinders</td>\n",
       "      <td>0.007359</td>\n",
       "      <td>-0.089064</td>\n",
       "      <td>1.000000</td>\n",
       "      <td>0.206713</td>\n",
       "      <td>0.115059</td>\n",
       "      <td>0.011688</td>\n",
       "      <td>-0.010195</td>\n",
       "      <td>0.004828</td>\n",
       "      <td>-0.008323</td>\n",
       "      <td>0.235583</td>\n",
       "      <td>-0.080078</td>\n",
       "    </tr>\n",
       "    <tr>\n",
       "      <td>odometer</td>\n",
       "      <td>-0.481829</td>\n",
       "      <td>-0.310155</td>\n",
       "      <td>0.206713</td>\n",
       "      <td>1.000000</td>\n",
       "      <td>0.026702</td>\n",
       "      <td>0.013854</td>\n",
       "      <td>0.010162</td>\n",
       "      <td>0.018786</td>\n",
       "      <td>-0.015252</td>\n",
       "      <td>0.553936</td>\n",
       "      <td>0.179027</td>\n",
       "    </tr>\n",
       "    <tr>\n",
       "      <td>is_4wd</td>\n",
       "      <td>0.121597</td>\n",
       "      <td>-0.011624</td>\n",
       "      <td>0.115059</td>\n",
       "      <td>0.026702</td>\n",
       "      <td>1.000000</td>\n",
       "      <td>-0.004594</td>\n",
       "      <td>0.015328</td>\n",
       "      <td>-0.000903</td>\n",
       "      <td>-0.004305</td>\n",
       "      <td>0.064954</td>\n",
       "      <td>-0.027338</td>\n",
       "    </tr>\n",
       "    <tr>\n",
       "      <td>days_listed</td>\n",
       "      <td>-0.022554</td>\n",
       "      <td>-0.011913</td>\n",
       "      <td>0.011688</td>\n",
       "      <td>0.013854</td>\n",
       "      <td>-0.004594</td>\n",
       "      <td>1.000000</td>\n",
       "      <td>-0.006388</td>\n",
       "      <td>-0.005132</td>\n",
       "      <td>-0.000479</td>\n",
       "      <td>0.016980</td>\n",
       "      <td>-0.006278</td>\n",
       "    </tr>\n",
       "    <tr>\n",
       "      <td>day_of_week</td>\n",
       "      <td>0.009404</td>\n",
       "      <td>0.010204</td>\n",
       "      <td>-0.010195</td>\n",
       "      <td>0.010162</td>\n",
       "      <td>0.015328</td>\n",
       "      <td>-0.006388</td>\n",
       "      <td>1.000000</td>\n",
       "      <td>0.023172</td>\n",
       "      <td>-0.018999</td>\n",
       "      <td>-0.000224</td>\n",
       "      <td>0.003981</td>\n",
       "    </tr>\n",
       "    <tr>\n",
       "      <td>month</td>\n",
       "      <td>-0.018428</td>\n",
       "      <td>-0.002889</td>\n",
       "      <td>0.004828</td>\n",
       "      <td>0.018786</td>\n",
       "      <td>-0.000903</td>\n",
       "      <td>-0.005132</td>\n",
       "      <td>0.023172</td>\n",
       "      <td>1.000000</td>\n",
       "      <td>-0.819970</td>\n",
       "      <td>-0.047921</td>\n",
       "      <td>0.094248</td>\n",
       "    </tr>\n",
       "    <tr>\n",
       "      <td>year</td>\n",
       "      <td>0.014768</td>\n",
       "      <td>0.001546</td>\n",
       "      <td>-0.008323</td>\n",
       "      <td>-0.015252</td>\n",
       "      <td>-0.004305</td>\n",
       "      <td>-0.000479</td>\n",
       "      <td>-0.018999</td>\n",
       "      <td>-0.819970</td>\n",
       "      <td>1.000000</td>\n",
       "      <td>0.067026</td>\n",
       "      <td>-0.115464</td>\n",
       "    </tr>\n",
       "    <tr>\n",
       "      <td>age</td>\n",
       "      <td>-0.569037</td>\n",
       "      <td>-0.305976</td>\n",
       "      <td>0.235583</td>\n",
       "      <td>0.553936</td>\n",
       "      <td>0.064954</td>\n",
       "      <td>0.016980</td>\n",
       "      <td>-0.000224</td>\n",
       "      <td>-0.047921</td>\n",
       "      <td>0.067026</td>\n",
       "      <td>1.000000</td>\n",
       "      <td>-0.583942</td>\n",
       "    </tr>\n",
       "    <tr>\n",
       "      <td>average_year_mileage</td>\n",
       "      <td>0.262868</td>\n",
       "      <td>0.053775</td>\n",
       "      <td>-0.080078</td>\n",
       "      <td>0.179027</td>\n",
       "      <td>-0.027338</td>\n",
       "      <td>-0.006278</td>\n",
       "      <td>0.003981</td>\n",
       "      <td>0.094248</td>\n",
       "      <td>-0.115464</td>\n",
       "      <td>-0.583942</td>\n",
       "      <td>1.000000</td>\n",
       "    </tr>\n",
       "  </tbody>\n",
       "</table>\n",
       "</div>"
      ],
      "text/plain": [
       "                         price  condition  cylinders  odometer    is_4wd  \\\n",
       "price                 1.000000   0.263186   0.007359 -0.481829  0.121597   \n",
       "condition             0.263186   1.000000  -0.089064 -0.310155 -0.011624   \n",
       "cylinders             0.007359  -0.089064   1.000000  0.206713  0.115059   \n",
       "odometer             -0.481829  -0.310155   0.206713  1.000000  0.026702   \n",
       "is_4wd                0.121597  -0.011624   0.115059  0.026702  1.000000   \n",
       "days_listed          -0.022554  -0.011913   0.011688  0.013854 -0.004594   \n",
       "day_of_week           0.009404   0.010204  -0.010195  0.010162  0.015328   \n",
       "month                -0.018428  -0.002889   0.004828  0.018786 -0.000903   \n",
       "year                  0.014768   0.001546  -0.008323 -0.015252 -0.004305   \n",
       "age                  -0.569037  -0.305976   0.235583  0.553936  0.064954   \n",
       "average_year_mileage  0.262868   0.053775  -0.080078  0.179027 -0.027338   \n",
       "\n",
       "                      days_listed  day_of_week     month      year       age  \\\n",
       "price                   -0.022554     0.009404 -0.018428  0.014768 -0.569037   \n",
       "condition               -0.011913     0.010204 -0.002889  0.001546 -0.305976   \n",
       "cylinders                0.011688    -0.010195  0.004828 -0.008323  0.235583   \n",
       "odometer                 0.013854     0.010162  0.018786 -0.015252  0.553936   \n",
       "is_4wd                  -0.004594     0.015328 -0.000903 -0.004305  0.064954   \n",
       "days_listed              1.000000    -0.006388 -0.005132 -0.000479  0.016980   \n",
       "day_of_week             -0.006388     1.000000  0.023172 -0.018999 -0.000224   \n",
       "month                   -0.005132     0.023172  1.000000 -0.819970 -0.047921   \n",
       "year                    -0.000479    -0.018999 -0.819970  1.000000  0.067026   \n",
       "age                      0.016980    -0.000224 -0.047921  0.067026  1.000000   \n",
       "average_year_mileage    -0.006278     0.003981  0.094248 -0.115464 -0.583942   \n",
       "\n",
       "                      average_year_mileage  \n",
       "price                             0.262868  \n",
       "condition                         0.053775  \n",
       "cylinders                        -0.080078  \n",
       "odometer                          0.179027  \n",
       "is_4wd                           -0.027338  \n",
       "days_listed                      -0.006278  \n",
       "day_of_week                       0.003981  \n",
       "month                             0.094248  \n",
       "year                             -0.115464  \n",
       "age                              -0.583942  \n",
       "average_year_mileage              1.000000  "
      ]
     },
     "execution_count": 64,
     "metadata": {},
     "output_type": "execute_result"
    }
   ],
   "source": [
    "suv_df = filtered_data.query('type == \"suv\"')\n",
    "suv_df.corr()"
   ]
  },
  {
   "cell_type": "markdown",
   "metadata": {},
   "source": [
    "We can see from the table above several correlations with the price:\n",
    "* The strongest (negative) correlation is the age (-0.56), like we saw in the previous table. \n",
    "* Next is odometer (-0.48), a negative correlation, which means that the price decrease when the odometer increases.\n",
    "*  Condition and average_year_mileage have similar correlation of 0.26. Correlation of the price with condition is reasonable, but here too we see a strange weak correlation with average_year_mileage.\n",
    "* Maybe we can mention here the weak correlation with is_4wd (0.12), which means that the price increase if the car 4wd.\n",
    "* The other correlations are too weak."
   ]
  },
  {
   "cell_type": "markdown",
   "metadata": {},
   "source": [
    "<div class=\"alert alert-success\" role=\"alert\">\n",
    "Reviewer's comment v. 1:\n",
    "    \n",
    "Well done that you analysed correlations in details.\n",
    "</div>"
   ]
  },
  {
   "cell_type": "code",
   "execution_count": 65,
   "metadata": {
    "scrolled": true
   },
   "outputs": [
    {
     "data": {
      "text/plain": [
       "automatic    10752\n",
       "manual         457\n",
       "other          140\n",
       "Name: transmission, dtype: int64"
      ]
     },
     "execution_count": 65,
     "metadata": {},
     "output_type": "execute_result"
    }
   ],
   "source": [
    "suv_df['transmission'].value_counts()"
   ]
  },
  {
   "cell_type": "code",
   "execution_count": 66,
   "metadata": {
    "scrolled": true
   },
   "outputs": [
    {
     "data": {
      "text/plain": [
       "(0, 40000)"
      ]
     },
     "execution_count": 66,
     "metadata": {},
     "output_type": "execute_result"
    },
    {
     "data": {
      "image/png": "[encoded data removed]",
      "text/plain": [
       "<Figure size 360x360 with 1 Axes>"
      ]
     },
     "metadata": {
      "needs_background": "light"
     },
     "output_type": "display_data"
    }
   ],
   "source": [
    "fig, ax = plt.subplots(figsize=(5, 5))\n",
    "suv_df.boxplot(column=['price'], by='transmission', grid=True, ax=ax)\n",
    "plt.title(\"price by transmission\")\n",
    "plt.ylabel('price')\n",
    "plt.ylim(0, 40000)"
   ]
  },
  {
   "cell_type": "markdown",
   "metadata": {},
   "source": [
    "According to the boxplot, there is some differences in price between the different transmission types, but it doesn't look significant."
   ]
  },
  {
   "cell_type": "code",
   "execution_count": 67,
   "metadata": {},
   "outputs": [
    {
     "data": {
      "text/plain": [
       "black     1977\n",
       "white     1761\n",
       "silver    1465\n",
       "grey      1085\n",
       "blue       971\n",
       "red        843\n",
       "green      415\n",
       "brown      353\n",
       "custom     290\n",
       "orange      74\n",
       "yellow      43\n",
       "purple      38\n",
       "Name: paint_color, dtype: int64"
      ]
     },
     "execution_count": 67,
     "metadata": {},
     "output_type": "execute_result"
    }
   ],
   "source": [
    "suv_df['paint_color'].value_counts()"
   ]
  },
  {
   "cell_type": "markdown",
   "metadata": {},
   "source": [
    "We can see that there are less than 50 ads with each of the following colors: purple, yellow. So they won't be included in our boxplot."
   ]
  },
  {
   "cell_type": "code",
   "execution_count": 68,
   "metadata": {
    "scrolled": false
   },
   "outputs": [
    {
     "data": {
      "text/plain": [
       "(0, 50000)"
      ]
     },
     "execution_count": 68,
     "metadata": {},
     "output_type": "execute_result"
    },
    {
     "data": {
      "image/png": "[encoded data removed]",
      "text/plain": [
       "<Figure size 360x360 with 1 Axes>"
      ]
     },
     "metadata": {
      "needs_background": "light"
     },
     "output_type": "display_data"
    }
   ],
   "source": [
    "suv_filtered_color = suv_df[suv_df.paint_color.isin([\"purple\", \"yellow\"]) == False]\n",
    "fig, ax = plt.subplots(figsize=(5,5))\n",
    "suv_filtered_color.boxplot(column=['price'], by='paint_color', grid=True, rot=45, ax=ax)\n",
    "plt.ylabel('Price')\n",
    "plt.ylim(0, 50000)"
   ]
  },
  {
   "cell_type": "markdown",
   "metadata": {},
   "source": [
    "We can see some differences in prices for different colors, maybe orange is more popular than other colors."
   ]
  },
  {
   "cell_type": "code",
   "execution_count": 69,
   "metadata": {
    "scrolled": true
   },
   "outputs": [
    {
     "data": {
      "image/png": "[encoded data removed]",
      "text/plain": [
       "<Figure size 432x288 with 1 Axes>"
      ]
     },
     "metadata": {
      "needs_background": "light"
     },
     "output_type": "display_data"
    }
   ],
   "source": [
    "suv_df.plot(x='age', y='price', kind='scatter') \n",
    "plt.title('SUV price by age')\n",
    "plt.show()"
   ]
  },
  {
   "cell_type": "markdown",
   "metadata": {},
   "source": [
    "We can see clearly that the age is a significant factor of price, as we saw in the table before."
   ]
  },
  {
   "cell_type": "code",
   "execution_count": 70,
   "metadata": {
    "scrolled": false
   },
   "outputs": [
    {
     "data": {
      "image/png": "[encoded data removed]",
      "text/plain": [
       "<Figure size 432x288 with 1 Axes>"
      ]
     },
     "metadata": {
      "needs_background": "light"
     },
     "output_type": "display_data"
    }
   ],
   "source": [
    "suv_df.plot(x='average_year_mileage', y='price', kind='scatter', alpha=0.3) \n",
    "plt.title('Average yearly mileage by price of SUV')\n",
    "plt.show()"
   ]
  },
  {
   "cell_type": "markdown",
   "metadata": {},
   "source": [
    "We can't see here a clear influence of average yearly mileage on the price."
   ]
  },
  {
   "cell_type": "code",
   "execution_count": 71,
   "metadata": {
    "scrolled": true
   },
   "outputs": [
    {
     "data": {
      "image/png": "[encoded data removed]",
      "text/plain": [
       "<Figure size 432x288 with 1 Axes>"
      ]
     },
     "metadata": {
      "needs_background": "light"
     },
     "output_type": "display_data"
    }
   ],
   "source": [
    "suv_df.plot(x='condition', y='price', kind='scatter') \n",
    "plt.title('Condition by price of SUV')\n",
    "plt.show()"
   ]
  },
  {
   "cell_type": "markdown",
   "metadata": {},
   "source": [
    "We can see here some influence of condition on the price, especially when the condition is bad."
   ]
  },
  {
   "cell_type": "markdown",
   "metadata": {},
   "source": [
    "<div class=\"alert alert-success\" role=\"alert\">\n",
    "Reviewer's comment v. 1:\n",
    "    \n",
    "👍👍👍\n",
    "</div>"
   ]
  },
  {
   "cell_type": "markdown",
   "metadata": {},
   "source": [
    "## Overall conclusion\n",
    "<a class=\"anchor\" id=\"conclusion\"></a> \n",
    "[Go back to the Table of Contents](#table_of_contents) "
   ]
  },
  {
   "cell_type": "markdown",
   "metadata": {},
   "source": [
    "First, I opened the dataset to get fisrt impression of the data I have. I did preproccessing of missing values and replacing them with others. The next step was to change the data types of several columns in order to make calculations more easily and also for saving memory.\n",
    "\n",
    "After finishing with preprocessing, I made some calculations and added several columns to the dataset: day of the week, month, year, vehicle's age, vehicle's average mileage per year. In addition, I replaced string values with a numeric scale in the condition column.\n",
    "\n",
    "Afterwards, I carried out exploratory data analysis. I plotted histograms in order to see the frequencies of: price, vehicle's age, mileage, number of cylinders, and condition. Then I took a look at the ouliers in each of these parameters.I determined the limits of the ouliers, removed and stored them in a different DataFrame and continued the analysis with the filtered data. I draw new histograms for the same parameters and compared them to the old ones, to see the effect of ouliers on the distributions. \n",
    "\n",
    "I studied how many days advertisements were displayed (days_listed )and plotted a \n",
    "histogram. I described the typical lifetime of an ad but I didn't succed to determine when ads were removed quickly, and when they were listed for an abnormally long time. I didn't see any correlations there.\n",
    "\n",
    "I analyzed the number of ads and the average price for each type of vehicle and then plotted a graph showing the dependence of the number of ads on the vehicle type. I selected the two types with the greatest number of ads: sedan and SUV.\n",
    "\n",
    "**To answer our research question: What factors impact the price most?:**\n",
    "\n",
    "Of the numeric variables:\n",
    "* Age is the most significant factor influencing the price both of sedan and SUV (-0.6, -0.56 respectively).\n",
    "* Odometer is also a significant factor, but I saw it only in SUV (-0.48).\n",
    "* Average yearly mileage and condition have weak correlation with the price in both types (0.2, 0.26).\n",
    "* Is_4wd weak has very weak correlation with the price (0.12), but only in SUV.\n",
    "* The other correlations are too weak.\n",
    "\n",
    "Of the categorical variables:\n",
    "* Transmission type has some correlation with the price: automatic is more expensive (I saw that only in sedan).\n",
    "* Paint color doesn't look like it has correlation, although there are little differences. \n",
    "\n"
   ]
  },
  {
   "cell_type": "markdown",
   "metadata": {},
   "source": [
    "<div class=\"alert alert-success\" role=\"alert\">\n",
    "Reviewer's comment v. 1:\n",
    "    \n",
    "You have made an excellent conclusion, good job!\n",
    "</div>"
   ]
  },
  {
   "cell_type": "markdown",
   "metadata": {},
   "source": [
    "# Project completion checklist\n",
    "<a class=\"anchor\" id=\"checklist\"></a> \n",
    "[Go back to the Table of Contents](#table_of_contents) \n",
    "\n",
    "Mark the completed tasks with 'x'. Then press Shift+Enter."
   ]
  },
  {
   "cell_type": "markdown",
   "metadata": {},
   "source": [
    "- [x]  file opened\n",
    "- [x]  files explored (first rows printed, info() method)\n",
    "- [x]  missing values determined\n",
    "- [x]  missing values filled in\n",
    "- [x]  clarification of the discovered missing values provided\n",
    "- [x]  data types converted\n",
    "- [x]  explanation of which columns had the data types changed and why\n",
    "- [x]  calculated and added to the table: day of the week, month, and year the ad was placed\n",
    "- [x]  calculated and added to the table: the vehicle's age (in years) when the ad was placed\n",
    "- [x]  calculated and added to the table: the vehicle's average mileage per year\n",
    "- [x]  the following parameters investigated: price, vehicle's age when the ad was placed, mileage, number of cylinders, and condition\n",
    "- [x]  histograms for each parameter created\n",
    "- [x]  task completed: \"Determine the upper limits of outliers, remove the outliers and store them in a separate DataFrame, and continue your work with the filtered data.\"\n",
    "- [x]  task completed: \"Use the filtered data to plot new histograms. Compare them with the earlier histograms (the ones that included outliers). Draw conclusions for each histogram.\"\n",
    "- [x]  task completed: \"Study how many days advertisements were displayed (days_listed). Plot a histogram. Calculate the mean and median. Describe the typical lifetime of an ad. Determine when ads were removed quickly, and when they were listed for an abnormally long time.  \"\n",
    "- [x]  task completed: \"Analyze the number of ads and the average price for each type of vehicle. Plot a graph showing the dependence of the number of ads on the vehicle type. Select the two types with the greatest number of ads. \"\n",
    "- [x]  task completed: \"What factors impact the price most? Take each of the popular types you detected at the previous stage and study whether the price depends on age, mileage, condition, transmission type, and color. For categorical variables (transmission type and color), plot box-and-whisker charts, and create scatterplots for the rest. When analyzing categorical variables, note that the categories must have at least 50 ads; otherwise, their parameters won't be valid for analysis.  \"\n",
    "- [x]  each stage has a conclusion\n",
    "- [x]  overall conclusion drawn"
   ]
  }
 ],
 "metadata": {
  "ExecuteTimeLog": [
   {
    "duration": 709,
    "start_time": "2021-06-29T19:44:49.152Z"
   },
   {
    "duration": 22,
    "start_time": "2021-06-29T19:44:49.863Z"
   },
   {
    "duration": 16,
    "start_time": "2021-06-29T19:44:49.887Z"
   },
   {
    "duration": 41,
    "start_time": "2021-06-29T19:44:49.905Z"
   },
   {
    "duration": 6,
    "start_time": "2021-06-29T19:44:49.947Z"
   },
   {
    "duration": 4,
    "start_time": "2021-06-29T19:44:49.955Z"
   },
   {
    "duration": 28,
    "start_time": "2021-06-29T19:44:49.960Z"
   },
   {
    "duration": 4,
    "start_time": "2021-06-29T19:44:49.991Z"
   },
   {
    "duration": 7,
    "start_time": "2021-06-29T19:44:49.997Z"
   },
   {
    "duration": 6,
    "start_time": "2021-06-29T19:44:50.005Z"
   },
   {
    "duration": 7,
    "start_time": "2021-06-29T19:44:50.012Z"
   },
   {
    "duration": 8,
    "start_time": "2021-06-29T19:44:50.021Z"
   },
   {
    "duration": 6,
    "start_time": "2021-06-29T19:44:50.030Z"
   },
   {
    "duration": 52,
    "start_time": "2021-06-29T19:44:50.038Z"
   },
   {
    "duration": 18,
    "start_time": "2021-06-29T19:44:50.092Z"
   },
   {
    "duration": 115,
    "start_time": "2021-06-29T19:44:50.112Z"
   },
   {
    "duration": 38,
    "start_time": "2021-06-29T19:44:50.229Z"
   },
   {
    "duration": 41,
    "start_time": "2021-06-29T19:44:50.269Z"
   },
   {
    "duration": 13,
    "start_time": "2021-06-29T19:44:50.311Z"
   },
   {
    "duration": 8,
    "start_time": "2021-06-29T19:44:50.326Z"
   },
   {
    "duration": 10,
    "start_time": "2021-06-29T19:44:50.335Z"
   },
   {
    "duration": 39,
    "start_time": "2021-06-29T19:44:50.346Z"
   },
   {
    "duration": 8,
    "start_time": "2021-06-29T19:44:50.389Z"
   },
   {
    "duration": 8,
    "start_time": "2021-06-29T19:44:50.400Z"
   },
   {
    "duration": 9,
    "start_time": "2021-06-29T19:44:50.410Z"
   },
   {
    "duration": 4394,
    "start_time": "2021-06-29T19:44:50.420Z"
   },
   {
    "duration": 10,
    "start_time": "2021-06-29T19:44:54.816Z"
   },
   {
    "duration": 6,
    "start_time": "2021-06-29T19:44:54.827Z"
   },
   {
    "duration": 7,
    "start_time": "2021-06-29T19:44:54.834Z"
   },
   {
    "duration": 13,
    "start_time": "2021-06-29T19:44:54.843Z"
   },
   {
    "duration": 294,
    "start_time": "2021-06-29T19:44:54.858Z"
   },
   {
    "duration": 250,
    "start_time": "2021-06-29T19:44:55.153Z"
   },
   {
    "duration": 354,
    "start_time": "2021-06-29T19:44:55.404Z"
   },
   {
    "duration": 201,
    "start_time": "2021-06-29T19:44:55.760Z"
   },
   {
    "duration": 186,
    "start_time": "2021-06-29T19:44:55.963Z"
   },
   {
    "duration": 17,
    "start_time": "2021-06-29T19:44:56.151Z"
   },
   {
    "duration": 31,
    "start_time": "2021-06-29T19:44:56.170Z"
   },
   {
    "duration": 270,
    "start_time": "2021-06-29T19:44:56.203Z"
   },
   {
    "duration": 191,
    "start_time": "2021-06-29T19:44:56.474Z"
   },
   {
    "duration": 361,
    "start_time": "2021-06-29T19:44:56.667Z"
   },
   {
    "duration": 192,
    "start_time": "2021-06-29T19:44:57.029Z"
   },
   {
    "duration": 261,
    "start_time": "2021-06-29T19:44:57.223Z"
   },
   {
    "duration": 344,
    "start_time": "2021-06-29T19:44:57.486Z"
   },
   {
    "duration": 10,
    "start_time": "2021-06-29T19:44:57.832Z"
   },
   {
    "duration": 62,
    "start_time": "2021-06-29T19:44:57.843Z"
   },
   {
    "duration": 13,
    "start_time": "2021-06-29T19:44:57.907Z"
   },
   {
    "duration": 20,
    "start_time": "2021-06-29T19:44:57.921Z"
   },
   {
    "duration": 42,
    "start_time": "2021-06-29T19:44:57.943Z"
   },
   {
    "duration": 22,
    "start_time": "2021-06-29T19:44:57.986Z"
   },
   {
    "duration": 6,
    "start_time": "2021-06-29T19:44:58.009Z"
   },
   {
    "duration": 242,
    "start_time": "2021-06-29T19:44:58.017Z"
   },
   {
    "duration": 226,
    "start_time": "2021-06-29T19:44:58.261Z"
   },
   {
    "duration": 26,
    "start_time": "2021-06-29T19:44:58.488Z"
   },
   {
    "duration": 6,
    "start_time": "2021-06-29T19:44:58.515Z"
   },
   {
    "duration": 215,
    "start_time": "2021-06-29T19:44:58.523Z"
   },
   {
    "duration": 6,
    "start_time": "2021-06-29T19:44:58.739Z"
   },
   {
    "duration": 387,
    "start_time": "2021-06-29T19:44:58.746Z"
   },
   {
    "duration": 378,
    "start_time": "2021-06-29T19:44:59.134Z"
   },
   {
    "duration": 408,
    "start_time": "2021-06-29T19:44:59.514Z"
   },
   {
    "duration": 368,
    "start_time": "2021-06-29T19:44:59.923Z"
   },
   {
    "duration": 26,
    "start_time": "2021-06-29T19:45:00.293Z"
   },
   {
    "duration": 7,
    "start_time": "2021-06-29T19:45:00.321Z"
   },
   {
    "duration": 289,
    "start_time": "2021-06-29T19:45:00.329Z"
   },
   {
    "duration": 7,
    "start_time": "2021-06-29T19:45:00.620Z"
   },
   {
    "duration": 361,
    "start_time": "2021-06-29T19:45:00.628Z"
   },
   {
    "duration": 373,
    "start_time": "2021-06-29T19:45:00.990Z"
   },
   {
    "duration": 447,
    "start_time": "2021-06-29T19:45:01.365Z"
   },
   {
    "duration": 360,
    "start_time": "2021-06-29T19:45:01.816Z"
   },
   {
    "duration": 1001,
    "start_time": "2021-06-30T09:14:42.524Z"
   },
   {
    "duration": 34,
    "start_time": "2021-06-30T09:14:43.527Z"
   },
   {
    "duration": 21,
    "start_time": "2021-06-30T09:14:43.564Z"
   },
   {
    "duration": 72,
    "start_time": "2021-06-30T09:14:43.588Z"
   },
   {
    "duration": 10,
    "start_time": "2021-06-30T09:14:43.662Z"
   },
   {
    "duration": 6,
    "start_time": "2021-06-30T09:14:43.675Z"
   },
   {
    "duration": 16,
    "start_time": "2021-06-30T09:14:43.683Z"
   },
   {
    "duration": 5,
    "start_time": "2021-06-30T09:14:43.703Z"
   },
   {
    "duration": 47,
    "start_time": "2021-06-30T09:14:43.711Z"
   },
   {
    "duration": 7,
    "start_time": "2021-06-30T09:14:43.760Z"
   },
   {
    "duration": 6,
    "start_time": "2021-06-30T09:14:43.769Z"
   },
   {
    "duration": 16,
    "start_time": "2021-06-30T09:14:43.777Z"
   },
   {
    "duration": 6,
    "start_time": "2021-06-30T09:14:43.796Z"
   },
   {
    "duration": 17,
    "start_time": "2021-06-30T09:14:43.804Z"
   },
   {
    "duration": 23,
    "start_time": "2021-06-30T09:14:43.856Z"
   },
   {
    "duration": 167,
    "start_time": "2021-06-30T09:14:43.881Z"
   },
   {
    "duration": 55,
    "start_time": "2021-06-30T09:14:44.051Z"
   },
   {
    "duration": 51,
    "start_time": "2021-06-30T09:14:44.108Z"
   },
   {
    "duration": 16,
    "start_time": "2021-06-30T09:14:44.162Z"
   },
   {
    "duration": 9,
    "start_time": "2021-06-30T09:14:44.181Z"
   },
   {
    "duration": 12,
    "start_time": "2021-06-30T09:14:44.192Z"
   },
   {
    "duration": 48,
    "start_time": "2021-06-30T09:14:44.207Z"
   },
   {
    "duration": 12,
    "start_time": "2021-06-30T09:14:44.261Z"
   },
   {
    "duration": 82,
    "start_time": "2021-06-30T09:14:44.276Z"
   },
   {
    "duration": 191,
    "start_time": "2021-06-30T09:14:44.360Z"
   },
   {
    "duration": 8360,
    "start_time": "2021-06-30T09:14:44.553Z"
   },
   {
    "duration": 12,
    "start_time": "2021-06-30T09:14:52.916Z"
   },
   {
    "duration": 27,
    "start_time": "2021-06-30T09:14:52.930Z"
   },
   {
    "duration": 8,
    "start_time": "2021-06-30T09:14:52.959Z"
   },
   {
    "duration": 15,
    "start_time": "2021-06-30T09:14:52.969Z"
   },
   {
    "duration": 437,
    "start_time": "2021-06-30T09:14:52.987Z"
   },
   {
    "duration": 347,
    "start_time": "2021-06-30T09:14:53.427Z"
   },
   {
    "duration": 578,
    "start_time": "2021-06-30T09:14:53.777Z"
   },
   {
    "duration": 297,
    "start_time": "2021-06-30T09:14:54.358Z"
   },
   {
    "duration": 284,
    "start_time": "2021-06-30T09:14:54.658Z"
   },
   {
    "duration": 32,
    "start_time": "2021-06-30T09:14:54.945Z"
   },
   {
    "duration": 31,
    "start_time": "2021-06-30T09:14:54.979Z"
   },
   {
    "duration": 421,
    "start_time": "2021-06-30T09:14:55.012Z"
   },
   {
    "duration": 328,
    "start_time": "2021-06-30T09:14:55.436Z"
   },
   {
    "duration": 554,
    "start_time": "2021-06-30T09:14:55.766Z"
   },
   {
    "duration": 397,
    "start_time": "2021-06-30T09:14:56.323Z"
   },
   {
    "duration": 348,
    "start_time": "2021-06-30T09:14:56.723Z"
   },
   {
    "duration": 522,
    "start_time": "2021-06-30T09:14:57.073Z"
   },
   {
    "duration": 11,
    "start_time": "2021-06-30T09:14:57.597Z"
   },
   {
    "duration": 85,
    "start_time": "2021-06-30T09:14:57.611Z"
   },
   {
    "duration": 19,
    "start_time": "2021-06-30T09:14:57.699Z"
   },
   {
    "duration": 49,
    "start_time": "2021-06-30T09:14:57.720Z"
   },
   {
    "duration": 31,
    "start_time": "2021-06-30T09:14:57.771Z"
   },
   {
    "duration": 55,
    "start_time": "2021-06-30T09:14:57.804Z"
   },
   {
    "duration": 10,
    "start_time": "2021-06-30T09:14:57.861Z"
   },
   {
    "duration": 348,
    "start_time": "2021-06-30T09:14:57.873Z"
   },
   {
    "duration": 361,
    "start_time": "2021-06-30T09:14:58.224Z"
   },
   {
    "duration": 41,
    "start_time": "2021-06-30T09:14:58.588Z"
   },
   {
    "duration": 30,
    "start_time": "2021-06-30T09:14:58.633Z"
   },
   {
    "duration": 313,
    "start_time": "2021-06-30T09:14:58.666Z"
   },
   {
    "duration": 9,
    "start_time": "2021-06-30T09:14:58.981Z"
   },
   {
    "duration": 563,
    "start_time": "2021-06-30T09:14:58.992Z"
   },
   {
    "duration": 489,
    "start_time": "2021-06-30T09:14:59.558Z"
   },
   {
    "duration": 572,
    "start_time": "2021-06-30T09:15:00.049Z"
   },
   {
    "duration": 539,
    "start_time": "2021-06-30T09:15:00.623Z"
   },
   {
    "duration": 37,
    "start_time": "2021-06-30T09:15:01.165Z"
   },
   {
    "duration": 9,
    "start_time": "2021-06-30T09:15:01.204Z"
   },
   {
    "duration": 449,
    "start_time": "2021-06-30T09:15:01.215Z"
   },
   {
    "duration": 10,
    "start_time": "2021-06-30T09:15:01.666Z"
   },
   {
    "duration": 704,
    "start_time": "2021-06-30T09:15:01.678Z"
   },
   {
    "duration": 569,
    "start_time": "2021-06-30T09:15:02.384Z"
   },
   {
    "duration": 575,
    "start_time": "2021-06-30T09:15:02.956Z"
   },
   {
    "duration": 532,
    "start_time": "2021-06-30T09:15:03.538Z"
   },
   {
    "duration": 4,
    "start_time": "2021-06-30T09:30:25.565Z"
   },
   {
    "duration": 515,
    "start_time": "2021-06-30T09:30:26.187Z"
   },
   {
    "duration": 1075,
    "start_time": "2021-07-03T08:42:40.476Z"
   },
   {
    "duration": 40,
    "start_time": "2021-07-03T08:42:41.554Z"
   },
   {
    "duration": 76,
    "start_time": "2021-07-03T08:42:41.597Z"
   },
   {
    "duration": 97,
    "start_time": "2021-07-03T08:42:41.676Z"
   },
   {
    "duration": 10,
    "start_time": "2021-07-03T08:42:41.775Z"
   },
   {
    "duration": 13,
    "start_time": "2021-07-03T08:42:41.787Z"
   },
   {
    "duration": 9,
    "start_time": "2021-07-03T08:42:41.803Z"
   },
   {
    "duration": 6,
    "start_time": "2021-07-03T08:42:41.816Z"
   },
   {
    "duration": 9,
    "start_time": "2021-07-03T08:42:41.825Z"
   },
   {
    "duration": 10,
    "start_time": "2021-07-03T08:42:41.836Z"
   },
   {
    "duration": 8,
    "start_time": "2021-07-03T08:42:41.848Z"
   },
   {
    "duration": 16,
    "start_time": "2021-07-03T08:42:41.858Z"
   },
   {
    "duration": 8,
    "start_time": "2021-07-03T08:42:41.877Z"
   },
   {
    "duration": 23,
    "start_time": "2021-07-03T08:42:41.888Z"
   },
   {
    "duration": 66,
    "start_time": "2021-07-03T08:42:41.913Z"
   },
   {
    "duration": 313,
    "start_time": "2021-07-03T08:42:41.982Z"
   },
   {
    "duration": 54,
    "start_time": "2021-07-03T08:42:42.297Z"
   },
   {
    "duration": 53,
    "start_time": "2021-07-03T08:42:42.353Z"
   },
   {
    "duration": 20,
    "start_time": "2021-07-03T08:42:42.408Z"
   },
   {
    "duration": 40,
    "start_time": "2021-07-03T08:42:42.431Z"
   },
   {
    "duration": 17,
    "start_time": "2021-07-03T08:42:42.474Z"
   },
   {
    "duration": 12,
    "start_time": "2021-07-03T08:42:42.494Z"
   },
   {
    "duration": 11,
    "start_time": "2021-07-03T08:42:42.512Z"
   },
   {
    "duration": 46,
    "start_time": "2021-07-03T08:42:42.527Z"
   },
   {
    "duration": 12,
    "start_time": "2021-07-03T08:42:42.576Z"
   },
   {
    "duration": 9066,
    "start_time": "2021-07-03T08:42:42.590Z"
   },
   {
    "duration": 21,
    "start_time": "2021-07-03T08:42:51.658Z"
   },
   {
    "duration": 8,
    "start_time": "2021-07-03T08:42:51.681Z"
   },
   {
    "duration": 10,
    "start_time": "2021-07-03T08:42:51.691Z"
   },
   {
    "duration": 15,
    "start_time": "2021-07-03T08:42:51.703Z"
   },
   {
    "duration": 465,
    "start_time": "2021-07-03T08:42:51.769Z"
   },
   {
    "duration": 405,
    "start_time": "2021-07-03T08:42:52.236Z"
   },
   {
    "duration": 627,
    "start_time": "2021-07-03T08:42:52.643Z"
   },
   {
    "duration": 332,
    "start_time": "2021-07-03T08:42:53.273Z"
   },
   {
    "duration": 316,
    "start_time": "2021-07-03T08:42:53.607Z"
   },
   {
    "duration": 27,
    "start_time": "2021-07-03T08:42:53.925Z"
   },
   {
    "duration": 41,
    "start_time": "2021-07-03T08:42:53.968Z"
   },
   {
    "duration": 597,
    "start_time": "2021-07-03T08:42:54.011Z"
   },
   {
    "duration": 451,
    "start_time": "2021-07-03T08:42:54.611Z"
   },
   {
    "duration": 620,
    "start_time": "2021-07-03T08:42:55.067Z"
   },
   {
    "duration": 324,
    "start_time": "2021-07-03T08:42:55.690Z"
   },
   {
    "duration": 384,
    "start_time": "2021-07-03T08:42:56.016Z"
   },
   {
    "duration": 592,
    "start_time": "2021-07-03T08:42:56.403Z"
   },
   {
    "duration": 11,
    "start_time": "2021-07-03T08:42:56.997Z"
   },
   {
    "duration": 85,
    "start_time": "2021-07-03T08:42:57.011Z"
   },
   {
    "duration": 19,
    "start_time": "2021-07-03T08:42:57.099Z"
   },
   {
    "duration": 10,
    "start_time": "2021-07-03T08:42:57.120Z"
   },
   {
    "duration": 382,
    "start_time": "2021-07-03T08:42:57.132Z"
   },
   {
    "duration": 11,
    "start_time": "2021-07-03T08:42:57.517Z"
   },
   {
    "duration": 587,
    "start_time": "2021-07-03T08:42:57.530Z"
   },
   {
    "duration": 50,
    "start_time": "2021-07-03T08:42:58.119Z"
   },
   {
    "duration": 13,
    "start_time": "2021-07-03T08:42:58.171Z"
   },
   {
    "duration": 401,
    "start_time": "2021-07-03T08:42:58.187Z"
   },
   {
    "duration": 430,
    "start_time": "2021-07-03T08:42:58.590Z"
   },
   {
    "duration": 55,
    "start_time": "2021-07-03T08:42:59.022Z"
   },
   {
    "duration": 11,
    "start_time": "2021-07-03T08:42:59.081Z"
   },
   {
    "duration": 362,
    "start_time": "2021-07-03T08:42:59.095Z"
   },
   {
    "duration": 16,
    "start_time": "2021-07-03T08:42:59.459Z"
   },
   {
    "duration": 12,
    "start_time": "2021-07-03T08:42:59.479Z"
   },
   {
    "duration": 636,
    "start_time": "2021-07-03T08:42:59.494Z"
   },
   {
    "duration": 655,
    "start_time": "2021-07-03T08:43:00.133Z"
   },
   {
    "duration": 691,
    "start_time": "2021-07-03T08:43:00.790Z"
   },
   {
    "duration": 594,
    "start_time": "2021-07-03T08:43:01.483Z"
   },
   {
    "duration": 41,
    "start_time": "2021-07-03T08:43:02.080Z"
   },
   {
    "duration": 8,
    "start_time": "2021-07-03T08:43:02.123Z"
   },
   {
    "duration": 367,
    "start_time": "2021-07-03T08:43:02.133Z"
   },
   {
    "duration": 9,
    "start_time": "2021-07-03T08:43:02.502Z"
   },
   {
    "duration": 588,
    "start_time": "2021-07-03T08:43:02.517Z"
   },
   {
    "duration": 614,
    "start_time": "2021-07-03T08:43:03.107Z"
   },
   {
    "duration": 675,
    "start_time": "2021-07-03T08:43:03.723Z"
   },
   {
    "duration": 627,
    "start_time": "2021-07-03T08:43:04.400Z"
   }
  ],
  "kernelspec": {
   "display_name": "Python 3",
   "language": "python",
   "name": "python3"
  },
  "language_info": {
   "codemirror_mode": {
    "name": "ipython",
    "version": 3
   },
   "file_extension": ".py",
   "mimetype": "text/x-python",
   "name": "python",
   "nbconvert_exporter": "python",
   "pygments_lexer": "ipython3",
   "version": "3.7.8"
  },
  "toc": {
   "base_numbering": 1,
   "nav_menu": {},
   "number_sections": true,
   "sideBar": true,
   "skip_h1_title": true,
   "title_cell": "Table of Contents",
   "title_sidebar": "Contents",
   "toc_cell": false,
   "toc_position": {},
   "toc_section_display": true,
   "toc_window_display": false
  }
 },
 "nbformat": 4,
 "nbformat_minor": 2
}
